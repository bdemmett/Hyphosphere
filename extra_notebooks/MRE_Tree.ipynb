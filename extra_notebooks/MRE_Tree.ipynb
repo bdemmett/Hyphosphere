{
 "cells": [
  {
   "cell_type": "markdown",
   "metadata": {},
   "source": [
    "# CaMg tree comparing Glomerycota Moeniiplasma with other Mucuromycotina\n",
    "* Use DADA2 ASVs - almost all unclassified ASVs and two tenericutes ASVs blast to Moeniiplasma, removed unclassified ASVs that do not blast to Moeniiplasma\n",
    "* Acquire sequences from NCBI for strains in Desiro et al 2018 figure 2\n",
    "* Align with SSU_ALIGN and make tree with fasttree\n",
    "* !need to add working directory, currently doing work in the notebooks directory\n"
   ]
  },
  {
   "cell_type": "code",
   "execution_count": 1,
   "metadata": {
    "collapsed": true
   },
   "outputs": [],
   "source": [
    "import sys, os, re, glob\n",
    "from Bio import SeqIO, Entrez\n",
    "from pandas import *\n",
    "import numpy as np\n",
    "#import entrez.direct\n",
    "from cogent.app.fasttree import build_tree_from_alignment\n",
    "from cogent import DNA, LoadSeqs\n",
    "\n",
    "Entrez.email = \"be68@cornell.edu\"\n",
    "nprocs = 1"
   ]
  },
  {
   "cell_type": "code",
   "execution_count": null,
   "metadata": {
    "collapsed": true
   },
   "outputs": [],
   "source": [
    "# Pulling sequences from fasta file based on output from R data table"
   ]
  },
  {
   "cell_type": "code",
   "execution_count": 70,
   "metadata": {
    "collapsed": true
   },
   "outputs": [],
   "source": [
    "workDir = '/home/be68/Hyphosphere/data/MRE/'\n",
    "ASVSeqs = '/home/be68/Hyphosphere/data/MRE/UnclassifiedASVs_blastCaMg.fasta'\n",
    "##These lines of code are for pulling sequences out of a larger fasta\n",
    "# FastaSource = '/home/be68/Hyphosphere/data/MiSeq/20180129/20180130.v2.otus.fa'\n",
    "# OTUlist = '/home/be68/Hyphosphere/data/HyphalOTUs.txt'\n",
    "# Group = 'o_Burkholderiales'\n",
    "\n",
    "#RDPfile = '/home/be68/Hyphosphere/data/Burkholderiales/Burkholderiales_rdp_download_205seqs.fa'\n"
   ]
  },
  {
   "cell_type": "markdown",
   "metadata": {},
   "source": [
    "# Get Moeniiplasma seqs from Desario paper"
   ]
  },
  {
   "cell_type": "code",
   "execution_count": 90,
   "metadata": {},
   "outputs": [
    {
     "ename": "IndentationError",
     "evalue": "unexpected indent (<ipython-input-90-bbaa71008afb>, line 2)",
     "output_type": "error",
     "traceback": [
      "\u001b[0;36m  File \u001b[0;32m\"<ipython-input-90-bbaa71008afb>\"\u001b[0;36m, line \u001b[0;32m2\u001b[0m\n\u001b[0;31m    \"MRE from Claroideoglomus claroideum\" = \"FJ984660\", \"FJ984671\", \"FJ984658\"\u001b[0m\n\u001b[0m    ^\u001b[0m\n\u001b[0;31mIndentationError\u001b[0m\u001b[0;31m:\u001b[0m unexpected indent\n"
     ]
    }
   ],
   "source": [
    " \"MRE from Claroideoglomus etunicatum\" = \"KP763319\", \"KP763328\", \"KP763360\", \"KP763286\",\"FJ984689\"\n",
    "  \"MRE from Claroideoglomus claroideum\" = \"FJ984660\", \"FJ984671\", \"FJ984658\"\n",
    "\n",
    "\"MRE from Gigaspora albida\" = \"KP763388\", \n",
    "\"MRE from Gigaspora margarita\" = \"KF378701\", \"KF378698\",\"KF378694\"\n",
    "\"MRE from Funneliformi mosseae\" = \"FJ984709\"\n",
    "\"MRE from Scuttelospora gilmorei\"= FJ984735\"\n",
    "\n",
    "\"KP763383\"\n",
    ", , , ,\"FJ984698\",\n",
    "          , , , , , \"FJ984646\", \"FJ984653\",\n",
    "    \n",
    "\"MG052969\", \"MRE from Claroideoglomus etunicatum\"),\n",
    "  \"MG052970\", \"MRE from Claroideoglomus etunicatum\"),\n",
    "  , \"MG052968\",\"MG052966\",\"MG052967\", \"MG052971\", \"MG052972\", \"MG052973\", \n",
    "           \"MG052974\", \"MG052975\", \"MG052976\", \"KM593997\", \"KM594012\", \"KM594000\",\"KM594001\", \"KM594003\", \n",
    "           \"KM594005\", \"KM594011\", \"KM594002\", \"KM594010\", \"KM594004\", \"NR_044811\", ,  \"KP763351\",\n",
    "          \"FJ984707\", \"FJ984704\", \"KU992724\", \"KU992754\", \"KU992822\", \"FJ984684\", \"FJ984654\", \"FJ984694\", \n",
    "           \"FJ984652\", \"FJ984657\", \"FJ984724\", \"FJ984725\", \"KP763367\", , \"KP763394\", \"KP763409\",\n",
    "          \"KM065895\", \"KF378704\", \"FJ984643\", \"KP763291\", \"FJ984635\", \"FJ984679\", \"KP763316\", \"KP763336\", \n",
    "           \"KC441811\", \"NR_074620\"]\n",
    "\n",
    "out = open(os.path.join(workDir, 'ref.fasta'), 'w')\n",
    "\n",
    "for acc in AccList:\n",
    "    sso_acc = acc\n",
    "    sso_fa = Entrez.efetch(db=\"nucleotide\", id=sso_acc, rettype=\"fasta\", retmode=\"text\").readlines()\n",
    "    out.writelines(sso_fa)\n",
    "\n",
    "out.close()"
   ]
  },
  {
   "cell_type": "code",
   "execution_count": 68,
   "metadata": {},
   "outputs": [
    {
     "name": "stdout",
     "output_type": "stream",
     "text": [
      "TGCTTATCTAACTTGCCAATTAGTGGGGGATAACCCTGGGAAACCAGAGCTAATACCGCATTTGTTACTT\r\n",
      "CGGTAATGAAAGGGGGTCGCAAGATTCTCGCTAATTGATGGGGATAAGTCGTATTAGTTAGTTGGTGGGG\r\n",
      "TAATGGCCTACCAAGACAGTGATGCGTAGCCAGTCTGAGAGGATGAATGGCCACAAGGGAACTGAGACAC\r\n",
      "GGTCCCTACTCCTACGGGAGGCAGCAGTGAGGAATTTTCGGCAATGGGGGCAACCCTGACCGAGCAATAC\r\n",
      "TACGTGAAGGAGGAAGGTCTACGGATTGTAAACTTCTGTTAGCGCGGAAGAAGGGCTGAACGCAAGTTCA\r\n",
      "GTTTTGACGGTACGCGCAGAGAAAGCCACGACTAACTACGTGCCAGCAGTCGCGGTAAGACGTAGGTGGC\r\n",
      "GAACGTTATCCGGAATCATTGGGCGTAAAGGGTGCGTAGATGGCATGATAAGTTATTAGTGGGAAATCGA\r\n",
      "GGCTCAACCTCGTGGAAGCTAGTAATACTGTTTTGCTTGAGTACAGAAGAGGTTAACGGAACTCCATGTG\r\n",
      "GAGCGGTAAAATGCGTAGATATATGGAAGAACACCAATAACGGCGAAGGCAGTTAACTATTCTGTTACTG\r\n",
      "ACATTGAGGCACGAAAGCGTGGGGAGCAAAACGGATTAGATACCCGTGTAGTCCACGCCCTAAACGATGA\r\n",
      "GTACTAGATATTGGGAACTTGATTCTCAGTGTCGCTAGGTAACCCGGTAAGTACTCCGCCTGGGTAGTAC\r\n",
      "GGTCGCAAGGCTGAAACTCAAAGGAATTGACGGGGACTCGCACAAGCAGTGGAGCATGTGGTTTAATCCG\r\n",
      "ATACGACGCGTAGAACCTTACCAAGGCTTGACATGTTGGGCAAAGCTAGGGAAACCTAGTGGAGGTTATC\r\n",
      "CTAACACAGGTGCTGCATGGCCGTCGTCAGTTCGTGCCGTGAGGTGTATGGTTAAGTCCTATAACGAACG\r\n",
      "CAACCCTTGGGCTTAGTTACCAGCATTCAGTTGGGGACTCTAAGCCGACTGCCTGAGTAATCAGGAGGAA\r\n",
      "GGAAAGGATGAAGTCTGATCATC\r\n",
      "\r\n",
      ">KC441811.1 Bacillus anthracis strain N34 16S ribosomal RNA gene, partial sequence\r\n",
      "TGCAAGTCGAGCGAATGGATTAAGAGCTTGCTCTTATGAAGTTAGCGGCGGACGGGTGAGTAACACGTGG\r\n",
      "GTAACCTGCCCATAAGACTGGGATAACTCCGGGAAACCGGGGCTAATACCGGATAACATTTTGAACCGCA\r\n",
      "TGGTTCGAAATTGAAAGGCGGCTTCGGCTGTCACTTATGGATGGACCCGCGTCGCATTAGCTAGTTGGTG\r\n",
      "AGGTAACGGCTCACCAAGGCAACGATGCGTAGCCGACCTGAGAGGGTGATCGGCCACACTGGGACTGAGA\r\n",
      "CACGGCCCAGACTCCTACGGGAGGCAGCAGTAGGGAATCTTCCGCAATGGACGAAAGTCTGACGGAGCAA\r\n",
      "CGCCGCGTGAGTGATGAAGGCTTTCGGGTCGTAAAACTCTGTTGTTAGGGAAGAACAAGTGCTAGTTGAA\r\n",
      "TAAGCTGGCACCTTGACGGTACCTAACCAGAAAGCCACGGCTAACTACGTGCCAGCAGCCGCGGTAATAC\r\n",
      "GTAGGTGGCAAGCGTTATCCGGAATTATTGGGCGTAAAGCGCGCGCAGGTGGTTTCTTAAGTCTGATGTG\r\n",
      "AAAGCCCACGGCTCAACCGTGGAGGGTCATTGGAAACTGGGAGACTTGAGTGCAGAAGAGGAAAGTGGAA\r\n",
      "TTCCATGTGTAGCGGTGAAATGCGTAGAGATATGGAGGAACACCAGTGGCGAAGGCGACTTTCTGGTCTG\r\n",
      "TAACTGACACTGAGGCGCGAAAGCGTGGGGAGCAAACAGGATTAGATACCCTGGTAGTCCACGCCGTAAA\r\n",
      "CGATGAGTGCTAAGTGTTAGAGGGTTTCCGCCCTTTAGTGCTGAAGTTAACGCATTAAGCACTCCGCCTG\r\n",
      "GGGAGTACGGCCGCAAGGCTGAAACTCAAAGGAATTGACGGGGGCCCGCACAAGCGGTGGAGCATGTGGT\r\n",
      "TTAATTCGAAGCAACGCGAAGAACCTTACCAGGTCTTGACATCCTCTGACAACCCTAGAGATAGGGCTTC\r\n",
      "TCCTTCGGGAGCAGAGTGACAGGTGGTGCATGGTTGTCGTCAGCTCGTGTCGTGAGATGTTGGGTTAAGT\r\n",
      "CCCGCAACGAGCGCAACCCTTGATCTTAGTTGCCATCATTTAGTTGGGCACTCTAAGGTGACTGCCGGTG\r\n",
      "ACAAACCGGAGGAAGGTGGGGATGACGTCAAATCATCATGCCCCTTATGACCTGGGCTACACACGTGCTA\r\n",
      "CAATGGACGGTACAAAGAGCTGCAAGACCGCGAGGTGGAGCTAATCTCATAAAACCGTTCTCAGTTCGGA\r\n",
      "TTGTAGGCTGCAACTCGCCTACATGAAGCTGGAATCGCTAGTAATCGCGGATCAGCATGCCGCGGTGAAT\r\n",
      "ACGTTCCCGGGCCTTGTACACACCGCCCGTCACACCACGAGAGTTTGTAACACCCGAAGTCGGTGGGGTA\r\n",
      "ACCTTTTGGAGCCAGCC\r\n",
      "\r\n",
      ">NR_074620.2 Mycoplasma mobile strain 163K 16S ribosomal RNA, complete sequence\r\n",
      "TTTTTTGAGAGTTTGATCCTGGCTCAGGATGAACGCTGGCTGTGTGCCTAATACATGCATGTCGAACGAA\r\n",
      "GAACTTGTTCTTAGTGGCGAATGGGTGAGTAACACGTATCTAACCTACCTTTTGGATGGGGATAACTGTT\r\n",
      "GGAAACAACAGCTAATACCGAATAACTATTTTAGTCGCATGACTTTAATATAAAAGGAGCGTTTGCTCCA\r\n",
      "CCAAAAAATGGGGATGCGGAATATTAGTTAGTTGGCAGGGTAAAGGCCTACCAAGACGATGATATTTAGC\r\n",
      "CGGGCTGAGAAGCCGAACGGCCACACTGGGACTGAGATACGGCCCAGACTCCTACGGGAGGCAGCAGTAG\r\n",
      "GGAATCTTCCACAATGAGCGAAAGCTTGATGGAGCGACACAGCGTGAAGGATGAAGGTCTTCGGATTGTA\r\n",
      "AACTTCTGTTATAAGGGAAGAAAACCCTAGAGAGGAAATGCTCTAGATTTGACGGTACCTTATCAGAAAG\r\n",
      "CGACGGCTAACTATGTGCCAGCAGCCGCGGTAATACATAGGTCGCAAGCGTTATCCGGAATTATTGGGCG\r\n",
      "TAAAGCGTTCGTAGGCGGTTTATTAAGTCTGGAGTTAAATACTGGTGCTCAACACCAGCCCGCTTTGGAT\r\n",
      "ACTGGTAAACTAGAGTTATGTAGAGGTAAGCGGAATTCCATGTGAAGTGGTGGAATACGTAGATATATGG\r\n",
      "AAGAACACCAATGGCGAAGGCAGCTTACTGGACATATACTGACGCTCAGGAACGAAAGCGTGGGGAGCAA\r\n",
      "ACAGGATTAGATACCCTGGTAGTCCACGCCGTAAACGTTGATCATTAGTTGGTGGGGAACTCACCGACAC\r\n",
      "AGCTAACGCATTAAATGATCCGCCTGAGTAGTATGCTCGCAAGAGTGAAACTTAAAGGAATTGGCGGGGA\r\n",
      "CCCGCACAAGCGGTGGAGCATGTGGTTTAATTTGAAGATACGCGTAGAACCTTACCCACTCTTGACATTT\r\n",
      "TTTGCAAAGGTATGGAGACATACTGGAGGTTAACAGAATAACAGATGGTGCATGGTTGTCGTCAGCTCGT\r\n",
      "GTCGTGAGATGTTTGGTTAAGTCCAGCAACGAGCGCAACCCTTGTCTTTAGTTACTAACATTAAGTTGAG\r\n",
      "GACTCTAGAGAGACTGCCTGGGTAACCAGGAGGAAGGTGAGGACGACGTCAAATCATCATGCCTCTTACG\r\n",
      "AGTGGGGCAACACACGTGCTACAATGGCTAATACAAAGTGAAGCAAAATGGTGACATTAAGCAAACCACA\r\n",
      "AAAAATTAGTCTCAGTTCGGATCGAAGTCTGAAACTCGACTTCGTGAAGTCGGAATCGCTAGTAATCATG\r\n",
      "AATCAGCTACGTCATGGTGAATACGTTCTCGGGTCTTGCACACACCGCCCGTCACACCATGGGAGCTAGT\r\n",
      "AATGCCCGAAGCCGGATAGTTAACTTCGGAGGCTACTGTCTAAGGCAGGACTGGTAACTGGGGTGAAGTC\r\n",
      "GTAACAAGGTATCCCTACGAGAACGTGGGGATGGATCACCTCCTTT\r\n",
      "\r\n"
     ]
    }
   ],
   "source": [
    "!cd $workDir; tail -n 64 ref.fasta\n",
    "#sso_fa_namestrip = sso_fa[1:]\n",
    "#sso_fa_namestrip.insert(0,\">%s\\n\"%sso_acc)\n",
    "#out.writelines(sso_fa_namestrip)\n",
    "# out.writelines(sso_fa)\n",
    "# out.close()"
   ]
  },
  {
   "cell_type": "code",
   "execution_count": 69,
   "metadata": {
    "collapsed": true
   },
   "outputs": [],
   "source": [
    "REFfasta = os.path.join(workDir, 'ref.fasta')"
   ]
  },
  {
   "cell_type": "code",
   "execution_count": 72,
   "metadata": {
    "scrolled": true
   },
   "outputs": [
    {
     "name": "stdout",
     "output_type": "stream",
     "text": [
      ">ASV4\r\n",
      "GACATAGGTGGCAAACATTATCCGGAATTATTGGGCGTAAAGGGTGCGTAGGCGGCATGATAAGTTGCTGGTGGGAAATCAAGGCTCAACCTTGTGGAAGCTAGCAATACTGTCAAGCTAGAGGGCAGAAGAGGTTAACGGAACTCTATGTGGAGCGGTAAAATGTGTAGATATATAGAAGAACATCAATAAAGGCGAAGGCAGTTAACTAGTCTGTCCCTGACGTTGAGGCACGAAAGCGTGGGGAGCAAAACGG\r\n",
      ">ASV98\r\n",
      "GACATAGGTGGCGAACGTTATCCGGATTTATTGGGCGTAAAGGGTGCGTAGATGGTAGAATAAGTTATTAGCCGAAGGCAGGCTCAACTTGGCGGAAGTTAATAATACTGTTTTGCTAGAGAATGGAAGAGGTTAATGGAATTCTATGTGTAGAGGTGAAATTCGTTGATCCATAGAGGACCACCAAAAAAGGCGAAGGCAATTAACTATTCCATTTCTGACATTGAGGCACGAAAGCGTGGGGAGCAAAACGG\r\n",
      ">ASV16\r\n",
      "GACATAGGTGGCGAACGTTATCCGGAATTATTGGGCGTAAAGGATGCGTAGATGGCAGAGTAAGTTACTGGTTGATGTCAAACTCAATTTGACGGAAGCTGGTAATACTGTTTTGCTAGAGGACAGGAGAGGTTGATGGAATTCTGTGTGGAGCGGTGAAATGCGTTGATCTACAGAGGAACACCAAAAAAGGCGAAGGCAGTCAACTATCCTGTTCCTGACATTGAGGCATGAAAGCGTGGGGAGCAAACCGG\r\n",
      ">ASV33\r\n",
      "GACATAGGTGGCGAACGTTATCCGGAATTATTGGGCGTAAAGGATGCGTAGATGGTAGAGTAAGTTACTGGTTGATGCCAAACTCAATTTGACGGAAGCTGGTAATACTGTTCTGCTAGAGGACAGGAGAGGTTGATGGAATTCTGTGTGGAGCGGTGAAATGCGTTGATCTACAGAGGAACACCAAAAAAGGCGAAGGCAGTCAACTATTCTGTTCCTGACATTGAGGCATGAAAGCGTGGGGAGCAAACCGG\r\n",
      ">ASV233\r\n",
      "GACGTAGGTGGCGAACGTTATCCGGAATTATTGGGCGTAAAGGGTGCGTAGATGGCTTGATAAGTTAGCAGTGGGAAATCGAGGCTCAACCTCGTGGAAGCTGGTAATACTGTCAGGCTTGAGTGCAGGAGAGGTTAACGGAACTCCATGTGGAGCGGTAAAATGTGTAGATATATGGAAGAACACCAATAACGGCGAAGGCAGTTAACTATTCTGTTACTGACATTGAGGCACGAAAGCGTGGGGAGCAAAACGG\r\n",
      ">ASV185\r\n",
      "GACGTAGGTGGCGAACGTTATCCGGAATTATTGGGCGTAAAGGGTGCGTAGATGGCTTGATAAGTTAGCAGTGGGAAATCGAGGCTCAACCTCGTGGAAGCTGGTAATACTGTCAGGCTCGAGTGCAGGAGAGGTTAACGGAACTCCATGTGGAGCGGTAAAATGTGTAGATATATGGAAGAACACCAATAACGGCGAAGGCAGTTAACTATTCTGTTACTGACATTGAGGCACGAAAGCGTGGGGAGCAAAACGG\r\n",
      ">ASV272\r\n",
      "GACATAGGTCGCAAACGTTATCCGGAATTATTGGGCGTAAAGGATGCGTAGATGGTTCAGTAAGTTACTGGTGGGAAATCGAGGCCCAACCTCGTGGAAGTTAGTAATACTGTTGAACTTGAGTGCAGGAGAGGTTAACGGAACTTCATGTGGAGCGGTAAAATGCGTAGATATATGAAAGAACATCAATATAGCGAAGGCAGTTAACTATTCTGCTACTGACATTGAGGCATGAAAGCGTGGGGAGCAAAACGG\r\n",
      ">ASV446\r\n",
      ">MG052969.1 Uncultured Mollicutes bacterium clone Msp-GBAus27b 16S ribosomal RNA gene, partial sequence\n",
      "AGAGTTTGATCCTGGCTCAGGATTAACGTTGGTAGTATGCCTAACACATGCAAGTCGAGCGGAAGAAAAT\n",
      "AGTAATATTTTTTTTAGCGGCGAACGGGTGAGTAATGCTTATCTAACTTGCCGATTAGTGGGGAATAACT\n",
      "ATGGGAAACCATTGCTAATACCGCATATTCGTTATTTAGTTAATGAAAGGAAATCGTAAGATTTTCGCTA\n",
      "ATCGATAGGGATAAGTCGTATTAGCTAGTTGGTGAGGTAATGGCTCACCAAGGCAATGATGCGTAGCCAG\n",
      "TCTGAGAGGATGAATGGTCACAAGGGAACTGAGACACGGTCCCTACTCCTACGGGAGGCAGCAGTGAGGA\n",
      "ATTTTCCACAATGGGGGAAACCCTGATGGAGCAATACTACGTGAAGGATGAAGGTCTAAGGATTGTAAAC\n",
      "TTCTGTTAGCGCGGAAGAAGGGTCGCAAGATCTTGACGGTACGCGCAGAGAAAGTCACGACTAACTACGT\n"
     ]
    }
   ],
   "source": [
    "%%bash -s \"$ASVSeqs\" \"$REFfasta\" \n",
    "#head $1 -n 15\n",
    "head $1 -n 15\n",
    "head $2 -n 8\n"
   ]
  },
  {
   "cell_type": "markdown",
   "metadata": {},
   "source": [
    "## Using SSU-Align to seqs from hyphal samples and mask based on alignment posterior probabilities."
   ]
  },
  {
   "cell_type": "code",
   "execution_count": 77,
   "metadata": {
    "collapsed": true
   },
   "outputs": [],
   "source": [
    "os.chdir(workDir)"
   ]
  },
  {
   "cell_type": "markdown",
   "metadata": {},
   "source": [
    "### Align hyphal OTUs"
   ]
  },
  {
   "cell_type": "code",
   "execution_count": 80,
   "metadata": {
    "scrolled": true
   },
   "outputs": [
    {
     "name": "stdout",
     "output_type": "stream",
     "text": [
      "# _ssu-prep :: prepare SSU rRNA sequences for parallel ssu-align jobs\n",
      "# SSU-ALIGN 0.1.1 (Feb 2016)\n",
      "# Copyright (C) 2016 Howard Hughes Medical Institute\n",
      "# Freely distributed under the BSD open source license.\n",
      "# - - - - - - - - - - - - - - - - - - - - - - - - - - - - - - - - - - - -\n",
      "# command: _ssu-prep -x -f -b 50 --dna --rfonly /home/be68/Hyphosphere/data/MRE/UnclassifiedASVs_blastCaMg.fasta ssu_aln 1\n",
      "# date:    Wed Sep 26 11:06:49 2018\n",
      "#\n",
      "# Validating input sequence file ... done.\n",
      "#\n",
      "# Preparing 1 ssu-align jobs ...\n",
      "# Partitioning seqs with goal of equalizing total number of nucleotides per job ...\n",
      "#\n",
      "# output file name                   description                                       \n",
      "# ---------------------------------  --------------------------------------------------\n",
      "  ssu_aln/UnclassifiedASVs_blastCaMg.fasta.1  partition 1 FASTA sequence file (34 seqs; 8672 nt)\n",
      "  ssu_aln.ssu-align.sh               shell script that will execute 1 ssu-align jobs\n",
      "#\n",
      "################################################################################\n",
      "# To execute all 1 ssu-align jobs, run the shell script with the command:\n",
      "#\t\"ssu_aln.ssu-align.sh\"\n",
      "# (it is an executable file)\n",
      "################################################################################\n",
      "#\n",
      "# The final job will merge the output from all jobs once they are all finished.\n",
      "#\n",
      "# If one or more jobs fail: rerun the failed jobs, wait for them to finish,\n",
      "# and then perform manual merge from this directory by executing:\n",
      "#\tssu-merge ssu_aln\n",
      "#\n",
      "# List of executed commands saved in:     ssu_aln/ssu_aln.ssu-prep.log.\n",
      "# Output printed to the screen saved in:  ssu_aln/ssu_aln.ssu-prep.sum.\n",
      "#\n",
      "# CPU time:  00:00:00.13  (hh:mm:ss)\n",
      "# \n"
     ]
    }
   ],
   "source": [
    "%%bash -s \"$ASVSeqs\"\n",
    "ssu-prep -f -x -b 50 --rfonly --dna $1 ssu_aln 1"
   ]
  },
  {
   "cell_type": "code",
   "execution_count": 81,
   "metadata": {},
   "outputs": [
    {
     "name": "stdout",
     "output_type": "stream",
     "text": [
      "# Executing: ssu-align --merge 1 -b 50 --dna --rfonly ssu_aln/UnclassifiedASVs_blastCaMg.fasta.1 ssu_aln/ssu_aln.1\n",
      "# _ssu-align :: align SSU rRNA sequences\n",
      "# SSU-ALIGN 0.1.1 (Feb 2016)\n",
      "# Copyright (C) 2016 Howard Hughes Medical Institute\n",
      "# Freely distributed under the BSD open source license.\n",
      "# - - - - - - - - - - - - - - - - - - - - - - - - - - - - - - - - - - - -\n",
      "# command: _ssu-align --merge 1 -b 50 --dna --rfonly ssu_aln/UnclassifiedASVs_blastCaMg.fasta.1 ssu_aln/ssu_aln.1\n",
      "# date:    Wed Sep 26 11:06:55 2018\n",
      "#\n",
      "# Validating input sequence file ... done.\n",
      "#\n",
      "# Stage 1: Determining SSU start/end positions and best-matching models...\n",
      "#\n",
      "# output file name            description                                \n",
      "# --------------------------  -------------------------------------------\n",
      "  ssu_aln.1.tab               locations/scores of hits defined by HMM(s)\n",
      "  ssu_aln.1.bacteria.hitlist  list of sequences to align with bacteria CM\n",
      "  ssu_aln.1.bacteria.fa            34 sequences to align with bacteria CM\n",
      "#\n",
      "# Stage 2: Aligning each sequence to its best-matching model...\n",
      "#\n",
      "# output file name            description\n",
      "# --------------------------  ---------------------------------------\n",
      "  ssu_aln.1.bacteria.stk      bacteria alignment\n",
      "  ssu_aln.1.bacteria.cmalign  bacteria cmalign output\n",
      "  ssu_aln.1.bacteria.ifile    bacteria insert info\n",
      "  ssu_aln.1.scores            list of CM/HMM scores for each sequence\n",
      "#\n",
      "# Summary statistics:\n",
      "#\n",
      "# model or       number  fraction        average   average               \n",
      "# category      of seqs  of total         length  coverage    nucleotides\n",
      "# ------------  -------  --------  -------------  --------  -------------\n",
      "  *input*            34    1.0000         255.06    1.0000           8672\n",
      "#\n",
      "  archaea             0    0.0000              -         -              0\n",
      "  bacteria           34    1.0000         251.68    0.9867           8557\n",
      "  eukarya             0    0.0000              -         -              0\n",
      "#\n",
      "  *all-models*       34    1.0000         251.68    0.9867           8557\n",
      "  *no-models*         0    0.0000              -         -              0\n",
      "#\n",
      "# Speed statistics:\n",
      "#\n",
      "# stage      num seqs  seq/sec  seq/sec/model    nucleotides    nt/sec\n",
      "# ---------  --------  -------  -------------  -------------  --------\n",
      "  search           34    8.364          2.788           8672    2133.3\n",
      "  alignment        34    6.864          6.864           8557    1727.5\n",
      "#\n",
      "#\n",
      "# List of executed commands saved in:     ssu_aln.1.ssu-align.log.\n",
      "# Output printed to the screen saved in:  ssu_aln.1.ssu-align.sum.\n",
      "#\n",
      "# All output files created in directory ./ssu_aln/ssu_aln.1/\n",
      "#\n",
      "# CPU time (search):     00:00:04.07  (hh:mm:ss)\n",
      "# CPU time (alignment):  00:00:04.95  (hh:mm:ss)\n",
      "# CPU time (total):      00:00:09.17  (hh:mm:ss)\n",
      "#\n",
      "################################################################################\n",
      "#\n",
      "# Alignments successfully created.\n",
      "#\n",
      "# Checking/waiting for other jobs to finish before merging...\n",
      "#\n",
      "# Job 1 (dir: ssu_aln/ssu_aln.1) completed successfully! 0/1 still incomplete.\n",
      "#\n",
      "# All 1 jobs successfully completed.\n",
      "# About to merge their output:\n",
      "#\n",
      "# Executing:  ssu-merge ssu_aln\n",
      "#\n",
      "################################################################################\n",
      "#\n",
      "# _ssu-merge :: merge SSU rRNA alignments\n",
      "# SSU-ALIGN 0.1.1 (Feb 2016)\n",
      "# Copyright (C) 2016 Howard Hughes Medical Institute\n",
      "# Freely distributed under the BSD open source license.\n",
      "# - - - - - - - - - - - - - - - - - - - - - - - - - - - - - - - - - - - -\n",
      "# command: _ssu-merge ssu_aln\n",
      "# date:    Wed Sep 26 11:07:05 2018\n",
      "#\n",
      "# Merging files from 1 ssu-align runs...\n",
      "#\n",
      "#                                     # files     # seqs\n",
      "# merged file name          CM name    merged     merged\n",
      "# ------------------------  --------  -------  ---------\n",
      "  ssu_aln.tab               -               1          -\n",
      "  ssu_aln.scores            -               1          -\n",
      "  ssu_aln.ssu-align.sum     -               1          -\n",
      "  ssu_aln.ssu-align.log     -               1          -\n",
      "#\n",
      "  ssu_aln.bacteria.fa       bacteria        1         34\n",
      "  ssu_aln.bacteria.hitlist  bacteria        1         34\n",
      "  ssu_aln.bacteria.cmalign  bacteria        1         34\n",
      "  ssu_aln.bacteria.ifile    bacteria        1         34\n",
      "  ssu_aln.bacteria.stk      bacteria        1         34\n",
      "#\n",
      "#\n",
      "# Summary statistics:\n",
      "#\n",
      "# model or       number  fraction        average   average               \n",
      "# category      of seqs  of total         length  coverage    nucleotides\n",
      "# ------------  -------  --------  -------------  --------  -------------\n",
      "  *input*            34    1.0000         255.06    1.0000           8672\n",
      "#\n",
      "  archaea             0    0.0000              -         -              0\n",
      "  bacteria           34    1.0000         251.68    0.9867           8557\n",
      "  eukarya             0    0.0000              -         -              0\n",
      "#\n",
      "  *all-models*       34    1.0000         251.68    0.9867           8557\n",
      "  *no-models*         0    0.0000              -         -              0\n",
      "#\n",
      "# Speed statistics:\n",
      "#\n",
      "# stage      num seqs  seq/sec  seq/sec/model    nucleotides    nt/sec\n",
      "# ---------  --------  -------  -------------  -------------  --------\n",
      "  search           34   34.000         11.333           8672    8672.0\n",
      "  alignment        34   34.000         34.000           8557    8557.0\n",
      "#\n",
      "# Summed ssu-align CPU time (search):     00:00:00.00  (hh:mm:ss)\n",
      "# Summed ssu-align CPU time (alignment):  00:00:00.00  (hh:mm:ss)\n",
      "# Summed ssu-align CPU time (total):      00:00:00.00  (hh:mm:ss)\n",
      "#\n",
      "# Cleaning up by removing original files that were just merged ... done.\n",
      "#\n",
      "# List of executed commands saved in:     ssu_aln.ssu-merge.log.\n",
      "# Output printed to the screen saved in:  ssu_aln.ssu-merge.sum.\n",
      "#\n",
      "# All output files created in directory ./ssu_aln/\n",
      "#\n",
      "# CPU time:  00:00:00.06  (hh:mm:ss)\n",
      "# \n"
     ]
    }
   ],
   "source": [
    "%%bash\n",
    "./ssu_aln.ssu-align.sh"
   ]
  },
  {
   "cell_type": "code",
   "execution_count": 82,
   "metadata": {},
   "outputs": [
    {
     "name": "stdout",
     "output_type": "stream",
     "text": [
      "# _ssu-mask :: mask SSU rRNA alignments\n",
      "# SSU-ALIGN 0.1.1 (Feb 2016)\n",
      "# Copyright (C) 2016 Howard Hughes Medical Institute\n",
      "# Freely distributed under the BSD open source license.\n",
      "# - - - - - - - - - - - - - - - - - - - - - - - - - - - - - - - - - - - -\n",
      "# command: _ssu-mask --afa --dna ssu_aln\n",
      "# date:    Wed Sep 26 11:07:05 2018\n",
      "#\n",
      "# Masking alignments based on posterior probabilities...\n",
      "#\n",
      "#                                                     mask    \n",
      "#                                                 ------------\n",
      "# file name                  in/out  type  #cols  incl.  excl.\n",
      "# -------------------------  ------  ----  -----  -----  -----\n",
      "  ssu_aln.bacteria.stk        input   aln   1582      -      -\n",
      "  ssu_aln.bacteria.mask      output  mask   1582    214   1368\n",
      "  ssu_aln.bacteria.mask.pdf  output   pdf   1582    214   1368\n",
      "  ssu_aln.bacteria.mask.afa  output   aln    214      -      -\n",
      "#\n",
      "# All attempts to draw structure diagrams of masks were successful.\n",
      "#\n",
      "# List of executed commands saved in:     ssu_aln.ssu-mask.log.\n",
      "# Output printed to the screen saved in:  ssu_aln.ssu-mask.sum.\n",
      "#\n",
      "# All output files created in directory ./ssu_aln/\n",
      "#\n",
      "# CPU time:  00:00:00.59  (hh:mm:ss)\n",
      "# \n"
     ]
    }
   ],
   "source": [
    "!ssu-mask --dna --afa ssu_aln"
   ]
  },
  {
   "cell_type": "markdown",
   "metadata": {},
   "source": [
    "### align REF sequences"
   ]
  },
  {
   "cell_type": "code",
   "execution_count": 83,
   "metadata": {},
   "outputs": [
    {
     "name": "stdout",
     "output_type": "stream",
     "text": [
      "# _ssu-prep :: prepare SSU rRNA sequences for parallel ssu-align jobs\n",
      "# SSU-ALIGN 0.1.1 (Feb 2016)\n",
      "# Copyright (C) 2016 Howard Hughes Medical Institute\n",
      "# Freely distributed under the BSD open source license.\n",
      "# - - - - - - - - - - - - - - - - - - - - - - - - - - - - - - - - - - - -\n",
      "# command: _ssu-prep -x -f -b 50 --dna --rfonly /home/be68/Hyphosphere/data/MRE/ref.fasta ssr_aln 1\n",
      "# date:    Wed Sep 26 11:07:14 2018\n",
      "#\n",
      "# Validating input sequence file ... done.\n",
      "#\n",
      "# Preparing 1 ssu-align jobs ...\n",
      "# Partitioning seqs with goal of equalizing total number of nucleotides per job ...\n",
      "#\n",
      "# output file name      description                                        \n",
      "# --------------------  ---------------------------------------------------\n",
      "  ssr_aln/ref.fasta.1   partition 1 FASTA sequence file (66 seqs; 82218 nt)\n",
      "  ssr_aln.ssu-align.sh  shell script that will execute 1 ssu-align jobs\n",
      "#\n",
      "################################################################################\n",
      "# To execute all 1 ssu-align jobs, run the shell script with the command:\n",
      "#\t\"ssr_aln.ssu-align.sh\"\n",
      "# (it is an executable file)\n",
      "################################################################################\n",
      "#\n",
      "# The final job will merge the output from all jobs once they are all finished.\n",
      "#\n",
      "# If one or more jobs fail: rerun the failed jobs, wait for them to finish,\n",
      "# and then perform manual merge from this directory by executing:\n",
      "#\tssu-merge ssr_aln\n",
      "#\n",
      "# List of executed commands saved in:     ssr_aln/ssr_aln.ssu-prep.log.\n",
      "# Output printed to the screen saved in:  ssr_aln/ssr_aln.ssu-prep.sum.\n",
      "#\n",
      "# CPU time:  00:00:00.14  (hh:mm:ss)\n",
      "# \n"
     ]
    }
   ],
   "source": [
    "%%bash -s \"$REFfasta\"\n",
    "ssu-prep -f -x -b 50 --rfonly --dna $1 ssr_aln 1"
   ]
  },
  {
   "cell_type": "code",
   "execution_count": 84,
   "metadata": {},
   "outputs": [
    {
     "name": "stdout",
     "output_type": "stream",
     "text": [
      "# Executing: ssu-align --merge 1 -b 50 --dna --rfonly ssr_aln/ref.fasta.1 ssr_aln/ssr_aln.1\n",
      "# _ssu-align :: align SSU rRNA sequences\n",
      "# SSU-ALIGN 0.1.1 (Feb 2016)\n",
      "# Copyright (C) 2016 Howard Hughes Medical Institute\n",
      "# Freely distributed under the BSD open source license.\n",
      "# - - - - - - - - - - - - - - - - - - - - - - - - - - - - - - - - - - - -\n",
      "# command: _ssu-align --merge 1 -b 50 --dna --rfonly ssr_aln/ref.fasta.1 ssr_aln/ssr_aln.1\n",
      "# date:    Wed Sep 26 11:07:18 2018\n",
      "#\n",
      "# Validating input sequence file ... done.\n",
      "#\n",
      "# Stage 1: Determining SSU start/end positions and best-matching models...\n",
      "#\n",
      "# output file name            description                                \n",
      "# --------------------------  -------------------------------------------\n",
      "  ssr_aln.1.tab               locations/scores of hits defined by HMM(s)\n",
      "  ssr_aln.1.bacteria.hitlist  list of sequences to align with bacteria CM\n",
      "  ssr_aln.1.bacteria.fa            66 sequences to align with bacteria CM\n",
      "#\n",
      "# Stage 2: Aligning each sequence to its best-matching model...\n",
      "#\n",
      "# output file name            description\n",
      "# --------------------------  ---------------------------------------\n",
      "  ssr_aln.1.bacteria.stk      bacteria alignment\n",
      "  ssr_aln.1.bacteria.cmalign  bacteria cmalign output\n",
      "  ssr_aln.1.bacteria.ifile    bacteria insert info\n",
      "  ssr_aln.1.scores            list of CM/HMM scores for each sequence\n",
      "#\n",
      "# Summary statistics:\n",
      "#\n",
      "# model or       number  fraction        average   average               \n",
      "# category      of seqs  of total         length  coverage    nucleotides\n",
      "# ------------  -------  --------  -------------  --------  -------------\n",
      "  *input*            66    1.0000        1245.73    1.0000          82218\n",
      "#\n",
      "  archaea             0    0.0000              -         -              0\n",
      "  bacteria           66    1.0000        1234.85    0.9913          81500\n",
      "  eukarya             0    0.0000              -         -              0\n",
      "#\n",
      "  *all-models*       66    1.0000        1234.85    0.9913          81500\n",
      "  *no-models*         0    0.0000              -         -              0\n",
      "#\n",
      "# Speed statistics:\n",
      "#\n",
      "# stage      num seqs  seq/sec  seq/sec/model    nucleotides    nt/sec\n",
      "# ---------  --------  -------  -------------  -------------  --------\n",
      "  search           66    1.554          0.518          82218    1936.4\n",
      "  alignment        66    1.043          1.043          81500    1288.2\n",
      "#\n",
      "#\n",
      "# List of executed commands saved in:     ssr_aln.1.ssu-align.log.\n",
      "# Output printed to the screen saved in:  ssr_aln.1.ssu-align.sum.\n",
      "#\n",
      "# All output files created in directory ./ssr_aln/ssr_aln.1/\n",
      "#\n",
      "# CPU time (search):     00:00:42.46  (hh:mm:ss)\n",
      "# CPU time (alignment):  00:01:03.27  (hh:mm:ss)\n",
      "# CPU time (total):      00:01:45.90  (hh:mm:ss)\n",
      "#\n",
      "################################################################################\n",
      "#\n",
      "# Alignments successfully created.\n",
      "#\n",
      "# Checking/waiting for other jobs to finish before merging...\n",
      "#\n",
      "# Job 1 (dir: ssr_aln/ssr_aln.1) completed successfully! 0/1 still incomplete.\n",
      "#\n",
      "# All 1 jobs successfully completed.\n",
      "# About to merge their output:\n",
      "#\n",
      "# Executing:  ssu-merge ssr_aln\n",
      "#\n",
      "################################################################################\n",
      "#\n",
      "# _ssu-merge :: merge SSU rRNA alignments\n",
      "# SSU-ALIGN 0.1.1 (Feb 2016)\n",
      "# Copyright (C) 2016 Howard Hughes Medical Institute\n",
      "# Freely distributed under the BSD open source license.\n",
      "# - - - - - - - - - - - - - - - - - - - - - - - - - - - - - - - - - - - -\n",
      "# command: _ssu-merge ssr_aln\n",
      "# date:    Wed Sep 26 11:09:04 2018\n",
      "#\n",
      "# Merging files from 1 ssu-align runs...\n",
      "#\n",
      "#                                     # files     # seqs\n",
      "# merged file name          CM name    merged     merged\n",
      "# ------------------------  --------  -------  ---------\n",
      "  ssr_aln.tab               -               1          -\n",
      "  ssr_aln.scores            -               1          -\n",
      "  ssr_aln.ssu-align.sum     -               1          -\n",
      "  ssr_aln.ssu-align.log     -               1          -\n",
      "#\n",
      "  ssr_aln.bacteria.fa       bacteria        1         66\n",
      "  ssr_aln.bacteria.hitlist  bacteria        1         66\n",
      "  ssr_aln.bacteria.cmalign  bacteria        1         66\n",
      "  ssr_aln.bacteria.ifile    bacteria        1         66\n",
      "  ssr_aln.bacteria.stk      bacteria        1         66\n",
      "#\n",
      "#\n",
      "# Summary statistics:\n",
      "#\n",
      "# model or       number  fraction        average   average               \n",
      "# category      of seqs  of total         length  coverage    nucleotides\n",
      "# ------------  -------  --------  -------------  --------  -------------\n",
      "  *input*            66    1.0000        1245.73    1.0000          82218\n",
      "#\n",
      "  archaea             0    0.0000              -         -              0\n",
      "  bacteria           66    1.0000        1234.85    0.9913          81500\n",
      "  eukarya             0    0.0000              -         -              0\n",
      "#\n",
      "  *all-models*       66    1.0000        1234.85    0.9913          81500\n",
      "  *no-models*         0    0.0000              -         -              0\n",
      "#\n",
      "# Speed statistics:\n",
      "#\n",
      "# stage      num seqs  seq/sec  seq/sec/model    nucleotides    nt/sec\n",
      "# ---------  --------  -------  -------------  -------------  --------\n",
      "  search           66   66.000         22.000          82218   82218.0\n",
      "  alignment        66   66.000         66.000          81500   81500.0\n",
      "#\n",
      "# Summed ssu-align CPU time (search):     00:00:00.00  (hh:mm:ss)\n",
      "# Summed ssu-align CPU time (alignment):  00:00:00.00  (hh:mm:ss)\n",
      "# Summed ssu-align CPU time (total):      00:00:00.00  (hh:mm:ss)\n",
      "#\n",
      "# Cleaning up by removing original files that were just merged ... done.\n",
      "#\n",
      "# List of executed commands saved in:     ssr_aln.ssu-merge.log.\n",
      "# Output printed to the screen saved in:  ssr_aln.ssu-merge.sum.\n",
      "#\n",
      "# All output files created in directory ./ssr_aln/\n",
      "#\n",
      "# CPU time:  00:00:00.07  (hh:mm:ss)\n",
      "# \n"
     ]
    }
   ],
   "source": [
    "%%bash\n",
    "./ssr_aln.ssu-align.sh"
   ]
  },
  {
   "cell_type": "code",
   "execution_count": 85,
   "metadata": {
    "scrolled": true
   },
   "outputs": [
    {
     "name": "stdout",
     "output_type": "stream",
     "text": [
      "# _ssu-mask :: mask SSU rRNA alignments\n",
      "# SSU-ALIGN 0.1.1 (Feb 2016)\n",
      "# Copyright (C) 2016 Howard Hughes Medical Institute\n",
      "# Freely distributed under the BSD open source license.\n",
      "# - - - - - - - - - - - - - - - - - - - - - - - - - - - - - - - - - - - -\n",
      "# command: _ssu-mask -s ssu_aln/ssu_aln.bacteria.mask --afa --dna ssr_aln/\n",
      "# date:    Wed Sep 26 11:09:04 2018\n",
      "#\n",
      "# Masking alignments using pre-existing masks...\n",
      "#\n",
      "#                                                     mask    \n",
      "#                                                 ------------\n",
      "# file name                  in/out  type  #cols  incl.  excl.\n",
      "# -------------------------  ------  ----  -----  -----  -----\n",
      "  ssr_aln.bacteria.stk        input   aln   1582      -      -\n",
      "  ssu_aln.bacteria.mask       input  mask   1582    214   1368\n",
      "  ssr_aln.bacteria.mask.pdf  output   pdf   1582    214   1368\n",
      "  ssr_aln.bacteria.mask.afa  output   aln    214      -      -\n",
      "#\n",
      "# All attempts to draw structure diagrams of masks were successful.\n",
      "#\n",
      "# List of executed commands saved in:     ssr_aln.ssu-mask.log.\n",
      "# Output printed to the screen saved in:  ssr_aln.ssu-mask.sum.\n",
      "#\n",
      "# All output files created in directory ./ssr_aln/\n",
      "#\n",
      "# CPU time:  00:00:00.59  (hh:mm:ss)\n",
      "# \n"
     ]
    }
   ],
   "source": [
    "!ssu-mask -s ssu_aln/ssu_aln.bacteria.mask --dna --afa ssr_aln/"
   ]
  },
  {
   "cell_type": "code",
   "execution_count": 86,
   "metadata": {
    "collapsed": true
   },
   "outputs": [],
   "source": [
    "!cat ssr_aln/ssr_aln.bacteria.mask.afa ssu_aln/ssu_aln.bacteria.mask.afa > aln_for_tree.fasta"
   ]
  },
  {
   "cell_type": "code",
   "execution_count": 87,
   "metadata": {},
   "outputs": [
    {
     "name": "stdout",
     "output_type": "stream",
     "text": [
      ">MG052969.1 Uncultured Mollicutes bacterium clone Msp-GBAus27b 16S ribosomal RNA gene, partial sequence\r\n",
      "ACGTAGGTGGCGAACGTTATCCGGAATTATTGGGCGTAAAGGGTGCGTAGATGGCTTGGT\r\n",
      "AAGTTGCTCAAGCAATACTACTAAGCGAGCACAGGAGAGGTTAATGGAACTCCATGTGGA\r\n",
      "GCGGTAAAATGCACAGATATATGGAAGAACACCGGCGAAGGCAATTAACTATTCTGACTG\r\n",
      "ACATTGAGGCACGAAAGCGTGGGGAGCAAAACGG\r\n",
      ">MG052970.1 Uncultured Mollicutes bacterium clone Mros-NRRL A-17819 16S ribosomal RNA gene, partial sequence\r\n",
      "ACGTAGGTGGCGAACGTTATCCGGAATTATTGGGCGTAAAGGGTGCGTAGATGGTTTAGT\r\n",
      "AAGTTGCTCAAACAATACTACTAAACGAGTACAGGAGAGGTTAATGGAACTCCATGTGGA\r\n",
      "GCGGTAAAATGCACAGATATATGGAAGAACACCGGCGAAGGCAATTAACTATTCTGACTG\r\n",
      "ACATTGAGGCACGAAAGCGTGGGGAGCAAAACGG\r\n",
      ">MG052968.1 Uncultured Mollicutes bacterium clone Msp-AD185 16S ribosomal RNA gene, partial sequence\r\n",
      "ACGTAGGTGGCGAACGTTATCCGGAATTATTGGGCGTAAAGGGTGCGTAGATGGCTTGGT\r\n",
      "AAGTTGCTCAAGCAATACTACTAAGCGAGTACAGGAGAGGTTAATGGAACTCCATGTGGA\r\n",
      "GCGGTAAAATGCATAGATATATGGAAGAACACCGGCGAAGGCAATTAACTATTCTGACTG\r\n",
      "ACATTGAGGCACGAAAGCGTGGGGAGCAAAACGG\r\n",
      ">MG052966.1 Uncultured Mollicutes bacterium clone Msel-CBS 811.68 16S ribosomal RNA gene, partial sequence\r\n",
      "ACATAGGTGGCGAACGTTATCCGGAATTATTGGGCGTAAAGGGTGCGTAGATCGTGCAAT\r\n",
      "AAGTTACCCAAGTAATACTGTTGCACGAGTTCAGGGGAGGTTGATGGAACTCCATGTGGA\r\n",
      "GCGGTAAAATGCGTAGATATATGGAAGAATGTCGGCGAAGGCAGTCAACTACTCTGACTG\r\n",
      "ACGTTGAGGCACGAAAGCGTGGGGAGCAAAAAGG\r\n"
     ]
    }
   ],
   "source": [
    "!head aln_for_tree.fasta -n 20"
   ]
  },
  {
   "cell_type": "code",
   "execution_count": null,
   "metadata": {
    "collapsed": true
   },
   "outputs": [],
   "source": []
  },
  {
   "cell_type": "markdown",
   "metadata": {},
   "source": [
    "## Inferring and rooting the tree"
   ]
  },
  {
   "cell_type": "code",
   "execution_count": 88,
   "metadata": {
    "collapsed": true
   },
   "outputs": [],
   "source": [
    "#aln = LoadSeqs(os.path.join(workDir, 'aln_for_tree.fasta'), moltype=DNA)\n",
    "aln = LoadSeqs('aln_for_tree.fasta', moltype=DNA)\n",
    "t_unroot = build_tree_from_alignment(aln, moltype=DNA)"
   ]
  },
  {
   "cell_type": "code",
   "execution_count": 66,
   "metadata": {},
   "outputs": [
    {
     "ename": "NameError",
     "evalue": "name 'KC441811' is not defined",
     "output_type": "error",
     "traceback": [
      "\u001b[0;31m---------------------------------------------------------------------------\u001b[0m",
      "\u001b[0;31mNameError\u001b[0m                                 Traceback (most recent call last)",
      "\u001b[0;32m<ipython-input-66-3caf3c1b0d70>\u001b[0m in \u001b[0;36m<module>\u001b[0;34m()\u001b[0m\n\u001b[0;32m----> 1\u001b[0;31m \u001b[0mt_rooted\u001b[0m \u001b[0;34m=\u001b[0m \u001b[0mt_unroot\u001b[0m\u001b[0;34m.\u001b[0m\u001b[0mrootedWithTip\u001b[0m\u001b[0;34m(\u001b[0m\u001b[0mKC441811\u001b[0m\u001b[0;34m)\u001b[0m\u001b[0;34m\u001b[0m\u001b[0m\n\u001b[0m",
      "\u001b[0;31mNameError\u001b[0m: name 'KC441811' is not defined"
     ]
    }
   ],
   "source": [
    "#t_rooted = t_unroot.rootedWithTip(KC441811)"
   ]
  },
  {
   "cell_type": "code",
   "execution_count": 89,
   "metadata": {
    "collapsed": true
   },
   "outputs": [],
   "source": [
    "t_unroot.writeToFile('MRE.tree')"
   ]
  }
 ],
 "metadata": {
  "kernelspec": {
   "display_name": "Python 2",
   "language": "python",
   "name": "python2"
  },
  "language_info": {
   "codemirror_mode": {
    "name": "ipython",
    "version": 2
   },
   "file_extension": ".py",
   "mimetype": "text/x-python",
   "name": "python",
   "nbconvert_exporter": "python",
   "pygments_lexer": "ipython2",
   "version": "2.7.14"
  }
 },
 "nbformat": 4,
 "nbformat_minor": 2
}
