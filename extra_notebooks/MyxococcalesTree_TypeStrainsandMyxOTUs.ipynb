{
 "cells": [
  {
   "cell_type": "markdown",
   "metadata": {},
   "source": [
    "# Myxococcales OTUs and rdp type strain isolate tree\n",
    "* Align all Myxococcales OTUs from sequencing run with type strains from RDP \n",
    "* Desulfobacteria used as outgroup\n"
   ]
  },
  {
   "cell_type": "code",
   "execution_count": 11,
   "metadata": {
    "collapsed": true
   },
   "outputs": [],
   "source": [
    "workDir = '/home/be68/Hyphosphere/data/Myxococcales/OTUtree/'\n",
    "#OTUFileDir = '/home/be68/Hyphosphere/data/Myxococcales/'\n",
    "RDPfile = 'rdp_download_51seqs.fa'\n",
    "OTUFile = '/home/be68/Hyphosphere/data/Myxococcales/OTUtree/MyxOTUseqs.fa'\n",
    "\n",
    "\n",
    "nprocs = 3"
   ]
  },
  {
   "cell_type": "code",
   "execution_count": 2,
   "metadata": {
    "collapsed": true
   },
   "outputs": [],
   "source": [
    "import os, re\n",
    "import numpy as np\n",
    "#import entrez.direct\n",
    "from cogent.app.fasttree import build_tree_from_alignment\n",
    "from cogent import DNA, LoadSeqs\n",
    "from Bio import Entrez\n",
    "Entrez.email = \"be68@cornell.edu\""
   ]
  },
  {
   "cell_type": "code",
   "execution_count": 3,
   "metadata": {
    "collapsed": true
   },
   "outputs": [],
   "source": [
    "if not os.path.isdir(workDir):\n",
    "    os.mkdir(workDir)"
   ]
  },
  {
   "cell_type": "code",
   "execution_count": 4,
   "metadata": {
    "collapsed": true
   },
   "outputs": [],
   "source": [
    "os.chdir(workDir)"
   ]
  },
  {
   "cell_type": "code",
   "execution_count": 11,
   "metadata": {
    "collapsed": true
   },
   "outputs": [],
   "source": [
    "# sso_acc = \"KJ475674\"\n",
    "# sso_fa = Entrez.efetch(db=\"nucleotide\", id=sso_acc, rettype=\"fasta\", retmode=\"text\").readlines()"
   ]
  },
  {
   "cell_type": "code",
   "execution_count": 14,
   "metadata": {},
   "outputs": [
    {
     "name": "stdout",
     "output_type": "stream",
     "text": [
      ">Otu10\n",
      "TACGAAGGGTGCAAACGTTGCTCGGAATCATTGGGCGTAAAGCGCACGTAGGCGGCTTTGCAAGTCGGATGTGAAATCCCGTGGCTCAACCATGGACGTGCATTCGAAACTGCAAAGCTTGAGTATGGAAGAGGGTCGCGGAATTCCCGGTGTAGAGGTGAAATTCGTAGATATCGGGAGGAACACCAGTGGCGAAGGCGGCGACCTGGGCCAATACTGACGCTGAGGTGCGAAAGCGTGGGGAGCAAACAGG\n",
      ">Otu52\n",
      "GACAGAGGGTGCAAACGTTGTTCGGAATTACTGGGCGTAAAGCGCGTGTAGGCGGCCCTGCAAGTCGGATGTGAAATCCCACGGCTCAACCATGGAAGTGCATTCGAAACTGCAGAGCTAGAGTCCTGGAGAGGAAGGTGGAATGCTTGGTGTAGAGGTGAAATTCGTAGATATCAAGCGGAACACCGGTGGCGAAGGCGGCCTTCTGGACAGTGACTGACGCTGAGACGCGAAAGCGTGGGGAGCAAACAGG\n",
      ">Otu86\n",
      "GACAGAGGGTGCAAACGTTGTTCGGAATTACTGGGCGTAAAGCGCGTGTAGGCGGTTCGTAAAGTCAGGTGTGAAAGCCCTGGGCTTAACCCAGGAAGTGCACTTGAAACTCACGAACTTGAGTCCCGGAGAGGAAGGCGGAATTCTCGGTGTAGAGGTGAAATTCGTAGATATCGAGAGGAACATCGGTGGCGAAGGCGGCCTTCTGGACGGTGACTGACGCTGAGACGCGAAAGCGTGGGGAGCAAACAGG\n",
      ">Otu97\n",
      "GACAGAGGGTGCGAACGTTGTTCGGAATTACTGGGCGTAAAGCGCGTGTAGGCGGCAGCGTGTGTCGGGCGTGAAATCCCATGGCTTAACCATGGAAGTGCACCCGAAACTGCGCAGCTAGAGTCCTGGAGAGGAAGATGGAATACTTGGTGTAGAGGTGAAATTCGTAGATATCAAGTGGAACACCGGTGGCGAAGGCGGTCTTCTGGACAGTGACTGACGCTGAGACGCGAAAGCGTGGGGAGCAAACAGG\n",
      ">Otu113\n",
      "GACAGAGGGTGCAAACGTTGTTCGGAATTACTGGGCGTAAAGCGTGCGCAGGCGGCCTTGCAAGTCGGGCGTGAAATCCCACGGCTCAACCGTGGAAGTGCACTCGAAACTGCTTGGCTAGAGTCTTGGAGAGGAAGGCGGAATGCTTGGTGTAGAGGTGAAATTCGTAGATATCAAGCGGAACACCGGTGGCGAAGGCGGCCTTCTGGACAATGACTGACGCTAAAACACGAAAGCGTGGGGAGCAAACAGG\n",
      ">Otu116\n",
      "TACAGGGGGTGCAAACGTTGCTCGGAATCATTGGGCGTAAAGCGCACGTAGGCGGTCTGTTATGTCGGATGTGAAAGCCCTTGGCTTAACTGAGGAAGTGCATCCGAAACTGGCAGGCTAGAGTACTAAAGAGGGTCGCGGAATTCCCGGTGTAGAGGTGAAATTCGTAGATATCGGGAGGAACACCGGTGGCGAAGGCGGCGACCTGGGTAGATACTGACGCTGAGGTGCGAAAGCGTGGGGAGCAAACAGG\n",
      ">Otu126\n",
      "TACAGAGGGTGCAAACGTTGCTCGGAATCATTGGGCGTAAAGCGCACGTAGGCGGTCCGACAAGTGGGGAGTGAAAGCCCTCGGCTTAACCGAGGAAGTGCTTTCCAAACTGCCGGACTTGAGTACGCAAGAGGATCGCGGAATTCCCGGTGTAGAGGTGAAATTCGTAGATATCGGGAGGAACACCAGCGGCGAAGGCGGCGATCTGGGGCGATACTGACGCTGAGGTGCGAAAGCGTGGGGAGCAAACAGG\n",
      ">Otu127\n",
      ">S002304630 Desulfobacter hydrogenophilus (T); type strain: DSM3380; FR733673\n",
      "GTTTGGACCTGGCTCAGAATGAACGCTGGCGGCGTGCTTAACACATGCAAGTCGAACGagaaaaggatt\n",
      "gcttgcaatcctgagtagAGTGGCGCACGGGTGAGTAACACGTAGATAATCTGCCTTCAAACCTGGAATAACTAT\n",
      "TCGAAAGGGTAGCTAATACCGGATAAAGTCGATTTACAYAAGTGGATTGATGAAAGAttgcctcttcttgaaagc\n",
      "aaTTGTTTGGGGATGAGTCTGCGGACCATTAGCTTGTTGGTGGGGTAAAGGCCTACCAAGGCAGCGATGGTTAGC\n",
      "TGGTCTGAGAGGATGATCAGCCACACTGGAACTGGAACACGGTCCAGACTCCTACGGGAGGCAGCAGTGAGGAATTTTG\n",
      "CGCAATGGGGGCAACCCTGACGCAGCAACGCCGCGTGAGTGAAGAAGGCCTTTGGGTCGTAAAGCTCTGTCAACTGGGAA\n",
      "GAaattagcttctattaatagtagttgctatTGACGGTACCAGTGGAGGAAGCGCCGGCTAACTCCGTGCCAGCAGCCGC\n"
     ]
    }
   ],
   "source": [
    "%%bash -s \"$OTUFile\" \"$RDPfile\" \n",
    "#head $1 -n 15\n",
    "head $1 -n 15\n",
    "head $2 -n 8\n"
   ]
  },
  {
   "cell_type": "code",
   "execution_count": 24,
   "metadata": {
    "collapsed": true
   },
   "outputs": [],
   "source": [
    "## attempt to remove gaps in python, easier to do in nano.\n",
    "# handle = open(\"SeqFile.fa\")\n",
    "# #counter = 0\n",
    "# for line in handle:\n",
    "#     if line.startswith(\">\"):\n",
    "#         #counter = counter + 1\n",
    "#         continue\n",
    "#     line = re.sub('-','',line)   \n",
    "#     print(line)\n",
    "        "
   ]
  },
  {
   "cell_type": "markdown",
   "metadata": {},
   "source": [
    "## Using SSU-Align to seqs from hyphal samples and mask based on alignment posterior probabilities."
   ]
  },
  {
   "cell_type": "markdown",
   "metadata": {},
   "source": [
    "### Align hyphal OTUs"
   ]
  },
  {
   "cell_type": "code",
   "execution_count": 17,
   "metadata": {},
   "outputs": [
    {
     "name": "stdout",
     "output_type": "stream",
     "text": [
      "# _ssu-prep :: prepare SSU rRNA sequences for parallel ssu-align jobs\n",
      "# SSU-ALIGN 0.1.1 (Feb 2016)\n",
      "# Copyright (C) 2016 Howard Hughes Medical Institute\n",
      "# Freely distributed under the BSD open source license.\n",
      "# - - - - - - - - - - - - - - - - - - - - - - - - - - - - - - - - - - - -\n",
      "# command: _ssu-prep -x -f -b 50 --dna --rfonly /home/be68/Hyphosphere/data/Myxococcales/OTUtree/MyxOTUseqs.fa ssu_aln 2\n",
      "# date:    Mon Feb 26 12:19:08 2018\n",
      "#\n",
      "# Validating input sequence file ... done.\n",
      "#\n",
      "# Preparing 2 ssu-align jobs ...\n",
      "# Partitioning seqs with goal of equalizing total number of nucleotides per job ...\n",
      "#\n",
      "# output file name      description                                        \n",
      "# --------------------  ---------------------------------------------------\n",
      "  ssu_aln/MyxOTUseqs.fa.1  partition 1 FASTA sequence file (48 seqs; 12144 nt)\n",
      "  ssu_aln/MyxOTUseqs.fa.2  partition 2 FASTA sequence file (48 seqs; 12144 nt)\n",
      "  ssu_aln.ssu-align.sh  shell script that will execute 2 ssu-align jobs\n",
      "#\n",
      "################################################################################\n",
      "# To execute all 2 ssu-align jobs, run the shell script with the command:\n",
      "#\t\"ssu_aln.ssu-align.sh\"\n",
      "# (it is an executable file)\n",
      "################################################################################\n",
      "#\n",
      "# The final job will merge the output from all jobs once they are all finished.\n",
      "#\n",
      "# If one or more jobs fail: rerun the failed jobs, wait for them to finish,\n",
      "# and then perform manual merge from this directory by executing:\n",
      "#\tssu-merge ssu_aln\n",
      "#\n",
      "# List of executed commands saved in:     ssu_aln/ssu_aln.ssu-prep.log.\n",
      "# Output printed to the screen saved in:  ssu_aln/ssu_aln.ssu-prep.sum.\n",
      "#\n",
      "# CPU time:  00:00:00.31  (hh:mm:ss)\n",
      "# \n"
     ]
    }
   ],
   "source": [
    "%%bash -s \"$OTUFile\"\n",
    "ssu-prep -f -x -b 50 --rfonly --dna $1 ssu_aln 2"
   ]
  },
  {
   "cell_type": "code",
   "execution_count": 18,
   "metadata": {
    "scrolled": false
   },
   "outputs": [
    {
     "name": "stdout",
     "output_type": "stream",
     "text": [
      "# Executing: ssu-align -b 50 --dna --rfonly ssu_aln/MyxOTUseqs.fa.1 ssu_aln/ssu_aln.1 > /dev/null &\n",
      "# Executing: ssu-align --merge 2 -b 50 --dna --rfonly ssu_aln/MyxOTUseqs.fa.2 ssu_aln/ssu_aln.2\n",
      "# _ssu-align :: align SSU rRNA sequences\n",
      "# SSU-ALIGN 0.1.1 (Feb 2016)\n",
      "# Copyright (C) 2016 Howard Hughes Medical Institute\n",
      "# Freely distributed under the BSD open source license.\n",
      "# - - - - - - - - - - - - - - - - - - - - - - - - - - - - - - - - - - - -\n",
      "# command: _ssu-align --merge 2 -b 50 --dna --rfonly ssu_aln/MyxOTUseqs.fa.2 ssu_aln/ssu_aln.2\n",
      "# date:    Mon Feb 26 12:19:15 2018\n",
      "#\n",
      "# Validating input sequence file ... done.\n",
      "#\n",
      "# Stage 1: Determining SSU start/end positions and best-matching models...\n",
      "#\n",
      "# output file name            description                                \n",
      "# --------------------------  -------------------------------------------\n",
      "  ssu_aln.2.tab               locations/scores of hits defined by HMM(s)\n",
      "  ssu_aln.2.bacteria.hitlist  list of sequences to align with bacteria CM\n",
      "  ssu_aln.2.bacteria.fa            48 sequences to align with bacteria CM\n",
      "#\n",
      "# Stage 2: Aligning each sequence to its best-matching model...\n",
      "#\n",
      "# output file name            description\n",
      "# --------------------------  ---------------------------------------\n",
      "  ssu_aln.2.bacteria.stk      bacteria alignment\n",
      "  ssu_aln.2.bacteria.cmalign  bacteria cmalign output\n",
      "  ssu_aln.2.bacteria.ifile    bacteria insert info\n",
      "  ssu_aln.2.scores            list of CM/HMM scores for each sequence\n",
      "#\n",
      "# Summary statistics:\n",
      "#\n",
      "# model or       number  fraction        average   average               \n",
      "# category      of seqs  of total         length  coverage    nucleotides\n",
      "# ------------  -------  --------  -------------  --------  -------------\n",
      "  *input*            48    1.0000         253.00    1.0000          12144\n",
      "#\n",
      "  archaea             0    0.0000              -         -              0\n",
      "  bacteria           48    1.0000         252.62    0.9985          12126\n",
      "  eukarya             0    0.0000              -         -              0\n",
      "#\n",
      "  *all-models*       48    1.0000         252.62    0.9985          12126\n",
      "  *no-models*         0    0.0000              -         -              0\n",
      "#\n",
      "# Speed statistics:\n",
      "#\n",
      "# stage      num seqs  seq/sec  seq/sec/model    nucleotides    nt/sec\n",
      "# ---------  --------  -------  -------------  -------------  --------\n",
      "  search           48   10.214          3.405          12144    2584.1\n",
      "  alignment        48    7.809          7.809          12126    1972.7\n",
      "#\n",
      "#\n",
      "# List of executed commands saved in:     ssu_aln.2.ssu-align.log.\n",
      "# Output printed to the screen saved in:  ssu_aln.2.ssu-align.sum.\n",
      "#\n",
      "# All output files created in directory ./ssu_aln/ssu_aln.2/\n",
      "#\n",
      "# CPU time (search):     00:00:04.70  (hh:mm:ss)\n",
      "# CPU time (alignment):  00:00:06.15  (hh:mm:ss)\n",
      "# CPU time (total):      00:00:11.03  (hh:mm:ss)\n",
      "#\n",
      "################################################################################\n",
      "#\n",
      "# Alignments successfully created.\n",
      "#\n",
      "# Checking/waiting for other jobs to finish before merging...\n",
      "#\n",
      "# Job 1 (dir: ssu_aln/ssu_aln.1) completed successfully! 1/2 still incomplete.\n",
      "# Job 2 (dir: ssu_aln/ssu_aln.2) completed successfully! 0/2 still incomplete.\n",
      "#\n",
      "# All 2 jobs successfully completed.\n",
      "# About to merge their output:\n",
      "#\n",
      "# Executing:  ssu-merge ssu_aln\n",
      "#\n",
      "################################################################################\n",
      "#\n",
      "# _ssu-merge :: merge SSU rRNA alignments\n",
      "# SSU-ALIGN 0.1.1 (Feb 2016)\n",
      "# Copyright (C) 2016 Howard Hughes Medical Institute\n",
      "# Freely distributed under the BSD open source license.\n",
      "# - - - - - - - - - - - - - - - - - - - - - - - - - - - - - - - - - - - -\n",
      "# command: _ssu-merge ssu_aln\n",
      "# date:    Mon Feb 26 12:19:26 2018\n",
      "#\n",
      "# Merging files from 2 ssu-align runs...\n",
      "#\n",
      "#                                     # files     # seqs\n",
      "# merged file name          CM name    merged     merged\n",
      "# ------------------------  --------  -------  ---------\n",
      "  ssu_aln.tab               -               2          -\n",
      "  ssu_aln.scores            -               2          -\n",
      "  ssu_aln.ssu-align.sum     -               2          -\n",
      "  ssu_aln.ssu-align.log     -               2          -\n",
      "#\n",
      "  ssu_aln.bacteria.fa       bacteria        2         96\n",
      "  ssu_aln.bacteria.hitlist  bacteria        2         96\n",
      "  ssu_aln.bacteria.cmalign  bacteria        2         96\n",
      "  ssu_aln.bacteria.ifile    bacteria        2         96\n",
      "  ssu_aln.bacteria.stk      bacteria        2         96\n",
      "#\n",
      "#\n",
      "# Summary statistics:\n",
      "#\n",
      "# model or       number  fraction        average   average               \n",
      "# category      of seqs  of total         length  coverage    nucleotides\n",
      "# ------------  -------  --------  -------------  --------  -------------\n",
      "  *input*            96    1.0000         253.00    1.0000          24288\n",
      "#\n",
      "  archaea             0    0.0000              -         -              0\n",
      "  bacteria           96    1.0000         252.60    0.9985          24250\n",
      "  eukarya             0    0.0000              -         -              0\n",
      "#\n",
      "  *all-models*       96    1.0000         252.60    0.9985          24250\n",
      "  *no-models*         0    0.0000              -         -              0\n",
      "#\n",
      "# Speed statistics:\n",
      "#\n",
      "# stage      num seqs  seq/sec  seq/sec/model    nucleotides    nt/sec\n",
      "# ---------  --------  -------  -------------  -------------  --------\n",
      "  search           96   96.000         32.000          24288   24288.0\n",
      "  alignment        96   96.000         96.000          24250   24250.0\n",
      "#\n",
      "# Summed ssu-align CPU time (search):     00:00:00.00  (hh:mm:ss)\n",
      "# Summed ssu-align CPU time (alignment):  00:00:00.00  (hh:mm:ss)\n",
      "# Summed ssu-align CPU time (total):      00:00:00.00  (hh:mm:ss)\n",
      "#\n",
      "# Cleaning up by removing original files that were just merged ... done.\n",
      "#\n",
      "# List of executed commands saved in:     ssu_aln.ssu-merge.log.\n",
      "# Output printed to the screen saved in:  ssu_aln.ssu-merge.sum.\n",
      "#\n",
      "# All output files created in directory ./ssu_aln/\n",
      "#\n",
      "# CPU time:  00:00:00.10  (hh:mm:ss)\n",
      "# \n"
     ]
    }
   ],
   "source": [
    "%%bash\n",
    "./ssu_aln.ssu-align.sh"
   ]
  },
  {
   "cell_type": "code",
   "execution_count": 19,
   "metadata": {},
   "outputs": [
    {
     "name": "stdout",
     "output_type": "stream",
     "text": [
      "# _ssu-mask :: mask SSU rRNA alignments\n",
      "# SSU-ALIGN 0.1.1 (Feb 2016)\n",
      "# Copyright (C) 2016 Howard Hughes Medical Institute\n",
      "# Freely distributed under the BSD open source license.\n",
      "# - - - - - - - - - - - - - - - - - - - - - - - - - - - - - - - - - - - -\n",
      "# command: _ssu-mask --afa --dna ssu_aln\n",
      "# date:    Mon Feb 26 12:19:27 2018\n",
      "#\n",
      "# Masking alignments based on posterior probabilities...\n",
      "#\n",
      "#                                                     mask    \n",
      "#                                                 ------------\n",
      "# file name                  in/out  type  #cols  incl.  excl.\n",
      "# -------------------------  ------  ----  -----  -----  -----\n",
      "  ssu_aln.bacteria.stk        input   aln   1582      -      -\n",
      "  ssu_aln.bacteria.mask      output  mask   1582    251   1331\n",
      "  ssu_aln.bacteria.mask.pdf  output   pdf   1582    251   1331\n",
      "  ssu_aln.bacteria.mask.afa  output   aln    251      -      -\n",
      "#\n",
      "# All attempts to draw structure diagrams of masks were successful.\n",
      "#\n",
      "# List of executed commands saved in:     ssu_aln.ssu-mask.log.\n",
      "# Output printed to the screen saved in:  ssu_aln.ssu-mask.sum.\n",
      "#\n",
      "# All output files created in directory ./ssu_aln/\n",
      "#\n",
      "# CPU time:  00:00:00.91  (hh:mm:ss)\n",
      "# \n"
     ]
    }
   ],
   "source": [
    "!cd $workDir; ssu-mask --dna --afa ssu_aln"
   ]
  },
  {
   "cell_type": "markdown",
   "metadata": {},
   "source": [
    "### align RDP sequences"
   ]
  },
  {
   "cell_type": "code",
   "execution_count": 20,
   "metadata": {
    "scrolled": true
   },
   "outputs": [
    {
     "name": "stdout",
     "output_type": "stream",
     "text": [
      "# _ssu-prep :: prepare SSU rRNA sequences for parallel ssu-align jobs\n",
      "# SSU-ALIGN 0.1.1 (Feb 2016)\n",
      "# Copyright (C) 2016 Howard Hughes Medical Institute\n",
      "# Freely distributed under the BSD open source license.\n",
      "# - - - - - - - - - - - - - - - - - - - - - - - - - - - - - - - - - - - -\n",
      "# command: _ssu-prep -x -f -b 50 --dna --rfonly rdp_download_51seqs.fa ssr_aln 10\n",
      "# date:    Mon Feb 26 12:19:58 2018\n",
      "#\n",
      "# Validating input sequence file ... done.\n",
      "#\n",
      "# Preparing 10 ssu-align jobs ...\n",
      "# Partitioning seqs with goal of equalizing total number of nucleotides per job ...\n",
      "#\n",
      "# output file name         description                                      \n",
      "# -----------------------  -------------------------------------------------\n",
      "  ssr_aln/rdp_download_51seqs.fa.1  partition 1 FASTA sequence file (6 seqs; 9165 nt)\n",
      "  ssr_aln/rdp_download_51seqs.fa.2  partition 2 FASTA sequence file (6 seqs; 8944 nt)\n",
      "  ssr_aln/rdp_download_51seqs.fa.3  partition 3 FASTA sequence file (5 seqs; 7520 nt)\n",
      "  ssr_aln/rdp_download_51seqs.fa.4  partition 4 FASTA sequence file (5 seqs; 7587 nt)\n",
      "  ssr_aln/rdp_download_51seqs.fa.5  partition 5 FASTA sequence file (5 seqs; 7503 nt)\n",
      "  ssr_aln/rdp_download_51seqs.fa.6  partition 6 FASTA sequence file (5 seqs; 7472 nt)\n",
      "  ssr_aln/rdp_download_51seqs.fa.7  partition 7 FASTA sequence file (5 seqs; 7515 nt)\n",
      "  ssr_aln/rdp_download_51seqs.fa.8  partition 8 FASTA sequence file (5 seqs; 7633 nt)\n",
      "  ssr_aln/rdp_download_51seqs.fa.9  partition 9 FASTA sequence file (5 seqs; 7720 nt)\n",
      "  ssr_aln/rdp_download_51seqs.fa.10  partition 10 FASTA sequence file (4 seqs; 6094 nt)\n",
      "  ssr_aln.ssu-align.sh     shell script that will execute 10 ssu-align jobs\n",
      "#\n",
      "################################################################################\n",
      "# To execute all 10 ssu-align jobs, run the shell script with the command:\n",
      "#\t\"ssr_aln.ssu-align.sh\"\n",
      "# (it is an executable file)\n",
      "################################################################################\n",
      "#\n",
      "# The final job will merge the output from all jobs once they are all finished.\n",
      "#\n",
      "# If one or more jobs fail: rerun the failed jobs, wait for them to finish,\n",
      "# and then perform manual merge from this directory by executing:\n",
      "#\tssu-merge ssr_aln\n",
      "#\n",
      "# List of executed commands saved in:     ssr_aln/ssr_aln.ssu-prep.log.\n",
      "# Output printed to the screen saved in:  ssr_aln/ssr_aln.ssu-prep.sum.\n",
      "#\n",
      "# CPU time:  00:00:00.14  (hh:mm:ss)\n",
      "# \n"
     ]
    }
   ],
   "source": [
    "%%bash -s \"$RDPfile\"\n",
    "ssu-prep -f -x -b 50 --rfonly --dna $1 ssr_aln 10"
   ]
  },
  {
   "cell_type": "code",
   "execution_count": 21,
   "metadata": {},
   "outputs": [
    {
     "name": "stdout",
     "output_type": "stream",
     "text": [
      "# Executing: ssu-align -b 50 --dna --rfonly ssr_aln/rdp_download_51seqs.fa.1 ssr_aln/ssr_aln.1 > /dev/null &\n",
      "# Executing: ssu-align -b 50 --dna --rfonly ssr_aln/rdp_download_51seqs.fa.2 ssr_aln/ssr_aln.2 > /dev/null &\n",
      "# Executing: ssu-align -b 50 --dna --rfonly ssr_aln/rdp_download_51seqs.fa.3 ssr_aln/ssr_aln.3 > /dev/null &\n",
      "# Executing: ssu-align -b 50 --dna --rfonly ssr_aln/rdp_download_51seqs.fa.4 ssr_aln/ssr_aln.4 > /dev/null &\n",
      "# Executing: ssu-align -b 50 --dna --rfonly ssr_aln/rdp_download_51seqs.fa.5 ssr_aln/ssr_aln.5 > /dev/null &\n",
      "# Executing: ssu-align -b 50 --dna --rfonly ssr_aln/rdp_download_51seqs.fa.6 ssr_aln/ssr_aln.6 > /dev/null &\n",
      "# Executing: ssu-align -b 50 --dna --rfonly ssr_aln/rdp_download_51seqs.fa.7 ssr_aln/ssr_aln.7 > /dev/null &\n",
      "# Executing: ssu-align -b 50 --dna --rfonly ssr_aln/rdp_download_51seqs.fa.8 ssr_aln/ssr_aln.8 > /dev/null &\n",
      "# Executing: ssu-align -b 50 --dna --rfonly ssr_aln/rdp_download_51seqs.fa.9 ssr_aln/ssr_aln.9 > /dev/null &\n",
      "# Executing: ssu-align --merge 10 -b 50 --dna --rfonly ssr_aln/rdp_download_51seqs.fa.10 ssr_aln/ssr_aln.10\n",
      "# _ssu-align :: align SSU rRNA sequences\n",
      "# SSU-ALIGN 0.1.1 (Feb 2016)\n",
      "# Copyright (C) 2016 Howard Hughes Medical Institute\n",
      "# Freely distributed under the BSD open source license.\n",
      "# - - - - - - - - - - - - - - - - - - - - - - - - - - - - - - - - - - - -\n",
      "# command: _ssu-align --merge 10 -b 50 --dna --rfonly ssr_aln/rdp_download_51seqs.fa.10 ssr_aln/ssr_aln.10\n",
      "# date:    Mon Feb 26 12:20:08 2018\n",
      "#\n",
      "# Validating input sequence file ... done.\n",
      "#\n",
      "# Stage 1: Determining SSU start/end positions and best-matching models...\n",
      "#\n",
      "# output file name             description                                \n",
      "# ---------------------------  -------------------------------------------\n",
      "  ssr_aln.10.tab               locations/scores of hits defined by HMM(s)\n",
      "  ssr_aln.10.bacteria.hitlist  list of sequences to align with bacteria CM\n",
      "  ssr_aln.10.bacteria.fa             4 sequences to align with bacteria CM\n",
      "#\n",
      "# Stage 2: Aligning each sequence to its best-matching model...\n",
      "#\n",
      "# output file name             description\n",
      "# ---------------------------  ---------------------------------------\n",
      "  ssr_aln.10.bacteria.stk      bacteria alignment\n",
      "  ssr_aln.10.bacteria.cmalign  bacteria cmalign output\n",
      "  ssr_aln.10.bacteria.ifile    bacteria insert info\n",
      "  ssr_aln.10.scores            list of CM/HMM scores for each sequence\n",
      "#\n",
      "# Summary statistics:\n",
      "#\n",
      "# model or       number  fraction        average   average               \n",
      "# category      of seqs  of total         length  coverage    nucleotides\n",
      "# ------------  -------  --------  -------------  --------  -------------\n",
      "  *input*             4    1.0000        1523.50    1.0000           6094\n",
      "#\n",
      "  archaea             0    0.0000              -         -              0\n",
      "  bacteria            4    1.0000        1523.25    0.9998           6093\n",
      "  eukarya             0    0.0000              -         -              0\n",
      "#\n",
      "  *all-models*        4    1.0000        1523.25    0.9998           6093\n",
      "  *no-models*         0    0.0000              -         -              0\n",
      "#\n",
      "# Speed statistics:\n",
      "#\n",
      "# stage      num seqs  seq/sec  seq/sec/model    nucleotides    nt/sec\n",
      "# ---------  --------  -------  -------------  -------------  --------\n",
      "  search            4    1.230          0.410           6094    1874.1\n",
      "  alignment         4    0.720          0.720           6093    1096.4\n",
      "#\n",
      "#\n",
      "# List of executed commands saved in:     ssr_aln.10.ssu-align.log.\n",
      "# Output printed to the screen saved in:  ssr_aln.10.ssu-align.sum.\n",
      "#\n",
      "# All output files created in directory ./ssr_aln/ssr_aln.10/\n",
      "#\n",
      "# CPU time (search):     00:00:03.25  (hh:mm:ss)\n",
      "# CPU time (alignment):  00:00:05.56  (hh:mm:ss)\n",
      "# CPU time (total):      00:00:08.98  (hh:mm:ss)\n",
      "#\n",
      "################################################################################\n",
      "#\n",
      "# Alignments successfully created.\n",
      "#\n",
      "# Checking/waiting for other jobs to finish before merging...\n",
      "#\n",
      "# Job 10 (dir: ssr_aln/ssr_aln.10) completed successfully! 9/10 still incomplete.\n",
      "# Job 1 (dir: ssr_aln/ssr_aln.1) completed successfully! 8/10 still incomplete.\n",
      "# Job 2 (dir: ssr_aln/ssr_aln.2) completed successfully! 7/10 still incomplete.\n",
      "# Job 3 (dir: ssr_aln/ssr_aln.3) completed successfully! 6/10 still incomplete.\n",
      "# Job 4 (dir: ssr_aln/ssr_aln.4) completed successfully! 5/10 still incomplete.\n",
      "# Job 5 (dir: ssr_aln/ssr_aln.5) completed successfully! 4/10 still incomplete.\n",
      "# Job 6 (dir: ssr_aln/ssr_aln.6) completed successfully! 3/10 still incomplete.\n",
      "# Job 7 (dir: ssr_aln/ssr_aln.7) completed successfully! 2/10 still incomplete.\n",
      "# Job 8 (dir: ssr_aln/ssr_aln.8) completed successfully! 1/10 still incomplete.\n",
      "# Job 9 (dir: ssr_aln/ssr_aln.9) completed successfully! 0/10 still incomplete.\n",
      "#\n",
      "# All 10 jobs successfully completed.\n",
      "# About to merge their output:\n",
      "#\n",
      "# Executing:  ssu-merge ssr_aln\n",
      "#\n",
      "################################################################################\n",
      "#\n",
      "# _ssu-merge :: merge SSU rRNA alignments\n",
      "# SSU-ALIGN 0.1.1 (Feb 2016)\n",
      "# Copyright (C) 2016 Howard Hughes Medical Institute\n",
      "# Freely distributed under the BSD open source license.\n",
      "# - - - - - - - - - - - - - - - - - - - - - - - - - - - - - - - - - - - -\n",
      "# command: _ssu-merge ssr_aln\n",
      "# date:    Mon Feb 26 12:20:21 2018\n",
      "#\n",
      "# Merging files from 10 ssu-align runs...\n",
      "#\n",
      "#                                     # files     # seqs\n",
      "# merged file name          CM name    merged     merged\n",
      "# ------------------------  --------  -------  ---------\n",
      "  ssr_aln.tab               -              10          -\n",
      "  ssr_aln.scores            -              10          -\n",
      "  ssr_aln.ssu-align.sum     -              10          -\n",
      "  ssr_aln.ssu-align.log     -              10          -\n",
      "#\n",
      "  ssr_aln.bacteria.fa       bacteria       10         51\n",
      "  ssr_aln.bacteria.hitlist  bacteria       10         51\n",
      "  ssr_aln.bacteria.cmalign  bacteria       10         51\n",
      "  ssr_aln.bacteria.ifile    bacteria       10         51\n",
      "  ssr_aln.bacteria.stk      bacteria       10         51\n",
      "#\n",
      "#\n",
      "# Summary statistics:\n",
      "#\n",
      "# model or       number  fraction        average   average               \n",
      "# category      of seqs  of total         length  coverage    nucleotides\n",
      "# ------------  -------  --------  -------------  --------  -------------\n",
      "  *input*            51    1.0000        1512.80    1.0000          77153\n",
      "#\n",
      "  archaea             0    0.0000              -         -              0\n",
      "  bacteria           51    1.0000        1512.57    0.9998          77141\n",
      "  eukarya             0    0.0000              -         -              0\n",
      "#\n",
      "  *all-models*       51    1.0000        1512.57    0.9998          77141\n",
      "  *no-models*         0    0.0000              -         -              0\n",
      "#\n",
      "# Speed statistics:\n",
      "#\n",
      "# stage      num seqs  seq/sec  seq/sec/model    nucleotides    nt/sec\n",
      "# ---------  --------  -------  -------------  -------------  --------\n",
      "  search           51   51.000         17.000          77153   77153.0\n",
      "  alignment        51   51.000         51.000          77141   77141.0\n",
      "#\n",
      "# Summed ssu-align CPU time (search):     00:00:00.00  (hh:mm:ss)\n",
      "# Summed ssu-align CPU time (alignment):  00:00:00.00  (hh:mm:ss)\n",
      "# Summed ssu-align CPU time (total):      00:00:00.00  (hh:mm:ss)\n",
      "#\n",
      "# Cleaning up by removing original files that were just merged ... done.\n",
      "#\n",
      "# List of executed commands saved in:     ssr_aln.ssu-merge.log.\n",
      "# Output printed to the screen saved in:  ssr_aln.ssu-merge.sum.\n",
      "#\n",
      "# All output files created in directory ./ssr_aln/\n",
      "#\n",
      "# CPU time:  00:00:00.09  (hh:mm:ss)\n",
      "# \n"
     ]
    }
   ],
   "source": [
    "%%bash\n",
    "./ssr_aln.ssu-align.sh"
   ]
  },
  {
   "cell_type": "code",
   "execution_count": 22,
   "metadata": {
    "scrolled": true
   },
   "outputs": [
    {
     "name": "stdout",
     "output_type": "stream",
     "text": [
      "# _ssu-mask :: mask SSU rRNA alignments\n",
      "# SSU-ALIGN 0.1.1 (Feb 2016)\n",
      "# Copyright (C) 2016 Howard Hughes Medical Institute\n",
      "# Freely distributed under the BSD open source license.\n",
      "# - - - - - - - - - - - - - - - - - - - - - - - - - - - - - - - - - - - -\n",
      "# command: _ssu-mask -s ssu_aln/ssu_aln.bacteria.mask --afa --dna ssr_aln/\n",
      "# date:    Mon Feb 26 12:20:42 2018\n",
      "#\n",
      "# Masking alignments using pre-existing masks...\n",
      "#\n",
      "#                                                     mask    \n",
      "#                                                 ------------\n",
      "# file name                  in/out  type  #cols  incl.  excl.\n",
      "# -------------------------  ------  ----  -----  -----  -----\n",
      "  ssr_aln.bacteria.stk        input   aln   1582      -      -\n",
      "  ssu_aln.bacteria.mask       input  mask   1582    251   1331\n",
      "  ssr_aln.bacteria.mask.pdf  output   pdf   1582    251   1331\n",
      "  ssr_aln.bacteria.mask.afa  output   aln    251      -      -\n",
      "#\n",
      "# All attempts to draw structure diagrams of masks were successful.\n",
      "#\n",
      "# List of executed commands saved in:     ssr_aln.ssu-mask.log.\n",
      "# Output printed to the screen saved in:  ssr_aln.ssu-mask.sum.\n",
      "#\n",
      "# All output files created in directory ./ssr_aln/\n",
      "#\n",
      "# CPU time:  00:00:00.54  (hh:mm:ss)\n",
      "# \n"
     ]
    }
   ],
   "source": [
    "!cd $workDir; ssu-mask -s ssu_aln/ssu_aln.bacteria.mask --dna --afa ssr_aln/"
   ]
  },
  {
   "cell_type": "code",
   "execution_count": 23,
   "metadata": {
    "collapsed": true
   },
   "outputs": [],
   "source": [
    "!cd $workDir; cat ssr_aln/ssr_aln.bacteria.mask.afa ssu_aln/ssu_aln.bacteria.mask.afa > aln_for_tree.fasta"
   ]
  },
  {
   "cell_type": "code",
   "execution_count": 24,
   "metadata": {},
   "outputs": [
    {
     "name": "stdout",
     "output_type": "stream",
     "text": [
      ">S002304630 Desulfobacter hydrogenophilus (T); type strain: DSM3380; FR733673\r\n",
      "CACGGGGGGCGCAAGCGTTATTCGGAATTATTGGGCGTAAAGGGCGCGCAGGCGGTCTTG\r\n",
      "TCCGTCAGGTGTGAAAGCTCGGGGCTCAACCCCGGAAGTGCACTTGAAACAGCAAGACTT\r\n",
      "GAATACGGGAGAGGAGAGAGGAATTCCTGGTGTAGAGGTGAAATTCGTAGATATCAGGAG\r\n",
      "GAACACCGATGGCGAAGGCATCTCTCTGGACCGATTGACGCTGAGGCGCGAAGGCGTGGG\r\n",
      "TAGCGAACGGG\r\n",
      ">S002287043 Anaeromyxobacter dehalogenans (T); 2CP1; CP001359\r\n",
      "TACAGAGGGTGCGAGCGTTGTTCGGAATTATTGGGCGTAAAGCGCGTGTAGGCGGCCTAG\r\n",
      "CAAGTCGGATGTGAAAGCCCTCGGCTTAACCGAGGAAGTGCGTTCGAAACTACTGGGCTT\r\n",
      "GAGTACCGGAGAGGGTGGCGGAATTCCCGGTGTAGAGGTGAAATTCGTAGATATCGGGAG\r\n",
      "GAACACCAGTGGCGAAGGCGGCCACCTGGACGGACTGACGCTGAGACGCGAAAGCGTGGG\r\n",
      "TAGCAAACAGG\r\n",
      ">S004068953 Anaeromyxobacter dehalogenans (T); 2CP1; CP001359\r\n",
      "TACAGAGGGTGCGAGCGTTGTTCGGAATTATTGGGCGTAAAGCGCGTGTAGGCGGCCTAG\r\n",
      "CAAGTCGGATGTGAAAGCCCTCGGCTTAACCGAGGAAGTGCGTTCGAAACTACTGGGCTT\r\n",
      "GAGTACCGGAGAGGGTGGCGGAATTCCCGGTGTAGAGGTGAAATTCGTAGATATCGGGAG\r\n",
      "GAACACCAGTGGCGAAGGCGGCCACCTGGACGGACTGACGCTGAGACGCGAAAGCGTGGG\r\n",
      "TAGCAAACAGG\r\n",
      ">S000539285 Melittangium boletus (T); Me b8; AJ233908\r\n",
      "TACAGAGGGTGCAAGCGTTGTTCGGAATTATTGGGCGTAAAGCGCGTGTAGGCGGCTTTG\r\n"
     ]
    }
   ],
   "source": [
    "!head aln_for_tree.fasta -n 20"
   ]
  },
  {
   "cell_type": "markdown",
   "metadata": {},
   "source": [
    "## Inferring and rooting the tree"
   ]
  },
  {
   "cell_type": "code",
   "execution_count": 25,
   "metadata": {
    "collapsed": true
   },
   "outputs": [],
   "source": [
    "aln = LoadSeqs(os.path.join(workDir, 'aln_for_tree.fasta'), moltype=DNA)\n",
    "t_unroot = build_tree_from_alignment(aln, moltype=DNA)"
   ]
  },
  {
   "cell_type": "code",
   "execution_count": 26,
   "metadata": {
    "collapsed": true
   },
   "outputs": [],
   "source": [
    "outgroup = 'S002304630 Desulfobacter hydrogenophilus (T); type strain: DSM3380; FR733673'"
   ]
  },
  {
   "cell_type": "code",
   "execution_count": 27,
   "metadata": {},
   "outputs": [],
   "source": [
    "t_rooted = t_unroot.rootedWithTip(outgroup)"
   ]
  },
  {
   "cell_type": "code",
   "execution_count": 28,
   "metadata": {
    "collapsed": true
   },
   "outputs": [],
   "source": [
    "t_rooted.writeToFile(os.path.join(workDir, 'MyxOTUs_wTypeStrains.tree'))"
   ]
  },
  {
   "cell_type": "code",
   "execution_count": null,
   "metadata": {
    "collapsed": true
   },
   "outputs": [],
   "source": []
  }
 ],
 "metadata": {
  "kernelspec": {
   "display_name": "Python 2",
   "language": "python",
   "name": "python2"
  },
  "language_info": {
   "codemirror_mode": {
    "name": "ipython",
    "version": 2
   },
   "file_extension": ".py",
   "mimetype": "text/x-python",
   "name": "python",
   "nbconvert_exporter": "python",
   "pygments_lexer": "ipython2",
   "version": "2.7.14"
  }
 },
 "nbformat": 4,
 "nbformat_minor": 2
}
