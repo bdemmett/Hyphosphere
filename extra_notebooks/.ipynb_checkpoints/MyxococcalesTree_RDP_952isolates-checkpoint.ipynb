{
 "cells": [
  {
   "cell_type": "markdown",
   "metadata": {},
   "source": [
    "# Myxococcales type strain tree\n",
    "* Align hyphal enriched Myxococcales OTUs from sequencing run with type strains from RDP \n",
    "* Full length sequences of 52 Myxococcales isolates downloaded from RDP\n",
    "* Desulfobacteria used as outgroup\n"
   ]
  },
  {
   "cell_type": "code",
   "execution_count": 1,
   "metadata": {
    "collapsed": true
   },
   "outputs": [],
   "source": [
    "workDir = '/home/be68/Hyphosphere/data/Myxococcales/952isolateTree/'\n",
    "#OTUFileDir = '/home/be68/Hyphosphere/data/Myxococcales/'\n",
    "OTUFile = '952isolateTree.fa'\n",
    "HyphalOTUFile = '/home/be68/Hyphosphere/data/Myxococcales/HyphalMyxo.fa'\n",
    "\n",
    "\n",
    "nprocs = 3"
   ]
  },
  {
   "cell_type": "code",
   "execution_count": 22,
   "metadata": {
    "collapsed": true
   },
   "outputs": [],
   "source": [
    "import os, re\n",
    "import numpy as np\n",
    "#import entrez.direct\n",
    "from cogent.app.fasttree import build_tree_from_alignment\n",
    "from cogent import DNA, LoadSeqs\n",
    "from Bio import Entrez\n",
    "Entrez.email = \"be68@cornell.edu\""
   ]
  },
  {
   "cell_type": "code",
   "execution_count": 30,
   "metadata": {
    "collapsed": true
   },
   "outputs": [],
   "source": [
    "if not os.path.isdir(workDir):\n",
    "    os.mkdir(workDir)"
   ]
  },
  {
   "cell_type": "code",
   "execution_count": 31,
   "metadata": {
    "collapsed": true
   },
   "outputs": [],
   "source": [
    "os.chdir(workDir)"
   ]
  },
  {
   "cell_type": "code",
   "execution_count": 11,
   "metadata": {
    "collapsed": true
   },
   "outputs": [],
   "source": [
    "# sso_acc = \"KJ475674\"\n",
    "# sso_fa = Entrez.efetch(db=\"nucleotide\", id=sso_acc, rettype=\"fasta\", retmode=\"text\").readlines()"
   ]
  },
  {
   "cell_type": "code",
   "execution_count": 32,
   "metadata": {},
   "outputs": [
    {
     "name": "stdout",
     "output_type": "stream",
     "text": [
      ">S002304630 Desulfobacter hydrogenophilus (T); type strain: DSM3380; FR733673\n",
      "----------GTTTGGACCTGGCTCAGAATGAACGCTGGCG-GCGTGCTTAACACATGCAAGTCGAACGagaaaaggatt\n",
      "gcttgcaatcctgagtagAGTGGCGCACGG-GTG-AGTAACACGTAGATAATCTGCCTT--CAAACC-TGGAATAACTAT\n",
      "TCGAAAGGGTAGCTAATACCGGATAAA-GTCGA--TTTACAYAAGTGGA-TTGAT-GAAAGAttgcctcttcttgaaagc\n",
      "aa-TTGTTTGGGGATGAGTCTGCG--GACCATT-A-GCTTGTTGGTGGGGTAAAGGCCTACCAAGGCAGCGATGGTTAGC\n",
      "TGGTCTGAGAGGATGATCAGC-CACACTGGAACTGGAACACGGTCCAGACTCCTACGGGAGGCAGCAGTGAGGAATTTTG\n",
      "CGCAATGGGGGCAACCCTGACGCAGCAACGCCGCGTGAGTGAAGAAGGCCTTTGGGTCGTAAAGCTCTGTCAACTGGGAA\n",
      "GAaattagcttctattaatagtagttgctatTGACGGTACCAGTGGAGGAAGCGCCGGCTAACTCCGTGCCAGCAGCCGC\n",
      "GGTAACACGGGGGGCGCAAGCGTTATTCGGAATTATTGGGCGTAAAGGGCGCGCAGGCGGTCTTGTCCGTCAGGTGTGAA\n",
      "AGCTCGGGGCTCAACCCCGGAAGTGCACTTGAAACAGCAAGACTTGAATACGGGAGAGGAGAGAGGAATTCCTGGTGTAG\n",
      "AGGTGAAATTCGTAGATATCAGGAGGAACACCG-ATGGCGAA-GGCATCTCTCTGGACCGATATTGACGCTGAGGCGCGA\n",
      "AGGCGTGGGTAGCGAACGGGATTAGATACCCCGGTAGTCCACGCAGTAAACGTTGTACACTCGGTGTGGCGGatattaaa\n",
      "atCTGCTGTGCCTAAGCTAACGCATTAAGTGTACCGCCTGGGAAGTACGGTCGCAAGACTAAAACTCAAAGGAATTGACG\n",
      "GGGGCCCGCACAAGCGGTGGAGCATGTGGTTTAATTCGACGCAACGCGAAGAACCTTACCTGGGTTTGACATCCTGTGAA\n",
      "TATTGTGTAATTGCAATAgtgccttcgggag--CACAGAGACAGGTGCTGCATGGCTGTCGTCAGCTCGTGTCGTGAGAT\n",
      ">Otu10\n",
      "TACGAAGGGTGCAAACGTTGCTCGGAATCATTGGGCGTAAAGCGCACGTAGGCGGCTTTGCAAGTCGGATGTGAAATCCCGTGGCTCAACCATGGACGTGCATTCGAAACTGCAAAGCTTGAGTATGGAAGAGGGTCGCGGAATTCCCGGTGTAGAGGTGAAATTCGTAGATATCGGGAGGAACACCAGTGGCGAAGGCGGCGACCTGGGCCAATACTGACGCTGAGGTGCGAAAGCGTGGGGAGCAAACAGG\n",
      ">Otu52\n",
      "GACAGAGGGTGCAAACGTTGTTCGGAATTACTGGGCGTAAAGCGCGTGTAGGCGGCCCTGCAAGTCGGATGTGAAATCCCACGGCTCAACCATGGAAGTGCATTCGAAACTGCAGAGCTAGAGTCCTGGAGAGGAAGGTGGAATGCTTGGTGTAGAGGTGAAATTCGTAGATATCAAGCGGAACACCGGTGGCGAAGGCGGCCTTCTGGACAGTGACTGACGCTGAGACGCGAAAGCGTGGGGAGCAAACAGG\n",
      ">Otu126\n",
      "TACAGAGGGTGCAAACGTTGCTCGGAATCATTGGGCGTAAAGCGCACGTAGGCGGTCCGACAAGTGGGGAGTGAAAGCCCTCGGCTTAACCGAGGAAGTGCTTTCCAAACTGCCGGACTTGAGTACGCAAGAGGATCGCGGAATTCCCGGTGTAGAGGTGAAATTCGTAGATATCGGGAGGAACACCAGCGGCGAAGGCGGCGATCTGGGGCGATACTGACGCTGAGGTGCGAAAGCGTGGGGAGCAAACAGG\n",
      ">Otu129\n",
      "TACAGAGGGTGCAAACGTTGCTCGGAATCATTGGGCGTAAAGCGCACGTAGGCGGCCCAGCAAGTGGGGAGTGAAAGCCCTCGGCTTAACCGAGGAAGTGCTTTCCAAACTACTGGGCTTGAATACTGGAGAGGGTCGCGGAATTCCCGGTGTAGAGGTGAAATTCGTAGATATCGGGAGGAACACCAGTGGCGAAGGCGGCGACCTGGACAGATATTGACGCTGAGGTGCGAAAGCGTGGGGAGCAAACAGG\n"
     ]
    }
   ],
   "source": [
    "%%bash -s \"$OTUFile\" \"$HyphalOTUFile\"\n",
    "head $1 -n 15\n",
    "head $2 -n 8\n"
   ]
  },
  {
   "cell_type": "code",
   "execution_count": 13,
   "metadata": {
    "collapsed": true
   },
   "outputs": [],
   "source": [
    "# %%bash -s \"$OTUFile\" \"$HyphalOTUFile\"\n",
    "# cat $1 $2 > \"SeqFile.fa\""
   ]
  },
  {
   "cell_type": "code",
   "execution_count": 24,
   "metadata": {
    "collapsed": true
   },
   "outputs": [],
   "source": [
    "## attempt to remove gaps in python, easier to do in nano.\n",
    "# handle = open(\"SeqFile.fa\")\n",
    "# #counter = 0\n",
    "# for line in handle:\n",
    "#     if line.startswith(\">\"):\n",
    "#         #counter = counter + 1\n",
    "#         continue\n",
    "#     line = re.sub('-','',line)   \n",
    "#     print(line)\n",
    "        "
   ]
  },
  {
   "cell_type": "markdown",
   "metadata": {},
   "source": [
    "## Using SSU-Align to seqs from hyphal samples and mask based on alignment posterior probabilities."
   ]
  },
  {
   "cell_type": "markdown",
   "metadata": {},
   "source": [
    "### Align hyphal OTUs"
   ]
  },
  {
   "cell_type": "code",
   "execution_count": 34,
   "metadata": {},
   "outputs": [
    {
     "name": "stdout",
     "output_type": "stream",
     "text": [
      "# _ssu-prep :: prepare SSU rRNA sequences for parallel ssu-align jobs\n",
      "# SSU-ALIGN 0.1.1 (Feb 2016)\n",
      "# Copyright (C) 2016 Howard Hughes Medical Institute\n",
      "# Freely distributed under the BSD open source license.\n",
      "# - - - - - - - - - - - - - - - - - - - - - - - - - - - - - - - - - - - -\n",
      "# command: _ssu-prep -x -f -b 50 --dna --rfonly /home/be68/Hyphosphere/data/Myxococcales/HyphalMyxo.fa ssu_aln 1\n",
      "# date:    Wed Feb 21 14:21:00 2018\n",
      "#\n",
      "# Validating input sequence file ... done.\n",
      "#\n",
      "# Preparing 1 ssu-align jobs ...\n",
      "# Partitioning seqs with goal of equalizing total number of nucleotides per job ...\n",
      "#\n",
      "# output file name      description                                       \n",
      "# --------------------  --------------------------------------------------\n",
      "  ssu_aln/HyphalMyxo.fa.1  partition 1 FASTA sequence file (19 seqs; 4807 nt)\n",
      "  ssu_aln.ssu-align.sh  shell script that will execute 1 ssu-align jobs\n",
      "#\n",
      "################################################################################\n",
      "# To execute all 1 ssu-align jobs, run the shell script with the command:\n",
      "#\t\"ssu_aln.ssu-align.sh\"\n",
      "# (it is an executable file)\n",
      "################################################################################\n",
      "#\n",
      "# The final job will merge the output from all jobs once they are all finished.\n",
      "#\n",
      "# If one or more jobs fail: rerun the failed jobs, wait for them to finish,\n",
      "# and then perform manual merge from this directory by executing:\n",
      "#\tssu-merge ssu_aln\n",
      "#\n",
      "# List of executed commands saved in:     ssu_aln/ssu_aln.ssu-prep.log.\n",
      "# Output printed to the screen saved in:  ssu_aln/ssu_aln.ssu-prep.sum.\n",
      "#\n",
      "# CPU time:  00:00:00.13  (hh:mm:ss)\n",
      "# \n"
     ]
    }
   ],
   "source": [
    "%%bash -s \"$HyphalOTUFile\"\n",
    "ssu-prep -f -x -b 50 --rfonly --dna $1 ssu_aln 1"
   ]
  },
  {
   "cell_type": "code",
   "execution_count": 35,
   "metadata": {
    "scrolled": false
   },
   "outputs": [
    {
     "name": "stdout",
     "output_type": "stream",
     "text": [
      "# Executing: ssu-align --merge 1 -b 50 --dna --rfonly ssu_aln/HyphalMyxo.fa.1 ssu_aln/ssu_aln.1\n",
      "# _ssu-align :: align SSU rRNA sequences\n",
      "# SSU-ALIGN 0.1.1 (Feb 2016)\n",
      "# Copyright (C) 2016 Howard Hughes Medical Institute\n",
      "# Freely distributed under the BSD open source license.\n",
      "# - - - - - - - - - - - - - - - - - - - - - - - - - - - - - - - - - - - -\n",
      "# command: _ssu-align --merge 1 -b 50 --dna --rfonly ssu_aln/HyphalMyxo.fa.1 ssu_aln/ssu_aln.1\n",
      "# date:    Wed Feb 21 14:21:21 2018\n",
      "#\n",
      "# Validating input sequence file ... done.\n",
      "#\n",
      "# Stage 1: Determining SSU start/end positions and best-matching models...\n",
      "#\n",
      "# output file name            description                                \n",
      "# --------------------------  -------------------------------------------\n",
      "  ssu_aln.1.tab               locations/scores of hits defined by HMM(s)\n",
      "  ssu_aln.1.bacteria.hitlist  list of sequences to align with bacteria CM\n",
      "  ssu_aln.1.bacteria.fa            19 sequences to align with bacteria CM\n",
      "#\n",
      "# Stage 2: Aligning each sequence to its best-matching model...\n",
      "#\n",
      "# output file name            description\n",
      "# --------------------------  ---------------------------------------\n",
      "  ssu_aln.1.bacteria.stk      bacteria alignment\n",
      "  ssu_aln.1.bacteria.cmalign  bacteria cmalign output\n",
      "  ssu_aln.1.bacteria.ifile    bacteria insert info\n",
      "  ssu_aln.1.scores            list of CM/HMM scores for each sequence\n",
      "#\n",
      "# Summary statistics:\n",
      "#\n",
      "# model or       number  fraction        average   average               \n",
      "# category      of seqs  of total         length  coverage    nucleotides\n",
      "# ------------  -------  --------  -------------  --------  -------------\n",
      "  *input*            19    1.0000         253.00    1.0000           4807\n",
      "#\n",
      "  archaea             0    0.0000              -         -              0\n",
      "  bacteria           19    1.0000         252.74    0.9990           4802\n",
      "  eukarya             0    0.0000              -         -              0\n",
      "#\n",
      "  *all-models*       19    1.0000         252.74    0.9990           4802\n",
      "  *no-models*         0    0.0000              -         -              0\n",
      "#\n",
      "# Speed statistics:\n",
      "#\n",
      "# stage      num seqs  seq/sec  seq/sec/model    nucleotides    nt/sec\n",
      "# ---------  --------  -------  -------------  -------------  --------\n",
      "  search           19    9.264          3.088           4807    2343.8\n",
      "  alignment        19    7.632          7.632           4802    1928.8\n",
      "#\n",
      "#\n",
      "# List of executed commands saved in:     ssu_aln.1.ssu-align.log.\n",
      "# Output printed to the screen saved in:  ssu_aln.1.ssu-align.sum.\n",
      "#\n",
      "# All output files created in directory ./ssu_aln/ssu_aln.1/\n",
      "#\n",
      "# CPU time (search):     00:00:02.05  (hh:mm:ss)\n",
      "# CPU time (alignment):  00:00:02.49  (hh:mm:ss)\n",
      "# CPU time (total):      00:00:04.70  (hh:mm:ss)\n",
      "#\n",
      "################################################################################\n",
      "#\n",
      "# Alignments successfully created.\n",
      "#\n",
      "# Checking/waiting for other jobs to finish before merging...\n",
      "#\n",
      "# Job 1 (dir: ssu_aln/ssu_aln.1) completed successfully! 0/1 still incomplete.\n",
      "#\n",
      "# All 1 jobs successfully completed.\n",
      "# About to merge their output:\n",
      "#\n",
      "# Executing:  ssu-merge ssu_aln\n",
      "#\n",
      "################################################################################\n",
      "#\n",
      "# _ssu-merge :: merge SSU rRNA alignments\n",
      "# SSU-ALIGN 0.1.1 (Feb 2016)\n",
      "# Copyright (C) 2016 Howard Hughes Medical Institute\n",
      "# Freely distributed under the BSD open source license.\n",
      "# - - - - - - - - - - - - - - - - - - - - - - - - - - - - - - - - - - - -\n",
      "# command: _ssu-merge ssu_aln\n",
      "# date:    Wed Feb 21 14:21:26 2018\n",
      "#\n",
      "# Merging files from 1 ssu-align runs...\n",
      "#\n",
      "#                                     # files     # seqs\n",
      "# merged file name          CM name    merged     merged\n",
      "# ------------------------  --------  -------  ---------\n",
      "  ssu_aln.tab               -               1          -\n",
      "  ssu_aln.scores            -               1          -\n",
      "  ssu_aln.ssu-align.sum     -               1          -\n",
      "  ssu_aln.ssu-align.log     -               1          -\n",
      "#\n",
      "  ssu_aln.bacteria.fa       bacteria        1         19\n",
      "  ssu_aln.bacteria.hitlist  bacteria        1         19\n",
      "  ssu_aln.bacteria.cmalign  bacteria        1         19\n",
      "  ssu_aln.bacteria.ifile    bacteria        1         19\n",
      "  ssu_aln.bacteria.stk      bacteria        1         19\n",
      "#\n",
      "#\n",
      "# Summary statistics:\n",
      "#\n",
      "# model or       number  fraction        average   average               \n",
      "# category      of seqs  of total         length  coverage    nucleotides\n",
      "# ------------  -------  --------  -------------  --------  -------------\n",
      "  *input*            19    1.0000         253.00    1.0000           4807\n",
      "#\n",
      "  archaea             0    0.0000              -         -              0\n",
      "  bacteria           19    1.0000         252.74    0.9990           4802\n",
      "  eukarya             0    0.0000              -         -              0\n",
      "#\n",
      "  *all-models*       19    1.0000         252.74    0.9990           4802\n",
      "  *no-models*         0    0.0000              -         -              0\n",
      "#\n",
      "# Speed statistics:\n",
      "#\n",
      "# stage      num seqs  seq/sec  seq/sec/model    nucleotides    nt/sec\n",
      "# ---------  --------  -------  -------------  -------------  --------\n",
      "  search           19   19.000          6.333           4807    4807.0\n",
      "  alignment        19   19.000         19.000           4802    4802.0\n",
      "#\n",
      "# Summed ssu-align CPU time (search):     00:00:00.00  (hh:mm:ss)\n",
      "# Summed ssu-align CPU time (alignment):  00:00:00.00  (hh:mm:ss)\n",
      "# Summed ssu-align CPU time (total):      00:00:00.00  (hh:mm:ss)\n",
      "#\n",
      "# Cleaning up by removing original files that were just merged ... done.\n",
      "#\n",
      "# List of executed commands saved in:     ssu_aln.ssu-merge.log.\n",
      "# Output printed to the screen saved in:  ssu_aln.ssu-merge.sum.\n",
      "#\n",
      "# All output files created in directory ./ssu_aln/\n",
      "#\n",
      "# CPU time:  00:00:00.06  (hh:mm:ss)\n",
      "# \n"
     ]
    }
   ],
   "source": [
    "%%bash\n",
    "./ssu_aln.ssu-align.sh"
   ]
  },
  {
   "cell_type": "code",
   "execution_count": 53,
   "metadata": {},
   "outputs": [
    {
     "name": "stdout",
     "output_type": "stream",
     "text": [
      "# _ssu-mask :: mask SSU rRNA alignments\n",
      "# SSU-ALIGN 0.1.1 (Feb 2016)\n",
      "# Copyright (C) 2016 Howard Hughes Medical Institute\n",
      "# Freely distributed under the BSD open source license.\n",
      "# - - - - - - - - - - - - - - - - - - - - - - - - - - - - - - - - - - - -\n",
      "# command: _ssu-mask --afa --dna ssu_aln\n",
      "# date:    Wed Feb 21 15:32:33 2018\n",
      "#\n",
      "# Masking alignments based on posterior probabilities...\n",
      "#\n",
      "#                                                     mask    \n",
      "#                                                 ------------\n",
      "# file name                  in/out  type  #cols  incl.  excl.\n",
      "# -------------------------  ------  ----  -----  -----  -----\n",
      "  ssu_aln.bacteria.stk        input   aln   1582      -      -\n",
      "  ssu_aln.bacteria.mask      output  mask   1582    251   1331\n",
      "  ssu_aln.bacteria.mask.pdf  output   pdf   1582    251   1331\n",
      "  ssu_aln.bacteria.mask.afa  output   aln    251      -      -\n",
      "#\n",
      "# All attempts to draw structure diagrams of masks were successful.\n",
      "#\n",
      "# List of executed commands saved in:     ssu_aln.ssu-mask.log.\n",
      "# Output printed to the screen saved in:  ssu_aln.ssu-mask.sum.\n",
      "#\n",
      "# All output files created in directory ./ssu_aln/\n",
      "#\n",
      "# CPU time:  00:00:00.54  (hh:mm:ss)\n",
      "# \n"
     ]
    }
   ],
   "source": [
    "!cd $workDir; ssu-mask --dna --afa ssu_aln"
   ]
  },
  {
   "cell_type": "markdown",
   "metadata": {},
   "source": [
    "### align RDP sequences"
   ]
  },
  {
   "cell_type": "code",
   "execution_count": 49,
   "metadata": {
    "scrolled": true
   },
   "outputs": [
    {
     "name": "stdout",
     "output_type": "stream",
     "text": [
      "# _ssu-align :: align SSU rRNA sequences\n",
      "# SSU-ALIGN 0.1.1 (Feb 2016)\n",
      "# Copyright (C) 2016 Howard Hughes Medical Institute\n",
      "# Freely distributed under the BSD open source license.\n",
      "# - - - - - - - - - - - - - - - - - - - - - - - - - - - - - - - - - - - -\n",
      "# command: _ssu-align -f -n bacteria --dna --rfonly rdp_download_51seqs.fa ssr_aln\n",
      "# date:    Wed Feb 21 15:11:47 2018\n",
      "#\n",
      "# Validating input sequence file ... done.\n",
      "#\n",
      "# Stage 1: Determining SSU start/end positions and best-matching models...\n",
      "#\n",
      "# output file name          description                                \n",
      "# ------------------------  -------------------------------------------\n",
      "  ssr_aln.tab               locations/scores of hits defined by HMM(s)\n",
      "  ssr_aln.bacteria.hitlist  list of sequences to align with bacteria CM\n",
      "  ssr_aln.bacteria.fa            51 sequences to align with bacteria CM\n",
      "#\n",
      "# Stage 2: Aligning each sequence to its best-matching model...\n",
      "#\n",
      "# output file name          description\n",
      "# ------------------------  ---------------------------------------\n",
      "  ssr_aln.bacteria.stk      bacteria alignment\n",
      "  ssr_aln.bacteria.cmalign  bacteria cmalign output\n",
      "  ssr_aln.bacteria.ifile    bacteria insert info\n",
      "  ssr_aln.scores            list of CM/HMM scores for each sequence\n",
      "#\n",
      "# Summary statistics:\n",
      "#\n",
      "# model or       number  fraction        average   average               \n",
      "# category      of seqs  of total         length  coverage    nucleotides\n",
      "# ------------  -------  --------  -------------  --------  -------------\n",
      "  *input*            51    1.0000        1512.80    1.0000          77153\n",
      "#\n",
      "  bacteria           51    1.0000        1512.57    0.9998          77141\n",
      "#\n",
      "  *all-models*       51    1.0000        1512.57    0.9998          77141\n",
      "  *no-models*         0    0.0000              -         -              0\n",
      "#\n",
      "# Speed statistics:\n",
      "#\n",
      "# stage      num seqs  seq/sec  seq/sec/model    nucleotides    nt/sec\n",
      "# ---------  --------  -------  -------------  -------------  --------\n",
      "  search           51    4.461          4.461          77153    6749.3\n",
      "  alignment        51    0.869          0.869          77141    1314.6\n",
      "#\n",
      "#\n",
      "# List of executed commands saved in:     ssr_aln.ssu-align.log.\n",
      "# Output printed to the screen saved in:  ssr_aln.ssu-align.sum.\n",
      "#\n",
      "# All output files created in directory ./ssr_aln/\n",
      "#\n",
      "# CPU time (search):     00:00:11.43  (hh:mm:ss)\n",
      "# CPU time (alignment):  00:00:58.68  (hh:mm:ss)\n",
      "# CPU time (total):      00:01:10.21  (hh:mm:ss)\n",
      "#\n"
     ]
    }
   ],
   "source": [
    "!cd $workDir; ssu-align -f -n bacteria --dna --rfonly rdp_download_51seqs.fa ssr_aln"
   ]
  },
  {
   "cell_type": "code",
   "execution_count": 54,
   "metadata": {
    "scrolled": true
   },
   "outputs": [
    {
     "name": "stdout",
     "output_type": "stream",
     "text": [
      "# _ssu-mask :: mask SSU rRNA alignments\n",
      "# SSU-ALIGN 0.1.1 (Feb 2016)\n",
      "# Copyright (C) 2016 Howard Hughes Medical Institute\n",
      "# Freely distributed under the BSD open source license.\n",
      "# - - - - - - - - - - - - - - - - - - - - - - - - - - - - - - - - - - - -\n",
      "# command: _ssu-mask -s ssu_aln/ssu_aln.bacteria.mask --afa --dna ssr_aln/\n",
      "# date:    Wed Feb 21 15:33:07 2018\n",
      "#\n",
      "# Masking alignments using pre-existing masks...\n",
      "#\n",
      "#                                                     mask    \n",
      "#                                                 ------------\n",
      "# file name                  in/out  type  #cols  incl.  excl.\n",
      "# -------------------------  ------  ----  -----  -----  -----\n",
      "  ssr_aln.bacteria.stk        input   aln   1582      -      -\n",
      "  ssu_aln.bacteria.mask       input  mask   1582    251   1331\n",
      "  ssr_aln.bacteria.mask.pdf  output   pdf   1582    251   1331\n",
      "  ssr_aln.bacteria.mask.afa  output   aln    251      -      -\n",
      "#\n",
      "# All attempts to draw structure diagrams of masks were successful.\n",
      "#\n",
      "# List of executed commands saved in:     ssr_aln.ssu-mask.log.\n",
      "# Output printed to the screen saved in:  ssr_aln.ssu-mask.sum.\n",
      "#\n",
      "# All output files created in directory ./ssr_aln/\n",
      "#\n",
      "# CPU time:  00:00:00.54  (hh:mm:ss)\n",
      "# \n"
     ]
    }
   ],
   "source": [
    "!cd $workDir; ssu-mask -s ssu_aln/ssu_aln.bacteria.mask --dna --afa ssr_aln/"
   ]
  },
  {
   "cell_type": "code",
   "execution_count": 55,
   "metadata": {
    "collapsed": true
   },
   "outputs": [],
   "source": [
    "!cd $workDir; cat ssr_aln/ssr_aln.bacteria.mask.afa ssu_aln/ssu_aln.bacteria.mask.afa > aln_for_tree.fasta"
   ]
  },
  {
   "cell_type": "code",
   "execution_count": 59,
   "metadata": {},
   "outputs": [
    {
     "name": "stdout",
     "output_type": "stream",
     "text": [
      ">S002304630 Desulfobacter hydrogenophilus (T); type strain: DSM3380; FR733673\r\n",
      "CACGGGGGGCGCAAGCGTTATTCGGAATTATTGGGCGTAAAGGGCGCGCAGGCGGTCTTG\r\n",
      "TCCGTCAGGTGTGAAAGCTCGGGGCTCAACCCCGGAAGTGCACTTGAAACAGCAAGACTT\r\n",
      "GAATACGGGAGAGGAGAGAGGAATTCCTGGTGTAGAGGTGAAATTCGTAGATATCAGGAG\r\n",
      "GAACACCGATGGCGAAGGCATCTCTCTGGACCGATTGACGCTGAGGCGCGAAGGCGTGGG\r\n",
      "TAGCGAACGGG\r\n",
      ">S002287043 Anaeromyxobacter dehalogenans (T); 2CP1; CP001359\r\n",
      "TACAGAGGGTGCGAGCGTTGTTCGGAATTATTGGGCGTAAAGCGCGTGTAGGCGGCCTAG\r\n",
      "CAAGTCGGATGTGAAAGCCCTCGGCTTAACCGAGGAAGTGCGTTCGAAACTACTGGGCTT\r\n",
      "GAGTACCGGAGAGGGTGGCGGAATTCCCGGTGTAGAGGTGAAATTCGTAGATATCGGGAG\r\n",
      "GAACACCAGTGGCGAAGGCGGCCACCTGGACGGACTGACGCTGAGACGCGAAAGCGTGGG\r\n",
      "TAGCAAACAGG\r\n",
      ">S004068953 Anaeromyxobacter dehalogenans (T); 2CP1; CP001359\r\n",
      "TACAGAGGGTGCGAGCGTTGTTCGGAATTATTGGGCGTAAAGCGCGTGTAGGCGGCCTAG\r\n",
      "CAAGTCGGATGTGAAAGCCCTCGGCTTAACCGAGGAAGTGCGTTCGAAACTACTGGGCTT\r\n",
      "GAGTACCGGAGAGGGTGGCGGAATTCCCGGTGTAGAGGTGAAATTCGTAGATATCGGGAG\r\n",
      "GAACACCAGTGGCGAAGGCGGCCACCTGGACGGACTGACGCTGAGACGCGAAAGCGTGGG\r\n",
      "TAGCAAACAGG\r\n",
      ">S000539285 Melittangium boletus (T); Me b8; AJ233908\r\n",
      "TACAGAGGGTGCAAGCGTTGTTCGGAATTATTGGGCGTAAAGCGCGTGTAGGCGGCTTTG\r\n"
     ]
    }
   ],
   "source": [
    "!head aln_for_tree.fasta -n 20"
   ]
  },
  {
   "cell_type": "markdown",
   "metadata": {},
   "source": [
    "## Inferring and rooting the tree"
   ]
  },
  {
   "cell_type": "code",
   "execution_count": 60,
   "metadata": {
    "collapsed": true
   },
   "outputs": [],
   "source": [
    "aln = LoadSeqs(os.path.join(workDir, 'aln_for_tree.fasta'), moltype=DNA)\n",
    "t_unroot = build_tree_from_alignment(aln, moltype=DNA)"
   ]
  },
  {
   "cell_type": "code",
   "execution_count": 62,
   "metadata": {
    "collapsed": true
   },
   "outputs": [],
   "source": [
    "outgroup = 'S002304630 Desulfobacter hydrogenophilus (T); type strain: DSM3380; FR733673'"
   ]
  },
  {
   "cell_type": "code",
   "execution_count": 63,
   "metadata": {
    "collapsed": true
   },
   "outputs": [],
   "source": [
    "t_rooted = t_unroot.rootedWithTip(outgroup)"
   ]
  },
  {
   "cell_type": "code",
   "execution_count": 64,
   "metadata": {
    "collapsed": true
   },
   "outputs": [],
   "source": [
    "t_rooted.writeToFile(os.path.join(workDir, 'TypeStrain.tree'))"
   ]
  },
  {
   "cell_type": "code",
   "execution_count": null,
   "metadata": {
    "collapsed": true
   },
   "outputs": [],
   "source": []
  }
 ],
 "metadata": {
  "kernelspec": {
   "display_name": "Python 2",
   "language": "python",
   "name": "python2"
  },
  "language_info": {
   "codemirror_mode": {
    "name": "ipython",
    "version": 2
   },
   "file_extension": ".py",
   "mimetype": "text/x-python",
   "name": "python",
   "nbconvert_exporter": "python",
   "pygments_lexer": "ipython2",
   "version": "2.7.14"
  }
 },
 "nbformat": 4,
 "nbformat_minor": 2
}
