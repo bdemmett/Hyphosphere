{
 "cells": [
  {
   "cell_type": "markdown",
   "metadata": {},
   "source": [
    "# Burkholderials OTUs and rdp type strain isolate tree\n",
    "* Align all Hyphal OTUs and Oxalobacteriaceae and Comamonadaceae type strains from RDP \n",
    "* Burkholderia denitrificans as an out group\n",
    "* !need to add working directory, currently doing work in the notebooks directory\n"
   ]
  },
  {
   "cell_type": "code",
   "execution_count": 11,
   "metadata": {},
   "outputs": [],
   "source": [
    "import sys, os, re, glob\n",
    "from Bio import SeqIO, Entrez\n",
    "from pandas import *\n",
    "import numpy as np\n",
    "#import entrez.direct\n",
    "from cogent.app.fasttree import build_tree_from_alignment\n",
    "from cogent import DNA, LoadSeqs\n",
    "\n",
    "Entrez.email = \"be68@cornell.edu\"\n",
    "nprocs = 3"
   ]
  },
  {
   "cell_type": "code",
   "execution_count": 16,
   "metadata": {
    "collapsed": true
   },
   "outputs": [],
   "source": [
    "FastaSource = '/home/be68/Hyphosphere/data/MiSeq/20180129/20180130.v2.otus.fa'\n",
    "OTUlist = '/home/be68/Hyphosphere/data/HyphalOTUs.txt'\n",
    "Group = 'o_Burkholderiales'\n",
    "\n",
    "RDPfile = '/home/be68/Hyphosphere/data/Burkholderiales/Burkholderiales_rdp_download_205seqs.fa'\n"
   ]
  },
  {
   "cell_type": "code",
   "execution_count": 3,
   "metadata": {},
   "outputs": [
    {
     "data": {
      "text/html": [
       "<div>\n",
       "<style scoped>\n",
       "    .dataframe tbody tr th:only-of-type {\n",
       "        vertical-align: middle;\n",
       "    }\n",
       "\n",
       "    .dataframe tbody tr th {\n",
       "        vertical-align: top;\n",
       "    }\n",
       "\n",
       "    .dataframe thead th {\n",
       "        text-align: right;\n",
       "    }\n",
       "</style>\n",
       "<table border=\"1\" class=\"dataframe\">\n",
       "  <thead>\n",
       "    <tr style=\"text-align: right;\">\n",
       "      <th></th>\n",
       "      <th>OTU</th>\n",
       "      <th>Phylum</th>\n",
       "      <th>Class</th>\n",
       "      <th>Order</th>\n",
       "      <th>Family</th>\n",
       "      <th>Genus</th>\n",
       "      <th>Species</th>\n",
       "      <th>Florence</th>\n",
       "      <th>N7</th>\n",
       "      <th>Pendelton</th>\n",
       "    </tr>\n",
       "  </thead>\n",
       "  <tbody>\n",
       "    <tr>\n",
       "      <th>1</th>\n",
       "      <td>Otu380</td>\n",
       "      <td>p_Acidobacteria</td>\n",
       "      <td>c_Acidobacteria_Gp1</td>\n",
       "      <td>g_Gp1</td>\n",
       "      <td>uncl_g_Gp1</td>\n",
       "      <td>uncl_g_Gp1</td>\n",
       "      <td>uncl_g_Gp1</td>\n",
       "      <td>2.704108</td>\n",
       "      <td>NaN</td>\n",
       "      <td>NaN</td>\n",
       "    </tr>\n",
       "    <tr>\n",
       "      <th>2</th>\n",
       "      <td>Otu2910</td>\n",
       "      <td>p_Acidobacteria</td>\n",
       "      <td>c_Acidobacteria_Gp10</td>\n",
       "      <td>uncl_c_Acidobacteria_Gp10</td>\n",
       "      <td>uncl_c_Acidobacteria_Gp10</td>\n",
       "      <td>g_Gp10</td>\n",
       "      <td>uncl_g_Gp10</td>\n",
       "      <td>5.435838</td>\n",
       "      <td>NaN</td>\n",
       "      <td>NaN</td>\n",
       "    </tr>\n",
       "    <tr>\n",
       "      <th>3</th>\n",
       "      <td>Otu754</td>\n",
       "      <td>p_Acidobacteria</td>\n",
       "      <td>c_Acidobacteria_Gp10</td>\n",
       "      <td>uncl_c_Acidobacteria_Gp10</td>\n",
       "      <td>uncl_c_Acidobacteria_Gp10</td>\n",
       "      <td>g_Gp10</td>\n",
       "      <td>uncl_g_Gp10</td>\n",
       "      <td>NaN</td>\n",
       "      <td>NaN</td>\n",
       "      <td>3.783544</td>\n",
       "    </tr>\n",
       "    <tr>\n",
       "      <th>4</th>\n",
       "      <td>Otu227</td>\n",
       "      <td>p_Acidobacteria</td>\n",
       "      <td>c_Acidobacteria_Gp17</td>\n",
       "      <td>g_Gp17</td>\n",
       "      <td>uncl_g_Gp17</td>\n",
       "      <td>uncl_g_Gp17</td>\n",
       "      <td>uncl_g_Gp17</td>\n",
       "      <td>4.332343</td>\n",
       "      <td>3.450006</td>\n",
       "      <td>3.156290</td>\n",
       "    </tr>\n",
       "    <tr>\n",
       "      <th>5</th>\n",
       "      <td>Otu411</td>\n",
       "      <td>p_Acidobacteria</td>\n",
       "      <td>c_Acidobacteria_Gp17</td>\n",
       "      <td>g_Gp17</td>\n",
       "      <td>uncl_g_Gp17</td>\n",
       "      <td>uncl_g_Gp17</td>\n",
       "      <td>uncl_g_Gp17</td>\n",
       "      <td>NaN</td>\n",
       "      <td>3.497636</td>\n",
       "      <td>3.737991</td>\n",
       "    </tr>\n",
       "  </tbody>\n",
       "</table>\n",
       "</div>"
      ],
      "text/plain": [
       "       OTU           Phylum                 Class                      Order  \\\n",
       "1   Otu380  p_Acidobacteria   c_Acidobacteria_Gp1                      g_Gp1   \n",
       "2  Otu2910  p_Acidobacteria  c_Acidobacteria_Gp10  uncl_c_Acidobacteria_Gp10   \n",
       "3   Otu754  p_Acidobacteria  c_Acidobacteria_Gp10  uncl_c_Acidobacteria_Gp10   \n",
       "4   Otu227  p_Acidobacteria  c_Acidobacteria_Gp17                     g_Gp17   \n",
       "5   Otu411  p_Acidobacteria  c_Acidobacteria_Gp17                     g_Gp17   \n",
       "\n",
       "                      Family        Genus      Species  Florence        N7  \\\n",
       "1                 uncl_g_Gp1   uncl_g_Gp1   uncl_g_Gp1  2.704108       NaN   \n",
       "2  uncl_c_Acidobacteria_Gp10       g_Gp10  uncl_g_Gp10  5.435838       NaN   \n",
       "3  uncl_c_Acidobacteria_Gp10       g_Gp10  uncl_g_Gp10       NaN       NaN   \n",
       "4                uncl_g_Gp17  uncl_g_Gp17  uncl_g_Gp17  4.332343  3.450006   \n",
       "5                uncl_g_Gp17  uncl_g_Gp17  uncl_g_Gp17       NaN  3.497636   \n",
       "\n",
       "   Pendelton  \n",
       "1        NaN  \n",
       "2        NaN  \n",
       "3   3.783544  \n",
       "4   3.156290  \n",
       "5   3.737991  "
      ]
     },
     "execution_count": 3,
     "metadata": {},
     "output_type": "execute_result"
    }
   ],
   "source": [
    "df = pandas.read_csv(OTUlist, sep = \"\\t\")\n",
    "df.head()"
   ]
  },
  {
   "cell_type": "markdown",
   "metadata": {},
   "source": [
    "* Subset to Burkholderials"
   ]
  },
  {
   "cell_type": "code",
   "execution_count": 7,
   "metadata": {},
   "outputs": [
    {
     "name": "stdout",
     "output_type": "stream",
     "text": [
      "(8, 10)\n",
      "        OTU            Phylum                 Class              Order  \\\n",
      "53   Otu142  p_Proteobacteria  c_Betaproteobacteria  o_Burkholderiales   \n",
      "54  Otu5063  p_Proteobacteria  c_Betaproteobacteria  o_Burkholderiales   \n",
      "55    Otu11  p_Proteobacteria  c_Betaproteobacteria  o_Burkholderiales   \n",
      "56    Otu27  p_Proteobacteria  c_Betaproteobacteria  o_Burkholderiales   \n",
      "57     Otu8  p_Proteobacteria  c_Betaproteobacteria  o_Burkholderiales   \n",
      "\n",
      "                    Family                   Genus  \\\n",
      "53        f_Comamonadaceae   uncl_f_Comamonadaceae   \n",
      "54        f_Comamonadaceae   uncl_f_Comamonadaceae   \n",
      "55      f_Oxalobacteraceae        g_Herbaspirillum   \n",
      "56  uncl_o_Burkholderiales  uncl_o_Burkholderiales   \n",
      "57  uncl_o_Burkholderiales  uncl_o_Burkholderiales   \n",
      "\n",
      "                              Species  Florence        N7  Pendelton  \n",
      "53              uncl_f_Comamonadaceae  2.858943       NaN   2.542253  \n",
      "54              uncl_f_Comamonadaceae       NaN       NaN   2.625196  \n",
      "55  s_Herbaspirillum_chlorophenolicum  3.873323       NaN        NaN  \n",
      "56             uncl_o_Burkholderiales  4.471465  2.155477   2.901648  \n",
      "57             uncl_o_Burkholderiales  1.997453  2.072334   2.510493  \n"
     ]
    }
   ],
   "source": [
    "is_Group =  df['Order']==Group\n",
    "Group_df = df[is_Group]\n",
    "print(Group_df.shape)\n",
    "(142, 6)\n",
    "print(Group_df.head())"
   ]
  },
  {
   "cell_type": "code",
   "execution_count": 8,
   "metadata": {},
   "outputs": [
    {
     "data": {
      "text/plain": [
       "['Otu142', 'Otu5063', 'Otu11', 'Otu27', 'Otu8', 'Otu87', 'Otu6713', 'Otu1027']"
      ]
     },
     "execution_count": 8,
     "metadata": {},
     "output_type": "execute_result"
    }
   ],
   "source": [
    "OTUoi = Group_df.OTU.tolist()\n",
    "OTUoi"
   ]
  },
  {
   "cell_type": "code",
   "execution_count": 27,
   "metadata": {
    "collapsed": true
   },
   "outputs": [],
   "source": [
    "output = open(\"/home/be68/Hyphosphere/data/Burkholderiales/HyphalBurkholderiales.fa\", \"w\")\n",
    "\n",
    "for record in SeqIO.parse(open(FastaSource, \"rU\"), \"fasta\") :\n",
    "    if record.id in OTUoi:\n",
    "        output.write(\">\"+record.id+\"\\n\"+str(record.seq)+\"\\n\")"
   ]
  },
  {
   "cell_type": "code",
   "execution_count": 22,
   "metadata": {
    "collapsed": true
   },
   "outputs": [],
   "source": [
    "OTUfasta = '/home/be68/Hyphosphere/data/Burkholderiales/HyphalBurkholderiales.fa'"
   ]
  },
  {
   "cell_type": "code",
   "execution_count": null,
   "metadata": {
    "collapsed": true
   },
   "outputs": [],
   "source": []
  },
  {
   "cell_type": "code",
   "execution_count": 30,
   "metadata": {
    "scrolled": true
   },
   "outputs": [
    {
     "name": "stdout",
     "output_type": "stream",
     "text": [
      ">Otu8\n",
      "TACGTAGGGTGCAAGCGTTAATCGGAATTACTGGGCGTAAAGCGTGCGCAGGCGGTTATGCAAGACAGATGTGAAATCCCCGGGCTCAACCTGGGAACTGCATTTGTGACTGCATGGCTAGAGTACGGCAGAGGGGGATGGAATTCCGCGTGTAGCAGTGAAATGCGTAGATATGCGGAGGAACACCGATGGCGAAGGCAATCCCCTGGGCCTGTACTGACGCTCATGCACGAAAGCGTGGGGAGCAAACAGG\n",
      ">Otu11\n",
      "TACGTAGGGTGCAAGCGTTAATCGGAATTACTGGGCGTAAAGCGTGCGCAGGCGGTTGTGTAAGTCAGATGTGAAATCCCCGGGCTCAACCTGGGAATTGCATTTGAGACTGCACGGCTAGAGTGTGTCAGAGGGGGGTAGAATTCCACGTGTAGCAGTGAAATGCGTAGATATGTGGAGGAATACCGATGGCGAAGGCAGCCCCCTGGGATAACACTGACGCTCATGCACGAAAGCGTGGGGAGCAAACAGG\n",
      ">Otu27\n",
      "TACGTAGGGTGCAAGCGTTAATCGGAATTACTGGGCGTAAAGCGTGCGCAGGCGGTTTTGTAAGACAGAGGTGAAATCCCCGGGCTCAACCTGGGAACTGCCTTTGTGACTGCAAGGCTTGAGTGCGGCAGAGGGGGATGGAATTCCGCGTGTAGCAGTGAAATGCGTAGATATGCGGAGGAACACCGATGGCGAAGGCAATCCCCTGGGCCTGCACTGACGCTCATGCACGAAAGCGTGGGGAGCAAACAGG\n",
      ">Otu87\n",
      "TACGTAGGGTGCGAGCGTTAATCGGAATTACTGGGCGTAAAGCGTGCGCAGGCGGTTGTGCAAGACAGGTGTGAAATCCCCGGGCTTAACCTGGGAACTGCACTTGTGACTGCACAGCTGGAGTGCGGCAGAGGGGGATGGAATTCCGCGTGTAGCAGTGAAATGCGTAGATATGCGGAGGAACACCGATGGCGAAGGCAATCCCCTGGGCCTGCACTGACGCTCATGCACGAAAGCGTGGGGAGCAAACAGG\n",
      ">Otu142\n",
      "TACGTAGGGTGCGAGCGTTAATCGGAATTACTGGGCGTAAAGCGTGCGCAGGCGGTTATGTAAGACAGAGGTGAAATCCCCGGGCTCAACCTGGGAACGGCCTTTGTGACTGCATAGCTAGAGTACGGTAGAGGGGGATGGAATTCCGCGTGTAGCAGTGAAATGCGTAGATATGCGGAGGAACACCGATGGCGAAGGCAATCCCCTGGACCTGTACTGACGCTCATGCACGAAAGCGTGGGGAGCAAACAGG\n",
      ">Otu1027\n",
      "TACGTAGGGTGCAAGCGTTAATCGGAATTACTGGGCGTAAAGCGTGCGCAGGCGGTTATATAAGACAGATGTGAAATCCCCGGGCTTAACCTGGGAACTGCATTTGTGACTGCATGGCTGGAGTACGGTAGAGGGAGATGGAATTCCGCGTGTAGCAGTGAAATGCGTAGATATGCGGAGGAACACCGATGGCGAAGGCAATCTCCTGGACCTGTACTGACGCTCATGCACGAAAGCGTGGGGAGCAAACAGG\n",
      ">Otu5063\n",
      "TACAGAGGGTGCAAGCGTTAATCGGAATTACTGGGCGTAAAGCGTGCGCAGGCGGTAATGCAAGACAGATGTGAAATCCCCGGGCTTAACCTGGGAACTGCATTTGTGACTGCATTGCTGGAGTGCGGCAGAGGGGGATGGAATTCCGCGTGTAGCAGTGAAATGCGTAGATATGCGGAGGAACACCGATGGCGAAGGCAATCCCCTGGGCCTGCACTGACGCTCATGCACGAAAGCGTGGGGAGCAAACAGG\n",
      ">Otu6713\n",
      ">S000017759 Acidovorax konjaci (T); DSM 7481; AJ420325\n",
      "----------------------------------------------------TGGCG-GCATGC-CTTACACATGCAAGT\n",
      "C-GAACGgtaacaggtcttcggatgctgacg----AGTGGCGA-ACGGGTGAGTAATACATCGGA-ACGTGCCCGATCGT\n",
      "GGGGGATAACGAGGCGAAAGCTT-TGC-TAATACC-GCATAAG-------ATCTATGGAT-------GAAAGCaggggac\n",
      "cgcaaggcctt----GCGCGAACGGAGCGGCCGATGGCAGATTAGGTAGTTGGTGGGGTAAAGGCTTACCAAGCCTACGA\n",
      "TCTGTAGCTGGTCTGAGAGGACGACCAGCCACACTGGGACTGAGACACGGCCCAGACTCCTACGGGAGGCAGCAGTGG-G\n",
      "GAATTTTGGACAATGGGCGCAAGCCTGATCC-AGCCATGCCGCGTGCAGGAT-GAAGGCC-TTCGGGTTGTAAACTGCTT\n",
      "TTGTACGGAA-CGAaaagccttgggataataccctgaggtca--TGACGGTACCGTAAGAA-TAAGCACCGGCTAACTA-\n"
     ]
    }
   ],
   "source": [
    "%%bash -s \"$OTUfasta\" \"$RDPfile\" \n",
    "#head $1 -n 15\n",
    "head $1 -n 15\n",
    "head $2 -n 8\n"
   ]
  },
  {
   "cell_type": "markdown",
   "metadata": {},
   "source": [
    "## Using SSU-Align to seqs from hyphal samples and mask based on alignment posterior probabilities."
   ]
  },
  {
   "cell_type": "markdown",
   "metadata": {},
   "source": [
    "### Align hyphal OTUs"
   ]
  },
  {
   "cell_type": "code",
   "execution_count": 32,
   "metadata": {},
   "outputs": [
    {
     "name": "stdout",
     "output_type": "stream",
     "text": [
      "# _ssu-prep :: prepare SSU rRNA sequences for parallel ssu-align jobs\n",
      "# SSU-ALIGN 0.1.1 (Feb 2016)\n",
      "# Copyright (C) 2016 Howard Hughes Medical Institute\n",
      "# Freely distributed under the BSD open source license.\n",
      "# - - - - - - - - - - - - - - - - - - - - - - - - - - - - - - - - - - - -\n",
      "# command: _ssu-prep -x -f -b 50 --dna --rfonly /home/be68/Hyphosphere/data/Burkholderiales/HyphalBurkholderiales.fa ssu_aln 1\n",
      "# date:    Mon Jun 25 14:55:31 2018\n",
      "#\n",
      "# Validating input sequence file ... done.\n",
      "#\n",
      "# Preparing 1 ssu-align jobs ...\n",
      "# Partitioning seqs with goal of equalizing total number of nucleotides per job ...\n",
      "#\n",
      "# output file name           description                                      \n",
      "# -------------------------  -------------------------------------------------\n",
      "  ssu_aln/HyphalBurkholderiales.fa.1  partition 1 FASTA sequence file (8 seqs; 2024 nt)\n",
      "  ssu_aln.ssu-align.sh       shell script that will execute 1 ssu-align jobs\n",
      "#\n",
      "################################################################################\n",
      "# To execute all 1 ssu-align jobs, run the shell script with the command:\n",
      "#\t\"ssu_aln.ssu-align.sh\"\n",
      "# (it is an executable file)\n",
      "################################################################################\n",
      "#\n",
      "# The final job will merge the output from all jobs once they are all finished.\n",
      "#\n",
      "# If one or more jobs fail: rerun the failed jobs, wait for them to finish,\n",
      "# and then perform manual merge from this directory by executing:\n",
      "#\tssu-merge ssu_aln\n",
      "#\n",
      "# List of executed commands saved in:     ssu_aln/ssu_aln.ssu-prep.log.\n",
      "# Output printed to the screen saved in:  ssu_aln/ssu_aln.ssu-prep.sum.\n",
      "#\n",
      "# CPU time:  00:00:00.29  (hh:mm:ss)\n",
      "# \n"
     ]
    }
   ],
   "source": [
    "%%bash -s \"$OTUfasta\"\n",
    "ssu-prep -f -x -b 50 --rfonly --dna $1 ssu_aln 1"
   ]
  },
  {
   "cell_type": "code",
   "execution_count": 33,
   "metadata": {},
   "outputs": [
    {
     "name": "stdout",
     "output_type": "stream",
     "text": [
      "# Executing: ssu-align --merge 1 -b 50 --dna --rfonly ssu_aln/HyphalBurkholderiales.fa.1 ssu_aln/ssu_aln.1\n",
      "# _ssu-align :: align SSU rRNA sequences\n",
      "# SSU-ALIGN 0.1.1 (Feb 2016)\n",
      "# Copyright (C) 2016 Howard Hughes Medical Institute\n",
      "# Freely distributed under the BSD open source license.\n",
      "# - - - - - - - - - - - - - - - - - - - - - - - - - - - - - - - - - - - -\n",
      "# command: _ssu-align --merge 1 -b 50 --dna --rfonly ssu_aln/HyphalBurkholderiales.fa.1 ssu_aln/ssu_aln.1\n",
      "# date:    Mon Jun 25 14:55:51 2018\n",
      "#\n",
      "# Validating input sequence file ... done.\n",
      "#\n",
      "# Stage 1: Determining SSU start/end positions and best-matching models...\n",
      "#\n",
      "# output file name            description                                \n",
      "# --------------------------  -------------------------------------------\n",
      "  ssu_aln.1.tab               locations/scores of hits defined by HMM(s)\n",
      "  ssu_aln.1.bacteria.hitlist  list of sequences to align with bacteria CM\n",
      "  ssu_aln.1.bacteria.fa             8 sequences to align with bacteria CM\n",
      "#\n",
      "# Stage 2: Aligning each sequence to its best-matching model...\n",
      "#\n",
      "# output file name            description\n",
      "# --------------------------  ---------------------------------------\n",
      "  ssu_aln.1.bacteria.stk      bacteria alignment\n",
      "  ssu_aln.1.bacteria.cmalign  bacteria cmalign output\n",
      "  ssu_aln.1.bacteria.ifile    bacteria insert info\n",
      "  ssu_aln.1.scores            list of CM/HMM scores for each sequence\n",
      "#\n",
      "# Summary statistics:\n",
      "#\n",
      "# model or       number  fraction        average   average               \n",
      "# category      of seqs  of total         length  coverage    nucleotides\n",
      "# ------------  -------  --------  -------------  --------  -------------\n",
      "  *input*             8    1.0000         253.00    1.0000           2024\n",
      "#\n",
      "  archaea             0    0.0000              -         -              0\n",
      "  bacteria            8    1.0000         253.00    1.0000           2024\n",
      "  eukarya             0    0.0000              -         -              0\n",
      "#\n",
      "  *all-models*        8    1.0000         253.00    1.0000           2024\n",
      "  *no-models*         0    0.0000              -         -              0\n",
      "#\n",
      "# Speed statistics:\n",
      "#\n",
      "# stage      num seqs  seq/sec  seq/sec/model    nucleotides    nt/sec\n",
      "# ---------  --------  -------  -------------  -------------  --------\n",
      "  search            8    7.512          2.504           2024    1900.4\n",
      "  alignment         8    6.955          6.955           2024    1759.7\n",
      "#\n",
      "#\n",
      "# List of executed commands saved in:     ssu_aln.1.ssu-align.log.\n",
      "# Output printed to the screen saved in:  ssu_aln.1.ssu-align.sum.\n",
      "#\n",
      "# All output files created in directory ./ssu_aln/ssu_aln.1/\n",
      "#\n",
      "# CPU time (search):     00:00:01.07  (hh:mm:ss)\n",
      "# CPU time (alignment):  00:00:01.15  (hh:mm:ss)\n",
      "# CPU time (total):      00:00:02.43  (hh:mm:ss)\n",
      "#\n",
      "################################################################################\n",
      "#\n",
      "# Alignments successfully created.\n",
      "#\n",
      "# Checking/waiting for other jobs to finish before merging...\n",
      "#\n",
      "# Job 1 (dir: ssu_aln/ssu_aln.1) completed successfully! 0/1 still incomplete.\n",
      "#\n",
      "# All 1 jobs successfully completed.\n",
      "# About to merge their output:\n",
      "#\n",
      "# Executing:  ssu-merge ssu_aln\n",
      "#\n",
      "################################################################################\n",
      "#\n",
      "# _ssu-merge :: merge SSU rRNA alignments\n",
      "# SSU-ALIGN 0.1.1 (Feb 2016)\n",
      "# Copyright (C) 2016 Howard Hughes Medical Institute\n",
      "# Freely distributed under the BSD open source license.\n",
      "# - - - - - - - - - - - - - - - - - - - - - - - - - - - - - - - - - - - -\n",
      "# command: _ssu-merge ssu_aln\n",
      "# date:    Mon Jun 25 14:55:53 2018\n",
      "#\n",
      "# Merging files from 1 ssu-align runs...\n",
      "#\n",
      "#                                     # files     # seqs\n",
      "# merged file name          CM name    merged     merged\n",
      "# ------------------------  --------  -------  ---------\n",
      "  ssu_aln.tab               -               1          -\n",
      "  ssu_aln.scores            -               1          -\n",
      "  ssu_aln.ssu-align.sum     -               1          -\n",
      "  ssu_aln.ssu-align.log     -               1          -\n",
      "#\n",
      "  ssu_aln.bacteria.fa       bacteria        1          8\n",
      "  ssu_aln.bacteria.hitlist  bacteria        1          8\n",
      "  ssu_aln.bacteria.cmalign  bacteria        1          8\n",
      "  ssu_aln.bacteria.ifile    bacteria        1          8\n",
      "  ssu_aln.bacteria.stk      bacteria        1          8\n",
      "#\n",
      "#\n",
      "# Summary statistics:\n",
      "#\n",
      "# model or       number  fraction        average   average               \n",
      "# category      of seqs  of total         length  coverage    nucleotides\n",
      "# ------------  -------  --------  -------------  --------  -------------\n",
      "  *input*             8    1.0000         253.00    1.0000           2024\n",
      "#\n",
      "  archaea             0    0.0000              -         -              0\n",
      "  bacteria            8    1.0000         253.00    1.0000           2024\n",
      "  eukarya             0    0.0000              -         -              0\n",
      "#\n",
      "  *all-models*        8    1.0000         253.00    1.0000           2024\n",
      "  *no-models*         0    0.0000              -         -              0\n",
      "#\n",
      "# Speed statistics:\n",
      "#\n",
      "# stage      num seqs  seq/sec  seq/sec/model    nucleotides    nt/sec\n",
      "# ---------  --------  -------  -------------  -------------  --------\n",
      "  search            8    8.000          2.667           2024    2024.0\n",
      "  alignment         8    8.000          8.000           2024    2024.0\n",
      "#\n",
      "# Summed ssu-align CPU time (search):     00:00:00.00  (hh:mm:ss)\n",
      "# Summed ssu-align CPU time (alignment):  00:00:00.00  (hh:mm:ss)\n",
      "# Summed ssu-align CPU time (total):      00:00:00.00  (hh:mm:ss)\n",
      "#\n",
      "# Cleaning up by removing original files that were just merged ... done.\n",
      "#\n",
      "# List of executed commands saved in:     ssu_aln.ssu-merge.log.\n",
      "# Output printed to the screen saved in:  ssu_aln.ssu-merge.sum.\n",
      "#\n",
      "# All output files created in directory ./ssu_aln/\n",
      "#\n",
      "# CPU time:  00:00:00.09  (hh:mm:ss)\n",
      "# \n"
     ]
    }
   ],
   "source": [
    "%%bash\n",
    "./ssu_aln.ssu-align.sh"
   ]
  },
  {
   "cell_type": "code",
   "execution_count": 35,
   "metadata": {},
   "outputs": [
    {
     "name": "stdout",
     "output_type": "stream",
     "text": [
      "# _ssu-mask :: mask SSU rRNA alignments\n",
      "# SSU-ALIGN 0.1.1 (Feb 2016)\n",
      "# Copyright (C) 2016 Howard Hughes Medical Institute\n",
      "# Freely distributed under the BSD open source license.\n",
      "# - - - - - - - - - - - - - - - - - - - - - - - - - - - - - - - - - - - -\n",
      "# command: _ssu-mask --afa --dna ssu_aln\n",
      "# date:    Mon Jun 25 14:56:35 2018\n",
      "#\n",
      "# Masking alignments based on posterior probabilities...\n",
      "#\n",
      "#                                                     mask    \n",
      "#                                                 ------------\n",
      "# file name                  in/out  type  #cols  incl.  excl.\n",
      "# -------------------------  ------  ----  -----  -----  -----\n",
      "  ssu_aln.bacteria.stk        input   aln   1582      -      -\n",
      "  ssu_aln.bacteria.mask      output  mask   1582    253   1329\n",
      "  ssu_aln.bacteria.mask.pdf  output   pdf   1582    253   1329\n",
      "  ssu_aln.bacteria.mask.afa  output   aln    253      -      -\n",
      "#\n",
      "# All attempts to draw structure diagrams of masks were successful.\n",
      "#\n",
      "# List of executed commands saved in:     ssu_aln.ssu-mask.log.\n",
      "# Output printed to the screen saved in:  ssu_aln.ssu-mask.sum.\n",
      "#\n",
      "# All output files created in directory ./ssu_aln/\n",
      "#\n",
      "# CPU time:  00:00:01.17  (hh:mm:ss)\n",
      "# \n"
     ]
    }
   ],
   "source": [
    "!ssu-mask --dna --afa ssu_aln"
   ]
  },
  {
   "cell_type": "markdown",
   "metadata": {},
   "source": [
    "### align RDP sequences"
   ]
  },
  {
   "cell_type": "code",
   "execution_count": 36,
   "metadata": {},
   "outputs": [
    {
     "name": "stdout",
     "output_type": "stream",
     "text": [
      "# _ssu-prep :: prepare SSU rRNA sequences for parallel ssu-align jobs\n",
      "# SSU-ALIGN 0.1.1 (Feb 2016)\n",
      "# Copyright (C) 2016 Howard Hughes Medical Institute\n",
      "# Freely distributed under the BSD open source license.\n",
      "# - - - - - - - - - - - - - - - - - - - - - - - - - - - - - - - - - - - -\n",
      "# command: _ssu-prep -x -f -b 50 --dna --rfonly /home/be68/Hyphosphere/data/Burkholderiales/Burkholderiales_rdp_download_205seqs.fa ssr_aln 2\n",
      "# date:    Mon Jun 25 14:57:14 2018\n",
      "#\n",
      "# Validating input sequence file ... done.\n",
      "#\n",
      "# Preparing 2 ssu-align jobs ...\n",
      "# Partitioning seqs with goal of equalizing total number of nucleotides per job ...\n",
      "#\n",
      "# output file name                          description                                          \n",
      "# ----------------------------------------  -----------------------------------------------------\n",
      "  ssr_aln/Burkholderiales_rdp_download_205seqs.fa.1  partition 1 FASTA sequence file (103 seqs; 151488 nt)\n",
      "  ssr_aln/Burkholderiales_rdp_download_205seqs.fa.2  partition 2 FASTA sequence file (102 seqs; 148992 nt)\n",
      "  ssr_aln.ssu-align.sh                      shell script that will execute 2 ssu-align jobs\n",
      "#\n",
      "################################################################################\n",
      "# To execute all 2 ssu-align jobs, run the shell script with the command:\n",
      "#\t\"ssr_aln.ssu-align.sh\"\n",
      "# (it is an executable file)\n",
      "################################################################################\n",
      "#\n",
      "# The final job will merge the output from all jobs once they are all finished.\n",
      "#\n",
      "# If one or more jobs fail: rerun the failed jobs, wait for them to finish,\n",
      "# and then perform manual merge from this directory by executing:\n",
      "#\tssu-merge ssr_aln\n",
      "#\n",
      "# List of executed commands saved in:     ssr_aln/ssr_aln.ssu-prep.log.\n",
      "# Output printed to the screen saved in:  ssr_aln/ssr_aln.ssu-prep.sum.\n",
      "#\n",
      "# CPU time:  00:00:00.15  (hh:mm:ss)\n",
      "# \n"
     ]
    }
   ],
   "source": [
    "%%bash -s \"$RDPfile\"\n",
    "ssu-prep -f -x -b 50 --rfonly --dna $1 ssr_aln 2"
   ]
  },
  {
   "cell_type": "code",
   "execution_count": 37,
   "metadata": {},
   "outputs": [
    {
     "name": "stdout",
     "output_type": "stream",
     "text": [
      "# Executing: ssu-align -b 50 --dna --rfonly ssr_aln/Burkholderiales_rdp_download_205seqs.fa.1 ssr_aln/ssr_aln.1 > /dev/null &\n",
      "# Executing: ssu-align --merge 2 -b 50 --dna --rfonly ssr_aln/Burkholderiales_rdp_download_205seqs.fa.2 ssr_aln/ssr_aln.2\n",
      "# _ssu-align :: align SSU rRNA sequences\n",
      "# SSU-ALIGN 0.1.1 (Feb 2016)\n",
      "# Copyright (C) 2016 Howard Hughes Medical Institute\n",
      "# Freely distributed under the BSD open source license.\n",
      "# - - - - - - - - - - - - - - - - - - - - - - - - - - - - - - - - - - - -\n",
      "# command: _ssu-align --merge 2 -b 50 --dna --rfonly ssr_aln/Burkholderiales_rdp_download_205seqs.fa.2 ssr_aln/ssr_aln.2\n",
      "# date:    Mon Jun 25 14:57:44 2018\n",
      "#\n",
      "# Validating input sequence file ... done.\n",
      "#\n",
      "# Stage 1: Determining SSU start/end positions and best-matching models...\n",
      "#\n",
      "# output file name            description                                \n",
      "# --------------------------  -------------------------------------------\n",
      "  ssr_aln.2.tab               locations/scores of hits defined by HMM(s)\n",
      "  ssr_aln.2.bacteria.hitlist  list of sequences to align with bacteria CM\n",
      "  ssr_aln.2.bacteria.fa           102 sequences to align with bacteria CM\n",
      "#\n",
      "# Stage 2: Aligning each sequence to its best-matching model...\n",
      "#\n",
      "# output file name            description\n",
      "# --------------------------  ---------------------------------------\n",
      "  ssr_aln.2.bacteria.stk      bacteria alignment\n",
      "  ssr_aln.2.bacteria.cmalign  bacteria cmalign output\n",
      "  ssr_aln.2.bacteria.ifile    bacteria insert info\n",
      "  ssr_aln.2.scores            list of CM/HMM scores for each sequence\n",
      "#\n",
      "# Summary statistics:\n",
      "#\n",
      "# model or       number  fraction        average   average               \n",
      "# category      of seqs  of total         length  coverage    nucleotides\n",
      "# ------------  -------  --------  -------------  --------  -------------\n",
      "  *input*           102    1.0000        1460.71    1.0000         148992\n",
      "#\n",
      "  archaea             0    0.0000              -         -              0\n",
      "  bacteria          102    1.0000        1457.37    0.9977         148652\n",
      "  eukarya             0    0.0000              -         -              0\n",
      "#\n",
      "  *all-models*      102    1.0000        1457.37    0.9977         148652\n",
      "  *no-models*         0    0.0000              -         -              0\n",
      "#\n",
      "# Speed statistics:\n",
      "#\n",
      "# stage      num seqs  seq/sec  seq/sec/model    nucleotides    nt/sec\n",
      "# ---------  --------  -------  -------------  -------------  --------\n",
      "  search          102    1.677          0.559         148992    2449.6\n",
      "  alignment       102    0.916          0.916         148652    1334.3\n",
      "#\n",
      "#\n",
      "# List of executed commands saved in:     ssr_aln.2.ssu-align.log.\n",
      "# Output printed to the screen saved in:  ssr_aln.2.ssu-align.sum.\n",
      "#\n",
      "# All output files created in directory ./ssr_aln/ssr_aln.2/\n",
      "#\n",
      "# CPU time (search):     00:01:00.82  (hh:mm:ss)\n",
      "# CPU time (alignment):  00:01:51.41  (hh:mm:ss)\n",
      "# CPU time (total):      00:02:52.42  (hh:mm:ss)\n",
      "#\n",
      "################################################################################\n",
      "#\n",
      "# Alignments successfully created.\n",
      "#\n",
      "# Checking/waiting for other jobs to finish before merging...\n",
      "#\n",
      "# Job 2 (dir: ssr_aln/ssr_aln.2) completed successfully! 1/2 still incomplete.\n",
      "# Job 1 (dir: ssr_aln/ssr_aln.1) completed successfully! 0/2 still incomplete.\n",
      "#\n",
      "# All 2 jobs successfully completed.\n",
      "# About to merge their output:\n",
      "#\n",
      "# Executing:  ssu-merge ssr_aln\n",
      "#\n",
      "################################################################################\n",
      "#\n",
      "# _ssu-merge :: merge SSU rRNA alignments\n",
      "# SSU-ALIGN 0.1.1 (Feb 2016)\n",
      "# Copyright (C) 2016 Howard Hughes Medical Institute\n",
      "# Freely distributed under the BSD open source license.\n",
      "# - - - - - - - - - - - - - - - - - - - - - - - - - - - - - - - - - - - -\n",
      "# command: _ssu-merge ssr_aln\n",
      "# date:    Mon Jun 25 15:00:40 2018\n",
      "#\n",
      "# Merging files from 2 ssu-align runs...\n",
      "#\n",
      "#                                     # files     # seqs\n",
      "# merged file name          CM name    merged     merged\n",
      "# ------------------------  --------  -------  ---------\n",
      "  ssr_aln.tab               -               2          -\n",
      "  ssr_aln.scores            -               2          -\n",
      "  ssr_aln.ssu-align.sum     -               2          -\n",
      "  ssr_aln.ssu-align.log     -               2          -\n",
      "#\n",
      "  ssr_aln.bacteria.fa       bacteria        2        205\n",
      "  ssr_aln.bacteria.hitlist  bacteria        2        205\n",
      "  ssr_aln.bacteria.cmalign  bacteria        2        205\n",
      "  ssr_aln.bacteria.ifile    bacteria        2        205\n",
      "  ssr_aln.bacteria.stk      bacteria        2        205\n",
      "#\n",
      "#\n",
      "# Summary statistics:\n",
      "#\n",
      "# model or       number  fraction        average   average               \n",
      "# category      of seqs  of total         length  coverage    nucleotides\n",
      "# ------------  -------  --------  -------------  --------  -------------\n",
      "  *input*           205    1.0000        1465.76    1.0000         300480\n",
      "#\n",
      "  archaea             0    0.0000              -         -              0\n",
      "  bacteria          205    1.0000        1463.18    0.9983         299951\n",
      "  eukarya             0    0.0000              -         -              0\n",
      "#\n",
      "  *all-models*      205    1.0000        1463.18    0.9983         299951\n",
      "  *no-models*         0    0.0000              -         -              0\n",
      "#\n",
      "# Speed statistics:\n",
      "#\n",
      "# stage      num seqs  seq/sec  seq/sec/model    nucleotides    nt/sec\n",
      "# ---------  --------  -------  -------------  -------------  --------\n",
      "  search          205  205.000         68.333         300480  300480.0\n",
      "  alignment       205  205.000        205.000         299951  299951.0\n",
      "#\n",
      "# Summed ssu-align CPU time (search):     00:00:00.00  (hh:mm:ss)\n",
      "# Summed ssu-align CPU time (alignment):  00:00:00.00  (hh:mm:ss)\n",
      "# Summed ssu-align CPU time (total):      00:00:00.00  (hh:mm:ss)\n",
      "#\n",
      "# Cleaning up by removing original files that were just merged ... done.\n",
      "#\n",
      "# List of executed commands saved in:     ssr_aln.ssu-merge.log.\n",
      "# Output printed to the screen saved in:  ssr_aln.ssu-merge.sum.\n",
      "#\n",
      "# All output files created in directory ./ssr_aln/\n",
      "#\n",
      "# CPU time:  00:00:00.09  (hh:mm:ss)\n",
      "# \n"
     ]
    }
   ],
   "source": [
    "%%bash\n",
    "./ssr_aln.ssu-align.sh"
   ]
  },
  {
   "cell_type": "code",
   "execution_count": 38,
   "metadata": {
    "scrolled": true
   },
   "outputs": [
    {
     "name": "stdout",
     "output_type": "stream",
     "text": [
      "# _ssu-mask :: mask SSU rRNA alignments\n",
      "# SSU-ALIGN 0.1.1 (Feb 2016)\n",
      "# Copyright (C) 2016 Howard Hughes Medical Institute\n",
      "# Freely distributed under the BSD open source license.\n",
      "# - - - - - - - - - - - - - - - - - - - - - - - - - - - - - - - - - - - -\n",
      "# command: _ssu-mask -s ssu_aln/ssu_aln.bacteria.mask --afa --dna ssr_aln/\n",
      "# date:    Mon Jun 25 15:00:40 2018\n",
      "#\n",
      "# Masking alignments using pre-existing masks...\n",
      "#\n",
      "#                                                     mask    \n",
      "#                                                 ------------\n",
      "# file name                  in/out  type  #cols  incl.  excl.\n",
      "# -------------------------  ------  ----  -----  -----  -----\n",
      "  ssr_aln.bacteria.stk        input   aln   1582      -      -\n",
      "  ssu_aln.bacteria.mask       input  mask   1582    253   1329\n",
      "  ssr_aln.bacteria.mask.pdf  output   pdf   1582    253   1329\n",
      "  ssr_aln.bacteria.mask.afa  output   aln    253      -      -\n",
      "#\n",
      "# All attempts to draw structure diagrams of masks were successful.\n",
      "#\n",
      "# List of executed commands saved in:     ssr_aln.ssu-mask.log.\n",
      "# Output printed to the screen saved in:  ssr_aln.ssu-mask.sum.\n",
      "#\n",
      "# All output files created in directory ./ssr_aln/\n",
      "#\n",
      "# CPU time:  00:00:00.55  (hh:mm:ss)\n",
      "# \n"
     ]
    }
   ],
   "source": [
    "!ssu-mask -s ssu_aln/ssu_aln.bacteria.mask --dna --afa ssr_aln/"
   ]
  },
  {
   "cell_type": "code",
   "execution_count": 39,
   "metadata": {
    "collapsed": true
   },
   "outputs": [],
   "source": [
    "!cat ssr_aln/ssr_aln.bacteria.mask.afa ssu_aln/ssu_aln.bacteria.mask.afa > aln_for_tree.fasta"
   ]
  },
  {
   "cell_type": "code",
   "execution_count": 40,
   "metadata": {},
   "outputs": [
    {
     "name": "stdout",
     "output_type": "stream",
     "text": [
      ">S000017759 Acidovorax konjaci (T); DSM 7481; AJ420325\r\n",
      "TACGTAGGGTGCAAGCGTTAATCGGAATTACTGGGCGTAAAGCGTGCGCAGGCGGTGATG\r\n",
      "TAAGACAGATGTGAAATCCCCGGGCTCAACCTGGGAACTGCATTTGTGACTGCATCGCTG\r\n",
      "GAGTGCGGCAGAGGGGAGTGGAATTCCGCGTGTAGCACTGAAATGCGTANATATGCGGAA\r\n",
      "GAACACCGATGGCGAAGGCAATCCCCTGGGCCTGCACTGACGCTCATGCACGAAAGCGTG\r\n",
      "GGGAGCAAACAGG\r\n",
      ">S000020603 Acidovorax defluvii (T); BSB411; Y18616\r\n",
      "TACGTAGGGTGCAAGCGTTAATCGGAATTACTGGGCGTAAAGCGTGCGCAGGCGGTTATA\r\n",
      "TAAGACAGATGTGAAATCCCCGGGCTCAACCTGGGAACTGCATTTGTGACTGTATAGCTA\r\n",
      "GAGTACGGCAGAGGGGGATGGAATTCCGCGTGTAGCAGTGAAATGCGTAGATATGCGGAG\r\n",
      "GAACACCGATGGCGAAGGCAATCCCCTGGGCCTGTACTGACGCTCATGCACGAAAGCGTG\r\n",
      "GGGAGCAAACAGG\r\n",
      ">S000131286 Acidovorax anthurii (T); CFBP 3232; AJ007013\r\n",
      "TACGTAGGGTGCAAGCGTTAATCGGAATTACTGGGCGTAAAGCGTGCGCAGGCGGTTATG\r\n",
      "TAAGACAGATGTGAAATCCCCGGGCTCAACCTGGGAACTGCATTTGTGACTGCATAGCTA\r\n",
      "GAGTACGGTAGAGGGGGATGGAATTCCGCGTGTAGCAGTGAAATGCGTAGATATGCGGAG\r\n",
      "GAACACCGATGGCGAANGCAATCCCCTGGACCTGTACTGACGCTCATGCACGAAAGCGTG\r\n",
      "GGGAGCAAACAGG\r\n",
      ">S000133753 Acidovorax valerianellae (T); CFBP 4730; AJ431731\r\n",
      "TACGTAGGGTGCAAGCGTTAATCGGAATTACTGGGCGTAAAGCGTGCGCAGGCGGTTATG\r\n"
     ]
    }
   ],
   "source": [
    "!head aln_for_tree.fasta -n 20"
   ]
  },
  {
   "cell_type": "markdown",
   "metadata": {},
   "source": [
    "## Inferring and rooting the tree"
   ]
  },
  {
   "cell_type": "code",
   "execution_count": 44,
   "metadata": {},
   "outputs": [],
   "source": [
    "#aln = LoadSeqs(os.path.join(workDir, 'aln_for_tree.fasta'), moltype=DNA)\n",
    "aln = LoadSeqs('aln_for_tree.fasta', moltype=DNA)\n",
    "t_unroot = build_tree_from_alignment(aln, moltype=DNA)"
   ]
  },
  {
   "cell_type": "code",
   "execution_count": 45,
   "metadata": {
    "collapsed": true
   },
   "outputs": [],
   "source": [
    "t_unroot.writeToFile('MyxOTUs_wTypeStrains.tree')"
   ]
  }
 ],
 "metadata": {
  "kernelspec": {
   "display_name": "Python 2",
   "language": "python",
   "name": "python2"
  },
  "language_info": {
   "codemirror_mode": {
    "name": "ipython",
    "version": 2
   },
   "file_extension": ".py",
   "mimetype": "text/x-python",
   "name": "python",
   "nbconvert_exporter": "python",
   "pygments_lexer": "ipython2",
   "version": "2.7.14"
  }
 },
 "nbformat": 4,
 "nbformat_minor": 2
}
