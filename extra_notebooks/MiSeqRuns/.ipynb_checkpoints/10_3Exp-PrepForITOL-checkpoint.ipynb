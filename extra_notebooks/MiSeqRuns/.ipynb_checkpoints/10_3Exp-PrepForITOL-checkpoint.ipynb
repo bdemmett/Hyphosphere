{
 "cells": [
  {
   "cell_type": "markdown",
   "metadata": {},
   "source": [
    "# Prep for iTOL"
   ]
  },
  {
   "cell_type": "markdown",
   "metadata": {},
   "source": [
    "* This script uses the differential abundance outputs and the phylogenetic tree to generate output files for import into the tree of life"
   ]
  },
  {
   "cell_type": "code",
   "execution_count": 1,
   "metadata": {},
   "outputs": [],
   "source": [
    "out_Dir = '~/Hyphosphere/data/3Exp/For_iTOL'\n",
    "\n",
    "work_dir = '~/Hyphosphere/data/3Exp/DESeq'\n",
    "\n",
    "# phyloseq - full object with tree\n",
    "physeq_file = '~/Hyphosphere/data/3Exp/phyloseq/3Exp_phyloseq_thresh_wtree_experimental_woContam.rds'"
   ]
  },
  {
   "cell_type": "code",
   "execution_count": 2,
   "metadata": {},
   "outputs": [
    {
     "name": "stderr",
     "output_type": "stream",
     "text": [
      "Warning message:\n",
      "“package ‘RColorBrewer’ was built under R version 3.6.1”Registered S3 method overwritten by 'dplyr':\n",
      "  method               from  \n",
      "  as.data.frame.tbl_df tibble\n",
      "\n",
      "Attaching package: ‘dplyr’\n",
      "\n",
      "The following objects are masked from ‘package:stats’:\n",
      "\n",
      "    filter, lag\n",
      "\n",
      "The following objects are masked from ‘package:base’:\n",
      "\n",
      "    intersect, setdiff, setequal, union\n",
      "\n",
      "Warning message:\n",
      "“package ‘reshape2’ was built under R version 3.6.1”\n",
      "Attaching package: ‘reshape2’\n",
      "\n",
      "The following object is masked from ‘package:tidyr’:\n",
      "\n",
      "    smiths\n",
      "\n",
      "Warning message:\n",
      "“package ‘phyloseq’ was built under R version 3.6.1”"
     ]
    }
   ],
   "source": [
    "library(RColorBrewer)\n",
    "library(tidyr)\n",
    "library(dplyr)\n",
    "library(reshape2)\n",
    "library(phyloseq)"
   ]
  },
  {
   "cell_type": "code",
   "execution_count": 6,
   "metadata": {},
   "outputs": [
    {
     "data": {
      "text/plain": [
       "phyloseq-class experiment-level object\n",
       "otu_table()   OTU Table:         [ 18707 taxa and 74 samples ]\n",
       "sample_data() Sample Data:       [ 74 samples by 11 sample variables ]\n",
       "tax_table()   Taxonomy Table:    [ 18707 taxa by 6 taxonomic ranks ]\n",
       "phy_tree()    Phylogenetic Tree: [ 18707 tips and 18706 internal nodes ]"
      ]
     },
     "metadata": {},
     "output_type": "display_data"
    }
   ],
   "source": [
    "ps = readRDS(physeq_file) %>% subset_taxa(., !is.na(Phylum)) %>%\n",
    "    # remove non-experimental controls\n",
    "    \n",
    "    subset_samples(., SampleType != \"GV\" & Experiment %in% c(1,2) & SampleType %in% c(\"CS\",\"CH\") & Soil != \"Sand\") %>%\n",
    "\n",
    "     # re-normalize after subsetting taxa\n",
    "    transform_sample_counts(., function(x) x/sum(x))\n",
    "\n",
    "ps\n"
   ]
  },
  {
   "cell_type": "code",
   "execution_count": 7,
   "metadata": {},
   "outputs": [
    {
     "data": {
      "text/plain": [
       "phyloseq-class experiment-level object\n",
       "otu_table()   OTU Table:         [ 200 taxa and 74 samples ]\n",
       "sample_data() Sample Data:       [ 74 samples by 11 sample variables ]\n",
       "tax_table()   Taxonomy Table:    [ 200 taxa by 6 taxonomic ranks ]\n",
       "phy_tree()    Phylogenetic Tree: [ 200 tips and 199 internal nodes ]"
      ]
     },
     "metadata": {},
     "output_type": "display_data"
    }
   ],
   "source": [
    "#Filter to the 200 most abundant OTUs\n",
    "physeq.thresh <- prune_taxa(names(sort(taxa_sums(ps),TRUE)[1:200]), ps)\n",
    "\n",
    "#physeq.thresh = filter_taxa(physeq.Full, \n",
    "#                 function(x) sum(x > 3) > 0, TRUE)\n",
    "physeq.thresh\n"
   ]
  },
  {
   "cell_type": "code",
   "execution_count": 8,
   "metadata": {},
   "outputs": [],
   "source": [
    "outFile = file.path(out_Dir,'3ExpTree_200.tree')\n",
    "MyTree =  physeq.thresh %>% phy_tree\n",
    "ape::write.tree(MyTree, file = outFile)\n",
    "rm(MyTree)"
   ]
  },
  {
   "cell_type": "code",
   "execution_count": 17,
   "metadata": {},
   "outputs": [],
   "source": [
    "TreeTax = taxa_names(physeq.thresh)"
   ]
  },
  {
   "cell_type": "markdown",
   "metadata": {},
   "source": [
    "# Create annotation files for iTOL"
   ]
  },
  {
   "cell_type": "markdown",
   "metadata": {},
   "source": [
    "## Hyphal ASVs"
   ]
  },
  {
   "cell_type": "code",
   "execution_count": 13,
   "metadata": {},
   "outputs": [
    {
     "name": "stderr",
     "output_type": "stream",
     "text": [
      "Warning message in bind_rows_(x, .id):\n",
      "“Unequal factor levels: coercing to character”Warning message in bind_rows_(x, .id):\n",
      "“binding character and factor vector, coercing into character vector”Warning message in bind_rows_(x, .id):\n",
      "“binding character and factor vector, coercing into character vector”Warning message in bind_rows_(x, .id):\n",
      "“Unequal factor levels: coercing to character”Warning message in bind_rows_(x, .id):\n",
      "“binding character and factor vector, coercing into character vector”Warning message in bind_rows_(x, .id):\n",
      "“binding character and factor vector, coercing into character vector”"
     ]
    }
   ],
   "source": [
    "readfile = file.path(work_dir, 'dfl2fc-Exp1.txt')\n",
    "df.l2fc.Exp1 = read.table(readfile, header = TRUE, sep= '\\t')\n",
    "\n",
    "readfile = file.path(work_dir, 'dfl2fc-Exp2.txt')\n",
    "df.l2fc.Exp2 = read.table(readfile, header = TRUE, sep= '\\t')\n",
    "\n",
    "df.l2fc = bind_rows(df.l2fc.Exp1, df.l2fc.Exp2)"
   ]
  },
  {
   "cell_type": "code",
   "execution_count": 15,
   "metadata": {
    "scrolled": true
   },
   "outputs": [
    {
     "data": {
      "text/html": [
       "<table>\n",
       "<thead><tr><th scope=col>baseMean</th><th scope=col>log2FoldChange</th><th scope=col>lfcSE</th><th scope=col>stat</th><th scope=col>pvalue</th><th scope=col>padj</th><th scope=col>OTU</th><th scope=col>Subset</th><th scope=col>Term</th><th scope=col>Contrast</th><th scope=col>DAI</th><th scope=col>Kingdom</th><th scope=col>Phylum</th><th scope=col>Class</th><th scope=col>Order</th><th scope=col>Family</th><th scope=col>Genus</th><th scope=col>Experiment</th></tr></thead>\n",
       "<tbody>\n",
       "\t<tr><td>331.72029            </td><td>-2.716566            </td><td>0.5217389            </td><td>-5.206754            </td><td>1.921730e-07         </td><td>1.885675e-05         </td><td>ASV5                 </td><td>Lansing-Gv           </td><td>SampleType           </td><td>CH_CS                </td><td>81                   </td><td>Bacteria             </td><td>Actinobacteria       </td><td>Actinobacteria       </td><td>Micrococcales        </td><td>Micrococcaceae       </td><td>Pseudarthrobacter    </td><td>1                    </td></tr>\n",
       "\t<tr><td>136.95264            </td><td> 4.977612            </td><td>1.1905977            </td><td> 4.180767            </td><td>2.905274e-05         </td><td>1.192425e-03         </td><td>ASV6                 </td><td>Lansing-Gv           </td><td>SampleType           </td><td>CH_CS                </td><td>81                   </td><td>Bacteria             </td><td>Proteobacteria       </td><td>Gammaproteobacteria  </td><td>Cellvibrionales      </td><td>Cellvibrionaceae     </td><td>Cellvibrio           </td><td>1                    </td></tr>\n",
       "\t<tr><td>  0.00000            </td><td>       NA            </td><td>       NA            </td><td>       NA            </td><td>          NA         </td><td>          NA         </td><td>ASV8                 </td><td>Lansing-Gv           </td><td>SampleType           </td><td>CH_CS                </td><td>81                   </td><td>Bacteria             </td><td>Proteobacteria       </td><td>Alphaproteobacteria  </td><td>Caulobacterales      </td><td>Caulobacteraceae     </td><td>Asticcacaulis        </td><td>1                    </td></tr>\n",
       "\t<tr><td>  0.00000            </td><td>       NA            </td><td>       NA            </td><td>       NA            </td><td>          NA         </td><td>          NA         </td><td>ASV13                </td><td>Lansing-Gv           </td><td>SampleType           </td><td>CH_CS                </td><td>81                   </td><td>Bacteria             </td><td>Proteobacteria       </td><td>Gammaproteobacteria  </td><td>Xanthomonadales      </td><td>Xanthomonadaceae     </td><td>Luteimonas           </td><td>1                    </td></tr>\n",
       "\t<tr><td> 26.70389            </td><td> 8.430000            </td><td>1.7857267            </td><td> 4.720767            </td><td>2.349571e-06         </td><td>1.478663e-04         </td><td>ASV14                </td><td>Lansing-Gv           </td><td>SampleType           </td><td>CH_CS                </td><td>81                   </td><td>Bacteria             </td><td>Proteobacteria       </td><td>Deltaproteobacteria  </td><td>Myxococcales         </td><td>Sandaracinaceae      </td><td>NA                   </td><td>1                    </td></tr>\n",
       "\t<tr><td>  0.00000            </td><td>       NA            </td><td>       NA            </td><td>       NA            </td><td>          NA         </td><td>          NA         </td><td>ASV15                </td><td>Lansing-Gv           </td><td>SampleType           </td><td>CH_CS                </td><td>81                   </td><td>Bacteria             </td><td>Proteobacteria       </td><td>Gammaproteobacteria  </td><td>Betaproteobacteriales</td><td>Burkholderiaceae     </td><td>NA                   </td><td>1                    </td></tr>\n",
       "</tbody>\n",
       "</table>\n"
      ],
      "text/latex": [
       "\\begin{tabular}{r|llllllllllllllllll}\n",
       " baseMean & log2FoldChange & lfcSE & stat & pvalue & padj & OTU & Subset & Term & Contrast & DAI & Kingdom & Phylum & Class & Order & Family & Genus & Experiment\\\\\n",
       "\\hline\n",
       "\t 331.72029             & -2.716566             & 0.5217389             & -5.206754             & 1.921730e-07          & 1.885675e-05          & ASV5                  & Lansing-Gv            & SampleType            & CH\\_CS               & 81                    & Bacteria              & Actinobacteria        & Actinobacteria        & Micrococcales         & Micrococcaceae        & Pseudarthrobacter     & 1                    \\\\\n",
       "\t 136.95264             &  4.977612             & 1.1905977             &  4.180767             & 2.905274e-05          & 1.192425e-03          & ASV6                  & Lansing-Gv            & SampleType            & CH\\_CS               & 81                    & Bacteria              & Proteobacteria        & Gammaproteobacteria   & Cellvibrionales       & Cellvibrionaceae      & Cellvibrio            & 1                    \\\\\n",
       "\t   0.00000             &        NA             &        NA             &        NA             &           NA          &           NA          & ASV8                  & Lansing-Gv            & SampleType            & CH\\_CS               & 81                    & Bacteria              & Proteobacteria        & Alphaproteobacteria   & Caulobacterales       & Caulobacteraceae      & Asticcacaulis         & 1                    \\\\\n",
       "\t   0.00000             &        NA             &        NA             &        NA             &           NA          &           NA          & ASV13                 & Lansing-Gv            & SampleType            & CH\\_CS               & 81                    & Bacteria              & Proteobacteria        & Gammaproteobacteria   & Xanthomonadales       & Xanthomonadaceae      & Luteimonas            & 1                    \\\\\n",
       "\t  26.70389             &  8.430000             & 1.7857267             &  4.720767             & 2.349571e-06          & 1.478663e-04          & ASV14                 & Lansing-Gv            & SampleType            & CH\\_CS               & 81                    & Bacteria              & Proteobacteria        & Deltaproteobacteria   & Myxococcales          & Sandaracinaceae       & NA                    & 1                    \\\\\n",
       "\t   0.00000             &        NA             &        NA             &        NA             &           NA          &           NA          & ASV15                 & Lansing-Gv            & SampleType            & CH\\_CS               & 81                    & Bacteria              & Proteobacteria        & Gammaproteobacteria   & Betaproteobacteriales & Burkholderiaceae      & NA                    & 1                    \\\\\n",
       "\\end{tabular}\n"
      ],
      "text/markdown": [
       "\n",
       "baseMean | log2FoldChange | lfcSE | stat | pvalue | padj | OTU | Subset | Term | Contrast | DAI | Kingdom | Phylum | Class | Order | Family | Genus | Experiment | \n",
       "|---|---|---|---|---|---|\n",
       "| 331.72029             | -2.716566             | 0.5217389             | -5.206754             | 1.921730e-07          | 1.885675e-05          | ASV5                  | Lansing-Gv            | SampleType            | CH_CS                 | 81                    | Bacteria              | Actinobacteria        | Actinobacteria        | Micrococcales         | Micrococcaceae        | Pseudarthrobacter     | 1                     | \n",
       "| 136.95264             |  4.977612             | 1.1905977             |  4.180767             | 2.905274e-05          | 1.192425e-03          | ASV6                  | Lansing-Gv            | SampleType            | CH_CS                 | 81                    | Bacteria              | Proteobacteria        | Gammaproteobacteria   | Cellvibrionales       | Cellvibrionaceae      | Cellvibrio            | 1                     | \n",
       "|   0.00000             |        NA             |        NA             |        NA             |           NA          |           NA          | ASV8                  | Lansing-Gv            | SampleType            | CH_CS                 | 81                    | Bacteria              | Proteobacteria        | Alphaproteobacteria   | Caulobacterales       | Caulobacteraceae      | Asticcacaulis         | 1                     | \n",
       "|   0.00000             |        NA             |        NA             |        NA             |           NA          |           NA          | ASV13                 | Lansing-Gv            | SampleType            | CH_CS                 | 81                    | Bacteria              | Proteobacteria        | Gammaproteobacteria   | Xanthomonadales       | Xanthomonadaceae      | Luteimonas            | 1                     | \n",
       "|  26.70389             |  8.430000             | 1.7857267             |  4.720767             | 2.349571e-06          | 1.478663e-04          | ASV14                 | Lansing-Gv            | SampleType            | CH_CS                 | 81                    | Bacteria              | Proteobacteria        | Deltaproteobacteria   | Myxococcales          | Sandaracinaceae       | NA                    | 1                     | \n",
       "|   0.00000             |        NA             |        NA             |        NA             |           NA          |           NA          | ASV15                 | Lansing-Gv            | SampleType            | CH_CS                 | 81                    | Bacteria              | Proteobacteria        | Gammaproteobacteria   | Betaproteobacteriales | Burkholderiaceae      | NA                    | 1                     | \n",
       "\n",
       "\n"
      ],
      "text/plain": [
       "  baseMean  log2FoldChange lfcSE     stat      pvalue       padj         OTU  \n",
       "1 331.72029 -2.716566      0.5217389 -5.206754 1.921730e-07 1.885675e-05 ASV5 \n",
       "2 136.95264  4.977612      1.1905977  4.180767 2.905274e-05 1.192425e-03 ASV6 \n",
       "3   0.00000        NA             NA        NA           NA           NA ASV8 \n",
       "4   0.00000        NA             NA        NA           NA           NA ASV13\n",
       "5  26.70389  8.430000      1.7857267  4.720767 2.349571e-06 1.478663e-04 ASV14\n",
       "6   0.00000        NA             NA        NA           NA           NA ASV15\n",
       "  Subset     Term       Contrast DAI Kingdom  Phylum        \n",
       "1 Lansing-Gv SampleType CH_CS    81  Bacteria Actinobacteria\n",
       "2 Lansing-Gv SampleType CH_CS    81  Bacteria Proteobacteria\n",
       "3 Lansing-Gv SampleType CH_CS    81  Bacteria Proteobacteria\n",
       "4 Lansing-Gv SampleType CH_CS    81  Bacteria Proteobacteria\n",
       "5 Lansing-Gv SampleType CH_CS    81  Bacteria Proteobacteria\n",
       "6 Lansing-Gv SampleType CH_CS    81  Bacteria Proteobacteria\n",
       "  Class               Order                 Family           Genus            \n",
       "1 Actinobacteria      Micrococcales         Micrococcaceae   Pseudarthrobacter\n",
       "2 Gammaproteobacteria Cellvibrionales       Cellvibrionaceae Cellvibrio       \n",
       "3 Alphaproteobacteria Caulobacterales       Caulobacteraceae Asticcacaulis    \n",
       "4 Gammaproteobacteria Xanthomonadales       Xanthomonadaceae Luteimonas       \n",
       "5 Deltaproteobacteria Myxococcales          Sandaracinaceae  NA               \n",
       "6 Gammaproteobacteria Betaproteobacteriales Burkholderiaceae NA               \n",
       "  Experiment\n",
       "1 1         \n",
       "2 1         \n",
       "3 1         \n",
       "4 1         \n",
       "5 1         \n",
       "6 1         "
      ]
     },
     "metadata": {},
     "output_type": "display_data"
    },
    {
     "data": {
      "text/html": [
       "<table>\n",
       "<thead><tr><th></th><th scope=col>baseMean</th><th scope=col>log2FoldChange</th><th scope=col>lfcSE</th><th scope=col>stat</th><th scope=col>pvalue</th><th scope=col>padj</th><th scope=col>OTU</th><th scope=col>Subset</th><th scope=col>Term</th><th scope=col>Contrast</th><th scope=col>DAI</th><th scope=col>Kingdom</th><th scope=col>Phylum</th><th scope=col>Class</th><th scope=col>Order</th><th scope=col>Family</th><th scope=col>Genus</th><th scope=col>Experiment</th></tr></thead>\n",
       "<tbody>\n",
       "\t<tr><th scope=row>641779</th><td>0.0000000                  </td><td>       NA                  </td><td>      NA                   </td><td>       NA                  </td><td>       NA                  </td><td>       NA                  </td><td>ASV36849                   </td><td>Lansing-RI                 </td><td>SampleType                 </td><td>BH_BS                      </td><td>27                         </td><td>Bacteria                   </td><td>Patescibacteria            </td><td>Microgenomatia             </td><td>Candidatus_Roizmanbacteria </td><td>NA                         </td><td>NA                         </td><td>2                          </td></tr>\n",
       "\t<tr><th scope=row>641780</th><td>0.1757976                  </td><td>0.9586283                  </td><td>3.053845                   </td><td>0.3139086                  </td><td>0.7535904                  </td><td>0.9999796                  </td><td>ASV36865                   </td><td>Lansing-RI                 </td><td>SampleType                 </td><td>BH_BS                      </td><td>27                         </td><td>Bacteria                   </td><td>Dependentiae               </td><td>Babeliae                   </td><td>Babeliales                 </td><td>NA                         </td><td>NA                         </td><td>2                          </td></tr>\n",
       "\t<tr><th scope=row>641781</th><td>0.0000000                  </td><td>       NA                  </td><td>      NA                   </td><td>       NA                  </td><td>       NA                  </td><td>       NA                  </td><td>ASV36871                   </td><td>Lansing-RI                 </td><td>SampleType                 </td><td>BH_BS                      </td><td>27                         </td><td>Bacteria                   </td><td>Bacteroidetes              </td><td>Bacteroidia                </td><td>Sphingobacteriales         </td><td>AKYH767                    </td><td>NA                         </td><td>2                          </td></tr>\n",
       "\t<tr><th scope=row>641782</th><td>0.0000000                  </td><td>       NA                  </td><td>      NA                   </td><td>       NA                  </td><td>       NA                  </td><td>       NA                  </td><td>ASV36896                   </td><td>Lansing-RI                 </td><td>SampleType                 </td><td>BH_BS                      </td><td>27                         </td><td>Bacteria                   </td><td>Acidobacteria              </td><td>Blastocatellia_(Subgroup_4)</td><td>Blastocatellales           </td><td>Blastocatellaceae          </td><td>JGI_0001001-H03            </td><td>2                          </td></tr>\n",
       "\t<tr><th scope=row>641783</th><td>0.0000000                  </td><td>       NA                  </td><td>      NA                   </td><td>       NA                  </td><td>       NA                  </td><td>       NA                  </td><td>ASV37791                   </td><td>Lansing-RI                 </td><td>SampleType                 </td><td>BH_BS                      </td><td>27                         </td><td>Archaea                    </td><td>Nanoarchaeaeota            </td><td>Woesearchaeia              </td><td>NA                         </td><td>NA                         </td><td>NA                         </td><td>2                          </td></tr>\n",
       "\t<tr><th scope=row>641784</th><td>0.0000000                  </td><td>       NA                  </td><td>      NA                   </td><td>       NA                  </td><td>       NA                  </td><td>       NA                  </td><td>ASV38128                   </td><td>Lansing-RI                 </td><td>SampleType                 </td><td>BH_BS                      </td><td>27                         </td><td>Bacteria                   </td><td>Patescibacteria            </td><td>WWE3                       </td><td>NA                         </td><td>NA                         </td><td>NA                         </td><td>2                          </td></tr>\n",
       "</tbody>\n",
       "</table>\n"
      ],
      "text/latex": [
       "\\begin{tabular}{r|llllllllllllllllll}\n",
       "  & baseMean & log2FoldChange & lfcSE & stat & pvalue & padj & OTU & Subset & Term & Contrast & DAI & Kingdom & Phylum & Class & Order & Family & Genus & Experiment\\\\\n",
       "\\hline\n",
       "\t641779 & 0.0000000                    &        NA                    &       NA                     &        NA                    &        NA                    &        NA                    & ASV36849                     & Lansing-RI                   & SampleType                   & BH\\_BS                      & 27                           & Bacteria                     & Patescibacteria              & Microgenomatia               & Candidatus\\_Roizmanbacteria & NA                           & NA                           & 2                           \\\\\n",
       "\t641780 & 0.1757976                   & 0.9586283                   & 3.053845                    & 0.3139086                   & 0.7535904                   & 0.9999796                   & ASV36865                    & Lansing-RI                  & SampleType                  & BH\\_BS                     & 27                          & Bacteria                    & Dependentiae                & Babeliae                    & Babeliales                  & NA                          & NA                          & 2                          \\\\\n",
       "\t641781 & 0.0000000                   &        NA                   &       NA                    &        NA                   &        NA                   &        NA                   & ASV36871                    & Lansing-RI                  & SampleType                  & BH\\_BS                     & 27                          & Bacteria                    & Bacteroidetes               & Bacteroidia                 & Sphingobacteriales          & AKYH767                     & NA                          & 2                          \\\\\n",
       "\t641782 & 0.0000000                       &        NA                       &       NA                        &        NA                       &        NA                       &        NA                       & ASV36896                        & Lansing-RI                      & SampleType                      & BH\\_BS                         & 27                              & Bacteria                        & Acidobacteria                   & Blastocatellia\\_(Subgroup\\_4) & Blastocatellales                & Blastocatellaceae               & JGI\\_0001001-H03               & 2                              \\\\\n",
       "\t641783 & 0.0000000                   &        NA                   &       NA                    &        NA                   &        NA                   &        NA                   & ASV37791                    & Lansing-RI                  & SampleType                  & BH\\_BS                     & 27                          & Archaea                     & Nanoarchaeaeota             & Woesearchaeia               & NA                          & NA                          & NA                          & 2                          \\\\\n",
       "\t641784 & 0.0000000                   &        NA                   &       NA                    &        NA                   &        NA                   &        NA                   & ASV38128                    & Lansing-RI                  & SampleType                  & BH\\_BS                     & 27                          & Bacteria                    & Patescibacteria             & WWE3                        & NA                          & NA                          & NA                          & 2                          \\\\\n",
       "\\end{tabular}\n"
      ],
      "text/markdown": [
       "\n",
       "| <!--/--> | baseMean | log2FoldChange | lfcSE | stat | pvalue | padj | OTU | Subset | Term | Contrast | DAI | Kingdom | Phylum | Class | Order | Family | Genus | Experiment | \n",
       "|---|---|---|---|---|---|\n",
       "| 641779 | 0.0000000                   |        NA                   |       NA                    |        NA                   |        NA                   |        NA                   | ASV36849                    | Lansing-RI                  | SampleType                  | BH_BS                       | 27                          | Bacteria                    | Patescibacteria             | Microgenomatia              | Candidatus_Roizmanbacteria  | NA                          | NA                          | 2                           | \n",
       "| 641780 | 0.1757976                   | 0.9586283                   | 3.053845                    | 0.3139086                   | 0.7535904                   | 0.9999796                   | ASV36865                    | Lansing-RI                  | SampleType                  | BH_BS                       | 27                          | Bacteria                    | Dependentiae                | Babeliae                    | Babeliales                  | NA                          | NA                          | 2                           | \n",
       "| 641781 | 0.0000000                   |        NA                   |       NA                    |        NA                   |        NA                   |        NA                   | ASV36871                    | Lansing-RI                  | SampleType                  | BH_BS                       | 27                          | Bacteria                    | Bacteroidetes               | Bacteroidia                 | Sphingobacteriales          | AKYH767                     | NA                          | 2                           | \n",
       "| 641782 | 0.0000000                   |        NA                   |       NA                    |        NA                   |        NA                   |        NA                   | ASV36896                    | Lansing-RI                  | SampleType                  | BH_BS                       | 27                          | Bacteria                    | Acidobacteria               | Blastocatellia_(Subgroup_4) | Blastocatellales            | Blastocatellaceae           | JGI_0001001-H03             | 2                           | \n",
       "| 641783 | 0.0000000                   |        NA                   |       NA                    |        NA                   |        NA                   |        NA                   | ASV37791                    | Lansing-RI                  | SampleType                  | BH_BS                       | 27                          | Archaea                     | Nanoarchaeaeota             | Woesearchaeia               | NA                          | NA                          | NA                          | 2                           | \n",
       "| 641784 | 0.0000000                   |        NA                   |       NA                    |        NA                   |        NA                   |        NA                   | ASV38128                    | Lansing-RI                  | SampleType                  | BH_BS                       | 27                          | Bacteria                    | Patescibacteria             | WWE3                        | NA                          | NA                          | NA                          | 2                           | \n",
       "\n",
       "\n"
      ],
      "text/plain": [
       "       baseMean  log2FoldChange lfcSE    stat      pvalue    padj      OTU     \n",
       "641779 0.0000000        NA            NA        NA        NA        NA ASV36849\n",
       "641780 0.1757976 0.9586283      3.053845 0.3139086 0.7535904 0.9999796 ASV36865\n",
       "641781 0.0000000        NA            NA        NA        NA        NA ASV36871\n",
       "641782 0.0000000        NA            NA        NA        NA        NA ASV36896\n",
       "641783 0.0000000        NA            NA        NA        NA        NA ASV37791\n",
       "641784 0.0000000        NA            NA        NA        NA        NA ASV38128\n",
       "       Subset     Term       Contrast DAI Kingdom  Phylum         \n",
       "641779 Lansing-RI SampleType BH_BS    27  Bacteria Patescibacteria\n",
       "641780 Lansing-RI SampleType BH_BS    27  Bacteria Dependentiae   \n",
       "641781 Lansing-RI SampleType BH_BS    27  Bacteria Bacteroidetes  \n",
       "641782 Lansing-RI SampleType BH_BS    27  Bacteria Acidobacteria  \n",
       "641783 Lansing-RI SampleType BH_BS    27  Archaea  Nanoarchaeaeota\n",
       "641784 Lansing-RI SampleType BH_BS    27  Bacteria Patescibacteria\n",
       "       Class                       Order                      Family           \n",
       "641779 Microgenomatia              Candidatus_Roizmanbacteria NA               \n",
       "641780 Babeliae                    Babeliales                 NA               \n",
       "641781 Bacteroidia                 Sphingobacteriales         AKYH767          \n",
       "641782 Blastocatellia_(Subgroup_4) Blastocatellales           Blastocatellaceae\n",
       "641783 Woesearchaeia               NA                         NA               \n",
       "641784 WWE3                        NA                         NA               \n",
       "       Genus           Experiment\n",
       "641779 NA              2         \n",
       "641780 NA              2         \n",
       "641781 NA              2         \n",
       "641782 JGI_0001001-H03 2         \n",
       "641783 NA              2         \n",
       "641784 NA              2         "
      ]
     },
     "metadata": {},
     "output_type": "display_data"
    }
   ],
   "source": [
    "head(df.l2fc)\n",
    "tail(df.l2fc)"
   ]
  },
  {
   "cell_type": "code",
   "execution_count": 39,
   "metadata": {},
   "outputs": [
    {
     "data": {
      "text/html": [
       "<ol class=list-inline>\n",
       "\t<li>'Lansing-Gv'</li>\n",
       "\t<li>'Florence-Gv'</li>\n",
       "\t<li>'Pendelton-Gv'</li>\n",
       "\t<li>'Lansing-RI'</li>\n",
       "</ol>\n"
      ],
      "text/latex": [
       "\\begin{enumerate*}\n",
       "\\item 'Lansing-Gv'\n",
       "\\item 'Florence-Gv'\n",
       "\\item 'Pendelton-Gv'\n",
       "\\item 'Lansing-RI'\n",
       "\\end{enumerate*}\n"
      ],
      "text/markdown": [
       "1. 'Lansing-Gv'\n",
       "2. 'Florence-Gv'\n",
       "3. 'Pendelton-Gv'\n",
       "4. 'Lansing-RI'\n",
       "\n",
       "\n"
      ],
      "text/plain": [
       "[1] \"Lansing-Gv\"   \"Florence-Gv\"  \"Pendelton-Gv\" \"Lansing-RI\"  "
      ]
     },
     "metadata": {},
     "output_type": "display_data"
    }
   ],
   "source": [
    "df.l2fc$Subset %>% unique"
   ]
  },
  {
   "cell_type": "code",
   "execution_count": null,
   "metadata": {},
   "outputs": [],
   "source": [
    "#ffffcc - Lansing 1\n",
    "#ffeda0 - Lansing 2\n",
    "#fed976\n",
    "#feb24c - Florence 1\n",
    "#fd8d3c - Florence 2\n",
    "#fc4e2a\n",
    "#e31a1c\n",
    "#bd0026 - Pendelton 1\n",
    "#800026 - Pendelton 2"
   ]
  },
  {
   "cell_type": "code",
   "execution_count": 30,
   "metadata": {},
   "outputs": [],
   "source": [
    "tmp = df.l2fc %>% \n",
    "    filter(Experiment == 1 & Subset == 'Lansing-Gv') %>%\n",
    "    filter(OTU %in% TreeTax & Contrast == \"CH_CS\") %>% \n",
    "    mutate(Color = ifelse(padj < 0.05 & log2FoldChange > 0, \"#ffffcc\", \"#ffffff\")) %>%\n",
    "    mutate(Color = ifelse(!is.na(Color), Color, \"#ffffff\")) %>%\n",
    "    select(OTU, Color)\n",
    "write.table(tmp, file = file.path(out_Dir, \"HA-Lansing1.txt\"), sep = \"\\t\", row.names = FALSE, quote = FALSE)\n",
    "\n",
    "tmp = df.l2fc %>% \n",
    "    filter(Experiment == 2 & Subset == 'Lansing-Gv') %>%\n",
    "    filter(OTU %in% TreeTax & Contrast == \"CH_CS\") %>% \n",
    "    mutate(Color = ifelse(padj < 0.05 & log2FoldChange > 0, \"#ffeda0\", \"#ffffff\")) %>%\n",
    "    mutate(Color = ifelse(!is.na(Color), Color, \"#ffffff\")) %>%\n",
    "    select(OTU, Color)\n",
    "write.table(tmp, file = file.path(out_Dir, \"HA-Lansing2.txt\"), sep = \"\\t\", row.names = FALSE, quote = FALSE)"
   ]
  },
  {
   "cell_type": "code",
   "execution_count": 40,
   "metadata": {},
   "outputs": [],
   "source": [
    "tmp = df.l2fc %>% \n",
    "    filter(Experiment == 1 & Subset == 'Florence-Gv') %>%\n",
    "    filter(OTU %in% TreeTax & Contrast == \"CH_CS\") %>% \n",
    "    mutate(Color = ifelse(padj < 0.05 & log2FoldChange > 0, \"#feb24c\", \"#ffffff\")) %>%\n",
    "    mutate(Color = ifelse(!is.na(Color), Color, \"#ffffff\")) %>%\n",
    "    select(OTU, Color)\n",
    "write.table(tmp, file = file.path(out_Dir, \"HA-Florence1.txt\"), sep = \"\\t\", row.names = FALSE, quote = FALSE)\n",
    "\n",
    "tmp = df.l2fc %>% \n",
    "    filter(Experiment == 2 & Subset == 'Florence-Gv') %>%\n",
    "    filter(OTU %in% TreeTax & Contrast == \"CH_CS\") %>% \n",
    "    mutate(Color = ifelse(padj < 0.05 & log2FoldChange > 0, \"#fd8d3c\", \"#ffffff\")) %>%\n",
    "    mutate(Color = ifelse(!is.na(Color), Color, \"#ffffff\")) %>%\n",
    "    select(OTU, Color)\n",
    "write.table(tmp, file = file.path(out_Dir, \"HA-Florence2.txt\"), sep = \"\\t\", row.names = FALSE, quote = FALSE)"
   ]
  },
  {
   "cell_type": "code",
   "execution_count": 41,
   "metadata": {},
   "outputs": [],
   "source": [
    "tmp = df.l2fc %>% \n",
    "    filter(Experiment == 1 & Subset == 'Pendelton-Gv') %>%\n",
    "    filter(OTU %in% TreeTax & Contrast == \"CH_CS\") %>% \n",
    "    mutate(Color = ifelse(padj < 0.05 & log2FoldChange > 0, \"#bd0026\", \"#ffffff\")) %>%\n",
    "    mutate(Color = ifelse(!is.na(Color), Color, \"#ffffff\")) %>%\n",
    "    select(OTU, Color)\n",
    "write.table(tmp, file = file.path(out_Dir, \"HA-Pendelton1.txt\"), sep = \"\\t\", row.names = FALSE, quote = FALSE)\n",
    "\n",
    "tmp = df.l2fc %>% \n",
    "    filter(Experiment == 2 & Subset == 'Pendelton-Gv') %>%\n",
    "    filter(OTU %in% TreeTax & Contrast == \"CH_CS\") %>% \n",
    "    mutate(Color = ifelse(padj < 0.05 & log2FoldChange > 0, \"#800026\", \"#ffffff\")) %>%\n",
    "    mutate(Color = ifelse(!is.na(Color), Color, \"#ffffff\")) %>%\n",
    "    select(OTU, Color)\n",
    "write.table(tmp, file = file.path(out_Dir, \"HA-Pendelton2.txt\"), sep = \"\\t\", row.names = FALSE, quote = FALSE)"
   ]
  },
  {
   "cell_type": "code",
   "execution_count": null,
   "metadata": {},
   "outputs": [],
   "source": []
  }
 ],
 "metadata": {
  "kernelspec": {
   "display_name": "R",
   "language": "R",
   "name": "ir"
  },
  "language_info": {
   "codemirror_mode": "r",
   "file_extension": ".r",
   "mimetype": "text/x-r-source",
   "name": "R",
   "pygments_lexer": "r",
   "version": "3.6.0"
  }
 },
 "nbformat": 4,
 "nbformat_minor": 2
}
