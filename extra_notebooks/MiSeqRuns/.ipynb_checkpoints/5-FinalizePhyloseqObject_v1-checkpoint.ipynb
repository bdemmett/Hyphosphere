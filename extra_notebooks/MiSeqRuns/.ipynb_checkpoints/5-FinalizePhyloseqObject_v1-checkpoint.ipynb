{
 "cells": [
  {
   "cell_type": "markdown",
   "metadata": {},
   "source": [
    "# Finalize merged dataset\n",
    "* Incorporate phylogenetic tree into phyloseq object\n",
    "* Save master and split versions"
   ]
  },
  {
   "cell_type": "code",
   "execution_count": 1,
   "metadata": {},
   "outputs": [
    {
     "name": "stderr",
     "output_type": "stream",
     "text": [
      "Loading required package: Rcpp\n",
      "\n",
      "Attaching package: ‘dplyr’\n",
      "\n",
      "The following objects are masked from ‘package:stats’:\n",
      "\n",
      "    filter, lag\n",
      "\n",
      "The following objects are masked from ‘package:base’:\n",
      "\n",
      "    intersect, setdiff, setequal, union\n",
      "\n"
     ]
    }
   ],
   "source": [
    "library(dada2)\n",
    "library(tidyr)\n",
    "library(dplyr)\n",
    "library(phyloseq)\n",
    "library(ggplot2)"
   ]
  },
  {
   "cell_type": "code",
   "execution_count": 12,
   "metadata": {},
   "outputs": [
    {
     "data": {
      "text/plain": [
       "phyloseq-class experiment-level object\n",
       "otu_table()   OTU Table:         [ 14615 taxa and 382 samples ]\n",
       "sample_data() Sample Data:       [ 382 samples by 11 sample variables ]\n",
       "tax_table()   Taxonomy Table:    [ 14615 taxa by 6 taxonomic ranks ]"
      ]
     },
     "metadata": {},
     "output_type": "display_data"
    }
   ],
   "source": [
    "ps.thresh = readRDS('~/Hyphosphere/data/3Exp/phyloseq/3Exp_phyloseq_thresh.rds')\n",
    "ps.thresh"
   ]
  },
  {
   "cell_type": "code",
   "execution_count": 13,
   "metadata": {},
   "outputs": [],
   "source": [
    "thresh.tree = read_tree(treefile = '~/Hyphosphere/data/3Exp/Fasttree/Master.tree')\n",
    "ps.thresh = merge_phyloseq(ps.thresh, thresh.tree)"
   ]
  },
  {
   "cell_type": "code",
   "execution_count": 14,
   "metadata": {},
   "outputs": [
    {
     "data": {
      "text/plain": [
       "phyloseq-class experiment-level object\n",
       "otu_table()   OTU Table:         [ 14457 taxa and 382 samples ]\n",
       "sample_data() Sample Data:       [ 382 samples by 11 sample variables ]\n",
       "tax_table()   Taxonomy Table:    [ 14457 taxa by 6 taxonomic ranks ]\n",
       "phy_tree()    Phylogenetic Tree: [ 14457 tips and 14423 internal nodes ]"
      ]
     },
     "metadata": {},
     "output_type": "display_data"
    }
   ],
   "source": [
    "ps.thresh"
   ]
  },
  {
   "cell_type": "markdown",
   "metadata": {},
   "source": [
    "* note that some sequences are lost in the alignment stage because they are not predicted to align to any model"
   ]
  },
  {
   "cell_type": "code",
   "execution_count": 15,
   "metadata": {},
   "outputs": [],
   "source": [
    "saveRDS(ps.thresh, '~/Hyphosphere/data/3Exp/phyloseq/3Exp_phyloseq_thresh_wtree.rds')\n"
   ]
  },
  {
   "cell_type": "code",
   "execution_count": 17,
   "metadata": {},
   "outputs": [
    {
     "data": {
      "text/plain": [
       "phyloseq-class experiment-level object\n",
       "otu_table()   OTU Table:         [ 14457 taxa and 382 samples ]\n",
       "sample_data() Sample Data:       [ 382 samples by 11 sample variables ]\n",
       "tax_table()   Taxonomy Table:    [ 14457 taxa by 6 taxonomic ranks ]\n",
       "phy_tree()    Phylogenetic Tree: [ 14457 tips and 14423 internal nodes ]"
      ]
     },
     "metadata": {},
     "output_type": "display_data"
    }
   ],
   "source": [
    "ps.thresh = readRDS('~/Hyphosphere/data/3Exp/phyloseq/3Exp_phyloseq_thresh_wtree.rds')\n",
    "ps.thresh"
   ]
  },
  {
   "cell_type": "code",
   "execution_count": 18,
   "metadata": {},
   "outputs": [
    {
     "data": {
      "text/html": [
       "<table>\n",
       "<thead><tr><th></th><th scope=col>Kingdom</th><th scope=col>Phylum</th><th scope=col>Class</th><th scope=col>Order</th><th scope=col>Family</th><th scope=col>Genus</th></tr></thead>\n",
       "<tbody>\n",
       "\t<tr><th scope=row>ASV6971</th><td>Bacteria     </td><td>NA           </td><td>NA           </td><td>NA           </td><td>NA           </td><td>NA           </td></tr>\n",
       "\t<tr><th scope=row>ASV5742</th><td>Bacteria     </td><td>NA           </td><td>NA           </td><td>NA           </td><td>NA           </td><td>NA           </td></tr>\n",
       "\t<tr><th scope=row>ASV2480</th><td>Bacteria     </td><td>NA           </td><td>NA           </td><td>NA           </td><td>NA           </td><td>NA           </td></tr>\n",
       "\t<tr><th scope=row>ASV15180</th><td>Bacteria     </td><td>Acidobacteria</td><td>Subgroup_20  </td><td>NA           </td><td>NA           </td><td>NA           </td></tr>\n",
       "\t<tr><th scope=row>ASV9985</th><td>Bacteria     </td><td>Acidobacteria</td><td>Subgroup_20  </td><td>NA           </td><td>NA           </td><td>NA           </td></tr>\n",
       "\t<tr><th scope=row>ASV22021</th><td>Bacteria     </td><td>Acidobacteria</td><td>Subgroup_20  </td><td>NA           </td><td>NA           </td><td>NA           </td></tr>\n",
       "</tbody>\n",
       "</table>\n"
      ],
      "text/latex": [
       "\\begin{tabular}{r|llllll}\n",
       "  & Kingdom & Phylum & Class & Order & Family & Genus\\\\\n",
       "\\hline\n",
       "\tASV6971 & Bacteria      & NA            & NA            & NA            & NA            & NA           \\\\\n",
       "\tASV5742 & Bacteria      & NA            & NA            & NA            & NA            & NA           \\\\\n",
       "\tASV2480 & Bacteria      & NA            & NA            & NA            & NA            & NA           \\\\\n",
       "\tASV15180 & Bacteria      & Acidobacteria & Subgroup\\_20 & NA            & NA            & NA           \\\\\n",
       "\tASV9985 & Bacteria      & Acidobacteria & Subgroup\\_20 & NA            & NA            & NA           \\\\\n",
       "\tASV22021 & Bacteria      & Acidobacteria & Subgroup\\_20 & NA            & NA            & NA           \\\\\n",
       "\\end{tabular}\n"
      ],
      "text/markdown": [
       "\n",
       "| <!--/--> | Kingdom | Phylum | Class | Order | Family | Genus | \n",
       "|---|---|---|---|---|---|\n",
       "| ASV6971 | Bacteria      | NA            | NA            | NA            | NA            | NA            | \n",
       "| ASV5742 | Bacteria      | NA            | NA            | NA            | NA            | NA            | \n",
       "| ASV2480 | Bacteria      | NA            | NA            | NA            | NA            | NA            | \n",
       "| ASV15180 | Bacteria      | Acidobacteria | Subgroup_20   | NA            | NA            | NA            | \n",
       "| ASV9985 | Bacteria      | Acidobacteria | Subgroup_20   | NA            | NA            | NA            | \n",
       "| ASV22021 | Bacteria      | Acidobacteria | Subgroup_20   | NA            | NA            | NA            | \n",
       "\n",
       "\n"
      ],
      "text/plain": [
       "         Kingdom  Phylum        Class       Order Family Genus\n",
       "ASV6971  Bacteria NA            NA          NA    NA     NA   \n",
       "ASV5742  Bacteria NA            NA          NA    NA     NA   \n",
       "ASV2480  Bacteria NA            NA          NA    NA     NA   \n",
       "ASV15180 Bacteria Acidobacteria Subgroup_20 NA    NA     NA   \n",
       "ASV9985  Bacteria Acidobacteria Subgroup_20 NA    NA     NA   \n",
       "ASV22021 Bacteria Acidobacteria Subgroup_20 NA    NA     NA   "
      ]
     },
     "metadata": {},
     "output_type": "display_data"
    }
   ],
   "source": [
    "tax_table(ps.thresh) %>% head()"
   ]
  },
  {
   "cell_type": "markdown",
   "metadata": {},
   "source": [
    "# Global preprocessing"
   ]
  },
  {
   "cell_type": "code",
   "execution_count": 19,
   "metadata": {},
   "outputs": [
    {
     "data": {
      "text/plain": [
       "phyloseq-class experiment-level object\n",
       "otu_table()   OTU Table:         [ 20 taxa and 382 samples ]\n",
       "sample_data() Sample Data:       [ 382 samples by 11 sample variables ]\n",
       "tax_table()   Taxonomy Table:    [ 20 taxa by 6 taxonomic ranks ]\n",
       "phy_tree()    Phylogenetic Tree: [ 20 tips and 19 internal nodes ]"
      ]
     },
     "metadata": {},
     "output_type": "display_data"
    }
   ],
   "source": [
    "mitochondria = subset_taxa(ps.thresh, Family == \"Mitochondria\")\n",
    "mitochondria\n"
   ]
  },
  {
   "cell_type": "code",
   "execution_count": 21,
   "metadata": {},
   "outputs": [
    {
     "data": {
      "text/plain": [
       "phyloseq-class experiment-level object\n",
       "otu_table()   OTU Table:         [ 14437 taxa and 382 samples ]\n",
       "sample_data() Sample Data:       [ 382 samples by 11 sample variables ]\n",
       "tax_table()   Taxonomy Table:    [ 14437 taxa by 6 taxonomic ranks ]\n",
       "phy_tree()    Phylogenetic Tree: [ 14437 tips and 14403 internal nodes ]"
      ]
     },
     "metadata": {},
     "output_type": "display_data"
    }
   ],
   "source": [
    "#remove mitochondria\n",
    "ps.thresh2 = subset_taxa(ps.thresh, Family != \"Mitochondria\" | is.na(Family))\n",
    "ps.thresh2"
   ]
  },
  {
   "cell_type": "markdown",
   "metadata": {},
   "source": [
    "# Save subsets"
   ]
  },
  {
   "cell_type": "code",
   "execution_count": 35,
   "metadata": {},
   "outputs": [
    {
     "data": {
      "text/plain": [
       "phyloseq-class experiment-level object\n",
       "otu_table()   OTU Table:         [ 12983 taxa and 192 samples ]\n",
       "sample_data() Sample Data:       [ 192 samples by 11 sample variables ]\n",
       "tax_table()   Taxonomy Table:    [ 12983 taxa by 6 taxonomic ranks ]\n",
       "phy_tree()    Phylogenetic Tree: [ 12983 tips and 12953 internal nodes ]"
      ]
     },
     "metadata": {},
     "output_type": "display_data"
    }
   ],
   "source": [
    "# Save Exp11 (experiment 3)\n",
    "ps.exp3 = ps.thresh2 %>% subset_samples(Experiment == \"3\")\n",
    "ps.exp3 = filter_taxa(ps.exp3, function(x) sum(x > 0) > 0, TRUE)\n",
    "ps.exp3"
   ]
  },
  {
   "cell_type": "code",
   "execution_count": 36,
   "metadata": {},
   "outputs": [],
   "source": [
    "saveRDS(ps.exp3, file = '~/Hyphosphere/Exp11/Exp11_phyloseq.rds')"
   ]
  },
  {
   "cell_type": "code",
   "execution_count": null,
   "metadata": {},
   "outputs": [],
   "source": []
  }
 ],
 "metadata": {
  "kernelspec": {
   "display_name": "R",
   "language": "R",
   "name": "ir"
  },
  "language_info": {
   "codemirror_mode": "r",
   "file_extension": ".r",
   "mimetype": "text/x-r-source",
   "name": "R",
   "pygments_lexer": "r",
   "version": "3.5.1"
  }
 },
 "nbformat": 4,
 "nbformat_minor": 2
}
