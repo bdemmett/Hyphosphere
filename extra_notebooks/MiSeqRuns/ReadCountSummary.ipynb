{
 "cells": [
  {
   "cell_type": "markdown",
   "metadata": {},
   "source": [
    "# Summarize reads by sample through pipeline"
   ]
  },
  {
   "cell_type": "code",
   "execution_count": 17,
   "metadata": {},
   "outputs": [],
   "source": [
    "\n",
    "library(tidyr)\n",
    "library(dplyr)\n",
    "library(phyloseq)\n"
   ]
  },
  {
   "cell_type": "code",
   "execution_count": 4,
   "metadata": {},
   "outputs": [],
   "source": [
    "# Sequence counts in DADA2 pipeline \n",
    "Track1file = '~/Hyphosphere/data/Exp1/DADA2Files/Tracking.txt'\n",
    "Track2file = '~/Hyphosphere/data/Exp10/DADA2Files/Tracking.txt'\n",
    "Track3file = '~/Hyphosphere/data/Exp11/DADA2Files/Tracking.txt'\n",
    "\n",
    "#Phyloseq objects\n",
    "ps.full.file = '~/Hyphosphere/data/3Exp/phyloseq/3Exp_phyloseq_full.rds'\n",
    "ps.thresh.file = '~/Hyphosphere/data/3Exp/phyloseq/3Exp_phyloseq_thresh.rds'\n",
    "ps.nocontam.file = '~/Hyphosphere/data/3Exp/phyloseq/3Exp_phyloseq_thresh_woTree_woContam.rds.rds'\n"
   ]
  },
  {
   "cell_type": "code",
   "execution_count": 8,
   "metadata": {},
   "outputs": [
    {
     "data": {
      "text/html": [
       "<table>\n",
       "<thead><tr><th></th><th scope=col>input</th><th scope=col>filtered</th><th scope=col>seqtable</th><th scope=col>nonchim</th><th scope=col>Exp</th></tr></thead>\n",
       "<tbody>\n",
       "\t<tr><th scope=row>10xBLS156_S303</th><td>76535</td><td>71931</td><td>69469</td><td>59843</td><td>Exp1 </td></tr>\n",
       "\t<tr><th scope=row>2xBLS143_S297</th><td>46036</td><td>42761</td><td>41067</td><td>35803</td><td>Exp1 </td></tr>\n",
       "\t<tr><th scope=row>5xBLS120_S300</th><td>58139</td><td>52793</td><td>50890</td><td>44074</td><td>Exp1 </td></tr>\n",
       "\t<tr><th scope=row>BartHigh_S258</th><td>50441</td><td>46587</td><td>44278</td><td>37880</td><td>Exp1 </td></tr>\n",
       "\t<tr><th scope=row>BartLow_S270</th><td>59500</td><td>56642</td><td>54238</td><td>45142</td><td>Exp1 </td></tr>\n",
       "\t<tr><th scope=row>BaseA_S310</th><td>43371</td><td>40476</td><td>38447</td><td>33584</td><td>Exp1 </td></tr>\n",
       "</tbody>\n",
       "</table>\n"
      ],
      "text/latex": [
       "\\begin{tabular}{r|lllll}\n",
       "  & input & filtered & seqtable & nonchim & Exp\\\\\n",
       "\\hline\n",
       "\t10xBLS156\\_S303 & 76535 & 71931 & 69469 & 59843 & Exp1 \\\\\n",
       "\t2xBLS143\\_S297 & 46036 & 42761 & 41067 & 35803 & Exp1 \\\\\n",
       "\t5xBLS120\\_S300 & 58139 & 52793 & 50890 & 44074 & Exp1 \\\\\n",
       "\tBartHigh\\_S258 & 50441 & 46587 & 44278 & 37880 & Exp1 \\\\\n",
       "\tBartLow\\_S270 & 59500 & 56642 & 54238 & 45142 & Exp1 \\\\\n",
       "\tBaseA\\_S310 & 43371 & 40476 & 38447 & 33584 & Exp1 \\\\\n",
       "\\end{tabular}\n"
      ],
      "text/markdown": [
       "\n",
       "| <!--/--> | input | filtered | seqtable | nonchim | Exp | \n",
       "|---|---|---|---|---|---|\n",
       "| 10xBLS156_S303 | 76535 | 71931 | 69469 | 59843 | Exp1  | \n",
       "| 2xBLS143_S297 | 46036 | 42761 | 41067 | 35803 | Exp1  | \n",
       "| 5xBLS120_S300 | 58139 | 52793 | 50890 | 44074 | Exp1  | \n",
       "| BartHigh_S258 | 50441 | 46587 | 44278 | 37880 | Exp1  | \n",
       "| BartLow_S270 | 59500 | 56642 | 54238 | 45142 | Exp1  | \n",
       "| BaseA_S310 | 43371 | 40476 | 38447 | 33584 | Exp1  | \n",
       "\n",
       "\n"
      ],
      "text/plain": [
       "               input filtered seqtable nonchim Exp \n",
       "10xBLS156_S303 76535 71931    69469    59843   Exp1\n",
       "2xBLS143_S297  46036 42761    41067    35803   Exp1\n",
       "5xBLS120_S300  58139 52793    50890    44074   Exp1\n",
       "BartHigh_S258  50441 46587    44278    37880   Exp1\n",
       "BartLow_S270   59500 56642    54238    45142   Exp1\n",
       "BaseA_S310     43371 40476    38447    33584   Exp1"
      ]
     },
     "metadata": {},
     "output_type": "display_data"
    },
    {
     "data": {
      "text/html": [
       "<table>\n",
       "<thead><tr><th></th><th scope=col>input</th><th scope=col>filtered</th><th scope=col>seqtable</th><th scope=col>nonchim</th><th scope=col>Exp</th></tr></thead>\n",
       "<tbody>\n",
       "\t<tr><th scope=row>1_3.1RH</th><td>108818</td><td>103426</td><td>100582</td><td>97872 </td><td>Exp2  </td></tr>\n",
       "\t<tr><th scope=row>10_2.1RH</th><td> 89188</td><td> 85913</td><td> 81276</td><td>79861 </td><td>Exp2  </td></tr>\n",
       "\t<tr><th scope=row>100_5.5BP</th><td> 82663</td><td> 78206</td><td> 49083</td><td>47567 </td><td>Exp2  </td></tr>\n",
       "\t<tr><th scope=row>101_5.5CS</th><td> 90291</td><td> 84808</td><td> 66300</td><td>64980 </td><td>Exp2  </td></tr>\n",
       "\t<tr><th scope=row>102_5.5BS</th><td>104470</td><td> 98937</td><td> 62751</td><td>60648 </td><td>Exp2  </td></tr>\n",
       "\t<tr><th scope=row>103_6.5BP</th><td>130629</td><td>125529</td><td> 89890</td><td>87042 </td><td>Exp2  </td></tr>\n",
       "</tbody>\n",
       "</table>\n"
      ],
      "text/latex": [
       "\\begin{tabular}{r|lllll}\n",
       "  & input & filtered & seqtable & nonchim & Exp\\\\\n",
       "\\hline\n",
       "\t1\\_3.1RH & 108818 & 103426 & 100582 & 97872  & Exp2  \\\\\n",
       "\t10\\_2.1RH &  89188 &  85913 &  81276 & 79861  & Exp2  \\\\\n",
       "\t100\\_5.5BP &  82663 &  78206 &  49083 & 47567  & Exp2  \\\\\n",
       "\t101\\_5.5CS &  90291 &  84808 &  66300 & 64980  & Exp2  \\\\\n",
       "\t102\\_5.5BS & 104470 &  98937 &  62751 & 60648  & Exp2  \\\\\n",
       "\t103\\_6.5BP & 130629 & 125529 &  89890 & 87042  & Exp2  \\\\\n",
       "\\end{tabular}\n"
      ],
      "text/markdown": [
       "\n",
       "| <!--/--> | input | filtered | seqtable | nonchim | Exp | \n",
       "|---|---|---|---|---|---|\n",
       "| 1_3.1RH | 108818 | 103426 | 100582 | 97872  | Exp2   | \n",
       "| 10_2.1RH |  89188 |  85913 |  81276 | 79861  | Exp2   | \n",
       "| 100_5.5BP |  82663 |  78206 |  49083 | 47567  | Exp2   | \n",
       "| 101_5.5CS |  90291 |  84808 |  66300 | 64980  | Exp2   | \n",
       "| 102_5.5BS | 104470 |  98937 |  62751 | 60648  | Exp2   | \n",
       "| 103_6.5BP | 130629 | 125529 |  89890 | 87042  | Exp2   | \n",
       "\n",
       "\n"
      ],
      "text/plain": [
       "          input  filtered seqtable nonchim Exp \n",
       "1_3.1RH   108818 103426   100582   97872   Exp2\n",
       "10_2.1RH   89188  85913    81276   79861   Exp2\n",
       "100_5.5BP  82663  78206    49083   47567   Exp2\n",
       "101_5.5CS  90291  84808    66300   64980   Exp2\n",
       "102_5.5BS 104470  98937    62751   60648   Exp2\n",
       "103_6.5BP 130629 125529    89890   87042   Exp2"
      ]
     },
     "metadata": {},
     "output_type": "display_data"
    },
    {
     "data": {
      "text/html": [
       "<table>\n",
       "<thead><tr><th></th><th scope=col>input</th><th scope=col>filtered</th><th scope=col>seqtable</th><th scope=col>nonchim</th><th scope=col>Exp</th></tr></thead>\n",
       "<tbody>\n",
       "\t<tr><th scope=row>1_GVCLHN1-BH</th><td>123120</td><td>109349</td><td>67683 </td><td>62437 </td><td>Exp3  </td></tr>\n",
       "\t<tr><th scope=row>10_GVFLHP1-BS</th><td> 99381</td><td> 90430</td><td>53209 </td><td>51141 </td><td>Exp3  </td></tr>\n",
       "\t<tr><th scope=row>100_GVCLHN4-BS</th><td>108427</td><td> 96811</td><td>62179 </td><td>58520 </td><td>Exp3  </td></tr>\n",
       "\t<tr><th scope=row>101_GVFLHN3-BH</th><td> 68799</td><td> 61320</td><td>35037 </td><td>33873 </td><td>Exp3  </td></tr>\n",
       "\t<tr><th scope=row>102_GVFLHN3-BS</th><td> 88288</td><td> 79397</td><td>44701 </td><td>43169 </td><td>Exp3  </td></tr>\n",
       "\t<tr><th scope=row>103_GVFLHN4-BH</th><td> 95202</td><td> 85979</td><td>50043 </td><td>47699 </td><td>Exp3  </td></tr>\n",
       "</tbody>\n",
       "</table>\n"
      ],
      "text/latex": [
       "\\begin{tabular}{r|lllll}\n",
       "  & input & filtered & seqtable & nonchim & Exp\\\\\n",
       "\\hline\n",
       "\t1\\_GVCLHN1-BH & 123120 & 109349 & 67683  & 62437  & Exp3  \\\\\n",
       "\t10\\_GVFLHP1-BS &  99381 &  90430 & 53209  & 51141  & Exp3  \\\\\n",
       "\t100\\_GVCLHN4-BS & 108427 &  96811 & 62179  & 58520  & Exp3  \\\\\n",
       "\t101\\_GVFLHN3-BH &  68799 &  61320 & 35037  & 33873  & Exp3  \\\\\n",
       "\t102\\_GVFLHN3-BS &  88288 &  79397 & 44701  & 43169  & Exp3  \\\\\n",
       "\t103\\_GVFLHN4-BH &  95202 &  85979 & 50043  & 47699  & Exp3  \\\\\n",
       "\\end{tabular}\n"
      ],
      "text/markdown": [
       "\n",
       "| <!--/--> | input | filtered | seqtable | nonchim | Exp | \n",
       "|---|---|---|---|---|---|\n",
       "| 1_GVCLHN1-BH | 123120 | 109349 | 67683  | 62437  | Exp3   | \n",
       "| 10_GVFLHP1-BS |  99381 |  90430 | 53209  | 51141  | Exp3   | \n",
       "| 100_GVCLHN4-BS | 108427 |  96811 | 62179  | 58520  | Exp3   | \n",
       "| 101_GVFLHN3-BH |  68799 |  61320 | 35037  | 33873  | Exp3   | \n",
       "| 102_GVFLHN3-BS |  88288 |  79397 | 44701  | 43169  | Exp3   | \n",
       "| 103_GVFLHN4-BH |  95202 |  85979 | 50043  | 47699  | Exp3   | \n",
       "\n",
       "\n"
      ],
      "text/plain": [
       "               input  filtered seqtable nonchim Exp \n",
       "1_GVCLHN1-BH   123120 109349   67683    62437   Exp3\n",
       "10_GVFLHP1-BS   99381  90430   53209    51141   Exp3\n",
       "100_GVCLHN4-BS 108427  96811   62179    58520   Exp3\n",
       "101_GVFLHN3-BH  68799  61320   35037    33873   Exp3\n",
       "102_GVFLHN3-BS  88288  79397   44701    43169   Exp3\n",
       "103_GVFLHN4-BH  95202  85979   50043    47699   Exp3"
      ]
     },
     "metadata": {},
     "output_type": "display_data"
    }
   ],
   "source": [
    "#Read tracking files\n",
    "Track1 = read.delim(Track1file, header = TRUE)\n",
    "Track1$Exp = \"Exp1\"\n",
    "head(Track1)\n",
    "\n",
    "Track2 = read.delim(Track2file, header = TRUE)\n",
    "Track2$Exp = \"Exp2\"\n",
    "head(Track2)\n",
    "\n",
    "Track3 = read.delim(Track3file, header = TRUE)\n",
    "Track3$Exp = \"Exp3\"\n",
    "head(Track3)"
   ]
  },
  {
   "cell_type": "code",
   "execution_count": 53,
   "metadata": {},
   "outputs": [
    {
     "name": "stderr",
     "output_type": "stream",
     "text": [
      "Warning message:\n",
      "“The `printer` argument is deprecated as of rlang 0.3.0.\n",
      "This warning is displayed once per session.”Warning message:\n",
      "“`lang()` is deprecated as of rlang 0.2.0.\n",
      "Please use `call2()` instead.\n",
      "This warning is displayed once per session.”Warning message:\n",
      "“`new_overscope()` is deprecated as of rlang 0.2.0.\n",
      "Please use `new_data_mask()` instead.\n",
      "This warning is displayed once per session.”Warning message:\n",
      "“`overscope_eval_next()` is deprecated as of rlang 0.2.0.\n",
      "Please use `eval_tidy()` with a data mask instead.\n",
      "This warning is displayed once per session.”"
     ]
    },
    {
     "data": {
      "text/html": [
       "<table>\n",
       "<thead><tr><th scope=col>Sample</th><th scope=col>FullReads</th></tr></thead>\n",
       "<tbody>\n",
       "\t<tr><td>10xBLS156_S303</td><td>59843         </td></tr>\n",
       "\t<tr><td>2xBLS143_S297 </td><td>35803         </td></tr>\n",
       "\t<tr><td>5xBLS120_S300 </td><td>44074         </td></tr>\n",
       "\t<tr><td>BaseA_S310    </td><td>33584         </td></tr>\n",
       "\t<tr><td>BaseB_S291    </td><td>26702         </td></tr>\n",
       "\t<tr><td>BaseC_S294    </td><td>35261         </td></tr>\n",
       "</tbody>\n",
       "</table>\n"
      ],
      "text/latex": [
       "\\begin{tabular}{r|ll}\n",
       " Sample & FullReads\\\\\n",
       "\\hline\n",
       "\t 10xBLS156\\_S303 & 59843           \\\\\n",
       "\t 2xBLS143\\_S297  & 35803           \\\\\n",
       "\t 5xBLS120\\_S300  & 44074           \\\\\n",
       "\t BaseA\\_S310     & 33584           \\\\\n",
       "\t BaseB\\_S291     & 26702           \\\\\n",
       "\t BaseC\\_S294     & 35261           \\\\\n",
       "\\end{tabular}\n"
      ],
      "text/markdown": [
       "\n",
       "Sample | FullReads | \n",
       "|---|---|---|---|---|---|\n",
       "| 10xBLS156_S303 | 59843          | \n",
       "| 2xBLS143_S297  | 35803          | \n",
       "| 5xBLS120_S300  | 44074          | \n",
       "| BaseA_S310     | 33584          | \n",
       "| BaseB_S291     | 26702          | \n",
       "| BaseC_S294     | 35261          | \n",
       "\n",
       "\n"
      ],
      "text/plain": [
       "  Sample         FullReads\n",
       "1 10xBLS156_S303 59843    \n",
       "2 2xBLS143_S297  35803    \n",
       "3 5xBLS120_S300  44074    \n",
       "4 BaseA_S310     33584    \n",
       "5 BaseB_S291     26702    \n",
       "6 BaseC_S294     35261    "
      ]
     },
     "metadata": {},
     "output_type": "display_data"
    },
    {
     "data": {
      "text/html": [
       "<table>\n",
       "<thead><tr><th></th><th scope=col>ThreshReads</th><th scope=col>Sample</th></tr></thead>\n",
       "<tbody>\n",
       "\t<tr><th scope=row>10xBLS156_S303</th><td>59828         </td><td>10xBLS156_S303</td></tr>\n",
       "\t<tr><th scope=row>2xBLS143_S297</th><td>35790         </td><td>2xBLS143_S297 </td></tr>\n",
       "\t<tr><th scope=row>5xBLS120_S300</th><td>44060         </td><td>5xBLS120_S300 </td></tr>\n",
       "\t<tr><th scope=row>BaseA_S310</th><td>33584         </td><td>BaseA_S310    </td></tr>\n",
       "\t<tr><th scope=row>BaseB_S291</th><td>26698         </td><td>BaseB_S291    </td></tr>\n",
       "\t<tr><th scope=row>BaseC_S294</th><td>35257         </td><td>BaseC_S294    </td></tr>\n",
       "</tbody>\n",
       "</table>\n"
      ],
      "text/latex": [
       "\\begin{tabular}{r|ll}\n",
       "  & ThreshReads & Sample\\\\\n",
       "\\hline\n",
       "\t10xBLS156\\_S303 & 59828            & 10xBLS156\\_S303\\\\\n",
       "\t2xBLS143\\_S297 & 35790            & 2xBLS143\\_S297 \\\\\n",
       "\t5xBLS120\\_S300 & 44060            & 5xBLS120\\_S300 \\\\\n",
       "\tBaseA\\_S310 & 33584            & BaseA\\_S310    \\\\\n",
       "\tBaseB\\_S291 & 26698            & BaseB\\_S291    \\\\\n",
       "\tBaseC\\_S294 & 35257            & BaseC\\_S294    \\\\\n",
       "\\end{tabular}\n"
      ],
      "text/markdown": [
       "\n",
       "| <!--/--> | ThreshReads | Sample | \n",
       "|---|---|---|---|---|---|\n",
       "| 10xBLS156_S303 | 59828          | 10xBLS156_S303 | \n",
       "| 2xBLS143_S297 | 35790          | 2xBLS143_S297  | \n",
       "| 5xBLS120_S300 | 44060          | 5xBLS120_S300  | \n",
       "| BaseA_S310 | 33584          | BaseA_S310     | \n",
       "| BaseB_S291 | 26698          | BaseB_S291     | \n",
       "| BaseC_S294 | 35257          | BaseC_S294     | \n",
       "\n",
       "\n"
      ],
      "text/plain": [
       "               ThreshReads Sample        \n",
       "10xBLS156_S303 59828       10xBLS156_S303\n",
       "2xBLS143_S297  35790       2xBLS143_S297 \n",
       "5xBLS120_S300  44060       5xBLS120_S300 \n",
       "BaseA_S310     33584       BaseA_S310    \n",
       "BaseB_S291     26698       BaseB_S291    \n",
       "BaseC_S294     35257       BaseC_S294    "
      ]
     },
     "metadata": {},
     "output_type": "display_data"
    },
    {
     "data": {
      "text/html": [
       "<table>\n",
       "<thead><tr><th></th><th scope=col>NoContamReads</th><th scope=col>Sample</th></tr></thead>\n",
       "<tbody>\n",
       "\t<tr><th scope=row>10xBLS156_S303</th><td>40949         </td><td>10xBLS156_S303</td></tr>\n",
       "\t<tr><th scope=row>2xBLS143_S297</th><td>19771         </td><td>2xBLS143_S297 </td></tr>\n",
       "\t<tr><th scope=row>5xBLS120_S300</th><td>20986         </td><td>5xBLS120_S300 </td></tr>\n",
       "\t<tr><th scope=row>BaseA_S310</th><td>19392         </td><td>BaseA_S310    </td></tr>\n",
       "\t<tr><th scope=row>BaseB_S291</th><td>14720         </td><td>BaseB_S291    </td></tr>\n",
       "\t<tr><th scope=row>BaseC_S294</th><td>19858         </td><td>BaseC_S294    </td></tr>\n",
       "</tbody>\n",
       "</table>\n"
      ],
      "text/latex": [
       "\\begin{tabular}{r|ll}\n",
       "  & NoContamReads & Sample\\\\\n",
       "\\hline\n",
       "\t10xBLS156\\_S303 & 40949            & 10xBLS156\\_S303\\\\\n",
       "\t2xBLS143\\_S297 & 19771            & 2xBLS143\\_S297 \\\\\n",
       "\t5xBLS120\\_S300 & 20986            & 5xBLS120\\_S300 \\\\\n",
       "\tBaseA\\_S310 & 19392            & BaseA\\_S310    \\\\\n",
       "\tBaseB\\_S291 & 14720            & BaseB\\_S291    \\\\\n",
       "\tBaseC\\_S294 & 19858            & BaseC\\_S294    \\\\\n",
       "\\end{tabular}\n"
      ],
      "text/markdown": [
       "\n",
       "| <!--/--> | NoContamReads | Sample | \n",
       "|---|---|---|---|---|---|\n",
       "| 10xBLS156_S303 | 40949          | 10xBLS156_S303 | \n",
       "| 2xBLS143_S297 | 19771          | 2xBLS143_S297  | \n",
       "| 5xBLS120_S300 | 20986          | 5xBLS120_S300  | \n",
       "| BaseA_S310 | 19392          | BaseA_S310     | \n",
       "| BaseB_S291 | 14720          | BaseB_S291     | \n",
       "| BaseC_S294 | 19858          | BaseC_S294     | \n",
       "\n",
       "\n"
      ],
      "text/plain": [
       "               NoContamReads Sample        \n",
       "10xBLS156_S303 40949         10xBLS156_S303\n",
       "2xBLS143_S297  19771         2xBLS143_S297 \n",
       "5xBLS120_S300  20986         5xBLS120_S300 \n",
       "BaseA_S310     19392         BaseA_S310    \n",
       "BaseB_S291     14720         BaseB_S291    \n",
       "BaseC_S294     19858         BaseC_S294    "
      ]
     },
     "metadata": {},
     "output_type": "display_data"
    }
   ],
   "source": [
    "# Create seq count tables from phyloseq objects\n",
    "## Exp1 \n",
    "ps.full = readRDS(ps.full.file)\n",
    "ps.full.counts = sample_sums(ps.full) %>% as.data.frame()\n",
    "colnames(ps.full.counts) = \"FullReads\"\n",
    "ps.full.counts = ps.full.counts %>% mutate(Sample = rownames(ps.full.counts)) %>% select(Sample, FullReads)\n",
    "\n",
    "head(ps.full.counts)\n",
    "rm(ps.full)\n",
    "\n",
    "\n",
    "## Exp2\n",
    "ps.thresh = readRDS(ps.thresh.file)\n",
    "ps.thresh.counts = sample_sums(ps.thresh) %>% as.data.frame()\n",
    "colnames(ps.thresh.counts) = \"ThreshReads\"\n",
    "ps.thresh.counts$Sample = rownames(ps.thresh.counts)\n",
    "head(ps.thresh.counts)\n",
    "rm(ps.thresh)\n",
    "\n",
    "## Exp3\n",
    "ps.nocontam = readRDS(ps.nocontam.file)\n",
    "ps.nocontam.counts = sample_sums(ps.nocontam) %>% as.data.frame()\n",
    "colnames(ps.nocontam.counts) = \"NoContamReads\"\n",
    "ps.nocontam.counts$Sample = rownames(ps.nocontam.counts)\n",
    "head(ps.nocontam.counts)\n",
    "rm(ps.nocontam)\n",
    "\n"
   ]
  },
  {
   "cell_type": "code",
   "execution_count": 55,
   "metadata": {},
   "outputs": [
    {
     "data": {
      "text/html": [
       "<table>\n",
       "<thead><tr><th scope=col>Sample</th><th scope=col>FullReads</th></tr></thead>\n",
       "<tbody>\n",
       "\t<tr><td>10xBLS156_S303</td><td>59843         </td></tr>\n",
       "\t<tr><td>2xBLS143_S297 </td><td>35803         </td></tr>\n",
       "\t<tr><td>5xBLS120_S300 </td><td>44074         </td></tr>\n",
       "\t<tr><td>BaseA_S310    </td><td>33584         </td></tr>\n",
       "\t<tr><td>BaseB_S291    </td><td>26702         </td></tr>\n",
       "\t<tr><td>BaseC_S294    </td><td>35261         </td></tr>\n",
       "</tbody>\n",
       "</table>\n"
      ],
      "text/latex": [
       "\\begin{tabular}{r|ll}\n",
       " Sample & FullReads\\\\\n",
       "\\hline\n",
       "\t 10xBLS156\\_S303 & 59843           \\\\\n",
       "\t 2xBLS143\\_S297  & 35803           \\\\\n",
       "\t 5xBLS120\\_S300  & 44074           \\\\\n",
       "\t BaseA\\_S310     & 33584           \\\\\n",
       "\t BaseB\\_S291     & 26702           \\\\\n",
       "\t BaseC\\_S294     & 35261           \\\\\n",
       "\\end{tabular}\n"
      ],
      "text/markdown": [
       "\n",
       "Sample | FullReads | \n",
       "|---|---|---|---|---|---|\n",
       "| 10xBLS156_S303 | 59843          | \n",
       "| 2xBLS143_S297  | 35803          | \n",
       "| 5xBLS120_S300  | 44074          | \n",
       "| BaseA_S310     | 33584          | \n",
       "| BaseB_S291     | 26702          | \n",
       "| BaseC_S294     | 35261          | \n",
       "\n",
       "\n"
      ],
      "text/plain": [
       "  Sample         FullReads\n",
       "1 10xBLS156_S303 59843    \n",
       "2 2xBLS143_S297  35803    \n",
       "3 5xBLS120_S300  44074    \n",
       "4 BaseA_S310     33584    \n",
       "5 BaseB_S291     26702    \n",
       "6 BaseC_S294     35261    "
      ]
     },
     "metadata": {},
     "output_type": "display_data"
    },
    {
     "data": {
      "text/html": [
       "<table>\n",
       "<thead><tr><th></th><th scope=col>ThreshReads</th><th scope=col>Sample</th></tr></thead>\n",
       "<tbody>\n",
       "\t<tr><th scope=row>10xBLS156_S303</th><td>59828         </td><td>10xBLS156_S303</td></tr>\n",
       "\t<tr><th scope=row>2xBLS143_S297</th><td>35790         </td><td>2xBLS143_S297 </td></tr>\n",
       "\t<tr><th scope=row>5xBLS120_S300</th><td>44060         </td><td>5xBLS120_S300 </td></tr>\n",
       "\t<tr><th scope=row>BaseA_S310</th><td>33584         </td><td>BaseA_S310    </td></tr>\n",
       "\t<tr><th scope=row>BaseB_S291</th><td>26698         </td><td>BaseB_S291    </td></tr>\n",
       "\t<tr><th scope=row>BaseC_S294</th><td>35257         </td><td>BaseC_S294    </td></tr>\n",
       "</tbody>\n",
       "</table>\n"
      ],
      "text/latex": [
       "\\begin{tabular}{r|ll}\n",
       "  & ThreshReads & Sample\\\\\n",
       "\\hline\n",
       "\t10xBLS156\\_S303 & 59828            & 10xBLS156\\_S303\\\\\n",
       "\t2xBLS143\\_S297 & 35790            & 2xBLS143\\_S297 \\\\\n",
       "\t5xBLS120\\_S300 & 44060            & 5xBLS120\\_S300 \\\\\n",
       "\tBaseA\\_S310 & 33584            & BaseA\\_S310    \\\\\n",
       "\tBaseB\\_S291 & 26698            & BaseB\\_S291    \\\\\n",
       "\tBaseC\\_S294 & 35257            & BaseC\\_S294    \\\\\n",
       "\\end{tabular}\n"
      ],
      "text/markdown": [
       "\n",
       "| <!--/--> | ThreshReads | Sample | \n",
       "|---|---|---|---|---|---|\n",
       "| 10xBLS156_S303 | 59828          | 10xBLS156_S303 | \n",
       "| 2xBLS143_S297 | 35790          | 2xBLS143_S297  | \n",
       "| 5xBLS120_S300 | 44060          | 5xBLS120_S300  | \n",
       "| BaseA_S310 | 33584          | BaseA_S310     | \n",
       "| BaseB_S291 | 26698          | BaseB_S291     | \n",
       "| BaseC_S294 | 35257          | BaseC_S294     | \n",
       "\n",
       "\n"
      ],
      "text/plain": [
       "               ThreshReads Sample        \n",
       "10xBLS156_S303 59828       10xBLS156_S303\n",
       "2xBLS143_S297  35790       2xBLS143_S297 \n",
       "5xBLS120_S300  44060       5xBLS120_S300 \n",
       "BaseA_S310     33584       BaseA_S310    \n",
       "BaseB_S291     26698       BaseB_S291    \n",
       "BaseC_S294     35257       BaseC_S294    "
      ]
     },
     "metadata": {},
     "output_type": "display_data"
    },
    {
     "data": {
      "text/html": [
       "<table>\n",
       "<thead><tr><th scope=col>Sample</th><th scope=col>FullReads</th><th scope=col>ThreshReads</th><th scope=col>NoContamReads</th></tr></thead>\n",
       "<tbody>\n",
       "\t<tr><td>10xBLS156_S303</td><td>59843         </td><td>59828         </td><td>40949         </td></tr>\n",
       "\t<tr><td>2xBLS143_S297 </td><td>35803         </td><td>35790         </td><td>19771         </td></tr>\n",
       "\t<tr><td>5xBLS120_S300 </td><td>44074         </td><td>44060         </td><td>20986         </td></tr>\n",
       "\t<tr><td>BaseA_S310    </td><td>33584         </td><td>33584         </td><td>19392         </td></tr>\n",
       "\t<tr><td>BaseB_S291    </td><td>26702         </td><td>26698         </td><td>14720         </td></tr>\n",
       "\t<tr><td>BaseC_S294    </td><td>35261         </td><td>35257         </td><td>19858         </td></tr>\n",
       "</tbody>\n",
       "</table>\n"
      ],
      "text/latex": [
       "\\begin{tabular}{r|llll}\n",
       " Sample & FullReads & ThreshReads & NoContamReads\\\\\n",
       "\\hline\n",
       "\t 10xBLS156\\_S303 & 59843            & 59828            & 40949           \\\\\n",
       "\t 2xBLS143\\_S297  & 35803            & 35790            & 19771           \\\\\n",
       "\t 5xBLS120\\_S300  & 44074            & 44060            & 20986           \\\\\n",
       "\t BaseA\\_S310     & 33584            & 33584            & 19392           \\\\\n",
       "\t BaseB\\_S291     & 26702            & 26698            & 14720           \\\\\n",
       "\t BaseC\\_S294     & 35261            & 35257            & 19858           \\\\\n",
       "\\end{tabular}\n"
      ],
      "text/markdown": [
       "\n",
       "Sample | FullReads | ThreshReads | NoContamReads | \n",
       "|---|---|---|---|---|---|\n",
       "| 10xBLS156_S303 | 59843          | 59828          | 40949          | \n",
       "| 2xBLS143_S297  | 35803          | 35790          | 19771          | \n",
       "| 5xBLS120_S300  | 44074          | 44060          | 20986          | \n",
       "| BaseA_S310     | 33584          | 33584          | 19392          | \n",
       "| BaseB_S291     | 26702          | 26698          | 14720          | \n",
       "| BaseC_S294     | 35261          | 35257          | 19858          | \n",
       "\n",
       "\n"
      ],
      "text/plain": [
       "  Sample         FullReads ThreshReads NoContamReads\n",
       "1 10xBLS156_S303 59843     59828       40949        \n",
       "2 2xBLS143_S297  35803     35790       19771        \n",
       "3 5xBLS120_S300  44074     44060       20986        \n",
       "4 BaseA_S310     33584     33584       19392        \n",
       "5 BaseB_S291     26702     26698       14720        \n",
       "6 BaseC_S294     35261     35257       19858        "
      ]
     },
     "metadata": {},
     "output_type": "display_data"
    }
   ],
   "source": [
    "head(ps.full.counts)\n",
    "head(ps.thresh.counts)\n",
    "tmp = left_join(ps.full.counts, ps.thresh.counts, by= \"Sample\")\n",
    "tmp = left_join(tmp, ps.nocontam.counts, by = \"Sample\")\n",
    "head(tmp)"
   ]
  },
  {
   "cell_type": "code",
   "execution_count": 56,
   "metadata": {},
   "outputs": [
    {
     "data": {
      "text/html": [
       "<ol class=list-inline>\n",
       "\t<li>'155_1.3RH'</li>\n",
       "\t<li>'156_2.3RH'</li>\n",
       "\t<li>'157_3.3RH'</li>\n",
       "\t<li>'158_1.4RH'</li>\n",
       "\t<li>'159_2.4RH'</li>\n",
       "</ol>\n"
      ],
      "text/latex": [
       "\\begin{enumerate*}\n",
       "\\item '155\\_1.3RH'\n",
       "\\item '156\\_2.3RH'\n",
       "\\item '157\\_3.3RH'\n",
       "\\item '158\\_1.4RH'\n",
       "\\item '159\\_2.4RH'\n",
       "\\end{enumerate*}\n"
      ],
      "text/markdown": [
       "1. '155_1.3RH'\n",
       "2. '156_2.3RH'\n",
       "3. '157_3.3RH'\n",
       "4. '158_1.4RH'\n",
       "5. '159_2.4RH'\n",
       "\n",
       "\n"
      ],
      "text/plain": [
       "[1] \"155_1.3RH\" \"156_2.3RH\" \"157_3.3RH\" \"158_1.4RH\" \"159_2.4RH\""
      ]
     },
     "metadata": {},
     "output_type": "display_data"
    }
   ],
   "source": [
    "## Check arrays\n",
    "#rownames(ps.full.counts)== rownames(ps.thresh.counts)\n",
    "setdiff(rownames(ps.thresh.counts), rownames(ps.nocontam.counts))"
   ]
  },
  {
   "cell_type": "code",
   "execution_count": 59,
   "metadata": {},
   "outputs": [
    {
     "data": {
      "text/html": [
       "<ol class=list-inline>\n",
       "\t<li>434</li>\n",
       "\t<li>4</li>\n",
       "</ol>\n"
      ],
      "text/latex": [
       "\\begin{enumerate*}\n",
       "\\item 434\n",
       "\\item 4\n",
       "\\end{enumerate*}\n"
      ],
      "text/markdown": [
       "1. 434\n",
       "2. 4\n",
       "\n",
       "\n"
      ],
      "text/plain": [
       "[1] 434   4"
      ]
     },
     "metadata": {},
     "output_type": "display_data"
    },
    {
     "data": {
      "text/html": [
       "<ol class=list-inline>\n",
       "\t<li>429</li>\n",
       "\t<li>4</li>\n",
       "</ol>\n"
      ],
      "text/latex": [
       "\\begin{enumerate*}\n",
       "\\item 429\n",
       "\\item 4\n",
       "\\end{enumerate*}\n"
      ],
      "text/markdown": [
       "1. 429\n",
       "2. 4\n",
       "\n",
       "\n"
      ],
      "text/plain": [
       "[1] 429   4"
      ]
     },
     "metadata": {},
     "output_type": "display_data"
    }
   ],
   "source": [
    "#Root hyphae duplicates that had poor read counts were droped rather than merged.  Remove from other \n",
    "dim(tmp)\n",
    "Duplicates = c('155_1.3RH', '156_2.3RH','157_3.3RH','158_1.4RH', '159_2.4RH')\n",
    "\n",
    "tmp  = filter(tmp, !Sample %in% Duplicates)\n",
    "\n",
    "dim(tmp)                               \n",
    "#ps.full.counts = ps.full.counts[!row.names(ps.full.counts) %in% Duplicates,]\n"
   ]
  },
  {
   "cell_type": "code",
   "execution_count": 68,
   "metadata": {},
   "outputs": [
    {
     "data": {
      "text/html": [
       "<table>\n",
       "<thead><tr><th scope=col>Sample</th><th scope=col>input</th><th scope=col>filtered</th><th scope=col>seqtable</th><th scope=col>nonchim</th><th scope=col>Exp</th></tr></thead>\n",
       "<tbody>\n",
       "\t<tr><td>10xBLS156_S303</td><td>76535         </td><td>71931         </td><td>69469         </td><td>59843         </td><td>Exp1          </td></tr>\n",
       "\t<tr><td>2xBLS143_S297 </td><td>46036         </td><td>42761         </td><td>41067         </td><td>35803         </td><td>Exp1          </td></tr>\n",
       "\t<tr><td>5xBLS120_S300 </td><td>58139         </td><td>52793         </td><td>50890         </td><td>44074         </td><td>Exp1          </td></tr>\n",
       "\t<tr><td>BartHigh_S258 </td><td>50441         </td><td>46587         </td><td>44278         </td><td>37880         </td><td>Exp1          </td></tr>\n",
       "\t<tr><td>BartLow_S270  </td><td>59500         </td><td>56642         </td><td>54238         </td><td>45142         </td><td>Exp1          </td></tr>\n",
       "\t<tr><td>BaseA_S310    </td><td>43371         </td><td>40476         </td><td>38447         </td><td>33584         </td><td>Exp1          </td></tr>\n",
       "</tbody>\n",
       "</table>\n"
      ],
      "text/latex": [
       "\\begin{tabular}{r|llllll}\n",
       " Sample & input & filtered & seqtable & nonchim & Exp\\\\\n",
       "\\hline\n",
       "\t 10xBLS156\\_S303 & 76535            & 71931            & 69469            & 59843            & Exp1            \\\\\n",
       "\t 2xBLS143\\_S297  & 46036            & 42761            & 41067            & 35803            & Exp1            \\\\\n",
       "\t 5xBLS120\\_S300  & 58139            & 52793            & 50890            & 44074            & Exp1            \\\\\n",
       "\t BartHigh\\_S258  & 50441            & 46587            & 44278            & 37880            & Exp1            \\\\\n",
       "\t BartLow\\_S270   & 59500            & 56642            & 54238            & 45142            & Exp1            \\\\\n",
       "\t BaseA\\_S310     & 43371            & 40476            & 38447            & 33584            & Exp1            \\\\\n",
       "\\end{tabular}\n"
      ],
      "text/markdown": [
       "\n",
       "Sample | input | filtered | seqtable | nonchim | Exp | \n",
       "|---|---|---|---|---|---|\n",
       "| 10xBLS156_S303 | 76535          | 71931          | 69469          | 59843          | Exp1           | \n",
       "| 2xBLS143_S297  | 46036          | 42761          | 41067          | 35803          | Exp1           | \n",
       "| 5xBLS120_S300  | 58139          | 52793          | 50890          | 44074          | Exp1           | \n",
       "| BartHigh_S258  | 50441          | 46587          | 44278          | 37880          | Exp1           | \n",
       "| BartLow_S270   | 59500          | 56642          | 54238          | 45142          | Exp1           | \n",
       "| BaseA_S310     | 43371          | 40476          | 38447          | 33584          | Exp1           | \n",
       "\n",
       "\n"
      ],
      "text/plain": [
       "  Sample         input filtered seqtable nonchim Exp \n",
       "1 10xBLS156_S303 76535 71931    69469    59843   Exp1\n",
       "2 2xBLS143_S297  46036 42761    41067    35803   Exp1\n",
       "3 5xBLS120_S300  58139 52793    50890    44074   Exp1\n",
       "4 BartHigh_S258  50441 46587    44278    37880   Exp1\n",
       "5 BartLow_S270   59500 56642    54238    45142   Exp1\n",
       "6 BaseA_S310     43371 40476    38447    33584   Exp1"
      ]
     },
     "metadata": {},
     "output_type": "display_data"
    }
   ],
   "source": [
    "FullTrack = rbind(Track1,Track2,Track3) %>% \n",
    "    as.data.frame() %>%\n",
    "    mutate(., Sample = rownames(.)) %>%\n",
    "    .[,c(6,1:5)]\n",
    "head(FullTrack)\n"
   ]
  },
  {
   "cell_type": "code",
   "execution_count": 70,
   "metadata": {
    "scrolled": true
   },
   "outputs": [
    {
     "data": {
      "text/html": [
       "<table>\n",
       "<thead><tr><th scope=col>Sample</th><th scope=col>Exp</th><th scope=col>input</th><th scope=col>filtered</th><th scope=col>seqtable</th><th scope=col>nonchim</th><th scope=col>ThreshReads</th><th scope=col>NoContamReads</th></tr></thead>\n",
       "<tbody>\n",
       "\t<tr><td>10xBLS156_S303</td><td>Exp1          </td><td>76535         </td><td>71931         </td><td>69469         </td><td>59843         </td><td>59828         </td><td>40949         </td></tr>\n",
       "\t<tr><td>2xBLS143_S297 </td><td>Exp1          </td><td>46036         </td><td>42761         </td><td>41067         </td><td>35803         </td><td>35790         </td><td>19771         </td></tr>\n",
       "\t<tr><td>5xBLS120_S300 </td><td>Exp1          </td><td>58139         </td><td>52793         </td><td>50890         </td><td>44074         </td><td>44060         </td><td>20986         </td></tr>\n",
       "\t<tr><td>BaseA_S310    </td><td>Exp1          </td><td>43371         </td><td>40476         </td><td>38447         </td><td>33584         </td><td>33584         </td><td>19392         </td></tr>\n",
       "\t<tr><td>BaseB_S291    </td><td>Exp1          </td><td>34654         </td><td>31658         </td><td>30425         </td><td>26702         </td><td>26698         </td><td>14720         </td></tr>\n",
       "\t<tr><td>BaseC_S294    </td><td>Exp1          </td><td>45284         </td><td>42044         </td><td>40208         </td><td>35261         </td><td>35257         </td><td>19858         </td></tr>\n",
       "</tbody>\n",
       "</table>\n"
      ],
      "text/latex": [
       "\\begin{tabular}{r|llllllll}\n",
       " Sample & Exp & input & filtered & seqtable & nonchim & ThreshReads & NoContamReads\\\\\n",
       "\\hline\n",
       "\t 10xBLS156\\_S303 & Exp1             & 76535            & 71931            & 69469            & 59843            & 59828            & 40949           \\\\\n",
       "\t 2xBLS143\\_S297  & Exp1             & 46036            & 42761            & 41067            & 35803            & 35790            & 19771           \\\\\n",
       "\t 5xBLS120\\_S300  & Exp1             & 58139            & 52793            & 50890            & 44074            & 44060            & 20986           \\\\\n",
       "\t BaseA\\_S310     & Exp1             & 43371            & 40476            & 38447            & 33584            & 33584            & 19392           \\\\\n",
       "\t BaseB\\_S291     & Exp1             & 34654            & 31658            & 30425            & 26702            & 26698            & 14720           \\\\\n",
       "\t BaseC\\_S294     & Exp1             & 45284            & 42044            & 40208            & 35261            & 35257            & 19858           \\\\\n",
       "\\end{tabular}\n"
      ],
      "text/markdown": [
       "\n",
       "Sample | Exp | input | filtered | seqtable | nonchim | ThreshReads | NoContamReads | \n",
       "|---|---|---|---|---|---|\n",
       "| 10xBLS156_S303 | Exp1           | 76535          | 71931          | 69469          | 59843          | 59828          | 40949          | \n",
       "| 2xBLS143_S297  | Exp1           | 46036          | 42761          | 41067          | 35803          | 35790          | 19771          | \n",
       "| 5xBLS120_S300  | Exp1           | 58139          | 52793          | 50890          | 44074          | 44060          | 20986          | \n",
       "| BaseA_S310     | Exp1           | 43371          | 40476          | 38447          | 33584          | 33584          | 19392          | \n",
       "| BaseB_S291     | Exp1           | 34654          | 31658          | 30425          | 26702          | 26698          | 14720          | \n",
       "| BaseC_S294     | Exp1           | 45284          | 42044          | 40208          | 35261          | 35257          | 19858          | \n",
       "\n",
       "\n"
      ],
      "text/plain": [
       "  Sample         Exp  input filtered seqtable nonchim ThreshReads NoContamReads\n",
       "1 10xBLS156_S303 Exp1 76535 71931    69469    59843   59828       40949        \n",
       "2 2xBLS143_S297  Exp1 46036 42761    41067    35803   35790       19771        \n",
       "3 5xBLS120_S300  Exp1 58139 52793    50890    44074   44060       20986        \n",
       "4 BaseA_S310     Exp1 43371 40476    38447    33584   33584       19392        \n",
       "5 BaseB_S291     Exp1 34654 31658    30425    26702   26698       14720        \n",
       "6 BaseC_S294     Exp1 45284 42044    40208    35261   35257       19858        "
      ]
     },
     "metadata": {},
     "output_type": "display_data"
    }
   ],
   "source": [
    "FinalTrack = inner_join(FullTrack, tmp, by = 'Sample') %>% \n",
    "    select(Sample, Exp, input, filtered, seqtable, nonchim, ThreshReads, NoContamReads)\n",
    "head(FinalTrack)"
   ]
  },
  {
   "cell_type": "code",
   "execution_count": 72,
   "metadata": {},
   "outputs": [],
   "source": [
    "write.table(FinalTrack, file = '~/Hyphosphere/ReadTracking.txt', sep = '\\t')"
   ]
  }
 ],
 "metadata": {
  "kernelspec": {
   "display_name": "R",
   "language": "R",
   "name": "ir"
  },
  "language_info": {
   "codemirror_mode": "r",
   "file_extension": ".r",
   "mimetype": "text/x-r-source",
   "name": "R",
   "pygments_lexer": "r",
   "version": "3.6.0"
  }
 },
 "nbformat": 4,
 "nbformat_minor": 2
}
