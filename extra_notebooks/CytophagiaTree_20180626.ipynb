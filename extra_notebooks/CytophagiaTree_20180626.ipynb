{
 "cells": [
  {
   "cell_type": "markdown",
   "metadata": {},
   "source": [
    "# Cytophagia OTUs and rdp type strain isolate tree\n",
    "* Align all Hyphal OTUs and Cytophagia type strains from RDP\n",
    "* Use outgroup Bacteroides fragilis\n",
    "\n",
    "\n"
   ]
  },
  {
   "cell_type": "code",
   "execution_count": 1,
   "metadata": {
    "collapsed": true
   },
   "outputs": [],
   "source": [
    "import sys, os, re, glob\n",
    "from Bio import SeqIO, Entrez\n",
    "from pandas import *\n",
    "import numpy as np\n",
    "#import entrez.direct\n",
    "from cogent.app.fasttree import build_tree_from_alignment\n",
    "from cogent import DNA, LoadSeqs\n",
    "\n",
    "Entrez.email = \"be68@cornell.edu\"\n",
    "nprocs = 3"
   ]
  },
  {
   "cell_type": "code",
   "execution_count": 10,
   "metadata": {
    "collapsed": true
   },
   "outputs": [],
   "source": [
    "workDir = '/home/be68/Hyphosphere/data/Cytophagales/20180626/'\n",
    "\n",
    "FastaSource = '/home/be68/Hyphosphere/data/MiSeq/20180129/20180130.v2.otus.fa'\n",
    "OTUlist = '/home/be68/Hyphosphere/data/HyphalOTUs.txt'\n",
    "Group = 'o_Cytophagales'\n",
    "\n",
    "RDPfile = '/home/be68/Hyphosphere/data/Cytophagales/Cytophagales_rdp_download_224seqs.fa'\n",
    "\n",
    "# Group fasta will store the sequences pulled from the Fasta source file with the list of OTUs\n",
    "GroupFasta = '/home/be68/Hyphosphere/data/Cytophagales/HyphalCytophagales.fa'"
   ]
  },
  {
   "cell_type": "code",
   "execution_count": 5,
   "metadata": {},
   "outputs": [],
   "source": [
    "if not os.path.isdir(workDir):\n",
    "    os.mkdir(workDir)"
   ]
  },
  {
   "cell_type": "code",
   "execution_count": 6,
   "metadata": {
    "collapsed": true
   },
   "outputs": [],
   "source": [
    "os.chdir(workDir)"
   ]
  },
  {
   "cell_type": "markdown",
   "metadata": {},
   "source": [
    "# Retreive list of OTUs for group of interest from hyphal enriched OTUs table"
   ]
  },
  {
   "cell_type": "code",
   "execution_count": 7,
   "metadata": {},
   "outputs": [
    {
     "data": {
      "text/html": [
       "<div>\n",
       "<style scoped>\n",
       "    .dataframe tbody tr th:only-of-type {\n",
       "        vertical-align: middle;\n",
       "    }\n",
       "\n",
       "    .dataframe tbody tr th {\n",
       "        vertical-align: top;\n",
       "    }\n",
       "\n",
       "    .dataframe thead th {\n",
       "        text-align: right;\n",
       "    }\n",
       "</style>\n",
       "<table border=\"1\" class=\"dataframe\">\n",
       "  <thead>\n",
       "    <tr style=\"text-align: right;\">\n",
       "      <th></th>\n",
       "      <th>OTU</th>\n",
       "      <th>Phylum</th>\n",
       "      <th>Class</th>\n",
       "      <th>Order</th>\n",
       "      <th>Family</th>\n",
       "      <th>Genus</th>\n",
       "      <th>Species</th>\n",
       "      <th>Florence</th>\n",
       "      <th>N7</th>\n",
       "      <th>Pendelton</th>\n",
       "    </tr>\n",
       "  </thead>\n",
       "  <tbody>\n",
       "    <tr>\n",
       "      <th>1</th>\n",
       "      <td>Otu380</td>\n",
       "      <td>p_Acidobacteria</td>\n",
       "      <td>c_Acidobacteria_Gp1</td>\n",
       "      <td>g_Gp1</td>\n",
       "      <td>uncl_g_Gp1</td>\n",
       "      <td>uncl_g_Gp1</td>\n",
       "      <td>uncl_g_Gp1</td>\n",
       "      <td>2.704108</td>\n",
       "      <td>NaN</td>\n",
       "      <td>NaN</td>\n",
       "    </tr>\n",
       "    <tr>\n",
       "      <th>2</th>\n",
       "      <td>Otu2910</td>\n",
       "      <td>p_Acidobacteria</td>\n",
       "      <td>c_Acidobacteria_Gp10</td>\n",
       "      <td>uncl_c_Acidobacteria_Gp10</td>\n",
       "      <td>uncl_c_Acidobacteria_Gp10</td>\n",
       "      <td>g_Gp10</td>\n",
       "      <td>uncl_g_Gp10</td>\n",
       "      <td>5.435838</td>\n",
       "      <td>NaN</td>\n",
       "      <td>NaN</td>\n",
       "    </tr>\n",
       "    <tr>\n",
       "      <th>3</th>\n",
       "      <td>Otu754</td>\n",
       "      <td>p_Acidobacteria</td>\n",
       "      <td>c_Acidobacteria_Gp10</td>\n",
       "      <td>uncl_c_Acidobacteria_Gp10</td>\n",
       "      <td>uncl_c_Acidobacteria_Gp10</td>\n",
       "      <td>g_Gp10</td>\n",
       "      <td>uncl_g_Gp10</td>\n",
       "      <td>NaN</td>\n",
       "      <td>NaN</td>\n",
       "      <td>3.783544</td>\n",
       "    </tr>\n",
       "    <tr>\n",
       "      <th>4</th>\n",
       "      <td>Otu227</td>\n",
       "      <td>p_Acidobacteria</td>\n",
       "      <td>c_Acidobacteria_Gp17</td>\n",
       "      <td>g_Gp17</td>\n",
       "      <td>uncl_g_Gp17</td>\n",
       "      <td>uncl_g_Gp17</td>\n",
       "      <td>uncl_g_Gp17</td>\n",
       "      <td>4.332343</td>\n",
       "      <td>3.450006</td>\n",
       "      <td>3.156290</td>\n",
       "    </tr>\n",
       "    <tr>\n",
       "      <th>5</th>\n",
       "      <td>Otu411</td>\n",
       "      <td>p_Acidobacteria</td>\n",
       "      <td>c_Acidobacteria_Gp17</td>\n",
       "      <td>g_Gp17</td>\n",
       "      <td>uncl_g_Gp17</td>\n",
       "      <td>uncl_g_Gp17</td>\n",
       "      <td>uncl_g_Gp17</td>\n",
       "      <td>NaN</td>\n",
       "      <td>3.497636</td>\n",
       "      <td>3.737991</td>\n",
       "    </tr>\n",
       "  </tbody>\n",
       "</table>\n",
       "</div>"
      ],
      "text/plain": [
       "       OTU           Phylum                 Class                      Order  \\\n",
       "1   Otu380  p_Acidobacteria   c_Acidobacteria_Gp1                      g_Gp1   \n",
       "2  Otu2910  p_Acidobacteria  c_Acidobacteria_Gp10  uncl_c_Acidobacteria_Gp10   \n",
       "3   Otu754  p_Acidobacteria  c_Acidobacteria_Gp10  uncl_c_Acidobacteria_Gp10   \n",
       "4   Otu227  p_Acidobacteria  c_Acidobacteria_Gp17                     g_Gp17   \n",
       "5   Otu411  p_Acidobacteria  c_Acidobacteria_Gp17                     g_Gp17   \n",
       "\n",
       "                      Family        Genus      Species  Florence        N7  \\\n",
       "1                 uncl_g_Gp1   uncl_g_Gp1   uncl_g_Gp1  2.704108       NaN   \n",
       "2  uncl_c_Acidobacteria_Gp10       g_Gp10  uncl_g_Gp10  5.435838       NaN   \n",
       "3  uncl_c_Acidobacteria_Gp10       g_Gp10  uncl_g_Gp10       NaN       NaN   \n",
       "4                uncl_g_Gp17  uncl_g_Gp17  uncl_g_Gp17  4.332343  3.450006   \n",
       "5                uncl_g_Gp17  uncl_g_Gp17  uncl_g_Gp17       NaN  3.497636   \n",
       "\n",
       "   Pendelton  \n",
       "1        NaN  \n",
       "2        NaN  \n",
       "3   3.783544  \n",
       "4   3.156290  \n",
       "5   3.737991  "
      ]
     },
     "execution_count": 7,
     "metadata": {},
     "output_type": "execute_result"
    }
   ],
   "source": [
    "df = pandas.read_csv(OTUlist, sep = \"\\t\")\n",
    "df.head()"
   ]
  },
  {
   "cell_type": "markdown",
   "metadata": {},
   "source": [
    "* Subset to Cytophagales"
   ]
  },
  {
   "cell_type": "code",
   "execution_count": 8,
   "metadata": {},
   "outputs": [
    {
     "name": "stdout",
     "output_type": "stream",
     "text": [
      "(13, 10)\n",
      "       OTU           Phylum         Class           Order           Family  \\\n",
      "16   Otu44  p_Bacteroidetes  c_Cytophagia  o_Cytophagales  f_Cytophagaceae   \n",
      "17  Otu252  p_Bacteroidetes  c_Cytophagia  o_Cytophagales   g_Chryseolinea   \n",
      "18  Otu118  p_Bacteroidetes  c_Cytophagia  o_Cytophagales   g_Chryseolinea   \n",
      "19   Otu90  p_Bacteroidetes  c_Cytophagia  o_Cytophagales   g_Ohtaekwangia   \n",
      "20  Otu188  p_Bacteroidetes  c_Cytophagia  o_Cytophagales   g_Ohtaekwangia   \n",
      "\n",
      "                        Genus                         Species  Florence  \\\n",
      "16       uncl_f_Cytophagaceae            uncl_f_Cytophagaceae   6.06969   \n",
      "17     s_Chryseolinea_serpens     uncl_s_Chryseolinea_serpens       NaN   \n",
      "18     s_Chryseolinea_serpens     uncl_s_Chryseolinea_serpens       NaN   \n",
      "19   s_Ohtaekwangia_koreensis   uncl_s_Ohtaekwangia_koreensis       NaN   \n",
      "20  s_Ohtaekwangia_kribbensis  uncl_s_Ohtaekwangia_kribbensis       NaN   \n",
      "\n",
      "          N7  Pendelton  \n",
      "16       NaN        NaN  \n",
      "17  5.463223        NaN  \n",
      "18  1.899348        NaN  \n",
      "19  1.690660   2.407355  \n",
      "20       NaN   6.069959  \n"
     ]
    }
   ],
   "source": [
    "is_Group =  df['Order']==Group\n",
    "Group_df = df[is_Group]\n",
    "print(Group_df.shape)\n",
    "print(Group_df.head())"
   ]
  },
  {
   "cell_type": "code",
   "execution_count": 9,
   "metadata": {},
   "outputs": [
    {
     "data": {
      "text/plain": [
       "['Otu44',\n",
       " 'Otu252',\n",
       " 'Otu118',\n",
       " 'Otu90',\n",
       " 'Otu188',\n",
       " 'Otu70',\n",
       " 'Otu2966',\n",
       " 'Otu64',\n",
       " 'Otu62',\n",
       " 'Otu38',\n",
       " 'Otu151',\n",
       " 'Otu82',\n",
       " 'Otu397']"
      ]
     },
     "execution_count": 9,
     "metadata": {},
     "output_type": "execute_result"
    }
   ],
   "source": [
    "OTUoi = Group_df.OTU.tolist()\n",
    "OTUoi"
   ]
  },
  {
   "cell_type": "code",
   "execution_count": 14,
   "metadata": {
    "collapsed": true
   },
   "outputs": [],
   "source": [
    "output = open(GroupFasta, \"w\")\n",
    "\n",
    "for record in SeqIO.parse(open(FastaSource, \"rU\"), \"fasta\") :\n",
    "    if record.id in OTUoi:\n",
    "        output.write(\">\"+record.id+\"\\n\"+str(record.seq)+\"\\n\")"
   ]
  },
  {
   "cell_type": "code",
   "execution_count": 15,
   "metadata": {
    "collapsed": true
   },
   "outputs": [],
   "source": [
    "OTUfasta = GroupFasta"
   ]
  },
  {
   "cell_type": "code",
   "execution_count": 16,
   "metadata": {
    "scrolled": true
   },
   "outputs": [
    {
     "name": "stdout",
     "output_type": "stream",
     "text": [
      ">Otu38\n",
      "TACGGAGGGTGCAAGCGTTGTCCGGATTTATTGGGTTTAAAGGGTGCGTAGGCGGTCTTTTAAGTCAGCGGTGAAATTACTGAGCTCAACTCGGTGACTGCCGTTGATACTGATTGACTTGAGTATTGACGAAGAGGGCGGAATTGAAGGTGTAGCGGTGAAATGCATAGATATCTTCAAGAACACCGATTGCGAAGGCAGCTCTCTAGGGAATAACTGACGCTGAGGCACGAAAGCGTGGGTAGCAAACAGG\n",
      ">Otu44\n",
      "TACGGAGGGTGCAAGCGTTGTCCGGATTTATTGGGTTTAAAGGGAGCGTAGGCGGCTTTTTAAGTCAGTGGTGAAATCCTCCAGCTTAACTGGAGACGTGCCATTGATACTGATTAGCTTGAGTACTGATGAGGTAGGCGGAATTGAAGGTGTAGCGGTGAAATGCATAGATATCTTCAAGAACACCGATTGCGAAGGCAGCTTACTAAGGAGTAACTGACGCTGAGGCTCGAAAGCGTGGGGATCGAACAGG\n",
      ">Otu62\n",
      "TACGTAGGTGGCAAGCGTTGTCCGGATTTATTGGGTTTAAAGGGTGCGTAGGCGGTCTGTTAAGTCAGTGGTGAAATATGGCAGCTTAACTGTCAGGGTGCCATTGATACTGATGGACTTGAGTGAAGTCGAAGTAGGCGGAATTGACGGTGTAGCGGTGAAATGCTTAGATATCGTCAAGAACACCGATAGTGAAGACAGCTTACTAGGCTTATACTGACGCTGAGGCACGAAAGTGTGGGGATCAAACAGG\n",
      ">Otu64\n",
      "TACGTAGGTGGCAAGCGTTGTCCGGATTTATTGGGTTTAAAGGGTGCGTAGGCGGTCTTTTAAGTCAGTGCTGAAATACTCCAGCTTAACTGGAGGGGTGGCATTGATACTGGAAGACTCGAGTGTAGTCGAAGTAGGCGGAATTGACGGTGTAGCGGTGAAATGCTTAGATATCGTCAAGAACACCGATAGTGAAGACAGCTTACTAGGCTACAACTGACGCTGAGGCACGAAAGTGTGGGGATCAAACAGG\n",
      ">Otu70\n",
      "TACGTAGGTGGCAAGCGTTGTCCGGATTTATTGGGTTTAAAGGGTGCGTAGGCGGCCCCATAAGTCAGTGCTGAAATATCCCGGCTTAACCGGGAGGGTGGCATTGATACTGTGGGGCTTGAGTAAAGTTGAGGTTGGCGGAATTGACGGTGTAGCGGTGAAATGCTTAGATATCGTCAAGAACACCGATAGTGTAGACAGCTAACTAAGCTTTAACTGACGCTGAGGCACGAAAGTGTGGGGATCAAACAGG\n",
      ">Otu82\n",
      "TACGTAGGTGGCAAGCGTTGTCCGGATTTATTGGGTTTAAAGGGTGCGTAGGCGGTTTATTAAGTCAGTGGTGAAAGACGATAGCTTAACTATCGAGGTGCCATTGATACTGATGAACTTGAGTGCACACGAGGTAAGCGGAATGGACGGTGTAGCGGTGAAATGCATAGATATCGTCCAGAACACCGATAGTGAAGACAGCTTACCAGAGTGCAACTGACGCTGAGGCACGAAAGTGTGGGGATCAAACAGG\n",
      ">Otu90\n",
      "TACGTAGGTGGCAAGCGTTGTCCGGATTTATTGGGTTTAAAGGGTGCGTAGGCGGCCCTGTAAGTCAGTGCTGAAATATCCCGGCTTAACCGGGAGGGTGGCATTGATACTGCGGGGCTAGAGTACAGATGAGGTAGGCGGAATTGACGGTGTAGCGGTGAAATGCTTAGATATCGTCAAGAACACCTATAGCGAAGGCAGCTTACTAGGCTGTAACTGACGCTGAGGCACGAAAGTGTGGGGATCAAACAGG\n",
      ">Otu118\n",
      ">S000528922 Bacteroides fragilis (T); CR626927\n",
      "tt-ACAATGAAGA-GTTTGA-TCC-TGGCTCAGGATGAACGCTAG-CTACA-GGC--TT-A---ACA-CAT-G-CAA-GT\n",
      "-CGAGGGgcatcaggaagaaagcttgctttctttgctggcg--------------------AC-CGGCGCACGGGTGAGT\n",
      "AAC-ACGTATCCAACCTGCCCTTTACTCGGGGATAGCCTTTCGAAAGAAAGATTAATACCCG-ATAGCaTAATG--A-TT\n",
      "CC-GCAT-GGT--T--T--CATTAt-TAAAGGatt---CCGGTAAAGGATGGGGATGCGTTCCATTAGGTTGTTGG-T-G\n",
      "-AGGTAACGGCTCACCAAGCCTTCGATGGATAGGGGT--TCT-GAGA---GGAAGGTCCCCCACATTGGAACTGAGACAC\n",
      "GGTCCAAACTCCTACGGGAGGCAGCAGTGAGGAATATTGGTCAATGGGCGCTAGCCTGAACCAGCCAAGTAGCGTGAAGG\n",
      "ATGAAGGCTcTA-T-GGGTC-GTAAACTTCTTTTA-TAT----AAGAATAaagtgcagtatgtatactgttt--------\n"
     ]
    }
   ],
   "source": [
    "%%bash -s \"$OTUfasta\" \"$RDPfile\" \n",
    "#head $1 -n 15\n",
    "head $1 -n 15\n",
    "head $2 -n 8\n"
   ]
  },
  {
   "cell_type": "markdown",
   "metadata": {},
   "source": [
    "## Using SSU-Align to seqs from hyphal samples and mask based on alignment posterior probabilities."
   ]
  },
  {
   "cell_type": "markdown",
   "metadata": {},
   "source": [
    "### Align hyphal OTUs"
   ]
  },
  {
   "cell_type": "code",
   "execution_count": 17,
   "metadata": {},
   "outputs": [
    {
     "name": "stdout",
     "output_type": "stream",
     "text": [
      "# _ssu-prep :: prepare SSU rRNA sequences for parallel ssu-align jobs\n",
      "# SSU-ALIGN 0.1.1 (Feb 2016)\n",
      "# Copyright (C) 2016 Howard Hughes Medical Institute\n",
      "# Freely distributed under the BSD open source license.\n",
      "# - - - - - - - - - - - - - - - - - - - - - - - - - - - - - - - - - - - -\n",
      "# command: _ssu-prep -x -f -b 50 --dna --rfonly /home/be68/Hyphosphere/data/Cytophagales/HyphalCytophagales.fa ssu_aln 1\n",
      "# date:    Tue Jun 26 09:38:53 2018\n",
      "#\n",
      "# Validating input sequence file ... done.\n",
      "#\n",
      "# Preparing 1 ssu-align jobs ...\n",
      "# Partitioning seqs with goal of equalizing total number of nucleotides per job ...\n",
      "#\n",
      "# output file name        description                                       \n",
      "# ----------------------  --------------------------------------------------\n",
      "  ssu_aln/HyphalCytophagales.fa.1  partition 1 FASTA sequence file (13 seqs; 3289 nt)\n",
      "  ssu_aln.ssu-align.sh    shell script that will execute 1 ssu-align jobs\n",
      "#\n",
      "################################################################################\n",
      "# To execute all 1 ssu-align jobs, run the shell script with the command:\n",
      "#\t\"ssu_aln.ssu-align.sh\"\n",
      "# (it is an executable file)\n",
      "################################################################################\n",
      "#\n",
      "# The final job will merge the output from all jobs once they are all finished.\n",
      "#\n",
      "# If one or more jobs fail: rerun the failed jobs, wait for them to finish,\n",
      "# and then perform manual merge from this directory by executing:\n",
      "#\tssu-merge ssu_aln\n",
      "#\n",
      "# List of executed commands saved in:     ssu_aln/ssu_aln.ssu-prep.log.\n",
      "# Output printed to the screen saved in:  ssu_aln/ssu_aln.ssu-prep.sum.\n",
      "#\n",
      "# CPU time:  00:00:00.13  (hh:mm:ss)\n",
      "# \n"
     ]
    }
   ],
   "source": [
    "%%bash -s \"$OTUfasta\"\n",
    "ssu-prep -f -x -b 50 --rfonly --dna $1 ssu_aln 1"
   ]
  },
  {
   "cell_type": "code",
   "execution_count": 18,
   "metadata": {},
   "outputs": [
    {
     "name": "stdout",
     "output_type": "stream",
     "text": [
      "# Executing: ssu-align --merge 1 -b 50 --dna --rfonly ssu_aln/HyphalCytophagales.fa.1 ssu_aln/ssu_aln.1\n",
      "# _ssu-align :: align SSU rRNA sequences\n",
      "# SSU-ALIGN 0.1.1 (Feb 2016)\n",
      "# Copyright (C) 2016 Howard Hughes Medical Institute\n",
      "# Freely distributed under the BSD open source license.\n",
      "# - - - - - - - - - - - - - - - - - - - - - - - - - - - - - - - - - - - -\n",
      "# command: _ssu-align --merge 1 -b 50 --dna --rfonly ssu_aln/HyphalCytophagales.fa.1 ssu_aln/ssu_aln.1\n",
      "# date:    Tue Jun 26 09:39:07 2018\n",
      "#\n",
      "# Validating input sequence file ... done.\n",
      "#\n",
      "# Stage 1: Determining SSU start/end positions and best-matching models...\n",
      "#\n",
      "# output file name            description                                \n",
      "# --------------------------  -------------------------------------------\n",
      "  ssu_aln.1.tab               locations/scores of hits defined by HMM(s)\n",
      "  ssu_aln.1.bacteria.hitlist  list of sequences to align with bacteria CM\n",
      "  ssu_aln.1.bacteria.fa            13 sequences to align with bacteria CM\n",
      "#\n",
      "# Stage 2: Aligning each sequence to its best-matching model...\n",
      "#\n",
      "# output file name            description\n",
      "# --------------------------  ---------------------------------------\n",
      "  ssu_aln.1.bacteria.stk      bacteria alignment\n",
      "  ssu_aln.1.bacteria.cmalign  bacteria cmalign output\n",
      "  ssu_aln.1.bacteria.ifile    bacteria insert info\n",
      "  ssu_aln.1.scores            list of CM/HMM scores for each sequence\n",
      "#\n",
      "# Summary statistics:\n",
      "#\n",
      "# model or       number  fraction        average   average               \n",
      "# category      of seqs  of total         length  coverage    nucleotides\n",
      "# ------------  -------  --------  -------------  --------  -------------\n",
      "  *input*            13    1.0000         253.00    1.0000           3289\n",
      "#\n",
      "  archaea             0    0.0000              -         -              0\n",
      "  bacteria           13    1.0000         253.00    1.0000           3289\n",
      "  eukarya             0    0.0000              -         -              0\n",
      "#\n",
      "  *all-models*       13    1.0000         253.00    1.0000           3289\n",
      "  *no-models*         0    0.0000              -         -              0\n",
      "#\n",
      "# Speed statistics:\n",
      "#\n",
      "# stage      num seqs  seq/sec  seq/sec/model    nucleotides    nt/sec\n",
      "# ---------  --------  -------  -------------  -------------  --------\n",
      "  search           13    8.880          2.960           3289    2246.6\n",
      "  alignment        13    7.390          7.390           3289    1869.7\n",
      "#\n",
      "#\n",
      "# List of executed commands saved in:     ssu_aln.1.ssu-align.log.\n",
      "# Output printed to the screen saved in:  ssu_aln.1.ssu-align.sum.\n",
      "#\n",
      "# All output files created in directory ./ssu_aln/ssu_aln.1/\n",
      "#\n",
      "# CPU time (search):     00:00:01.46  (hh:mm:ss)\n",
      "# CPU time (alignment):  00:00:01.76  (hh:mm:ss)\n",
      "# CPU time (total):      00:00:03.38  (hh:mm:ss)\n",
      "#\n",
      "################################################################################\n",
      "#\n",
      "# Alignments successfully created.\n",
      "#\n",
      "# Checking/waiting for other jobs to finish before merging...\n",
      "#\n",
      "# Job 1 (dir: ssu_aln/ssu_aln.1) completed successfully! 0/1 still incomplete.\n",
      "#\n",
      "# All 1 jobs successfully completed.\n",
      "# About to merge their output:\n",
      "#\n",
      "# Executing:  ssu-merge ssu_aln\n",
      "#\n",
      "################################################################################\n",
      "#\n",
      "# _ssu-merge :: merge SSU rRNA alignments\n",
      "# SSU-ALIGN 0.1.1 (Feb 2016)\n",
      "# Copyright (C) 2016 Howard Hughes Medical Institute\n",
      "# Freely distributed under the BSD open source license.\n",
      "# - - - - - - - - - - - - - - - - - - - - - - - - - - - - - - - - - - - -\n",
      "# command: _ssu-merge ssu_aln\n",
      "# date:    Tue Jun 26 09:39:10 2018\n",
      "#\n",
      "# Merging files from 1 ssu-align runs...\n",
      "#\n",
      "#                                     # files     # seqs\n",
      "# merged file name          CM name    merged     merged\n",
      "# ------------------------  --------  -------  ---------\n",
      "  ssu_aln.tab               -               1          -\n",
      "  ssu_aln.scores            -               1          -\n",
      "  ssu_aln.ssu-align.sum     -               1          -\n",
      "  ssu_aln.ssu-align.log     -               1          -\n",
      "#\n",
      "  ssu_aln.bacteria.fa       bacteria        1         13\n",
      "  ssu_aln.bacteria.hitlist  bacteria        1         13\n",
      "  ssu_aln.bacteria.cmalign  bacteria        1         13\n",
      "  ssu_aln.bacteria.ifile    bacteria        1         13\n",
      "  ssu_aln.bacteria.stk      bacteria        1         13\n",
      "#\n",
      "#\n",
      "# Summary statistics:\n",
      "#\n",
      "# model or       number  fraction        average   average               \n",
      "# category      of seqs  of total         length  coverage    nucleotides\n",
      "# ------------  -------  --------  -------------  --------  -------------\n",
      "  *input*            13    1.0000         253.00    1.0000           3289\n",
      "#\n",
      "  archaea             0    0.0000              -         -              0\n",
      "  bacteria           13    1.0000         253.00    1.0000           3289\n",
      "  eukarya             0    0.0000              -         -              0\n",
      "#\n",
      "  *all-models*       13    1.0000         253.00    1.0000           3289\n",
      "  *no-models*         0    0.0000              -         -              0\n",
      "#\n",
      "# Speed statistics:\n",
      "#\n",
      "# stage      num seqs  seq/sec  seq/sec/model    nucleotides    nt/sec\n",
      "# ---------  --------  -------  -------------  -------------  --------\n",
      "  search           13   13.000          4.333           3289    3289.0\n",
      "  alignment        13   13.000         13.000           3289    3289.0\n",
      "#\n",
      "# Summed ssu-align CPU time (search):     00:00:00.00  (hh:mm:ss)\n",
      "# Summed ssu-align CPU time (alignment):  00:00:00.00  (hh:mm:ss)\n",
      "# Summed ssu-align CPU time (total):      00:00:00.00  (hh:mm:ss)\n",
      "#\n",
      "# Cleaning up by removing original files that were just merged ... done.\n",
      "#\n",
      "# List of executed commands saved in:     ssu_aln.ssu-merge.log.\n",
      "# Output printed to the screen saved in:  ssu_aln.ssu-merge.sum.\n",
      "#\n",
      "# All output files created in directory ./ssu_aln/\n",
      "#\n",
      "# CPU time:  00:00:00.07  (hh:mm:ss)\n",
      "# \n"
     ]
    }
   ],
   "source": [
    "%%bash\n",
    "./ssu_aln.ssu-align.sh"
   ]
  },
  {
   "cell_type": "code",
   "execution_count": 20,
   "metadata": {},
   "outputs": [
    {
     "name": "stdout",
     "output_type": "stream",
     "text": [
      "# _ssu-mask :: mask SSU rRNA alignments\n",
      "# SSU-ALIGN 0.1.1 (Feb 2016)\n",
      "# Copyright (C) 2016 Howard Hughes Medical Institute\n",
      "# Freely distributed under the BSD open source license.\n",
      "# - - - - - - - - - - - - - - - - - - - - - - - - - - - - - - - - - - - -\n",
      "# command: _ssu-mask --afa --dna ssu_aln\n",
      "# date:    Tue Jun 26 09:39:15 2018\n",
      "#\n",
      "# Masking alignments based on posterior probabilities...\n",
      "#\n",
      "#                                                     mask    \n",
      "#                                                 ------------\n",
      "# file name                  in/out  type  #cols  incl.  excl.\n",
      "# -------------------------  ------  ----  -----  -----  -----\n",
      "  ssu_aln.bacteria.stk        input   aln   1582      -      -\n",
      "  ssu_aln.bacteria.mask      output  mask   1582    252   1330\n",
      "  ssu_aln.bacteria.mask.pdf  output   pdf   1582    252   1330\n",
      "  ssu_aln.bacteria.mask.afa  output   aln    252      -      -\n",
      "#\n",
      "# All attempts to draw structure diagrams of masks were successful.\n",
      "#\n",
      "# List of executed commands saved in:     ssu_aln.ssu-mask.log.\n",
      "# Output printed to the screen saved in:  ssu_aln.ssu-mask.sum.\n",
      "#\n",
      "# All output files created in directory ./ssu_aln/\n",
      "#\n",
      "# CPU time:  00:00:00.54  (hh:mm:ss)\n",
      "# \n"
     ]
    }
   ],
   "source": [
    "!ssu-mask --dna --afa ssu_aln"
   ]
  },
  {
   "cell_type": "markdown",
   "metadata": {},
   "source": [
    "### align RDP sequences"
   ]
  },
  {
   "cell_type": "code",
   "execution_count": 23,
   "metadata": {},
   "outputs": [
    {
     "name": "stdout",
     "output_type": "stream",
     "text": [
      "# _ssu-prep :: prepare SSU rRNA sequences for parallel ssu-align jobs\n",
      "# SSU-ALIGN 0.1.1 (Feb 2016)\n",
      "# Copyright (C) 2016 Howard Hughes Medical Institute\n",
      "# Freely distributed under the BSD open source license.\n",
      "# - - - - - - - - - - - - - - - - - - - - - - - - - - - - - - - - - - - -\n",
      "# command: _ssu-prep -x -f -b 50 --dna --rfonly /home/be68/Hyphosphere/data/Cytophagales/Cytophagales_rdp_download_224seqs.fa ssr_aln 2\n",
      "# date:    Tue Jun 26 09:40:36 2018\n",
      "#\n",
      "# Validating input sequence file ... done.\n",
      "#\n",
      "# Preparing 2 ssu-align jobs ...\n",
      "# Partitioning seqs with goal of equalizing total number of nucleotides per job ...\n",
      "#\n",
      "# output file name                       description                                          \n",
      "# -------------------------------------  -----------------------------------------------------\n",
      "  ssr_aln/Cytophagales_rdp_download_224seqs.fa.1  partition 1 FASTA sequence file (111 seqs; 160259 nt)\n",
      "  ssr_aln/Cytophagales_rdp_download_224seqs.fa.2  partition 2 FASTA sequence file (113 seqs; 160238 nt)\n",
      "  ssr_aln.ssu-align.sh                   shell script that will execute 2 ssu-align jobs\n",
      "#\n",
      "################################################################################\n",
      "# To execute all 2 ssu-align jobs, run the shell script with the command:\n",
      "#\t\"ssr_aln.ssu-align.sh\"\n",
      "# (it is an executable file)\n",
      "################################################################################\n",
      "#\n",
      "# The final job will merge the output from all jobs once they are all finished.\n",
      "#\n",
      "# If one or more jobs fail: rerun the failed jobs, wait for them to finish,\n",
      "# and then perform manual merge from this directory by executing:\n",
      "#\tssu-merge ssr_aln\n",
      "#\n",
      "# List of executed commands saved in:     ssr_aln/ssr_aln.ssu-prep.log.\n",
      "# Output printed to the screen saved in:  ssr_aln/ssr_aln.ssu-prep.sum.\n",
      "#\n",
      "# CPU time:  00:00:00.16  (hh:mm:ss)\n",
      "# \n"
     ]
    }
   ],
   "source": [
    "%%bash -s \"$RDPfile\"\n",
    "ssu-prep -f -x -b 50 --rfonly --dna $1 ssr_aln 2"
   ]
  },
  {
   "cell_type": "code",
   "execution_count": 24,
   "metadata": {},
   "outputs": [
    {
     "name": "stdout",
     "output_type": "stream",
     "text": [
      "# Executing: ssu-align -b 50 --dna --rfonly ssr_aln/Cytophagales_rdp_download_224seqs.fa.1 ssr_aln/ssr_aln.1 > /dev/null &\n",
      "# Executing: ssu-align --merge 2 -b 50 --dna --rfonly ssr_aln/Cytophagales_rdp_download_224seqs.fa.2 ssr_aln/ssr_aln.2\n",
      "# _ssu-align :: align SSU rRNA sequences\n",
      "# SSU-ALIGN 0.1.1 (Feb 2016)\n",
      "# Copyright (C) 2016 Howard Hughes Medical Institute\n",
      "# Freely distributed under the BSD open source license.\n",
      "# - - - - - - - - - - - - - - - - - - - - - - - - - - - - - - - - - - - -\n",
      "# command: _ssu-align --merge 2 -b 50 --dna --rfonly ssr_aln/Cytophagales_rdp_download_224seqs.fa.2 ssr_aln/ssr_aln.2\n",
      "# date:    Tue Jun 26 09:40:41 2018\n",
      "#\n",
      "# Validating input sequence file ... done.\n",
      "#\n",
      "# Stage 1: Determining SSU start/end positions and best-matching models...\n",
      "#\n",
      "# output file name            description                                \n",
      "# --------------------------  -------------------------------------------\n",
      "  ssr_aln.2.tab               locations/scores of hits defined by HMM(s)\n",
      "  ssr_aln.2.bacteria.hitlist  list of sequences to align with bacteria CM\n",
      "  ssr_aln.2.bacteria.fa           113 sequences to align with bacteria CM\n",
      "#\n",
      "# Stage 2: Aligning each sequence to its best-matching model...\n",
      "#\n",
      "# output file name            description\n",
      "# --------------------------  ---------------------------------------\n",
      "  ssr_aln.2.bacteria.stk      bacteria alignment\n",
      "  ssr_aln.2.bacteria.cmalign  bacteria cmalign output\n",
      "  ssr_aln.2.bacteria.ifile    bacteria insert info\n",
      "  ssr_aln.2.scores            list of CM/HMM scores for each sequence\n",
      "#\n",
      "# Summary statistics:\n",
      "#\n",
      "# model or       number  fraction        average   average               \n",
      "# category      of seqs  of total         length  coverage    nucleotides\n",
      "# ------------  -------  --------  -------------  --------  -------------\n",
      "  *input*           113    1.0000        1418.04    1.0000         160238\n",
      "#\n",
      "  archaea             0    0.0000              -         -              0\n",
      "  bacteria          113    1.0000        1407.43    0.9925         159040\n",
      "  eukarya             0    0.0000              -         -              0\n",
      "#\n",
      "  *all-models*      113    1.0000        1407.43    0.9925         159040\n",
      "  *no-models*         0    0.0000              -         -              0\n",
      "#\n",
      "# Speed statistics:\n",
      "#\n",
      "# stage      num seqs  seq/sec  seq/sec/model    nucleotides    nt/sec\n",
      "# ---------  --------  -------  -------------  -------------  --------\n",
      "  search          113    1.787          0.596         160238    2534.5\n",
      "  alignment       113    0.921          0.921         159040    1296.8\n",
      "#\n",
      "#\n",
      "# List of executed commands saved in:     ssr_aln.2.ssu-align.log.\n",
      "# Output printed to the screen saved in:  ssr_aln.2.ssu-align.sum.\n",
      "#\n",
      "# All output files created in directory ./ssr_aln/ssr_aln.2/\n",
      "#\n",
      "# CPU time (search):     00:01:03.22  (hh:mm:ss)\n",
      "# CPU time (alignment):  00:02:02.64  (hh:mm:ss)\n",
      "# CPU time (total):      00:03:06.06  (hh:mm:ss)\n",
      "#\n",
      "################################################################################\n",
      "#\n",
      "# Alignments successfully created.\n",
      "#\n",
      "# Checking/waiting for other jobs to finish before merging...\n",
      "#\n",
      "# Job 2 (dir: ssr_aln/ssr_aln.2) completed successfully! 1/2 still incomplete.\n",
      "# Job 1 (dir: ssr_aln/ssr_aln.1) completed successfully! 0/2 still incomplete.\n",
      "#\n",
      "# All 2 jobs successfully completed.\n",
      "# About to merge their output:\n",
      "#\n",
      "# Executing:  ssu-merge ssr_aln\n",
      "#\n",
      "################################################################################\n",
      "#\n",
      "# _ssu-merge :: merge SSU rRNA alignments\n",
      "# SSU-ALIGN 0.1.1 (Feb 2016)\n",
      "# Copyright (C) 2016 Howard Hughes Medical Institute\n",
      "# Freely distributed under the BSD open source license.\n",
      "# - - - - - - - - - - - - - - - - - - - - - - - - - - - - - - - - - - - -\n",
      "# command: _ssu-merge ssr_aln\n",
      "# date:    Tue Jun 26 09:43:56 2018\n",
      "#\n",
      "# Merging files from 2 ssu-align runs...\n",
      "#\n",
      "#                                     # files     # seqs\n",
      "# merged file name          CM name    merged     merged\n",
      "# ------------------------  --------  -------  ---------\n",
      "  ssr_aln.tab               -               2          -\n",
      "  ssr_aln.scores            -               2          -\n",
      "  ssr_aln.ssu-align.sum     -               2          -\n",
      "  ssr_aln.ssu-align.log     -               2          -\n",
      "#\n",
      "  ssr_aln.bacteria.fa       bacteria        2        224\n",
      "  ssr_aln.bacteria.hitlist  bacteria        2        224\n",
      "  ssr_aln.bacteria.cmalign  bacteria        2        224\n",
      "  ssr_aln.bacteria.ifile    bacteria        2        224\n",
      "  ssr_aln.bacteria.stk      bacteria        2        224\n",
      "#\n",
      "#\n",
      "# Summary statistics:\n",
      "#\n",
      "# model or       number  fraction        average   average               \n",
      "# category      of seqs  of total         length  coverage    nucleotides\n",
      "# ------------  -------  --------  -------------  --------  -------------\n",
      "  *input*           224    1.0000        1430.79    1.0000         320497\n",
      "#\n",
      "  archaea             0    0.0000              -         -              0\n",
      "  bacteria          224    1.0000        1422.08    0.9939         318546\n",
      "  eukarya             0    0.0000              -         -              0\n",
      "#\n",
      "  *all-models*      224    1.0000        1422.08    0.9939         318546\n",
      "  *no-models*         0    0.0000              -         -              0\n",
      "#\n",
      "# Speed statistics:\n",
      "#\n",
      "# stage      num seqs  seq/sec  seq/sec/model    nucleotides    nt/sec\n",
      "# ---------  --------  -------  -------------  -------------  --------\n",
      "  search          224  224.000         74.667         320497  320497.0\n",
      "  alignment       224  224.000        224.000         318546  318546.0\n",
      "#\n",
      "# Summed ssu-align CPU time (search):     00:00:00.00  (hh:mm:ss)\n",
      "# Summed ssu-align CPU time (alignment):  00:00:00.00  (hh:mm:ss)\n",
      "# Summed ssu-align CPU time (total):      00:00:00.00  (hh:mm:ss)\n",
      "#\n",
      "# Cleaning up by removing original files that were just merged ... done.\n",
      "#\n",
      "# List of executed commands saved in:     ssr_aln.ssu-merge.log.\n",
      "# Output printed to the screen saved in:  ssr_aln.ssu-merge.sum.\n",
      "#\n",
      "# All output files created in directory ./ssr_aln/\n",
      "#\n",
      "# CPU time:  00:00:00.08  (hh:mm:ss)\n",
      "# \n"
     ]
    }
   ],
   "source": [
    "%%bash\n",
    "./ssr_aln.ssu-align.sh"
   ]
  },
  {
   "cell_type": "code",
   "execution_count": 25,
   "metadata": {
    "scrolled": true
   },
   "outputs": [
    {
     "name": "stdout",
     "output_type": "stream",
     "text": [
      "# _ssu-mask :: mask SSU rRNA alignments\n",
      "# SSU-ALIGN 0.1.1 (Feb 2016)\n",
      "# Copyright (C) 2016 Howard Hughes Medical Institute\n",
      "# Freely distributed under the BSD open source license.\n",
      "# - - - - - - - - - - - - - - - - - - - - - - - - - - - - - - - - - - - -\n",
      "# command: _ssu-mask -s ssu_aln/ssu_aln.bacteria.mask --afa --dna ssr_aln/\n",
      "# date:    Tue Jun 26 09:43:56 2018\n",
      "#\n",
      "# Masking alignments using pre-existing masks...\n",
      "#\n",
      "#                                                     mask    \n",
      "#                                                 ------------\n",
      "# file name                  in/out  type  #cols  incl.  excl.\n",
      "# -------------------------  ------  ----  -----  -----  -----\n",
      "  ssr_aln.bacteria.stk        input   aln   1582      -      -\n",
      "  ssu_aln.bacteria.mask       input  mask   1582    252   1330\n",
      "  ssr_aln.bacteria.mask.pdf  output   pdf   1582    252   1330\n",
      "  ssr_aln.bacteria.mask.afa  output   aln    252      -      -\n",
      "#\n",
      "# All attempts to draw structure diagrams of masks were successful.\n",
      "#\n",
      "# List of executed commands saved in:     ssr_aln.ssu-mask.log.\n",
      "# Output printed to the screen saved in:  ssr_aln.ssu-mask.sum.\n",
      "#\n",
      "# All output files created in directory ./ssr_aln/\n",
      "#\n",
      "# CPU time:  00:00:00.54  (hh:mm:ss)\n",
      "# \n"
     ]
    }
   ],
   "source": [
    "!ssu-mask -s ssu_aln/ssu_aln.bacteria.mask --dna --afa ssr_aln/"
   ]
  },
  {
   "cell_type": "code",
   "execution_count": 26,
   "metadata": {
    "collapsed": true
   },
   "outputs": [],
   "source": [
    "!cat ssr_aln/ssr_aln.bacteria.mask.afa ssu_aln/ssu_aln.bacteria.mask.afa > aln_for_tree.fasta"
   ]
  },
  {
   "cell_type": "code",
   "execution_count": 27,
   "metadata": {},
   "outputs": [
    {
     "name": "stdout",
     "output_type": "stream",
     "text": [
      ">S000528922 Bacteroides fragilis (T); CR626927\r\n",
      "TACGGAGGATCCGAGCGTTATCCGGATTTATTGGGTTTAAAGGGAGCGTAGGTGGACTGG\r\n",
      "TAAGTCAGTTGTGAAAGTTTGCGGCTCAACCGTAAAATTGCAGTTGATACTGTCAGTCTT\r\n",
      "GAGTACAGTAGAGGTGGGCGGAATTCGTGGTGTAGCGGTGAAATGCTTAGATATCACGAA\r\n",
      "GAACTCCGATTGCGAAGGCAGCTCACTGCTGCA-ACTGACACTGATGCTCGAAAGTGTGG\r\n",
      "GTATCAAACAGG\r\n",
      ">S003305196 Luteivirga sdotyamensis (T); PIII.02; JN699062\r\n",
      "TACGGAGGGTGCAAGCGTTGTCCGGATTTATTGGGTTTAAAGGGTGCGTAGGCGGTTCTT\r\n",
      "TAAGTCAGTAGTGAAATCCTATGGCTCAACCATGGAAGTGCTATTGATACTGGAGAACTT\r\n",
      "GAGTATACCAGAGGCAGGCGGAATTTAGGATGTAGCGGTGAAATGCATAGATATCCTAAA\r\n",
      "GAACACCGATAGCGAAGGCCGCTTGCTGGTA-TAACTGACGCTGAGGCACGAAAGCGTGG\r\n",
      "GGAGCGAACAGG\r\n",
      ">S002917806 Mooreia alkaloidigena (T); CNX216; JN368460\r\n",
      "TACGGAGGGTGCAAGCGTTGTCCGGATTTATTGGGTTTAAAGGGTACGTAGGCGGCCTGG\r\n",
      "TAAGTCCGTGGTGAAAGTCAGTGGCTCAACCATTGAAGTGCCATGGATACTGTCGGGCTT\r\n",
      "GAGAAGTGTAGAGGCGAGCGGAATTGGTGGTGTAGCGGTGAAATGCATAGATACCACCAG\r\n",
      "GAACACCGATTGCGAAGGCAGCTCGCTGCACCC-TCTGACGCTGAGGTACGAAAGCGTGG\r\n",
      "GGAGCGAACAGG\r\n",
      ">S002917807 Catalinimonas alkaloidigena (T); CNU914; JN368461\r\n",
      "TACGGAGGGTGCAAGCGTTGTCCGGATTTATTGGGTTTAAAGGGTACGTAGGCGGGCGTC\r\n"
     ]
    }
   ],
   "source": [
    "!head aln_for_tree.fasta -n 20"
   ]
  },
  {
   "cell_type": "markdown",
   "metadata": {},
   "source": [
    "## Inferring and rooting the tree"
   ]
  },
  {
   "cell_type": "code",
   "execution_count": 28,
   "metadata": {
    "collapsed": true
   },
   "outputs": [],
   "source": [
    "#aln = LoadSeqs(os.path.join(workDir, 'aln_for_tree.fasta'), moltype=DNA)\n",
    "aln = LoadSeqs('aln_for_tree.fasta', moltype=DNA)\n",
    "t_unroot = build_tree_from_alignment(aln, moltype=DNA)"
   ]
  },
  {
   "cell_type": "code",
   "execution_count": 30,
   "metadata": {
    "collapsed": true
   },
   "outputs": [],
   "source": [
    "outgroup = 'S000528922 Bacteroides fragilis (T); CR626927'"
   ]
  },
  {
   "cell_type": "code",
   "execution_count": 31,
   "metadata": {
    "collapsed": true
   },
   "outputs": [],
   "source": [
    "t_rooted = t_unroot.rootedWithTip(outgroup)"
   ]
  },
  {
   "cell_type": "code",
   "execution_count": 32,
   "metadata": {
    "collapsed": true
   },
   "outputs": [],
   "source": [
    "t_rooted.writeToFile(os.path.join(workDir, 'CytophagalesOTUs_wTypeStrains.tree'))"
   ]
  }
 ],
 "metadata": {
  "kernelspec": {
   "display_name": "Python 2",
   "language": "python",
   "name": "python2"
  },
  "language_info": {
   "codemirror_mode": {
    "name": "ipython",
    "version": 2
   },
   "file_extension": ".py",
   "mimetype": "text/x-python",
   "name": "python",
   "nbconvert_exporter": "python",
   "pygments_lexer": "ipython2",
   "version": "2.7.14"
  }
 },
 "nbformat": 4,
 "nbformat_minor": 2
}
