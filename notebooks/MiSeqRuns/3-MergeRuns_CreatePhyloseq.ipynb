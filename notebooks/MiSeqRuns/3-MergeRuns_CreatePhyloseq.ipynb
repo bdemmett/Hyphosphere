{
 "cells": [
  {
   "cell_type": "markdown",
   "metadata": {},
   "source": [
    "# Merge sequence tables from multiple runs and create phyloseq object"
   ]
  },
  {
   "cell_type": "code",
   "execution_count": null,
   "metadata": {},
   "outputs": [],
   "source": [
    "ncores = 20\n",
    "OutFolder = \"~/Hyphosphere/data/MiSeq/merged/dada2_intermediates\"\n",
    "\n",
    "#location of taxonomy database\n",
    "TrainingSet = '~/databases/silva_nr_v132_train_set.fa.gz'\n",
    "SpeciesTraining = '~/databases/silva_species_assignment_v132.fa.gz'\n",
    "\n",
    "#Metadata file\n",
    "SamData = '~/Hyphosphere/3exp_metadata.txt'"
   ]
  },
  {
   "cell_type": "code",
   "execution_count": 3,
   "metadata": {},
   "outputs": [
    {
     "name": "stderr",
     "output_type": "stream",
     "text": [
      "Loading required package: Rcpp\n",
      "\n",
      "Attaching package: ‘dplyr’\n",
      "\n",
      "The following objects are masked from ‘package:stats’:\n",
      "\n",
      "    filter, lag\n",
      "\n",
      "The following objects are masked from ‘package:base’:\n",
      "\n",
      "    intersect, setdiff, setequal, union\n",
      "\n"
     ]
    }
   ],
   "source": [
    "library(dada2)\n",
    "library(tidyr)\n",
    "library(dplyr)\n",
    "library(phyloseq)\n",
    "library(ggplot2)"
   ]
  },
  {
   "cell_type": "code",
   "execution_count": null,
   "metadata": {},
   "outputs": [],
   "source": [
    "\n",
    "                   # Merge multiple runs (if necessary)\n",
    "st1 <- readRDS(\"~/Hyphosphere/data/Exp1/DADA2Files/seqtab-nochim.rds\")\n",
    "st2 <- readRDS(\"~/Hyphosphere/data/Exp10/DADA2Files/seqtab-nochim.rds\")\n",
    "st3 <- readRDS(\"~/Hyphosphere/data/Exp11/DADA2Files/seqtab-nochim.rds\")\n",
    "st.all <- mergeSequenceTables(st1, st2, st3)"
   ]
  },
  {
   "cell_type": "code",
   "execution_count": null,
   "metadata": {},
   "outputs": [],
   "source": [
    "dim(st.all)"
   ]
  },
  {
   "cell_type": "code",
   "execution_count": null,
   "metadata": {},
   "outputs": [],
   "source": [
    "st.all.2 = collapseNoMismatch(st.all)\n"
   ]
  },
  {
   "cell_type": "code",
   "execution_count": null,
   "metadata": {
    "scrolled": true
   },
   "outputs": [],
   "source": [
    "dim(st.all.2)"
   ]
  },
  {
   "cell_type": "markdown",
   "metadata": {},
   "source": [
    "*Note that summed total of sequences in all three experiments is 77,639 so approximately 16k sequences are shared between expriments"
   ]
  },
  {
   "cell_type": "code",
   "execution_count": null,
   "metadata": {},
   "outputs": [],
   "source": [
    "outFile = file.path(OutFolder,\"seqtab-merged.rds\")\n",
    "\n",
    "saveRDS(st.all.2, outFile)"
   ]
  },
  {
   "cell_type": "markdown",
   "metadata": {},
   "source": [
    "# Checkpoint\n",
    "* read merged seqtab"
   ]
  },
  {
   "cell_type": "code",
   "execution_count": null,
   "metadata": {},
   "outputs": [],
   "source": [
    "CheckPoint = file.path(OutFolder,\"seqtab-merged.rds\")\n",
    "\n",
    "seqtab.nochim = readRDS(CheckPoint)"
   ]
  },
  {
   "cell_type": "markdown",
   "metadata": {},
   "source": [
    "# Assign taxonomy"
   ]
  },
  {
   "cell_type": "code",
   "execution_count": null,
   "metadata": {},
   "outputs": [],
   "source": [
    "taxa <- assignTaxonomy(seqtab.nochim, TrainingSet, multithread=ncores)\n"
   ]
  },
  {
   "cell_type": "code",
   "execution_count": null,
   "metadata": {},
   "outputs": [],
   "source": [
    "outFile = file.path(OutFolder,'taxa.rds')\n",
    "outFile\n",
    "saveRDS(taxa, outFile)"
   ]
  },
  {
   "cell_type": "markdown",
   "metadata": {},
   "source": [
    "# Checkpoint read taxa file"
   ]
  },
  {
   "cell_type": "code",
   "execution_count": null,
   "metadata": {},
   "outputs": [],
   "source": [
    "CheckPoint = file.path(OutFolder,\"taxa.rds\")\n",
    "\n"
   ]
  },
  {
   "cell_type": "code",
   "execution_count": null,
   "metadata": {},
   "outputs": [],
   "source": [
    "taxa = readRDS(CheckPoint)"
   ]
  },
  {
   "cell_type": "code",
   "execution_count": null,
   "metadata": {},
   "outputs": [],
   "source": [
    "#inspect taxonomic assignment\n",
    "\n",
    "taxa.print <- taxa # Removing sequence rownames for display only\n",
    "rownames(taxa.print) <- NULL\n",
    "head(taxa.print)\n"
   ]
  },
  {
   "cell_type": "markdown",
   "metadata": {},
   "source": [
    "# hand off to phyloseq"
   ]
  },
  {
   "cell_type": "code",
   "execution_count": null,
   "metadata": {},
   "outputs": [],
   "source": [
    "# read sample data\n",
    "samdf = read.delim(file = SamData, header = TRUE, sep = '\\t', row.names = \"SampleID\")\n",
    "head(samdf)\n",
    "rownames(samdf)[1:4]"
   ]
  },
  {
   "cell_type": "code",
   "execution_count": null,
   "metadata": {},
   "outputs": [],
   "source": [
    "#rename taxa\n",
    "taxa = cbind(taxa, row.names(taxa))\n",
    "colnames(taxa)[7] = \"Seq\""
   ]
  },
  {
   "cell_type": "code",
   "execution_count": null,
   "metadata": {
    "scrolled": true
   },
   "outputs": [],
   "source": [
    "dim(taxa)\n",
    "head(taxa)"
   ]
  },
  {
   "cell_type": "markdown",
   "metadata": {},
   "source": [
    "## Create phyloseq object"
   ]
  },
  {
   "cell_type": "code",
   "execution_count": null,
   "metadata": {},
   "outputs": [],
   "source": [
    "ps <- phyloseq(otu_table(seqtab.nochim, taxa_are_rows=FALSE), \n",
    "               sample_data(samdf), \n",
    "               tax_table(taxa))\n",
    "ps"
   ]
  },
  {
   "cell_type": "markdown",
   "metadata": {},
   "source": [
    "## rename taxa"
   ]
  },
  {
   "cell_type": "code",
   "execution_count": null,
   "metadata": {},
   "outputs": [],
   "source": [
    "new.names <- paste0(\"ASV\", seq(ntaxa(ps))) # Define new names ASV1, ASV2,\n",
    "seqs <- taxa_names(ps) # Store sequences\n",
    "names(seqs) <- new.names # Make map from ASV1 to full sequence\n",
    "taxa_names(ps) <- new.names # Rename to human-friendly format\n",
    "taxa_names(ps)[1:10]"
   ]
  },
  {
   "cell_type": "code",
   "execution_count": null,
   "metadata": {},
   "outputs": [],
   "source": [
    "taxa_sums(ps)[1:10]"
   ]
  },
  {
   "cell_type": "markdown",
   "metadata": {},
   "source": [
    "## save full phyloseq object"
   ]
  },
  {
   "cell_type": "code",
   "execution_count": null,
   "metadata": {},
   "outputs": [],
   "source": [
    "saveRDS(ps, file = '~/Hyphosphere/data/3Exp/phyloseq/3Exp_phyloseq_full.rds')"
   ]
  },
  {
   "cell_type": "code",
   "execution_count": 5,
   "metadata": {},
   "outputs": [],
   "source": [
    "ps = readRDS(file = '~/Hyphosphere/data/3Exp/phyloseq/3Exp_phyloseq_full.rds')"
   ]
  },
  {
   "cell_type": "markdown",
   "metadata": {},
   "source": [
    "## Threshold to remove minor sequences"
   ]
  },
  {
   "cell_type": "code",
   "execution_count": 6,
   "metadata": {},
   "outputs": [
    {
     "data": {
      "text/html": [
       "<table>\n",
       "<thead><tr><th></th><th scope=col>Kingdom</th><th scope=col>Phylum</th><th scope=col>Class</th><th scope=col>Order</th><th scope=col>Family</th><th scope=col>Genus</th><th scope=col>Seq</th></tr></thead>\n",
       "<tbody>\n",
       "\t<tr><th scope=row>ASV1</th><td>Bacteria                                                                                                                                                                                                                                                        </td><td>Proteobacteria                                                                                                                                                                                                                                                  </td><td>Alphaproteobacteria                                                                                                                                                                                                                                             </td><td>Rhizobiales                                                                                                                                                                                                                                                     </td><td>Rhizobiaceae                                                                                                                                                                                                                                                    </td><td>Phyllobacterium                                                                                                                                                                                                                                                 </td><td>TACGAAGGGGGCTAGCGTTGTTCGGATTTACTGGGCGTAAAGCGCACGTAGGCGGACTATTAAGTCAGGGGTGAAATCCCGGGGCTCAACCCCGGAACTGCCTTTGATACTGGTAGTCTTGAGTTCGAGAGAGGTGAGTGGAATTCCGAGTGTAGAGGTGAAATTCGTAGATATTCGGAGGAACACCAGTGGCGAAGGCGGCTCACTGGCTCGATACTGACGCTGAGGTGCGAAAGCGTGGGGAGCAAACAGG   </td></tr>\n",
       "\t<tr><th scope=row>ASV2</th><td>Bacteria                                                                                                                                                                                                                                                        </td><td>NA                                                                                                                                                                                                                                                              </td><td>NA                                                                                                                                                                                                                                                              </td><td>NA                                                                                                                                                                                                                                                              </td><td>NA                                                                                                                                                                                                                                                              </td><td>NA                                                                                                                                                                                                                                                              </td><td>GACATAGGTGGCAAACATTATCCGGAATTATTGGGCGTAAAGGGTGCGTAGGCGGCATGATAAGTTGCTGGTGGGAAATCAAGGCTCAACCTTGTGGAAGCTAGCAATACTGTCAAGCTAGAGGGCAGAAGAGGTTAACGGAACTCTATGTGGAGCGGTAAAATGTGTAGATATATAGAAGAACATCAATAAAGGCGAAGGCAGTTAACTAGTCTGTCCCTGACGTTGAGGCACGAAAGCGTGGGGAGCAAAACGG</td></tr>\n",
       "\t<tr><th scope=row>ASV3</th><td>Bacteria                                                                                                                                                                                                                                                        </td><td>Proteobacteria                                                                                                                                                                                                                                                  </td><td>Alphaproteobacteria                                                                                                                                                                                                                                             </td><td>Sphingomonadales                                                                                                                                                                                                                                                </td><td>Sphingomonadaceae                                                                                                                                                                                                                                               </td><td>Sphingomonas                                                                                                                                                                                                                                                    </td><td>TACGGAGGGAGCTAGCGTTGTTCGGAATTACTGGGCGTAAAGCGCACGTAGGCGGCTTTGTAAGTCAGAGGTGAAAGCCTGGAGCTCAACTCCAGAACTGCCTTTGAGACTGCATCGCTTGAATCCAGGAGAGGTGAGTGGAATTCCGAGTGTAGAGGTGAAATTCGTAGATATTCGGAAGAACACCAGTGGCGAAGGCGGCTCACTGGACTGGTATTGACGCTGAGGTGCGAAAGCGTGGGGAGCAAACAGG   </td></tr>\n",
       "\t<tr><th scope=row>ASV4</th><td>Bacteria                                                                                                                                                                                                                                                        </td><td>NA                                                                                                                                                                                                                                                              </td><td>NA                                                                                                                                                                                                                                                              </td><td>NA                                                                                                                                                                                                                                                              </td><td>NA                                                                                                                                                                                                                                                              </td><td>NA                                                                                                                                                                                                                                                              </td><td>GACATAGGTGGCGAACGTTATCCGGAATTATTGGGCGTAAAGGATGCGTAGATGGCAGAGTAAGTTACTGGTTGATGTCAAACTCAATTTGACGGAAGCTGGTAATACTGTTTTGCTAGAGGACAGGAGAGGTTGATGGAATTCTGTGTGGAGCGGTGAAATGCGTTGATCTACAGAGGAACACCAAAAAAGGCGAAGGCAGTCAACTATCCTGTTCCTGACATTGAGGCATGAAAGCGTGGGGAGCAAACCGG  </td></tr>\n",
       "\t<tr><th scope=row>ASV5</th><td>Bacteria                                                                                                                                                                                                                                                        </td><td>Actinobacteria                                                                                                                                                                                                                                                  </td><td>Actinobacteria                                                                                                                                                                                                                                                  </td><td>Micrococcales                                                                                                                                                                                                                                                   </td><td>Micrococcaceae                                                                                                                                                                                                                                                  </td><td>Pseudarthrobacter                                                                                                                                                                                                                                               </td><td>TACGTAGGGCGCAAGCGTTATCCGGAATTATTGGGCGTAAAGAGCTCGTAGGCGGTTTGTCGCGTCTGCCGTGAAAGTCCGGGGCTCAACTCCGGATCTGCGGTGGGTACGGGCAGACTAGAGTGATGTAGGGGAGACTGGAATTCCTGGTGTAGCGGTGAAATGCGCAGATATCAGGAGGAACACCGATGGCGAAGGCAGGTCTCTGGGCATTAACTGACGCTGAGGAGCGAAAGCATGGGGAGCGAACAGG   </td></tr>\n",
       "\t<tr><th scope=row>ASV6</th><td>Bacteria                                                                                                                                                                                                                                                        </td><td>Proteobacteria                                                                                                                                                                                                                                                  </td><td>Gammaproteobacteria                                                                                                                                                                                                                                             </td><td>Cellvibrionales                                                                                                                                                                                                                                                 </td><td>Cellvibrionaceae                                                                                                                                                                                                                                                </td><td>Cellvibrio                                                                                                                                                                                                                                                      </td><td>TACGGAGGGTGCAAGCGTTAATCGGAATTACTGGGCGTAAAGCGCACGTAGGTGGTTTGTTAAGCTAGCTGTGAAATCCCCGGGCTCAACCTGGGCACTGCAGTTAGAACTGGCAAGCTAGAGTAGGGTAGAGGGGTGTGGAATTCCAGGTGTAGCGGTGAAATGCGTAGATATCTGGAGGAACATCAGTGGCGAAGGCGACACCCTGGACTCATACTGACACTGAGGTGCGAAAGCGTGGGGAGCAAACAGG   </td></tr>\n",
       "</tbody>\n",
       "</table>\n"
      ],
      "text/latex": [
       "\\begin{tabular}{r|lllllll}\n",
       "  & Kingdom & Phylum & Class & Order & Family & Genus & Seq\\\\\n",
       "\\hline\n",
       "\tASV1 & Bacteria                                                                                                                                                                                                                                                         & Proteobacteria                                                                                                                                                                                                                                                   & Alphaproteobacteria                                                                                                                                                                                                                                              & Rhizobiales                                                                                                                                                                                                                                                      & Rhizobiaceae                                                                                                                                                                                                                                                     & Phyllobacterium                                                                                                                                                                                                                                                  & TACGAAGGGGGCTAGCGTTGTTCGGATTTACTGGGCGTAAAGCGCACGTAGGCGGACTATTAAGTCAGGGGTGAAATCCCGGGGCTCAACCCCGGAACTGCCTTTGATACTGGTAGTCTTGAGTTCGAGAGAGGTGAGTGGAATTCCGAGTGTAGAGGTGAAATTCGTAGATATTCGGAGGAACACCAGTGGCGAAGGCGGCTCACTGGCTCGATACTGACGCTGAGGTGCGAAAGCGTGGGGAGCAAACAGG   \\\\\n",
       "\tASV2 & Bacteria                                                                                                                                                                                                                                                         & NA                                                                                                                                                                                                                                                               & NA                                                                                                                                                                                                                                                               & NA                                                                                                                                                                                                                                                               & NA                                                                                                                                                                                                                                                               & NA                                                                                                                                                                                                                                                               & GACATAGGTGGCAAACATTATCCGGAATTATTGGGCGTAAAGGGTGCGTAGGCGGCATGATAAGTTGCTGGTGGGAAATCAAGGCTCAACCTTGTGGAAGCTAGCAATACTGTCAAGCTAGAGGGCAGAAGAGGTTAACGGAACTCTATGTGGAGCGGTAAAATGTGTAGATATATAGAAGAACATCAATAAAGGCGAAGGCAGTTAACTAGTCTGTCCCTGACGTTGAGGCACGAAAGCGTGGGGAGCAAAACGG\\\\\n",
       "\tASV3 & Bacteria                                                                                                                                                                                                                                                         & Proteobacteria                                                                                                                                                                                                                                                   & Alphaproteobacteria                                                                                                                                                                                                                                              & Sphingomonadales                                                                                                                                                                                                                                                 & Sphingomonadaceae                                                                                                                                                                                                                                                & Sphingomonas                                                                                                                                                                                                                                                     & TACGGAGGGAGCTAGCGTTGTTCGGAATTACTGGGCGTAAAGCGCACGTAGGCGGCTTTGTAAGTCAGAGGTGAAAGCCTGGAGCTCAACTCCAGAACTGCCTTTGAGACTGCATCGCTTGAATCCAGGAGAGGTGAGTGGAATTCCGAGTGTAGAGGTGAAATTCGTAGATATTCGGAAGAACACCAGTGGCGAAGGCGGCTCACTGGACTGGTATTGACGCTGAGGTGCGAAAGCGTGGGGAGCAAACAGG   \\\\\n",
       "\tASV4 & Bacteria                                                                                                                                                                                                                                                         & NA                                                                                                                                                                                                                                                               & NA                                                                                                                                                                                                                                                               & NA                                                                                                                                                                                                                                                               & NA                                                                                                                                                                                                                                                               & NA                                                                                                                                                                                                                                                               & GACATAGGTGGCGAACGTTATCCGGAATTATTGGGCGTAAAGGATGCGTAGATGGCAGAGTAAGTTACTGGTTGATGTCAAACTCAATTTGACGGAAGCTGGTAATACTGTTTTGCTAGAGGACAGGAGAGGTTGATGGAATTCTGTGTGGAGCGGTGAAATGCGTTGATCTACAGAGGAACACCAAAAAAGGCGAAGGCAGTCAACTATCCTGTTCCTGACATTGAGGCATGAAAGCGTGGGGAGCAAACCGG  \\\\\n",
       "\tASV5 & Bacteria                                                                                                                                                                                                                                                         & Actinobacteria                                                                                                                                                                                                                                                   & Actinobacteria                                                                                                                                                                                                                                                   & Micrococcales                                                                                                                                                                                                                                                    & Micrococcaceae                                                                                                                                                                                                                                                   & Pseudarthrobacter                                                                                                                                                                                                                                                & TACGTAGGGCGCAAGCGTTATCCGGAATTATTGGGCGTAAAGAGCTCGTAGGCGGTTTGTCGCGTCTGCCGTGAAAGTCCGGGGCTCAACTCCGGATCTGCGGTGGGTACGGGCAGACTAGAGTGATGTAGGGGAGACTGGAATTCCTGGTGTAGCGGTGAAATGCGCAGATATCAGGAGGAACACCGATGGCGAAGGCAGGTCTCTGGGCATTAACTGACGCTGAGGAGCGAAAGCATGGGGAGCGAACAGG   \\\\\n",
       "\tASV6 & Bacteria                                                                                                                                                                                                                                                         & Proteobacteria                                                                                                                                                                                                                                                   & Gammaproteobacteria                                                                                                                                                                                                                                              & Cellvibrionales                                                                                                                                                                                                                                                  & Cellvibrionaceae                                                                                                                                                                                                                                                 & Cellvibrio                                                                                                                                                                                                                                                       & TACGGAGGGTGCAAGCGTTAATCGGAATTACTGGGCGTAAAGCGCACGTAGGTGGTTTGTTAAGCTAGCTGTGAAATCCCCGGGCTCAACCTGGGCACTGCAGTTAGAACTGGCAAGCTAGAGTAGGGTAGAGGGGTGTGGAATTCCAGGTGTAGCGGTGAAATGCGTAGATATCTGGAGGAACATCAGTGGCGAAGGCGACACCCTGGACTCATACTGACACTGAGGTGCGAAAGCGTGGGGAGCAAACAGG   \\\\\n",
       "\\end{tabular}\n"
      ],
      "text/markdown": [
       "\n",
       "| <!--/--> | Kingdom | Phylum | Class | Order | Family | Genus | Seq | \n",
       "|---|---|---|---|---|---|\n",
       "| ASV1 | Bacteria                                                                                                                                                                                                                                                         | Proteobacteria                                                                                                                                                                                                                                                   | Alphaproteobacteria                                                                                                                                                                                                                                              | Rhizobiales                                                                                                                                                                                                                                                      | Rhizobiaceae                                                                                                                                                                                                                                                     | Phyllobacterium                                                                                                                                                                                                                                                  | TACGAAGGGGGCTAGCGTTGTTCGGATTTACTGGGCGTAAAGCGCACGTAGGCGGACTATTAAGTCAGGGGTGAAATCCCGGGGCTCAACCCCGGAACTGCCTTTGATACTGGTAGTCTTGAGTTCGAGAGAGGTGAGTGGAATTCCGAGTGTAGAGGTGAAATTCGTAGATATTCGGAGGAACACCAGTGGCGAAGGCGGCTCACTGGCTCGATACTGACGCTGAGGTGCGAAAGCGTGGGGAGCAAACAGG    | \n",
       "| ASV2 | Bacteria                                                                                                                                                                                                                                                         | NA                                                                                                                                                                                                                                                               | NA                                                                                                                                                                                                                                                               | NA                                                                                                                                                                                                                                                               | NA                                                                                                                                                                                                                                                               | NA                                                                                                                                                                                                                                                               | GACATAGGTGGCAAACATTATCCGGAATTATTGGGCGTAAAGGGTGCGTAGGCGGCATGATAAGTTGCTGGTGGGAAATCAAGGCTCAACCTTGTGGAAGCTAGCAATACTGTCAAGCTAGAGGGCAGAAGAGGTTAACGGAACTCTATGTGGAGCGGTAAAATGTGTAGATATATAGAAGAACATCAATAAAGGCGAAGGCAGTTAACTAGTCTGTCCCTGACGTTGAGGCACGAAAGCGTGGGGAGCAAAACGG | \n",
       "| ASV3 | Bacteria                                                                                                                                                                                                                                                         | Proteobacteria                                                                                                                                                                                                                                                   | Alphaproteobacteria                                                                                                                                                                                                                                              | Sphingomonadales                                                                                                                                                                                                                                                 | Sphingomonadaceae                                                                                                                                                                                                                                                | Sphingomonas                                                                                                                                                                                                                                                     | TACGGAGGGAGCTAGCGTTGTTCGGAATTACTGGGCGTAAAGCGCACGTAGGCGGCTTTGTAAGTCAGAGGTGAAAGCCTGGAGCTCAACTCCAGAACTGCCTTTGAGACTGCATCGCTTGAATCCAGGAGAGGTGAGTGGAATTCCGAGTGTAGAGGTGAAATTCGTAGATATTCGGAAGAACACCAGTGGCGAAGGCGGCTCACTGGACTGGTATTGACGCTGAGGTGCGAAAGCGTGGGGAGCAAACAGG    | \n",
       "| ASV4 | Bacteria                                                                                                                                                                                                                                                         | NA                                                                                                                                                                                                                                                               | NA                                                                                                                                                                                                                                                               | NA                                                                                                                                                                                                                                                               | NA                                                                                                                                                                                                                                                               | NA                                                                                                                                                                                                                                                               | GACATAGGTGGCGAACGTTATCCGGAATTATTGGGCGTAAAGGATGCGTAGATGGCAGAGTAAGTTACTGGTTGATGTCAAACTCAATTTGACGGAAGCTGGTAATACTGTTTTGCTAGAGGACAGGAGAGGTTGATGGAATTCTGTGTGGAGCGGTGAAATGCGTTGATCTACAGAGGAACACCAAAAAAGGCGAAGGCAGTCAACTATCCTGTTCCTGACATTGAGGCATGAAAGCGTGGGGAGCAAACCGG   | \n",
       "| ASV5 | Bacteria                                                                                                                                                                                                                                                         | Actinobacteria                                                                                                                                                                                                                                                   | Actinobacteria                                                                                                                                                                                                                                                   | Micrococcales                                                                                                                                                                                                                                                    | Micrococcaceae                                                                                                                                                                                                                                                   | Pseudarthrobacter                                                                                                                                                                                                                                                | TACGTAGGGCGCAAGCGTTATCCGGAATTATTGGGCGTAAAGAGCTCGTAGGCGGTTTGTCGCGTCTGCCGTGAAAGTCCGGGGCTCAACTCCGGATCTGCGGTGGGTACGGGCAGACTAGAGTGATGTAGGGGAGACTGGAATTCCTGGTGTAGCGGTGAAATGCGCAGATATCAGGAGGAACACCGATGGCGAAGGCAGGTCTCTGGGCATTAACTGACGCTGAGGAGCGAAAGCATGGGGAGCGAACAGG    | \n",
       "| ASV6 | Bacteria                                                                                                                                                                                                                                                         | Proteobacteria                                                                                                                                                                                                                                                   | Gammaproteobacteria                                                                                                                                                                                                                                              | Cellvibrionales                                                                                                                                                                                                                                                  | Cellvibrionaceae                                                                                                                                                                                                                                                 | Cellvibrio                                                                                                                                                                                                                                                       | TACGGAGGGTGCAAGCGTTAATCGGAATTACTGGGCGTAAAGCGCACGTAGGTGGTTTGTTAAGCTAGCTGTGAAATCCCCGGGCTCAACCTGGGCACTGCAGTTAGAACTGGCAAGCTAGAGTAGGGTAGAGGGGTGTGGAATTCCAGGTGTAGCGGTGAAATGCGTAGATATCTGGAGGAACATCAGTGGCGAAGGCGACACCCTGGACTCATACTGACACTGAGGTGCGAAAGCGTGGGGAGCAAACAGG    | \n",
       "\n",
       "\n"
      ],
      "text/plain": [
       "     Kingdom  Phylum         Class               Order           \n",
       "ASV1 Bacteria Proteobacteria Alphaproteobacteria Rhizobiales     \n",
       "ASV2 Bacteria NA             NA                  NA              \n",
       "ASV3 Bacteria Proteobacteria Alphaproteobacteria Sphingomonadales\n",
       "ASV4 Bacteria NA             NA                  NA              \n",
       "ASV5 Bacteria Actinobacteria Actinobacteria      Micrococcales   \n",
       "ASV6 Bacteria Proteobacteria Gammaproteobacteria Cellvibrionales \n",
       "     Family            Genus            \n",
       "ASV1 Rhizobiaceae      Phyllobacterium  \n",
       "ASV2 NA                NA               \n",
       "ASV3 Sphingomonadaceae Sphingomonas     \n",
       "ASV4 NA                NA               \n",
       "ASV5 Micrococcaceae    Pseudarthrobacter\n",
       "ASV6 Cellvibrionaceae  Cellvibrio       \n",
       "     Seq                                                                                                                                                                                                                                                             \n",
       "ASV1 TACGAAGGGGGCTAGCGTTGTTCGGATTTACTGGGCGTAAAGCGCACGTAGGCGGACTATTAAGTCAGGGGTGAAATCCCGGGGCTCAACCCCGGAACTGCCTTTGATACTGGTAGTCTTGAGTTCGAGAGAGGTGAGTGGAATTCCGAGTGTAGAGGTGAAATTCGTAGATATTCGGAGGAACACCAGTGGCGAAGGCGGCTCACTGGCTCGATACTGACGCTGAGGTGCGAAAGCGTGGGGAGCAAACAGG   \n",
       "ASV2 GACATAGGTGGCAAACATTATCCGGAATTATTGGGCGTAAAGGGTGCGTAGGCGGCATGATAAGTTGCTGGTGGGAAATCAAGGCTCAACCTTGTGGAAGCTAGCAATACTGTCAAGCTAGAGGGCAGAAGAGGTTAACGGAACTCTATGTGGAGCGGTAAAATGTGTAGATATATAGAAGAACATCAATAAAGGCGAAGGCAGTTAACTAGTCTGTCCCTGACGTTGAGGCACGAAAGCGTGGGGAGCAAAACGG\n",
       "ASV3 TACGGAGGGAGCTAGCGTTGTTCGGAATTACTGGGCGTAAAGCGCACGTAGGCGGCTTTGTAAGTCAGAGGTGAAAGCCTGGAGCTCAACTCCAGAACTGCCTTTGAGACTGCATCGCTTGAATCCAGGAGAGGTGAGTGGAATTCCGAGTGTAGAGGTGAAATTCGTAGATATTCGGAAGAACACCAGTGGCGAAGGCGGCTCACTGGACTGGTATTGACGCTGAGGTGCGAAAGCGTGGGGAGCAAACAGG   \n",
       "ASV4 GACATAGGTGGCGAACGTTATCCGGAATTATTGGGCGTAAAGGATGCGTAGATGGCAGAGTAAGTTACTGGTTGATGTCAAACTCAATTTGACGGAAGCTGGTAATACTGTTTTGCTAGAGGACAGGAGAGGTTGATGGAATTCTGTGTGGAGCGGTGAAATGCGTTGATCTACAGAGGAACACCAAAAAAGGCGAAGGCAGTCAACTATCCTGTTCCTGACATTGAGGCATGAAAGCGTGGGGAGCAAACCGG  \n",
       "ASV5 TACGTAGGGCGCAAGCGTTATCCGGAATTATTGGGCGTAAAGAGCTCGTAGGCGGTTTGTCGCGTCTGCCGTGAAAGTCCGGGGCTCAACTCCGGATCTGCGGTGGGTACGGGCAGACTAGAGTGATGTAGGGGAGACTGGAATTCCTGGTGTAGCGGTGAAATGCGCAGATATCAGGAGGAACACCGATGGCGAAGGCAGGTCTCTGGGCATTAACTGACGCTGAGGAGCGAAAGCATGGGGAGCGAACAGG   \n",
       "ASV6 TACGGAGGGTGCAAGCGTTAATCGGAATTACTGGGCGTAAAGCGCACGTAGGTGGTTTGTTAAGCTAGCTGTGAAATCCCCGGGCTCAACCTGGGCACTGCAGTTAGAACTGGCAAGCTAGAGTAGGGTAGAGGGGTGTGGAATTCCAGGTGTAGCGGTGAAATGCGTAGATATCTGGAGGAACATCAGTGGCGAAGGCGACACCCTGGACTCATACTGACACTGAGGTGCGAAAGCGTGGGGAGCAAACAGG   "
      ]
     },
     "metadata": {},
     "output_type": "display_data"
    },
    {
     "data": {
      "text/plain": [
       "phyloseq-class experiment-level object\n",
       "otu_table()   OTU Table:         [ 14615 taxa and 382 samples ]\n",
       "sample_data() Sample Data:       [ 382 samples by 11 sample variables ]\n",
       "tax_table()   Taxonomy Table:    [ 14615 taxa by 7 taxonomic ranks ]"
      ]
     },
     "metadata": {},
     "output_type": "display_data"
    }
   ],
   "source": [
    "tax_table(ps) %>% head\n",
    "ps.thresh = filter_taxa(ps, function(x) sum(x > 3) > 3, TRUE)\n",
    "ps.thresh"
   ]
  },
  {
   "cell_type": "code",
   "execution_count": 7,
   "metadata": {},
   "outputs": [],
   "source": [
    "rm(ps)"
   ]
  },
  {
   "cell_type": "markdown",
   "metadata": {},
   "source": [
    "## Remove and save sequences from tax_table\n",
    "*removing sequences will greatly speed up psmelt and subsequent operations"
   ]
  },
  {
   "cell_type": "code",
   "execution_count": 8,
   "metadata": {},
   "outputs": [],
   "source": [
    "Seqs_df = cbind(rownames(tax_table(ps.thresh)), tax_table(ps.thresh)[,'Seq'])"
   ]
  },
  {
   "cell_type": "code",
   "execution_count": 10,
   "metadata": {},
   "outputs": [
    {
     "data": {
      "text/html": [
       "<table>\n",
       "<thead><tr><th></th><th scope=col>ASV</th><th scope=col>Seq</th></tr></thead>\n",
       "<tbody>\n",
       "\t<tr><th scope=row>ASV1</th><td>ASV1                                                                                                                                                                                                                                                            </td><td>TACGAAGGGGGCTAGCGTTGTTCGGATTTACTGGGCGTAAAGCGCACGTAGGCGGACTATTAAGTCAGGGGTGAAATCCCGGGGCTCAACCCCGGAACTGCCTTTGATACTGGTAGTCTTGAGTTCGAGAGAGGTGAGTGGAATTCCGAGTGTAGAGGTGAAATTCGTAGATATTCGGAGGAACACCAGTGGCGAAGGCGGCTCACTGGCTCGATACTGACGCTGAGGTGCGAAAGCGTGGGGAGCAAACAGG   </td></tr>\n",
       "\t<tr><th scope=row>ASV2</th><td>ASV2                                                                                                                                                                                                                                                            </td><td>GACATAGGTGGCAAACATTATCCGGAATTATTGGGCGTAAAGGGTGCGTAGGCGGCATGATAAGTTGCTGGTGGGAAATCAAGGCTCAACCTTGTGGAAGCTAGCAATACTGTCAAGCTAGAGGGCAGAAGAGGTTAACGGAACTCTATGTGGAGCGGTAAAATGTGTAGATATATAGAAGAACATCAATAAAGGCGAAGGCAGTTAACTAGTCTGTCCCTGACGTTGAGGCACGAAAGCGTGGGGAGCAAAACGG</td></tr>\n",
       "\t<tr><th scope=row>ASV3</th><td>ASV3                                                                                                                                                                                                                                                            </td><td>TACGGAGGGAGCTAGCGTTGTTCGGAATTACTGGGCGTAAAGCGCACGTAGGCGGCTTTGTAAGTCAGAGGTGAAAGCCTGGAGCTCAACTCCAGAACTGCCTTTGAGACTGCATCGCTTGAATCCAGGAGAGGTGAGTGGAATTCCGAGTGTAGAGGTGAAATTCGTAGATATTCGGAAGAACACCAGTGGCGAAGGCGGCTCACTGGACTGGTATTGACGCTGAGGTGCGAAAGCGTGGGGAGCAAACAGG   </td></tr>\n",
       "\t<tr><th scope=row>ASV4</th><td>ASV4                                                                                                                                                                                                                                                            </td><td>GACATAGGTGGCGAACGTTATCCGGAATTATTGGGCGTAAAGGATGCGTAGATGGCAGAGTAAGTTACTGGTTGATGTCAAACTCAATTTGACGGAAGCTGGTAATACTGTTTTGCTAGAGGACAGGAGAGGTTGATGGAATTCTGTGTGGAGCGGTGAAATGCGTTGATCTACAGAGGAACACCAAAAAAGGCGAAGGCAGTCAACTATCCTGTTCCTGACATTGAGGCATGAAAGCGTGGGGAGCAAACCGG  </td></tr>\n",
       "\t<tr><th scope=row>ASV5</th><td>ASV5                                                                                                                                                                                                                                                            </td><td>TACGTAGGGCGCAAGCGTTATCCGGAATTATTGGGCGTAAAGAGCTCGTAGGCGGTTTGTCGCGTCTGCCGTGAAAGTCCGGGGCTCAACTCCGGATCTGCGGTGGGTACGGGCAGACTAGAGTGATGTAGGGGAGACTGGAATTCCTGGTGTAGCGGTGAAATGCGCAGATATCAGGAGGAACACCGATGGCGAAGGCAGGTCTCTGGGCATTAACTGACGCTGAGGAGCGAAAGCATGGGGAGCGAACAGG   </td></tr>\n",
       "\t<tr><th scope=row>ASV6</th><td>ASV6                                                                                                                                                                                                                                                            </td><td>TACGGAGGGTGCAAGCGTTAATCGGAATTACTGGGCGTAAAGCGCACGTAGGTGGTTTGTTAAGCTAGCTGTGAAATCCCCGGGCTCAACCTGGGCACTGCAGTTAGAACTGGCAAGCTAGAGTAGGGTAGAGGGGTGTGGAATTCCAGGTGTAGCGGTGAAATGCGTAGATATCTGGAGGAACATCAGTGGCGAAGGCGACACCCTGGACTCATACTGACACTGAGGTGCGAAAGCGTGGGGAGCAAACAGG   </td></tr>\n",
       "</tbody>\n",
       "</table>\n"
      ],
      "text/latex": [
       "\\begin{tabular}{r|ll}\n",
       "  & ASV & Seq\\\\\n",
       "\\hline\n",
       "\tASV1 & ASV1                                                                                                                                                                                                                                                             & TACGAAGGGGGCTAGCGTTGTTCGGATTTACTGGGCGTAAAGCGCACGTAGGCGGACTATTAAGTCAGGGGTGAAATCCCGGGGCTCAACCCCGGAACTGCCTTTGATACTGGTAGTCTTGAGTTCGAGAGAGGTGAGTGGAATTCCGAGTGTAGAGGTGAAATTCGTAGATATTCGGAGGAACACCAGTGGCGAAGGCGGCTCACTGGCTCGATACTGACGCTGAGGTGCGAAAGCGTGGGGAGCAAACAGG   \\\\\n",
       "\tASV2 & ASV2                                                                                                                                                                                                                                                             & GACATAGGTGGCAAACATTATCCGGAATTATTGGGCGTAAAGGGTGCGTAGGCGGCATGATAAGTTGCTGGTGGGAAATCAAGGCTCAACCTTGTGGAAGCTAGCAATACTGTCAAGCTAGAGGGCAGAAGAGGTTAACGGAACTCTATGTGGAGCGGTAAAATGTGTAGATATATAGAAGAACATCAATAAAGGCGAAGGCAGTTAACTAGTCTGTCCCTGACGTTGAGGCACGAAAGCGTGGGGAGCAAAACGG\\\\\n",
       "\tASV3 & ASV3                                                                                                                                                                                                                                                             & TACGGAGGGAGCTAGCGTTGTTCGGAATTACTGGGCGTAAAGCGCACGTAGGCGGCTTTGTAAGTCAGAGGTGAAAGCCTGGAGCTCAACTCCAGAACTGCCTTTGAGACTGCATCGCTTGAATCCAGGAGAGGTGAGTGGAATTCCGAGTGTAGAGGTGAAATTCGTAGATATTCGGAAGAACACCAGTGGCGAAGGCGGCTCACTGGACTGGTATTGACGCTGAGGTGCGAAAGCGTGGGGAGCAAACAGG   \\\\\n",
       "\tASV4 & ASV4                                                                                                                                                                                                                                                             & GACATAGGTGGCGAACGTTATCCGGAATTATTGGGCGTAAAGGATGCGTAGATGGCAGAGTAAGTTACTGGTTGATGTCAAACTCAATTTGACGGAAGCTGGTAATACTGTTTTGCTAGAGGACAGGAGAGGTTGATGGAATTCTGTGTGGAGCGGTGAAATGCGTTGATCTACAGAGGAACACCAAAAAAGGCGAAGGCAGTCAACTATCCTGTTCCTGACATTGAGGCATGAAAGCGTGGGGAGCAAACCGG  \\\\\n",
       "\tASV5 & ASV5                                                                                                                                                                                                                                                             & TACGTAGGGCGCAAGCGTTATCCGGAATTATTGGGCGTAAAGAGCTCGTAGGCGGTTTGTCGCGTCTGCCGTGAAAGTCCGGGGCTCAACTCCGGATCTGCGGTGGGTACGGGCAGACTAGAGTGATGTAGGGGAGACTGGAATTCCTGGTGTAGCGGTGAAATGCGCAGATATCAGGAGGAACACCGATGGCGAAGGCAGGTCTCTGGGCATTAACTGACGCTGAGGAGCGAAAGCATGGGGAGCGAACAGG   \\\\\n",
       "\tASV6 & ASV6                                                                                                                                                                                                                                                             & TACGGAGGGTGCAAGCGTTAATCGGAATTACTGGGCGTAAAGCGCACGTAGGTGGTTTGTTAAGCTAGCTGTGAAATCCCCGGGCTCAACCTGGGCACTGCAGTTAGAACTGGCAAGCTAGAGTAGGGTAGAGGGGTGTGGAATTCCAGGTGTAGCGGTGAAATGCGTAGATATCTGGAGGAACATCAGTGGCGAAGGCGACACCCTGGACTCATACTGACACTGAGGTGCGAAAGCGTGGGGAGCAAACAGG   \\\\\n",
       "\\end{tabular}\n"
      ],
      "text/markdown": [
       "\n",
       "| <!--/--> | ASV | Seq | \n",
       "|---|---|---|---|---|---|\n",
       "| ASV1 | ASV1                                                                                                                                                                                                                                                             | TACGAAGGGGGCTAGCGTTGTTCGGATTTACTGGGCGTAAAGCGCACGTAGGCGGACTATTAAGTCAGGGGTGAAATCCCGGGGCTCAACCCCGGAACTGCCTTTGATACTGGTAGTCTTGAGTTCGAGAGAGGTGAGTGGAATTCCGAGTGTAGAGGTGAAATTCGTAGATATTCGGAGGAACACCAGTGGCGAAGGCGGCTCACTGGCTCGATACTGACGCTGAGGTGCGAAAGCGTGGGGAGCAAACAGG    | \n",
       "| ASV2 | ASV2                                                                                                                                                                                                                                                             | GACATAGGTGGCAAACATTATCCGGAATTATTGGGCGTAAAGGGTGCGTAGGCGGCATGATAAGTTGCTGGTGGGAAATCAAGGCTCAACCTTGTGGAAGCTAGCAATACTGTCAAGCTAGAGGGCAGAAGAGGTTAACGGAACTCTATGTGGAGCGGTAAAATGTGTAGATATATAGAAGAACATCAATAAAGGCGAAGGCAGTTAACTAGTCTGTCCCTGACGTTGAGGCACGAAAGCGTGGGGAGCAAAACGG | \n",
       "| ASV3 | ASV3                                                                                                                                                                                                                                                             | TACGGAGGGAGCTAGCGTTGTTCGGAATTACTGGGCGTAAAGCGCACGTAGGCGGCTTTGTAAGTCAGAGGTGAAAGCCTGGAGCTCAACTCCAGAACTGCCTTTGAGACTGCATCGCTTGAATCCAGGAGAGGTGAGTGGAATTCCGAGTGTAGAGGTGAAATTCGTAGATATTCGGAAGAACACCAGTGGCGAAGGCGGCTCACTGGACTGGTATTGACGCTGAGGTGCGAAAGCGTGGGGAGCAAACAGG    | \n",
       "| ASV4 | ASV4                                                                                                                                                                                                                                                             | GACATAGGTGGCGAACGTTATCCGGAATTATTGGGCGTAAAGGATGCGTAGATGGCAGAGTAAGTTACTGGTTGATGTCAAACTCAATTTGACGGAAGCTGGTAATACTGTTTTGCTAGAGGACAGGAGAGGTTGATGGAATTCTGTGTGGAGCGGTGAAATGCGTTGATCTACAGAGGAACACCAAAAAAGGCGAAGGCAGTCAACTATCCTGTTCCTGACATTGAGGCATGAAAGCGTGGGGAGCAAACCGG   | \n",
       "| ASV5 | ASV5                                                                                                                                                                                                                                                             | TACGTAGGGCGCAAGCGTTATCCGGAATTATTGGGCGTAAAGAGCTCGTAGGCGGTTTGTCGCGTCTGCCGTGAAAGTCCGGGGCTCAACTCCGGATCTGCGGTGGGTACGGGCAGACTAGAGTGATGTAGGGGAGACTGGAATTCCTGGTGTAGCGGTGAAATGCGCAGATATCAGGAGGAACACCGATGGCGAAGGCAGGTCTCTGGGCATTAACTGACGCTGAGGAGCGAAAGCATGGGGAGCGAACAGG    | \n",
       "| ASV6 | ASV6                                                                                                                                                                                                                                                             | TACGGAGGGTGCAAGCGTTAATCGGAATTACTGGGCGTAAAGCGCACGTAGGTGGTTTGTTAAGCTAGCTGTGAAATCCCCGGGCTCAACCTGGGCACTGCAGTTAGAACTGGCAAGCTAGAGTAGGGTAGAGGGGTGTGGAATTCCAGGTGTAGCGGTGAAATGCGTAGATATCTGGAGGAACATCAGTGGCGAAGGCGACACCCTGGACTCATACTGACACTGAGGTGCGAAAGCGTGGGGAGCAAACAGG    | \n",
       "\n",
       "\n"
      ],
      "text/plain": [
       "     ASV \n",
       "ASV1 ASV1\n",
       "ASV2 ASV2\n",
       "ASV3 ASV3\n",
       "ASV4 ASV4\n",
       "ASV5 ASV5\n",
       "ASV6 ASV6\n",
       "     Seq                                                                                                                                                                                                                                                             \n",
       "ASV1 TACGAAGGGGGCTAGCGTTGTTCGGATTTACTGGGCGTAAAGCGCACGTAGGCGGACTATTAAGTCAGGGGTGAAATCCCGGGGCTCAACCCCGGAACTGCCTTTGATACTGGTAGTCTTGAGTTCGAGAGAGGTGAGTGGAATTCCGAGTGTAGAGGTGAAATTCGTAGATATTCGGAGGAACACCAGTGGCGAAGGCGGCTCACTGGCTCGATACTGACGCTGAGGTGCGAAAGCGTGGGGAGCAAACAGG   \n",
       "ASV2 GACATAGGTGGCAAACATTATCCGGAATTATTGGGCGTAAAGGGTGCGTAGGCGGCATGATAAGTTGCTGGTGGGAAATCAAGGCTCAACCTTGTGGAAGCTAGCAATACTGTCAAGCTAGAGGGCAGAAGAGGTTAACGGAACTCTATGTGGAGCGGTAAAATGTGTAGATATATAGAAGAACATCAATAAAGGCGAAGGCAGTTAACTAGTCTGTCCCTGACGTTGAGGCACGAAAGCGTGGGGAGCAAAACGG\n",
       "ASV3 TACGGAGGGAGCTAGCGTTGTTCGGAATTACTGGGCGTAAAGCGCACGTAGGCGGCTTTGTAAGTCAGAGGTGAAAGCCTGGAGCTCAACTCCAGAACTGCCTTTGAGACTGCATCGCTTGAATCCAGGAGAGGTGAGTGGAATTCCGAGTGTAGAGGTGAAATTCGTAGATATTCGGAAGAACACCAGTGGCGAAGGCGGCTCACTGGACTGGTATTGACGCTGAGGTGCGAAAGCGTGGGGAGCAAACAGG   \n",
       "ASV4 GACATAGGTGGCGAACGTTATCCGGAATTATTGGGCGTAAAGGATGCGTAGATGGCAGAGTAAGTTACTGGTTGATGTCAAACTCAATTTGACGGAAGCTGGTAATACTGTTTTGCTAGAGGACAGGAGAGGTTGATGGAATTCTGTGTGGAGCGGTGAAATGCGTTGATCTACAGAGGAACACCAAAAAAGGCGAAGGCAGTCAACTATCCTGTTCCTGACATTGAGGCATGAAAGCGTGGGGAGCAAACCGG  \n",
       "ASV5 TACGTAGGGCGCAAGCGTTATCCGGAATTATTGGGCGTAAAGAGCTCGTAGGCGGTTTGTCGCGTCTGCCGTGAAAGTCCGGGGCTCAACTCCGGATCTGCGGTGGGTACGGGCAGACTAGAGTGATGTAGGGGAGACTGGAATTCCTGGTGTAGCGGTGAAATGCGCAGATATCAGGAGGAACACCGATGGCGAAGGCAGGTCTCTGGGCATTAACTGACGCTGAGGAGCGAAAGCATGGGGAGCGAACAGG   \n",
       "ASV6 TACGGAGGGTGCAAGCGTTAATCGGAATTACTGGGCGTAAAGCGCACGTAGGTGGTTTGTTAAGCTAGCTGTGAAATCCCCGGGCTCAACCTGGGCACTGCAGTTAGAACTGGCAAGCTAGAGTAGGGTAGAGGGGTGTGGAATTCCAGGTGTAGCGGTGAAATGCGTAGATATCTGGAGGAACATCAGTGGCGAAGGCGACACCCTGGACTCATACTGACACTGAGGTGCGAAAGCGTGGGGAGCAAACAGG   "
      ]
     },
     "metadata": {},
     "output_type": "display_data"
    }
   ],
   "source": [
    "colnames(Seqs_df)[1:2] = c(\"ASV\", \"Seq\")\n",
    "head(Seqs_df)\n"
   ]
  },
  {
   "cell_type": "code",
   "execution_count": 13,
   "metadata": {},
   "outputs": [
    {
     "data": {
      "text/html": [
       "<table>\n",
       "<thead><tr><th></th><th scope=col>Kingdom</th><th scope=col>Phylum</th><th scope=col>Class</th><th scope=col>Order</th><th scope=col>Family</th><th scope=col>Genus</th></tr></thead>\n",
       "<tbody>\n",
       "\t<tr><th scope=row>ASV1</th><td>Bacteria           </td><td>Proteobacteria     </td><td>Alphaproteobacteria</td><td>Rhizobiales        </td><td>Rhizobiaceae       </td><td>Phyllobacterium    </td></tr>\n",
       "\t<tr><th scope=row>ASV2</th><td>Bacteria           </td><td>NA                 </td><td>NA                 </td><td>NA                 </td><td>NA                 </td><td>NA                 </td></tr>\n",
       "\t<tr><th scope=row>ASV3</th><td>Bacteria           </td><td>Proteobacteria     </td><td>Alphaproteobacteria</td><td>Sphingomonadales   </td><td>Sphingomonadaceae  </td><td>Sphingomonas       </td></tr>\n",
       "\t<tr><th scope=row>ASV4</th><td>Bacteria           </td><td>NA                 </td><td>NA                 </td><td>NA                 </td><td>NA                 </td><td>NA                 </td></tr>\n",
       "\t<tr><th scope=row>ASV5</th><td>Bacteria           </td><td>Actinobacteria     </td><td>Actinobacteria     </td><td>Micrococcales      </td><td>Micrococcaceae     </td><td>Pseudarthrobacter  </td></tr>\n",
       "\t<tr><th scope=row>ASV6</th><td>Bacteria           </td><td>Proteobacteria     </td><td>Gammaproteobacteria</td><td>Cellvibrionales    </td><td>Cellvibrionaceae   </td><td>Cellvibrio         </td></tr>\n",
       "</tbody>\n",
       "</table>\n"
      ],
      "text/latex": [
       "\\begin{tabular}{r|llllll}\n",
       "  & Kingdom & Phylum & Class & Order & Family & Genus\\\\\n",
       "\\hline\n",
       "\tASV1 & Bacteria            & Proteobacteria      & Alphaproteobacteria & Rhizobiales         & Rhizobiaceae        & Phyllobacterium    \\\\\n",
       "\tASV2 & Bacteria            & NA                  & NA                  & NA                  & NA                  & NA                 \\\\\n",
       "\tASV3 & Bacteria            & Proteobacteria      & Alphaproteobacteria & Sphingomonadales    & Sphingomonadaceae   & Sphingomonas       \\\\\n",
       "\tASV4 & Bacteria            & NA                  & NA                  & NA                  & NA                  & NA                 \\\\\n",
       "\tASV5 & Bacteria            & Actinobacteria      & Actinobacteria      & Micrococcales       & Micrococcaceae      & Pseudarthrobacter  \\\\\n",
       "\tASV6 & Bacteria            & Proteobacteria      & Gammaproteobacteria & Cellvibrionales     & Cellvibrionaceae    & Cellvibrio         \\\\\n",
       "\\end{tabular}\n"
      ],
      "text/markdown": [
       "\n",
       "| <!--/--> | Kingdom | Phylum | Class | Order | Family | Genus | \n",
       "|---|---|---|---|---|---|\n",
       "| ASV1 | Bacteria            | Proteobacteria      | Alphaproteobacteria | Rhizobiales         | Rhizobiaceae        | Phyllobacterium     | \n",
       "| ASV2 | Bacteria            | NA                  | NA                  | NA                  | NA                  | NA                  | \n",
       "| ASV3 | Bacteria            | Proteobacteria      | Alphaproteobacteria | Sphingomonadales    | Sphingomonadaceae   | Sphingomonas        | \n",
       "| ASV4 | Bacteria            | NA                  | NA                  | NA                  | NA                  | NA                  | \n",
       "| ASV5 | Bacteria            | Actinobacteria      | Actinobacteria      | Micrococcales       | Micrococcaceae      | Pseudarthrobacter   | \n",
       "| ASV6 | Bacteria            | Proteobacteria      | Gammaproteobacteria | Cellvibrionales     | Cellvibrionaceae    | Cellvibrio          | \n",
       "\n",
       "\n"
      ],
      "text/plain": [
       "     Kingdom  Phylum         Class               Order           \n",
       "ASV1 Bacteria Proteobacteria Alphaproteobacteria Rhizobiales     \n",
       "ASV2 Bacteria NA             NA                  NA              \n",
       "ASV3 Bacteria Proteobacteria Alphaproteobacteria Sphingomonadales\n",
       "ASV4 Bacteria NA             NA                  NA              \n",
       "ASV5 Bacteria Actinobacteria Actinobacteria      Micrococcales   \n",
       "ASV6 Bacteria Proteobacteria Gammaproteobacteria Cellvibrionales \n",
       "     Family            Genus            \n",
       "ASV1 Rhizobiaceae      Phyllobacterium  \n",
       "ASV2 NA                NA               \n",
       "ASV3 Sphingomonadaceae Sphingomonas     \n",
       "ASV4 NA                NA               \n",
       "ASV5 Micrococcaceae    Pseudarthrobacter\n",
       "ASV6 Cellvibrionaceae  Cellvibrio       "
      ]
     },
     "metadata": {},
     "output_type": "display_data"
    }
   ],
   "source": [
    "taxa_df = tax_table(ps.thresh)[,1:6]\n",
    "head(taxa_df)\n"
   ]
  },
  {
   "cell_type": "code",
   "execution_count": 14,
   "metadata": {},
   "outputs": [],
   "source": [
    "#save table of seqs\n",
    "write.table(Seqs_df, file = '~/Hyphosphere/data/3Exp/phyloseq/taxa_seqs.txt', sep = '\\t')"
   ]
  },
  {
   "cell_type": "code",
   "execution_count": 18,
   "metadata": {},
   "outputs": [
    {
     "data": {
      "text/html": [
       "<dl>\n",
       "\t<dt>$ASV1</dt>\n",
       "\t\t<dd>'ASV1'</dd>\n",
       "\t<dt>$ASV2</dt>\n",
       "\t\t<dd>'ASV2'</dd>\n",
       "\t<dt>$ASV3</dt>\n",
       "\t\t<dd>'ASV3'</dd>\n",
       "\t<dt>$ASV4</dt>\n",
       "\t\t<dd>'ASV4'</dd>\n",
       "</dl>\n"
      ],
      "text/latex": [
       "\\begin{description}\n",
       "\\item[\\$ASV1] 'ASV1'\n",
       "\\item[\\$ASV2] 'ASV2'\n",
       "\\item[\\$ASV3] 'ASV3'\n",
       "\\item[\\$ASV4] 'ASV4'\n",
       "\\end{description}\n"
      ],
      "text/markdown": [
       "$ASV1\n",
       ":   'ASV1'\n",
       "$ASV2\n",
       ":   'ASV2'\n",
       "$ASV3\n",
       ":   'ASV3'\n",
       "$ASV4\n",
       ":   'ASV4'\n",
       "\n",
       "\n"
      ],
      "text/plain": [
       "$ASV1\n",
       "[1] \"ASV1\"\n",
       "\n",
       "$ASV2\n",
       "[1] \"ASV2\"\n",
       "\n",
       "$ASV3\n",
       "[1] \"ASV3\"\n",
       "\n",
       "$ASV4\n",
       "[1] \"ASV4\"\n"
      ]
     },
     "metadata": {},
     "output_type": "display_data"
    },
    {
     "data": {
      "text/html": [
       "<dl>\n",
       "\t<dt>$ASV1</dt>\n",
       "\t\t<dd>'TACGAAGGGGGCTAGCGTTGTTCGGATTTACTGGGCGTAAAGCGCACGTAGGCGGACTATTAAGTCAGGGGTGAAATCCCGGGGCTCAACCCCGGAACTGCCTTTGATACTGGTAGTCTTGAGTTCGAGAGAGGTGAGTGGAATTCCGAGTGTAGAGGTGAAATTCGTAGATATTCGGAGGAACACCAGTGGCGAAGGCGGCTCACTGGCTCGATACTGACGCTGAGGTGCGAAAGCGTGGGGAGCAAACAGG'</dd>\n",
       "\t<dt>$ASV2</dt>\n",
       "\t\t<dd>'GACATAGGTGGCAAACATTATCCGGAATTATTGGGCGTAAAGGGTGCGTAGGCGGCATGATAAGTTGCTGGTGGGAAATCAAGGCTCAACCTTGTGGAAGCTAGCAATACTGTCAAGCTAGAGGGCAGAAGAGGTTAACGGAACTCTATGTGGAGCGGTAAAATGTGTAGATATATAGAAGAACATCAATAAAGGCGAAGGCAGTTAACTAGTCTGTCCCTGACGTTGAGGCACGAAAGCGTGGGGAGCAAAACGG'</dd>\n",
       "\t<dt>$ASV3</dt>\n",
       "\t\t<dd>'TACGGAGGGAGCTAGCGTTGTTCGGAATTACTGGGCGTAAAGCGCACGTAGGCGGCTTTGTAAGTCAGAGGTGAAAGCCTGGAGCTCAACTCCAGAACTGCCTTTGAGACTGCATCGCTTGAATCCAGGAGAGGTGAGTGGAATTCCGAGTGTAGAGGTGAAATTCGTAGATATTCGGAAGAACACCAGTGGCGAAGGCGGCTCACTGGACTGGTATTGACGCTGAGGTGCGAAAGCGTGGGGAGCAAACAGG'</dd>\n",
       "\t<dt>$ASV4</dt>\n",
       "\t\t<dd>'GACATAGGTGGCGAACGTTATCCGGAATTATTGGGCGTAAAGGATGCGTAGATGGCAGAGTAAGTTACTGGTTGATGTCAAACTCAATTTGACGGAAGCTGGTAATACTGTTTTGCTAGAGGACAGGAGAGGTTGATGGAATTCTGTGTGGAGCGGTGAAATGCGTTGATCTACAGAGGAACACCAAAAAAGGCGAAGGCAGTCAACTATCCTGTTCCTGACATTGAGGCATGAAAGCGTGGGGAGCAAACCGG'</dd>\n",
       "</dl>\n"
      ],
      "text/latex": [
       "\\begin{description}\n",
       "\\item[\\$ASV1] 'TACGAAGGGGGCTAGCGTTGTTCGGATTTACTGGGCGTAAAGCGCACGTAGGCGGACTATTAAGTCAGGGGTGAAATCCCGGGGCTCAACCCCGGAACTGCCTTTGATACTGGTAGTCTTGAGTTCGAGAGAGGTGAGTGGAATTCCGAGTGTAGAGGTGAAATTCGTAGATATTCGGAGGAACACCAGTGGCGAAGGCGGCTCACTGGCTCGATACTGACGCTGAGGTGCGAAAGCGTGGGGAGCAAACAGG'\n",
       "\\item[\\$ASV2] 'GACATAGGTGGCAAACATTATCCGGAATTATTGGGCGTAAAGGGTGCGTAGGCGGCATGATAAGTTGCTGGTGGGAAATCAAGGCTCAACCTTGTGGAAGCTAGCAATACTGTCAAGCTAGAGGGCAGAAGAGGTTAACGGAACTCTATGTGGAGCGGTAAAATGTGTAGATATATAGAAGAACATCAATAAAGGCGAAGGCAGTTAACTAGTCTGTCCCTGACGTTGAGGCACGAAAGCGTGGGGAGCAAAACGG'\n",
       "\\item[\\$ASV3] 'TACGGAGGGAGCTAGCGTTGTTCGGAATTACTGGGCGTAAAGCGCACGTAGGCGGCTTTGTAAGTCAGAGGTGAAAGCCTGGAGCTCAACTCCAGAACTGCCTTTGAGACTGCATCGCTTGAATCCAGGAGAGGTGAGTGGAATTCCGAGTGTAGAGGTGAAATTCGTAGATATTCGGAAGAACACCAGTGGCGAAGGCGGCTCACTGGACTGGTATTGACGCTGAGGTGCGAAAGCGTGGGGAGCAAACAGG'\n",
       "\\item[\\$ASV4] 'GACATAGGTGGCGAACGTTATCCGGAATTATTGGGCGTAAAGGATGCGTAGATGGCAGAGTAAGTTACTGGTTGATGTCAAACTCAATTTGACGGAAGCTGGTAATACTGTTTTGCTAGAGGACAGGAGAGGTTGATGGAATTCTGTGTGGAGCGGTGAAATGCGTTGATCTACAGAGGAACACCAAAAAAGGCGAAGGCAGTCAACTATCCTGTTCCTGACATTGAGGCATGAAAGCGTGGGGAGCAAACCGG'\n",
       "\\end{description}\n"
      ],
      "text/markdown": [
       "$ASV1\n",
       ":   'TACGAAGGGGGCTAGCGTTGTTCGGATTTACTGGGCGTAAAGCGCACGTAGGCGGACTATTAAGTCAGGGGTGAAATCCCGGGGCTCAACCCCGGAACTGCCTTTGATACTGGTAGTCTTGAGTTCGAGAGAGGTGAGTGGAATTCCGAGTGTAGAGGTGAAATTCGTAGATATTCGGAGGAACACCAGTGGCGAAGGCGGCTCACTGGCTCGATACTGACGCTGAGGTGCGAAAGCGTGGGGAGCAAACAGG'\n",
       "$ASV2\n",
       ":   'GACATAGGTGGCAAACATTATCCGGAATTATTGGGCGTAAAGGGTGCGTAGGCGGCATGATAAGTTGCTGGTGGGAAATCAAGGCTCAACCTTGTGGAAGCTAGCAATACTGTCAAGCTAGAGGGCAGAAGAGGTTAACGGAACTCTATGTGGAGCGGTAAAATGTGTAGATATATAGAAGAACATCAATAAAGGCGAAGGCAGTTAACTAGTCTGTCCCTGACGTTGAGGCACGAAAGCGTGGGGAGCAAAACGG'\n",
       "$ASV3\n",
       ":   'TACGGAGGGAGCTAGCGTTGTTCGGAATTACTGGGCGTAAAGCGCACGTAGGCGGCTTTGTAAGTCAGAGGTGAAAGCCTGGAGCTCAACTCCAGAACTGCCTTTGAGACTGCATCGCTTGAATCCAGGAGAGGTGAGTGGAATTCCGAGTGTAGAGGTGAAATTCGTAGATATTCGGAAGAACACCAGTGGCGAAGGCGGCTCACTGGACTGGTATTGACGCTGAGGTGCGAAAGCGTGGGGAGCAAACAGG'\n",
       "$ASV4\n",
       ":   'GACATAGGTGGCGAACGTTATCCGGAATTATTGGGCGTAAAGGATGCGTAGATGGCAGAGTAAGTTACTGGTTGATGTCAAACTCAATTTGACGGAAGCTGGTAATACTGTTTTGCTAGAGGACAGGAGAGGTTGATGGAATTCTGTGTGGAGCGGTGAAATGCGTTGATCTACAGAGGAACACCAAAAAAGGCGAAGGCAGTCAACTATCCTGTTCCTGACATTGAGGCATGAAAGCGTGGGGAGCAAACCGG'\n",
       "\n",
       "\n"
      ],
      "text/plain": [
       "$ASV1\n",
       "[1] \"TACGAAGGGGGCTAGCGTTGTTCGGATTTACTGGGCGTAAAGCGCACGTAGGCGGACTATTAAGTCAGGGGTGAAATCCCGGGGCTCAACCCCGGAACTGCCTTTGATACTGGTAGTCTTGAGTTCGAGAGAGGTGAGTGGAATTCCGAGTGTAGAGGTGAAATTCGTAGATATTCGGAGGAACACCAGTGGCGAAGGCGGCTCACTGGCTCGATACTGACGCTGAGGTGCGAAAGCGTGGGGAGCAAACAGG\"\n",
       "\n",
       "$ASV2\n",
       "[1] \"GACATAGGTGGCAAACATTATCCGGAATTATTGGGCGTAAAGGGTGCGTAGGCGGCATGATAAGTTGCTGGTGGGAAATCAAGGCTCAACCTTGTGGAAGCTAGCAATACTGTCAAGCTAGAGGGCAGAAGAGGTTAACGGAACTCTATGTGGAGCGGTAAAATGTGTAGATATATAGAAGAACATCAATAAAGGCGAAGGCAGTTAACTAGTCTGTCCCTGACGTTGAGGCACGAAAGCGTGGGGAGCAAAACGG\"\n",
       "\n",
       "$ASV3\n",
       "[1] \"TACGGAGGGAGCTAGCGTTGTTCGGAATTACTGGGCGTAAAGCGCACGTAGGCGGCTTTGTAAGTCAGAGGTGAAAGCCTGGAGCTCAACTCCAGAACTGCCTTTGAGACTGCATCGCTTGAATCCAGGAGAGGTGAGTGGAATTCCGAGTGTAGAGGTGAAATTCGTAGATATTCGGAAGAACACCAGTGGCGAAGGCGGCTCACTGGACTGGTATTGACGCTGAGGTGCGAAAGCGTGGGGAGCAAACAGG\"\n",
       "\n",
       "$ASV4\n",
       "[1] \"GACATAGGTGGCGAACGTTATCCGGAATTATTGGGCGTAAAGGATGCGTAGATGGCAGAGTAAGTTACTGGTTGATGTCAAACTCAATTTGACGGAAGCTGGTAATACTGTTTTGCTAGAGGACAGGAGAGGTTGATGGAATTCTGTGTGGAGCGGTGAAATGCGTTGATCTACAGAGGAACACCAAAAAAGGCGAAGGCAGTCAACTATCCTGTTCCTGACATTGAGGCATGAAAGCGTGGGGAGCAAACCGG\"\n"
      ]
     },
     "metadata": {},
     "output_type": "display_data"
    }
   ],
   "source": [
    "# save fasta file of seqs\n",
    "outfile = '~/Hyphosphere/data/3Exp/phyloseq/seqs_thresh.fasta'\n",
    "\n",
    "SeqNames = Seqs_df[,'ASV'] %>%\n",
    "    as.list()\n",
    "SeqNames[1:4]\n",
    "seqs = Seqs_df[,'Seq'] %>% as.list()\n",
    "seqs[1:4]\n",
    "seqinr::write.fasta(sequences = as.list(seqs), names = SeqNames, file.out = outfile)"
   ]
  },
  {
   "cell_type": "markdown",
   "metadata": {},
   "source": [
    "## Save thresholded phyloseq with simplified taxa_table"
   ]
  },
  {
   "cell_type": "code",
   "execution_count": 19,
   "metadata": {
    "scrolled": true
   },
   "outputs": [
    {
     "data": {
      "text/html": [
       "<table>\n",
       "<thead><tr><th></th><th scope=col>Kingdom</th><th scope=col>Phylum</th><th scope=col>Class</th><th scope=col>Order</th><th scope=col>Family</th><th scope=col>Genus</th></tr></thead>\n",
       "<tbody>\n",
       "\t<tr><th scope=row>ASV1</th><td>Bacteria           </td><td>Proteobacteria     </td><td>Alphaproteobacteria</td><td>Rhizobiales        </td><td>Rhizobiaceae       </td><td>Phyllobacterium    </td></tr>\n",
       "\t<tr><th scope=row>ASV2</th><td>Bacteria           </td><td>NA                 </td><td>NA                 </td><td>NA                 </td><td>NA                 </td><td>NA                 </td></tr>\n",
       "\t<tr><th scope=row>ASV3</th><td>Bacteria           </td><td>Proteobacteria     </td><td>Alphaproteobacteria</td><td>Sphingomonadales   </td><td>Sphingomonadaceae  </td><td>Sphingomonas       </td></tr>\n",
       "\t<tr><th scope=row>ASV4</th><td>Bacteria           </td><td>NA                 </td><td>NA                 </td><td>NA                 </td><td>NA                 </td><td>NA                 </td></tr>\n",
       "\t<tr><th scope=row>ASV5</th><td>Bacteria           </td><td>Actinobacteria     </td><td>Actinobacteria     </td><td>Micrococcales      </td><td>Micrococcaceae     </td><td>Pseudarthrobacter  </td></tr>\n",
       "\t<tr><th scope=row>ASV6</th><td>Bacteria           </td><td>Proteobacteria     </td><td>Gammaproteobacteria</td><td>Cellvibrionales    </td><td>Cellvibrionaceae   </td><td>Cellvibrio         </td></tr>\n",
       "</tbody>\n",
       "</table>\n"
      ],
      "text/latex": [
       "\\begin{tabular}{r|llllll}\n",
       "  & Kingdom & Phylum & Class & Order & Family & Genus\\\\\n",
       "\\hline\n",
       "\tASV1 & Bacteria            & Proteobacteria      & Alphaproteobacteria & Rhizobiales         & Rhizobiaceae        & Phyllobacterium    \\\\\n",
       "\tASV2 & Bacteria            & NA                  & NA                  & NA                  & NA                  & NA                 \\\\\n",
       "\tASV3 & Bacteria            & Proteobacteria      & Alphaproteobacteria & Sphingomonadales    & Sphingomonadaceae   & Sphingomonas       \\\\\n",
       "\tASV4 & Bacteria            & NA                  & NA                  & NA                  & NA                  & NA                 \\\\\n",
       "\tASV5 & Bacteria            & Actinobacteria      & Actinobacteria      & Micrococcales       & Micrococcaceae      & Pseudarthrobacter  \\\\\n",
       "\tASV6 & Bacteria            & Proteobacteria      & Gammaproteobacteria & Cellvibrionales     & Cellvibrionaceae    & Cellvibrio         \\\\\n",
       "\\end{tabular}\n"
      ],
      "text/markdown": [
       "\n",
       "| <!--/--> | Kingdom | Phylum | Class | Order | Family | Genus | \n",
       "|---|---|---|---|---|---|\n",
       "| ASV1 | Bacteria            | Proteobacteria      | Alphaproteobacteria | Rhizobiales         | Rhizobiaceae        | Phyllobacterium     | \n",
       "| ASV2 | Bacteria            | NA                  | NA                  | NA                  | NA                  | NA                  | \n",
       "| ASV3 | Bacteria            | Proteobacteria      | Alphaproteobacteria | Sphingomonadales    | Sphingomonadaceae   | Sphingomonas        | \n",
       "| ASV4 | Bacteria            | NA                  | NA                  | NA                  | NA                  | NA                  | \n",
       "| ASV5 | Bacteria            | Actinobacteria      | Actinobacteria      | Micrococcales       | Micrococcaceae      | Pseudarthrobacter   | \n",
       "| ASV6 | Bacteria            | Proteobacteria      | Gammaproteobacteria | Cellvibrionales     | Cellvibrionaceae    | Cellvibrio          | \n",
       "\n",
       "\n"
      ],
      "text/plain": [
       "     Kingdom  Phylum         Class               Order           \n",
       "ASV1 Bacteria Proteobacteria Alphaproteobacteria Rhizobiales     \n",
       "ASV2 Bacteria NA             NA                  NA              \n",
       "ASV3 Bacteria Proteobacteria Alphaproteobacteria Sphingomonadales\n",
       "ASV4 Bacteria NA             NA                  NA              \n",
       "ASV5 Bacteria Actinobacteria Actinobacteria      Micrococcales   \n",
       "ASV6 Bacteria Proteobacteria Gammaproteobacteria Cellvibrionales \n",
       "     Family            Genus            \n",
       "ASV1 Rhizobiaceae      Phyllobacterium  \n",
       "ASV2 NA                NA               \n",
       "ASV3 Sphingomonadaceae Sphingomonas     \n",
       "ASV4 NA                NA               \n",
       "ASV5 Micrococcaceae    Pseudarthrobacter\n",
       "ASV6 Cellvibrionaceae  Cellvibrio       "
      ]
     },
     "metadata": {},
     "output_type": "display_data"
    }
   ],
   "source": [
    "head(taxa_df)"
   ]
  },
  {
   "cell_type": "code",
   "execution_count": 20,
   "metadata": {},
   "outputs": [
    {
     "data": {
      "text/html": [
       "<table>\n",
       "<thead><tr><th></th><th scope=col>Kingdom</th><th scope=col>Phylum</th><th scope=col>Class</th><th scope=col>Order</th><th scope=col>Family</th><th scope=col>Genus</th><th scope=col>Seq</th></tr></thead>\n",
       "<tbody>\n",
       "\t<tr><th scope=row>ASV1</th><td>Bacteria                                                                                                                                                                                                                                                        </td><td>Proteobacteria                                                                                                                                                                                                                                                  </td><td>Alphaproteobacteria                                                                                                                                                                                                                                             </td><td>Rhizobiales                                                                                                                                                                                                                                                     </td><td>Rhizobiaceae                                                                                                                                                                                                                                                    </td><td>Phyllobacterium                                                                                                                                                                                                                                                 </td><td>TACGAAGGGGGCTAGCGTTGTTCGGATTTACTGGGCGTAAAGCGCACGTAGGCGGACTATTAAGTCAGGGGTGAAATCCCGGGGCTCAACCCCGGAACTGCCTTTGATACTGGTAGTCTTGAGTTCGAGAGAGGTGAGTGGAATTCCGAGTGTAGAGGTGAAATTCGTAGATATTCGGAGGAACACCAGTGGCGAAGGCGGCTCACTGGCTCGATACTGACGCTGAGGTGCGAAAGCGTGGGGAGCAAACAGG   </td></tr>\n",
       "\t<tr><th scope=row>ASV2</th><td>Bacteria                                                                                                                                                                                                                                                        </td><td>NA                                                                                                                                                                                                                                                              </td><td>NA                                                                                                                                                                                                                                                              </td><td>NA                                                                                                                                                                                                                                                              </td><td>NA                                                                                                                                                                                                                                                              </td><td>NA                                                                                                                                                                                                                                                              </td><td>GACATAGGTGGCAAACATTATCCGGAATTATTGGGCGTAAAGGGTGCGTAGGCGGCATGATAAGTTGCTGGTGGGAAATCAAGGCTCAACCTTGTGGAAGCTAGCAATACTGTCAAGCTAGAGGGCAGAAGAGGTTAACGGAACTCTATGTGGAGCGGTAAAATGTGTAGATATATAGAAGAACATCAATAAAGGCGAAGGCAGTTAACTAGTCTGTCCCTGACGTTGAGGCACGAAAGCGTGGGGAGCAAAACGG</td></tr>\n",
       "\t<tr><th scope=row>ASV3</th><td>Bacteria                                                                                                                                                                                                                                                        </td><td>Proteobacteria                                                                                                                                                                                                                                                  </td><td>Alphaproteobacteria                                                                                                                                                                                                                                             </td><td>Sphingomonadales                                                                                                                                                                                                                                                </td><td>Sphingomonadaceae                                                                                                                                                                                                                                               </td><td>Sphingomonas                                                                                                                                                                                                                                                    </td><td>TACGGAGGGAGCTAGCGTTGTTCGGAATTACTGGGCGTAAAGCGCACGTAGGCGGCTTTGTAAGTCAGAGGTGAAAGCCTGGAGCTCAACTCCAGAACTGCCTTTGAGACTGCATCGCTTGAATCCAGGAGAGGTGAGTGGAATTCCGAGTGTAGAGGTGAAATTCGTAGATATTCGGAAGAACACCAGTGGCGAAGGCGGCTCACTGGACTGGTATTGACGCTGAGGTGCGAAAGCGTGGGGAGCAAACAGG   </td></tr>\n",
       "\t<tr><th scope=row>ASV4</th><td>Bacteria                                                                                                                                                                                                                                                        </td><td>NA                                                                                                                                                                                                                                                              </td><td>NA                                                                                                                                                                                                                                                              </td><td>NA                                                                                                                                                                                                                                                              </td><td>NA                                                                                                                                                                                                                                                              </td><td>NA                                                                                                                                                                                                                                                              </td><td>GACATAGGTGGCGAACGTTATCCGGAATTATTGGGCGTAAAGGATGCGTAGATGGCAGAGTAAGTTACTGGTTGATGTCAAACTCAATTTGACGGAAGCTGGTAATACTGTTTTGCTAGAGGACAGGAGAGGTTGATGGAATTCTGTGTGGAGCGGTGAAATGCGTTGATCTACAGAGGAACACCAAAAAAGGCGAAGGCAGTCAACTATCCTGTTCCTGACATTGAGGCATGAAAGCGTGGGGAGCAAACCGG  </td></tr>\n",
       "\t<tr><th scope=row>ASV5</th><td>Bacteria                                                                                                                                                                                                                                                        </td><td>Actinobacteria                                                                                                                                                                                                                                                  </td><td>Actinobacteria                                                                                                                                                                                                                                                  </td><td>Micrococcales                                                                                                                                                                                                                                                   </td><td>Micrococcaceae                                                                                                                                                                                                                                                  </td><td>Pseudarthrobacter                                                                                                                                                                                                                                               </td><td>TACGTAGGGCGCAAGCGTTATCCGGAATTATTGGGCGTAAAGAGCTCGTAGGCGGTTTGTCGCGTCTGCCGTGAAAGTCCGGGGCTCAACTCCGGATCTGCGGTGGGTACGGGCAGACTAGAGTGATGTAGGGGAGACTGGAATTCCTGGTGTAGCGGTGAAATGCGCAGATATCAGGAGGAACACCGATGGCGAAGGCAGGTCTCTGGGCATTAACTGACGCTGAGGAGCGAAAGCATGGGGAGCGAACAGG   </td></tr>\n",
       "\t<tr><th scope=row>ASV6</th><td>Bacteria                                                                                                                                                                                                                                                        </td><td>Proteobacteria                                                                                                                                                                                                                                                  </td><td>Gammaproteobacteria                                                                                                                                                                                                                                             </td><td>Cellvibrionales                                                                                                                                                                                                                                                 </td><td>Cellvibrionaceae                                                                                                                                                                                                                                                </td><td>Cellvibrio                                                                                                                                                                                                                                                      </td><td>TACGGAGGGTGCAAGCGTTAATCGGAATTACTGGGCGTAAAGCGCACGTAGGTGGTTTGTTAAGCTAGCTGTGAAATCCCCGGGCTCAACCTGGGCACTGCAGTTAGAACTGGCAAGCTAGAGTAGGGTAGAGGGGTGTGGAATTCCAGGTGTAGCGGTGAAATGCGTAGATATCTGGAGGAACATCAGTGGCGAAGGCGACACCCTGGACTCATACTGACACTGAGGTGCGAAAGCGTGGGGAGCAAACAGG   </td></tr>\n",
       "</tbody>\n",
       "</table>\n"
      ],
      "text/latex": [
       "\\begin{tabular}{r|lllllll}\n",
       "  & Kingdom & Phylum & Class & Order & Family & Genus & Seq\\\\\n",
       "\\hline\n",
       "\tASV1 & Bacteria                                                                                                                                                                                                                                                         & Proteobacteria                                                                                                                                                                                                                                                   & Alphaproteobacteria                                                                                                                                                                                                                                              & Rhizobiales                                                                                                                                                                                                                                                      & Rhizobiaceae                                                                                                                                                                                                                                                     & Phyllobacterium                                                                                                                                                                                                                                                  & TACGAAGGGGGCTAGCGTTGTTCGGATTTACTGGGCGTAAAGCGCACGTAGGCGGACTATTAAGTCAGGGGTGAAATCCCGGGGCTCAACCCCGGAACTGCCTTTGATACTGGTAGTCTTGAGTTCGAGAGAGGTGAGTGGAATTCCGAGTGTAGAGGTGAAATTCGTAGATATTCGGAGGAACACCAGTGGCGAAGGCGGCTCACTGGCTCGATACTGACGCTGAGGTGCGAAAGCGTGGGGAGCAAACAGG   \\\\\n",
       "\tASV2 & Bacteria                                                                                                                                                                                                                                                         & NA                                                                                                                                                                                                                                                               & NA                                                                                                                                                                                                                                                               & NA                                                                                                                                                                                                                                                               & NA                                                                                                                                                                                                                                                               & NA                                                                                                                                                                                                                                                               & GACATAGGTGGCAAACATTATCCGGAATTATTGGGCGTAAAGGGTGCGTAGGCGGCATGATAAGTTGCTGGTGGGAAATCAAGGCTCAACCTTGTGGAAGCTAGCAATACTGTCAAGCTAGAGGGCAGAAGAGGTTAACGGAACTCTATGTGGAGCGGTAAAATGTGTAGATATATAGAAGAACATCAATAAAGGCGAAGGCAGTTAACTAGTCTGTCCCTGACGTTGAGGCACGAAAGCGTGGGGAGCAAAACGG\\\\\n",
       "\tASV3 & Bacteria                                                                                                                                                                                                                                                         & Proteobacteria                                                                                                                                                                                                                                                   & Alphaproteobacteria                                                                                                                                                                                                                                              & Sphingomonadales                                                                                                                                                                                                                                                 & Sphingomonadaceae                                                                                                                                                                                                                                                & Sphingomonas                                                                                                                                                                                                                                                     & TACGGAGGGAGCTAGCGTTGTTCGGAATTACTGGGCGTAAAGCGCACGTAGGCGGCTTTGTAAGTCAGAGGTGAAAGCCTGGAGCTCAACTCCAGAACTGCCTTTGAGACTGCATCGCTTGAATCCAGGAGAGGTGAGTGGAATTCCGAGTGTAGAGGTGAAATTCGTAGATATTCGGAAGAACACCAGTGGCGAAGGCGGCTCACTGGACTGGTATTGACGCTGAGGTGCGAAAGCGTGGGGAGCAAACAGG   \\\\\n",
       "\tASV4 & Bacteria                                                                                                                                                                                                                                                         & NA                                                                                                                                                                                                                                                               & NA                                                                                                                                                                                                                                                               & NA                                                                                                                                                                                                                                                               & NA                                                                                                                                                                                                                                                               & NA                                                                                                                                                                                                                                                               & GACATAGGTGGCGAACGTTATCCGGAATTATTGGGCGTAAAGGATGCGTAGATGGCAGAGTAAGTTACTGGTTGATGTCAAACTCAATTTGACGGAAGCTGGTAATACTGTTTTGCTAGAGGACAGGAGAGGTTGATGGAATTCTGTGTGGAGCGGTGAAATGCGTTGATCTACAGAGGAACACCAAAAAAGGCGAAGGCAGTCAACTATCCTGTTCCTGACATTGAGGCATGAAAGCGTGGGGAGCAAACCGG  \\\\\n",
       "\tASV5 & Bacteria                                                                                                                                                                                                                                                         & Actinobacteria                                                                                                                                                                                                                                                   & Actinobacteria                                                                                                                                                                                                                                                   & Micrococcales                                                                                                                                                                                                                                                    & Micrococcaceae                                                                                                                                                                                                                                                   & Pseudarthrobacter                                                                                                                                                                                                                                                & TACGTAGGGCGCAAGCGTTATCCGGAATTATTGGGCGTAAAGAGCTCGTAGGCGGTTTGTCGCGTCTGCCGTGAAAGTCCGGGGCTCAACTCCGGATCTGCGGTGGGTACGGGCAGACTAGAGTGATGTAGGGGAGACTGGAATTCCTGGTGTAGCGGTGAAATGCGCAGATATCAGGAGGAACACCGATGGCGAAGGCAGGTCTCTGGGCATTAACTGACGCTGAGGAGCGAAAGCATGGGGAGCGAACAGG   \\\\\n",
       "\tASV6 & Bacteria                                                                                                                                                                                                                                                         & Proteobacteria                                                                                                                                                                                                                                                   & Gammaproteobacteria                                                                                                                                                                                                                                              & Cellvibrionales                                                                                                                                                                                                                                                  & Cellvibrionaceae                                                                                                                                                                                                                                                 & Cellvibrio                                                                                                                                                                                                                                                       & TACGGAGGGTGCAAGCGTTAATCGGAATTACTGGGCGTAAAGCGCACGTAGGTGGTTTGTTAAGCTAGCTGTGAAATCCCCGGGCTCAACCTGGGCACTGCAGTTAGAACTGGCAAGCTAGAGTAGGGTAGAGGGGTGTGGAATTCCAGGTGTAGCGGTGAAATGCGTAGATATCTGGAGGAACATCAGTGGCGAAGGCGACACCCTGGACTCATACTGACACTGAGGTGCGAAAGCGTGGGGAGCAAACAGG   \\\\\n",
       "\\end{tabular}\n"
      ],
      "text/markdown": [
       "\n",
       "| <!--/--> | Kingdom | Phylum | Class | Order | Family | Genus | Seq | \n",
       "|---|---|---|---|---|---|\n",
       "| ASV1 | Bacteria                                                                                                                                                                                                                                                         | Proteobacteria                                                                                                                                                                                                                                                   | Alphaproteobacteria                                                                                                                                                                                                                                              | Rhizobiales                                                                                                                                                                                                                                                      | Rhizobiaceae                                                                                                                                                                                                                                                     | Phyllobacterium                                                                                                                                                                                                                                                  | TACGAAGGGGGCTAGCGTTGTTCGGATTTACTGGGCGTAAAGCGCACGTAGGCGGACTATTAAGTCAGGGGTGAAATCCCGGGGCTCAACCCCGGAACTGCCTTTGATACTGGTAGTCTTGAGTTCGAGAGAGGTGAGTGGAATTCCGAGTGTAGAGGTGAAATTCGTAGATATTCGGAGGAACACCAGTGGCGAAGGCGGCTCACTGGCTCGATACTGACGCTGAGGTGCGAAAGCGTGGGGAGCAAACAGG    | \n",
       "| ASV2 | Bacteria                                                                                                                                                                                                                                                         | NA                                                                                                                                                                                                                                                               | NA                                                                                                                                                                                                                                                               | NA                                                                                                                                                                                                                                                               | NA                                                                                                                                                                                                                                                               | NA                                                                                                                                                                                                                                                               | GACATAGGTGGCAAACATTATCCGGAATTATTGGGCGTAAAGGGTGCGTAGGCGGCATGATAAGTTGCTGGTGGGAAATCAAGGCTCAACCTTGTGGAAGCTAGCAATACTGTCAAGCTAGAGGGCAGAAGAGGTTAACGGAACTCTATGTGGAGCGGTAAAATGTGTAGATATATAGAAGAACATCAATAAAGGCGAAGGCAGTTAACTAGTCTGTCCCTGACGTTGAGGCACGAAAGCGTGGGGAGCAAAACGG | \n",
       "| ASV3 | Bacteria                                                                                                                                                                                                                                                         | Proteobacteria                                                                                                                                                                                                                                                   | Alphaproteobacteria                                                                                                                                                                                                                                              | Sphingomonadales                                                                                                                                                                                                                                                 | Sphingomonadaceae                                                                                                                                                                                                                                                | Sphingomonas                                                                                                                                                                                                                                                     | TACGGAGGGAGCTAGCGTTGTTCGGAATTACTGGGCGTAAAGCGCACGTAGGCGGCTTTGTAAGTCAGAGGTGAAAGCCTGGAGCTCAACTCCAGAACTGCCTTTGAGACTGCATCGCTTGAATCCAGGAGAGGTGAGTGGAATTCCGAGTGTAGAGGTGAAATTCGTAGATATTCGGAAGAACACCAGTGGCGAAGGCGGCTCACTGGACTGGTATTGACGCTGAGGTGCGAAAGCGTGGGGAGCAAACAGG    | \n",
       "| ASV4 | Bacteria                                                                                                                                                                                                                                                         | NA                                                                                                                                                                                                                                                               | NA                                                                                                                                                                                                                                                               | NA                                                                                                                                                                                                                                                               | NA                                                                                                                                                                                                                                                               | NA                                                                                                                                                                                                                                                               | GACATAGGTGGCGAACGTTATCCGGAATTATTGGGCGTAAAGGATGCGTAGATGGCAGAGTAAGTTACTGGTTGATGTCAAACTCAATTTGACGGAAGCTGGTAATACTGTTTTGCTAGAGGACAGGAGAGGTTGATGGAATTCTGTGTGGAGCGGTGAAATGCGTTGATCTACAGAGGAACACCAAAAAAGGCGAAGGCAGTCAACTATCCTGTTCCTGACATTGAGGCATGAAAGCGTGGGGAGCAAACCGG   | \n",
       "| ASV5 | Bacteria                                                                                                                                                                                                                                                         | Actinobacteria                                                                                                                                                                                                                                                   | Actinobacteria                                                                                                                                                                                                                                                   | Micrococcales                                                                                                                                                                                                                                                    | Micrococcaceae                                                                                                                                                                                                                                                   | Pseudarthrobacter                                                                                                                                                                                                                                                | TACGTAGGGCGCAAGCGTTATCCGGAATTATTGGGCGTAAAGAGCTCGTAGGCGGTTTGTCGCGTCTGCCGTGAAAGTCCGGGGCTCAACTCCGGATCTGCGGTGGGTACGGGCAGACTAGAGTGATGTAGGGGAGACTGGAATTCCTGGTGTAGCGGTGAAATGCGCAGATATCAGGAGGAACACCGATGGCGAAGGCAGGTCTCTGGGCATTAACTGACGCTGAGGAGCGAAAGCATGGGGAGCGAACAGG    | \n",
       "| ASV6 | Bacteria                                                                                                                                                                                                                                                         | Proteobacteria                                                                                                                                                                                                                                                   | Gammaproteobacteria                                                                                                                                                                                                                                              | Cellvibrionales                                                                                                                                                                                                                                                  | Cellvibrionaceae                                                                                                                                                                                                                                                 | Cellvibrio                                                                                                                                                                                                                                                       | TACGGAGGGTGCAAGCGTTAATCGGAATTACTGGGCGTAAAGCGCACGTAGGTGGTTTGTTAAGCTAGCTGTGAAATCCCCGGGCTCAACCTGGGCACTGCAGTTAGAACTGGCAAGCTAGAGTAGGGTAGAGGGGTGTGGAATTCCAGGTGTAGCGGTGAAATGCGTAGATATCTGGAGGAACATCAGTGGCGAAGGCGACACCCTGGACTCATACTGACACTGAGGTGCGAAAGCGTGGGGAGCAAACAGG    | \n",
       "\n",
       "\n"
      ],
      "text/plain": [
       "     Kingdom  Phylum         Class               Order           \n",
       "ASV1 Bacteria Proteobacteria Alphaproteobacteria Rhizobiales     \n",
       "ASV2 Bacteria NA             NA                  NA              \n",
       "ASV3 Bacteria Proteobacteria Alphaproteobacteria Sphingomonadales\n",
       "ASV4 Bacteria NA             NA                  NA              \n",
       "ASV5 Bacteria Actinobacteria Actinobacteria      Micrococcales   \n",
       "ASV6 Bacteria Proteobacteria Gammaproteobacteria Cellvibrionales \n",
       "     Family            Genus            \n",
       "ASV1 Rhizobiaceae      Phyllobacterium  \n",
       "ASV2 NA                NA               \n",
       "ASV3 Sphingomonadaceae Sphingomonas     \n",
       "ASV4 NA                NA               \n",
       "ASV5 Micrococcaceae    Pseudarthrobacter\n",
       "ASV6 Cellvibrionaceae  Cellvibrio       \n",
       "     Seq                                                                                                                                                                                                                                                             \n",
       "ASV1 TACGAAGGGGGCTAGCGTTGTTCGGATTTACTGGGCGTAAAGCGCACGTAGGCGGACTATTAAGTCAGGGGTGAAATCCCGGGGCTCAACCCCGGAACTGCCTTTGATACTGGTAGTCTTGAGTTCGAGAGAGGTGAGTGGAATTCCGAGTGTAGAGGTGAAATTCGTAGATATTCGGAGGAACACCAGTGGCGAAGGCGGCTCACTGGCTCGATACTGACGCTGAGGTGCGAAAGCGTGGGGAGCAAACAGG   \n",
       "ASV2 GACATAGGTGGCAAACATTATCCGGAATTATTGGGCGTAAAGGGTGCGTAGGCGGCATGATAAGTTGCTGGTGGGAAATCAAGGCTCAACCTTGTGGAAGCTAGCAATACTGTCAAGCTAGAGGGCAGAAGAGGTTAACGGAACTCTATGTGGAGCGGTAAAATGTGTAGATATATAGAAGAACATCAATAAAGGCGAAGGCAGTTAACTAGTCTGTCCCTGACGTTGAGGCACGAAAGCGTGGGGAGCAAAACGG\n",
       "ASV3 TACGGAGGGAGCTAGCGTTGTTCGGAATTACTGGGCGTAAAGCGCACGTAGGCGGCTTTGTAAGTCAGAGGTGAAAGCCTGGAGCTCAACTCCAGAACTGCCTTTGAGACTGCATCGCTTGAATCCAGGAGAGGTGAGTGGAATTCCGAGTGTAGAGGTGAAATTCGTAGATATTCGGAAGAACACCAGTGGCGAAGGCGGCTCACTGGACTGGTATTGACGCTGAGGTGCGAAAGCGTGGGGAGCAAACAGG   \n",
       "ASV4 GACATAGGTGGCGAACGTTATCCGGAATTATTGGGCGTAAAGGATGCGTAGATGGCAGAGTAAGTTACTGGTTGATGTCAAACTCAATTTGACGGAAGCTGGTAATACTGTTTTGCTAGAGGACAGGAGAGGTTGATGGAATTCTGTGTGGAGCGGTGAAATGCGTTGATCTACAGAGGAACACCAAAAAAGGCGAAGGCAGTCAACTATCCTGTTCCTGACATTGAGGCATGAAAGCGTGGGGAGCAAACCGG  \n",
       "ASV5 TACGTAGGGCGCAAGCGTTATCCGGAATTATTGGGCGTAAAGAGCTCGTAGGCGGTTTGTCGCGTCTGCCGTGAAAGTCCGGGGCTCAACTCCGGATCTGCGGTGGGTACGGGCAGACTAGAGTGATGTAGGGGAGACTGGAATTCCTGGTGTAGCGGTGAAATGCGCAGATATCAGGAGGAACACCGATGGCGAAGGCAGGTCTCTGGGCATTAACTGACGCTGAGGAGCGAAAGCATGGGGAGCGAACAGG   \n",
       "ASV6 TACGGAGGGTGCAAGCGTTAATCGGAATTACTGGGCGTAAAGCGCACGTAGGTGGTTTGTTAAGCTAGCTGTGAAATCCCCGGGCTCAACCTGGGCACTGCAGTTAGAACTGGCAAGCTAGAGTAGGGTAGAGGGGTGTGGAATTCCAGGTGTAGCGGTGAAATGCGTAGATATCTGGAGGAACATCAGTGGCGAAGGCGACACCCTGGACTCATACTGACACTGAGGTGCGAAAGCGTGGGGAGCAAACAGG   "
      ]
     },
     "metadata": {},
     "output_type": "display_data"
    }
   ],
   "source": [
    "tax_table(ps.thresh) %>% head"
   ]
  },
  {
   "cell_type": "code",
   "execution_count": 21,
   "metadata": {},
   "outputs": [
    {
     "data": {
      "text/html": [
       "<table>\n",
       "<thead><tr><th></th><th scope=col>Kingdom</th><th scope=col>Phylum</th><th scope=col>Class</th><th scope=col>Order</th><th scope=col>Family</th><th scope=col>Genus</th></tr></thead>\n",
       "<tbody>\n",
       "\t<tr><th scope=row>ASV1</th><td>Bacteria           </td><td>Proteobacteria     </td><td>Alphaproteobacteria</td><td>Rhizobiales        </td><td>Rhizobiaceae       </td><td>Phyllobacterium    </td></tr>\n",
       "\t<tr><th scope=row>ASV2</th><td>Bacteria           </td><td>NA                 </td><td>NA                 </td><td>NA                 </td><td>NA                 </td><td>NA                 </td></tr>\n",
       "\t<tr><th scope=row>ASV3</th><td>Bacteria           </td><td>Proteobacteria     </td><td>Alphaproteobacteria</td><td>Sphingomonadales   </td><td>Sphingomonadaceae  </td><td>Sphingomonas       </td></tr>\n",
       "\t<tr><th scope=row>ASV4</th><td>Bacteria           </td><td>NA                 </td><td>NA                 </td><td>NA                 </td><td>NA                 </td><td>NA                 </td></tr>\n",
       "\t<tr><th scope=row>ASV5</th><td>Bacteria           </td><td>Actinobacteria     </td><td>Actinobacteria     </td><td>Micrococcales      </td><td>Micrococcaceae     </td><td>Pseudarthrobacter  </td></tr>\n",
       "\t<tr><th scope=row>ASV6</th><td>Bacteria           </td><td>Proteobacteria     </td><td>Gammaproteobacteria</td><td>Cellvibrionales    </td><td>Cellvibrionaceae   </td><td>Cellvibrio         </td></tr>\n",
       "</tbody>\n",
       "</table>\n"
      ],
      "text/latex": [
       "\\begin{tabular}{r|llllll}\n",
       "  & Kingdom & Phylum & Class & Order & Family & Genus\\\\\n",
       "\\hline\n",
       "\tASV1 & Bacteria            & Proteobacteria      & Alphaproteobacteria & Rhizobiales         & Rhizobiaceae        & Phyllobacterium    \\\\\n",
       "\tASV2 & Bacteria            & NA                  & NA                  & NA                  & NA                  & NA                 \\\\\n",
       "\tASV3 & Bacteria            & Proteobacteria      & Alphaproteobacteria & Sphingomonadales    & Sphingomonadaceae   & Sphingomonas       \\\\\n",
       "\tASV4 & Bacteria            & NA                  & NA                  & NA                  & NA                  & NA                 \\\\\n",
       "\tASV5 & Bacteria            & Actinobacteria      & Actinobacteria      & Micrococcales       & Micrococcaceae      & Pseudarthrobacter  \\\\\n",
       "\tASV6 & Bacteria            & Proteobacteria      & Gammaproteobacteria & Cellvibrionales     & Cellvibrionaceae    & Cellvibrio         \\\\\n",
       "\\end{tabular}\n"
      ],
      "text/markdown": [
       "\n",
       "| <!--/--> | Kingdom | Phylum | Class | Order | Family | Genus | \n",
       "|---|---|---|---|---|---|\n",
       "| ASV1 | Bacteria            | Proteobacteria      | Alphaproteobacteria | Rhizobiales         | Rhizobiaceae        | Phyllobacterium     | \n",
       "| ASV2 | Bacteria            | NA                  | NA                  | NA                  | NA                  | NA                  | \n",
       "| ASV3 | Bacteria            | Proteobacteria      | Alphaproteobacteria | Sphingomonadales    | Sphingomonadaceae   | Sphingomonas        | \n",
       "| ASV4 | Bacteria            | NA                  | NA                  | NA                  | NA                  | NA                  | \n",
       "| ASV5 | Bacteria            | Actinobacteria      | Actinobacteria      | Micrococcales       | Micrococcaceae      | Pseudarthrobacter   | \n",
       "| ASV6 | Bacteria            | Proteobacteria      | Gammaproteobacteria | Cellvibrionales     | Cellvibrionaceae    | Cellvibrio          | \n",
       "\n",
       "\n"
      ],
      "text/plain": [
       "     Kingdom  Phylum         Class               Order           \n",
       "ASV1 Bacteria Proteobacteria Alphaproteobacteria Rhizobiales     \n",
       "ASV2 Bacteria NA             NA                  NA              \n",
       "ASV3 Bacteria Proteobacteria Alphaproteobacteria Sphingomonadales\n",
       "ASV4 Bacteria NA             NA                  NA              \n",
       "ASV5 Bacteria Actinobacteria Actinobacteria      Micrococcales   \n",
       "ASV6 Bacteria Proteobacteria Gammaproteobacteria Cellvibrionales \n",
       "     Family            Genus            \n",
       "ASV1 Rhizobiaceae      Phyllobacterium  \n",
       "ASV2 NA                NA               \n",
       "ASV3 Sphingomonadaceae Sphingomonas     \n",
       "ASV4 NA                NA               \n",
       "ASV5 Micrococcaceae    Pseudarthrobacter\n",
       "ASV6 Cellvibrionaceae  Cellvibrio       "
      ]
     },
     "metadata": {},
     "output_type": "display_data"
    }
   ],
   "source": [
    "tax_table(ps.thresh) = taxa_df\n",
    "head(tax_table(ps.thresh))"
   ]
  },
  {
   "cell_type": "code",
   "execution_count": 22,
   "metadata": {},
   "outputs": [],
   "source": [
    "saveRDS(ps.thresh, file = '~/Hyphosphere/data/3Exp/phyloseq/3Exp_phyloseq_thresh.rds')"
   ]
  },
  {
   "cell_type": "markdown",
   "metadata": {},
   "source": [
    "# Next steps: sequences will be used to build a tree in a python script and then tree will be re-united with phyloseq object in subsequent notebook"
   ]
  },
  {
   "cell_type": "code",
   "execution_count": 23,
   "metadata": {},
   "outputs": [
    {
     "data": {
      "text/plain": [
       "R version 3.5.1 (2018-07-02)\n",
       "Platform: x86_64-conda_cos6-linux-gnu (64-bit)\n",
       "Running under: Ubuntu 16.04.3 LTS\n",
       "\n",
       "Matrix products: default\n",
       "BLAS/LAPACK: /data/home/be68/anaconda3/envs/MyR/lib/R/lib/libRblas.so\n",
       "\n",
       "locale:\n",
       " [1] LC_CTYPE=en_US.UTF-8       LC_NUMERIC=C              \n",
       " [3] LC_TIME=en_US.UTF-8        LC_COLLATE=en_US.UTF-8    \n",
       " [5] LC_MONETARY=en_US.UTF-8    LC_MESSAGES=en_US.UTF-8   \n",
       " [7] LC_PAPER=en_US.UTF-8       LC_NAME=C                 \n",
       " [9] LC_ADDRESS=C               LC_TELEPHONE=C            \n",
       "[11] LC_MEASUREMENT=en_US.UTF-8 LC_IDENTIFICATION=C       \n",
       "\n",
       "attached base packages:\n",
       "[1] stats     graphics  grDevices utils     datasets  methods   base     \n",
       "\n",
       "other attached packages:\n",
       "[1] ggplot2_3.0.0   phyloseq_1.26.1 dplyr_0.7.6     tidyr_0.8.1    \n",
       "[5] dada2_1.10.0    Rcpp_0.12.18   \n",
       "\n",
       "loaded via a namespace (and not attached):\n",
       " [1] Biobase_2.42.0              splines_3.5.1              \n",
       " [3] jsonlite_1.5                foreach_1.4.4              \n",
       " [5] RcppParallel_4.4.2          assertthat_0.2.0           \n",
       " [7] stats4_3.5.1                latticeExtra_0.6-28        \n",
       " [9] GenomeInfoDbData_1.2.1      Rsamtools_1.34.0           \n",
       "[11] pillar_1.3.0                lattice_0.20-35            \n",
       "[13] glue_1.3.0                  uuid_0.1-2                 \n",
       "[15] digest_0.6.15               GenomicRanges_1.34.0       \n",
       "[17] RColorBrewer_1.1-2          XVector_0.22.0             \n",
       "[19] colorspace_1.3-2            htmltools_0.3.6            \n",
       "[21] Matrix_1.2-14               plyr_1.8.4                 \n",
       "[23] pkgconfig_2.0.1             ShortRead_1.40.0           \n",
       "[25] zlibbioc_1.28.0             purrr_0.2.5                \n",
       "[27] scales_0.5.0                BiocParallel_1.16.6        \n",
       "[29] tibble_1.4.2                mgcv_1.8-24                \n",
       "[31] IRanges_2.16.0              withr_2.1.2                \n",
       "[33] SummarizedExperiment_1.12.0 repr_0.15.0                \n",
       "[35] BiocGenerics_0.28.0         lazyeval_0.2.1             \n",
       "[37] survival_2.42-6             magrittr_1.5               \n",
       "[39] crayon_1.3.4                evaluate_0.11              \n",
       "[41] nlme_3.1-137                MASS_7.3-50                \n",
       "[43] hwriter_1.3.2               vegan_2.5-4                \n",
       "[45] tools_3.5.1                 data.table_1.11.4          \n",
       "[47] matrixStats_0.54.0          stringr_1.3.1              \n",
       "[49] Rhdf5lib_1.4.3              S4Vectors_0.20.1           \n",
       "[51] munsell_0.5.0               cluster_2.0.7-1            \n",
       "[53] DelayedArray_0.8.0          bindrcpp_0.2.2             \n",
       "[55] Biostrings_2.50.2           ade4_1.7-13                \n",
       "[57] compiler_3.5.1              GenomeInfoDb_1.18.1        \n",
       "[59] rlang_0.2.1                 rhdf5_2.26.2               \n",
       "[61] grid_3.5.1                  RCurl_1.95-4.12            \n",
       "[63] pbdZMQ_0.3-3                iterators_1.0.10           \n",
       "[65] IRkernel_0.8.12             biomformat_1.10.1          \n",
       "[67] igraph_1.2.4.1              bitops_1.0-6               \n",
       "[69] base64enc_0.1-3             multtest_2.38.0            \n",
       "[71] gtable_0.2.0                codetools_0.2-15           \n",
       "[73] reshape2_1.4.3              R6_2.2.2                   \n",
       "[75] GenomicAlignments_1.18.1    seqinr_3.4-5               \n",
       "[77] bindr_0.1.1                 permute_0.9-5              \n",
       "[79] ape_5.3                     stringi_1.2.4              \n",
       "[81] parallel_3.5.1              IRdisplay_0.5.0            \n",
       "[83] tidyselect_0.2.4           "
      ]
     },
     "metadata": {},
     "output_type": "display_data"
    }
   ],
   "source": [
    "sessionInfo()"
   ]
  }
 ],
 "metadata": {
  "kernelspec": {
   "display_name": "R",
   "language": "R",
   "name": "ir"
  },
  "language_info": {
   "codemirror_mode": "r",
   "file_extension": ".r",
   "mimetype": "text/x-r-source",
   "name": "R",
   "pygments_lexer": "r",
   "version": "3.5.1"
  }
 },
 "nbformat": 4,
 "nbformat_minor": 2
}
