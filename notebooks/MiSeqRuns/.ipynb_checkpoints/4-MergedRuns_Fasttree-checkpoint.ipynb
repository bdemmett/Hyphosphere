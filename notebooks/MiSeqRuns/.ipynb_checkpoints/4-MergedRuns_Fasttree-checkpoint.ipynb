{
 "cells": [
  {
   "cell_type": "code",
   "execution_count": null,
   "metadata": {},
   "outputs": [],
   "source": []
  },
  {
   "cell_type": "markdown",
   "metadata": {},
   "source": [
    "# Fast Tree of DADA2 ASVs\n",
    "* Tree building from alignment using DADA2 sequences from three hyphosphere experiments.  \n",
    "* Fasta has already been thresholded to reduce computational demand\n",
    "* Set kernel to Python 2"
   ]
  },
  {
   "cell_type": "code",
   "execution_count": 1,
   "metadata": {},
   "outputs": [],
   "source": [
    "workDir = '/home/be68/Hyphosphere/data/3Exp/Fastree'\n",
    "OTUFileDir = '/home/be68/Hyphosphere/data/3Exp/'\n",
    "OTUFile = '/home/be68/Hyphosphere/data/3Exp/seqs_thresh.fasta'\n",
    "\n",
    "\n",
    "nprocs = 20"
   ]
  },
  {
   "cell_type": "code",
   "execution_count": 2,
   "metadata": {},
   "outputs": [],
   "source": [
    "import os\n",
    "import numpy as np\n",
    "#import entrez.direct\n",
    "from cogent.app.fasttree import build_tree_from_alignment\n",
    "from cogent import DNA, LoadSeqs\n",
    "from Bio import Entrez\n",
    "Entrez.email = \"be68@cornell.edu\"\n",
    "#from IPython.display import display, Image, SVG\n",
    "#from cogent3 import LoadSeqs, FastTree\n"
   ]
  },
  {
   "cell_type": "code",
   "execution_count": 3,
   "metadata": {
    "collapsed": true
   },
   "outputs": [],
   "source": [
    "#%load_ext rpy2.ipython"
   ]
  },
  {
   "cell_type": "code",
   "execution_count": 3,
   "metadata": {},
   "outputs": [],
   "source": [
    "if not os.path.isdir(workDir):\n",
    "    os.mkdir(workDir)"
   ]
  },
  {
   "cell_type": "code",
   "execution_count": 4,
   "metadata": {},
   "outputs": [
    {
     "name": "stdout",
     "output_type": "stream",
     "text": [
      "/data/home/be68/Hyphosphere/data/3Exp/phyloseq\n"
     ]
    }
   ],
   "source": [
    "%cd $workDir"
   ]
  },
  {
   "cell_type": "code",
   "execution_count": 5,
   "metadata": {},
   "outputs": [
    {
     "name": "stdout",
     "output_type": "stream",
     "text": [
      "/data/home/be68/Hyphosphere/data/3Exp/phyloseq\r\n"
     ]
    }
   ],
   "source": [
    "!pwd"
   ]
  },
  {
   "cell_type": "code",
   "execution_count": 6,
   "metadata": {},
   "outputs": [],
   "source": [
    "!cd $workDir; ln -f -s $OTUFileDir$OTUFile"
   ]
  },
  {
   "cell_type": "code",
   "execution_count": 7,
   "metadata": {},
   "outputs": [
    {
     "name": "stdout",
     "output_type": "stream",
     "text": [
      ">ASV1\r\n",
      "TACGAAGGGGGCTAGCGTTGTTCGGATTTACTGGGCGTAAAGCGCACGTAGGCGGACTATTAAGTCAGGGGTGAAATCCCGGGGCTCAACCCCGGAACTGCCTTTGATACTGGTAGTCTTGAGTTCGAGAGAGGTGAGTGGAATTCCGAGTGTAGAGGTGAAATTCGTAGATATTCGGAGGAACACCAGTGGCGAAGGCGGCTCACTGGCTCGATACTGACGCTGAGGTGCGAAAGCGTGGGGAGCAAACAGG\r\n",
      ">ASV2\r\n",
      "GACATAGGTGGCAAACATTATCCGGAATTATTGGGCGTAAAGGGTGCGTAGGCGGCATGATAAGTTGCTGGTGGGAAATCAAGGCTCAACCTTGTGGAAGCTAGCAATACTGTCAAGCTAGAGGGCAGAAGAGGTTAACGGAACTCTATGTGGAGCGGTAAAATGTGTAGATATATAGAAGAACATCAATAAAGGCGAAGGCAGTTAACTAGTCTGTCCCTGACGTTGAGGCACGAAAGCGTGGGGAGCAAAACGG\r\n",
      ">ASV3\r\n",
      "TACGGAGGGAGCTAGCGTTGTTCGGAATTACTGGGCGTAAAGCGCACGTAGGCGGCTTTGTAAGTCAGAGGTGAAAGCCTGGAGCTCAACTCCAGAACTGCCTTTGAGACTGCATCGCTTGAATCCAGGAGAGGTGAGTGGAATTCCGAGTGTAGAGGTGAAATTCGTAGATATTCGGAAGAACACCAGTGGCGAAGGCGGCTCACTGGACTGGTATTGACGCTGAGGTGCGAAAGCGTGGGGAGCAAACAGG\r\n",
      ">ASV4\r\n",
      "GACATAGGTGGCGAACGTTATCCGGAATTATTGGGCGTAAAGGATGCGTAGATGGCAGAGTAAGTTACTGGTTGATGTCAAACTCAATTTGACGGAAGCTGGTAATACTGTTTTGCTAGAGGACAGGAGAGGTTGATGGAATTCTGTGTGGAGCGGTGAAATGCGTTGATCTACAGAGGAACACCAAAAAAGGCGAAGGCAGTCAACTATCCTGTTCCTGACATTGAGGCATGAAAGCGTGGGGAGCAAACCGG\r\n",
      ">ASV5\r\n",
      "TACGTAGGGCGCAAGCGTTATCCGGAATTATTGGGCGTAAAGAGCTCGTAGGCGGTTTGTCGCGTCTGCCGTGAAAGTCCGGGGCTCAACTCCGGATCTGCGGTGGGTACGGGCAGACTAGAGTGATGTAGGGGAGACTGGAATTCCTGGTGTAGCGGTGAAATGCGCAGATATCAGGAGGAACACCGATGGCGAAGGCAGGTCTCTGGGCATTAACTGACGCTGAGGAGCGAAAGCATGGGGAGCGAACAGG\r\n"
     ]
    }
   ],
   "source": [
    "!cd $workDir; head $OTUFile"
   ]
  },
  {
   "cell_type": "code",
   "execution_count": 8,
   "metadata": {},
   "outputs": [
    {
     "name": "stdout",
     "output_type": "stream",
     "text": [
      "Number of OTUs in fasta: 14615\n"
     ]
    }
   ],
   "source": [
    "!printf \"Number of OTUs in fasta: \"\n",
    "!cd $workDir; grep -c \">\" $OTUFile"
   ]
  },
  {
   "cell_type": "markdown",
   "metadata": {},
   "source": [
    "## Using SSU-Align to align seqs and masking based on alignment posterior probabilities."
   ]
  },
  {
   "cell_type": "code",
   "execution_count": null,
   "metadata": {
    "collapsed": true
   },
   "outputs": [],
   "source": []
  },
  {
   "cell_type": "code",
   "execution_count": 9,
   "metadata": {
    "scrolled": true
   },
   "outputs": [
    {
     "name": "stdout",
     "output_type": "stream",
     "text": [
      "# _ssu-prep :: prepare SSU rRNA sequences for parallel ssu-align jobs\n",
      "# SSU-ALIGN 0.1.1 (Feb 2016)\n",
      "# Copyright (C) 2016 Howard Hughes Medical Institute\n",
      "# Freely distributed under the BSD open source license.\n",
      "# - - - - - - - - - - - - - - - - - - - - - - - - - - - - - - - - - - - -\n",
      "# command: _ssu-prep -x -f -b 50 --dna --rfonly seqs_thresh.fasta ssu_aln 20\n",
      "# date:    Mon Jun 10 16:53:25 2019\n",
      "#\n",
      "# Validating input sequence file ... done.\n",
      "#\n",
      "# Preparing 20 ssu-align jobs ...\n",
      "# Partitioning seqs with goal of equalizing total number of nucleotides per job ...\n",
      "#\n",
      "# output file name      description                                           \n",
      "# --------------------  ------------------------------------------------------\n",
      "  ssu_aln/seqs_thresh.fasta.1  partition  1 FASTA sequence file (731 seqs; 184986 nt)\n",
      "  ssu_aln/seqs_thresh.fasta.2  partition  2 FASTA sequence file (731 seqs; 185002 nt)\n",
      "  ssu_aln/seqs_thresh.fasta.3  partition  3 FASTA sequence file (731 seqs; 185002 nt)\n",
      "  ssu_aln/seqs_thresh.fasta.4  partition  4 FASTA sequence file (731 seqs; 185013 nt)\n",
      "  ssu_aln/seqs_thresh.fasta.5  partition  5 FASTA sequence file (731 seqs; 185031 nt)\n",
      "  ssu_aln/seqs_thresh.fasta.6  partition  6 FASTA sequence file (731 seqs; 185018 nt)\n",
      "  ssu_aln/seqs_thresh.fasta.7  partition  7 FASTA sequence file (731 seqs; 185033 nt)\n",
      "  ssu_aln/seqs_thresh.fasta.8  partition  8 FASTA sequence file (731 seqs; 185011 nt)\n",
      "  ssu_aln/seqs_thresh.fasta.9  partition  9 FASTA sequence file (731 seqs; 185034 nt)\n",
      "  ssu_aln/seqs_thresh.fasta.10  partition 10 FASTA sequence file (731 seqs; 185017 nt)\n",
      "  ssu_aln/seqs_thresh.fasta.11  partition 11 FASTA sequence file (731 seqs; 185025 nt)\n",
      "  ssu_aln/seqs_thresh.fasta.12  partition 12 FASTA sequence file (731 seqs; 185028 nt)\n",
      "  ssu_aln/seqs_thresh.fasta.13  partition 13 FASTA sequence file (731 seqs; 185017 nt)\n",
      "  ssu_aln/seqs_thresh.fasta.14  partition 14 FASTA sequence file (731 seqs; 185009 nt)\n",
      "  ssu_aln/seqs_thresh.fasta.15  partition 15 FASTA sequence file (731 seqs; 185023 nt)\n",
      "  ssu_aln/seqs_thresh.fasta.16  partition 16 FASTA sequence file (731 seqs; 184989 nt)\n",
      "  ssu_aln/seqs_thresh.fasta.17  partition 17 FASTA sequence file (730 seqs; 184760 nt)\n",
      "  ssu_aln/seqs_thresh.fasta.18  partition 18 FASTA sequence file (730 seqs; 184785 nt)\n",
      "  ssu_aln/seqs_thresh.fasta.19  partition 19 FASTA sequence file (730 seqs; 184815 nt)\n",
      "  ssu_aln/seqs_thresh.fasta.20  partition 20 FASTA sequence file (729 seqs; 184544 nt)\n",
      "  ssu_aln.ssu-align.sh  shell script that will execute 20 ssu-align jobs\n",
      "#\n",
      "################################################################################\n",
      "# To execute all 20 ssu-align jobs, run the shell script with the command:\n",
      "#\t\"ssu_aln.ssu-align.sh\"\n",
      "# (it is an executable file)\n",
      "################################################################################\n",
      "#\n",
      "# The final job will merge the output from all jobs once they are all finished.\n",
      "#\n",
      "# If one or more jobs fail: rerun the failed jobs, wait for them to finish,\n",
      "# and then perform manual merge from this directory by executing:\n",
      "#\tssu-merge ssu_aln\n",
      "#\n",
      "# List of executed commands saved in:     ssu_aln/ssu_aln.ssu-prep.log.\n",
      "# Output printed to the screen saved in:  ssu_aln/ssu_aln.ssu-prep.sum.\n",
      "#\n",
      "# CPU time:  00:00:00.53  (hh:mm:ss)\n",
      "# \n"
     ]
    }
   ],
   "source": [
    "!cd $workDir; ssu-prep -f -x -b 50 --rfonly --dna $OTUFile ssu_aln 20"
   ]
  },
  {
   "cell_type": "code",
   "execution_count": 10,
   "metadata": {
    "scrolled": true
   },
   "outputs": [
    {
     "name": "stdout",
     "output_type": "stream",
     "text": [
      "# Executing: ssu-align -b 50 --dna --rfonly ssu_aln/seqs_thresh.fasta.1 ssu_aln/ssu_aln.1 > /dev/null &\n",
      "# Executing: ssu-align -b 50 --dna --rfonly ssu_aln/seqs_thresh.fasta.2 ssu_aln/ssu_aln.2 > /dev/null &\n",
      "# Executing: ssu-align -b 50 --dna --rfonly ssu_aln/seqs_thresh.fasta.3 ssu_aln/ssu_aln.3 > /dev/null &\n",
      "# Executing: ssu-align -b 50 --dna --rfonly ssu_aln/seqs_thresh.fasta.4 ssu_aln/ssu_aln.4 > /dev/null &\n",
      "# Executing: ssu-align -b 50 --dna --rfonly ssu_aln/seqs_thresh.fasta.5 ssu_aln/ssu_aln.5 > /dev/null &\n",
      "# Executing: ssu-align -b 50 --dna --rfonly ssu_aln/seqs_thresh.fasta.6 ssu_aln/ssu_aln.6 > /dev/null &\n",
      "# Executing: ssu-align -b 50 --dna --rfonly ssu_aln/seqs_thresh.fasta.7 ssu_aln/ssu_aln.7 > /dev/null &\n",
      "# Executing: ssu-align -b 50 --dna --rfonly ssu_aln/seqs_thresh.fasta.8 ssu_aln/ssu_aln.8 > /dev/null &\n",
      "# Executing: ssu-align -b 50 --dna --rfonly ssu_aln/seqs_thresh.fasta.9 ssu_aln/ssu_aln.9 > /dev/null &\n",
      "# Executing: ssu-align -b 50 --dna --rfonly ssu_aln/seqs_thresh.fasta.10 ssu_aln/ssu_aln.10 > /dev/null &\n",
      "# Executing: ssu-align -b 50 --dna --rfonly ssu_aln/seqs_thresh.fasta.11 ssu_aln/ssu_aln.11 > /dev/null &\n",
      "# Executing: ssu-align -b 50 --dna --rfonly ssu_aln/seqs_thresh.fasta.12 ssu_aln/ssu_aln.12 > /dev/null &\n",
      "# Executing: ssu-align -b 50 --dna --rfonly ssu_aln/seqs_thresh.fasta.13 ssu_aln/ssu_aln.13 > /dev/null &\n",
      "# Executing: ssu-align -b 50 --dna --rfonly ssu_aln/seqs_thresh.fasta.14 ssu_aln/ssu_aln.14 > /dev/null &\n",
      "# Executing: ssu-align -b 50 --dna --rfonly ssu_aln/seqs_thresh.fasta.15 ssu_aln/ssu_aln.15 > /dev/null &\n",
      "# Executing: ssu-align -b 50 --dna --rfonly ssu_aln/seqs_thresh.fasta.16 ssu_aln/ssu_aln.16 > /dev/null &\n",
      "# Executing: ssu-align -b 50 --dna --rfonly ssu_aln/seqs_thresh.fasta.17 ssu_aln/ssu_aln.17 > /dev/null &\n",
      "# Executing: ssu-align -b 50 --dna --rfonly ssu_aln/seqs_thresh.fasta.18 ssu_aln/ssu_aln.18 > /dev/null &\n",
      "# Executing: ssu-align -b 50 --dna --rfonly ssu_aln/seqs_thresh.fasta.19 ssu_aln/ssu_aln.19 > /dev/null &\n",
      "# Executing: ssu-align --merge 20 -b 50 --dna --rfonly ssu_aln/seqs_thresh.fasta.20 ssu_aln/ssu_aln.20\n",
      "# _ssu-align :: align SSU rRNA sequences\n",
      "# SSU-ALIGN 0.1.1 (Feb 2016)\n",
      "# Copyright (C) 2016 Howard Hughes Medical Institute\n",
      "# Freely distributed under the BSD open source license.\n",
      "# - - - - - - - - - - - - - - - - - - - - - - - - - - - - - - - - - - - -\n",
      "# command: _ssu-align --merge 20 -b 50 --dna --rfonly ssu_aln/seqs_thresh.fasta.20 ssu_aln/ssu_aln.20\n",
      "# date:    Mon Jun 10 16:53:35 2019\n",
      "#\n",
      "# Validating input sequence file ... done.\n",
      "#\n",
      "# Stage 1: Determining SSU start/end positions and best-matching models...\n",
      "#\n",
      "# output file name             description                                \n",
      "# ---------------------------  -------------------------------------------\n",
      "  ssu_aln.20.tab               locations/scores of hits defined by HMM(s)\n",
      "  ssu_aln.20.archaea.hitlist   list of sequences to align with archaea CM\n",
      "  ssu_aln.20.archaea.fa             12 sequences to align with archaea CM\n",
      "  ssu_aln.20.bacteria.hitlist  list of sequences to align with bacteria CM\n",
      "  ssu_aln.20.bacteria.fa           712 sequences to align with bacteria CM\n",
      "#\n",
      "# Stage 2: Aligning each sequence to its best-matching model...\n",
      "#\n",
      "# output file name             description\n",
      "# ---------------------------  ---------------------------------------\n",
      "  ssu_aln.20.archaea.stk       archaea alignment\n",
      "  ssu_aln.20.archaea.cmalign   archaea cmalign output\n",
      "  ssu_aln.20.archaea.ifile     archaea insert info\n",
      "  ssu_aln.20.bacteria.stk      bacteria alignment\n",
      "  ssu_aln.20.bacteria.cmalign  bacteria cmalign output\n",
      "  ssu_aln.20.bacteria.ifile    bacteria insert info\n",
      "  ssu_aln.20.scores            list of CM/HMM scores for each sequence\n",
      "  ssu_aln.20.nomatch           list of seqs that don't match any model\n",
      "#\n",
      "# Summary statistics:\n",
      "#\n",
      "# model or       number  fraction        average   average               \n",
      "# category      of seqs  of total         length  coverage    nucleotides\n",
      "# ------------  -------  --------  -------------  --------  -------------\n",
      "  *input*           729    1.0000         253.15    1.0000         184544\n",
      "#\n",
      "  archaea            12    0.0165         251.25    0.9901           3015\n",
      "  bacteria          712    0.9767         251.32    0.9928         178938\n",
      "  eukarya             0    0.0000              -         -              0\n",
      "#\n",
      "  *all-models*      724    0.9931         251.32    0.9928         181953\n",
      "  *no-models*         5    0.0069         253.60    0.0000           1268\n",
      "#\n",
      "# Speed statistics:\n",
      "#\n",
      "# stage      num seqs  seq/sec  seq/sec/model    nucleotides    nt/sec\n",
      "# ---------  --------  -------  -------------  -------------  --------\n",
      "  search          729   11.104          3.701         184544    2810.9\n",
      "  alignment       724    7.767          7.767         181953    1951.8\n",
      "#\n",
      "#\n",
      "# List of executed commands saved in:     ssu_aln.20.ssu-align.log.\n",
      "# Output printed to the screen saved in:  ssu_aln.20.ssu-align.sum.\n",
      "#\n",
      "# All output files created in directory ./ssu_aln/ssu_aln.20/\n",
      "#\n",
      "# CPU time (search):     00:01:05.65  (hh:mm:ss)\n",
      "# CPU time (alignment):  00:01:33.22  (hh:mm:ss)\n",
      "# CPU time (total):      00:02:39.20  (hh:mm:ss)\n",
      "#\n",
      "################################################################################\n",
      "#\n",
      "# Alignments successfully created.\n",
      "#\n",
      "# Checking/waiting for other jobs to finish before merging...\n",
      "#\n",
      "# Job  1 (dir: ssu_aln/ssu_aln.1 ) completed successfully! 19/20 still incomplete.\n",
      "# Job  2 (dir: ssu_aln/ssu_aln.2 ) completed successfully! 18/20 still incomplete.\n",
      "# Job  3 (dir: ssu_aln/ssu_aln.3 ) completed successfully! 17/20 still incomplete.\n",
      "# Job  5 (dir: ssu_aln/ssu_aln.5 ) completed successfully! 16/20 still incomplete.\n",
      "# Job  6 (dir: ssu_aln/ssu_aln.6 ) completed successfully! 15/20 still incomplete.\n",
      "# Job  8 (dir: ssu_aln/ssu_aln.8 ) completed successfully! 14/20 still incomplete.\n",
      "# Job  9 (dir: ssu_aln/ssu_aln.9 ) completed successfully! 13/20 still incomplete.\n",
      "# Job 10 (dir: ssu_aln/ssu_aln.10) completed successfully! 12/20 still incomplete.\n",
      "# Job 11 (dir: ssu_aln/ssu_aln.11) completed successfully! 11/20 still incomplete.\n",
      "# Job 12 (dir: ssu_aln/ssu_aln.12) completed successfully! 10/20 still incomplete.\n",
      "# Job 14 (dir: ssu_aln/ssu_aln.14) completed successfully!  9/20 still incomplete.\n",
      "# Job 15 (dir: ssu_aln/ssu_aln.15) completed successfully!  8/20 still incomplete.\n",
      "# Job 16 (dir: ssu_aln/ssu_aln.16) completed successfully!  7/20 still incomplete.\n",
      "# Job 17 (dir: ssu_aln/ssu_aln.17) completed successfully!  6/20 still incomplete.\n",
      "# Job 18 (dir: ssu_aln/ssu_aln.18) completed successfully!  5/20 still incomplete.\n",
      "# Job 19 (dir: ssu_aln/ssu_aln.19) completed successfully!  4/20 still incomplete.\n",
      "# Job 20 (dir: ssu_aln/ssu_aln.20) completed successfully!  3/20 still incomplete.\n",
      "# Job  4 (dir: ssu_aln/ssu_aln.4 ) completed successfully!  2/20 still incomplete.\n",
      "# Job  7 (dir: ssu_aln/ssu_aln.7 ) completed successfully!  1/20 still incomplete.\n",
      "# Job 13 (dir: ssu_aln/ssu_aln.13) completed successfully!  0/20 still incomplete.\n",
      "#\n",
      "# All 20 jobs successfully completed.\n",
      "# About to merge their output:\n",
      "#\n",
      "# Executing:  ssu-merge ssu_aln\n",
      "#\n",
      "################################################################################\n",
      "#\n",
      "# _ssu-merge :: merge SSU rRNA alignments\n",
      "# SSU-ALIGN 0.1.1 (Feb 2016)\n",
      "# Copyright (C) 2016 Howard Hughes Medical Institute\n",
      "# Freely distributed under the BSD open source license.\n",
      "# - - - - - - - - - - - - - - - - - - - - - - - - - - - - - - - - - - - -\n",
      "# command: _ssu-merge ssu_aln\n",
      "# date:    Mon Jun 10 16:56:17 2019\n",
      "#\n",
      "# Merging files from 20 ssu-align runs...\n",
      "#\n",
      "#                                     # files     # seqs\n",
      "# merged file name          CM name    merged     merged\n",
      "# ------------------------  --------  -------  ---------\n",
      "  ssu_aln.tab               -              20          -\n",
      "  ssu_aln.scores            -              20          -\n",
      "  ssu_aln.nomatch           -              20          -\n",
      "  ssu_aln.ssu-align.sum     -              20          -\n",
      "  ssu_aln.ssu-align.log     -              20          -\n",
      "#\n",
      "  ssu_aln.archaea.fa        archaea        20        123\n",
      "  ssu_aln.archaea.hitlist   archaea        20        123\n",
      "  ssu_aln.archaea.cmalign   archaea        20        123\n",
      "  ssu_aln.archaea.ifile     archaea        20        123\n",
      "  ssu_aln.archaea.stk       archaea        20        123\n",
      "#\n"
     ]
    },
    {
     "name": "stdout",
     "output_type": "stream",
     "text": [
      "  ssu_aln.bacteria.fa       bacteria       20      14457\n",
      "  ssu_aln.bacteria.hitlist  bacteria       20      14457\n",
      "  ssu_aln.bacteria.cmalign  bacteria       20      14457\n",
      "  ssu_aln.bacteria.ifile    bacteria       20      14457\n",
      "  ssu_aln.bacteria.stk      bacteria       20      14457\n",
      "#\n",
      "#\n",
      "# Summary statistics:\n",
      "#\n",
      "# model or       number  fraction        average   average               \n",
      "# category      of seqs  of total         length  coverage    nucleotides\n",
      "# ------------  -------  --------  -------------  --------  -------------\n",
      "  *input*         14615    1.0000         253.11    1.0000        3699142\n",
      "#\n",
      "  archaea           123    0.0084         251.67    0.9937          30955\n",
      "  bacteria        14457    0.9892         251.81    0.9949        3640411\n",
      "  eukarya             0    0.0000              -         -              0\n",
      "#\n",
      "  *all-models*    14580    0.9976         251.81    0.9949        3671366\n",
      "  *no-models*        35    0.0024         253.32    0.0000           8866\n",
      "#\n",
      "# Speed statistics:\n",
      "#\n",
      "# stage      num seqs  seq/sec  seq/sec/model    nucleotides    nt/sec\n",
      "# ---------  --------  -------  -------------  -------------  --------\n",
      "  search        14615  14615.000       4871.667        3699142  3699142.0\n",
      "  alignment     14580  14580.000      14580.000        3671366  3671366.0\n",
      "#\n",
      "# Summed ssu-align CPU time (search):     00:00:00.00  (hh:mm:ss)\n",
      "# Summed ssu-align CPU time (alignment):  00:00:00.00  (hh:mm:ss)\n",
      "# Summed ssu-align CPU time (total):      00:00:00.00  (hh:mm:ss)\n",
      "#\n",
      "# Cleaning up by removing original files that were just merged ... done.\n",
      "#\n",
      "# List of executed commands saved in:     ssu_aln.ssu-merge.log.\n",
      "# Output printed to the screen saved in:  ssu_aln.ssu-merge.sum.\n",
      "#\n",
      "# All output files created in directory ./ssu_aln/\n",
      "#\n",
      "# CPU time:  00:00:00.66  (hh:mm:ss)\n",
      "# \n"
     ]
    }
   ],
   "source": [
    "!cd $workDir; ./ssu_aln.ssu-align.sh"
   ]
  },
  {
   "cell_type": "code",
   "execution_count": null,
   "metadata": {},
   "outputs": [],
   "source": []
  },
  {
   "cell_type": "code",
   "execution_count": 11,
   "metadata": {},
   "outputs": [
    {
     "name": "stdout",
     "output_type": "stream",
     "text": [
      "# _ssu-mask :: mask SSU rRNA alignments\n",
      "# SSU-ALIGN 0.1.1 (Feb 2016)\n",
      "# Copyright (C) 2016 Howard Hughes Medical Institute\n",
      "# Freely distributed under the BSD open source license.\n",
      "# - - - - - - - - - - - - - - - - - - - - - - - - - - - - - - - - - - - -\n",
      "# command: _ssu-mask --afa --dna ssu_aln\n",
      "# date:    Mon Jun 10 17:06:20 2019\n",
      "#\n",
      "# Masking alignments based on posterior probabilities...\n",
      "#\n",
      "#                                                     mask    \n",
      "#                                                 ------------\n",
      "# file name                  in/out  type  #cols  incl.  excl.\n",
      "# -------------------------  ------  ----  -----  -----  -----\n",
      "  ssu_aln.archaea.stk         input   aln   1508      -      -\n",
      "  ssu_aln.archaea.mask       output  mask   1508    246   1262\n",
      "  ssu_aln.archaea.mask.pdf   output   pdf   1508    246   1262\n",
      "  ssu_aln.archaea.mask.afa   output   aln    246      -      -\n",
      "#\n",
      "  ssu_aln.bacteria.stk        input   aln   1582      -      -\n",
      "  ssu_aln.bacteria.mask      output  mask   1582    247   1335\n",
      "  ssu_aln.bacteria.mask.pdf  output   pdf   1582    247   1335\n",
      "  ssu_aln.bacteria.mask.afa  output   aln    247      -      -\n",
      "#\n",
      "# All attempts to draw structure diagrams of masks were successful.\n",
      "#\n",
      "# List of executed commands saved in:     ssu_aln.ssu-mask.log.\n",
      "# Output printed to the screen saved in:  ssu_aln.ssu-mask.sum.\n",
      "#\n",
      "# All output files created in directory ./ssu_aln/\n",
      "#\n",
      "# CPU time:  00:00:02.24  (hh:mm:ss)\n",
      "# \n"
     ]
    }
   ],
   "source": [
    "!cd $workDir; ssu-mask --dna --afa ssu_aln"
   ]
  },
  {
   "cell_type": "code",
   "execution_count": null,
   "metadata": {
    "collapsed": true
   },
   "outputs": [],
   "source": [
    "#!cd $workDir; ~/seq_tools/seq_tools fasta_unwrap ssu_aln/ssu_aln.bacteria.mask.afa  | head"
   ]
  },
  {
   "cell_type": "markdown",
   "metadata": {},
   "source": [
    "### Using Sulfolobus as the root (acc. X90478)."
   ]
  },
  {
   "cell_type": "code",
   "execution_count": 12,
   "metadata": {},
   "outputs": [],
   "source": [
    "sso_acc = \"X90478\"\n",
    "sso_fa = Entrez.efetch(db=\"nucleotide\", id=sso_acc, rettype=\"fasta\", retmode=\"text\").readlines()"
   ]
  },
  {
   "cell_type": "code",
   "execution_count": 13,
   "metadata": {},
   "outputs": [],
   "source": [
    "out = open(os.path.join(workDir, 'X90478.fasta'), 'w')\n",
    "sso_fa_namestrip = sso_fa[1:]\n",
    "sso_fa_namestrip.insert(0,\">%s\\n\"%sso_acc)\n",
    "out.writelines(sso_fa_namestrip)\n",
    "out.close()"
   ]
  },
  {
   "cell_type": "code",
   "execution_count": 14,
   "metadata": {},
   "outputs": [
    {
     "name": "stdout",
     "output_type": "stream",
     "text": [
      ">X90478\r\n",
      "TCCTGCCGGTCCCGACCGCTATCGGGGTGGGGCTAAGCCATGGGAGTCGTACGCTCCCGGGCAAGGGAGC\r\n",
      "GTGGCGGACGGCTGAGTAACACGTGGCTAACCTACCCTGAGGAGGGAGATAACCCCGGGAAACTGGGGAT\r\n",
      "AATCTCCCATAGGCGAGGAGTCCTGGAACGGTTCCTCGCTGAAAGGCTCATGGGCTATTCCCCGCTCATG\r\n"
     ]
    }
   ],
   "source": [
    "!cd $workDir; head -n 4 X90478.fasta"
   ]
  },
  {
   "cell_type": "markdown",
   "metadata": {},
   "source": [
    "### Align the outgroup to the same cm (use the same mask that was established earlier)."
   ]
  },
  {
   "cell_type": "code",
   "execution_count": 15,
   "metadata": {
    "scrolled": true
   },
   "outputs": [
    {
     "name": "stdout",
     "output_type": "stream",
     "text": [
      "# _ssu-align :: align SSU rRNA sequences\n",
      "# SSU-ALIGN 0.1.1 (Feb 2016)\n",
      "# Copyright (C) 2016 Howard Hughes Medical Institute\n",
      "# Freely distributed under the BSD open source license.\n",
      "# - - - - - - - - - - - - - - - - - - - - - - - - - - - - - - - - - - - -\n",
      "# command: _ssu-align -f -n bacteria --dna --rfonly X90478.fasta sso_aln\n",
      "# date:    Mon Jun 10 17:07:01 2019\n",
      "#\n",
      "# Validating input sequence file ... done.\n",
      "#\n",
      "# Stage 1: Determining SSU start/end positions and best-matching models...\n",
      "#\n",
      "# output file name          description                                \n",
      "# ------------------------  -------------------------------------------\n",
      "  sso_aln.tab               locations/scores of hits defined by HMM(s)\n",
      "  sso_aln.bacteria.hitlist  list of sequences to align with bacteria CM\n",
      "  sso_aln.bacteria.fa             1 sequence  to align with bacteria CM\n",
      "#\n",
      "# Stage 2: Aligning each sequence to its best-matching model...\n",
      "#\n",
      "# output file name          description\n",
      "# ------------------------  ---------------------------------------\n",
      "  sso_aln.bacteria.stk      bacteria alignment\n",
      "  sso_aln.bacteria.cmalign  bacteria cmalign output\n",
      "  sso_aln.bacteria.ifile    bacteria insert info\n",
      "  sso_aln.scores            list of CM/HMM scores for each sequence\n",
      "#\n",
      "# Summary statistics:\n",
      "#\n",
      "# model or       number  fraction        average   average               \n",
      "# category      of seqs  of total         length  coverage    nucleotides\n",
      "# ------------  -------  --------  -------------  --------  -------------\n",
      "  *input*             1    1.0000        1436.00    1.0000           1436\n",
      "#\n",
      "  bacteria            1    1.0000        1305.00    0.9088           1305\n",
      "#\n",
      "  *all-models*        1    1.0000        1305.00    0.9088           1305\n",
      "  *no-models*         0    0.0000              -         -              0\n",
      "#\n",
      "# Speed statistics:\n",
      "#\n",
      "# stage      num seqs  seq/sec  seq/sec/model    nucleotides    nt/sec\n",
      "# ---------  --------  -------  -------------  -------------  --------\n",
      "  search            1    2.709          2.709           1436    3889.5\n",
      "  alignment         1    0.682          0.682           1305     890.1\n",
      "#\n",
      "#\n",
      "# List of executed commands saved in:     sso_aln.ssu-align.log.\n",
      "# Output printed to the screen saved in:  sso_aln.ssu-align.sum.\n",
      "#\n",
      "# All output files created in directory ./sso_aln/\n",
      "#\n",
      "# CPU time (search):     00:00:00.37  (hh:mm:ss)\n",
      "# CPU time (alignment):  00:00:01.47  (hh:mm:ss)\n",
      "# CPU time (total):      00:00:01.91  (hh:mm:ss)\n",
      "#\n"
     ]
    }
   ],
   "source": [
    "!cd $workDir; ssu-align -f -n bacteria --dna --rfonly X90478.fasta sso_aln"
   ]
  },
  {
   "cell_type": "code",
   "execution_count": 16,
   "metadata": {},
   "outputs": [
    {
     "name": "stdout",
     "output_type": "stream",
     "text": [
      "# _ssu-mask :: mask SSU rRNA alignments\n",
      "# SSU-ALIGN 0.1.1 (Feb 2016)\n",
      "# Copyright (C) 2016 Howard Hughes Medical Institute\n",
      "# Freely distributed under the BSD open source license.\n",
      "# - - - - - - - - - - - - - - - - - - - - - - - - - - - - - - - - - - - -\n",
      "# command: _ssu-mask -s ssu_aln/ssu_aln.bacteria.mask --afa --dna sso_aln/\n",
      "# date:    Mon Jun 10 17:07:09 2019\n",
      "#\n",
      "# Masking alignments using pre-existing masks...\n",
      "#\n",
      "#                                                     mask    \n",
      "#                                                 ------------\n",
      "# file name                  in/out  type  #cols  incl.  excl.\n",
      "# -------------------------  ------  ----  -----  -----  -----\n",
      "  sso_aln.bacteria.stk        input   aln   1582      -      -\n",
      "  ssu_aln.bacteria.mask       input  mask   1582    247   1335\n",
      "  sso_aln.bacteria.mask.pdf  output   pdf   1582    247   1335\n",
      "  sso_aln.bacteria.mask.afa  output   aln    247      -      -\n",
      "#\n",
      "# All attempts to draw structure diagrams of masks were successful.\n",
      "#\n",
      "# List of executed commands saved in:     sso_aln.ssu-mask.log.\n",
      "# Output printed to the screen saved in:  sso_aln.ssu-mask.sum.\n",
      "#\n",
      "# All output files created in directory ./sso_aln/\n",
      "#\n",
      "# CPU time:  00:00:00.54  (hh:mm:ss)\n",
      "# \n"
     ]
    }
   ],
   "source": [
    "!cd $workDir; ssu-mask -s ssu_aln/ssu_aln.bacteria.mask --dna --afa sso_aln/"
   ]
  },
  {
   "cell_type": "code",
   "execution_count": null,
   "metadata": {
    "collapsed": true
   },
   "outputs": [],
   "source": [
    "#!cd $workDir; /home/bryan/seq_tools/seq_tools fasta_unwrap sso_aln/sso_aln.bacteria.mask.afa | head"
   ]
  },
  {
   "cell_type": "code",
   "execution_count": 17,
   "metadata": {},
   "outputs": [],
   "source": [
    "!cd $workDir; cat sso_aln/sso_aln.bacteria.mask.afa ssu_aln/ssu_aln.bacteria.mask.afa > aln_for_tree.fasta"
   ]
  },
  {
   "cell_type": "code",
   "execution_count": 19,
   "metadata": {},
   "outputs": [
    {
     "name": "stdout",
     "output_type": "stream",
     "text": [
      "/bin/sh: 1: /home/bryan/seq_tools/seq_tools: not found\r\n"
     ]
    }
   ],
   "source": [
    "#!cd $workDir; /home/bryan/seq_tools/seq_tools fasta_unwrap aln_for_tree.fasta | head"
   ]
  },
  {
   "cell_type": "code",
   "execution_count": 18,
   "metadata": {},
   "outputs": [
    {
     "name": "stdout",
     "output_type": "stream",
     "text": [
      ">X90478\r\n",
      "TACCAGCCCCGCGAG---TGGTCGGGATTACTGGGCCTAAAGCGCCCGTAGCCGGCCCGA\r\n",
      "CAAGTCACTCCTTAAAGACCCCGGCTCAACCGGGGGAGGGTGATACTGTCGGGCTAGGGG\r\n",
      "GCGGGAGAGGCCAGCGGTACTCCCGGAGTAGGGGCGAAATCCTCAGATCTCGGGAGGACC\r\n",
      "ACCAGTGGCGAAAGCGGCTGGCTAGAACGCCCGACGGTGAGGGGCGAAAGCCGGGGCAGC\r\n",
      "AAAAGGG\r\n",
      ">ASV1\r\n",
      "TACGAAGGGGGCTAGCGTTGTTCGGATTTACTGGGCGTAAAGCGCACGTAGGCGGACTAT\r\n",
      "TAAGTCAGGGGTGAAATCCCGGGGCTCAACCCCGGAACTTTGATACTGGTAGTCTTGAGT\r\n",
      "TCGAGAGAGGTGAGTGGAATTCCGAGTGTAGAGGTGAAATTCGTAGATATTCGGAGGAAC\r\n"
     ]
    }
   ],
   "source": [
    "!cd $workDir; head aln_for_tree.fasta"
   ]
  },
  {
   "cell_type": "markdown",
   "metadata": {},
   "source": [
    "## Inferring and rooting the tree"
   ]
  },
  {
   "cell_type": "code",
   "execution_count": null,
   "metadata": {},
   "outputs": [],
   "source": [
    "aln = LoadSeqs(os.path.join(workDir, 'aln_for_tree.fasta'), moltype=DNA)\n",
    "t_unroot = build_tree_from_alignment(aln, moltype=DNA)"
   ]
  },
  {
   "cell_type": "markdown",
   "metadata": {},
   "source": [
    "* Using sulfalobus sso_acc = \"X90478\" as the outgroup led to an error downstream when calculating unifrac distances in Exp 10, instead I checked the tree with sulfalobus as root and identified ASV1721 as an outgroup.  Rooted the tree to ASV1721 instead and received no errors during the analysis, may need to repeat this if necessary"
   ]
  },
  {
   "cell_type": "code",
   "execution_count": null,
   "metadata": {},
   "outputs": [],
   "source": [
    "t_rooted = t_unroot.rootedWithTip('X90478')"
   ]
  },
  {
   "cell_type": "code",
   "execution_count": null,
   "metadata": {},
   "outputs": [],
   "source": [
    "t_rooted.writeToFile(os.path.join(workDir, 'Master.tree'))"
   ]
  },
  {
   "cell_type": "code",
   "execution_count": null,
   "metadata": {},
   "outputs": [],
   "source": [
    "t_unroot.writeToFile(os.path.join(workDir, 'Master_unrooted.tree'))"
   ]
  }
 ],
 "metadata": {
  "kernelspec": {
   "display_name": "Python 2",
   "language": "python",
   "name": "python2"
  },
  "language_info": {
   "codemirror_mode": {
    "name": "ipython",
    "version": 2
   },
   "file_extension": ".py",
   "mimetype": "text/x-python",
   "name": "python",
   "nbconvert_exporter": "python",
   "pygments_lexer": "ipython2",
   "version": "2.7.14"
  }
 },
 "nbformat": 4,
 "nbformat_minor": 2
}
