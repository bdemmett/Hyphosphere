{
 "cells": [
  {
   "cell_type": "markdown",
   "metadata": {},
   "source": [
    "# Differential abundance analysis"
   ]
  },
  {
   "cell_type": "code",
   "execution_count": 2,
   "metadata": {},
   "outputs": [],
   "source": [
    "figDir = '~/Hyphosphere/data/3Exp/figures'\n",
    "\n",
    "work_dir = '~/Hyphosphere/data/3Exp/DESeq'\n",
    "\n",
    "# phyloseq - full object without tree (includes archaea)\n",
    "physeq_file = '~/Hyphosphere/data/3Exp/phyloseq/3Exp_phyloseq_thresh_woTree_experimental_woContam.rds'"
   ]
  },
  {
   "cell_type": "code",
   "execution_count": 3,
   "metadata": {},
   "outputs": [
    {
     "name": "stderr",
     "output_type": "stream",
     "text": [
      "Warning message:\n",
      "“package ‘RColorBrewer’ was built under R version 3.6.1”Warning message:\n",
      "“package ‘vegan’ was built under R version 3.6.1”Loading required package: permute\n",
      "Warning message:\n",
      "“package ‘permute’ was built under R version 3.6.1”Loading required package: lattice\n",
      "Warning message:\n",
      "“package ‘lattice’ was built under R version 3.6.1”This is vegan 2.5-5\n",
      "Registered S3 method overwritten by 'dplyr':\n",
      "  method               from  \n",
      "  as.data.frame.tbl_df tibble\n",
      "\n",
      "Attaching package: ‘dplyr’\n",
      "\n",
      "The following objects are masked from ‘package:stats’:\n",
      "\n",
      "    filter, lag\n",
      "\n",
      "The following objects are masked from ‘package:base’:\n",
      "\n",
      "    intersect, setdiff, setequal, union\n",
      "\n",
      "Warning message:\n",
      "“package ‘reshape2’ was built under R version 3.6.1”\n",
      "Attaching package: ‘reshape2’\n",
      "\n",
      "The following object is masked from ‘package:tidyr’:\n",
      "\n",
      "    smiths\n",
      "\n",
      "Warning message:\n",
      "“package ‘phyloseq’ was built under R version 3.6.1”\n",
      "Attaching package: ‘gridExtra’\n",
      "\n",
      "The following object is masked from ‘package:dplyr’:\n",
      "\n",
      "    combine\n",
      "\n",
      "Warning message:\n",
      "“package ‘ggplot2’ was built under R version 3.6.1”Loading required package: S4Vectors\n",
      "Warning message:\n",
      "“package ‘S4Vectors’ was built under R version 3.6.1”Loading required package: stats4\n",
      "Loading required package: BiocGenerics\n",
      "Warning message:\n",
      "“package ‘BiocGenerics’ was built under R version 3.6.1”Loading required package: parallel\n",
      "\n",
      "Attaching package: ‘BiocGenerics’\n",
      "\n",
      "The following objects are masked from ‘package:parallel’:\n",
      "\n",
      "    clusterApply, clusterApplyLB, clusterCall, clusterEvalQ,\n",
      "    clusterExport, clusterMap, parApply, parCapply, parLapply,\n",
      "    parLapplyLB, parRapply, parSapply, parSapplyLB\n",
      "\n",
      "The following object is masked from ‘package:gridExtra’:\n",
      "\n",
      "    combine\n",
      "\n",
      "The following objects are masked from ‘package:dplyr’:\n",
      "\n",
      "    combine, intersect, setdiff, union\n",
      "\n",
      "The following objects are masked from ‘package:stats’:\n",
      "\n",
      "    IQR, mad, sd, var, xtabs\n",
      "\n",
      "The following objects are masked from ‘package:base’:\n",
      "\n",
      "    anyDuplicated, append, as.data.frame, basename, cbind, colnames,\n",
      "    dirname, do.call, duplicated, eval, evalq, Filter, Find, get, grep,\n",
      "    grepl, intersect, is.unsorted, lapply, Map, mapply, match, mget,\n",
      "    order, paste, pmax, pmax.int, pmin, pmin.int, Position, rank,\n",
      "    rbind, Reduce, rownames, sapply, setdiff, sort, table, tapply,\n",
      "    union, unique, unsplit, which, which.max, which.min\n",
      "\n",
      "\n",
      "Attaching package: ‘S4Vectors’\n",
      "\n",
      "The following objects are masked from ‘package:dplyr’:\n",
      "\n",
      "    first, rename\n",
      "\n",
      "The following object is masked from ‘package:tidyr’:\n",
      "\n",
      "    expand\n",
      "\n",
      "The following object is masked from ‘package:base’:\n",
      "\n",
      "    expand.grid\n",
      "\n",
      "Loading required package: IRanges\n",
      "Warning message:\n",
      "“package ‘IRanges’ was built under R version 3.6.1”\n",
      "Attaching package: ‘IRanges’\n",
      "\n",
      "The following object is masked from ‘package:phyloseq’:\n",
      "\n",
      "    distance\n",
      "\n",
      "The following objects are masked from ‘package:dplyr’:\n",
      "\n",
      "    collapse, desc, slice\n",
      "\n",
      "Loading required package: GenomicRanges\n",
      "Loading required package: GenomeInfoDb\n",
      "Loading required package: SummarizedExperiment\n",
      "Loading required package: Biobase\n",
      "Warning message:\n",
      "“package ‘Biobase’ was built under R version 3.6.1”Welcome to Bioconductor\n",
      "\n",
      "    Vignettes contain introductory material; view with\n",
      "    'browseVignettes()'. To cite Bioconductor, see\n",
      "    'citation(\"Biobase\")', and for packages 'citation(\"pkgname\")'.\n",
      "\n",
      "\n",
      "Attaching package: ‘Biobase’\n",
      "\n",
      "The following object is masked from ‘package:phyloseq’:\n",
      "\n",
      "    sampleNames\n",
      "\n",
      "Loading required package: DelayedArray\n",
      "Loading required package: matrixStats\n",
      "\n",
      "Attaching package: ‘matrixStats’\n",
      "\n",
      "The following objects are masked from ‘package:Biobase’:\n",
      "\n",
      "    anyMissing, rowMedians\n",
      "\n",
      "The following object is masked from ‘package:dplyr’:\n",
      "\n",
      "    count\n",
      "\n",
      "Loading required package: BiocParallel\n",
      "Warning message:\n",
      "“multiple methods tables found for ‘lengths’”Warning message:\n",
      "“multiple methods tables found for ‘rowSums’”Warning message:\n",
      "“multiple methods tables found for ‘colSums’”Warning message:\n",
      "“multiple methods tables found for ‘rowMeans’”Warning message:\n",
      "“multiple methods tables found for ‘colMeans’”\n",
      "Attaching package: ‘DelayedArray’\n",
      "\n",
      "The following objects are masked from ‘package:matrixStats’:\n",
      "\n",
      "    colMaxs, colMins, colRanges, rowMaxs, rowMins, rowRanges\n",
      "\n",
      "The following objects are masked from ‘package:base’:\n",
      "\n",
      "    aperm, apply\n",
      "\n",
      "Warning message:\n",
      "“multiple methods tables found for ‘toTable’”"
     ]
    }
   ],
   "source": [
    "library(RColorBrewer)\n",
    "library(vegan)\n",
    "library(tidyr)\n",
    "library(dplyr)\n",
    "library(reshape2)\n",
    "library(phyloseq)\n",
    "library(gridExtra)\n",
    "library(ggplot2)\n",
    "library(DESeq2)"
   ]
  },
  {
   "cell_type": "code",
   "execution_count": 4,
   "metadata": {},
   "outputs": [],
   "source": [
    "theme_pub = function (base_size = 11, base_family = \"Arial\") \n",
    "{\n",
    "    theme_grey(base_size = base_size, base_family = base_family) %+replace% \n",
    "        theme(\n",
    "            axis.line.x = element_line(size = .5),\n",
    "            axis.line.y = element_line(size = .5),\n",
    "            panel.background = element_rect(fill = \"white\", colour = NA), \n",
    "            panel.border = element_rect(fill = NA, color = \"black\", size = .5), \n",
    "            panel.grid.major = element_blank(), \n",
    "            panel.grid.minor = element_blank(), \n",
    "            strip.background = element_rect(fill = \"grey85\", \n",
    "                colour = \"grey20\"), \n",
    "            legend.key = element_rect(fill = \"white\", \n",
    "                colour = NA), complete = TRUE)\n",
    "    }"
   ]
  },
  {
   "cell_type": "code",
   "execution_count": 5,
   "metadata": {},
   "outputs": [
    {
     "data": {
      "text/plain": [
       "phyloseq-class experiment-level object\n",
       "otu_table()   OTU Table:         [ 18876 taxa and 384 samples ]\n",
       "sample_data() Sample Data:       [ 384 samples by 11 sample variables ]\n",
       "tax_table()   Taxonomy Table:    [ 18876 taxa by 6 taxonomic ranks ]"
      ]
     },
     "metadata": {},
     "output_type": "display_data"
    }
   ],
   "source": [
    "ps = readRDS(physeq_file) %>% subset_taxa(., !is.na(Phylum)) %>%\n",
    "    # remove non-experimental controls\n",
    "    \n",
    "    subset_samples(., SampleType != \"GV\") \n",
    "    # T0R1 has all NaN for some reason\n",
    "    #subset_samples(!Sample == \"T0R1\") #%>%\n",
    "     # re-normalize after subsetting taxa\n",
    "    #transform_sample_counts(., function(x) x/sum(x))\n",
    "sample_data(ps)$Rep = as.factor(sample_data(ps)$Rep)\n",
    "\n",
    "ps\n",
    "\n",
    "\n",
    "                                  \n"
   ]
  },
  {
   "cell_type": "code",
   "execution_count": 6,
   "metadata": {},
   "outputs": [
    {
     "name": "stderr",
     "output_type": "stream",
     "text": [
      "Warning message:\n",
      "“The `printer` argument is deprecated as of rlang 0.3.0.\n",
      "This warning is displayed once per session.”"
     ]
    },
    {
     "data": {
      "text/html": [
       "<table>\n",
       "<thead><tr><th scope=col>Kingdom</th><th scope=col>Phylum</th><th scope=col>Class</th><th scope=col>Order</th><th scope=col>Family</th><th scope=col>Genus</th><th scope=col>ASV</th></tr></thead>\n",
       "<tbody>\n",
       "\t<tr><td>Bacteria             </td><td>Actinobacteria       </td><td>Actinobacteria       </td><td>Micrococcales        </td><td>Micrococcaceae       </td><td>Pseudarthrobacter    </td><td>ASV5                 </td></tr>\n",
       "\t<tr><td>Bacteria             </td><td>Proteobacteria       </td><td>Gammaproteobacteria  </td><td>Cellvibrionales      </td><td>Cellvibrionaceae     </td><td>Cellvibrio           </td><td>ASV6                 </td></tr>\n",
       "\t<tr><td>Bacteria             </td><td>Proteobacteria       </td><td>Alphaproteobacteria  </td><td>Caulobacterales      </td><td>Caulobacteraceae     </td><td>Asticcacaulis        </td><td>ASV8                 </td></tr>\n",
       "\t<tr><td>Bacteria             </td><td>Proteobacteria       </td><td>Gammaproteobacteria  </td><td>Xanthomonadales      </td><td>Xanthomonadaceae     </td><td>Luteimonas           </td><td>ASV13                </td></tr>\n",
       "\t<tr><td>Bacteria             </td><td>Proteobacteria       </td><td>Deltaproteobacteria  </td><td>Myxococcales         </td><td>Sandaracinaceae      </td><td>NA                   </td><td>ASV14                </td></tr>\n",
       "\t<tr><td>Bacteria             </td><td>Proteobacteria       </td><td>Gammaproteobacteria  </td><td>Betaproteobacteriales</td><td>Burkholderiaceae     </td><td>NA                   </td><td>ASV15                </td></tr>\n",
       "</tbody>\n",
       "</table>\n"
      ],
      "text/latex": [
       "\\begin{tabular}{r|lllllll}\n",
       " Kingdom & Phylum & Class & Order & Family & Genus & ASV\\\\\n",
       "\\hline\n",
       "\t Bacteria              & Actinobacteria        & Actinobacteria        & Micrococcales         & Micrococcaceae        & Pseudarthrobacter     & ASV5                 \\\\\n",
       "\t Bacteria              & Proteobacteria        & Gammaproteobacteria   & Cellvibrionales       & Cellvibrionaceae      & Cellvibrio            & ASV6                 \\\\\n",
       "\t Bacteria              & Proteobacteria        & Alphaproteobacteria   & Caulobacterales       & Caulobacteraceae      & Asticcacaulis         & ASV8                 \\\\\n",
       "\t Bacteria              & Proteobacteria        & Gammaproteobacteria   & Xanthomonadales       & Xanthomonadaceae      & Luteimonas            & ASV13                \\\\\n",
       "\t Bacteria              & Proteobacteria        & Deltaproteobacteria   & Myxococcales          & Sandaracinaceae       & NA                    & ASV14                \\\\\n",
       "\t Bacteria              & Proteobacteria        & Gammaproteobacteria   & Betaproteobacteriales & Burkholderiaceae      & NA                    & ASV15                \\\\\n",
       "\\end{tabular}\n"
      ],
      "text/markdown": [
       "\n",
       "Kingdom | Phylum | Class | Order | Family | Genus | ASV | \n",
       "|---|---|---|---|---|---|\n",
       "| Bacteria              | Actinobacteria        | Actinobacteria        | Micrococcales         | Micrococcaceae        | Pseudarthrobacter     | ASV5                  | \n",
       "| Bacteria              | Proteobacteria        | Gammaproteobacteria   | Cellvibrionales       | Cellvibrionaceae      | Cellvibrio            | ASV6                  | \n",
       "| Bacteria              | Proteobacteria        | Alphaproteobacteria   | Caulobacterales       | Caulobacteraceae      | Asticcacaulis         | ASV8                  | \n",
       "| Bacteria              | Proteobacteria        | Gammaproteobacteria   | Xanthomonadales       | Xanthomonadaceae      | Luteimonas            | ASV13                 | \n",
       "| Bacteria              | Proteobacteria        | Deltaproteobacteria   | Myxococcales          | Sandaracinaceae       | NA                    | ASV14                 | \n",
       "| Bacteria              | Proteobacteria        | Gammaproteobacteria   | Betaproteobacteriales | Burkholderiaceae      | NA                    | ASV15                 | \n",
       "\n",
       "\n"
      ],
      "text/plain": [
       "  Kingdom  Phylum         Class               Order                \n",
       "1 Bacteria Actinobacteria Actinobacteria      Micrococcales        \n",
       "2 Bacteria Proteobacteria Gammaproteobacteria Cellvibrionales      \n",
       "3 Bacteria Proteobacteria Alphaproteobacteria Caulobacterales      \n",
       "4 Bacteria Proteobacteria Gammaproteobacteria Xanthomonadales      \n",
       "5 Bacteria Proteobacteria Deltaproteobacteria Myxococcales         \n",
       "6 Bacteria Proteobacteria Gammaproteobacteria Betaproteobacteriales\n",
       "  Family           Genus             ASV  \n",
       "1 Micrococcaceae   Pseudarthrobacter ASV5 \n",
       "2 Cellvibrionaceae Cellvibrio        ASV6 \n",
       "3 Caulobacteraceae Asticcacaulis     ASV8 \n",
       "4 Xanthomonadaceae Luteimonas        ASV13\n",
       "5 Sandaracinaceae  NA                ASV14\n",
       "6 Burkholderiaceae NA                ASV15"
      ]
     },
     "metadata": {},
     "output_type": "display_data"
    }
   ],
   "source": [
    "taxa = tax_table(ps) %>% as.data.frame() %>% mutate(ASV = row.names(.))\n",
    "head(taxa)"
   ]
  },
  {
   "cell_type": "code",
   "execution_count": 7,
   "metadata": {},
   "outputs": [
    {
     "data": {
      "text/html": [
       "<table>\n",
       "<thead><tr><th></th><th scope=col>Soil</th></tr></thead>\n",
       "<tbody>\n",
       "\t<tr><th scope=row>1.1BP</th><td>Lansing  </td></tr>\n",
       "\t<tr><th scope=row>GVCLHN1-BH</th><td>Pendelton</td></tr>\n",
       "\t<tr><th scope=row>GVFLHN1-BH</th><td>Florence </td></tr>\n",
       "\t<tr><th scope=row>HCBS1</th><td>Sand     </td></tr>\n",
       "</tbody>\n",
       "</table>\n"
      ],
      "text/latex": [
       "\\begin{tabular}{r|l}\n",
       "  & Soil\\\\\n",
       "\\hline\n",
       "\t1.1BP & Lansing  \\\\\n",
       "\tGVCLHN1-BH & Pendelton\\\\\n",
       "\tGVFLHN1-BH & Florence \\\\\n",
       "\tHCBS1 & Sand     \\\\\n",
       "\\end{tabular}\n"
      ],
      "text/markdown": [
       "\n",
       "| <!--/--> | Soil | \n",
       "|---|---|---|---|\n",
       "| 1.1BP | Lansing   | \n",
       "| GVCLHN1-BH | Pendelton | \n",
       "| GVFLHN1-BH | Florence  | \n",
       "| HCBS1 | Sand      | \n",
       "\n",
       "\n"
      ],
      "text/plain": [
       "           Soil     \n",
       "1.1BP      Lansing  \n",
       "GVCLHN1-BH Pendelton\n",
       "GVFLHN1-BH Florence \n",
       "HCBS1      Sand     "
      ]
     },
     "metadata": {},
     "output_type": "display_data"
    }
   ],
   "source": [
    "sample_data(ps)[,'Soil'] %>% unique()"
   ]
  },
  {
   "cell_type": "code",
   "execution_count": 8,
   "metadata": {
    "scrolled": false
   },
   "outputs": [
    {
     "data": {
      "text/html": [
       "<table>\n",
       "<thead><tr><th></th><th scope=col>Sample</th><th scope=col>Experiment</th><th scope=col>Plant</th><th scope=col>Fungus</th><th scope=col>Soil</th><th scope=col>SampleType</th><th scope=col>Treatment</th><th scope=col>TimePoint</th><th scope=col>DAI</th><th scope=col>Rep</th><th scope=col>Concentration_ng.ul</th><th scope=col>SoilxFungus</th></tr></thead>\n",
       "<tbody>\n",
       "\t<tr><th scope=row>1.1BP</th><td>1.1BP     </td><td>3         </td><td>1.1       </td><td>Gv        </td><td>Lansing   </td><td>BP        </td><td>HN        </td><td>1         </td><td>14        </td><td>1         </td><td>1.067     </td><td>Lansing-Gv</td></tr>\n",
       "\t<tr><th scope=row>1.1BS</th><td>1.1BS     </td><td>3         </td><td>1.1       </td><td>Gv        </td><td>Lansing   </td><td>BS        </td><td>HN        </td><td>1         </td><td>14        </td><td>1         </td><td>4.421     </td><td>Lansing-Gv</td></tr>\n",
       "\t<tr><th scope=row>1.1CH</th><td>1.1CH     </td><td>3         </td><td>1.1       </td><td>Gv        </td><td>Lansing   </td><td>CH        </td><td>HN        </td><td>1         </td><td>14        </td><td>1         </td><td>0.325     </td><td>Lansing-Gv</td></tr>\n",
       "\t<tr><th scope=row>1.1CS</th><td>1.1CS     </td><td>3         </td><td>1.1       </td><td>Gv        </td><td>Lansing   </td><td>CS        </td><td>HN        </td><td>1         </td><td>14        </td><td>1         </td><td>2.116     </td><td>Lansing-Gv</td></tr>\n",
       "\t<tr><th scope=row>1.1RH</th><td>1.1RH     </td><td>3         </td><td>1.1       </td><td>Gv        </td><td>Lansing   </td><td>RH        </td><td>HN        </td><td>1         </td><td>14        </td><td>1         </td><td>0.174     </td><td>Lansing-Gv</td></tr>\n",
       "\t<tr><th scope=row>1.1RT</th><td>1.1RT     </td><td>3         </td><td>1.1       </td><td>Gv        </td><td>Lansing   </td><td>RT        </td><td>HN        </td><td>1         </td><td>14        </td><td>1         </td><td>1.561     </td><td>Lansing-Gv</td></tr>\n",
       "</tbody>\n",
       "</table>\n"
      ],
      "text/latex": [
       "\\begin{tabular}{r|llllllllllll}\n",
       "  & Sample & Experiment & Plant & Fungus & Soil & SampleType & Treatment & TimePoint & DAI & Rep & Concentration\\_ng.ul & SoilxFungus\\\\\n",
       "\\hline\n",
       "\t1.1BP & 1.1BP      & 3          & 1.1        & Gv         & Lansing    & BP         & HN         & 1          & 14         & 1          & 1.067      & Lansing-Gv\\\\\n",
       "\t1.1BS & 1.1BS      & 3          & 1.1        & Gv         & Lansing    & BS         & HN         & 1          & 14         & 1          & 4.421      & Lansing-Gv\\\\\n",
       "\t1.1CH & 1.1CH      & 3          & 1.1        & Gv         & Lansing    & CH         & HN         & 1          & 14         & 1          & 0.325      & Lansing-Gv\\\\\n",
       "\t1.1CS & 1.1CS      & 3          & 1.1        & Gv         & Lansing    & CS         & HN         & 1          & 14         & 1          & 2.116      & Lansing-Gv\\\\\n",
       "\t1.1RH & 1.1RH      & 3          & 1.1        & Gv         & Lansing    & RH         & HN         & 1          & 14         & 1          & 0.174      & Lansing-Gv\\\\\n",
       "\t1.1RT & 1.1RT      & 3          & 1.1        & Gv         & Lansing    & RT         & HN         & 1          & 14         & 1          & 1.561      & Lansing-Gv\\\\\n",
       "\\end{tabular}\n"
      ],
      "text/markdown": [
       "\n",
       "| <!--/--> | Sample | Experiment | Plant | Fungus | Soil | SampleType | Treatment | TimePoint | DAI | Rep | Concentration_ng.ul | SoilxFungus | \n",
       "|---|---|---|---|---|---|\n",
       "| 1.1BP | 1.1BP      | 3          | 1.1        | Gv         | Lansing    | BP         | HN         | 1          | 14         | 1          | 1.067      | Lansing-Gv | \n",
       "| 1.1BS | 1.1BS      | 3          | 1.1        | Gv         | Lansing    | BS         | HN         | 1          | 14         | 1          | 4.421      | Lansing-Gv | \n",
       "| 1.1CH | 1.1CH      | 3          | 1.1        | Gv         | Lansing    | CH         | HN         | 1          | 14         | 1          | 0.325      | Lansing-Gv | \n",
       "| 1.1CS | 1.1CS      | 3          | 1.1        | Gv         | Lansing    | CS         | HN         | 1          | 14         | 1          | 2.116      | Lansing-Gv | \n",
       "| 1.1RH | 1.1RH      | 3          | 1.1        | Gv         | Lansing    | RH         | HN         | 1          | 14         | 1          | 0.174      | Lansing-Gv | \n",
       "| 1.1RT | 1.1RT      | 3          | 1.1        | Gv         | Lansing    | RT         | HN         | 1          | 14         | 1          | 1.561      | Lansing-Gv | \n",
       "\n",
       "\n"
      ],
      "text/plain": [
       "      Sample Experiment Plant Fungus Soil    SampleType Treatment TimePoint DAI\n",
       "1.1BP 1.1BP  3          1.1   Gv     Lansing BP         HN        1         14 \n",
       "1.1BS 1.1BS  3          1.1   Gv     Lansing BS         HN        1         14 \n",
       "1.1CH 1.1CH  3          1.1   Gv     Lansing CH         HN        1         14 \n",
       "1.1CS 1.1CS  3          1.1   Gv     Lansing CS         HN        1         14 \n",
       "1.1RH 1.1RH  3          1.1   Gv     Lansing RH         HN        1         14 \n",
       "1.1RT 1.1RT  3          1.1   Gv     Lansing RT         HN        1         14 \n",
       "      Rep Concentration_ng.ul SoilxFungus\n",
       "1.1BP 1   1.067               Lansing-Gv \n",
       "1.1BS 1   4.421               Lansing-Gv \n",
       "1.1CH 1   0.325               Lansing-Gv \n",
       "1.1CS 1   2.116               Lansing-Gv \n",
       "1.1RH 1   0.174               Lansing-Gv \n",
       "1.1RT 1   1.561               Lansing-Gv "
      ]
     },
     "metadata": {},
     "output_type": "display_data"
    }
   ],
   "source": [
    "sample_data(ps)$SoilxFungus = paste(sample_data(ps)$Soil,\"-\",sample_data(ps)$Fungus, sep = \"\")\n",
    "sample_data(ps) %>% head()\n"
   ]
  },
  {
   "cell_type": "markdown",
   "metadata": {},
   "source": [
    "# Experiment 2"
   ]
  },
  {
   "cell_type": "code",
   "execution_count": 9,
   "metadata": {},
   "outputs": [],
   "source": [
    "tmp = ps %>% subset_samples(Experiment == 2)"
   ]
  },
  {
   "cell_type": "markdown",
   "metadata": {},
   "source": [
    "## Loop script for sample type contrasts in experiment 2\n",
    "* Fertilizer treatments grouped together"
   ]
  },
  {
   "cell_type": "code",
   "execution_count": 10,
   "metadata": {},
   "outputs": [
    {
     "data": {
      "text/html": [
       "<ol class=list-inline>\n",
       "\t<li>'BH'</li>\n",
       "\t<li>'BP'</li>\n",
       "\t<li>'BS'</li>\n",
       "\t<li>'CH'</li>\n",
       "\t<li>'CS'</li>\n",
       "\t<li>'RH'</li>\n",
       "\t<li>'RS'</li>\n",
       "</ol>\n"
      ],
      "text/latex": [
       "\\begin{enumerate*}\n",
       "\\item 'BH'\n",
       "\\item 'BP'\n",
       "\\item 'BS'\n",
       "\\item 'CH'\n",
       "\\item 'CS'\n",
       "\\item 'RH'\n",
       "\\item 'RS'\n",
       "\\end{enumerate*}\n"
      ],
      "text/markdown": [
       "1. 'BH'\n",
       "2. 'BP'\n",
       "3. 'BS'\n",
       "4. 'CH'\n",
       "5. 'CS'\n",
       "6. 'RH'\n",
       "7. 'RS'\n",
       "\n",
       "\n"
      ],
      "text/plain": [
       "[1] \"BH\" \"BP\" \"BS\" \"CH\" \"CS\" \"RH\" \"RS\""
      ]
     },
     "metadata": {},
     "output_type": "display_data"
    }
   ],
   "source": [
    "sample_data(tmp)$SampleType %>% unique"
   ]
  },
  {
   "cell_type": "code",
   "execution_count": 169,
   "metadata": {},
   "outputs": [],
   "source": [
    "library(\"BiocParallel\")\n",
    "register(MulticoreParam(20))"
   ]
  },
  {
   "cell_type": "code",
   "execution_count": 12,
   "metadata": {},
   "outputs": [
    {
     "data": {
      "text/html": [
       "27"
      ],
      "text/latex": [
       "27"
      ],
      "text/markdown": [
       "27"
      ],
      "text/plain": [
       "[1] 27"
      ]
     },
     "metadata": {},
     "output_type": "display_data"
    }
   ],
   "source": [
    "sample_data(tmp)$DAI %>% unique()"
   ]
  },
  {
   "cell_type": "code",
   "execution_count": 13,
   "metadata": {},
   "outputs": [
    {
     "name": "stderr",
     "output_type": "stream",
     "text": [
      "Warning message in class(x) <- c(subclass, tibble_class):\n",
      "“Setting class(x) to multiple strings (\"tbl_df\", \"tbl\", ...); result will no longer be an S4 object”"
     ]
    },
    {
     "data": {
      "text/html": [
       "<ol class=list-inline>\n",
       "\t<li>'BH'</li>\n",
       "\t<li>'BS'</li>\n",
       "\t<li>'CH'</li>\n",
       "\t<li>'CS'</li>\n",
       "\t<li>'RH'</li>\n",
       "\t<li>'RS'</li>\n",
       "</ol>\n"
      ],
      "text/latex": [
       "\\begin{enumerate*}\n",
       "\\item 'BH'\n",
       "\\item 'BS'\n",
       "\\item 'CH'\n",
       "\\item 'CS'\n",
       "\\item 'RH'\n",
       "\\item 'RS'\n",
       "\\end{enumerate*}\n"
      ],
      "text/markdown": [
       "1. 'BH'\n",
       "2. 'BS'\n",
       "3. 'CH'\n",
       "4. 'CS'\n",
       "5. 'RH'\n",
       "6. 'RS'\n",
       "\n",
       "\n"
      ],
      "text/plain": [
       "[1] \"BH\" \"BS\" \"CH\" \"CS\" \"RH\" \"RS\""
      ]
     },
     "metadata": {},
     "output_type": "display_data"
    }
   ],
   "source": [
    "sample_data(tmp) %>% as.data.frame() %>% filter(., Fungus == \"RI\") %>% .$SampleType  %>% unique()"
   ]
  },
  {
   "cell_type": "code",
   "execution_count": 14,
   "metadata": {
    "scrolled": true
   },
   "outputs": [
    {
     "name": "stdout",
     "output_type": "stream",
     "text": [
      "[1] \"Lansing-Gv\"\n",
      "[1] \"CH_CS\"\n"
     ]
    },
    {
     "name": "stderr",
     "output_type": "stream",
     "text": [
      "converting counts to integer mode\n",
      "Warning message in DESeqDataSet(se, design = design, ignoreRank):\n",
      "“some variables in design formula are characters, converting to factors”estimating size factors\n",
      "estimating dispersions\n",
      "gene-wise dispersion estimates\n",
      "mean-dispersion relationship\n",
      "final dispersion estimates\n",
      "fitting model and testing\n"
     ]
    },
    {
     "name": "stdout",
     "output_type": "stream",
     "text": [
      "[1] \"CH_BS\"\n"
     ]
    },
    {
     "name": "stderr",
     "output_type": "stream",
     "text": [
      "converting counts to integer mode\n",
      "Warning message in DESeqDataSet(se, design = design, ignoreRank):\n",
      "“some variables in design formula are characters, converting to factors”estimating size factors\n",
      "estimating dispersions\n",
      "gene-wise dispersion estimates\n",
      "mean-dispersion relationship\n",
      "final dispersion estimates\n",
      "fitting model and testing\n"
     ]
    },
    {
     "name": "stdout",
     "output_type": "stream",
     "text": [
      "[1] \"CH_BP\"\n"
     ]
    },
    {
     "name": "stderr",
     "output_type": "stream",
     "text": [
      "converting counts to integer mode\n",
      "Warning message in DESeqDataSet(se, design = design, ignoreRank):\n",
      "“some variables in design formula are characters, converting to factors”estimating size factors\n",
      "estimating dispersions\n",
      "gene-wise dispersion estimates\n",
      "mean-dispersion relationship\n",
      "final dispersion estimates\n",
      "fitting model and testing\n"
     ]
    },
    {
     "name": "stdout",
     "output_type": "stream",
     "text": [
      "[1] \"RH_RS\"\n"
     ]
    },
    {
     "name": "stderr",
     "output_type": "stream",
     "text": [
      "converting counts to integer mode\n",
      "Warning message in DESeqDataSet(se, design = design, ignoreRank):\n",
      "“some variables in design formula are characters, converting to factors”estimating size factors\n",
      "estimating dispersions\n",
      "gene-wise dispersion estimates\n",
      "mean-dispersion relationship\n",
      "final dispersion estimates\n",
      "fitting model and testing\n"
     ]
    },
    {
     "name": "stdout",
     "output_type": "stream",
     "text": [
      "[1] \"BH_BS\"\n"
     ]
    },
    {
     "name": "stderr",
     "output_type": "stream",
     "text": [
      "converting counts to integer mode\n",
      "Warning message in DESeqDataSet(se, design = design, ignoreRank):\n",
      "“some variables in design formula are characters, converting to factors”estimating size factors\n",
      "estimating dispersions\n",
      "gene-wise dispersion estimates\n",
      "mean-dispersion relationship\n",
      "final dispersion estimates\n",
      "fitting model and testing\n"
     ]
    },
    {
     "name": "stdout",
     "output_type": "stream",
     "text": [
      "[1] \"BP_CS\"\n"
     ]
    },
    {
     "name": "stderr",
     "output_type": "stream",
     "text": [
      "converting counts to integer mode\n",
      "Warning message in DESeqDataSet(se, design = design, ignoreRank):\n",
      "“some variables in design formula are characters, converting to factors”estimating size factors\n",
      "estimating dispersions\n",
      "gene-wise dispersion estimates\n",
      "mean-dispersion relationship\n",
      "final dispersion estimates\n",
      "fitting model and testing\n"
     ]
    },
    {
     "name": "stdout",
     "output_type": "stream",
     "text": [
      "[1] \"BP_BS\"\n"
     ]
    },
    {
     "name": "stderr",
     "output_type": "stream",
     "text": [
      "converting counts to integer mode\n",
      "Warning message in DESeqDataSet(se, design = design, ignoreRank):\n",
      "“some variables in design formula are characters, converting to factors”estimating size factors\n",
      "estimating dispersions\n",
      "gene-wise dispersion estimates\n",
      "mean-dispersion relationship\n",
      "final dispersion estimates\n",
      "fitting model and testing\n"
     ]
    },
    {
     "name": "stdout",
     "output_type": "stream",
     "text": [
      "[1] \"Florence-Gv\"\n",
      "[1] \"CH_CS\"\n"
     ]
    },
    {
     "name": "stderr",
     "output_type": "stream",
     "text": [
      "converting counts to integer mode\n",
      "Warning message in DESeqDataSet(se, design = design, ignoreRank):\n",
      "“some variables in design formula are characters, converting to factors”estimating size factors\n",
      "estimating dispersions\n",
      "gene-wise dispersion estimates\n",
      "mean-dispersion relationship\n",
      "final dispersion estimates\n",
      "fitting model and testing\n"
     ]
    },
    {
     "name": "stdout",
     "output_type": "stream",
     "text": [
      "[1] \"CH_BS\"\n"
     ]
    },
    {
     "name": "stderr",
     "output_type": "stream",
     "text": [
      "converting counts to integer mode\n",
      "Warning message in DESeqDataSet(se, design = design, ignoreRank):\n",
      "“some variables in design formula are characters, converting to factors”estimating size factors\n",
      "estimating dispersions\n",
      "gene-wise dispersion estimates\n",
      "mean-dispersion relationship\n",
      "final dispersion estimates\n",
      "fitting model and testing\n"
     ]
    },
    {
     "name": "stdout",
     "output_type": "stream",
     "text": [
      "[1] \"CH_BP\"\n"
     ]
    },
    {
     "name": "stderr",
     "output_type": "stream",
     "text": [
      "converting counts to integer mode\n",
      "Warning message in DESeqDataSet(se, design = design, ignoreRank):\n",
      "“some variables in design formula are characters, converting to factors”estimating size factors\n",
      "estimating dispersions\n",
      "gene-wise dispersion estimates\n",
      "mean-dispersion relationship\n",
      "final dispersion estimates\n",
      "fitting model and testing\n"
     ]
    },
    {
     "name": "stdout",
     "output_type": "stream",
     "text": [
      "[1] \"RH_RS\"\n"
     ]
    },
    {
     "name": "stderr",
     "output_type": "stream",
     "text": [
      "converting counts to integer mode\n",
      "Warning message in DESeqDataSet(se, design = design, ignoreRank):\n",
      "“some variables in design formula are characters, converting to factors”estimating size factors\n",
      "estimating dispersions\n",
      "gene-wise dispersion estimates\n",
      "mean-dispersion relationship\n",
      "final dispersion estimates\n",
      "fitting model and testing\n"
     ]
    },
    {
     "name": "stdout",
     "output_type": "stream",
     "text": [
      "[1] \"BH_BS\"\n"
     ]
    },
    {
     "name": "stderr",
     "output_type": "stream",
     "text": [
      "converting counts to integer mode\n",
      "Warning message in DESeqDataSet(se, design = design, ignoreRank):\n",
      "“some variables in design formula are characters, converting to factors”estimating size factors\n",
      "estimating dispersions\n",
      "gene-wise dispersion estimates\n",
      "mean-dispersion relationship\n",
      "final dispersion estimates\n",
      "fitting model and testing\n"
     ]
    },
    {
     "name": "stdout",
     "output_type": "stream",
     "text": [
      "[1] \"BP_CS\"\n"
     ]
    },
    {
     "name": "stderr",
     "output_type": "stream",
     "text": [
      "converting counts to integer mode\n",
      "Warning message in DESeqDataSet(se, design = design, ignoreRank):\n",
      "“some variables in design formula are characters, converting to factors”estimating size factors\n",
      "estimating dispersions\n",
      "gene-wise dispersion estimates\n",
      "mean-dispersion relationship\n",
      "final dispersion estimates\n",
      "fitting model and testing\n"
     ]
    },
    {
     "name": "stdout",
     "output_type": "stream",
     "text": [
      "[1] \"BP_BS\"\n"
     ]
    },
    {
     "name": "stderr",
     "output_type": "stream",
     "text": [
      "converting counts to integer mode\n",
      "Warning message in DESeqDataSet(se, design = design, ignoreRank):\n",
      "“some variables in design formula are characters, converting to factors”estimating size factors\n",
      "estimating dispersions\n",
      "gene-wise dispersion estimates\n",
      "mean-dispersion relationship\n",
      "final dispersion estimates\n",
      "fitting model and testing\n"
     ]
    },
    {
     "name": "stdout",
     "output_type": "stream",
     "text": [
      "[1] \"Pendelton-Gv\"\n",
      "[1] \"CH_CS\"\n"
     ]
    },
    {
     "name": "stderr",
     "output_type": "stream",
     "text": [
      "converting counts to integer mode\n",
      "Warning message in DESeqDataSet(se, design = design, ignoreRank):\n",
      "“some variables in design formula are characters, converting to factors”estimating size factors\n",
      "estimating dispersions\n",
      "gene-wise dispersion estimates\n",
      "mean-dispersion relationship\n",
      "final dispersion estimates\n",
      "fitting model and testing\n"
     ]
    },
    {
     "name": "stdout",
     "output_type": "stream",
     "text": [
      "[1] \"CH_BS\"\n"
     ]
    },
    {
     "name": "stderr",
     "output_type": "stream",
     "text": [
      "converting counts to integer mode\n",
      "Warning message in DESeqDataSet(se, design = design, ignoreRank):\n",
      "“some variables in design formula are characters, converting to factors”estimating size factors\n",
      "estimating dispersions\n",
      "gene-wise dispersion estimates\n",
      "mean-dispersion relationship\n",
      "final dispersion estimates\n",
      "fitting model and testing\n"
     ]
    },
    {
     "name": "stdout",
     "output_type": "stream",
     "text": [
      "[1] \"CH_BP\"\n"
     ]
    },
    {
     "name": "stderr",
     "output_type": "stream",
     "text": [
      "converting counts to integer mode\n",
      "Warning message in DESeqDataSet(se, design = design, ignoreRank):\n",
      "“some variables in design formula are characters, converting to factors”estimating size factors\n",
      "estimating dispersions\n",
      "gene-wise dispersion estimates\n",
      "mean-dispersion relationship\n",
      "final dispersion estimates\n",
      "fitting model and testing\n"
     ]
    },
    {
     "name": "stdout",
     "output_type": "stream",
     "text": [
      "[1] \"RH_RS\"\n"
     ]
    },
    {
     "name": "stderr",
     "output_type": "stream",
     "text": [
      "converting counts to integer mode\n",
      "Warning message in DESeqDataSet(se, design = design, ignoreRank):\n",
      "“some variables in design formula are characters, converting to factors”estimating size factors\n",
      "estimating dispersions\n",
      "gene-wise dispersion estimates\n",
      "mean-dispersion relationship\n",
      "final dispersion estimates\n",
      "fitting model and testing\n"
     ]
    },
    {
     "name": "stdout",
     "output_type": "stream",
     "text": [
      "[1] \"BH_BS\"\n"
     ]
    },
    {
     "name": "stderr",
     "output_type": "stream",
     "text": [
      "converting counts to integer mode\n",
      "Warning message in DESeqDataSet(se, design = design, ignoreRank):\n",
      "“some variables in design formula are characters, converting to factors”estimating size factors\n",
      "estimating dispersions\n",
      "gene-wise dispersion estimates\n",
      "mean-dispersion relationship\n",
      "final dispersion estimates\n",
      "fitting model and testing\n"
     ]
    },
    {
     "name": "stdout",
     "output_type": "stream",
     "text": [
      "[1] \"BP_CS\"\n"
     ]
    },
    {
     "name": "stderr",
     "output_type": "stream",
     "text": [
      "converting counts to integer mode\n",
      "Warning message in DESeqDataSet(se, design = design, ignoreRank):\n",
      "“some variables in design formula are characters, converting to factors”estimating size factors\n",
      "estimating dispersions\n",
      "gene-wise dispersion estimates\n",
      "mean-dispersion relationship\n",
      "final dispersion estimates\n",
      "fitting model and testing\n"
     ]
    },
    {
     "name": "stdout",
     "output_type": "stream",
     "text": [
      "[1] \"BP_BS\"\n"
     ]
    },
    {
     "name": "stderr",
     "output_type": "stream",
     "text": [
      "converting counts to integer mode\n",
      "Warning message in DESeqDataSet(se, design = design, ignoreRank):\n",
      "“some variables in design formula are characters, converting to factors”estimating size factors\n",
      "estimating dispersions\n",
      "gene-wise dispersion estimates\n",
      "mean-dispersion relationship\n",
      "final dispersion estimates\n",
      "fitting model and testing\n"
     ]
    },
    {
     "name": "stdout",
     "output_type": "stream",
     "text": [
      "[1] \"CH_CS\"\n"
     ]
    },
    {
     "name": "stderr",
     "output_type": "stream",
     "text": [
      "converting counts to integer mode\n",
      "Warning message in DESeqDataSet(se, design = design, ignoreRank):\n",
      "“some variables in design formula are characters, converting to factors”estimating size factors\n",
      "estimating dispersions\n",
      "gene-wise dispersion estimates\n",
      "mean-dispersion relationship\n",
      "final dispersion estimates\n",
      "fitting model and testing\n"
     ]
    },
    {
     "name": "stdout",
     "output_type": "stream",
     "text": [
      "[1] \"CH_BS\"\n"
     ]
    },
    {
     "name": "stderr",
     "output_type": "stream",
     "text": [
      "converting counts to integer mode\n",
      "Warning message in DESeqDataSet(se, design = design, ignoreRank):\n",
      "“some variables in design formula are characters, converting to factors”estimating size factors\n",
      "estimating dispersions\n",
      "gene-wise dispersion estimates\n",
      "mean-dispersion relationship\n",
      "final dispersion estimates\n",
      "fitting model and testing\n"
     ]
    },
    {
     "name": "stdout",
     "output_type": "stream",
     "text": [
      "[1] \"RH_RS\"\n"
     ]
    },
    {
     "name": "stderr",
     "output_type": "stream",
     "text": [
      "converting counts to integer mode\n",
      "Warning message in DESeqDataSet(se, design = design, ignoreRank):\n",
      "“some variables in design formula are characters, converting to factors”estimating size factors\n",
      "estimating dispersions\n",
      "gene-wise dispersion estimates\n",
      "mean-dispersion relationship\n",
      "final dispersion estimates\n",
      "fitting model and testing\n"
     ]
    },
    {
     "name": "stdout",
     "output_type": "stream",
     "text": [
      "[1] \"BH_BS\"\n"
     ]
    },
    {
     "name": "stderr",
     "output_type": "stream",
     "text": [
      "converting counts to integer mode\n",
      "Warning message in DESeqDataSet(se, design = design, ignoreRank):\n",
      "“some variables in design formula are characters, converting to factors”estimating size factors\n",
      "estimating dispersions\n",
      "gene-wise dispersion estimates\n",
      "mean-dispersion relationship\n",
      "final dispersion estimates\n",
      "fitting model and testing\n"
     ]
    }
   ],
   "source": [
    "#sample_data(tmp)$SoilxFungus = paste(sample_data(tmp)$Soil, sample_data(tmp)$Fungus, sep = '-')\n",
    "df.l2fc = NULL\n",
    "Grouplist = c('Lansing-Gv', 'Florence-Gv', 'Pendelton-Gv')\n",
    "ContrastList = list(c(\"CH\",\"CS\"), c(\"CH\", \"BS\"), c(\"CH\", \"BP\"), c(\"RH\", \"RS\"), c(\"BH\",\"BS\"), c(\"BP\", \"CS\"), c(\"BP\", \"BS\")) \n",
    "\n",
    "    for (i in Grouplist) {\n",
    "            print(i)\n",
    "          for (j in ContrastList) { \n",
    "                phy = subset_samples(tmp, SoilxFungus == i & SampleType %in% j)\n",
    "                diag\n",
    "                numerator = j[1]\n",
    "                denom<-j[2]\n",
    "                print(paste(numerator, denom, sep = \"_\"))\n",
    "                #make DESeq object\n",
    "                diagdds = phyloseq_to_deseq2(phy, ~ Rep + SampleType)\n",
    "                diagdds = DESeq(diagdds, fitType=\"local\")\n",
    "#               for (k in (j+1):length(GenoList)) { # k = index of 2nd genotype\n",
    "#                 geno2<-GenoList[k]\n",
    "#               #  print(paste0(geno1,\".\",geno2)) # debugging line to make sure all pairwise comparisons are represented\n",
    "           # get log2 fold change between this pair of genotypes\n",
    "              r =  results(diagdds,contrast=c('SampleType',numerator,denom),parallel=TRUE) %>% as.data.frame %>% \n",
    "                    mutate(OTU=row.names(.),Subset = i, Term='SampleType',Contrast=paste0(numerator,'_',denom),DAI='27') \n",
    "             df.l2fc = rbind(df.l2fc, r)\n",
    "                     }\n",
    "          }\n",
    "\n",
    "i = \"Lansing-RI\"\n",
    "RIContrastList = list(c(\"CH\",\"CS\"), c(\"CH\", \"BS\"), c(\"RH\", \"RS\"), c(\"BH\",\"BS\"))\n",
    "\n",
    "    for (j in RIContrastList) { \n",
    "                phy = subset_samples(tmp, SoilxFungus == i & SampleType %in% j)\n",
    "                diag\n",
    "                numerator = j[1]\n",
    "                denom<-j[2]\n",
    "                print(paste(numerator, denom, sep = \"_\"))\n",
    "                #make DESeq object\n",
    "                diagdds = phyloseq_to_deseq2(phy, ~ Rep + SampleType)\n",
    "                diagdds = DESeq(diagdds, fitType=\"local\")\n",
    "#               for (k in (j+1):length(GenoList)) { # k = index of 2nd genotype\n",
    "#                 geno2<-GenoList[k]\n",
    "#               #  print(paste0(geno1,\".\",geno2)) # debugging line to make sure all pairwise comparisons are represented\n",
    "           # get log2 fold change between this pair of genotypes\n",
    "              r =  results(diagdds,contrast=c('SampleType',numerator,denom),parallel=TRUE) %>% as.data.frame %>% \n",
    "                    mutate(OTU=row.names(.),Subset = i, Term='SampleType',Contrast=paste0(numerator,'_',denom),DAI='27') \n",
    "             df.l2fc = rbind(df.l2fc, r)\n",
    "        }\n",
    "\n",
    "df.l2fc.Exp2 = df.l2fc\n",
    "# #cleanup\n",
    "diagdds = NULL\n",
    "df.l2fc = NULL\n",
    "r = NULL"
   ]
  },
  {
   "cell_type": "code",
   "execution_count": 15,
   "metadata": {},
   "outputs": [
    {
     "data": {
      "text/html": [
       "<table>\n",
       "<thead><tr><th scope=col>Kingdom</th><th scope=col>Phylum</th><th scope=col>Class</th><th scope=col>Order</th><th scope=col>Family</th><th scope=col>Genus</th><th scope=col>ASV</th></tr></thead>\n",
       "<tbody>\n",
       "\t<tr><td>Bacteria             </td><td>Actinobacteria       </td><td>Actinobacteria       </td><td>Micrococcales        </td><td>Micrococcaceae       </td><td>Pseudarthrobacter    </td><td>ASV5                 </td></tr>\n",
       "\t<tr><td>Bacteria             </td><td>Proteobacteria       </td><td>Gammaproteobacteria  </td><td>Cellvibrionales      </td><td>Cellvibrionaceae     </td><td>Cellvibrio           </td><td>ASV6                 </td></tr>\n",
       "\t<tr><td>Bacteria             </td><td>Proteobacteria       </td><td>Alphaproteobacteria  </td><td>Caulobacterales      </td><td>Caulobacteraceae     </td><td>Asticcacaulis        </td><td>ASV8                 </td></tr>\n",
       "\t<tr><td>Bacteria             </td><td>Proteobacteria       </td><td>Gammaproteobacteria  </td><td>Xanthomonadales      </td><td>Xanthomonadaceae     </td><td>Luteimonas           </td><td>ASV13                </td></tr>\n",
       "\t<tr><td>Bacteria             </td><td>Proteobacteria       </td><td>Deltaproteobacteria  </td><td>Myxococcales         </td><td>Sandaracinaceae      </td><td>NA                   </td><td>ASV14                </td></tr>\n",
       "\t<tr><td>Bacteria             </td><td>Proteobacteria       </td><td>Gammaproteobacteria  </td><td>Betaproteobacteriales</td><td>Burkholderiaceae     </td><td>NA                   </td><td>ASV15                </td></tr>\n",
       "</tbody>\n",
       "</table>\n"
      ],
      "text/latex": [
       "\\begin{tabular}{r|lllllll}\n",
       " Kingdom & Phylum & Class & Order & Family & Genus & ASV\\\\\n",
       "\\hline\n",
       "\t Bacteria              & Actinobacteria        & Actinobacteria        & Micrococcales         & Micrococcaceae        & Pseudarthrobacter     & ASV5                 \\\\\n",
       "\t Bacteria              & Proteobacteria        & Gammaproteobacteria   & Cellvibrionales       & Cellvibrionaceae      & Cellvibrio            & ASV6                 \\\\\n",
       "\t Bacteria              & Proteobacteria        & Alphaproteobacteria   & Caulobacterales       & Caulobacteraceae      & Asticcacaulis         & ASV8                 \\\\\n",
       "\t Bacteria              & Proteobacteria        & Gammaproteobacteria   & Xanthomonadales       & Xanthomonadaceae      & Luteimonas            & ASV13                \\\\\n",
       "\t Bacteria              & Proteobacteria        & Deltaproteobacteria   & Myxococcales          & Sandaracinaceae       & NA                    & ASV14                \\\\\n",
       "\t Bacteria              & Proteobacteria        & Gammaproteobacteria   & Betaproteobacteriales & Burkholderiaceae      & NA                    & ASV15                \\\\\n",
       "\\end{tabular}\n"
      ],
      "text/markdown": [
       "\n",
       "Kingdom | Phylum | Class | Order | Family | Genus | ASV | \n",
       "|---|---|---|---|---|---|\n",
       "| Bacteria              | Actinobacteria        | Actinobacteria        | Micrococcales         | Micrococcaceae        | Pseudarthrobacter     | ASV5                  | \n",
       "| Bacteria              | Proteobacteria        | Gammaproteobacteria   | Cellvibrionales       | Cellvibrionaceae      | Cellvibrio            | ASV6                  | \n",
       "| Bacteria              | Proteobacteria        | Alphaproteobacteria   | Caulobacterales       | Caulobacteraceae      | Asticcacaulis         | ASV8                  | \n",
       "| Bacteria              | Proteobacteria        | Gammaproteobacteria   | Xanthomonadales       | Xanthomonadaceae      | Luteimonas            | ASV13                 | \n",
       "| Bacteria              | Proteobacteria        | Deltaproteobacteria   | Myxococcales          | Sandaracinaceae       | NA                    | ASV14                 | \n",
       "| Bacteria              | Proteobacteria        | Gammaproteobacteria   | Betaproteobacteriales | Burkholderiaceae      | NA                    | ASV15                 | \n",
       "\n",
       "\n"
      ],
      "text/plain": [
       "  Kingdom  Phylum         Class               Order                \n",
       "1 Bacteria Actinobacteria Actinobacteria      Micrococcales        \n",
       "2 Bacteria Proteobacteria Gammaproteobacteria Cellvibrionales      \n",
       "3 Bacteria Proteobacteria Alphaproteobacteria Caulobacterales      \n",
       "4 Bacteria Proteobacteria Gammaproteobacteria Xanthomonadales      \n",
       "5 Bacteria Proteobacteria Deltaproteobacteria Myxococcales         \n",
       "6 Bacteria Proteobacteria Gammaproteobacteria Betaproteobacteriales\n",
       "  Family           Genus             ASV  \n",
       "1 Micrococcaceae   Pseudarthrobacter ASV5 \n",
       "2 Cellvibrionaceae Cellvibrio        ASV6 \n",
       "3 Caulobacteraceae Asticcacaulis     ASV8 \n",
       "4 Xanthomonadaceae Luteimonas        ASV13\n",
       "5 Sandaracinaceae  NA                ASV14\n",
       "6 Burkholderiaceae NA                ASV15"
      ]
     },
     "metadata": {},
     "output_type": "display_data"
    }
   ],
   "source": [
    "taxa %>% head() "
   ]
  },
  {
   "cell_type": "code",
   "execution_count": 16,
   "metadata": {
    "scrolled": true
   },
   "outputs": [
    {
     "name": "stderr",
     "output_type": "stream",
     "text": [
      "Warning message:\n",
      "“`chr_along()` is deprecated as of rlang 0.2.0.\n",
      "This warning is displayed once per session.”"
     ]
    },
    {
     "data": {
      "text/html": [
       "<table>\n",
       "<thead><tr><th scope=col>baseMean</th><th scope=col>log2FoldChange</th><th scope=col>lfcSE</th><th scope=col>stat</th><th scope=col>pvalue</th><th scope=col>padj</th><th scope=col>OTU</th><th scope=col>Subset</th><th scope=col>Term</th><th scope=col>Contrast</th><th scope=col>DAI</th><th scope=col>Kingdom</th><th scope=col>Phylum</th><th scope=col>Class</th><th scope=col>Order</th><th scope=col>Family</th><th scope=col>Genus</th><th scope=col>Experiment</th></tr></thead>\n",
       "<tbody>\n",
       "\t<tr><td>977.381944           </td><td>-1.084927            </td><td>0.6141637            </td><td>-1.7665109           </td><td>7.731017e-02         </td><td>9.393601e-01         </td><td>ASV5                 </td><td>Lansing-Gv           </td><td>SampleType           </td><td>CH_CS                </td><td>27                   </td><td>Bacteria             </td><td>Actinobacteria       </td><td>Actinobacteria       </td><td>Micrococcales        </td><td>Micrococcaceae       </td><td>Pseudarthrobacter    </td><td>2                    </td></tr>\n",
       "\t<tr><td>772.320938           </td><td> 8.411572            </td><td>1.4161221            </td><td> 5.9398638           </td><td>2.852590e-09         </td><td>3.099449e-07         </td><td>ASV6                 </td><td>Lansing-Gv           </td><td>SampleType           </td><td>CH_CS                </td><td>27                   </td><td>Bacteria             </td><td>Proteobacteria       </td><td>Gammaproteobacteria  </td><td>Cellvibrionales      </td><td>Cellvibrionaceae     </td><td>Cellvibrio           </td><td>2                    </td></tr>\n",
       "\t<tr><td> 56.195482           </td><td> 8.815929            </td><td>1.4665514            </td><td> 6.0113328           </td><td>1.840042e-09         </td><td>2.079248e-07         </td><td>ASV8                 </td><td>Lansing-Gv           </td><td>SampleType           </td><td>CH_CS                </td><td>27                   </td><td>Bacteria             </td><td>Proteobacteria       </td><td>Alphaproteobacteria  </td><td>Caulobacterales      </td><td>Caulobacteraceae     </td><td>Asticcacaulis        </td><td>2                    </td></tr>\n",
       "\t<tr><td>  3.676573           </td><td> 1.393277            </td><td>3.0166225            </td><td> 0.4618665           </td><td>6.441770e-01         </td><td>9.694757e-01         </td><td>ASV13                </td><td>Lansing-Gv           </td><td>SampleType           </td><td>CH_CS                </td><td>27                   </td><td>Bacteria             </td><td>Proteobacteria       </td><td>Gammaproteobacteria  </td><td>Xanthomonadales      </td><td>Xanthomonadaceae     </td><td>Luteimonas           </td><td>2                    </td></tr>\n",
       "\t<tr><td>284.185280           </td><td> 5.948495            </td><td>0.5893526            </td><td>10.0932700           </td><td>5.916508e-24         </td><td>1.671413e-20         </td><td>ASV14                </td><td>Lansing-Gv           </td><td>SampleType           </td><td>CH_CS                </td><td>27                   </td><td>Bacteria             </td><td>Proteobacteria       </td><td>Deltaproteobacteria  </td><td>Myxococcales         </td><td>Sandaracinaceae      </td><td>NA                   </td><td>2                    </td></tr>\n",
       "\t<tr><td> 49.214540           </td><td> 4.239251            </td><td>2.4298523            </td><td> 1.7446536           </td><td>8.104519e-02         </td><td>9.646906e-01         </td><td>ASV15                </td><td>Lansing-Gv           </td><td>SampleType           </td><td>CH_CS                </td><td>27                   </td><td>Bacteria             </td><td>Proteobacteria       </td><td>Gammaproteobacteria  </td><td>Betaproteobacteriales</td><td>Burkholderiaceae     </td><td>NA                   </td><td>2                    </td></tr>\n",
       "</tbody>\n",
       "</table>\n"
      ],
      "text/latex": [
       "\\begin{tabular}{r|llllllllllllllllll}\n",
       " baseMean & log2FoldChange & lfcSE & stat & pvalue & padj & OTU & Subset & Term & Contrast & DAI & Kingdom & Phylum & Class & Order & Family & Genus & Experiment\\\\\n",
       "\\hline\n",
       "\t 977.381944            & -1.084927             & 0.6141637             & -1.7665109            & 7.731017e-02          & 9.393601e-01          & ASV5                  & Lansing-Gv            & SampleType            & CH\\_CS               & 27                    & Bacteria              & Actinobacteria        & Actinobacteria        & Micrococcales         & Micrococcaceae        & Pseudarthrobacter     & 2                    \\\\\n",
       "\t 772.320938            &  8.411572             & 1.4161221             &  5.9398638            & 2.852590e-09          & 3.099449e-07          & ASV6                  & Lansing-Gv            & SampleType            & CH\\_CS               & 27                    & Bacteria              & Proteobacteria        & Gammaproteobacteria   & Cellvibrionales       & Cellvibrionaceae      & Cellvibrio            & 2                    \\\\\n",
       "\t  56.195482            &  8.815929             & 1.4665514             &  6.0113328            & 1.840042e-09          & 2.079248e-07          & ASV8                  & Lansing-Gv            & SampleType            & CH\\_CS               & 27                    & Bacteria              & Proteobacteria        & Alphaproteobacteria   & Caulobacterales       & Caulobacteraceae      & Asticcacaulis         & 2                    \\\\\n",
       "\t   3.676573            &  1.393277             & 3.0166225             &  0.4618665            & 6.441770e-01          & 9.694757e-01          & ASV13                 & Lansing-Gv            & SampleType            & CH\\_CS               & 27                    & Bacteria              & Proteobacteria        & Gammaproteobacteria   & Xanthomonadales       & Xanthomonadaceae      & Luteimonas            & 2                    \\\\\n",
       "\t 284.185280            &  5.948495             & 0.5893526             & 10.0932700            & 5.916508e-24          & 1.671413e-20          & ASV14                 & Lansing-Gv            & SampleType            & CH\\_CS               & 27                    & Bacteria              & Proteobacteria        & Deltaproteobacteria   & Myxococcales          & Sandaracinaceae       & NA                    & 2                    \\\\\n",
       "\t  49.214540            &  4.239251             & 2.4298523             &  1.7446536            & 8.104519e-02          & 9.646906e-01          & ASV15                 & Lansing-Gv            & SampleType            & CH\\_CS               & 27                    & Bacteria              & Proteobacteria        & Gammaproteobacteria   & Betaproteobacteriales & Burkholderiaceae      & NA                    & 2                    \\\\\n",
       "\\end{tabular}\n"
      ],
      "text/markdown": [
       "\n",
       "baseMean | log2FoldChange | lfcSE | stat | pvalue | padj | OTU | Subset | Term | Contrast | DAI | Kingdom | Phylum | Class | Order | Family | Genus | Experiment | \n",
       "|---|---|---|---|---|---|\n",
       "| 977.381944            | -1.084927             | 0.6141637             | -1.7665109            | 7.731017e-02          | 9.393601e-01          | ASV5                  | Lansing-Gv            | SampleType            | CH_CS                 | 27                    | Bacteria              | Actinobacteria        | Actinobacteria        | Micrococcales         | Micrococcaceae        | Pseudarthrobacter     | 2                     | \n",
       "| 772.320938            |  8.411572             | 1.4161221             |  5.9398638            | 2.852590e-09          | 3.099449e-07          | ASV6                  | Lansing-Gv            | SampleType            | CH_CS                 | 27                    | Bacteria              | Proteobacteria        | Gammaproteobacteria   | Cellvibrionales       | Cellvibrionaceae      | Cellvibrio            | 2                     | \n",
       "|  56.195482            |  8.815929             | 1.4665514             |  6.0113328            | 1.840042e-09          | 2.079248e-07          | ASV8                  | Lansing-Gv            | SampleType            | CH_CS                 | 27                    | Bacteria              | Proteobacteria        | Alphaproteobacteria   | Caulobacterales       | Caulobacteraceae      | Asticcacaulis         | 2                     | \n",
       "|   3.676573            |  1.393277             | 3.0166225             |  0.4618665            | 6.441770e-01          | 9.694757e-01          | ASV13                 | Lansing-Gv            | SampleType            | CH_CS                 | 27                    | Bacteria              | Proteobacteria        | Gammaproteobacteria   | Xanthomonadales       | Xanthomonadaceae      | Luteimonas            | 2                     | \n",
       "| 284.185280            |  5.948495             | 0.5893526             | 10.0932700            | 5.916508e-24          | 1.671413e-20          | ASV14                 | Lansing-Gv            | SampleType            | CH_CS                 | 27                    | Bacteria              | Proteobacteria        | Deltaproteobacteria   | Myxococcales          | Sandaracinaceae       | NA                    | 2                     | \n",
       "|  49.214540            |  4.239251             | 2.4298523             |  1.7446536            | 8.104519e-02          | 9.646906e-01          | ASV15                 | Lansing-Gv            | SampleType            | CH_CS                 | 27                    | Bacteria              | Proteobacteria        | Gammaproteobacteria   | Betaproteobacteriales | Burkholderiaceae      | NA                    | 2                     | \n",
       "\n",
       "\n"
      ],
      "text/plain": [
       "  baseMean   log2FoldChange lfcSE     stat       pvalue       padj        \n",
       "1 977.381944 -1.084927      0.6141637 -1.7665109 7.731017e-02 9.393601e-01\n",
       "2 772.320938  8.411572      1.4161221  5.9398638 2.852590e-09 3.099449e-07\n",
       "3  56.195482  8.815929      1.4665514  6.0113328 1.840042e-09 2.079248e-07\n",
       "4   3.676573  1.393277      3.0166225  0.4618665 6.441770e-01 9.694757e-01\n",
       "5 284.185280  5.948495      0.5893526 10.0932700 5.916508e-24 1.671413e-20\n",
       "6  49.214540  4.239251      2.4298523  1.7446536 8.104519e-02 9.646906e-01\n",
       "  OTU   Subset     Term       Contrast DAI Kingdom  Phylum        \n",
       "1 ASV5  Lansing-Gv SampleType CH_CS    27  Bacteria Actinobacteria\n",
       "2 ASV6  Lansing-Gv SampleType CH_CS    27  Bacteria Proteobacteria\n",
       "3 ASV8  Lansing-Gv SampleType CH_CS    27  Bacteria Proteobacteria\n",
       "4 ASV13 Lansing-Gv SampleType CH_CS    27  Bacteria Proteobacteria\n",
       "5 ASV14 Lansing-Gv SampleType CH_CS    27  Bacteria Proteobacteria\n",
       "6 ASV15 Lansing-Gv SampleType CH_CS    27  Bacteria Proteobacteria\n",
       "  Class               Order                 Family           Genus            \n",
       "1 Actinobacteria      Micrococcales         Micrococcaceae   Pseudarthrobacter\n",
       "2 Gammaproteobacteria Cellvibrionales       Cellvibrionaceae Cellvibrio       \n",
       "3 Alphaproteobacteria Caulobacterales       Caulobacteraceae Asticcacaulis    \n",
       "4 Gammaproteobacteria Xanthomonadales       Xanthomonadaceae Luteimonas       \n",
       "5 Deltaproteobacteria Myxococcales          Sandaracinaceae  NA               \n",
       "6 Gammaproteobacteria Betaproteobacteriales Burkholderiaceae NA               \n",
       "  Experiment\n",
       "1 2         \n",
       "2 2         \n",
       "3 2         \n",
       "4 2         \n",
       "5 2         \n",
       "6 2         "
      ]
     },
     "metadata": {},
     "output_type": "display_data"
    }
   ],
   "source": [
    "out = df.l2fc.Exp2  %>% left_join(., taxa, by = c(\"OTU\" = \"ASV\"))\n",
    "out$Experiment = 2\n",
    "head(out)\n",
    "outfile = file.path(work_dir, 'dfl2fc-Exp2.txt')"
   ]
  },
  {
   "cell_type": "code",
   "execution_count": 17,
   "metadata": {},
   "outputs": [],
   "source": [
    "write.table(out, file = outfile, row.names = FALSE, sep = '\\t')"
   ]
  },
  {
   "cell_type": "markdown",
   "metadata": {},
   "source": [
    "# Experiment 1"
   ]
  },
  {
   "cell_type": "code",
   "execution_count": 50,
   "metadata": {},
   "outputs": [],
   "source": [
    "tmp = ps %>% subset_samples(Experiment == 1)"
   ]
  },
  {
   "cell_type": "code",
   "execution_count": 51,
   "metadata": {},
   "outputs": [
    {
     "data": {
      "text/html": [
       "81"
      ],
      "text/latex": [
       "81"
      ],
      "text/markdown": [
       "81"
      ],
      "text/plain": [
       "[1] 81"
      ]
     },
     "metadata": {},
     "output_type": "display_data"
    }
   ],
   "source": [
    "sample_data(tmp)$DAI %>% unique"
   ]
  },
  {
   "cell_type": "code",
   "execution_count": 52,
   "metadata": {},
   "outputs": [
    {
     "data": {
      "text/html": [
       "<ol class=list-inline>\n",
       "\t<li>'Sample'</li>\n",
       "\t<li>'Experiment'</li>\n",
       "\t<li>'Plant'</li>\n",
       "\t<li>'Fungus'</li>\n",
       "\t<li>'Soil'</li>\n",
       "\t<li>'SampleType'</li>\n",
       "\t<li>'Treatment'</li>\n",
       "\t<li>'TimePoint'</li>\n",
       "\t<li>'DAI'</li>\n",
       "\t<li>'Rep'</li>\n",
       "\t<li>'Concentration_ng.ul'</li>\n",
       "\t<li>'SoilxFungus'</li>\n",
       "</ol>\n"
      ],
      "text/latex": [
       "\\begin{enumerate*}\n",
       "\\item 'Sample'\n",
       "\\item 'Experiment'\n",
       "\\item 'Plant'\n",
       "\\item 'Fungus'\n",
       "\\item 'Soil'\n",
       "\\item 'SampleType'\n",
       "\\item 'Treatment'\n",
       "\\item 'TimePoint'\n",
       "\\item 'DAI'\n",
       "\\item 'Rep'\n",
       "\\item 'Concentration\\_ng.ul'\n",
       "\\item 'SoilxFungus'\n",
       "\\end{enumerate*}\n"
      ],
      "text/markdown": [
       "1. 'Sample'\n",
       "2. 'Experiment'\n",
       "3. 'Plant'\n",
       "4. 'Fungus'\n",
       "5. 'Soil'\n",
       "6. 'SampleType'\n",
       "7. 'Treatment'\n",
       "8. 'TimePoint'\n",
       "9. 'DAI'\n",
       "10. 'Rep'\n",
       "11. 'Concentration_ng.ul'\n",
       "12. 'SoilxFungus'\n",
       "\n",
       "\n"
      ],
      "text/plain": [
       " [1] \"Sample\"              \"Experiment\"          \"Plant\"              \n",
       " [4] \"Fungus\"              \"Soil\"                \"SampleType\"         \n",
       " [7] \"Treatment\"           \"TimePoint\"           \"DAI\"                \n",
       "[10] \"Rep\"                 \"Concentration_ng.ul\" \"SoilxFungus\"        "
      ]
     },
     "metadata": {},
     "output_type": "display_data"
    }
   ],
   "source": [
    "colnames(sample_data(tmp))"
   ]
  },
  {
   "cell_type": "code",
   "execution_count": 53,
   "metadata": {},
   "outputs": [
    {
     "name": "stdout",
     "output_type": "stream",
     "text": [
      "[1] \"Lansing-Gv\"\n",
      "[1] \"CH_CS\"\n"
     ]
    },
    {
     "name": "stderr",
     "output_type": "stream",
     "text": [
      "converting counts to integer mode\n",
      "Warning message in DESeqDataSet(se, design = design, ignoreRank):\n",
      "“some variables in design formula are characters, converting to factors”estimating size factors\n",
      "estimating dispersions\n",
      "gene-wise dispersion estimates\n",
      "mean-dispersion relationship\n",
      "final dispersion estimates\n",
      "fitting model and testing\n"
     ]
    },
    {
     "name": "stdout",
     "output_type": "stream",
     "text": [
      "[1] \"CH_RT\"\n"
     ]
    },
    {
     "name": "stderr",
     "output_type": "stream",
     "text": [
      "converting counts to integer mode\n",
      "Warning message in DESeqDataSet(se, design = design, ignoreRank):\n",
      "“some variables in design formula are characters, converting to factors”estimating size factors\n",
      "estimating dispersions\n",
      "gene-wise dispersion estimates\n",
      "mean-dispersion relationship\n",
      "final dispersion estimates\n",
      "fitting model and testing\n"
     ]
    },
    {
     "name": "stdout",
     "output_type": "stream",
     "text": [
      "[1] \"RT_CS\"\n"
     ]
    },
    {
     "name": "stderr",
     "output_type": "stream",
     "text": [
      "converting counts to integer mode\n",
      "Warning message in DESeqDataSet(se, design = design, ignoreRank):\n",
      "“some variables in design formula are characters, converting to factors”estimating size factors\n",
      "estimating dispersions\n",
      "gene-wise dispersion estimates\n",
      "mean-dispersion relationship\n",
      "final dispersion estimates\n",
      "fitting model and testing\n"
     ]
    },
    {
     "name": "stdout",
     "output_type": "stream",
     "text": [
      "[1] \"Florence-Gv\"\n",
      "[1] \"CH_CS\"\n"
     ]
    },
    {
     "name": "stderr",
     "output_type": "stream",
     "text": [
      "converting counts to integer mode\n",
      "Warning message in DESeqDataSet(se, design = design, ignoreRank):\n",
      "“some variables in design formula are characters, converting to factors”estimating size factors\n",
      "estimating dispersions\n",
      "gene-wise dispersion estimates\n",
      "mean-dispersion relationship\n",
      "final dispersion estimates\n",
      "fitting model and testing\n"
     ]
    },
    {
     "name": "stdout",
     "output_type": "stream",
     "text": [
      "[1] \"CH_RT\"\n"
     ]
    },
    {
     "name": "stderr",
     "output_type": "stream",
     "text": [
      "converting counts to integer mode\n",
      "Warning message in DESeqDataSet(se, design = design, ignoreRank):\n",
      "“some variables in design formula are characters, converting to factors”estimating size factors\n",
      "estimating dispersions\n",
      "gene-wise dispersion estimates\n",
      "mean-dispersion relationship\n",
      "final dispersion estimates\n",
      "fitting model and testing\n"
     ]
    },
    {
     "name": "stdout",
     "output_type": "stream",
     "text": [
      "[1] \"RT_CS\"\n"
     ]
    },
    {
     "name": "stderr",
     "output_type": "stream",
     "text": [
      "converting counts to integer mode\n",
      "Warning message in DESeqDataSet(se, design = design, ignoreRank):\n",
      "“some variables in design formula are characters, converting to factors”estimating size factors\n",
      "estimating dispersions\n",
      "gene-wise dispersion estimates\n",
      "mean-dispersion relationship\n",
      "final dispersion estimates\n",
      "fitting model and testing\n"
     ]
    },
    {
     "name": "stdout",
     "output_type": "stream",
     "text": [
      "[1] \"Pendelton-Gv\"\n",
      "[1] \"CH_CS\"\n"
     ]
    },
    {
     "name": "stderr",
     "output_type": "stream",
     "text": [
      "converting counts to integer mode\n",
      "Warning message in DESeqDataSet(se, design = design, ignoreRank):\n",
      "“some variables in design formula are characters, converting to factors”estimating size factors\n",
      "estimating dispersions\n",
      "gene-wise dispersion estimates\n",
      "mean-dispersion relationship\n",
      "final dispersion estimates\n",
      "fitting model and testing\n"
     ]
    },
    {
     "name": "stdout",
     "output_type": "stream",
     "text": [
      "[1] \"CH_RT\"\n"
     ]
    },
    {
     "name": "stderr",
     "output_type": "stream",
     "text": [
      "converting counts to integer mode\n",
      "Warning message in DESeqDataSet(se, design = design, ignoreRank):\n",
      "“some variables in design formula are characters, converting to factors”estimating size factors\n",
      "estimating dispersions\n",
      "gene-wise dispersion estimates\n",
      "mean-dispersion relationship\n",
      "final dispersion estimates\n",
      "fitting model and testing\n"
     ]
    },
    {
     "name": "stdout",
     "output_type": "stream",
     "text": [
      "[1] \"RT_CS\"\n"
     ]
    },
    {
     "name": "stderr",
     "output_type": "stream",
     "text": [
      "converting counts to integer mode\n",
      "Warning message in DESeqDataSet(se, design = design, ignoreRank):\n",
      "“some variables in design formula are characters, converting to factors”estimating size factors\n",
      "estimating dispersions\n",
      "gene-wise dispersion estimates\n",
      "mean-dispersion relationship\n",
      "final dispersion estimates\n",
      "fitting model and testing\n"
     ]
    }
   ],
   "source": [
    "#sample_data(tmp)$SoilxFungus = paste(sample_data(tmp)$Soil, sample_data(tmp)$Fungus, sep = '-')\n",
    "df.l2fc = NULL\n",
    "Grouplist = c('Lansing-Gv', 'Florence-Gv', 'Pendelton-Gv')\n",
    "ContrastList = list(c(\"CH\",\"CS\"), c(\"CH\", \"RT\"), c(\"RT\", \"CS\")) \n",
    "\n",
    "    for (i in Grouplist) {\n",
    "            print(i)\n",
    "          for (j in ContrastList) { \n",
    "                phy = subset_samples(tmp, SoilxFungus == i & SampleType %in% j)\n",
    "                diag\n",
    "                numerator = j[1]\n",
    "                denom<-j[2]\n",
    "                print(paste(numerator, denom, sep = \"_\"))\n",
    "                #make DESeq object\n",
    "                diagdds = phyloseq_to_deseq2(phy, ~ Rep + SampleType)\n",
    "                diagdds = DESeq(diagdds, fitType=\"local\")\n",
    "#               for (k in (j+1):length(GenoList)) { # k = index of 2nd genotype\n",
    "#                 geno2<-GenoList[k]\n",
    "#               #  print(paste0(geno1,\".\",geno2)) # debugging line to make sure all pairwise comparisons are represented\n",
    "           # get log2 fold change between this pair of genotypes\n",
    "              r =  results(diagdds,contrast=c('SampleType',numerator,denom),parallel=TRUE) %>% as.data.frame %>% \n",
    "                    mutate(OTU=row.names(.),Subset = i, Term='SampleType',Contrast=paste0(numerator,'_',denom),DAI='81') \n",
    "             df.l2fc = rbind(df.l2fc, r)\n",
    "                     }\n",
    "          }\n",
    "\n",
    "\n",
    "\n",
    "df.l2fc.Exp1 = df.l2fc\n",
    "# #cleanup\n",
    "diagdds = NULL\n",
    "df.l2fc = NULL\n",
    "r = NULL"
   ]
  },
  {
   "cell_type": "code",
   "execution_count": 54,
   "metadata": {},
   "outputs": [
    {
     "data": {
      "text/html": [
       "<table>\n",
       "<thead><tr><th scope=col>baseMean</th><th scope=col>log2FoldChange</th><th scope=col>lfcSE</th><th scope=col>stat</th><th scope=col>pvalue</th><th scope=col>padj</th><th scope=col>OTU</th><th scope=col>Subset</th><th scope=col>Term</th><th scope=col>Contrast</th><th scope=col>DAI</th><th scope=col>Kingdom</th><th scope=col>Phylum</th><th scope=col>Class</th><th scope=col>Order</th><th scope=col>Family</th><th scope=col>Genus</th><th scope=col>Experiment</th></tr></thead>\n",
       "<tbody>\n",
       "\t<tr><td>331.72029            </td><td>-2.716566            </td><td>0.5217389            </td><td>-5.206754            </td><td>1.921730e-07         </td><td>1.885675e-05         </td><td>ASV5                 </td><td>Lansing-Gv           </td><td>SampleType           </td><td>CH_CS                </td><td>81                   </td><td>Bacteria             </td><td>Actinobacteria       </td><td>Actinobacteria       </td><td>Micrococcales        </td><td>Micrococcaceae       </td><td>Pseudarthrobacter    </td><td>1                    </td></tr>\n",
       "\t<tr><td>136.95264            </td><td> 4.977612            </td><td>1.1905977            </td><td> 4.180767            </td><td>2.905274e-05         </td><td>1.192425e-03         </td><td>ASV6                 </td><td>Lansing-Gv           </td><td>SampleType           </td><td>CH_CS                </td><td>81                   </td><td>Bacteria             </td><td>Proteobacteria       </td><td>Gammaproteobacteria  </td><td>Cellvibrionales      </td><td>Cellvibrionaceae     </td><td>Cellvibrio           </td><td>1                    </td></tr>\n",
       "\t<tr><td>  0.00000            </td><td>       NA            </td><td>       NA            </td><td>       NA            </td><td>          NA         </td><td>          NA         </td><td>ASV8                 </td><td>Lansing-Gv           </td><td>SampleType           </td><td>CH_CS                </td><td>81                   </td><td>Bacteria             </td><td>Proteobacteria       </td><td>Alphaproteobacteria  </td><td>Caulobacterales      </td><td>Caulobacteraceae     </td><td>Asticcacaulis        </td><td>1                    </td></tr>\n",
       "\t<tr><td>  0.00000            </td><td>       NA            </td><td>       NA            </td><td>       NA            </td><td>          NA         </td><td>          NA         </td><td>ASV13                </td><td>Lansing-Gv           </td><td>SampleType           </td><td>CH_CS                </td><td>81                   </td><td>Bacteria             </td><td>Proteobacteria       </td><td>Gammaproteobacteria  </td><td>Xanthomonadales      </td><td>Xanthomonadaceae     </td><td>Luteimonas           </td><td>1                    </td></tr>\n",
       "\t<tr><td> 26.70389            </td><td> 8.430000            </td><td>1.7857267            </td><td> 4.720767            </td><td>2.349571e-06         </td><td>1.478663e-04         </td><td>ASV14                </td><td>Lansing-Gv           </td><td>SampleType           </td><td>CH_CS                </td><td>81                   </td><td>Bacteria             </td><td>Proteobacteria       </td><td>Deltaproteobacteria  </td><td>Myxococcales         </td><td>Sandaracinaceae      </td><td>NA                   </td><td>1                    </td></tr>\n",
       "\t<tr><td>  0.00000            </td><td>       NA            </td><td>       NA            </td><td>       NA            </td><td>          NA         </td><td>          NA         </td><td>ASV15                </td><td>Lansing-Gv           </td><td>SampleType           </td><td>CH_CS                </td><td>81                   </td><td>Bacteria             </td><td>Proteobacteria       </td><td>Gammaproteobacteria  </td><td>Betaproteobacteriales</td><td>Burkholderiaceae     </td><td>NA                   </td><td>1                    </td></tr>\n",
       "</tbody>\n",
       "</table>\n"
      ],
      "text/latex": [
       "\\begin{tabular}{r|llllllllllllllllll}\n",
       " baseMean & log2FoldChange & lfcSE & stat & pvalue & padj & OTU & Subset & Term & Contrast & DAI & Kingdom & Phylum & Class & Order & Family & Genus & Experiment\\\\\n",
       "\\hline\n",
       "\t 331.72029             & -2.716566             & 0.5217389             & -5.206754             & 1.921730e-07          & 1.885675e-05          & ASV5                  & Lansing-Gv            & SampleType            & CH\\_CS               & 81                    & Bacteria              & Actinobacteria        & Actinobacteria        & Micrococcales         & Micrococcaceae        & Pseudarthrobacter     & 1                    \\\\\n",
       "\t 136.95264             &  4.977612             & 1.1905977             &  4.180767             & 2.905274e-05          & 1.192425e-03          & ASV6                  & Lansing-Gv            & SampleType            & CH\\_CS               & 81                    & Bacteria              & Proteobacteria        & Gammaproteobacteria   & Cellvibrionales       & Cellvibrionaceae      & Cellvibrio            & 1                    \\\\\n",
       "\t   0.00000             &        NA             &        NA             &        NA             &           NA          &           NA          & ASV8                  & Lansing-Gv            & SampleType            & CH\\_CS               & 81                    & Bacteria              & Proteobacteria        & Alphaproteobacteria   & Caulobacterales       & Caulobacteraceae      & Asticcacaulis         & 1                    \\\\\n",
       "\t   0.00000             &        NA             &        NA             &        NA             &           NA          &           NA          & ASV13                 & Lansing-Gv            & SampleType            & CH\\_CS               & 81                    & Bacteria              & Proteobacteria        & Gammaproteobacteria   & Xanthomonadales       & Xanthomonadaceae      & Luteimonas            & 1                    \\\\\n",
       "\t  26.70389             &  8.430000             & 1.7857267             &  4.720767             & 2.349571e-06          & 1.478663e-04          & ASV14                 & Lansing-Gv            & SampleType            & CH\\_CS               & 81                    & Bacteria              & Proteobacteria        & Deltaproteobacteria   & Myxococcales          & Sandaracinaceae       & NA                    & 1                    \\\\\n",
       "\t   0.00000             &        NA             &        NA             &        NA             &           NA          &           NA          & ASV15                 & Lansing-Gv            & SampleType            & CH\\_CS               & 81                    & Bacteria              & Proteobacteria        & Gammaproteobacteria   & Betaproteobacteriales & Burkholderiaceae      & NA                    & 1                    \\\\\n",
       "\\end{tabular}\n"
      ],
      "text/markdown": [
       "\n",
       "baseMean | log2FoldChange | lfcSE | stat | pvalue | padj | OTU | Subset | Term | Contrast | DAI | Kingdom | Phylum | Class | Order | Family | Genus | Experiment | \n",
       "|---|---|---|---|---|---|\n",
       "| 331.72029             | -2.716566             | 0.5217389             | -5.206754             | 1.921730e-07          | 1.885675e-05          | ASV5                  | Lansing-Gv            | SampleType            | CH_CS                 | 81                    | Bacteria              | Actinobacteria        | Actinobacteria        | Micrococcales         | Micrococcaceae        | Pseudarthrobacter     | 1                     | \n",
       "| 136.95264             |  4.977612             | 1.1905977             |  4.180767             | 2.905274e-05          | 1.192425e-03          | ASV6                  | Lansing-Gv            | SampleType            | CH_CS                 | 81                    | Bacteria              | Proteobacteria        | Gammaproteobacteria   | Cellvibrionales       | Cellvibrionaceae      | Cellvibrio            | 1                     | \n",
       "|   0.00000             |        NA             |        NA             |        NA             |           NA          |           NA          | ASV8                  | Lansing-Gv            | SampleType            | CH_CS                 | 81                    | Bacteria              | Proteobacteria        | Alphaproteobacteria   | Caulobacterales       | Caulobacteraceae      | Asticcacaulis         | 1                     | \n",
       "|   0.00000             |        NA             |        NA             |        NA             |           NA          |           NA          | ASV13                 | Lansing-Gv            | SampleType            | CH_CS                 | 81                    | Bacteria              | Proteobacteria        | Gammaproteobacteria   | Xanthomonadales       | Xanthomonadaceae      | Luteimonas            | 1                     | \n",
       "|  26.70389             |  8.430000             | 1.7857267             |  4.720767             | 2.349571e-06          | 1.478663e-04          | ASV14                 | Lansing-Gv            | SampleType            | CH_CS                 | 81                    | Bacteria              | Proteobacteria        | Deltaproteobacteria   | Myxococcales          | Sandaracinaceae       | NA                    | 1                     | \n",
       "|   0.00000             |        NA             |        NA             |        NA             |           NA          |           NA          | ASV15                 | Lansing-Gv            | SampleType            | CH_CS                 | 81                    | Bacteria              | Proteobacteria        | Gammaproteobacteria   | Betaproteobacteriales | Burkholderiaceae      | NA                    | 1                     | \n",
       "\n",
       "\n"
      ],
      "text/plain": [
       "  baseMean  log2FoldChange lfcSE     stat      pvalue       padj         OTU  \n",
       "1 331.72029 -2.716566      0.5217389 -5.206754 1.921730e-07 1.885675e-05 ASV5 \n",
       "2 136.95264  4.977612      1.1905977  4.180767 2.905274e-05 1.192425e-03 ASV6 \n",
       "3   0.00000        NA             NA        NA           NA           NA ASV8 \n",
       "4   0.00000        NA             NA        NA           NA           NA ASV13\n",
       "5  26.70389  8.430000      1.7857267  4.720767 2.349571e-06 1.478663e-04 ASV14\n",
       "6   0.00000        NA             NA        NA           NA           NA ASV15\n",
       "  Subset     Term       Contrast DAI Kingdom  Phylum        \n",
       "1 Lansing-Gv SampleType CH_CS    81  Bacteria Actinobacteria\n",
       "2 Lansing-Gv SampleType CH_CS    81  Bacteria Proteobacteria\n",
       "3 Lansing-Gv SampleType CH_CS    81  Bacteria Proteobacteria\n",
       "4 Lansing-Gv SampleType CH_CS    81  Bacteria Proteobacteria\n",
       "5 Lansing-Gv SampleType CH_CS    81  Bacteria Proteobacteria\n",
       "6 Lansing-Gv SampleType CH_CS    81  Bacteria Proteobacteria\n",
       "  Class               Order                 Family           Genus            \n",
       "1 Actinobacteria      Micrococcales         Micrococcaceae   Pseudarthrobacter\n",
       "2 Gammaproteobacteria Cellvibrionales       Cellvibrionaceae Cellvibrio       \n",
       "3 Alphaproteobacteria Caulobacterales       Caulobacteraceae Asticcacaulis    \n",
       "4 Gammaproteobacteria Xanthomonadales       Xanthomonadaceae Luteimonas       \n",
       "5 Deltaproteobacteria Myxococcales          Sandaracinaceae  NA               \n",
       "6 Gammaproteobacteria Betaproteobacteriales Burkholderiaceae NA               \n",
       "  Experiment\n",
       "1 1         \n",
       "2 1         \n",
       "3 1         \n",
       "4 1         \n",
       "5 1         \n",
       "6 1         "
      ]
     },
     "metadata": {},
     "output_type": "display_data"
    }
   ],
   "source": [
    "out = df.l2fc.Exp1  %>% left_join(., taxa, by = c(\"OTU\" = \"ASV\"))\n",
    "out$Experiment = 1\n",
    "head(out)\n",
    "outfile = file.path(work_dir, 'dfl2fc-Exp1.txt')"
   ]
  },
  {
   "cell_type": "code",
   "execution_count": 55,
   "metadata": {},
   "outputs": [],
   "source": [
    "write.table(out, file = outfile, row.names = FALSE, sep = '\\t')"
   ]
  },
  {
   "cell_type": "markdown",
   "metadata": {},
   "source": [
    "# Experiment 3 sample type"
   ]
  },
  {
   "cell_type": "code",
   "execution_count": 221,
   "metadata": {},
   "outputs": [
    {
     "data": {
      "text/html": [
       "<ol class=list-inline>\n",
       "\t<li>14</li>\n",
       "\t<li>65</li>\n",
       "\t<li>24</li>\n",
       "\t<li>35</li>\n",
       "\t<li>45</li>\n",
       "\t<li>&lt;NA&gt;</li>\n",
       "</ol>\n"
      ],
      "text/latex": [
       "\\begin{enumerate*}\n",
       "\\item 14\n",
       "\\item 65\n",
       "\\item 24\n",
       "\\item 35\n",
       "\\item 45\n",
       "\\item <NA>\n",
       "\\end{enumerate*}\n"
      ],
      "text/markdown": [
       "1. 14\n",
       "2. 65\n",
       "3. 24\n",
       "4. 35\n",
       "5. 45\n",
       "6. &lt;NA&gt;\n",
       "\n",
       "\n"
      ],
      "text/plain": [
       "[1] 14 65 24 35 45 NA"
      ]
     },
     "metadata": {},
     "output_type": "display_data"
    },
    {
     "data": {
      "text/html": [
       "<ol class=list-inline>\n",
       "\t<li>RH</li>\n",
       "\t<li>BP</li>\n",
       "\t<li>CS</li>\n",
       "\t<li>BS</li>\n",
       "\t<li>RT</li>\n",
       "\t<li>CH</li>\n",
       "\t<li>T0</li>\n",
       "\t<li>EB</li>\n",
       "\t<li>GV</li>\n",
       "\t<li>MK</li>\n",
       "</ol>\n",
       "\n",
       "<details>\n",
       "\t<summary style=display:list-item;cursor:pointer>\n",
       "\t\t<strong>Levels</strong>:\n",
       "\t</summary>\n",
       "\t<ol class=list-inline>\n",
       "\t\t<li>'BP'</li>\n",
       "\t\t<li>'BS'</li>\n",
       "\t\t<li>'CH'</li>\n",
       "\t\t<li>'CS'</li>\n",
       "\t\t<li>'EB'</li>\n",
       "\t\t<li>'GV'</li>\n",
       "\t\t<li>'MK'</li>\n",
       "\t\t<li>'RH'</li>\n",
       "\t\t<li>'RT'</li>\n",
       "\t\t<li>'T0'</li>\n",
       "\t</ol>\n",
       "</details>"
      ],
      "text/latex": [
       "\\begin{enumerate*}\n",
       "\\item RH\n",
       "\\item BP\n",
       "\\item CS\n",
       "\\item BS\n",
       "\\item RT\n",
       "\\item CH\n",
       "\\item T0\n",
       "\\item EB\n",
       "\\item GV\n",
       "\\item MK\n",
       "\\end{enumerate*}\n",
       "\n",
       "\\emph{Levels}: \\begin{enumerate*}\n",
       "\\item 'BP'\n",
       "\\item 'BS'\n",
       "\\item 'CH'\n",
       "\\item 'CS'\n",
       "\\item 'EB'\n",
       "\\item 'GV'\n",
       "\\item 'MK'\n",
       "\\item 'RH'\n",
       "\\item 'RT'\n",
       "\\item 'T0'\n",
       "\\end{enumerate*}\n"
      ],
      "text/markdown": [
       "1. RH\n",
       "2. BP\n",
       "3. CS\n",
       "4. BS\n",
       "5. RT\n",
       "6. CH\n",
       "7. T0\n",
       "8. EB\n",
       "9. GV\n",
       "10. MK\n",
       "\n",
       "\n",
       "\n",
       "**Levels**: 1. 'BP'\n",
       "2. 'BS'\n",
       "3. 'CH'\n",
       "4. 'CS'\n",
       "5. 'EB'\n",
       "6. 'GV'\n",
       "7. 'MK'\n",
       "8. 'RH'\n",
       "9. 'RT'\n",
       "10. 'T0'\n",
       "\n",
       "\n"
      ],
      "text/plain": [
       " [1] RH BP CS BS RT CH T0 EB GV MK\n",
       "Levels: BP BS CH CS EB GV MK RH RT T0"
      ]
     },
     "metadata": {},
     "output_type": "display_data"
    },
    {
     "data": {
      "text/html": [
       "<ol class=list-inline>\n",
       "\t<li>'Sample'</li>\n",
       "\t<li>'Experiment'</li>\n",
       "\t<li>'Plant'</li>\n",
       "\t<li>'Fungus'</li>\n",
       "\t<li>'Soil'</li>\n",
       "\t<li>'SampleType'</li>\n",
       "\t<li>'Treatment'</li>\n",
       "\t<li>'TimePoint'</li>\n",
       "\t<li>'DAI'</li>\n",
       "\t<li>'Rep'</li>\n",
       "\t<li>'Concentration_ng.ul'</li>\n",
       "</ol>\n"
      ],
      "text/latex": [
       "\\begin{enumerate*}\n",
       "\\item 'Sample'\n",
       "\\item 'Experiment'\n",
       "\\item 'Plant'\n",
       "\\item 'Fungus'\n",
       "\\item 'Soil'\n",
       "\\item 'SampleType'\n",
       "\\item 'Treatment'\n",
       "\\item 'TimePoint'\n",
       "\\item 'DAI'\n",
       "\\item 'Rep'\n",
       "\\item 'Concentration\\_ng.ul'\n",
       "\\end{enumerate*}\n"
      ],
      "text/markdown": [
       "1. 'Sample'\n",
       "2. 'Experiment'\n",
       "3. 'Plant'\n",
       "4. 'Fungus'\n",
       "5. 'Soil'\n",
       "6. 'SampleType'\n",
       "7. 'Treatment'\n",
       "8. 'TimePoint'\n",
       "9. 'DAI'\n",
       "10. 'Rep'\n",
       "11. 'Concentration_ng.ul'\n",
       "\n",
       "\n"
      ],
      "text/plain": [
       " [1] \"Sample\"              \"Experiment\"          \"Plant\"              \n",
       " [4] \"Fungus\"              \"Soil\"                \"SampleType\"         \n",
       " [7] \"Treatment\"           \"TimePoint\"           \"DAI\"                \n",
       "[10] \"Rep\"                 \"Concentration_ng.ul\""
      ]
     },
     "metadata": {},
     "output_type": "display_data"
    }
   ],
   "source": [
    "tmp = ps %>% subset_samples(Experiment == 3)\n",
    "sample_data(tmp)$DAI %>% unique\n",
    "sample_data(tmp)$SampleType %>% unique()\n",
    "colnames(sample_data(tmp))"
   ]
  },
  {
   "cell_type": "code",
   "execution_count": null,
   "metadata": {
    "scrolled": false
   },
   "outputs": [
    {
     "name": "stdout",
     "output_type": "stream",
     "text": [
      "[1] \"Lansing-Gv\"\n",
      "[1] 14\n",
      "[1] \"CH\" \"CS\"\n",
      "[1] \"CH_CS\"\n"
     ]
    },
    {
     "name": "stderr",
     "output_type": "stream",
     "text": [
      "converting counts to integer mode\n",
      "estimating size factors\n",
      "estimating dispersions\n",
      "gene-wise dispersion estimates: 20 workers\n",
      "mean-dispersion relationship\n",
      "final dispersion estimates, fitting model and testing: 20 workers\n"
     ]
    },
    {
     "name": "stdout",
     "output_type": "stream",
     "text": [
      "[1] \"CH\" \"BS\"\n",
      "[1] \"CH_BS\"\n"
     ]
    },
    {
     "name": "stderr",
     "output_type": "stream",
     "text": [
      "converting counts to integer mode\n",
      "estimating size factors\n",
      "estimating dispersions\n",
      "gene-wise dispersion estimates: 20 workers\n",
      "mean-dispersion relationship\n",
      "final dispersion estimates, fitting model and testing: 20 workers\n"
     ]
    },
    {
     "name": "stdout",
     "output_type": "stream",
     "text": [
      "[1] \"CH\" \"BP\"\n",
      "[1] \"CH_BP\"\n"
     ]
    },
    {
     "name": "stderr",
     "output_type": "stream",
     "text": [
      "converting counts to integer mode\n",
      "estimating size factors\n",
      "estimating dispersions\n",
      "gene-wise dispersion estimates: 20 workers\n",
      "mean-dispersion relationship\n",
      "final dispersion estimates, fitting model and testing: 20 workers\n"
     ]
    },
    {
     "name": "stdout",
     "output_type": "stream",
     "text": [
      "[1] \"RH\" \"RT\"\n",
      "[1] \"RH_RT\"\n"
     ]
    },
    {
     "name": "stderr",
     "output_type": "stream",
     "text": [
      "converting counts to integer mode\n",
      "estimating size factors\n",
      "estimating dispersions\n",
      "gene-wise dispersion estimates: 20 workers\n",
      "mean-dispersion relationship\n",
      "final dispersion estimates, fitting model and testing: 20 workers\n"
     ]
    },
    {
     "name": "stdout",
     "output_type": "stream",
     "text": [
      "[1] \"RH\" \"CS\"\n",
      "[1] \"RH_CS\"\n"
     ]
    },
    {
     "name": "stderr",
     "output_type": "stream",
     "text": [
      "converting counts to integer mode\n",
      "estimating size factors\n",
      "estimating dispersions\n",
      "gene-wise dispersion estimates: 20 workers\n",
      "mean-dispersion relationship\n",
      "final dispersion estimates, fitting model and testing: 20 workers\n"
     ]
    },
    {
     "name": "stdout",
     "output_type": "stream",
     "text": [
      "[1] \"BP\" \"CS\"\n",
      "[1] \"BP_CS\"\n"
     ]
    },
    {
     "name": "stderr",
     "output_type": "stream",
     "text": [
      "converting counts to integer mode\n",
      "estimating size factors\n",
      "estimating dispersions\n",
      "gene-wise dispersion estimates: 20 workers\n",
      "mean-dispersion relationship\n",
      "final dispersion estimates, fitting model and testing: 20 workers\n"
     ]
    },
    {
     "name": "stdout",
     "output_type": "stream",
     "text": [
      "[1] \"BP\" \"BS\"\n",
      "[1] \"BP_BS\"\n"
     ]
    },
    {
     "name": "stderr",
     "output_type": "stream",
     "text": [
      "converting counts to integer mode\n",
      "estimating size factors\n",
      "estimating dispersions\n",
      "gene-wise dispersion estimates: 20 workers\n",
      "mean-dispersion relationship\n",
      "final dispersion estimates, fitting model and testing: 20 workers\n"
     ]
    },
    {
     "name": "stdout",
     "output_type": "stream",
     "text": [
      "[1] 24\n",
      "[1] \"CH\" \"CS\"\n",
      "[1] \"CH_CS\"\n"
     ]
    },
    {
     "name": "stderr",
     "output_type": "stream",
     "text": [
      "converting counts to integer mode\n",
      "estimating size factors\n",
      "estimating dispersions\n",
      "gene-wise dispersion estimates: 20 workers\n",
      "mean-dispersion relationship\n",
      "final dispersion estimates, fitting model and testing: 20 workers\n"
     ]
    },
    {
     "name": "stdout",
     "output_type": "stream",
     "text": [
      "[1] \"CH\" \"BS\"\n",
      "[1] \"CH_BS\"\n"
     ]
    },
    {
     "name": "stderr",
     "output_type": "stream",
     "text": [
      "converting counts to integer mode\n",
      "estimating size factors\n",
      "estimating dispersions\n",
      "gene-wise dispersion estimates: 20 workers\n",
      "mean-dispersion relationship\n",
      "final dispersion estimates, fitting model and testing: 20 workers\n"
     ]
    },
    {
     "name": "stdout",
     "output_type": "stream",
     "text": [
      "[1] \"CH\" \"BP\"\n",
      "[1] \"CH_BP\"\n"
     ]
    },
    {
     "name": "stderr",
     "output_type": "stream",
     "text": [
      "converting counts to integer mode\n",
      "estimating size factors\n",
      "estimating dispersions\n",
      "gene-wise dispersion estimates: 20 workers\n",
      "mean-dispersion relationship\n",
      "final dispersion estimates, fitting model and testing: 20 workers\n"
     ]
    },
    {
     "name": "stdout",
     "output_type": "stream",
     "text": [
      "[1] \"RH\" \"RT\"\n",
      "[1] \"RH_RT\"\n"
     ]
    },
    {
     "name": "stderr",
     "output_type": "stream",
     "text": [
      "converting counts to integer mode\n",
      "estimating size factors\n",
      "estimating dispersions\n",
      "gene-wise dispersion estimates: 20 workers\n",
      "mean-dispersion relationship\n",
      "final dispersion estimates, fitting model and testing: 20 workers\n"
     ]
    },
    {
     "name": "stdout",
     "output_type": "stream",
     "text": [
      "[1] \"RH\" \"CS\"\n",
      "[1] \"RH_CS\"\n"
     ]
    },
    {
     "name": "stderr",
     "output_type": "stream",
     "text": [
      "converting counts to integer mode\n",
      "estimating size factors\n",
      "estimating dispersions\n",
      "gene-wise dispersion estimates: 20 workers\n",
      "mean-dispersion relationship\n",
      "final dispersion estimates, fitting model and testing: 20 workers\n"
     ]
    },
    {
     "name": "stdout",
     "output_type": "stream",
     "text": [
      "[1] \"BP\" \"CS\"\n",
      "[1] \"BP_CS\"\n"
     ]
    },
    {
     "name": "stderr",
     "output_type": "stream",
     "text": [
      "converting counts to integer mode\n",
      "estimating size factors\n",
      "estimating dispersions\n",
      "gene-wise dispersion estimates: 20 workers\n",
      "mean-dispersion relationship\n",
      "final dispersion estimates, fitting model and testing: 20 workers\n"
     ]
    },
    {
     "name": "stdout",
     "output_type": "stream",
     "text": [
      "[1] \"BP\" \"BS\"\n",
      "[1] \"BP_BS\"\n"
     ]
    },
    {
     "name": "stderr",
     "output_type": "stream",
     "text": [
      "converting counts to integer mode\n",
      "estimating size factors\n",
      "estimating dispersions\n",
      "gene-wise dispersion estimates: 20 workers\n",
      "mean-dispersion relationship\n",
      "final dispersion estimates, fitting model and testing: 20 workers\n"
     ]
    },
    {
     "name": "stdout",
     "output_type": "stream",
     "text": [
      "[1] 35\n",
      "[1] \"CH\" \"CS\"\n",
      "[1] \"CH_CS\"\n"
     ]
    },
    {
     "name": "stderr",
     "output_type": "stream",
     "text": [
      "converting counts to integer mode\n",
      "estimating size factors\n",
      "estimating dispersions\n",
      "gene-wise dispersion estimates: 20 workers\n",
      "mean-dispersion relationship\n",
      "final dispersion estimates, fitting model and testing: 20 workers\n"
     ]
    },
    {
     "name": "stdout",
     "output_type": "stream",
     "text": [
      "[1] \"CH\" \"BS\"\n",
      "[1] \"CH_BS\"\n"
     ]
    },
    {
     "name": "stderr",
     "output_type": "stream",
     "text": [
      "converting counts to integer mode\n",
      "estimating size factors\n",
      "estimating dispersions\n",
      "gene-wise dispersion estimates: 20 workers\n",
      "mean-dispersion relationship\n",
      "final dispersion estimates, fitting model and testing: 20 workers\n"
     ]
    },
    {
     "name": "stdout",
     "output_type": "stream",
     "text": [
      "[1] \"CH\" \"BP\"\n",
      "[1] \"CH_BP\"\n"
     ]
    },
    {
     "name": "stderr",
     "output_type": "stream",
     "text": [
      "converting counts to integer mode\n",
      "estimating size factors\n",
      "estimating dispersions\n",
      "gene-wise dispersion estimates: 20 workers\n",
      "mean-dispersion relationship\n",
      "final dispersion estimates, fitting model and testing: 20 workers\n"
     ]
    },
    {
     "name": "stdout",
     "output_type": "stream",
     "text": [
      "[1] \"RH\" \"RT\"\n",
      "[1] \"RH_RT\"\n"
     ]
    },
    {
     "name": "stderr",
     "output_type": "stream",
     "text": [
      "converting counts to integer mode\n",
      "estimating size factors\n",
      "estimating dispersions\n",
      "gene-wise dispersion estimates: 20 workers\n",
      "mean-dispersion relationship\n",
      "final dispersion estimates, fitting model and testing: 20 workers\n"
     ]
    },
    {
     "name": "stdout",
     "output_type": "stream",
     "text": [
      "[1] \"RH\" \"CS\"\n",
      "[1] \"RH_CS\"\n"
     ]
    },
    {
     "name": "stderr",
     "output_type": "stream",
     "text": [
      "converting counts to integer mode\n",
      "estimating size factors\n",
      "estimating dispersions\n",
      "gene-wise dispersion estimates: 20 workers\n",
      "mean-dispersion relationship\n",
      "final dispersion estimates, fitting model and testing: 20 workers\n"
     ]
    },
    {
     "name": "stdout",
     "output_type": "stream",
     "text": [
      "[1] \"BP\" \"CS\"\n",
      "[1] \"BP_CS\"\n"
     ]
    },
    {
     "name": "stderr",
     "output_type": "stream",
     "text": [
      "converting counts to integer mode\n",
      "estimating size factors\n",
      "estimating dispersions\n",
      "gene-wise dispersion estimates: 20 workers\n",
      "mean-dispersion relationship\n",
      "final dispersion estimates, fitting model and testing: 20 workers\n"
     ]
    }
   ],
   "source": [
    "sample_data(tmp)$SoilxFungus = paste(sample_data(tmp)$Soil, sample_data(tmp)$Fungus, sep = '-')\n",
    "sample_data(tmp)$Rep = factor(sample_data(tmp)$Rep)\n",
    "sample_data(tmp)$DAI = factor(sample_data(tmp)$DAI)\n",
    "df.l2fc = NULL\n",
    "\n",
    "Grouplist = c('Lansing-Gv')\n",
    "\n",
    "# Date 65 does not have root hyphae samples, so run in separate loop\n",
    "DateList = c(14, 24, 35, 45)\n",
    "# Contrasts for first for sampling dates\n",
    "ContrastList = list(c(\"CH\",\"CS\"), c(\"CH\", \"BS\"), c(\"CH\", \"BP\"), c(\"RH\", \"RT\"), c(\"RH\",\"CS\"), c(\"BP\", \"CS\"), c(\"BP\", \"BS\")) \n",
    "\n",
    "\n",
    "    for (i in Grouplist) {\n",
    "            print(i)\n",
    "        for (k in DateList) {\n",
    "                print(k)\n",
    "          for (j in ContrastList) { \n",
    "              print(j)\n",
    "                phy = subset_samples(tmp, SoilxFungus == i & SampleType %in% j & DAI == k)\n",
    "                diag\n",
    "                numerator = j[1]\n",
    "                denom<-j[2]\n",
    "                print(paste(numerator, denom, sep = \"_\"))\n",
    "                #make DESeq object\n",
    "                diagdds = phyloseq_to_deseq2(phy, ~ Rep + SampleType)\n",
    "                diagdds = DESeq(diagdds, fitType=\"local\", parallel = TRUE)\n",
    "#               for (k in (j+1):length(GenoList)) { # k = index of 2nd genotype\n",
    "#                 geno2<-GenoList[k]\n",
    "#               #  print(paste0(geno1,\".\",geno2)) # debugging line to make sure all pairwise comparisons are represented\n",
    "           # get log2 fold change between this pair of genotypes\n",
    "              r =  results(diagdds,contrast=c('SampleType',numerator,denom),parallel=TRUE) %>% as.data.frame %>% \n",
    "                    mutate(OTU=row.names(.),Subset = i, Term='SampleType',Contrast=paste0(numerator,'_',denom),DAI=k) \n",
    "             df.l2fc = rbind(df.l2fc, r)\n",
    "                     }\n",
    "            }\n",
    "          }\n",
    "\n",
    "\n",
    "\n",
    "# Date 65 does not have root hyphae samples, so run in separate loop\n",
    "DateList = 65\n",
    "# Contrast list for day 65\n",
    "ContrastList = list(c(\"CH\",\"CS\"), c(\"CH\", \"BS\"), c(\"CH\", \"BP\"), c(\"BP\", \"CS\"), c(\"BP\", \"BS\")) \n",
    "\n",
    "    for (i in Grouplist) {\n",
    "            print(i)\n",
    "        for (k in DateList) {\n",
    "                print(k)\n",
    "          for (j in ContrastList) { \n",
    "              print(j)\n",
    "                phy = subset_samples(tmp, SoilxFungus == i & SampleType %in% j & DAI == k)\n",
    "                numerator = j[1]\n",
    "                denom<-j[2]\n",
    "                print(paste(numerator, denom, sep = \"_\"))\n",
    "                #make DESeq object\n",
    "                diagdds = phyloseq_to_deseq2(phy, ~ Rep + SampleType)\n",
    "                diagdds = DESeq(diagdds, fitType=\"local\", parallel = TRUE)\n",
    "#               for (k in (j+1):length(GenoList)) { # k = index of 2nd genotype\n",
    "#                 geno2<-GenoList[k]\n",
    "#               #  print(paste0(geno1,\".\",geno2)) # debugging line to make sure all pairwise comparisons are represented\n",
    "           # get log2 fold change between this pair of genotypes\n",
    "              r =  results(diagdds,contrast=c('SampleType',numerator,denom),parallel=TRUE) %>% as.data.frame %>% \n",
    "                    mutate(OTU=row.names(.),Subset = i, Term='SampleType',Contrast=paste0(numerator,'_',denom),DAI=k) \n",
    "             df.l2fc = rbind(df.l2fc, r)\n",
    "                     }\n",
    "            }\n",
    "          }\n",
    "\n",
    "df.l2fc.Exp3 = df.l2fc\n",
    "# #cleanup\n",
    "diagdds = NULL\n",
    "df.l2fc = NULL\n",
    "r = NULL"
   ]
  },
  {
   "cell_type": "code",
   "execution_count": null,
   "metadata": {
    "scrolled": true
   },
   "outputs": [],
   "source": [
    "out = df.l2fc.Exp3  %>% left_join(., taxa, by = c(\"OTU\" = \"ASV\"))\n",
    "out$Experiment = 3\n",
    "head(out)\n",
    "outfile = file.path(work_dir, 'dfl2fc-Exp3.txt')"
   ]
  },
  {
   "cell_type": "code",
   "execution_count": null,
   "metadata": {},
   "outputs": [],
   "source": [
    "write.table(out, file = outfile, row.names = FALSE, sep = '\\t')"
   ]
  },
  {
   "cell_type": "markdown",
   "metadata": {},
   "source": [
    "# Experiment 3 time"
   ]
  },
  {
   "cell_type": "code",
   "execution_count": 209,
   "metadata": {},
   "outputs": [
    {
     "data": {
      "text/html": [
       "<ol class=list-inline>\n",
       "\t<li>14</li>\n",
       "\t<li>65</li>\n",
       "\t<li>24</li>\n",
       "\t<li>35</li>\n",
       "\t<li>45</li>\n",
       "\t<li>&lt;NA&gt;</li>\n",
       "</ol>\n"
      ],
      "text/latex": [
       "\\begin{enumerate*}\n",
       "\\item 14\n",
       "\\item 65\n",
       "\\item 24\n",
       "\\item 35\n",
       "\\item 45\n",
       "\\item <NA>\n",
       "\\end{enumerate*}\n"
      ],
      "text/markdown": [
       "1. 14\n",
       "2. 65\n",
       "3. 24\n",
       "4. 35\n",
       "5. 45\n",
       "6. &lt;NA&gt;\n",
       "\n",
       "\n"
      ],
      "text/plain": [
       "[1] 14 65 24 35 45 NA"
      ]
     },
     "metadata": {},
     "output_type": "display_data"
    },
    {
     "data": {
      "text/html": [
       "<ol class=list-inline>\n",
       "\t<li>RH</li>\n",
       "\t<li>BP</li>\n",
       "\t<li>CS</li>\n",
       "\t<li>BS</li>\n",
       "\t<li>RT</li>\n",
       "\t<li>CH</li>\n",
       "\t<li>T0</li>\n",
       "\t<li>EB</li>\n",
       "\t<li>GV</li>\n",
       "\t<li>MK</li>\n",
       "</ol>\n",
       "\n",
       "<details>\n",
       "\t<summary style=display:list-item;cursor:pointer>\n",
       "\t\t<strong>Levels</strong>:\n",
       "\t</summary>\n",
       "\t<ol class=list-inline>\n",
       "\t\t<li>'BP'</li>\n",
       "\t\t<li>'BS'</li>\n",
       "\t\t<li>'CH'</li>\n",
       "\t\t<li>'CS'</li>\n",
       "\t\t<li>'EB'</li>\n",
       "\t\t<li>'GV'</li>\n",
       "\t\t<li>'MK'</li>\n",
       "\t\t<li>'RH'</li>\n",
       "\t\t<li>'RT'</li>\n",
       "\t\t<li>'T0'</li>\n",
       "\t</ol>\n",
       "</details>"
      ],
      "text/latex": [
       "\\begin{enumerate*}\n",
       "\\item RH\n",
       "\\item BP\n",
       "\\item CS\n",
       "\\item BS\n",
       "\\item RT\n",
       "\\item CH\n",
       "\\item T0\n",
       "\\item EB\n",
       "\\item GV\n",
       "\\item MK\n",
       "\\end{enumerate*}\n",
       "\n",
       "\\emph{Levels}: \\begin{enumerate*}\n",
       "\\item 'BP'\n",
       "\\item 'BS'\n",
       "\\item 'CH'\n",
       "\\item 'CS'\n",
       "\\item 'EB'\n",
       "\\item 'GV'\n",
       "\\item 'MK'\n",
       "\\item 'RH'\n",
       "\\item 'RT'\n",
       "\\item 'T0'\n",
       "\\end{enumerate*}\n"
      ],
      "text/markdown": [
       "1. RH\n",
       "2. BP\n",
       "3. CS\n",
       "4. BS\n",
       "5. RT\n",
       "6. CH\n",
       "7. T0\n",
       "8. EB\n",
       "9. GV\n",
       "10. MK\n",
       "\n",
       "\n",
       "\n",
       "**Levels**: 1. 'BP'\n",
       "2. 'BS'\n",
       "3. 'CH'\n",
       "4. 'CS'\n",
       "5. 'EB'\n",
       "6. 'GV'\n",
       "7. 'MK'\n",
       "8. 'RH'\n",
       "9. 'RT'\n",
       "10. 'T0'\n",
       "\n",
       "\n"
      ],
      "text/plain": [
       " [1] RH BP CS BS RT CH T0 EB GV MK\n",
       "Levels: BP BS CH CS EB GV MK RH RT T0"
      ]
     },
     "metadata": {},
     "output_type": "display_data"
    },
    {
     "data": {
      "text/html": [
       "<ol class=list-inline>\n",
       "\t<li>'Sample'</li>\n",
       "\t<li>'Experiment'</li>\n",
       "\t<li>'Plant'</li>\n",
       "\t<li>'Fungus'</li>\n",
       "\t<li>'Soil'</li>\n",
       "\t<li>'SampleType'</li>\n",
       "\t<li>'Treatment'</li>\n",
       "\t<li>'TimePoint'</li>\n",
       "\t<li>'DAI'</li>\n",
       "\t<li>'Rep'</li>\n",
       "\t<li>'Concentration_ng.ul'</li>\n",
       "</ol>\n"
      ],
      "text/latex": [
       "\\begin{enumerate*}\n",
       "\\item 'Sample'\n",
       "\\item 'Experiment'\n",
       "\\item 'Plant'\n",
       "\\item 'Fungus'\n",
       "\\item 'Soil'\n",
       "\\item 'SampleType'\n",
       "\\item 'Treatment'\n",
       "\\item 'TimePoint'\n",
       "\\item 'DAI'\n",
       "\\item 'Rep'\n",
       "\\item 'Concentration\\_ng.ul'\n",
       "\\end{enumerate*}\n"
      ],
      "text/markdown": [
       "1. 'Sample'\n",
       "2. 'Experiment'\n",
       "3. 'Plant'\n",
       "4. 'Fungus'\n",
       "5. 'Soil'\n",
       "6. 'SampleType'\n",
       "7. 'Treatment'\n",
       "8. 'TimePoint'\n",
       "9. 'DAI'\n",
       "10. 'Rep'\n",
       "11. 'Concentration_ng.ul'\n",
       "\n",
       "\n"
      ],
      "text/plain": [
       " [1] \"Sample\"              \"Experiment\"          \"Plant\"              \n",
       " [4] \"Fungus\"              \"Soil\"                \"SampleType\"         \n",
       " [7] \"Treatment\"           \"TimePoint\"           \"DAI\"                \n",
       "[10] \"Rep\"                 \"Concentration_ng.ul\""
      ]
     },
     "metadata": {},
     "output_type": "display_data"
    }
   ],
   "source": [
    "tmp = ps %>% subset_samples(Experiment == 3)\n",
    "sample_data(tmp)$DAI %>% unique\n",
    "sample_data(tmp)$SampleType %>% unique()\n",
    "colnames(sample_data(tmp))"
   ]
  },
  {
   "cell_type": "code",
   "execution_count": 220,
   "metadata": {
    "scrolled": true
   },
   "outputs": [
    {
     "name": "stdout",
     "output_type": "stream",
     "text": [
      "[1] \"BS\"\n",
      "[1] \"24\" \"14\"\n",
      "[1] \"24_14\"\n"
     ]
    },
    {
     "name": "stderr",
     "output_type": "stream",
     "text": [
      "converting counts to integer mode\n",
      "estimating size factors\n",
      "estimating dispersions\n",
      "gene-wise dispersion estimates: 20 workers\n",
      "mean-dispersion relationship\n",
      "final dispersion estimates, fitting model and testing: 20 workers\n"
     ]
    },
    {
     "name": "stdout",
     "output_type": "stream",
     "text": [
      "[1] \"35\" \"14\"\n",
      "[1] \"35_14\"\n"
     ]
    },
    {
     "name": "stderr",
     "output_type": "stream",
     "text": [
      "converting counts to integer mode\n",
      "estimating size factors\n",
      "estimating dispersions\n",
      "gene-wise dispersion estimates: 20 workers\n",
      "mean-dispersion relationship\n",
      "final dispersion estimates, fitting model and testing: 20 workers\n"
     ]
    },
    {
     "name": "stdout",
     "output_type": "stream",
     "text": [
      "[1] \"45\" \"14\"\n",
      "[1] \"45_14\"\n"
     ]
    },
    {
     "name": "stderr",
     "output_type": "stream",
     "text": [
      "converting counts to integer mode\n",
      "estimating size factors\n",
      "estimating dispersions\n",
      "gene-wise dispersion estimates: 20 workers\n",
      "mean-dispersion relationship\n",
      "final dispersion estimates, fitting model and testing: 20 workers\n"
     ]
    },
    {
     "name": "stdout",
     "output_type": "stream",
     "text": [
      "[1] \"65\" \"14\"\n",
      "[1] \"65_14\"\n"
     ]
    },
    {
     "name": "stderr",
     "output_type": "stream",
     "text": [
      "converting counts to integer mode\n",
      "estimating size factors\n",
      "estimating dispersions\n",
      "gene-wise dispersion estimates: 20 workers\n",
      "mean-dispersion relationship\n",
      "final dispersion estimates, fitting model and testing: 20 workers\n"
     ]
    },
    {
     "name": "stdout",
     "output_type": "stream",
     "text": [
      "[1] \"CS\"\n",
      "[1] \"24\" \"14\"\n",
      "[1] \"24_14\"\n"
     ]
    },
    {
     "name": "stderr",
     "output_type": "stream",
     "text": [
      "converting counts to integer mode\n",
      "estimating size factors\n",
      "estimating dispersions\n",
      "gene-wise dispersion estimates: 20 workers\n",
      "mean-dispersion relationship\n",
      "final dispersion estimates, fitting model and testing: 20 workers\n"
     ]
    },
    {
     "name": "stdout",
     "output_type": "stream",
     "text": [
      "[1] \"35\" \"14\"\n",
      "[1] \"35_14\"\n"
     ]
    },
    {
     "name": "stderr",
     "output_type": "stream",
     "text": [
      "converting counts to integer mode\n",
      "estimating size factors\n",
      "estimating dispersions\n",
      "gene-wise dispersion estimates: 20 workers\n",
      "mean-dispersion relationship\n",
      "final dispersion estimates, fitting model and testing: 20 workers\n"
     ]
    },
    {
     "name": "stdout",
     "output_type": "stream",
     "text": [
      "[1] \"45\" \"14\"\n",
      "[1] \"45_14\"\n"
     ]
    },
    {
     "name": "stderr",
     "output_type": "stream",
     "text": [
      "converting counts to integer mode\n",
      "estimating size factors\n",
      "estimating dispersions\n",
      "gene-wise dispersion estimates: 20 workers\n",
      "mean-dispersion relationship\n",
      "final dispersion estimates, fitting model and testing: 20 workers\n"
     ]
    },
    {
     "name": "stdout",
     "output_type": "stream",
     "text": [
      "[1] \"65\" \"14\"\n",
      "[1] \"65_14\"\n"
     ]
    },
    {
     "name": "stderr",
     "output_type": "stream",
     "text": [
      "converting counts to integer mode\n",
      "estimating size factors\n",
      "estimating dispersions\n",
      "gene-wise dispersion estimates: 20 workers\n",
      "mean-dispersion relationship\n",
      "final dispersion estimates, fitting model and testing: 20 workers\n"
     ]
    },
    {
     "name": "stdout",
     "output_type": "stream",
     "text": [
      "[1] \"RH\"\n",
      "[1] \"24\" \"14\"\n",
      "[1] \"24_14\"\n"
     ]
    },
    {
     "name": "stderr",
     "output_type": "stream",
     "text": [
      "converting counts to integer mode\n",
      "estimating size factors\n",
      "estimating dispersions\n",
      "gene-wise dispersion estimates: 20 workers\n",
      "mean-dispersion relationship\n",
      "final dispersion estimates, fitting model and testing: 20 workers\n"
     ]
    },
    {
     "name": "stdout",
     "output_type": "stream",
     "text": [
      "[1] \"35\" \"14\"\n",
      "[1] \"35_14\"\n"
     ]
    },
    {
     "name": "stderr",
     "output_type": "stream",
     "text": [
      "converting counts to integer mode\n",
      "estimating size factors\n",
      "estimating dispersions\n",
      "gene-wise dispersion estimates: 20 workers\n",
      "mean-dispersion relationship\n",
      "final dispersion estimates, fitting model and testing: 20 workers\n"
     ]
    },
    {
     "name": "stdout",
     "output_type": "stream",
     "text": [
      "[1] \"45\" \"14\"\n",
      "[1] \"45_14\"\n"
     ]
    },
    {
     "name": "stderr",
     "output_type": "stream",
     "text": [
      "converting counts to integer mode\n",
      "estimating size factors\n",
      "estimating dispersions\n",
      "gene-wise dispersion estimates: 20 workers\n",
      "mean-dispersion relationship\n",
      "final dispersion estimates, fitting model and testing: 20 workers\n"
     ]
    },
    {
     "name": "stdout",
     "output_type": "stream",
     "text": [
      "[1] \"65\" \"14\"\n",
      "[1] \"65_14\"\n"
     ]
    },
    {
     "name": "stderr",
     "output_type": "stream",
     "text": [
      "converting counts to integer mode\n",
      "estimating size factors\n",
      "estimating dispersions\n",
      "gene-wise dispersion estimates: 20 workers\n",
      "mean-dispersion relationship\n",
      "final dispersion estimates, fitting model and testing: 20 workers\n"
     ]
    },
    {
     "name": "stdout",
     "output_type": "stream",
     "text": [
      "[1] \"CH\"\n",
      "[1] \"24\" \"14\"\n",
      "[1] \"24_14\"\n"
     ]
    },
    {
     "name": "stderr",
     "output_type": "stream",
     "text": [
      "converting counts to integer mode\n",
      "estimating size factors\n",
      "estimating dispersions\n",
      "gene-wise dispersion estimates: 20 workers\n",
      "mean-dispersion relationship\n",
      "final dispersion estimates, fitting model and testing: 20 workers\n"
     ]
    },
    {
     "name": "stdout",
     "output_type": "stream",
     "text": [
      "[1] \"35\" \"14\"\n",
      "[1] \"35_14\"\n"
     ]
    },
    {
     "name": "stderr",
     "output_type": "stream",
     "text": [
      "converting counts to integer mode\n",
      "estimating size factors\n",
      "estimating dispersions\n",
      "gene-wise dispersion estimates: 20 workers\n",
      "mean-dispersion relationship\n",
      "final dispersion estimates, fitting model and testing: 20 workers\n"
     ]
    },
    {
     "name": "stdout",
     "output_type": "stream",
     "text": [
      "[1] \"45\" \"14\"\n",
      "[1] \"45_14\"\n"
     ]
    },
    {
     "name": "stderr",
     "output_type": "stream",
     "text": [
      "converting counts to integer mode\n",
      "estimating size factors\n",
      "estimating dispersions\n",
      "gene-wise dispersion estimates: 20 workers\n",
      "mean-dispersion relationship\n",
      "final dispersion estimates, fitting model and testing: 20 workers\n"
     ]
    },
    {
     "name": "stdout",
     "output_type": "stream",
     "text": [
      "[1] \"65\" \"14\"\n",
      "[1] \"65_14\"\n"
     ]
    },
    {
     "name": "stderr",
     "output_type": "stream",
     "text": [
      "converting counts to integer mode\n",
      "estimating size factors\n",
      "estimating dispersions\n",
      "gene-wise dispersion estimates: 20 workers\n",
      "mean-dispersion relationship\n",
      "final dispersion estimates, fitting model and testing: 20 workers\n"
     ]
    },
    {
     "name": "stdout",
     "output_type": "stream",
     "text": [
      "[1] \"BP\"\n",
      "[1] \"24\" \"14\"\n",
      "[1] \"24_14\"\n"
     ]
    },
    {
     "name": "stderr",
     "output_type": "stream",
     "text": [
      "converting counts to integer mode\n",
      "estimating size factors\n",
      "estimating dispersions\n",
      "gene-wise dispersion estimates: 20 workers\n",
      "mean-dispersion relationship\n",
      "final dispersion estimates, fitting model and testing: 20 workers\n"
     ]
    },
    {
     "name": "stdout",
     "output_type": "stream",
     "text": [
      "[1] \"35\" \"14\"\n",
      "[1] \"35_14\"\n"
     ]
    },
    {
     "name": "stderr",
     "output_type": "stream",
     "text": [
      "converting counts to integer mode\n",
      "estimating size factors\n",
      "estimating dispersions\n",
      "gene-wise dispersion estimates: 20 workers\n",
      "mean-dispersion relationship\n",
      "final dispersion estimates, fitting model and testing: 20 workers\n"
     ]
    },
    {
     "name": "stdout",
     "output_type": "stream",
     "text": [
      "[1] \"45\" \"14\"\n",
      "[1] \"45_14\"\n"
     ]
    },
    {
     "name": "stderr",
     "output_type": "stream",
     "text": [
      "converting counts to integer mode\n",
      "estimating size factors\n",
      "estimating dispersions\n",
      "gene-wise dispersion estimates: 20 workers\n",
      "mean-dispersion relationship\n",
      "final dispersion estimates, fitting model and testing: 20 workers\n"
     ]
    },
    {
     "name": "stdout",
     "output_type": "stream",
     "text": [
      "[1] \"65\" \"14\"\n",
      "[1] \"65_14\"\n"
     ]
    },
    {
     "name": "stderr",
     "output_type": "stream",
     "text": [
      "converting counts to integer mode\n",
      "estimating size factors\n",
      "estimating dispersions\n",
      "gene-wise dispersion estimates: 20 workers\n",
      "mean-dispersion relationship\n",
      "final dispersion estimates, fitting model and testing: 20 workers\n"
     ]
    }
   ],
   "source": [
    "sample_data(tmp)$SoilxFungus = paste(sample_data(tmp)$Soil, sample_data(tmp)$Fungus, sep = '-')\n",
    "sample_data(tmp)$Rep = factor(sample_data(tmp)$Rep)\n",
    "sample_data(tmp)$DAI = factor(sample_data(tmp)$DAI)\n",
    "df.l2fc = NULL\n",
    "\n",
    "Grouplist = c(\"BS\", \"CS\", \"RH\", \"CH\", \"BP\")\n",
    "\n",
    "# Date 65 does not have root hyphae samples, so run in separate loop\n",
    "#DateList = c(14, 24, 35, 45)\n",
    "# Contrasts for first for sampling dates\n",
    "ContrastList = list(c(\"24\",\"14\"), c(\"35\",\"14\"), c(\"45\",\"14\"), c(\"65\",\"14\")) \n",
    "\n",
    "\n",
    "    for (i in Grouplist) {\n",
    "            print(i)\n",
    "          for (j in ContrastList) { \n",
    "              print(j)\n",
    "    phy = subset_samples(tmp, SampleType == i & DAI %in% j )\n",
    "                numerator = j[1]\n",
    "                denom<-j[2]\n",
    "                print(paste(numerator, denom, sep = \"_\"))\n",
    "                #make DESeq object\n",
    "                diagdds = phyloseq_to_deseq2(phy, ~ Rep + DAI)\n",
    "                diagdds = DESeq(diagdds, fitType=\"local\", parallel = TRUE)\n",
    "#               for (k in (j+1):length(GenoList)) { # k = index of 2nd genotype\n",
    "#                 geno2<-GenoList[k]\n",
    "#               #  print(paste0(geno1,\".\",geno2)) # debugging line to make sure all pairwise comparisons are represented\n",
    "           # get log2 fold change between this pair of genotypes\n",
    "              r =  results(diagdds,contrast=c('DAI',numerator,denom),parallel=TRUE) %>% as.data.frame %>% \n",
    "                    mutate(OTU=row.names(.),Subset = \"Lansing-Gv\", SampleType = i, Term='TimePoint',Contrast=paste0(numerator,'_',denom)) \n",
    "             df.l2fc = rbind(df.l2fc, r)\n",
    "            }\n",
    "         } \n",
    "\n",
    "\n",
    "\n",
    "\n",
    "df.l2fc.Exp3.time = df.l2fc\n",
    "# #cleanup\n",
    "diagdds = NULL\n",
    "df.l2fc = NULL\n",
    "r = NULL"
   ]
  },
  {
   "cell_type": "code",
   "execution_count": null,
   "metadata": {},
   "outputs": [],
   "source": [
    "out = df.l2fc.Exp3.time  %>% left_join(., taxa, by = c(\"OTU\" = \"ASV\"))\n",
    "out$Experiment = 3\n",
    "head(out)\n",
    "outfile = file.path(work_dir, 'dfl2fc-Exp3-time.txt')"
   ]
  },
  {
   "cell_type": "code",
   "execution_count": null,
   "metadata": {},
   "outputs": [],
   "source": [
    "write.table(out, file = outfile, row.names = FALSE, sep = '\\t')"
   ]
  },
  {
   "cell_type": "markdown",
   "metadata": {},
   "source": [
    "# Checkpoint\n",
    "read back in log2foldchange files"
   ]
  },
  {
   "cell_type": "code",
   "execution_count": 203,
   "metadata": {},
   "outputs": [
    {
     "data": {
      "text/html": [
       "<table>\n",
       "<thead><tr><th scope=col>baseMean</th><th scope=col>log2FoldChange</th><th scope=col>lfcSE</th><th scope=col>stat</th><th scope=col>pvalue</th><th scope=col>padj</th><th scope=col>OTU</th><th scope=col>Subset</th><th scope=col>Term</th><th scope=col>Contrast</th><th scope=col>DAI</th><th scope=col>Kingdom</th><th scope=col>Phylum</th><th scope=col>Class</th><th scope=col>Order</th><th scope=col>Family</th><th scope=col>Genus</th><th scope=col>Experiment</th></tr></thead>\n",
       "<tbody>\n",
       "\t<tr><td>331.72029            </td><td>-2.716566            </td><td>0.5217389            </td><td>-5.206754            </td><td>1.921730e-07         </td><td>1.885675e-05         </td><td>ASV5                 </td><td>Lansing-Gv           </td><td>SampleType           </td><td>CH_CS                </td><td>81                   </td><td>Bacteria             </td><td>Actinobacteria       </td><td>Actinobacteria       </td><td>Micrococcales        </td><td>Micrococcaceae       </td><td>Pseudarthrobacter    </td><td>1                    </td></tr>\n",
       "\t<tr><td>136.95264            </td><td> 4.977612            </td><td>1.1905977            </td><td> 4.180767            </td><td>2.905274e-05         </td><td>1.192425e-03         </td><td>ASV6                 </td><td>Lansing-Gv           </td><td>SampleType           </td><td>CH_CS                </td><td>81                   </td><td>Bacteria             </td><td>Proteobacteria       </td><td>Gammaproteobacteria  </td><td>Cellvibrionales      </td><td>Cellvibrionaceae     </td><td>Cellvibrio           </td><td>1                    </td></tr>\n",
       "\t<tr><td>  0.00000            </td><td>       NA            </td><td>       NA            </td><td>       NA            </td><td>          NA         </td><td>          NA         </td><td>ASV8                 </td><td>Lansing-Gv           </td><td>SampleType           </td><td>CH_CS                </td><td>81                   </td><td>Bacteria             </td><td>Proteobacteria       </td><td>Alphaproteobacteria  </td><td>Caulobacterales      </td><td>Caulobacteraceae     </td><td>Asticcacaulis        </td><td>1                    </td></tr>\n",
       "\t<tr><td>  0.00000            </td><td>       NA            </td><td>       NA            </td><td>       NA            </td><td>          NA         </td><td>          NA         </td><td>ASV13                </td><td>Lansing-Gv           </td><td>SampleType           </td><td>CH_CS                </td><td>81                   </td><td>Bacteria             </td><td>Proteobacteria       </td><td>Gammaproteobacteria  </td><td>Xanthomonadales      </td><td>Xanthomonadaceae     </td><td>Luteimonas           </td><td>1                    </td></tr>\n",
       "\t<tr><td> 26.70389            </td><td> 8.430000            </td><td>1.7857267            </td><td> 4.720767            </td><td>2.349571e-06         </td><td>1.478663e-04         </td><td>ASV14                </td><td>Lansing-Gv           </td><td>SampleType           </td><td>CH_CS                </td><td>81                   </td><td>Bacteria             </td><td>Proteobacteria       </td><td>Deltaproteobacteria  </td><td>Myxococcales         </td><td>Sandaracinaceae      </td><td>NA                   </td><td>1                    </td></tr>\n",
       "\t<tr><td>  0.00000            </td><td>       NA            </td><td>       NA            </td><td>       NA            </td><td>          NA         </td><td>          NA         </td><td>ASV15                </td><td>Lansing-Gv           </td><td>SampleType           </td><td>CH_CS                </td><td>81                   </td><td>Bacteria             </td><td>Proteobacteria       </td><td>Gammaproteobacteria  </td><td>Betaproteobacteriales</td><td>Burkholderiaceae     </td><td>NA                   </td><td>1                    </td></tr>\n",
       "</tbody>\n",
       "</table>\n"
      ],
      "text/latex": [
       "\\begin{tabular}{r|llllllllllllllllll}\n",
       " baseMean & log2FoldChange & lfcSE & stat & pvalue & padj & OTU & Subset & Term & Contrast & DAI & Kingdom & Phylum & Class & Order & Family & Genus & Experiment\\\\\n",
       "\\hline\n",
       "\t 331.72029             & -2.716566             & 0.5217389             & -5.206754             & 1.921730e-07          & 1.885675e-05          & ASV5                  & Lansing-Gv            & SampleType            & CH\\_CS               & 81                    & Bacteria              & Actinobacteria        & Actinobacteria        & Micrococcales         & Micrococcaceae        & Pseudarthrobacter     & 1                    \\\\\n",
       "\t 136.95264             &  4.977612             & 1.1905977             &  4.180767             & 2.905274e-05          & 1.192425e-03          & ASV6                  & Lansing-Gv            & SampleType            & CH\\_CS               & 81                    & Bacteria              & Proteobacteria        & Gammaproteobacteria   & Cellvibrionales       & Cellvibrionaceae      & Cellvibrio            & 1                    \\\\\n",
       "\t   0.00000             &        NA             &        NA             &        NA             &           NA          &           NA          & ASV8                  & Lansing-Gv            & SampleType            & CH\\_CS               & 81                    & Bacteria              & Proteobacteria        & Alphaproteobacteria   & Caulobacterales       & Caulobacteraceae      & Asticcacaulis         & 1                    \\\\\n",
       "\t   0.00000             &        NA             &        NA             &        NA             &           NA          &           NA          & ASV13                 & Lansing-Gv            & SampleType            & CH\\_CS               & 81                    & Bacteria              & Proteobacteria        & Gammaproteobacteria   & Xanthomonadales       & Xanthomonadaceae      & Luteimonas            & 1                    \\\\\n",
       "\t  26.70389             &  8.430000             & 1.7857267             &  4.720767             & 2.349571e-06          & 1.478663e-04          & ASV14                 & Lansing-Gv            & SampleType            & CH\\_CS               & 81                    & Bacteria              & Proteobacteria        & Deltaproteobacteria   & Myxococcales          & Sandaracinaceae       & NA                    & 1                    \\\\\n",
       "\t   0.00000             &        NA             &        NA             &        NA             &           NA          &           NA          & ASV15                 & Lansing-Gv            & SampleType            & CH\\_CS               & 81                    & Bacteria              & Proteobacteria        & Gammaproteobacteria   & Betaproteobacteriales & Burkholderiaceae      & NA                    & 1                    \\\\\n",
       "\\end{tabular}\n"
      ],
      "text/markdown": [
       "\n",
       "baseMean | log2FoldChange | lfcSE | stat | pvalue | padj | OTU | Subset | Term | Contrast | DAI | Kingdom | Phylum | Class | Order | Family | Genus | Experiment | \n",
       "|---|---|---|---|---|---|\n",
       "| 331.72029             | -2.716566             | 0.5217389             | -5.206754             | 1.921730e-07          | 1.885675e-05          | ASV5                  | Lansing-Gv            | SampleType            | CH_CS                 | 81                    | Bacteria              | Actinobacteria        | Actinobacteria        | Micrococcales         | Micrococcaceae        | Pseudarthrobacter     | 1                     | \n",
       "| 136.95264             |  4.977612             | 1.1905977             |  4.180767             | 2.905274e-05          | 1.192425e-03          | ASV6                  | Lansing-Gv            | SampleType            | CH_CS                 | 81                    | Bacteria              | Proteobacteria        | Gammaproteobacteria   | Cellvibrionales       | Cellvibrionaceae      | Cellvibrio            | 1                     | \n",
       "|   0.00000             |        NA             |        NA             |        NA             |           NA          |           NA          | ASV8                  | Lansing-Gv            | SampleType            | CH_CS                 | 81                    | Bacteria              | Proteobacteria        | Alphaproteobacteria   | Caulobacterales       | Caulobacteraceae      | Asticcacaulis         | 1                     | \n",
       "|   0.00000             |        NA             |        NA             |        NA             |           NA          |           NA          | ASV13                 | Lansing-Gv            | SampleType            | CH_CS                 | 81                    | Bacteria              | Proteobacteria        | Gammaproteobacteria   | Xanthomonadales       | Xanthomonadaceae      | Luteimonas            | 1                     | \n",
       "|  26.70389             |  8.430000             | 1.7857267             |  4.720767             | 2.349571e-06          | 1.478663e-04          | ASV14                 | Lansing-Gv            | SampleType            | CH_CS                 | 81                    | Bacteria              | Proteobacteria        | Deltaproteobacteria   | Myxococcales          | Sandaracinaceae       | NA                    | 1                     | \n",
       "|   0.00000             |        NA             |        NA             |        NA             |           NA          |           NA          | ASV15                 | Lansing-Gv            | SampleType            | CH_CS                 | 81                    | Bacteria              | Proteobacteria        | Gammaproteobacteria   | Betaproteobacteriales | Burkholderiaceae      | NA                    | 1                     | \n",
       "\n",
       "\n"
      ],
      "text/plain": [
       "  baseMean  log2FoldChange lfcSE     stat      pvalue       padj         OTU  \n",
       "1 331.72029 -2.716566      0.5217389 -5.206754 1.921730e-07 1.885675e-05 ASV5 \n",
       "2 136.95264  4.977612      1.1905977  4.180767 2.905274e-05 1.192425e-03 ASV6 \n",
       "3   0.00000        NA             NA        NA           NA           NA ASV8 \n",
       "4   0.00000        NA             NA        NA           NA           NA ASV13\n",
       "5  26.70389  8.430000      1.7857267  4.720767 2.349571e-06 1.478663e-04 ASV14\n",
       "6   0.00000        NA             NA        NA           NA           NA ASV15\n",
       "  Subset     Term       Contrast DAI Kingdom  Phylum        \n",
       "1 Lansing-Gv SampleType CH_CS    81  Bacteria Actinobacteria\n",
       "2 Lansing-Gv SampleType CH_CS    81  Bacteria Proteobacteria\n",
       "3 Lansing-Gv SampleType CH_CS    81  Bacteria Proteobacteria\n",
       "4 Lansing-Gv SampleType CH_CS    81  Bacteria Proteobacteria\n",
       "5 Lansing-Gv SampleType CH_CS    81  Bacteria Proteobacteria\n",
       "6 Lansing-Gv SampleType CH_CS    81  Bacteria Proteobacteria\n",
       "  Class               Order                 Family           Genus            \n",
       "1 Actinobacteria      Micrococcales         Micrococcaceae   Pseudarthrobacter\n",
       "2 Gammaproteobacteria Cellvibrionales       Cellvibrionaceae Cellvibrio       \n",
       "3 Alphaproteobacteria Caulobacterales       Caulobacteraceae Asticcacaulis    \n",
       "4 Gammaproteobacteria Xanthomonadales       Xanthomonadaceae Luteimonas       \n",
       "5 Deltaproteobacteria Myxococcales          Sandaracinaceae  NA               \n",
       "6 Gammaproteobacteria Betaproteobacteriales Burkholderiaceae NA               \n",
       "  Experiment\n",
       "1 1         \n",
       "2 1         \n",
       "3 1         \n",
       "4 1         \n",
       "5 1         \n",
       "6 1         "
      ]
     },
     "metadata": {},
     "output_type": "display_data"
    }
   ],
   "source": [
    "readfile = file.path(work_dir, 'dfl2fc-Exp1.txt')\n",
    "df.l2fc.Exp1 = read.table(readfile, header = TRUE, sep= '\\t')\n",
    "\n",
    "readfile = file.path(work_dir, 'dfl2fc-Exp2.txt')\n",
    "df.l2fc.Exp2 = read.table(readfile, header = TRUE, sep= '\\t')\n",
    "\n",
    "readfile = file.path(work_dir, 'dfl2fc-Exp3.txt')\n",
    "df.l2fc.Exp3 = read.table(readfile, header = TRUE, sep= '\\t')\n",
    "\n",
    "head(df.l2fc.Exp1)"
   ]
  },
  {
   "cell_type": "code",
   "execution_count": 179,
   "metadata": {},
   "outputs": [
    {
     "data": {
      "text/html": [
       "<ol class=list-inline>\n",
       "\t<li>'CH_CS'</li>\n",
       "\t<li>'CH_RT'</li>\n",
       "\t<li>'RT_CS'</li>\n",
       "</ol>\n"
      ],
      "text/latex": [
       "\\begin{enumerate*}\n",
       "\\item 'CH\\_CS'\n",
       "\\item 'CH\\_RT'\n",
       "\\item 'RT\\_CS'\n",
       "\\end{enumerate*}\n"
      ],
      "text/markdown": [
       "1. 'CH_CS'\n",
       "2. 'CH_RT'\n",
       "3. 'RT_CS'\n",
       "\n",
       "\n"
      ],
      "text/plain": [
       "[1] \"CH_CS\" \"CH_RT\" \"RT_CS\""
      ]
     },
     "metadata": {},
     "output_type": "display_data"
    },
    {
     "data": {
      "text/html": [
       "<ol class=list-inline>\n",
       "\t<li>'Florence-Gv'</li>\n",
       "\t<li>'Lansing-Gv'</li>\n",
       "\t<li>'Pendelton-Gv'</li>\n",
       "</ol>\n"
      ],
      "text/latex": [
       "\\begin{enumerate*}\n",
       "\\item 'Florence-Gv'\n",
       "\\item 'Lansing-Gv'\n",
       "\\item 'Pendelton-Gv'\n",
       "\\end{enumerate*}\n"
      ],
      "text/markdown": [
       "1. 'Florence-Gv'\n",
       "2. 'Lansing-Gv'\n",
       "3. 'Pendelton-Gv'\n",
       "\n",
       "\n"
      ],
      "text/plain": [
       "[1] \"Florence-Gv\"  \"Lansing-Gv\"   \"Pendelton-Gv\""
      ]
     },
     "metadata": {},
     "output_type": "display_data"
    },
    {
     "data": {
      "text/html": [
       "<ol class=list-inline>\n",
       "\t<li>'BH_BS'</li>\n",
       "\t<li>'BP_BS'</li>\n",
       "\t<li>'BP_CS'</li>\n",
       "\t<li>'CH_BP'</li>\n",
       "\t<li>'CH_BS'</li>\n",
       "\t<li>'CH_CS'</li>\n",
       "\t<li>'RH_RS'</li>\n",
       "</ol>\n"
      ],
      "text/latex": [
       "\\begin{enumerate*}\n",
       "\\item 'BH\\_BS'\n",
       "\\item 'BP\\_BS'\n",
       "\\item 'BP\\_CS'\n",
       "\\item 'CH\\_BP'\n",
       "\\item 'CH\\_BS'\n",
       "\\item 'CH\\_CS'\n",
       "\\item 'RH\\_RS'\n",
       "\\end{enumerate*}\n"
      ],
      "text/markdown": [
       "1. 'BH_BS'\n",
       "2. 'BP_BS'\n",
       "3. 'BP_CS'\n",
       "4. 'CH_BP'\n",
       "5. 'CH_BS'\n",
       "6. 'CH_CS'\n",
       "7. 'RH_RS'\n",
       "\n",
       "\n"
      ],
      "text/plain": [
       "[1] \"BH_BS\" \"BP_BS\" \"BP_CS\" \"CH_BP\" \"CH_BS\" \"CH_CS\" \"RH_RS\""
      ]
     },
     "metadata": {},
     "output_type": "display_data"
    },
    {
     "data": {
      "text/html": [
       "<ol class=list-inline>\n",
       "\t<li>'Florence-Gv'</li>\n",
       "\t<li>'Lansing-Gv'</li>\n",
       "\t<li>'Lansing-RI'</li>\n",
       "\t<li>'Pendelton-Gv'</li>\n",
       "</ol>\n"
      ],
      "text/latex": [
       "\\begin{enumerate*}\n",
       "\\item 'Florence-Gv'\n",
       "\\item 'Lansing-Gv'\n",
       "\\item 'Lansing-RI'\n",
       "\\item 'Pendelton-Gv'\n",
       "\\end{enumerate*}\n"
      ],
      "text/markdown": [
       "1. 'Florence-Gv'\n",
       "2. 'Lansing-Gv'\n",
       "3. 'Lansing-RI'\n",
       "4. 'Pendelton-Gv'\n",
       "\n",
       "\n"
      ],
      "text/plain": [
       "[1] \"Florence-Gv\"  \"Lansing-Gv\"   \"Lansing-RI\"   \"Pendelton-Gv\""
      ]
     },
     "metadata": {},
     "output_type": "display_data"
    }
   ],
   "source": [
    "df.l2fc.Exp1$Contrast %>% levels()\n",
    "df.l2fc.Exp1$Subset %>% levels()\n",
    "\n",
    "df.l2fc.Exp2$Contrast %>% levels()\n",
    "df.l2fc.Exp2$Subset %>% levels()"
   ]
  },
  {
   "cell_type": "markdown",
   "metadata": {},
   "source": [
    "## Identify how many ASVs are enriched in multiple soils"
   ]
  },
  {
   "cell_type": "code",
   "execution_count": 63,
   "metadata": {},
   "outputs": [
    {
     "data": {
      "text/html": [
       "<table>\n",
       "<thead><tr><th scope=col>nSig</th><th scope=col>nGroup</th></tr></thead>\n",
       "<tbody>\n",
       "\t<tr><td>1 </td><td>85</td></tr>\n",
       "\t<tr><td>2 </td><td>13</td></tr>\n",
       "\t<tr><td>3 </td><td> 3</td></tr>\n",
       "</tbody>\n",
       "</table>\n"
      ],
      "text/latex": [
       "\\begin{tabular}{r|ll}\n",
       " nSig & nGroup\\\\\n",
       "\\hline\n",
       "\t 1  & 85\\\\\n",
       "\t 2  & 13\\\\\n",
       "\t 3  &  3\\\\\n",
       "\\end{tabular}\n"
      ],
      "text/markdown": [
       "\n",
       "nSig | nGroup | \n",
       "|---|---|---|\n",
       "| 1  | 85 | \n",
       "| 2  | 13 | \n",
       "| 3  |  3 | \n",
       "\n",
       "\n"
      ],
      "text/plain": [
       "  nSig nGroup\n",
       "1 1    85    \n",
       "2 2    13    \n",
       "3 3     3    "
      ]
     },
     "metadata": {},
     "output_type": "display_data"
    },
    {
     "data": {
      "text/html": [
       "<ol class=list-inline>\n",
       "\t<li>1</li>\n",
       "\t<li>3</li>\n",
       "</ol>\n"
      ],
      "text/latex": [
       "\\begin{enumerate*}\n",
       "\\item 1\n",
       "\\item 3\n",
       "\\end{enumerate*}\n"
      ],
      "text/markdown": [
       "1. 1\n",
       "2. 3\n",
       "\n",
       "\n"
      ],
      "text/plain": [
       "[1] 1 3"
      ]
     },
     "metadata": {},
     "output_type": "display_data"
    }
   ],
   "source": [
    "tmp = df.l2fc.Exp1 %>% \n",
    "    filter(Contrast == \"CH_CS\" & padj < 0.05 & log2FoldChange > 0) %>%\n",
    "    group_by(OTU) %>%\n",
    "    summarize(nSig = length(padj)) %>%\n",
    "    group_by(nSig) %>%\n",
    "    summarize(nGroup = length(OTU))\n",
    "head(tmp)\n",
    "range(tmp$nSig)"
   ]
  },
  {
   "cell_type": "code",
   "execution_count": 68,
   "metadata": {},
   "outputs": [
    {
     "data": {
      "text/html": [
       "<table>\n",
       "<thead><tr><th scope=col>OTU</th><th scope=col>Phylum</th><th scope=col>Class</th><th scope=col>Order</th><th scope=col>Family</th><th scope=col>Genus</th><th scope=col>nSig</th></tr></thead>\n",
       "<tbody>\n",
       "\t<tr><td>ASV14                             </td><td>Proteobacteria                    </td><td>Deltaproteobacteria               </td><td>Myxococcales                      </td><td>Sandaracinaceae                   </td><td>NA                                </td><td>3                                 </td></tr>\n",
       "\t<tr><td>ASV148                            </td><td>Proteobacteria                    </td><td>Gammaproteobacteria               </td><td>Betaproteobacteriales             </td><td>Burkholderiaceae                  </td><td>Ideonella                         </td><td>2                                 </td></tr>\n",
       "\t<tr><td>ASV17                             </td><td>Proteobacteria                    </td><td>Gammaproteobacteria               </td><td>Betaproteobacteriales             </td><td>Burkholderiaceae                  </td><td>Paucibacter                       </td><td>2                                 </td></tr>\n",
       "\t<tr><td>ASV18                             </td><td>Proteobacteria                    </td><td>Deltaproteobacteria               </td><td>Myxococcales                      </td><td>Sandaracinaceae                   </td><td>NA                                </td><td>3                                 </td></tr>\n",
       "\t<tr><td>ASV1847                           </td><td>Fibrobacteres                     </td><td>Fibrobacteria                     </td><td>Fibrobacterales                   </td><td>Fibrobacteraceae                  </td><td>NA                                </td><td>2                                 </td></tr>\n",
       "\t<tr><td>ASV247                            </td><td>Proteobacteria                    </td><td>Gammaproteobacteria               </td><td>Betaproteobacteriales             </td><td>Burkholderiaceae                  </td><td>Limnohabitans                     </td><td>2                                 </td></tr>\n",
       "\t<tr><td>ASV3052                           </td><td>Fibrobacteres                     </td><td>Fibrobacteria                     </td><td>Fibrobacterales                   </td><td>Fibrobacteraceae                  </td><td>NA                                </td><td>2                                 </td></tr>\n",
       "\t<tr><td>ASV383                            </td><td>Proteobacteria                    </td><td>Deltaproteobacteria               </td><td>Myxococcales                      </td><td>Haliangiaceae                     </td><td>Haliangium                        </td><td>2                                 </td></tr>\n",
       "\t<tr><td>ASV47                             </td><td>Fibrobacteres                     </td><td>Fibrobacteria                     </td><td>Fibrobacterales                   </td><td>Fibrobacteraceae                  </td><td>possible_genus_04                 </td><td>2                                 </td></tr>\n",
       "\t<tr><td>ASV509                            </td><td>Proteobacteria                    </td><td>Deltaproteobacteria               </td><td>Myxococcales                      </td><td>Haliangiaceae                     </td><td>Haliangium                        </td><td>2                                 </td></tr>\n",
       "\t<tr><td>ASV6                              </td><td>Proteobacteria                    </td><td>Gammaproteobacteria               </td><td>Cellvibrionales                   </td><td>Cellvibrionaceae                  </td><td>Cellvibrio                        </td><td>2                                 </td></tr>\n",
       "\t<tr><td>ASV61                             </td><td>Proteobacteria                    </td><td>Gammaproteobacteria               </td><td>Betaproteobacteriales             </td><td>Burkholderiaceae                  </td><td>NA                                </td><td>2                                 </td></tr>\n",
       "\t<tr><td>ASV66                             </td><td>Proteobacteria                    </td><td>Deltaproteobacteria               </td><td>Myxococcales                      </td><td>Haliangiaceae                     </td><td>Haliangium                        </td><td>3                                 </td></tr>\n",
       "\t<tr><td>ASV718                            </td><td>Proteobacteria                    </td><td>Deltaproteobacteria               </td><td>Myxococcales                      </td><td>Sandaracinaceae                   </td><td>NA                                </td><td>2                                 </td></tr>\n",
       "\t<tr><td>ASV77                             </td><td>Proteobacteria                    </td><td>Gammaproteobacteria               </td><td>Gammaproteobacteria_Incertae_Sedis</td><td>Unknown_Family                    </td><td>Acidibacter                       </td><td>2                                 </td></tr>\n",
       "\t<tr><td>ASV95                             </td><td>Proteobacteria                    </td><td>Deltaproteobacteria               </td><td>Myxococcales                      </td><td>Haliangiaceae                     </td><td>Haliangium                        </td><td>2                                 </td></tr>\n",
       "</tbody>\n",
       "</table>\n"
      ],
      "text/latex": [
       "\\begin{tabular}{r|lllllll}\n",
       " OTU & Phylum & Class & Order & Family & Genus & nSig\\\\\n",
       "\\hline\n",
       "\t ASV14                              & Proteobacteria                     & Deltaproteobacteria                & Myxococcales                       & Sandaracinaceae                    & NA                                 & 3                                 \\\\\n",
       "\t ASV148                             & Proteobacteria                     & Gammaproteobacteria                & Betaproteobacteriales              & Burkholderiaceae                   & Ideonella                          & 2                                 \\\\\n",
       "\t ASV17                              & Proteobacteria                     & Gammaproteobacteria                & Betaproteobacteriales              & Burkholderiaceae                   & Paucibacter                        & 2                                 \\\\\n",
       "\t ASV18                              & Proteobacteria                     & Deltaproteobacteria                & Myxococcales                       & Sandaracinaceae                    & NA                                 & 3                                 \\\\\n",
       "\t ASV1847                            & Fibrobacteres                      & Fibrobacteria                      & Fibrobacterales                    & Fibrobacteraceae                   & NA                                 & 2                                 \\\\\n",
       "\t ASV247                             & Proteobacteria                     & Gammaproteobacteria                & Betaproteobacteriales              & Burkholderiaceae                   & Limnohabitans                      & 2                                 \\\\\n",
       "\t ASV3052                            & Fibrobacteres                      & Fibrobacteria                      & Fibrobacterales                    & Fibrobacteraceae                   & NA                                 & 2                                 \\\\\n",
       "\t ASV383                             & Proteobacteria                     & Deltaproteobacteria                & Myxococcales                       & Haliangiaceae                      & Haliangium                         & 2                                 \\\\\n",
       "\t ASV47                              & Fibrobacteres                      & Fibrobacteria                      & Fibrobacterales                    & Fibrobacteraceae                   & possible\\_genus\\_04              & 2                                 \\\\\n",
       "\t ASV509                             & Proteobacteria                     & Deltaproteobacteria                & Myxococcales                       & Haliangiaceae                      & Haliangium                         & 2                                 \\\\\n",
       "\t ASV6                               & Proteobacteria                     & Gammaproteobacteria                & Cellvibrionales                    & Cellvibrionaceae                   & Cellvibrio                         & 2                                 \\\\\n",
       "\t ASV61                              & Proteobacteria                     & Gammaproteobacteria                & Betaproteobacteriales              & Burkholderiaceae                   & NA                                 & 2                                 \\\\\n",
       "\t ASV66                              & Proteobacteria                     & Deltaproteobacteria                & Myxococcales                       & Haliangiaceae                      & Haliangium                         & 3                                 \\\\\n",
       "\t ASV718                             & Proteobacteria                     & Deltaproteobacteria                & Myxococcales                       & Sandaracinaceae                    & NA                                 & 2                                 \\\\\n",
       "\t ASV77                                  & Proteobacteria                         & Gammaproteobacteria                    & Gammaproteobacteria\\_Incertae\\_Sedis & Unknown\\_Family                       & Acidibacter                            & 2                                     \\\\\n",
       "\t ASV95                              & Proteobacteria                     & Deltaproteobacteria                & Myxococcales                       & Haliangiaceae                      & Haliangium                         & 2                                 \\\\\n",
       "\\end{tabular}\n"
      ],
      "text/markdown": [
       "\n",
       "OTU | Phylum | Class | Order | Family | Genus | nSig | \n",
       "|---|---|---|---|---|---|---|---|---|---|---|---|---|---|---|---|\n",
       "| ASV14                              | Proteobacteria                     | Deltaproteobacteria                | Myxococcales                       | Sandaracinaceae                    | NA                                 | 3                                  | \n",
       "| ASV148                             | Proteobacteria                     | Gammaproteobacteria                | Betaproteobacteriales              | Burkholderiaceae                   | Ideonella                          | 2                                  | \n",
       "| ASV17                              | Proteobacteria                     | Gammaproteobacteria                | Betaproteobacteriales              | Burkholderiaceae                   | Paucibacter                        | 2                                  | \n",
       "| ASV18                              | Proteobacteria                     | Deltaproteobacteria                | Myxococcales                       | Sandaracinaceae                    | NA                                 | 3                                  | \n",
       "| ASV1847                            | Fibrobacteres                      | Fibrobacteria                      | Fibrobacterales                    | Fibrobacteraceae                   | NA                                 | 2                                  | \n",
       "| ASV247                             | Proteobacteria                     | Gammaproteobacteria                | Betaproteobacteriales              | Burkholderiaceae                   | Limnohabitans                      | 2                                  | \n",
       "| ASV3052                            | Fibrobacteres                      | Fibrobacteria                      | Fibrobacterales                    | Fibrobacteraceae                   | NA                                 | 2                                  | \n",
       "| ASV383                             | Proteobacteria                     | Deltaproteobacteria                | Myxococcales                       | Haliangiaceae                      | Haliangium                         | 2                                  | \n",
       "| ASV47                              | Fibrobacteres                      | Fibrobacteria                      | Fibrobacterales                    | Fibrobacteraceae                   | possible_genus_04                  | 2                                  | \n",
       "| ASV509                             | Proteobacteria                     | Deltaproteobacteria                | Myxococcales                       | Haliangiaceae                      | Haliangium                         | 2                                  | \n",
       "| ASV6                               | Proteobacteria                     | Gammaproteobacteria                | Cellvibrionales                    | Cellvibrionaceae                   | Cellvibrio                         | 2                                  | \n",
       "| ASV61                              | Proteobacteria                     | Gammaproteobacteria                | Betaproteobacteriales              | Burkholderiaceae                   | NA                                 | 2                                  | \n",
       "| ASV66                              | Proteobacteria                     | Deltaproteobacteria                | Myxococcales                       | Haliangiaceae                      | Haliangium                         | 3                                  | \n",
       "| ASV718                             | Proteobacteria                     | Deltaproteobacteria                | Myxococcales                       | Sandaracinaceae                    | NA                                 | 2                                  | \n",
       "| ASV77                              | Proteobacteria                     | Gammaproteobacteria                | Gammaproteobacteria_Incertae_Sedis | Unknown_Family                     | Acidibacter                        | 2                                  | \n",
       "| ASV95                              | Proteobacteria                     | Deltaproteobacteria                | Myxococcales                       | Haliangiaceae                      | Haliangium                         | 2                                  | \n",
       "\n",
       "\n"
      ],
      "text/plain": [
       "   OTU     Phylum         Class              \n",
       "1  ASV14   Proteobacteria Deltaproteobacteria\n",
       "2  ASV148  Proteobacteria Gammaproteobacteria\n",
       "3  ASV17   Proteobacteria Gammaproteobacteria\n",
       "4  ASV18   Proteobacteria Deltaproteobacteria\n",
       "5  ASV1847 Fibrobacteres  Fibrobacteria      \n",
       "6  ASV247  Proteobacteria Gammaproteobacteria\n",
       "7  ASV3052 Fibrobacteres  Fibrobacteria      \n",
       "8  ASV383  Proteobacteria Deltaproteobacteria\n",
       "9  ASV47   Fibrobacteres  Fibrobacteria      \n",
       "10 ASV509  Proteobacteria Deltaproteobacteria\n",
       "11 ASV6    Proteobacteria Gammaproteobacteria\n",
       "12 ASV61   Proteobacteria Gammaproteobacteria\n",
       "13 ASV66   Proteobacteria Deltaproteobacteria\n",
       "14 ASV718  Proteobacteria Deltaproteobacteria\n",
       "15 ASV77   Proteobacteria Gammaproteobacteria\n",
       "16 ASV95   Proteobacteria Deltaproteobacteria\n",
       "   Order                              Family           Genus             nSig\n",
       "1  Myxococcales                       Sandaracinaceae  NA                3   \n",
       "2  Betaproteobacteriales              Burkholderiaceae Ideonella         2   \n",
       "3  Betaproteobacteriales              Burkholderiaceae Paucibacter       2   \n",
       "4  Myxococcales                       Sandaracinaceae  NA                3   \n",
       "5  Fibrobacterales                    Fibrobacteraceae NA                2   \n",
       "6  Betaproteobacteriales              Burkholderiaceae Limnohabitans     2   \n",
       "7  Fibrobacterales                    Fibrobacteraceae NA                2   \n",
       "8  Myxococcales                       Haliangiaceae    Haliangium        2   \n",
       "9  Fibrobacterales                    Fibrobacteraceae possible_genus_04 2   \n",
       "10 Myxococcales                       Haliangiaceae    Haliangium        2   \n",
       "11 Cellvibrionales                    Cellvibrionaceae Cellvibrio        2   \n",
       "12 Betaproteobacteriales              Burkholderiaceae NA                2   \n",
       "13 Myxococcales                       Haliangiaceae    Haliangium        3   \n",
       "14 Myxococcales                       Sandaracinaceae  NA                2   \n",
       "15 Gammaproteobacteria_Incertae_Sedis Unknown_Family   Acidibacter       2   \n",
       "16 Myxococcales                       Haliangiaceae    Haliangium        2   "
      ]
     },
     "metadata": {},
     "output_type": "display_data"
    }
   ],
   "source": [
    "tmp = df.l2fc.Exp1 %>% \n",
    "    filter(Contrast == \"CH_CS\" & padj < 0.05 & log2FoldChange > 0) %>%\n",
    "    group_by(OTU, Phylum, Class, Order, Family, Genus) %>%\n",
    "    summarize(nSig = length(padj)) %>%\n",
    "    filter(nSig > 1)\n",
    "tmp"
   ]
  },
  {
   "cell_type": "code",
   "execution_count": 65,
   "metadata": {
    "scrolled": true
   },
   "outputs": [
    {
     "data": {
      "text/html": [
       "<table>\n",
       "<thead><tr><th scope=col>nSig</th><th scope=col>nGroup</th></tr></thead>\n",
       "<tbody>\n",
       "\t<tr><td>1  </td><td>208</td></tr>\n",
       "\t<tr><td>2  </td><td> 11</td></tr>\n",
       "\t<tr><td>3  </td><td>  2</td></tr>\n",
       "</tbody>\n",
       "</table>\n"
      ],
      "text/latex": [
       "\\begin{tabular}{r|ll}\n",
       " nSig & nGroup\\\\\n",
       "\\hline\n",
       "\t 1   & 208\\\\\n",
       "\t 2   &  11\\\\\n",
       "\t 3   &   2\\\\\n",
       "\\end{tabular}\n"
      ],
      "text/markdown": [
       "\n",
       "nSig | nGroup | \n",
       "|---|---|---|\n",
       "| 1   | 208 | \n",
       "| 2   |  11 | \n",
       "| 3   |   2 | \n",
       "\n",
       "\n"
      ],
      "text/plain": [
       "  nSig nGroup\n",
       "1 1    208   \n",
       "2 2     11   \n",
       "3 3      2   "
      ]
     },
     "metadata": {},
     "output_type": "display_data"
    },
    {
     "data": {
      "text/html": [
       "<ol class=list-inline>\n",
       "\t<li>1</li>\n",
       "\t<li>3</li>\n",
       "</ol>\n"
      ],
      "text/latex": [
       "\\begin{enumerate*}\n",
       "\\item 1\n",
       "\\item 3\n",
       "\\end{enumerate*}\n"
      ],
      "text/markdown": [
       "1. 1\n",
       "2. 3\n",
       "\n",
       "\n"
      ],
      "text/plain": [
       "[1] 1 3"
      ]
     },
     "metadata": {},
     "output_type": "display_data"
    }
   ],
   "source": [
    "tmp = df.l2fc.Exp2 %>% \n",
    "    filter(Contrast == \"CH_CS\" & padj < 0.05 & log2FoldChange > 0 & Subset != \"Lansing-RI\") %>%\n",
    "    group_by(OTU) %>%\n",
    "    summarize(nSig = length(padj)) %>%\n",
    "    group_by(nSig) %>%\n",
    "    summarize(nGroup = length(OTU))\n",
    "head(tmp)\n",
    "range(tmp$nSig)"
   ]
  },
  {
   "cell_type": "code",
   "execution_count": 70,
   "metadata": {},
   "outputs": [
    {
     "data": {
      "text/html": [
       "<table>\n",
       "<thead><tr><th scope=col>OTU</th><th scope=col>Phylum</th><th scope=col>Class</th><th scope=col>Order</th><th scope=col>Family</th><th scope=col>Genus</th><th scope=col>nSig</th></tr></thead>\n",
       "<tbody>\n",
       "\t<tr><td>ASV125                                            </td><td>Proteobacteria                                    </td><td>Deltaproteobacteria                               </td><td>Myxococcales                                      </td><td>Sandaracinaceae                                   </td><td>NA                                                </td><td>2                                                 </td></tr>\n",
       "\t<tr><td>ASV14                                             </td><td>Proteobacteria                                    </td><td>Deltaproteobacteria                               </td><td>Myxococcales                                      </td><td>Sandaracinaceae                                   </td><td>NA                                                </td><td>3                                                 </td></tr>\n",
       "\t<tr><td>ASV16                                             </td><td>Proteobacteria                                    </td><td>Alphaproteobacteria                               </td><td>Rhizobiales                                       </td><td>Xanthobacteraceae                                 </td><td>Bradyrhizobium                                    </td><td>2                                                 </td></tr>\n",
       "\t<tr><td>ASV1700                                           </td><td>Proteobacteria                                    </td><td>Deltaproteobacteria                               </td><td>Myxococcales                                      </td><td>BIrii41                                           </td><td>NA                                                </td><td>2                                                 </td></tr>\n",
       "\t<tr><td>ASV18                                             </td><td>Proteobacteria                                    </td><td>Deltaproteobacteria                               </td><td>Myxococcales                                      </td><td>Sandaracinaceae                                   </td><td>NA                                                </td><td>3                                                 </td></tr>\n",
       "\t<tr><td>ASV190                                            </td><td>Chloroflexi                                       </td><td>Chloroflexia                                      </td><td>Chloroflexales                                    </td><td>Herpetosiphonaceae                                </td><td>Herpetosiphon                                     </td><td>2                                                 </td></tr>\n",
       "\t<tr><td>ASV23                                             </td><td>Fibrobacteres                                     </td><td>Fibrobacteria                                     </td><td>Fibrobacterales                                   </td><td>Fibrobacteraceae                                  </td><td>possible_genus_04                                 </td><td>2                                                 </td></tr>\n",
       "\t<tr><td>ASV30                                             </td><td>Proteobacteria                                    </td><td>Alphaproteobacteria                               </td><td>Rhizobiales                                       </td><td>Rhizobiaceae                                      </td><td>Allorhizobium-Neorhizobium-Pararhizobium-Rhizobium</td><td>2                                                 </td></tr>\n",
       "\t<tr><td>ASV57                                             </td><td>Proteobacteria                                    </td><td>Gammaproteobacteria                               </td><td>Betaproteobacteriales                             </td><td>Burkholderiaceae                                  </td><td>NA                                                </td><td>2                                                 </td></tr>\n",
       "\t<tr><td>ASV6                                              </td><td>Proteobacteria                                    </td><td>Gammaproteobacteria                               </td><td>Cellvibrionales                                   </td><td>Cellvibrionaceae                                  </td><td>Cellvibrio                                        </td><td>2                                                 </td></tr>\n",
       "\t<tr><td>ASV66                                             </td><td>Proteobacteria                                    </td><td>Deltaproteobacteria                               </td><td>Myxococcales                                      </td><td>Haliangiaceae                                     </td><td>Haliangium                                        </td><td>2                                                 </td></tr>\n",
       "\t<tr><td>ASV708                                            </td><td>Proteobacteria                                    </td><td>Deltaproteobacteria                               </td><td>Myxococcales                                      </td><td>Haliangiaceae                                     </td><td>Haliangium                                        </td><td>2                                                 </td></tr>\n",
       "\t<tr><td>ASV8                                              </td><td>Proteobacteria                                    </td><td>Alphaproteobacteria                               </td><td>Caulobacterales                                   </td><td>Caulobacteraceae                                  </td><td>Asticcacaulis                                     </td><td>2                                                 </td></tr>\n",
       "</tbody>\n",
       "</table>\n"
      ],
      "text/latex": [
       "\\begin{tabular}{r|lllllll}\n",
       " OTU & Phylum & Class & Order & Family & Genus & nSig\\\\\n",
       "\\hline\n",
       "\t ASV125                                             & Proteobacteria                                     & Deltaproteobacteria                                & Myxococcales                                       & Sandaracinaceae                                    & NA                                                 & 2                                                 \\\\\n",
       "\t ASV14                                              & Proteobacteria                                     & Deltaproteobacteria                                & Myxococcales                                       & Sandaracinaceae                                    & NA                                                 & 3                                                 \\\\\n",
       "\t ASV16                                              & Proteobacteria                                     & Alphaproteobacteria                                & Rhizobiales                                        & Xanthobacteraceae                                  & Bradyrhizobium                                     & 2                                                 \\\\\n",
       "\t ASV1700                                            & Proteobacteria                                     & Deltaproteobacteria                                & Myxococcales                                       & BIrii41                                            & NA                                                 & 2                                                 \\\\\n",
       "\t ASV18                                              & Proteobacteria                                     & Deltaproteobacteria                                & Myxococcales                                       & Sandaracinaceae                                    & NA                                                 & 3                                                 \\\\\n",
       "\t ASV190                                             & Chloroflexi                                        & Chloroflexia                                       & Chloroflexales                                     & Herpetosiphonaceae                                 & Herpetosiphon                                      & 2                                                 \\\\\n",
       "\t ASV23                                                  & Fibrobacteres                                          & Fibrobacteria                                          & Fibrobacterales                                        & Fibrobacteraceae                                       & possible\\_genus\\_04                                  & 2                                                     \\\\\n",
       "\t ASV30                                              & Proteobacteria                                     & Alphaproteobacteria                                & Rhizobiales                                        & Rhizobiaceae                                       & Allorhizobium-Neorhizobium-Pararhizobium-Rhizobium & 2                                                 \\\\\n",
       "\t ASV57                                              & Proteobacteria                                     & Gammaproteobacteria                                & Betaproteobacteriales                              & Burkholderiaceae                                   & NA                                                 & 2                                                 \\\\\n",
       "\t ASV6                                               & Proteobacteria                                     & Gammaproteobacteria                                & Cellvibrionales                                    & Cellvibrionaceae                                   & Cellvibrio                                         & 2                                                 \\\\\n",
       "\t ASV66                                              & Proteobacteria                                     & Deltaproteobacteria                                & Myxococcales                                       & Haliangiaceae                                      & Haliangium                                         & 2                                                 \\\\\n",
       "\t ASV708                                             & Proteobacteria                                     & Deltaproteobacteria                                & Myxococcales                                       & Haliangiaceae                                      & Haliangium                                         & 2                                                 \\\\\n",
       "\t ASV8                                               & Proteobacteria                                     & Alphaproteobacteria                                & Caulobacterales                                    & Caulobacteraceae                                   & Asticcacaulis                                      & 2                                                 \\\\\n",
       "\\end{tabular}\n"
      ],
      "text/markdown": [
       "\n",
       "OTU | Phylum | Class | Order | Family | Genus | nSig | \n",
       "|---|---|---|---|---|---|---|---|---|---|---|---|---|\n",
       "| ASV125                                             | Proteobacteria                                     | Deltaproteobacteria                                | Myxococcales                                       | Sandaracinaceae                                    | NA                                                 | 2                                                  | \n",
       "| ASV14                                              | Proteobacteria                                     | Deltaproteobacteria                                | Myxococcales                                       | Sandaracinaceae                                    | NA                                                 | 3                                                  | \n",
       "| ASV16                                              | Proteobacteria                                     | Alphaproteobacteria                                | Rhizobiales                                        | Xanthobacteraceae                                  | Bradyrhizobium                                     | 2                                                  | \n",
       "| ASV1700                                            | Proteobacteria                                     | Deltaproteobacteria                                | Myxococcales                                       | BIrii41                                            | NA                                                 | 2                                                  | \n",
       "| ASV18                                              | Proteobacteria                                     | Deltaproteobacteria                                | Myxococcales                                       | Sandaracinaceae                                    | NA                                                 | 3                                                  | \n",
       "| ASV190                                             | Chloroflexi                                        | Chloroflexia                                       | Chloroflexales                                     | Herpetosiphonaceae                                 | Herpetosiphon                                      | 2                                                  | \n",
       "| ASV23                                              | Fibrobacteres                                      | Fibrobacteria                                      | Fibrobacterales                                    | Fibrobacteraceae                                   | possible_genus_04                                  | 2                                                  | \n",
       "| ASV30                                              | Proteobacteria                                     | Alphaproteobacteria                                | Rhizobiales                                        | Rhizobiaceae                                       | Allorhizobium-Neorhizobium-Pararhizobium-Rhizobium | 2                                                  | \n",
       "| ASV57                                              | Proteobacteria                                     | Gammaproteobacteria                                | Betaproteobacteriales                              | Burkholderiaceae                                   | NA                                                 | 2                                                  | \n",
       "| ASV6                                               | Proteobacteria                                     | Gammaproteobacteria                                | Cellvibrionales                                    | Cellvibrionaceae                                   | Cellvibrio                                         | 2                                                  | \n",
       "| ASV66                                              | Proteobacteria                                     | Deltaproteobacteria                                | Myxococcales                                       | Haliangiaceae                                      | Haliangium                                         | 2                                                  | \n",
       "| ASV708                                             | Proteobacteria                                     | Deltaproteobacteria                                | Myxococcales                                       | Haliangiaceae                                      | Haliangium                                         | 2                                                  | \n",
       "| ASV8                                               | Proteobacteria                                     | Alphaproteobacteria                                | Caulobacterales                                    | Caulobacteraceae                                   | Asticcacaulis                                      | 2                                                  | \n",
       "\n",
       "\n"
      ],
      "text/plain": [
       "   OTU     Phylum         Class               Order                \n",
       "1  ASV125  Proteobacteria Deltaproteobacteria Myxococcales         \n",
       "2  ASV14   Proteobacteria Deltaproteobacteria Myxococcales         \n",
       "3  ASV16   Proteobacteria Alphaproteobacteria Rhizobiales          \n",
       "4  ASV1700 Proteobacteria Deltaproteobacteria Myxococcales         \n",
       "5  ASV18   Proteobacteria Deltaproteobacteria Myxococcales         \n",
       "6  ASV190  Chloroflexi    Chloroflexia        Chloroflexales       \n",
       "7  ASV23   Fibrobacteres  Fibrobacteria       Fibrobacterales      \n",
       "8  ASV30   Proteobacteria Alphaproteobacteria Rhizobiales          \n",
       "9  ASV57   Proteobacteria Gammaproteobacteria Betaproteobacteriales\n",
       "10 ASV6    Proteobacteria Gammaproteobacteria Cellvibrionales      \n",
       "11 ASV66   Proteobacteria Deltaproteobacteria Myxococcales         \n",
       "12 ASV708  Proteobacteria Deltaproteobacteria Myxococcales         \n",
       "13 ASV8    Proteobacteria Alphaproteobacteria Caulobacterales      \n",
       "   Family             Genus                                              nSig\n",
       "1  Sandaracinaceae    NA                                                 2   \n",
       "2  Sandaracinaceae    NA                                                 3   \n",
       "3  Xanthobacteraceae  Bradyrhizobium                                     2   \n",
       "4  BIrii41            NA                                                 2   \n",
       "5  Sandaracinaceae    NA                                                 3   \n",
       "6  Herpetosiphonaceae Herpetosiphon                                      2   \n",
       "7  Fibrobacteraceae   possible_genus_04                                  2   \n",
       "8  Rhizobiaceae       Allorhizobium-Neorhizobium-Pararhizobium-Rhizobium 2   \n",
       "9  Burkholderiaceae   NA                                                 2   \n",
       "10 Cellvibrionaceae   Cellvibrio                                         2   \n",
       "11 Haliangiaceae      Haliangium                                         2   \n",
       "12 Haliangiaceae      Haliangium                                         2   \n",
       "13 Caulobacteraceae   Asticcacaulis                                      2   "
      ]
     },
     "metadata": {},
     "output_type": "display_data"
    }
   ],
   "source": [
    "tmp = df.l2fc.Exp2 %>% \n",
    "    filter(Contrast == \"CH_CS\" & padj < 0.05 & log2FoldChange > 0 & Subset != \"Lansing-RI\") %>%\n",
    "    group_by(OTU, Phylum, Class, Order, Family, Genus) %>%\n",
    "    summarize(nSig = length(padj)) %>%\n",
    "    filter(nSig > 1)\n",
    "tmp\n",
    "range(tmp)"
   ]
  },
  {
   "cell_type": "markdown",
   "metadata": {},
   "source": [
    "## Number of ASVs enriched in any soil, either experiment"
   ]
  },
  {
   "cell_type": "code",
   "execution_count": 195,
   "metadata": {},
   "outputs": [
    {
     "data": {
      "text/html": [
       "'101 ASVs enriched in hyphal samples in any soil in experiment 1'"
      ],
      "text/latex": [
       "'101 ASVs enriched in hyphal samples in any soil in experiment 1'"
      ],
      "text/markdown": [
       "'101 ASVs enriched in hyphal samples in any soil in experiment 1'"
      ],
      "text/plain": [
       "[1] \"101 ASVs enriched in hyphal samples in any soil in experiment 1\""
      ]
     },
     "metadata": {},
     "output_type": "display_data"
    },
    {
     "data": {
      "text/html": [
       "'221 ASVs enriched in hyphal samples in any soil in experiment 2'"
      ],
      "text/latex": [
       "'221 ASVs enriched in hyphal samples in any soil in experiment 2'"
      ],
      "text/markdown": [
       "'221 ASVs enriched in hyphal samples in any soil in experiment 2'"
      ],
      "text/plain": [
       "[1] \"221 ASVs enriched in hyphal samples in any soil in experiment 2\""
      ]
     },
     "metadata": {},
     "output_type": "display_data"
    },
    {
     "data": {
      "text/html": [
       "'298 ASVs enriched in hyphal samples in a particular soil in at least one of the two experiments'"
      ],
      "text/latex": [
       "'298 ASVs enriched in hyphal samples in a particular soil in at least one of the two experiments'"
      ],
      "text/markdown": [
       "'298 ASVs enriched in hyphal samples in a particular soil in at least one of the two experiments'"
      ],
      "text/plain": [
       "[1] \"298 ASVs enriched in hyphal samples in a particular soil in at least one of the two experiments\""
      ]
     },
     "metadata": {},
     "output_type": "display_data"
    }
   ],
   "source": [
    "HA.exp1 = df.l2fc.Exp1 %>%\n",
    "  filter(Contrast == \"CH_CS\" & padj < 0.05 & log2FoldChange > 0 & Subset != \"Lansing-RI\") %>%\n",
    "    .$OTU %>%\n",
    "    unique() \n",
    "\n",
    "HA.exp1 %>%\n",
    "    length() %>%\n",
    "    paste(., \"ASVs enriched in hyphal samples in any soil in experiment 1\")\n",
    "\n",
    "HA.exp2 = df.l2fc.Exp2 %>%\n",
    "  filter(Contrast == \"CH_CS\" & padj < 0.05 & log2FoldChange > 0 & Subset != \"Lansing-RI\") %>%\n",
    "    .$OTU %>%\n",
    "    unique() \n",
    "\n",
    "HA.exp2 %>%\n",
    "    length() %>%\n",
    "    paste(., \"ASVs enriched in hyphal samples in any soil in experiment 2\")\n",
    "\n",
    "append(HA.exp1, HA.exp2) %>% unique() %>% length() %>%\n",
    "    paste(., \"ASVs enriched in hyphal samples in a particular soil in at least one of the two experiments\")"
   ]
  },
  {
   "cell_type": "markdown",
   "metadata": {},
   "source": [
    "## Which ASVs are shared between Ri And Gv"
   ]
  },
  {
   "cell_type": "code",
   "execution_count": 139,
   "metadata": {},
   "outputs": [
    {
     "data": {
      "text/html": [
       "'236 ASVs enriched in Ri hyphal samples'"
      ],
      "text/latex": [
       "'236 ASVs enriched in Ri hyphal samples'"
      ],
      "text/markdown": [
       "'236 ASVs enriched in Ri hyphal samples'"
      ],
      "text/plain": [
       "[1] \"236 ASVs enriched in Ri hyphal samples\""
      ]
     },
     "metadata": {},
     "output_type": "display_data"
    },
    {
     "data": {
      "text/html": [
       "'88 ASVs enriched in Gv hyphal samples'"
      ],
      "text/latex": [
       "'88 ASVs enriched in Gv hyphal samples'"
      ],
      "text/markdown": [
       "'88 ASVs enriched in Gv hyphal samples'"
      ],
      "text/plain": [
       "[1] \"88 ASVs enriched in Gv hyphal samples\""
      ]
     },
     "metadata": {},
     "output_type": "display_data"
    },
    {
     "data": {
      "text/html": [
       "'38ASVs enriched in both Ri and Gv'"
      ],
      "text/latex": [
       "'38ASVs enriched in both Ri and Gv'"
      ],
      "text/markdown": [
       "'38ASVs enriched in both Ri and Gv'"
      ],
      "text/plain": [
       "[1] \"38ASVs enriched in both Ri and Gv\""
      ]
     },
     "metadata": {},
     "output_type": "display_data"
    }
   ],
   "source": [
    "df.l2fc.Exp2 %>% \n",
    "    filter(Contrast == \"CH_CS\" & padj < 0.05 & log2FoldChange > 0 & Subset %in% c(\"Lansing-RI\")) %>%\n",
    "    .$OTU %>%\n",
    "    unique() %>%\n",
    "    length() %>%\n",
    "    paste(., \"ASVs enriched in Ri hyphal samples\")\n",
    "\n",
    "df.l2fc.Exp2 %>% \n",
    "    filter(Contrast == \"CH_CS\" & padj < 0.05 & log2FoldChange > 0 & Subset %in% c(\"Lansing-Gv\")) %>%\n",
    "    .$OTU %>%\n",
    "    unique() %>%\n",
    "    length() %>%\n",
    "    paste(., \"ASVs enriched in Gv hyphal samples\")\n",
    "\n",
    "tmp = df.l2fc.Exp2 %>% \n",
    "    filter(Contrast == \"CH_CS\" & padj < 0.05 & log2FoldChange > 0 & Subset %in% c(\"Lansing-RI\", \n",
    "                                                                                 \"Lansing-Gv\")) %>%\n",
    "    group_by(OTU, Phylum, Class, Order, Family, Genus) %>%\n",
    "    summarize(nSig = length(padj)) %>%\n",
    "    filter(nSig > 1)\n",
    "           \n",
    "paste(dim(tmp)[1], 'ASVs enriched in both Ri and Gv', sep = '')"
   ]
  },
  {
   "cell_type": "markdown",
   "metadata": {},
   "source": [
    "## Which ASVs are enriched in both experiments in the same soil"
   ]
  },
  {
   "cell_type": "code",
   "execution_count": 94,
   "metadata": {},
   "outputs": [
    {
     "data": {
      "text/html": [
       "<table>\n",
       "<thead><tr><th scope=col>baseMean.x</th><th scope=col>log2FoldChange.x</th><th scope=col>lfcSE.x</th><th scope=col>stat.x</th><th scope=col>pvalue.x</th><th scope=col>padj.x</th><th scope=col>OTU</th><th scope=col>Subset.x</th><th scope=col>Term.x</th><th scope=col>Contrast.x</th><th scope=col>⋯</th><th scope=col>Term.y</th><th scope=col>Contrast.y</th><th scope=col>DAI.y</th><th scope=col>Kingdom.y</th><th scope=col>Phylum.y</th><th scope=col>Class.y</th><th scope=col>Order.y</th><th scope=col>Family.y</th><th scope=col>Genus.y</th><th scope=col>Experiment.y</th></tr></thead>\n",
       "<tbody>\n",
       "\t<tr><td>136.95264                         </td><td> 4.977612                         </td><td>1.190598                          </td><td>4.180767                          </td><td>2.905274e-05                      </td><td>1.192425e-03                      </td><td>ASV6                              </td><td>Lansing-Gv                        </td><td>SampleType                        </td><td>CH_CS                             </td><td>⋯                                 </td><td>SampleType                        </td><td>CH_CS                             </td><td>27                                </td><td>Bacteria                          </td><td>Proteobacteria                    </td><td>Gammaproteobacteria               </td><td>Cellvibrionales                   </td><td>Cellvibrionaceae                  </td><td>Cellvibrio                        </td><td>2                                 </td></tr>\n",
       "\t<tr><td> 26.70389                         </td><td> 8.430000                         </td><td>1.785727                          </td><td>4.720767                          </td><td>2.349571e-06                      </td><td>1.478663e-04                      </td><td>ASV14                             </td><td>Lansing-Gv                        </td><td>SampleType                        </td><td>CH_CS                             </td><td>⋯                                 </td><td>SampleType                        </td><td>CH_CS                             </td><td>27                                </td><td>Bacteria                          </td><td>Proteobacteria                    </td><td>Deltaproteobacteria               </td><td>Myxococcales                      </td><td>Sandaracinaceae                   </td><td>NA                                </td><td>2                                 </td></tr>\n",
       "\t<tr><td>159.58144                         </td><td>11.082384                         </td><td>1.362924                          </td><td>8.131328                          </td><td>4.246114e-16                      </td><td>2.004166e-13                      </td><td>ASV18                             </td><td>Lansing-Gv                        </td><td>SampleType                        </td><td>CH_CS                             </td><td>⋯                                 </td><td>SampleType                        </td><td>CH_CS                             </td><td>27                                </td><td>Bacteria                          </td><td>Proteobacteria                    </td><td>Deltaproteobacteria               </td><td>Myxococcales                      </td><td>Sandaracinaceae                   </td><td>NA                                </td><td>2                                 </td></tr>\n",
       "\t<tr><td> 70.80453                         </td><td> 8.223574                         </td><td>2.360521                          </td><td>3.483796                          </td><td>4.943559e-04                      </td><td>8.484944e-03                      </td><td>ASV23                             </td><td>Lansing-Gv                        </td><td>SampleType                        </td><td>CH_CS                             </td><td>⋯                                 </td><td>SampleType                        </td><td>CH_CS                             </td><td>27                                </td><td>Bacteria                          </td><td>Fibrobacteres                     </td><td>Fibrobacteria                     </td><td>Fibrobacterales                   </td><td>Fibrobacteraceae                  </td><td>possible_genus_04                 </td><td>2                                 </td></tr>\n",
       "\t<tr><td> 97.21443                         </td><td> 2.890655                         </td><td>0.773702                          </td><td>3.736134                          </td><td>1.868708e-04                      </td><td>4.302586e-03                      </td><td>ASV47                             </td><td>Lansing-Gv                        </td><td>SampleType                        </td><td>CH_CS                             </td><td>⋯                                 </td><td>SampleType                        </td><td>CH_CS                             </td><td>27                                </td><td>Bacteria                          </td><td>Fibrobacteres                     </td><td>Fibrobacteria                     </td><td>Fibrobacterales                   </td><td>Fibrobacteraceae                  </td><td>possible_genus_04                 </td><td>2                                 </td></tr>\n",
       "\t<tr><td> 36.28464                         </td><td> 4.431347                         </td><td>1.337195                          </td><td>3.313913                          </td><td>9.200005e-04                      </td><td>1.149737e-02                      </td><td>ASV61                             </td><td>Lansing-Gv                        </td><td>SampleType                        </td><td>CH_CS                             </td><td>⋯                                 </td><td>SampleType                        </td><td>CH_CS                             </td><td>27                                </td><td>Bacteria                          </td><td>Proteobacteria                    </td><td>Gammaproteobacteria               </td><td>Betaproteobacteriales             </td><td>Burkholderiaceae                  </td><td>NA                                </td><td>2                                 </td></tr>\n",
       "\t<tr><td> 53.23993                         </td><td> 9.229180                         </td><td>2.006168                          </td><td>4.600402                          </td><td>4.216764e-06                      </td><td>2.487891e-04                      </td><td>ASV66                             </td><td>Lansing-Gv                        </td><td>SampleType                        </td><td>CH_CS                             </td><td>⋯                                 </td><td>SampleType                        </td><td>CH_CS                             </td><td>27                                </td><td>Bacteria                          </td><td>Proteobacteria                    </td><td>Deltaproteobacteria               </td><td>Myxococcales                      </td><td>Haliangiaceae                     </td><td>Haliangium                        </td><td>2                                 </td></tr>\n",
       "\t<tr><td> 41.01157                         </td><td> 7.246386                         </td><td>2.361361                          </td><td>3.068732                          </td><td>2.149691e-03                      </td><td>2.070723e-02                      </td><td>ASV77                             </td><td>Lansing-Gv                        </td><td>SampleType                        </td><td>CH_CS                             </td><td>⋯                                 </td><td>SampleType                        </td><td>CH_CS                             </td><td>27                                </td><td>Bacteria                          </td><td>Proteobacteria                    </td><td>Gammaproteobacteria               </td><td>Gammaproteobacteria_Incertae_Sedis</td><td>Unknown_Family                    </td><td>Acidibacter                       </td><td>2                                 </td></tr>\n",
       "\t<tr><td>113.38638                         </td><td> 8.225041                         </td><td>1.827274                          </td><td>4.501263                          </td><td>6.755095e-06                      </td><td>3.751064e-04                      </td><td>ASV509                            </td><td>Lansing-Gv                        </td><td>SampleType                        </td><td>CH_CS                             </td><td>⋯                                 </td><td>SampleType                        </td><td>CH_CS                             </td><td>27                                </td><td>Bacteria                          </td><td>Proteobacteria                    </td><td>Deltaproteobacteria               </td><td>Myxococcales                      </td><td>Haliangiaceae                     </td><td>Haliangium                        </td><td>2                                 </td></tr>\n",
       "\t<tr><td> 11.05237                         </td><td> 7.191267                         </td><td>2.125415                          </td><td>3.383465                          </td><td>7.157740e-04                      </td><td>1.008493e-02                      </td><td>ASV708                            </td><td>Lansing-Gv                        </td><td>SampleType                        </td><td>CH_CS                             </td><td>⋯                                 </td><td>SampleType                        </td><td>CH_CS                             </td><td>27                                </td><td>Bacteria                          </td><td>Proteobacteria                    </td><td>Deltaproteobacteria               </td><td>Myxococcales                      </td><td>Haliangiaceae                     </td><td>Haliangium                        </td><td>2                                 </td></tr>\n",
       "</tbody>\n",
       "</table>\n"
      ],
      "text/latex": [
       "\\begin{tabular}{r|lllllllllllllllllllllllllllllllllll}\n",
       " baseMean.x & log2FoldChange.x & lfcSE.x & stat.x & pvalue.x & padj.x & OTU & Subset.x & Term.x & Contrast.x & ⋯ & Term.y & Contrast.y & DAI.y & Kingdom.y & Phylum.y & Class.y & Order.y & Family.y & Genus.y & Experiment.y\\\\\n",
       "\\hline\n",
       "\t 136.95264                          &  4.977612                          & 1.190598                           & 4.180767                           & 2.905274e-05                       & 1.192425e-03                       & ASV6                               & Lansing-Gv                         & SampleType                         & CH\\_CS                            & ⋯                                  & SampleType                         & CH\\_CS                            & 27                                 & Bacteria                           & Proteobacteria                     & Gammaproteobacteria                & Cellvibrionales                    & Cellvibrionaceae                   & Cellvibrio                         & 2                                 \\\\\n",
       "\t  26.70389                          &  8.430000                          & 1.785727                           & 4.720767                           & 2.349571e-06                       & 1.478663e-04                       & ASV14                              & Lansing-Gv                         & SampleType                         & CH\\_CS                            & ⋯                                  & SampleType                         & CH\\_CS                            & 27                                 & Bacteria                           & Proteobacteria                     & Deltaproteobacteria                & Myxococcales                       & Sandaracinaceae                    & NA                                 & 2                                 \\\\\n",
       "\t 159.58144                          & 11.082384                          & 1.362924                           & 8.131328                           & 4.246114e-16                       & 2.004166e-13                       & ASV18                              & Lansing-Gv                         & SampleType                         & CH\\_CS                            & ⋯                                  & SampleType                         & CH\\_CS                            & 27                                 & Bacteria                           & Proteobacteria                     & Deltaproteobacteria                & Myxococcales                       & Sandaracinaceae                    & NA                                 & 2                                 \\\\\n",
       "\t  70.80453                          &  8.223574                          & 2.360521                           & 3.483796                           & 4.943559e-04                       & 8.484944e-03                       & ASV23                              & Lansing-Gv                         & SampleType                         & CH\\_CS                            & ⋯                                  & SampleType                         & CH\\_CS                            & 27                                 & Bacteria                           & Fibrobacteres                      & Fibrobacteria                      & Fibrobacterales                    & Fibrobacteraceae                   & possible\\_genus\\_04              & 2                                 \\\\\n",
       "\t  97.21443                          &  2.890655                          & 0.773702                           & 3.736134                           & 1.868708e-04                       & 4.302586e-03                       & ASV47                              & Lansing-Gv                         & SampleType                         & CH\\_CS                            & ⋯                                  & SampleType                         & CH\\_CS                            & 27                                 & Bacteria                           & Fibrobacteres                      & Fibrobacteria                      & Fibrobacterales                    & Fibrobacteraceae                   & possible\\_genus\\_04              & 2                                 \\\\\n",
       "\t  36.28464                          &  4.431347                          & 1.337195                           & 3.313913                           & 9.200005e-04                       & 1.149737e-02                       & ASV61                              & Lansing-Gv                         & SampleType                         & CH\\_CS                            & ⋯                                  & SampleType                         & CH\\_CS                            & 27                                 & Bacteria                           & Proteobacteria                     & Gammaproteobacteria                & Betaproteobacteriales              & Burkholderiaceae                   & NA                                 & 2                                 \\\\\n",
       "\t  53.23993                          &  9.229180                          & 2.006168                           & 4.600402                           & 4.216764e-06                       & 2.487891e-04                       & ASV66                              & Lansing-Gv                         & SampleType                         & CH\\_CS                            & ⋯                                  & SampleType                         & CH\\_CS                            & 27                                 & Bacteria                           & Proteobacteria                     & Deltaproteobacteria                & Myxococcales                       & Haliangiaceae                      & Haliangium                         & 2                                 \\\\\n",
       "\t  41.01157                              &  7.246386                              & 2.361361                               & 3.068732                               & 2.149691e-03                           & 2.070723e-02                           & ASV77                                  & Lansing-Gv                             & SampleType                             & CH\\_CS                                & ⋯                                      & SampleType                             & CH\\_CS                                & 27                                     & Bacteria                               & Proteobacteria                         & Gammaproteobacteria                    & Gammaproteobacteria\\_Incertae\\_Sedis & Unknown\\_Family                       & Acidibacter                            & 2                                     \\\\\n",
       "\t 113.38638                          &  8.225041                          & 1.827274                           & 4.501263                           & 6.755095e-06                       & 3.751064e-04                       & ASV509                             & Lansing-Gv                         & SampleType                         & CH\\_CS                            & ⋯                                  & SampleType                         & CH\\_CS                            & 27                                 & Bacteria                           & Proteobacteria                     & Deltaproteobacteria                & Myxococcales                       & Haliangiaceae                      & Haliangium                         & 2                                 \\\\\n",
       "\t  11.05237                          &  7.191267                          & 2.125415                           & 3.383465                           & 7.157740e-04                       & 1.008493e-02                       & ASV708                             & Lansing-Gv                         & SampleType                         & CH\\_CS                            & ⋯                                  & SampleType                         & CH\\_CS                            & 27                                 & Bacteria                           & Proteobacteria                     & Deltaproteobacteria                & Myxococcales                       & Haliangiaceae                      & Haliangium                         & 2                                 \\\\\n",
       "\\end{tabular}\n"
      ],
      "text/markdown": [
       "\n",
       "baseMean.x | log2FoldChange.x | lfcSE.x | stat.x | pvalue.x | padj.x | OTU | Subset.x | Term.x | Contrast.x | ⋯ | Term.y | Contrast.y | DAI.y | Kingdom.y | Phylum.y | Class.y | Order.y | Family.y | Genus.y | Experiment.y | \n",
       "|---|---|---|---|---|---|---|---|---|---|\n",
       "| 136.95264                          |  4.977612                          | 1.190598                           | 4.180767                           | 2.905274e-05                       | 1.192425e-03                       | ASV6                               | Lansing-Gv                         | SampleType                         | CH_CS                              | ⋯                                  | SampleType                         | CH_CS                              | 27                                 | Bacteria                           | Proteobacteria                     | Gammaproteobacteria                | Cellvibrionales                    | Cellvibrionaceae                   | Cellvibrio                         | 2                                  | \n",
       "|  26.70389                          |  8.430000                          | 1.785727                           | 4.720767                           | 2.349571e-06                       | 1.478663e-04                       | ASV14                              | Lansing-Gv                         | SampleType                         | CH_CS                              | ⋯                                  | SampleType                         | CH_CS                              | 27                                 | Bacteria                           | Proteobacteria                     | Deltaproteobacteria                | Myxococcales                       | Sandaracinaceae                    | NA                                 | 2                                  | \n",
       "| 159.58144                          | 11.082384                          | 1.362924                           | 8.131328                           | 4.246114e-16                       | 2.004166e-13                       | ASV18                              | Lansing-Gv                         | SampleType                         | CH_CS                              | ⋯                                  | SampleType                         | CH_CS                              | 27                                 | Bacteria                           | Proteobacteria                     | Deltaproteobacteria                | Myxococcales                       | Sandaracinaceae                    | NA                                 | 2                                  | \n",
       "|  70.80453                          |  8.223574                          | 2.360521                           | 3.483796                           | 4.943559e-04                       | 8.484944e-03                       | ASV23                              | Lansing-Gv                         | SampleType                         | CH_CS                              | ⋯                                  | SampleType                         | CH_CS                              | 27                                 | Bacteria                           | Fibrobacteres                      | Fibrobacteria                      | Fibrobacterales                    | Fibrobacteraceae                   | possible_genus_04                  | 2                                  | \n",
       "|  97.21443                          |  2.890655                          | 0.773702                           | 3.736134                           | 1.868708e-04                       | 4.302586e-03                       | ASV47                              | Lansing-Gv                         | SampleType                         | CH_CS                              | ⋯                                  | SampleType                         | CH_CS                              | 27                                 | Bacteria                           | Fibrobacteres                      | Fibrobacteria                      | Fibrobacterales                    | Fibrobacteraceae                   | possible_genus_04                  | 2                                  | \n",
       "|  36.28464                          |  4.431347                          | 1.337195                           | 3.313913                           | 9.200005e-04                       | 1.149737e-02                       | ASV61                              | Lansing-Gv                         | SampleType                         | CH_CS                              | ⋯                                  | SampleType                         | CH_CS                              | 27                                 | Bacteria                           | Proteobacteria                     | Gammaproteobacteria                | Betaproteobacteriales              | Burkholderiaceae                   | NA                                 | 2                                  | \n",
       "|  53.23993                          |  9.229180                          | 2.006168                           | 4.600402                           | 4.216764e-06                       | 2.487891e-04                       | ASV66                              | Lansing-Gv                         | SampleType                         | CH_CS                              | ⋯                                  | SampleType                         | CH_CS                              | 27                                 | Bacteria                           | Proteobacteria                     | Deltaproteobacteria                | Myxococcales                       | Haliangiaceae                      | Haliangium                         | 2                                  | \n",
       "|  41.01157                          |  7.246386                          | 2.361361                           | 3.068732                           | 2.149691e-03                       | 2.070723e-02                       | ASV77                              | Lansing-Gv                         | SampleType                         | CH_CS                              | ⋯                                  | SampleType                         | CH_CS                              | 27                                 | Bacteria                           | Proteobacteria                     | Gammaproteobacteria                | Gammaproteobacteria_Incertae_Sedis | Unknown_Family                     | Acidibacter                        | 2                                  | \n",
       "| 113.38638                          |  8.225041                          | 1.827274                           | 4.501263                           | 6.755095e-06                       | 3.751064e-04                       | ASV509                             | Lansing-Gv                         | SampleType                         | CH_CS                              | ⋯                                  | SampleType                         | CH_CS                              | 27                                 | Bacteria                           | Proteobacteria                     | Deltaproteobacteria                | Myxococcales                       | Haliangiaceae                      | Haliangium                         | 2                                  | \n",
       "|  11.05237                          |  7.191267                          | 2.125415                           | 3.383465                           | 7.157740e-04                       | 1.008493e-02                       | ASV708                             | Lansing-Gv                         | SampleType                         | CH_CS                              | ⋯                                  | SampleType                         | CH_CS                              | 27                                 | Bacteria                           | Proteobacteria                     | Deltaproteobacteria                | Myxococcales                       | Haliangiaceae                      | Haliangium                         | 2                                  | \n",
       "\n",
       "\n"
      ],
      "text/plain": [
       "   baseMean.x log2FoldChange.x lfcSE.x  stat.x   pvalue.x     padj.x      \n",
       "1  136.95264   4.977612        1.190598 4.180767 2.905274e-05 1.192425e-03\n",
       "2   26.70389   8.430000        1.785727 4.720767 2.349571e-06 1.478663e-04\n",
       "3  159.58144  11.082384        1.362924 8.131328 4.246114e-16 2.004166e-13\n",
       "4   70.80453   8.223574        2.360521 3.483796 4.943559e-04 8.484944e-03\n",
       "5   97.21443   2.890655        0.773702 3.736134 1.868708e-04 4.302586e-03\n",
       "6   36.28464   4.431347        1.337195 3.313913 9.200005e-04 1.149737e-02\n",
       "7   53.23993   9.229180        2.006168 4.600402 4.216764e-06 2.487891e-04\n",
       "8   41.01157   7.246386        2.361361 3.068732 2.149691e-03 2.070723e-02\n",
       "9  113.38638   8.225041        1.827274 4.501263 6.755095e-06 3.751064e-04\n",
       "10  11.05237   7.191267        2.125415 3.383465 7.157740e-04 1.008493e-02\n",
       "   OTU    Subset.x   Term.x     Contrast.x ⋯ Term.y     Contrast.y DAI.y\n",
       "1  ASV6   Lansing-Gv SampleType CH_CS      ⋯ SampleType CH_CS      27   \n",
       "2  ASV14  Lansing-Gv SampleType CH_CS      ⋯ SampleType CH_CS      27   \n",
       "3  ASV18  Lansing-Gv SampleType CH_CS      ⋯ SampleType CH_CS      27   \n",
       "4  ASV23  Lansing-Gv SampleType CH_CS      ⋯ SampleType CH_CS      27   \n",
       "5  ASV47  Lansing-Gv SampleType CH_CS      ⋯ SampleType CH_CS      27   \n",
       "6  ASV61  Lansing-Gv SampleType CH_CS      ⋯ SampleType CH_CS      27   \n",
       "7  ASV66  Lansing-Gv SampleType CH_CS      ⋯ SampleType CH_CS      27   \n",
       "8  ASV77  Lansing-Gv SampleType CH_CS      ⋯ SampleType CH_CS      27   \n",
       "9  ASV509 Lansing-Gv SampleType CH_CS      ⋯ SampleType CH_CS      27   \n",
       "10 ASV708 Lansing-Gv SampleType CH_CS      ⋯ SampleType CH_CS      27   \n",
       "   Kingdom.y Phylum.y       Class.y            \n",
       "1  Bacteria  Proteobacteria Gammaproteobacteria\n",
       "2  Bacteria  Proteobacteria Deltaproteobacteria\n",
       "3  Bacteria  Proteobacteria Deltaproteobacteria\n",
       "4  Bacteria  Fibrobacteres  Fibrobacteria      \n",
       "5  Bacteria  Fibrobacteres  Fibrobacteria      \n",
       "6  Bacteria  Proteobacteria Gammaproteobacteria\n",
       "7  Bacteria  Proteobacteria Deltaproteobacteria\n",
       "8  Bacteria  Proteobacteria Gammaproteobacteria\n",
       "9  Bacteria  Proteobacteria Deltaproteobacteria\n",
       "10 Bacteria  Proteobacteria Deltaproteobacteria\n",
       "   Order.y                            Family.y         Genus.y          \n",
       "1  Cellvibrionales                    Cellvibrionaceae Cellvibrio       \n",
       "2  Myxococcales                       Sandaracinaceae  NA               \n",
       "3  Myxococcales                       Sandaracinaceae  NA               \n",
       "4  Fibrobacterales                    Fibrobacteraceae possible_genus_04\n",
       "5  Fibrobacterales                    Fibrobacteraceae possible_genus_04\n",
       "6  Betaproteobacteriales              Burkholderiaceae NA               \n",
       "7  Myxococcales                       Haliangiaceae    Haliangium       \n",
       "8  Gammaproteobacteria_Incertae_Sedis Unknown_Family   Acidibacter      \n",
       "9  Myxococcales                       Haliangiaceae    Haliangium       \n",
       "10 Myxococcales                       Haliangiaceae    Haliangium       \n",
       "   Experiment.y\n",
       "1  2           \n",
       "2  2           \n",
       "3  2           \n",
       "4  2           \n",
       "5  2           \n",
       "6  2           \n",
       "7  2           \n",
       "8  2           \n",
       "9  2           \n",
       "10 2           "
      ]
     },
     "metadata": {},
     "output_type": "display_data"
    }
   ],
   "source": [
    "# Get lists of experiment 1 and three lists of experiment 2, see which match\n",
    "HA1.Lansing = df.l2fc.Exp1 %>% \n",
    "    filter(Contrast == \"CH_CS\" & padj < 0.05 & log2FoldChange > 0 & Subset == \"Lansing-Gv\")\n",
    "HA2.Lansing = df.l2fc.Exp2 %>% \n",
    "    filter(Contrast == \"CH_CS\" & padj < 0.05 & log2FoldChange > 0 & Subset == \"Lansing-Gv\")\n",
    "\n",
    "ConsistentLansingASVs = inner_join(HA1.Lansing, HA2.Lansing, by = \"OTU\")\n",
    "ConsistentLansingASVs"
   ]
  },
  {
   "cell_type": "code",
   "execution_count": 95,
   "metadata": {},
   "outputs": [
    {
     "data": {
      "text/html": [
       "<table>\n",
       "<thead><tr><th scope=col>baseMean.x</th><th scope=col>log2FoldChange.x</th><th scope=col>lfcSE.x</th><th scope=col>stat.x</th><th scope=col>pvalue.x</th><th scope=col>padj.x</th><th scope=col>OTU</th><th scope=col>Subset.x</th><th scope=col>Term.x</th><th scope=col>Contrast.x</th><th scope=col>⋯</th><th scope=col>Term.y</th><th scope=col>Contrast.y</th><th scope=col>DAI.y</th><th scope=col>Kingdom.y</th><th scope=col>Phylum.y</th><th scope=col>Class.y</th><th scope=col>Order.y</th><th scope=col>Family.y</th><th scope=col>Genus.y</th><th scope=col>Experiment.y</th></tr></thead>\n",
       "<tbody>\n",
       "\t<tr><td>112.59177            </td><td>5.606874             </td><td>1.445703             </td><td>3.878302             </td><td>1.051880e-04         </td><td>0.0045087431         </td><td>ASV14                </td><td>Florence-Gv          </td><td>SampleType           </td><td>CH_CS                </td><td>⋯                    </td><td>SampleType           </td><td>CH_CS                </td><td>27                   </td><td>Bacteria             </td><td>Proteobacteria       </td><td>Deltaproteobacteria  </td><td>Myxococcales         </td><td>Sandaracinaceae      </td><td>NA                   </td><td>2                    </td></tr>\n",
       "\t<tr><td> 27.26155            </td><td>7.877057             </td><td>2.215345             </td><td>3.555680             </td><td>3.770032e-04         </td><td>0.0113949114         </td><td>ASV18                </td><td>Florence-Gv          </td><td>SampleType           </td><td>CH_CS                </td><td>⋯                    </td><td>SampleType           </td><td>CH_CS                </td><td>27                   </td><td>Bacteria             </td><td>Proteobacteria       </td><td>Deltaproteobacteria  </td><td>Myxococcales         </td><td>Sandaracinaceae      </td><td>NA                   </td><td>2                    </td></tr>\n",
       "\t<tr><td> 70.48888            </td><td>9.215780             </td><td>2.005356             </td><td>4.595582             </td><td>4.315422e-06         </td><td>0.0003463126         </td><td>ASV118               </td><td>Florence-Gv          </td><td>SampleType           </td><td>CH_CS                </td><td>⋯                    </td><td>SampleType           </td><td>CH_CS                </td><td>27                   </td><td>Bacteria             </td><td>Proteobacteria       </td><td>Gammaproteobacteria  </td><td>Betaproteobacteriales</td><td>Burkholderiaceae     </td><td>Noviherbaspirillum   </td><td>2                    </td></tr>\n",
       "\t<tr><td>104.95389            </td><td>8.419238             </td><td>2.651464             </td><td>3.175317             </td><td>1.496729e-03         </td><td>0.0320300102         </td><td>ASV143               </td><td>Florence-Gv          </td><td>SampleType           </td><td>CH_CS                </td><td>⋯                    </td><td>SampleType           </td><td>CH_CS                </td><td>27                   </td><td>Bacteria             </td><td>Proteobacteria       </td><td>Gammaproteobacteria  </td><td>Betaproteobacteriales</td><td>Burkholderiaceae     </td><td>NA                   </td><td>2                    </td></tr>\n",
       "\t<tr><td> 61.26840            </td><td>7.838941             </td><td>2.527283             </td><td>3.101727             </td><td>1.923954e-03         </td><td>0.0385993296         </td><td>ASV341               </td><td>Florence-Gv          </td><td>SampleType           </td><td>CH_CS                </td><td>⋯                    </td><td>SampleType           </td><td>CH_CS                </td><td>27                   </td><td>Bacteria             </td><td>Proteobacteria       </td><td>Gammaproteobacteria  </td><td>Betaproteobacteriales</td><td>Burkholderiaceae     </td><td>Azohydromonas        </td><td>2                    </td></tr>\n",
       "\t<tr><td> 34.00978            </td><td>8.514978             </td><td>1.743000             </td><td>4.885243             </td><td>1.033013e-06         </td><td>0.0001105324         </td><td>ASV528               </td><td>Florence-Gv          </td><td>SampleType           </td><td>CH_CS                </td><td>⋯                    </td><td>SampleType           </td><td>CH_CS                </td><td>27                   </td><td>Bacteria             </td><td>Proteobacteria       </td><td>Deltaproteobacteria  </td><td>Oligoflexales        </td><td>0319-6G20            </td><td>NA                   </td><td>2                    </td></tr>\n",
       "</tbody>\n",
       "</table>\n"
      ],
      "text/latex": [
       "\\begin{tabular}{r|lllllllllllllllllllllllllllllllllll}\n",
       " baseMean.x & log2FoldChange.x & lfcSE.x & stat.x & pvalue.x & padj.x & OTU & Subset.x & Term.x & Contrast.x & ⋯ & Term.y & Contrast.y & DAI.y & Kingdom.y & Phylum.y & Class.y & Order.y & Family.y & Genus.y & Experiment.y\\\\\n",
       "\\hline\n",
       "\t 112.59177             & 5.606874              & 1.445703              & 3.878302              & 1.051880e-04          & 0.0045087431          & ASV14                 & Florence-Gv           & SampleType            & CH\\_CS               & ⋯                     & SampleType            & CH\\_CS               & 27                    & Bacteria              & Proteobacteria        & Deltaproteobacteria   & Myxococcales          & Sandaracinaceae       & NA                    & 2                    \\\\\n",
       "\t  27.26155             & 7.877057              & 2.215345              & 3.555680              & 3.770032e-04          & 0.0113949114          & ASV18                 & Florence-Gv           & SampleType            & CH\\_CS               & ⋯                     & SampleType            & CH\\_CS               & 27                    & Bacteria              & Proteobacteria        & Deltaproteobacteria   & Myxococcales          & Sandaracinaceae       & NA                    & 2                    \\\\\n",
       "\t  70.48888             & 9.215780              & 2.005356              & 4.595582              & 4.315422e-06          & 0.0003463126          & ASV118                & Florence-Gv           & SampleType            & CH\\_CS               & ⋯                     & SampleType            & CH\\_CS               & 27                    & Bacteria              & Proteobacteria        & Gammaproteobacteria   & Betaproteobacteriales & Burkholderiaceae      & Noviherbaspirillum    & 2                    \\\\\n",
       "\t 104.95389             & 8.419238              & 2.651464              & 3.175317              & 1.496729e-03          & 0.0320300102          & ASV143                & Florence-Gv           & SampleType            & CH\\_CS               & ⋯                     & SampleType            & CH\\_CS               & 27                    & Bacteria              & Proteobacteria        & Gammaproteobacteria   & Betaproteobacteriales & Burkholderiaceae      & NA                    & 2                    \\\\\n",
       "\t  61.26840             & 7.838941              & 2.527283              & 3.101727              & 1.923954e-03          & 0.0385993296          & ASV341                & Florence-Gv           & SampleType            & CH\\_CS               & ⋯                     & SampleType            & CH\\_CS               & 27                    & Bacteria              & Proteobacteria        & Gammaproteobacteria   & Betaproteobacteriales & Burkholderiaceae      & Azohydromonas         & 2                    \\\\\n",
       "\t  34.00978             & 8.514978              & 1.743000              & 4.885243              & 1.033013e-06          & 0.0001105324          & ASV528                & Florence-Gv           & SampleType            & CH\\_CS               & ⋯                     & SampleType            & CH\\_CS               & 27                    & Bacteria              & Proteobacteria        & Deltaproteobacteria   & Oligoflexales         & 0319-6G20             & NA                    & 2                    \\\\\n",
       "\\end{tabular}\n"
      ],
      "text/markdown": [
       "\n",
       "baseMean.x | log2FoldChange.x | lfcSE.x | stat.x | pvalue.x | padj.x | OTU | Subset.x | Term.x | Contrast.x | ⋯ | Term.y | Contrast.y | DAI.y | Kingdom.y | Phylum.y | Class.y | Order.y | Family.y | Genus.y | Experiment.y | \n",
       "|---|---|---|---|---|---|\n",
       "| 112.59177             | 5.606874              | 1.445703              | 3.878302              | 1.051880e-04          | 0.0045087431          | ASV14                 | Florence-Gv           | SampleType            | CH_CS                 | ⋯                     | SampleType            | CH_CS                 | 27                    | Bacteria              | Proteobacteria        | Deltaproteobacteria   | Myxococcales          | Sandaracinaceae       | NA                    | 2                     | \n",
       "|  27.26155             | 7.877057              | 2.215345              | 3.555680              | 3.770032e-04          | 0.0113949114          | ASV18                 | Florence-Gv           | SampleType            | CH_CS                 | ⋯                     | SampleType            | CH_CS                 | 27                    | Bacteria              | Proteobacteria        | Deltaproteobacteria   | Myxococcales          | Sandaracinaceae       | NA                    | 2                     | \n",
       "|  70.48888             | 9.215780              | 2.005356              | 4.595582              | 4.315422e-06          | 0.0003463126          | ASV118                | Florence-Gv           | SampleType            | CH_CS                 | ⋯                     | SampleType            | CH_CS                 | 27                    | Bacteria              | Proteobacteria        | Gammaproteobacteria   | Betaproteobacteriales | Burkholderiaceae      | Noviherbaspirillum    | 2                     | \n",
       "| 104.95389             | 8.419238              | 2.651464              | 3.175317              | 1.496729e-03          | 0.0320300102          | ASV143                | Florence-Gv           | SampleType            | CH_CS                 | ⋯                     | SampleType            | CH_CS                 | 27                    | Bacteria              | Proteobacteria        | Gammaproteobacteria   | Betaproteobacteriales | Burkholderiaceae      | NA                    | 2                     | \n",
       "|  61.26840             | 7.838941              | 2.527283              | 3.101727              | 1.923954e-03          | 0.0385993296          | ASV341                | Florence-Gv           | SampleType            | CH_CS                 | ⋯                     | SampleType            | CH_CS                 | 27                    | Bacteria              | Proteobacteria        | Gammaproteobacteria   | Betaproteobacteriales | Burkholderiaceae      | Azohydromonas         | 2                     | \n",
       "|  34.00978             | 8.514978              | 1.743000              | 4.885243              | 1.033013e-06          | 0.0001105324          | ASV528                | Florence-Gv           | SampleType            | CH_CS                 | ⋯                     | SampleType            | CH_CS                 | 27                    | Bacteria              | Proteobacteria        | Deltaproteobacteria   | Oligoflexales         | 0319-6G20             | NA                    | 2                     | \n",
       "\n",
       "\n"
      ],
      "text/plain": [
       "  baseMean.x log2FoldChange.x lfcSE.x  stat.x   pvalue.x     padj.x      \n",
       "1 112.59177  5.606874         1.445703 3.878302 1.051880e-04 0.0045087431\n",
       "2  27.26155  7.877057         2.215345 3.555680 3.770032e-04 0.0113949114\n",
       "3  70.48888  9.215780         2.005356 4.595582 4.315422e-06 0.0003463126\n",
       "4 104.95389  8.419238         2.651464 3.175317 1.496729e-03 0.0320300102\n",
       "5  61.26840  7.838941         2.527283 3.101727 1.923954e-03 0.0385993296\n",
       "6  34.00978  8.514978         1.743000 4.885243 1.033013e-06 0.0001105324\n",
       "  OTU    Subset.x    Term.x     Contrast.x ⋯ Term.y     Contrast.y DAI.y\n",
       "1 ASV14  Florence-Gv SampleType CH_CS      ⋯ SampleType CH_CS      27   \n",
       "2 ASV18  Florence-Gv SampleType CH_CS      ⋯ SampleType CH_CS      27   \n",
       "3 ASV118 Florence-Gv SampleType CH_CS      ⋯ SampleType CH_CS      27   \n",
       "4 ASV143 Florence-Gv SampleType CH_CS      ⋯ SampleType CH_CS      27   \n",
       "5 ASV341 Florence-Gv SampleType CH_CS      ⋯ SampleType CH_CS      27   \n",
       "6 ASV528 Florence-Gv SampleType CH_CS      ⋯ SampleType CH_CS      27   \n",
       "  Kingdom.y Phylum.y       Class.y             Order.y              \n",
       "1 Bacteria  Proteobacteria Deltaproteobacteria Myxococcales         \n",
       "2 Bacteria  Proteobacteria Deltaproteobacteria Myxococcales         \n",
       "3 Bacteria  Proteobacteria Gammaproteobacteria Betaproteobacteriales\n",
       "4 Bacteria  Proteobacteria Gammaproteobacteria Betaproteobacteriales\n",
       "5 Bacteria  Proteobacteria Gammaproteobacteria Betaproteobacteriales\n",
       "6 Bacteria  Proteobacteria Deltaproteobacteria Oligoflexales        \n",
       "  Family.y         Genus.y            Experiment.y\n",
       "1 Sandaracinaceae  NA                 2           \n",
       "2 Sandaracinaceae  NA                 2           \n",
       "3 Burkholderiaceae Noviherbaspirillum 2           \n",
       "4 Burkholderiaceae NA                 2           \n",
       "5 Burkholderiaceae Azohydromonas      2           \n",
       "6 0319-6G20        NA                 2           "
      ]
     },
     "metadata": {},
     "output_type": "display_data"
    }
   ],
   "source": [
    "# Get lists of experiment 1 and three lists of experiment 2, see which match\n",
    "HA1.Florence = df.l2fc.Exp1 %>% \n",
    "    filter(Contrast == \"CH_CS\" & padj < 0.05 & log2FoldChange > 0 & Subset == \"Florence-Gv\")\n",
    "HA2.Florence = df.l2fc.Exp2 %>% \n",
    "    filter(Contrast == \"CH_CS\" & padj < 0.05 & log2FoldChange > 0 & Subset == \"Florence-Gv\")\n",
    "\n",
    "ConsistentFlorenceASVs  = inner_join(HA1.Florence, HA2.Florence, by = \"OTU\")\n",
    "ConsistentFlorenceASVs"
   ]
  },
  {
   "cell_type": "code",
   "execution_count": 96,
   "metadata": {},
   "outputs": [
    {
     "data": {
      "text/html": [
       "<table>\n",
       "<thead><tr><th scope=col>baseMean.x</th><th scope=col>log2FoldChange.x</th><th scope=col>lfcSE.x</th><th scope=col>stat.x</th><th scope=col>pvalue.x</th><th scope=col>padj.x</th><th scope=col>OTU</th><th scope=col>Subset.x</th><th scope=col>Term.x</th><th scope=col>Contrast.x</th><th scope=col>⋯</th><th scope=col>Term.y</th><th scope=col>Contrast.y</th><th scope=col>DAI.y</th><th scope=col>Kingdom.y</th><th scope=col>Phylum.y</th><th scope=col>Class.y</th><th scope=col>Order.y</th><th scope=col>Family.y</th><th scope=col>Genus.y</th><th scope=col>Experiment.y</th></tr></thead>\n",
       "<tbody>\n",
       "\t<tr><td> 72.29974          </td><td>3.921081           </td><td>0.8914609          </td><td>4.398489           </td><td>1.090074e-05       </td><td>1.978903e-04       </td><td>ASV6               </td><td>Pendelton-Gv       </td><td>SampleType         </td><td>CH_CS              </td><td>⋯                  </td><td>SampleType         </td><td>CH_CS              </td><td>27                 </td><td>Bacteria           </td><td>Proteobacteria     </td><td>Gammaproteobacteria</td><td>Cellvibrionales    </td><td>Cellvibrionaceae   </td><td>Cellvibrio         </td><td>2                  </td></tr>\n",
       "\t<tr><td>242.22552          </td><td>6.014579           </td><td>0.6040114          </td><td>9.957724           </td><td>2.333428e-23       </td><td>1.101378e-20       </td><td>ASV14              </td><td>Pendelton-Gv       </td><td>SampleType         </td><td>CH_CS              </td><td>⋯                  </td><td>SampleType         </td><td>CH_CS              </td><td>27                 </td><td>Bacteria           </td><td>Proteobacteria     </td><td>Deltaproteobacteria</td><td>Myxococcales       </td><td>Sandaracinaceae    </td><td>NA                 </td><td>2                  </td></tr>\n",
       "\t<tr><td>232.77291          </td><td>4.922357           </td><td>0.5099702          </td><td>9.652245           </td><td>4.809100e-22       </td><td>1.513263e-19       </td><td>ASV18              </td><td>Pendelton-Gv       </td><td>SampleType         </td><td>CH_CS              </td><td>⋯                  </td><td>SampleType         </td><td>CH_CS              </td><td>27                 </td><td>Bacteria           </td><td>Proteobacteria     </td><td>Deltaproteobacteria</td><td>Myxococcales       </td><td>Sandaracinaceae    </td><td>NA                 </td><td>2                  </td></tr>\n",
       "\t<tr><td> 11.52715          </td><td>7.077820           </td><td>2.0168512          </td><td>3.509342           </td><td>4.492170e-04       </td><td>3.339062e-03       </td><td>ASV66              </td><td>Pendelton-Gv       </td><td>SampleType         </td><td>CH_CS              </td><td>⋯                  </td><td>SampleType         </td><td>CH_CS              </td><td>27                 </td><td>Bacteria           </td><td>Proteobacteria     </td><td>Deltaproteobacteria</td><td>Myxococcales       </td><td>Haliangiaceae      </td><td>Haliangium         </td><td>2                  </td></tr>\n",
       "</tbody>\n",
       "</table>\n"
      ],
      "text/latex": [
       "\\begin{tabular}{r|lllllllllllllllllllllllllllllllllll}\n",
       " baseMean.x & log2FoldChange.x & lfcSE.x & stat.x & pvalue.x & padj.x & OTU & Subset.x & Term.x & Contrast.x & ⋯ & Term.y & Contrast.y & DAI.y & Kingdom.y & Phylum.y & Class.y & Order.y & Family.y & Genus.y & Experiment.y\\\\\n",
       "\\hline\n",
       "\t  72.29974           & 3.921081            & 0.8914609           & 4.398489            & 1.090074e-05        & 1.978903e-04        & ASV6                & Pendelton-Gv        & SampleType          & CH\\_CS             & ⋯                   & SampleType          & CH\\_CS             & 27                  & Bacteria            & Proteobacteria      & Gammaproteobacteria & Cellvibrionales     & Cellvibrionaceae    & Cellvibrio          & 2                  \\\\\n",
       "\t 242.22552           & 6.014579            & 0.6040114           & 9.957724            & 2.333428e-23        & 1.101378e-20        & ASV14               & Pendelton-Gv        & SampleType          & CH\\_CS             & ⋯                   & SampleType          & CH\\_CS             & 27                  & Bacteria            & Proteobacteria      & Deltaproteobacteria & Myxococcales        & Sandaracinaceae     & NA                  & 2                  \\\\\n",
       "\t 232.77291           & 4.922357            & 0.5099702           & 9.652245            & 4.809100e-22        & 1.513263e-19        & ASV18               & Pendelton-Gv        & SampleType          & CH\\_CS             & ⋯                   & SampleType          & CH\\_CS             & 27                  & Bacteria            & Proteobacteria      & Deltaproteobacteria & Myxococcales        & Sandaracinaceae     & NA                  & 2                  \\\\\n",
       "\t  11.52715           & 7.077820            & 2.0168512           & 3.509342            & 4.492170e-04        & 3.339062e-03        & ASV66               & Pendelton-Gv        & SampleType          & CH\\_CS             & ⋯                   & SampleType          & CH\\_CS             & 27                  & Bacteria            & Proteobacteria      & Deltaproteobacteria & Myxococcales        & Haliangiaceae       & Haliangium          & 2                  \\\\\n",
       "\\end{tabular}\n"
      ],
      "text/markdown": [
       "\n",
       "baseMean.x | log2FoldChange.x | lfcSE.x | stat.x | pvalue.x | padj.x | OTU | Subset.x | Term.x | Contrast.x | ⋯ | Term.y | Contrast.y | DAI.y | Kingdom.y | Phylum.y | Class.y | Order.y | Family.y | Genus.y | Experiment.y | \n",
       "|---|---|---|---|\n",
       "|  72.29974           | 3.921081            | 0.8914609           | 4.398489            | 1.090074e-05        | 1.978903e-04        | ASV6                | Pendelton-Gv        | SampleType          | CH_CS               | ⋯                   | SampleType          | CH_CS               | 27                  | Bacteria            | Proteobacteria      | Gammaproteobacteria | Cellvibrionales     | Cellvibrionaceae    | Cellvibrio          | 2                   | \n",
       "| 242.22552           | 6.014579            | 0.6040114           | 9.957724            | 2.333428e-23        | 1.101378e-20        | ASV14               | Pendelton-Gv        | SampleType          | CH_CS               | ⋯                   | SampleType          | CH_CS               | 27                  | Bacteria            | Proteobacteria      | Deltaproteobacteria | Myxococcales        | Sandaracinaceae     | NA                  | 2                   | \n",
       "| 232.77291           | 4.922357            | 0.5099702           | 9.652245            | 4.809100e-22        | 1.513263e-19        | ASV18               | Pendelton-Gv        | SampleType          | CH_CS               | ⋯                   | SampleType          | CH_CS               | 27                  | Bacteria            | Proteobacteria      | Deltaproteobacteria | Myxococcales        | Sandaracinaceae     | NA                  | 2                   | \n",
       "|  11.52715           | 7.077820            | 2.0168512           | 3.509342            | 4.492170e-04        | 3.339062e-03        | ASV66               | Pendelton-Gv        | SampleType          | CH_CS               | ⋯                   | SampleType          | CH_CS               | 27                  | Bacteria            | Proteobacteria      | Deltaproteobacteria | Myxococcales        | Haliangiaceae       | Haliangium          | 2                   | \n",
       "\n",
       "\n"
      ],
      "text/plain": [
       "  baseMean.x log2FoldChange.x lfcSE.x   stat.x   pvalue.x     padj.x      \n",
       "1  72.29974  3.921081         0.8914609 4.398489 1.090074e-05 1.978903e-04\n",
       "2 242.22552  6.014579         0.6040114 9.957724 2.333428e-23 1.101378e-20\n",
       "3 232.77291  4.922357         0.5099702 9.652245 4.809100e-22 1.513263e-19\n",
       "4  11.52715  7.077820         2.0168512 3.509342 4.492170e-04 3.339062e-03\n",
       "  OTU   Subset.x     Term.x     Contrast.x ⋯ Term.y     Contrast.y DAI.y\n",
       "1 ASV6  Pendelton-Gv SampleType CH_CS      ⋯ SampleType CH_CS      27   \n",
       "2 ASV14 Pendelton-Gv SampleType CH_CS      ⋯ SampleType CH_CS      27   \n",
       "3 ASV18 Pendelton-Gv SampleType CH_CS      ⋯ SampleType CH_CS      27   \n",
       "4 ASV66 Pendelton-Gv SampleType CH_CS      ⋯ SampleType CH_CS      27   \n",
       "  Kingdom.y Phylum.y       Class.y             Order.y         Family.y        \n",
       "1 Bacteria  Proteobacteria Gammaproteobacteria Cellvibrionales Cellvibrionaceae\n",
       "2 Bacteria  Proteobacteria Deltaproteobacteria Myxococcales    Sandaracinaceae \n",
       "3 Bacteria  Proteobacteria Deltaproteobacteria Myxococcales    Sandaracinaceae \n",
       "4 Bacteria  Proteobacteria Deltaproteobacteria Myxococcales    Haliangiaceae   \n",
       "  Genus.y    Experiment.y\n",
       "1 Cellvibrio 2           \n",
       "2 NA         2           \n",
       "3 NA         2           \n",
       "4 Haliangium 2           "
      ]
     },
     "metadata": {},
     "output_type": "display_data"
    }
   ],
   "source": [
    "# Get lists of experiment 1 and three lists of experiment 2, see which match\n",
    "HA1.Pendelton = df.l2fc.Exp1 %>% \n",
    "    filter(Contrast == \"CH_CS\" & padj < 0.05 & log2FoldChange > 0 & Subset == \"Pendelton-Gv\")\n",
    "HA2.Pendelton = df.l2fc.Exp2 %>% \n",
    "    filter(Contrast == \"CH_CS\" & padj < 0.05 & log2FoldChange > 0 & Subset == \"Pendelton-Gv\")\n",
    "\n",
    "ConsistentPendeltonASVs = inner_join(HA1.Pendelton, HA2.Pendelton, by = \"OTU\")\n",
    "\n",
    "ConsistentPendeltonASVs"
   ]
  },
  {
   "cell_type": "code",
   "execution_count": 99,
   "metadata": {},
   "outputs": [
    {
     "data": {
      "text/html": [
       "<table>\n",
       "<thead><tr><th scope=col>OTU</th><th scope=col>Phylum.x.x</th><th scope=col>Class.x.x</th><th scope=col>Order.x.x</th><th scope=col>Family.x.x</th><th scope=col>Genus.x.x</th></tr></thead>\n",
       "<tbody>\n",
       "\t<tr><td>ASV14              </td><td>Proteobacteria     </td><td>Deltaproteobacteria</td><td>Myxococcales       </td><td>Sandaracinaceae    </td><td>NA                 </td></tr>\n",
       "\t<tr><td>ASV18              </td><td>Proteobacteria     </td><td>Deltaproteobacteria</td><td>Myxococcales       </td><td>Sandaracinaceae    </td><td>NA                 </td></tr>\n",
       "</tbody>\n",
       "</table>\n"
      ],
      "text/latex": [
       "\\begin{tabular}{r|llllll}\n",
       " OTU & Phylum.x.x & Class.x.x & Order.x.x & Family.x.x & Genus.x.x\\\\\n",
       "\\hline\n",
       "\t ASV14               & Proteobacteria      & Deltaproteobacteria & Myxococcales        & Sandaracinaceae     & NA                 \\\\\n",
       "\t ASV18               & Proteobacteria      & Deltaproteobacteria & Myxococcales        & Sandaracinaceae     & NA                 \\\\\n",
       "\\end{tabular}\n"
      ],
      "text/markdown": [
       "\n",
       "OTU | Phylum.x.x | Class.x.x | Order.x.x | Family.x.x | Genus.x.x | \n",
       "|---|---|\n",
       "| ASV14               | Proteobacteria      | Deltaproteobacteria | Myxococcales        | Sandaracinaceae     | NA                  | \n",
       "| ASV18               | Proteobacteria      | Deltaproteobacteria | Myxococcales        | Sandaracinaceae     | NA                  | \n",
       "\n",
       "\n"
      ],
      "text/plain": [
       "  OTU   Phylum.x.x     Class.x.x           Order.x.x    Family.x.x     \n",
       "1 ASV14 Proteobacteria Deltaproteobacteria Myxococcales Sandaracinaceae\n",
       "2 ASV18 Proteobacteria Deltaproteobacteria Myxococcales Sandaracinaceae\n",
       "  Genus.x.x\n",
       "1 NA       \n",
       "2 NA       "
      ]
     },
     "metadata": {},
     "output_type": "display_data"
    }
   ],
   "source": [
    "SuperConsistentASVs = inner_join(ConsistentLansingASVs, ConsistentFlorenceASVs, by = \"OTU\") %>% \n",
    "        select(OTU, Phylum.x.x, Class.x.x, Order.x.x, Family.x.x, Genus.x.x) %>%\n",
    "        inner_join(., ConsistentPendeltonASVs, by = \"OTU\") %>% \n",
    "        select(OTU, Phylum.x.x, Class.x.x, Order.x.x, Family.x.x, Genus.x.x)\n",
    "SuperConsistentASVs"
   ]
  },
  {
   "cell_type": "markdown",
   "metadata": {},
   "source": [
    "# Compare consistently enriched ASVs with spore community"
   ]
  },
  {
   "cell_type": "code",
   "execution_count": 82,
   "metadata": {},
   "outputs": [
    {
     "data": {
      "text/plain": [
       "phyloseq-class experiment-level object\n",
       "otu_table()   OTU Table:         [ 298 taxa and 1 samples ]\n",
       "sample_data() Sample Data:       [ 1 samples by 11 sample variables ]\n",
       "tax_table()   Taxonomy Table:    [ 298 taxa by 6 taxonomic ranks ]"
      ]
     },
     "metadata": {},
     "output_type": "display_data"
    }
   ],
   "source": [
    "#Read in phyloseq object and subset to just GV spores\n",
    "ps.spore = readRDS(physeq_file) %>% subset_taxa(., !is.na(Phylum)) %>%\n",
    "    # remove non-experimental controls\n",
    "    \n",
    "    subset_samples(., SampleType == \"GV\") %>%\n",
    "    filter_taxa(., function(x) max(x) > 0, TRUE)\n",
    "    # T0R1 has all NaN for some reason\n",
    "    #subset_samples(!Sample == \"T0R1\") #%>%\n",
    "     # re-normalize after subsetting taxa\n",
    "    #transform_sample_counts(., function(x) x/sum(x))\n",
    "sample_data(ps.spore)$Rep = as.factor(sample_data(ps.spore)$Rep)\n",
    "\n",
    "ps.spore"
   ]
  },
  {
   "cell_type": "code",
   "execution_count": 101,
   "metadata": {},
   "outputs": [
    {
     "data": {
      "text/html": [
       "<table>\n",
       "<thead><tr><th scope=col>Counts</th><th scope=col>OTU</th></tr></thead>\n",
       "<tbody>\n",
       "\t<tr><td>76     </td><td>ASV34  </td></tr>\n",
       "\t<tr><td>61     </td><td>ASV58  </td></tr>\n",
       "\t<tr><td>56     </td><td>ASV109 </td></tr>\n",
       "\t<tr><td>51     </td><td>ASV148 </td></tr>\n",
       "\t<tr><td>49     </td><td>ASV77  </td></tr>\n",
       "\t<tr><td>45     </td><td>ASV68  </td></tr>\n",
       "\t<tr><td>38     </td><td>ASV381 </td></tr>\n",
       "\t<tr><td>36     </td><td>ASV8   </td></tr>\n",
       "\t<tr><td>34     </td><td>ASV55  </td></tr>\n",
       "\t<tr><td>33     </td><td>ASV235 </td></tr>\n",
       "\t<tr><td>32     </td><td>ASV28  </td></tr>\n",
       "\t<tr><td>30     </td><td>ASV828 </td></tr>\n",
       "\t<tr><td>29     </td><td>ASV149 </td></tr>\n",
       "\t<tr><td>28     </td><td>ASV24  </td></tr>\n",
       "\t<tr><td>28     </td><td>ASV80  </td></tr>\n",
       "\t<tr><td>28     </td><td>ASV219 </td></tr>\n",
       "\t<tr><td>28     </td><td>ASV273 </td></tr>\n",
       "\t<tr><td>28     </td><td>ASV1621</td></tr>\n",
       "\t<tr><td>27     </td><td>ASV323 </td></tr>\n",
       "\t<tr><td>27     </td><td>ASV1636</td></tr>\n",
       "\t<tr><td>26     </td><td>ASV230 </td></tr>\n",
       "\t<tr><td>26     </td><td>ASV5189</td></tr>\n",
       "\t<tr><td>25     </td><td>ASV5   </td></tr>\n",
       "\t<tr><td>25     </td><td>ASV16  </td></tr>\n",
       "\t<tr><td>25     </td><td>ASV249 </td></tr>\n",
       "\t<tr><td>25     </td><td>ASV472 </td></tr>\n",
       "\t<tr><td>24     </td><td>ASV71  </td></tr>\n",
       "\t<tr><td>24     </td><td>ASV92  </td></tr>\n",
       "\t<tr><td>24     </td><td>ASV234 </td></tr>\n",
       "\t<tr><td>24     </td><td>ASV265 </td></tr>\n",
       "\t<tr><td>⋮</td><td>⋮</td></tr>\n",
       "\t<tr><td>5       </td><td>ASV5119 </td></tr>\n",
       "\t<tr><td>5       </td><td>ASV8938 </td></tr>\n",
       "\t<tr><td>5       </td><td>ASV11097</td></tr>\n",
       "\t<tr><td>5       </td><td>ASV12833</td></tr>\n",
       "\t<tr><td>5       </td><td>ASV13520</td></tr>\n",
       "\t<tr><td>5       </td><td>ASV15902</td></tr>\n",
       "\t<tr><td>5       </td><td>ASV22044</td></tr>\n",
       "\t<tr><td>4       </td><td>ASV43   </td></tr>\n",
       "\t<tr><td>4       </td><td>ASV130  </td></tr>\n",
       "\t<tr><td>4       </td><td>ASV327  </td></tr>\n",
       "\t<tr><td>4       </td><td>ASV1061 </td></tr>\n",
       "\t<tr><td>4       </td><td>ASV1702 </td></tr>\n",
       "\t<tr><td>4       </td><td>ASV1986 </td></tr>\n",
       "\t<tr><td>4       </td><td>ASV2407 </td></tr>\n",
       "\t<tr><td>4       </td><td>ASV3072 </td></tr>\n",
       "\t<tr><td>4       </td><td>ASV3423 </td></tr>\n",
       "\t<tr><td>4       </td><td>ASV3971 </td></tr>\n",
       "\t<tr><td>4       </td><td>ASV4414 </td></tr>\n",
       "\t<tr><td>4       </td><td>ASV5186 </td></tr>\n",
       "\t<tr><td>4       </td><td>ASV9694 </td></tr>\n",
       "\t<tr><td>4       </td><td>ASV9996 </td></tr>\n",
       "\t<tr><td>4       </td><td>ASV10808</td></tr>\n",
       "\t<tr><td>4       </td><td>ASV13946</td></tr>\n",
       "\t<tr><td>3       </td><td>ASV1648 </td></tr>\n",
       "\t<tr><td>3       </td><td>ASV6297 </td></tr>\n",
       "\t<tr><td>3       </td><td>ASV8282 </td></tr>\n",
       "\t<tr><td>2       </td><td>ASV5375 </td></tr>\n",
       "\t<tr><td>2       </td><td>ASV8189 </td></tr>\n",
       "\t<tr><td>2       </td><td>ASV8439 </td></tr>\n",
       "\t<tr><td>1       </td><td>ASV1999 </td></tr>\n",
       "</tbody>\n",
       "</table>\n"
      ],
      "text/latex": [
       "\\begin{tabular}{r|ll}\n",
       " Counts & OTU\\\\\n",
       "\\hline\n",
       "\t 76      & ASV34  \\\\\n",
       "\t 61      & ASV58  \\\\\n",
       "\t 56      & ASV109 \\\\\n",
       "\t 51      & ASV148 \\\\\n",
       "\t 49      & ASV77  \\\\\n",
       "\t 45      & ASV68  \\\\\n",
       "\t 38      & ASV381 \\\\\n",
       "\t 36      & ASV8   \\\\\n",
       "\t 34      & ASV55  \\\\\n",
       "\t 33      & ASV235 \\\\\n",
       "\t 32      & ASV28  \\\\\n",
       "\t 30      & ASV828 \\\\\n",
       "\t 29      & ASV149 \\\\\n",
       "\t 28      & ASV24  \\\\\n",
       "\t 28      & ASV80  \\\\\n",
       "\t 28      & ASV219 \\\\\n",
       "\t 28      & ASV273 \\\\\n",
       "\t 28      & ASV1621\\\\\n",
       "\t 27      & ASV323 \\\\\n",
       "\t 27      & ASV1636\\\\\n",
       "\t 26      & ASV230 \\\\\n",
       "\t 26      & ASV5189\\\\\n",
       "\t 25      & ASV5   \\\\\n",
       "\t 25      & ASV16  \\\\\n",
       "\t 25      & ASV249 \\\\\n",
       "\t 25      & ASV472 \\\\\n",
       "\t 24      & ASV71  \\\\\n",
       "\t 24      & ASV92  \\\\\n",
       "\t 24      & ASV234 \\\\\n",
       "\t 24      & ASV265 \\\\\n",
       "\t ⋮ & ⋮\\\\\n",
       "\t 5        & ASV5119 \\\\\n",
       "\t 5        & ASV8938 \\\\\n",
       "\t 5        & ASV11097\\\\\n",
       "\t 5        & ASV12833\\\\\n",
       "\t 5        & ASV13520\\\\\n",
       "\t 5        & ASV15902\\\\\n",
       "\t 5        & ASV22044\\\\\n",
       "\t 4        & ASV43   \\\\\n",
       "\t 4        & ASV130  \\\\\n",
       "\t 4        & ASV327  \\\\\n",
       "\t 4        & ASV1061 \\\\\n",
       "\t 4        & ASV1702 \\\\\n",
       "\t 4        & ASV1986 \\\\\n",
       "\t 4        & ASV2407 \\\\\n",
       "\t 4        & ASV3072 \\\\\n",
       "\t 4        & ASV3423 \\\\\n",
       "\t 4        & ASV3971 \\\\\n",
       "\t 4        & ASV4414 \\\\\n",
       "\t 4        & ASV5186 \\\\\n",
       "\t 4        & ASV9694 \\\\\n",
       "\t 4        & ASV9996 \\\\\n",
       "\t 4        & ASV10808\\\\\n",
       "\t 4        & ASV13946\\\\\n",
       "\t 3        & ASV1648 \\\\\n",
       "\t 3        & ASV6297 \\\\\n",
       "\t 3        & ASV8282 \\\\\n",
       "\t 2        & ASV5375 \\\\\n",
       "\t 2        & ASV8189 \\\\\n",
       "\t 2        & ASV8439 \\\\\n",
       "\t 1        & ASV1999 \\\\\n",
       "\\end{tabular}\n"
      ],
      "text/markdown": [
       "\n",
       "Counts | OTU | \n",
       "|---|---|---|---|---|---|---|---|---|---|---|---|---|---|---|---|---|---|---|---|---|---|---|---|---|---|---|---|---|---|---|---|---|---|---|---|---|---|---|---|---|---|---|---|---|---|---|---|---|---|---|---|---|---|---|---|---|---|---|---|---|\n",
       "| 76      | ASV34   | \n",
       "| 61      | ASV58   | \n",
       "| 56      | ASV109  | \n",
       "| 51      | ASV148  | \n",
       "| 49      | ASV77   | \n",
       "| 45      | ASV68   | \n",
       "| 38      | ASV381  | \n",
       "| 36      | ASV8    | \n",
       "| 34      | ASV55   | \n",
       "| 33      | ASV235  | \n",
       "| 32      | ASV28   | \n",
       "| 30      | ASV828  | \n",
       "| 29      | ASV149  | \n",
       "| 28      | ASV24   | \n",
       "| 28      | ASV80   | \n",
       "| 28      | ASV219  | \n",
       "| 28      | ASV273  | \n",
       "| 28      | ASV1621 | \n",
       "| 27      | ASV323  | \n",
       "| 27      | ASV1636 | \n",
       "| 26      | ASV230  | \n",
       "| 26      | ASV5189 | \n",
       "| 25      | ASV5    | \n",
       "| 25      | ASV16   | \n",
       "| 25      | ASV249  | \n",
       "| 25      | ASV472  | \n",
       "| 24      | ASV71   | \n",
       "| 24      | ASV92   | \n",
       "| 24      | ASV234  | \n",
       "| 24      | ASV265  | \n",
       "| ⋮ | ⋮ | \n",
       "| 5        | ASV5119  | \n",
       "| 5        | ASV8938  | \n",
       "| 5        | ASV11097 | \n",
       "| 5        | ASV12833 | \n",
       "| 5        | ASV13520 | \n",
       "| 5        | ASV15902 | \n",
       "| 5        | ASV22044 | \n",
       "| 4        | ASV43    | \n",
       "| 4        | ASV130   | \n",
       "| 4        | ASV327   | \n",
       "| 4        | ASV1061  | \n",
       "| 4        | ASV1702  | \n",
       "| 4        | ASV1986  | \n",
       "| 4        | ASV2407  | \n",
       "| 4        | ASV3072  | \n",
       "| 4        | ASV3423  | \n",
       "| 4        | ASV3971  | \n",
       "| 4        | ASV4414  | \n",
       "| 4        | ASV5186  | \n",
       "| 4        | ASV9694  | \n",
       "| 4        | ASV9996  | \n",
       "| 4        | ASV10808 | \n",
       "| 4        | ASV13946 | \n",
       "| 3        | ASV1648  | \n",
       "| 3        | ASV6297  | \n",
       "| 3        | ASV8282  | \n",
       "| 2        | ASV5375  | \n",
       "| 2        | ASV8189  | \n",
       "| 2        | ASV8439  | \n",
       "| 1        | ASV1999  | \n",
       "\n",
       "\n"
      ],
      "text/plain": [
       "    Counts OTU     \n",
       "1   76     ASV34   \n",
       "2   61     ASV58   \n",
       "3   56     ASV109  \n",
       "4   51     ASV148  \n",
       "5   49     ASV77   \n",
       "6   45     ASV68   \n",
       "7   38     ASV381  \n",
       "8   36     ASV8    \n",
       "9   34     ASV55   \n",
       "10  33     ASV235  \n",
       "11  32     ASV28   \n",
       "12  30     ASV828  \n",
       "13  29     ASV149  \n",
       "14  28     ASV24   \n",
       "15  28     ASV80   \n",
       "16  28     ASV219  \n",
       "17  28     ASV273  \n",
       "18  28     ASV1621 \n",
       "19  27     ASV323  \n",
       "20  27     ASV1636 \n",
       "21  26     ASV230  \n",
       "22  26     ASV5189 \n",
       "23  25     ASV5    \n",
       "24  25     ASV16   \n",
       "25  25     ASV249  \n",
       "26  25     ASV472  \n",
       "27  24     ASV71   \n",
       "28  24     ASV92   \n",
       "29  24     ASV234  \n",
       "30  24     ASV265  \n",
       "⋮   ⋮      ⋮       \n",
       "269 5      ASV5119 \n",
       "270 5      ASV8938 \n",
       "271 5      ASV11097\n",
       "272 5      ASV12833\n",
       "273 5      ASV13520\n",
       "274 5      ASV15902\n",
       "275 5      ASV22044\n",
       "276 4      ASV43   \n",
       "277 4      ASV130  \n",
       "278 4      ASV327  \n",
       "279 4      ASV1061 \n",
       "280 4      ASV1702 \n",
       "281 4      ASV1986 \n",
       "282 4      ASV2407 \n",
       "283 4      ASV3072 \n",
       "284 4      ASV3423 \n",
       "285 4      ASV3971 \n",
       "286 4      ASV4414 \n",
       "287 4      ASV5186 \n",
       "288 4      ASV9694 \n",
       "289 4      ASV9996 \n",
       "290 4      ASV10808\n",
       "291 4      ASV13946\n",
       "292 3      ASV1648 \n",
       "293 3      ASV6297 \n",
       "294 3      ASV8282 \n",
       "295 2      ASV5375 \n",
       "296 2      ASV8189 \n",
       "297 2      ASV8439 \n",
       "298 1      ASV1999 "
      ]
     },
     "metadata": {},
     "output_type": "display_data"
    }
   ],
   "source": [
    "#Join counts from spore sample with table of OTUs occuring in each soil\n",
    "TS.spore = taxa_sums(ps.spore) %>% as.data.frame()\n",
    "colnames(TS.spore) = \"Counts\"\n",
    "TS.spore$OTU = row.names(TS.spore)\n",
    "arrange(TS.spore, desc(Counts))\n",
    "#sample_sums(ps.spore)"
   ]
  },
  {
   "cell_type": "code",
   "execution_count": 103,
   "metadata": {
    "scrolled": true
   },
   "outputs": [
    {
     "name": "stderr",
     "output_type": "stream",
     "text": [
      "Warning message:\n",
      "“Column `OTU` joining factor and character vector, coercing into character vector”"
     ]
    },
    {
     "data": {
      "text/html": [
       "<table>\n",
       "<thead><tr><th scope=col>OTU</th><th scope=col>Phylum.x.x</th><th scope=col>Class.x.x</th><th scope=col>Order.x.x</th><th scope=col>Family.x.x</th><th scope=col>Genus.x.x</th><th scope=col>Counts</th></tr></thead>\n",
       "<tbody>\n",
       "\t<tr><td>ASV18              </td><td>Proteobacteria     </td><td>Deltaproteobacteria</td><td>Myxococcales       </td><td>Sandaracinaceae    </td><td>NA                 </td><td>12                 </td></tr>\n",
       "</tbody>\n",
       "</table>\n"
      ],
      "text/latex": [
       "\\begin{tabular}{r|lllllll}\n",
       " OTU & Phylum.x.x & Class.x.x & Order.x.x & Family.x.x & Genus.x.x & Counts\\\\\n",
       "\\hline\n",
       "\t ASV18               & Proteobacteria      & Deltaproteobacteria & Myxococcales        & Sandaracinaceae     & NA                  & 12                 \\\\\n",
       "\\end{tabular}\n"
      ],
      "text/markdown": [
       "\n",
       "OTU | Phylum.x.x | Class.x.x | Order.x.x | Family.x.x | Genus.x.x | Counts | \n",
       "|---|\n",
       "| ASV18               | Proteobacteria      | Deltaproteobacteria | Myxococcales        | Sandaracinaceae     | NA                  | 12                  | \n",
       "\n",
       "\n"
      ],
      "text/plain": [
       "  OTU   Phylum.x.x     Class.x.x           Order.x.x    Family.x.x     \n",
       "1 ASV18 Proteobacteria Deltaproteobacteria Myxococcales Sandaracinaceae\n",
       "  Genus.x.x Counts\n",
       "1 NA        12    "
      ]
     },
     "metadata": {},
     "output_type": "display_data"
    }
   ],
   "source": [
    "inner_join(SuperConsistentASVs, TS.spore, by = \"OTU\")"
   ]
  },
  {
   "cell_type": "markdown",
   "metadata": {},
   "source": [
    "## Review ASV found enriched in both experiments in all soils for signature of contamination\n",
    "* Sandaracinaceae ASV14 and ASV18 is enriched in all soils in all experiments and is present on spores"
   ]
  },
  {
   "cell_type": "code",
   "execution_count": 111,
   "metadata": {},
   "outputs": [
    {
     "data": {
      "text/plain": [
       "phyloseq-class experiment-level object\n",
       "otu_table()   OTU Table:         [ 15128 taxa and 429 samples ]\n",
       "sample_data() Sample Data:       [ 429 samples by 11 sample variables ]\n",
       "tax_table()   Taxonomy Table:    [ 15128 taxa by 6 taxonomic ranks ]"
      ]
     },
     "metadata": {},
     "output_type": "display_data"
    }
   ],
   "source": [
    "physeq_file = \"~/Hyphosphere/data/3Exp/phyloseq/3Exp_phyloseq_thresh_woTree_woContam.rds\"\n",
    "\n",
    "ps = readRDS(physeq_file) %>% subset_taxa(., !is.na(Phylum))\n",
    "    \n",
    "    # T0R1 has all NaN for some reason\n",
    "    #subset_samples(!Sample == \"T0R1\") #%>%\n",
    "     # re-normalize after subsetting taxa\n",
    "    #transform_sample_counts(., function(x) x/sum(x))\n",
    "sample_data(ps)$Rep = as.factor(sample_data(ps)$Rep)\n",
    "\n",
    "ps\n"
   ]
  },
  {
   "cell_type": "code",
   "execution_count": null,
   "metadata": {},
   "outputs": [],
   "source": []
  },
  {
   "cell_type": "code",
   "execution_count": 116,
   "metadata": {},
   "outputs": [
    {
     "data": {
      "text/html": [
       "<table>\n",
       "<thead><tr><th></th><th scope=col>ASV14</th><th scope=col>ASV18</th></tr></thead>\n",
       "<tbody>\n",
       "\t<tr><th scope=row>147_T0R1</th><td>         NaN</td><td>         NaN</td></tr>\n",
       "\t<tr><th scope=row>148_T0R2</th><td>0.0000000000</td><td>0.0000000000</td></tr>\n",
       "\t<tr><th scope=row>149_T0R3</th><td>0.0003185347</td><td>0.0000000000</td></tr>\n",
       "\t<tr><th scope=row>150_T0R4</th><td>0.0000000000</td><td>0.0001932527</td></tr>\n",
       "\t<tr><th scope=row>153_T0R5</th><td>0.0000000000</td><td>0.0000000000</td></tr>\n",
       "\t<tr><th scope=row>154_T0R6</th><td>0.0000000000</td><td>0.0003554081</td></tr>\n",
       "</tbody>\n",
       "</table>\n"
      ],
      "text/latex": [
       "\\begin{tabular}{r|ll}\n",
       "  & ASV14 & ASV18\\\\\n",
       "\\hline\n",
       "\t147\\_T0R1 &          NaN &          NaN\\\\\n",
       "\t148\\_T0R2 & 0.0000000000 & 0.0000000000\\\\\n",
       "\t149\\_T0R3 & 0.0003185347 & 0.0000000000\\\\\n",
       "\t150\\_T0R4 & 0.0000000000 & 0.0001932527\\\\\n",
       "\t153\\_T0R5 & 0.0000000000 & 0.0000000000\\\\\n",
       "\t154\\_T0R6 & 0.0000000000 & 0.0003554081\\\\\n",
       "\\end{tabular}\n"
      ],
      "text/markdown": [
       "\n",
       "| <!--/--> | ASV14 | ASV18 | \n",
       "|---|---|---|---|---|---|\n",
       "| 147_T0R1 |          NaN |          NaN | \n",
       "| 148_T0R2 | 0.0000000000 | 0.0000000000 | \n",
       "| 149_T0R3 | 0.0003185347 | 0.0000000000 | \n",
       "| 150_T0R4 | 0.0000000000 | 0.0001932527 | \n",
       "| 153_T0R5 | 0.0000000000 | 0.0000000000 | \n",
       "| 154_T0R6 | 0.0000000000 | 0.0003554081 | \n",
       "\n",
       "\n"
      ],
      "text/plain": [
       "         ASV14        ASV18       \n",
       "147_T0R1          NaN          NaN\n",
       "148_T0R2 0.0000000000 0.0000000000\n",
       "149_T0R3 0.0003185347 0.0000000000\n",
       "150_T0R4 0.0000000000 0.0001932527\n",
       "153_T0R5 0.0000000000 0.0000000000\n",
       "154_T0R6 0.0000000000 0.0003554081"
      ]
     },
     "metadata": {},
     "output_type": "display_data"
    }
   ],
   "source": [
    "ps %>% \n",
    "    subset_samples(SampleType == \"T0\") %>%\n",
    "    transform_sample_counts(., function(x) x/sum(x)) %>%\n",
    "   prune_taxa(c('ASV14', \"ASV18\"), .) %>%\n",
    "   otu_table()"
   ]
  },
  {
   "cell_type": "code",
   "execution_count": 133,
   "metadata": {},
   "outputs": [
    {
     "name": "stderr",
     "output_type": "stream",
     "text": [
      "Warning message in psmelt(.):\n",
      "“The sample variables: \n",
      "Sample\n",
      " have been renamed to: \n",
      "sample_Sample\n",
      "to avoid conflicts with special phyloseq plot attribute names.”"
     ]
    },
    {
     "data": {},
     "metadata": {},
     "output_type": "display_data"
    },
    {
     "data": {
      "image/png": "[encoded data removed]",
      "text/plain": [
       "plot without title"
      ]
     },
     "metadata": {},
     "output_type": "display_data"
    }
   ],
   "source": [
    "ps %>% \n",
    "    subset_samples(Experiment == 2 & SampleType %in% c(\"BS\", \"BH\", \"CH\", \"CS\", \"RH\", \"RS\") & Fungus == \"Gv\") %>%\n",
    "    transform_sample_counts(., function(x) x/sum(x)) %>%\n",
    "   prune_taxa(\"ASV18\",.)  %>%\n",
    "    psmelt() %>%\n",
    "    mutate(AbundScale = log2(Abundance + .000001)) %>% \n",
    "    ggplot(., aes(x = SampleType, y= AbundScale)) +\n",
    "    geom_boxplot()+\n",
    "    geom_point()+\n",
    "    facet_grid(Soil~SampleType, scales = 'free_x')+\n",
    "    #ggtitle(as.character(cTax))+\n",
    "    ylab('Relative abundance (log2)')"
   ]
  },
  {
   "cell_type": "markdown",
   "metadata": {},
   "source": [
    "* ASV18 is detected in Bulk hyphal samples that are not otherwise low biomass and prone to contamination.  In contrast it is absent from all bulk soil samples without the hyphal influence.  Suggests clear hyphal signal.  Also less abundant in the root compartment slurry samples which had the lowest DNA yields of any sampletype"
   ]
  },
  {
   "cell_type": "code",
   "execution_count": 134,
   "metadata": {
    "scrolled": false
   },
   "outputs": [
    {
     "name": "stderr",
     "output_type": "stream",
     "text": [
      "Warning message in psmelt(.):\n",
      "“The sample variables: \n",
      "Sample\n",
      " have been renamed to: \n",
      "sample_Sample\n",
      "to avoid conflicts with special phyloseq plot attribute names.”"
     ]
    },
    {
     "data": {},
     "metadata": {},
     "output_type": "display_data"
    },
    {
     "data": {
      "image/png": "[encoded data removed]",
      "text/plain": [
       "plot without title"
      ]
     },
     "metadata": {},
     "output_type": "display_data"
    }
   ],
   "source": [
    "ps %>% \n",
    "    subset_samples(Experiment == 2 & SampleType %in% c(\"BS\", \"BH\", \"CH\", \"CS\", \"RH\", \"RS\") & Fungus == \"RI\") %>%\n",
    "    transform_sample_counts(., function(x) x/sum(x)) %>%\n",
    "   prune_taxa(\"ASV18\",.)  %>%\n",
    "    psmelt() %>%\n",
    "    mutate(AbundScale = log2(Abundance + .000001)) %>% \n",
    "    ggplot(., aes(x = SampleType, y= AbundScale)) +\n",
    "    geom_point()+\n",
    "    geom_boxplot()+\n",
    "    facet_grid(Soil~SampleType, scales = 'free_x')+\n",
    "    #ggtitle(as.character(cTax))+\n",
    "    ylab('Relative abundance (log2)')"
   ]
  },
  {
   "cell_type": "markdown",
   "metadata": {},
   "source": [
    "* Ri would not have carried ASV14 or ASV18 in on spores.  Suggesting that it may also have come from the soil or at least cross contamination in the experiment.  Root slurry is still lower than root hyphae.  RH had higher DNA yields, so this is not consistent with contamination.\n"
   ]
  },
  {
   "cell_type": "markdown",
   "metadata": {},
   "source": [
    "# Which ASVs are time specific"
   ]
  },
  {
   "cell_type": "code",
   "execution_count": 204,
   "metadata": {},
   "outputs": [
    {
     "data": {
      "text/html": [
       "'105 ASVs enriched in at least one timepoint'"
      ],
      "text/latex": [
       "'105 ASVs enriched in at least one timepoint'"
      ],
      "text/markdown": [
       "'105 ASVs enriched in at least one timepoint'"
      ],
      "text/plain": [
       "[1] \"105 ASVs enriched in at least one timepoint\""
      ]
     },
     "metadata": {},
     "output_type": "display_data"
    },
    {
     "data": {
      "text/html": [
       "'34 ASVs enriched in more than one time point'"
      ],
      "text/latex": [
       "'34 ASVs enriched in more than one time point'"
      ],
      "text/markdown": [
       "'34 ASVs enriched in more than one time point'"
      ],
      "text/plain": [
       "[1] \"34 ASVs enriched in more than one time point\""
      ]
     },
     "metadata": {},
     "output_type": "display_data"
    },
    {
     "data": {
      "text/html": [
       "'15 ASVs enriched in more than two time points'"
      ],
      "text/latex": [
       "'15 ASVs enriched in more than two time points'"
      ],
      "text/markdown": [
       "'15 ASVs enriched in more than two time points'"
      ],
      "text/plain": [
       "[1] \"15 ASVs enriched in more than two time points\""
      ]
     },
     "metadata": {},
     "output_type": "display_data"
    },
    {
     "data": {
      "text/html": [
       "'6 ASVs enriched in more than three time points'"
      ],
      "text/latex": [
       "'6 ASVs enriched in more than three time points'"
      ],
      "text/markdown": [
       "'6 ASVs enriched in more than three time points'"
      ],
      "text/plain": [
       "[1] \"6 ASVs enriched in more than three time points\""
      ]
     },
     "metadata": {},
     "output_type": "display_data"
    },
    {
     "data": {
      "text/html": [
       "'6 ASVs enriched in more than four time points'"
      ],
      "text/latex": [
       "'6 ASVs enriched in more than four time points'"
      ],
      "text/markdown": [
       "'6 ASVs enriched in more than four time points'"
      ],
      "text/plain": [
       "[1] \"6 ASVs enriched in more than four time points\""
      ]
     },
     "metadata": {},
     "output_type": "display_data"
    },
    {
     "data": {
      "text/html": [
       "<table>\n",
       "<thead><tr><th scope=col>OTU</th><th scope=col>Phylum</th><th scope=col>Class</th><th scope=col>Order</th><th scope=col>Family</th><th scope=col>Genus</th><th scope=col>nSig</th></tr></thead>\n",
       "<tbody>\n",
       "\t<tr><td>ASV14              </td><td>Proteobacteria     </td><td>Deltaproteobacteria</td><td>Myxococcales       </td><td>Sandaracinaceae    </td><td>NA                 </td><td>5                  </td></tr>\n",
       "\t<tr><td>ASV18              </td><td>Proteobacteria     </td><td>Deltaproteobacteria</td><td>Myxococcales       </td><td>Sandaracinaceae    </td><td>NA                 </td><td>5                  </td></tr>\n",
       "\t<tr><td>ASV382             </td><td>Proteobacteria     </td><td>Deltaproteobacteria</td><td>Myxococcales       </td><td>Haliangiaceae      </td><td>Haliangium         </td><td>5                  </td></tr>\n",
       "\t<tr><td>ASV509             </td><td>Proteobacteria     </td><td>Deltaproteobacteria</td><td>Myxococcales       </td><td>Haliangiaceae      </td><td>Haliangium         </td><td>5                  </td></tr>\n",
       "\t<tr><td>ASV66              </td><td>Proteobacteria     </td><td>Deltaproteobacteria</td><td>Myxococcales       </td><td>Haliangiaceae      </td><td>Haliangium         </td><td>5                  </td></tr>\n",
       "\t<tr><td>ASV708             </td><td>Proteobacteria     </td><td>Deltaproteobacteria</td><td>Myxococcales       </td><td>Haliangiaceae      </td><td>Haliangium         </td><td>5                  </td></tr>\n",
       "</tbody>\n",
       "</table>\n"
      ],
      "text/latex": [
       "\\begin{tabular}{r|lllllll}\n",
       " OTU & Phylum & Class & Order & Family & Genus & nSig\\\\\n",
       "\\hline\n",
       "\t ASV14               & Proteobacteria      & Deltaproteobacteria & Myxococcales        & Sandaracinaceae     & NA                  & 5                  \\\\\n",
       "\t ASV18               & Proteobacteria      & Deltaproteobacteria & Myxococcales        & Sandaracinaceae     & NA                  & 5                  \\\\\n",
       "\t ASV382              & Proteobacteria      & Deltaproteobacteria & Myxococcales        & Haliangiaceae       & Haliangium          & 5                  \\\\\n",
       "\t ASV509              & Proteobacteria      & Deltaproteobacteria & Myxococcales        & Haliangiaceae       & Haliangium          & 5                  \\\\\n",
       "\t ASV66               & Proteobacteria      & Deltaproteobacteria & Myxococcales        & Haliangiaceae       & Haliangium          & 5                  \\\\\n",
       "\t ASV708              & Proteobacteria      & Deltaproteobacteria & Myxococcales        & Haliangiaceae       & Haliangium          & 5                  \\\\\n",
       "\\end{tabular}\n"
      ],
      "text/markdown": [
       "\n",
       "OTU | Phylum | Class | Order | Family | Genus | nSig | \n",
       "|---|---|---|---|---|---|\n",
       "| ASV14               | Proteobacteria      | Deltaproteobacteria | Myxococcales        | Sandaracinaceae     | NA                  | 5                   | \n",
       "| ASV18               | Proteobacteria      | Deltaproteobacteria | Myxococcales        | Sandaracinaceae     | NA                  | 5                   | \n",
       "| ASV382              | Proteobacteria      | Deltaproteobacteria | Myxococcales        | Haliangiaceae       | Haliangium          | 5                   | \n",
       "| ASV509              | Proteobacteria      | Deltaproteobacteria | Myxococcales        | Haliangiaceae       | Haliangium          | 5                   | \n",
       "| ASV66               | Proteobacteria      | Deltaproteobacteria | Myxococcales        | Haliangiaceae       | Haliangium          | 5                   | \n",
       "| ASV708              | Proteobacteria      | Deltaproteobacteria | Myxococcales        | Haliangiaceae       | Haliangium          | 5                   | \n",
       "\n",
       "\n"
      ],
      "text/plain": [
       "  OTU    Phylum         Class               Order        Family         \n",
       "1 ASV14  Proteobacteria Deltaproteobacteria Myxococcales Sandaracinaceae\n",
       "2 ASV18  Proteobacteria Deltaproteobacteria Myxococcales Sandaracinaceae\n",
       "3 ASV382 Proteobacteria Deltaproteobacteria Myxococcales Haliangiaceae  \n",
       "4 ASV509 Proteobacteria Deltaproteobacteria Myxococcales Haliangiaceae  \n",
       "5 ASV66  Proteobacteria Deltaproteobacteria Myxococcales Haliangiaceae  \n",
       "6 ASV708 Proteobacteria Deltaproteobacteria Myxococcales Haliangiaceae  \n",
       "  Genus      nSig\n",
       "1 NA         5   \n",
       "2 NA         5   \n",
       "3 Haliangium 5   \n",
       "4 Haliangium 5   \n",
       "5 Haliangium 5   \n",
       "6 Haliangium 5   "
      ]
     },
     "metadata": {},
     "output_type": "display_data"
    }
   ],
   "source": [
    "df.l2fc.Exp3 %>% \n",
    "    filter(Contrast == \"CH_CS\" & padj < 0.05 & log2FoldChange > 0 & Subset == \"Lansing-Gv\") %>%\n",
    "        .$OTU %>%\n",
    "        unique() %>%\n",
    "        length() %>%\n",
    "paste(., \"ASVs enriched in at least one timepoint\")\n",
    "\n",
    "df.l2fc.Exp3 %>% \n",
    "    filter(Contrast == \"CH_CS\" & padj < 0.05 & log2FoldChange > 0 & Subset == \"Lansing-Gv\") %>%\n",
    "     group_by(OTU, Phylum, Class, Order, Family, Genus) %>%\n",
    "     summarize(nSig = length(padj)) %>%\n",
    "     filter(nSig > 1) %>%\n",
    "     .$OTU %>%\n",
    "        unique() %>%\n",
    "        length() %>%\n",
    "paste(.,'ASVs enriched in more than one time point')\n",
    "\n",
    "df.l2fc.Exp3 %>% \n",
    "    filter(Contrast == \"CH_CS\" & padj < 0.05 & log2FoldChange > 0 & Subset == \"Lansing-Gv\") %>%\n",
    "     group_by(OTU, Phylum, Class, Order, Family, Genus) %>%\n",
    "     summarize(nSig = length(padj)) %>%\n",
    "     filter(nSig > 2) %>%\n",
    "     .$OTU %>%\n",
    "        unique() %>%\n",
    "        length() %>%\n",
    "paste(.,'ASVs enriched in more than two time points')\n",
    "\n",
    "df.l2fc.Exp3 %>% \n",
    "    filter(Contrast == \"CH_CS\" & padj < 0.05 & log2FoldChange > 0 & Subset == \"Lansing-Gv\") %>%\n",
    "     group_by(OTU, Phylum, Class, Order, Family, Genus) %>%\n",
    "     summarize(nSig = length(padj)) %>%\n",
    "     filter(nSig > 3) %>%\n",
    "     .$OTU %>%\n",
    "        unique() %>%\n",
    "        length() %>%\n",
    "paste(.,'ASVs enriched in more than three time points')\n",
    "\n",
    "tmp = df.l2fc.Exp3 %>% \n",
    "    filter(Contrast == \"CH_CS\" & padj < 0.05 & log2FoldChange > 0 & Subset == \"Lansing-Gv\") %>%\n",
    "     group_by(OTU, Phylum, Class, Order, Family, Genus) %>%\n",
    "     summarize(nSig = length(padj)) %>%\n",
    "     filter(nSig > 4)\n",
    "\n",
    "tmp %>%\n",
    "     .$OTU %>%\n",
    "        unique() %>%\n",
    "        length() %>%\n",
    "paste(.,'ASVs enriched in more than four time points')\n",
    "\n",
    "tmp\n"
   ]
  },
  {
   "cell_type": "markdown",
   "metadata": {},
   "source": [
    "# Which Hyphal ASVs change with time"
   ]
  },
  {
   "cell_type": "code",
   "execution_count": 254,
   "metadata": {},
   "outputs": [
    {
     "data": {
      "text/html": [
       "105"
      ],
      "text/latex": [
       "105"
      ],
      "text/markdown": [
       "105"
      ],
      "text/plain": [
       "[1] 105"
      ]
     },
     "metadata": {},
     "output_type": "display_data"
    },
    {
     "data": {
      "text/html": [
       "<ol class=list-inline>\n",
       "\t<li>60</li>\n",
       "\t<li>18</li>\n",
       "</ol>\n"
      ],
      "text/latex": [
       "\\begin{enumerate*}\n",
       "\\item 60\n",
       "\\item 18\n",
       "\\end{enumerate*}\n"
      ],
      "text/markdown": [
       "1. 60\n",
       "2. 18\n",
       "\n",
       "\n"
      ],
      "text/plain": [
       "[1] 60 18"
      ]
     },
     "metadata": {},
     "output_type": "display_data"
    }
   ],
   "source": [
    "HASVs = df.l2fc.Exp3 %>%\n",
    "    filter(Contrast == \"CH_CS\" & padj < 0.05 & log2FoldChange > 0 & Subset == \"Lansing-Gv\") %>%\n",
    "    .$OTU %>%\n",
    "    unique()\n",
    "length(HASVs)\n",
    "\n",
    "df.THASVs = df.l2fc.Exp3.time %>%\n",
    "    filter(SampleType == \"CH\" & padj < 0.05 & OTU %in% HASVs)\n",
    "dim(df.THASVs)"
   ]
  },
  {
   "cell_type": "code",
   "execution_count": 262,
   "metadata": {},
   "outputs": [
    {
     "data": {
      "text/html": [
       "<table>\n",
       "<thead><tr><th scope=col>baseMean</th><th scope=col>log2FoldChange</th><th scope=col>lfcSE</th><th scope=col>stat</th><th scope=col>pvalue</th><th scope=col>padj</th><th scope=col>OTU</th><th scope=col>Subset</th><th scope=col>SampleType</th><th scope=col>Term</th><th scope=col>Contrast</th><th scope=col>Kingdom</th><th scope=col>Phylum</th><th scope=col>Class</th><th scope=col>Order</th><th scope=col>Family</th><th scope=col>Genus</th><th scope=col>Experiment</th></tr></thead>\n",
       "<tbody>\n",
       "\t<tr><td>181.44246            </td><td>-0.8287896           </td><td>0.2096873            </td><td>-3.952502            </td><td>7.733829e-05         </td><td>2.571154e-02         </td><td>ASV16                </td><td>Lansing-Gv           </td><td>BS                   </td><td>TimePoint            </td><td>24_14                </td><td>Bacteria             </td><td>Proteobacteria       </td><td>Alphaproteobacteria  </td><td>Rhizobiales          </td><td>Xanthobacteraceae    </td><td>Bradyrhizobium       </td><td>3                    </td></tr>\n",
       "\t<tr><td> 37.28681            </td><td>11.0664226           </td><td>3.0009573            </td><td> 3.687631            </td><td>2.263517e-04         </td><td>2.571154e-02         </td><td>ASV292               </td><td>Lansing-Gv           </td><td>BS                   </td><td>TimePoint            </td><td>24_14                </td><td>Bacteria             </td><td>Proteobacteria       </td><td>Gammaproteobacteria  </td><td>Betaproteobacteriales</td><td>Burkholderiaceae     </td><td>Piscinibacter        </td><td>3                    </td></tr>\n",
       "\t<tr><td>435.86963            </td><td> 5.3912876           </td><td>1.1050374            </td><td> 4.878828            </td><td>1.067180e-06         </td><td>2.193056e-03         </td><td>ASV23                </td><td>Lansing-Gv           </td><td>RH                   </td><td>TimePoint            </td><td>24_14                </td><td>Bacteria             </td><td>Fibrobacteres        </td><td>Fibrobacteria        </td><td>Fibrobacterales      </td><td>Fibrobacteraceae     </td><td>possible_genus_04    </td><td>3                    </td></tr>\n",
       "\t<tr><td>483.93925            </td><td> 6.3092037           </td><td>1.0750066            </td><td> 5.868991            </td><td>4.384559e-09         </td><td>1.802054e-05         </td><td>ASV45                </td><td>Lansing-Gv           </td><td>RH                   </td><td>TimePoint            </td><td>24_14                </td><td>Bacteria             </td><td>Fibrobacteres        </td><td>Fibrobacteria        </td><td>Fibrobacterales      </td><td>Fibrobacteraceae     </td><td>possible_genus_04    </td><td>3                    </td></tr>\n",
       "</tbody>\n",
       "</table>\n"
      ],
      "text/latex": [
       "\\begin{tabular}{r|llllllllllllllllll}\n",
       " baseMean & log2FoldChange & lfcSE & stat & pvalue & padj & OTU & Subset & SampleType & Term & Contrast & Kingdom & Phylum & Class & Order & Family & Genus & Experiment\\\\\n",
       "\\hline\n",
       "\t 181.44246             & -0.8287896            & 0.2096873             & -3.952502             & 7.733829e-05          & 2.571154e-02          & ASV16                 & Lansing-Gv            & BS                    & TimePoint             & 24\\_14               & Bacteria              & Proteobacteria        & Alphaproteobacteria   & Rhizobiales           & Xanthobacteraceae     & Bradyrhizobium        & 3                    \\\\\n",
       "\t  37.28681             & 11.0664226            & 3.0009573             &  3.687631             & 2.263517e-04          & 2.571154e-02          & ASV292                & Lansing-Gv            & BS                    & TimePoint             & 24\\_14               & Bacteria              & Proteobacteria        & Gammaproteobacteria   & Betaproteobacteriales & Burkholderiaceae      & Piscinibacter         & 3                    \\\\\n",
       "\t 435.86963             &  5.3912876            & 1.1050374             &  4.878828             & 1.067180e-06          & 2.193056e-03          & ASV23                 & Lansing-Gv            & RH                    & TimePoint             & 24\\_14               & Bacteria              & Fibrobacteres         & Fibrobacteria         & Fibrobacterales       & Fibrobacteraceae      & possible\\_genus\\_04 & 3                    \\\\\n",
       "\t 483.93925             &  6.3092037            & 1.0750066             &  5.868991             & 4.384559e-09          & 1.802054e-05          & ASV45                 & Lansing-Gv            & RH                    & TimePoint             & 24\\_14               & Bacteria              & Fibrobacteres         & Fibrobacteria         & Fibrobacterales       & Fibrobacteraceae      & possible\\_genus\\_04 & 3                    \\\\\n",
       "\\end{tabular}\n"
      ],
      "text/markdown": [
       "\n",
       "baseMean | log2FoldChange | lfcSE | stat | pvalue | padj | OTU | Subset | SampleType | Term | Contrast | Kingdom | Phylum | Class | Order | Family | Genus | Experiment | \n",
       "|---|---|---|---|\n",
       "| 181.44246             | -0.8287896            | 0.2096873             | -3.952502             | 7.733829e-05          | 2.571154e-02          | ASV16                 | Lansing-Gv            | BS                    | TimePoint             | 24_14                 | Bacteria              | Proteobacteria        | Alphaproteobacteria   | Rhizobiales           | Xanthobacteraceae     | Bradyrhizobium        | 3                     | \n",
       "|  37.28681             | 11.0664226            | 3.0009573             |  3.687631             | 2.263517e-04          | 2.571154e-02          | ASV292                | Lansing-Gv            | BS                    | TimePoint             | 24_14                 | Bacteria              | Proteobacteria        | Gammaproteobacteria   | Betaproteobacteriales | Burkholderiaceae      | Piscinibacter         | 3                     | \n",
       "| 435.86963             |  5.3912876            | 1.1050374             |  4.878828             | 1.067180e-06          | 2.193056e-03          | ASV23                 | Lansing-Gv            | RH                    | TimePoint             | 24_14                 | Bacteria              | Fibrobacteres         | Fibrobacteria         | Fibrobacterales       | Fibrobacteraceae      | possible_genus_04     | 3                     | \n",
       "| 483.93925             |  6.3092037            | 1.0750066             |  5.868991             | 4.384559e-09          | 1.802054e-05          | ASV45                 | Lansing-Gv            | RH                    | TimePoint             | 24_14                 | Bacteria              | Fibrobacteres         | Fibrobacteria         | Fibrobacterales       | Fibrobacteraceae      | possible_genus_04     | 3                     | \n",
       "\n",
       "\n"
      ],
      "text/plain": [
       "  baseMean  log2FoldChange lfcSE     stat      pvalue       padj         OTU   \n",
       "1 181.44246 -0.8287896     0.2096873 -3.952502 7.733829e-05 2.571154e-02 ASV16 \n",
       "2  37.28681 11.0664226     3.0009573  3.687631 2.263517e-04 2.571154e-02 ASV292\n",
       "3 435.86963  5.3912876     1.1050374  4.878828 1.067180e-06 2.193056e-03 ASV23 \n",
       "4 483.93925  6.3092037     1.0750066  5.868991 4.384559e-09 1.802054e-05 ASV45 \n",
       "  Subset     SampleType Term      Contrast Kingdom  Phylum        \n",
       "1 Lansing-Gv BS         TimePoint 24_14    Bacteria Proteobacteria\n",
       "2 Lansing-Gv BS         TimePoint 24_14    Bacteria Proteobacteria\n",
       "3 Lansing-Gv RH         TimePoint 24_14    Bacteria Fibrobacteres \n",
       "4 Lansing-Gv RH         TimePoint 24_14    Bacteria Fibrobacteres \n",
       "  Class               Order                 Family            Genus            \n",
       "1 Alphaproteobacteria Rhizobiales           Xanthobacteraceae Bradyrhizobium   \n",
       "2 Gammaproteobacteria Betaproteobacteriales Burkholderiaceae  Piscinibacter    \n",
       "3 Fibrobacteria       Fibrobacterales       Fibrobacteraceae  possible_genus_04\n",
       "4 Fibrobacteria       Fibrobacterales       Fibrobacteraceae  possible_genus_04\n",
       "  Experiment\n",
       "1 3         \n",
       "2 3         \n",
       "3 3         \n",
       "4 3         "
      ]
     },
     "metadata": {},
     "output_type": "display_data"
    }
   ],
   "source": [
    "df.l2fc.Exp3.time %>% filter(padj < 0.05 & Contrast == \"24_14\" & OTU %in% HASVs)"
   ]
  },
  {
   "cell_type": "code",
   "execution_count": 265,
   "metadata": {},
   "outputs": [
    {
     "data": {
      "text/html": [
       "<table>\n",
       "<thead><tr><th scope=col>baseMean</th><th scope=col>log2FoldChange</th><th scope=col>lfcSE</th><th scope=col>stat</th><th scope=col>pvalue</th><th scope=col>padj</th><th scope=col>OTU</th><th scope=col>Subset</th><th scope=col>SampleType</th><th scope=col>Term</th><th scope=col>Contrast</th><th scope=col>Kingdom</th><th scope=col>Phylum</th><th scope=col>Class</th><th scope=col>Order</th><th scope=col>Family</th><th scope=col>Genus</th><th scope=col>Experiment</th></tr></thead>\n",
       "<tbody>\n",
       "\t<tr><td> 47.61213            </td><td>-5.668830            </td><td>1.572039             </td><td>-3.606037            </td><td>3.109089e-04         </td><td>3.922634e-02         </td><td>ASV292               </td><td>Lansing-Gv           </td><td>CH                   </td><td>TimePoint            </td><td>35_14                </td><td>Bacteria             </td><td>Proteobacteria       </td><td>Gammaproteobacteria  </td><td>Betaproteobacteriales</td><td>Burkholderiaceae     </td><td>Piscinibacter        </td><td>3                    </td></tr>\n",
       "\t<tr><td> 46.25518            </td><td>-7.899768            </td><td>2.126378             </td><td>-3.715129            </td><td>2.030997e-04         </td><td>3.074930e-02         </td><td>ASV487               </td><td>Lansing-Gv           </td><td>CH                   </td><td>TimePoint            </td><td>35_14                </td><td>Bacteria             </td><td>Proteobacteria       </td><td>Deltaproteobacteria  </td><td>Myxococcales         </td><td>BIrii41              </td><td>NA                   </td><td>3                    </td></tr>\n",
       "\t<tr><td>170.02341            </td><td> 9.970861            </td><td>1.894614             </td><td> 5.262739            </td><td>1.419246e-07         </td><td>5.371847e-05         </td><td>ASV494               </td><td>Lansing-Gv           </td><td>CH                   </td><td>TimePoint            </td><td>35_14                </td><td>Bacteria             </td><td>Proteobacteria       </td><td>Gammaproteobacteria  </td><td>Betaproteobacteriales</td><td>NA                   </td><td>NA                   </td><td>3                    </td></tr>\n",
       "\t<tr><td> 38.28737            </td><td>-6.277833            </td><td>1.516239             </td><td>-4.140397            </td><td>3.467047e-05         </td><td>8.748515e-03         </td><td>ASV516               </td><td>Lansing-Gv           </td><td>CH                   </td><td>TimePoint            </td><td>35_14                </td><td>Bacteria             </td><td>Proteobacteria       </td><td>Deltaproteobacteria  </td><td>Desulfarculales      </td><td>Desulfarculaceae     </td><td>NA                   </td><td>3                    </td></tr>\n",
       "\t<tr><td> 40.87403            </td><td> 4.935372            </td><td>1.271329             </td><td> 3.882056            </td><td>1.035770e-04         </td><td>1.960194e-02         </td><td>ASV645               </td><td>Lansing-Gv           </td><td>CH                   </td><td>TimePoint            </td><td>35_14                </td><td>Bacteria             </td><td>FCPU426              </td><td>NA                   </td><td>NA                   </td><td>NA                   </td><td>NA                   </td><td>3                    </td></tr>\n",
       "\t<tr><td> 15.88647            </td><td>19.257913            </td><td>3.124679             </td><td> 6.163165            </td><td>7.130497e-10         </td><td>5.397786e-07         </td><td>ASV2404              </td><td>Lansing-Gv           </td><td>CH                   </td><td>TimePoint            </td><td>35_14                </td><td>Bacteria             </td><td>Proteobacteria       </td><td>Deltaproteobacteria  </td><td>Myxococcales         </td><td>Haliangiaceae        </td><td>Haliangium           </td><td>3                    </td></tr>\n",
       "</tbody>\n",
       "</table>\n"
      ],
      "text/latex": [
       "\\begin{tabular}{r|llllllllllllllllll}\n",
       " baseMean & log2FoldChange & lfcSE & stat & pvalue & padj & OTU & Subset & SampleType & Term & Contrast & Kingdom & Phylum & Class & Order & Family & Genus & Experiment\\\\\n",
       "\\hline\n",
       "\t  47.61213             & -5.668830             & 1.572039              & -3.606037             & 3.109089e-04          & 3.922634e-02          & ASV292                & Lansing-Gv            & CH                    & TimePoint             & 35\\_14               & Bacteria              & Proteobacteria        & Gammaproteobacteria   & Betaproteobacteriales & Burkholderiaceae      & Piscinibacter         & 3                    \\\\\n",
       "\t  46.25518             & -7.899768             & 2.126378              & -3.715129             & 2.030997e-04          & 3.074930e-02          & ASV487                & Lansing-Gv            & CH                    & TimePoint             & 35\\_14               & Bacteria              & Proteobacteria        & Deltaproteobacteria   & Myxococcales          & BIrii41               & NA                    & 3                    \\\\\n",
       "\t 170.02341             &  9.970861             & 1.894614              &  5.262739             & 1.419246e-07          & 5.371847e-05          & ASV494                & Lansing-Gv            & CH                    & TimePoint             & 35\\_14               & Bacteria              & Proteobacteria        & Gammaproteobacteria   & Betaproteobacteriales & NA                    & NA                    & 3                    \\\\\n",
       "\t  38.28737             & -6.277833             & 1.516239              & -4.140397             & 3.467047e-05          & 8.748515e-03          & ASV516                & Lansing-Gv            & CH                    & TimePoint             & 35\\_14               & Bacteria              & Proteobacteria        & Deltaproteobacteria   & Desulfarculales       & Desulfarculaceae      & NA                    & 3                    \\\\\n",
       "\t  40.87403             &  4.935372             & 1.271329              &  3.882056             & 1.035770e-04          & 1.960194e-02          & ASV645                & Lansing-Gv            & CH                    & TimePoint             & 35\\_14               & Bacteria              & FCPU426               & NA                    & NA                    & NA                    & NA                    & 3                    \\\\\n",
       "\t  15.88647             & 19.257913             & 3.124679              &  6.163165             & 7.130497e-10          & 5.397786e-07          & ASV2404               & Lansing-Gv            & CH                    & TimePoint             & 35\\_14               & Bacteria              & Proteobacteria        & Deltaproteobacteria   & Myxococcales          & Haliangiaceae         & Haliangium            & 3                    \\\\\n",
       "\\end{tabular}\n"
      ],
      "text/markdown": [
       "\n",
       "baseMean | log2FoldChange | lfcSE | stat | pvalue | padj | OTU | Subset | SampleType | Term | Contrast | Kingdom | Phylum | Class | Order | Family | Genus | Experiment | \n",
       "|---|---|---|---|---|---|\n",
       "|  47.61213             | -5.668830             | 1.572039              | -3.606037             | 3.109089e-04          | 3.922634e-02          | ASV292                | Lansing-Gv            | CH                    | TimePoint             | 35_14                 | Bacteria              | Proteobacteria        | Gammaproteobacteria   | Betaproteobacteriales | Burkholderiaceae      | Piscinibacter         | 3                     | \n",
       "|  46.25518             | -7.899768             | 2.126378              | -3.715129             | 2.030997e-04          | 3.074930e-02          | ASV487                | Lansing-Gv            | CH                    | TimePoint             | 35_14                 | Bacteria              | Proteobacteria        | Deltaproteobacteria   | Myxococcales          | BIrii41               | NA                    | 3                     | \n",
       "| 170.02341             |  9.970861             | 1.894614              |  5.262739             | 1.419246e-07          | 5.371847e-05          | ASV494                | Lansing-Gv            | CH                    | TimePoint             | 35_14                 | Bacteria              | Proteobacteria        | Gammaproteobacteria   | Betaproteobacteriales | NA                    | NA                    | 3                     | \n",
       "|  38.28737             | -6.277833             | 1.516239              | -4.140397             | 3.467047e-05          | 8.748515e-03          | ASV516                | Lansing-Gv            | CH                    | TimePoint             | 35_14                 | Bacteria              | Proteobacteria        | Deltaproteobacteria   | Desulfarculales       | Desulfarculaceae      | NA                    | 3                     | \n",
       "|  40.87403             |  4.935372             | 1.271329              |  3.882056             | 1.035770e-04          | 1.960194e-02          | ASV645                | Lansing-Gv            | CH                    | TimePoint             | 35_14                 | Bacteria              | FCPU426               | NA                    | NA                    | NA                    | NA                    | 3                     | \n",
       "|  15.88647             | 19.257913             | 3.124679              |  6.163165             | 7.130497e-10          | 5.397786e-07          | ASV2404               | Lansing-Gv            | CH                    | TimePoint             | 35_14                 | Bacteria              | Proteobacteria        | Deltaproteobacteria   | Myxococcales          | Haliangiaceae         | Haliangium            | 3                     | \n",
       "\n",
       "\n"
      ],
      "text/plain": [
       "  baseMean  log2FoldChange lfcSE    stat      pvalue       padj         OTU    \n",
       "1  47.61213 -5.668830      1.572039 -3.606037 3.109089e-04 3.922634e-02 ASV292 \n",
       "2  46.25518 -7.899768      2.126378 -3.715129 2.030997e-04 3.074930e-02 ASV487 \n",
       "3 170.02341  9.970861      1.894614  5.262739 1.419246e-07 5.371847e-05 ASV494 \n",
       "4  38.28737 -6.277833      1.516239 -4.140397 3.467047e-05 8.748515e-03 ASV516 \n",
       "5  40.87403  4.935372      1.271329  3.882056 1.035770e-04 1.960194e-02 ASV645 \n",
       "6  15.88647 19.257913      3.124679  6.163165 7.130497e-10 5.397786e-07 ASV2404\n",
       "  Subset     SampleType Term      Contrast Kingdom  Phylum        \n",
       "1 Lansing-Gv CH         TimePoint 35_14    Bacteria Proteobacteria\n",
       "2 Lansing-Gv CH         TimePoint 35_14    Bacteria Proteobacteria\n",
       "3 Lansing-Gv CH         TimePoint 35_14    Bacteria Proteobacteria\n",
       "4 Lansing-Gv CH         TimePoint 35_14    Bacteria Proteobacteria\n",
       "5 Lansing-Gv CH         TimePoint 35_14    Bacteria FCPU426       \n",
       "6 Lansing-Gv CH         TimePoint 35_14    Bacteria Proteobacteria\n",
       "  Class               Order                 Family           Genus        \n",
       "1 Gammaproteobacteria Betaproteobacteriales Burkholderiaceae Piscinibacter\n",
       "2 Deltaproteobacteria Myxococcales          BIrii41          NA           \n",
       "3 Gammaproteobacteria Betaproteobacteriales NA               NA           \n",
       "4 Deltaproteobacteria Desulfarculales       Desulfarculaceae NA           \n",
       "5 NA                  NA                    NA               NA           \n",
       "6 Deltaproteobacteria Myxococcales          Haliangiaceae    Haliangium   \n",
       "  Experiment\n",
       "1 3         \n",
       "2 3         \n",
       "3 3         \n",
       "4 3         \n",
       "5 3         \n",
       "6 3         "
      ]
     },
     "metadata": {},
     "output_type": "display_data"
    }
   ],
   "source": [
    "df.THASVs %>% head()"
   ]
  },
  {
   "cell_type": "code",
   "execution_count": 269,
   "metadata": {},
   "outputs": [
    {
     "data": {
      "text/html": [
       "<table>\n",
       "<thead><tr><th scope=col>OTU</th><th scope=col>35_14.padj</th><th scope=col>45_14.padj</th><th scope=col>65_14.padj</th><th scope=col>35_14.l2fc</th><th scope=col>45_14.l2fc</th><th scope=col>65_14.l2fc</th></tr></thead>\n",
       "<tbody>\n",
       "\t<tr><td>ASV1053     </td><td>NA          </td><td>NA          </td><td>3.789583e-04</td><td>NA          </td><td>NA          </td><td> 8.039158   </td></tr>\n",
       "\t<tr><td>ASV1080     </td><td>NA          </td><td>NA          </td><td>2.093598e-02</td><td>NA          </td><td>NA          </td><td>-6.319868   </td></tr>\n",
       "\t<tr><td>ASV117      </td><td>NA          </td><td>NA          </td><td>2.776481e-02</td><td>NA          </td><td>NA          </td><td>-7.569677   </td></tr>\n",
       "\t<tr><td>ASV1182     </td><td>NA          </td><td>NA          </td><td>1.394117e-05</td><td>NA          </td><td>NA          </td><td> 8.238464   </td></tr>\n",
       "\t<tr><td>ASV14       </td><td>NA          </td><td>NA          </td><td>2.242494e-06</td><td>NA          </td><td>NA          </td><td> 2.793061   </td></tr>\n",
       "\t<tr><td>ASV141      </td><td>NA          </td><td>NA          </td><td>2.361775e-02</td><td>NA          </td><td>NA          </td><td>-4.762268   </td></tr>\n",
       "</tbody>\n",
       "</table>\n"
      ],
      "text/latex": [
       "\\begin{tabular}{r|lllllll}\n",
       " OTU & 35\\_14.padj & 45\\_14.padj & 65\\_14.padj & 35\\_14.l2fc & 45\\_14.l2fc & 65\\_14.l2fc\\\\\n",
       "\\hline\n",
       "\t ASV1053      & NA           & NA           & 3.789583e-04 & NA           & NA           &  8.039158   \\\\\n",
       "\t ASV1080      & NA           & NA           & 2.093598e-02 & NA           & NA           & -6.319868   \\\\\n",
       "\t ASV117       & NA           & NA           & 2.776481e-02 & NA           & NA           & -7.569677   \\\\\n",
       "\t ASV1182      & NA           & NA           & 1.394117e-05 & NA           & NA           &  8.238464   \\\\\n",
       "\t ASV14        & NA           & NA           & 2.242494e-06 & NA           & NA           &  2.793061   \\\\\n",
       "\t ASV141       & NA           & NA           & 2.361775e-02 & NA           & NA           & -4.762268   \\\\\n",
       "\\end{tabular}\n"
      ],
      "text/markdown": [
       "\n",
       "OTU | 35_14.padj | 45_14.padj | 65_14.padj | 35_14.l2fc | 45_14.l2fc | 65_14.l2fc | \n",
       "|---|---|---|---|---|---|\n",
       "| ASV1053      | NA           | NA           | 3.789583e-04 | NA           | NA           |  8.039158    | \n",
       "| ASV1080      | NA           | NA           | 2.093598e-02 | NA           | NA           | -6.319868    | \n",
       "| ASV117       | NA           | NA           | 2.776481e-02 | NA           | NA           | -7.569677    | \n",
       "| ASV1182      | NA           | NA           | 1.394117e-05 | NA           | NA           |  8.238464    | \n",
       "| ASV14        | NA           | NA           | 2.242494e-06 | NA           | NA           |  2.793061    | \n",
       "| ASV141       | NA           | NA           | 2.361775e-02 | NA           | NA           | -4.762268    | \n",
       "\n",
       "\n"
      ],
      "text/plain": [
       "  OTU     35_14.padj 45_14.padj 65_14.padj   35_14.l2fc 45_14.l2fc 65_14.l2fc\n",
       "1 ASV1053 NA         NA         3.789583e-04 NA         NA          8.039158 \n",
       "2 ASV1080 NA         NA         2.093598e-02 NA         NA         -6.319868 \n",
       "3 ASV117  NA         NA         2.776481e-02 NA         NA         -7.569677 \n",
       "4 ASV1182 NA         NA         1.394117e-05 NA         NA          8.238464 \n",
       "5 ASV14   NA         NA         2.242494e-06 NA         NA          2.793061 \n",
       "6 ASV141  NA         NA         2.361775e-02 NA         NA         -4.762268 "
      ]
     },
     "metadata": {},
     "output_type": "display_data"
    }
   ],
   "source": [
    "dft.CH.padj = df.THASVs %>%\n",
    "    select(OTU,padj,Contrast) %>% \n",
    "    dcast(OTU ~ Contrast, value.var = \"padj\") \n",
    "colnames(dft.CH.padj)[-1] = c(paste(colnames(dft.CH.padj)[-1],'padj', sep = '.'))\n",
    "\n",
    "dft.CH.l2fc = df.THASVs %>%\n",
    "    select(OTU,log2FoldChange,Contrast) %>% \n",
    "    dcast(OTU ~ Contrast, value.var = \"log2FoldChange\") \n",
    "colnames(dft.CH.l2fc)[-1] = c(paste(colnames(dft.CH.l2fc)[-1],'l2fc', sep = '.'))\n",
    "\n",
    "dft = full_join(dft.CH.padj, dft.CH.l2fc, by = \"OTU\")\n",
    "head(dft)"
   ]
  },
  {
   "cell_type": "markdown",
   "metadata": {},
   "source": [
    "# Sandbox"
   ]
  },
  {
   "cell_type": "markdown",
   "metadata": {},
   "source": [
    "## Differential abundance Core Hyphae to Bulk Soil"
   ]
  },
  {
   "cell_type": "code",
   "execution_count": null,
   "metadata": {},
   "outputs": [],
   "source": [
    "# Loop script for specific contrasts\n",
    "df.l2fc = NULL\n",
    "\n",
    "\n",
    "\n",
    "#create DESeq dataset and DESeq object\n",
    "Grouplist = c('Lansing-Gv', 'Lansing-RI', 'Florence-Gv', 'Pendelton-Gv')\n",
    "#set up list to store results output\n",
    "#myresults = paste(FungusList, \".res\", sep = \"\") %>% as.list()\n",
    "\n",
    "\n",
    "    for (i in Grouplist) {\n",
    "\n",
    "        print(i)\n",
    "        phy = subset_samples(tmp, SoilxFungus == i & SampleType %in% c(\"BS\", \"CH\"))\n",
    "\n",
    "        diagdds = phyloseq_to_deseq2(phy, ~ Rep + SampleType)\n",
    "        diagdds = DESeq(diagdds, fitType=\"local\")\n",
    "        # get log2 fold change between this pair of genotypes\n",
    "        res =  results(diagdds,contrast=c('SampleType',\"CH\",\"BS\"), lfcThreshold = 0)\n",
    "\n",
    "        r =   res %>% as.data.frame %>%\n",
    "               mutate(ASV=row.names(.),Test='CH-BS', contrast = \"CHBS\", group = i, Experiment = '2')\n",
    "        #Store results for each fungus in list, e.g. myresults$Gv\n",
    "        #myresults[FungusList[i]] = res\n",
    "        plotMA(res)\n",
    "        df.l2fc = rbind(df.l2fc, r)\n",
    "    }\n",
    "    \n",
    "\n",
    "df.l2fc.2.CHBS = df.l2fc"
   ]
  },
  {
   "cell_type": "code",
   "execution_count": null,
   "metadata": {},
   "outputs": [],
   "source": [
    "sample_data(tmp)$SampleType %>% unique"
   ]
  },
  {
   "cell_type": "markdown",
   "metadata": {},
   "source": [
    "## Differential abundance Core Hyphae to Bulk POM\n",
    "* Note that BPOM was not collected from RI cores.  Will have to rely on Gv comparison and BP vs BH to highlight taxa that are a result of BPOM enrichment"
   ]
  },
  {
   "cell_type": "code",
   "execution_count": null,
   "metadata": {},
   "outputs": [],
   "source": [
    "# Loop script for specific contrasts\n",
    "df.l2fc = NULL\n",
    "\n",
    "\n",
    "\n",
    "#create DESeq dataset and DESeq object\n",
    "Grouplist = c('Lansing-Gv', 'Florence-Gv', 'Pendelton-Gv')\n",
    "#set up list to store results output\n",
    "#myresults = paste(FungusList, \".res\", sep = \"\") %>% as.list()\n",
    "\n",
    "\n",
    "    for (i in Grouplist) {\n",
    "\n",
    "        print(i)\n",
    "        phy = subset_samples(tmp, SoilxFungus == i & SampleType %in% c(\"BP\", \"CH\"))\n",
    "\n",
    "        diagdds = phyloseq_to_deseq2(phy, ~ Rep + SampleType)\n",
    "        diagdds = DESeq(diagdds, fitType=\"local\")\n",
    "        # get log2 fold change between this pair of genotypes\n",
    "        res =  results(diagdds,contrast=c('SampleType',\"CH\",\"BP\"), lfcThreshold = 0)\n",
    "\n",
    "        r =   res %>% as.data.frame %>%\n",
    "               mutate(ASV=row.names(.),Test='CH-BP', contrast = \"CHBP\", group = i, Experiment = '2')\n",
    "        #Store results for each fungus in list, e.g. myresults$Gv\n",
    "        #myresults[FungusList[i]] = res\n",
    "        plotMA(res)\n",
    "        df.l2fc = rbind(df.l2fc, r)\n",
    "    }\n",
    "    \n",
    "\n",
    "df.l2fc.2.CHBP = df.l2fc"
   ]
  },
  {
   "cell_type": "markdown",
   "metadata": {},
   "source": [
    "## Differential abundance Root hyphae to root slurry\n",
    "* need to rerun"
   ]
  },
  {
   "cell_type": "code",
   "execution_count": null,
   "metadata": {},
   "outputs": [],
   "source": [
    "# Loop script for specific contrasts\n",
    "df.l2fc = NULL\n",
    "\n",
    "\n",
    "\n",
    "#create DESeq dataset and DESeq object\n",
    "Grouplist = c('Lansing-Gv', 'Lansing-RI', 'Florence-Gv', 'Pendelton-Gv')\n",
    "#set up list to store results output\n",
    "#myresults = paste(FungusList, \".res\", sep = \"\") %>% as.list()\n",
    "\n",
    "\n",
    "    for (i in Grouplist) {\n",
    "\n",
    "        print(i)\n",
    "        phy = subset_samples(tmp, SoilxFungus == i & SampleType %in% c(\"RS\", \"RH\"))\n",
    "\n",
    "        diagdds = phyloseq_to_deseq2(phy, ~ SampleType)\n",
    "        diagdds = DESeq(diagdds, fitType=\"local\")\n",
    "        # get log2 fold change between this pair of genotypes\n",
    "        res =  results(diagdds,contrast=c('SampleType',\"RH\",\"RS\"), lfcThreshold = 0)\n",
    "\n",
    "        r =   res %>% as.data.frame %>%\n",
    "               mutate(ASV=row.names(.),Test='RH-RS', contrast = \"RHRS\", group = i, Experiment = '2')\n",
    "        #Store results for each fungus in list, e.g. myresults$Gv\n",
    "        #myresults[FungusList[i]] = res\n",
    "        plotMA(res)\n",
    "        df.l2fc = rbind(df.l2fc, r)\n",
    "    }\n",
    "    \n",
    "\n",
    "df.l2fc.2.RHRS = df.l2fc"
   ]
  },
  {
   "cell_type": "markdown",
   "metadata": {},
   "source": [
    "## Differential abundance Bulk hyphae to bulk soil"
   ]
  },
  {
   "cell_type": "code",
   "execution_count": null,
   "metadata": {},
   "outputs": [],
   "source": [
    "# Loop script for specific contrasts\n",
    "df.l2fc = NULL\n",
    "\n",
    "\n",
    "\n",
    "#create DESeq dataset and DESeq object\n",
    "Grouplist = c('Lansing-Gv', 'Lansing-RI', 'Florence-Gv', 'Pendelton-Gv')\n",
    "#set up list to store results output\n",
    "#myresults = paste(FungusList, \".res\", sep = \"\") %>% as.list()\n",
    "\n",
    "\n",
    "    for (i in Grouplist) {\n",
    "\n",
    "        print(i)\n",
    "        phy = subset_samples(tmp, SoilxFungus == i & SampleType %in% c(\"BS\", \"BH\"))\n",
    "\n",
    "        diagdds = phyloseq_to_deseq2(phy, ~ Rep + SampleType)\n",
    "        diagdds = DESeq(diagdds, fitType=\"local\")\n",
    "        # get log2 fold change between this pair of genotypes\n",
    "        res =  results(diagdds,contrast=c('SampleType',\"BH\",\"BS\"), lfcThreshold = 0)\n",
    "\n",
    "        r =   res %>% as.data.frame %>%\n",
    "               mutate(ASV=row.names(.),Test='BH-BS', contrast = \"BHBS\", group = i, Experiment = '2')\n",
    "        #Store results for each fungus in list, e.g. myresults$Gv\n",
    "        #myresults[FungusList[i]] = res\n",
    "        plotMA(res)\n",
    "        df.l2fc = rbind(df.l2fc, r)\n",
    "    }\n",
    "    \n",
    "\n",
    "df.l2fc.2.BHBS = df.l2fc"
   ]
  },
  {
   "cell_type": "markdown",
   "metadata": {},
   "source": [
    "## Differential abundance Bulk pom to core slurry"
   ]
  },
  {
   "cell_type": "code",
   "execution_count": null,
   "metadata": {},
   "outputs": [],
   "source": [
    "# Loop script for specific contrasts\n",
    "df.l2fc = NULL\n",
    "\n",
    "\n",
    "\n",
    "#create DESeq dataset and DESeq object\n",
    "Grouplist = c('Lansing-Gv', 'Florence-Gv', 'Pendelton-Gv')\n",
    "#set up list to store results output\n",
    "#myresults = paste(FungusList, \".res\", sep = \"\") %>% as.list()\n",
    "\n",
    "\n",
    "    for (i in Grouplist) {\n",
    "\n",
    "        print(i)\n",
    "        phy = subset_samples(tmp, SoilxFungus == i & SampleType %in% c(\"BP\", \"CS\"))\n",
    "\n",
    "        diagdds = phyloseq_to_deseq2(phy, ~ Rep + SampleType)\n",
    "        diagdds = DESeq(diagdds, fitType=\"local\")\n",
    "        # get log2 fold change between this pair of genotypes\n",
    "        res =  results(diagdds,contrast=c('SampleType',\"BP\",\"CS\"), lfcThreshold = 0)\n",
    "\n",
    "        r =   res %>% as.data.frame %>%\n",
    "               mutate(ASV=row.names(.),Test='BP-CS', contrast = \"BPCS\", group = i, Experiment = '2')\n",
    "        #Store results for each fungus in list, e.g. myresults$Gv\n",
    "        #myresults[FungusList[i]] = res\n",
    "        plotMA(res)\n",
    "        df.l2fc = rbind(df.l2fc, r)\n",
    "    }\n",
    "    \n",
    "\n",
    "df.l2fc.2.BPCS = df.l2fc"
   ]
  },
  {
   "cell_type": "code",
   "execution_count": null,
   "metadata": {},
   "outputs": [],
   "source": []
  },
  {
   "cell_type": "code",
   "execution_count": null,
   "metadata": {},
   "outputs": [],
   "source": [
    "head(df.l2fc.2.CHCS)"
   ]
  },
  {
   "cell_type": "code",
   "execution_count": null,
   "metadata": {
    "scrolled": false
   },
   "outputs": [],
   "source": [
    "# tmp = left_join(df.l2fc.CHCS,taxa, by = \"ASV\")\n",
    "# sigtab = tmp %>% filter(padj < 0.05 & log2FoldChange > 2) #& Order %in% \n",
    "#                      #   c(\"Myxococcales\", \"Betaproteobacteriales\", \"Rhizobiales\", \"Sphingomonadales\", \n",
    "#                      #    \"Fibrobacterales\", \"Cytophagales\")) %>% mutate(Order = droplevels(Order))\n",
    "\n",
    "# x = tapply(sigtab$log2FoldChange, sigtab$Order, function(x) max(x))\n",
    "# x = sort(x, TRUE)\n",
    "# sigtab$Order = factor(as.character(sigtab$Order), levels=names(x))\n",
    "# # x = tapply(sigtab$log2FoldChange, sigtab$Rank3, function(x) max(x))\n",
    "# # x = sort(x, TRUE)\n",
    "# # sigtab$Rank3 = factor(as.character(sigtab$Rank3), levels=names(x))\n",
    "# #cs = brewer.pal(12,\"Set3\")    \n",
    "# p2 = ggplot(sigtab, aes(x=log2FoldChange, y=ASV, size = baseMean)) + \n",
    "#     geom_point(aes(color = Class))+\n",
    "#   theme_pub(base_size = 12) +\n",
    "#   #scale_color_manual(values = cs) +\n",
    "#   theme(axis.text.x = element_text(angle = -90, hjust = 0, vjust=0.5)) + \n",
    "#   facet_wrap(~group, ncol = 2)+\n",
    "#     ggtitle(\"Enriched in hyphosphere compared to bulk soil\")  +\n",
    "#    theme(legend.position=\"right\")# +\n",
    "#         #guides(color=guide_legend(ncol=3)) \n",
    "# #x = tapply(sigtab$log2FoldChange, sigtab$Rank2, function(x) max(x))\n",
    "# #x = sort(x, TRUE)\n",
    "# #x\n",
    "#     p2"
   ]
  },
  {
   "cell_type": "code",
   "execution_count": null,
   "metadata": {
    "scrolled": false
   },
   "outputs": [],
   "source": [
    "## If using this cell, need to normalize first\n",
    "# ps.m = prune_taxa(\"ASV18\", ps.snorm)  %>% psmelt()\n",
    "\n",
    "# plot2 = filter(ps.m, !SampleType %in% c(\"EB\", \"PB\", \"MK\") & Soil %in% c(\"Lansing\", \"Pendelton\", \"Florence\")) %>%\n",
    "#     ggplot(., aes(x=interaction(Treatment,Rep), y= log2(Abundance))) +\n",
    "#     geom_point()+\n",
    "#     facet_grid(Soil~SampleType, scales = 'free_x')+\n",
    "#     ggtitle(as.character(\"ASV18\"))+\n",
    "#     ylab('Relative abundance (log2)')\n",
    "# plot2"
   ]
  },
  {
   "cell_type": "markdown",
   "metadata": {},
   "source": [
    "# Check against abundance of MREs in BH samples"
   ]
  },
  {
   "cell_type": "code",
   "execution_count": null,
   "metadata": {},
   "outputs": [],
   "source": [
    "ps.Full = readRDS(\"~/Hyphosphere/Exp11/Exp11_phyloseq.rds\")\n",
    "#ps = subset_taxa(ps, !is.na(\"Phylum\"))\n",
    "\n",
    "#tax_table(ps) %>% head()\n",
    "\n",
    "ps.Full = subset_taxa(ps.Full, Kingdom == \"Bacteria\")\n",
    "#ps.Full = subset_samples(ps.Full, SampleType %in% c(\"BS\",\"BH\") & Fungus == \"Gv\") #remove non-experimental controls"
   ]
  },
  {
   "cell_type": "code",
   "execution_count": null,
   "metadata": {},
   "outputs": [],
   "source": [
    "ps.MRE = ps.Full %>% transform_sample_counts(., function(x) x/sum(x)) %>% prune_taxa(c(\"ASV2\", \"ASV4\", \"ASV11\"),.)\n",
    "tax_table(ps.MRE)"
   ]
  },
  {
   "cell_type": "code",
   "execution_count": null,
   "metadata": {},
   "outputs": [],
   "source": [
    "ps.Full %>% transform_sample_counts(., function(x) x/sum(x)) %>% prune_taxa(c(\"ASV2\", \"ASV4\", \"ASV11\"),.) %>% \n",
    "    psmelt() %>% \n",
    "    filter(!SampleType %in% c(\"EB\", \"PB\", \"MK\") & Soil %in% c(\"Lansing\", \"Pendelton\", \"Florence\") & Fungus == \"Gv\")  %>%                                     \n",
    "    group_by(sample_Sample, Soil, SampleType, Treatment, Rep) %>%\n",
    "    summarise(sAbund = sum(Abundance)) %>%\n",
    "    ggplot(., aes(x=interaction(Treatment,Rep), y= log2(sAbund))) +\n",
    "    geom_point()+\n",
    "    facet_grid(Soil~SampleType, scales = 'free_x')+\n",
    "    ggtitle(as.character(\"MREs\"))+\n",
    "    theme(axis.text.x = element_blank())+\n",
    "    ylab('Relative abundance (log2)')\n"
   ]
  },
  {
   "cell_type": "code",
   "execution_count": null,
   "metadata": {},
   "outputs": [],
   "source": [
    "MREtab = ps.MRE %>% \n",
    "    psmelt() %>% \n",
    "    group_by(sample_Sample, Soil) %>%\n",
    "    summarise(sAbund = sum(Abundance))"
   ]
  },
  {
   "cell_type": "code",
   "execution_count": null,
   "metadata": {},
   "outputs": [],
   "source": [
    "head(MREtab)"
   ]
  },
  {
   "cell_type": "code",
   "execution_count": null,
   "metadata": {
    "scrolled": true
   },
   "outputs": [],
   "source": [
    "ps.tax = ps %>% \n",
    "transform_sample_counts(., function(x) x/sum(x)) %>% \n",
    "                        prune_taxa(c(\"ASV14\", \"ASV18\"),.)\n",
    "                        #prune_taxa(c(\"ASV17\"),.)\n",
    "tax_table(ps.tax)"
   ]
  },
  {
   "cell_type": "code",
   "execution_count": null,
   "metadata": {},
   "outputs": [],
   "source": [
    "ps.tax %>% subset_samples(., SampleType == \"CH\" & Soil == \"Lansing\") %>% sample_sums()\n",
    "                    "
   ]
  },
  {
   "cell_type": "code",
   "execution_count": null,
   "metadata": {},
   "outputs": [],
   "source": [
    "Taxtab = ps.tax %>% \n",
    "    psmelt() %>% \n",
    "    filter(SampleType %in% c(\"BS\",\"BH\") & Fungus == \"Gv\") %>%\n",
    "    group_by(sample_Sample, Soil, SampleType) %>%\n",
    "    summarise(sAbund = sum(Abundance))"
   ]
  },
  {
   "cell_type": "code",
   "execution_count": null,
   "metadata": {},
   "outputs": [],
   "source": [
    "head(Taxtab)"
   ]
  },
  {
   "cell_type": "code",
   "execution_count": null,
   "metadata": {},
   "outputs": [],
   "source": [
    "file.path(figDir, 'MRExSandaracinus.pdf')"
   ]
  },
  {
   "cell_type": "code",
   "execution_count": null,
   "metadata": {},
   "outputs": [],
   "source": []
  },
  {
   "cell_type": "code",
   "execution_count": null,
   "metadata": {},
   "outputs": [],
   "source": [
    "cs = brewer.pal(3,\"Set2\")\n",
    "df = full_join(MREtab,Taxtab, by = \"sample_Sample\") \n",
    "p1 = df %>%\n",
    "    #filter(OTU %in% c(\"ASV14\", \"ASV18\")) %>%\n",
    "    ggplot(.,aes(x = sAbund.x, y = sAbund.y, fill = Soil.x, shape = SampleType)) +\n",
    "        geom_jitter(shape = 21, pch = 2) +\n",
    "        theme_pub()+\n",
    "        scale_fill_manual(values = cs) +#, labels = c(\"Bulk hyphosphere\", \"Bulk soil\"))+\n",
    "        ylab(\"Sandaracinus relative abundance\") +\n",
    "        xlab(\"MRE relative abundance\")#+\n",
    "       # facet_grid(Soil.x~OTU)\n",
    "p1\n",
    "\n",
    "outfile = file.path(figDir, 'MRExSandaracinus.pdf')\n",
    "pdf(outfile, width = 4.5, height = 3)\n",
    "p1\n",
    "dev.off()"
   ]
  },
  {
   "cell_type": "code",
   "execution_count": null,
   "metadata": {},
   "outputs": [],
   "source": [
    "head(df)"
   ]
  },
  {
   "cell_type": "code",
   "execution_count": null,
   "metadata": {
    "scrolled": true
   },
   "outputs": [],
   "source": [
    "tmp = df %>% filter(SampleType == \"BH\")\n",
    "m1 = lm(sAbund.y~sAbund.x , data = tmp)\n",
    "summary(m1)"
   ]
  },
  {
   "cell_type": "code",
   "execution_count": null,
   "metadata": {},
   "outputs": [],
   "source": [
    "m1 = lm(sAbund.y~sAbund.x , data = df)\n",
    "summary(m1)"
   ]
  },
  {
   "cell_type": "code",
   "execution_count": null,
   "metadata": {},
   "outputs": [],
   "source": [
    "DC = read.delim(file = '~/Hyphosphere/Exp11/QuickDirtyDNAconc.txt', header = TRUE)\n",
    "head(DC)"
   ]
  },
  {
   "cell_type": "code",
   "execution_count": null,
   "metadata": {
    "scrolled": true
   },
   "outputs": [],
   "source": [
    "df.2 = left_join(df, DC, by = c('sample_Sample' = \"Sample\"))\n",
    "head(df.2)"
   ]
  },
  {
   "cell_type": "code",
   "execution_count": null,
   "metadata": {
    "scrolled": false
   },
   "outputs": [],
   "source": [
    "\n",
    "p1 = df.2 %>%\n",
    "    ggplot(.,aes(x = DNA_conc, y = sAbund.y, fill = Soil.x)) +\n",
    "        geom_point(pch = 21) +\n",
    "        theme_pub()\n",
    "\n",
    "outfile = file.path(figDir, 'SandaracinusxDNAconc.pdf')\n",
    "pdf(outfile, width = 4.5, height = 3)\n",
    "p1\n",
    "dev.off()"
   ]
  },
  {
   "cell_type": "code",
   "execution_count": null,
   "metadata": {},
   "outputs": [],
   "source": [
    "df.2 %>%\n",
    "    ggplot(.,aes(x = DNA_conc, y = sAbund )) +\n",
    "        geom_point() +\n",
    "        facet_wrap(~Soil.x)"
   ]
  },
  {
   "cell_type": "code",
   "execution_count": null,
   "metadata": {
    "scrolled": true
   },
   "outputs": [],
   "source": [
    "tmp = filter(df.2, OTU == \"ASV14\")\n",
    "m1 = lm(sAbund~DNA_conc , data = tmp)\n",
    "summary(m1)"
   ]
  },
  {
   "cell_type": "code",
   "execution_count": null,
   "metadata": {},
   "outputs": [],
   "source": [
    "df.2 %>% \n",
    "    select(sample_Sample, Soil.x, sAbund, Abundance, OTU) %>%\n",
    "    dcast(., sample_Sample + Soil.x ~ OTU, value.var = \"Abundance\", fun.aggregate = mean) "
   ]
  },
  {
   "cell_type": "code",
   "execution_count": null,
   "metadata": {
    "scrolled": true
   },
   "outputs": [],
   "source": [
    "df.2 %>% \n",
    "    select(sample_Sample, Soil.x, sAbund, Abundance, OTU) %>%\n",
    "    dcast(., sample_Sample + Soil.x ~ OTU, value.var = \"Abundance\", fun.aggregate = mean) %>%\n",
    "    ggplot(.,aes(x = ASV14, y = ASV18)) +\n",
    "        geom_point() +\n",
    "        facet_wrap(~Soil.x)"
   ]
  },
  {
   "cell_type": "code",
   "execution_count": null,
   "metadata": {
    "scrolled": true
   },
   "outputs": [],
   "source": [
    "ps.m %>% filter(OTU == \"ASV14\" & SampleType %in% c(\"BP\", \"CS\")) %>%\n",
    " left_join(., DC, by = c('sample_Sample' = \"Sample\")) %>%\n",
    "     ggplot(.,aes(x = DNA_conc, y = Abundance)) +\n",
    "        geom_point() +\n",
    "        facet_grid(SampleType~Soil)"
   ]
  },
  {
   "cell_type": "code",
   "execution_count": null,
   "metadata": {},
   "outputs": [],
   "source": [
    "# Check ASV 14 in all samples"
   ]
  },
  {
   "cell_type": "code",
   "execution_count": null,
   "metadata": {},
   "outputs": [],
   "source": [
    "Taxtab = ps %>% \n",
    "transform_sample_counts(., function(x) x/sum(x)) %>% \n",
    "                        prune_taxa(c(\"ASV14\",\"ASV18\"),.) %>%\n",
    "                        psmelt()\n",
    "                        #prune_taxa(c(\"ASV17\"),.)\n",
    "head(Taxtab)"
   ]
  },
  {
   "cell_type": "code",
   "execution_count": null,
   "metadata": {},
   "outputs": [],
   "source": [
    "df.2 = left_join(Taxtab, DC, by = c('sample_Sample' = \"Sample\"))\n",
    "df.2 %>% filter(sample_Sample == \"GVFLHP1-CH\")"
   ]
  },
  {
   "cell_type": "code",
   "execution_count": null,
   "metadata": {
    "scrolled": true
   },
   "outputs": [],
   "source": [
    "df.2 %>% \n",
    "    filter(OTU == \"ASV14\" & SampleType %in% c(\"BP\", \"BH\", \"CS\", \"RH\", \"RS\", \"CH\", \"BS\")) %>%\n",
    "    ggplot(., aes(x = DNA_conc, y = Abundance)) +\n",
    "        geom_point(aes(color = Fungus, shape = Soil))+\n",
    "        facet_wrap(~SampleType, scales = \"free\", ncol = 2) +\n",
    "        theme(legend.position = \"bottom\") #+\n",
    "        #scale_y_continuous(trans = \"log2\")"
   ]
  },
  {
   "cell_type": "code",
   "execution_count": null,
   "metadata": {},
   "outputs": [],
   "source": [
    "tmp = ps %>% \n",
    "    subset_samples(Sample == \"GVFLHP1-CH\") %>%\n",
    "    transform_sample_counts(., function(x) x/sum(x)) %>% \n",
    "    psmelt() %>% \n",
    "    arrange(desc(Abundance)) %>% select(Abundance, OTU, Phylum, Class, Order, Family)\n",
    "tmp[1:100,]"
   ]
  },
  {
   "cell_type": "code",
   "execution_count": null,
   "metadata": {},
   "outputs": [],
   "source": [
    "tmp %>% group_by(Family) %>% summarise(sAbund = sum(Abundance)) %>% arrange(desc(sAbund))"
   ]
  },
  {
   "cell_type": "markdown",
   "metadata": {},
   "source": [
    "# Save deseqtable"
   ]
  },
  {
   "cell_type": "code",
   "execution_count": null,
   "metadata": {},
   "outputs": [],
   "source": [
    "write.table(df.l2fc.CHCS, file = '~/Hyphosphere/Exp11/df_l2fc_CHCS_bothtreatments.txt', sep = '\\t')"
   ]
  }
 ],
 "metadata": {
  "kernelspec": {
   "display_name": "R",
   "language": "R",
   "name": "ir"
  },
  "language_info": {
   "codemirror_mode": "r",
   "file_extension": ".r",
   "mimetype": "text/x-r-source",
   "name": "R",
   "pygments_lexer": "r",
   "version": "3.6.0"
  }
 },
 "nbformat": 4,
 "nbformat_minor": 2
}
