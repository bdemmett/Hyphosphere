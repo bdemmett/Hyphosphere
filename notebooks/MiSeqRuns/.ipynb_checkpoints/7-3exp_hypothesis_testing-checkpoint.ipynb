{
 "cells": [
  {
   "cell_type": "code",
   "execution_count": 79,
   "metadata": {},
   "outputs": [],
   "source": [
    "figDir = '~/Hyphosphere/data/3Exp/figures'\n",
    "\n",
    "work_dir = '~/Hyphosphere/data/3Exp/diversity'\n",
    "\n",
    "# phyloseq \n",
    "physeq_file = '~/Hyphosphere/data/3Exp/phyloseq/3Exp_phyloseq_thresh_wtree_woContam.rds'\n",
    "\n",
    "conda_env = 'qiime2-2019.7'"
   ]
  },
  {
   "cell_type": "code",
   "execution_count": 139,
   "metadata": {},
   "outputs": [],
   "source": [
    "library(dplyr)\n",
    "library(tidyr)\n",
    "library(ggplot2)\n",
    "library(phyloseq)\n",
    "library(ape)\n",
    "library(bindrcpp)\n",
    "#library(deseq2)"
   ]
  },
  {
   "cell_type": "code",
   "execution_count": 31,
   "metadata": {},
   "outputs": [],
   "source": [
    "theme_pub = function (base_size = 11, base_family = \"Helvetica\") \n",
    "{\n",
    "    theme_grey(base_size = base_size, base_family = base_family) %+replace% \n",
    "        theme(\n",
    "            axis.line.x = element_line(size = .5),\n",
    "            axis.line.y = element_line(size = .5),\n",
    "            panel.background = element_rect(fill = \"white\", colour = NA), \n",
    "            panel.border = element_rect(fill = NA, color = \"black\", size = .5), \n",
    "            panel.grid.major = element_blank(), \n",
    "            panel.grid.minor = element_blank(), \n",
    "            strip.background = element_rect(fill = \"grey85\", \n",
    "                colour = \"grey20\"), \n",
    "            legend.key = element_rect(fill = \"white\", \n",
    "                colour = NA), complete = TRUE)\n",
    "    }"
   ]
  },
  {
   "cell_type": "code",
   "execution_count": 32,
   "metadata": {},
   "outputs": [],
   "source": [
    "# bash_job = function(cmd, conda_env=NULL, conda_path=NULL, stdout=TRUE, stderr=FALSE, cat_output=TRUE){\n",
    "#   # formatting command\n",
    "#   if(! is.null(conda_env)){\n",
    "#     cmd = sprintf('source activate %s; %s', conda_env, cmd)\n",
    "#   }\n",
    "#   if(! is.null(conda_path)){\n",
    "#     conda_path = gsub('conda$', '', conda_path)\n",
    "#     cmd = paste(c(sprintf('PATH=%s:$PATH', conda_path), cmd), collapse=';')\n",
    "#   }\n",
    "#   cmd = sprintf('-c \"%s\"', cmd)\n",
    "\n",
    "#   # system call\n",
    "#   ret = system2('bash', cmd, stdout=stdout, stderr=stderr)\n",
    "\n",
    "#   # returning output\n",
    "#   if (cat_output == TRUE){\n",
    "#     cat(paste(ret, collapse='\\n'))\n",
    "#   } else {\n",
    "#     return(ret)\n",
    "#   }\n",
    "# }"
   ]
  },
  {
   "cell_type": "code",
   "execution_count": 159,
   "metadata": {},
   "outputs": [],
   "source": [
    "bash_job = function(cmd, conda_env, stdout=TRUE, stderr=FALSE){\n",
    "    # cmd : string; commandline job (eg., 'ls -thlc')\n",
    "    # conda_env : string; conda environment name\n",
    "    cmd = sprintf('. ~/.bashrc; source activate %s; %s', conda_env, cmd)\n",
    "    cmd = sprintf('-c \"%s\"', cmd)\n",
    "    system2('bash', cmd, stdout=stdout, stderr=stderr)\n",
    "}\n",
    "\n",
    "status = function(df, n=3){\n",
    "  df %>% dim %>% print\n",
    "  df %>% head(n=n)\n",
    "}"
   ]
  },
  {
   "cell_type": "markdown",
   "metadata": {},
   "source": [
    "# Convert to qiime2 artifacts"
   ]
  },
  {
   "cell_type": "code",
   "execution_count": 52,
   "metadata": {},
   "outputs": [
    {
     "data": {
      "text/plain": [
       "phyloseq-class experiment-level object\n",
       "otu_table()   OTU Table:         [ 15339 taxa and 403 samples ]\n",
       "sample_data() Sample Data:       [ 403 samples by 11 sample variables ]\n",
       "tax_table()   Taxonomy Table:    [ 15339 taxa by 6 taxonomic ranks ]\n",
       "phy_tree()    Phylogenetic Tree: [ 15339 tips and 15338 internal nodes ]"
      ]
     },
     "metadata": {},
     "output_type": "display_data"
    }
   ],
   "source": [
    "# loading phyloseq object\n",
    "physeq = readRDS(physeq_file) %>% subset_taxa(., !is.na(\"Phylum\")) %>%\n",
    "    # remove non-experimental controls\n",
    "    subset_samples(., !SampleType %in% c(\"EB\", \"PB\", \"MK\")) %>%\n",
    "    # T0R1 has all NaN for some reason\n",
    "    subset_samples(!Sample == \"T0R1\") %>%\n",
    "     # re-normalize after subsetting taxa\n",
    "    transform_sample_counts(., function(x) x/sum(x))\n",
    "physeq"
   ]
  },
  {
   "cell_type": "code",
   "execution_count": 51,
   "metadata": {},
   "outputs": [
    {
     "data": {
      "text/html": [
       "<table>\n",
       "<thead><tr><th></th><th scope=col>Sample</th><th scope=col>Experiment</th><th scope=col>Plant</th><th scope=col>Fungus</th><th scope=col>Soil</th><th scope=col>SampleType</th><th scope=col>Treatment</th><th scope=col>TimePoint</th><th scope=col>DAI</th><th scope=col>Rep</th><th scope=col>Concentration_ng.ul</th></tr></thead>\n",
       "<tbody>\n",
       "\t<tr><th scope=row>183_RIN7HN4-RS</th><td>RIN7HN4-RS</td><td>2         </td><td>RIN7HN4   </td><td>RI        </td><td>Lansing   </td><td>RS        </td><td>HN        </td><td>NA        </td><td>27        </td><td> 4        </td><td>NA        </td></tr>\n",
       "\t<tr><th scope=row>184_RIN7HP3-CH</th><td>RIN7HP3-CH</td><td>2         </td><td>RIN7HP3   </td><td>RI        </td><td>Lansing   </td><td>CH        </td><td>HP        </td><td>NA        </td><td>27        </td><td> 3        </td><td>NA        </td></tr>\n",
       "\t<tr><th scope=row>185_RIN7HP4-CH</th><td>RIN7HP4-CH</td><td>2         </td><td>RIN7HP4   </td><td>RI        </td><td>Lansing   </td><td>CH        </td><td>HP        </td><td>NA        </td><td>27        </td><td> 4        </td><td>NA        </td></tr>\n",
       "\t<tr><th scope=row>186_Unknown-RS</th><td>Unknown-RS</td><td>2         </td><td>Unknown   </td><td>          </td><td>          </td><td>RS        </td><td>          </td><td>NA        </td><td>27        </td><td>NA        </td><td>NA        </td></tr>\n",
       "\t<tr><th scope=row>190_GVN7HP2-BH</th><td>GVN7HP2-BH</td><td>2         </td><td>GVN7HP2   </td><td>Gv        </td><td>Lansing   </td><td>BH        </td><td>HP        </td><td>NA        </td><td>27        </td><td> 2        </td><td>NA        </td></tr>\n",
       "\t<tr><th scope=row>191_GVCLHN2-BS</th><td>GVCLHN2-BS</td><td>2         </td><td>GVCLHN2   </td><td>Gv        </td><td>Pendelton </td><td>BS        </td><td>HN        </td><td>NA        </td><td>27        </td><td> 2        </td><td>NA        </td></tr>\n",
       "</tbody>\n",
       "</table>\n"
      ],
      "text/latex": [
       "\\begin{tabular}{r|lllllllllll}\n",
       "  & Sample & Experiment & Plant & Fungus & Soil & SampleType & Treatment & TimePoint & DAI & Rep & Concentration\\_ng.ul\\\\\n",
       "\\hline\n",
       "\t183\\_RIN7HN4-RS & RIN7HN4-RS & 2          & RIN7HN4    & RI         & Lansing    & RS         & HN         & NA         & 27         &  4         & NA        \\\\\n",
       "\t184\\_RIN7HP3-CH & RIN7HP3-CH & 2          & RIN7HP3    & RI         & Lansing    & CH         & HP         & NA         & 27         &  3         & NA        \\\\\n",
       "\t185\\_RIN7HP4-CH & RIN7HP4-CH & 2          & RIN7HP4    & RI         & Lansing    & CH         & HP         & NA         & 27         &  4         & NA        \\\\\n",
       "\t186\\_Unknown-RS & Unknown-RS & 2          & Unknown    &            &            & RS         &            & NA         & 27         & NA         & NA        \\\\\n",
       "\t190\\_GVN7HP2-BH & GVN7HP2-BH & 2          & GVN7HP2    & Gv         & Lansing    & BH         & HP         & NA         & 27         &  2         & NA        \\\\\n",
       "\t191\\_GVCLHN2-BS & GVCLHN2-BS & 2          & GVCLHN2    & Gv         & Pendelton  & BS         & HN         & NA         & 27         &  2         & NA        \\\\\n",
       "\\end{tabular}\n"
      ],
      "text/markdown": [
       "\n",
       "| <!--/--> | Sample | Experiment | Plant | Fungus | Soil | SampleType | Treatment | TimePoint | DAI | Rep | Concentration_ng.ul | \n",
       "|---|---|---|---|---|---|\n",
       "| 183_RIN7HN4-RS | RIN7HN4-RS | 2          | RIN7HN4    | RI         | Lansing    | RS         | HN         | NA         | 27         |  4         | NA         | \n",
       "| 184_RIN7HP3-CH | RIN7HP3-CH | 2          | RIN7HP3    | RI         | Lansing    | CH         | HP         | NA         | 27         |  3         | NA         | \n",
       "| 185_RIN7HP4-CH | RIN7HP4-CH | 2          | RIN7HP4    | RI         | Lansing    | CH         | HP         | NA         | 27         |  4         | NA         | \n",
       "| 186_Unknown-RS | Unknown-RS | 2          | Unknown    |            |            | RS         |            | NA         | 27         | NA         | NA         | \n",
       "| 190_GVN7HP2-BH | GVN7HP2-BH | 2          | GVN7HP2    | Gv         | Lansing    | BH         | HP         | NA         | 27         |  2         | NA         | \n",
       "| 191_GVCLHN2-BS | GVCLHN2-BS | 2          | GVCLHN2    | Gv         | Pendelton  | BS         | HN         | NA         | 27         |  2         | NA         | \n",
       "\n",
       "\n"
      ],
      "text/plain": [
       "               Sample     Experiment Plant   Fungus Soil      SampleType\n",
       "183_RIN7HN4-RS RIN7HN4-RS 2          RIN7HN4 RI     Lansing   RS        \n",
       "184_RIN7HP3-CH RIN7HP3-CH 2          RIN7HP3 RI     Lansing   CH        \n",
       "185_RIN7HP4-CH RIN7HP4-CH 2          RIN7HP4 RI     Lansing   CH        \n",
       "186_Unknown-RS Unknown-RS 2          Unknown                  RS        \n",
       "190_GVN7HP2-BH GVN7HP2-BH 2          GVN7HP2 Gv     Lansing   BH        \n",
       "191_GVCLHN2-BS GVCLHN2-BS 2          GVCLHN2 Gv     Pendelton BS        \n",
       "               Treatment TimePoint DAI Rep Concentration_ng.ul\n",
       "183_RIN7HN4-RS HN        NA        27   4  NA                 \n",
       "184_RIN7HP3-CH HP        NA        27   3  NA                 \n",
       "185_RIN7HP4-CH HP        NA        27   4  NA                 \n",
       "186_Unknown-RS           NA        27  NA  NA                 \n",
       "190_GVN7HP2-BH HP        NA        27   2  NA                 \n",
       "191_GVCLHN2-BS HN        NA        27   2  NA                 "
      ]
     },
     "metadata": {},
     "output_type": "display_data"
    }
   ],
   "source": [
    "sample_data(physeq) %>% tail()"
   ]
  },
  {
   "cell_type": "markdown",
   "metadata": {},
   "source": [
    "## OTU table"
   ]
  },
  {
   "cell_type": "code",
   "execution_count": 53,
   "metadata": {},
   "outputs": [
    {
     "data": {
      "text/html": [
       "<table>\n",
       "<thead><tr><th></th><th scope=col>OTU</th><th scope=col>ASV5742</th><th scope=col>ASV6971</th><th scope=col>ASV2480</th></tr></thead>\n",
       "<tbody>\n",
       "\t<tr><th scope=row>HCBN1_S211</th><td>HCBN1_S211  </td><td>0.0000000000</td><td>0           </td><td>0           </td></tr>\n",
       "\t<tr><th scope=row>HCBN2_S223</th><td>HCBN2_S223  </td><td>0.0000000000</td><td>0           </td><td>0           </td></tr>\n",
       "\t<tr><th scope=row>HCBN3_S235</th><td>HCBN3_S235  </td><td>0.0000000000</td><td>0           </td><td>0           </td></tr>\n",
       "\t<tr><th scope=row>HCBF1_S247</th><td>HCBF1_S247  </td><td>0.0006241489</td><td>0           </td><td>0           </td></tr>\n",
       "</tbody>\n",
       "</table>\n"
      ],
      "text/latex": [
       "\\begin{tabular}{r|llll}\n",
       "  & OTU & ASV5742 & ASV6971 & ASV2480\\\\\n",
       "\\hline\n",
       "\tHCBN1\\_S211 & HCBN1\\_S211 & 0.0000000000 & 0            & 0           \\\\\n",
       "\tHCBN2\\_S223 & HCBN2\\_S223 & 0.0000000000 & 0            & 0           \\\\\n",
       "\tHCBN3\\_S235 & HCBN3\\_S235 & 0.0000000000 & 0            & 0           \\\\\n",
       "\tHCBF1\\_S247 & HCBF1\\_S247 & 0.0006241489 & 0            & 0           \\\\\n",
       "\\end{tabular}\n"
      ],
      "text/markdown": [
       "\n",
       "| <!--/--> | OTU | ASV5742 | ASV6971 | ASV2480 | \n",
       "|---|---|---|---|\n",
       "| HCBN1_S211 | HCBN1_S211   | 0.0000000000 | 0            | 0            | \n",
       "| HCBN2_S223 | HCBN2_S223   | 0.0000000000 | 0            | 0            | \n",
       "| HCBN3_S235 | HCBN3_S235   | 0.0000000000 | 0            | 0            | \n",
       "| HCBF1_S247 | HCBF1_S247   | 0.0006241489 | 0            | 0            | \n",
       "\n",
       "\n"
      ],
      "text/plain": [
       "           OTU        ASV5742      ASV6971 ASV2480\n",
       "HCBN1_S211 HCBN1_S211 0.0000000000 0       0      \n",
       "HCBN2_S223 HCBN2_S223 0.0000000000 0       0      \n",
       "HCBN3_S235 HCBN3_S235 0.0000000000 0       0      \n",
       "HCBF1_S247 HCBF1_S247 0.0006241489 0       0      "
      ]
     },
     "metadata": {},
     "output_type": "display_data"
    }
   ],
   "source": [
    "# converting OTU table\n",
    "tmp = physeq %>% otu_table %>% as.matrix %>% as.data.frame\n",
    "tmp$OTU = rownames(tmp)\n",
    "tmp = cbind(tmp %>% dplyr::select(OTU),\n",
    "            tmp %>% dplyr::select(-OTU))\n",
    "\n",
    "tmp[1:4,1:4]"
   ]
  },
  {
   "cell_type": "code",
   "execution_count": 54,
   "metadata": {},
   "outputs": [
    {
     "name": "stdout",
     "output_type": "stream",
     "text": [
      "                          OTU      ASV5742      ASV6971      ASV2480\n",
      "HCBN1_S211         HCBN1_S211 0.000000e+00 0.0000000000 0.000000e+00\n",
      "HCBN2_S223         HCBN2_S223 0.000000e+00 0.0000000000 0.000000e+00\n",
      "HCBN3_S235         HCBN3_S235 0.000000e+00 0.0000000000 0.000000e+00\n",
      "HCBF1_S247         HCBF1_S247 6.241489e-04 0.0000000000 0.000000e+00\n",
      "HCBF2_S259         HCBF2_S259 0.000000e+00 0.0000000000 0.000000e+00\n",
      "HCBF3_S271         HCBF3_S271 4.877184e-04 0.0000000000 0.000000e+00\n",
      "HCBP1_S283         HCBP1_S283 2.271695e-04 0.0000000000 0.000000e+00\n",
      "HCBP2_S200         HCBP2_S200 2.395783e-04 0.0000000000 0.000000e+00\n",
      "HCBP3_S212         HCBP3_S212 0.000000e+00 0.0000000000 0.000000e+00\n",
      "HCBS1_S224         HCBS1_S224 0.000000e+00 0.0000000000 0.000000e+00\n",
      "HCBS2_S236         HCBS2_S236 0.000000e+00 0.0000000000 0.000000e+00\n",
      "HCBS3_S248         HCBS3_S248 0.000000e+00 0.0000000000 0.000000e+00\n",
      "HCRN1_S260         HCRN1_S260 0.000000e+00 0.0000000000 0.000000e+00\n",
      "HCRN2_S272         HCRN2_S272 0.000000e+00 0.0000000000 0.000000e+00\n",
      "HCRN3_S284         HCRN3_S284 0.000000e+00 0.0000000000 0.000000e+00\n",
      "HCRF1_S201         HCRF1_S201 0.000000e+00 0.0000000000 0.000000e+00\n",
      "HCRF2_S213         HCRF2_S213 0.000000e+00 0.0000000000 0.000000e+00\n",
      "HCRF3_S225         HCRF3_S225 0.000000e+00 0.0000000000 0.000000e+00\n",
      "HCRP1_S237         HCRP1_S237 0.000000e+00 0.0000000000 0.000000e+00\n",
      "HCRP2_S249         HCRP2_S249 0.000000e+00 0.0000000000 0.000000e+00\n",
      "HCRP3_S261         HCRP3_S261 0.000000e+00 0.0000000000 0.000000e+00\n",
      "HCRS1_S273         HCRS1_S273 0.000000e+00 0.0000000000 0.000000e+00\n",
      "HCRS2_S285         HCRS2_S285 0.000000e+00 0.0000000000 0.000000e+00\n",
      "HCRS3_S202         HCRS3_S202 0.000000e+00 0.0000000000 0.000000e+00\n",
      "HCHN1_S214         HCHN1_S214 0.000000e+00 0.0000000000 0.000000e+00\n",
      "HCHN2_S226         HCHN2_S226 0.000000e+00 0.0000000000 0.000000e+00\n",
      "HCHN3_S238         HCHN3_S238 0.000000e+00 0.0000000000 0.000000e+00\n",
      "HCHF1_S250         HCHF1_S250 0.000000e+00 0.0000000000 0.000000e+00\n",
      "HCHF2_S262         HCHF2_S262 0.000000e+00 0.0000000000 0.000000e+00\n",
      "HCHF3_S274         HCHF3_S274 0.000000e+00 0.0000000000 0.000000e+00\n",
      "HCHP1_S286         HCHP1_S286 0.000000e+00 0.0000000000 0.000000e+00\n",
      "HCHP2_S203         HCHP2_S203 0.000000e+00 0.0000000000 0.000000e+00\n",
      "HCHP3_S215         HCHP3_S215 0.000000e+00 0.0000000000 0.000000e+00\n",
      "HCHS1_S227         HCHS1_S227 0.000000e+00 0.0000000000 0.000000e+00\n",
      "HCHS2_S239         HCHS2_S239 0.000000e+00 0.0000000000 0.000000e+00\n",
      "HCHS3_S251         HCHS3_S251 0.000000e+00 0.0000000000 0.000000e+00\n",
      "1_3.1RH               1_3.1RH 0.000000e+00 0.0000000000 0.000000e+00\n",
      "2_3.1BP               2_3.1BP 0.000000e+00 0.0000000000 3.035823e-04\n",
      "3_2.1CH               3_2.1CH 0.000000e+00 0.0000000000 6.446345e-05\n",
      "4_2.1BP               4_2.1BP 0.000000e+00 0.0000000000 2.496312e-04\n",
      "5_1.1RH               5_1.1RH 0.000000e+00 0.0000000000 3.120514e-04\n",
      "6_3.1CH               6_3.1CH 0.000000e+00 0.0000000000 1.363094e-04\n",
      "7_2.1CS               7_2.1CS 0.000000e+00 0.0000000000 3.059039e-04\n",
      "8_1.1BP               8_1.1BP 0.000000e+00 0.0000000000 2.226215e-04\n",
      "9_1.1CH               9_1.1CH 0.000000e+00 0.0000000000 0.000000e+00\n",
      "10_2.1RH             10_2.1RH 0.000000e+00 0.0000000000 3.809679e-04\n",
      "11_1.1CS             11_1.1CS 0.000000e+00 0.0000000000 3.353856e-04\n",
      "12_3.1CS             12_3.1CS 0.000000e+00 0.0000000000 2.969489e-04\n",
      "13_1.2RH             13_1.2RH 0.000000e+00 0.0000000000 0.000000e+00\n",
      "14_1.2CH             14_1.2CH 0.000000e+00 0.0000000000 0.000000e+00\n",
      "15_1.2BP             15_1.2BP 0.000000e+00 0.0000000000 1.392002e-04\n",
      "16_2.2RH             16_2.2RH 0.000000e+00 0.0000000000 0.000000e+00\n",
      "17_2.2CH             17_2.2CH 0.000000e+00 0.0000000000 0.000000e+00\n",
      "18_2.2BP             18_2.2BP 0.000000e+00 0.0000000000 3.597877e-04\n",
      "19_3.2RH             19_3.2RH 0.000000e+00 0.0000000000 0.000000e+00\n",
      "20_3.2CH             20_3.2CH 0.000000e+00 0.0000000000 5.294416e-04\n",
      "21_3.2BP             21_3.2BP 0.000000e+00 0.0000000000 1.398015e-04\n",
      "22_1.3RH             22_1.3RH 0.000000e+00 0.0000000000 0.000000e+00\n",
      "23_1.3CH             23_1.3CH 0.000000e+00 0.0000000000 0.000000e+00\n",
      "24_1.3BP             24_1.3BP 0.000000e+00 0.0000000000 1.497130e-04\n",
      "25_2.3CH             25_2.3CH 0.000000e+00 0.0000000000 1.642617e-04\n",
      "26_2.3CH             26_2.3CH 0.000000e+00 0.0000000000 0.000000e+00\n",
      "27_2.3RH             27_2.3RH 0.000000e+00 0.0000000000 1.858414e-04\n",
      "28_2.3BP             28_2.3BP 0.000000e+00 0.0000000000 0.000000e+00\n",
      "29_3.3CH             29_3.3CH 0.000000e+00 0.0000000000 0.000000e+00\n",
      "30_3.3RH             30_3.3RH 0.000000e+00 0.0000000000 0.000000e+00\n",
      "31_3.3BP             31_3.3BP 0.000000e+00 0.0000000000 1.261702e-04\n",
      "32_1.4CH             32_1.4CH 0.000000e+00 0.0000000000 1.335359e-04\n",
      "33_1.4RH             33_1.4RH 0.000000e+00 0.0000000000 0.000000e+00\n",
      "34_1.4BP             34_1.4BP 0.000000e+00 0.0000000000 0.000000e+00\n",
      "35_2.4CH             35_2.4CH 0.000000e+00 0.0000000000 0.000000e+00\n",
      "36_2.4RH             36_2.4RH 0.000000e+00 0.0000000000 0.000000e+00\n",
      "37_2.4BP             37_2.4BP 0.000000e+00 0.0000000000 0.000000e+00\n",
      "38_3.4CH             38_3.4CH 0.000000e+00 0.0000000000 0.000000e+00\n",
      "39_3.4RH             39_3.4RH 0.000000e+00 0.0000000000 0.000000e+00\n",
      "40_3.4BP             40_3.4BP 0.000000e+00 0.0000000000 1.505933e-04\n",
      "41_1.5CH             41_1.5CH 0.000000e+00 0.0000000000 0.000000e+00\n",
      "42_1.5BP             42_1.5BP 0.000000e+00 0.0000000000 0.000000e+00\n",
      "43_2.5CH             43_2.5CH 0.000000e+00 0.0000000000 0.000000e+00\n",
      "44_2.5RH             44_2.5RH 0.000000e+00 0.0000000000 0.000000e+00\n",
      "45_2.5BP             45_2.5BP 0.000000e+00 0.0000000000 0.000000e+00\n",
      "46_3.5CH             46_3.5CH 0.000000e+00 0.0000000000 0.000000e+00\n",
      "47_3.5RH             47_3.5RH 0.000000e+00 0.0000000000 0.000000e+00\n",
      "48_3.5BP             48_3.5BP 0.000000e+00 0.0000000000 2.912056e-04\n",
      "49_3.5BS             49_3.5BS 0.000000e+00 0.0000000000 8.169935e-04\n",
      "50_2.5BS             50_2.5BS 0.000000e+00 0.0000000000 0.000000e+00\n",
      "51_1.5BS             51_1.5BS 0.000000e+00 0.0000000000 3.933395e-04\n",
      "52_2.5CS             52_2.5CS 0.000000e+00 0.0000000000 3.951632e-04\n",
      "53_1.3BS             53_1.3BS 0.000000e+00 0.0000000000 5.905977e-04\n",
      "54_1.3BS             54_1.3BS 0.000000e+00 0.0000000000 2.017688e-04\n",
      "55_2.3BS             55_2.3BS 0.000000e+00 0.0000000000 0.000000e+00\n",
      "56_3.3BS             56_3.3BS 0.000000e+00 0.0000000000 5.641112e-04\n",
      "57_1.3CS             57_1.3CS 0.000000e+00 0.0000000000 0.000000e+00\n",
      "58_2.3CS             58_2.3CS 0.000000e+00 0.0000000000 0.000000e+00\n",
      "59_3.3CS             59_3.3CS 0.000000e+00 0.0000000000 6.000000e-04\n",
      "60_2.4BS             60_2.4BS 0.000000e+00 0.0000000000 0.000000e+00\n",
      "61_2.4CS             61_2.4CS 0.000000e+00 0.0000000000 0.000000e+00\n",
      "62_1.5CS             62_1.5CS 0.000000e+00 0.0000000000 2.931814e-04\n",
      "63_1.4BS             63_1.4BS 0.000000e+00 0.0000000000 1.569401e-04\n",
      "64_1.4CS             64_1.4CS 0.000000e+00 0.0000000000 2.172378e-04\n",
      "65_3.4CS             65_3.4CS 0.000000e+00 0.0000000000 6.135973e-04\n",
      "66_4.1BP             66_4.1BP 0.000000e+00 0.0000000000 0.000000e+00\n",
      "67_4.1BS             67_4.1BS 0.000000e+00 0.0000000000 0.000000e+00\n",
      "68_5.1BS             68_5.1BS 0.000000e+00 0.0000000000 4.804494e-04\n",
      "69_6.1BS             69_6.1BS 0.000000e+00 0.0000000000 6.428801e-04\n",
      "70_4.1CS             70_4.1CS 0.000000e+00 0.0000000000 3.425713e-04\n",
      "71_6.1CS             71_6.1CS 0.000000e+00 0.0000000000 4.048232e-04\n",
      "72_5.1CS             72_5.1CS 0.000000e+00 0.0000000000 2.906132e-04\n",
      "73_1.3RT             73_1.3RT 0.000000e+00 0.0000000000 0.000000e+00\n",
      "74_2.3RT             74_2.3RT 0.000000e+00 0.0000000000 0.000000e+00\n",
      "75_3.3RT             75_3.3RT 0.000000e+00 0.0000000000 0.000000e+00\n",
      "76_1.4RT             76_1.4RT 0.000000e+00 0.0000000000 0.000000e+00\n",
      "77_2.4RT             77_2.4RT 0.000000e+00 0.0000000000 0.000000e+00\n",
      "78_3.4RT             78_3.4RT 0.000000e+00 0.0000000000 0.000000e+00\n",
      "79_1.2RT             79_1.2RT 0.000000e+00 0.0000000000 0.000000e+00\n",
      "80_2.2RT             80_2.2RT 0.000000e+00 0.0000000000 0.000000e+00\n",
      "81_3.2RT             81_3.2RT 0.000000e+00 0.0000000000 0.000000e+00\n",
      "82_1.1RT             82_1.1RT 0.000000e+00 0.0000000000 0.000000e+00\n",
      "83_2.1RT             83_2.1RT 0.000000e+00 0.0000000000 0.000000e+00\n",
      "84_3.1RT             84_3.1RT 0.000000e+00 0.0000000000 0.000000e+00\n",
      "85_1.2CS             85_1.2CS 0.000000e+00 0.0000000000 2.489983e-04\n",
      "86_2.2CS             86_2.2CS 0.000000e+00 0.0000000000 0.000000e+00\n",
      "87_5.2CS             87_5.2CS 0.000000e+00 0.0000000000 2.083464e-04\n",
      "88_1.1BS             88_1.1BS 0.000000e+00 0.0000000000 3.313061e-04\n",
      "89_2.2BS             89_2.2BS 0.000000e+00 0.0000000000 0.000000e+00\n",
      "90_2.1BS             90_2.1BS 0.000000e+00 0.0000000000 3.377364e-04\n",
      "91_1.2BS             91_1.2BS 0.000000e+00 0.0000000000 0.000000e+00\n",
      "92_3.2BS             92_3.2BS 0.000000e+00 0.0000000000 3.451522e-04\n",
      "93_3.1BS             93_3.1BS 0.000000e+00 0.0000000000 4.537480e-04\n",
      "97_4.5BP             97_4.5BP 0.000000e+00 0.0000000000 0.000000e+00\n",
      "98_4.5CS             98_4.5CS 0.000000e+00 0.0000000000 9.809115e-05\n",
      "99_4.5BS             99_4.5BS 0.000000e+00 0.0000000000 1.739282e-04\n",
      "100_5.5BP           100_5.5BP 0.000000e+00 0.0000000000 0.000000e+00\n",
      "101_5.5CS           101_5.5CS 0.000000e+00 0.0000000000 0.000000e+00\n",
      "102_5.5BS           102_5.5BS 0.000000e+00 0.0000000000 0.000000e+00\n",
      "103_6.5BP           103_6.5BP 0.000000e+00 0.0000000000 0.000000e+00\n",
      "104_6.5CS           104_6.5CS 0.000000e+00 0.0000000000 1.253506e-04\n",
      "105_6.5BS           105_6.5BS 0.000000e+00 0.0000000000 1.881350e-04\n",
      "106_6.1BP           106_6.1BP 0.000000e+00 0.0000000000 0.000000e+00\n",
      "107_5.1BP           107_5.1BP 0.000000e+00 0.0000000000 0.000000e+00\n",
      "108_6.1RT           108_6.1RT 0.000000e+00 0.0000000000 0.000000e+00\n",
      "109_5.1RT           109_5.1RT 0.000000e+00 0.0000000000 0.000000e+00\n",
      "110_4.1RT           110_4.1RT 0.000000e+00 0.0000000000 0.000000e+00\n",
      "111_4.2BP           111_4.2BP 0.000000e+00 0.0000000000 0.000000e+00\n",
      "112_4.2BS           112_4.2BS 0.000000e+00 0.0000000000 9.258545e-05\n",
      "113_4.2CS           113_4.2CS 0.000000e+00 0.0000000000 0.000000e+00\n",
      "114_3.2CS           114_3.2CS 0.000000e+00 0.0000000000 1.525378e-04\n",
      "115_5.2BS           115_5.2BS 0.000000e+00 0.0000000000 0.000000e+00\n",
      "116_5.2BP           116_5.2BP 0.000000e+00 0.0000000000 0.000000e+00\n",
      "117_6.2BP           117_6.2BP 0.000000e+00 0.0000000000 0.000000e+00\n",
      "118_6.2BS           118_6.2BS 0.000000e+00 0.0000000000 3.996311e-04\n",
      "119_4.3BP           119_4.3BP 0.000000e+00 0.0000000000 0.000000e+00\n",
      "120_6.2CS           120_6.2CS 0.000000e+00 0.0000000000 2.027904e-04\n",
      "121_4.3BS           121_4.3BS 0.000000e+00 0.0000000000 0.000000e+00\n",
      "122_4.3CS           122_4.3CS 0.000000e+00 0.0000000000 0.000000e+00\n",
      "123_5.3BP           123_5.3BP 0.000000e+00 0.0000000000 1.351424e-04\n",
      "124_5.3BS           124_5.3BS 0.000000e+00 0.0000000000 4.139930e-04\n",
      "125_5.3CS           125_5.3CS 0.000000e+00 0.0000000000 0.000000e+00\n",
      "126_6.3BP           126_6.3BP 0.000000e+00 0.0000000000 0.000000e+00\n",
      "127_6.3BS           127_6.3BS 0.000000e+00 0.0000000000 0.000000e+00\n",
      "128_6.3CS           128_6.3CS 0.000000e+00 0.0000000000 0.000000e+00\n",
      "129_5.2RT           129_5.2RT 0.000000e+00 0.0000000000 0.000000e+00\n",
      "130_4.3RT           130_4.3RT 0.000000e+00 0.0000000000 0.000000e+00\n",
      "131_5.3RT           131_5.3RT 0.000000e+00 0.0000000000 0.000000e+00\n",
      "132_6.3RT           132_6.3RT 0.000000e+00 0.0000000000 0.000000e+00\n",
      "133_4.2RT           133_4.2RT 0.000000e+00 0.0000000000 0.000000e+00\n",
      "134_6.2RT           134_6.2RT 0.000000e+00 0.0000000000 0.000000e+00\n",
      "135_4.4RT           135_4.4RT 0.000000e+00 0.0000000000 0.000000e+00\n",
      "136_5.4RT           136_5.4RT 0.000000e+00 0.0000000000 0.000000e+00\n",
      "137_6.4RT           137_6.4RT 0.000000e+00 0.0000000000 0.000000e+00\n",
      "138_4.4BP           138_4.4BP 0.000000e+00 0.0000000000 0.000000e+00\n",
      "139_4.4CS           139_4.4CS 0.000000e+00 0.0000000000 0.000000e+00\n",
      "140_4.4BS           140_4.4BS 0.000000e+00 0.0000000000 0.000000e+00\n",
      "141_5.4BS           141_5.4BS 0.000000e+00 0.0000000000 0.000000e+00\n",
      "142_5.4BP           142_5.4BP 0.000000e+00 0.0000000000 0.000000e+00\n",
      "143_5.4CS           143_5.4CS 0.000000e+00 0.0000000000 0.000000e+00\n",
      "144_6.4BP           144_6.4BP 0.000000e+00 0.0000000000 0.000000e+00\n",
      "145_6.4CS           145_6.4CS 0.000000e+00 0.0000000000 0.000000e+00\n",
      "146_6.4BS           146_6.4BS 0.000000e+00 0.0000000000 2.178827e-04\n",
      "148_T0R2             148_T0R2 0.000000e+00 0.0000000000 0.000000e+00\n",
      "149_T0R3             149_T0R3 0.000000e+00 0.0000000000 0.000000e+00\n",
      "150_T0R4             150_T0R4 0.000000e+00 0.0000000000 2.606656e-04\n",
      "152_GvSpores     152_GvSpores 0.000000e+00 0.0000000000 0.000000e+00\n",
      "153_T0R5             153_T0R5 0.000000e+00 0.0000000000 2.175332e-04\n",
      "154_T0R6             154_T0R6 0.000000e+00 0.0000000000 2.049768e-04\n",
      "155_1.3RH           155_1.3RH 0.000000e+00 0.0000000000 0.000000e+00\n",
      "156_2.3RH           156_2.3RH 0.000000e+00 0.0000000000 0.000000e+00\n",
      "157_3.3RH           157_3.3RH 0.000000e+00 0.0000000000 0.000000e+00\n",
      "158_1.4RH           158_1.4RH 0.000000e+00 0.0000000000 0.000000e+00\n",
      "159_2.4RH           159_2.4RH 0.000000e+00 0.0000000000 0.000000e+00\n",
      "161_4.1CH           161_4.1CH 0.000000e+00 0.0000000000 0.000000e+00\n",
      "162_4.1RH           162_4.1RH 0.000000e+00 0.0000000000 0.000000e+00\n",
      "163_4.4CH           163_4.4CH 0.000000e+00 0.0000000000 0.000000e+00\n",
      "164_4.4RH           164_4.4RH 0.000000e+00 0.0000000000 0.000000e+00\n",
      "165_5.1CH           165_5.1CH 0.000000e+00 0.0000000000 0.000000e+00\n",
      "166_5.1RH           166_5.1RH 0.000000e+00 0.0000000000 0.000000e+00\n",
      "167_5.4CH           167_5.4CH 0.000000e+00 0.0000000000 0.000000e+00\n",
      "168_5.4RH           168_5.4RH 0.000000e+00 0.0000000000 0.000000e+00\n",
      "169_6.1CH           169_6.1CH 0.000000e+00 0.0000000000 0.000000e+00\n",
      "170_6.1RH           170_6.1RH 0.000000e+00 0.0000000000 0.000000e+00\n",
      "171_6.4CH           171_6.4CH 0.000000e+00 0.0000000000 0.000000e+00\n",
      "172_6.4RH           172_6.4RH 0.000000e+00 0.0000000000 0.000000e+00\n",
      "173_4.2CH           173_4.2CH 0.000000e+00 0.0000000000 0.000000e+00\n",
      "174_4.2RH           174_4.2RH 0.000000e+00 0.0000000000 0.000000e+00\n",
      "175_4.5CH           175_4.5CH 0.000000e+00 0.0000000000 0.000000e+00\n",
      "176_4.5RH           176_4.5RH 0.000000e+00 0.0000000000 0.000000e+00\n",
      "177_5.2CH           177_5.2CH 0.000000e+00 0.0000000000 1.569711e-04\n",
      "178_5.2RH           178_5.2RH 0.000000e+00 0.0000000000 0.000000e+00\n",
      "179_5.5CH           179_5.5CH 0.000000e+00 0.0000000000 8.990111e-04\n",
      "180_5.5RH           180_5.5RH 0.000000e+00 0.0000000000 0.000000e+00\n",
      "181_6.2CH           181_6.2CH 0.000000e+00 0.0000000000 6.163708e-04\n",
      "182_6.2RH           182_6.2RH 0.000000e+00 0.0000000000 0.000000e+00\n",
      "183_6.5CH           183_6.5CH 0.000000e+00 0.0000000000 0.000000e+00\n",
      "184_6.5RH           184_6.5RH 0.000000e+00 0.0000000000 0.000000e+00\n",
      "185_4.3CH           185_4.3CH 0.000000e+00 0.0000000000 0.000000e+00\n",
      "186_4.3RH           186_4.3RH 0.000000e+00 0.0000000000 0.000000e+00\n",
      "187_5.3CH           187_5.3CH 0.000000e+00 0.0000000000 0.000000e+00\n",
      "188_5.3RH           188_5.3RH 0.000000e+00 0.0000000000 0.000000e+00\n",
      "189_6.3CH           189_6.3CH 0.000000e+00 0.0000000000 0.000000e+00\n",
      "190_6.3RH           190_6.3RH 0.000000e+00 0.0000000000 0.000000e+00\n",
      "1_GVCLHN1-BH     1_GVCLHN1-BH 2.440895e-04 0.0000000000 0.000000e+00\n",
      "2_GVCLHN1-BS     2_GVCLHN1-BS 2.616560e-04 0.0000000000 0.000000e+00\n",
      "3_GVCLHN2-BH     3_GVCLHN2-BH 2.854774e-04 0.0000000000 0.000000e+00\n",
      "4_GVCLHN2-BS     4_GVCLHN2-BS 3.925773e-04 0.0000000000 0.000000e+00\n",
      "5_GVFLHN1-BH     5_GVFLHN1-BH 0.000000e+00 0.0000000000 0.000000e+00\n",
      "6_GVFLHN1-BS     6_GVFLHN1-BS 0.000000e+00 0.0002845617 0.000000e+00\n",
      "7_GVFLHN2-BH     7_GVFLHN2-BH 1.960311e-04 0.0000000000 0.000000e+00\n",
      "8_GVFLHN2-BS     8_GVFLHN2-BS 3.169472e-04 0.0000000000 0.000000e+00\n",
      "9_GVFLHP1-BH     9_GVFLHP1-BH 0.000000e+00 0.0002627677 0.000000e+00\n",
      "10_GVFLHP1-BS   10_GVFLHP1-BS 2.766016e-04 0.0000000000 0.000000e+00\n",
      "11_GVFLHP2-BH   11_GVFLHP2-BH 0.000000e+00 0.0001948748 0.000000e+00\n",
      "12_GVFLHP2-BS   12_GVFLHP2-BS 0.000000e+00 0.0002106298 0.000000e+00\n",
      "13_GVN7HN1-BH   13_GVN7HN1-BH 0.000000e+00 0.0000000000 0.000000e+00\n",
      "14_GVN7HN1-BS   14_GVN7HN1-BS 0.000000e+00 0.0000000000 0.000000e+00\n",
      "15_GVN7HN2-BH   15_GVN7HN2-BH 0.000000e+00 0.0000000000 0.000000e+00\n",
      "16_GVN7HN2-BS   16_GVN7HN2-BS 0.000000e+00 0.0000000000 1.775064e-04\n",
      "17_GVN7HP1-BH   17_GVN7HP1-BH 0.000000e+00 0.0000000000 2.165404e-04\n",
      "18_GVN7HP1-BS   18_GVN7HP1-BS 0.000000e+00 0.0000000000 2.434966e-04\n",
      "19_GVN7HP2-BH   19_GVN7HP2-BH 0.000000e+00 0.0000000000 1.784599e-04\n",
      "20_GVN7HP2-BS   20_GVN7HP2-BS 0.000000e+00 0.0000000000 0.000000e+00\n",
      "21_RIFLHN1-BH   21_RIFLHN1-BH 0.000000e+00 0.0002164034 0.000000e+00\n",
      "22_RIFLHN1-BS   22_RIFLHN1-BS 2.092791e-04 0.0000000000 0.000000e+00\n",
      "23_RIFLHN2-BH   23_RIFLHN2-BH 0.000000e+00 0.0002157924 0.000000e+00\n",
      "24_RIFLHN2-BS   24_RIFLHN2-BS 0.000000e+00 0.0002315279 0.000000e+00\n",
      "25_RIFLHP1-BH   25_RIFLHP1-BH 0.000000e+00 0.0002533803 0.000000e+00\n",
      "26_RIFLHP1-BS   26_RIFLHP1-BS 0.000000e+00 0.0001676687 0.000000e+00\n",
      "27_RIFLHP2-BH   27_RIFLHP2-BH 0.000000e+00 0.0000000000 0.000000e+00\n",
      "28_RIFLHP2-BS   28_RIFLHP2-BS 0.000000e+00 0.0002103436 0.000000e+00\n",
      "29_RIN7HN1-BH   29_RIN7HN1-BH 0.000000e+00 0.0000000000 3.739183e-04\n",
      "30_RIN7HN1-BS   30_RIN7HN1-BS 0.000000e+00 0.0000000000 3.165392e-04\n",
      "31_RIN7HN2-BH   31_RIN7HN2-BH 0.000000e+00 0.0000000000 0.000000e+00\n",
      "32_RIN7HN2-BS   32_RIN7HN2-BS 0.000000e+00 0.0000000000 2.456600e-04\n",
      "33_RIN7HP1-BH   33_RIN7HP1-BH 0.000000e+00 0.0000000000 0.000000e+00\n",
      "34_RIN7HP1-BS   34_RIN7HP1-BS 0.000000e+00 0.0000000000 1.889288e-04\n",
      "35_RIN7HP2-BH   35_RIN7HP2-BH 0.000000e+00 0.0000000000 0.000000e+00\n",
      "36_RIN7HP2-BS   36_RIN7HP2-BS 0.000000e+00 0.0000000000 0.000000e+00\n",
      "37_GVCLHN1-BP   37_GVCLHN1-BP 0.000000e+00 0.0000000000 0.000000e+00\n",
      "38_GVCLHN1-CS   38_GVCLHN1-CS 5.296402e-04 0.0000000000 0.000000e+00\n",
      "39_GVCLHN2-BP   39_GVCLHN2-BP 0.000000e+00 0.0000000000 0.000000e+00\n",
      "40_GVCLHN2-CS   40_GVCLHN2-CS 1.386898e-04 0.0000000000 0.000000e+00\n",
      "41_GVFLHN1-BP   41_GVFLHN1-BP 0.000000e+00 0.0000000000 0.000000e+00\n",
      "42_GVFLHN1-CS   42_GVFLHN1-CS 0.000000e+00 0.0000000000 0.000000e+00\n",
      "43_GVFLHN2-BP   43_GVFLHN2-BP 0.000000e+00 0.0000000000 0.000000e+00\n",
      "44_GVFLHN2-CS   44_GVFLHN2-CS 2.724282e-04 0.0000000000 0.000000e+00\n",
      "45_GVFLHP1-BP   45_GVFLHP1-BP 0.000000e+00 0.0000000000 0.000000e+00\n",
      "46_GVFLHP1-CS   46_GVFLHP1-CS 0.000000e+00 0.0003381997 0.000000e+00\n",
      "47_GVFLHP2-BP   47_GVFLHP2-BP 0.000000e+00 0.0000000000 0.000000e+00\n",
      "48_GVFLHP2-CS   48_GVFLHP2-CS 0.000000e+00 0.0001374948 0.000000e+00\n",
      "49_GVN7HN1-BP   49_GVN7HN1-BP 0.000000e+00 0.0000000000 0.000000e+00\n",
      "50_GVN7HN1-CS   50_GVN7HN1-CS 0.000000e+00 0.0000000000 3.060795e-04\n",
      "51_GVN7HN2-BP   51_GVN7HN2-BP 0.000000e+00 0.0000000000 0.000000e+00\n",
      "52_GVN7HN2-CS   52_GVN7HN2-CS 0.000000e+00 0.0000000000 4.950904e-04\n",
      "53_GVN7HP1-BP   53_GVN7HP1-BP 0.000000e+00 0.0000000000 0.000000e+00\n",
      "54_GVN7HP1-CS   54_GVN7HP1-CS 0.000000e+00 0.0000000000 2.387286e-04\n",
      "55_GVN7HP2-BP   55_GVN7HP2-BP 0.000000e+00 0.0000000000 0.000000e+00\n",
      "56_GVN7HP2-CS   56_GVN7HP2-CS 0.000000e+00 0.0000000000 0.000000e+00\n",
      "57_RIN7HN1-CS   57_RIN7HN1-CS 0.000000e+00 0.0000000000 4.115967e-04\n",
      "58_RIN7HN2-CS   58_RIN7HN2-CS 0.000000e+00 0.0000000000 1.820101e-04\n",
      "59_RIN7HP1-CS   59_RIN7HP1-CS 0.000000e+00 0.0000000000 4.567044e-04\n",
      "60_RIN7HP2-CS   60_RIN7HP2-CS 0.000000e+00 0.0000000000 4.127425e-04\n",
      "61_GVCLHN1-CH   61_GVCLHN1-CH 0.000000e+00 0.0000000000 0.000000e+00\n",
      "62_GVCLHN1-RH   62_GVCLHN1-RH 0.000000e+00 0.0000000000 0.000000e+00\n",
      "63_GVCLHN1-RS   63_GVCLHN1-RS 0.000000e+00 0.0000000000 0.000000e+00\n",
      "64_GVCLHN2-CH   64_GVCLHN2-CH 6.143685e-04 0.0000000000 0.000000e+00\n",
      "65_GVCLHN2-RH   65_GVCLHN2-RH 0.000000e+00 0.0000000000 0.000000e+00\n",
      "66_GVCLHN2-RS   66_GVCLHN2-RS 0.000000e+00 0.0000000000 0.000000e+00\n",
      "67_GVFLHN1-CH   67_GVFLHN1-CH 9.984524e-05 0.0000000000 0.000000e+00\n",
      "68_GVFLHN1-RH   68_GVFLHN1-RH 0.000000e+00 0.0000000000 0.000000e+00\n",
      "69_GVFLHN1-RS   69_GVFLHN1-RS 0.000000e+00 0.0000000000 0.000000e+00\n",
      "70_GVFLHN2-CH   70_GVFLHN2-CH 0.000000e+00 0.0000000000 0.000000e+00\n",
      "71_GVFLHN2-RH   71_GVFLHN2-RH 0.000000e+00 0.0000000000 0.000000e+00\n",
      "72_GVFLHN2-RS   72_GVFLHN2-RS 0.000000e+00 0.0000000000 0.000000e+00\n",
      "73_GVFLHP1-CH   73_GVFLHP1-CH 0.000000e+00 0.0000000000 0.000000e+00\n",
      "74_GVFLHP2-CH   74_GVFLHP2-CH 2.443250e-04 0.0000000000 0.000000e+00\n",
      "75_GVN7HN1-CH   75_GVN7HN1-CH 0.000000e+00 0.0000000000 0.000000e+00\n",
      "76_GVN7HN1-RS   76_GVN7HN1-RS 0.000000e+00 0.0000000000 0.000000e+00\n",
      "77_GVN7HN1-RH   77_GVN7HN1-RH 0.000000e+00 0.0000000000 0.000000e+00\n",
      "78_GVN7HN2-CH   78_GVN7HN2-CH 0.000000e+00 0.0000000000 4.039588e-04\n",
      "79_GVN7HN2-RH   79_GVN7HN2-RH 0.000000e+00 0.0000000000 0.000000e+00\n",
      "80_GVN7HN2-RS   80_GVN7HN2-RS 0.000000e+00 0.0000000000 0.000000e+00\n",
      "81_GVN7HP1-CH   81_GVN7HP1-CH 0.000000e+00 0.0000000000 1.421320e-04\n",
      "82_GVN7HP2-CH   82_GVN7HP2-CH 0.000000e+00 0.0000000000 0.000000e+00\n",
      "83_RIN7HN1-CH   83_RIN7HN1-CH 0.000000e+00 0.0000000000 0.000000e+00\n",
      "84_RIN7HN1-RH   84_RIN7HN1-RH 0.000000e+00 0.0000000000 0.000000e+00\n",
      "85_RIN7HN2-CH   85_RIN7HN2-CH 0.000000e+00 0.0000000000 0.000000e+00\n",
      "86_RIN7HN2-RH   86_RIN7HN2-RH 0.000000e+00 0.0000000000 0.000000e+00\n",
      "87_RIN7HP1-CH   87_RIN7HP1-CH 0.000000e+00 0.0000000000 0.000000e+00\n",
      "88_RIN7HP2-CH   88_RIN7HP2-CH 0.000000e+00 0.0000000000 0.000000e+00\n",
      "94_GVN7HP2-BS   94_GVN7HP2-BS 0.000000e+00 0.0000000000 0.000000e+00\n",
      "95_GVCLHN2-CH   95_GVCLHN2-CH 1.143206e-03 0.0000000000 0.000000e+00\n",
      "96_GVFLHN2-RS   96_GVFLHN2-RS 0.000000e+00 0.0000000000 0.000000e+00\n",
      "97_GVCLHN3-BH   97_GVCLHN3-BH 1.822573e-04 0.0000000000 0.000000e+00\n",
      "98_GVCLHN3-BS   98_GVCLHN3-BS 2.531121e-04 0.0000000000 0.000000e+00\n",
      "99_GVCLHN4-BH   99_GVCLHN4-BH 0.000000e+00 0.0000000000 0.000000e+00\n",
      "100_GVCLHN4-BS 100_GVCLHN4-BS 2.416402e-04 0.0000000000 0.000000e+00\n",
      "101_GVFLHN3-BH 101_GVFLHN3-BH 0.000000e+00 0.0000000000 0.000000e+00\n",
      "102_GVFLHN3-BS 102_GVFLHN3-BS 0.000000e+00 0.0000000000 0.000000e+00\n",
      "103_GVFLHN4-BH 103_GVFLHN4-BH 0.000000e+00 0.0003164128 0.000000e+00\n",
      "104_GVFLHN4-BS 104_GVFLHN4-BS 0.000000e+00 0.0003366550 0.000000e+00\n",
      "105_GVFLHP3-BH 105_GVFLHP3-BH 0.000000e+00 0.0000000000 0.000000e+00\n",
      "106_GVFLHP3-BS 106_GVFLHP3-BS 0.000000e+00 0.0004094101 0.000000e+00\n",
      "107_GVFLHP4-BH 107_GVFLHP4-BH 0.000000e+00 0.0000000000 0.000000e+00\n",
      "108_GVFLHP4-BS 108_GVFLHP4-BS 0.000000e+00 0.0000000000 0.000000e+00\n",
      "109_GVN7HN3-BH 109_GVN7HN3-BH 0.000000e+00 0.0000000000 0.000000e+00\n",
      "110_GVN7HN3-BS 110_GVN7HN3-BS 0.000000e+00 0.0000000000 2.849061e-04\n",
      "111_GVN7HN4-BH 111_GVN7HN4-BH 0.000000e+00 0.0000000000 0.000000e+00\n",
      "112_GVN7HN4-BS 112_GVN7HN4-BS 0.000000e+00 0.0000000000 2.411866e-04\n",
      "113_GVN7HP3-BH 113_GVN7HP3-BH 0.000000e+00 0.0000000000 2.189461e-04\n",
      "114_GVN7HP3-BS 114_GVN7HP3-BS 0.000000e+00 0.0000000000 2.220249e-04\n",
      "115_GVN7HP4-BH 115_GVN7HP4-BH 0.000000e+00 0.0000000000 0.000000e+00\n",
      "116_GVN7HP4-BS 116_GVN7HP4-BS 0.000000e+00 0.0000000000 0.000000e+00\n",
      "117_RIFLHN3-BH 117_RIFLHN3-BH 0.000000e+00 0.0000000000 0.000000e+00\n",
      "118_RIFLHN3-BS 118_RIFLHN3-BS 0.000000e+00 0.0002057740 0.000000e+00\n",
      "119_RIFLHN4-BH 119_RIFLHN4-BH 0.000000e+00 0.0000000000 0.000000e+00\n",
      "120_RIFLHN4-BS 120_RIFLHN4-BS 0.000000e+00 0.0004870772 0.000000e+00\n",
      "121_RIFLHP3-BH 121_RIFLHP3-BH 0.000000e+00 0.0001327713 0.000000e+00\n",
      "122_RIFLHP3-BS 122_RIFLHP3-BS 0.000000e+00 0.0000000000 0.000000e+00\n",
      "123_RIFLHP4-BH 123_RIFLHP4-BH 0.000000e+00 0.0000000000 0.000000e+00\n",
      "124_RIFLHP4-BS 124_RIFLHP4-BS 0.000000e+00 0.0006314971 0.000000e+00\n",
      "125_RIN7HN3-BH 125_RIN7HN3-BH 0.000000e+00 0.0000000000 0.000000e+00\n",
      "126_RIN7HN3-BS 126_RIN7HN3-BS 0.000000e+00 0.0000000000 4.990778e-04\n",
      "127_RIN7HN4-BH 127_RIN7HN4-BH 0.000000e+00 0.0000000000 3.178640e-04\n",
      "128_RIN7HN4-BS 128_RIN7HN4-BS 0.000000e+00 0.0000000000 0.000000e+00\n",
      "129_RIN7HP3-BH 129_RIN7HP3-BH 0.000000e+00 0.0000000000 4.212832e-04\n",
      "130_RIN7HP3-BS 130_RIN7HP3-BS 0.000000e+00 0.0000000000 0.000000e+00\n",
      "131_RIN7HP4-BH 131_RIN7HP4-BH 0.000000e+00 0.0000000000 0.000000e+00\n",
      "132_RIN7HP4-BS 132_RIN7HP4-BS 0.000000e+00 0.0000000000 2.507837e-04\n",
      "133_GVCLHN3-BP 133_GVCLHN3-BP 0.000000e+00 0.0000000000 0.000000e+00\n",
      "134_GVCLHN3-CS 134_GVCLHN3-CS 0.000000e+00 0.0000000000 0.000000e+00\n",
      "135_GVCLHN4-BP 135_GVCLHN4-BP 0.000000e+00 0.0000000000 0.000000e+00\n",
      "136_GVCLHN4-CS 136_GVCLHN4-CS 0.000000e+00 0.0000000000 0.000000e+00\n",
      "137_GVFLHN3-BP 137_GVFLHN3-BP 0.000000e+00 0.0000000000 0.000000e+00\n",
      "138_GVFLHN3-CS 138_GVFLHN3-CS 0.000000e+00 0.0000000000 0.000000e+00\n",
      "139_GVFLHN4-BP 139_GVFLHN4-BP 0.000000e+00 0.0000000000 0.000000e+00\n",
      "140_GVFLHN4-CS 140_GVFLHN4-CS 0.000000e+00 0.0000000000 0.000000e+00\n",
      "141_GVFLHP3-BP 141_GVFLHP3-BP 0.000000e+00 0.0000000000 0.000000e+00\n",
      "142_GVFLHP3-CS 142_GVFLHP3-CS 0.000000e+00 0.0000000000 0.000000e+00\n",
      "143_GVFLHP4-BP 143_GVFLHP4-BP 0.000000e+00 0.0000000000 0.000000e+00\n",
      "144_GVFLHP4-CS 144_GVFLHP4-CS 0.000000e+00 0.0000000000 0.000000e+00\n",
      "145_GVN7HN3-BP 145_GVN7HN3-BP 0.000000e+00 0.0000000000 0.000000e+00\n",
      "146_GVN7HN3-CS 146_GVN7HN3-CS 0.000000e+00 0.0000000000 1.712036e-04\n",
      "147_GVN7HN4-BP 147_GVN7HN4-BP 0.000000e+00 0.0000000000 0.000000e+00\n",
      "148_GVN7HN4-CS 148_GVN7HN4-CS 0.000000e+00 0.0000000000 3.055094e-04\n",
      "149_GVN7HP3BP   149_GVN7HP3BP 0.000000e+00 0.0000000000 0.000000e+00\n",
      "150_GVN7HP3-CS 150_GVN7HP3-CS 0.000000e+00 0.0000000000 1.481011e-04\n",
      "151_GVN7HP4-BP 151_GVN7HP4-BP 0.000000e+00 0.0000000000 0.000000e+00\n",
      "152_GVN7HP4-CS 152_GVN7HP4-CS 0.000000e+00 0.0000000000 2.449130e-04\n",
      "153_RIN7HN3-CS 153_RIN7HN3-CS 0.000000e+00 0.0000000000 5.104906e-04\n",
      "154_RIN7HN4-CS 154_RIN7HN4-CS 0.000000e+00 0.0000000000 0.000000e+00\n",
      "155_RIN7HP3-CS 155_RIN7HP3-CS 0.000000e+00 0.0000000000 3.560167e-04\n",
      "156_RIN7HP4-CS 156_RIN7HP4-CS 0.000000e+00 0.0000000000 3.018412e-04\n",
      "157_GVCLHN3-CH 157_GVCLHN3-CH 3.334921e-04 0.0000000000 0.000000e+00\n",
      "158_GVCLHN3-RH 158_GVCLHN3-RH 0.000000e+00 0.0000000000 0.000000e+00\n",
      "159_GVCLHN3-RS 159_GVCLHN3-RS 0.000000e+00 0.0000000000 0.000000e+00\n",
      "160_GVCLHN4-CH 160_GVCLHN4-CH 0.000000e+00 0.0000000000 0.000000e+00\n",
      "161_GVCLHN4-RH 161_GVCLHN4-RH 0.000000e+00 0.0000000000 0.000000e+00\n",
      "162_GVCLHN4-RS 162_GVCLHN4-RS 0.000000e+00 0.0000000000 0.000000e+00\n",
      "163_GVFLHN3-CH 163_GVFLHN3-CH 0.000000e+00 0.0000000000 0.000000e+00\n",
      "164_GVFLHN3-RH 164_GVFLHN3-RH 0.000000e+00 0.0000000000 0.000000e+00\n",
      "165_GVFLHN3-RS 165_GVFLHN3-RS 0.000000e+00 0.0000000000 0.000000e+00\n",
      "166_GVFLHN4-CH 166_GVFLHN4-CH 0.000000e+00 0.0002199343 0.000000e+00\n",
      "167_GVFLHN4-RH 167_GVFLHN4-RH 0.000000e+00 0.0000000000 0.000000e+00\n",
      "168_GVFLHN4-RS 168_GVFLHN4-RS 0.000000e+00 0.0000000000 0.000000e+00\n",
      "169_GVFLHP3-CH 169_GVFLHP3-CH 0.000000e+00 0.0000000000 0.000000e+00\n",
      "170_GVFLHP4-CH 170_GVFLHP4-CH 0.000000e+00 0.0000000000 0.000000e+00\n",
      "171_GVN7HN3-CH 171_GVN7HN3-CH 0.000000e+00 0.0000000000 0.000000e+00\n",
      "172_GVN7HN3-RH 172_GVN7HN3-RH 0.000000e+00 0.0000000000 0.000000e+00\n",
      "173_GVN7HN4-CH 173_GVN7HN4-CH 0.000000e+00 0.0000000000 0.000000e+00\n",
      "174_GVN7HN4-RH 174_GVN7HN4-RH 0.000000e+00 0.0000000000 0.000000e+00\n",
      "175_GVN7HN4-RS 175_GVN7HN4-RS 0.000000e+00 0.0000000000 0.000000e+00\n",
      "176_GVN7HP3-CH 176_GVN7HP3-CH 0.000000e+00 0.0000000000 0.000000e+00\n",
      "177_GVN7HP4-CH 177_GVN7HP4-CH 0.000000e+00 0.0000000000 0.000000e+00\n",
      "178_RIN7HN3-CH 178_RIN7HN3-CH 0.000000e+00 0.0000000000 0.000000e+00\n",
      "179_RIN7HN3-RH 179_RIN7HN3-RH 0.000000e+00 0.0000000000 0.000000e+00\n",
      "180_RIN7HN3-RS 180_RIN7HN3-RS 0.000000e+00 0.0000000000 0.000000e+00\n",
      "181_RIN7HN4-CH 181_RIN7HN4-CH 0.000000e+00 0.0000000000 0.000000e+00\n",
      "182_RIN7HN4-RH 182_RIN7HN4-RH 0.000000e+00 0.0000000000 0.000000e+00\n",
      "183_RIN7HN4-RS 183_RIN7HN4-RS 0.000000e+00 0.0000000000 0.000000e+00\n",
      "184_RIN7HP3-CH 184_RIN7HP3-CH 0.000000e+00 0.0000000000 0.000000e+00\n",
      "185_RIN7HP4-CH 185_RIN7HP4-CH 0.000000e+00 0.0000000000 0.000000e+00\n",
      "186_Unknown-RS 186_Unknown-RS 0.000000e+00 0.0000000000 0.000000e+00\n",
      "190_GVN7HP2-BH 190_GVN7HP2-BH 0.000000e+00 0.0000000000 0.000000e+00\n",
      "191_GVCLHN2-BS 191_GVCLHN2-BS 0.000000e+00 0.0000000000 0.000000e+00\n"
     ]
    }
   ],
   "source": [
    "tmp[,1:4] %>% print()"
   ]
  },
  {
   "cell_type": "code",
   "execution_count": 55,
   "metadata": {},
   "outputs": [
    {
     "name": "stdout",
     "output_type": "stream",
     "text": [
      "   Min. 1st Qu.  Median    Mean 3rd Qu.    Max. \n",
      "      1       1       1       1       1       1 \n",
      "     Min.   1st Qu.    Median      Mean   3rd Qu.      Max. \n",
      " 0.000000  0.002061  0.004585  0.026273  0.013826 18.056137 \n"
     ]
    }
   ],
   "source": [
    "# OTU table value summary\n",
    "rowSums(tmp[,2:ncol(tmp)]) %>% summary %>% print\n",
    "colSums(tmp[,2:ncol(tmp)]) %>% summary %>% print"
   ]
  },
  {
   "cell_type": "code",
   "execution_count": 90,
   "metadata": {},
   "outputs": [
    {
     "name": "stdout",
     "output_type": "stream",
     "text": [
      "File written: ~/Hyphosphere/data/3Exp/diversity/physeq_3Exp_OTU_table_snorm.tsv \n"
     ]
    }
   ],
   "source": [
    "# writing out table\n",
    "otu_table_file = file.path(work_dir, 'physeq_3Exp_OTU_table_snorm.tsv')\n",
    "write.table(tmp, otu_table_file, sep='\\t', quote=FALSE, row.names=FALSE)\n",
    "cat('File written:', otu_table_file, '\\n')"
   ]
  },
  {
   "cell_type": "code",
   "execution_count": 157,
   "metadata": {},
   "outputs": [
    {
     "name": "stdout",
     "output_type": "stream",
     "text": [
      "[1] \"source activate qiime2-2019.7; biom convert -i ~/Hyphosphere/data/3Exp/diversity/physeq_3Exp_OTU_table_snorm.tsv -o ~/Hyphosphere/data/3Exp/diversity/physeq_3Exp_OTU_table_snorm.biom --to-hdf5\"\n"
     ]
    },
    {
     "data": {
      "text/html": [],
      "text/latex": [],
      "text/markdown": [],
      "text/plain": [
       "character(0)"
      ]
     },
     "metadata": {},
     "output_type": "display_data"
    }
   ],
   "source": [
    "# converting otu to biom\n",
    "otu_biom_file = file.path(work_dir, 'physeq_3Exp_OTU_table_snorm.biom')\n",
    "cmd = sprintf('biom convert -i %s -o %s --to-hdf5', otu_table_file, otu_biom_file)\n",
    "cmd = sprintf('source activate %s; %s', conda_env, cmd)\n",
    "print(cmd)\n",
    "bash_job(cmd, conda_env, stdout = TRUE)"
   ]
  },
  {
   "cell_type": "code",
   "execution_count": 158,
   "metadata": {},
   "outputs": [
    {
     "name": "stdout",
     "output_type": "stream",
     "text": [
      "[1] \"qiime tools import --type FeatureTable[Frequency] --input-path ~/Hyphosphere/data/3Exp/diversity/physeq_3Exp_OTU_table_snorm.biom --output-path ~/Hyphosphere/data/3Exp/diversity/physeq_3Exp_OTU_table_snorm.qza\"\n"
     ]
    },
    {
     "data": {
      "text/html": [
       "'Imported /home/be68/Hyphosphere/data/3Exp/diversity/physeq_3Exp_OTU_table_snorm.biom as BIOMV210DirFmt to /home/be68/Hyphosphere/data/3Exp/diversity/physeq_3Exp_OTU_table_snorm.qza'"
      ],
      "text/latex": [
       "'Imported /home/be68/Hyphosphere/data/3Exp/diversity/physeq\\_3Exp\\_OTU\\_table\\_snorm.biom as BIOMV210DirFmt to /home/be68/Hyphosphere/data/3Exp/diversity/physeq\\_3Exp\\_OTU\\_table\\_snorm.qza'"
      ],
      "text/markdown": [
       "'Imported /home/be68/Hyphosphere/data/3Exp/diversity/physeq_3Exp_OTU_table_snorm.biom as BIOMV210DirFmt to /home/be68/Hyphosphere/data/3Exp/diversity/physeq_3Exp_OTU_table_snorm.qza'"
      ],
      "text/plain": [
       "[1] \"Imported /home/be68/Hyphosphere/data/3Exp/diversity/physeq_3Exp_OTU_table_snorm.biom as BIOMV210DirFmt to /home/be68/Hyphosphere/data/3Exp/diversity/physeq_3Exp_OTU_table_snorm.qza\""
      ]
     },
     "metadata": {},
     "output_type": "display_data"
    }
   ],
   "source": [
    "# converting biom to qiime2 artifact\n",
    "otu_art_file = file.path(work_dir, 'physeq_3Exp_OTU_table_snorm.qza')\n",
    "cmd = sprintf('qiime tools import --type FeatureTable[Frequency] --input-path %s --output-path %s', \n",
    "              otu_biom_file, otu_art_file)\n",
    "print(cmd)\n",
    "bash_job(cmd, conda_env)"
   ]
  },
  {
   "cell_type": "markdown",
   "metadata": {},
   "source": [
    "## Metadata"
   ]
  },
  {
   "cell_type": "code",
   "execution_count": 160,
   "metadata": {},
   "outputs": [
    {
     "name": "stdout",
     "output_type": "stream",
     "text": [
      "[1] 403  12\n"
     ]
    },
    {
     "data": {
      "text/html": [
       "<table>\n",
       "<thead><tr><th></th><th scope=col>#SampleID</th><th scope=col>Sample</th><th scope=col>Experiment</th><th scope=col>Plant</th><th scope=col>Fungus</th><th scope=col>Soil</th><th scope=col>SampleType</th><th scope=col>Treatment</th><th scope=col>TimePoint</th><th scope=col>DAI</th><th scope=col>Rep</th><th scope=col>Concentration_ng.ul</th></tr></thead>\n",
       "<tbody>\n",
       "\t<tr><th scope=row>HCBN1_S211</th><td>HCBN1_S211</td><td>HCBN1     </td><td>1         </td><td>N1        </td><td>Gv        </td><td>Lansing   </td><td>CS        </td><td>HN        </td><td>NA        </td><td>81        </td><td> 1        </td><td> 6.080    </td></tr>\n",
       "\t<tr><th scope=row>HCBN2_S223</th><td>HCBN2_S223</td><td>HCBN2     </td><td>1         </td><td>N2        </td><td>Gv        </td><td>Lansing   </td><td>CS        </td><td>HN        </td><td>NA        </td><td>81        </td><td> 3        </td><td> 7.580    </td></tr>\n",
       "\t<tr><th scope=row>HCBN3_S235</th><td>HCBN3_S235</td><td>HCBN3     </td><td>1         </td><td>N3        </td><td>Gv        </td><td>Lansing   </td><td>CS        </td><td>HN        </td><td>NA        </td><td>81        </td><td> 5        </td><td> 7.050    </td></tr>\n",
       "</tbody>\n",
       "</table>\n"
      ],
      "text/latex": [
       "\\begin{tabular}{r|llllllllllll}\n",
       "  & \\#SampleID & Sample & Experiment & Plant & Fungus & Soil & SampleType & Treatment & TimePoint & DAI & Rep & Concentration\\_ng.ul\\\\\n",
       "\\hline\n",
       "\tHCBN1\\_S211 & HCBN1\\_S211 & HCBN1        & 1            & N1           & Gv           & Lansing      & CS           & HN           & NA           & 81           &  1           &  6.080      \\\\\n",
       "\tHCBN2\\_S223 & HCBN2\\_S223 & HCBN2        & 1            & N2           & Gv           & Lansing      & CS           & HN           & NA           & 81           &  3           &  7.580      \\\\\n",
       "\tHCBN3\\_S235 & HCBN3\\_S235 & HCBN3        & 1            & N3           & Gv           & Lansing      & CS           & HN           & NA           & 81           &  5           &  7.050      \\\\\n",
       "\\end{tabular}\n"
      ],
      "text/markdown": [
       "\n",
       "| <!--/--> | #SampleID | Sample | Experiment | Plant | Fungus | Soil | SampleType | Treatment | TimePoint | DAI | Rep | Concentration_ng.ul | \n",
       "|---|---|---|\n",
       "| HCBN1_S211 | HCBN1_S211 | HCBN1      | 1          | N1         | Gv         | Lansing    | CS         | HN         | NA         | 81         |  1         |  6.080     | \n",
       "| HCBN2_S223 | HCBN2_S223 | HCBN2      | 1          | N2         | Gv         | Lansing    | CS         | HN         | NA         | 81         |  3         |  7.580     | \n",
       "| HCBN3_S235 | HCBN3_S235 | HCBN3      | 1          | N3         | Gv         | Lansing    | CS         | HN         | NA         | 81         |  5         |  7.050     | \n",
       "\n",
       "\n"
      ],
      "text/plain": [
       "           #SampleID  Sample Experiment Plant Fungus Soil    SampleType\n",
       "HCBN1_S211 HCBN1_S211 HCBN1  1          N1    Gv     Lansing CS        \n",
       "HCBN2_S223 HCBN2_S223 HCBN2  1          N2    Gv     Lansing CS        \n",
       "HCBN3_S235 HCBN3_S235 HCBN3  1          N3    Gv     Lansing CS        \n",
       "           Treatment TimePoint DAI Rep Concentration_ng.ul\n",
       "HCBN1_S211 HN        NA        81   1   6.080             \n",
       "HCBN2_S223 HN        NA        81   3   7.580             \n",
       "HCBN3_S235 HN        NA        81   5   7.050             "
      ]
     },
     "metadata": {},
     "output_type": "display_data"
    }
   ],
   "source": [
    "# converting sample metadata\n",
    "tmp = physeq %>% sample_data %>% as.matrix %>% as.data.frame\n",
    "tmp$SampleID =  rownames(tmp)\n",
    "tmp = cbind(tmp %>% dplyr::select(SampleID),\n",
    "            tmp %>% dplyr::select(-SampleID))\n",
    "colnames(tmp)[1] = '#SampleID'\n",
    "tmp$host_class = tmp$class\n",
    "tmp %>% status"
   ]
  },
  {
   "cell_type": "code",
   "execution_count": 161,
   "metadata": {},
   "outputs": [
    {
     "name": "stdout",
     "output_type": "stream",
     "text": [
      "File written: ~/Hyphosphere/data/3Exp/diversity/physeq_3Exp_sample-data.tsv \n"
     ]
    }
   ],
   "source": [
    "# writing out table\n",
    "sample_data_file = file.path(work_dir, 'physeq_3Exp_sample-data.tsv')\n",
    "write.table(tmp, sample_data_file, sep='\\t', quote=FALSE, row.names=FALSE)\n",
    "cat('File written:', sample_data_file, '\\n')"
   ]
  },
  {
   "cell_type": "markdown",
   "metadata": {},
   "source": [
    "## Taxonomy"
   ]
  },
  {
   "cell_type": "code",
   "execution_count": 162,
   "metadata": {},
   "outputs": [
    {
     "data": {
      "text/html": [
       "<table>\n",
       "<thead><tr><th></th><th scope=col>Kingdom</th><th scope=col>Phylum</th><th scope=col>Class</th><th scope=col>Order</th><th scope=col>Family</th><th scope=col>Genus</th></tr></thead>\n",
       "<tbody>\n",
       "\t<tr><th scope=row>ASV5742</th><td>Bacteria     </td><td>NA           </td><td>NA           </td><td>NA           </td><td>NA           </td><td>NA           </td></tr>\n",
       "\t<tr><th scope=row>ASV6971</th><td>Bacteria     </td><td>NA           </td><td>NA           </td><td>NA           </td><td>NA           </td><td>NA           </td></tr>\n",
       "\t<tr><th scope=row>ASV2480</th><td>Bacteria     </td><td>NA           </td><td>NA           </td><td>NA           </td><td>NA           </td><td>NA           </td></tr>\n",
       "\t<tr><th scope=row>ASV15180</th><td>Bacteria     </td><td>Acidobacteria</td><td>Subgroup_20  </td><td>NA           </td><td>NA           </td><td>NA           </td></tr>\n",
       "\t<tr><th scope=row>ASV9985</th><td>Bacteria     </td><td>Acidobacteria</td><td>Subgroup_20  </td><td>NA           </td><td>NA           </td><td>NA           </td></tr>\n",
       "\t<tr><th scope=row>ASV22021</th><td>Bacteria     </td><td>Acidobacteria</td><td>Subgroup_20  </td><td>NA           </td><td>NA           </td><td>NA           </td></tr>\n",
       "</tbody>\n",
       "</table>\n"
      ],
      "text/latex": [
       "\\begin{tabular}{r|llllll}\n",
       "  & Kingdom & Phylum & Class & Order & Family & Genus\\\\\n",
       "\\hline\n",
       "\tASV5742 & Bacteria      & NA            & NA            & NA            & NA            & NA           \\\\\n",
       "\tASV6971 & Bacteria      & NA            & NA            & NA            & NA            & NA           \\\\\n",
       "\tASV2480 & Bacteria      & NA            & NA            & NA            & NA            & NA           \\\\\n",
       "\tASV15180 & Bacteria      & Acidobacteria & Subgroup\\_20 & NA            & NA            & NA           \\\\\n",
       "\tASV9985 & Bacteria      & Acidobacteria & Subgroup\\_20 & NA            & NA            & NA           \\\\\n",
       "\tASV22021 & Bacteria      & Acidobacteria & Subgroup\\_20 & NA            & NA            & NA           \\\\\n",
       "\\end{tabular}\n"
      ],
      "text/markdown": [
       "\n",
       "| <!--/--> | Kingdom | Phylum | Class | Order | Family | Genus | \n",
       "|---|---|---|---|---|---|\n",
       "| ASV5742 | Bacteria      | NA            | NA            | NA            | NA            | NA            | \n",
       "| ASV6971 | Bacteria      | NA            | NA            | NA            | NA            | NA            | \n",
       "| ASV2480 | Bacteria      | NA            | NA            | NA            | NA            | NA            | \n",
       "| ASV15180 | Bacteria      | Acidobacteria | Subgroup_20   | NA            | NA            | NA            | \n",
       "| ASV9985 | Bacteria      | Acidobacteria | Subgroup_20   | NA            | NA            | NA            | \n",
       "| ASV22021 | Bacteria      | Acidobacteria | Subgroup_20   | NA            | NA            | NA            | \n",
       "\n",
       "\n"
      ],
      "text/plain": [
       "         Kingdom  Phylum        Class       Order Family Genus\n",
       "ASV5742  Bacteria NA            NA          NA    NA     NA   \n",
       "ASV6971  Bacteria NA            NA          NA    NA     NA   \n",
       "ASV2480  Bacteria NA            NA          NA    NA     NA   \n",
       "ASV15180 Bacteria Acidobacteria Subgroup_20 NA    NA     NA   \n",
       "ASV9985  Bacteria Acidobacteria Subgroup_20 NA    NA     NA   \n",
       "ASV22021 Bacteria Acidobacteria Subgroup_20 NA    NA     NA   "
      ]
     },
     "metadata": {},
     "output_type": "display_data"
    }
   ],
   "source": [
    "physeq %>% tax_table %>% head()"
   ]
  },
  {
   "cell_type": "code",
   "execution_count": 164,
   "metadata": {},
   "outputs": [
    {
     "name": "stderr",
     "output_type": "stream",
     "text": [
      "Warning message:\n",
      "“The `printer` argument is deprecated as of rlang 0.3.0.\n",
      "This warning is displayed once per session.”"
     ]
    },
    {
     "name": "stdout",
     "output_type": "stream",
     "text": [
      "[1] 15339     2\n"
     ]
    },
    {
     "data": {
      "text/html": [
       "<table>\n",
       "<thead><tr><th scope=col>OTU</th><th scope=col>taxonomy</th></tr></thead>\n",
       "<tbody>\n",
       "\t<tr><td>ASV5742                </td><td>Bacteria;NA;NA;NA;NA;NA</td></tr>\n",
       "\t<tr><td>ASV6971                </td><td>Bacteria;NA;NA;NA;NA;NA</td></tr>\n",
       "\t<tr><td>ASV2480                </td><td>Bacteria;NA;NA;NA;NA;NA</td></tr>\n",
       "</tbody>\n",
       "</table>\n"
      ],
      "text/latex": [
       "\\begin{tabular}{r|ll}\n",
       " OTU & taxonomy\\\\\n",
       "\\hline\n",
       "\t ASV5742                 & Bacteria;NA;NA;NA;NA;NA\\\\\n",
       "\t ASV6971                 & Bacteria;NA;NA;NA;NA;NA\\\\\n",
       "\t ASV2480                 & Bacteria;NA;NA;NA;NA;NA\\\\\n",
       "\\end{tabular}\n"
      ],
      "text/markdown": [
       "\n",
       "OTU | taxonomy | \n",
       "|---|---|---|\n",
       "| ASV5742                 | Bacteria;NA;NA;NA;NA;NA | \n",
       "| ASV6971                 | Bacteria;NA;NA;NA;NA;NA | \n",
       "| ASV2480                 | Bacteria;NA;NA;NA;NA;NA | \n",
       "\n",
       "\n"
      ],
      "text/plain": [
       "  OTU     taxonomy               \n",
       "1 ASV5742 Bacteria;NA;NA;NA;NA;NA\n",
       "2 ASV6971 Bacteria;NA;NA;NA;NA;NA\n",
       "3 ASV2480 Bacteria;NA;NA;NA;NA;NA"
      ]
     },
     "metadata": {},
     "output_type": "display_data"
    }
   ],
   "source": [
    "# converting taxonomy\n",
    "tmp = physeq %>% tax_table %>% as.matrix %>% as.data.frame\n",
    "tmp$OTU = rownames(tmp)\n",
    "tmp = cbind(tmp %>% dplyr::select(OTU),\n",
    "            tmp %>% dplyr::select(-OTU))\n",
    "tmp = tmp %>%\n",
    "    unite(taxonomy, Kingdom, Phylum, Class, Order, Family, Genus, sep=';') %>%\n",
    "    mutate(taxonomy = gsub(';+$','', taxonomy))\n",
    "tmp %>% status"
   ]
  },
  {
   "cell_type": "code",
   "execution_count": 168,
   "metadata": {},
   "outputs": [
    {
     "name": "stdout",
     "output_type": "stream",
     "text": [
      "File written: ~/Hyphosphere/data/3Exp/diversity/physeq_3Exp_tax-table.tsv \n"
     ]
    }
   ],
   "source": [
    "# writing out table\n",
    "tax_table_file = file.path(work_dir, 'physeq_3Exp_tax-table.tsv')\n",
    "write.table(tmp, tax_table_file, sep='\\t', quote=FALSE, row.names=FALSE, col.names=FALSE)\n",
    "cat('File written:', tax_table_file, '\\n')"
   ]
  },
  {
   "cell_type": "code",
   "execution_count": 170,
   "metadata": {},
   "outputs": [
    {
     "name": "stdout",
     "output_type": "stream",
     "text": [
      "[1] \"qiime tools import --type FeatureData[Taxonomy] --input-format HeaderlessTSVTaxonomyFormat --input-path ~/Hyphosphere/data/3Exp/diversity/physeq_3Exp_tax-table.tsv --output-path ~/Hyphosphere/data/3Exp/diversity/physeq_3Exp_tax.qza\"\n"
     ]
    },
    {
     "data": {
      "text/html": [
       "'Imported /home/be68/Hyphosphere/data/3Exp/diversity/physeq_3Exp_tax-table.tsv as HeaderlessTSVTaxonomyFormat to /home/be68/Hyphosphere/data/3Exp/diversity/physeq_3Exp_tax.qza'"
      ],
      "text/latex": [
       "'Imported /home/be68/Hyphosphere/data/3Exp/diversity/physeq\\_3Exp\\_tax-table.tsv as HeaderlessTSVTaxonomyFormat to /home/be68/Hyphosphere/data/3Exp/diversity/physeq\\_3Exp\\_tax.qza'"
      ],
      "text/markdown": [
       "'Imported /home/be68/Hyphosphere/data/3Exp/diversity/physeq_3Exp_tax-table.tsv as HeaderlessTSVTaxonomyFormat to /home/be68/Hyphosphere/data/3Exp/diversity/physeq_3Exp_tax.qza'"
      ],
      "text/plain": [
       "[1] \"Imported /home/be68/Hyphosphere/data/3Exp/diversity/physeq_3Exp_tax-table.tsv as HeaderlessTSVTaxonomyFormat to /home/be68/Hyphosphere/data/3Exp/diversity/physeq_3Exp_tax.qza\""
      ]
     },
     "metadata": {},
     "output_type": "display_data"
    }
   ],
   "source": [
    "# converting tsv to artifact\n",
    "tax_art_file = file.path(work_dir, 'physeq_3Exp_tax.qza')\n",
    "cmd = sprintf('qiime tools import --type FeatureData[Taxonomy] --input-format HeaderlessTSVTaxonomyFormat --input-path %s --output-path %s', \n",
    "              tax_table_file, tax_art_file)\n",
    "print(cmd)\n",
    "bash_job(cmd, conda_env)"
   ]
  },
  {
   "cell_type": "markdown",
   "metadata": {},
   "source": [
    "## Phylogeny"
   ]
  },
  {
   "cell_type": "code",
   "execution_count": 171,
   "metadata": {},
   "outputs": [
    {
     "name": "stdout",
     "output_type": "stream",
     "text": [
      "File written: ~/Hyphosphere/data/3Exp/diversity/physeq_3Exp_16S.nwk \n"
     ]
    }
   ],
   "source": [
    "tree_file = file.path(work_dir, 'physeq_3Exp_16S.nwk')\n",
    "write.tree(physeq %>% phy_tree, tree_file)\n",
    "cat('File written:', tree_file, '\\n')"
   ]
  },
  {
   "cell_type": "code",
   "execution_count": 172,
   "metadata": {},
   "outputs": [
    {
     "name": "stdout",
     "output_type": "stream",
     "text": [
      "[1] \"qiime tools import --type Phylogeny[Rooted] --input-path ~/Hyphosphere/data/3Exp/diversity/physeq_3Exp_16S.nwk --output-path ~/Hyphosphere/data/3Exp/diversity/physeq_3Exp_16Stree.qza\"\n"
     ]
    },
    {
     "data": {
      "text/html": [
       "'Imported /home/be68/Hyphosphere/data/3Exp/diversity/physeq_3Exp_16S.nwk as NewickDirectoryFormat to /home/be68/Hyphosphere/data/3Exp/diversity/physeq_3Exp_16Stree.qza'"
      ],
      "text/latex": [
       "'Imported /home/be68/Hyphosphere/data/3Exp/diversity/physeq\\_3Exp\\_16S.nwk as NewickDirectoryFormat to /home/be68/Hyphosphere/data/3Exp/diversity/physeq\\_3Exp\\_16Stree.qza'"
      ],
      "text/markdown": [
       "'Imported /home/be68/Hyphosphere/data/3Exp/diversity/physeq_3Exp_16S.nwk as NewickDirectoryFormat to /home/be68/Hyphosphere/data/3Exp/diversity/physeq_3Exp_16Stree.qza'"
      ],
      "text/plain": [
       "[1] \"Imported /home/be68/Hyphosphere/data/3Exp/diversity/physeq_3Exp_16S.nwk as NewickDirectoryFormat to /home/be68/Hyphosphere/data/3Exp/diversity/physeq_3Exp_16Stree.qza\""
      ]
     },
     "metadata": {},
     "output_type": "display_data"
    }
   ],
   "source": [
    "# convert to artifact\n",
    "tree_art_file = file.path(work_dir, 'physeq_3Exp_16Stree.qza')\n",
    "cmd = sprintf('qiime tools import --type Phylogeny[Rooted] --input-path %s --output-path %s', \n",
    "              tree_file, tree_art_file)\n",
    "print(cmd)\n",
    "bash_job(cmd, conda_env)"
   ]
  },
  {
   "cell_type": "markdown",
   "metadata": {},
   "source": [
    "# Calculating diversity"
   ]
  },
  {
   "cell_type": "markdown",
   "metadata": {},
   "source": [
    "## phylogenetic"
   ]
  },
  {
   "cell_type": "code",
   "execution_count": 175,
   "metadata": {},
   "outputs": [
    {
     "name": "stdout",
     "output_type": "stream",
     "text": [
      "qiime diversity core-metrics-phylogenetic \\\n",
      "  --i-phylogeny ~/Hyphosphere/data/3Exp/diversity/physeq_3Exp_16Stree.qza \\\n",
      "  --i-table ~/Hyphosphere/data/3Exp/diversity/physeq_3Exp_OTU_table_snorm.qza \\\n",
      "  --m-metadata-file ~/Hyphosphere/data/3Exp/diversity/physeq_3Exp_sample-data.tsv \\\n",
      "  --output-dir ~/Hyphosphere/data/3Exp/diversity/core_metrics_phylo \\\n",
      "  --p-sampling-depth 1 \\\n",
      "  --p-n-jobs -2\n",
      "  2> ~/Hyphosphere/data/3Exp/diversity/core-metrics-phylo.log 1>&2"
     ]
    },
    {
     "data": {
      "text/html": [],
      "text/latex": [],
      "text/markdown": [],
      "text/plain": [
       "character(0)"
      ]
     },
     "metadata": {},
     "output_type": "display_data"
    }
   ],
   "source": [
    "# phylogenetic diversity\n",
    "\n",
    "## output \n",
    "core_metrics_phylo_dir = file.path(work_dir, 'core_metrics_phylo')\n",
    "unlink(core_metrics_phylo_dir, recursive=TRUE)\n",
    "log_file = file.path(work_dir, 'core-metrics-phylo.log')\n",
    "\n",
    "\n",
    "## command\n",
    "cmd = \"qiime diversity core-metrics-phylogenetic \\\\\n",
    "  --i-phylogeny %s \\\\\n",
    "  --i-table %s \\\\\n",
    "  --m-metadata-file %s \\\\\n",
    "  --output-dir %s \\\\\n",
    "  --p-sampling-depth %s \\\\\n",
    "  --p-n-jobs %s\n",
    "  2> %s 1>&2\"\n",
    "\n",
    "cmd = sprintf(cmd,\n",
    "              tree_art_file,\n",
    "              otu_art_file, \n",
    "              sample_data_file, \n",
    "              core_metrics_phylo_dir,\n",
    "              5000, \n",
    "              -2,\n",
    "              log_file)\n",
    "\n",
    "## run\n",
    "cat(cmd)\n",
    "bash_job(cmd, conda_env)"
   ]
  },
  {
   "cell_type": "code",
   "execution_count": 176,
   "metadata": {},
   "outputs": [
    {
     "data": {
      "text/html": [],
      "text/latex": [],
      "text/markdown": [],
      "text/plain": [
       "character(0)"
      ]
     },
     "metadata": {},
     "output_type": "display_data"
    }
   ],
   "source": [
    "\n",
    "# phylo vectors\n",
    "files = list.files(core_metrics_phylo_dir, pattern='*_vector.qza', full.names=TRUE)\n",
    "files"
   ]
  },
  {
   "cell_type": "code",
   "execution_count": 144,
   "metadata": {},
   "outputs": [
    {
     "data": {
      "text/plain": [
       "R version 3.6.0 (2019-04-26)\n",
       "Platform: x86_64-conda_cos6-linux-gnu (64-bit)\n",
       "Running under: Ubuntu 16.04.6 LTS\n",
       "\n",
       "Matrix products: default\n",
       "BLAS/LAPACK: /data/home/be68/anaconda3/envs/MyR/lib/R/lib/libRblas.so\n",
       "\n",
       "locale:\n",
       " [1] LC_CTYPE=en_US.UTF-8       LC_NUMERIC=C              \n",
       " [3] LC_TIME=en_US.UTF-8        LC_COLLATE=en_US.UTF-8    \n",
       " [5] LC_MONETARY=en_US.UTF-8    LC_MESSAGES=en_US.UTF-8   \n",
       " [7] LC_PAPER=en_US.UTF-8       LC_NAME=C                 \n",
       " [9] LC_ADDRESS=C               LC_TELEPHONE=C            \n",
       "[11] LC_MEASUREMENT=en_US.UTF-8 LC_IDENTIFICATION=C       \n",
       "\n",
       "attached base packages:\n",
       "[1] stats     graphics  grDevices utils     datasets  methods   base     \n",
       "\n",
       "other attached packages:\n",
       " [1] bindrcpp_0.2.2     ape_5.3            ggplot2_3.2.1      gridExtra_2.3     \n",
       " [5] phyloseq_1.28.0    reshape2_1.4.3     dplyr_0.7.6        tidyr_0.8.1       \n",
       " [9] vegan_2.5-5        lattice_0.20-38    permute_0.9-5      RColorBrewer_1.1-2\n",
       "\n",
       "loaded via a namespace (and not attached):\n",
       " [1] Rcpp_1.0.2          Biostrings_2.52.0   assertthat_0.2.1   \n",
       " [4] digest_0.6.20       foreach_1.4.7       IRdisplay_0.5.0    \n",
       " [7] R6_2.4.0            plyr_1.8.4          repr_0.15.0        \n",
       "[10] stats4_3.6.0        evaluate_0.11       pillar_1.4.2       \n",
       "[13] zlibbioc_1.30.0     rlang_0.4.0         lazyeval_0.2.2     \n",
       "[16] uuid_0.1-2          data.table_1.12.2   S4Vectors_0.22.0   \n",
       "[19] Matrix_1.2-17       splines_3.6.0       stringr_1.4.0      \n",
       "[22] igraph_1.2.4.1      munsell_0.5.0       compiler_3.6.0     \n",
       "[25] pkgconfig_2.0.2     BiocGenerics_0.30.0 base64enc_0.1-3    \n",
       "[28] multtest_2.40.0     mgcv_1.8-28         htmltools_0.3.6    \n",
       "[31] biomformat_1.12.0   tidyselect_0.2.4    tibble_2.1.3       \n",
       "[34] IRanges_2.18.2      codetools_0.2-16    withr_2.1.2        \n",
       "[37] crayon_1.3.4        MASS_7.3-51.4       grid_3.6.0         \n",
       "[40] nlme_3.1-141        jsonlite_1.6        gtable_0.3.0       \n",
       "[43] magrittr_1.5        scales_1.0.0        stringi_1.4.3      \n",
       "[46] XVector_0.24.0      IRkernel_0.8.12     Rhdf5lib_1.6.0     \n",
       "[49] iterators_1.0.12    tools_3.6.0         ade4_1.7-13        \n",
       "[52] Biobase_2.44.0      glue_1.3.1          purrr_0.2.5        \n",
       "[55] survival_2.44-1.1   parallel_3.6.0      colorspace_1.4-1   \n",
       "[58] rhdf5_2.28.0        cluster_2.1.0       pbdZMQ_0.3-3       \n",
       "[61] bindr_0.1.1        "
      ]
     },
     "metadata": {},
     "output_type": "display_data"
    }
   ],
   "source": [
    "sessionInfo()"
   ]
  },
  {
   "cell_type": "code",
   "execution_count": null,
   "metadata": {},
   "outputs": [],
   "source": []
  },
  {
   "cell_type": "code",
   "execution_count": 7,
   "metadata": {},
   "outputs": [
    {
     "data": {
      "text/html": [
       "<table>\n",
       "<thead><tr><th></th><th scope=col>Kingdom</th><th scope=col>Phylum</th><th scope=col>Class</th><th scope=col>Order</th><th scope=col>Family</th><th scope=col>Genus</th></tr></thead>\n",
       "<tbody>\n",
       "\t<tr><th scope=row>ASV3222</th><td>Eukaryota</td><td>NA       </td><td>NA       </td><td>NA       </td><td>NA       </td><td>NA       </td></tr>\n",
       "\t<tr><th scope=row>ASV15898</th><td>Eukaryota</td><td>NA       </td><td>NA       </td><td>NA       </td><td>NA       </td><td>NA       </td></tr>\n",
       "\t<tr><th scope=row>ASV20012</th><td>Eukaryota</td><td>NA       </td><td>NA       </td><td>NA       </td><td>NA       </td><td>NA       </td></tr>\n",
       "\t<tr><th scope=row>ASV17339</th><td>Eukaryota</td><td>NA       </td><td>NA       </td><td>NA       </td><td>NA       </td><td>NA       </td></tr>\n",
       "\t<tr><th scope=row>ASV23337</th><td>Eukaryota</td><td>NA       </td><td>NA       </td><td>NA       </td><td>NA       </td><td>NA       </td></tr>\n",
       "</tbody>\n",
       "</table>\n"
      ],
      "text/latex": [
       "\\begin{tabular}{r|llllll}\n",
       "  & Kingdom & Phylum & Class & Order & Family & Genus\\\\\n",
       "\\hline\n",
       "\tASV3222 & Eukaryota & NA        & NA        & NA        & NA        & NA       \\\\\n",
       "\tASV15898 & Eukaryota & NA        & NA        & NA        & NA        & NA       \\\\\n",
       "\tASV20012 & Eukaryota & NA        & NA        & NA        & NA        & NA       \\\\\n",
       "\tASV17339 & Eukaryota & NA        & NA        & NA        & NA        & NA       \\\\\n",
       "\tASV23337 & Eukaryota & NA        & NA        & NA        & NA        & NA       \\\\\n",
       "\\end{tabular}\n"
      ],
      "text/markdown": [
       "\n",
       "| <!--/--> | Kingdom | Phylum | Class | Order | Family | Genus | \n",
       "|---|---|---|---|---|\n",
       "| ASV3222 | Eukaryota | NA        | NA        | NA        | NA        | NA        | \n",
       "| ASV15898 | Eukaryota | NA        | NA        | NA        | NA        | NA        | \n",
       "| ASV20012 | Eukaryota | NA        | NA        | NA        | NA        | NA        | \n",
       "| ASV17339 | Eukaryota | NA        | NA        | NA        | NA        | NA        | \n",
       "| ASV23337 | Eukaryota | NA        | NA        | NA        | NA        | NA        | \n",
       "\n",
       "\n"
      ],
      "text/plain": [
       "         Kingdom   Phylum Class Order Family Genus\n",
       "ASV3222  Eukaryota NA     NA    NA    NA     NA   \n",
       "ASV15898 Eukaryota NA     NA    NA    NA     NA   \n",
       "ASV20012 Eukaryota NA     NA    NA    NA     NA   \n",
       "ASV17339 Eukaryota NA     NA    NA    NA     NA   \n",
       "ASV23337 Eukaryota NA     NA    NA    NA     NA   "
      ]
     },
     "metadata": {},
     "output_type": "display_data"
    }
   ],
   "source": [
    "ps = readRDS(\"~/Hyphosphere/data/3Exp/phyloseq/3Exp_phyloseq_thresh_wtree_woContam.rds\")\n",
    "ps \n",
    "# ps = subset_taxa(ps, Kingdom == \"Bacteria\" & !is.na(\"Phylum\"))\n",
    "# ps = subset_samples(ps, !SampleType %in% c(\"EB\", \"PB\", \"MK\")) #remove non-experimental controls\n",
    "\n",
    "# # re-normalize after subsetting taxa\n",
    "# ps.snorm = transform_sample_counts(ps, function(x) x/sum(x))\n",
    "\n",
    "# otu_table(ps.snorm)[1:4, 1:10]\n",
    "# tax_table(ps.snorm) %>% head()\n",
    "\n",
    "# ps.snorm\n",
    "                                  \n"
   ]
  },
  {
   "cell_type": "code",
   "execution_count": null,
   "metadata": {},
   "outputs": [],
   "source": []
  },
  {
   "cell_type": "code",
   "execution_count": null,
   "metadata": {},
   "outputs": [],
   "source": [
    "#Generate distance matrices"
   ]
  },
  {
   "cell_type": "code",
   "execution_count": 87,
   "metadata": {},
   "outputs": [
    {
     "name": "stderr",
     "output_type": "stream",
     "text": [
      "Warning message in matrix(tree$edge[order(tree$edge[, 1]), ][, 2], byrow = TRUE, :\n",
      "“data length [25449] is not a sub-multiple or multiple of the number of rows [12725]”Warning message in matrix(tree$edge[order(tree$edge[, 1]), ][, 2], byrow = TRUE, :\n",
      "“data length [25449] is not a sub-multiple or multiple of the number of rows [12725]”"
     ]
    }
   ],
   "source": [
    "wunif.dist = phyloseq::distance(ps.snorm, \n",
    "                      method = \"unifrac\", \n",
    "                      weighted = TRUE,\n",
    "                      fast = TRUE, \n",
    "                      parallel = TRUE, \n",
    "                      normalized = FALSE)\n",
    "\n",
    "unif.dist = phyloseq::distance(ps.snorm, \n",
    "                      method = \"unifrac\", \n",
    "                      weighted = FALSE,\n",
    "                      fast = TRUE, \n",
    "                      parallel = TRUE, \n",
    "                      normalized = FALSE)"
   ]
  },
  {
   "cell_type": "code",
   "execution_count": 88,
   "metadata": {},
   "outputs": [
    {
     "name": "stdout",
     "output_type": "stream",
     "text": [
      "[1] \"weighted-UniFrac\"\n"
     ]
    },
    {
     "data": {
      "text/plain": [
       "\n",
       "Call:\n",
       "adonis(formula = d ~ Soil + SampleType + Fungus + SampleType:Fungus,      data = df, permutations = 999) \n",
       "\n",
       "Permutation: free\n",
       "Number of permutations: 999\n",
       "\n",
       "Terms added sequentially (first to last)\n",
       "\n",
       "                   Df SumsOfSqs   MeanSqs F.Model      R2 Pr(>F)    \n",
       "Soil                3  0.042735 0.0142451 26.3233 0.19945  0.001 ***\n",
       "SampleType          6  0.072531 0.0120886 22.3383 0.33852  0.001 ***\n",
       "Fungus              1  0.001338 0.0013377  2.4720 0.00624  0.022 *  \n",
       "SampleType:Fungus   5  0.007282 0.0014565  2.6914 0.03399  0.001 ***\n",
       "Residuals         167  0.090374 0.0005412         0.42179           \n",
       "Total             182  0.214260                   1.00000           \n",
       "---\n",
       "Signif. codes:  0 ‘***’ 0.001 ‘**’ 0.01 ‘*’ 0.05 ‘.’ 0.1 ‘ ’ 1"
      ]
     },
     "metadata": {},
     "output_type": "display_data"
    }
   ],
   "source": [
    "set.seed(101)\n",
    "\n",
    "df = as(sample_data(ps.snorm), \"data.frame\")\n",
    "#df$Rep = as.factor(df$Rep)\n",
    "#df$TimePoint = as.factor(df$TimePoint)\n",
    "d = wunif.dist\n",
    "\n",
    "adonis.w = adonis(formula = d ~ Soil + SampleType + Fungus + SampleType:Fungus, df, permutations = 999)\n",
    "print(\"weighted-UniFrac\")\n",
    "adonis.w"
   ]
  },
  {
   "cell_type": "code",
   "execution_count": 89,
   "metadata": {},
   "outputs": [
    {
     "name": "stderr",
     "output_type": "stream",
     "text": [
      "Warning message in matrix(tree$edge[order(tree$edge[, 1]), ][, 2], byrow = TRUE, :\n",
      "“data length [25449] is not a sub-multiple or multiple of the number of rows [12725]”"
     ]
    },
    {
     "data": {},
     "metadata": {},
     "output_type": "display_data"
    },
    {
     "data": {
      "image/png": "[encoded data removed]",
      "text/plain": [
       "plot without title"
      ]
     },
     "metadata": {},
     "output_type": "display_data"
    }
   ],
   "source": [
    "ordu = ordinate(ps.snorm, \"PCoA\", \"unifrac\", weighted=TRUE)\n",
    "p = plot_ordination(ps.snorm, ordu, justDF = TRUE)\n",
    "plot_ordination(ps.snorm, ordu)"
   ]
  },
  {
   "cell_type": "code",
   "execution_count": 96,
   "metadata": {},
   "outputs": [
    {
     "data": {},
     "metadata": {},
     "output_type": "display_data"
    },
    {
     "data": {},
     "metadata": {},
     "output_type": "display_data"
    },
    {
     "data": {
      "text/html": [
       "<strong>png:</strong> 2"
      ],
      "text/latex": [
       "\\textbf{png:} 2"
      ],
      "text/markdown": [
       "**png:** 2"
      ],
      "text/plain": [
       "png \n",
       "  2 "
      ]
     },
     "metadata": {},
     "output_type": "display_data"
    },
    {
     "data": {
      "image/png": "[encoded data removed]",
      "text/plain": [
       "plot without title"
      ]
     },
     "metadata": {},
     "output_type": "display_data"
    }
   ],
   "source": [
    "#setwd(figDir)\n",
    "cs = brewer.pal(7,\"Dark2\")\n",
    "p1 = ggplot(p, aes(x = Axis.1, y = Axis.2)) +\n",
    "geom_point(aes(shape = as.factor(Soil), fill = SampleType),  size = 2) +\n",
    "theme_pub() +\n",
    "scale_shape_manual(values=c(21,22,23,24), guide = guide_legend(title = \"Soil\", ncol = 2))+\n",
    "scale_fill_manual(values = cs)+\n",
    "labs(x = \"PCoA 1 [25.5%]\", y = \"PCoA 2 [16.5%]\") +\n",
    "ggtitle(\"PCoA of Weighted UniFrac Distances\")+\n",
    "guides(fill=guide_legend(override.aes=list(color= cs), ncol = 3))+\n",
    "#guides(fill=guide_legend(override.aes=list(color= cs), ncol = 3), shape = guide_legend(override.aes=list(shape = c(21,22,23,24), ncol = 2))) + \n",
    "theme(legend.position=\"bottom\") \n",
    "\n",
    "#color = \"grey20\",\n",
    "\n",
    "p1\n",
    "  \n",
    "pdf(file.path(figDir,\"wUnif_PCOA.pdf\"), useDingbats = FALSE, width = 6, height = 4)\n",
    "p1\n",
    "dev.off()"
   ]
  },
  {
   "cell_type": "markdown",
   "metadata": {},
   "source": [
    "# Subset to just bulk soils and hyphal soils"
   ]
  },
  {
   "cell_type": "code",
   "execution_count": 129,
   "metadata": {},
   "outputs": [],
   "source": [
    "ps.b = subset_samples(ps.snorm, SampleType %in% c(\"BS\", \"BH\"))"
   ]
  },
  {
   "cell_type": "code",
   "execution_count": 130,
   "metadata": {},
   "outputs": [
    {
     "name": "stderr",
     "output_type": "stream",
     "text": [
      "Warning message in matrix(tree$edge[order(tree$edge[, 1]), ][, 2], byrow = TRUE, :\n",
      "“data length [25449] is not a sub-multiple or multiple of the number of rows [12725]”"
     ]
    }
   ],
   "source": [
    "b.wunif.dist = phyloseq::distance(ps.b, \n",
    "                      method = \"unifrac\", \n",
    "                      weighted = TRUE,\n",
    "                      fast = TRUE, \n",
    "                      parallel = TRUE, \n",
    "                      normalized = FALSE)"
   ]
  },
  {
   "cell_type": "code",
   "execution_count": 131,
   "metadata": {},
   "outputs": [
    {
     "name": "stderr",
     "output_type": "stream",
     "text": [
      "Warning message in matrix(tree$edge[order(tree$edge[, 1]), ][, 2], byrow = TRUE, :\n",
      "“data length [25449] is not a sub-multiple or multiple of the number of rows [12725]”"
     ]
    },
    {
     "data": {},
     "metadata": {},
     "output_type": "display_data"
    },
    {
     "data": {
      "image/png": "[encoded data removed]",
      "text/plain": [
       "plot without title"
      ]
     },
     "metadata": {},
     "output_type": "display_data"
    }
   ],
   "source": [
    "ordu = ordinate(ps.b, \"PCoA\", \"unifrac\", weighted=TRUE)\n",
    "p = plot_ordination(ps.b, ordu, justDF = TRUE)\n",
    "plot_ordination(ps.snorm, ordu)"
   ]
  },
  {
   "cell_type": "code",
   "execution_count": 135,
   "metadata": {
    "scrolled": false
   },
   "outputs": [
    {
     "data": {},
     "metadata": {},
     "output_type": "display_data"
    },
    {
     "data": {},
     "metadata": {},
     "output_type": "display_data"
    },
    {
     "data": {
      "text/html": [
       "<strong>png:</strong> 2"
      ],
      "text/latex": [
       "\\textbf{png:} 2"
      ],
      "text/markdown": [
       "**png:** 2"
      ],
      "text/plain": [
       "png \n",
       "  2 "
      ]
     },
     "metadata": {},
     "output_type": "display_data"
    },
    {
     "data": {
      "image/png": "[encoded data removed]",
      "text/plain": [
       "plot without title"
      ]
     },
     "metadata": {},
     "output_type": "display_data"
    }
   ],
   "source": [
    "#setwd(figDir)\n",
    "cs = brewer.pal(7,\"Dark2\")\n",
    "p1 = ggplot(p, aes(x = Axis.1, y = Axis.2)) +\n",
    "geom_point(aes(shape = as.factor(Soil), fill = SampleType),  size = 2) +\n",
    "theme_pub() +\n",
    "scale_shape_manual(values=c(21,22,23), guide = guide_legend(title = \"Soil\", ncol = 1))+\n",
    "scale_fill_manual(values = cs[c(1,3)], labels = c(\"Bulk hyphosphere\", \"Bulk soil\"))+\n",
    "labs(x = \"PCoA 1 [41.6%]\", y = \"PCoA 2 [13.1%]\") +\n",
    "ggtitle(\"PCoA of Weighted UniFrac Distances\")+\n",
    "\n",
    "guides(fill=guide_legend(override.aes=list(colour= cs[c(1,3)]), ncol = 1)) + \n",
    "theme(legend.position=\"bottom\") \n",
    "\n",
    "#color = \"grey20\",\n",
    "\n",
    "p1\n",
    "\n",
    "pdf(file.path(figDir,\"wUnif_PCOA_BSBH.pdf\"), useDingbats = FALSE, width = 4.5, height = 3)\n",
    "p1\n",
    "dev.off()"
   ]
  },
  {
   "cell_type": "code",
   "execution_count": 105,
   "metadata": {},
   "outputs": [
    {
     "name": "stdout",
     "output_type": "stream",
     "text": [
      "[1] \"weighted-UniFrac\"\n"
     ]
    },
    {
     "data": {
      "text/plain": [
       "\n",
       "Call:\n",
       "adonis(formula = d ~ Rep + Soil + SampleType + Soil:SampleType +      Fungus + Fungus:SampleType, data = df, permutations = 999) \n",
       "\n",
       "Permutation: free\n",
       "Number of permutations: 999\n",
       "\n",
       "Terms added sequentially (first to last)\n",
       "\n",
       "                  Df SumsOfSqs   MeanSqs F.Model      R2 Pr(>F)    \n",
       "Rep                1  0.001013 0.0010131   3.571 0.02216  0.007 ** \n",
       "Soil               2  0.024764 0.0123818  43.644 0.54161  0.001 ***\n",
       "SampleType         1  0.000350 0.0003500   1.234 0.00765  0.229    \n",
       "Fungus             1  0.000275 0.0002749   0.969 0.00601  0.367    \n",
       "Soil:SampleType    2  0.000408 0.0002040   0.719 0.00892  0.708    \n",
       "SampleType:Fungus  1  0.000189 0.0001889   0.666 0.00413  0.667    \n",
       "Residuals         66  0.018724 0.0002837         0.40951           \n",
       "Total             74  0.045723                   1.00000           \n",
       "---\n",
       "Signif. codes:  0 ‘***’ 0.001 ‘**’ 0.01 ‘*’ 0.05 ‘.’ 0.1 ‘ ’ 1"
      ]
     },
     "metadata": {},
     "output_type": "display_data"
    }
   ],
   "source": [
    "set.seed(101)\n",
    "\n",
    "df = as(sample_data(ps.b), \"data.frame\")\n",
    "#df$Rep = as.factor(df$Rep)\n",
    "#df$TimePoint = as.factor(df$TimePoint)\n",
    "d = b.wunif.dist\n",
    "\n",
    "b.adonis.w = adonis(formula = d ~ Rep + Soil + SampleType + Soil:SampleType + Fungus + Fungus:SampleType, df, permutations = 999)\n",
    "print(\"weighted-UniFrac\")\n",
    "b.adonis.w\n",
    "\n",
    "# d = unif.dist\n",
    "# #Soiladonis = adonis(formula = d ~ Planted + DAP + Plant + Treatment, df, strata = df$Rep:df$Plant, permutations = 999)\n",
    "# adonis.u = adonis(formula = d ~ Rep + SampleType + TimePoint + SampleType:TimePoint, df, permutations = 999)\n",
    "# print(\"unweighted-UniFrac\")\n",
    "#adonis.u"
   ]
  },
  {
   "cell_type": "markdown",
   "metadata": {},
   "source": [
    "# Hyphal attached communities"
   ]
  },
  {
   "cell_type": "markdown",
   "metadata": {},
   "source": [
    "* Does fungal species matter?"
   ]
  },
  {
   "cell_type": "code",
   "execution_count": 120,
   "metadata": {},
   "outputs": [],
   "source": [
    "ps.b = subset_samples(ps.snorm, SampleType %in% c(\"RH\",\"CH\") & Soil == \"Lansing\")"
   ]
  },
  {
   "cell_type": "code",
   "execution_count": 121,
   "metadata": {},
   "outputs": [
    {
     "name": "stderr",
     "output_type": "stream",
     "text": [
      "Warning message in matrix(tree$edge[order(tree$edge[, 1]), ][, 2], byrow = TRUE, :\n",
      "“data length [25449] is not a sub-multiple or multiple of the number of rows [12725]”"
     ]
    },
    {
     "data": {},
     "metadata": {},
     "output_type": "display_data"
    },
    {
     "data": {
      "image/png": "[encoded data removed]",
      "text/plain": [
       "plot without title"
      ]
     },
     "metadata": {},
     "output_type": "display_data"
    }
   ],
   "source": [
    "ordu = ordinate(ps.b, \"PCoA\", \"unifrac\", weighted=TRUE)\n",
    "p = plot_ordination(ps.b, ordu, justDF = TRUE)\n",
    "plot_ordination(ps.snorm, ordu)"
   ]
  },
  {
   "cell_type": "code",
   "execution_count": 126,
   "metadata": {
    "scrolled": false
   },
   "outputs": [
    {
     "data": {},
     "metadata": {},
     "output_type": "display_data"
    },
    {
     "data": {},
     "metadata": {},
     "output_type": "display_data"
    },
    {
     "data": {
      "text/html": [
       "<strong>png:</strong> 2"
      ],
      "text/latex": [
       "\\textbf{png:} 2"
      ],
      "text/markdown": [
       "**png:** 2"
      ],
      "text/plain": [
       "png \n",
       "  2 "
      ]
     },
     "metadata": {},
     "output_type": "display_data"
    },
    {
     "data": {
      "image/png": "[encoded data removed]",
      "text/plain": [
       "plot without title"
      ]
     },
     "metadata": {},
     "output_type": "display_data"
    }
   ],
   "source": [
    "cs = brewer.pal(7,\"Dark2\")\n",
    "p1 = ggplot(p, aes(x = Axis.1, y = Axis.2)) +\n",
    "geom_point(aes(shape = as.factor(Treatment), fill = Fungus),  size = 2) +\n",
    "theme_pub() +\n",
    "scale_shape_manual(values=c(21,22,23,24), guide = guide_legend(title = \"Treatment\", ncol = 1))+\n",
    "scale_fill_manual(values = cs[c(4,6)])+\n",
    "labs(x = \"PCoA 1 [37%]\", y = \"PCoA 2 [14.2%]\") +\n",
    "ggtitle(\"PCoA of Weighted UniFrac Distances\")+\n",
    "\n",
    "guides(fill=guide_legend(override.aes=list(colour= cs[c(4,6)]), ncol = 1)) + \n",
    "theme(legend.position=\"bottom\") +\n",
    "facet_wrap(~SampleType, ncol = 2)\n",
    "\n",
    "#color = \"grey20\",\n",
    "\n",
    "p1\n",
    "\n",
    "pdf(file.path(figDir,\"wUnif_PCOA_CHRHxFungus.pdf\"), useDingbats = FALSE, width = 6, height = 4)\n",
    "p1\n",
    "dev.off()"
   ]
  },
  {
   "cell_type": "code",
   "execution_count": 124,
   "metadata": {},
   "outputs": [
    {
     "name": "stderr",
     "output_type": "stream",
     "text": [
      "Warning message in matrix(tree$edge[order(tree$edge[, 1]), ][, 2], byrow = TRUE, :\n",
      "“data length [25449] is not a sub-multiple or multiple of the number of rows [12725]”"
     ]
    }
   ],
   "source": [
    "b.wunif.dist = phyloseq::distance(ps.b, \n",
    "                      method = \"unifrac\", \n",
    "                      weighted = TRUE,\n",
    "                      fast = TRUE, \n",
    "                      parallel = TRUE, \n",
    "                      normalized = FALSE)"
   ]
  },
  {
   "cell_type": "code",
   "execution_count": 128,
   "metadata": {},
   "outputs": [
    {
     "name": "stdout",
     "output_type": "stream",
     "text": [
      "[1] \"weighted-UniFrac\"\n"
     ]
    },
    {
     "data": {
      "text/plain": [
       "\n",
       "Call:\n",
       "adonis(formula = d ~ as.factor(Rep) + SampleType + Fungus + Fungus:SampleType,      data = df, permutations = 999) \n",
       "\n",
       "Permutation: free\n",
       "Number of permutations: 999\n",
       "\n",
       "Terms added sequentially (first to last)\n",
       "\n",
       "                  Df SumsOfSqs   MeanSqs F.Model      R2 Pr(>F)    \n",
       "as.factor(Rep)     3 0.0028789 0.0009596  2.0836 0.12650  0.014 *  \n",
       "SampleType         1 0.0082587 0.0082587 17.9313 0.36288  0.001 ***\n",
       "Fungus             1 0.0028383 0.0028383  6.1626 0.12471  0.001 ***\n",
       "SampleType:Fungus  1 0.0009529 0.0009529  2.0689 0.04187  0.063 .  \n",
       "Residuals         17 0.0078298 0.0004606         0.34404           \n",
       "Total             23 0.0227586                   1.00000           \n",
       "---\n",
       "Signif. codes:  0 ‘***’ 0.001 ‘**’ 0.01 ‘*’ 0.05 ‘.’ 0.1 ‘ ’ 1"
      ]
     },
     "metadata": {},
     "output_type": "display_data"
    }
   ],
   "source": [
    "### set.seed(101)\n",
    "\n",
    "df = as(sample_data(ps.b), \"data.frame\")\n",
    "#df$Rep = as.factor(df$Rep)\n",
    "#df$TimePoint = as.factor(df$TimePoint)\n",
    "d = b.wunif.dist\n",
    "\n",
    "b.adonis.w = adonis(formula = d ~ as.factor(Rep) + SampleType + Fungus + Fungus:SampleType, df, permutations = 999)\n",
    "print(\"weighted-UniFrac\")\n",
    "b.adonis.w"
   ]
  },
  {
   "cell_type": "markdown",
   "metadata": {},
   "source": [
    "# Just core hyphae, treatment effects"
   ]
  },
  {
   "cell_type": "code",
   "execution_count": 167,
   "metadata": {
    "scrolled": true
   },
   "outputs": [
    {
     "name": "stderr",
     "output_type": "stream",
     "text": [
      "Warning message in matrix(tree$edge[order(tree$edge[, 1]), ][, 2], byrow = TRUE, :\n",
      "“data length [25449] is not a sub-multiple or multiple of the number of rows [12725]”"
     ]
    },
    {
     "data": {},
     "metadata": {},
     "output_type": "display_data"
    },
    {
     "data": {
      "image/png": "[encoded data removed]",
      "text/plain": [
       "plot without title"
      ]
     },
     "metadata": {},
     "output_type": "display_data"
    }
   ],
   "source": [
    "ps.b = subset_samples(ps.snorm, SampleType %in% c(\"CH\") & Soil != \"Pendelton\")\n",
    "ordu = ordinate(ps.b, \"PCoA\", \"unifrac\", weighted=TRUE)\n",
    "p = plot_ordination(ps.b, ordu, justDF = TRUE)\n",
    "plot_ordination(ps.snorm, ordu)"
   ]
  },
  {
   "cell_type": "code",
   "execution_count": 173,
   "metadata": {},
   "outputs": [
    {
     "data": {},
     "metadata": {},
     "output_type": "display_data"
    },
    {
     "data": {},
     "metadata": {},
     "output_type": "display_data"
    },
    {
     "data": {
      "text/html": [
       "<strong>png:</strong> 2"
      ],
      "text/latex": [
       "\\textbf{png:} 2"
      ],
      "text/markdown": [
       "**png:** 2"
      ],
      "text/plain": [
       "png \n",
       "  2 "
      ]
     },
     "metadata": {},
     "output_type": "display_data"
    },
    {
     "data": {
      "image/png": "[encoded data removed]",
      "text/plain": [
       "plot without title"
      ]
     },
     "metadata": {},
     "output_type": "display_data"
    }
   ],
   "source": [
    "cs = brewer.pal(7,\"Dark2\")\n",
    "p1 = ggplot(p, aes(x = Axis.1, y = Axis.2)) +\n",
    "geom_point(aes(shape = as.factor(Rep), fill = Treatment),  size = 2) +\n",
    "theme_pub() +\n",
    "scale_shape_manual(values=c(21,22,23,24), guide = guide_legend(title = \"Rep\", ncol = 1))+\n",
    "scale_fill_manual(values = c(\"Grey\", \"White\"))+\n",
    "labs(x = \"PCoA 1 [33%]\", y = \"PCoA 2 [11.7%]\") +\n",
    "ggtitle(\"PCoA of Weighted UniFrac Distances\")+\n",
    "\n",
    "guides(fill=guide_legend(override.aes=list(color= c(\"Grey\", \"White\")), ncol = 1)) + \n",
    "theme(legend.position=\"right\") +\n",
    "facet_wrap(Fungus~Soil, ncol = 2)\n",
    "\n",
    "#color = \"grey20\",\n",
    "\n",
    "p1\n",
    "\n",
    "pdf(file.path(figDir,\"wUnif_PCOA_CHxTreatment.pdf\"), useDingbats = FALSE, width = 4.5, height = 3.5)\n",
    "p1\n",
    "dev.off()"
   ]
  },
  {
   "cell_type": "code",
   "execution_count": null,
   "metadata": {},
   "outputs": [],
   "source": []
  },
  {
   "cell_type": "code",
   "execution_count": 174,
   "metadata": {},
   "outputs": [
    {
     "name": "stderr",
     "output_type": "stream",
     "text": [
      "Warning message in matrix(tree$edge[order(tree$edge[, 1]), ][, 2], byrow = TRUE, :\n",
      "“data length [25449] is not a sub-multiple or multiple of the number of rows [12725]”"
     ]
    }
   ],
   "source": [
    "b.wunif.dist = phyloseq::distance(ps.b, \n",
    "                      method = \"unifrac\", \n",
    "                      weighted = TRUE,\n",
    "                      fast = TRUE, \n",
    "                      parallel = TRUE, \n",
    "                      normalized = FALSE)"
   ]
  },
  {
   "cell_type": "code",
   "execution_count": 175,
   "metadata": {},
   "outputs": [
    {
     "name": "stdout",
     "output_type": "stream",
     "text": [
      "[1] \"weighted-UniFrac\"\n"
     ]
    },
    {
     "data": {
      "text/plain": [
       "\n",
       "Call:\n",
       "adonis(formula = d ~ as.factor(Rep) + Soil + Fungus + Treatment +      Treatment:Fungus + Treatment:Soil, data = df, permutations = 999) \n",
       "\n",
       "Permutation: free\n",
       "Number of permutations: 999\n",
       "\n",
       "Terms added sequentially (first to last)\n",
       "\n",
       "                 Df SumsOfSqs   MeanSqs F.Model      R2 Pr(>F)    \n",
       "as.factor(Rep)    3 0.0030367 0.0010122  1.3979 0.11577  0.089 .  \n",
       "Soil              1 0.0076001 0.0076001 10.4960 0.28974  0.001 ***\n",
       "Fungus            1 0.0030116 0.0030116  4.1591 0.11481  0.001 ***\n",
       "Treatment         1 0.0006460 0.0006460  0.8921 0.02463  0.496    \n",
       "Fungus:Treatment  1 0.0003912 0.0003912  0.5403 0.01492  0.971    \n",
       "Soil:Treatment    1 0.0006837 0.0006837  0.9443 0.02607  0.433    \n",
       "Residuals        15 0.0108614 0.0007241         0.41407           \n",
       "Total            23 0.0262308                   1.00000           \n",
       "---\n",
       "Signif. codes:  0 ‘***’ 0.001 ‘**’ 0.01 ‘*’ 0.05 ‘.’ 0.1 ‘ ’ 1"
      ]
     },
     "metadata": {},
     "output_type": "display_data"
    }
   ],
   "source": [
    "df = as(sample_data(ps.b), \"data.frame\")\n",
    "#df$Rep = as.factor(df$Rep)\n",
    "#df$TimePoint = as.factor(df$TimePoint)\n",
    "d = b.wunif.dist\n",
    "\n",
    "b.adonis.w = adonis(formula = d ~ as.factor(Rep) + Soil + Fungus + Treatment + Treatment:Fungus + Treatment:Soil, df, permutations = 999)\n",
    "print(\"weighted-UniFrac\")\n",
    "b.adonis.w"
   ]
  }
 ],
 "metadata": {
  "celltoolbar": "Raw Cell Format",
  "kernelspec": {
   "display_name": "R",
   "language": "R",
   "name": "ir"
  },
  "language_info": {
   "codemirror_mode": "r",
   "file_extension": ".r",
   "mimetype": "text/x-r-source",
   "name": "R",
   "pygments_lexer": "r",
   "version": "3.6.0"
  }
 },
 "nbformat": 4,
 "nbformat_minor": 2
}
