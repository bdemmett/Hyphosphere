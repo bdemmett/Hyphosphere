{
 "cells": [
  {
   "cell_type": "markdown",
   "metadata": {},
   "source": [
    "# Check contaminants"
   ]
  },
  {
   "cell_type": "code",
   "execution_count": 69,
   "metadata": {},
   "outputs": [],
   "source": [
    "library(dada2)\n",
    "library(tidyr)\n",
    "library(dplyr)\n",
    "library(reshape2)\n",
    "library(phyloseq)\n",
    "library(gridExtra)\n",
    "library(ggplot2)"
   ]
  },
  {
   "cell_type": "code",
   "execution_count": 2,
   "metadata": {},
   "outputs": [
    {
     "data": {
      "text/plain": [
       "phyloseq-class experiment-level object\n",
       "otu_table()   OTU Table:         [ 12983 taxa and 192 samples ]\n",
       "sample_data() Sample Data:       [ 192 samples by 11 sample variables ]\n",
       "tax_table()   Taxonomy Table:    [ 12983 taxa by 6 taxonomic ranks ]\n",
       "phy_tree()    Phylogenetic Tree: [ 12983 tips and 12953 internal nodes ]"
      ]
     },
     "metadata": {},
     "output_type": "display_data"
    }
   ],
   "source": [
    "ps = readRDS(file = '~/Hyphosphere/Exp11/Exp11_phyloseq.rds')\n",
    "ps"
   ]
  },
  {
   "cell_type": "code",
   "execution_count": 3,
   "metadata": {},
   "outputs": [],
   "source": [
    "theme_pub = function (base_size = 11, base_family = \"Arial\") \n",
    "{\n",
    "    theme_grey(base_size = base_size, base_family = base_family) %+replace% \n",
    "        theme(\n",
    "            axis.line.x = element_line(size = .5),\n",
    "            axis.line.y = element_line(size = .5),\n",
    "            panel.background = element_rect(fill = \"white\", colour = NA), \n",
    "            panel.border = element_rect(fill = NA, color = \"black\", size = .5), \n",
    "            panel.grid.major = element_blank(), \n",
    "            panel.grid.minor = element_blank(), \n",
    "            strip.background = element_rect(fill = \"grey85\", \n",
    "                colour = \"grey20\"), \n",
    "            legend.key = element_rect(fill = \"white\", \n",
    "                colour = NA), complete = TRUE)\n",
    "    }"
   ]
  },
  {
   "cell_type": "markdown",
   "metadata": {},
   "source": [
    "Controls in Experiment 11\n",
    "\n",
    "Plate 1\n",
    "* SampleID Sample\n",
    "* 89_125-BK\t125-BK\n",
    "* 90_29-BK\t29-BK\n",
    "* 91_77-BK\t77-BK\n",
    "* 92_PCRblank\tPCRblank\n",
    "* 93_PCRblank\tPCRblank\n",
    "\n",
    "PCR plate 2\n",
    "* 187_139-BK; 139-BK\n",
    "* 188_155-BK; 155-BK\n",
    "* 189_187-BK; 187-BK\n",
    "* 192_MockComm; MockComm\n",
    "\n",
    "\n",
    "\n"
   ]
  },
  {
   "cell_type": "code",
   "execution_count": 4,
   "metadata": {},
   "outputs": [
    {
     "data": {
      "text/plain": [
       "phyloseq-class experiment-level object\n",
       "otu_table()   OTU Table:         [ 11 taxa and 1 samples ]\n",
       "sample_data() Sample Data:       [ 1 samples by 11 sample variables ]\n",
       "tax_table()   Taxonomy Table:    [ 11 taxa by 6 taxonomic ranks ]\n",
       "phy_tree()    Phylogenetic Tree: [ 11 tips and 10 internal nodes ]"
      ]
     },
     "metadata": {},
     "output_type": "display_data"
    }
   ],
   "source": [
    "MC = subset_samples(ps, Sample == \"MockComm\")\n",
    "MC = filter_taxa(MC, function(x) sum(x > 0) > 0, TRUE)\n",
    "MC"
   ]
  },
  {
   "cell_type": "code",
   "execution_count": 5,
   "metadata": {
    "scrolled": true
   },
   "outputs": [
    {
     "name": "stderr",
     "output_type": "stream",
     "text": [
      "Warning message in psmelt(.):\n",
      "“The sample variables: \n",
      "Sample\n",
      " have been renamed to: \n",
      "sample_Sample\n",
      "to avoid conflicts with special phyloseq plot attribute names.”"
     ]
    },
    {
     "data": {
      "text/html": [
       "<table>\n",
       "<thead><tr><th></th><th scope=col>OTU</th><th scope=col>Sample</th><th scope=col>Abundance</th><th scope=col>sample_Sample</th><th scope=col>Experiment</th><th scope=col>Plant</th><th scope=col>Fungus</th><th scope=col>Soil</th><th scope=col>SampleType</th><th scope=col>Treatment</th><th scope=col>TimePoint</th><th scope=col>DAI</th><th scope=col>Rep</th><th scope=col>Concentration_ng.ul</th><th scope=col>Kingdom</th><th scope=col>Phylum</th><th scope=col>Class</th><th scope=col>Order</th><th scope=col>Family</th><th scope=col>Genus</th></tr></thead>\n",
       "<tbody>\n",
       "\t<tr><th scope=row>2</th><td>ASV120               </td><td>192_MockComm         </td><td>7702                 </td><td>MockComm             </td><td>3                    </td><td>MockCom              </td><td>                     </td><td>                     </td><td>MK                   </td><td>                     </td><td>NA                   </td><td>NA                   </td><td>NA                   </td><td>NA                   </td><td>Bacteria             </td><td>Bacteroidetes        </td><td>Bacteroidia          </td><td>Cytophagales         </td><td>Spirosomaceae        </td><td>Dyadobacter          </td></tr>\n",
       "\t<tr><th scope=row>5</th><td>ASV183               </td><td>192_MockComm         </td><td>7426                 </td><td>MockComm             </td><td>3                    </td><td>MockCom              </td><td>                     </td><td>                     </td><td>MK                   </td><td>                     </td><td>NA                   </td><td>NA                   </td><td>NA                   </td><td>NA                   </td><td>Bacteria             </td><td>Deinococcus-Thermus  </td><td>Deinococci           </td><td>Deinococcales        </td><td>Deinococcaceae       </td><td>Deinococcus          </td></tr>\n",
       "\t<tr><th scope=row>4</th><td>ASV173               </td><td>192_MockComm         </td><td>7391                 </td><td>MockComm             </td><td>3                    </td><td>MockCom              </td><td>                     </td><td>                     </td><td>MK                   </td><td>                     </td><td>NA                   </td><td>NA                   </td><td>NA                   </td><td>NA                   </td><td>Bacteria             </td><td>Proteobacteria       </td><td>Alphaproteobacteria  </td><td>Sphingomonadales     </td><td>Sphingomonadaceae    </td><td>Sphingomonas         </td></tr>\n",
       "\t<tr><th scope=row>6</th><td>ASV231               </td><td>192_MockComm         </td><td>7196                 </td><td>MockComm             </td><td>3                    </td><td>MockCom              </td><td>                     </td><td>                     </td><td>MK                   </td><td>                     </td><td>NA                   </td><td>NA                   </td><td>NA                   </td><td>NA                   </td><td>Bacteria             </td><td>Actinobacteria       </td><td>Actinobacteria       </td><td>Propionibacteriales  </td><td>Nocardioidaceae      </td><td>Aeromicrobium        </td></tr>\n",
       "\t<tr><th scope=row>7</th><td>ASV242               </td><td>192_MockComm         </td><td>6630                 </td><td>MockComm             </td><td>3                    </td><td>MockCom              </td><td>                     </td><td>                     </td><td>MK                   </td><td>                     </td><td>NA                   </td><td>NA                   </td><td>NA                   </td><td>NA                   </td><td>Bacteria             </td><td>Firmicutes           </td><td>Bacilli              </td><td>Bacillales           </td><td>Paenibacillaceae     </td><td>Paenibacillus        </td></tr>\n",
       "\t<tr><th scope=row>11</th><td>ASV93                </td><td>192_MockComm         </td><td>6560                 </td><td>MockComm             </td><td>3                    </td><td>MockCom              </td><td>                     </td><td>                     </td><td>MK                   </td><td>                     </td><td>NA                   </td><td>NA                   </td><td>NA                   </td><td>NA                   </td><td>Bacteria             </td><td>Proteobacteria       </td><td>Gammaproteobacteria  </td><td>Xanthomonadales      </td><td>Xanthomonadaceae     </td><td>Lysobacter           </td></tr>\n",
       "\t<tr><th scope=row>8</th><td>ASV275               </td><td>192_MockComm         </td><td>5929                 </td><td>MockComm             </td><td>3                    </td><td>MockCom              </td><td>                     </td><td>                     </td><td>MK                   </td><td>                     </td><td>NA                   </td><td>NA                   </td><td>NA                   </td><td>NA                   </td><td>Bacteria             </td><td>Firmicutes           </td><td>Bacilli              </td><td>Bacillales           </td><td>Bacillaceae          </td><td>Bacillus             </td></tr>\n",
       "\t<tr><th scope=row>3</th><td>ASV131               </td><td>192_MockComm         </td><td>5561                 </td><td>MockComm             </td><td>3                    </td><td>MockCom              </td><td>                     </td><td>                     </td><td>MK                   </td><td>                     </td><td>NA                   </td><td>NA                   </td><td>NA                   </td><td>NA                   </td><td>Bacteria             </td><td>Proteobacteria       </td><td>Gammaproteobacteria  </td><td>Pseudomonadales      </td><td>Pseudomonadaceae     </td><td>Pseudomonas          </td></tr>\n",
       "\t<tr><th scope=row>9</th><td>ASV34                </td><td>192_MockComm         </td><td>5547                 </td><td>MockComm             </td><td>3                    </td><td>MockCom              </td><td>                     </td><td>                     </td><td>MK                   </td><td>                     </td><td>NA                   </td><td>NA                   </td><td>NA                   </td><td>NA                   </td><td>Bacteria             </td><td>Proteobacteria       </td><td>Gammaproteobacteria  </td><td>Betaproteobacteriales</td><td>Burkholderiaceae     </td><td>Delftia              </td></tr>\n",
       "\t<tr><th scope=row>10</th><td>ASV7688              </td><td>192_MockComm         </td><td>   8                 </td><td>MockComm             </td><td>3                    </td><td>MockCom              </td><td>                     </td><td>                     </td><td>MK                   </td><td>                     </td><td>NA                   </td><td>NA                   </td><td>NA                   </td><td>NA                   </td><td>Bacteria             </td><td>Actinobacteria       </td><td>Acidimicrobiia       </td><td>Microtrichales       </td><td>NA                   </td><td>NA                   </td></tr>\n",
       "\t<tr><th scope=row>1</th><td>ASV1002              </td><td>192_MockComm         </td><td>   4                 </td><td>MockComm             </td><td>3                    </td><td>MockCom              </td><td>                     </td><td>                     </td><td>MK                   </td><td>                     </td><td>NA                   </td><td>NA                   </td><td>NA                   </td><td>NA                   </td><td>Bacteria             </td><td>Chloroflexi          </td><td>Chloroflexia         </td><td>Kallotenuales        </td><td>AKIW781              </td><td>NA                   </td></tr>\n",
       "</tbody>\n",
       "</table>\n"
      ],
      "text/latex": [
       "\\begin{tabular}{r|llllllllllllllllllll}\n",
       "  & OTU & Sample & Abundance & sample\\_Sample & Experiment & Plant & Fungus & Soil & SampleType & Treatment & TimePoint & DAI & Rep & Concentration\\_ng.ul & Kingdom & Phylum & Class & Order & Family & Genus\\\\\n",
       "\\hline\n",
       "\t2 & ASV120                & 192\\_MockComm        & 7702                  & MockComm              & 3                     & MockCom               &                       &                       & MK                    &                       & NA                    & NA                    & NA                    & NA                    & Bacteria              & Bacteroidetes         & Bacteroidia           & Cytophagales          & Spirosomaceae         & Dyadobacter          \\\\\n",
       "\t5 & ASV183                & 192\\_MockComm        & 7426                  & MockComm              & 3                     & MockCom               &                       &                       & MK                    &                       & NA                    & NA                    & NA                    & NA                    & Bacteria              & Deinococcus-Thermus   & Deinococci            & Deinococcales         & Deinococcaceae        & Deinococcus          \\\\\n",
       "\t4 & ASV173                & 192\\_MockComm        & 7391                  & MockComm              & 3                     & MockCom               &                       &                       & MK                    &                       & NA                    & NA                    & NA                    & NA                    & Bacteria              & Proteobacteria        & Alphaproteobacteria   & Sphingomonadales      & Sphingomonadaceae     & Sphingomonas         \\\\\n",
       "\t6 & ASV231                & 192\\_MockComm        & 7196                  & MockComm              & 3                     & MockCom               &                       &                       & MK                    &                       & NA                    & NA                    & NA                    & NA                    & Bacteria              & Actinobacteria        & Actinobacteria        & Propionibacteriales   & Nocardioidaceae       & Aeromicrobium        \\\\\n",
       "\t7 & ASV242                & 192\\_MockComm        & 6630                  & MockComm              & 3                     & MockCom               &                       &                       & MK                    &                       & NA                    & NA                    & NA                    & NA                    & Bacteria              & Firmicutes            & Bacilli               & Bacillales            & Paenibacillaceae      & Paenibacillus        \\\\\n",
       "\t11 & ASV93                 & 192\\_MockComm        & 6560                  & MockComm              & 3                     & MockCom               &                       &                       & MK                    &                       & NA                    & NA                    & NA                    & NA                    & Bacteria              & Proteobacteria        & Gammaproteobacteria   & Xanthomonadales       & Xanthomonadaceae      & Lysobacter           \\\\\n",
       "\t8 & ASV275                & 192\\_MockComm        & 5929                  & MockComm              & 3                     & MockCom               &                       &                       & MK                    &                       & NA                    & NA                    & NA                    & NA                    & Bacteria              & Firmicutes            & Bacilli               & Bacillales            & Bacillaceae           & Bacillus             \\\\\n",
       "\t3 & ASV131                & 192\\_MockComm        & 5561                  & MockComm              & 3                     & MockCom               &                       &                       & MK                    &                       & NA                    & NA                    & NA                    & NA                    & Bacteria              & Proteobacteria        & Gammaproteobacteria   & Pseudomonadales       & Pseudomonadaceae      & Pseudomonas          \\\\\n",
       "\t9 & ASV34                 & 192\\_MockComm        & 5547                  & MockComm              & 3                     & MockCom               &                       &                       & MK                    &                       & NA                    & NA                    & NA                    & NA                    & Bacteria              & Proteobacteria        & Gammaproteobacteria   & Betaproteobacteriales & Burkholderiaceae      & Delftia              \\\\\n",
       "\t10 & ASV7688               & 192\\_MockComm        &    8                  & MockComm              & 3                     & MockCom               &                       &                       & MK                    &                       & NA                    & NA                    & NA                    & NA                    & Bacteria              & Actinobacteria        & Acidimicrobiia        & Microtrichales        & NA                    & NA                   \\\\\n",
       "\t1 & ASV1002               & 192\\_MockComm        &    4                  & MockComm              & 3                     & MockCom               &                       &                       & MK                    &                       & NA                    & NA                    & NA                    & NA                    & Bacteria              & Chloroflexi           & Chloroflexia          & Kallotenuales         & AKIW781               & NA                   \\\\\n",
       "\\end{tabular}\n"
      ],
      "text/markdown": [
       "\n",
       "| <!--/--> | OTU | Sample | Abundance | sample_Sample | Experiment | Plant | Fungus | Soil | SampleType | Treatment | TimePoint | DAI | Rep | Concentration_ng.ul | Kingdom | Phylum | Class | Order | Family | Genus | \n",
       "|---|---|---|---|---|---|---|---|---|---|---|\n",
       "| 2 | ASV120                | 192_MockComm          | 7702                  | MockComm              | 3                     | MockCom               |                       |                       | MK                    |                       | NA                    | NA                    | NA                    | NA                    | Bacteria              | Bacteroidetes         | Bacteroidia           | Cytophagales          | Spirosomaceae         | Dyadobacter           | \n",
       "| 5 | ASV183                | 192_MockComm          | 7426                  | MockComm              | 3                     | MockCom               |                       |                       | MK                    |                       | NA                    | NA                    | NA                    | NA                    | Bacteria              | Deinococcus-Thermus   | Deinococci            | Deinococcales         | Deinococcaceae        | Deinococcus           | \n",
       "| 4 | ASV173                | 192_MockComm          | 7391                  | MockComm              | 3                     | MockCom               |                       |                       | MK                    |                       | NA                    | NA                    | NA                    | NA                    | Bacteria              | Proteobacteria        | Alphaproteobacteria   | Sphingomonadales      | Sphingomonadaceae     | Sphingomonas          | \n",
       "| 6 | ASV231                | 192_MockComm          | 7196                  | MockComm              | 3                     | MockCom               |                       |                       | MK                    |                       | NA                    | NA                    | NA                    | NA                    | Bacteria              | Actinobacteria        | Actinobacteria        | Propionibacteriales   | Nocardioidaceae       | Aeromicrobium         | \n",
       "| 7 | ASV242                | 192_MockComm          | 6630                  | MockComm              | 3                     | MockCom               |                       |                       | MK                    |                       | NA                    | NA                    | NA                    | NA                    | Bacteria              | Firmicutes            | Bacilli               | Bacillales            | Paenibacillaceae      | Paenibacillus         | \n",
       "| 11 | ASV93                 | 192_MockComm          | 6560                  | MockComm              | 3                     | MockCom               |                       |                       | MK                    |                       | NA                    | NA                    | NA                    | NA                    | Bacteria              | Proteobacteria        | Gammaproteobacteria   | Xanthomonadales       | Xanthomonadaceae      | Lysobacter            | \n",
       "| 8 | ASV275                | 192_MockComm          | 5929                  | MockComm              | 3                     | MockCom               |                       |                       | MK                    |                       | NA                    | NA                    | NA                    | NA                    | Bacteria              | Firmicutes            | Bacilli               | Bacillales            | Bacillaceae           | Bacillus              | \n",
       "| 3 | ASV131                | 192_MockComm          | 5561                  | MockComm              | 3                     | MockCom               |                       |                       | MK                    |                       | NA                    | NA                    | NA                    | NA                    | Bacteria              | Proteobacteria        | Gammaproteobacteria   | Pseudomonadales       | Pseudomonadaceae      | Pseudomonas           | \n",
       "| 9 | ASV34                 | 192_MockComm          | 5547                  | MockComm              | 3                     | MockCom               |                       |                       | MK                    |                       | NA                    | NA                    | NA                    | NA                    | Bacteria              | Proteobacteria        | Gammaproteobacteria   | Betaproteobacteriales | Burkholderiaceae      | Delftia               | \n",
       "| 10 | ASV7688               | 192_MockComm          |    8                  | MockComm              | 3                     | MockCom               |                       |                       | MK                    |                       | NA                    | NA                    | NA                    | NA                    | Bacteria              | Actinobacteria        | Acidimicrobiia        | Microtrichales        | NA                    | NA                    | \n",
       "| 1 | ASV1002               | 192_MockComm          |    4                  | MockComm              | 3                     | MockCom               |                       |                       | MK                    |                       | NA                    | NA                    | NA                    | NA                    | Bacteria              | Chloroflexi           | Chloroflexia          | Kallotenuales         | AKIW781               | NA                    | \n",
       "\n",
       "\n"
      ],
      "text/plain": [
       "   OTU     Sample       Abundance sample_Sample Experiment Plant   Fungus Soil\n",
       "2  ASV120  192_MockComm 7702      MockComm      3          MockCom            \n",
       "5  ASV183  192_MockComm 7426      MockComm      3          MockCom            \n",
       "4  ASV173  192_MockComm 7391      MockComm      3          MockCom            \n",
       "6  ASV231  192_MockComm 7196      MockComm      3          MockCom            \n",
       "7  ASV242  192_MockComm 6630      MockComm      3          MockCom            \n",
       "11 ASV93   192_MockComm 6560      MockComm      3          MockCom            \n",
       "8  ASV275  192_MockComm 5929      MockComm      3          MockCom            \n",
       "3  ASV131  192_MockComm 5561      MockComm      3          MockCom            \n",
       "9  ASV34   192_MockComm 5547      MockComm      3          MockCom            \n",
       "10 ASV7688 192_MockComm    8      MockComm      3          MockCom            \n",
       "1  ASV1002 192_MockComm    4      MockComm      3          MockCom            \n",
       "   SampleType Treatment TimePoint DAI Rep Concentration_ng.ul Kingdom \n",
       "2  MK                   NA        NA  NA  NA                  Bacteria\n",
       "5  MK                   NA        NA  NA  NA                  Bacteria\n",
       "4  MK                   NA        NA  NA  NA                  Bacteria\n",
       "6  MK                   NA        NA  NA  NA                  Bacteria\n",
       "7  MK                   NA        NA  NA  NA                  Bacteria\n",
       "11 MK                   NA        NA  NA  NA                  Bacteria\n",
       "8  MK                   NA        NA  NA  NA                  Bacteria\n",
       "3  MK                   NA        NA  NA  NA                  Bacteria\n",
       "9  MK                   NA        NA  NA  NA                  Bacteria\n",
       "10 MK                   NA        NA  NA  NA                  Bacteria\n",
       "1  MK                   NA        NA  NA  NA                  Bacteria\n",
       "   Phylum              Class               Order                \n",
       "2  Bacteroidetes       Bacteroidia         Cytophagales         \n",
       "5  Deinococcus-Thermus Deinococci          Deinococcales        \n",
       "4  Proteobacteria      Alphaproteobacteria Sphingomonadales     \n",
       "6  Actinobacteria      Actinobacteria      Propionibacteriales  \n",
       "7  Firmicutes          Bacilli             Bacillales           \n",
       "11 Proteobacteria      Gammaproteobacteria Xanthomonadales      \n",
       "8  Firmicutes          Bacilli             Bacillales           \n",
       "3  Proteobacteria      Gammaproteobacteria Pseudomonadales      \n",
       "9  Proteobacteria      Gammaproteobacteria Betaproteobacteriales\n",
       "10 Actinobacteria      Acidimicrobiia      Microtrichales       \n",
       "1  Chloroflexi         Chloroflexia        Kallotenuales        \n",
       "   Family            Genus        \n",
       "2  Spirosomaceae     Dyadobacter  \n",
       "5  Deinococcaceae    Deinococcus  \n",
       "4  Sphingomonadaceae Sphingomonas \n",
       "6  Nocardioidaceae   Aeromicrobium\n",
       "7  Paenibacillaceae  Paenibacillus\n",
       "11 Xanthomonadaceae  Lysobacter   \n",
       "8  Bacillaceae       Bacillus     \n",
       "3  Pseudomonadaceae  Pseudomonas  \n",
       "9  Burkholderiaceae  Delftia      \n",
       "10 NA                NA           \n",
       "1  AKIW781           NA           "
      ]
     },
     "metadata": {},
     "output_type": "display_data"
    }
   ],
   "source": [
    "MC %>% psmelt"
   ]
  },
  {
   "cell_type": "markdown",
   "metadata": {},
   "source": [
    "# Check PCR blanks"
   ]
  },
  {
   "cell_type": "code",
   "execution_count": 6,
   "metadata": {},
   "outputs": [
    {
     "data": {
      "text/plain": [
       "phyloseq-class experiment-level object\n",
       "otu_table()   OTU Table:         [ 39 taxa and 2 samples ]\n",
       "sample_data() Sample Data:       [ 2 samples by 11 sample variables ]\n",
       "tax_table()   Taxonomy Table:    [ 39 taxa by 6 taxonomic ranks ]\n",
       "phy_tree()    Phylogenetic Tree: [ 39 tips and 38 internal nodes ]"
      ]
     },
     "metadata": {},
     "output_type": "display_data"
    }
   ],
   "source": [
    "PB = subset_samples(ps, Sample == \"PCRblank\")\n",
    "PB = filter_taxa(PB, function(x) sum(x > 0) > 0, TRUE)\n",
    "PB"
   ]
  },
  {
   "cell_type": "code",
   "execution_count": 7,
   "metadata": {},
   "outputs": [
    {
     "data": {
      "text/html": [
       "<table>\n",
       "<thead><tr><th></th><th scope=col>92_PCRblank</th><th scope=col>93_PCRblank</th></tr></thead>\n",
       "<tbody>\n",
       "\t<tr><th scope=row>ASV941</th><td>  0</td><td>101</td></tr>\n",
       "\t<tr><th scope=row>ASV3323</th><td>  0</td><td> 92</td></tr>\n",
       "\t<tr><th scope=row>ASV818</th><td>  0</td><td> 66</td></tr>\n",
       "\t<tr><th scope=row>ASV747</th><td> 39</td><td>  0</td></tr>\n",
       "\t<tr><th scope=row>ASV4</th><td>  0</td><td> 67</td></tr>\n",
       "\t<tr><th scope=row>ASV11</th><td>  0</td><td> 55</td></tr>\n",
       "\t<tr><th scope=row>ASV4298</th><td>  0</td><td> 55</td></tr>\n",
       "\t<tr><th scope=row>ASV2</th><td>322</td><td>111</td></tr>\n",
       "\t<tr><th scope=row>ASV9233</th><td>  0</td><td> 89</td></tr>\n",
       "\t<tr><th scope=row>ASV560</th><td> 88</td><td>  0</td></tr>\n",
       "\t<tr><th scope=row>ASV3127</th><td> 42</td><td>  0</td></tr>\n",
       "\t<tr><th scope=row>ASV8458</th><td>  0</td><td> 82</td></tr>\n",
       "\t<tr><th scope=row>ASV312</th><td>312</td><td>  0</td></tr>\n",
       "\t<tr><th scope=row>ASV577</th><td>  0</td><td>451</td></tr>\n",
       "\t<tr><th scope=row>ASV1002</th><td>231</td><td> 82</td></tr>\n",
       "\t<tr><th scope=row>ASV575</th><td>  0</td><td> 91</td></tr>\n",
       "\t<tr><th scope=row>ASV2925</th><td>  7</td><td>  0</td></tr>\n",
       "\t<tr><th scope=row>ASV50</th><td>  0</td><td> 43</td></tr>\n",
       "\t<tr><th scope=row>ASV4034</th><td>  0</td><td> 92</td></tr>\n",
       "\t<tr><th scope=row>ASV5505</th><td> 22</td><td>  0</td></tr>\n",
       "\t<tr><th scope=row>ASV15178</th><td>  9</td><td>  0</td></tr>\n",
       "\t<tr><th scope=row>ASV4564</th><td> 20</td><td>  0</td></tr>\n",
       "\t<tr><th scope=row>ASV3312</th><td>  0</td><td>104</td></tr>\n",
       "\t<tr><th scope=row>ASV285</th><td> 23</td><td>  0</td></tr>\n",
       "\t<tr><th scope=row>ASV5207</th><td>  0</td><td> 81</td></tr>\n",
       "\t<tr><th scope=row>ASV524</th><td>  0</td><td>117</td></tr>\n",
       "\t<tr><th scope=row>ASV39</th><td>159</td><td>102</td></tr>\n",
       "\t<tr><th scope=row>ASV91</th><td>  0</td><td>  8</td></tr>\n",
       "\t<tr><th scope=row>ASV143</th><td> 99</td><td>101</td></tr>\n",
       "\t<tr><th scope=row>ASV288</th><td>  0</td><td> 40</td></tr>\n",
       "\t<tr><th scope=row>ASV57</th><td>  0</td><td>  2</td></tr>\n",
       "\t<tr><th scope=row>ASV526</th><td>  0</td><td> 84</td></tr>\n",
       "\t<tr><th scope=row>ASV5699</th><td>  0</td><td> 11</td></tr>\n",
       "\t<tr><th scope=row>ASV3210</th><td>  0</td><td> 60</td></tr>\n",
       "\t<tr><th scope=row>ASV5519</th><td> 77</td><td>  0</td></tr>\n",
       "\t<tr><th scope=row>ASV4200</th><td>  0</td><td> 77</td></tr>\n",
       "\t<tr><th scope=row>ASV5554</th><td>134</td><td>  0</td></tr>\n",
       "\t<tr><th scope=row>ASV3679</th><td>175</td><td>  0</td></tr>\n",
       "\t<tr><th scope=row>ASV5009</th><td>100</td><td>  0</td></tr>\n",
       "</tbody>\n",
       "</table>\n"
      ],
      "text/latex": [
       "\\begin{tabular}{r|ll}\n",
       "  & 92\\_PCRblank & 93\\_PCRblank\\\\\n",
       "\\hline\n",
       "\tASV941 &   0 & 101\\\\\n",
       "\tASV3323 &   0 &  92\\\\\n",
       "\tASV818 &   0 &  66\\\\\n",
       "\tASV747 &  39 &   0\\\\\n",
       "\tASV4 &   0 &  67\\\\\n",
       "\tASV11 &   0 &  55\\\\\n",
       "\tASV4298 &   0 &  55\\\\\n",
       "\tASV2 & 322 & 111\\\\\n",
       "\tASV9233 &   0 &  89\\\\\n",
       "\tASV560 &  88 &   0\\\\\n",
       "\tASV3127 &  42 &   0\\\\\n",
       "\tASV8458 &   0 &  82\\\\\n",
       "\tASV312 & 312 &   0\\\\\n",
       "\tASV577 &   0 & 451\\\\\n",
       "\tASV1002 & 231 &  82\\\\\n",
       "\tASV575 &   0 &  91\\\\\n",
       "\tASV2925 &   7 &   0\\\\\n",
       "\tASV50 &   0 &  43\\\\\n",
       "\tASV4034 &   0 &  92\\\\\n",
       "\tASV5505 &  22 &   0\\\\\n",
       "\tASV15178 &   9 &   0\\\\\n",
       "\tASV4564 &  20 &   0\\\\\n",
       "\tASV3312 &   0 & 104\\\\\n",
       "\tASV285 &  23 &   0\\\\\n",
       "\tASV5207 &   0 &  81\\\\\n",
       "\tASV524 &   0 & 117\\\\\n",
       "\tASV39 & 159 & 102\\\\\n",
       "\tASV91 &   0 &   8\\\\\n",
       "\tASV143 &  99 & 101\\\\\n",
       "\tASV288 &   0 &  40\\\\\n",
       "\tASV57 &   0 &   2\\\\\n",
       "\tASV526 &   0 &  84\\\\\n",
       "\tASV5699 &   0 &  11\\\\\n",
       "\tASV3210 &   0 &  60\\\\\n",
       "\tASV5519 &  77 &   0\\\\\n",
       "\tASV4200 &   0 &  77\\\\\n",
       "\tASV5554 & 134 &   0\\\\\n",
       "\tASV3679 & 175 &   0\\\\\n",
       "\tASV5009 & 100 &   0\\\\\n",
       "\\end{tabular}\n"
      ],
      "text/markdown": [
       "\n",
       "| <!--/--> | 92_PCRblank | 93_PCRblank | \n",
       "|---|---|---|---|---|---|---|---|---|---|---|---|---|---|---|---|---|---|---|---|---|---|---|---|---|---|---|---|---|---|---|---|---|---|---|---|---|---|---|\n",
       "| ASV941 |   0 | 101 | \n",
       "| ASV3323 |   0 |  92 | \n",
       "| ASV818 |   0 |  66 | \n",
       "| ASV747 |  39 |   0 | \n",
       "| ASV4 |   0 |  67 | \n",
       "| ASV11 |   0 |  55 | \n",
       "| ASV4298 |   0 |  55 | \n",
       "| ASV2 | 322 | 111 | \n",
       "| ASV9233 |   0 |  89 | \n",
       "| ASV560 |  88 |   0 | \n",
       "| ASV3127 |  42 |   0 | \n",
       "| ASV8458 |   0 |  82 | \n",
       "| ASV312 | 312 |   0 | \n",
       "| ASV577 |   0 | 451 | \n",
       "| ASV1002 | 231 |  82 | \n",
       "| ASV575 |   0 |  91 | \n",
       "| ASV2925 |   7 |   0 | \n",
       "| ASV50 |   0 |  43 | \n",
       "| ASV4034 |   0 |  92 | \n",
       "| ASV5505 |  22 |   0 | \n",
       "| ASV15178 |   9 |   0 | \n",
       "| ASV4564 |  20 |   0 | \n",
       "| ASV3312 |   0 | 104 | \n",
       "| ASV285 |  23 |   0 | \n",
       "| ASV5207 |   0 |  81 | \n",
       "| ASV524 |   0 | 117 | \n",
       "| ASV39 | 159 | 102 | \n",
       "| ASV91 |   0 |   8 | \n",
       "| ASV143 |  99 | 101 | \n",
       "| ASV288 |   0 |  40 | \n",
       "| ASV57 |   0 |   2 | \n",
       "| ASV526 |   0 |  84 | \n",
       "| ASV5699 |   0 |  11 | \n",
       "| ASV3210 |   0 |  60 | \n",
       "| ASV5519 |  77 |   0 | \n",
       "| ASV4200 |   0 |  77 | \n",
       "| ASV5554 | 134 |   0 | \n",
       "| ASV3679 | 175 |   0 | \n",
       "| ASV5009 | 100 |   0 | \n",
       "\n",
       "\n"
      ],
      "text/plain": [
       "         92_PCRblank 93_PCRblank\n",
       "ASV941     0         101        \n",
       "ASV3323    0          92        \n",
       "ASV818     0          66        \n",
       "ASV747    39           0        \n",
       "ASV4       0          67        \n",
       "ASV11      0          55        \n",
       "ASV4298    0          55        \n",
       "ASV2     322         111        \n",
       "ASV9233    0          89        \n",
       "ASV560    88           0        \n",
       "ASV3127   42           0        \n",
       "ASV8458    0          82        \n",
       "ASV312   312           0        \n",
       "ASV577     0         451        \n",
       "ASV1002  231          82        \n",
       "ASV575     0          91        \n",
       "ASV2925    7           0        \n",
       "ASV50      0          43        \n",
       "ASV4034    0          92        \n",
       "ASV5505   22           0        \n",
       "ASV15178   9           0        \n",
       "ASV4564   20           0        \n",
       "ASV3312    0         104        \n",
       "ASV285    23           0        \n",
       "ASV5207    0          81        \n",
       "ASV524     0         117        \n",
       "ASV39    159         102        \n",
       "ASV91      0           8        \n",
       "ASV143    99         101        \n",
       "ASV288     0          40        \n",
       "ASV57      0           2        \n",
       "ASV526     0          84        \n",
       "ASV5699    0          11        \n",
       "ASV3210    0          60        \n",
       "ASV5519   77           0        \n",
       "ASV4200    0          77        \n",
       "ASV5554  134           0        \n",
       "ASV3679  175           0        \n",
       "ASV5009  100           0        "
      ]
     },
     "metadata": {},
     "output_type": "display_data"
    }
   ],
   "source": [
    "otu_table(PB) %>% t()"
   ]
  },
  {
   "cell_type": "code",
   "execution_count": 8,
   "metadata": {},
   "outputs": [
    {
     "data": {
      "text/html": [
       "<ol class=list-inline>\n",
       "\t<li>'ASV941'</li>\n",
       "\t<li>'ASV3323'</li>\n",
       "\t<li>'ASV818'</li>\n",
       "\t<li>'ASV747'</li>\n",
       "\t<li>'ASV4'</li>\n",
       "\t<li>'ASV11'</li>\n",
       "\t<li>'ASV4298'</li>\n",
       "\t<li>'ASV2'</li>\n",
       "\t<li>'ASV9233'</li>\n",
       "\t<li>'ASV560'</li>\n",
       "\t<li>'ASV3127'</li>\n",
       "\t<li>'ASV8458'</li>\n",
       "\t<li>'ASV312'</li>\n",
       "\t<li>'ASV577'</li>\n",
       "\t<li>'ASV1002'</li>\n",
       "\t<li>'ASV575'</li>\n",
       "\t<li>'ASV2925'</li>\n",
       "\t<li>'ASV50'</li>\n",
       "\t<li>'ASV4034'</li>\n",
       "\t<li>'ASV5505'</li>\n",
       "\t<li>'ASV15178'</li>\n",
       "\t<li>'ASV4564'</li>\n",
       "\t<li>'ASV3312'</li>\n",
       "\t<li>'ASV285'</li>\n",
       "\t<li>'ASV5207'</li>\n",
       "\t<li>'ASV524'</li>\n",
       "\t<li>'ASV39'</li>\n",
       "\t<li>'ASV91'</li>\n",
       "\t<li>'ASV143'</li>\n",
       "\t<li>'ASV288'</li>\n",
       "\t<li>'ASV57'</li>\n",
       "\t<li>'ASV526'</li>\n",
       "\t<li>'ASV5699'</li>\n",
       "\t<li>'ASV3210'</li>\n",
       "\t<li>'ASV5519'</li>\n",
       "\t<li>'ASV4200'</li>\n",
       "\t<li>'ASV5554'</li>\n",
       "\t<li>'ASV3679'</li>\n",
       "\t<li>'ASV5009'</li>\n",
       "</ol>\n"
      ],
      "text/latex": [
       "\\begin{enumerate*}\n",
       "\\item 'ASV941'\n",
       "\\item 'ASV3323'\n",
       "\\item 'ASV818'\n",
       "\\item 'ASV747'\n",
       "\\item 'ASV4'\n",
       "\\item 'ASV11'\n",
       "\\item 'ASV4298'\n",
       "\\item 'ASV2'\n",
       "\\item 'ASV9233'\n",
       "\\item 'ASV560'\n",
       "\\item 'ASV3127'\n",
       "\\item 'ASV8458'\n",
       "\\item 'ASV312'\n",
       "\\item 'ASV577'\n",
       "\\item 'ASV1002'\n",
       "\\item 'ASV575'\n",
       "\\item 'ASV2925'\n",
       "\\item 'ASV50'\n",
       "\\item 'ASV4034'\n",
       "\\item 'ASV5505'\n",
       "\\item 'ASV15178'\n",
       "\\item 'ASV4564'\n",
       "\\item 'ASV3312'\n",
       "\\item 'ASV285'\n",
       "\\item 'ASV5207'\n",
       "\\item 'ASV524'\n",
       "\\item 'ASV39'\n",
       "\\item 'ASV91'\n",
       "\\item 'ASV143'\n",
       "\\item 'ASV288'\n",
       "\\item 'ASV57'\n",
       "\\item 'ASV526'\n",
       "\\item 'ASV5699'\n",
       "\\item 'ASV3210'\n",
       "\\item 'ASV5519'\n",
       "\\item 'ASV4200'\n",
       "\\item 'ASV5554'\n",
       "\\item 'ASV3679'\n",
       "\\item 'ASV5009'\n",
       "\\end{enumerate*}\n"
      ],
      "text/markdown": [
       "1. 'ASV941'\n",
       "2. 'ASV3323'\n",
       "3. 'ASV818'\n",
       "4. 'ASV747'\n",
       "5. 'ASV4'\n",
       "6. 'ASV11'\n",
       "7. 'ASV4298'\n",
       "8. 'ASV2'\n",
       "9. 'ASV9233'\n",
       "10. 'ASV560'\n",
       "11. 'ASV3127'\n",
       "12. 'ASV8458'\n",
       "13. 'ASV312'\n",
       "14. 'ASV577'\n",
       "15. 'ASV1002'\n",
       "16. 'ASV575'\n",
       "17. 'ASV2925'\n",
       "18. 'ASV50'\n",
       "19. 'ASV4034'\n",
       "20. 'ASV5505'\n",
       "21. 'ASV15178'\n",
       "22. 'ASV4564'\n",
       "23. 'ASV3312'\n",
       "24. 'ASV285'\n",
       "25. 'ASV5207'\n",
       "26. 'ASV524'\n",
       "27. 'ASV39'\n",
       "28. 'ASV91'\n",
       "29. 'ASV143'\n",
       "30. 'ASV288'\n",
       "31. 'ASV57'\n",
       "32. 'ASV526'\n",
       "33. 'ASV5699'\n",
       "34. 'ASV3210'\n",
       "35. 'ASV5519'\n",
       "36. 'ASV4200'\n",
       "37. 'ASV5554'\n",
       "38. 'ASV3679'\n",
       "39. 'ASV5009'\n",
       "\n",
       "\n"
      ],
      "text/plain": [
       " [1] \"ASV941\"   \"ASV3323\"  \"ASV818\"   \"ASV747\"   \"ASV4\"     \"ASV11\"   \n",
       " [7] \"ASV4298\"  \"ASV2\"     \"ASV9233\"  \"ASV560\"   \"ASV3127\"  \"ASV8458\" \n",
       "[13] \"ASV312\"   \"ASV577\"   \"ASV1002\"  \"ASV575\"   \"ASV2925\"  \"ASV50\"   \n",
       "[19] \"ASV4034\"  \"ASV5505\"  \"ASV15178\" \"ASV4564\"  \"ASV3312\"  \"ASV285\"  \n",
       "[25] \"ASV5207\"  \"ASV524\"   \"ASV39\"    \"ASV91\"    \"ASV143\"   \"ASV288\"  \n",
       "[31] \"ASV57\"    \"ASV526\"   \"ASV5699\"  \"ASV3210\"  \"ASV5519\"  \"ASV4200\" \n",
       "[37] \"ASV5554\"  \"ASV3679\"  \"ASV5009\" "
      ]
     },
     "metadata": {},
     "output_type": "display_data"
    }
   ],
   "source": [
    "PBlist = taxa_names(PB)\n",
    "PBlist"
   ]
  },
  {
   "cell_type": "code",
   "execution_count": 113,
   "metadata": {},
   "outputs": [
    {
     "data": {
      "text/html": [
       "<strong>png:</strong> 2"
      ],
      "text/latex": [
       "\\textbf{png:} 2"
      ],
      "text/markdown": [
       "**png:** 2"
      ],
      "text/plain": [
       "png \n",
       "  2 "
      ]
     },
     "metadata": {},
     "output_type": "display_data"
    }
   ],
   "source": [
    "pdf('~/Hyphosphere/Exp11/PB_ContaminantCheck.pdf')    \n",
    "\n",
    "for(cTax in PBlist){\n",
    "    \n",
    "    plot = filter(ps.m, OTU == cTax) %>%\n",
    "    ggplot(., aes(x=interaction(Treatment,Rep), y= Abundance)) +\n",
    "    geom_point()+\n",
    "    facet_grid(Soil~SampleType, scales = 'free_x')+\n",
    "    ggtitle(as.character(cTax))\n",
    "    \n",
    "    print(plot)\n",
    "    \n",
    "    }\n",
    "dev.off()"
   ]
  },
  {
   "cell_type": "markdown",
   "metadata": {},
   "source": [
    "* ASV2 is MRE, not contamination\n",
    "* ASV 1002 is not correlated with DNA extract/biomass samples\n",
    "*ASV 39 is possibly a contaminant, but not clear leave for now\n",
    "ASV 143 possible contaminant, but not perfect correlation with biomass\n"
   ]
  },
  {
   "cell_type": "code",
   "execution_count": 127,
   "metadata": {},
   "outputs": [
    {
     "data": {
      "text/html": [
       "<table>\n",
       "<thead><tr><th></th><th scope=col>Kingdom</th><th scope=col>Phylum</th><th scope=col>Class</th><th scope=col>Order</th><th scope=col>Family</th><th scope=col>Genus</th></tr></thead>\n",
       "<tbody>\n",
       "\t<tr><th scope=row>ASV143</th><td>Bacteria             </td><td>Proteobacteria       </td><td>Gammaproteobacteria  </td><td>Betaproteobacteriales</td><td>Burkholderiaceae     </td><td>NA                   </td></tr>\n",
       "</tbody>\n",
       "</table>\n"
      ],
      "text/latex": [
       "\\begin{tabular}{r|llllll}\n",
       "  & Kingdom & Phylum & Class & Order & Family & Genus\\\\\n",
       "\\hline\n",
       "\tASV143 & Bacteria              & Proteobacteria        & Gammaproteobacteria   & Betaproteobacteriales & Burkholderiaceae      & NA                   \\\\\n",
       "\\end{tabular}\n"
      ],
      "text/markdown": [
       "\n",
       "| <!--/--> | Kingdom | Phylum | Class | Order | Family | Genus | \n",
       "|---|\n",
       "| ASV143 | Bacteria              | Proteobacteria        | Gammaproteobacteria   | Betaproteobacteriales | Burkholderiaceae      | NA                    | \n",
       "\n",
       "\n"
      ],
      "text/plain": [
       "       Kingdom  Phylum         Class               Order                \n",
       "ASV143 Bacteria Proteobacteria Gammaproteobacteria Betaproteobacteriales\n",
       "       Family           Genus\n",
       "ASV143 Burkholderiaceae NA   "
      ]
     },
     "metadata": {},
     "output_type": "display_data"
    }
   ],
   "source": [
    "tax_table(ps.norm)[\"ASV143\",]"
   ]
  },
  {
   "cell_type": "code",
   "execution_count": 130,
   "metadata": {},
   "outputs": [
    {
     "name": "stderr",
     "output_type": "stream",
     "text": [
      "Warning message in prune_taxa(taxa, phy_tree(x)):\n",
      "“prune_taxa attempted to reduce tree to 1 or fewer tips.\n",
      " tree replaced with NULL.”Warning message in psmelt(.):\n",
      "“The sample variables: \n",
      "Sample\n",
      " have been renamed to: \n",
      "sample_Sample\n",
      "to avoid conflicts with special phyloseq plot attribute names.”"
     ]
    },
    {
     "data": {
      "text/html": [
       "<table>\n",
       "<thead><tr><th scope=col>SampleType</th><th scope=col>Soil</th><th scope=col>n</th><th scope=col>mAbund</th></tr></thead>\n",
       "<tbody>\n",
       "\t<tr><td>PB          </td><td>            </td><td> 2          </td><td>4.893287e-02</td></tr>\n",
       "\t<tr><td>CH          </td><td>Florence    </td><td> 8          </td><td>2.232233e-02</td></tr>\n",
       "\t<tr><td>EB          </td><td>            </td><td> 6          </td><td>6.137548e-03</td></tr>\n",
       "\t<tr><td>RH          </td><td>Florence    </td><td> 4          </td><td>6.012768e-03</td></tr>\n",
       "\t<tr><td>RS          </td><td>Florence    </td><td> 5          </td><td>1.910522e-03</td></tr>\n",
       "\t<tr><td>RS          </td><td>            </td><td> 1          </td><td>1.875938e-03</td></tr>\n",
       "\t<tr><td>CS          </td><td>Florence    </td><td> 8          </td><td>1.670561e-03</td></tr>\n",
       "\t<tr><td>BS          </td><td>Florence    </td><td>16          </td><td>1.283781e-03</td></tr>\n",
       "\t<tr><td>BH          </td><td>Florence    </td><td>16          </td><td>1.255479e-03</td></tr>\n",
       "\t<tr><td>RS          </td><td>Lansing     </td><td> 5          </td><td>7.351162e-04</td></tr>\n",
       "\t<tr><td>BP          </td><td>Florence    </td><td> 8          </td><td>5.743906e-04</td></tr>\n",
       "\t<tr><td>BP          </td><td>Pendelton   </td><td> 4          </td><td>5.723286e-04</td></tr>\n",
       "\t<tr><td>CS          </td><td>Pendelton   </td><td> 4          </td><td>5.170316e-04</td></tr>\n",
       "\t<tr><td>CH          </td><td>Pendelton   </td><td> 5          </td><td>4.392247e-04</td></tr>\n",
       "\t<tr><td>CH          </td><td>Lansing     </td><td>16          </td><td>4.228023e-04</td></tr>\n",
       "\t<tr><td>BH          </td><td>Pendelton   </td><td> 4          </td><td>3.777263e-04</td></tr>\n",
       "\t<tr><td>RH          </td><td>Lansing     </td><td> 8          </td><td>1.508175e-04</td></tr>\n",
       "\t<tr><td>CS          </td><td>Lansing     </td><td>16          </td><td>1.178100e-04</td></tr>\n",
       "\t<tr><td>BH          </td><td>Lansing     </td><td>17          </td><td>9.030324e-05</td></tr>\n",
       "\t<tr><td>BP          </td><td>Lansing     </td><td> 8          </td><td>0.000000e+00</td></tr>\n",
       "\t<tr><td>BS          </td><td>Lansing     </td><td>17          </td><td>0.000000e+00</td></tr>\n",
       "\t<tr><td>BS          </td><td>Pendelton   </td><td> 5          </td><td>0.000000e+00</td></tr>\n",
       "\t<tr><td>MK          </td><td>            </td><td> 1          </td><td>0.000000e+00</td></tr>\n",
       "\t<tr><td>RH          </td><td>Pendelton   </td><td> 4          </td><td>0.000000e+00</td></tr>\n",
       "\t<tr><td>RS          </td><td>Pendelton   </td><td> 4          </td><td>0.000000e+00</td></tr>\n",
       "</tbody>\n",
       "</table>\n"
      ],
      "text/latex": [
       "\\begin{tabular}{r|llll}\n",
       " SampleType & Soil & n & mAbund\\\\\n",
       "\\hline\n",
       "\t PB           &              &  2           & 4.893287e-02\\\\\n",
       "\t CH           & Florence     &  8           & 2.232233e-02\\\\\n",
       "\t EB           &              &  6           & 6.137548e-03\\\\\n",
       "\t RH           & Florence     &  4           & 6.012768e-03\\\\\n",
       "\t RS           & Florence     &  5           & 1.910522e-03\\\\\n",
       "\t RS           &              &  1           & 1.875938e-03\\\\\n",
       "\t CS           & Florence     &  8           & 1.670561e-03\\\\\n",
       "\t BS           & Florence     & 16           & 1.283781e-03\\\\\n",
       "\t BH           & Florence     & 16           & 1.255479e-03\\\\\n",
       "\t RS           & Lansing      &  5           & 7.351162e-04\\\\\n",
       "\t BP           & Florence     &  8           & 5.743906e-04\\\\\n",
       "\t BP           & Pendelton    &  4           & 5.723286e-04\\\\\n",
       "\t CS           & Pendelton    &  4           & 5.170316e-04\\\\\n",
       "\t CH           & Pendelton    &  5           & 4.392247e-04\\\\\n",
       "\t CH           & Lansing      & 16           & 4.228023e-04\\\\\n",
       "\t BH           & Pendelton    &  4           & 3.777263e-04\\\\\n",
       "\t RH           & Lansing      &  8           & 1.508175e-04\\\\\n",
       "\t CS           & Lansing      & 16           & 1.178100e-04\\\\\n",
       "\t BH           & Lansing      & 17           & 9.030324e-05\\\\\n",
       "\t BP           & Lansing      &  8           & 0.000000e+00\\\\\n",
       "\t BS           & Lansing      & 17           & 0.000000e+00\\\\\n",
       "\t BS           & Pendelton    &  5           & 0.000000e+00\\\\\n",
       "\t MK           &              &  1           & 0.000000e+00\\\\\n",
       "\t RH           & Pendelton    &  4           & 0.000000e+00\\\\\n",
       "\t RS           & Pendelton    &  4           & 0.000000e+00\\\\\n",
       "\\end{tabular}\n"
      ],
      "text/markdown": [
       "\n",
       "SampleType | Soil | n | mAbund | \n",
       "|---|---|---|---|---|---|---|---|---|---|---|---|---|---|---|---|---|---|---|---|---|---|---|---|---|\n",
       "| PB           |              |  2           | 4.893287e-02 | \n",
       "| CH           | Florence     |  8           | 2.232233e-02 | \n",
       "| EB           |              |  6           | 6.137548e-03 | \n",
       "| RH           | Florence     |  4           | 6.012768e-03 | \n",
       "| RS           | Florence     |  5           | 1.910522e-03 | \n",
       "| RS           |              |  1           | 1.875938e-03 | \n",
       "| CS           | Florence     |  8           | 1.670561e-03 | \n",
       "| BS           | Florence     | 16           | 1.283781e-03 | \n",
       "| BH           | Florence     | 16           | 1.255479e-03 | \n",
       "| RS           | Lansing      |  5           | 7.351162e-04 | \n",
       "| BP           | Florence     |  8           | 5.743906e-04 | \n",
       "| BP           | Pendelton    |  4           | 5.723286e-04 | \n",
       "| CS           | Pendelton    |  4           | 5.170316e-04 | \n",
       "| CH           | Pendelton    |  5           | 4.392247e-04 | \n",
       "| CH           | Lansing      | 16           | 4.228023e-04 | \n",
       "| BH           | Pendelton    |  4           | 3.777263e-04 | \n",
       "| RH           | Lansing      |  8           | 1.508175e-04 | \n",
       "| CS           | Lansing      | 16           | 1.178100e-04 | \n",
       "| BH           | Lansing      | 17           | 9.030324e-05 | \n",
       "| BP           | Lansing      |  8           | 0.000000e+00 | \n",
       "| BS           | Lansing      | 17           | 0.000000e+00 | \n",
       "| BS           | Pendelton    |  5           | 0.000000e+00 | \n",
       "| MK           |              |  1           | 0.000000e+00 | \n",
       "| RH           | Pendelton    |  4           | 0.000000e+00 | \n",
       "| RS           | Pendelton    |  4           | 0.000000e+00 | \n",
       "\n",
       "\n"
      ],
      "text/plain": [
       "   SampleType Soil      n  mAbund      \n",
       "1  PB                    2 4.893287e-02\n",
       "2  CH         Florence   8 2.232233e-02\n",
       "3  EB                    6 6.137548e-03\n",
       "4  RH         Florence   4 6.012768e-03\n",
       "5  RS         Florence   5 1.910522e-03\n",
       "6  RS                    1 1.875938e-03\n",
       "7  CS         Florence   8 1.670561e-03\n",
       "8  BS         Florence  16 1.283781e-03\n",
       "9  BH         Florence  16 1.255479e-03\n",
       "10 RS         Lansing    5 7.351162e-04\n",
       "11 BP         Florence   8 5.743906e-04\n",
       "12 BP         Pendelton  4 5.723286e-04\n",
       "13 CS         Pendelton  4 5.170316e-04\n",
       "14 CH         Pendelton  5 4.392247e-04\n",
       "15 CH         Lansing   16 4.228023e-04\n",
       "16 BH         Pendelton  4 3.777263e-04\n",
       "17 RH         Lansing    8 1.508175e-04\n",
       "18 CS         Lansing   16 1.178100e-04\n",
       "19 BH         Lansing   17 9.030324e-05\n",
       "20 BP         Lansing    8 0.000000e+00\n",
       "21 BS         Lansing   17 0.000000e+00\n",
       "22 BS         Pendelton  5 0.000000e+00\n",
       "23 MK                    1 0.000000e+00\n",
       "24 RH         Pendelton  4 0.000000e+00\n",
       "25 RS         Pendelton  4 0.000000e+00"
      ]
     },
     "metadata": {},
     "output_type": "display_data"
    }
   ],
   "source": [
    "ps.norm %>% prune_taxa('ASV143',.) %>% psmelt() %>% \n",
    "    group_by(SampleType, Soil) %>% \n",
    "    summarize(n = length(Abundance > 0),\n",
    "             mAbund = mean(Abundance)) %>% arrange(desc(mAbund))\n",
    "    "
   ]
  },
  {
   "cell_type": "code",
   "execution_count": 128,
   "metadata": {},
   "outputs": [
    {
     "name": "stderr",
     "output_type": "stream",
     "text": [
      "Warning message in prune_taxa(taxa, phy_tree(x)):\n",
      "“prune_taxa attempted to reduce tree to 1 or fewer tips.\n",
      " tree replaced with NULL.”"
     ]
    },
    {
     "data": {
      "text/html": [
       "<table>\n",
       "<thead><tr><th scope=col>ASV143</th><th scope=col>sample</th></tr></thead>\n",
       "<tbody>\n",
       "\t<tr><td>0.0532544379  </td><td>92_PCRblank   </td></tr>\n",
       "\t<tr><td>0.0470048288  </td><td>163_GVFLHN3-CH</td></tr>\n",
       "\t<tr><td>0.0461973658  </td><td>70_GVFLHN2-CH </td></tr>\n",
       "\t<tr><td>0.0446113074  </td><td>93_PCRblank   </td></tr>\n",
       "\t<tr><td>0.0319477768  </td><td>73_GVFLHP1-CH </td></tr>\n",
       "\t<tr><td>0.0285839562  </td><td>170_GVFLHP4-CH</td></tr>\n",
       "\t<tr><td>0.0268118978  </td><td>188_155-BK    </td></tr>\n",
       "\t<tr><td>0.0197547232  </td><td>67_GVFLHN1-CH </td></tr>\n",
       "\t<tr><td>0.0150406009  </td><td>71_GVFLHN2-RH </td></tr>\n",
       "\t<tr><td>0.0096993210  </td><td>189_187-BK    </td></tr>\n",
       "\t<tr><td>0.0090104704  </td><td>68_GVFLHN1-RH </td></tr>\n",
       "\t<tr><td>0.0073706261  </td><td>142_GVFLHP3-CS</td></tr>\n",
       "\t<tr><td>0.0049619333  </td><td>123_RIFLHP4-BH</td></tr>\n",
       "\t<tr><td>0.0045951247  </td><td>43_GVFLHN2-BP </td></tr>\n",
       "\t<tr><td>0.0038825528  </td><td>124_RIFLHP4-BS</td></tr>\n",
       "\t<tr><td>0.0035453053  </td><td>9_GVFLHP1-BH  </td></tr>\n",
       "\t<tr><td>0.0032370596  </td><td>106_GVFLHP3-BS</td></tr>\n",
       "\t<tr><td>0.0030713229  </td><td>72_GVFLHN2-RS </td></tr>\n",
       "\t<tr><td>0.0027966076  </td><td>120_RIFLHN4-BS</td></tr>\n",
       "\t<tr><td>0.0027704342  </td><td>119_RIFLHN4-BH</td></tr>\n",
       "\t<tr><td>0.0026129153  </td><td>74_GVFLHP2-CH </td></tr>\n",
       "\t<tr><td>0.0025666473  </td><td>96_GVFLHN2-RS </td></tr>\n",
       "\t<tr><td>0.0025477106  </td><td>42_GVFLHN1-CS </td></tr>\n",
       "\t<tr><td>0.0025437648  </td><td>171_GVN7HN3-CH</td></tr>\n",
       "\t<tr><td>0.0024770972  </td><td>166_GVFLHN4-CH</td></tr>\n",
       "\t<tr><td>0.0024700741  </td><td>138_GVFLHN3-CS</td></tr>\n",
       "\t<tr><td>0.0024510340  </td><td>108_GVFLHP4-BS</td></tr>\n",
       "\t<tr><td>0.0022893146  </td><td>39_GVCLHN2-BP </td></tr>\n",
       "\t<tr><td>0.0021961234  </td><td>157_GVCLHN3-CH</td></tr>\n",
       "\t<tr><td>0.0021336807  </td><td>104_GVFLHN4-BS</td></tr>\n",
       "\t<tr><td>0.0020732408  </td><td>118_RIFLHN3-BS</td></tr>\n",
       "\t<tr><td>0.0020681265  </td><td>136_GVCLHN4-CS</td></tr>\n",
       "\t<tr><td>0.0020537496  </td><td>180_RIN7HN3-RS</td></tr>\n",
       "\t<tr><td>0.0020250522  </td><td>69_GVFLHN1-RS </td></tr>\n",
       "\t<tr><td>0.0019829204  </td><td>117_RIFLHN3-BH</td></tr>\n",
       "\t<tr><td>0.0018895893  </td><td>168_GVFLHN4-RS</td></tr>\n",
       "\t<tr><td>0.0018849603  </td><td>146_GVN7HN3-CS</td></tr>\n",
       "\t<tr><td>0.0018759380  </td><td>186_Unknown-RS</td></tr>\n",
       "\t<tr><td>0.0017962909  </td><td>11_GVFLHP2-BH </td></tr>\n",
       "\t<tr><td>0.0017887902  </td><td>121_RIFLHP3-BH</td></tr>\n",
       "\t<tr><td>0.0017236966  </td><td>5_GVFLHN1-BH  </td></tr>\n",
       "\t<tr><td>0.0016218313  </td><td>183_RIN7HN4-RS</td></tr>\n",
       "\t<tr><td>0.0015992362  </td><td>26_RIFLHP1-BS </td></tr>\n",
       "\t<tr><td>0.0015957279  </td><td>8_GVFLHN2-BS  </td></tr>\n",
       "\t<tr><td>0.0015695345  </td><td>173_GVN7HN4-CH</td></tr>\n",
       "\t<tr><td>0.0015351551  </td><td>31_RIN7HN2-BH </td></tr>\n",
       "\t<tr><td>0.0015182947  </td><td>7_GVFLHN2-BH  </td></tr>\n",
       "\t<tr><td>0.0015109053  </td><td>99_GVCLHN4-BH </td></tr>\n",
       "\t<tr><td>0.0012065397  </td><td>79_GVN7HN2-RH </td></tr>\n",
       "\t<tr><td>0.0009760775  </td><td>48_GVFLHP2-CS </td></tr>\n",
       "\t<tr><td>0.0009654007  </td><td>177_GVN7HP4-CH</td></tr>\n",
       "\t<tr><td>0.0008614452  </td><td>185_RIN7HP4-CH</td></tr>\n",
       "\t<tr><td>0.0008246913  </td><td>82_GVN7HP2-CH </td></tr>\n",
       "\t<tr><td>0.0007713569  </td><td>22_RIFLHN1-BS </td></tr>\n",
       "\t<tr><td>0.0003140704  </td><td>91_77-BK      </td></tr>\n",
       "</tbody>\n",
       "</table>\n"
      ],
      "text/latex": [
       "\\begin{tabular}{r|ll}\n",
       " ASV143 & sample\\\\\n",
       "\\hline\n",
       "\t 0.0532544379     & 92\\_PCRblank   \\\\\n",
       "\t 0.0470048288     & 163\\_GVFLHN3-CH\\\\\n",
       "\t 0.0461973658     & 70\\_GVFLHN2-CH \\\\\n",
       "\t 0.0446113074     & 93\\_PCRblank   \\\\\n",
       "\t 0.0319477768     & 73\\_GVFLHP1-CH \\\\\n",
       "\t 0.0285839562     & 170\\_GVFLHP4-CH\\\\\n",
       "\t 0.0268118978     & 188\\_155-BK    \\\\\n",
       "\t 0.0197547232     & 67\\_GVFLHN1-CH \\\\\n",
       "\t 0.0150406009     & 71\\_GVFLHN2-RH \\\\\n",
       "\t 0.0096993210     & 189\\_187-BK    \\\\\n",
       "\t 0.0090104704     & 68\\_GVFLHN1-RH \\\\\n",
       "\t 0.0073706261     & 142\\_GVFLHP3-CS\\\\\n",
       "\t 0.0049619333     & 123\\_RIFLHP4-BH\\\\\n",
       "\t 0.0045951247     & 43\\_GVFLHN2-BP \\\\\n",
       "\t 0.0038825528     & 124\\_RIFLHP4-BS\\\\\n",
       "\t 0.0035453053     & 9\\_GVFLHP1-BH  \\\\\n",
       "\t 0.0032370596     & 106\\_GVFLHP3-BS\\\\\n",
       "\t 0.0030713229     & 72\\_GVFLHN2-RS \\\\\n",
       "\t 0.0027966076     & 120\\_RIFLHN4-BS\\\\\n",
       "\t 0.0027704342     & 119\\_RIFLHN4-BH\\\\\n",
       "\t 0.0026129153     & 74\\_GVFLHP2-CH \\\\\n",
       "\t 0.0025666473     & 96\\_GVFLHN2-RS \\\\\n",
       "\t 0.0025477106     & 42\\_GVFLHN1-CS \\\\\n",
       "\t 0.0025437648     & 171\\_GVN7HN3-CH\\\\\n",
       "\t 0.0024770972     & 166\\_GVFLHN4-CH\\\\\n",
       "\t 0.0024700741     & 138\\_GVFLHN3-CS\\\\\n",
       "\t 0.0024510340     & 108\\_GVFLHP4-BS\\\\\n",
       "\t 0.0022893146     & 39\\_GVCLHN2-BP \\\\\n",
       "\t 0.0021961234     & 157\\_GVCLHN3-CH\\\\\n",
       "\t 0.0021336807     & 104\\_GVFLHN4-BS\\\\\n",
       "\t 0.0020732408     & 118\\_RIFLHN3-BS\\\\\n",
       "\t 0.0020681265     & 136\\_GVCLHN4-CS\\\\\n",
       "\t 0.0020537496     & 180\\_RIN7HN3-RS\\\\\n",
       "\t 0.0020250522     & 69\\_GVFLHN1-RS \\\\\n",
       "\t 0.0019829204     & 117\\_RIFLHN3-BH\\\\\n",
       "\t 0.0018895893     & 168\\_GVFLHN4-RS\\\\\n",
       "\t 0.0018849603     & 146\\_GVN7HN3-CS\\\\\n",
       "\t 0.0018759380     & 186\\_Unknown-RS\\\\\n",
       "\t 0.0017962909     & 11\\_GVFLHP2-BH \\\\\n",
       "\t 0.0017887902     & 121\\_RIFLHP3-BH\\\\\n",
       "\t 0.0017236966     & 5\\_GVFLHN1-BH  \\\\\n",
       "\t 0.0016218313     & 183\\_RIN7HN4-RS\\\\\n",
       "\t 0.0015992362     & 26\\_RIFLHP1-BS \\\\\n",
       "\t 0.0015957279     & 8\\_GVFLHN2-BS  \\\\\n",
       "\t 0.0015695345     & 173\\_GVN7HN4-CH\\\\\n",
       "\t 0.0015351551     & 31\\_RIN7HN2-BH \\\\\n",
       "\t 0.0015182947     & 7\\_GVFLHN2-BH  \\\\\n",
       "\t 0.0015109053     & 99\\_GVCLHN4-BH \\\\\n",
       "\t 0.0012065397     & 79\\_GVN7HN2-RH \\\\\n",
       "\t 0.0009760775     & 48\\_GVFLHP2-CS \\\\\n",
       "\t 0.0009654007     & 177\\_GVN7HP4-CH\\\\\n",
       "\t 0.0008614452     & 185\\_RIN7HP4-CH\\\\\n",
       "\t 0.0008246913     & 82\\_GVN7HP2-CH \\\\\n",
       "\t 0.0007713569     & 22\\_RIFLHN1-BS \\\\\n",
       "\t 0.0003140704     & 91\\_77-BK      \\\\\n",
       "\\end{tabular}\n"
      ],
      "text/markdown": [
       "\n",
       "ASV143 | sample | \n",
       "|---|---|---|---|---|---|---|---|---|---|---|---|---|---|---|---|---|---|---|---|---|---|---|---|---|---|---|---|---|---|---|---|---|---|---|---|---|---|---|---|---|---|---|---|---|---|---|---|---|---|---|---|---|---|---|\n",
       "| 0.0532544379   | 92_PCRblank    | \n",
       "| 0.0470048288   | 163_GVFLHN3-CH | \n",
       "| 0.0461973658   | 70_GVFLHN2-CH  | \n",
       "| 0.0446113074   | 93_PCRblank    | \n",
       "| 0.0319477768   | 73_GVFLHP1-CH  | \n",
       "| 0.0285839562   | 170_GVFLHP4-CH | \n",
       "| 0.0268118978   | 188_155-BK     | \n",
       "| 0.0197547232   | 67_GVFLHN1-CH  | \n",
       "| 0.0150406009   | 71_GVFLHN2-RH  | \n",
       "| 0.0096993210   | 189_187-BK     | \n",
       "| 0.0090104704   | 68_GVFLHN1-RH  | \n",
       "| 0.0073706261   | 142_GVFLHP3-CS | \n",
       "| 0.0049619333   | 123_RIFLHP4-BH | \n",
       "| 0.0045951247   | 43_GVFLHN2-BP  | \n",
       "| 0.0038825528   | 124_RIFLHP4-BS | \n",
       "| 0.0035453053   | 9_GVFLHP1-BH   | \n",
       "| 0.0032370596   | 106_GVFLHP3-BS | \n",
       "| 0.0030713229   | 72_GVFLHN2-RS  | \n",
       "| 0.0027966076   | 120_RIFLHN4-BS | \n",
       "| 0.0027704342   | 119_RIFLHN4-BH | \n",
       "| 0.0026129153   | 74_GVFLHP2-CH  | \n",
       "| 0.0025666473   | 96_GVFLHN2-RS  | \n",
       "| 0.0025477106   | 42_GVFLHN1-CS  | \n",
       "| 0.0025437648   | 171_GVN7HN3-CH | \n",
       "| 0.0024770972   | 166_GVFLHN4-CH | \n",
       "| 0.0024700741   | 138_GVFLHN3-CS | \n",
       "| 0.0024510340   | 108_GVFLHP4-BS | \n",
       "| 0.0022893146   | 39_GVCLHN2-BP  | \n",
       "| 0.0021961234   | 157_GVCLHN3-CH | \n",
       "| 0.0021336807   | 104_GVFLHN4-BS | \n",
       "| 0.0020732408   | 118_RIFLHN3-BS | \n",
       "| 0.0020681265   | 136_GVCLHN4-CS | \n",
       "| 0.0020537496   | 180_RIN7HN3-RS | \n",
       "| 0.0020250522   | 69_GVFLHN1-RS  | \n",
       "| 0.0019829204   | 117_RIFLHN3-BH | \n",
       "| 0.0018895893   | 168_GVFLHN4-RS | \n",
       "| 0.0018849603   | 146_GVN7HN3-CS | \n",
       "| 0.0018759380   | 186_Unknown-RS | \n",
       "| 0.0017962909   | 11_GVFLHP2-BH  | \n",
       "| 0.0017887902   | 121_RIFLHP3-BH | \n",
       "| 0.0017236966   | 5_GVFLHN1-BH   | \n",
       "| 0.0016218313   | 183_RIN7HN4-RS | \n",
       "| 0.0015992362   | 26_RIFLHP1-BS  | \n",
       "| 0.0015957279   | 8_GVFLHN2-BS   | \n",
       "| 0.0015695345   | 173_GVN7HN4-CH | \n",
       "| 0.0015351551   | 31_RIN7HN2-BH  | \n",
       "| 0.0015182947   | 7_GVFLHN2-BH   | \n",
       "| 0.0015109053   | 99_GVCLHN4-BH  | \n",
       "| 0.0012065397   | 79_GVN7HN2-RH  | \n",
       "| 0.0009760775   | 48_GVFLHP2-CS  | \n",
       "| 0.0009654007   | 177_GVN7HP4-CH | \n",
       "| 0.0008614452   | 185_RIN7HP4-CH | \n",
       "| 0.0008246913   | 82_GVN7HP2-CH  | \n",
       "| 0.0007713569   | 22_RIFLHN1-BS  | \n",
       "| 0.0003140704   | 91_77-BK       | \n",
       "\n",
       "\n"
      ],
      "text/plain": [
       "   ASV143       sample        \n",
       "1  0.0532544379 92_PCRblank   \n",
       "2  0.0470048288 163_GVFLHN3-CH\n",
       "3  0.0461973658 70_GVFLHN2-CH \n",
       "4  0.0446113074 93_PCRblank   \n",
       "5  0.0319477768 73_GVFLHP1-CH \n",
       "6  0.0285839562 170_GVFLHP4-CH\n",
       "7  0.0268118978 188_155-BK    \n",
       "8  0.0197547232 67_GVFLHN1-CH \n",
       "9  0.0150406009 71_GVFLHN2-RH \n",
       "10 0.0096993210 189_187-BK    \n",
       "11 0.0090104704 68_GVFLHN1-RH \n",
       "12 0.0073706261 142_GVFLHP3-CS\n",
       "13 0.0049619333 123_RIFLHP4-BH\n",
       "14 0.0045951247 43_GVFLHN2-BP \n",
       "15 0.0038825528 124_RIFLHP4-BS\n",
       "16 0.0035453053 9_GVFLHP1-BH  \n",
       "17 0.0032370596 106_GVFLHP3-BS\n",
       "18 0.0030713229 72_GVFLHN2-RS \n",
       "19 0.0027966076 120_RIFLHN4-BS\n",
       "20 0.0027704342 119_RIFLHN4-BH\n",
       "21 0.0026129153 74_GVFLHP2-CH \n",
       "22 0.0025666473 96_GVFLHN2-RS \n",
       "23 0.0025477106 42_GVFLHN1-CS \n",
       "24 0.0025437648 171_GVN7HN3-CH\n",
       "25 0.0024770972 166_GVFLHN4-CH\n",
       "26 0.0024700741 138_GVFLHN3-CS\n",
       "27 0.0024510340 108_GVFLHP4-BS\n",
       "28 0.0022893146 39_GVCLHN2-BP \n",
       "29 0.0021961234 157_GVCLHN3-CH\n",
       "30 0.0021336807 104_GVFLHN4-BS\n",
       "31 0.0020732408 118_RIFLHN3-BS\n",
       "32 0.0020681265 136_GVCLHN4-CS\n",
       "33 0.0020537496 180_RIN7HN3-RS\n",
       "34 0.0020250522 69_GVFLHN1-RS \n",
       "35 0.0019829204 117_RIFLHN3-BH\n",
       "36 0.0018895893 168_GVFLHN4-RS\n",
       "37 0.0018849603 146_GVN7HN3-CS\n",
       "38 0.0018759380 186_Unknown-RS\n",
       "39 0.0017962909 11_GVFLHP2-BH \n",
       "40 0.0017887902 121_RIFLHP3-BH\n",
       "41 0.0017236966 5_GVFLHN1-BH  \n",
       "42 0.0016218313 183_RIN7HN4-RS\n",
       "43 0.0015992362 26_RIFLHP1-BS \n",
       "44 0.0015957279 8_GVFLHN2-BS  \n",
       "45 0.0015695345 173_GVN7HN4-CH\n",
       "46 0.0015351551 31_RIN7HN2-BH \n",
       "47 0.0015182947 7_GVFLHN2-BH  \n",
       "48 0.0015109053 99_GVCLHN4-BH \n",
       "49 0.0012065397 79_GVN7HN2-RH \n",
       "50 0.0009760775 48_GVFLHP2-CS \n",
       "51 0.0009654007 177_GVN7HP4-CH\n",
       "52 0.0008614452 185_RIN7HP4-CH\n",
       "53 0.0008246913 82_GVN7HP2-CH \n",
       "54 0.0007713569 22_RIFLHN1-BS \n",
       "55 0.0003140704 91_77-BK      "
      ]
     },
     "metadata": {},
     "output_type": "display_data"
    }
   ],
   "source": [
    "df = ps.norm %>% prune_taxa('ASV143',.) %>% otu_table() %>% as.data.frame() %>% \n",
    "    mutate(sample = row.names(.)) %>% filter(ASV143 > 0) %>% arrange(desc(ASV143))\n",
    "df"
   ]
  },
  {
   "cell_type": "markdown",
   "metadata": {},
   "source": [
    "# Check extraction blanks "
   ]
  },
  {
   "cell_type": "code",
   "execution_count": 9,
   "metadata": {},
   "outputs": [
    {
     "data": {
      "text/plain": [
       "phyloseq-class experiment-level object\n",
       "otu_table()   OTU Table:         [ 195 taxa and 6 samples ]\n",
       "sample_data() Sample Data:       [ 6 samples by 11 sample variables ]\n",
       "tax_table()   Taxonomy Table:    [ 195 taxa by 6 taxonomic ranks ]\n",
       "phy_tree()    Phylogenetic Tree: [ 195 tips and 194 internal nodes ]"
      ]
     },
     "metadata": {},
     "output_type": "display_data"
    }
   ],
   "source": [
    "EB =  subset_samples(ps, SampleType == \"EB\")\n",
    "EB = filter_taxa(EB, function(x) sum(x > 0) > 0, TRUE)\n",
    "EB"
   ]
  },
  {
   "cell_type": "code",
   "execution_count": 10,
   "metadata": {
    "scrolled": true
   },
   "outputs": [
    {
     "data": {
      "text/html": [
       "<table>\n",
       "<thead><tr><th></th><th scope=col>187_139-BK</th><th scope=col>188_155-BK</th><th scope=col>189_187-BK</th><th scope=col>89_125-BK</th><th scope=col>90_29-BK</th><th scope=col>91_77-BK</th></tr></thead>\n",
       "<tbody>\n",
       "\t<tr><th scope=row>ASV540</th><td> 0 </td><td>  0</td><td>  0</td><td>  0</td><td> 44</td><td>  0</td></tr>\n",
       "\t<tr><th scope=row>ASV6874</th><td> 0 </td><td>  0</td><td> 34</td><td>  0</td><td>  0</td><td>  0</td></tr>\n",
       "\t<tr><th scope=row>ASV277</th><td> 0 </td><td> 54</td><td>  0</td><td>  0</td><td>  0</td><td> 34</td></tr>\n",
       "\t<tr><th scope=row>ASV2186</th><td> 0 </td><td>  0</td><td>  0</td><td> 53</td><td>  0</td><td>  0</td></tr>\n",
       "\t<tr><th scope=row>ASV1930</th><td> 0 </td><td>  0</td><td>  0</td><td>  0</td><td>  0</td><td> 38</td></tr>\n",
       "\t<tr><th scope=row>ASV5364</th><td> 0 </td><td>131</td><td>  0</td><td>  0</td><td>  0</td><td>  0</td></tr>\n",
       "\t<tr><th scope=row>ASV6708</th><td> 0 </td><td>  0</td><td>  0</td><td>  0</td><td>101</td><td>  0</td></tr>\n",
       "\t<tr><th scope=row>ASV5457</th><td> 0 </td><td>  0</td><td> 15</td><td>  0</td><td>  0</td><td>  0</td></tr>\n",
       "\t<tr><th scope=row>ASV993</th><td> 0 </td><td>  0</td><td>  0</td><td>  0</td><td> 47</td><td>  0</td></tr>\n",
       "\t<tr><th scope=row>ASV10605</th><td> 0 </td><td>  0</td><td>  0</td><td>  0</td><td> 53</td><td>  0</td></tr>\n",
       "\t<tr><th scope=row>ASV1660</th><td> 0 </td><td>  0</td><td> 17</td><td>  0</td><td>  0</td><td>  0</td></tr>\n",
       "\t<tr><th scope=row>ASV12236</th><td>36 </td><td>  0</td><td>  0</td><td>  0</td><td>  0</td><td>  0</td></tr>\n",
       "\t<tr><th scope=row>ASV4530</th><td> 0 </td><td>  0</td><td>  0</td><td> 91</td><td>  0</td><td>  0</td></tr>\n",
       "\t<tr><th scope=row>ASV1245</th><td> 0 </td><td>  0</td><td>  0</td><td>  0</td><td>  0</td><td> 42</td></tr>\n",
       "\t<tr><th scope=row>ASV3747</th><td> 0 </td><td>  0</td><td>  0</td><td>139</td><td>  0</td><td>  0</td></tr>\n",
       "\t<tr><th scope=row>ASV747</th><td> 0 </td><td>  0</td><td>  0</td><td>  0</td><td>  0</td><td> 30</td></tr>\n",
       "\t<tr><th scope=row>ASV4</th><td> 0 </td><td>  0</td><td> 57</td><td> 91</td><td> 75</td><td>  0</td></tr>\n",
       "\t<tr><th scope=row>ASV11</th><td> 0 </td><td> 44</td><td>  0</td><td>  0</td><td>  0</td><td> 84</td></tr>\n",
       "\t<tr><th scope=row>ASV2</th><td>28 </td><td> 78</td><td>224</td><td>310</td><td>181</td><td>165</td></tr>\n",
       "\t<tr><th scope=row>ASV23</th><td> 0 </td><td>  0</td><td> 27</td><td>121</td><td>  0</td><td>  0</td></tr>\n",
       "\t<tr><th scope=row>ASV10248</th><td> 0 </td><td>  0</td><td>  0</td><td>  0</td><td> 55</td><td>  0</td></tr>\n",
       "\t<tr><th scope=row>ASV2410</th><td> 0 </td><td>  0</td><td>  0</td><td> 38</td><td>  0</td><td>  0</td></tr>\n",
       "\t<tr><th scope=row>ASV1604</th><td> 0 </td><td>  0</td><td>  0</td><td> 22</td><td>  0</td><td>  0</td></tr>\n",
       "\t<tr><th scope=row>ASV1540</th><td> 0 </td><td>  0</td><td>  0</td><td> 42</td><td>  0</td><td> 36</td></tr>\n",
       "\t<tr><th scope=row>ASV746</th><td> 9 </td><td>  0</td><td>  0</td><td>  0</td><td>  0</td><td>  0</td></tr>\n",
       "\t<tr><th scope=row>ASV4556</th><td> 0 </td><td>  0</td><td>  0</td><td>  0</td><td>  0</td><td> 51</td></tr>\n",
       "\t<tr><th scope=row>ASV5932</th><td> 0 </td><td>  0</td><td>  0</td><td>  0</td><td>260</td><td>  0</td></tr>\n",
       "\t<tr><th scope=row>ASV886</th><td> 0 </td><td> 21</td><td>  0</td><td>  0</td><td>  0</td><td>  0</td></tr>\n",
       "\t<tr><th scope=row>ASV7182</th><td>14 </td><td>  0</td><td>  0</td><td> 59</td><td>  0</td><td>  0</td></tr>\n",
       "\t<tr><th scope=row>ASV3435</th><td>22 </td><td>  0</td><td>  0</td><td>  0</td><td>  0</td><td>  0</td></tr>\n",
       "\t<tr><th scope=row>⋮</th><td>⋮</td><td>⋮</td><td>⋮</td><td>⋮</td><td>⋮</td><td>⋮</td></tr>\n",
       "\t<tr><th scope=row>ASV86</th><td>  0</td><td>  0</td><td>  0</td><td>  0</td><td> 0 </td><td> 44</td></tr>\n",
       "\t<tr><th scope=row>ASV32</th><td>  0</td><td>  0</td><td>  0</td><td> 18</td><td> 0 </td><td>  0</td></tr>\n",
       "\t<tr><th scope=row>ASV5463</th><td>  0</td><td>  0</td><td>  0</td><td> 60</td><td> 0 </td><td>  0</td></tr>\n",
       "\t<tr><th scope=row>ASV2117</th><td>141</td><td> 50</td><td> 46</td><td>124</td><td>85 </td><td>  0</td></tr>\n",
       "\t<tr><th scope=row>ASV681</th><td>173</td><td>138</td><td>112</td><td>111</td><td>71 </td><td> 93</td></tr>\n",
       "\t<tr><th scope=row>ASV2714</th><td> 80</td><td>144</td><td>205</td><td>  0</td><td>55 </td><td>  0</td></tr>\n",
       "\t<tr><th scope=row>ASV6</th><td>  0</td><td>  7</td><td>  0</td><td>  0</td><td> 0 </td><td> 33</td></tr>\n",
       "\t<tr><th scope=row>ASV7898</th><td>  0</td><td>  0</td><td>  0</td><td>  0</td><td> 0 </td><td> 47</td></tr>\n",
       "\t<tr><th scope=row>ASV5401</th><td>  0</td><td>  0</td><td>  0</td><td>  0</td><td> 0 </td><td> 53</td></tr>\n",
       "\t<tr><th scope=row>ASV6147</th><td>  0</td><td>  0</td><td> 38</td><td>  0</td><td> 0 </td><td>  0</td></tr>\n",
       "\t<tr><th scope=row>ASV4575</th><td>  0</td><td>  0</td><td>  0</td><td>  0</td><td> 0 </td><td>122</td></tr>\n",
       "\t<tr><th scope=row>ASV1370</th><td>  0</td><td>103</td><td>  0</td><td>  0</td><td> 0 </td><td>  0</td></tr>\n",
       "\t<tr><th scope=row>ASV3182</th><td>  0</td><td>  0</td><td>  0</td><td> 64</td><td> 0 </td><td>  0</td></tr>\n",
       "\t<tr><th scope=row>ASV5798</th><td> 32</td><td>  0</td><td>  0</td><td>  0</td><td> 0 </td><td>  0</td></tr>\n",
       "\t<tr><th scope=row>ASV5774</th><td>  0</td><td>  0</td><td>  0</td><td>  0</td><td>57 </td><td>  0</td></tr>\n",
       "\t<tr><th scope=row>ASV7595</th><td>  0</td><td>  0</td><td>  0</td><td>  0</td><td>87 </td><td>  0</td></tr>\n",
       "\t<tr><th scope=row>ASV11521</th><td>  0</td><td>  0</td><td>  0</td><td>  0</td><td> 0 </td><td> 47</td></tr>\n",
       "\t<tr><th scope=row>ASV10301</th><td>  0</td><td>  0</td><td> 28</td><td>  0</td><td> 0 </td><td>  0</td></tr>\n",
       "\t<tr><th scope=row>ASV920</th><td>  0</td><td>  0</td><td>  0</td><td>  0</td><td>50 </td><td>  0</td></tr>\n",
       "\t<tr><th scope=row>ASV1713</th><td>  0</td><td>  0</td><td>  0</td><td> 47</td><td> 0 </td><td>  0</td></tr>\n",
       "\t<tr><th scope=row>ASV421</th><td>  0</td><td>  0</td><td>  0</td><td>  0</td><td> 0 </td><td>103</td></tr>\n",
       "\t<tr><th scope=row>ASV457</th><td>  0</td><td>  0</td><td>  0</td><td> 55</td><td> 0 </td><td>  0</td></tr>\n",
       "\t<tr><th scope=row>ASV11589</th><td> 24</td><td>  0</td><td>  0</td><td>  0</td><td> 0 </td><td>  0</td></tr>\n",
       "\t<tr><th scope=row>ASV1472</th><td> 30</td><td>  0</td><td>  0</td><td> 67</td><td> 0 </td><td>  0</td></tr>\n",
       "\t<tr><th scope=row>ASV1714</th><td>  0</td><td>  0</td><td>  0</td><td>  0</td><td>46 </td><td>  0</td></tr>\n",
       "\t<tr><th scope=row>ASV9625</th><td>  0</td><td>  0</td><td>  0</td><td>  0</td><td>62 </td><td>  0</td></tr>\n",
       "\t<tr><th scope=row>ASV4048</th><td>  0</td><td>  0</td><td>  0</td><td>  0</td><td>73 </td><td>  0</td></tr>\n",
       "\t<tr><th scope=row>ASV720</th><td>  0</td><td>  0</td><td>  0</td><td>  0</td><td> 0 </td><td>135</td></tr>\n",
       "\t<tr><th scope=row>ASV2229</th><td>  0</td><td>  0</td><td>  0</td><td>  0</td><td> 0 </td><td> 29</td></tr>\n",
       "\t<tr><th scope=row>ASV1717</th><td>  6</td><td>  0</td><td>  0</td><td>  0</td><td> 0 </td><td>  0</td></tr>\n",
       "</tbody>\n",
       "</table>\n"
      ],
      "text/latex": [
       "\\begin{tabular}{r|llllll}\n",
       "  & 187\\_139-BK & 188\\_155-BK & 189\\_187-BK & 89\\_125-BK & 90\\_29-BK & 91\\_77-BK\\\\\n",
       "\\hline\n",
       "\tASV540 &  0  &   0 &   0 &   0 &  44 &   0\\\\\n",
       "\tASV6874 &  0  &   0 &  34 &   0 &   0 &   0\\\\\n",
       "\tASV277 &  0  &  54 &   0 &   0 &   0 &  34\\\\\n",
       "\tASV2186 &  0  &   0 &   0 &  53 &   0 &   0\\\\\n",
       "\tASV1930 &  0  &   0 &   0 &   0 &   0 &  38\\\\\n",
       "\tASV5364 &  0  & 131 &   0 &   0 &   0 &   0\\\\\n",
       "\tASV6708 &  0  &   0 &   0 &   0 & 101 &   0\\\\\n",
       "\tASV5457 &  0  &   0 &  15 &   0 &   0 &   0\\\\\n",
       "\tASV993 &  0  &   0 &   0 &   0 &  47 &   0\\\\\n",
       "\tASV10605 &  0  &   0 &   0 &   0 &  53 &   0\\\\\n",
       "\tASV1660 &  0  &   0 &  17 &   0 &   0 &   0\\\\\n",
       "\tASV12236 & 36  &   0 &   0 &   0 &   0 &   0\\\\\n",
       "\tASV4530 &  0  &   0 &   0 &  91 &   0 &   0\\\\\n",
       "\tASV1245 &  0  &   0 &   0 &   0 &   0 &  42\\\\\n",
       "\tASV3747 &  0  &   0 &   0 & 139 &   0 &   0\\\\\n",
       "\tASV747 &  0  &   0 &   0 &   0 &   0 &  30\\\\\n",
       "\tASV4 &  0  &   0 &  57 &  91 &  75 &   0\\\\\n",
       "\tASV11 &  0  &  44 &   0 &   0 &   0 &  84\\\\\n",
       "\tASV2 & 28  &  78 & 224 & 310 & 181 & 165\\\\\n",
       "\tASV23 &  0  &   0 &  27 & 121 &   0 &   0\\\\\n",
       "\tASV10248 &  0  &   0 &   0 &   0 &  55 &   0\\\\\n",
       "\tASV2410 &  0  &   0 &   0 &  38 &   0 &   0\\\\\n",
       "\tASV1604 &  0  &   0 &   0 &  22 &   0 &   0\\\\\n",
       "\tASV1540 &  0  &   0 &   0 &  42 &   0 &  36\\\\\n",
       "\tASV746 &  9  &   0 &   0 &   0 &   0 &   0\\\\\n",
       "\tASV4556 &  0  &   0 &   0 &   0 &   0 &  51\\\\\n",
       "\tASV5932 &  0  &   0 &   0 &   0 & 260 &   0\\\\\n",
       "\tASV886 &  0  &  21 &   0 &   0 &   0 &   0\\\\\n",
       "\tASV7182 & 14  &   0 &   0 &  59 &   0 &   0\\\\\n",
       "\tASV3435 & 22  &   0 &   0 &   0 &   0 &   0\\\\\n",
       "\t⋮ & ⋮ & ⋮ & ⋮ & ⋮ & ⋮ & ⋮\\\\\n",
       "\tASV86 &   0 &   0 &   0 &   0 &  0  &  44\\\\\n",
       "\tASV32 &   0 &   0 &   0 &  18 &  0  &   0\\\\\n",
       "\tASV5463 &   0 &   0 &   0 &  60 &  0  &   0\\\\\n",
       "\tASV2117 & 141 &  50 &  46 & 124 & 85  &   0\\\\\n",
       "\tASV681 & 173 & 138 & 112 & 111 & 71  &  93\\\\\n",
       "\tASV2714 &  80 & 144 & 205 &   0 & 55  &   0\\\\\n",
       "\tASV6 &   0 &   7 &   0 &   0 &  0  &  33\\\\\n",
       "\tASV7898 &   0 &   0 &   0 &   0 &  0  &  47\\\\\n",
       "\tASV5401 &   0 &   0 &   0 &   0 &  0  &  53\\\\\n",
       "\tASV6147 &   0 &   0 &  38 &   0 &  0  &   0\\\\\n",
       "\tASV4575 &   0 &   0 &   0 &   0 &  0  & 122\\\\\n",
       "\tASV1370 &   0 & 103 &   0 &   0 &  0  &   0\\\\\n",
       "\tASV3182 &   0 &   0 &   0 &  64 &  0  &   0\\\\\n",
       "\tASV5798 &  32 &   0 &   0 &   0 &  0  &   0\\\\\n",
       "\tASV5774 &   0 &   0 &   0 &   0 & 57  &   0\\\\\n",
       "\tASV7595 &   0 &   0 &   0 &   0 & 87  &   0\\\\\n",
       "\tASV11521 &   0 &   0 &   0 &   0 &  0  &  47\\\\\n",
       "\tASV10301 &   0 &   0 &  28 &   0 &  0  &   0\\\\\n",
       "\tASV920 &   0 &   0 &   0 &   0 & 50  &   0\\\\\n",
       "\tASV1713 &   0 &   0 &   0 &  47 &  0  &   0\\\\\n",
       "\tASV421 &   0 &   0 &   0 &   0 &  0  & 103\\\\\n",
       "\tASV457 &   0 &   0 &   0 &  55 &  0  &   0\\\\\n",
       "\tASV11589 &  24 &   0 &   0 &   0 &  0  &   0\\\\\n",
       "\tASV1472 &  30 &   0 &   0 &  67 &  0  &   0\\\\\n",
       "\tASV1714 &   0 &   0 &   0 &   0 & 46  &   0\\\\\n",
       "\tASV9625 &   0 &   0 &   0 &   0 & 62  &   0\\\\\n",
       "\tASV4048 &   0 &   0 &   0 &   0 & 73  &   0\\\\\n",
       "\tASV720 &   0 &   0 &   0 &   0 &  0  & 135\\\\\n",
       "\tASV2229 &   0 &   0 &   0 &   0 &  0  &  29\\\\\n",
       "\tASV1717 &   6 &   0 &   0 &   0 &  0  &   0\\\\\n",
       "\\end{tabular}\n"
      ],
      "text/markdown": [
       "\n",
       "| <!--/--> | 187_139-BK | 188_155-BK | 189_187-BK | 89_125-BK | 90_29-BK | 91_77-BK | \n",
       "|---|---|---|---|---|---|---|---|---|---|---|---|---|---|---|---|---|---|---|---|---|---|---|---|---|---|---|---|---|---|---|---|---|---|---|---|---|---|---|---|---|---|---|---|---|---|---|---|---|---|---|---|---|---|---|---|---|---|---|---|---|\n",
       "| ASV540 |  0  |   0 |   0 |   0 |  44 |   0 | \n",
       "| ASV6874 |  0  |   0 |  34 |   0 |   0 |   0 | \n",
       "| ASV277 |  0  |  54 |   0 |   0 |   0 |  34 | \n",
       "| ASV2186 |  0  |   0 |   0 |  53 |   0 |   0 | \n",
       "| ASV1930 |  0  |   0 |   0 |   0 |   0 |  38 | \n",
       "| ASV5364 |  0  | 131 |   0 |   0 |   0 |   0 | \n",
       "| ASV6708 |  0  |   0 |   0 |   0 | 101 |   0 | \n",
       "| ASV5457 |  0  |   0 |  15 |   0 |   0 |   0 | \n",
       "| ASV993 |  0  |   0 |   0 |   0 |  47 |   0 | \n",
       "| ASV10605 |  0  |   0 |   0 |   0 |  53 |   0 | \n",
       "| ASV1660 |  0  |   0 |  17 |   0 |   0 |   0 | \n",
       "| ASV12236 | 36  |   0 |   0 |   0 |   0 |   0 | \n",
       "| ASV4530 |  0  |   0 |   0 |  91 |   0 |   0 | \n",
       "| ASV1245 |  0  |   0 |   0 |   0 |   0 |  42 | \n",
       "| ASV3747 |  0  |   0 |   0 | 139 |   0 |   0 | \n",
       "| ASV747 |  0  |   0 |   0 |   0 |   0 |  30 | \n",
       "| ASV4 |  0  |   0 |  57 |  91 |  75 |   0 | \n",
       "| ASV11 |  0  |  44 |   0 |   0 |   0 |  84 | \n",
       "| ASV2 | 28  |  78 | 224 | 310 | 181 | 165 | \n",
       "| ASV23 |  0  |   0 |  27 | 121 |   0 |   0 | \n",
       "| ASV10248 |  0  |   0 |   0 |   0 |  55 |   0 | \n",
       "| ASV2410 |  0  |   0 |   0 |  38 |   0 |   0 | \n",
       "| ASV1604 |  0  |   0 |   0 |  22 |   0 |   0 | \n",
       "| ASV1540 |  0  |   0 |   0 |  42 |   0 |  36 | \n",
       "| ASV746 |  9  |   0 |   0 |   0 |   0 |   0 | \n",
       "| ASV4556 |  0  |   0 |   0 |   0 |   0 |  51 | \n",
       "| ASV5932 |  0  |   0 |   0 |   0 | 260 |   0 | \n",
       "| ASV886 |  0  |  21 |   0 |   0 |   0 |   0 | \n",
       "| ASV7182 | 14  |   0 |   0 |  59 |   0 |   0 | \n",
       "| ASV3435 | 22  |   0 |   0 |   0 |   0 |   0 | \n",
       "| ⋮ | ⋮ | ⋮ | ⋮ | ⋮ | ⋮ | ⋮ | \n",
       "| ASV86 |   0 |   0 |   0 |   0 |  0  |  44 | \n",
       "| ASV32 |   0 |   0 |   0 |  18 |  0  |   0 | \n",
       "| ASV5463 |   0 |   0 |   0 |  60 |  0  |   0 | \n",
       "| ASV2117 | 141 |  50 |  46 | 124 | 85  |   0 | \n",
       "| ASV681 | 173 | 138 | 112 | 111 | 71  |  93 | \n",
       "| ASV2714 |  80 | 144 | 205 |   0 | 55  |   0 | \n",
       "| ASV6 |   0 |   7 |   0 |   0 |  0  |  33 | \n",
       "| ASV7898 |   0 |   0 |   0 |   0 |  0  |  47 | \n",
       "| ASV5401 |   0 |   0 |   0 |   0 |  0  |  53 | \n",
       "| ASV6147 |   0 |   0 |  38 |   0 |  0  |   0 | \n",
       "| ASV4575 |   0 |   0 |   0 |   0 |  0  | 122 | \n",
       "| ASV1370 |   0 | 103 |   0 |   0 |  0  |   0 | \n",
       "| ASV3182 |   0 |   0 |   0 |  64 |  0  |   0 | \n",
       "| ASV5798 |  32 |   0 |   0 |   0 |  0  |   0 | \n",
       "| ASV5774 |   0 |   0 |   0 |   0 | 57  |   0 | \n",
       "| ASV7595 |   0 |   0 |   0 |   0 | 87  |   0 | \n",
       "| ASV11521 |   0 |   0 |   0 |   0 |  0  |  47 | \n",
       "| ASV10301 |   0 |   0 |  28 |   0 |  0  |   0 | \n",
       "| ASV920 |   0 |   0 |   0 |   0 | 50  |   0 | \n",
       "| ASV1713 |   0 |   0 |   0 |  47 |  0  |   0 | \n",
       "| ASV421 |   0 |   0 |   0 |   0 |  0  | 103 | \n",
       "| ASV457 |   0 |   0 |   0 |  55 |  0  |   0 | \n",
       "| ASV11589 |  24 |   0 |   0 |   0 |  0  |   0 | \n",
       "| ASV1472 |  30 |   0 |   0 |  67 |  0  |   0 | \n",
       "| ASV1714 |   0 |   0 |   0 |   0 | 46  |   0 | \n",
       "| ASV9625 |   0 |   0 |   0 |   0 | 62  |   0 | \n",
       "| ASV4048 |   0 |   0 |   0 |   0 | 73  |   0 | \n",
       "| ASV720 |   0 |   0 |   0 |   0 |  0  | 135 | \n",
       "| ASV2229 |   0 |   0 |   0 |   0 |  0  |  29 | \n",
       "| ASV1717 |   6 |   0 |   0 |   0 |  0  |   0 | \n",
       "\n",
       "\n"
      ],
      "text/plain": [
       "         187_139-BK 188_155-BK 189_187-BK 89_125-BK 90_29-BK 91_77-BK\n",
       "ASV540    0           0          0          0        44        0     \n",
       "ASV6874   0           0         34          0         0        0     \n",
       "ASV277    0          54          0          0         0       34     \n",
       "ASV2186   0           0          0         53         0        0     \n",
       "ASV1930   0           0          0          0         0       38     \n",
       "ASV5364   0         131          0          0         0        0     \n",
       "ASV6708   0           0          0          0       101        0     \n",
       "ASV5457   0           0         15          0         0        0     \n",
       "ASV993    0           0          0          0        47        0     \n",
       "ASV10605  0           0          0          0        53        0     \n",
       "ASV1660   0           0         17          0         0        0     \n",
       "ASV12236 36           0          0          0         0        0     \n",
       "ASV4530   0           0          0         91         0        0     \n",
       "ASV1245   0           0          0          0         0       42     \n",
       "ASV3747   0           0          0        139         0        0     \n",
       "ASV747    0           0          0          0         0       30     \n",
       "ASV4      0           0         57         91        75        0     \n",
       "ASV11     0          44          0          0         0       84     \n",
       "ASV2     28          78        224        310       181      165     \n",
       "ASV23     0           0         27        121         0        0     \n",
       "ASV10248  0           0          0          0        55        0     \n",
       "ASV2410   0           0          0         38         0        0     \n",
       "ASV1604   0           0          0         22         0        0     \n",
       "ASV1540   0           0          0         42         0       36     \n",
       "ASV746    9           0          0          0         0        0     \n",
       "ASV4556   0           0          0          0         0       51     \n",
       "ASV5932   0           0          0          0       260        0     \n",
       "ASV886    0          21          0          0         0        0     \n",
       "ASV7182  14           0          0         59         0        0     \n",
       "ASV3435  22           0          0          0         0        0     \n",
       "⋮        ⋮          ⋮          ⋮          ⋮         ⋮        ⋮       \n",
       "ASV86      0          0          0          0        0        44     \n",
       "ASV32      0          0          0         18        0         0     \n",
       "ASV5463    0          0          0         60        0         0     \n",
       "ASV2117  141         50         46        124       85         0     \n",
       "ASV681   173        138        112        111       71        93     \n",
       "ASV2714   80        144        205          0       55         0     \n",
       "ASV6       0          7          0          0        0        33     \n",
       "ASV7898    0          0          0          0        0        47     \n",
       "ASV5401    0          0          0          0        0        53     \n",
       "ASV6147    0          0         38          0        0         0     \n",
       "ASV4575    0          0          0          0        0       122     \n",
       "ASV1370    0        103          0          0        0         0     \n",
       "ASV3182    0          0          0         64        0         0     \n",
       "ASV5798   32          0          0          0        0         0     \n",
       "ASV5774    0          0          0          0       57         0     \n",
       "ASV7595    0          0          0          0       87         0     \n",
       "ASV11521   0          0          0          0        0        47     \n",
       "ASV10301   0          0         28          0        0         0     \n",
       "ASV920     0          0          0          0       50         0     \n",
       "ASV1713    0          0          0         47        0         0     \n",
       "ASV421     0          0          0          0        0       103     \n",
       "ASV457     0          0          0         55        0         0     \n",
       "ASV11589  24          0          0          0        0         0     \n",
       "ASV1472   30          0          0         67        0         0     \n",
       "ASV1714    0          0          0          0       46         0     \n",
       "ASV9625    0          0          0          0       62         0     \n",
       "ASV4048    0          0          0          0       73         0     \n",
       "ASV720     0          0          0          0        0       135     \n",
       "ASV2229    0          0          0          0        0        29     \n",
       "ASV1717    6          0          0          0        0         0     "
      ]
     },
     "metadata": {},
     "output_type": "display_data"
    }
   ],
   "source": [
    "otu_table(EB) %>% t()"
   ]
  },
  {
   "cell_type": "code",
   "execution_count": 11,
   "metadata": {
    "scrolled": true
   },
   "outputs": [
    {
     "data": {
      "text/html": [
       "<dl class=dl-horizontal>\n",
       "\t<dt>187_139-BK</dt>\n",
       "\t\t<dd>2355</dd>\n",
       "\t<dt>188_155-BK</dt>\n",
       "\t\t<dd>2387</dd>\n",
       "\t<dt>189_187-BK</dt>\n",
       "\t\t<dd>3093</dd>\n",
       "\t<dt>89_125-BK</dt>\n",
       "\t\t<dd>4045</dd>\n",
       "\t<dt>90_29-BK</dt>\n",
       "\t\t<dd>3448</dd>\n",
       "\t<dt>91_77-BK</dt>\n",
       "\t\t<dd>3184</dd>\n",
       "</dl>\n"
      ],
      "text/latex": [
       "\\begin{description*}\n",
       "\\item[187\\textbackslash{}\\_139-BK] 2355\n",
       "\\item[188\\textbackslash{}\\_155-BK] 2387\n",
       "\\item[189\\textbackslash{}\\_187-BK] 3093\n",
       "\\item[89\\textbackslash{}\\_125-BK] 4045\n",
       "\\item[90\\textbackslash{}\\_29-BK] 3448\n",
       "\\item[91\\textbackslash{}\\_77-BK] 3184\n",
       "\\end{description*}\n"
      ],
      "text/markdown": [
       "187_139-BK\n",
       ":   2355188_155-BK\n",
       ":   2387189_187-BK\n",
       ":   309389_125-BK\n",
       ":   404590_29-BK\n",
       ":   344891_77-BK\n",
       ":   3184\n",
       "\n"
      ],
      "text/plain": [
       "187_139-BK 188_155-BK 189_187-BK  89_125-BK   90_29-BK   91_77-BK \n",
       "      2355       2387       3093       4045       3448       3184 "
      ]
     },
     "metadata": {},
     "output_type": "display_data"
    }
   ],
   "source": [
    "sample_sums(EB)"
   ]
  },
  {
   "cell_type": "code",
   "execution_count": 23,
   "metadata": {},
   "outputs": [],
   "source": [
    "EBlist = filter_taxa(EB, function(x) sum(x > 0) > 1, TRUE) %>% taxa_names()"
   ]
  },
  {
   "cell_type": "code",
   "execution_count": 24,
   "metadata": {},
   "outputs": [
    {
     "data": {
      "text/html": [
       "48"
      ],
      "text/latex": [
       "48"
      ],
      "text/markdown": [
       "48"
      ],
      "text/plain": [
       "[1] 48"
      ]
     },
     "metadata": {},
     "output_type": "display_data"
    }
   ],
   "source": [
    "length(EBlist)"
   ]
  },
  {
   "cell_type": "code",
   "execution_count": 25,
   "metadata": {},
   "outputs": [],
   "source": [
    "ps.norm = transform_sample_counts(ps, function(x) x/sum(x))"
   ]
  },
  {
   "cell_type": "code",
   "execution_count": 32,
   "metadata": {},
   "outputs": [
    {
     "name": "stderr",
     "output_type": "stream",
     "text": [
      "Warning message in psmelt(.):\n",
      "“The sample variables: \n",
      "Sample\n",
      " have been renamed to: \n",
      "sample_Sample\n",
      "to avoid conflicts with special phyloseq plot attribute names.”"
     ]
    }
   ],
   "source": [
    "tmp.p =  prune_taxa(EBlist, ps.norm) %>% psmelt()\n"
   ]
  },
  {
   "cell_type": "code",
   "execution_count": null,
   "metadata": {},
   "outputs": [],
   "source": []
  },
  {
   "cell_type": "code",
   "execution_count": 44,
   "metadata": {
    "scrolled": false
   },
   "outputs": [
    {
     "data": {},
     "metadata": {},
     "output_type": "display_data"
    },
    {
     "data": {
      "image/png": "[encoded data removed]",
      "text/plain": [
       "plot without title"
      ]
     },
     "metadata": {},
     "output_type": "display_data"
    }
   ],
   "source": [
    "\n",
    "tmp.p %>%\n",
    "    mutate(AbundScale = log2(Abundance + .000001)) %>%\n",
    "    filter(OTU %in% EBlist[1:20]) %>%\n",
    "    ggplot(aes(x = SampleType, y = AbundScale)) +\n",
    "    geom_boxplot() +\n",
    "    #scale_y_continuous(trans = \"log2\")+\n",
    "    facet_wrap(~OTU, ncol = 4)"
   ]
  },
  {
   "cell_type": "code",
   "execution_count": 46,
   "metadata": {
    "scrolled": false
   },
   "outputs": [
    {
     "data": {
      "text/html": [
       "<table>\n",
       "<thead><tr><th></th><th scope=col>Kingdom</th><th scope=col>Phylum</th><th scope=col>Class</th><th scope=col>Order</th><th scope=col>Family</th><th scope=col>Genus</th></tr></thead>\n",
       "<tbody>\n",
       "\t<tr><th scope=row>ASV277</th><td>Bacteria          </td><td>Acidobacteria     </td><td>Subgroup_6        </td><td>NA                </td><td>NA                </td><td>NA                </td></tr>\n",
       "\t<tr><th scope=row>ASV4</th><td>Bacteria          </td><td>NA                </td><td>NA                </td><td>NA                </td><td>NA                </td><td>NA                </td></tr>\n",
       "\t<tr><th scope=row>ASV11</th><td>Bacteria          </td><td>NA                </td><td>NA                </td><td>NA                </td><td>NA                </td><td>NA                </td></tr>\n",
       "\t<tr><th scope=row>ASV2</th><td>Bacteria          </td><td>NA                </td><td>NA                </td><td>NA                </td><td>NA                </td><td>NA                </td></tr>\n",
       "\t<tr><th scope=row>ASV23</th><td>Bacteria          </td><td>Fibrobacteres     </td><td>Fibrobacteria     </td><td>Fibrobacterales   </td><td>Fibrobacteraceae  </td><td>possible_genus_04 </td></tr>\n",
       "\t<tr><th scope=row>ASV1540</th><td>Bacteria          </td><td>Bacteroidetes     </td><td>Bacteroidia       </td><td>Cytophagales      </td><td>Microscillaceae   </td><td>Ohtaekwangia      </td></tr>\n",
       "\t<tr><th scope=row>ASV7182</th><td>Bacteria          </td><td>Bacteroidetes     </td><td>Bacteroidia       </td><td>Chitinophagales   </td><td>Chitinophagaceae  </td><td>Terrimonas        </td></tr>\n",
       "\t<tr><th scope=row>ASV1900</th><td>Bacteria          </td><td>Firmicutes        </td><td>Bacilli           </td><td>Lactobacillales   </td><td>Streptococcaceae  </td><td>Streptococcus     </td></tr>\n",
       "\t<tr><th scope=row>ASV8536</th><td>Bacteria          </td><td>Firmicutes        </td><td>Bacilli           </td><td>Bacillales        </td><td>Family_XI         </td><td>Gemella           </td></tr>\n",
       "\t<tr><th scope=row>ASV902</th><td>Bacteria          </td><td>Firmicutes        </td><td>Bacilli           </td><td>Bacillales        </td><td>Bacillaceae       </td><td>Bacillus          </td></tr>\n",
       "\t<tr><th scope=row>ASV447</th><td>Bacteria          </td><td>Firmicutes        </td><td>Bacilli           </td><td>Bacillales        </td><td>Staphylococcaceae </td><td>Staphylococcus    </td></tr>\n",
       "\t<tr><th scope=row>ASV312</th><td>Bacteria          </td><td>Chloroflexi       </td><td>Chloroflexia      </td><td>Kallotenuales     </td><td>NA                </td><td>NA                </td></tr>\n",
       "\t<tr><th scope=row>ASV577</th><td>Bacteria          </td><td>Chloroflexi       </td><td>Chloroflexia      </td><td>Kallotenuales     </td><td>NA                </td><td>NA                </td></tr>\n",
       "\t<tr><th scope=row>ASV1002</th><td>Bacteria          </td><td>Chloroflexi       </td><td>Chloroflexia      </td><td>Kallotenuales     </td><td>AKIW781           </td><td>NA                </td></tr>\n",
       "\t<tr><th scope=row>ASV401</th><td>Bacteria          </td><td>Actinobacteria    </td><td>Actinobacteria    </td><td>Micrococcales     </td><td>Intrasporangiaceae</td><td>Janibacter        </td></tr>\n",
       "\t<tr><th scope=row>ASV4083</th><td>Bacteria          </td><td>Actinobacteria    </td><td>Actinobacteria    </td><td>Micrococcales     </td><td>Intrasporangiaceae</td><td>Janibacter        </td></tr>\n",
       "\t<tr><th scope=row>ASV3225</th><td>Bacteria          </td><td>Actinobacteria    </td><td>Actinobacteria    </td><td>Micrococcales     </td><td>Micrococcaceae    </td><td>Kocuria           </td></tr>\n",
       "\t<tr><th scope=row>ASV5</th><td>Bacteria          </td><td>Actinobacteria    </td><td>Actinobacteria    </td><td>Micrococcales     </td><td>Micrococcaceae    </td><td>Pseudarthrobacter </td></tr>\n",
       "\t<tr><th scope=row>ASV1171</th><td>Bacteria          </td><td>Actinobacteria    </td><td>Actinobacteria    </td><td>Corynebacteriales </td><td>Mycobacteriaceae  </td><td>Mycobacterium     </td></tr>\n",
       "\t<tr><th scope=row>ASV2962</th><td>Bacteria          </td><td>Actinobacteria    </td><td>Actinobacteria    </td><td>Corynebacteriales </td><td>Corynebacteriaceae</td><td>Lawsonella        </td></tr>\n",
       "</tbody>\n",
       "</table>\n"
      ],
      "text/latex": [
       "\\begin{tabular}{r|llllll}\n",
       "  & Kingdom & Phylum & Class & Order & Family & Genus\\\\\n",
       "\\hline\n",
       "\tASV277 & Bacteria           & Acidobacteria      & Subgroup\\_6       & NA                 & NA                 & NA                \\\\\n",
       "\tASV4 & Bacteria           & NA                 & NA                 & NA                 & NA                 & NA                \\\\\n",
       "\tASV11 & Bacteria           & NA                 & NA                 & NA                 & NA                 & NA                \\\\\n",
       "\tASV2 & Bacteria           & NA                 & NA                 & NA                 & NA                 & NA                \\\\\n",
       "\tASV23 & Bacteria              & Fibrobacteres         & Fibrobacteria         & Fibrobacterales       & Fibrobacteraceae      & possible\\_genus\\_04\\\\\n",
       "\tASV1540 & Bacteria           & Bacteroidetes      & Bacteroidia        & Cytophagales       & Microscillaceae    & Ohtaekwangia      \\\\\n",
       "\tASV7182 & Bacteria           & Bacteroidetes      & Bacteroidia        & Chitinophagales    & Chitinophagaceae   & Terrimonas        \\\\\n",
       "\tASV1900 & Bacteria           & Firmicutes         & Bacilli            & Lactobacillales    & Streptococcaceae   & Streptococcus     \\\\\n",
       "\tASV8536 & Bacteria             & Firmicutes           & Bacilli              & Bacillales           & Family\\_XI          & Gemella             \\\\\n",
       "\tASV902 & Bacteria           & Firmicutes         & Bacilli            & Bacillales         & Bacillaceae        & Bacillus          \\\\\n",
       "\tASV447 & Bacteria           & Firmicutes         & Bacilli            & Bacillales         & Staphylococcaceae  & Staphylococcus    \\\\\n",
       "\tASV312 & Bacteria           & Chloroflexi        & Chloroflexia       & Kallotenuales      & NA                 & NA                \\\\\n",
       "\tASV577 & Bacteria           & Chloroflexi        & Chloroflexia       & Kallotenuales      & NA                 & NA                \\\\\n",
       "\tASV1002 & Bacteria           & Chloroflexi        & Chloroflexia       & Kallotenuales      & AKIW781            & NA                \\\\\n",
       "\tASV401 & Bacteria           & Actinobacteria     & Actinobacteria     & Micrococcales      & Intrasporangiaceae & Janibacter        \\\\\n",
       "\tASV4083 & Bacteria           & Actinobacteria     & Actinobacteria     & Micrococcales      & Intrasporangiaceae & Janibacter        \\\\\n",
       "\tASV3225 & Bacteria           & Actinobacteria     & Actinobacteria     & Micrococcales      & Micrococcaceae     & Kocuria           \\\\\n",
       "\tASV5 & Bacteria           & Actinobacteria     & Actinobacteria     & Micrococcales      & Micrococcaceae     & Pseudarthrobacter \\\\\n",
       "\tASV1171 & Bacteria           & Actinobacteria     & Actinobacteria     & Corynebacteriales  & Mycobacteriaceae   & Mycobacterium     \\\\\n",
       "\tASV2962 & Bacteria           & Actinobacteria     & Actinobacteria     & Corynebacteriales  & Corynebacteriaceae & Lawsonella        \\\\\n",
       "\\end{tabular}\n"
      ],
      "text/markdown": [
       "\n",
       "| <!--/--> | Kingdom | Phylum | Class | Order | Family | Genus | \n",
       "|---|---|---|---|---|---|---|---|---|---|---|---|---|---|---|---|---|---|---|---|\n",
       "| ASV277 | Bacteria           | Acidobacteria      | Subgroup_6         | NA                 | NA                 | NA                 | \n",
       "| ASV4 | Bacteria           | NA                 | NA                 | NA                 | NA                 | NA                 | \n",
       "| ASV11 | Bacteria           | NA                 | NA                 | NA                 | NA                 | NA                 | \n",
       "| ASV2 | Bacteria           | NA                 | NA                 | NA                 | NA                 | NA                 | \n",
       "| ASV23 | Bacteria           | Fibrobacteres      | Fibrobacteria      | Fibrobacterales    | Fibrobacteraceae   | possible_genus_04  | \n",
       "| ASV1540 | Bacteria           | Bacteroidetes      | Bacteroidia        | Cytophagales       | Microscillaceae    | Ohtaekwangia       | \n",
       "| ASV7182 | Bacteria           | Bacteroidetes      | Bacteroidia        | Chitinophagales    | Chitinophagaceae   | Terrimonas         | \n",
       "| ASV1900 | Bacteria           | Firmicutes         | Bacilli            | Lactobacillales    | Streptococcaceae   | Streptococcus      | \n",
       "| ASV8536 | Bacteria           | Firmicutes         | Bacilli            | Bacillales         | Family_XI          | Gemella            | \n",
       "| ASV902 | Bacteria           | Firmicutes         | Bacilli            | Bacillales         | Bacillaceae        | Bacillus           | \n",
       "| ASV447 | Bacteria           | Firmicutes         | Bacilli            | Bacillales         | Staphylococcaceae  | Staphylococcus     | \n",
       "| ASV312 | Bacteria           | Chloroflexi        | Chloroflexia       | Kallotenuales      | NA                 | NA                 | \n",
       "| ASV577 | Bacteria           | Chloroflexi        | Chloroflexia       | Kallotenuales      | NA                 | NA                 | \n",
       "| ASV1002 | Bacteria           | Chloroflexi        | Chloroflexia       | Kallotenuales      | AKIW781            | NA                 | \n",
       "| ASV401 | Bacteria           | Actinobacteria     | Actinobacteria     | Micrococcales      | Intrasporangiaceae | Janibacter         | \n",
       "| ASV4083 | Bacteria           | Actinobacteria     | Actinobacteria     | Micrococcales      | Intrasporangiaceae | Janibacter         | \n",
       "| ASV3225 | Bacteria           | Actinobacteria     | Actinobacteria     | Micrococcales      | Micrococcaceae     | Kocuria            | \n",
       "| ASV5 | Bacteria           | Actinobacteria     | Actinobacteria     | Micrococcales      | Micrococcaceae     | Pseudarthrobacter  | \n",
       "| ASV1171 | Bacteria           | Actinobacteria     | Actinobacteria     | Corynebacteriales  | Mycobacteriaceae   | Mycobacterium      | \n",
       "| ASV2962 | Bacteria           | Actinobacteria     | Actinobacteria     | Corynebacteriales  | Corynebacteriaceae | Lawsonella         | \n",
       "\n",
       "\n"
      ],
      "text/plain": [
       "        Kingdom  Phylum         Class          Order            \n",
       "ASV277  Bacteria Acidobacteria  Subgroup_6     NA               \n",
       "ASV4    Bacteria NA             NA             NA               \n",
       "ASV11   Bacteria NA             NA             NA               \n",
       "ASV2    Bacteria NA             NA             NA               \n",
       "ASV23   Bacteria Fibrobacteres  Fibrobacteria  Fibrobacterales  \n",
       "ASV1540 Bacteria Bacteroidetes  Bacteroidia    Cytophagales     \n",
       "ASV7182 Bacteria Bacteroidetes  Bacteroidia    Chitinophagales  \n",
       "ASV1900 Bacteria Firmicutes     Bacilli        Lactobacillales  \n",
       "ASV8536 Bacteria Firmicutes     Bacilli        Bacillales       \n",
       "ASV902  Bacteria Firmicutes     Bacilli        Bacillales       \n",
       "ASV447  Bacteria Firmicutes     Bacilli        Bacillales       \n",
       "ASV312  Bacteria Chloroflexi    Chloroflexia   Kallotenuales    \n",
       "ASV577  Bacteria Chloroflexi    Chloroflexia   Kallotenuales    \n",
       "ASV1002 Bacteria Chloroflexi    Chloroflexia   Kallotenuales    \n",
       "ASV401  Bacteria Actinobacteria Actinobacteria Micrococcales    \n",
       "ASV4083 Bacteria Actinobacteria Actinobacteria Micrococcales    \n",
       "ASV3225 Bacteria Actinobacteria Actinobacteria Micrococcales    \n",
       "ASV5    Bacteria Actinobacteria Actinobacteria Micrococcales    \n",
       "ASV1171 Bacteria Actinobacteria Actinobacteria Corynebacteriales\n",
       "ASV2962 Bacteria Actinobacteria Actinobacteria Corynebacteriales\n",
       "        Family             Genus            \n",
       "ASV277  NA                 NA               \n",
       "ASV4    NA                 NA               \n",
       "ASV11   NA                 NA               \n",
       "ASV2    NA                 NA               \n",
       "ASV23   Fibrobacteraceae   possible_genus_04\n",
       "ASV1540 Microscillaceae    Ohtaekwangia     \n",
       "ASV7182 Chitinophagaceae   Terrimonas       \n",
       "ASV1900 Streptococcaceae   Streptococcus    \n",
       "ASV8536 Family_XI          Gemella          \n",
       "ASV902  Bacillaceae        Bacillus         \n",
       "ASV447  Staphylococcaceae  Staphylococcus   \n",
       "ASV312  NA                 NA               \n",
       "ASV577  NA                 NA               \n",
       "ASV1002 AKIW781            NA               \n",
       "ASV401  Intrasporangiaceae Janibacter       \n",
       "ASV4083 Intrasporangiaceae Janibacter       \n",
       "ASV3225 Micrococcaceae     Kocuria          \n",
       "ASV5    Micrococcaceae     Pseudarthrobacter\n",
       "ASV1171 Mycobacteriaceae   Mycobacterium    \n",
       "ASV2962 Corynebacteriaceae Lawsonella       "
      ]
     },
     "metadata": {},
     "output_type": "display_data"
    }
   ],
   "source": [
    "prune_taxa(EBlist[1:20], ps) %>% tax_table()"
   ]
  },
  {
   "cell_type": "code",
   "execution_count": 50,
   "metadata": {},
   "outputs": [
    {
     "data": {
      "text/html": [
       "1.24940653189735e-05"
      ],
      "text/latex": [
       "1.24940653189735e-05"
      ],
      "text/markdown": [
       "1.24940653189735e-05"
      ],
      "text/plain": [
       "[1] 1.249407e-05"
      ]
     },
     "metadata": {},
     "output_type": "display_data"
    }
   ],
   "source": [
    "tmp.p %>% filter(Abundance > 0) %>% .$Abundance %>% min()"
   ]
  },
  {
   "cell_type": "code",
   "execution_count": 51,
   "metadata": {},
   "outputs": [
    {
     "data": {},
     "metadata": {},
     "output_type": "display_data"
    },
    {
     "data": {
      "image/png": "[encoded data removed]",
      "text/plain": [
       "plot without title"
      ]
     },
     "metadata": {},
     "output_type": "display_data"
    }
   ],
   "source": [
    "\n",
    "tmp.p %>%\n",
    "    mutate(AbundScale = log2(Abundance + .00001)) %>%\n",
    "    filter(OTU %in% EBlist[21:48]) %>%\n",
    "    ggplot(aes(x = SampleType, y = AbundScale)) +\n",
    "    geom_boxplot() +\n",
    "    #scale_y_continuous(trans = \"log2\")+\n",
    "    facet_wrap(~OTU, ncol = 4)"
   ]
  },
  {
   "cell_type": "code",
   "execution_count": 72,
   "metadata": {
    "scrolled": true
   },
   "outputs": [
    {
     "ename": "ERROR",
     "evalue": "Error in (function (classes, fdef, mtable) : unable to find an inherited method for function ‘prune_taxa’ for signature ‘\"list\", \"phyloseq\"’\n",
     "output_type": "error",
     "traceback": [
      "Error in (function (classes, fdef, mtable) : unable to find an inherited method for function ‘prune_taxa’ for signature ‘\"list\", \"phyloseq\"’\nTraceback:\n",
      "1. phyloseq::prune_taxa(EBlist[21:48], ps) %>% tax_table()",
      "2. eval(lhs, parent, parent)",
      "3. eval(lhs, parent, parent)",
      "4. phyloseq::prune_taxa(EBlist[21:48], ps)",
      "5. (function (classes, fdef, mtable) \n . {\n .     methods <- .findInheritedMethods(classes, fdef, mtable)\n .     if (length(methods) == 1L) \n .         return(methods[[1L]])\n .     else if (length(methods) == 0L) {\n .         cnames <- paste0(\"\\\"\", vapply(classes, as.character, \n .             \"\"), \"\\\"\", collapse = \", \")\n .         stop(gettextf(\"unable to find an inherited method for function %s for signature %s\", \n .             sQuote(fdef@generic), sQuote(cnames)), domain = NA)\n .     }\n .     else stop(\"Internal error in finding inherited methods; didn't return a unique method\", \n .         domain = NA)\n . })(list(\"list\", structure(\"phyloseq\", package = \"phyloseq\")), \n .     new(\"standardGeneric\", .Data = function (taxa, x) \n .     standardGeneric(\"prune_taxa\"), generic = structure(\"prune_taxa\", package = \"phyloseq\"), \n .         package = \"phyloseq\", group = list(), valueClass = character(0), \n .         signature = c(\"taxa\", \"x\"), default = NULL, skeleton = (function (taxa, \n .             x) \n .         stop(\"invalid call in method dispatch to 'prune_taxa' (no default method)\", \n .             domain = NA))(taxa, x)), <environment>)",
      "6. stop(gettextf(\"unable to find an inherited method for function %s for signature %s\", \n .     sQuote(fdef@generic), sQuote(cnames)), domain = NA)"
     ]
    }
   ],
   "source": [
    "prune_taxa(EBlist[21:48], ps) %>% tax_table()"
   ]
  },
  {
   "cell_type": "code",
   "execution_count": 56,
   "metadata": {
    "scrolled": true
   },
   "outputs": [
    {
     "data": {
      "text/html": [
       "<table>\n",
       "<thead><tr><th></th><th scope=col>187_139-BK</th><th scope=col>188_155-BK</th><th scope=col>189_187-BK</th><th scope=col>89_125-BK</th><th scope=col>90_29-BK</th><th scope=col>91_77-BK</th></tr></thead>\n",
       "<tbody>\n",
       "\t<tr><th scope=row>ASV14</th><td> 83</td><td>  9</td><td> 43</td><td>  0</td><td>75 </td><td> 0 </td></tr>\n",
       "\t<tr><th scope=row>ASV6</th><td>  0</td><td>  7</td><td>  0</td><td>  0</td><td> 0 </td><td>33 </td></tr>\n",
       "\t<tr><th scope=row>ASV681</th><td>173</td><td>138</td><td>112</td><td>111</td><td>71 </td><td>93 </td></tr>\n",
       "\t<tr><th scope=row>ASV285</th><td>  0</td><td>  0</td><td> 32</td><td>  0</td><td>88 </td><td> 0 </td></tr>\n",
       "\t<tr><th scope=row>ASV17</th><td>  0</td><td> 20</td><td>  0</td><td>  0</td><td> 0 </td><td>39 </td></tr>\n",
       "</tbody>\n",
       "</table>\n"
      ],
      "text/latex": [
       "\\begin{tabular}{r|llllll}\n",
       "  & 187\\_139-BK & 188\\_155-BK & 189\\_187-BK & 89\\_125-BK & 90\\_29-BK & 91\\_77-BK\\\\\n",
       "\\hline\n",
       "\tASV14 &  83 &   9 &  43 &   0 & 75  &  0 \\\\\n",
       "\tASV6 &   0 &   7 &   0 &   0 &  0  & 33 \\\\\n",
       "\tASV681 & 173 & 138 & 112 & 111 & 71  & 93 \\\\\n",
       "\tASV285 &   0 &   0 &  32 &   0 & 88  &  0 \\\\\n",
       "\tASV17 &   0 &  20 &   0 &   0 &  0  & 39 \\\\\n",
       "\\end{tabular}\n"
      ],
      "text/markdown": [
       "\n",
       "| <!--/--> | 187_139-BK | 188_155-BK | 189_187-BK | 89_125-BK | 90_29-BK | 91_77-BK | \n",
       "|---|---|---|---|---|\n",
       "| ASV14 |  83 |   9 |  43 |   0 | 75  |  0  | \n",
       "| ASV6 |   0 |   7 |   0 |   0 |  0  | 33  | \n",
       "| ASV681 | 173 | 138 | 112 | 111 | 71  | 93  | \n",
       "| ASV285 |   0 |   0 |  32 |   0 | 88  |  0  | \n",
       "| ASV17 |   0 |  20 |   0 |   0 |  0  | 39  | \n",
       "\n",
       "\n"
      ],
      "text/plain": [
       "       187_139-BK 188_155-BK 189_187-BK 89_125-BK 90_29-BK 91_77-BK\n",
       "ASV14   83          9         43          0       75        0      \n",
       "ASV6     0          7          0          0        0       33      \n",
       "ASV681 173        138        112        111       71       93      \n",
       "ASV285   0          0         32          0       88        0      \n",
       "ASV17    0         20          0          0        0       39      "
      ]
     },
     "metadata": {},
     "output_type": "display_data"
    }
   ],
   "source": [
    "otu_table(EB) %>% t() %>% .[c('ASV14', 'ASV6', 'ASV681', 'ASV285', 'ASV17'),]"
   ]
  },
  {
   "cell_type": "code",
   "execution_count": 65,
   "metadata": {
    "scrolled": true
   },
   "outputs": [
    {
     "data": {
      "text/html": [
       "<table>\n",
       "<thead><tr><th scope=col>Abundance</th><th scope=col>ASV</th></tr></thead>\n",
       "<tbody>\n",
       "\t<tr><td>986    </td><td>ASV2   </td></tr>\n",
       "\t<tr><td>810    </td><td>ASV312 </td></tr>\n",
       "\t<tr><td>698    </td><td>ASV681 </td></tr>\n",
       "\t<tr><td>540    </td><td>ASV1986</td></tr>\n",
       "\t<tr><td>484    </td><td>ASV2714</td></tr>\n",
       "\t<tr><td>460    </td><td>ASV2160</td></tr>\n",
       "\t<tr><td>446    </td><td>ASV2117</td></tr>\n",
       "\t<tr><td>401    </td><td>ASV2704</td></tr>\n",
       "\t<tr><td>310    </td><td>ASV1002</td></tr>\n",
       "\t<tr><td>272    </td><td>ASV4083</td></tr>\n",
       "\t<tr><td>260    </td><td>ASV5932</td></tr>\n",
       "\t<tr><td>223    </td><td>ASV4   </td></tr>\n",
       "\t<tr><td>210    </td><td>ASV14  </td></tr>\n",
       "\t<tr><td>201    </td><td>ASV401 </td></tr>\n",
       "\t<tr><td>193    </td><td>ASV118 </td></tr>\n",
       "\t<tr><td>192    </td><td>ASV85  </td></tr>\n",
       "\t<tr><td>190    </td><td>ASV447 </td></tr>\n",
       "\t<tr><td>181    </td><td>ASV1171</td></tr>\n",
       "\t<tr><td>180    </td><td>ASV577 </td></tr>\n",
       "\t<tr><td>179    </td><td>ASV1178</td></tr>\n",
       "\t<tr><td>166    </td><td>ASV7871</td></tr>\n",
       "\t<tr><td>160    </td><td>ASV1900</td></tr>\n",
       "\t<tr><td>153    </td><td>ASV171 </td></tr>\n",
       "\t<tr><td>150    </td><td>ASV902 </td></tr>\n",
       "\t<tr><td>149    </td><td>ASV5   </td></tr>\n",
       "\t<tr><td>148    </td><td>ASV23  </td></tr>\n",
       "\t<tr><td>143    </td><td>ASV4734</td></tr>\n",
       "\t<tr><td>142    </td><td>ASV113 </td></tr>\n",
       "\t<tr><td>142    </td><td>ASV2449</td></tr>\n",
       "\t<tr><td>139    </td><td>ASV3747</td></tr>\n",
       "\t<tr><td>⋮</td><td>⋮</td></tr>\n",
       "\t<tr><td>23      </td><td>ASV833  </td></tr>\n",
       "\t<tr><td>22      </td><td>ASV1604 </td></tr>\n",
       "\t<tr><td>22      </td><td>ASV3435 </td></tr>\n",
       "\t<tr><td>21      </td><td>ASV886  </td></tr>\n",
       "\t<tr><td>21      </td><td>ASV2615 </td></tr>\n",
       "\t<tr><td>21      </td><td>ASV563  </td></tr>\n",
       "\t<tr><td>21      </td><td>ASV613  </td></tr>\n",
       "\t<tr><td>21      </td><td>ASV979  </td></tr>\n",
       "\t<tr><td>20      </td><td>ASV8506 </td></tr>\n",
       "\t<tr><td>18      </td><td>ASV1222 </td></tr>\n",
       "\t<tr><td>18      </td><td>ASV44   </td></tr>\n",
       "\t<tr><td>18      </td><td>ASV32   </td></tr>\n",
       "\t<tr><td>17      </td><td>ASV1660 </td></tr>\n",
       "\t<tr><td>17      </td><td>ASV13393</td></tr>\n",
       "\t<tr><td>17      </td><td>ASV1476 </td></tr>\n",
       "\t<tr><td>16      </td><td>ASV5031 </td></tr>\n",
       "\t<tr><td>16      </td><td>ASV1612 </td></tr>\n",
       "\t<tr><td>16      </td><td>ASV1098 </td></tr>\n",
       "\t<tr><td>16      </td><td>ASV581  </td></tr>\n",
       "\t<tr><td>15      </td><td>ASV5457 </td></tr>\n",
       "\t<tr><td>13      </td><td>ASV4286 </td></tr>\n",
       "\t<tr><td>11      </td><td>ASV2164 </td></tr>\n",
       "\t<tr><td> 9      </td><td>ASV746  </td></tr>\n",
       "\t<tr><td> 7      </td><td>ASV4521 </td></tr>\n",
       "\t<tr><td> 6      </td><td>ASV1717 </td></tr>\n",
       "\t<tr><td> 5      </td><td>ASV67   </td></tr>\n",
       "\t<tr><td> 4      </td><td>ASV269  </td></tr>\n",
       "\t<tr><td> 3      </td><td>ASV6711 </td></tr>\n",
       "\t<tr><td> 2      </td><td>ASV13461</td></tr>\n",
       "\t<tr><td> 2      </td><td>ASV14816</td></tr>\n",
       "</tbody>\n",
       "</table>\n"
      ],
      "text/latex": [
       "\\begin{tabular}{r|ll}\n",
       " Abundance & ASV\\\\\n",
       "\\hline\n",
       "\t 986     & ASV2   \\\\\n",
       "\t 810     & ASV312 \\\\\n",
       "\t 698     & ASV681 \\\\\n",
       "\t 540     & ASV1986\\\\\n",
       "\t 484     & ASV2714\\\\\n",
       "\t 460     & ASV2160\\\\\n",
       "\t 446     & ASV2117\\\\\n",
       "\t 401     & ASV2704\\\\\n",
       "\t 310     & ASV1002\\\\\n",
       "\t 272     & ASV4083\\\\\n",
       "\t 260     & ASV5932\\\\\n",
       "\t 223     & ASV4   \\\\\n",
       "\t 210     & ASV14  \\\\\n",
       "\t 201     & ASV401 \\\\\n",
       "\t 193     & ASV118 \\\\\n",
       "\t 192     & ASV85  \\\\\n",
       "\t 190     & ASV447 \\\\\n",
       "\t 181     & ASV1171\\\\\n",
       "\t 180     & ASV577 \\\\\n",
       "\t 179     & ASV1178\\\\\n",
       "\t 166     & ASV7871\\\\\n",
       "\t 160     & ASV1900\\\\\n",
       "\t 153     & ASV171 \\\\\n",
       "\t 150     & ASV902 \\\\\n",
       "\t 149     & ASV5   \\\\\n",
       "\t 148     & ASV23  \\\\\n",
       "\t 143     & ASV4734\\\\\n",
       "\t 142     & ASV113 \\\\\n",
       "\t 142     & ASV2449\\\\\n",
       "\t 139     & ASV3747\\\\\n",
       "\t ⋮ & ⋮\\\\\n",
       "\t 23       & ASV833  \\\\\n",
       "\t 22       & ASV1604 \\\\\n",
       "\t 22       & ASV3435 \\\\\n",
       "\t 21       & ASV886  \\\\\n",
       "\t 21       & ASV2615 \\\\\n",
       "\t 21       & ASV563  \\\\\n",
       "\t 21       & ASV613  \\\\\n",
       "\t 21       & ASV979  \\\\\n",
       "\t 20       & ASV8506 \\\\\n",
       "\t 18       & ASV1222 \\\\\n",
       "\t 18       & ASV44   \\\\\n",
       "\t 18       & ASV32   \\\\\n",
       "\t 17       & ASV1660 \\\\\n",
       "\t 17       & ASV13393\\\\\n",
       "\t 17       & ASV1476 \\\\\n",
       "\t 16       & ASV5031 \\\\\n",
       "\t 16       & ASV1612 \\\\\n",
       "\t 16       & ASV1098 \\\\\n",
       "\t 16       & ASV581  \\\\\n",
       "\t 15       & ASV5457 \\\\\n",
       "\t 13       & ASV4286 \\\\\n",
       "\t 11       & ASV2164 \\\\\n",
       "\t  9       & ASV746  \\\\\n",
       "\t  7       & ASV4521 \\\\\n",
       "\t  6       & ASV1717 \\\\\n",
       "\t  5       & ASV67   \\\\\n",
       "\t  4       & ASV269  \\\\\n",
       "\t  3       & ASV6711 \\\\\n",
       "\t  2       & ASV13461\\\\\n",
       "\t  2       & ASV14816\\\\\n",
       "\\end{tabular}\n"
      ],
      "text/markdown": [
       "\n",
       "Abundance | ASV | \n",
       "|---|---|---|---|---|---|---|---|---|---|---|---|---|---|---|---|---|---|---|---|---|---|---|---|---|---|---|---|---|---|---|---|---|---|---|---|---|---|---|---|---|---|---|---|---|---|---|---|---|---|---|---|---|---|---|---|---|---|---|---|---|\n",
       "| 986     | ASV2    | \n",
       "| 810     | ASV312  | \n",
       "| 698     | ASV681  | \n",
       "| 540     | ASV1986 | \n",
       "| 484     | ASV2714 | \n",
       "| 460     | ASV2160 | \n",
       "| 446     | ASV2117 | \n",
       "| 401     | ASV2704 | \n",
       "| 310     | ASV1002 | \n",
       "| 272     | ASV4083 | \n",
       "| 260     | ASV5932 | \n",
       "| 223     | ASV4    | \n",
       "| 210     | ASV14   | \n",
       "| 201     | ASV401  | \n",
       "| 193     | ASV118  | \n",
       "| 192     | ASV85   | \n",
       "| 190     | ASV447  | \n",
       "| 181     | ASV1171 | \n",
       "| 180     | ASV577  | \n",
       "| 179     | ASV1178 | \n",
       "| 166     | ASV7871 | \n",
       "| 160     | ASV1900 | \n",
       "| 153     | ASV171  | \n",
       "| 150     | ASV902  | \n",
       "| 149     | ASV5    | \n",
       "| 148     | ASV23   | \n",
       "| 143     | ASV4734 | \n",
       "| 142     | ASV113  | \n",
       "| 142     | ASV2449 | \n",
       "| 139     | ASV3747 | \n",
       "| ⋮ | ⋮ | \n",
       "| 23       | ASV833   | \n",
       "| 22       | ASV1604  | \n",
       "| 22       | ASV3435  | \n",
       "| 21       | ASV886   | \n",
       "| 21       | ASV2615  | \n",
       "| 21       | ASV563   | \n",
       "| 21       | ASV613   | \n",
       "| 21       | ASV979   | \n",
       "| 20       | ASV8506  | \n",
       "| 18       | ASV1222  | \n",
       "| 18       | ASV44    | \n",
       "| 18       | ASV32    | \n",
       "| 17       | ASV1660  | \n",
       "| 17       | ASV13393 | \n",
       "| 17       | ASV1476  | \n",
       "| 16       | ASV5031  | \n",
       "| 16       | ASV1612  | \n",
       "| 16       | ASV1098  | \n",
       "| 16       | ASV581   | \n",
       "| 15       | ASV5457  | \n",
       "| 13       | ASV4286  | \n",
       "| 11       | ASV2164  | \n",
       "|  9       | ASV746   | \n",
       "|  7       | ASV4521  | \n",
       "|  6       | ASV1717  | \n",
       "|  5       | ASV67    | \n",
       "|  4       | ASV269   | \n",
       "|  3       | ASV6711  | \n",
       "|  2       | ASV13461 | \n",
       "|  2       | ASV14816 | \n",
       "\n",
       "\n"
      ],
      "text/plain": [
       "    Abundance ASV     \n",
       "1   986       ASV2    \n",
       "2   810       ASV312  \n",
       "3   698       ASV681  \n",
       "4   540       ASV1986 \n",
       "5   484       ASV2714 \n",
       "6   460       ASV2160 \n",
       "7   446       ASV2117 \n",
       "8   401       ASV2704 \n",
       "9   310       ASV1002 \n",
       "10  272       ASV4083 \n",
       "11  260       ASV5932 \n",
       "12  223       ASV4    \n",
       "13  210       ASV14   \n",
       "14  201       ASV401  \n",
       "15  193       ASV118  \n",
       "16  192       ASV85   \n",
       "17  190       ASV447  \n",
       "18  181       ASV1171 \n",
       "19  180       ASV577  \n",
       "20  179       ASV1178 \n",
       "21  166       ASV7871 \n",
       "22  160       ASV1900 \n",
       "23  153       ASV171  \n",
       "24  150       ASV902  \n",
       "25  149       ASV5    \n",
       "26  148       ASV23   \n",
       "27  143       ASV4734 \n",
       "28  142       ASV113  \n",
       "29  142       ASV2449 \n",
       "30  139       ASV3747 \n",
       "⋮   ⋮         ⋮       \n",
       "166 23        ASV833  \n",
       "167 22        ASV1604 \n",
       "168 22        ASV3435 \n",
       "169 21        ASV886  \n",
       "170 21        ASV2615 \n",
       "171 21        ASV563  \n",
       "172 21        ASV613  \n",
       "173 21        ASV979  \n",
       "174 20        ASV8506 \n",
       "175 18        ASV1222 \n",
       "176 18        ASV44   \n",
       "177 18        ASV32   \n",
       "178 17        ASV1660 \n",
       "179 17        ASV13393\n",
       "180 17        ASV1476 \n",
       "181 16        ASV5031 \n",
       "182 16        ASV1612 \n",
       "183 16        ASV1098 \n",
       "184 16        ASV581  \n",
       "185 15        ASV5457 \n",
       "186 13        ASV4286 \n",
       "187 11        ASV2164 \n",
       "188  9        ASV746  \n",
       "189  7        ASV4521 \n",
       "190  6        ASV1717 \n",
       "191  5        ASV67   \n",
       "192  4        ASV269  \n",
       "193  3        ASV6711 \n",
       "194  2        ASV13461\n",
       "195  2        ASV14816"
      ]
     },
     "metadata": {},
     "output_type": "display_data"
    }
   ],
   "source": [
    "tmp = taxa_sums(EB) %>% as.data.frame()   \n",
    "tmp$ASV = row.names(tmp)\n",
    "colnames(tmp)[1] = 'Abundance'\n",
    "tmp %>% arrange(desc(Abundance))\n",
    "EBlist = tmp %>% arrange(desc(Abundance)) %>% .$ASV %>% as.list()"
   ]
  },
  {
   "cell_type": "code",
   "execution_count": 84,
   "metadata": {
    "scrolled": true
   },
   "outputs": [
    {
     "name": "stderr",
     "output_type": "stream",
     "text": [
      "Warning message in psmelt(ps.norm):\n",
      "“The sample variables: \n",
      "Sample\n",
      " have been renamed to: \n",
      "sample_Sample\n",
      "to avoid conflicts with special phyloseq plot attribute names.”"
     ]
    }
   ],
   "source": [
    "ps.m = psmelt(ps.norm)\n",
    "\n"
   ]
  },
  {
   "cell_type": "code",
   "execution_count": 131,
   "metadata": {},
   "outputs": [],
   "source": [
    "ps.m = ps.m %>% mutate(AbundScale = log2(Abundance + .000001))"
   ]
  },
  {
   "cell_type": "markdown",
   "metadata": {},
   "source": [
    "## print plots of potential contaminants to pdf"
   ]
  },
  {
   "cell_type": "code",
   "execution_count": 138,
   "metadata": {},
   "outputs": [
    {
     "data": {
      "image/png": "[encoded data removed]",
      "text/plain": [
       "plot without title"
      ]
     },
     "metadata": {},
     "output_type": "display_data"
    },
    {
     "data": {
      "image/png": "[encoded data removed]",
      "text/plain": [
       "plot without title"
      ]
     },
     "metadata": {},
     "output_type": "display_data"
    }
   ],
   "source": [
    "plot1 = filter(ps.m, OTU == cTax & SampleType %in% c(\"EB\", \"PB\", \"MK\")) %>%\n",
    "    ggplot(., aes(x=interaction(Treatment,Rep), y= AbundScale)) +\n",
    "    geom_point()+\n",
    "    facet_grid(Soil~SampleType, scales = 'free_x')+\n",
    "    ggtitle(as.character(cTax))+\n",
    "    ylab('Relative abundance (log2)')\n",
    "\n",
    "plot2 = filter(ps.m, OTU == cTax & !SampleType %in% c(\"EB\", \"PB\", \"MK\") & Soil %in% c(\"Lansing\", \"Pendleton\", \"Florence\")) %>%\n",
    "    ggplot(., aes(x=interaction(Treatment,Rep), y= AbundScale)) +\n",
    "    geom_point()+\n",
    "    facet_grid(Soil~SampleType, scales = 'free_x')+\n",
    "    ggtitle(as.character(cTax))+\n",
    "    ylab('Relative abundance (log2)')\n",
    "\n",
    "\n",
    "    print(plot1)\n",
    "    print(plot2)\n",
    "               "
   ]
  },
  {
   "cell_type": "code",
   "execution_count": 140,
   "metadata": {},
   "outputs": [
    {
     "data": {
      "text/html": [
       "<strong>png:</strong> 2"
      ],
      "text/latex": [
       "\\textbf{png:} 2"
      ],
      "text/markdown": [
       "**png:** 2"
      ],
      "text/plain": [
       "png \n",
       "  2 "
      ]
     },
     "metadata": {},
     "output_type": "display_data"
    }
   ],
   "source": [
    "\n",
    "pdf('~/Hyphosphere/Exp11/EB_ContaminantCheck.pdf')    \n",
    "\n",
    "for(cTax in EBlist){\n",
    "    \n",
    "    plot1 = filter(ps.m, OTU == cTax & SampleType %in% c(\"EB\", \"PB\", \"MK\")) %>%\n",
    "    ggplot(., aes(x=interaction(Treatment,Rep), y= AbundScale)) +\n",
    "    geom_point()+\n",
    "    facet_grid(Soil~SampleType, scales = 'free_x')+\n",
    "    ggtitle(as.character(cTax))+\n",
    "    ylab('Relative abundance (log2)')\n",
    "\n",
    "    plot2 = filter(ps.m, OTU == cTax & !SampleType %in% c(\"EB\", \"PB\", \"MK\") & Soil %in% c(\"Lansing\", \"Pendelton\", \"Florence\")) %>%\n",
    "    ggplot(., aes(x=interaction(Treatment,Rep), y= AbundScale)) +\n",
    "    geom_point()+\n",
    "    facet_grid(Soil~SampleType, scales = 'free_x')+\n",
    "    ggtitle(as.character(cTax))+\n",
    "    ylab('Relative abundance (log2)')\n",
    "\n",
    "\n",
    "    print(plot1)\n",
    "    print(plot2)\n",
    "    }\n",
    "dev.off()\n",
    "    "
   ]
  },
  {
   "cell_type": "code",
   "execution_count": 160,
   "metadata": {
    "scrolled": true
   },
   "outputs": [
    {
     "data": {
      "text/html": [
       "<table>\n",
       "<thead><tr><th></th><th scope=col>Kingdom</th><th scope=col>Phylum</th><th scope=col>Class</th><th scope=col>Order</th><th scope=col>Family</th><th scope=col>Genus</th></tr></thead>\n",
       "<tbody>\n",
       "\t<tr><th scope=row>ASV401</th><td>Bacteria          </td><td>Actinobacteria    </td><td>Actinobacteria    </td><td>Micrococcales     </td><td>Intrasporangiaceae</td><td>Janibacter        </td></tr>\n",
       "</tbody>\n",
       "</table>\n"
      ],
      "text/latex": [
       "\\begin{tabular}{r|llllll}\n",
       "  & Kingdom & Phylum & Class & Order & Family & Genus\\\\\n",
       "\\hline\n",
       "\tASV401 & Bacteria           & Actinobacteria     & Actinobacteria     & Micrococcales      & Intrasporangiaceae & Janibacter        \\\\\n",
       "\\end{tabular}\n"
      ],
      "text/markdown": [
       "\n",
       "| <!--/--> | Kingdom | Phylum | Class | Order | Family | Genus | \n",
       "|---|\n",
       "| ASV401 | Bacteria           | Actinobacteria     | Actinobacteria     | Micrococcales      | Intrasporangiaceae | Janibacter         | \n",
       "\n",
       "\n"
      ],
      "text/plain": [
       "       Kingdom  Phylum         Class          Order         Family            \n",
       "ASV401 Bacteria Actinobacteria Actinobacteria Micrococcales Intrasporangiaceae\n",
       "       Genus     \n",
       "ASV401 Janibacter"
      ]
     },
     "metadata": {},
     "output_type": "display_data"
    }
   ],
   "source": [
    "tax_table(ps.norm)[\"ASV401\",]"
   ]
  },
  {
   "cell_type": "code",
   "execution_count": 158,
   "metadata": {
    "scrolled": true
   },
   "outputs": [
    {
     "name": "stderr",
     "output_type": "stream",
     "text": [
      "Warning message in prune_taxa(taxa, phy_tree(x)):\n",
      "“prune_taxa attempted to reduce tree to 1 or fewer tips.\n",
      " tree replaced with NULL.”"
     ]
    },
    {
     "data": {
      "text/html": [
       "<table>\n",
       "<thead><tr><th scope=col>ASV5932</th><th scope=col>sample</th></tr></thead>\n",
       "<tbody>\n",
       "\t<tr><td>0.0754060325 </td><td>90_29-BK     </td></tr>\n",
       "\t<tr><td>0.0003333722 </td><td>75_GVN7HN1-CH</td></tr>\n",
       "\t<tr><td>0.0002838778 </td><td>81_GVN7HP1-CH</td></tr>\n",
       "\t<tr><td>0.0002833012 </td><td>87_RIN7HP1-CH</td></tr>\n",
       "</tbody>\n",
       "</table>\n"
      ],
      "text/latex": [
       "\\begin{tabular}{r|ll}\n",
       " ASV5932 & sample\\\\\n",
       "\\hline\n",
       "\t 0.0754060325    & 90\\_29-BK     \\\\\n",
       "\t 0.0003333722    & 75\\_GVN7HN1-CH\\\\\n",
       "\t 0.0002838778    & 81\\_GVN7HP1-CH\\\\\n",
       "\t 0.0002833012    & 87\\_RIN7HP1-CH\\\\\n",
       "\\end{tabular}\n"
      ],
      "text/markdown": [
       "\n",
       "ASV5932 | sample | \n",
       "|---|---|---|---|\n",
       "| 0.0754060325  | 90_29-BK      | \n",
       "| 0.0003333722  | 75_GVN7HN1-CH | \n",
       "| 0.0002838778  | 81_GVN7HP1-CH | \n",
       "| 0.0002833012  | 87_RIN7HP1-CH | \n",
       "\n",
       "\n"
      ],
      "text/plain": [
       "  ASV5932      sample       \n",
       "1 0.0754060325 90_29-BK     \n",
       "2 0.0003333722 75_GVN7HN1-CH\n",
       "3 0.0002838778 81_GVN7HP1-CH\n",
       "4 0.0002833012 87_RIN7HP1-CH"
      ]
     },
     "metadata": {},
     "output_type": "display_data"
    }
   ],
   "source": [
    "tx = 'ASV4'\n",
    "df = ps.norm %>% prune_taxa(tx,.) %>% otu_table() %>% as.data.frame() %>% \n",
    "    mutate(sample = row.names(.)) %>% filter(ASV5932 > 0) %>% arrange(desc(ASV5932))\n",
    "df"
   ]
  },
  {
   "cell_type": "code",
   "execution_count": null,
   "metadata": {},
   "outputs": [],
   "source": []
  }
 ],
 "metadata": {
  "kernelspec": {
   "display_name": "R",
   "language": "R",
   "name": "ir"
  },
  "language_info": {
   "codemirror_mode": "r",
   "file_extension": ".r",
   "mimetype": "text/x-r-source",
   "name": "R",
   "pygments_lexer": "r",
   "version": "3.5.1"
  }
 },
 "nbformat": 4,
 "nbformat_minor": 2
}
