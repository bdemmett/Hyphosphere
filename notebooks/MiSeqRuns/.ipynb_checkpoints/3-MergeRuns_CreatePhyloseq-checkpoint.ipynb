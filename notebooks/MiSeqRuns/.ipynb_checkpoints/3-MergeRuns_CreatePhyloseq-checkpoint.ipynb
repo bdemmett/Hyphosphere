{
 "cells": [
  {
   "cell_type": "markdown",
   "metadata": {},
   "source": [
    "# Merge sequence tables from multiple runs and create phyloseq object"
   ]
  },
  {
   "cell_type": "code",
   "execution_count": null,
   "metadata": {},
   "outputs": [],
   "source": [
    "ncores = 20\n",
    "OutFolder = \"~/Hyphosphere/data/MiSeq/merged/dada2_intermediates\"\n",
    "\n",
    "#location of taxonomy database\n",
    "TrainingSet = '~/databases/silva_nr_v132_train_set.fa.gz'\n",
    "SpeciesTraining = '~/databases/silva_species_assignment_v132.fa.gz'\n",
    "\n",
    "#Metadata file\n",
    "SamData = '~/Hyphosphere/3exp_metadata.txt'"
   ]
  },
  {
   "cell_type": "code",
   "execution_count": 3,
   "metadata": {},
   "outputs": [
    {
     "name": "stderr",
     "output_type": "stream",
     "text": [
      "Loading required package: Rcpp\n",
      "\n",
      "Attaching package: ‘dplyr’\n",
      "\n",
      "The following objects are masked from ‘package:stats’:\n",
      "\n",
      "    filter, lag\n",
      "\n",
      "The following objects are masked from ‘package:base’:\n",
      "\n",
      "    intersect, setdiff, setequal, union\n",
      "\n"
     ]
    }
   ],
   "source": [
    "library(dada2)\n",
    "library(tidyr)\n",
    "library(dplyr)\n",
    "library(phyloseq)\n",
    "library(ggplot2)"
   ]
  },
  {
   "cell_type": "code",
   "execution_count": null,
   "metadata": {},
   "outputs": [],
   "source": [
    "\n",
    "                   # Merge multiple runs (if necessary)\n",
    "st1 <- readRDS(\"~/Hyphosphere/data/Exp1/DADA2Files/seqtab-nochim.rds\")\n",
    "st2 <- readRDS(\"~/Hyphosphere/data/Exp10/DADA2Files/seqtab-nochim.rds\")\n",
    "st3 <- readRDS(\"~/Hyphosphere/data/Exp11/DADA2Files/seqtab-nochim.rds\")\n",
    "st.all <- mergeSequenceTables(st1, st2, st3)"
   ]
  },
  {
   "cell_type": "code",
   "execution_count": null,
   "metadata": {},
   "outputs": [],
   "source": [
    "dim(st.all)"
   ]
  },
  {
   "cell_type": "code",
   "execution_count": null,
   "metadata": {},
   "outputs": [],
   "source": [
    "st.all.2 = collapseNoMismatch(st.all)\n"
   ]
  },
  {
   "cell_type": "code",
   "execution_count": null,
   "metadata": {
    "scrolled": true
   },
   "outputs": [],
   "source": [
    "dim(st.all.2)"
   ]
  },
  {
   "cell_type": "markdown",
   "metadata": {},
   "source": [
    "*Note that summed total of sequences in all three experiments is 77,639 so approximately 16k sequences are shared between expriments"
   ]
  },
  {
   "cell_type": "code",
   "execution_count": null,
   "metadata": {},
   "outputs": [],
   "source": [
    "outFile = file.path(OutFolder,\"seqtab-merged.rds\")\n",
    "\n",
    "saveRDS(st.all.2, outFile)"
   ]
  },
  {
   "cell_type": "markdown",
   "metadata": {},
   "source": [
    "# Checkpoint\n",
    "* read merged seqtab"
   ]
  },
  {
   "cell_type": "code",
   "execution_count": null,
   "metadata": {},
   "outputs": [],
   "source": [
    "CheckPoint = file.path(OutFolder,\"seqtab-merged.rds\")\n",
    "\n",
    "seqtab.nochim = readRDS(CheckPoint)"
   ]
  },
  {
   "cell_type": "markdown",
   "metadata": {},
   "source": [
    "# Assign taxonomy"
   ]
  },
  {
   "cell_type": "code",
   "execution_count": null,
   "metadata": {},
   "outputs": [],
   "source": [
    "taxa <- assignTaxonomy(seqtab.nochim, TrainingSet, multithread=ncores)\n"
   ]
  },
  {
   "cell_type": "code",
   "execution_count": null,
   "metadata": {},
   "outputs": [],
   "source": [
    "outFile = file.path(OutFolder,'taxa.rds')\n",
    "outFile\n",
    "saveRDS(taxa, outFile)"
   ]
  },
  {
   "cell_type": "markdown",
   "metadata": {},
   "source": [
    "# Checkpoint read taxa file"
   ]
  },
  {
   "cell_type": "code",
   "execution_count": null,
   "metadata": {},
   "outputs": [],
   "source": [
    "CheckPoint = file.path(OutFolder,\"taxa.rds\")\n",
    "\n"
   ]
  },
  {
   "cell_type": "code",
   "execution_count": null,
   "metadata": {},
   "outputs": [],
   "source": [
    "taxa = readRDS(CheckPoint)"
   ]
  },
  {
   "cell_type": "code",
   "execution_count": null,
   "metadata": {},
   "outputs": [],
   "source": [
    "#inspect taxonomic assignment\n",
    "\n",
    "taxa.print <- taxa # Removing sequence rownames for display only\n",
    "rownames(taxa.print) <- NULL\n",
    "head(taxa.print)\n"
   ]
  },
  {
   "cell_type": "markdown",
   "metadata": {},
   "source": [
    "# hand off to phyloseq"
   ]
  },
  {
   "cell_type": "code",
   "execution_count": null,
   "metadata": {},
   "outputs": [],
   "source": [
    "# read sample data\n",
    "samdf = read.delim(file = SamData, header = TRUE, sep = '\\t', row.names = \"SampleID\")\n",
    "head(samdf)\n",
    "rownames(samdf)[1:4]"
   ]
  },
  {
   "cell_type": "code",
   "execution_count": null,
   "metadata": {},
   "outputs": [],
   "source": [
    "#rename taxa\n",
    "taxa = cbind(taxa, row.names(taxa))\n",
    "colnames(taxa)[7] = \"Seq\""
   ]
  },
  {
   "cell_type": "code",
   "execution_count": null,
   "metadata": {
    "scrolled": true
   },
   "outputs": [],
   "source": [
    "dim(taxa)\n",
    "head(taxa)"
   ]
  },
  {
   "cell_type": "markdown",
   "metadata": {},
   "source": [
    "## Create phyloseq object"
   ]
  },
  {
   "cell_type": "code",
   "execution_count": null,
   "metadata": {},
   "outputs": [],
   "source": [
    "ps <- phyloseq(otu_table(seqtab.nochim, taxa_are_rows=FALSE), \n",
    "               sample_data(samdf), \n",
    "               tax_table(taxa))\n",
    "ps"
   ]
  },
  {
   "cell_type": "markdown",
   "metadata": {},
   "source": [
    "## rename taxa"
   ]
  },
  {
   "cell_type": "code",
   "execution_count": null,
   "metadata": {},
   "outputs": [],
   "source": [
    "new.names <- paste0(\"ASV\", seq(ntaxa(ps))) # Define new names ASV1, ASV2,\n",
    "seqs <- taxa_names(ps) # Store sequences\n",
    "names(seqs) <- new.names # Make map from ASV1 to full sequence\n",
    "taxa_names(ps) <- new.names # Rename to human-friendly format\n",
    "taxa_names(ps)[1:10]"
   ]
  },
  {
   "cell_type": "code",
   "execution_count": null,
   "metadata": {},
   "outputs": [],
   "source": [
    "taxa_sums(ps)[1:10]"
   ]
  },
  {
   "cell_type": "markdown",
   "metadata": {},
   "source": [
    "## save full phyloseq object"
   ]
  },
  {
   "cell_type": "code",
   "execution_count": null,
   "metadata": {},
   "outputs": [],
   "source": [
    "saveRDS(ps, file = '~/Hyphosphere/data/3Exp/phyloseq/3Exp_phyloseq_full.rds')"
   ]
  },
  {
   "cell_type": "code",
   "execution_count": 5,
   "metadata": {},
   "outputs": [],
   "source": [
    "ps = readRDS(file = '~/Hyphosphere/data/3Exp/phyloseq/3Exp_phyloseq_full.rds')"
   ]
  },
  {
   "cell_type": "markdown",
   "metadata": {},
   "source": [
    "## Threshold to remove minor sequences"
   ]
  },
  {
   "cell_type": "code",
   "execution_count": 6,
   "metadata": {},
   "outputs": [
    {
     "data": {
      "text/html": [
       "<table>\n",
       "<thead><tr><th></th><th scope=col>Kingdom</th><th scope=col>Phylum</th><th scope=col>Class</th><th scope=col>Order</th><th scope=col>Family</th><th scope=col>Genus</th><th scope=col>Seq</th></tr></thead>\n",
       "<tbody>\n",
       "\t<tr><th scope=row>ASV1</th><td>Bacteria                                                                                                                                                                                                                                                        </td><td>Proteobacteria                                                                                                                                                                                                                                                  </td><td>Alphaproteobacteria                                                                                                                                                                                                                                             </td><td>Rhizobiales                                                                                                                                                                                                                                                     </td><td>Rhizobiaceae                                                                                                                                                                                                                                                    </td><td>Phyllobacterium                                                                                                                                                                                                                                                 </td><td>TACGAAGGGGGCTAGCGTTGTTCGGATTTACTGGGCGTAAAGCGCACGTAGGCGGACTATTAAGTCAGGGGTGAAATCCCGGGGCTCAACCCCGGAACTGCCTTTGATACTGGTAGTCTTGAGTTCGAGAGAGGTGAGTGGAATTCCGAGTGTAGAGGTGAAATTCGTAGATATTCGGAGGAACACCAGTGGCGAAGGCGGCTCACTGGCTCGATACTGACGCTGAGGTGCGAAAGCGTGGGGAGCAAACAGG   </td></tr>\n",
       "\t<tr><th scope=row>ASV2</th><td>Bacteria                                                                                                                                                                                                                                                        </td><td>NA                                                                                                                                                                                                                                                              </td><td>NA                                                                                                                                                                                                                                                              </td><td>NA                                                                                                                                                                                                                                                              </td><td>NA                                                                                                                                                                                                                                                              </td><td>NA                                                                                                                                                                                                                                                              </td><td>GACATAGGTGGCAAACATTATCCGGAATTATTGGGCGTAAAGGGTGCGTAGGCGGCATGATAAGTTGCTGGTGGGAAATCAAGGCTCAACCTTGTGGAAGCTAGCAATACTGTCAAGCTAGAGGGCAGAAGAGGTTAACGGAACTCTATGTGGAGCGGTAAAATGTGTAGATATATAGAAGAACATCAATAAAGGCGAAGGCAGTTAACTAGTCTGTCCCTGACGTTGAGGCACGAAAGCGTGGGGAGCAAAACGG</td></tr>\n",
       "\t<tr><th scope=row>ASV3</th><td>Bacteria                                                                                                                                                                                                                                                        </td><td>Proteobacteria                                                                                                                                                                                                                                                  </td><td>Alphaproteobacteria                                                                                                                                                                                                                                             </td><td>Sphingomonadales                                                                                                                                                                                                                                                </td><td>Sphingomonadaceae                                                                                                                                                                                                                                               </td><td>Sphingomonas                                                                                                                                                                                                                                                    </td><td>TACGGAGGGAGCTAGCGTTGTTCGGAATTACTGGGCGTAAAGCGCACGTAGGCGGCTTTGTAAGTCAGAGGTGAAAGCCTGGAGCTCAACTCCAGAACTGCCTTTGAGACTGCATCGCTTGAATCCAGGAGAGGTGAGTGGAATTCCGAGTGTAGAGGTGAAATTCGTAGATATTCGGAAGAACACCAGTGGCGAAGGCGGCTCACTGGACTGGTATTGACGCTGAGGTGCGAAAGCGTGGGGAGCAAACAGG   </td></tr>\n",
       "\t<tr><th scope=row>ASV4</th><td>Bacteria                                                                                                                                                                                                                                                        </td><td>NA                                                                                                                                                                                                                                                              </td><td>NA                                                                                                                                                                                                                                                              </td><td>NA                                                                                                                                                                                                                                                              </td><td>NA                                                                                                                                                                                                                                                              </td><td>NA                                                                                                                                                                                                                                                              </td><td>GACATAGGTGGCGAACGTTATCCGGAATTATTGGGCGTAAAGGATGCGTAGATGGCAGAGTAAGTTACTGGTTGATGTCAAACTCAATTTGACGGAAGCTGGTAATACTGTTTTGCTAGAGGACAGGAGAGGTTGATGGAATTCTGTGTGGAGCGGTGAAATGCGTTGATCTACAGAGGAACACCAAAAAAGGCGAAGGCAGTCAACTATCCTGTTCCTGACATTGAGGCATGAAAGCGTGGGGAGCAAACCGG  </td></tr>\n",
       "\t<tr><th scope=row>ASV5</th><td>Bacteria                                                                                                                                                                                                                                                        </td><td>Actinobacteria                                                                                                                                                                                                                                                  </td><td>Actinobacteria                                                                                                                                                                                                                                                  </td><td>Micrococcales                                                                                                                                                                                                                                                   </td><td>Micrococcaceae                                                                                                                                                                                                                                                  </td><td>Pseudarthrobacter                                                                                                                                                                                                                                               </td><td>TACGTAGGGCGCAAGCGTTATCCGGAATTATTGGGCGTAAAGAGCTCGTAGGCGGTTTGTCGCGTCTGCCGTGAAAGTCCGGGGCTCAACTCCGGATCTGCGGTGGGTACGGGCAGACTAGAGTGATGTAGGGGAGACTGGAATTCCTGGTGTAGCGGTGAAATGCGCAGATATCAGGAGGAACACCGATGGCGAAGGCAGGTCTCTGGGCATTAACTGACGCTGAGGAGCGAAAGCATGGGGAGCGAACAGG   </td></tr>\n",
       "\t<tr><th scope=row>ASV6</th><td>Bacteria                                                                                                                                                                                                                                                        </td><td>Proteobacteria                                                                                                                                                                                                                                                  </td><td>Gammaproteobacteria                                                                                                                                                                                                                                             </td><td>Cellvibrionales                                                                                                                                                                                                                                                 </td><td>Cellvibrionaceae                                                                                                                                                                                                                                                </td><td>Cellvibrio                                                                                                                                                                                                                                                      </td><td>TACGGAGGGTGCAAGCGTTAATCGGAATTACTGGGCGTAAAGCGCACGTAGGTGGTTTGTTAAGCTAGCTGTGAAATCCCCGGGCTCAACCTGGGCACTGCAGTTAGAACTGGCAAGCTAGAGTAGGGTAGAGGGGTGTGGAATTCCAGGTGTAGCGGTGAAATGCGTAGATATCTGGAGGAACATCAGTGGCGAAGGCGACACCCTGGACTCATACTGACACTGAGGTGCGAAAGCGTGGGGAGCAAACAGG   </td></tr>\n",
       "</tbody>\n",
       "</table>\n"
      ],
      "text/latex": [
       "\\begin{tabular}{r|lllllll}\n",
       "  & Kingdom & Phylum & Class & Order & Family & Genus & Seq\\\\\n",
       "\\hline\n",
       "\tASV1 & Bacteria                                                                                                                                                                                                                                                         & Proteobacteria                                                                                                                                                                                                                                                   & Alphaproteobacteria                                                                                                                                                                                                                                              & Rhizobiales                                                                                                                                                                                                                                                      & Rhizobiaceae                                                                                                                                                                                                                                                     & Phyllobacterium                                                                                                                                                                                                                                                  & TACGAAGGGGGCTAGCGTTGTTCGGATTTACTGGGCGTAAAGCGCACGTAGGCGGACTATTAAGTCAGGGGTGAAATCCCGGGGCTCAACCCCGGAACTGCCTTTGATACTGGTAGTCTTGAGTTCGAGAGAGGTGAGTGGAATTCCGAGTGTAGAGGTGAAATTCGTAGATATTCGGAGGAACACCAGTGGCGAAGGCGGCTCACTGGCTCGATACTGACGCTGAGGTGCGAAAGCGTGGGGAGCAAACAGG   \\\\\n",
       "\tASV2 & Bacteria                                                                                                                                                                                                                                                         & NA                                                                                                                                                                                                                                                               & NA                                                                                                                                                                                                                                                               & NA                                                                                                                                                                                                                                                               & NA                                                                                                                                                                                                                                                               & NA                                                                                                                                                                                                                                                               & GACATAGGTGGCAAACATTATCCGGAATTATTGGGCGTAAAGGGTGCGTAGGCGGCATGATAAGTTGCTGGTGGGAAATCAAGGCTCAACCTTGTGGAAGCTAGCAATACTGTCAAGCTAGAGGGCAGAAGAGGTTAACGGAACTCTATGTGGAGCGGTAAAATGTGTAGATATATAGAAGAACATCAATAAAGGCGAAGGCAGTTAACTAGTCTGTCCCTGACGTTGAGGCACGAAAGCGTGGGGAGCAAAACGG\\\\\n",
       "\tASV3 & Bacteria                                                                                                                                                                                                                                                         & Proteobacteria                                                                                                                                                                                                                                                   & Alphaproteobacteria                                                                                                                                                                                                                                              & Sphingomonadales                                                                                                                                                                                                                                                 & Sphingomonadaceae                                                                                                                                                                                                                                                & Sphingomonas                                                                                                                                                                                                                                                     & TACGGAGGGAGCTAGCGTTGTTCGGAATTACTGGGCGTAAAGCGCACGTAGGCGGCTTTGTAAGTCAGAGGTGAAAGCCTGGAGCTCAACTCCAGAACTGCCTTTGAGACTGCATCGCTTGAATCCAGGAGAGGTGAGTGGAATTCCGAGTGTAGAGGTGAAATTCGTAGATATTCGGAAGAACACCAGTGGCGAAGGCGGCTCACTGGACTGGTATTGACGCTGAGGTGCGAAAGCGTGGGGAGCAAACAGG   \\\\\n",
       "\tASV4 & Bacteria                                                                                                                                                                                                                                                         & NA                                                                                                                                                                                                                                                               & NA                                                                                                                                                                                                                                                               & NA                                                                                                                                                                                                                                                               & NA                                                                                                                                                                                                                                                               & NA                                                                                                                                                                                                                                                               & GACATAGGTGGCGAACGTTATCCGGAATTATTGGGCGTAAAGGATGCGTAGATGGCAGAGTAAGTTACTGGTTGATGTCAAACTCAATTTGACGGAAGCTGGTAATACTGTTTTGCTAGAGGACAGGAGAGGTTGATGGAATTCTGTGTGGAGCGGTGAAATGCGTTGATCTACAGAGGAACACCAAAAAAGGCGAAGGCAGTCAACTATCCTGTTCCTGACATTGAGGCATGAAAGCGTGGGGAGCAAACCGG  \\\\\n",
       "\tASV5 & Bacteria                                                                                                                                                                                                                                                         & Actinobacteria                                                                                                                                                                                                                                                   & Actinobacteria                                                                                                                                                                                                                                                   & Micrococcales                                                                                                                                                                                                                                                    & Micrococcaceae                                                                                                                                                                                                                                                   & Pseudarthrobacter                                                                                                                                                                                                                                                & TACGTAGGGCGCAAGCGTTATCCGGAATTATTGGGCGTAAAGAGCTCGTAGGCGGTTTGTCGCGTCTGCCGTGAAAGTCCGGGGCTCAACTCCGGATCTGCGGTGGGTACGGGCAGACTAGAGTGATGTAGGGGAGACTGGAATTCCTGGTGTAGCGGTGAAATGCGCAGATATCAGGAGGAACACCGATGGCGAAGGCAGGTCTCTGGGCATTAACTGACGCTGAGGAGCGAAAGCATGGGGAGCGAACAGG   \\\\\n",
       "\tASV6 & Bacteria                                                                                                                                                                                                                                                         & Proteobacteria                                                                                                                                                                                                                                                   & Gammaproteobacteria                                                                                                                                                                                                                                              & Cellvibrionales                                                                                                                                                                                                                                                  & Cellvibrionaceae                                                                                                                                                                                                                                                 & Cellvibrio                                                                                                                                                                                                                                                       & TACGGAGGGTGCAAGCGTTAATCGGAATTACTGGGCGTAAAGCGCACGTAGGTGGTTTGTTAAGCTAGCTGTGAAATCCCCGGGCTCAACCTGGGCACTGCAGTTAGAACTGGCAAGCTAGAGTAGGGTAGAGGGGTGTGGAATTCCAGGTGTAGCGGTGAAATGCGTAGATATCTGGAGGAACATCAGTGGCGAAGGCGACACCCTGGACTCATACTGACACTGAGGTGCGAAAGCGTGGGGAGCAAACAGG   \\\\\n",
       "\\end{tabular}\n"
      ],
      "text/markdown": [
       "\n",
       "| <!--/--> | Kingdom | Phylum | Class | Order | Family | Genus | Seq | \n",
       "|---|---|---|---|---|---|\n",
       "| ASV1 | Bacteria                                                                                                                                                                                                                                                         | Proteobacteria                                                                                                                                                                                                                                                   | Alphaproteobacteria                                                                                                                                                                                                                                              | Rhizobiales                                                                                                                                                                                                                                                      | Rhizobiaceae                                                                                                                                                                                                                                                     | Phyllobacterium                                                                                                                                                                                                                                                  | TACGAAGGGGGCTAGCGTTGTTCGGATTTACTGGGCGTAAAGCGCACGTAGGCGGACTATTAAGTCAGGGGTGAAATCCCGGGGCTCAACCCCGGAACTGCCTTTGATACTGGTAGTCTTGAGTTCGAGAGAGGTGAGTGGAATTCCGAGTGTAGAGGTGAAATTCGTAGATATTCGGAGGAACACCAGTGGCGAAGGCGGCTCACTGGCTCGATACTGACGCTGAGGTGCGAAAGCGTGGGGAGCAAACAGG    | \n",
       "| ASV2 | Bacteria                                                                                                                                                                                                                                                         | NA                                                                                                                                                                                                                                                               | NA                                                                                                                                                                                                                                                               | NA                                                                                                                                                                                                                                                               | NA                                                                                                                                                                                                                                                               | NA                                                                                                                                                                                                                                                               | GACATAGGTGGCAAACATTATCCGGAATTATTGGGCGTAAAGGGTGCGTAGGCGGCATGATAAGTTGCTGGTGGGAAATCAAGGCTCAACCTTGTGGAAGCTAGCAATACTGTCAAGCTAGAGGGCAGAAGAGGTTAACGGAACTCTATGTGGAGCGGTAAAATGTGTAGATATATAGAAGAACATCAATAAAGGCGAAGGCAGTTAACTAGTCTGTCCCTGACGTTGAGGCACGAAAGCGTGGGGAGCAAAACGG | \n",
       "| ASV3 | Bacteria                                                                                                                                                                                                                                                         | Proteobacteria                                                                                                                                                                                                                                                   | Alphaproteobacteria                                                                                                                                                                                                                                              | Sphingomonadales                                                                                                                                                                                                                                                 | Sphingomonadaceae                                                                                                                                                                                                                                                | Sphingomonas                                                                                                                                                                                                                                                     | TACGGAGGGAGCTAGCGTTGTTCGGAATTACTGGGCGTAAAGCGCACGTAGGCGGCTTTGTAAGTCAGAGGTGAAAGCCTGGAGCTCAACTCCAGAACTGCCTTTGAGACTGCATCGCTTGAATCCAGGAGAGGTGAGTGGAATTCCGAGTGTAGAGGTGAAATTCGTAGATATTCGGAAGAACACCAGTGGCGAAGGCGGCTCACTGGACTGGTATTGACGCTGAGGTGCGAAAGCGTGGGGAGCAAACAGG    | \n",
       "| ASV4 | Bacteria                                                                                                                                                                                                                                                         | NA                                                                                                                                                                                                                                                               | NA                                                                                                                                                                                                                                                               | NA                                                                                                                                                                                                                                                               | NA                                                                                                                                                                                                                                                               | NA                                                                                                                                                                                                                                                               | GACATAGGTGGCGAACGTTATCCGGAATTATTGGGCGTAAAGGATGCGTAGATGGCAGAGTAAGTTACTGGTTGATGTCAAACTCAATTTGACGGAAGCTGGTAATACTGTTTTGCTAGAGGACAGGAGAGGTTGATGGAATTCTGTGTGGAGCGGTGAAATGCGTTGATCTACAGAGGAACACCAAAAAAGGCGAAGGCAGTCAACTATCCTGTTCCTGACATTGAGGCATGAAAGCGTGGGGAGCAAACCGG   | \n",
       "| ASV5 | Bacteria                                                                                                                                                                                                                                                         | Actinobacteria                                                                                                                                                                                                                                                   | Actinobacteria                                                                                                                                                                                                                                                   | Micrococcales                                                                                                                                                                                                                                                    | Micrococcaceae                                                                                                                                                                                                                                                   | Pseudarthrobacter                                                                                                                                                                                                                                                | TACGTAGGGCGCAAGCGTTATCCGGAATTATTGGGCGTAAAGAGCTCGTAGGCGGTTTGTCGCGTCTGCCGTGAAAGTCCGGGGCTCAACTCCGGATCTGCGGTGGGTACGGGCAGACTAGAGTGATGTAGGGGAGACTGGAATTCCTGGTGTAGCGGTGAAATGCGCAGATATCAGGAGGAACACCGATGGCGAAGGCAGGTCTCTGGGCATTAACTGACGCTGAGGAGCGAAAGCATGGGGAGCGAACAGG    | \n",
       "| ASV6 | Bacteria                                                                                                                                                                                                                                                         | Proteobacteria                                                                                                                                                                                                                                                   | Gammaproteobacteria                                                                                                                                                                                                                                              | Cellvibrionales                                                                                                                                                                                                                                                  | Cellvibrionaceae                                                                                                                                                                                                                                                 | Cellvibrio                                                                                                                                                                                                                                                       | TACGGAGGGTGCAAGCGTTAATCGGAATTACTGGGCGTAAAGCGCACGTAGGTGGTTTGTTAAGCTAGCTGTGAAATCCCCGGGCTCAACCTGGGCACTGCAGTTAGAACTGGCAAGCTAGAGTAGGGTAGAGGGGTGTGGAATTCCAGGTGTAGCGGTGAAATGCGTAGATATCTGGAGGAACATCAGTGGCGAAGGCGACACCCTGGACTCATACTGACACTGAGGTGCGAAAGCGTGGGGAGCAAACAGG    | \n",
       "\n",
       "\n"
      ],
      "text/plain": [
       "     Kingdom  Phylum         Class               Order           \n",
       "ASV1 Bacteria Proteobacteria Alphaproteobacteria Rhizobiales     \n",
       "ASV2 Bacteria NA             NA                  NA              \n",
       "ASV3 Bacteria Proteobacteria Alphaproteobacteria Sphingomonadales\n",
       "ASV4 Bacteria NA             NA                  NA              \n",
       "ASV5 Bacteria Actinobacteria Actinobacteria      Micrococcales   \n",
       "ASV6 Bacteria Proteobacteria Gammaproteobacteria Cellvibrionales \n",
       "     Family            Genus            \n",
       "ASV1 Rhizobiaceae      Phyllobacterium  \n",
       "ASV2 NA                NA               \n",
       "ASV3 Sphingomonadaceae Sphingomonas     \n",
       "ASV4 NA                NA               \n",
       "ASV5 Micrococcaceae    Pseudarthrobacter\n",
       "ASV6 Cellvibrionaceae  Cellvibrio       \n",
       "     Seq                                                                                                                                                                                                                                                             \n",
       "ASV1 TACGAAGGGGGCTAGCGTTGTTCGGATTTACTGGGCGTAAAGCGCACGTAGGCGGACTATTAAGTCAGGGGTGAAATCCCGGGGCTCAACCCCGGAACTGCCTTTGATACTGGTAGTCTTGAGTTCGAGAGAGGTGAGTGGAATTCCGAGTGTAGAGGTGAAATTCGTAGATATTCGGAGGAACACCAGTGGCGAAGGCGGCTCACTGGCTCGATACTGACGCTGAGGTGCGAAAGCGTGGGGAGCAAACAGG   \n",
       "ASV2 GACATAGGTGGCAAACATTATCCGGAATTATTGGGCGTAAAGGGTGCGTAGGCGGCATGATAAGTTGCTGGTGGGAAATCAAGGCTCAACCTTGTGGAAGCTAGCAATACTGTCAAGCTAGAGGGCAGAAGAGGTTAACGGAACTCTATGTGGAGCGGTAAAATGTGTAGATATATAGAAGAACATCAATAAAGGCGAAGGCAGTTAACTAGTCTGTCCCTGACGTTGAGGCACGAAAGCGTGGGGAGCAAAACGG\n",
       "ASV3 TACGGAGGGAGCTAGCGTTGTTCGGAATTACTGGGCGTAAAGCGCACGTAGGCGGCTTTGTAAGTCAGAGGTGAAAGCCTGGAGCTCAACTCCAGAACTGCCTTTGAGACTGCATCGCTTGAATCCAGGAGAGGTGAGTGGAATTCCGAGTGTAGAGGTGAAATTCGTAGATATTCGGAAGAACACCAGTGGCGAAGGCGGCTCACTGGACTGGTATTGACGCTGAGGTGCGAAAGCGTGGGGAGCAAACAGG   \n",
       "ASV4 GACATAGGTGGCGAACGTTATCCGGAATTATTGGGCGTAAAGGATGCGTAGATGGCAGAGTAAGTTACTGGTTGATGTCAAACTCAATTTGACGGAAGCTGGTAATACTGTTTTGCTAGAGGACAGGAGAGGTTGATGGAATTCTGTGTGGAGCGGTGAAATGCGTTGATCTACAGAGGAACACCAAAAAAGGCGAAGGCAGTCAACTATCCTGTTCCTGACATTGAGGCATGAAAGCGTGGGGAGCAAACCGG  \n",
       "ASV5 TACGTAGGGCGCAAGCGTTATCCGGAATTATTGGGCGTAAAGAGCTCGTAGGCGGTTTGTCGCGTCTGCCGTGAAAGTCCGGGGCTCAACTCCGGATCTGCGGTGGGTACGGGCAGACTAGAGTGATGTAGGGGAGACTGGAATTCCTGGTGTAGCGGTGAAATGCGCAGATATCAGGAGGAACACCGATGGCGAAGGCAGGTCTCTGGGCATTAACTGACGCTGAGGAGCGAAAGCATGGGGAGCGAACAGG   \n",
       "ASV6 TACGGAGGGTGCAAGCGTTAATCGGAATTACTGGGCGTAAAGCGCACGTAGGTGGTTTGTTAAGCTAGCTGTGAAATCCCCGGGCTCAACCTGGGCACTGCAGTTAGAACTGGCAAGCTAGAGTAGGGTAGAGGGGTGTGGAATTCCAGGTGTAGCGGTGAAATGCGTAGATATCTGGAGGAACATCAGTGGCGAAGGCGACACCCTGGACTCATACTGACACTGAGGTGCGAAAGCGTGGGGAGCAAACAGG   "
      ]
     },
     "metadata": {},
     "output_type": "display_data"
    },
    {
     "data": {
      "text/plain": [
       "phyloseq-class experiment-level object\n",
       "otu_table()   OTU Table:         [ 14615 taxa and 382 samples ]\n",
       "sample_data() Sample Data:       [ 382 samples by 11 sample variables ]\n",
       "tax_table()   Taxonomy Table:    [ 14615 taxa by 7 taxonomic ranks ]"
      ]
     },
     "metadata": {},
     "output_type": "display_data"
    }
   ],
   "source": [
    "tax_table(ps) %>% head\n",
    "ps.thresh = filter_taxa(ps, function(x) sum(x > 3) > 3, TRUE)\n",
    "ps.thresh"
   ]
  },
  {
   "cell_type": "code",
   "execution_count": 7,
   "metadata": {},
   "outputs": [],
   "source": [
    "rm(ps)"
   ]
  },
  {
   "cell_type": "markdown",
   "metadata": {},
   "source": [
    "## Remove and save sequences from tax_table\n",
    "*removing sequences will greatly speed up psmelt and subsequent operations"
   ]
  },
  {
   "cell_type": "code",
   "execution_count": 8,
   "metadata": {},
   "outputs": [],
   "source": [
    "Seqs_df = cbind(rownames(tax_table(ps.thresh)), tax_table(ps.thresh)[,'Seq'])"
   ]
  },
  {
   "cell_type": "code",
   "execution_count": 10,
   "metadata": {},
   "outputs": [
    {
     "data": {
      "text/html": [
       "<table>\n",
       "<thead><tr><th></th><th scope=col>ASV</th><th scope=col>Seq</th></tr></thead>\n",
       "<tbody>\n",
       "\t<tr><th scope=row>ASV1</th><td>ASV1                                                                                                                                                                                                                                                            </td><td>TACGAAGGGGGCTAGCGTTGTTCGGATTTACTGGGCGTAAAGCGCACGTAGGCGGACTATTAAGTCAGGGGTGAAATCCCGGGGCTCAACCCCGGAACTGCCTTTGATACTGGTAGTCTTGAGTTCGAGAGAGGTGAGTGGAATTCCGAGTGTAGAGGTGAAATTCGTAGATATTCGGAGGAACACCAGTGGCGAAGGCGGCTCACTGGCTCGATACTGACGCTGAGGTGCGAAAGCGTGGGGAGCAAACAGG   </td></tr>\n",
       "\t<tr><th scope=row>ASV2</th><td>ASV2                                                                                                                                                                                                                                                            </td><td>GACATAGGTGGCAAACATTATCCGGAATTATTGGGCGTAAAGGGTGCGTAGGCGGCATGATAAGTTGCTGGTGGGAAATCAAGGCTCAACCTTGTGGAAGCTAGCAATACTGTCAAGCTAGAGGGCAGAAGAGGTTAACGGAACTCTATGTGGAGCGGTAAAATGTGTAGATATATAGAAGAACATCAATAAAGGCGAAGGCAGTTAACTAGTCTGTCCCTGACGTTGAGGCACGAAAGCGTGGGGAGCAAAACGG</td></tr>\n",
       "\t<tr><th scope=row>ASV3</th><td>ASV3                                                                                                                                                                                                                                                            </td><td>TACGGAGGGAGCTAGCGTTGTTCGGAATTACTGGGCGTAAAGCGCACGTAGGCGGCTTTGTAAGTCAGAGGTGAAAGCCTGGAGCTCAACTCCAGAACTGCCTTTGAGACTGCATCGCTTGAATCCAGGAGAGGTGAGTGGAATTCCGAGTGTAGAGGTGAAATTCGTAGATATTCGGAAGAACACCAGTGGCGAAGGCGGCTCACTGGACTGGTATTGACGCTGAGGTGCGAAAGCGTGGGGAGCAAACAGG   </td></tr>\n",
       "\t<tr><th scope=row>ASV4</th><td>ASV4                                                                                                                                                                                                                                                            </td><td>GACATAGGTGGCGAACGTTATCCGGAATTATTGGGCGTAAAGGATGCGTAGATGGCAGAGTAAGTTACTGGTTGATGTCAAACTCAATTTGACGGAAGCTGGTAATACTGTTTTGCTAGAGGACAGGAGAGGTTGATGGAATTCTGTGTGGAGCGGTGAAATGCGTTGATCTACAGAGGAACACCAAAAAAGGCGAAGGCAGTCAACTATCCTGTTCCTGACATTGAGGCATGAAAGCGTGGGGAGCAAACCGG  </td></tr>\n",
       "\t<tr><th scope=row>ASV5</th><td>ASV5                                                                                                                                                                                                                                                            </td><td>TACGTAGGGCGCAAGCGTTATCCGGAATTATTGGGCGTAAAGAGCTCGTAGGCGGTTTGTCGCGTCTGCCGTGAAAGTCCGGGGCTCAACTCCGGATCTGCGGTGGGTACGGGCAGACTAGAGTGATGTAGGGGAGACTGGAATTCCTGGTGTAGCGGTGAAATGCGCAGATATCAGGAGGAACACCGATGGCGAAGGCAGGTCTCTGGGCATTAACTGACGCTGAGGAGCGAAAGCATGGGGAGCGAACAGG   </td></tr>\n",
       "\t<tr><th scope=row>ASV6</th><td>ASV6                                                                                                                                                                                                                                                            </td><td>TACGGAGGGTGCAAGCGTTAATCGGAATTACTGGGCGTAAAGCGCACGTAGGTGGTTTGTTAAGCTAGCTGTGAAATCCCCGGGCTCAACCTGGGCACTGCAGTTAGAACTGGCAAGCTAGAGTAGGGTAGAGGGGTGTGGAATTCCAGGTGTAGCGGTGAAATGCGTAGATATCTGGAGGAACATCAGTGGCGAAGGCGACACCCTGGACTCATACTGACACTGAGGTGCGAAAGCGTGGGGAGCAAACAGG   </td></tr>\n",
       "</tbody>\n",
       "</table>\n"
      ],
      "text/latex": [
       "\\begin{tabular}{r|ll}\n",
       "  & ASV & Seq\\\\\n",
       "\\hline\n",
       "\tASV1 & ASV1                                                                                                                                                                                                                                                             & TACGAAGGGGGCTAGCGTTGTTCGGATTTACTGGGCGTAAAGCGCACGTAGGCGGACTATTAAGTCAGGGGTGAAATCCCGGGGCTCAACCCCGGAACTGCCTTTGATACTGGTAGTCTTGAGTTCGAGAGAGGTGAGTGGAATTCCGAGTGTAGAGGTGAAATTCGTAGATATTCGGAGGAACACCAGTGGCGAAGGCGGCTCACTGGCTCGATACTGACGCTGAGGTGCGAAAGCGTGGGGAGCAAACAGG   \\\\\n",
       "\tASV2 & ASV2                                                                                                                                                                                                                                                             & GACATAGGTGGCAAACATTATCCGGAATTATTGGGCGTAAAGGGTGCGTAGGCGGCATGATAAGTTGCTGGTGGGAAATCAAGGCTCAACCTTGTGGAAGCTAGCAATACTGTCAAGCTAGAGGGCAGAAGAGGTTAACGGAACTCTATGTGGAGCGGTAAAATGTGTAGATATATAGAAGAACATCAATAAAGGCGAAGGCAGTTAACTAGTCTGTCCCTGACGTTGAGGCACGAAAGCGTGGGGAGCAAAACGG\\\\\n",
       "\tASV3 & ASV3                                                                                                                                                                                                                                                             & TACGGAGGGAGCTAGCGTTGTTCGGAATTACTGGGCGTAAAGCGCACGTAGGCGGCTTTGTAAGTCAGAGGTGAAAGCCTGGAGCTCAACTCCAGAACTGCCTTTGAGACTGCATCGCTTGAATCCAGGAGAGGTGAGTGGAATTCCGAGTGTAGAGGTGAAATTCGTAGATATTCGGAAGAACACCAGTGGCGAAGGCGGCTCACTGGACTGGTATTGACGCTGAGGTGCGAAAGCGTGGGGAGCAAACAGG   \\\\\n",
       "\tASV4 & ASV4                                                                                                                                                                                                                                                             & GACATAGGTGGCGAACGTTATCCGGAATTATTGGGCGTAAAGGATGCGTAGATGGCAGAGTAAGTTACTGGTTGATGTCAAACTCAATTTGACGGAAGCTGGTAATACTGTTTTGCTAGAGGACAGGAGAGGTTGATGGAATTCTGTGTGGAGCGGTGAAATGCGTTGATCTACAGAGGAACACCAAAAAAGGCGAAGGCAGTCAACTATCCTGTTCCTGACATTGAGGCATGAAAGCGTGGGGAGCAAACCGG  \\\\\n",
       "\tASV5 & ASV5                                                                                                                                                                                                                                                             & TACGTAGGGCGCAAGCGTTATCCGGAATTATTGGGCGTAAAGAGCTCGTAGGCGGTTTGTCGCGTCTGCCGTGAAAGTCCGGGGCTCAACTCCGGATCTGCGGTGGGTACGGGCAGACTAGAGTGATGTAGGGGAGACTGGAATTCCTGGTGTAGCGGTGAAATGCGCAGATATCAGGAGGAACACCGATGGCGAAGGCAGGTCTCTGGGCATTAACTGACGCTGAGGAGCGAAAGCATGGGGAGCGAACAGG   \\\\\n",
       "\tASV6 & ASV6                                                                                                                                                                                                                                                             & TACGGAGGGTGCAAGCGTTAATCGGAATTACTGGGCGTAAAGCGCACGTAGGTGGTTTGTTAAGCTAGCTGTGAAATCCCCGGGCTCAACCTGGGCACTGCAGTTAGAACTGGCAAGCTAGAGTAGGGTAGAGGGGTGTGGAATTCCAGGTGTAGCGGTGAAATGCGTAGATATCTGGAGGAACATCAGTGGCGAAGGCGACACCCTGGACTCATACTGACACTGAGGTGCGAAAGCGTGGGGAGCAAACAGG   \\\\\n",
       "\\end{tabular}\n"
      ],
      "text/markdown": [
       "\n",
       "| <!--/--> | ASV | Seq | \n",
       "|---|---|---|---|---|---|\n",
       "| ASV1 | ASV1                                                                                                                                                                                                                                                             | TACGAAGGGGGCTAGCGTTGTTCGGATTTACTGGGCGTAAAGCGCACGTAGGCGGACTATTAAGTCAGGGGTGAAATCCCGGGGCTCAACCCCGGAACTGCCTTTGATACTGGTAGTCTTGAGTTCGAGAGAGGTGAGTGGAATTCCGAGTGTAGAGGTGAAATTCGTAGATATTCGGAGGAACACCAGTGGCGAAGGCGGCTCACTGGCTCGATACTGACGCTGAGGTGCGAAAGCGTGGGGAGCAAACAGG    | \n",
       "| ASV2 | ASV2                                                                                                                                                                                                                                                             | GACATAGGTGGCAAACATTATCCGGAATTATTGGGCGTAAAGGGTGCGTAGGCGGCATGATAAGTTGCTGGTGGGAAATCAAGGCTCAACCTTGTGGAAGCTAGCAATACTGTCAAGCTAGAGGGCAGAAGAGGTTAACGGAACTCTATGTGGAGCGGTAAAATGTGTAGATATATAGAAGAACATCAATAAAGGCGAAGGCAGTTAACTAGTCTGTCCCTGACGTTGAGGCACGAAAGCGTGGGGAGCAAAACGG | \n",
       "| ASV3 | ASV3                                                                                                                                                                                                                                                             | TACGGAGGGAGCTAGCGTTGTTCGGAATTACTGGGCGTAAAGCGCACGTAGGCGGCTTTGTAAGTCAGAGGTGAAAGCCTGGAGCTCAACTCCAGAACTGCCTTTGAGACTGCATCGCTTGAATCCAGGAGAGGTGAGTGGAATTCCGAGTGTAGAGGTGAAATTCGTAGATATTCGGAAGAACACCAGTGGCGAAGGCGGCTCACTGGACTGGTATTGACGCTGAGGTGCGAAAGCGTGGGGAGCAAACAGG    | \n",
       "| ASV4 | ASV4                                                                                                                                                                                                                                                             | GACATAGGTGGCGAACGTTATCCGGAATTATTGGGCGTAAAGGATGCGTAGATGGCAGAGTAAGTTACTGGTTGATGTCAAACTCAATTTGACGGAAGCTGGTAATACTGTTTTGCTAGAGGACAGGAGAGGTTGATGGAATTCTGTGTGGAGCGGTGAAATGCGTTGATCTACAGAGGAACACCAAAAAAGGCGAAGGCAGTCAACTATCCTGTTCCTGACATTGAGGCATGAAAGCGTGGGGAGCAAACCGG   | \n",
       "| ASV5 | ASV5                                                                                                                                                                                                                                                             | TACGTAGGGCGCAAGCGTTATCCGGAATTATTGGGCGTAAAGAGCTCGTAGGCGGTTTGTCGCGTCTGCCGTGAAAGTCCGGGGCTCAACTCCGGATCTGCGGTGGGTACGGGCAGACTAGAGTGATGTAGGGGAGACTGGAATTCCTGGTGTAGCGGTGAAATGCGCAGATATCAGGAGGAACACCGATGGCGAAGGCAGGTCTCTGGGCATTAACTGACGCTGAGGAGCGAAAGCATGGGGAGCGAACAGG    | \n",
       "| ASV6 | ASV6                                                                                                                                                                                                                                                             | TACGGAGGGTGCAAGCGTTAATCGGAATTACTGGGCGTAAAGCGCACGTAGGTGGTTTGTTAAGCTAGCTGTGAAATCCCCGGGCTCAACCTGGGCACTGCAGTTAGAACTGGCAAGCTAGAGTAGGGTAGAGGGGTGTGGAATTCCAGGTGTAGCGGTGAAATGCGTAGATATCTGGAGGAACATCAGTGGCGAAGGCGACACCCTGGACTCATACTGACACTGAGGTGCGAAAGCGTGGGGAGCAAACAGG    | \n",
       "\n",
       "\n"
      ],
      "text/plain": [
       "     ASV \n",
       "ASV1 ASV1\n",
       "ASV2 ASV2\n",
       "ASV3 ASV3\n",
       "ASV4 ASV4\n",
       "ASV5 ASV5\n",
       "ASV6 ASV6\n",
       "     Seq                                                                                                                                                                                                                                                             \n",
       "ASV1 TACGAAGGGGGCTAGCGTTGTTCGGATTTACTGGGCGTAAAGCGCACGTAGGCGGACTATTAAGTCAGGGGTGAAATCCCGGGGCTCAACCCCGGAACTGCCTTTGATACTGGTAGTCTTGAGTTCGAGAGAGGTGAGTGGAATTCCGAGTGTAGAGGTGAAATTCGTAGATATTCGGAGGAACACCAGTGGCGAAGGCGGCTCACTGGCTCGATACTGACGCTGAGGTGCGAAAGCGTGGGGAGCAAACAGG   \n",
       "ASV2 GACATAGGTGGCAAACATTATCCGGAATTATTGGGCGTAAAGGGTGCGTAGGCGGCATGATAAGTTGCTGGTGGGAAATCAAGGCTCAACCTTGTGGAAGCTAGCAATACTGTCAAGCTAGAGGGCAGAAGAGGTTAACGGAACTCTATGTGGAGCGGTAAAATGTGTAGATATATAGAAGAACATCAATAAAGGCGAAGGCAGTTAACTAGTCTGTCCCTGACGTTGAGGCACGAAAGCGTGGGGAGCAAAACGG\n",
       "ASV3 TACGGAGGGAGCTAGCGTTGTTCGGAATTACTGGGCGTAAAGCGCACGTAGGCGGCTTTGTAAGTCAGAGGTGAAAGCCTGGAGCTCAACTCCAGAACTGCCTTTGAGACTGCATCGCTTGAATCCAGGAGAGGTGAGTGGAATTCCGAGTGTAGAGGTGAAATTCGTAGATATTCGGAAGAACACCAGTGGCGAAGGCGGCTCACTGGACTGGTATTGACGCTGAGGTGCGAAAGCGTGGGGAGCAAACAGG   \n",
       "ASV4 GACATAGGTGGCGAACGTTATCCGGAATTATTGGGCGTAAAGGATGCGTAGATGGCAGAGTAAGTTACTGGTTGATGTCAAACTCAATTTGACGGAAGCTGGTAATACTGTTTTGCTAGAGGACAGGAGAGGTTGATGGAATTCTGTGTGGAGCGGTGAAATGCGTTGATCTACAGAGGAACACCAAAAAAGGCGAAGGCAGTCAACTATCCTGTTCCTGACATTGAGGCATGAAAGCGTGGGGAGCAAACCGG  \n",
       "ASV5 TACGTAGGGCGCAAGCGTTATCCGGAATTATTGGGCGTAAAGAGCTCGTAGGCGGTTTGTCGCGTCTGCCGTGAAAGTCCGGGGCTCAACTCCGGATCTGCGGTGGGTACGGGCAGACTAGAGTGATGTAGGGGAGACTGGAATTCCTGGTGTAGCGGTGAAATGCGCAGATATCAGGAGGAACACCGATGGCGAAGGCAGGTCTCTGGGCATTAACTGACGCTGAGGAGCGAAAGCATGGGGAGCGAACAGG   \n",
       "ASV6 TACGGAGGGTGCAAGCGTTAATCGGAATTACTGGGCGTAAAGCGCACGTAGGTGGTTTGTTAAGCTAGCTGTGAAATCCCCGGGCTCAACCTGGGCACTGCAGTTAGAACTGGCAAGCTAGAGTAGGGTAGAGGGGTGTGGAATTCCAGGTGTAGCGGTGAAATGCGTAGATATCTGGAGGAACATCAGTGGCGAAGGCGACACCCTGGACTCATACTGACACTGAGGTGCGAAAGCGTGGGGAGCAAACAGG   "
      ]
     },
     "metadata": {},
     "output_type": "display_data"
    }
   ],
   "source": [
    "colnames(Seqs_df)[1:2] = c(\"ASV\", \"Seq\")\n",
    "head(Seqs_df)\n"
   ]
  },
  {
   "cell_type": "code",
   "execution_count": 13,
   "metadata": {},
   "outputs": [
    {
     "data": {
      "text/html": [
       "<table>\n",
       "<thead><tr><th></th><th scope=col>Kingdom</th><th scope=col>Phylum</th><th scope=col>Class</th><th scope=col>Order</th><th scope=col>Family</th><th scope=col>Genus</th></tr></thead>\n",
       "<tbody>\n",
       "\t<tr><th scope=row>ASV1</th><td>Bacteria           </td><td>Proteobacteria     </td><td>Alphaproteobacteria</td><td>Rhizobiales        </td><td>Rhizobiaceae       </td><td>Phyllobacterium    </td></tr>\n",
       "\t<tr><th scope=row>ASV2</th><td>Bacteria           </td><td>NA                 </td><td>NA                 </td><td>NA                 </td><td>NA                 </td><td>NA                 </td></tr>\n",
       "\t<tr><th scope=row>ASV3</th><td>Bacteria           </td><td>Proteobacteria     </td><td>Alphaproteobacteria</td><td>Sphingomonadales   </td><td>Sphingomonadaceae  </td><td>Sphingomonas       </td></tr>\n",
       "\t<tr><th scope=row>ASV4</th><td>Bacteria           </td><td>NA                 </td><td>NA                 </td><td>NA                 </td><td>NA                 </td><td>NA                 </td></tr>\n",
       "\t<tr><th scope=row>ASV5</th><td>Bacteria           </td><td>Actinobacteria     </td><td>Actinobacteria     </td><td>Micrococcales      </td><td>Micrococcaceae     </td><td>Pseudarthrobacter  </td></tr>\n",
       "\t<tr><th scope=row>ASV6</th><td>Bacteria           </td><td>Proteobacteria     </td><td>Gammaproteobacteria</td><td>Cellvibrionales    </td><td>Cellvibrionaceae   </td><td>Cellvibrio         </td></tr>\n",
       "</tbody>\n",
       "</table>\n"
      ],
      "text/latex": [
       "\\begin{tabular}{r|llllll}\n",
       "  & Kingdom & Phylum & Class & Order & Family & Genus\\\\\n",
       "\\hline\n",
       "\tASV1 & Bacteria            & Proteobacteria      & Alphaproteobacteria & Rhizobiales         & Rhizobiaceae        & Phyllobacterium    \\\\\n",
       "\tASV2 & Bacteria            & NA                  & NA                  & NA                  & NA                  & NA                 \\\\\n",
       "\tASV3 & Bacteria            & Proteobacteria      & Alphaproteobacteria & Sphingomonadales    & Sphingomonadaceae   & Sphingomonas       \\\\\n",
       "\tASV4 & Bacteria            & NA                  & NA                  & NA                  & NA                  & NA                 \\\\\n",
       "\tASV5 & Bacteria            & Actinobacteria      & Actinobacteria      & Micrococcales       & Micrococcaceae      & Pseudarthrobacter  \\\\\n",
       "\tASV6 & Bacteria            & Proteobacteria      & Gammaproteobacteria & Cellvibrionales     & Cellvibrionaceae    & Cellvibrio         \\\\\n",
       "\\end{tabular}\n"
      ],
      "text/markdown": [
       "\n",
       "| <!--/--> | Kingdom | Phylum | Class | Order | Family | Genus | \n",
       "|---|---|---|---|---|---|\n",
       "| ASV1 | Bacteria            | Proteobacteria      | Alphaproteobacteria | Rhizobiales         | Rhizobiaceae        | Phyllobacterium     | \n",
       "| ASV2 | Bacteria            | NA                  | NA                  | NA                  | NA                  | NA                  | \n",
       "| ASV3 | Bacteria            | Proteobacteria      | Alphaproteobacteria | Sphingomonadales    | Sphingomonadaceae   | Sphingomonas        | \n",
       "| ASV4 | Bacteria            | NA                  | NA                  | NA                  | NA                  | NA                  | \n",
       "| ASV5 | Bacteria            | Actinobacteria      | Actinobacteria      | Micrococcales       | Micrococcaceae      | Pseudarthrobacter   | \n",
       "| ASV6 | Bacteria            | Proteobacteria      | Gammaproteobacteria | Cellvibrionales     | Cellvibrionaceae    | Cellvibrio          | \n",
       "\n",
       "\n"
      ],
      "text/plain": [
       "     Kingdom  Phylum         Class               Order           \n",
       "ASV1 Bacteria Proteobacteria Alphaproteobacteria Rhizobiales     \n",
       "ASV2 Bacteria NA             NA                  NA              \n",
       "ASV3 Bacteria Proteobacteria Alphaproteobacteria Sphingomonadales\n",
       "ASV4 Bacteria NA             NA                  NA              \n",
       "ASV5 Bacteria Actinobacteria Actinobacteria      Micrococcales   \n",
       "ASV6 Bacteria Proteobacteria Gammaproteobacteria Cellvibrionales \n",
       "     Family            Genus            \n",
       "ASV1 Rhizobiaceae      Phyllobacterium  \n",
       "ASV2 NA                NA               \n",
       "ASV3 Sphingomonadaceae Sphingomonas     \n",
       "ASV4 NA                NA               \n",
       "ASV5 Micrococcaceae    Pseudarthrobacter\n",
       "ASV6 Cellvibrionaceae  Cellvibrio       "
      ]
     },
     "metadata": {},
     "output_type": "display_data"
    }
   ],
   "source": [
    "taxa_df = tax_table(ps.thresh)[,1:6]\n",
    "head(taxa_df)\n"
   ]
  },
  {
   "cell_type": "code",
   "execution_count": 14,
   "metadata": {},
   "outputs": [],
   "source": [
    "#save table of seqs\n",
    "write.table(Seqs_df, file = '~/Hyphosphere/data/3Exp/phyloseq/taxa_seqs.txt', sep = '\\t')"
   ]
  },
  {
   "cell_type": "code",
   "execution_count": 17,
   "metadata": {},
   "outputs": [
    {
     "data": {
      "text/html": [
       "<dl>\n",
       "\t<dt>$ASV1</dt>\n",
       "\t\t<dd>'ASV1'</dd>\n",
       "\t<dt>$ASV2</dt>\n",
       "\t\t<dd>'ASV2'</dd>\n",
       "\t<dt>$ASV3</dt>\n",
       "\t\t<dd>'ASV3'</dd>\n",
       "\t<dt>$ASV4</dt>\n",
       "\t\t<dd>'ASV4'</dd>\n",
       "</dl>\n"
      ],
      "text/latex": [
       "\\begin{description}\n",
       "\\item[\\$ASV1] 'ASV1'\n",
       "\\item[\\$ASV2] 'ASV2'\n",
       "\\item[\\$ASV3] 'ASV3'\n",
       "\\item[\\$ASV4] 'ASV4'\n",
       "\\end{description}\n"
      ],
      "text/markdown": [
       "$ASV1\n",
       ":   'ASV1'\n",
       "$ASV2\n",
       ":   'ASV2'\n",
       "$ASV3\n",
       ":   'ASV3'\n",
       "$ASV4\n",
       ":   'ASV4'\n",
       "\n",
       "\n"
      ],
      "text/plain": [
       "$ASV1\n",
       "[1] \"ASV1\"\n",
       "\n",
       "$ASV2\n",
       "[1] \"ASV2\"\n",
       "\n",
       "$ASV3\n",
       "[1] \"ASV3\"\n",
       "\n",
       "$ASV4\n",
       "[1] \"ASV4\"\n"
      ]
     },
     "metadata": {},
     "output_type": "display_data"
    },
    {
     "data": {
      "text/html": [
       "<dl>\n",
       "\t<dt>$ASV1</dt>\n",
       "\t\t<dd>'TACGAAGGGGGCTAGCGTTGTTCGGATTTACTGGGCGTAAAGCGCACGTAGGCGGACTATTAAGTCAGGGGTGAAATCCCGGGGCTCAACCCCGGAACTGCCTTTGATACTGGTAGTCTTGAGTTCGAGAGAGGTGAGTGGAATTCCGAGTGTAGAGGTGAAATTCGTAGATATTCGGAGGAACACCAGTGGCGAAGGCGGCTCACTGGCTCGATACTGACGCTGAGGTGCGAAAGCGTGGGGAGCAAACAGG'</dd>\n",
       "\t<dt>$ASV2</dt>\n",
       "\t\t<dd>'GACATAGGTGGCAAACATTATCCGGAATTATTGGGCGTAAAGGGTGCGTAGGCGGCATGATAAGTTGCTGGTGGGAAATCAAGGCTCAACCTTGTGGAAGCTAGCAATACTGTCAAGCTAGAGGGCAGAAGAGGTTAACGGAACTCTATGTGGAGCGGTAAAATGTGTAGATATATAGAAGAACATCAATAAAGGCGAAGGCAGTTAACTAGTCTGTCCCTGACGTTGAGGCACGAAAGCGTGGGGAGCAAAACGG'</dd>\n",
       "\t<dt>$ASV3</dt>\n",
       "\t\t<dd>'TACGGAGGGAGCTAGCGTTGTTCGGAATTACTGGGCGTAAAGCGCACGTAGGCGGCTTTGTAAGTCAGAGGTGAAAGCCTGGAGCTCAACTCCAGAACTGCCTTTGAGACTGCATCGCTTGAATCCAGGAGAGGTGAGTGGAATTCCGAGTGTAGAGGTGAAATTCGTAGATATTCGGAAGAACACCAGTGGCGAAGGCGGCTCACTGGACTGGTATTGACGCTGAGGTGCGAAAGCGTGGGGAGCAAACAGG'</dd>\n",
       "\t<dt>$ASV4</dt>\n",
       "\t\t<dd>'GACATAGGTGGCGAACGTTATCCGGAATTATTGGGCGTAAAGGATGCGTAGATGGCAGAGTAAGTTACTGGTTGATGTCAAACTCAATTTGACGGAAGCTGGTAATACTGTTTTGCTAGAGGACAGGAGAGGTTGATGGAATTCTGTGTGGAGCGGTGAAATGCGTTGATCTACAGAGGAACACCAAAAAAGGCGAAGGCAGTCAACTATCCTGTTCCTGACATTGAGGCATGAAAGCGTGGGGAGCAAACCGG'</dd>\n",
       "</dl>\n"
      ],
      "text/latex": [
       "\\begin{description}\n",
       "\\item[\\$ASV1] 'TACGAAGGGGGCTAGCGTTGTTCGGATTTACTGGGCGTAAAGCGCACGTAGGCGGACTATTAAGTCAGGGGTGAAATCCCGGGGCTCAACCCCGGAACTGCCTTTGATACTGGTAGTCTTGAGTTCGAGAGAGGTGAGTGGAATTCCGAGTGTAGAGGTGAAATTCGTAGATATTCGGAGGAACACCAGTGGCGAAGGCGGCTCACTGGCTCGATACTGACGCTGAGGTGCGAAAGCGTGGGGAGCAAACAGG'\n",
       "\\item[\\$ASV2] 'GACATAGGTGGCAAACATTATCCGGAATTATTGGGCGTAAAGGGTGCGTAGGCGGCATGATAAGTTGCTGGTGGGAAATCAAGGCTCAACCTTGTGGAAGCTAGCAATACTGTCAAGCTAGAGGGCAGAAGAGGTTAACGGAACTCTATGTGGAGCGGTAAAATGTGTAGATATATAGAAGAACATCAATAAAGGCGAAGGCAGTTAACTAGTCTGTCCCTGACGTTGAGGCACGAAAGCGTGGGGAGCAAAACGG'\n",
       "\\item[\\$ASV3] 'TACGGAGGGAGCTAGCGTTGTTCGGAATTACTGGGCGTAAAGCGCACGTAGGCGGCTTTGTAAGTCAGAGGTGAAAGCCTGGAGCTCAACTCCAGAACTGCCTTTGAGACTGCATCGCTTGAATCCAGGAGAGGTGAGTGGAATTCCGAGTGTAGAGGTGAAATTCGTAGATATTCGGAAGAACACCAGTGGCGAAGGCGGCTCACTGGACTGGTATTGACGCTGAGGTGCGAAAGCGTGGGGAGCAAACAGG'\n",
       "\\item[\\$ASV4] 'GACATAGGTGGCGAACGTTATCCGGAATTATTGGGCGTAAAGGATGCGTAGATGGCAGAGTAAGTTACTGGTTGATGTCAAACTCAATTTGACGGAAGCTGGTAATACTGTTTTGCTAGAGGACAGGAGAGGTTGATGGAATTCTGTGTGGAGCGGTGAAATGCGTTGATCTACAGAGGAACACCAAAAAAGGCGAAGGCAGTCAACTATCCTGTTCCTGACATTGAGGCATGAAAGCGTGGGGAGCAAACCGG'\n",
       "\\end{description}\n"
      ],
      "text/markdown": [
       "$ASV1\n",
       ":   'TACGAAGGGGGCTAGCGTTGTTCGGATTTACTGGGCGTAAAGCGCACGTAGGCGGACTATTAAGTCAGGGGTGAAATCCCGGGGCTCAACCCCGGAACTGCCTTTGATACTGGTAGTCTTGAGTTCGAGAGAGGTGAGTGGAATTCCGAGTGTAGAGGTGAAATTCGTAGATATTCGGAGGAACACCAGTGGCGAAGGCGGCTCACTGGCTCGATACTGACGCTGAGGTGCGAAAGCGTGGGGAGCAAACAGG'\n",
       "$ASV2\n",
       ":   'GACATAGGTGGCAAACATTATCCGGAATTATTGGGCGTAAAGGGTGCGTAGGCGGCATGATAAGTTGCTGGTGGGAAATCAAGGCTCAACCTTGTGGAAGCTAGCAATACTGTCAAGCTAGAGGGCAGAAGAGGTTAACGGAACTCTATGTGGAGCGGTAAAATGTGTAGATATATAGAAGAACATCAATAAAGGCGAAGGCAGTTAACTAGTCTGTCCCTGACGTTGAGGCACGAAAGCGTGGGGAGCAAAACGG'\n",
       "$ASV3\n",
       ":   'TACGGAGGGAGCTAGCGTTGTTCGGAATTACTGGGCGTAAAGCGCACGTAGGCGGCTTTGTAAGTCAGAGGTGAAAGCCTGGAGCTCAACTCCAGAACTGCCTTTGAGACTGCATCGCTTGAATCCAGGAGAGGTGAGTGGAATTCCGAGTGTAGAGGTGAAATTCGTAGATATTCGGAAGAACACCAGTGGCGAAGGCGGCTCACTGGACTGGTATTGACGCTGAGGTGCGAAAGCGTGGGGAGCAAACAGG'\n",
       "$ASV4\n",
       ":   'GACATAGGTGGCGAACGTTATCCGGAATTATTGGGCGTAAAGGATGCGTAGATGGCAGAGTAAGTTACTGGTTGATGTCAAACTCAATTTGACGGAAGCTGGTAATACTGTTTTGCTAGAGGACAGGAGAGGTTGATGGAATTCTGTGTGGAGCGGTGAAATGCGTTGATCTACAGAGGAACACCAAAAAAGGCGAAGGCAGTCAACTATCCTGTTCCTGACATTGAGGCATGAAAGCGTGGGGAGCAAACCGG'\n",
       "\n",
       "\n"
      ],
      "text/plain": [
       "$ASV1\n",
       "[1] \"TACGAAGGGGGCTAGCGTTGTTCGGATTTACTGGGCGTAAAGCGCACGTAGGCGGACTATTAAGTCAGGGGTGAAATCCCGGGGCTCAACCCCGGAACTGCCTTTGATACTGGTAGTCTTGAGTTCGAGAGAGGTGAGTGGAATTCCGAGTGTAGAGGTGAAATTCGTAGATATTCGGAGGAACACCAGTGGCGAAGGCGGCTCACTGGCTCGATACTGACGCTGAGGTGCGAAAGCGTGGGGAGCAAACAGG\"\n",
       "\n",
       "$ASV2\n",
       "[1] \"GACATAGGTGGCAAACATTATCCGGAATTATTGGGCGTAAAGGGTGCGTAGGCGGCATGATAAGTTGCTGGTGGGAAATCAAGGCTCAACCTTGTGGAAGCTAGCAATACTGTCAAGCTAGAGGGCAGAAGAGGTTAACGGAACTCTATGTGGAGCGGTAAAATGTGTAGATATATAGAAGAACATCAATAAAGGCGAAGGCAGTTAACTAGTCTGTCCCTGACGTTGAGGCACGAAAGCGTGGGGAGCAAAACGG\"\n",
       "\n",
       "$ASV3\n",
       "[1] \"TACGGAGGGAGCTAGCGTTGTTCGGAATTACTGGGCGTAAAGCGCACGTAGGCGGCTTTGTAAGTCAGAGGTGAAAGCCTGGAGCTCAACTCCAGAACTGCCTTTGAGACTGCATCGCTTGAATCCAGGAGAGGTGAGTGGAATTCCGAGTGTAGAGGTGAAATTCGTAGATATTCGGAAGAACACCAGTGGCGAAGGCGGCTCACTGGACTGGTATTGACGCTGAGGTGCGAAAGCGTGGGGAGCAAACAGG\"\n",
       "\n",
       "$ASV4\n",
       "[1] \"GACATAGGTGGCGAACGTTATCCGGAATTATTGGGCGTAAAGGATGCGTAGATGGCAGAGTAAGTTACTGGTTGATGTCAAACTCAATTTGACGGAAGCTGGTAATACTGTTTTGCTAGAGGACAGGAGAGGTTGATGGAATTCTGTGTGGAGCGGTGAAATGCGTTGATCTACAGAGGAACACCAAAAAAGGCGAAGGCAGTCAACTATCCTGTTCCTGACATTGAGGCATGAAAGCGTGGGGAGCAAACCGG\"\n"
      ]
     },
     "metadata": {},
     "output_type": "display_data"
    }
   ],
   "source": [
    "# save fasta file of seqs\n",
    "outfile = '~/Hyphosphere/data/3Exp/phyloseq/seqs_thresh.fasta'\n",
    "\n",
    "SeqNames = Seqs_df[,'ASV'] %>%\n",
    "    as.list()\n",
    "SeqNames[1:4]\n",
    "seqs = Seqs_df[,'Seq'] %>% as.list()\n",
    "seqs[1:4]\n",
    "seqinr::write.fasta(sequences = as.list(seqs), names = SeqNames, file.out = outfile)"
   ]
  }
 ],
 "metadata": {
  "kernelspec": {
   "display_name": "R",
   "language": "R",
   "name": "ir"
  },
  "language_info": {
   "codemirror_mode": "r",
   "file_extension": ".r",
   "mimetype": "text/x-r-source",
   "name": "R",
   "pygments_lexer": "r",
   "version": "3.5.1"
  }
 },
 "nbformat": 4,
 "nbformat_minor": 2
}
