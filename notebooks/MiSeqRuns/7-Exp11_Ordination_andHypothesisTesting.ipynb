{
 "cells": [
  {
   "cell_type": "code",
   "execution_count": 1,
   "metadata": {},
   "outputs": [
    {
     "name": "stderr",
     "output_type": "stream",
     "text": [
      "Warning message:\n",
      "“package ‘RColorBrewer’ was built under R version 3.6.1”Warning message:\n",
      "“package ‘vegan’ was built under R version 3.6.1”Loading required package: permute\n",
      "Warning message:\n",
      "“package ‘permute’ was built under R version 3.6.1”Loading required package: lattice\n",
      "Warning message:\n",
      "“package ‘lattice’ was built under R version 3.6.1”This is vegan 2.5-5\n",
      "Registered S3 method overwritten by 'dplyr':\n",
      "  method               from  \n",
      "  as.data.frame.tbl_df tibble\n",
      "\n",
      "Attaching package: ‘dplyr’\n",
      "\n",
      "The following objects are masked from ‘package:stats’:\n",
      "\n",
      "    filter, lag\n",
      "\n",
      "The following objects are masked from ‘package:base’:\n",
      "\n",
      "    intersect, setdiff, setequal, union\n",
      "\n",
      "Warning message:\n",
      "“package ‘reshape2’ was built under R version 3.6.1”\n",
      "Attaching package: ‘reshape2’\n",
      "\n",
      "The following object is masked from ‘package:tidyr’:\n",
      "\n",
      "    smiths\n",
      "\n",
      "Warning message:\n",
      "“package ‘phyloseq’ was built under R version 3.6.1”\n",
      "Attaching package: ‘gridExtra’\n",
      "\n",
      "The following object is masked from ‘package:dplyr’:\n",
      "\n",
      "    combine\n",
      "\n",
      "Warning message:\n",
      "“package ‘ggplot2’ was built under R version 3.6.1”"
     ]
    }
   ],
   "source": [
    "library(RColorBrewer)\n",
    "library(vegan)\n",
    "library(tidyr)\n",
    "library(dplyr)\n",
    "library(reshape2)\n",
    "library(phyloseq)\n",
    "library(gridExtra)\n",
    "library(ggplot2)"
   ]
  },
  {
   "cell_type": "code",
   "execution_count": 2,
   "metadata": {},
   "outputs": [],
   "source": [
    "theme_pub = function (base_size = 11, base_family = \"Helvetica\") \n",
    "{\n",
    "    theme_grey(base_size = base_size, base_family = base_family) %+replace% \n",
    "        theme(\n",
    "            axis.line.x = element_line(size = .5),\n",
    "            axis.line.y = element_line(size = .5),\n",
    "            panel.background = element_rect(fill = \"white\", colour = NA), \n",
    "            panel.border = element_rect(fill = NA, color = \"black\", size = .5), \n",
    "            panel.grid.major = element_blank(), \n",
    "            panel.grid.minor = element_blank(), \n",
    "            strip.background = element_rect(fill = \"grey85\", \n",
    "                colour = \"grey20\"), \n",
    "            legend.key = element_rect(fill = \"white\", \n",
    "                colour = NA), complete = TRUE)\n",
    "    }"
   ]
  },
  {
   "cell_type": "code",
   "execution_count": 3,
   "metadata": {},
   "outputs": [],
   "source": [
    "figDir = '~/Hyphosphere/Exp11/figures'"
   ]
  },
  {
   "cell_type": "code",
   "execution_count": 4,
   "metadata": {},
   "outputs": [
    {
     "data": {
      "text/html": [
       "<table>\n",
       "<thead><tr><th></th><th scope=col>Kingdom</th><th scope=col>Phylum</th><th scope=col>Class</th><th scope=col>Order</th><th scope=col>Family</th><th scope=col>Genus</th></tr></thead>\n",
       "<tbody>\n",
       "\t<tr><th scope=row>ASV5742</th><td>Bacteria     </td><td>NA           </td><td>NA           </td><td>NA           </td><td>NA           </td><td>NA           </td></tr>\n",
       "\t<tr><th scope=row>ASV6971</th><td>Bacteria     </td><td>NA           </td><td>NA           </td><td>NA           </td><td>NA           </td><td>NA           </td></tr>\n",
       "\t<tr><th scope=row>ASV2480</th><td>Bacteria     </td><td>NA           </td><td>NA           </td><td>NA           </td><td>NA           </td><td>NA           </td></tr>\n",
       "\t<tr><th scope=row>ASV15180</th><td>Bacteria     </td><td>Acidobacteria</td><td>Subgroup_20  </td><td>NA           </td><td>NA           </td><td>NA           </td></tr>\n",
       "\t<tr><th scope=row>ASV9985</th><td>Bacteria     </td><td>Acidobacteria</td><td>Subgroup_20  </td><td>NA           </td><td>NA           </td><td>NA           </td></tr>\n",
       "\t<tr><th scope=row>ASV9417</th><td>Bacteria     </td><td>Acidobacteria</td><td>Subgroup_9   </td><td>NA           </td><td>NA           </td><td>NA           </td></tr>\n",
       "</tbody>\n",
       "</table>\n"
      ],
      "text/latex": [
       "\\begin{tabular}{r|llllll}\n",
       "  & Kingdom & Phylum & Class & Order & Family & Genus\\\\\n",
       "\\hline\n",
       "\tASV5742 & Bacteria      & NA            & NA            & NA            & NA            & NA           \\\\\n",
       "\tASV6971 & Bacteria      & NA            & NA            & NA            & NA            & NA           \\\\\n",
       "\tASV2480 & Bacteria      & NA            & NA            & NA            & NA            & NA           \\\\\n",
       "\tASV15180 & Bacteria      & Acidobacteria & Subgroup\\_20 & NA            & NA            & NA           \\\\\n",
       "\tASV9985 & Bacteria      & Acidobacteria & Subgroup\\_20 & NA            & NA            & NA           \\\\\n",
       "\tASV9417 & Bacteria      & Acidobacteria & Subgroup\\_9  & NA            & NA            & NA           \\\\\n",
       "\\end{tabular}\n"
      ],
      "text/markdown": [
       "\n",
       "| <!--/--> | Kingdom | Phylum | Class | Order | Family | Genus | \n",
       "|---|---|---|---|---|---|\n",
       "| ASV5742 | Bacteria      | NA            | NA            | NA            | NA            | NA            | \n",
       "| ASV6971 | Bacteria      | NA            | NA            | NA            | NA            | NA            | \n",
       "| ASV2480 | Bacteria      | NA            | NA            | NA            | NA            | NA            | \n",
       "| ASV15180 | Bacteria      | Acidobacteria | Subgroup_20   | NA            | NA            | NA            | \n",
       "| ASV9985 | Bacteria      | Acidobacteria | Subgroup_20   | NA            | NA            | NA            | \n",
       "| ASV9417 | Bacteria      | Acidobacteria | Subgroup_9    | NA            | NA            | NA            | \n",
       "\n",
       "\n"
      ],
      "text/plain": [
       "         Kingdom  Phylum        Class       Order Family Genus\n",
       "ASV5742  Bacteria NA            NA          NA    NA     NA   \n",
       "ASV6971  Bacteria NA            NA          NA    NA     NA   \n",
       "ASV2480  Bacteria NA            NA          NA    NA     NA   \n",
       "ASV15180 Bacteria Acidobacteria Subgroup_20 NA    NA     NA   \n",
       "ASV9985  Bacteria Acidobacteria Subgroup_20 NA    NA     NA   \n",
       "ASV9417  Bacteria Acidobacteria Subgroup_9  NA    NA     NA   "
      ]
     },
     "metadata": {},
     "output_type": "display_data"
    },
    {
     "data": {
      "text/html": [
       "<table>\n",
       "<thead><tr><th></th><th scope=col>ASV15180</th><th scope=col>ASV9985</th><th scope=col>ASV9417</th><th scope=col>ASV15142</th><th scope=col>ASV7191</th><th scope=col>ASV3993</th><th scope=col>ASV6463</th><th scope=col>ASV11356</th><th scope=col>ASV2801</th><th scope=col>ASV10913</th></tr></thead>\n",
       "<tbody>\n",
       "\t<tr><th scope=row>1_GVCLHN1-BH</th><td>0.0000000000</td><td>0           </td><td>0           </td><td>0           </td><td>0           </td><td>0           </td><td>0           </td><td>0           </td><td>0           </td><td>0           </td></tr>\n",
       "\t<tr><th scope=row>10_GVFLHP1-BS</th><td>0.0000000000</td><td>0           </td><td>0           </td><td>0           </td><td>0           </td><td>0           </td><td>0           </td><td>0           </td><td>0           </td><td>0           </td></tr>\n",
       "\t<tr><th scope=row>100_GVCLHN4-BS</th><td>0.0002601312</td><td>0           </td><td>0           </td><td>0           </td><td>0           </td><td>0           </td><td>0           </td><td>0           </td><td>0           </td><td>0           </td></tr>\n",
       "\t<tr><th scope=row>101_GVFLHN3-BH</th><td>0.0000000000</td><td>0           </td><td>0           </td><td>0           </td><td>0           </td><td>0           </td><td>0           </td><td>0           </td><td>0           </td><td>0           </td></tr>\n",
       "</tbody>\n",
       "</table>\n"
      ],
      "text/latex": [
       "\\begin{tabular}{r|llllllllll}\n",
       "  & ASV15180 & ASV9985 & ASV9417 & ASV15142 & ASV7191 & ASV3993 & ASV6463 & ASV11356 & ASV2801 & ASV10913\\\\\n",
       "\\hline\n",
       "\t1\\_GVCLHN1-BH & 0.0000000000 & 0            & 0            & 0            & 0            & 0            & 0            & 0            & 0            & 0           \\\\\n",
       "\t10\\_GVFLHP1-BS & 0.0000000000 & 0            & 0            & 0            & 0            & 0            & 0            & 0            & 0            & 0           \\\\\n",
       "\t100\\_GVCLHN4-BS & 0.0002601312 & 0            & 0            & 0            & 0            & 0            & 0            & 0            & 0            & 0           \\\\\n",
       "\t101\\_GVFLHN3-BH & 0.0000000000 & 0            & 0            & 0            & 0            & 0            & 0            & 0            & 0            & 0           \\\\\n",
       "\\end{tabular}\n"
      ],
      "text/markdown": [
       "\n",
       "| <!--/--> | ASV15180 | ASV9985 | ASV9417 | ASV15142 | ASV7191 | ASV3993 | ASV6463 | ASV11356 | ASV2801 | ASV10913 | \n",
       "|---|---|---|---|\n",
       "| 1_GVCLHN1-BH | 0.0000000000 | 0            | 0            | 0            | 0            | 0            | 0            | 0            | 0            | 0            | \n",
       "| 10_GVFLHP1-BS | 0.0000000000 | 0            | 0            | 0            | 0            | 0            | 0            | 0            | 0            | 0            | \n",
       "| 100_GVCLHN4-BS | 0.0002601312 | 0            | 0            | 0            | 0            | 0            | 0            | 0            | 0            | 0            | \n",
       "| 101_GVFLHN3-BH | 0.0000000000 | 0            | 0            | 0            | 0            | 0            | 0            | 0            | 0            | 0            | \n",
       "\n",
       "\n"
      ],
      "text/plain": [
       "               ASV15180     ASV9985 ASV9417 ASV15142 ASV7191 ASV3993 ASV6463\n",
       "1_GVCLHN1-BH   0.0000000000 0       0       0        0       0       0      \n",
       "10_GVFLHP1-BS  0.0000000000 0       0       0        0       0       0      \n",
       "100_GVCLHN4-BS 0.0002601312 0       0       0        0       0       0      \n",
       "101_GVFLHN3-BH 0.0000000000 0       0       0        0       0       0      \n",
       "               ASV11356 ASV2801 ASV10913\n",
       "1_GVCLHN1-BH   0        0       0       \n",
       "10_GVFLHP1-BS  0        0       0       \n",
       "100_GVCLHN4-BS 0        0       0       \n",
       "101_GVFLHN3-BH 0        0       0       "
      ]
     },
     "metadata": {},
     "output_type": "display_data"
    },
    {
     "data": {
      "text/html": [
       "<table>\n",
       "<thead><tr><th></th><th scope=col>Kingdom</th><th scope=col>Phylum</th><th scope=col>Class</th><th scope=col>Order</th><th scope=col>Family</th><th scope=col>Genus</th></tr></thead>\n",
       "<tbody>\n",
       "\t<tr><th scope=row>ASV3937</th><td>Bacteria                    </td><td>Acidobacteria               </td><td>Acidobacteriia              </td><td>Solibacterales              </td><td>Solibacteraceae_(Subgroup_3)</td><td>Elev-16S-1166               </td></tr>\n",
       "\t<tr><th scope=row>ASV11703</th><td>Bacteria                    </td><td>Acidobacteria               </td><td>Acidobacteriia              </td><td>Solibacterales              </td><td>Solibacteraceae_(Subgroup_3)</td><td>Bryobacter                  </td></tr>\n",
       "\t<tr><th scope=row>ASV12031</th><td>Bacteria                    </td><td>Acidobacteria               </td><td>Acidobacteriia              </td><td>Solibacterales              </td><td>Solibacteraceae_(Subgroup_3)</td><td>Candidatus_Solibacter       </td></tr>\n",
       "\t<tr><th scope=row>ASV5117</th><td>Bacteria                    </td><td>Acidobacteria               </td><td>Acidobacteriia              </td><td>Solibacterales              </td><td>Solibacteraceae_(Subgroup_3)</td><td>PAUC26f                     </td></tr>\n",
       "\t<tr><th scope=row>ASV2580</th><td>Bacteria                    </td><td>Acidobacteria               </td><td>Acidobacteriia              </td><td>Solibacterales              </td><td>Solibacteraceae_(Subgroup_3)</td><td>PAUC26f                     </td></tr>\n",
       "\t<tr><th scope=row>ASV4226</th><td>Bacteria                    </td><td>Acidobacteria               </td><td>Acidobacteriia              </td><td>Solibacterales              </td><td>Solibacteraceae_(Subgroup_3)</td><td>PAUC26f                     </td></tr>\n",
       "</tbody>\n",
       "</table>\n"
      ],
      "text/latex": [
       "\\begin{tabular}{r|llllll}\n",
       "  & Kingdom & Phylum & Class & Order & Family & Genus\\\\\n",
       "\\hline\n",
       "\tASV3937 & Bacteria                         & Acidobacteria                    & Acidobacteriia                   & Solibacterales                   & Solibacteraceae\\_(Subgroup\\_3) & Elev-16S-1166                   \\\\\n",
       "\tASV11703 & Bacteria                         & Acidobacteria                    & Acidobacteriia                   & Solibacterales                   & Solibacteraceae\\_(Subgroup\\_3) & Bryobacter                      \\\\\n",
       "\tASV12031 & Bacteria                         & Acidobacteria                    & Acidobacteriia                   & Solibacterales                   & Solibacteraceae\\_(Subgroup\\_3) & Candidatus\\_Solibacter         \\\\\n",
       "\tASV5117 & Bacteria                         & Acidobacteria                    & Acidobacteriia                   & Solibacterales                   & Solibacteraceae\\_(Subgroup\\_3) & PAUC26f                         \\\\\n",
       "\tASV2580 & Bacteria                         & Acidobacteria                    & Acidobacteriia                   & Solibacterales                   & Solibacteraceae\\_(Subgroup\\_3) & PAUC26f                         \\\\\n",
       "\tASV4226 & Bacteria                         & Acidobacteria                    & Acidobacteriia                   & Solibacterales                   & Solibacteraceae\\_(Subgroup\\_3) & PAUC26f                         \\\\\n",
       "\\end{tabular}\n"
      ],
      "text/markdown": [
       "\n",
       "| <!--/--> | Kingdom | Phylum | Class | Order | Family | Genus | \n",
       "|---|---|---|---|---|---|\n",
       "| ASV3937 | Bacteria                     | Acidobacteria                | Acidobacteriia               | Solibacterales               | Solibacteraceae_(Subgroup_3) | Elev-16S-1166                | \n",
       "| ASV11703 | Bacteria                     | Acidobacteria                | Acidobacteriia               | Solibacterales               | Solibacteraceae_(Subgroup_3) | Bryobacter                   | \n",
       "| ASV12031 | Bacteria                     | Acidobacteria                | Acidobacteriia               | Solibacterales               | Solibacteraceae_(Subgroup_3) | Candidatus_Solibacter        | \n",
       "| ASV5117 | Bacteria                     | Acidobacteria                | Acidobacteriia               | Solibacterales               | Solibacteraceae_(Subgroup_3) | PAUC26f                      | \n",
       "| ASV2580 | Bacteria                     | Acidobacteria                | Acidobacteriia               | Solibacterales               | Solibacteraceae_(Subgroup_3) | PAUC26f                      | \n",
       "| ASV4226 | Bacteria                     | Acidobacteria                | Acidobacteriia               | Solibacterales               | Solibacteraceae_(Subgroup_3) | PAUC26f                      | \n",
       "\n",
       "\n"
      ],
      "text/plain": [
       "         Kingdom  Phylum        Class          Order         \n",
       "ASV3937  Bacteria Acidobacteria Acidobacteriia Solibacterales\n",
       "ASV11703 Bacteria Acidobacteria Acidobacteriia Solibacterales\n",
       "ASV12031 Bacteria Acidobacteria Acidobacteriia Solibacterales\n",
       "ASV5117  Bacteria Acidobacteria Acidobacteriia Solibacterales\n",
       "ASV2580  Bacteria Acidobacteria Acidobacteriia Solibacterales\n",
       "ASV4226  Bacteria Acidobacteria Acidobacteriia Solibacterales\n",
       "         Family                       Genus                \n",
       "ASV3937  Solibacteraceae_(Subgroup_3) Elev-16S-1166        \n",
       "ASV11703 Solibacteraceae_(Subgroup_3) Bryobacter           \n",
       "ASV12031 Solibacteraceae_(Subgroup_3) Candidatus_Solibacter\n",
       "ASV5117  Solibacteraceae_(Subgroup_3) PAUC26f              \n",
       "ASV2580  Solibacteraceae_(Subgroup_3) PAUC26f              \n",
       "ASV4226  Solibacteraceae_(Subgroup_3) PAUC26f              "
      ]
     },
     "metadata": {},
     "output_type": "display_data"
    },
    {
     "data": {
      "text/plain": [
       "phyloseq-class experiment-level object\n",
       "otu_table()   OTU Table:         [ 13073 taxa and 183 samples ]\n",
       "sample_data() Sample Data:       [ 183 samples by 11 sample variables ]\n",
       "tax_table()   Taxonomy Table:    [ 13073 taxa by 6 taxonomic ranks ]\n",
       "phy_tree()    Phylogenetic Tree: [ 13073 tips and 13040 internal nodes ]"
      ]
     },
     "metadata": {},
     "output_type": "display_data"
    }
   ],
   "source": [
    "ps = readRDS(\"~/Hyphosphere/Exp11/Exp11_phyloseq.rds\")\n",
    "ps = subset_taxa(ps, !is.na(\"Phylum\"))\n",
    "\n",
    "\n",
    "tax_table(ps) %>% head()\n",
    "ps = subset_taxa(ps, Kingdom == \"Bacteria\" &  !is.na(Phylum))\n",
    "ps = subset_samples(ps, !SampleType %in% c(\"EB\", \"PB\", \"MK\")) #remove non-experimental controls\n",
    "\n",
    "# re-normalize after subsetting taxa\n",
    "ps.snorm = transform_sample_counts(ps, function(x) x/sum(x))\n",
    "\n",
    "otu_table(ps.snorm)[1:4, 1:10]\n",
    "tax_table(ps.snorm) %>% tail()\n",
    "\n",
    "ps.snorm\n",
    "                                  \n"
   ]
  },
  {
   "cell_type": "code",
   "execution_count": null,
   "metadata": {},
   "outputs": [],
   "source": [
    "#Generate distance matrices"
   ]
  },
  {
   "cell_type": "code",
   "execution_count": null,
   "metadata": {},
   "outputs": [
    {
     "name": "stderr",
     "output_type": "stream",
     "text": [
      "Warning message:\n",
      "“executing %dopar% sequentially: no parallel backend registered”"
     ]
    }
   ],
   "source": [
    "wunif.dist = phyloseq::distance(ps.snorm, \n",
    "                      method = \"unifrac\", \n",
    "                      weighted = TRUE,\n",
    "                      fast = TRUE, \n",
    "                      parallel = TRUE, \n",
    "                      normalized = FALSE)\n",
    "\n",
    "unif.dist = phyloseq::distance(ps.snorm, \n",
    "                      method = \"unifrac\", \n",
    "                      weighted = FALSE,\n",
    "                      fast = TRUE, \n",
    "                      parallel = TRUE, \n",
    "                      normalized = FALSE)"
   ]
  },
  {
   "cell_type": "code",
   "execution_count": null,
   "metadata": {},
   "outputs": [],
   "source": [
    "set.seed(101)\n",
    "\n",
    "df = as(sample_data(ps.snorm), \"data.frame\")\n",
    "#df$Rep = as.factor(df$Rep)\n",
    "#df$TimePoint = as.factor(df$TimePoint)\n",
    "d = wunif.dist\n",
    "\n",
    "adonis.w = adonis(formula = d ~ Soil + SampleType + Fungus + SampleType:Fungus, df, permutations = 999)\n",
    "print(\"weighted-UniFrac\")\n",
    "adonis.w"
   ]
  },
  {
   "cell_type": "code",
   "execution_count": null,
   "metadata": {},
   "outputs": [],
   "source": [
    "ordu = ordinate(ps.snorm, \"PCoA\", \"unifrac\", weighted=TRUE)\n",
    "p = plot_ordination(ps.snorm, ordu, justDF = TRUE)\n",
    "plot_ordination(ps.snorm, ordu)"
   ]
  },
  {
   "cell_type": "code",
   "execution_count": null,
   "metadata": {},
   "outputs": [],
   "source": [
    "head(p)"
   ]
  },
  {
   "cell_type": "code",
   "execution_count": null,
   "metadata": {},
   "outputs": [],
   "source": [
    "#setwd(figDir)\n",
    "tmp = filter(p, SampleType %in% c(\"BS\", \"BH\") & Soil == \"Lansing\")\n",
    "tmp2 = filter(p, Sample == \"GVN7HP2-BH\")\n",
    "#cs = brewer.pal(2,\"Dark2\")\n",
    "p1 = ggplot(tmp, aes(x = Axis.1, y = Axis.2)) +\n",
    "geom_point(aes(shape = as.factor(Soil), fill = SampleType),  size = 2) +\n",
    "geom_point(data = tmp2, aes(x = Axis.1, y = Axis.2), shape = 8, size = 4)+\n",
    "theme_pub() +\n",
    "#scale_shape_manual(values=c(21,22,23,24), guide = guide_legend(title = \"Soil\", ncol = 2))+\n",
    "#scale_fill_manual(values = cs)+\n",
    "labs(x = \"PCoA 1 [25.5%]\", y = \"PCoA 2 [16.5%]\") +\n",
    "ggtitle(\"PCoA of Weighted UniFrac Distances\")+\n",
    "#guides(fill=guide_legend(override.aes=list(color= cs), ncol = 3))+\n",
    "#guides(fill=guide_legend(override.aes=list(color= cs), ncol = 3), shape = guide_legend(override.aes=list(shape = c(21,22,23,24), ncol = 2))) + \n",
    "theme(legend.position=\"bottom\") \n",
    "\n",
    "#color = \"grey20\",\n",
    "\n",
    "p1\n",
    "  \n",
    "# pdf(file.path(figDir,\"wUnif_PCOA.pdf\"), useDingbats = FALSE, width = 6, height = 4)\n",
    "# p1\n",
    "# dev.off()"
   ]
  },
  {
   "cell_type": "code",
   "execution_count": null,
   "metadata": {},
   "outputs": [],
   "source": [
    "#setwd(figDir)\n",
    "tmp = filter(p, SampleType %in% c(\"BS\", \"BH\") & Soil == \"Lansing\")\n",
    "tmp2 = filter(p, Sample == \"GVN7HP2-BH\")\n",
    "#cs = brewer.pal(2,\"Dark2\")\n",
    "\n",
    "p1 = ggplot(tmp, aes(x = Axis.1, y = Axis.2)) +\n",
    "    geom_point(aes(fill = SampleType), shape = 21,  size = 2) +\n",
    "geom_point(data = tmp2, aes(x = Axis.1, y = Axis.2), shape = 8, size = 4)+\n",
    "theme_pub() +\n",
    "#scale_shape_manual(values=c(21,22,23,24), guide = guide_legend(title = \"Soil\", ncol = 2))+\n",
    "#scale_fill_manual(values = cs)+\n",
    "labs(x = \"PCoA 1 [25.5%]\", y = \"PCoA 2 [16.5%]\") +\n",
    "ggtitle(\"PCoA of Weighted UniFrac Distances\")+\n",
    "#guides(fill=guide_legend(override.aes=list(color= cs), ncol = 3))+\n",
    "#guides(fill=guide_legend(override.aes=list(color= cs), ncol = 3), shape = guide_legend(override.aes=list(shape = c(21,22,23,24), ncol = 2))) + \n",
    "theme(legend.position=\"bottom\") \n",
    "\n",
    "#color = \"grey20\",\n",
    "\n",
    "p1\n",
    "  \n",
    "# pdf(file.path(figDir,\"wUnif_PCOA.pdf\"), useDingbats = FALSE, width = 6, height = 4)\n",
    "# p1\n",
    "# dev.off()"
   ]
  },
  {
   "cell_type": "code",
   "execution_count": null,
   "metadata": {},
   "outputs": [],
   "source": []
  },
  {
   "cell_type": "markdown",
   "metadata": {},
   "source": [
    "# Subset to just bulk soils and hyphal soils"
   ]
  },
  {
   "cell_type": "code",
   "execution_count": 129,
   "metadata": {},
   "outputs": [],
   "source": [
    "ps.b = subset_samples(ps.snorm, SampleType %in% c(\"BS\", \"BH\"))"
   ]
  },
  {
   "cell_type": "code",
   "execution_count": 130,
   "metadata": {},
   "outputs": [
    {
     "name": "stderr",
     "output_type": "stream",
     "text": [
      "Warning message in matrix(tree$edge[order(tree$edge[, 1]), ][, 2], byrow = TRUE, :\n",
      "“data length [25449] is not a sub-multiple or multiple of the number of rows [12725]”"
     ]
    }
   ],
   "source": [
    "b.wunif.dist = phyloseq::distance(ps.b, \n",
    "                      method = \"unifrac\", \n",
    "                      weighted = TRUE,\n",
    "                      fast = TRUE, \n",
    "                      parallel = TRUE, \n",
    "                      normalized = FALSE)"
   ]
  },
  {
   "cell_type": "code",
   "execution_count": 131,
   "metadata": {},
   "outputs": [
    {
     "name": "stderr",
     "output_type": "stream",
     "text": [
      "Warning message in matrix(tree$edge[order(tree$edge[, 1]), ][, 2], byrow = TRUE, :\n",
      "“data length [25449] is not a sub-multiple or multiple of the number of rows [12725]”"
     ]
    },
    {
     "data": {},
     "metadata": {},
     "output_type": "display_data"
    },
    {
     "data": {
      "image/png": "[encoded data removed]",
      "text/plain": [
       "plot without title"
      ]
     },
     "metadata": {},
     "output_type": "display_data"
    }
   ],
   "source": [
    "ordu = ordinate(ps.b, \"PCoA\", \"unifrac\", weighted=TRUE)\n",
    "p = plot_ordination(ps.b, ordu, justDF = TRUE)\n",
    "plot_ordination(ps.snorm, ordu)"
   ]
  },
  {
   "cell_type": "code",
   "execution_count": 135,
   "metadata": {
    "scrolled": false
   },
   "outputs": [
    {
     "data": {},
     "metadata": {},
     "output_type": "display_data"
    },
    {
     "data": {},
     "metadata": {},
     "output_type": "display_data"
    },
    {
     "data": {
      "text/html": [
       "<strong>png:</strong> 2"
      ],
      "text/latex": [
       "\\textbf{png:} 2"
      ],
      "text/markdown": [
       "**png:** 2"
      ],
      "text/plain": [
       "png \n",
       "  2 "
      ]
     },
     "metadata": {},
     "output_type": "display_data"
    },
    {
     "data": {
      "image/png": "[encoded data removed]",
      "text/plain": [
       "plot without title"
      ]
     },
     "metadata": {},
     "output_type": "display_data"
    }
   ],
   "source": [
    "#setwd(figDir)\n",
    "cs = brewer.pal(7,\"Dark2\")\n",
    "p1 = ggplot(p, aes(x = Axis.1, y = Axis.2)) +\n",
    "geom_point(aes(shape = as.factor(Soil), fill = SampleType),  size = 2) +\n",
    "theme_pub() +\n",
    "scale_shape_manual(values=c(21,22,23), guide = guide_legend(title = \"Soil\", ncol = 1))+\n",
    "scale_fill_manual(values = cs[c(1,3)], labels = c(\"Bulk hyphosphere\", \"Bulk soil\"))+\n",
    "labs(x = \"PCoA 1 [41.6%]\", y = \"PCoA 2 [13.1%]\") +\n",
    "ggtitle(\"PCoA of Weighted UniFrac Distances\")+\n",
    "\n",
    "guides(fill=guide_legend(override.aes=list(colour= cs[c(1,3)]), ncol = 1)) + \n",
    "theme(legend.position=\"bottom\") \n",
    "\n",
    "#color = \"grey20\",\n",
    "\n",
    "p1\n",
    "\n",
    "pdf(file.path(figDir,\"wUnif_PCOA_BSBH.pdf\"), useDingbats = FALSE, width = 4.5, height = 3)\n",
    "p1\n",
    "dev.off()"
   ]
  },
  {
   "cell_type": "code",
   "execution_count": 105,
   "metadata": {},
   "outputs": [
    {
     "name": "stdout",
     "output_type": "stream",
     "text": [
      "[1] \"weighted-UniFrac\"\n"
     ]
    },
    {
     "data": {
      "text/plain": [
       "\n",
       "Call:\n",
       "adonis(formula = d ~ Rep + Soil + SampleType + Soil:SampleType +      Fungus + Fungus:SampleType, data = df, permutations = 999) \n",
       "\n",
       "Permutation: free\n",
       "Number of permutations: 999\n",
       "\n",
       "Terms added sequentially (first to last)\n",
       "\n",
       "                  Df SumsOfSqs   MeanSqs F.Model      R2 Pr(>F)    \n",
       "Rep                1  0.001013 0.0010131   3.571 0.02216  0.007 ** \n",
       "Soil               2  0.024764 0.0123818  43.644 0.54161  0.001 ***\n",
       "SampleType         1  0.000350 0.0003500   1.234 0.00765  0.229    \n",
       "Fungus             1  0.000275 0.0002749   0.969 0.00601  0.367    \n",
       "Soil:SampleType    2  0.000408 0.0002040   0.719 0.00892  0.708    \n",
       "SampleType:Fungus  1  0.000189 0.0001889   0.666 0.00413  0.667    \n",
       "Residuals         66  0.018724 0.0002837         0.40951           \n",
       "Total             74  0.045723                   1.00000           \n",
       "---\n",
       "Signif. codes:  0 ‘***’ 0.001 ‘**’ 0.01 ‘*’ 0.05 ‘.’ 0.1 ‘ ’ 1"
      ]
     },
     "metadata": {},
     "output_type": "display_data"
    }
   ],
   "source": [
    "set.seed(101)\n",
    "\n",
    "df = as(sample_data(ps.b), \"data.frame\")\n",
    "#df$Rep = as.factor(df$Rep)\n",
    "#df$TimePoint = as.factor(df$TimePoint)\n",
    "d = b.wunif.dist\n",
    "\n",
    "b.adonis.w = adonis(formula = d ~ Rep + Soil + SampleType + Soil:SampleType + Fungus + Fungus:SampleType, df, permutations = 999)\n",
    "print(\"weighted-UniFrac\")\n",
    "b.adonis.w\n",
    "\n",
    "# d = unif.dist\n",
    "# #Soiladonis = adonis(formula = d ~ Planted + DAP + Plant + Treatment, df, strata = df$Rep:df$Plant, permutations = 999)\n",
    "# adonis.u = adonis(formula = d ~ Rep + SampleType + TimePoint + SampleType:TimePoint, df, permutations = 999)\n",
    "# print(\"unweighted-UniFrac\")\n",
    "#adonis.u"
   ]
  },
  {
   "cell_type": "markdown",
   "metadata": {},
   "source": [
    "# Hyphal attached communities"
   ]
  },
  {
   "cell_type": "markdown",
   "metadata": {},
   "source": [
    "* Does fungal species matter?"
   ]
  },
  {
   "cell_type": "code",
   "execution_count": 120,
   "metadata": {},
   "outputs": [],
   "source": [
    "ps.b = subset_samples(ps.snorm, SampleType %in% c(\"RH\",\"CH\") & Soil == \"Lansing\")"
   ]
  },
  {
   "cell_type": "code",
   "execution_count": 121,
   "metadata": {},
   "outputs": [
    {
     "name": "stderr",
     "output_type": "stream",
     "text": [
      "Warning message in matrix(tree$edge[order(tree$edge[, 1]), ][, 2], byrow = TRUE, :\n",
      "“data length [25449] is not a sub-multiple or multiple of the number of rows [12725]”"
     ]
    },
    {
     "data": {},
     "metadata": {},
     "output_type": "display_data"
    },
    {
     "data": {
      "image/png": "[encoded data removed]",
      "text/plain": [
       "plot without title"
      ]
     },
     "metadata": {},
     "output_type": "display_data"
    }
   ],
   "source": [
    "ordu = ordinate(ps.b, \"PCoA\", \"unifrac\", weighted=TRUE)\n",
    "p = plot_ordination(ps.b, ordu, justDF = TRUE)\n",
    "plot_ordination(ps.snorm, ordu)"
   ]
  },
  {
   "cell_type": "code",
   "execution_count": 126,
   "metadata": {
    "scrolled": false
   },
   "outputs": [
    {
     "data": {},
     "metadata": {},
     "output_type": "display_data"
    },
    {
     "data": {},
     "metadata": {},
     "output_type": "display_data"
    },
    {
     "data": {
      "text/html": [
       "<strong>png:</strong> 2"
      ],
      "text/latex": [
       "\\textbf{png:} 2"
      ],
      "text/markdown": [
       "**png:** 2"
      ],
      "text/plain": [
       "png \n",
       "  2 "
      ]
     },
     "metadata": {},
     "output_type": "display_data"
    },
    {
     "data": {
      "image/png": "[encoded data removed]",
      "text/plain": [
       "plot without title"
      ]
     },
     "metadata": {},
     "output_type": "display_data"
    }
   ],
   "source": [
    "cs = brewer.pal(7,\"Dark2\")\n",
    "p1 = ggplot(p, aes(x = Axis.1, y = Axis.2)) +\n",
    "geom_point(aes(shape = as.factor(Treatment), fill = Fungus),  size = 2) +\n",
    "theme_pub() +\n",
    "scale_shape_manual(values=c(21,22,23,24), guide = guide_legend(title = \"Treatment\", ncol = 1))+\n",
    "scale_fill_manual(values = cs[c(4,6)])+\n",
    "labs(x = \"PCoA 1 [37%]\", y = \"PCoA 2 [14.2%]\") +\n",
    "ggtitle(\"PCoA of Weighted UniFrac Distances\")+\n",
    "\n",
    "guides(fill=guide_legend(override.aes=list(colour= cs[c(4,6)]), ncol = 1)) + \n",
    "theme(legend.position=\"bottom\") +\n",
    "facet_wrap(~SampleType, ncol = 2)\n",
    "\n",
    "#color = \"grey20\",\n",
    "\n",
    "p1\n",
    "\n",
    "pdf(file.path(figDir,\"wUnif_PCOA_CHRHxFungus.pdf\"), useDingbats = FALSE, width = 6, height = 4)\n",
    "p1\n",
    "dev.off()"
   ]
  },
  {
   "cell_type": "code",
   "execution_count": 124,
   "metadata": {},
   "outputs": [
    {
     "name": "stderr",
     "output_type": "stream",
     "text": [
      "Warning message in matrix(tree$edge[order(tree$edge[, 1]), ][, 2], byrow = TRUE, :\n",
      "“data length [25449] is not a sub-multiple or multiple of the number of rows [12725]”"
     ]
    }
   ],
   "source": [
    "b.wunif.dist = phyloseq::distance(ps.b, \n",
    "                      method = \"unifrac\", \n",
    "                      weighted = TRUE,\n",
    "                      fast = TRUE, \n",
    "                      parallel = TRUE, \n",
    "                      normalized = FALSE)"
   ]
  },
  {
   "cell_type": "code",
   "execution_count": 128,
   "metadata": {},
   "outputs": [
    {
     "name": "stdout",
     "output_type": "stream",
     "text": [
      "[1] \"weighted-UniFrac\"\n"
     ]
    },
    {
     "data": {
      "text/plain": [
       "\n",
       "Call:\n",
       "adonis(formula = d ~ as.factor(Rep) + SampleType + Fungus + Fungus:SampleType,      data = df, permutations = 999) \n",
       "\n",
       "Permutation: free\n",
       "Number of permutations: 999\n",
       "\n",
       "Terms added sequentially (first to last)\n",
       "\n",
       "                  Df SumsOfSqs   MeanSqs F.Model      R2 Pr(>F)    \n",
       "as.factor(Rep)     3 0.0028789 0.0009596  2.0836 0.12650  0.014 *  \n",
       "SampleType         1 0.0082587 0.0082587 17.9313 0.36288  0.001 ***\n",
       "Fungus             1 0.0028383 0.0028383  6.1626 0.12471  0.001 ***\n",
       "SampleType:Fungus  1 0.0009529 0.0009529  2.0689 0.04187  0.063 .  \n",
       "Residuals         17 0.0078298 0.0004606         0.34404           \n",
       "Total             23 0.0227586                   1.00000           \n",
       "---\n",
       "Signif. codes:  0 ‘***’ 0.001 ‘**’ 0.01 ‘*’ 0.05 ‘.’ 0.1 ‘ ’ 1"
      ]
     },
     "metadata": {},
     "output_type": "display_data"
    }
   ],
   "source": [
    "### set.seed(101)\n",
    "\n",
    "df = as(sample_data(ps.b), \"data.frame\")\n",
    "#df$Rep = as.factor(df$Rep)\n",
    "#df$TimePoint = as.factor(df$TimePoint)\n",
    "d = b.wunif.dist\n",
    "\n",
    "b.adonis.w = adonis(formula = d ~ as.factor(Rep) + SampleType + Fungus + Fungus:SampleType, df, permutations = 999)\n",
    "print(\"weighted-UniFrac\")\n",
    "b.adonis.w"
   ]
  },
  {
   "cell_type": "markdown",
   "metadata": {},
   "source": [
    "# Just core hyphae, treatment effects"
   ]
  },
  {
   "cell_type": "code",
   "execution_count": 167,
   "metadata": {
    "scrolled": true
   },
   "outputs": [
    {
     "name": "stderr",
     "output_type": "stream",
     "text": [
      "Warning message in matrix(tree$edge[order(tree$edge[, 1]), ][, 2], byrow = TRUE, :\n",
      "“data length [25449] is not a sub-multiple or multiple of the number of rows [12725]”"
     ]
    },
    {
     "data": {},
     "metadata": {},
     "output_type": "display_data"
    },
    {
     "data": {
      "image/png": "[encoded data removed]",
      "text/plain": [
       "plot without title"
      ]
     },
     "metadata": {},
     "output_type": "display_data"
    }
   ],
   "source": [
    "ps.b = subset_samples(ps.snorm, SampleType %in% c(\"CH\") & Soil != \"Pendelton\")\n",
    "ordu = ordinate(ps.b, \"PCoA\", \"unifrac\", weighted=TRUE)\n",
    "p = plot_ordination(ps.b, ordu, justDF = TRUE)\n",
    "plot_ordination(ps.snorm, ordu)"
   ]
  },
  {
   "cell_type": "code",
   "execution_count": 173,
   "metadata": {},
   "outputs": [
    {
     "data": {},
     "metadata": {},
     "output_type": "display_data"
    },
    {
     "data": {},
     "metadata": {},
     "output_type": "display_data"
    },
    {
     "data": {
      "text/html": [
       "<strong>png:</strong> 2"
      ],
      "text/latex": [
       "\\textbf{png:} 2"
      ],
      "text/markdown": [
       "**png:** 2"
      ],
      "text/plain": [
       "png \n",
       "  2 "
      ]
     },
     "metadata": {},
     "output_type": "display_data"
    },
    {
     "data": {
      "image/png": "[encoded data removed]",
      "text/plain": [
       "plot without title"
      ]
     },
     "metadata": {},
     "output_type": "display_data"
    }
   ],
   "source": [
    "cs = brewer.pal(7,\"Dark2\")\n",
    "p1 = ggplot(p, aes(x = Axis.1, y = Axis.2)) +\n",
    "geom_point(aes(shape = as.factor(Rep), fill = Treatment),  size = 2) +\n",
    "theme_pub() +\n",
    "scale_shape_manual(values=c(21,22,23,24), guide = guide_legend(title = \"Rep\", ncol = 1))+\n",
    "scale_fill_manual(values = c(\"Grey\", \"White\"))+\n",
    "labs(x = \"PCoA 1 [33%]\", y = \"PCoA 2 [11.7%]\") +\n",
    "ggtitle(\"PCoA of Weighted UniFrac Distances\")+\n",
    "\n",
    "guides(fill=guide_legend(override.aes=list(color= c(\"Grey\", \"White\")), ncol = 1)) + \n",
    "theme(legend.position=\"right\") +\n",
    "facet_wrap(Fungus~Soil, ncol = 2)\n",
    "\n",
    "#color = \"grey20\",\n",
    "\n",
    "p1\n",
    "\n",
    "pdf(file.path(figDir,\"wUnif_PCOA_CHxTreatment.pdf\"), useDingbats = FALSE, width = 4.5, height = 3.5)\n",
    "p1\n",
    "dev.off()"
   ]
  },
  {
   "cell_type": "code",
   "execution_count": null,
   "metadata": {},
   "outputs": [],
   "source": []
  },
  {
   "cell_type": "code",
   "execution_count": 174,
   "metadata": {},
   "outputs": [
    {
     "name": "stderr",
     "output_type": "stream",
     "text": [
      "Warning message in matrix(tree$edge[order(tree$edge[, 1]), ][, 2], byrow = TRUE, :\n",
      "“data length [25449] is not a sub-multiple or multiple of the number of rows [12725]”"
     ]
    }
   ],
   "source": [
    "b.wunif.dist = phyloseq::distance(ps.b, \n",
    "                      method = \"unifrac\", \n",
    "                      weighted = TRUE,\n",
    "                      fast = TRUE, \n",
    "                      parallel = TRUE, \n",
    "                      normalized = FALSE)"
   ]
  },
  {
   "cell_type": "code",
   "execution_count": 175,
   "metadata": {},
   "outputs": [
    {
     "name": "stdout",
     "output_type": "stream",
     "text": [
      "[1] \"weighted-UniFrac\"\n"
     ]
    },
    {
     "data": {
      "text/plain": [
       "\n",
       "Call:\n",
       "adonis(formula = d ~ as.factor(Rep) + Soil + Fungus + Treatment +      Treatment:Fungus + Treatment:Soil, data = df, permutations = 999) \n",
       "\n",
       "Permutation: free\n",
       "Number of permutations: 999\n",
       "\n",
       "Terms added sequentially (first to last)\n",
       "\n",
       "                 Df SumsOfSqs   MeanSqs F.Model      R2 Pr(>F)    \n",
       "as.factor(Rep)    3 0.0030367 0.0010122  1.3979 0.11577  0.089 .  \n",
       "Soil              1 0.0076001 0.0076001 10.4960 0.28974  0.001 ***\n",
       "Fungus            1 0.0030116 0.0030116  4.1591 0.11481  0.001 ***\n",
       "Treatment         1 0.0006460 0.0006460  0.8921 0.02463  0.496    \n",
       "Fungus:Treatment  1 0.0003912 0.0003912  0.5403 0.01492  0.971    \n",
       "Soil:Treatment    1 0.0006837 0.0006837  0.9443 0.02607  0.433    \n",
       "Residuals        15 0.0108614 0.0007241         0.41407           \n",
       "Total            23 0.0262308                   1.00000           \n",
       "---\n",
       "Signif. codes:  0 ‘***’ 0.001 ‘**’ 0.01 ‘*’ 0.05 ‘.’ 0.1 ‘ ’ 1"
      ]
     },
     "metadata": {},
     "output_type": "display_data"
    }
   ],
   "source": [
    "df = as(sample_data(ps.b), \"data.frame\")\n",
    "#df$Rep = as.factor(df$Rep)\n",
    "#df$TimePoint = as.factor(df$TimePoint)\n",
    "d = b.wunif.dist\n",
    "\n",
    "b.adonis.w = adonis(formula = d ~ as.factor(Rep) + Soil + Fungus + Treatment + Treatment:Fungus + Treatment:Soil, df, permutations = 999)\n",
    "print(\"weighted-UniFrac\")\n",
    "b.adonis.w"
   ]
  }
 ],
 "metadata": {
  "kernelspec": {
   "display_name": "R",
   "language": "R",
   "name": "ir"
  },
  "language_info": {
   "codemirror_mode": "r",
   "file_extension": ".r",
   "mimetype": "text/x-r-source",
   "name": "R",
   "pygments_lexer": "r",
   "version": "3.6.0"
  }
 },
 "nbformat": 4,
 "nbformat_minor": 2
}
