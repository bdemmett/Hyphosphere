{
 "cells": [
  {
   "cell_type": "markdown",
   "metadata": {},
   "source": [
    "# Prep for iTOL"
   ]
  },
  {
   "cell_type": "markdown",
   "metadata": {},
   "source": [
    "* This script uses the differential abundance outputs and the phylogenetic tree to generate output files for import into the tree of life"
   ]
  },
  {
   "cell_type": "code",
   "execution_count": 1,
   "metadata": {},
   "outputs": [],
   "source": [
    "out_Dir = '~/Hyphosphere/data/3Exp/For_iTOL'\n",
    "\n",
    "work_dir = '~/Hyphosphere/data/3Exp/DESeq'\n",
    "\n",
    "# phyloseq - full object with tree\n",
    "physeq_file = '~/Hyphosphere/data/3Exp/phyloseq/3Exp_phyloseq_thresh_wtree_experimental_woContam.rds'"
   ]
  },
  {
   "cell_type": "code",
   "execution_count": 51,
   "metadata": {},
   "outputs": [],
   "source": [
    "library(RColorBrewer)\n",
    "library(plyr)\n",
    "library(tidyr)\n",
    "library(dplyr)\n",
    "library(reshape2)\n",
    "library(phyloseq)"
   ]
  },
  {
   "cell_type": "code",
   "execution_count": 6,
   "metadata": {},
   "outputs": [
    {
     "data": {
      "text/plain": [
       "phyloseq-class experiment-level object\n",
       "otu_table()   OTU Table:         [ 18707 taxa and 74 samples ]\n",
       "sample_data() Sample Data:       [ 74 samples by 11 sample variables ]\n",
       "tax_table()   Taxonomy Table:    [ 18707 taxa by 6 taxonomic ranks ]\n",
       "phy_tree()    Phylogenetic Tree: [ 18707 tips and 18706 internal nodes ]"
      ]
     },
     "metadata": {},
     "output_type": "display_data"
    }
   ],
   "source": [
    "ps = readRDS(physeq_file) %>% subset_taxa(., !is.na(Phylum)) %>%\n",
    "    # remove non-experimental controls\n",
    "    \n",
    "    subset_samples(., SampleType != \"GV\" & Experiment %in% c(1,2) & SampleType %in% c(\"CS\",\"CH\") & Soil != \"Sand\") %>%\n",
    "\n",
    "     # re-normalize after subsetting taxa\n",
    "    transform_sample_counts(., function(x) x/sum(x))\n",
    "\n",
    "ps\n"
   ]
  },
  {
   "cell_type": "code",
   "execution_count": 7,
   "metadata": {},
   "outputs": [
    {
     "data": {
      "text/plain": [
       "phyloseq-class experiment-level object\n",
       "otu_table()   OTU Table:         [ 200 taxa and 74 samples ]\n",
       "sample_data() Sample Data:       [ 74 samples by 11 sample variables ]\n",
       "tax_table()   Taxonomy Table:    [ 200 taxa by 6 taxonomic ranks ]\n",
       "phy_tree()    Phylogenetic Tree: [ 200 tips and 199 internal nodes ]"
      ]
     },
     "metadata": {},
     "output_type": "display_data"
    }
   ],
   "source": [
    "#Filter to the 200 most abundant OTUs\n",
    "physeq.thresh <- prune_taxa(names(sort(taxa_sums(ps),TRUE)[1:200]), ps)\n",
    "\n",
    "#physeq.thresh = filter_taxa(physeq.Full, \n",
    "#                 function(x) sum(x > 3) > 0, TRUE)\n",
    "physeq.thresh\n"
   ]
  },
  {
   "cell_type": "code",
   "execution_count": 8,
   "metadata": {},
   "outputs": [],
   "source": [
    "outFile = file.path(out_Dir,'3ExpTree_200.tree')\n",
    "MyTree =  physeq.thresh %>% phy_tree\n",
    "ape::write.tree(MyTree, file = outFile)\n",
    "rm(MyTree)"
   ]
  },
  {
   "cell_type": "code",
   "execution_count": 17,
   "metadata": {},
   "outputs": [],
   "source": [
    "TreeTax = taxa_names(physeq.thresh)"
   ]
  },
  {
   "cell_type": "markdown",
   "metadata": {},
   "source": [
    "# Create annotation files for iTOL"
   ]
  },
  {
   "cell_type": "markdown",
   "metadata": {},
   "source": [
    "## Hyphal ASVs"
   ]
  },
  {
   "cell_type": "code",
   "execution_count": 13,
   "metadata": {},
   "outputs": [
    {
     "name": "stderr",
     "output_type": "stream",
     "text": [
      "Warning message in bind_rows_(x, .id):\n",
      "“Unequal factor levels: coercing to character”Warning message in bind_rows_(x, .id):\n",
      "“binding character and factor vector, coercing into character vector”Warning message in bind_rows_(x, .id):\n",
      "“binding character and factor vector, coercing into character vector”Warning message in bind_rows_(x, .id):\n",
      "“Unequal factor levels: coercing to character”Warning message in bind_rows_(x, .id):\n",
      "“binding character and factor vector, coercing into character vector”Warning message in bind_rows_(x, .id):\n",
      "“binding character and factor vector, coercing into character vector”"
     ]
    }
   ],
   "source": [
    "readfile = file.path(work_dir, 'dfl2fc-Exp1.txt')\n",
    "df.l2fc.Exp1 = read.table(readfile, header = TRUE, sep= '\\t')\n",
    "\n",
    "readfile = file.path(work_dir, 'dfl2fc-Exp2.txt')\n",
    "df.l2fc.Exp2 = read.table(readfile, header = TRUE, sep= '\\t')\n",
    "\n",
    "df.l2fc = bind_rows(df.l2fc.Exp1, df.l2fc.Exp2)"
   ]
  },
  {
   "cell_type": "code",
   "execution_count": 15,
   "metadata": {
    "scrolled": true
   },
   "outputs": [
    {
     "data": {
      "text/html": [
       "<table>\n",
       "<thead><tr><th scope=col>baseMean</th><th scope=col>log2FoldChange</th><th scope=col>lfcSE</th><th scope=col>stat</th><th scope=col>pvalue</th><th scope=col>padj</th><th scope=col>OTU</th><th scope=col>Subset</th><th scope=col>Term</th><th scope=col>Contrast</th><th scope=col>DAI</th><th scope=col>Kingdom</th><th scope=col>Phylum</th><th scope=col>Class</th><th scope=col>Order</th><th scope=col>Family</th><th scope=col>Genus</th><th scope=col>Experiment</th></tr></thead>\n",
       "<tbody>\n",
       "\t<tr><td>331.72029            </td><td>-2.716566            </td><td>0.5217389            </td><td>-5.206754            </td><td>1.921730e-07         </td><td>1.885675e-05         </td><td>ASV5                 </td><td>Lansing-Gv           </td><td>SampleType           </td><td>CH_CS                </td><td>81                   </td><td>Bacteria             </td><td>Actinobacteria       </td><td>Actinobacteria       </td><td>Micrococcales        </td><td>Micrococcaceae       </td><td>Pseudarthrobacter    </td><td>1                    </td></tr>\n",
       "\t<tr><td>136.95264            </td><td> 4.977612            </td><td>1.1905977            </td><td> 4.180767            </td><td>2.905274e-05         </td><td>1.192425e-03         </td><td>ASV6                 </td><td>Lansing-Gv           </td><td>SampleType           </td><td>CH_CS                </td><td>81                   </td><td>Bacteria             </td><td>Proteobacteria       </td><td>Gammaproteobacteria  </td><td>Cellvibrionales      </td><td>Cellvibrionaceae     </td><td>Cellvibrio           </td><td>1                    </td></tr>\n",
       "\t<tr><td>  0.00000            </td><td>       NA            </td><td>       NA            </td><td>       NA            </td><td>          NA         </td><td>          NA         </td><td>ASV8                 </td><td>Lansing-Gv           </td><td>SampleType           </td><td>CH_CS                </td><td>81                   </td><td>Bacteria             </td><td>Proteobacteria       </td><td>Alphaproteobacteria  </td><td>Caulobacterales      </td><td>Caulobacteraceae     </td><td>Asticcacaulis        </td><td>1                    </td></tr>\n",
       "\t<tr><td>  0.00000            </td><td>       NA            </td><td>       NA            </td><td>       NA            </td><td>          NA         </td><td>          NA         </td><td>ASV13                </td><td>Lansing-Gv           </td><td>SampleType           </td><td>CH_CS                </td><td>81                   </td><td>Bacteria             </td><td>Proteobacteria       </td><td>Gammaproteobacteria  </td><td>Xanthomonadales      </td><td>Xanthomonadaceae     </td><td>Luteimonas           </td><td>1                    </td></tr>\n",
       "\t<tr><td> 26.70389            </td><td> 8.430000            </td><td>1.7857267            </td><td> 4.720767            </td><td>2.349571e-06         </td><td>1.478663e-04         </td><td>ASV14                </td><td>Lansing-Gv           </td><td>SampleType           </td><td>CH_CS                </td><td>81                   </td><td>Bacteria             </td><td>Proteobacteria       </td><td>Deltaproteobacteria  </td><td>Myxococcales         </td><td>Sandaracinaceae      </td><td>NA                   </td><td>1                    </td></tr>\n",
       "\t<tr><td>  0.00000            </td><td>       NA            </td><td>       NA            </td><td>       NA            </td><td>          NA         </td><td>          NA         </td><td>ASV15                </td><td>Lansing-Gv           </td><td>SampleType           </td><td>CH_CS                </td><td>81                   </td><td>Bacteria             </td><td>Proteobacteria       </td><td>Gammaproteobacteria  </td><td>Betaproteobacteriales</td><td>Burkholderiaceae     </td><td>NA                   </td><td>1                    </td></tr>\n",
       "</tbody>\n",
       "</table>\n"
      ],
      "text/latex": [
       "\\begin{tabular}{r|llllllllllllllllll}\n",
       " baseMean & log2FoldChange & lfcSE & stat & pvalue & padj & OTU & Subset & Term & Contrast & DAI & Kingdom & Phylum & Class & Order & Family & Genus & Experiment\\\\\n",
       "\\hline\n",
       "\t 331.72029             & -2.716566             & 0.5217389             & -5.206754             & 1.921730e-07          & 1.885675e-05          & ASV5                  & Lansing-Gv            & SampleType            & CH\\_CS               & 81                    & Bacteria              & Actinobacteria        & Actinobacteria        & Micrococcales         & Micrococcaceae        & Pseudarthrobacter     & 1                    \\\\\n",
       "\t 136.95264             &  4.977612             & 1.1905977             &  4.180767             & 2.905274e-05          & 1.192425e-03          & ASV6                  & Lansing-Gv            & SampleType            & CH\\_CS               & 81                    & Bacteria              & Proteobacteria        & Gammaproteobacteria   & Cellvibrionales       & Cellvibrionaceae      & Cellvibrio            & 1                    \\\\\n",
       "\t   0.00000             &        NA             &        NA             &        NA             &           NA          &           NA          & ASV8                  & Lansing-Gv            & SampleType            & CH\\_CS               & 81                    & Bacteria              & Proteobacteria        & Alphaproteobacteria   & Caulobacterales       & Caulobacteraceae      & Asticcacaulis         & 1                    \\\\\n",
       "\t   0.00000             &        NA             &        NA             &        NA             &           NA          &           NA          & ASV13                 & Lansing-Gv            & SampleType            & CH\\_CS               & 81                    & Bacteria              & Proteobacteria        & Gammaproteobacteria   & Xanthomonadales       & Xanthomonadaceae      & Luteimonas            & 1                    \\\\\n",
       "\t  26.70389             &  8.430000             & 1.7857267             &  4.720767             & 2.349571e-06          & 1.478663e-04          & ASV14                 & Lansing-Gv            & SampleType            & CH\\_CS               & 81                    & Bacteria              & Proteobacteria        & Deltaproteobacteria   & Myxococcales          & Sandaracinaceae       & NA                    & 1                    \\\\\n",
       "\t   0.00000             &        NA             &        NA             &        NA             &           NA          &           NA          & ASV15                 & Lansing-Gv            & SampleType            & CH\\_CS               & 81                    & Bacteria              & Proteobacteria        & Gammaproteobacteria   & Betaproteobacteriales & Burkholderiaceae      & NA                    & 1                    \\\\\n",
       "\\end{tabular}\n"
      ],
      "text/markdown": [
       "\n",
       "baseMean | log2FoldChange | lfcSE | stat | pvalue | padj | OTU | Subset | Term | Contrast | DAI | Kingdom | Phylum | Class | Order | Family | Genus | Experiment | \n",
       "|---|---|---|---|---|---|\n",
       "| 331.72029             | -2.716566             | 0.5217389             | -5.206754             | 1.921730e-07          | 1.885675e-05          | ASV5                  | Lansing-Gv            | SampleType            | CH_CS                 | 81                    | Bacteria              | Actinobacteria        | Actinobacteria        | Micrococcales         | Micrococcaceae        | Pseudarthrobacter     | 1                     | \n",
       "| 136.95264             |  4.977612             | 1.1905977             |  4.180767             | 2.905274e-05          | 1.192425e-03          | ASV6                  | Lansing-Gv            | SampleType            | CH_CS                 | 81                    | Bacteria              | Proteobacteria        | Gammaproteobacteria   | Cellvibrionales       | Cellvibrionaceae      | Cellvibrio            | 1                     | \n",
       "|   0.00000             |        NA             |        NA             |        NA             |           NA          |           NA          | ASV8                  | Lansing-Gv            | SampleType            | CH_CS                 | 81                    | Bacteria              | Proteobacteria        | Alphaproteobacteria   | Caulobacterales       | Caulobacteraceae      | Asticcacaulis         | 1                     | \n",
       "|   0.00000             |        NA             |        NA             |        NA             |           NA          |           NA          | ASV13                 | Lansing-Gv            | SampleType            | CH_CS                 | 81                    | Bacteria              | Proteobacteria        | Gammaproteobacteria   | Xanthomonadales       | Xanthomonadaceae      | Luteimonas            | 1                     | \n",
       "|  26.70389             |  8.430000             | 1.7857267             |  4.720767             | 2.349571e-06          | 1.478663e-04          | ASV14                 | Lansing-Gv            | SampleType            | CH_CS                 | 81                    | Bacteria              | Proteobacteria        | Deltaproteobacteria   | Myxococcales          | Sandaracinaceae       | NA                    | 1                     | \n",
       "|   0.00000             |        NA             |        NA             |        NA             |           NA          |           NA          | ASV15                 | Lansing-Gv            | SampleType            | CH_CS                 | 81                    | Bacteria              | Proteobacteria        | Gammaproteobacteria   | Betaproteobacteriales | Burkholderiaceae      | NA                    | 1                     | \n",
       "\n",
       "\n"
      ],
      "text/plain": [
       "  baseMean  log2FoldChange lfcSE     stat      pvalue       padj         OTU  \n",
       "1 331.72029 -2.716566      0.5217389 -5.206754 1.921730e-07 1.885675e-05 ASV5 \n",
       "2 136.95264  4.977612      1.1905977  4.180767 2.905274e-05 1.192425e-03 ASV6 \n",
       "3   0.00000        NA             NA        NA           NA           NA ASV8 \n",
       "4   0.00000        NA             NA        NA           NA           NA ASV13\n",
       "5  26.70389  8.430000      1.7857267  4.720767 2.349571e-06 1.478663e-04 ASV14\n",
       "6   0.00000        NA             NA        NA           NA           NA ASV15\n",
       "  Subset     Term       Contrast DAI Kingdom  Phylum        \n",
       "1 Lansing-Gv SampleType CH_CS    81  Bacteria Actinobacteria\n",
       "2 Lansing-Gv SampleType CH_CS    81  Bacteria Proteobacteria\n",
       "3 Lansing-Gv SampleType CH_CS    81  Bacteria Proteobacteria\n",
       "4 Lansing-Gv SampleType CH_CS    81  Bacteria Proteobacteria\n",
       "5 Lansing-Gv SampleType CH_CS    81  Bacteria Proteobacteria\n",
       "6 Lansing-Gv SampleType CH_CS    81  Bacteria Proteobacteria\n",
       "  Class               Order                 Family           Genus            \n",
       "1 Actinobacteria      Micrococcales         Micrococcaceae   Pseudarthrobacter\n",
       "2 Gammaproteobacteria Cellvibrionales       Cellvibrionaceae Cellvibrio       \n",
       "3 Alphaproteobacteria Caulobacterales       Caulobacteraceae Asticcacaulis    \n",
       "4 Gammaproteobacteria Xanthomonadales       Xanthomonadaceae Luteimonas       \n",
       "5 Deltaproteobacteria Myxococcales          Sandaracinaceae  NA               \n",
       "6 Gammaproteobacteria Betaproteobacteriales Burkholderiaceae NA               \n",
       "  Experiment\n",
       "1 1         \n",
       "2 1         \n",
       "3 1         \n",
       "4 1         \n",
       "5 1         \n",
       "6 1         "
      ]
     },
     "metadata": {},
     "output_type": "display_data"
    },
    {
     "data": {
      "text/html": [
       "<table>\n",
       "<thead><tr><th></th><th scope=col>baseMean</th><th scope=col>log2FoldChange</th><th scope=col>lfcSE</th><th scope=col>stat</th><th scope=col>pvalue</th><th scope=col>padj</th><th scope=col>OTU</th><th scope=col>Subset</th><th scope=col>Term</th><th scope=col>Contrast</th><th scope=col>DAI</th><th scope=col>Kingdom</th><th scope=col>Phylum</th><th scope=col>Class</th><th scope=col>Order</th><th scope=col>Family</th><th scope=col>Genus</th><th scope=col>Experiment</th></tr></thead>\n",
       "<tbody>\n",
       "\t<tr><th scope=row>641779</th><td>0.0000000                  </td><td>       NA                  </td><td>      NA                   </td><td>       NA                  </td><td>       NA                  </td><td>       NA                  </td><td>ASV36849                   </td><td>Lansing-RI                 </td><td>SampleType                 </td><td>BH_BS                      </td><td>27                         </td><td>Bacteria                   </td><td>Patescibacteria            </td><td>Microgenomatia             </td><td>Candidatus_Roizmanbacteria </td><td>NA                         </td><td>NA                         </td><td>2                          </td></tr>\n",
       "\t<tr><th scope=row>641780</th><td>0.1757976                  </td><td>0.9586283                  </td><td>3.053845                   </td><td>0.3139086                  </td><td>0.7535904                  </td><td>0.9999796                  </td><td>ASV36865                   </td><td>Lansing-RI                 </td><td>SampleType                 </td><td>BH_BS                      </td><td>27                         </td><td>Bacteria                   </td><td>Dependentiae               </td><td>Babeliae                   </td><td>Babeliales                 </td><td>NA                         </td><td>NA                         </td><td>2                          </td></tr>\n",
       "\t<tr><th scope=row>641781</th><td>0.0000000                  </td><td>       NA                  </td><td>      NA                   </td><td>       NA                  </td><td>       NA                  </td><td>       NA                  </td><td>ASV36871                   </td><td>Lansing-RI                 </td><td>SampleType                 </td><td>BH_BS                      </td><td>27                         </td><td>Bacteria                   </td><td>Bacteroidetes              </td><td>Bacteroidia                </td><td>Sphingobacteriales         </td><td>AKYH767                    </td><td>NA                         </td><td>2                          </td></tr>\n",
       "\t<tr><th scope=row>641782</th><td>0.0000000                  </td><td>       NA                  </td><td>      NA                   </td><td>       NA                  </td><td>       NA                  </td><td>       NA                  </td><td>ASV36896                   </td><td>Lansing-RI                 </td><td>SampleType                 </td><td>BH_BS                      </td><td>27                         </td><td>Bacteria                   </td><td>Acidobacteria              </td><td>Blastocatellia_(Subgroup_4)</td><td>Blastocatellales           </td><td>Blastocatellaceae          </td><td>JGI_0001001-H03            </td><td>2                          </td></tr>\n",
       "\t<tr><th scope=row>641783</th><td>0.0000000                  </td><td>       NA                  </td><td>      NA                   </td><td>       NA                  </td><td>       NA                  </td><td>       NA                  </td><td>ASV37791                   </td><td>Lansing-RI                 </td><td>SampleType                 </td><td>BH_BS                      </td><td>27                         </td><td>Archaea                    </td><td>Nanoarchaeaeota            </td><td>Woesearchaeia              </td><td>NA                         </td><td>NA                         </td><td>NA                         </td><td>2                          </td></tr>\n",
       "\t<tr><th scope=row>641784</th><td>0.0000000                  </td><td>       NA                  </td><td>      NA                   </td><td>       NA                  </td><td>       NA                  </td><td>       NA                  </td><td>ASV38128                   </td><td>Lansing-RI                 </td><td>SampleType                 </td><td>BH_BS                      </td><td>27                         </td><td>Bacteria                   </td><td>Patescibacteria            </td><td>WWE3                       </td><td>NA                         </td><td>NA                         </td><td>NA                         </td><td>2                          </td></tr>\n",
       "</tbody>\n",
       "</table>\n"
      ],
      "text/latex": [
       "\\begin{tabular}{r|llllllllllllllllll}\n",
       "  & baseMean & log2FoldChange & lfcSE & stat & pvalue & padj & OTU & Subset & Term & Contrast & DAI & Kingdom & Phylum & Class & Order & Family & Genus & Experiment\\\\\n",
       "\\hline\n",
       "\t641779 & 0.0000000                    &        NA                    &       NA                     &        NA                    &        NA                    &        NA                    & ASV36849                     & Lansing-RI                   & SampleType                   & BH\\_BS                      & 27                           & Bacteria                     & Patescibacteria              & Microgenomatia               & Candidatus\\_Roizmanbacteria & NA                           & NA                           & 2                           \\\\\n",
       "\t641780 & 0.1757976                   & 0.9586283                   & 3.053845                    & 0.3139086                   & 0.7535904                   & 0.9999796                   & ASV36865                    & Lansing-RI                  & SampleType                  & BH\\_BS                     & 27                          & Bacteria                    & Dependentiae                & Babeliae                    & Babeliales                  & NA                          & NA                          & 2                          \\\\\n",
       "\t641781 & 0.0000000                   &        NA                   &       NA                    &        NA                   &        NA                   &        NA                   & ASV36871                    & Lansing-RI                  & SampleType                  & BH\\_BS                     & 27                          & Bacteria                    & Bacteroidetes               & Bacteroidia                 & Sphingobacteriales          & AKYH767                     & NA                          & 2                          \\\\\n",
       "\t641782 & 0.0000000                       &        NA                       &       NA                        &        NA                       &        NA                       &        NA                       & ASV36896                        & Lansing-RI                      & SampleType                      & BH\\_BS                         & 27                              & Bacteria                        & Acidobacteria                   & Blastocatellia\\_(Subgroup\\_4) & Blastocatellales                & Blastocatellaceae               & JGI\\_0001001-H03               & 2                              \\\\\n",
       "\t641783 & 0.0000000                   &        NA                   &       NA                    &        NA                   &        NA                   &        NA                   & ASV37791                    & Lansing-RI                  & SampleType                  & BH\\_BS                     & 27                          & Archaea                     & Nanoarchaeaeota             & Woesearchaeia               & NA                          & NA                          & NA                          & 2                          \\\\\n",
       "\t641784 & 0.0000000                   &        NA                   &       NA                    &        NA                   &        NA                   &        NA                   & ASV38128                    & Lansing-RI                  & SampleType                  & BH\\_BS                     & 27                          & Bacteria                    & Patescibacteria             & WWE3                        & NA                          & NA                          & NA                          & 2                          \\\\\n",
       "\\end{tabular}\n"
      ],
      "text/markdown": [
       "\n",
       "| <!--/--> | baseMean | log2FoldChange | lfcSE | stat | pvalue | padj | OTU | Subset | Term | Contrast | DAI | Kingdom | Phylum | Class | Order | Family | Genus | Experiment | \n",
       "|---|---|---|---|---|---|\n",
       "| 641779 | 0.0000000                   |        NA                   |       NA                    |        NA                   |        NA                   |        NA                   | ASV36849                    | Lansing-RI                  | SampleType                  | BH_BS                       | 27                          | Bacteria                    | Patescibacteria             | Microgenomatia              | Candidatus_Roizmanbacteria  | NA                          | NA                          | 2                           | \n",
       "| 641780 | 0.1757976                   | 0.9586283                   | 3.053845                    | 0.3139086                   | 0.7535904                   | 0.9999796                   | ASV36865                    | Lansing-RI                  | SampleType                  | BH_BS                       | 27                          | Bacteria                    | Dependentiae                | Babeliae                    | Babeliales                  | NA                          | NA                          | 2                           | \n",
       "| 641781 | 0.0000000                   |        NA                   |       NA                    |        NA                   |        NA                   |        NA                   | ASV36871                    | Lansing-RI                  | SampleType                  | BH_BS                       | 27                          | Bacteria                    | Bacteroidetes               | Bacteroidia                 | Sphingobacteriales          | AKYH767                     | NA                          | 2                           | \n",
       "| 641782 | 0.0000000                   |        NA                   |       NA                    |        NA                   |        NA                   |        NA                   | ASV36896                    | Lansing-RI                  | SampleType                  | BH_BS                       | 27                          | Bacteria                    | Acidobacteria               | Blastocatellia_(Subgroup_4) | Blastocatellales            | Blastocatellaceae           | JGI_0001001-H03             | 2                           | \n",
       "| 641783 | 0.0000000                   |        NA                   |       NA                    |        NA                   |        NA                   |        NA                   | ASV37791                    | Lansing-RI                  | SampleType                  | BH_BS                       | 27                          | Archaea                     | Nanoarchaeaeota             | Woesearchaeia               | NA                          | NA                          | NA                          | 2                           | \n",
       "| 641784 | 0.0000000                   |        NA                   |       NA                    |        NA                   |        NA                   |        NA                   | ASV38128                    | Lansing-RI                  | SampleType                  | BH_BS                       | 27                          | Bacteria                    | Patescibacteria             | WWE3                        | NA                          | NA                          | NA                          | 2                           | \n",
       "\n",
       "\n"
      ],
      "text/plain": [
       "       baseMean  log2FoldChange lfcSE    stat      pvalue    padj      OTU     \n",
       "641779 0.0000000        NA            NA        NA        NA        NA ASV36849\n",
       "641780 0.1757976 0.9586283      3.053845 0.3139086 0.7535904 0.9999796 ASV36865\n",
       "641781 0.0000000        NA            NA        NA        NA        NA ASV36871\n",
       "641782 0.0000000        NA            NA        NA        NA        NA ASV36896\n",
       "641783 0.0000000        NA            NA        NA        NA        NA ASV37791\n",
       "641784 0.0000000        NA            NA        NA        NA        NA ASV38128\n",
       "       Subset     Term       Contrast DAI Kingdom  Phylum         \n",
       "641779 Lansing-RI SampleType BH_BS    27  Bacteria Patescibacteria\n",
       "641780 Lansing-RI SampleType BH_BS    27  Bacteria Dependentiae   \n",
       "641781 Lansing-RI SampleType BH_BS    27  Bacteria Bacteroidetes  \n",
       "641782 Lansing-RI SampleType BH_BS    27  Bacteria Acidobacteria  \n",
       "641783 Lansing-RI SampleType BH_BS    27  Archaea  Nanoarchaeaeota\n",
       "641784 Lansing-RI SampleType BH_BS    27  Bacteria Patescibacteria\n",
       "       Class                       Order                      Family           \n",
       "641779 Microgenomatia              Candidatus_Roizmanbacteria NA               \n",
       "641780 Babeliae                    Babeliales                 NA               \n",
       "641781 Bacteroidia                 Sphingobacteriales         AKYH767          \n",
       "641782 Blastocatellia_(Subgroup_4) Blastocatellales           Blastocatellaceae\n",
       "641783 Woesearchaeia               NA                         NA               \n",
       "641784 WWE3                        NA                         NA               \n",
       "       Genus           Experiment\n",
       "641779 NA              2         \n",
       "641780 NA              2         \n",
       "641781 NA              2         \n",
       "641782 JGI_0001001-H03 2         \n",
       "641783 NA              2         \n",
       "641784 NA              2         "
      ]
     },
     "metadata": {},
     "output_type": "display_data"
    }
   ],
   "source": [
    "head(df.l2fc)\n",
    "tail(df.l2fc)"
   ]
  },
  {
   "cell_type": "code",
   "execution_count": 39,
   "metadata": {},
   "outputs": [
    {
     "data": {
      "text/html": [
       "<ol class=list-inline>\n",
       "\t<li>'Lansing-Gv'</li>\n",
       "\t<li>'Florence-Gv'</li>\n",
       "\t<li>'Pendelton-Gv'</li>\n",
       "\t<li>'Lansing-RI'</li>\n",
       "</ol>\n"
      ],
      "text/latex": [
       "\\begin{enumerate*}\n",
       "\\item 'Lansing-Gv'\n",
       "\\item 'Florence-Gv'\n",
       "\\item 'Pendelton-Gv'\n",
       "\\item 'Lansing-RI'\n",
       "\\end{enumerate*}\n"
      ],
      "text/markdown": [
       "1. 'Lansing-Gv'\n",
       "2. 'Florence-Gv'\n",
       "3. 'Pendelton-Gv'\n",
       "4. 'Lansing-RI'\n",
       "\n",
       "\n"
      ],
      "text/plain": [
       "[1] \"Lansing-Gv\"   \"Florence-Gv\"  \"Pendelton-Gv\" \"Lansing-RI\"  "
      ]
     },
     "metadata": {},
     "output_type": "display_data"
    }
   ],
   "source": [
    "df.l2fc$Subset %>% unique"
   ]
  },
  {
   "cell_type": "code",
   "execution_count": null,
   "metadata": {},
   "outputs": [],
   "source": [
    "#ffffcc - Lansing 1\n",
    "#ffeda0 - Lansing 2\n",
    "#fed976\n",
    "#feb24c - Florence 1\n",
    "#fd8d3c - Florence 2\n",
    "#fc4e2a\n",
    "#e31a1c\n",
    "#bd0026 - Pendelton 1\n",
    "#800026 - Pendelton 2"
   ]
  },
  {
   "cell_type": "code",
   "execution_count": 30,
   "metadata": {},
   "outputs": [],
   "source": [
    "tmp = df.l2fc %>% \n",
    "    filter(Experiment == 1 & Subset == 'Lansing-Gv') %>%\n",
    "    filter(OTU %in% TreeTax & Contrast == \"CH_CS\") %>% \n",
    "    mutate(Color = ifelse(padj < 0.05 & log2FoldChange > 0, \"#ffffcc\", \"#ffffff\")) %>%\n",
    "    mutate(Color = ifelse(!is.na(Color), Color, \"#ffffff\")) %>%\n",
    "    select(OTU, Color)\n",
    "write.table(tmp, file = file.path(out_Dir, \"HA-Lansing1.txt\"), sep = \"\\t\", row.names = FALSE, quote = FALSE)\n",
    "\n",
    "tmp = df.l2fc %>% \n",
    "    filter(Experiment == 2 & Subset == 'Lansing-Gv') %>%\n",
    "    filter(OTU %in% TreeTax & Contrast == \"CH_CS\") %>% \n",
    "    mutate(Color = ifelse(padj < 0.05 & log2FoldChange > 0, \"#ffeda0\", \"#ffffff\")) %>%\n",
    "    mutate(Color = ifelse(!is.na(Color), Color, \"#ffffff\")) %>%\n",
    "    select(OTU, Color)\n",
    "write.table(tmp, file = file.path(out_Dir, \"HA-Lansing2.txt\"), sep = \"\\t\", row.names = FALSE, quote = FALSE)"
   ]
  },
  {
   "cell_type": "code",
   "execution_count": 40,
   "metadata": {},
   "outputs": [],
   "source": [
    "tmp = df.l2fc %>% \n",
    "    filter(Experiment == 1 & Subset == 'Florence-Gv') %>%\n",
    "    filter(OTU %in% TreeTax & Contrast == \"CH_CS\") %>% \n",
    "    mutate(Color = ifelse(padj < 0.05 & log2FoldChange > 0, \"#feb24c\", \"#ffffff\")) %>%\n",
    "    mutate(Color = ifelse(!is.na(Color), Color, \"#ffffff\")) %>%\n",
    "    select(OTU, Color)\n",
    "write.table(tmp, file = file.path(out_Dir, \"HA-Florence1.txt\"), sep = \"\\t\", row.names = FALSE, quote = FALSE)\n",
    "\n",
    "tmp = df.l2fc %>% \n",
    "    filter(Experiment == 2 & Subset == 'Florence-Gv') %>%\n",
    "    filter(OTU %in% TreeTax & Contrast == \"CH_CS\") %>% \n",
    "    mutate(Color = ifelse(padj < 0.05 & log2FoldChange > 0, \"#fd8d3c\", \"#ffffff\")) %>%\n",
    "    mutate(Color = ifelse(!is.na(Color), Color, \"#ffffff\")) %>%\n",
    "    select(OTU, Color)\n",
    "write.table(tmp, file = file.path(out_Dir, \"HA-Florence2.txt\"), sep = \"\\t\", row.names = FALSE, quote = FALSE)"
   ]
  },
  {
   "cell_type": "code",
   "execution_count": 41,
   "metadata": {},
   "outputs": [],
   "source": [
    "tmp = df.l2fc %>% \n",
    "    filter(Experiment == 1 & Subset == 'Pendelton-Gv') %>%\n",
    "    filter(OTU %in% TreeTax & Contrast == \"CH_CS\") %>% \n",
    "    mutate(Color = ifelse(padj < 0.05 & log2FoldChange > 0, \"#bd0026\", \"#ffffff\")) %>%\n",
    "    mutate(Color = ifelse(!is.na(Color), Color, \"#ffffff\")) %>%\n",
    "    select(OTU, Color)\n",
    "write.table(tmp, file = file.path(out_Dir, \"HA-Pendelton1.txt\"), sep = \"\\t\", row.names = FALSE, quote = FALSE)\n",
    "\n",
    "tmp = df.l2fc %>% \n",
    "    filter(Experiment == 2 & Subset == 'Pendelton-Gv') %>%\n",
    "    filter(OTU %in% TreeTax & Contrast == \"CH_CS\") %>% \n",
    "    mutate(Color = ifelse(padj < 0.05 & log2FoldChange > 0, \"#800026\", \"#ffffff\")) %>%\n",
    "    mutate(Color = ifelse(!is.na(Color), Color, \"#ffffff\")) %>%\n",
    "    select(OTU, Color)\n",
    "write.table(tmp, file = file.path(out_Dir, \"HA-Pendelton2.txt\"), sep = \"\\t\", row.names = FALSE, quote = FALSE)"
   ]
  },
  {
   "cell_type": "markdown",
   "metadata": {},
   "source": [
    "### Leaf labels"
   ]
  },
  {
   "cell_type": "code",
   "execution_count": 71,
   "metadata": {},
   "outputs": [
    {
     "data": {
      "text/html": [
       "<table>\n",
       "<thead><tr><th></th><th scope=col>OTU</th><th scope=col>GenusLabel</th></tr></thead>\n",
       "<tbody>\n",
       "\t<tr><th scope=row>ASV212</th><td>ASV212                      </td><td>Unclassified Subgroup_7     </td></tr>\n",
       "\t<tr><th scope=row>ASV109</th><td>ASV109                      </td><td>Unclassified Pedosphaeraceae</td></tr>\n",
       "\t<tr><th scope=row>ASV37</th><td>ASV37                       </td><td>Candidatus_Udaeobacter      </td></tr>\n",
       "\t<tr><th scope=row>ASV55</th><td>ASV55                       </td><td>Candidatus_Udaeobacter      </td></tr>\n",
       "\t<tr><th scope=row>ASV108</th><td>ASV108                      </td><td>Candidatus_Udaeobacter      </td></tr>\n",
       "\t<tr><th scope=row>ASV230</th><td>ASV230                      </td><td>Candidatus_Udaeobacter      </td></tr>\n",
       "</tbody>\n",
       "</table>\n"
      ],
      "text/latex": [
       "\\begin{tabular}{r|ll}\n",
       "  & OTU & GenusLabel\\\\\n",
       "\\hline\n",
       "\tASV212 & ASV212                         & Unclassified Subgroup\\_7     \\\\\n",
       "\tASV109 & ASV109                       & Unclassified Pedosphaeraceae\\\\\n",
       "\tASV37 & ASV37                          & Candidatus\\_Udaeobacter      \\\\\n",
       "\tASV55 & ASV55                          & Candidatus\\_Udaeobacter      \\\\\n",
       "\tASV108 & ASV108                         & Candidatus\\_Udaeobacter      \\\\\n",
       "\tASV230 & ASV230                         & Candidatus\\_Udaeobacter      \\\\\n",
       "\\end{tabular}\n"
      ],
      "text/markdown": [
       "\n",
       "| <!--/--> | OTU | GenusLabel | \n",
       "|---|---|---|---|---|---|\n",
       "| ASV212 | ASV212                       | Unclassified Subgroup_7      | \n",
       "| ASV109 | ASV109                       | Unclassified Pedosphaeraceae | \n",
       "| ASV37 | ASV37                        | Candidatus_Udaeobacter       | \n",
       "| ASV55 | ASV55                        | Candidatus_Udaeobacter       | \n",
       "| ASV108 | ASV108                       | Candidatus_Udaeobacter       | \n",
       "| ASV230 | ASV230                       | Candidatus_Udaeobacter       | \n",
       "\n",
       "\n"
      ],
      "text/plain": [
       "       OTU    GenusLabel                  \n",
       "ASV212 ASV212 Unclassified Subgroup_7     \n",
       "ASV109 ASV109 Unclassified Pedosphaeraceae\n",
       "ASV37  ASV37  Candidatus_Udaeobacter      \n",
       "ASV55  ASV55  Candidatus_Udaeobacter      \n",
       "ASV108 ASV108 Candidatus_Udaeobacter      \n",
       "ASV230 ASV230 Candidatus_Udaeobacter      "
      ]
     },
     "metadata": {},
     "output_type": "display_data"
    }
   ],
   "source": [
    "taxa = physeq.thresh %>% tax_table %>% as.data.frame\n",
    "taxa$OTU = tax_table(physeq.thresh) %>% row.names\n",
    "\n",
    "# taxa = mutate(taxa, label = paste(Family, Genus, sep = \"_\")) %>%\n",
    "#     select(OTU, label)\n",
    "# head(taxa)\n",
    "\n",
    "taxa = taxa %>%\n",
    "    mutate(GenusLabel = ifelse(!is.na(Genus), paste(Genus), \n",
    "                        ifelse(!is.na(Family), paste('Unclassified ', Family, sep = \"\"), \n",
    "                        ifelse(!is.na(Order), paste('Unclassified ', Order, sep = \"\"),\n",
    "                        ifelse(!is.na(Class), paste('Unclassified ', Class, sep = \"\"), \n",
    "                               paste(\"Unclassified \", Phylum, sep = \"\")))))) %>%\n",
    "    select(OTU, GenusLabel)\n",
    "head(taxa)\n",
    "\n",
    "write.table(taxa, file = file.path(out_Dir, 'taxa_labels.txt'), sep = '\\t',\n",
    "            row.names = FALSE, quote = FALSE)"
   ]
  },
  {
   "cell_type": "code",
   "execution_count": 45,
   "metadata": {},
   "outputs": [
    {
     "data": {
      "text/html": [
       "<ol class=list-inline>\n",
       "\t<li>200</li>\n",
       "\t<li>2</li>\n",
       "</ol>\n"
      ],
      "text/latex": [
       "\\begin{enumerate*}\n",
       "\\item 200\n",
       "\\item 2\n",
       "\\end{enumerate*}\n"
      ],
      "text/markdown": [
       "1. 200\n",
       "2. 2\n",
       "\n",
       "\n"
      ],
      "text/plain": [
       "[1] 200   2"
      ]
     },
     "metadata": {},
     "output_type": "display_data"
    }
   ],
   "source": [
    "dim(taxa)"
   ]
  },
  {
   "cell_type": "markdown",
   "metadata": {},
   "source": [
    "## Relative abundance data"
   ]
  },
  {
   "cell_type": "markdown",
   "metadata": {},
   "source": [
    "### Mean of two experiments both sample types"
   ]
  },
  {
   "cell_type": "code",
   "execution_count": 46,
   "metadata": {
    "scrolled": true
   },
   "outputs": [
    {
     "name": "stderr",
     "output_type": "stream",
     "text": [
      "Warning message in psmelt(physeq.thresh):\n",
      "“The sample variables: \n",
      "Sample\n",
      " have been renamed to: \n",
      "sample_Sample\n",
      "to avoid conflicts with special phyloseq plot attribute names.”"
     ]
    },
    {
     "data": {
      "text/html": [
       "<table>\n",
       "<thead><tr><th></th><th scope=col>OTU</th><th scope=col>Sample</th><th scope=col>Abundance</th><th scope=col>sample_Sample</th><th scope=col>Experiment</th><th scope=col>Plant</th><th scope=col>Fungus</th><th scope=col>Soil</th><th scope=col>SampleType</th><th scope=col>Treatment</th><th scope=col>TimePoint</th><th scope=col>DAI</th><th scope=col>Rep</th><th scope=col>Concentration_ng.ul</th><th scope=col>Kingdom</th><th scope=col>Phylum</th><th scope=col>Class</th><th scope=col>Order</th><th scope=col>Family</th><th scope=col>Genus</th></tr></thead>\n",
       "<tbody>\n",
       "\t<tr><th scope=row>11734</th><td>ASV57                </td><td>GVN7HN3-CH           </td><td>0.1996501            </td><td>GVN7HN3-CH           </td><td>2                    </td><td>GVN7HN3              </td><td>Gv                   </td><td>Lansing              </td><td>CH                   </td><td>HN                   </td><td>NA                   </td><td>27                   </td><td>3                    </td><td>NA                   </td><td>Bacteria             </td><td>Proteobacteria       </td><td>Gammaproteobacteria  </td><td>Betaproteobacteriales</td><td>Burkholderiaceae     </td><td>NA                   </td></tr>\n",
       "\t<tr><th scope=row>11920</th><td>ASV6                 </td><td>GVCLHN4-CH           </td><td>0.1869506            </td><td>GVCLHN4-CH           </td><td>2                    </td><td>GVCLHN4              </td><td>Gv                   </td><td>Pendelton            </td><td>CH                   </td><td>HN                   </td><td>NA                   </td><td>27                   </td><td>4                    </td><td>NA                   </td><td>Bacteria             </td><td>Proteobacteria       </td><td>Gammaproteobacteria  </td><td>Cellvibrionales      </td><td>Cellvibrionaceae     </td><td>Cellvibrio           </td></tr>\n",
       "\t<tr><th scope=row>1275</th><td>ASV118               </td><td>GVN7HP3-CH           </td><td>0.1715024            </td><td>GVN7HP3-CH           </td><td>2                    </td><td>GVN7HP3              </td><td>Gv                   </td><td>Lansing              </td><td>CH                   </td><td>HP                   </td><td>NA                   </td><td>27                   </td><td>3                    </td><td>NA                   </td><td>Bacteria             </td><td>Proteobacteria       </td><td>Gammaproteobacteria  </td><td>Betaproteobacteriales</td><td>Burkholderiaceae     </td><td>Noviherbaspirillum   </td></tr>\n",
       "\t<tr><th scope=row>6414</th><td>ASV246               </td><td>GVFLHN1-CH           </td><td>0.1610611            </td><td>GVFLHN1-CH           </td><td>2                    </td><td>GVFLHN1              </td><td>Gv                   </td><td>Florence             </td><td>CH                   </td><td>HN                   </td><td>NA                   </td><td>27                   </td><td>1                    </td><td>NA                   </td><td>Bacteria             </td><td>Cyanobacteria        </td><td>Oxyphotobacteria     </td><td>Nostocales           </td><td>Coleofasciculaceae   </td><td>NA                   </td></tr>\n",
       "\t<tr><th scope=row>11953</th><td>ASV6                 </td><td>GVN7HP3-CH           </td><td>0.1594556            </td><td>GVN7HP3-CH           </td><td>2                    </td><td>GVN7HP3              </td><td>Gv                   </td><td>Lansing              </td><td>CH                   </td><td>HP                   </td><td>NA                   </td><td>27                   </td><td>3                    </td><td>NA                   </td><td>Bacteria             </td><td>Proteobacteria       </td><td>Gammaproteobacteria  </td><td>Cellvibrionales      </td><td>Cellvibrionaceae     </td><td>Cellvibrio           </td></tr>\n",
       "\t<tr><th scope=row>12142</th><td>ASV61                </td><td>GVN7HP2-CH           </td><td>0.1479419            </td><td>GVN7HP2-CH           </td><td>2                    </td><td>GVN7HP2              </td><td>Gv                   </td><td>Lansing              </td><td>CH                   </td><td>HP                   </td><td>NA                   </td><td>27                   </td><td>2                    </td><td>NA                   </td><td>Bacteria             </td><td>Proteobacteria       </td><td>Gammaproteobacteria  </td><td>Betaproteobacteriales</td><td>Burkholderiaceae     </td><td>NA                   </td></tr>\n",
       "</tbody>\n",
       "</table>\n"
      ],
      "text/latex": [
       "\\begin{tabular}{r|llllllllllllllllllll}\n",
       "  & OTU & Sample & Abundance & sample\\_Sample & Experiment & Plant & Fungus & Soil & SampleType & Treatment & TimePoint & DAI & Rep & Concentration\\_ng.ul & Kingdom & Phylum & Class & Order & Family & Genus\\\\\n",
       "\\hline\n",
       "\t11734 & ASV57                 & GVN7HN3-CH            & 0.1996501             & GVN7HN3-CH            & 2                     & GVN7HN3               & Gv                    & Lansing               & CH                    & HN                    & NA                    & 27                    & 3                     & NA                    & Bacteria              & Proteobacteria        & Gammaproteobacteria   & Betaproteobacteriales & Burkholderiaceae      & NA                   \\\\\n",
       "\t11920 & ASV6                  & GVCLHN4-CH            & 0.1869506             & GVCLHN4-CH            & 2                     & GVCLHN4               & Gv                    & Pendelton             & CH                    & HN                    & NA                    & 27                    & 4                     & NA                    & Bacteria              & Proteobacteria        & Gammaproteobacteria   & Cellvibrionales       & Cellvibrionaceae      & Cellvibrio           \\\\\n",
       "\t1275 & ASV118                & GVN7HP3-CH            & 0.1715024             & GVN7HP3-CH            & 2                     & GVN7HP3               & Gv                    & Lansing               & CH                    & HP                    & NA                    & 27                    & 3                     & NA                    & Bacteria              & Proteobacteria        & Gammaproteobacteria   & Betaproteobacteriales & Burkholderiaceae      & Noviherbaspirillum   \\\\\n",
       "\t6414 & ASV246                & GVFLHN1-CH            & 0.1610611             & GVFLHN1-CH            & 2                     & GVFLHN1               & Gv                    & Florence              & CH                    & HN                    & NA                    & 27                    & 1                     & NA                    & Bacteria              & Cyanobacteria         & Oxyphotobacteria      & Nostocales            & Coleofasciculaceae    & NA                   \\\\\n",
       "\t11953 & ASV6                  & GVN7HP3-CH            & 0.1594556             & GVN7HP3-CH            & 2                     & GVN7HP3               & Gv                    & Lansing               & CH                    & HP                    & NA                    & 27                    & 3                     & NA                    & Bacteria              & Proteobacteria        & Gammaproteobacteria   & Cellvibrionales       & Cellvibrionaceae      & Cellvibrio           \\\\\n",
       "\t12142 & ASV61                 & GVN7HP2-CH            & 0.1479419             & GVN7HP2-CH            & 2                     & GVN7HP2               & Gv                    & Lansing               & CH                    & HP                    & NA                    & 27                    & 2                     & NA                    & Bacteria              & Proteobacteria        & Gammaproteobacteria   & Betaproteobacteriales & Burkholderiaceae      & NA                   \\\\\n",
       "\\end{tabular}\n"
      ],
      "text/markdown": [
       "\n",
       "| <!--/--> | OTU | Sample | Abundance | sample_Sample | Experiment | Plant | Fungus | Soil | SampleType | Treatment | TimePoint | DAI | Rep | Concentration_ng.ul | Kingdom | Phylum | Class | Order | Family | Genus | \n",
       "|---|---|---|---|---|---|\n",
       "| 11734 | ASV57                 | GVN7HN3-CH            | 0.1996501             | GVN7HN3-CH            | 2                     | GVN7HN3               | Gv                    | Lansing               | CH                    | HN                    | NA                    | 27                    | 3                     | NA                    | Bacteria              | Proteobacteria        | Gammaproteobacteria   | Betaproteobacteriales | Burkholderiaceae      | NA                    | \n",
       "| 11920 | ASV6                  | GVCLHN4-CH            | 0.1869506             | GVCLHN4-CH            | 2                     | GVCLHN4               | Gv                    | Pendelton             | CH                    | HN                    | NA                    | 27                    | 4                     | NA                    | Bacteria              | Proteobacteria        | Gammaproteobacteria   | Cellvibrionales       | Cellvibrionaceae      | Cellvibrio            | \n",
       "| 1275 | ASV118                | GVN7HP3-CH            | 0.1715024             | GVN7HP3-CH            | 2                     | GVN7HP3               | Gv                    | Lansing               | CH                    | HP                    | NA                    | 27                    | 3                     | NA                    | Bacteria              | Proteobacteria        | Gammaproteobacteria   | Betaproteobacteriales | Burkholderiaceae      | Noviherbaspirillum    | \n",
       "| 6414 | ASV246                | GVFLHN1-CH            | 0.1610611             | GVFLHN1-CH            | 2                     | GVFLHN1               | Gv                    | Florence              | CH                    | HN                    | NA                    | 27                    | 1                     | NA                    | Bacteria              | Cyanobacteria         | Oxyphotobacteria      | Nostocales            | Coleofasciculaceae    | NA                    | \n",
       "| 11953 | ASV6                  | GVN7HP3-CH            | 0.1594556             | GVN7HP3-CH            | 2                     | GVN7HP3               | Gv                    | Lansing               | CH                    | HP                    | NA                    | 27                    | 3                     | NA                    | Bacteria              | Proteobacteria        | Gammaproteobacteria   | Cellvibrionales       | Cellvibrionaceae      | Cellvibrio            | \n",
       "| 12142 | ASV61                 | GVN7HP2-CH            | 0.1479419             | GVN7HP2-CH            | 2                     | GVN7HP2               | Gv                    | Lansing               | CH                    | HP                    | NA                    | 27                    | 2                     | NA                    | Bacteria              | Proteobacteria        | Gammaproteobacteria   | Betaproteobacteriales | Burkholderiaceae      | NA                    | \n",
       "\n",
       "\n"
      ],
      "text/plain": [
       "      OTU    Sample     Abundance sample_Sample Experiment Plant   Fungus\n",
       "11734 ASV57  GVN7HN3-CH 0.1996501 GVN7HN3-CH    2          GVN7HN3 Gv    \n",
       "11920 ASV6   GVCLHN4-CH 0.1869506 GVCLHN4-CH    2          GVCLHN4 Gv    \n",
       "1275  ASV118 GVN7HP3-CH 0.1715024 GVN7HP3-CH    2          GVN7HP3 Gv    \n",
       "6414  ASV246 GVFLHN1-CH 0.1610611 GVFLHN1-CH    2          GVFLHN1 Gv    \n",
       "11953 ASV6   GVN7HP3-CH 0.1594556 GVN7HP3-CH    2          GVN7HP3 Gv    \n",
       "12142 ASV61  GVN7HP2-CH 0.1479419 GVN7HP2-CH    2          GVN7HP2 Gv    \n",
       "      Soil      SampleType Treatment TimePoint DAI Rep Concentration_ng.ul\n",
       "11734 Lansing   CH         HN        NA        27  3   NA                 \n",
       "11920 Pendelton CH         HN        NA        27  4   NA                 \n",
       "1275  Lansing   CH         HP        NA        27  3   NA                 \n",
       "6414  Florence  CH         HN        NA        27  1   NA                 \n",
       "11953 Lansing   CH         HP        NA        27  3   NA                 \n",
       "12142 Lansing   CH         HP        NA        27  2   NA                 \n",
       "      Kingdom  Phylum         Class               Order                \n",
       "11734 Bacteria Proteobacteria Gammaproteobacteria Betaproteobacteriales\n",
       "11920 Bacteria Proteobacteria Gammaproteobacteria Cellvibrionales      \n",
       "1275  Bacteria Proteobacteria Gammaproteobacteria Betaproteobacteriales\n",
       "6414  Bacteria Cyanobacteria  Oxyphotobacteria    Nostocales           \n",
       "11953 Bacteria Proteobacteria Gammaproteobacteria Cellvibrionales      \n",
       "12142 Bacteria Proteobacteria Gammaproteobacteria Betaproteobacteriales\n",
       "      Family             Genus             \n",
       "11734 Burkholderiaceae   NA                \n",
       "11920 Cellvibrionaceae   Cellvibrio        \n",
       "1275  Burkholderiaceae   Noviherbaspirillum\n",
       "6414  Coleofasciculaceae NA                \n",
       "11953 Cellvibrionaceae   Cellvibrio        \n",
       "12142 Burkholderiaceae   NA                "
      ]
     },
     "metadata": {},
     "output_type": "display_data"
    }
   ],
   "source": [
    "mdf = psmelt(physeq.thresh)\n",
    "head(mdf)"
   ]
  },
  {
   "cell_type": "code",
   "execution_count": 53,
   "metadata": {},
   "outputs": [
    {
     "data": {
      "text/html": [
       "<table>\n",
       "<thead><tr><th scope=col>Soil</th><th scope=col>SampleType</th><th scope=col>OTU</th><th scope=col>mean_Abundance</th></tr></thead>\n",
       "<tbody>\n",
       "\t<tr><td>Florence    </td><td>CH          </td><td>ASV100      </td><td>0.0013043240</td></tr>\n",
       "\t<tr><td>Florence    </td><td>CH          </td><td>ASV101      </td><td>0.0005555983</td></tr>\n",
       "\t<tr><td>Florence    </td><td>CH          </td><td>ASV102      </td><td>0.0000000000</td></tr>\n",
       "\t<tr><td>Florence    </td><td>CH          </td><td>ASV103      </td><td>0.0023316966</td></tr>\n",
       "\t<tr><td>Florence    </td><td>CH          </td><td>ASV104      </td><td>0.0014897948</td></tr>\n",
       "\t<tr><td>Florence    </td><td>CH          </td><td>ASV106      </td><td>0.0000000000</td></tr>\n",
       "</tbody>\n",
       "</table>\n"
      ],
      "text/latex": [
       "\\begin{tabular}{r|llll}\n",
       " Soil & SampleType & OTU & mean\\_Abundance\\\\\n",
       "\\hline\n",
       "\t Florence     & CH           & ASV100       & 0.0013043240\\\\\n",
       "\t Florence     & CH           & ASV101       & 0.0005555983\\\\\n",
       "\t Florence     & CH           & ASV102       & 0.0000000000\\\\\n",
       "\t Florence     & CH           & ASV103       & 0.0023316966\\\\\n",
       "\t Florence     & CH           & ASV104       & 0.0014897948\\\\\n",
       "\t Florence     & CH           & ASV106       & 0.0000000000\\\\\n",
       "\\end{tabular}\n"
      ],
      "text/markdown": [
       "\n",
       "Soil | SampleType | OTU | mean_Abundance | \n",
       "|---|---|---|---|---|---|\n",
       "| Florence     | CH           | ASV100       | 0.0013043240 | \n",
       "| Florence     | CH           | ASV101       | 0.0005555983 | \n",
       "| Florence     | CH           | ASV102       | 0.0000000000 | \n",
       "| Florence     | CH           | ASV103       | 0.0023316966 | \n",
       "| Florence     | CH           | ASV104       | 0.0014897948 | \n",
       "| Florence     | CH           | ASV106       | 0.0000000000 | \n",
       "\n",
       "\n"
      ],
      "text/plain": [
       "  Soil     SampleType OTU    mean_Abundance\n",
       "1 Florence CH         ASV100 0.0013043240  \n",
       "2 Florence CH         ASV101 0.0005555983  \n",
       "3 Florence CH         ASV102 0.0000000000  \n",
       "4 Florence CH         ASV103 0.0023316966  \n",
       "5 Florence CH         ASV104 0.0014897948  \n",
       "6 Florence CH         ASV106 0.0000000000  "
      ]
     },
     "metadata": {},
     "output_type": "display_data"
    }
   ],
   "source": [
    "\n",
    "# split dataframe by day and OTU, sumarize mean abundance\n",
    "mdf.byOTU = ddply(mdf, .(Soil, SampleType, OTU), summarize, mean_Abundance = mean(Abundance))\n",
    "head(mdf.byOTU)"
   ]
  },
  {
   "cell_type": "code",
   "execution_count": 59,
   "metadata": {},
   "outputs": [
    {
     "name": "stderr",
     "output_type": "stream",
     "text": [
      "Using mean_Abundance as value column: use value.var to override.\n"
     ]
    },
    {
     "data": {
      "text/html": [
       "<table>\n",
       "<thead><tr><th scope=col>OTU</th><th scope=col>Lansing_CS</th><th scope=col>Lansing_CH</th><th scope=col>Florence_CS</th><th scope=col>Florence_CH</th><th scope=col>Pendelton_CS</th><th scope=col>Pendelton_CH</th></tr></thead>\n",
       "<tbody>\n",
       "\t<tr><td>ASV100      </td><td>3.019926e-03</td><td>0.0027452123</td><td>0.001567567 </td><td>0.0013043240</td><td>0.0009879816</td><td>0.0009181631</td></tr>\n",
       "\t<tr><td>ASV101      </td><td>2.068219e-03</td><td>0.0009525206</td><td>0.002963502 </td><td>0.0005555983</td><td>0.0012679631</td><td>0.0003717635</td></tr>\n",
       "\t<tr><td>ASV102      </td><td>9.782109e-05</td><td>0.0156217216</td><td>0.000000000 </td><td>0.0000000000</td><td>0.0000000000</td><td>0.0000000000</td></tr>\n",
       "\t<tr><td>ASV103      </td><td>4.116493e-03</td><td>0.0016980743</td><td>0.008537221 </td><td>0.0023316966</td><td>0.0095266452</td><td>0.0026123151</td></tr>\n",
       "\t<tr><td>ASV104      </td><td>2.542281e-03</td><td>0.0002285653</td><td>0.001733103 </td><td>0.0014897948</td><td>0.0042357781</td><td>0.0014481912</td></tr>\n",
       "\t<tr><td>ASV106      </td><td>4.124973e-03</td><td>0.0012164350</td><td>0.000000000 </td><td>0.0000000000</td><td>0.0000000000</td><td>0.0000000000</td></tr>\n",
       "</tbody>\n",
       "</table>\n"
      ],
      "text/latex": [
       "\\begin{tabular}{r|lllllll}\n",
       " OTU & Lansing\\_CS & Lansing\\_CH & Florence\\_CS & Florence\\_CH & Pendelton\\_CS & Pendelton\\_CH\\\\\n",
       "\\hline\n",
       "\t ASV100       & 3.019926e-03 & 0.0027452123 & 0.001567567  & 0.0013043240 & 0.0009879816 & 0.0009181631\\\\\n",
       "\t ASV101       & 2.068219e-03 & 0.0009525206 & 0.002963502  & 0.0005555983 & 0.0012679631 & 0.0003717635\\\\\n",
       "\t ASV102       & 9.782109e-05 & 0.0156217216 & 0.000000000  & 0.0000000000 & 0.0000000000 & 0.0000000000\\\\\n",
       "\t ASV103       & 4.116493e-03 & 0.0016980743 & 0.008537221  & 0.0023316966 & 0.0095266452 & 0.0026123151\\\\\n",
       "\t ASV104       & 2.542281e-03 & 0.0002285653 & 0.001733103  & 0.0014897948 & 0.0042357781 & 0.0014481912\\\\\n",
       "\t ASV106       & 4.124973e-03 & 0.0012164350 & 0.000000000  & 0.0000000000 & 0.0000000000 & 0.0000000000\\\\\n",
       "\\end{tabular}\n"
      ],
      "text/markdown": [
       "\n",
       "OTU | Lansing_CS | Lansing_CH | Florence_CS | Florence_CH | Pendelton_CS | Pendelton_CH | \n",
       "|---|---|---|---|---|---|\n",
       "| ASV100       | 3.019926e-03 | 0.0027452123 | 0.001567567  | 0.0013043240 | 0.0009879816 | 0.0009181631 | \n",
       "| ASV101       | 2.068219e-03 | 0.0009525206 | 0.002963502  | 0.0005555983 | 0.0012679631 | 0.0003717635 | \n",
       "| ASV102       | 9.782109e-05 | 0.0156217216 | 0.000000000  | 0.0000000000 | 0.0000000000 | 0.0000000000 | \n",
       "| ASV103       | 4.116493e-03 | 0.0016980743 | 0.008537221  | 0.0023316966 | 0.0095266452 | 0.0026123151 | \n",
       "| ASV104       | 2.542281e-03 | 0.0002285653 | 0.001733103  | 0.0014897948 | 0.0042357781 | 0.0014481912 | \n",
       "| ASV106       | 4.124973e-03 | 0.0012164350 | 0.000000000  | 0.0000000000 | 0.0000000000 | 0.0000000000 | \n",
       "\n",
       "\n"
      ],
      "text/plain": [
       "  OTU    Lansing_CS   Lansing_CH   Florence_CS Florence_CH  Pendelton_CS\n",
       "1 ASV100 3.019926e-03 0.0027452123 0.001567567 0.0013043240 0.0009879816\n",
       "2 ASV101 2.068219e-03 0.0009525206 0.002963502 0.0005555983 0.0012679631\n",
       "3 ASV102 9.782109e-05 0.0156217216 0.000000000 0.0000000000 0.0000000000\n",
       "4 ASV103 4.116493e-03 0.0016980743 0.008537221 0.0023316966 0.0095266452\n",
       "5 ASV104 2.542281e-03 0.0002285653 0.001733103 0.0014897948 0.0042357781\n",
       "6 ASV106 4.124973e-03 0.0012164350 0.000000000 0.0000000000 0.0000000000\n",
       "  Pendelton_CH\n",
       "1 0.0009181631\n",
       "2 0.0003717635\n",
       "3 0.0000000000\n",
       "4 0.0026123151\n",
       "5 0.0014481912\n",
       "6 0.0000000000"
      ]
     },
     "metadata": {},
     "output_type": "display_data"
    }
   ],
   "source": [
    "#cast by Plant\n",
    "dfc = dcast(mdf.byOTU, OTU ~ Soil + SampleType) %>%\n",
    "    select(OTU, Lansing_CS, Lansing_CH, Florence_CS, Florence_CH, Pendelton_CS, Pendelton_CH)\n",
    "head(dfc)"
   ]
  },
  {
   "cell_type": "code",
   "execution_count": 60,
   "metadata": {},
   "outputs": [],
   "source": [
    "write.table(dfc, file.path(out_Dir,'CSCH_Abund.txt'), sep = \"\\t\", \n",
    "            row.names = FALSE, quote = FALSE)"
   ]
  },
  {
   "cell_type": "markdown",
   "metadata": {},
   "source": [
    "### Hyphal samples only stacked by experiment"
   ]
  },
  {
   "cell_type": "code",
   "execution_count": 63,
   "metadata": {},
   "outputs": [
    {
     "data": {
      "text/html": [
       "<table>\n",
       "<thead><tr><th scope=col>Soil</th><th scope=col>SampleType</th><th scope=col>OTU</th><th scope=col>Experiment</th><th scope=col>mean_Abundance</th></tr></thead>\n",
       "<tbody>\n",
       "\t<tr><td>Florence    </td><td>CH          </td><td>ASV100      </td><td>1           </td><td>0.0007582158</td></tr>\n",
       "\t<tr><td>Florence    </td><td>CH          </td><td>ASV100      </td><td>2           </td><td>0.0015091146</td></tr>\n",
       "\t<tr><td>Florence    </td><td>CH          </td><td>ASV101      </td><td>1           </td><td>0.0008770968</td></tr>\n",
       "\t<tr><td>Florence    </td><td>CH          </td><td>ASV101      </td><td>2           </td><td>0.0004350364</td></tr>\n",
       "\t<tr><td>Florence    </td><td>CH          </td><td>ASV102      </td><td>1           </td><td>0.0000000000</td></tr>\n",
       "\t<tr><td>Florence    </td><td>CH          </td><td>ASV102      </td><td>2           </td><td>0.0000000000</td></tr>\n",
       "</tbody>\n",
       "</table>\n"
      ],
      "text/latex": [
       "\\begin{tabular}{r|lllll}\n",
       " Soil & SampleType & OTU & Experiment & mean\\_Abundance\\\\\n",
       "\\hline\n",
       "\t Florence     & CH           & ASV100       & 1            & 0.0007582158\\\\\n",
       "\t Florence     & CH           & ASV100       & 2            & 0.0015091146\\\\\n",
       "\t Florence     & CH           & ASV101       & 1            & 0.0008770968\\\\\n",
       "\t Florence     & CH           & ASV101       & 2            & 0.0004350364\\\\\n",
       "\t Florence     & CH           & ASV102       & 1            & 0.0000000000\\\\\n",
       "\t Florence     & CH           & ASV102       & 2            & 0.0000000000\\\\\n",
       "\\end{tabular}\n"
      ],
      "text/markdown": [
       "\n",
       "Soil | SampleType | OTU | Experiment | mean_Abundance | \n",
       "|---|---|---|---|---|---|\n",
       "| Florence     | CH           | ASV100       | 1            | 0.0007582158 | \n",
       "| Florence     | CH           | ASV100       | 2            | 0.0015091146 | \n",
       "| Florence     | CH           | ASV101       | 1            | 0.0008770968 | \n",
       "| Florence     | CH           | ASV101       | 2            | 0.0004350364 | \n",
       "| Florence     | CH           | ASV102       | 1            | 0.0000000000 | \n",
       "| Florence     | CH           | ASV102       | 2            | 0.0000000000 | \n",
       "\n",
       "\n"
      ],
      "text/plain": [
       "  Soil     SampleType OTU    Experiment mean_Abundance\n",
       "1 Florence CH         ASV100 1          0.0007582158  \n",
       "2 Florence CH         ASV100 2          0.0015091146  \n",
       "3 Florence CH         ASV101 1          0.0008770968  \n",
       "4 Florence CH         ASV101 2          0.0004350364  \n",
       "5 Florence CH         ASV102 1          0.0000000000  \n",
       "6 Florence CH         ASV102 2          0.0000000000  "
      ]
     },
     "metadata": {},
     "output_type": "display_data"
    }
   ],
   "source": [
    "mdf.byOTU = ddply(mdf, .(Soil, SampleType, OTU, Experiment), summarize, mean_Abundance = mean(Abundance))\n",
    "\n",
    "mdf.F.byOTU = filter(mdf.byOTU, Soil == \"Florence\" & SampleType == 'CH')\n",
    "mdf.L.byOTU = filter(mdf.byOTU, Soil == \"Lansing\" & SampleType == 'CH')\n",
    "mdf.P.byOTU = filter(mdf.byOTU, Soil == \"Pendelton\" & SampleType == 'CH')\n",
    "head(mdf.F.byOTU)"
   ]
  },
  {
   "cell_type": "code",
   "execution_count": 68,
   "metadata": {},
   "outputs": [
    {
     "name": "stderr",
     "output_type": "stream",
     "text": [
      "Using mean_Abundance as value column: use value.var to override.\n",
      "Using mean_Abundance as value column: use value.var to override.\n",
      "Using mean_Abundance as value column: use value.var to override.\n"
     ]
    }
   ],
   "source": [
    "dfc.F = dcast(mdf.F.byOTU, OTU ~ Experiment) \n",
    "dfc.L = dcast(mdf.L.byOTU, OTU ~ Experiment)    \n",
    "dfc.P = dcast(mdf.P.byOTU, OTU ~ Experiment) "
   ]
  },
  {
   "cell_type": "code",
   "execution_count": 69,
   "metadata": {},
   "outputs": [],
   "source": [
    "write.table(dfc.F, file.path(out_Dir,'Florence_Abund.txt'), sep = \"\\t\", \n",
    "            row.names = FALSE, quote = FALSE)\n",
    "write.table(dfc.L, file.path(out_Dir,'Lansing_Abund.txt'), sep = \"\\t\", \n",
    "            row.names = FALSE, quote = FALSE)\n",
    "write.table(dfc.P, file.path(out_Dir,'Pendelton_Abund.txt'), sep = \"\\t\", \n",
    "            row.names = FALSE, quote = FALSE)"
   ]
  }
 ],
 "metadata": {
  "kernelspec": {
   "display_name": "R",
   "language": "R",
   "name": "ir"
  },
  "language_info": {
   "codemirror_mode": "r",
   "file_extension": ".r",
   "mimetype": "text/x-r-source",
   "name": "R",
   "pygments_lexer": "r",
   "version": "3.6.0"
  }
 },
 "nbformat": 4,
 "nbformat_minor": 2
}
