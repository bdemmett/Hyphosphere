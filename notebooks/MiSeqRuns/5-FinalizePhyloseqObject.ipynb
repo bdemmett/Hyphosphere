{
 "cells": [
  {
   "cell_type": "markdown",
   "metadata": {},
   "source": [
    "# Finalize merged dataset\n",
    "* Incorporate phylogenetic tree into phyloseq object\n",
    "* Save master and split versions"
   ]
  },
  {
   "cell_type": "code",
   "execution_count": 1,
   "metadata": {},
   "outputs": [
    {
     "name": "stderr",
     "output_type": "stream",
     "text": [
      "Loading required package: Rcpp\n",
      "\n",
      "Attaching package: ‘dplyr’\n",
      "\n",
      "The following objects are masked from ‘package:stats’:\n",
      "\n",
      "    filter, lag\n",
      "\n",
      "The following objects are masked from ‘package:base’:\n",
      "\n",
      "    intersect, setdiff, setequal, union\n",
      "\n"
     ]
    }
   ],
   "source": [
    "library(dada2)\n",
    "library(tidyr)\n",
    "library(dplyr)\n",
    "library(phyloseq)\n",
    "library(ggplot2)"
   ]
  },
  {
   "cell_type": "code",
   "execution_count": 2,
   "metadata": {},
   "outputs": [
    {
     "data": {
      "text/plain": [
       "phyloseq-class experiment-level object\n",
       "otu_table()   OTU Table:         [ 15605 taxa and 435 samples ]\n",
       "sample_data() Sample Data:       [ 435 samples by 11 sample variables ]\n",
       "tax_table()   Taxonomy Table:    [ 15605 taxa by 6 taxonomic ranks ]"
      ]
     },
     "metadata": {},
     "output_type": "display_data"
    }
   ],
   "source": [
    "ps.thresh = readRDS('~/Hyphosphere/data/3Exp/phyloseq/3Exp_phyloseq_thresh.rds')\n",
    "ps.thresh"
   ]
  },
  {
   "cell_type": "code",
   "execution_count": 3,
   "metadata": {},
   "outputs": [],
   "source": [
    "thresh.tree = read_tree(treefile = '~/Hyphosphere/data/3Exp/Fasttree/Master.tree')\n",
    "ps.thresh = merge_phyloseq(ps.thresh, thresh.tree)"
   ]
  },
  {
   "cell_type": "code",
   "execution_count": 4,
   "metadata": {},
   "outputs": [
    {
     "data": {
      "text/plain": [
       "phyloseq-class experiment-level object\n",
       "otu_table()   OTU Table:         [ 15434 taxa and 435 samples ]\n",
       "sample_data() Sample Data:       [ 435 samples by 11 sample variables ]\n",
       "tax_table()   Taxonomy Table:    [ 15434 taxa by 6 taxonomic ranks ]\n",
       "phy_tree()    Phylogenetic Tree: [ 15434 tips and 15394 internal nodes ]"
      ]
     },
     "metadata": {},
     "output_type": "display_data"
    }
   ],
   "source": [
    "ps.thresh"
   ]
  },
  {
   "cell_type": "markdown",
   "metadata": {},
   "source": [
    "* note that some sequences are lost in the alignment stage because they are not predicted to align to any model"
   ]
  },
  {
   "cell_type": "code",
   "execution_count": 5,
   "metadata": {},
   "outputs": [],
   "source": [
    "saveRDS(ps.thresh, '~/Hyphosphere/data/3Exp/phyloseq/3Exp_phyloseq_thresh_wtree.rds')\n"
   ]
  },
  {
   "cell_type": "code",
   "execution_count": 6,
   "metadata": {},
   "outputs": [
    {
     "data": {
      "text/plain": [
       "phyloseq-class experiment-level object\n",
       "otu_table()   OTU Table:         [ 15434 taxa and 435 samples ]\n",
       "sample_data() Sample Data:       [ 435 samples by 11 sample variables ]\n",
       "tax_table()   Taxonomy Table:    [ 15434 taxa by 6 taxonomic ranks ]\n",
       "phy_tree()    Phylogenetic Tree: [ 15434 tips and 15394 internal nodes ]"
      ]
     },
     "metadata": {},
     "output_type": "display_data"
    }
   ],
   "source": [
    "ps.thresh = readRDS('~/Hyphosphere3/data/3Exp/phyloseq/3Exp_phyloseq_thresh_wtree.rds')\n",
    "ps.thresh"
   ]
  },
  {
   "cell_type": "code",
   "execution_count": 7,
   "metadata": {},
   "outputs": [
    {
     "data": {
      "text/html": [
       "<table>\n",
       "<thead><tr><th></th><th scope=col>Kingdom</th><th scope=col>Phylum</th><th scope=col>Class</th><th scope=col>Order</th><th scope=col>Family</th><th scope=col>Genus</th></tr></thead>\n",
       "<tbody>\n",
       "\t<tr><th scope=row>ASV5742</th><td>Bacteria     </td><td>NA           </td><td>NA           </td><td>NA           </td><td>NA           </td><td>NA           </td></tr>\n",
       "\t<tr><th scope=row>ASV6971</th><td>Bacteria     </td><td>NA           </td><td>NA           </td><td>NA           </td><td>NA           </td><td>NA           </td></tr>\n",
       "\t<tr><th scope=row>ASV2480</th><td>Bacteria     </td><td>NA           </td><td>NA           </td><td>NA           </td><td>NA           </td><td>NA           </td></tr>\n",
       "\t<tr><th scope=row>ASV15180</th><td>Bacteria     </td><td>Acidobacteria</td><td>Subgroup_20  </td><td>NA           </td><td>NA           </td><td>NA           </td></tr>\n",
       "\t<tr><th scope=row>ASV9985</th><td>Bacteria     </td><td>Acidobacteria</td><td>Subgroup_20  </td><td>NA           </td><td>NA           </td><td>NA           </td></tr>\n",
       "\t<tr><th scope=row>ASV22021</th><td>Bacteria     </td><td>Acidobacteria</td><td>Subgroup_20  </td><td>NA           </td><td>NA           </td><td>NA           </td></tr>\n",
       "</tbody>\n",
       "</table>\n"
      ],
      "text/latex": [
       "\\begin{tabular}{r|llllll}\n",
       "  & Kingdom & Phylum & Class & Order & Family & Genus\\\\\n",
       "\\hline\n",
       "\tASV5742 & Bacteria      & NA            & NA            & NA            & NA            & NA           \\\\\n",
       "\tASV6971 & Bacteria      & NA            & NA            & NA            & NA            & NA           \\\\\n",
       "\tASV2480 & Bacteria      & NA            & NA            & NA            & NA            & NA           \\\\\n",
       "\tASV15180 & Bacteria      & Acidobacteria & Subgroup\\_20 & NA            & NA            & NA           \\\\\n",
       "\tASV9985 & Bacteria      & Acidobacteria & Subgroup\\_20 & NA            & NA            & NA           \\\\\n",
       "\tASV22021 & Bacteria      & Acidobacteria & Subgroup\\_20 & NA            & NA            & NA           \\\\\n",
       "\\end{tabular}\n"
      ],
      "text/markdown": [
       "\n",
       "| <!--/--> | Kingdom | Phylum | Class | Order | Family | Genus | \n",
       "|---|---|---|---|---|---|\n",
       "| ASV5742 | Bacteria      | NA            | NA            | NA            | NA            | NA            | \n",
       "| ASV6971 | Bacteria      | NA            | NA            | NA            | NA            | NA            | \n",
       "| ASV2480 | Bacteria      | NA            | NA            | NA            | NA            | NA            | \n",
       "| ASV15180 | Bacteria      | Acidobacteria | Subgroup_20   | NA            | NA            | NA            | \n",
       "| ASV9985 | Bacteria      | Acidobacteria | Subgroup_20   | NA            | NA            | NA            | \n",
       "| ASV22021 | Bacteria      | Acidobacteria | Subgroup_20   | NA            | NA            | NA            | \n",
       "\n",
       "\n"
      ],
      "text/plain": [
       "         Kingdom  Phylum        Class       Order Family Genus\n",
       "ASV5742  Bacteria NA            NA          NA    NA     NA   \n",
       "ASV6971  Bacteria NA            NA          NA    NA     NA   \n",
       "ASV2480  Bacteria NA            NA          NA    NA     NA   \n",
       "ASV15180 Bacteria Acidobacteria Subgroup_20 NA    NA     NA   \n",
       "ASV9985  Bacteria Acidobacteria Subgroup_20 NA    NA     NA   \n",
       "ASV22021 Bacteria Acidobacteria Subgroup_20 NA    NA     NA   "
      ]
     },
     "metadata": {},
     "output_type": "display_data"
    }
   ],
   "source": [
    "tax_table(ps.thresh) %>% head()"
   ]
  },
  {
   "cell_type": "markdown",
   "metadata": {},
   "source": [
    "# Global preprocessing"
   ]
  },
  {
   "cell_type": "code",
   "execution_count": 8,
   "metadata": {},
   "outputs": [
    {
     "data": {
      "text/plain": [
       "phyloseq-class experiment-level object\n",
       "otu_table()   OTU Table:         [ 20 taxa and 435 samples ]\n",
       "sample_data() Sample Data:       [ 435 samples by 11 sample variables ]\n",
       "tax_table()   Taxonomy Table:    [ 20 taxa by 6 taxonomic ranks ]\n",
       "phy_tree()    Phylogenetic Tree: [ 20 tips and 19 internal nodes ]"
      ]
     },
     "metadata": {},
     "output_type": "display_data"
    }
   ],
   "source": [
    "mitochondria = subset_taxa(ps.thresh, Family == \"Mitochondria\")\n",
    "mitochondria\n"
   ]
  },
  {
   "cell_type": "code",
   "execution_count": 9,
   "metadata": {},
   "outputs": [
    {
     "data": {
      "text/plain": [
       "phyloseq-class experiment-level object\n",
       "otu_table()   OTU Table:         [ 15414 taxa and 435 samples ]\n",
       "sample_data() Sample Data:       [ 435 samples by 11 sample variables ]\n",
       "tax_table()   Taxonomy Table:    [ 15414 taxa by 6 taxonomic ranks ]\n",
       "phy_tree()    Phylogenetic Tree: [ 15414 tips and 15374 internal nodes ]"
      ]
     },
     "metadata": {},
     "output_type": "display_data"
    }
   ],
   "source": [
    "#remove mitochondria\n",
    "ps.thresh2 = subset_taxa(ps.thresh, Family != \"Mitochondria\" | is.na(Family))\n",
    "ps.thresh2"
   ]
  },
  {
   "cell_type": "markdown",
   "metadata": {},
   "source": [
    "# Save subsets"
   ]
  },
  {
   "cell_type": "code",
   "execution_count": 10,
   "metadata": {},
   "outputs": [
    {
     "data": {
      "text/plain": [
       "phyloseq-class experiment-level object\n",
       "otu_table()   OTU Table:         [ 13325 taxa and 192 samples ]\n",
       "sample_data() Sample Data:       [ 192 samples by 11 sample variables ]\n",
       "tax_table()   Taxonomy Table:    [ 13325 taxa by 6 taxonomic ranks ]\n",
       "phy_tree()    Phylogenetic Tree: [ 13325 tips and 13292 internal nodes ]"
      ]
     },
     "metadata": {},
     "output_type": "display_data"
    }
   ],
   "source": [
    "# Save Exp11 (experiment 3)\n",
    "ps.exp3 = ps.thresh2 %>% subset_samples(Experiment == \"3\")\n",
    "ps.exp3 = filter_taxa(ps.exp3, function(x) sum(x > 0) > 0, TRUE)\n",
    "ps.exp3"
   ]
  },
  {
   "cell_type": "code",
   "execution_count": 11,
   "metadata": {},
   "outputs": [],
   "source": [
    "saveRDS(ps.exp3, file = '~/Hyphosphere/Exp11/Exp11_phyloseq.rds')"
   ]
  },
  {
   "cell_type": "code",
   "execution_count": 12,
   "metadata": {},
   "outputs": [
    {
     "data": {
      "text/html": [
       "<table>\n",
       "<thead><tr><th></th><th scope=col>Sample</th></tr></thead>\n",
       "<tbody>\n",
       "\t<tr><th scope=row>10xBLS156_S303</th><td>10xBLS156</td></tr>\n",
       "\t<tr><th scope=row>2xBLS143_S297</th><td>2xBLS143 </td></tr>\n",
       "\t<tr><th scope=row>5xBLS120_S300</th><td>5xBLS120 </td></tr>\n",
       "\t<tr><th scope=row>BaseA_S310</th><td>BaseA    </td></tr>\n",
       "\t<tr><th scope=row>BaseB_S291</th><td>BaseB    </td></tr>\n",
       "\t<tr><th scope=row>BaseC_S294</th><td>BaseC    </td></tr>\n",
       "\t<tr><th scope=row>HCBF1_S247</th><td>HCBF1    </td></tr>\n",
       "\t<tr><th scope=row>HCBF2_S259</th><td>HCBF2    </td></tr>\n",
       "\t<tr><th scope=row>HCBF3_S271</th><td>HCBF3    </td></tr>\n",
       "\t<tr><th scope=row>HCBN1_S211</th><td>HCBN1    </td></tr>\n",
       "\t<tr><th scope=row>HCBN2_S223</th><td>HCBN2    </td></tr>\n",
       "\t<tr><th scope=row>HCBN3_S235</th><td>HCBN3    </td></tr>\n",
       "\t<tr><th scope=row>HCBP1_S283</th><td>HCBP1    </td></tr>\n",
       "\t<tr><th scope=row>HCBP2_S200</th><td>HCBP2    </td></tr>\n",
       "\t<tr><th scope=row>HCBP3_S212</th><td>HCBP3    </td></tr>\n",
       "\t<tr><th scope=row>HCBS1_S224</th><td>HCBS1    </td></tr>\n",
       "\t<tr><th scope=row>HCBS2_S236</th><td>HCBS2    </td></tr>\n",
       "\t<tr><th scope=row>HCBS3_S248</th><td>HCBS3    </td></tr>\n",
       "\t<tr><th scope=row>HCHF1_S250</th><td>HCHF1    </td></tr>\n",
       "\t<tr><th scope=row>HCHF2_S262</th><td>HCHF2    </td></tr>\n",
       "\t<tr><th scope=row>HCHF3_S274</th><td>HCHF3    </td></tr>\n",
       "\t<tr><th scope=row>HCHN1_S214</th><td>HCHN1    </td></tr>\n",
       "\t<tr><th scope=row>HCHN2_S226</th><td>HCHN2    </td></tr>\n",
       "\t<tr><th scope=row>HCHN3_S238</th><td>HCHN3    </td></tr>\n",
       "\t<tr><th scope=row>HCHP1_S286</th><td>HCHP1    </td></tr>\n",
       "\t<tr><th scope=row>HCHP2_S203</th><td>HCHP2    </td></tr>\n",
       "\t<tr><th scope=row>HCHP3_S215</th><td>HCHP3    </td></tr>\n",
       "\t<tr><th scope=row>HCHS1_S227</th><td>HCHS1    </td></tr>\n",
       "\t<tr><th scope=row>HCHS2_S239</th><td>HCHS2    </td></tr>\n",
       "\t<tr><th scope=row>HCHS3_S251</th><td>HCHS3    </td></tr>\n",
       "\t<tr><th scope=row>⋮</th><td>⋮</td></tr>\n",
       "\t<tr><th scope=row>69_GVFLHN1-RS</th><td>GVFLHN1-RS</td></tr>\n",
       "\t<tr><th scope=row>7_GVFLHN2-BH</th><td>GVFLHN2-BH</td></tr>\n",
       "\t<tr><th scope=row>70_GVFLHN2-CH</th><td>GVFLHN2-CH</td></tr>\n",
       "\t<tr><th scope=row>71_GVFLHN2-RH</th><td>GVFLHN2-RH</td></tr>\n",
       "\t<tr><th scope=row>72_GVFLHN2-RS</th><td>GVFLHN2-RS</td></tr>\n",
       "\t<tr><th scope=row>73_GVFLHP1-CH</th><td>GVFLHP1-CH</td></tr>\n",
       "\t<tr><th scope=row>74_GVFLHP2-CH</th><td>GVFLHP2-CH</td></tr>\n",
       "\t<tr><th scope=row>75_GVN7HN1-CH</th><td>GVN7HN1-CH</td></tr>\n",
       "\t<tr><th scope=row>76_GVN7HN1-RS</th><td>GVN7HN1-RS</td></tr>\n",
       "\t<tr><th scope=row>77_GVN7HN1-RH</th><td>GVN7HN1-RH</td></tr>\n",
       "\t<tr><th scope=row>78_GVN7HN2-CH</th><td>GVN7HN2-CH</td></tr>\n",
       "\t<tr><th scope=row>79_GVN7HN2-RH</th><td>GVN7HN2-RH</td></tr>\n",
       "\t<tr><th scope=row>8_GVFLHN2-BS</th><td>GVFLHN2-BS</td></tr>\n",
       "\t<tr><th scope=row>80_GVN7HN2-RS</th><td>GVN7HN2-RS</td></tr>\n",
       "\t<tr><th scope=row>81_GVN7HP1-CH</th><td>GVN7HP1-CH</td></tr>\n",
       "\t<tr><th scope=row>82_GVN7HP2-CH</th><td>GVN7HP2-CH</td></tr>\n",
       "\t<tr><th scope=row>83_RIN7HN1-CH</th><td>RIN7HN1-CH</td></tr>\n",
       "\t<tr><th scope=row>84_RIN7HN1-RH</th><td>RIN7HN1-RH</td></tr>\n",
       "\t<tr><th scope=row>85_RIN7HN2-CH</th><td>RIN7HN2-CH</td></tr>\n",
       "\t<tr><th scope=row>86_RIN7HN2-RH</th><td>RIN7HN2-RH</td></tr>\n",
       "\t<tr><th scope=row>87_RIN7HP1-CH</th><td>RIN7HP1-CH</td></tr>\n",
       "\t<tr><th scope=row>88_RIN7HP2-CH</th><td>RIN7HP2-CH</td></tr>\n",
       "\t<tr><th scope=row>89_125-BK</th><td>125-BK    </td></tr>\n",
       "\t<tr><th scope=row>9_GVFLHP1-BH</th><td>GVFLHP1-BH</td></tr>\n",
       "\t<tr><th scope=row>90_29-BK</th><td>29-BK     </td></tr>\n",
       "\t<tr><th scope=row>91_77-BK</th><td>77-BK     </td></tr>\n",
       "\t<tr><th scope=row>92_PCRblank</th><td>PCRblank  </td></tr>\n",
       "\t<tr><th scope=row>97_GVCLHN3-BH</th><td>GVCLHN3-BH</td></tr>\n",
       "\t<tr><th scope=row>98_GVCLHN3-BS</th><td>GVCLHN3-BS</td></tr>\n",
       "\t<tr><th scope=row>99_GVCLHN4-BH</th><td>GVCLHN4-BH</td></tr>\n",
       "</tbody>\n",
       "</table>\n"
      ],
      "text/latex": [
       "\\begin{tabular}{r|l}\n",
       "  & Sample\\\\\n",
       "\\hline\n",
       "\t10xBLS156\\_S303 & 10xBLS156\\\\\n",
       "\t2xBLS143\\_S297 & 2xBLS143 \\\\\n",
       "\t5xBLS120\\_S300 & 5xBLS120 \\\\\n",
       "\tBaseA\\_S310 & BaseA    \\\\\n",
       "\tBaseB\\_S291 & BaseB    \\\\\n",
       "\tBaseC\\_S294 & BaseC    \\\\\n",
       "\tHCBF1\\_S247 & HCBF1    \\\\\n",
       "\tHCBF2\\_S259 & HCBF2    \\\\\n",
       "\tHCBF3\\_S271 & HCBF3    \\\\\n",
       "\tHCBN1\\_S211 & HCBN1    \\\\\n",
       "\tHCBN2\\_S223 & HCBN2    \\\\\n",
       "\tHCBN3\\_S235 & HCBN3    \\\\\n",
       "\tHCBP1\\_S283 & HCBP1    \\\\\n",
       "\tHCBP2\\_S200 & HCBP2    \\\\\n",
       "\tHCBP3\\_S212 & HCBP3    \\\\\n",
       "\tHCBS1\\_S224 & HCBS1    \\\\\n",
       "\tHCBS2\\_S236 & HCBS2    \\\\\n",
       "\tHCBS3\\_S248 & HCBS3    \\\\\n",
       "\tHCHF1\\_S250 & HCHF1    \\\\\n",
       "\tHCHF2\\_S262 & HCHF2    \\\\\n",
       "\tHCHF3\\_S274 & HCHF3    \\\\\n",
       "\tHCHN1\\_S214 & HCHN1    \\\\\n",
       "\tHCHN2\\_S226 & HCHN2    \\\\\n",
       "\tHCHN3\\_S238 & HCHN3    \\\\\n",
       "\tHCHP1\\_S286 & HCHP1    \\\\\n",
       "\tHCHP2\\_S203 & HCHP2    \\\\\n",
       "\tHCHP3\\_S215 & HCHP3    \\\\\n",
       "\tHCHS1\\_S227 & HCHS1    \\\\\n",
       "\tHCHS2\\_S239 & HCHS2    \\\\\n",
       "\tHCHS3\\_S251 & HCHS3    \\\\\n",
       "\t⋮ & ⋮\\\\\n",
       "\t69\\_GVFLHN1-RS & GVFLHN1-RS\\\\\n",
       "\t7\\_GVFLHN2-BH & GVFLHN2-BH\\\\\n",
       "\t70\\_GVFLHN2-CH & GVFLHN2-CH\\\\\n",
       "\t71\\_GVFLHN2-RH & GVFLHN2-RH\\\\\n",
       "\t72\\_GVFLHN2-RS & GVFLHN2-RS\\\\\n",
       "\t73\\_GVFLHP1-CH & GVFLHP1-CH\\\\\n",
       "\t74\\_GVFLHP2-CH & GVFLHP2-CH\\\\\n",
       "\t75\\_GVN7HN1-CH & GVN7HN1-CH\\\\\n",
       "\t76\\_GVN7HN1-RS & GVN7HN1-RS\\\\\n",
       "\t77\\_GVN7HN1-RH & GVN7HN1-RH\\\\\n",
       "\t78\\_GVN7HN2-CH & GVN7HN2-CH\\\\\n",
       "\t79\\_GVN7HN2-RH & GVN7HN2-RH\\\\\n",
       "\t8\\_GVFLHN2-BS & GVFLHN2-BS\\\\\n",
       "\t80\\_GVN7HN2-RS & GVN7HN2-RS\\\\\n",
       "\t81\\_GVN7HP1-CH & GVN7HP1-CH\\\\\n",
       "\t82\\_GVN7HP2-CH & GVN7HP2-CH\\\\\n",
       "\t83\\_RIN7HN1-CH & RIN7HN1-CH\\\\\n",
       "\t84\\_RIN7HN1-RH & RIN7HN1-RH\\\\\n",
       "\t85\\_RIN7HN2-CH & RIN7HN2-CH\\\\\n",
       "\t86\\_RIN7HN2-RH & RIN7HN2-RH\\\\\n",
       "\t87\\_RIN7HP1-CH & RIN7HP1-CH\\\\\n",
       "\t88\\_RIN7HP2-CH & RIN7HP2-CH\\\\\n",
       "\t89\\_125-BK & 125-BK    \\\\\n",
       "\t9\\_GVFLHP1-BH & GVFLHP1-BH\\\\\n",
       "\t90\\_29-BK & 29-BK     \\\\\n",
       "\t91\\_77-BK & 77-BK     \\\\\n",
       "\t92\\_PCRblank & PCRblank  \\\\\n",
       "\t97\\_GVCLHN3-BH & GVCLHN3-BH\\\\\n",
       "\t98\\_GVCLHN3-BS & GVCLHN3-BS\\\\\n",
       "\t99\\_GVCLHN4-BH & GVCLHN4-BH\\\\\n",
       "\\end{tabular}\n"
      ],
      "text/markdown": [
       "\n",
       "| <!--/--> | Sample | \n",
       "|---|---|---|---|---|---|---|---|---|---|---|---|---|---|---|---|---|---|---|---|---|---|---|---|---|---|---|---|---|---|---|---|---|---|---|---|---|---|---|---|---|---|---|---|---|---|---|---|---|---|---|---|---|---|---|---|---|---|---|---|---|\n",
       "| 10xBLS156_S303 | 10xBLS156 | \n",
       "| 2xBLS143_S297 | 2xBLS143  | \n",
       "| 5xBLS120_S300 | 5xBLS120  | \n",
       "| BaseA_S310 | BaseA     | \n",
       "| BaseB_S291 | BaseB     | \n",
       "| BaseC_S294 | BaseC     | \n",
       "| HCBF1_S247 | HCBF1     | \n",
       "| HCBF2_S259 | HCBF2     | \n",
       "| HCBF3_S271 | HCBF3     | \n",
       "| HCBN1_S211 | HCBN1     | \n",
       "| HCBN2_S223 | HCBN2     | \n",
       "| HCBN3_S235 | HCBN3     | \n",
       "| HCBP1_S283 | HCBP1     | \n",
       "| HCBP2_S200 | HCBP2     | \n",
       "| HCBP3_S212 | HCBP3     | \n",
       "| HCBS1_S224 | HCBS1     | \n",
       "| HCBS2_S236 | HCBS2     | \n",
       "| HCBS3_S248 | HCBS3     | \n",
       "| HCHF1_S250 | HCHF1     | \n",
       "| HCHF2_S262 | HCHF2     | \n",
       "| HCHF3_S274 | HCHF3     | \n",
       "| HCHN1_S214 | HCHN1     | \n",
       "| HCHN2_S226 | HCHN2     | \n",
       "| HCHN3_S238 | HCHN3     | \n",
       "| HCHP1_S286 | HCHP1     | \n",
       "| HCHP2_S203 | HCHP2     | \n",
       "| HCHP3_S215 | HCHP3     | \n",
       "| HCHS1_S227 | HCHS1     | \n",
       "| HCHS2_S239 | HCHS2     | \n",
       "| HCHS3_S251 | HCHS3     | \n",
       "| ⋮ | ⋮ | \n",
       "| 69_GVFLHN1-RS | GVFLHN1-RS | \n",
       "| 7_GVFLHN2-BH | GVFLHN2-BH | \n",
       "| 70_GVFLHN2-CH | GVFLHN2-CH | \n",
       "| 71_GVFLHN2-RH | GVFLHN2-RH | \n",
       "| 72_GVFLHN2-RS | GVFLHN2-RS | \n",
       "| 73_GVFLHP1-CH | GVFLHP1-CH | \n",
       "| 74_GVFLHP2-CH | GVFLHP2-CH | \n",
       "| 75_GVN7HN1-CH | GVN7HN1-CH | \n",
       "| 76_GVN7HN1-RS | GVN7HN1-RS | \n",
       "| 77_GVN7HN1-RH | GVN7HN1-RH | \n",
       "| 78_GVN7HN2-CH | GVN7HN2-CH | \n",
       "| 79_GVN7HN2-RH | GVN7HN2-RH | \n",
       "| 8_GVFLHN2-BS | GVFLHN2-BS | \n",
       "| 80_GVN7HN2-RS | GVN7HN2-RS | \n",
       "| 81_GVN7HP1-CH | GVN7HP1-CH | \n",
       "| 82_GVN7HP2-CH | GVN7HP2-CH | \n",
       "| 83_RIN7HN1-CH | RIN7HN1-CH | \n",
       "| 84_RIN7HN1-RH | RIN7HN1-RH | \n",
       "| 85_RIN7HN2-CH | RIN7HN2-CH | \n",
       "| 86_RIN7HN2-RH | RIN7HN2-RH | \n",
       "| 87_RIN7HP1-CH | RIN7HP1-CH | \n",
       "| 88_RIN7HP2-CH | RIN7HP2-CH | \n",
       "| 89_125-BK | 125-BK     | \n",
       "| 9_GVFLHP1-BH | GVFLHP1-BH | \n",
       "| 90_29-BK | 29-BK      | \n",
       "| 91_77-BK | 77-BK      | \n",
       "| 92_PCRblank | PCRblank   | \n",
       "| 97_GVCLHN3-BH | GVCLHN3-BH | \n",
       "| 98_GVCLHN3-BS | GVCLHN3-BS | \n",
       "| 99_GVCLHN4-BH | GVCLHN4-BH | \n",
       "\n",
       "\n"
      ],
      "text/plain": [
       "               Sample    \n",
       "10xBLS156_S303 10xBLS156 \n",
       "2xBLS143_S297  2xBLS143  \n",
       "5xBLS120_S300  5xBLS120  \n",
       "BaseA_S310     BaseA     \n",
       "BaseB_S291     BaseB     \n",
       "BaseC_S294     BaseC     \n",
       "HCBF1_S247     HCBF1     \n",
       "HCBF2_S259     HCBF2     \n",
       "HCBF3_S271     HCBF3     \n",
       "HCBN1_S211     HCBN1     \n",
       "HCBN2_S223     HCBN2     \n",
       "HCBN3_S235     HCBN3     \n",
       "HCBP1_S283     HCBP1     \n",
       "HCBP2_S200     HCBP2     \n",
       "HCBP3_S212     HCBP3     \n",
       "HCBS1_S224     HCBS1     \n",
       "HCBS2_S236     HCBS2     \n",
       "HCBS3_S248     HCBS3     \n",
       "HCHF1_S250     HCHF1     \n",
       "HCHF2_S262     HCHF2     \n",
       "HCHF3_S274     HCHF3     \n",
       "HCHN1_S214     HCHN1     \n",
       "HCHN2_S226     HCHN2     \n",
       "HCHN3_S238     HCHN3     \n",
       "HCHP1_S286     HCHP1     \n",
       "HCHP2_S203     HCHP2     \n",
       "HCHP3_S215     HCHP3     \n",
       "HCHS1_S227     HCHS1     \n",
       "HCHS2_S239     HCHS2     \n",
       "HCHS3_S251     HCHS3     \n",
       "⋮              ⋮         \n",
       "69_GVFLHN1-RS  GVFLHN1-RS\n",
       "7_GVFLHN2-BH   GVFLHN2-BH\n",
       "70_GVFLHN2-CH  GVFLHN2-CH\n",
       "71_GVFLHN2-RH  GVFLHN2-RH\n",
       "72_GVFLHN2-RS  GVFLHN2-RS\n",
       "73_GVFLHP1-CH  GVFLHP1-CH\n",
       "74_GVFLHP2-CH  GVFLHP2-CH\n",
       "75_GVN7HN1-CH  GVN7HN1-CH\n",
       "76_GVN7HN1-RS  GVN7HN1-RS\n",
       "77_GVN7HN1-RH  GVN7HN1-RH\n",
       "78_GVN7HN2-CH  GVN7HN2-CH\n",
       "79_GVN7HN2-RH  GVN7HN2-RH\n",
       "8_GVFLHN2-BS   GVFLHN2-BS\n",
       "80_GVN7HN2-RS  GVN7HN2-RS\n",
       "81_GVN7HP1-CH  GVN7HP1-CH\n",
       "82_GVN7HP2-CH  GVN7HP2-CH\n",
       "83_RIN7HN1-CH  RIN7HN1-CH\n",
       "84_RIN7HN1-RH  RIN7HN1-RH\n",
       "85_RIN7HN2-CH  RIN7HN2-CH\n",
       "86_RIN7HN2-RH  RIN7HN2-RH\n",
       "87_RIN7HP1-CH  RIN7HP1-CH\n",
       "88_RIN7HP2-CH  RIN7HP2-CH\n",
       "89_125-BK      125-BK    \n",
       "9_GVFLHP1-BH   GVFLHP1-BH\n",
       "90_29-BK       29-BK     \n",
       "91_77-BK       77-BK     \n",
       "92_PCRblank    PCRblank  \n",
       "97_GVCLHN3-BH  GVCLHN3-BH\n",
       "98_GVCLHN3-BS  GVCLHN3-BS\n",
       "99_GVCLHN4-BH  GVCLHN4-BH"
      ]
     },
     "metadata": {},
     "output_type": "display_data"
    }
   ],
   "source": [
    "sample_data(ps.thresh2)[,\"Sample\"] %>% unique() #[,'Experiment'] %>% unique()"
   ]
  },
  {
   "cell_type": "code",
   "execution_count": 13,
   "metadata": {},
   "outputs": [
    {
     "data": {
      "text/plain": [
       "phyloseq-class experiment-level object\n",
       "otu_table()   OTU Table:         [ 4705 taxa and 51 samples ]\n",
       "sample_data() Sample Data:       [ 51 samples by 11 sample variables ]\n",
       "tax_table()   Taxonomy Table:    [ 4705 taxa by 6 taxonomic ranks ]\n",
       "phy_tree()    Phylogenetic Tree: [ 4705 tips and 4701 internal nodes ]"
      ]
     },
     "metadata": {},
     "output_type": "display_data"
    }
   ],
   "source": [
    "# Save Exp1 (experiment 1)\n",
    "ps.exp1 = ps.thresh2 %>% subset_samples(Experiment == \"1\")\n",
    "ps.exp1 = filter_taxa(ps.exp1, function(x) sum(x > 0) > 0, TRUE)\n",
    "ps.exp1"
   ]
  },
  {
   "cell_type": "code",
   "execution_count": 14,
   "metadata": {},
   "outputs": [],
   "source": [
    "saveRDS(ps.exp1, file = '~/Hyphosphere/Exp1/Exp1_phyloseq.rds')"
   ]
  },
  {
   "cell_type": "markdown",
   "metadata": {},
   "source": [
    "# Save exp2"
   ]
  },
  {
   "cell_type": "code",
   "execution_count": 15,
   "metadata": {},
   "outputs": [
    {
     "data": {
      "text/plain": [
       "phyloseq-class experiment-level object\n",
       "otu_table()   OTU Table:         [ 10702 taxa and 192 samples ]\n",
       "sample_data() Sample Data:       [ 192 samples by 11 sample variables ]\n",
       "tax_table()   Taxonomy Table:    [ 10702 taxa by 6 taxonomic ranks ]\n",
       "phy_tree()    Phylogenetic Tree: [ 10702 tips and 10680 internal nodes ]"
      ]
     },
     "metadata": {},
     "output_type": "display_data"
    }
   ],
   "source": [
    "ps.exp2 = ps.thresh2 %>% subset_samples(Experiment == \"2\")\n",
    "ps.exp2 = filter_taxa(ps.exp2, function(x) sum(x > 0) > 0, TRUE)\n",
    "ps.exp2"
   ]
  },
  {
   "cell_type": "code",
   "execution_count": 16,
   "metadata": {
    "scrolled": true
   },
   "outputs": [
    {
     "name": "stdout",
     "output_type": "stream",
     "text": [
      "                             Sample Experiment\n",
      "1_3.1RH                       3.1RH          2\n",
      "10_2.1RH                      2.1RH          2\n",
      "100_5.5BP                     5.5BP          2\n",
      "101_5.5CS                     5.5CS          2\n",
      "102_5.5BS                     5.5BS          2\n",
      "103_6.5BP                     6.5BP          2\n",
      "104_6.5CS                     6.5CS          2\n",
      "105_6.5BS                     6.5BS          2\n",
      "106_6.1BP                     6.1BP          2\n",
      "107_5.1BP                     5.1BP          2\n",
      "108_6.1RT                     6.1RT          2\n",
      "109_5.1RT                     5.1RT          2\n",
      "11_1.1CS                      1.1CS          2\n",
      "110_4.1RT                     4.1RT          2\n",
      "111_4.2BP                     4.2BP          2\n",
      "112_4.2BS                     4.2BS          2\n",
      "113_4.2CS                     4.2CS          2\n",
      "114_3.2CS                     3.2CS          2\n",
      "115_5.2BS                     5.2BS          2\n",
      "116_5.2BP                     5.2BP          2\n",
      "117_6.2BP                     6.2BP          2\n",
      "118_6.2BS                     6.2BS          2\n",
      "119_4.3BP                     4.3BP          2\n",
      "12_3.1CS                      3.1CS          2\n",
      "120_6.2CS                     6.2CS          2\n",
      "121_4.3BS                     4.3BS          2\n",
      "122_4.3CS                     4.3CS          2\n",
      "123_5.3BP                     5.3BP          2\n",
      "124_5.3BS                     5.3BS          2\n",
      "125_5.3CS                     5.3CS          2\n",
      "126_6.3BP                     6.3BP          2\n",
      "127_6.3BS                     6.3BS          2\n",
      "128_6.3CS                     6.3CS          2\n",
      "129_5.2RT                     5.2RT          2\n",
      "13_1.2RH                      1.2RH          2\n",
      "130_4.3RT                     4.3RT          2\n",
      "131_5.3RT                     5.3RT          2\n",
      "132_6.3RT                     6.3RT          2\n",
      "133_4.2RT                     4.2RT          2\n",
      "134_6.2RT                     6.2RT          2\n",
      "135_4.4RT                     4.4RT          2\n",
      "136_5.4RT                     5.4RT          2\n",
      "137_6.4RT                     6.4RT          2\n",
      "138_4.4BP                     4.4BP          2\n",
      "139_4.4CS                     4.4CS          2\n",
      "14_1.2CH                      1.2CH          2\n",
      "140_4.4BS                     4.4BS          2\n",
      "141_5.4BS                     5.4BS          2\n",
      "142_5.4BP                     5.4BP          2\n",
      "143_5.4CS                     5.4CS          2\n",
      "144_6.4BP                     6.4BP          2\n",
      "145_6.4CS                     6.4CS          2\n",
      "146_6.4BS                     6.4BS          2\n",
      "147_T0R1                       T0R1          2\n",
      "148_T0R2                       T0R2          2\n",
      "149_T0R3                       T0R3          2\n",
      "15_1.2BP                      1.2BP          2\n",
      "150_T0R4                       T0R4          2\n",
      "151_ExtractionBlank ExtractionBlank          2\n",
      "152_GvSpores               GvSpores          2\n",
      "153_T0R5                       T0R5          2\n",
      "154_T0R6                       T0R6          2\n",
      "155_1.3RH                     1.3RH          2\n",
      "156_2.3RH                     2.3RH          2\n",
      "157_3.3RH                     3.3RH          2\n",
      "158_1.4RH                     1.4RH          2\n",
      "159_2.4RH                     2.4RH          2\n",
      "16_2.2RH                      2.2RH          2\n",
      "160_Unknown                 Unknown          2\n",
      "161_4.1CH                     4.1CH          2\n",
      "162_4.1RH                     4.1RH          2\n",
      "163_4.4CH                     4.4CH          2\n",
      "164_4.4RH                     4.4RH          2\n",
      "165_5.1CH                     5.1CH          2\n",
      "166_5.1RH                     5.1RH          2\n",
      "167_5.4CH                     5.4CH          2\n",
      "168_5.4RH                     5.4RH          2\n",
      "169_6.1CH                     6.1CH          2\n",
      "17_2.2CH                      2.2CH          2\n",
      "170_6.1RH                     6.1RH          2\n",
      "171_6.4CH                     6.4CH          2\n",
      "172_6.4RH                     6.4RH          2\n",
      "173_4.2CH                     4.2CH          2\n",
      "174_4.2RH                     4.2RH          2\n",
      "175_4.5CH                     4.5CH          2\n",
      "176_4.5RH                     4.5RH          2\n",
      "177_5.2CH                     5.2CH          2\n",
      "178_5.2RH                     5.2RH          2\n",
      "179_5.5CH                     5.5CH          2\n",
      "18_2.2BP                      2.2BP          2\n",
      "180_5.5RH                     5.5RH          2\n",
      "181_6.2CH                     6.2CH          2\n",
      "182_6.2RH                     6.2RH          2\n",
      "183_6.5CH                     6.5CH          2\n",
      "184_6.5RH                     6.5RH          2\n",
      "185_4.3CH                     4.3CH          2\n",
      "186_4.3RH                     4.3RH          2\n",
      "187_5.3CH                     5.3CH          2\n",
      "188_5.3RH                     5.3RH          2\n",
      "189_6.3CH                     6.3CH          2\n",
      "19_3.2RH                      3.2RH          2\n",
      "190_6.3RH                     6.3RH          2\n",
      "191_Mock-2               MockComm-2          2\n",
      "192_ExtractionBlank ExtractionBlank          2\n",
      "2_3.1BP                       3.1BP          2\n",
      "20_3.2CH                      3.2CH          2\n",
      "21_3.2BP                      3.2BP          2\n",
      "22_1.3RH                      1.3RH          2\n",
      "23_1.3CH                      1.3CH          2\n",
      "24_1.3BP                      1.3BP          2\n",
      "25_2.3CH                      2.3CH          2\n",
      "26_2.3CH                      2.3CH          2\n",
      "27_2.3RH                      2.3RH          2\n",
      "28_2.3BP                      2.3BP          2\n",
      "29_3.3CH                      3.3CH          2\n",
      "3_2.1CH                       2.1CH          2\n",
      "30_3.3RH                      3.3RH          2\n",
      "31_3.3BP                      3.3BP          2\n",
      "32_1.4CH                      1.4CH          2\n",
      "33_1.4RH                      1.4RH          2\n",
      "34_1.4BP                      1.4BP          2\n",
      "35_2.4CH                      2.4CH          2\n",
      "36_2.4RH                      2.4RH          2\n",
      "37_2.4BP                      2.4BP          2\n",
      "38_3.4CH                      3.4CH          2\n",
      "39_3.4RH                      3.4RH          2\n",
      "4_2.1BP                       2.1BP          2\n",
      "40_3.4BP                      3.4BP          2\n",
      "41_1.5CH                      1.5CH          2\n",
      "42_1.5BP                      1.5BP          2\n",
      "43_2.5CH                      2.5CH          2\n",
      "44_2.5RH                      2.5RH          2\n",
      "45_2.5BP                      2.5BP          2\n",
      "46_3.5CH                      3.5CH          2\n",
      "47_3.5RH                      3.5RH          2\n",
      "48_3.5BP                      3.5BP          2\n",
      "49_3.5BS                      3.5BS          2\n",
      "5_1.1RH                       1.1RH          2\n",
      "50_2.5BS                      2.5BS          2\n",
      "51_1.5BS                      1.5BS          2\n",
      "52_2.5CS                      2.5CS          2\n",
      "53_1.3BS                      1.3BS          2\n",
      "54_1.3BS                      1.3BS          2\n",
      "55_2.3BS                      2.3BS          2\n",
      "56_3.3BS                      3.3BS          2\n",
      "57_1.3CS                      1.3CS          2\n",
      "58_2.3CS                      2.3CS          2\n",
      "59_3.3CS                      3.3CS          2\n",
      "6_3.1CH                       3.1CH          2\n",
      "60_2.4BS                      2.4BS          2\n",
      "61_2.4CS                      2.4CS          2\n",
      "62_1.5CS                      1.5CS          2\n",
      "63_1.4BS                      1.4BS          2\n",
      "64_1.4CS                      1.4CS          2\n",
      "65_3.4CS                      3.4CS          2\n",
      "66_4.1BP                      4.1BP          2\n",
      "67_4.1BS                      4.1BS          2\n",
      "68_5.1BS                      5.1BS          2\n",
      "69_6.1BS                      6.1BS          2\n",
      "7_2.1CS                       2.1CS          2\n",
      "70_4.1CS                      4.1CS          2\n",
      "71_6.1CS                      6.1CS          2\n",
      "72_5.1CS                      5.1CS          2\n",
      "73_1.3RT                      1.3RT          2\n",
      "74_2.3RT                      2.3RT          2\n",
      "75_3.3RT                      3.3RT          2\n",
      "76_1.4RT                      1.4RT          2\n",
      "77_2.4RT                      2.4RT          2\n",
      "78_3.4RT                      3.4RT          2\n",
      "79_1.2RT                      1.2RT          2\n",
      "8_1.1BP                       1.1BP          2\n",
      "80_2.2RT                      2.2RT          2\n",
      "81_3.2RT                      3.2RT          2\n",
      "82_1.1RT                      1.1RT          2\n",
      "83_2.1RT                      2.1RT          2\n",
      "84_3.1RT                      3.1RT          2\n",
      "85_1.2CS                      1.2CS          2\n",
      "86_2.2CS                      2.2CS          2\n",
      "87_5.2CS                      5.2CS          2\n",
      "88_1.1BS                      1.1BS          2\n",
      "89_2.2BS                      2.2BS          2\n",
      "9_1.1CH                       1.1CH          2\n",
      "90_2.1BS                      2.1BS          2\n",
      "91_1.2BS                      1.2BS          2\n",
      "92_3.2BS                      3.2BS          2\n",
      "93_3.1BS                      3.1BS          2\n",
      "94_ExtractionBlank  ExtractionBlank          2\n",
      "95_Mock                    MockComm          2\n",
      "96_ExtractionBlank  ExtractionBlank          2\n",
      "97_4.5BP                      4.5BP          2\n",
      "98_4.5CS                      4.5CS          2\n",
      "99_4.5BS                      4.5BS          2\n"
     ]
    }
   ],
   "source": [
    "sample_data(ps.exp2)[,1:2] %>% print()"
   ]
  },
  {
   "cell_type": "code",
   "execution_count": 17,
   "metadata": {},
   "outputs": [],
   "source": [
    "saveRDS(ps.exp2, file = '~/Hyphosphere/Exp10/Exp10_phyloseq.rds')"
   ]
  }
 ],
 "metadata": {
  "kernelspec": {
   "display_name": "R",
   "language": "R",
   "name": "ir"
  },
  "language_info": {
   "codemirror_mode": "r",
   "file_extension": ".r",
   "mimetype": "text/x-r-source",
   "name": "R",
   "pygments_lexer": "r",
   "version": "3.5.1"
  }
 },
 "nbformat": 4,
 "nbformat_minor": 2
}
