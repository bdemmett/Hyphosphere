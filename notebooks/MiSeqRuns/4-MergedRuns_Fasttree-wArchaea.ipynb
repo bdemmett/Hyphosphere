{
 "cells": [
  {
   "cell_type": "code",
   "execution_count": null,
   "metadata": {},
   "outputs": [],
   "source": []
  },
  {
   "cell_type": "markdown",
   "metadata": {},
   "source": [
    "# Fast Tree of DADA2 ASVs\n",
    "* Tree building from alignment using DADA2 sequences from three hyphosphere experiments.  \n",
    "* Fasta has already been thresholded to reduce computational demand\n",
    "* Set kernel to Python 2\n",
    "* This version attempts to keep archaeal sequences"
   ]
  },
  {
   "cell_type": "code",
   "execution_count": 13,
   "metadata": {},
   "outputs": [],
   "source": [
    "workDir = '/home/be68/Hyphosphere/data/3Exp/Fasttree/AllDomain/'\n",
    "OTUFileDir = '/home/be68/Hyphosphere/data/3Exp/'\n",
    "OTUFile = '/home/be68/Hyphosphere/data/3Exp/phyloseq/seqs_thresh.fasta'\n",
    "\n",
    "\n",
    "nprocs = 20"
   ]
  },
  {
   "cell_type": "code",
   "execution_count": 14,
   "metadata": {},
   "outputs": [],
   "source": [
    "import os\n",
    "import numpy as np\n",
    "#import entrez.direct\n",
    "from cogent.app.fasttree import build_tree_from_alignment\n",
    "from cogent import DNA, LoadSeqs\n",
    "from Bio import Entrez, Phylo\n",
    "Entrez.email = \"be68@cornell.edu\"\n",
    "#from IPython.display import display, Image, SVG\n",
    "#from cogent3 import LoadSeqs, FastTree\n"
   ]
  },
  {
   "cell_type": "code",
   "execution_count": 3,
   "metadata": {},
   "outputs": [],
   "source": [
    "#%load_ext rpy2.ipython"
   ]
  },
  {
   "cell_type": "code",
   "execution_count": 15,
   "metadata": {},
   "outputs": [],
   "source": [
    "if not os.path.isdir(workDir):\n",
    "    os.mkdir(workDir)"
   ]
  },
  {
   "cell_type": "code",
   "execution_count": null,
   "metadata": {},
   "outputs": [],
   "source": []
  },
  {
   "cell_type": "code",
   "execution_count": 19,
   "metadata": {},
   "outputs": [],
   "source": [
    "!cd $workDir"
   ]
  },
  {
   "cell_type": "code",
   "execution_count": 17,
   "metadata": {},
   "outputs": [
    {
     "name": "stdout",
     "output_type": "stream",
     "text": [
      "/data/home/be68/Hyphosphere/notebooks/MiSeqRuns\r\n"
     ]
    }
   ],
   "source": [
    "!pwd"
   ]
  },
  {
   "cell_type": "code",
   "execution_count": 20,
   "metadata": {},
   "outputs": [],
   "source": [
    "!cd $workDir; ln -f -s $OTUFile"
   ]
  },
  {
   "cell_type": "code",
   "execution_count": 21,
   "metadata": {},
   "outputs": [
    {
     "name": "stdout",
     "output_type": "stream",
     "text": [
      ">ASV1\r\n",
      "TACGAAGGGGGCTAGCGTTGTTCGGATTTACTGGGCGTAAAGCGCACGTAGGCGGACTATTAAGTCAGGGGTGAAATCCCGGGGCTCAACCCCGGAACTGCCTTTGATACTGGTAGTCTTGAGTTCGAGAGAGGTGAGTGGAATTCCGAGTGTAGAGGTGAAATTCGTAGATATTCGGAGGAACACCAGTGGCGAAGGCGGCTCACTGGCTCGATACTGACGCTGAGGTGCGAAAGCGTGGGGAGCAAACAGG\r\n",
      ">ASV2\r\n",
      "GACATAGGTGGCAAACATTATCCGGAATTATTGGGCGTAAAGGGTGCGTAGGCGGCATGATAAGTTGCTGGTGGGAAATCAAGGCTCAACCTTGTGGAAGCTAGCAATACTGTCAAGCTAGAGGGCAGAAGAGGTTAACGGAACTCTATGTGGAGCGGTAAAATGTGTAGATATATAGAAGAACATCAATAAAGGCGAAGGCAGTTAACTAGTCTGTCCCTGACGTTGAGGCACGAAAGCGTGGGGAGCAAAACGG\r\n",
      ">ASV3\r\n",
      "TACGGAGGGAGCTAGCGTTGTTCGGAATTACTGGGCGTAAAGCGCACGTAGGCGGCTTTGTAAGTCAGAGGTGAAAGCCTGGAGCTCAACTCCAGAACTGCCTTTGAGACTGCATCGCTTGAATCCAGGAGAGGTGAGTGGAATTCCGAGTGTAGAGGTGAAATTCGTAGATATTCGGAAGAACACCAGTGGCGAAGGCGGCTCACTGGACTGGTATTGACGCTGAGGTGCGAAAGCGTGGGGAGCAAACAGG\r\n",
      ">ASV4\r\n",
      "GACATAGGTGGCGAACGTTATCCGGAATTATTGGGCGTAAAGGATGCGTAGATGGCAGAGTAAGTTACTGGTTGATGTCAAACTCAATTTGACGGAAGCTGGTAATACTGTTTTGCTAGAGGACAGGAGAGGTTGATGGAATTCTGTGTGGAGCGGTGAAATGCGTTGATCTACAGAGGAACACCAAAAAAGGCGAAGGCAGTCAACTATCCTGTTCCTGACATTGAGGCATGAAAGCGTGGGGAGCAAACCGG\r\n",
      ">ASV5\r\n",
      "TACGTAGGGCGCAAGCGTTATCCGGAATTATTGGGCGTAAAGAGCTCGTAGGCGGTTTGTCGCGTCTGCCGTGAAAGTCCGGGGCTCAACTCCGGATCTGCGGTGGGTACGGGCAGACTAGAGTGATGTAGGGGAGACTGGAATTCCTGGTGTAGCGGTGAAATGCGCAGATATCAGGAGGAACACCGATGGCGAAGGCAGGTCTCTGGGCATTAACTGACGCTGAGGAGCGAAAGCATGGGGAGCGAACAGG\r\n"
     ]
    }
   ],
   "source": [
    "!cd $workDir; head $OTUFile"
   ]
  },
  {
   "cell_type": "code",
   "execution_count": 22,
   "metadata": {},
   "outputs": [
    {
     "name": "stdout",
     "output_type": "stream",
     "text": [
      "Number of OTUs in fasta: 15600\n"
     ]
    }
   ],
   "source": [
    "!printf \"Number of OTUs in fasta: \"\n",
    "!cd $workDir; grep -c \">\" $OTUFile"
   ]
  },
  {
   "cell_type": "markdown",
   "metadata": {},
   "source": [
    "## Using SSU-Align to align seqs and masking based on alignment posterior probabilities."
   ]
  },
  {
   "cell_type": "code",
   "execution_count": null,
   "metadata": {},
   "outputs": [],
   "source": []
  },
  {
   "cell_type": "code",
   "execution_count": 30,
   "metadata": {
    "scrolled": false
   },
   "outputs": [
    {
     "name": "stdout",
     "output_type": "stream",
     "text": [
      "# _ssu-prep :: prepare SSU rRNA sequences for parallel ssu-align jobs\n",
      "# SSU-ALIGN 0.1.1 (Feb 2016)\n",
      "# Copyright (C) 2016 Howard Hughes Medical Institute\n",
      "# Freely distributed under the BSD open source license.\n",
      "# - - - - - - - - - - - - - - - - - - - - - - - - - - - - - - - - - - - -\n",
      "# command: _ssu-prep -x -f -b 50 -n bacteria --dna --rfonly /home/be68/Hyphosphere/data/3Exp/phyloseq/seqs_thresh.fasta ssu_aln 20\n",
      "# date:    Tue Sep 24 08:45:17 2019\n",
      "#\n",
      "# Validating input sequence file ... done.\n",
      "#\n",
      "# Preparing 20 ssu-align jobs ...\n",
      "# Partitioning seqs with goal of equalizing total number of nucleotides per job ...\n",
      "#\n",
      "# output file name      description                                           \n",
      "# --------------------  ------------------------------------------------------\n",
      "  ssu_aln/seqs_thresh.fasta.1  partition  1 FASTA sequence file (781 seqs; 197638 nt)\n",
      "  ssu_aln/seqs_thresh.fasta.2  partition  2 FASTA sequence file (781 seqs; 197659 nt)\n",
      "  ssu_aln/seqs_thresh.fasta.3  partition  3 FASTA sequence file (780 seqs; 197404 nt)\n",
      "  ssu_aln/seqs_thresh.fasta.4  partition  4 FASTA sequence file (780 seqs; 197425 nt)\n",
      "  ssu_aln/seqs_thresh.fasta.5  partition  5 FASTA sequence file (780 seqs; 197442 nt)\n",
      "  ssu_aln/seqs_thresh.fasta.6  partition  6 FASTA sequence file (780 seqs; 197422 nt)\n",
      "  ssu_aln/seqs_thresh.fasta.7  partition  7 FASTA sequence file (780 seqs; 197434 nt)\n",
      "  ssu_aln/seqs_thresh.fasta.8  partition  8 FASTA sequence file (780 seqs; 197421 nt)\n",
      "  ssu_aln/seqs_thresh.fasta.9  partition  9 FASTA sequence file (780 seqs; 197416 nt)\n",
      "  ssu_aln/seqs_thresh.fasta.10  partition 10 FASTA sequence file (780 seqs; 197431 nt)\n",
      "  ssu_aln/seqs_thresh.fasta.11  partition 11 FASTA sequence file (780 seqs; 197432 nt)\n",
      "  ssu_aln/seqs_thresh.fasta.12  partition 12 FASTA sequence file (780 seqs; 197428 nt)\n",
      "  ssu_aln/seqs_thresh.fasta.13  partition 13 FASTA sequence file (780 seqs; 197405 nt)\n",
      "  ssu_aln/seqs_thresh.fasta.14  partition 14 FASTA sequence file (780 seqs; 197422 nt)\n",
      "  ssu_aln/seqs_thresh.fasta.15  partition 15 FASTA sequence file (780 seqs; 197417 nt)\n",
      "  ssu_aln/seqs_thresh.fasta.16  partition 16 FASTA sequence file (780 seqs; 197391 nt)\n",
      "  ssu_aln/seqs_thresh.fasta.17  partition 17 FASTA sequence file (780 seqs; 197430 nt)\n",
      "  ssu_aln/seqs_thresh.fasta.18  partition 18 FASTA sequence file (780 seqs; 197439 nt)\n",
      "  ssu_aln/seqs_thresh.fasta.19  partition 19 FASTA sequence file (779 seqs; 197210 nt)\n",
      "  ssu_aln/seqs_thresh.fasta.20  partition 20 FASTA sequence file (779 seqs; 197205 nt)\n",
      "  ssu_aln.ssu-align.sh  shell script that will execute 20 ssu-align jobs\n",
      "#\n",
      "################################################################################\n",
      "# To execute all 20 ssu-align jobs, run the shell script with the command:\n",
      "#\t\"ssu_aln.ssu-align.sh\"\n",
      "# (it is an executable file)\n",
      "################################################################################\n",
      "#\n",
      "# The final job will merge the output from all jobs once they are all finished.\n",
      "#\n",
      "# If one or more jobs fail: rerun the failed jobs, wait for them to finish,\n",
      "# and then perform manual merge from this directory by executing:\n",
      "#\tssu-merge ssu_aln\n",
      "#\n",
      "# List of executed commands saved in:     ssu_aln/ssu_aln.ssu-prep.log.\n",
      "# Output printed to the screen saved in:  ssu_aln/ssu_aln.ssu-prep.sum.\n",
      "#\n",
      "# CPU time:  00:00:00.38  (hh:mm:ss)\n",
      "# \n"
     ]
    }
   ],
   "source": [
    "!cd $workDir; ssu-prep -n bacteria -f -x -b 50 --rfonly --dna $OTUFile ssu_aln 20"
   ]
  },
  {
   "cell_type": "code",
   "execution_count": 31,
   "metadata": {
    "scrolled": true
   },
   "outputs": [
    {
     "name": "stdout",
     "output_type": "stream",
     "text": [
      "# Executing: ssu-align -b 50 -n bacteria --dna --rfonly ssu_aln/seqs_thresh.fasta.1 ssu_aln/ssu_aln.1 > /dev/null &\n",
      "# Executing: ssu-align -b 50 -n bacteria --dna --rfonly ssu_aln/seqs_thresh.fasta.2 ssu_aln/ssu_aln.2 > /dev/null &\n",
      "# Executing: ssu-align -b 50 -n bacteria --dna --rfonly ssu_aln/seqs_thresh.fasta.3 ssu_aln/ssu_aln.3 > /dev/null &\n",
      "# Executing: ssu-align -b 50 -n bacteria --dna --rfonly ssu_aln/seqs_thresh.fasta.4 ssu_aln/ssu_aln.4 > /dev/null &\n",
      "# Executing: ssu-align -b 50 -n bacteria --dna --rfonly ssu_aln/seqs_thresh.fasta.5 ssu_aln/ssu_aln.5 > /dev/null &\n",
      "# Executing: ssu-align -b 50 -n bacteria --dna --rfonly ssu_aln/seqs_thresh.fasta.6 ssu_aln/ssu_aln.6 > /dev/null &\n",
      "# Executing: ssu-align -b 50 -n bacteria --dna --rfonly ssu_aln/seqs_thresh.fasta.7 ssu_aln/ssu_aln.7 > /dev/null &\n",
      "# Executing: ssu-align -b 50 -n bacteria --dna --rfonly ssu_aln/seqs_thresh.fasta.8 ssu_aln/ssu_aln.8 > /dev/null &\n",
      "# Executing: ssu-align -b 50 -n bacteria --dna --rfonly ssu_aln/seqs_thresh.fasta.9 ssu_aln/ssu_aln.9 > /dev/null &\n",
      "# Executing: ssu-align -b 50 -n bacteria --dna --rfonly ssu_aln/seqs_thresh.fasta.10 ssu_aln/ssu_aln.10 > /dev/null &\n",
      "# Executing: ssu-align -b 50 -n bacteria --dna --rfonly ssu_aln/seqs_thresh.fasta.11 ssu_aln/ssu_aln.11 > /dev/null &\n",
      "# Executing: ssu-align -b 50 -n bacteria --dna --rfonly ssu_aln/seqs_thresh.fasta.12 ssu_aln/ssu_aln.12 > /dev/null &\n",
      "# Executing: ssu-align -b 50 -n bacteria --dna --rfonly ssu_aln/seqs_thresh.fasta.13 ssu_aln/ssu_aln.13 > /dev/null &\n",
      "# Executing: ssu-align -b 50 -n bacteria --dna --rfonly ssu_aln/seqs_thresh.fasta.14 ssu_aln/ssu_aln.14 > /dev/null &\n",
      "# Executing: ssu-align -b 50 -n bacteria --dna --rfonly ssu_aln/seqs_thresh.fasta.15 ssu_aln/ssu_aln.15 > /dev/null &\n",
      "# Executing: ssu-align -b 50 -n bacteria --dna --rfonly ssu_aln/seqs_thresh.fasta.16 ssu_aln/ssu_aln.16 > /dev/null &\n",
      "# Executing: ssu-align -b 50 -n bacteria --dna --rfonly ssu_aln/seqs_thresh.fasta.17 ssu_aln/ssu_aln.17 > /dev/null &\n",
      "# Executing: ssu-align -b 50 -n bacteria --dna --rfonly ssu_aln/seqs_thresh.fasta.18 ssu_aln/ssu_aln.18 > /dev/null &\n",
      "# Executing: ssu-align -b 50 -n bacteria --dna --rfonly ssu_aln/seqs_thresh.fasta.19 ssu_aln/ssu_aln.19 > /dev/null &\n",
      "# Executing: ssu-align --merge 20 -b 50 -n bacteria --dna --rfonly ssu_aln/seqs_thresh.fasta.20 ssu_aln/ssu_aln.20\n",
      "# _ssu-align :: align SSU rRNA sequences\n",
      "# SSU-ALIGN 0.1.1 (Feb 2016)\n",
      "# Copyright (C) 2016 Howard Hughes Medical Institute\n",
      "# Freely distributed under the BSD open source license.\n",
      "# - - - - - - - - - - - - - - - - - - - - - - - - - - - - - - - - - - - -\n",
      "# command: _ssu-align --merge 20 -b 50 -n bacteria --dna --rfonly ssu_aln/seqs_thresh.fasta.20 ssu_aln/ssu_aln.20\n",
      "# date:    Tue Sep 24 08:45:26 2019\n",
      "#\n",
      "# Validating input sequence file ... done.\n",
      "#\n",
      "# Stage 1: Determining SSU start/end positions and best-matching models...\n",
      "#\n",
      "# output file name             description                                \n",
      "# ---------------------------  -------------------------------------------\n",
      "  ssu_aln.20.tab               locations/scores of hits defined by HMM(s)\n",
      "  ssu_aln.20.bacteria.hitlist  list of sequences to align with bacteria CM\n",
      "  ssu_aln.20.bacteria.fa           770 sequences to align with bacteria CM\n",
      "#\n",
      "# Stage 2: Aligning each sequence to its best-matching model...\n",
      "#\n",
      "# output file name             description\n",
      "# ---------------------------  ---------------------------------------\n",
      "  ssu_aln.20.bacteria.stk      bacteria alignment\n",
      "  ssu_aln.20.bacteria.cmalign  bacteria cmalign output\n",
      "  ssu_aln.20.bacteria.ifile    bacteria insert info\n",
      "  ssu_aln.20.scores            list of CM/HMM scores for each sequence\n",
      "  ssu_aln.20.nomatch           list of seqs that don't match any model\n",
      "#\n",
      "# Summary statistics:\n",
      "#\n",
      "# model or       number  fraction        average   average               \n",
      "# category      of seqs  of total         length  coverage    nucleotides\n",
      "# ------------  -------  --------  -------------  --------  -------------\n",
      "  *input*           779    1.0000         253.15    1.0000         197205\n",
      "#\n",
      "  bacteria          770    0.9884         251.11    0.9919         193352\n",
      "#\n",
      "  *all-models*      770    0.9884         251.11    0.9919         193352\n",
      "  *no-models*         9    0.0116         253.33    0.0000           2280\n",
      "#\n",
      "# Speed statistics:\n",
      "#\n",
      "# stage      num seqs  seq/sec  seq/sec/model    nucleotides    nt/sec\n",
      "# ---------  --------  -------  -------------  -------------  --------\n",
      "  search          779   29.423         29.423         197205    7448.5\n",
      "  alignment       770    7.981          7.981         193352    2004.0\n",
      "#\n",
      "#\n",
      "# List of executed commands saved in:     ssu_aln.20.ssu-align.log.\n",
      "# Output printed to the screen saved in:  ssu_aln.20.ssu-align.sum.\n",
      "#\n",
      "# All output files created in directory ./ssu_aln/ssu_aln.20/\n",
      "#\n",
      "# CPU time (search):     00:00:26.48  (hh:mm:ss)\n",
      "# CPU time (alignment):  00:01:36.48  (hh:mm:ss)\n",
      "# CPU time (total):      00:02:03.17  (hh:mm:ss)\n",
      "#\n",
      "################################################################################\n",
      "#\n",
      "# Alignments successfully created.\n",
      "#\n",
      "# Checking/waiting for other jobs to finish before merging...\n",
      "#\n",
      "# Job 19 (dir: ssu_aln/ssu_aln.19) completed successfully! 19/20 still incomplete.\n",
      "# Job 20 (dir: ssu_aln/ssu_aln.20) completed successfully! 18/20 still incomplete.\n",
      "# Job  1 (dir: ssu_aln/ssu_aln.1 ) completed successfully! 17/20 still incomplete.\n",
      "# Job  2 (dir: ssu_aln/ssu_aln.2 ) completed successfully! 16/20 still incomplete.\n",
      "# Job  3 (dir: ssu_aln/ssu_aln.3 ) completed successfully! 15/20 still incomplete.\n",
      "# Job  4 (dir: ssu_aln/ssu_aln.4 ) completed successfully! 14/20 still incomplete.\n",
      "# Job  5 (dir: ssu_aln/ssu_aln.5 ) completed successfully! 13/20 still incomplete.\n",
      "# Job  7 (dir: ssu_aln/ssu_aln.7 ) completed successfully! 12/20 still incomplete.\n",
      "# Job  8 (dir: ssu_aln/ssu_aln.8 ) completed successfully! 11/20 still incomplete.\n",
      "# Job  9 (dir: ssu_aln/ssu_aln.9 ) completed successfully! 10/20 still incomplete.\n",
      "# Job 10 (dir: ssu_aln/ssu_aln.10) completed successfully!  9/20 still incomplete.\n",
      "# Job 11 (dir: ssu_aln/ssu_aln.11) completed successfully!  8/20 still incomplete.\n",
      "# Job 12 (dir: ssu_aln/ssu_aln.12) completed successfully!  7/20 still incomplete.\n",
      "# Job 13 (dir: ssu_aln/ssu_aln.13) completed successfully!  6/20 still incomplete.\n",
      "# Job 14 (dir: ssu_aln/ssu_aln.14) completed successfully!  5/20 still incomplete.\n",
      "# Job 15 (dir: ssu_aln/ssu_aln.15) completed successfully!  4/20 still incomplete.\n",
      "# Job 16 (dir: ssu_aln/ssu_aln.16) completed successfully!  3/20 still incomplete.\n",
      "# Job 17 (dir: ssu_aln/ssu_aln.17) completed successfully!  2/20 still incomplete.\n",
      "# Job 18 (dir: ssu_aln/ssu_aln.18) completed successfully!  1/20 still incomplete.\n",
      "# Job  6 (dir: ssu_aln/ssu_aln.6 ) completed successfully!  0/20 still incomplete.\n",
      "#\n",
      "# All 20 jobs successfully completed.\n",
      "# About to merge their output:\n",
      "#\n",
      "# Executing:  ssu-merge ssu_aln\n",
      "#\n",
      "################################################################################\n",
      "#\n",
      "# _ssu-merge :: merge SSU rRNA alignments\n",
      "# SSU-ALIGN 0.1.1 (Feb 2016)\n",
      "# Copyright (C) 2016 Howard Hughes Medical Institute\n",
      "# Freely distributed under the BSD open source license.\n",
      "# - - - - - - - - - - - - - - - - - - - - - - - - - - - - - - - - - - - -\n",
      "# command: _ssu-merge ssu_aln\n",
      "# date:    Tue Sep 24 08:47:35 2019\n",
      "#\n",
      "# Merging files from 20 ssu-align runs...\n",
      "#\n",
      "#                                     # files     # seqs\n",
      "# merged file name          CM name    merged     merged\n",
      "# ------------------------  --------  -------  ---------\n",
      "  ssu_aln.tab               -              20          -\n",
      "  ssu_aln.scores            -              20          -\n",
      "  ssu_aln.nomatch           -              20          -\n",
      "  ssu_aln.ssu-align.sum     -              20          -\n",
      "  ssu_aln.ssu-align.log     -              20          -\n",
      "#\n",
      "  ssu_aln.bacteria.fa       bacteria       20      15507\n",
      "  ssu_aln.bacteria.hitlist  bacteria       20      15507\n",
      "  ssu_aln.bacteria.cmalign  bacteria       20      15507\n",
      "  ssu_aln.bacteria.ifile    bacteria       20      15507\n",
      "  ssu_aln.bacteria.stk      bacteria       20      15507\n",
      "#\n",
      "# Summary statistics:\n",
      "#\n",
      "# model or       number  fraction        average   average               \n",
      "# category      of seqs  of total         length  coverage    nucleotides\n",
      "# ------------  -------  --------  -------------  --------  -------------\n",
      "  *input*         15600    1.0000         253.11    1.0000        3948471\n",
      "#\n",
      "  bacteria        15507    0.9940         251.69    0.9944        3902978\n",
      "#\n",
      "  *all-models*    15507    0.9940         251.69    0.9944        3902978\n",
      "  *no-models*        93    0.0060         253.84    0.0000          23607\n",
      "#\n",
      "# Speed statistics:\n",
      "#\n",
      "# stage      num seqs  seq/sec  seq/sec/model    nucleotides    nt/sec\n",
      "# ---------  --------  -------  -------------  -------------  --------\n",
      "  search        15600  15600.000      15600.000        3948471  3948471.0\n",
      "  alignment     15507  15507.000      15507.000        3902978  3902978.0\n",
      "#\n",
      "# Summed ssu-align CPU time (search):     00:00:00.00  (hh:mm:ss)\n",
      "# Summed ssu-align CPU time (alignment):  00:00:00.00  (hh:mm:ss)\n",
      "# Summed ssu-align CPU time (total):      00:00:00.00  (hh:mm:ss)\n",
      "#\n"
     ]
    },
    {
     "name": "stdout",
     "output_type": "stream",
     "text": [
      "# Cleaning up by removing original files that were just merged ... done.\r\n",
      "#\r\n",
      "# List of executed commands saved in:     ssu_aln.ssu-merge.log.\r\n",
      "# Output printed to the screen saved in:  ssu_aln.ssu-merge.sum.\r\n",
      "#\r\n",
      "# All output files created in directory ./ssu_aln/\r\n",
      "#\r\n",
      "# CPU time:  00:00:00.60  (hh:mm:ss)\r\n",
      "# \r\n"
     ]
    }
   ],
   "source": [
    "!cd $workDir; ./ssu_aln.ssu-align.sh"
   ]
  },
  {
   "cell_type": "code",
   "execution_count": 32,
   "metadata": {},
   "outputs": [
    {
     "name": "stdout",
     "output_type": "stream",
     "text": [
      "# _ssu-mask :: mask SSU rRNA alignments\n",
      "# SSU-ALIGN 0.1.1 (Feb 2016)\n",
      "# Copyright (C) 2016 Howard Hughes Medical Institute\n",
      "# Freely distributed under the BSD open source license.\n",
      "# - - - - - - - - - - - - - - - - - - - - - - - - - - - - - - - - - - - -\n",
      "# command: _ssu-mask --pf 0.95 --pt 0.95 --afa --dna ssu_aln\n",
      "# date:    Tue Sep 24 09:09:33 2019\n",
      "#\n",
      "# Masking alignments based on posterior probabilities...\n",
      "#\n",
      "#                                                     mask    \n",
      "#                                                 ------------\n",
      "# file name                  in/out  type  #cols  incl.  excl.\n",
      "# -------------------------  ------  ----  -----  -----  -----\n",
      "  ssu_aln.bacteria.stk        input   aln   1582      -      -\n",
      "  ssu_aln.bacteria.mask      output  mask   1582    247   1335\n",
      "  ssu_aln.bacteria.mask.pdf  output   pdf   1582    247   1335\n",
      "  ssu_aln.bacteria.mask.afa  output   aln    247      -      -\n",
      "#\n",
      "# All attempts to draw structure diagrams of masks were successful.\n",
      "#\n",
      "# List of executed commands saved in:     ssu_aln.ssu-mask.log.\n",
      "# Output printed to the screen saved in:  ssu_aln.ssu-mask.sum.\n",
      "#\n",
      "# All output files created in directory ./ssu_aln/\n",
      "#\n",
      "# CPU time:  00:00:01.64  (hh:mm:ss)\n",
      "# \n"
     ]
    }
   ],
   "source": [
    "!cd $workDir; ssu-mask --pf 0.95 --pt 0.95 --dna --afa  ssu_aln"
   ]
  },
  {
   "cell_type": "code",
   "execution_count": 13,
   "metadata": {},
   "outputs": [],
   "source": [
    "#!cd $workDir; ~/seq_tools/seq_tools fasta_unwrap ssu_aln/ssu_aln.bacteria.mask.afa  | head"
   ]
  },
  {
   "cell_type": "code",
   "execution_count": 35,
   "metadata": {},
   "outputs": [],
   "source": [
    "# !cd $workDir; cat sso_aln/sso_aln.bacteria.mask.afa ssu_aln/ssu_aln.bacteria.mask.afa > aln_for_tree_wSulfo.fasta\n",
    "# !cd $workDir; cp ssu_aln/ssu_aln.bacteria.mask.afa  aln_for_tree.fasta\n",
    "!cd $workDir; cp ssu_aln/ssu_aln.bacteria.mask.afa  aln_for_tree.fasta"
   ]
  },
  {
   "cell_type": "code",
   "execution_count": 36,
   "metadata": {},
   "outputs": [
    {
     "name": "stdout",
     "output_type": "stream",
     "text": [
      ">ASV1\r\n",
      "TACGAAGGGGGCTAGCGTTGTTCGGATTTACTGGGCGTAAAGCGCACGTAGGCGGACTAT\r\n",
      "TAAGTCAGGGGTGAAATCCCGGGGCTCAACCCCGGAACTTTGATACTGGTAGTCTTGAGT\r\n",
      "TCGAGAGAGGTGAGTGGAATTCCGAGTGTAGAGGTGAAATTCGTAGATATTCGGAGGAAC\r\n",
      "ACCAGTGGCGAAGGCGGCTCACTGGCTCGACTGACGCTGAGGTGCGAAAGCGTGGGGAGC\r\n",
      "AAACAGG\r\n",
      ">ASV2\r\n",
      "-ACATAGGTGGCAAACATTATCCGGAATTATTGGGCGTAAAGGGTGCGTAGGCGGCATGA\r\n",
      "TAAGTTGCTGGTGGGAAATCAAGGCTCAACCTTGTGGTAGCAATACTGTCAAGCTAGAGG\r\n",
      "GCAGAAGAGGTTAACGGAACTCTATGTGGAGCGGTAAAATGTGTAGATATATAGAAGAAC\r\n"
     ]
    }
   ],
   "source": [
    "!cd $workDir; head aln_for_tree.fasta"
   ]
  },
  {
   "cell_type": "markdown",
   "metadata": {},
   "source": [
    "## Inferring and rooting the tree"
   ]
  },
  {
   "cell_type": "code",
   "execution_count": 37,
   "metadata": {},
   "outputs": [],
   "source": [
    "aln = LoadSeqs(os.path.join(workDir, 'aln_for_tree.fasta'), moltype=DNA)\n",
    "t_unroot = build_tree_from_alignment(aln, moltype=DNA)"
   ]
  },
  {
   "cell_type": "markdown",
   "metadata": {},
   "source": []
  },
  {
   "cell_type": "code",
   "execution_count": 24,
   "metadata": {},
   "outputs": [],
   "source": [
    "#t_rooted = t_unroot.rootedWithTip('X90478')"
   ]
  },
  {
   "cell_type": "code",
   "execution_count": 38,
   "metadata": {},
   "outputs": [],
   "source": [
    "t_unroot.writeToFile(os.path.join(workDir, 'Master_unrooted.tree'))"
   ]
  },
  {
   "cell_type": "markdown",
   "metadata": {},
   "source": [
    "# Tree with sulfo"
   ]
  },
  {
   "cell_type": "code",
   "execution_count": 27,
   "metadata": {},
   "outputs": [],
   "source": [
    "aln = LoadSeqs(os.path.join(workDir, 'aln_for_tree_wSulfo.fasta'), moltype=DNA)\n",
    "t_unroot = build_tree_from_alignment(aln, moltype=DNA)"
   ]
  },
  {
   "cell_type": "code",
   "execution_count": 28,
   "metadata": {},
   "outputs": [],
   "source": [
    "t_rooted = t_unroot.rootedWithTip('X90478')"
   ]
  },
  {
   "cell_type": "code",
   "execution_count": 29,
   "metadata": {},
   "outputs": [],
   "source": [
    "t_rooted.writeToFile(os.path.join(workDir, 'Master_wSulfo.tree'))"
   ]
  }
 ],
 "metadata": {
  "kernelspec": {
   "display_name": "Python 2",
   "language": "python",
   "name": "python2"
  },
  "language_info": {
   "codemirror_mode": {
    "name": "ipython",
    "version": 2
   },
   "file_extension": ".py",
   "mimetype": "text/x-python",
   "name": "python",
   "nbconvert_exporter": "python",
   "pygments_lexer": "ipython2",
   "version": "2.7.14"
  }
 },
 "nbformat": 4,
 "nbformat_minor": 2
}
