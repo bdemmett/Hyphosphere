{
 "cells": [
  {
   "cell_type": "markdown",
   "metadata": {},
   "source": [
    "# Get fasta of hyphal OTUs"
   ]
  },
  {
   "cell_type": "code",
   "execution_count": 18,
   "metadata": {
    "collapsed": true
   },
   "outputs": [],
   "source": [
    "import sys, os, re, glob\n",
    "from Bio import SeqIO, Entrez\n",
    "from pandas import *\n",
    "import numpy as np\n",
    "#import entrez.direct\n",
    "from cogent.app.fasttree import build_tree_from_alignment\n",
    "from cogent import DNA, LoadSeqs\n",
    "\n",
    "Entrez.email = \"be68@cornell.edu\"\n",
    "nprocs = 3"
   ]
  },
  {
   "cell_type": "code",
   "execution_count": 3,
   "metadata": {
    "collapsed": true
   },
   "outputs": [],
   "source": [
    "FastaSource = '/home/be68/Hyphosphere/data/MiSeq/20180129/20180130.v2.otus.fa'\n",
    "OTUlist = '/home/be68/Hyphosphere/data/HyphalOTUs.txt'"
   ]
  },
  {
   "cell_type": "code",
   "execution_count": 4,
   "metadata": {
    "scrolled": true
   },
   "outputs": [
    {
     "data": {
      "text/html": [
       "<div>\n",
       "<style scoped>\n",
       "    .dataframe tbody tr th:only-of-type {\n",
       "        vertical-align: middle;\n",
       "    }\n",
       "\n",
       "    .dataframe tbody tr th {\n",
       "        vertical-align: top;\n",
       "    }\n",
       "\n",
       "    .dataframe thead th {\n",
       "        text-align: right;\n",
       "    }\n",
       "</style>\n",
       "<table border=\"1\" class=\"dataframe\">\n",
       "  <thead>\n",
       "    <tr style=\"text-align: right;\">\n",
       "      <th></th>\n",
       "      <th>OTU</th>\n",
       "      <th>Phylum</th>\n",
       "      <th>Class</th>\n",
       "      <th>Order</th>\n",
       "      <th>Family</th>\n",
       "      <th>Genus</th>\n",
       "      <th>Species</th>\n",
       "      <th>Florence</th>\n",
       "      <th>N7</th>\n",
       "      <th>Pendelton</th>\n",
       "    </tr>\n",
       "  </thead>\n",
       "  <tbody>\n",
       "    <tr>\n",
       "      <th>1</th>\n",
       "      <td>Otu380</td>\n",
       "      <td>p_Acidobacteria</td>\n",
       "      <td>c_Acidobacteria_Gp1</td>\n",
       "      <td>g_Gp1</td>\n",
       "      <td>uncl_g_Gp1</td>\n",
       "      <td>uncl_g_Gp1</td>\n",
       "      <td>uncl_g_Gp1</td>\n",
       "      <td>2.704108</td>\n",
       "      <td>NaN</td>\n",
       "      <td>NaN</td>\n",
       "    </tr>\n",
       "    <tr>\n",
       "      <th>2</th>\n",
       "      <td>Otu2910</td>\n",
       "      <td>p_Acidobacteria</td>\n",
       "      <td>c_Acidobacteria_Gp10</td>\n",
       "      <td>uncl_c_Acidobacteria_Gp10</td>\n",
       "      <td>uncl_c_Acidobacteria_Gp10</td>\n",
       "      <td>g_Gp10</td>\n",
       "      <td>uncl_g_Gp10</td>\n",
       "      <td>5.435838</td>\n",
       "      <td>NaN</td>\n",
       "      <td>NaN</td>\n",
       "    </tr>\n",
       "    <tr>\n",
       "      <th>3</th>\n",
       "      <td>Otu754</td>\n",
       "      <td>p_Acidobacteria</td>\n",
       "      <td>c_Acidobacteria_Gp10</td>\n",
       "      <td>uncl_c_Acidobacteria_Gp10</td>\n",
       "      <td>uncl_c_Acidobacteria_Gp10</td>\n",
       "      <td>g_Gp10</td>\n",
       "      <td>uncl_g_Gp10</td>\n",
       "      <td>NaN</td>\n",
       "      <td>NaN</td>\n",
       "      <td>3.783544</td>\n",
       "    </tr>\n",
       "    <tr>\n",
       "      <th>4</th>\n",
       "      <td>Otu227</td>\n",
       "      <td>p_Acidobacteria</td>\n",
       "      <td>c_Acidobacteria_Gp17</td>\n",
       "      <td>g_Gp17</td>\n",
       "      <td>uncl_g_Gp17</td>\n",
       "      <td>uncl_g_Gp17</td>\n",
       "      <td>uncl_g_Gp17</td>\n",
       "      <td>4.332343</td>\n",
       "      <td>3.450006</td>\n",
       "      <td>3.156290</td>\n",
       "    </tr>\n",
       "    <tr>\n",
       "      <th>5</th>\n",
       "      <td>Otu411</td>\n",
       "      <td>p_Acidobacteria</td>\n",
       "      <td>c_Acidobacteria_Gp17</td>\n",
       "      <td>g_Gp17</td>\n",
       "      <td>uncl_g_Gp17</td>\n",
       "      <td>uncl_g_Gp17</td>\n",
       "      <td>uncl_g_Gp17</td>\n",
       "      <td>NaN</td>\n",
       "      <td>3.497636</td>\n",
       "      <td>3.737991</td>\n",
       "    </tr>\n",
       "  </tbody>\n",
       "</table>\n",
       "</div>"
      ],
      "text/plain": [
       "       OTU           Phylum                 Class                      Order  \\\n",
       "1   Otu380  p_Acidobacteria   c_Acidobacteria_Gp1                      g_Gp1   \n",
       "2  Otu2910  p_Acidobacteria  c_Acidobacteria_Gp10  uncl_c_Acidobacteria_Gp10   \n",
       "3   Otu754  p_Acidobacteria  c_Acidobacteria_Gp10  uncl_c_Acidobacteria_Gp10   \n",
       "4   Otu227  p_Acidobacteria  c_Acidobacteria_Gp17                     g_Gp17   \n",
       "5   Otu411  p_Acidobacteria  c_Acidobacteria_Gp17                     g_Gp17   \n",
       "\n",
       "                      Family        Genus      Species  Florence        N7  \\\n",
       "1                 uncl_g_Gp1   uncl_g_Gp1   uncl_g_Gp1  2.704108       NaN   \n",
       "2  uncl_c_Acidobacteria_Gp10       g_Gp10  uncl_g_Gp10  5.435838       NaN   \n",
       "3  uncl_c_Acidobacteria_Gp10       g_Gp10  uncl_g_Gp10       NaN       NaN   \n",
       "4                uncl_g_Gp17  uncl_g_Gp17  uncl_g_Gp17  4.332343  3.450006   \n",
       "5                uncl_g_Gp17  uncl_g_Gp17  uncl_g_Gp17       NaN  3.497636   \n",
       "\n",
       "   Pendelton  \n",
       "1        NaN  \n",
       "2        NaN  \n",
       "3   3.783544  \n",
       "4   3.156290  \n",
       "5   3.737991  "
      ]
     },
     "execution_count": 4,
     "metadata": {},
     "output_type": "execute_result"
    }
   ],
   "source": [
    "df = pandas.read_csv(OTUlist, sep = \"\\t\")\n",
    "df.head()"
   ]
  },
  {
   "cell_type": "code",
   "execution_count": 5,
   "metadata": {},
   "outputs": [
    {
     "data": {
      "text/plain": [
       "['Otu380',\n",
       " 'Otu2910',\n",
       " 'Otu754',\n",
       " 'Otu227',\n",
       " 'Otu411',\n",
       " 'Otu2986',\n",
       " 'Otu521',\n",
       " 'Otu225',\n",
       " 'Otu5803',\n",
       " 'Otu153',\n",
       " 'Otu608',\n",
       " 'Otu624',\n",
       " 'Otu1048',\n",
       " 'Otu943',\n",
       " 'Otu69',\n",
       " 'Otu44',\n",
       " 'Otu252',\n",
       " 'Otu118',\n",
       " 'Otu90',\n",
       " 'Otu188',\n",
       " 'Otu70',\n",
       " 'Otu2966',\n",
       " 'Otu64',\n",
       " 'Otu62',\n",
       " 'Otu38',\n",
       " 'Otu151',\n",
       " 'Otu82',\n",
       " 'Otu397',\n",
       " 'Otu330',\n",
       " 'Otu2129',\n",
       " 'Otu1113',\n",
       " 'Otu562',\n",
       " 'Otu478',\n",
       " 'Otu341',\n",
       " 'Otu133',\n",
       " 'Otu292',\n",
       " 'Otu432',\n",
       " 'Otu23',\n",
       " 'Otu20',\n",
       " 'Otu233',\n",
       " 'Otu347',\n",
       " 'Otu6450',\n",
       " 'Otu6634',\n",
       " 'Otu119',\n",
       " 'Otu1008',\n",
       " 'Otu1176',\n",
       " 'Otu31',\n",
       " 'Otu273',\n",
       " 'Otu213',\n",
       " 'Otu237',\n",
       " 'Otu47',\n",
       " 'Otu26',\n",
       " 'Otu142',\n",
       " 'Otu5063',\n",
       " 'Otu11',\n",
       " 'Otu27',\n",
       " 'Otu8',\n",
       " 'Otu87',\n",
       " 'Otu6713',\n",
       " 'Otu1027',\n",
       " 'Otu621',\n",
       " 'Otu916',\n",
       " 'Otu555',\n",
       " 'Otu585',\n",
       " 'Otu86',\n",
       " 'Otu127',\n",
       " 'Otu402',\n",
       " 'Otu147',\n",
       " 'Otu143',\n",
       " 'Otu52',\n",
       " 'Otu957',\n",
       " 'Otu113',\n",
       " 'Otu535',\n",
       " 'Otu454',\n",
       " 'Otu731',\n",
       " 'Otu129',\n",
       " 'Otu399',\n",
       " 'Otu126',\n",
       " 'Otu1639',\n",
       " 'Otu374',\n",
       " 'Otu160',\n",
       " 'Otu10',\n",
       " 'Otu661',\n",
       " 'Otu725',\n",
       " 'Otu242',\n",
       " 'Otu437',\n",
       " 'Otu592',\n",
       " 'Otu191',\n",
       " 'Otu5102',\n",
       " 'Otu116',\n",
       " 'Otu240',\n",
       " 'Otu534',\n",
       " 'Otu6722',\n",
       " 'Otu648',\n",
       " 'Otu696',\n",
       " 'Otu354',\n",
       " 'Otu254',\n",
       " 'Otu7',\n",
       " 'Otu604',\n",
       " 'Otu80',\n",
       " 'Otu2671',\n",
       " 'Otu335',\n",
       " 'Otu998',\n",
       " 'Otu314',\n",
       " 'Otu319',\n",
       " 'Otu196',\n",
       " 'Otu1009',\n",
       " 'Otu278',\n",
       " 'Otu45',\n",
       " 'Otu84',\n",
       " 'Otu2974',\n",
       " 'Otu677',\n",
       " 'Otu373',\n",
       " 'Otu560',\n",
       " 'Otu558',\n",
       " 'Otu24',\n",
       " 'Otu51',\n",
       " 'Otu396',\n",
       " 'Otu519',\n",
       " 'Otu527',\n",
       " 'Otu334',\n",
       " 'Otu515',\n",
       " 'Otu682',\n",
       " 'Otu507',\n",
       " 'Otu434',\n",
       " 'Otu818']"
      ]
     },
     "execution_count": 5,
     "metadata": {},
     "output_type": "execute_result"
    }
   ],
   "source": [
    "OTUoi = df.OTU.tolist()\n",
    "OTUoi"
   ]
  },
  {
   "cell_type": "code",
   "execution_count": 14,
   "metadata": {
    "collapsed": true
   },
   "outputs": [],
   "source": [
    "output = open(\"/home/be68/Hyphosphere/data/HyphalOTUs.fa\", \"w\")\n",
    "\n",
    "for record in SeqIO.parse(open(FastaSource, \"rU\"), \"fasta\") :\n",
    "    if record.id in OTUoi:\n",
    "        output.write(\">\"+record.id+\"\\n\"+str(record.seq)+\"\\n\")"
   ]
  },
  {
   "cell_type": "code",
   "execution_count": 20,
   "metadata": {
    "collapsed": true
   },
   "outputs": [],
   "source": [
    "OTUfasta = \"/home/be68/Hyphosphere/data/HyphalOTUs.fa\""
   ]
  },
  {
   "cell_type": "markdown",
   "metadata": {},
   "source": [
    "## Using SSU-Align to seqs from hyphal samples and mask based on alignment posterior probabilities."
   ]
  },
  {
   "cell_type": "code",
   "execution_count": 29,
   "metadata": {},
   "outputs": [
    {
     "name": "stdout",
     "output_type": "stream",
     "text": [
      ">Otu7\n",
      "TACGGAGGGTGCAAGCGTTAATCGGAATTACTGGGCGTAAAGCGCACGTAGGTGGTTTGTTAAGCTAGCTGTGAAATCCCCGGGCTCAACCTGGGCACTGCAGTTAGAACTGGCAAGCTAGAGTAGGGTAGAGGGGTGTGGAATTCCAGGTGTAGCGGTGAAATGCGTAGATATCTGGAGGAACATCAGTGGCGAAGGCGACACCCTGGACTCATACTGACACTGAGGTGCGAAAGCGTGGGGAGCAAACAGG\n",
      ">Otu8\n",
      "TACGTAGGGTGCAAGCGTTAATCGGAATTACTGGGCGTAAAGCGTGCGCAGGCGGTTATGCAAGACAGATGTGAAATCCCCGGGCTCAACCTGGGAACTGCATTTGTGACTGCATGGCTAGAGTACGGCAGAGGGGGATGGAATTCCGCGTGTAGCAGTGAAATGCGTAGATATGCGGAGGAACACCGATGGCGAAGGCAATCCCCTGGGCCTGTACTGACGCTCATGCACGAAAGCGTGGGGAGCAAACAGG\n",
      ">Otu10\n",
      "TACGAAGGGTGCAAACGTTGCTCGGAATCATTGGGCGTAAAGCGCACGTAGGCGGCTTTGCAAGTCGGATGTGAAATCCCGTGGCTCAACCATGGACGTGCATTCGAAACTGCAAAGCTTGAGTATGGAAGAGGGTCGCGGAATTCCCGGTGTAGAGGTGAAATTCGTAGATATCGGGAGGAACACCAGTGGCGAAGGCGGCGACCTGGGCCAATACTGACGCTGAGGTGCGAAAGCGTGGGGAGCAAACAGG\n",
      ">Otu11\n",
      "TACGTAGGGTGCAAGCGTTAATCGGAATTACTGGGCGTAAAGCGTGCGCAGGCGGTTGTGTAAGTCAGATGTGAAATCCCCGGGCTCAACCTGGGAATTGCATTTGAGACTGCACGGCTAGAGTGTGTCAGAGGGGGGTAGAATTCCACGTGTAGCAGTGAAATGCGTAGATATGTGGAGGAATACCGATGGCGAAGGCAGCCCCCTGGGATAACACTGACGCTCATGCACGAAAGCGTGGGGAGCAAACAGG\n",
      ">Otu20\n",
      "TACGAAGGGGGCTAGCGTTGTTCGGAATTACTGGGCGTAAAGCGCACGTAGGCGGATATTTAAGTCAGGGGTGAAATCCCAGAGCTCAACTCTGGAACTGCCTTTGATACTGGGTATCTTGAGTATGGAAGAGGTAAGTGGAATTCCGAGTGTAGAGGTGAAATTCGTAGATATTCGGAGGAACACCAGTGGCGAAGGCGGCTTACTGGTCCATTACTGACGCTGAGGTGCGAAAGCGTGGGGAGCAAACAGG\n",
      ">Otu23\n",
      "TACGAAGGGGGCTAGCGTTGTTCGGATTTACTGGGCGTAAAGCGCACGTAGGCGGATCGTTAAGTCGGGGGTGAAATCCTGGAGCTCAACTCCAGAACTGCCTTCGATACTGGCGATCTTGAGTCCGGAAGAGGTGAGTGGAACTCCTAGTGTAGAGGTGGAATTCGTAGATATTAGGAAGAACACCAGTGGCGAAGGCGGCTCACTGGTCCGGTACTGACGCTGAGGTGCGAAAGCGTGGGGAGCAAACAGG\n",
      ">Otu24\n",
      "GACAGAGGGTGCAAACGTTGCTCGGAATCACTGGGCGTAAAGGGCGTGTAGGCGGGAAGGAAAGTCAGATGTGAAATCCCTGGGCTCAACCCAGGAACTGCATTTGAAACTCCCTTTCTTGAGTGTCGGAGAGGAAAGTGGAATTCCTGGTGTAGAGGTGAAATTCGTAGATATCAGGAGGAACACCGGTGGCGAAGGCGGCTTTCTGGACGACAACTGACGCTGAGACGCGAAAGCGTGGGGAGCAAACAGG\n",
      ">Otu26\n"
     ]
    }
   ],
   "source": [
    "%%bash -s \"$OTUfasta\"\n",
    "head $1 -n 15"
   ]
  },
  {
   "cell_type": "code",
   "execution_count": 30,
   "metadata": {
    "collapsed": true
   },
   "outputs": [],
   "source": [
    "workDir = '/home/be68/Hyphosphere/data/SamTree'"
   ]
  },
  {
   "cell_type": "code",
   "execution_count": 31,
   "metadata": {
    "collapsed": true
   },
   "outputs": [],
   "source": [
    "if not os.path.isdir(workDir):\n",
    "    os.mkdir(workDir)"
   ]
  },
  {
   "cell_type": "code",
   "execution_count": 32,
   "metadata": {
    "collapsed": true
   },
   "outputs": [],
   "source": [
    "os.chdir(workDir)"
   ]
  },
  {
   "cell_type": "code",
   "execution_count": 33,
   "metadata": {},
   "outputs": [
    {
     "name": "stdout",
     "output_type": "stream",
     "text": [
      "# _ssu-prep :: prepare SSU rRNA sequences for parallel ssu-align jobs\n",
      "# SSU-ALIGN 0.1.1 (Feb 2016)\n",
      "# Copyright (C) 2016 Howard Hughes Medical Institute\n",
      "# Freely distributed under the BSD open source license.\n",
      "# - - - - - - - - - - - - - - - - - - - - - - - - - - - - - - - - - - - -\n",
      "# command: _ssu-prep -x -f -b 50 --dna --rfonly /home/be68/Hyphosphere/data/HyphalOTUs.fa ssu_aln 1\n",
      "# date:    Sun Aug  5 16:17:24 2018\n",
      "#\n",
      "# Validating input sequence file ... done.\n",
      "#\n",
      "# Preparing 1 ssu-align jobs ...\n",
      "# Partitioning seqs with goal of equalizing total number of nucleotides per job ...\n",
      "#\n",
      "# output file name      description                                         \n",
      "# --------------------  ----------------------------------------------------\n",
      "  ssu_aln/HyphalOTUs.fa.1  partition 1 FASTA sequence file (126 seqs; 31879 nt)\n",
      "  ssu_aln.ssu-align.sh  shell script that will execute 1 ssu-align jobs\n",
      "#\n",
      "################################################################################\n",
      "# To execute all 1 ssu-align jobs, run the shell script with the command:\n",
      "#\t\"ssu_aln.ssu-align.sh\"\n",
      "# (it is an executable file)\n",
      "################################################################################\n",
      "#\n",
      "# The final job will merge the output from all jobs once they are all finished.\n",
      "#\n",
      "# If one or more jobs fail: rerun the failed jobs, wait for them to finish,\n",
      "# and then perform manual merge from this directory by executing:\n",
      "#\tssu-merge ssu_aln\n",
      "#\n",
      "# List of executed commands saved in:     ssu_aln/ssu_aln.ssu-prep.log.\n",
      "# Output printed to the screen saved in:  ssu_aln/ssu_aln.ssu-prep.sum.\n",
      "#\n",
      "# CPU time:  00:00:00.13  (hh:mm:ss)\n",
      "# \n"
     ]
    }
   ],
   "source": [
    "%%bash -s \"$OTUfasta\"\n",
    "ssu-prep -f -x -b 50 --rfonly --dna $1 ssu_aln 1"
   ]
  },
  {
   "cell_type": "code",
   "execution_count": 34,
   "metadata": {},
   "outputs": [
    {
     "name": "stdout",
     "output_type": "stream",
     "text": [
      "# Executing: ssu-align --merge 1 -b 50 --dna --rfonly ssu_aln/HyphalOTUs.fa.1 ssu_aln/ssu_aln.1\n",
      "# _ssu-align :: align SSU rRNA sequences\n",
      "# SSU-ALIGN 0.1.1 (Feb 2016)\n",
      "# Copyright (C) 2016 Howard Hughes Medical Institute\n",
      "# Freely distributed under the BSD open source license.\n",
      "# - - - - - - - - - - - - - - - - - - - - - - - - - - - - - - - - - - - -\n",
      "# command: _ssu-align --merge 1 -b 50 --dna --rfonly ssu_aln/HyphalOTUs.fa.1 ssu_aln/ssu_aln.1\n",
      "# date:    Sun Aug  5 16:17:46 2018\n",
      "#\n",
      "# Validating input sequence file ... done.\n",
      "#\n",
      "# Stage 1: Determining SSU start/end positions and best-matching models...\n",
      "#\n",
      "# output file name            description                                \n",
      "# --------------------------  -------------------------------------------\n",
      "  ssu_aln.1.tab               locations/scores of hits defined by HMM(s)\n",
      "  ssu_aln.1.bacteria.hitlist  list of sequences to align with bacteria CM\n",
      "  ssu_aln.1.bacteria.fa           126 sequences to align with bacteria CM\n",
      "#\n",
      "# Stage 2: Aligning each sequence to its best-matching model...\n",
      "#\n",
      "# output file name            description\n",
      "# --------------------------  ---------------------------------------\n",
      "  ssu_aln.1.bacteria.stk      bacteria alignment\n",
      "  ssu_aln.1.bacteria.cmalign  bacteria cmalign output\n",
      "  ssu_aln.1.bacteria.ifile    bacteria insert info\n",
      "  ssu_aln.1.scores            list of CM/HMM scores for each sequence\n",
      "#\n",
      "# Summary statistics:\n",
      "#\n",
      "# model or       number  fraction        average   average               \n",
      "# category      of seqs  of total         length  coverage    nucleotides\n",
      "# ------------  -------  --------  -------------  --------  -------------\n",
      "  *input*           126    1.0000         253.01    1.0000          31879\n",
      "#\n",
      "  archaea             0    0.0000              -         -              0\n",
      "  bacteria          126    1.0000         252.57    0.9983          31824\n",
      "  eukarya             0    0.0000              -         -              0\n",
      "#\n",
      "  *all-models*      126    1.0000         252.57    0.9983          31824\n",
      "  *no-models*         0    0.0000              -         -              0\n",
      "#\n",
      "# Speed statistics:\n",
      "#\n",
      "# stage      num seqs  seq/sec  seq/sec/model    nucleotides    nt/sec\n",
      "# ---------  --------  -------  -------------  -------------  --------\n",
      "  search          126   10.764          3.588          31879    2723.4\n",
      "  alignment       126    7.961          7.961          31824    2010.7\n",
      "#\n",
      "#\n",
      "# List of executed commands saved in:     ssu_aln.1.ssu-align.log.\n",
      "# Output printed to the screen saved in:  ssu_aln.1.ssu-align.sum.\n",
      "#\n",
      "# All output files created in directory ./ssu_aln/ssu_aln.1/\n",
      "#\n",
      "# CPU time (search):     00:00:11.71  (hh:mm:ss)\n",
      "# CPU time (alignment):  00:00:15.83  (hh:mm:ss)\n",
      "# CPU time (total):      00:00:27.75  (hh:mm:ss)\n",
      "#\n",
      "################################################################################\n",
      "#\n",
      "# Alignments successfully created.\n",
      "#\n",
      "# Checking/waiting for other jobs to finish before merging...\n",
      "#\n",
      "# Job 1 (dir: ssu_aln/ssu_aln.1) completed successfully! 0/1 still incomplete.\n",
      "#\n",
      "# All 1 jobs successfully completed.\n",
      "# About to merge their output:\n",
      "#\n",
      "# Executing:  ssu-merge ssu_aln\n",
      "#\n",
      "################################################################################\n",
      "#\n",
      "# _ssu-merge :: merge SSU rRNA alignments\n",
      "# SSU-ALIGN 0.1.1 (Feb 2016)\n",
      "# Copyright (C) 2016 Howard Hughes Medical Institute\n",
      "# Freely distributed under the BSD open source license.\n",
      "# - - - - - - - - - - - - - - - - - - - - - - - - - - - - - - - - - - - -\n",
      "# command: _ssu-merge ssu_aln\n",
      "# date:    Sun Aug  5 16:18:14 2018\n",
      "#\n",
      "# Merging files from 1 ssu-align runs...\n",
      "#\n",
      "#                                     # files     # seqs\n",
      "# merged file name          CM name    merged     merged\n",
      "# ------------------------  --------  -------  ---------\n",
      "  ssu_aln.tab               -               1          -\n",
      "  ssu_aln.scores            -               1          -\n",
      "  ssu_aln.ssu-align.sum     -               1          -\n",
      "  ssu_aln.ssu-align.log     -               1          -\n",
      "#\n",
      "  ssu_aln.bacteria.fa       bacteria        1        126\n",
      "  ssu_aln.bacteria.hitlist  bacteria        1        126\n",
      "  ssu_aln.bacteria.cmalign  bacteria        1        126\n",
      "  ssu_aln.bacteria.ifile    bacteria        1        126\n",
      "  ssu_aln.bacteria.stk      bacteria        1        126\n",
      "#\n",
      "#\n",
      "# Summary statistics:\n",
      "#\n",
      "# model or       number  fraction        average   average               \n",
      "# category      of seqs  of total         length  coverage    nucleotides\n",
      "# ------------  -------  --------  -------------  --------  -------------\n",
      "  *input*           126    1.0000         253.01    1.0000          31879\n",
      "#\n",
      "  archaea             0    0.0000              -         -              0\n",
      "  bacteria          126    1.0000         252.57    0.9983          31824\n",
      "  eukarya             0    0.0000              -         -              0\n",
      "#\n",
      "  *all-models*      126    1.0000         252.57    0.9983          31824\n",
      "  *no-models*         0    0.0000              -         -              0\n",
      "#\n",
      "# Speed statistics:\n",
      "#\n",
      "# stage      num seqs  seq/sec  seq/sec/model    nucleotides    nt/sec\n",
      "# ---------  --------  -------  -------------  -------------  --------\n",
      "  search          126  126.000         42.000          31879   31879.0\n",
      "  alignment       126  126.000        126.000          31824   31824.0\n",
      "#\n",
      "# Summed ssu-align CPU time (search):     00:00:00.00  (hh:mm:ss)\n",
      "# Summed ssu-align CPU time (alignment):  00:00:00.00  (hh:mm:ss)\n",
      "# Summed ssu-align CPU time (total):      00:00:00.00  (hh:mm:ss)\n",
      "#\n",
      "# Cleaning up by removing original files that were just merged ... done.\n",
      "#\n",
      "# List of executed commands saved in:     ssu_aln.ssu-merge.log.\n",
      "# Output printed to the screen saved in:  ssu_aln.ssu-merge.sum.\n",
      "#\n",
      "# All output files created in directory ./ssu_aln/\n",
      "#\n",
      "# CPU time:  00:00:00.11  (hh:mm:ss)\n",
      "# \n"
     ]
    }
   ],
   "source": [
    "%%bash\n",
    "./ssu_aln.ssu-align.sh"
   ]
  },
  {
   "cell_type": "code",
   "execution_count": 35,
   "metadata": {},
   "outputs": [
    {
     "name": "stdout",
     "output_type": "stream",
     "text": [
      "# _ssu-mask :: mask SSU rRNA alignments\n",
      "# SSU-ALIGN 0.1.1 (Feb 2016)\n",
      "# Copyright (C) 2016 Howard Hughes Medical Institute\n",
      "# Freely distributed under the BSD open source license.\n",
      "# - - - - - - - - - - - - - - - - - - - - - - - - - - - - - - - - - - - -\n",
      "# command: _ssu-mask --afa --dna ssu_aln\n",
      "# date:    Sun Aug  5 16:18:14 2018\n",
      "#\n",
      "# Masking alignments based on posterior probabilities...\n",
      "#\n",
      "#                                                     mask    \n",
      "#                                                 ------------\n",
      "# file name                  in/out  type  #cols  incl.  excl.\n",
      "# -------------------------  ------  ----  -----  -----  -----\n",
      "  ssu_aln.bacteria.stk        input   aln   1582      -      -\n",
      "  ssu_aln.bacteria.mask      output  mask   1582    250   1332\n",
      "  ssu_aln.bacteria.mask.pdf  output   pdf   1582    250   1332\n",
      "  ssu_aln.bacteria.mask.afa  output   aln    250      -      -\n",
      "#\n",
      "# All attempts to draw structure diagrams of masks were successful.\n",
      "#\n",
      "# List of executed commands saved in:     ssu_aln.ssu-mask.log.\n",
      "# Output printed to the screen saved in:  ssu_aln.ssu-mask.sum.\n",
      "#\n",
      "# All output files created in directory ./ssu_aln/\n",
      "#\n",
      "# CPU time:  00:00:01.22  (hh:mm:ss)\n",
      "# \n"
     ]
    }
   ],
   "source": [
    "!ssu-mask --dna --afa ssu_aln"
   ]
  },
  {
   "cell_type": "markdown",
   "metadata": {},
   "source": [
    "### align Sam's sequences"
   ]
  },
  {
   "cell_type": "code",
   "execution_count": null,
   "metadata": {
    "collapsed": true
   },
   "outputs": [],
   "source": []
  },
  {
   "cell_type": "code",
   "execution_count": 43,
   "metadata": {},
   "outputs": [],
   "source": [
    "!mv ssu_aln/ssu_aln.bacteria.mask.afa aln_for_tree.fasta"
   ]
  },
  {
   "cell_type": "code",
   "execution_count": 44,
   "metadata": {},
   "outputs": [
    {
     "name": "stdout",
     "output_type": "stream",
     "text": [
      ">Otu7\r\n",
      "TACGGAGGGTGCAAGCGTTAATCGGAATTACTGGGCGTAAAGCGCACGTAGGTGGTTTGT\r\n",
      "TAAGCTAGCTGTGAAATCCCCGGGCTCAACCTGGGCACTGCAGTTAGAACTGGCAAGCTA\r\n",
      "GAGTAGGGTAGAGGGGTGTGGAATTCCAGGTGTAGCGGTGAAATGCGTAGATATCTGGAG\r\n",
      "GAACATCAGTGGCGAAGGCGACACCCTGGACTACTGACACTGAGGTGCGAAAGCGTGGGG\r\n",
      "AGCAAACAGG\r\n",
      ">Otu8\r\n",
      "TACGTAGGGTGCAAGCGTTAATCGGAATTACTGGGCGTAAAGCGTGCGCAGGCGGTTATG\r\n",
      "CAAGACAGATGTGAAATCCCCGGGCTCAACCTGGGAACTGCATTTGTGACTGCATGGCTA\r\n",
      "GAGTACGGCAGAGGGGGATGGAATTCCGCGTGTAGCAGTGAAATGCGTAGATATGCGGAG\r\n",
      "GAACACCGATGGCGAAGGCAATCCCCTGGGCCACTGACGCTCATGCACGAAAGCGTGGGG\r\n",
      "AGCAAACAGG\r\n",
      ">Otu10\r\n",
      "TACGAAGGGTGCAAACGTTGCTCGGAATCATTGGGCGTAAAGCGCACGTAGGCGGCTTTG\r\n",
      "CAAGTCGGATGTGAAATCCCGTGGCTCAACCATGGACGTGCATTCGAAACTGCAAAGCTT\r\n",
      "GAGTATGGAAGAGGGTCGCGGAATTCCCGGTGTAGAGGTGAAATTCGTAGATATCGGGAG\r\n",
      "GAACACCAGTGGCGAAGGCGGCGACCTGGGCCACTGACGCTGAGGTGCGAAAGCGTGGGG\r\n",
      "AGCAAACAGG\r\n",
      ">Otu11\r\n",
      "TACGTAGGGTGCAAGCGTTAATCGGAATTACTGGGCGTAAAGCGTGCGCAGGCGGTTGTG\r\n"
     ]
    }
   ],
   "source": [
    "!head aln_for_tree.fasta -n 20"
   ]
  },
  {
   "cell_type": "markdown",
   "metadata": {},
   "source": [
    "## Inferring and rooting the tree"
   ]
  },
  {
   "cell_type": "code",
   "execution_count": 45,
   "metadata": {
    "collapsed": true
   },
   "outputs": [],
   "source": [
    "#aln = LoadSeqs(os.path.join(workDir, 'aln_for_tree.fasta'), moltype=DNA)\n",
    "aln = LoadSeqs('aln_for_tree.fasta', moltype=DNA)\n",
    "t_unroot = build_tree_from_alignment(aln, moltype=DNA)"
   ]
  },
  {
   "cell_type": "code",
   "execution_count": 46,
   "metadata": {
    "collapsed": true
   },
   "outputs": [],
   "source": [
    "t_unroot.writeToFile('HyphalOTUs.tree')"
   ]
  }
 ],
 "metadata": {
  "kernelspec": {
   "display_name": "Python 2",
   "language": "python",
   "name": "python2"
  },
  "language_info": {
   "codemirror_mode": {
    "name": "ipython",
    "version": 2
   },
   "file_extension": ".py",
   "mimetype": "text/x-python",
   "name": "python",
   "nbconvert_exporter": "python",
   "pygments_lexer": "ipython2",
   "version": "2.7.14"
  }
 },
 "nbformat": 4,
 "nbformat_minor": 2
}
