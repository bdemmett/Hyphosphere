{
 "cells": [
  {
   "cell_type": "markdown",
   "metadata": {},
   "source": [
    "# Assign taxonomy with QIIME"
   ]
  },
  {
   "cell_type": "code",
   "execution_count": 1,
   "metadata": {
    "collapsed": true
   },
   "outputs": [],
   "source": [
    "dbDir = \"/home/be68/databases/\"\n",
    "workDir = \"/home/be68/GvGenome/16S/\""
   ]
  },
  {
   "cell_type": "code",
   "execution_count": 2,
   "metadata": {
    "collapsed": true
   },
   "outputs": [],
   "source": [
    "import sys\n",
    "import os"
   ]
  },
  {
   "cell_type": "code",
   "execution_count": 3,
   "metadata": {},
   "outputs": [
    {
     "name": "stdout",
     "output_type": "stream",
     "text": [
      "usearch v10.0.240_i86linux32, 4.0Gb RAM (132Gb total), 64 cores\n",
      "(C) Copyright 2013-17 Robert C. Edgar, all rights reserved.\n",
      "http://drive5.com/usearch\n",
      "\n",
      "License: be68@cornell.edu\n",
      "\n"
     ]
    },
    {
     "name": "stderr",
     "output_type": "stream",
     "text": [
      "00:01 37Mb      0.1% Reading /home/be68/databases//rdp_16s_v16_sp.fa\r",
      "00:01 61Mb    100.0% Reading /home/be68/databases//rdp_16s_v16_sp.fa\r\n",
      "00:01 28Mb      0.1% Masking (fastnucleo)                           \r",
      "00:02 28Mb     61.9% Masking (fastnucleo)\r",
      "00:02 28Mb    100.0% Masking (fastnucleo)\r\n",
      "00:02 28Mb      0.1% Word stats          \r",
      "00:03 28Mb     48.9% Word stats\r",
      "00:03 28Mb    100.0% Word stats\r\n",
      "00:03 28Mb    100.0% Alloc rows\r\n",
      "00:03 99Mb      0.1% Build index\r",
      "00:04 99Mb      0.2% Build index\r",
      "00:05 99Mb     35.3% Build index\r",
      "00:06 99Mb     81.4% Build index\r",
      "00:06 99Mb    100.0% Build index\r\n",
      "00:06 99Mb      0.0% Initialize taxonomy data\r",
      "00:06 101Mb   100.0% Initialize taxonomy data\r\n",
      "00:06 101Mb     0.0% Building name table     \r",
      "00:06 101Mb   100.0% Building name table\r\n",
      "00:06 101Mb  14470 names, tax levels min 3, avg 6.7, max 7\n",
      "\n",
      "WARNING: 2 taxonomy nodes have >1 parent\n",
      "\n",
      "00:06 135Mb  CPU has 64 cores, defaulting to 10 threads\n",
      "00:06 135Mb     0.1% Processing\r",
      "00:07 224Mb    91.8% Processing\r",
      "00:07 224Mb   100.0% Processing\r\n"
     ]
    }
   ],
   "source": [
    "%%bash -s \"$workDir\" \"$dbDir\"\n",
    "cd $1\n",
    "\n",
    "usearch -sintax $1contigs_scaf.final.16SrRNA.fasta -db $2/rdp_16s_v16_sp.fa -strand both \\\n",
    "  -tabbedout sintax.txt -sintax_cutoff 0.8"
   ]
  },
  {
   "cell_type": "code",
   "execution_count": 4,
   "metadata": {},
   "outputs": [
    {
     "name": "stdout",
     "output_type": "stream",
     "text": [
      "16S_rRNA::scaffold577|size86851:82912-84395(+)\td:Bacteria(1.0000),p:\"Proteobacteria\"(1.0000),c:Alphaproteobacteria(1.0000),o:Sphingomonadales(0.9900),f:Sphingomonadaceae(0.8900),g:Sphingomonas(0.2900),s:Sandaracinobacter_sibiricus(0.1500)\t+\td:Bacteria,p:\"Proteobacteria\",c:Alphaproteobacteria,o:Sphingomonadales,f:Sphingomonadaceae\n",
      "16S_rRNA::scaffold2|size1809687:220598-222130(+)\td:Bacteria(1.0000),p:\"Proteobacteria\"(1.0000),c:Gammaproteobacteria(1.0000),o:Pseudomonadales(1.0000),f:Pseudomonadaceae(1.0000),g:Pseudomonas(1.0000),s:Pseudomonas_alcaligenes(0.5100)\t+\td:Bacteria,p:\"Proteobacteria\",c:Gammaproteobacteria,o:Pseudomonadales,f:Pseudomonadaceae,g:Pseudomonas\n",
      "16S_rRNA::scaffold1|size3255459:671851-673383(+)\td:Bacteria(1.0000),p:\"Proteobacteria\"(1.0000),c:Gammaproteobacteria(1.0000),o:Pseudomonadales(1.0000),f:Pseudomonadaceae(1.0000),g:Pseudomonas(1.0000),s:Pseudomonas_moraviensis(0.4200)\t+\td:Bacteria,p:\"Proteobacteria\",c:Gammaproteobacteria,o:Pseudomonadales,f:Pseudomonadaceae,g:Pseudomonas\n",
      "16S_rRNA::scaffold8768|size5468:1906-3463(+)\td:Bacteria(1.0000),p:Firmicutes(1.0000),c:Negativicutes(1.0000),o:Selenomonadales(1.0000),f:Veillonellaceae(1.0000),g:Pelosinus(0.9700),s:Pelosinus_propionicus(0.5200)\t+\td:Bacteria,p:Firmicutes,c:Negativicutes,o:Selenomonadales,f:Veillonellaceae,g:Pelosinus\n",
      "16S_rRNA::scaffold20090|size1992:56-1588(-)\td:Bacteria(1.0000),p:\"Proteobacteria\"(1.0000),c:Gammaproteobacteria(1.0000),o:Pseudomonadales(1.0000),f:Pseudomonadaceae(1.0000),g:Pseudomonas(1.0000),s:Pseudomonas_moraviensis(0.4200)\t+\td:Bacteria,p:\"Proteobacteria\",c:Gammaproteobacteria,o:Pseudomonadales,f:Pseudomonadaceae,g:Pseudomonas\n",
      "16S_rRNA::scaffold2344|size26567:20194-21716(+)\td:Bacteria(1.0000),p:\"Actinobacteria\"(1.0000),c:Actinobacteria(1.0000),o:Actinomycetales(1.0000),f:Microbacteriaceae(1.0000),g:Microbacterium(1.0000),s:Microbacterium_oxydans(0.2600)\t+\td:Bacteria,p:\"Actinobacteria\",c:Actinobacteria,o:Actinomycetales,f:Microbacteriaceae,g:Microbacterium\n",
      "16S_rRNA::scaffold8384|size6129:2982-4523(-)\td:Bacteria(1.0000),p:\"Proteobacteria\"(1.0000),c:Gammaproteobacteria(1.0000),o:Xanthomonadales(1.0000),f:Xanthomonadaceae(1.0000),g:Pseudoxanthomonas(0.9100),s:Pseudoxanthomonas_mexicana(0.8800)\t+\td:Bacteria,p:\"Proteobacteria\",c:Gammaproteobacteria,o:Xanthomonadales,f:Xanthomonadaceae,g:Pseudoxanthomonas,s:Pseudoxanthomonas_mexicana\n",
      "16S_rRNA::scaffold9207|size4956:2535-4058(-)\td:Bacteria(1.0000),p:\"Actinobacteria\"(1.0000),c:Actinobacteria(1.0000),o:Actinomycetales(1.0000),f:Streptomycetaceae(1.0000),g:Streptomyces(1.0000),s:Streptomyces_griseorubiginosus(0.4400)\t+\td:Bacteria,p:\"Actinobacteria\",c:Actinobacteria,o:Actinomycetales,f:Streptomycetaceae,g:Streptomyces\n",
      "16S_rRNA::scaffold8|size916217:62807-64322(+)\td:Bacteria(1.0000),p:\"Actinobacteria\"(1.0000),c:Actinobacteria(1.0000),o:Actinomycetales(1.0000),f:Pseudonocardiaceae(0.9900),g:Lentzea(0.8400),s:Lentzea_violacea(0.2900)\t+\td:Bacteria,p:\"Actinobacteria\",c:Actinobacteria,o:Actinomycetales,f:Pseudonocardiaceae,g:Lentzea\n",
      "16S_rRNA::scaffold7956|size6385:1053-2602(+)\td:Bacteria(1.0000),p:Firmicutes(1.0000),c:Bacilli(1.0000),o:Bacillales(1.0000),f:Paenibacillaceae_1(1.0000),g:Paenibacillus(1.0000),s:Paenibacillus_xylanexedens(0.2400)\t+\td:Bacteria,p:Firmicutes,c:Bacilli,o:Bacillales,f:Paenibacillaceae_1,g:Paenibacillus\n"
     ]
    }
   ],
   "source": [
    "%%bash -s \"$workDir\" \"$dbDir\"\n",
    "cd $1\n",
    "head sintax.txt"
   ]
  },
  {
   "cell_type": "code",
   "execution_count": null,
   "metadata": {
    "collapsed": true
   },
   "outputs": [],
   "source": []
  },
  {
   "cell_type": "code",
   "execution_count": null,
   "metadata": {
    "collapsed": true
   },
   "outputs": [],
   "source": []
  }
 ],
 "metadata": {
  "kernelspec": {
   "display_name": "Python 2",
   "language": "python",
   "name": "python2"
  },
  "language_info": {
   "codemirror_mode": {
    "name": "ipython",
    "version": 2
   },
   "file_extension": ".py",
   "mimetype": "text/x-python",
   "name": "python",
   "nbconvert_exporter": "python",
   "pygments_lexer": "ipython2",
   "version": "2.7.14"
  }
 },
 "nbformat": 4,
 "nbformat_minor": 2
}
