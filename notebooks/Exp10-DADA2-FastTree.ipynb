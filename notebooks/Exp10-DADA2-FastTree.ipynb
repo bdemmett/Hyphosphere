{
 "cells": [
  {
   "cell_type": "markdown",
   "metadata": {},
   "source": [
    "# Fast Tree of DADA2 ASVs\n",
    "* Tree building from alignment using DADA2 sequences from Exp10.  \n",
    "* Fasta has already been thresholded to reduce computational demand\n",
    "* Use qiime environment and set kernel to Python 2"
   ]
  },
  {
   "cell_type": "code",
   "execution_count": 1,
   "metadata": {
    "collapsed": true
   },
   "outputs": [],
   "source": [
    "workDir = '/home/be68/Hyphosphere/Exp10/DADA2/'\n",
    "OTUFileDir = '/home/be68/Hyphosphere/Exp10/DADA2/'\n",
    "OTUFile = 'seqs_thresh.fasta'\n",
    "\n",
    "\n",
    "nprocs = 3"
   ]
  },
  {
   "cell_type": "code",
   "execution_count": 2,
   "metadata": {
    "collapsed": true
   },
   "outputs": [],
   "source": [
    "import os\n",
    "import numpy as np\n",
    "#import entrez.direct\n",
    "from cogent.app.fasttree import build_tree_from_alignment\n",
    "from cogent import DNA, LoadSeqs\n",
    "from Bio import Entrez\n",
    "Entrez.email = \"be68@cornell.edu\"\n",
    "#from IPython.display import display, Image, SVG\n",
    "#from cogent3 import LoadSeqs, FastTree\n"
   ]
  },
  {
   "cell_type": "code",
   "execution_count": 3,
   "metadata": {
    "collapsed": true
   },
   "outputs": [],
   "source": [
    "#%load_ext rpy2.ipython"
   ]
  },
  {
   "cell_type": "code",
   "execution_count": 4,
   "metadata": {
    "collapsed": true
   },
   "outputs": [],
   "source": [
    "if not os.path.isdir(workDir):\n",
    "    os.mkdir(workDir)"
   ]
  },
  {
   "cell_type": "code",
   "execution_count": 5,
   "metadata": {},
   "outputs": [
    {
     "name": "stdout",
     "output_type": "stream",
     "text": [
      "/data/home/be68/Hyphosphere/Exp10/DADA2\n"
     ]
    }
   ],
   "source": [
    "%cd $workDir"
   ]
  },
  {
   "cell_type": "code",
   "execution_count": 6,
   "metadata": {},
   "outputs": [
    {
     "name": "stdout",
     "output_type": "stream",
     "text": [
      "ln: ‘/home/be68/Hyphosphere/Exp10/DADA2/seqs_thresh.fasta’ and ‘./seqs_thresh.fasta’ are the same file\r\n"
     ]
    }
   ],
   "source": [
    "!cd $workDir; ln -f -s $OTUFileDir$OTUFile"
   ]
  },
  {
   "cell_type": "code",
   "execution_count": 7,
   "metadata": {},
   "outputs": [
    {
     "name": "stdout",
     "output_type": "stream",
     "text": [
      ">ASV1\r\n",
      "TACGAAGGGGGCTAGCGTTGTTCGGATTTACTGGGCGTAAAGCGCACGTAGGCGGACTATTAAGTCAGGGGTGAAATCCCGGGGCTCAACCCCGGAACTGCCTTTGATACTGGTAGTCTTGAGTTCGAGAGAGGTGAGTGGAATTCCGAGTGTAGAGGTGAAATTCGTAGATATTCGGAGGAACACCAGTGGCGAAGGCGGCTCACTGGCTCGATACTGACGCTGAGGTGCGAAAGCGTGGGGAGCAAACAGG\r\n",
      ">ASV2\r\n",
      "GACATAGGTGGCAAACATTATCCGGAATTATTGGGCGTAAAGGGTGCGTAGGCGGCATGATAAGTTGCTGGTGGGAAATCAAGGCTCAACCTTGTGGAAGCTAGCAATACTGTCAAGCTAGAGGGCAGAAGAGGTTAACGGAACTCTATGTGGAGCGGTAAAATGTGTAGATATATAGAAGAACATCAATAAAGGCGAAGGCAGTTAACTAGTCTGTCCCTGACGTTGAGGCACGAAAGCGTGGGGAGCAAAACGG\r\n",
      ">ASV3\r\n",
      "TACGGAGGGAGCTAGCGTTGTTCGGAATTACTGGGCGTAAAGCGCACGTAGGCGGCTTTGTAAGTCAGAGGTGAAAGCCTGGAGCTCAACTCCAGAACTGCCTTTGAGACTGCATCGCTTGAATCCAGGAGAGGTGAGTGGAATTCCGAGTGTAGAGGTGAAATTCGTAGATATTCGGAAGAACACCAGTGGCGAAGGCGGCTCACTGGACTGGTATTGACGCTGAGGTGCGAAAGCGTGGGGAGCAAACAGG\r\n",
      ">ASV4\r\n",
      "GACGGGGGGGGCAAGTGTTCTTCGGAATGACTGGGCGTAAAGGGCACGTAGGCGGTGAATCGGGTTGAAAGTGAAAGTCGCCAAAAAGTGGCGGAATGCTCTCGAAACCAATTCACTTGAGTGAGACAGAGGAGAGTGGAATTTCGTGTGTAGGGGTGAAATCCGTAGATCTACGAAGGAACGCCAAAAGCGAAGGCAGCTCTCTGGGTCCCTACCGACGCTGGGGTGCGAAAGCATGGGGAGCGAACAGG\r\n",
      ">ASV5\r\n",
      "GACATAGGTGGCGAACGTTATCCGGAATTATTGGGCGTAAAGGATGCGTAGATGGCAGAGTAAGTTACTGGTTGATGTCAAACTCAATTTGACGGAAGCTGGTAATACTGTTTTGCTAGAGGACAGGAGAGGTTGATGGAATTCTGTGTGGAGCGGTGAAATGCGTTGATCTACAGAGGAACACCAAAAAAGGCGAAGGCAGTCAACTATCCTGTTCCTGACATTGAGGCATGAAAGCGTGGGGAGCAAACCGG\r\n"
     ]
    }
   ],
   "source": [
    "!cd $workDir; head $OTUFile"
   ]
  },
  {
   "cell_type": "code",
   "execution_count": 8,
   "metadata": {},
   "outputs": [
    {
     "name": "stdout",
     "output_type": "stream",
     "text": [
      "Number of OTUs in fasta: 8162\n"
     ]
    }
   ],
   "source": [
    "!printf \"Number of OTUs in fasta: \"\n",
    "!cd $workDir; grep -c \">\" $OTUFile"
   ]
  },
  {
   "cell_type": "markdown",
   "metadata": {},
   "source": [
    "## Using SSU-Align to align seqs and masking based on alignment posterior probabilities."
   ]
  },
  {
   "cell_type": "code",
   "execution_count": null,
   "metadata": {
    "collapsed": true
   },
   "outputs": [],
   "source": []
  },
  {
   "cell_type": "code",
   "execution_count": 9,
   "metadata": {
    "scrolled": true
   },
   "outputs": [
    {
     "name": "stdout",
     "output_type": "stream",
     "text": [
      "# _ssu-prep :: prepare SSU rRNA sequences for parallel ssu-align jobs\n",
      "# SSU-ALIGN 0.1.1 (Feb 2016)\n",
      "# Copyright (C) 2016 Howard Hughes Medical Institute\n",
      "# Freely distributed under the BSD open source license.\n",
      "# - - - - - - - - - - - - - - - - - - - - - - - - - - - - - - - - - - - -\n",
      "# command: _ssu-prep -x -f -b 50 --dna --rfonly seqs_thresh.fasta ssu_aln 3\n",
      "# date:    Tue Dec 11 15:05:42 2018\n",
      "#\n",
      "# Validating input sequence file ... done.\n",
      "#\n",
      "# Preparing 3 ssu-align jobs ...\n",
      "# Partitioning seqs with goal of equalizing total number of nucleotides per job ...\n",
      "#\n",
      "# output file name      description                                           \n",
      "# --------------------  ------------------------------------------------------\n",
      "  ssu_aln/seqs_thresh.fasta.1  partition 1 FASTA sequence file (2721 seqs; 688666 nt)\n",
      "  ssu_aln/seqs_thresh.fasta.2  partition 2 FASTA sequence file (2721 seqs; 688707 nt)\n",
      "  ssu_aln/seqs_thresh.fasta.3  partition 3 FASTA sequence file (2720 seqs; 688487 nt)\n",
      "  ssu_aln.ssu-align.sh  shell script that will execute 3 ssu-align jobs\n",
      "#\n",
      "################################################################################\n",
      "# To execute all 3 ssu-align jobs, run the shell script with the command:\n",
      "#\t\"ssu_aln.ssu-align.sh\"\n",
      "# (it is an executable file)\n",
      "################################################################################\n",
      "#\n",
      "# The final job will merge the output from all jobs once they are all finished.\n",
      "#\n",
      "# If one or more jobs fail: rerun the failed jobs, wait for them to finish,\n",
      "# and then perform manual merge from this directory by executing:\n",
      "#\tssu-merge ssu_aln\n",
      "#\n",
      "# List of executed commands saved in:     ssu_aln/ssu_aln.ssu-prep.log.\n",
      "# Output printed to the screen saved in:  ssu_aln/ssu_aln.ssu-prep.sum.\n",
      "#\n",
      "# CPU time:  00:00:00.47  (hh:mm:ss)\n",
      "# \n"
     ]
    }
   ],
   "source": [
    "!cd $workDir; ssu-prep -f -x -b 50 --rfonly --dna $OTUFile ssu_aln 3"
   ]
  },
  {
   "cell_type": "code",
   "execution_count": 10,
   "metadata": {
    "scrolled": true
   },
   "outputs": [
    {
     "name": "stdout",
     "output_type": "stream",
     "text": [
      "# Executing: ssu-align -b 50 --dna --rfonly ssu_aln/seqs_thresh.fasta.1 ssu_aln/ssu_aln.1 > /dev/null &\n",
      "# Executing: ssu-align -b 50 --dna --rfonly ssu_aln/seqs_thresh.fasta.2 ssu_aln/ssu_aln.2 > /dev/null &\n",
      "# Executing: ssu-align --merge 3 -b 50 --dna --rfonly ssu_aln/seqs_thresh.fasta.3 ssu_aln/ssu_aln.3\n",
      "# _ssu-align :: align SSU rRNA sequences\n",
      "# SSU-ALIGN 0.1.1 (Feb 2016)\n",
      "# Copyright (C) 2016 Howard Hughes Medical Institute\n",
      "# Freely distributed under the BSD open source license.\n",
      "# - - - - - - - - - - - - - - - - - - - - - - - - - - - - - - - - - - - -\n",
      "# command: _ssu-align --merge 3 -b 50 --dna --rfonly ssu_aln/seqs_thresh.fasta.3 ssu_aln/ssu_aln.3\n",
      "# date:    Tue Dec 11 15:05:49 2018\n",
      "#\n",
      "# Validating input sequence file ... done.\n",
      "#\n",
      "# Stage 1: Determining SSU start/end positions and best-matching models...\n",
      "#\n",
      "# output file name            description                                \n",
      "# --------------------------  -------------------------------------------\n",
      "  ssu_aln.3.tab               locations/scores of hits defined by HMM(s)\n",
      "  ssu_aln.3.archaea.hitlist   list of sequences to align with archaea CM\n",
      "  ssu_aln.3.archaea.fa             25 sequences to align with archaea CM\n",
      "  ssu_aln.3.bacteria.hitlist  list of sequences to align with bacteria CM\n",
      "  ssu_aln.3.bacteria.fa          2682 sequences to align with bacteria CM\n",
      "#\n",
      "# Stage 2: Aligning each sequence to its best-matching model...\n",
      "#\n",
      "# output file name            description\n",
      "# --------------------------  ---------------------------------------\n",
      "  ssu_aln.3.archaea.stk       archaea alignment\n",
      "  ssu_aln.3.archaea.cmalign   archaea cmalign output\n",
      "  ssu_aln.3.archaea.ifile     archaea insert info\n",
      "  ssu_aln.3.bacteria.stk      bacteria alignment\n",
      "  ssu_aln.3.bacteria.cmalign  bacteria cmalign output\n",
      "  ssu_aln.3.bacteria.ifile    bacteria insert info\n",
      "  ssu_aln.3.scores            list of CM/HMM scores for each sequence\n",
      "  ssu_aln.3.nomatch           list of seqs that don't match any model\n",
      "#\n",
      "# Summary statistics:\n",
      "#\n",
      "# model or       number  fraction        average   average               \n",
      "# category      of seqs  of total         length  coverage    nucleotides\n",
      "# ------------  -------  --------  -------------  --------  -------------\n",
      "  *input*          2720    1.0000         253.12    1.0000         688487\n",
      "#\n",
      "  archaea            25    0.0092         251.68    0.9931           6292\n",
      "  bacteria         2682    0.9860         251.51    0.9937         674555\n",
      "  eukarya             0    0.0000              -         -              0\n",
      "#\n",
      "  *all-models*     2707    0.9952         251.51    0.9937         680847\n",
      "  *no-models*        13    0.0048         254.54    0.0000           3309\n",
      "#\n",
      "# Speed statistics:\n",
      "#\n",
      "# stage      num seqs  seq/sec  seq/sec/model    nucleotides    nt/sec\n",
      "# ---------  --------  -------  -------------  -------------  --------\n",
      "  search         2720    9.771          3.257         688487    2473.2\n",
      "  alignment      2707    7.703          7.703         680847    1937.3\n",
      "#\n",
      "#\n",
      "# List of executed commands saved in:     ssu_aln.3.ssu-align.log.\n",
      "# Output printed to the screen saved in:  ssu_aln.3.ssu-align.sum.\n",
      "#\n",
      "# All output files created in directory ./ssu_aln/ssu_aln.3/\n",
      "#\n",
      "# CPU time (search):     00:04:38.38  (hh:mm:ss)\n",
      "# CPU time (alignment):  00:05:51.44  (hh:mm:ss)\n",
      "# CPU time (total):      00:10:30.45  (hh:mm:ss)\n",
      "#\n",
      "################################################################################\n",
      "#\n",
      "# Alignments successfully created.\n",
      "#\n",
      "# Checking/waiting for other jobs to finish before merging...\n",
      "#\n",
      "# Job 1 (dir: ssu_aln/ssu_aln.1) completed successfully! 2/3 still incomplete.\n",
      "# Job 3 (dir: ssu_aln/ssu_aln.3) completed successfully! 1/3 still incomplete.\n",
      "# Job 2 (dir: ssu_aln/ssu_aln.2) completed successfully! 0/3 still incomplete.\n",
      "#\n",
      "# All 3 jobs successfully completed.\n",
      "# About to merge their output:\n",
      "#\n",
      "# Executing:  ssu-merge ssu_aln\n",
      "#\n",
      "################################################################################\n",
      "#\n",
      "# _ssu-merge :: merge SSU rRNA alignments\n",
      "# SSU-ALIGN 0.1.1 (Feb 2016)\n",
      "# Copyright (C) 2016 Howard Hughes Medical Institute\n",
      "# Freely distributed under the BSD open source license.\n",
      "# - - - - - - - - - - - - - - - - - - - - - - - - - - - - - - - - - - - -\n",
      "# command: _ssu-merge ssu_aln\n",
      "# date:    Tue Dec 11 15:16:26 2018\n",
      "#\n",
      "# Merging files from 3 ssu-align runs...\n",
      "#\n",
      "#                                     # files     # seqs\n",
      "# merged file name          CM name    merged     merged\n",
      "# ------------------------  --------  -------  ---------\n",
      "  ssu_aln.tab               -               3          -\n",
      "  ssu_aln.scores            -               3          -\n",
      "  ssu_aln.nomatch           -               3          -\n",
      "  ssu_aln.ssu-align.sum     -               3          -\n",
      "  ssu_aln.ssu-align.log     -               3          -\n",
      "#\n",
      "  ssu_aln.archaea.fa        archaea         3         71\n",
      "  ssu_aln.archaea.hitlist   archaea         3         71\n",
      "  ssu_aln.archaea.cmalign   archaea         3         71\n",
      "  ssu_aln.archaea.ifile     archaea         3         71\n",
      "  ssu_aln.archaea.stk       archaea         3         71\n",
      "#\n",
      "  ssu_aln.bacteria.fa       bacteria        3       8069\n",
      "  ssu_aln.bacteria.hitlist  bacteria        3       8069\n",
      "  ssu_aln.bacteria.cmalign  bacteria        3       8069\n",
      "  ssu_aln.bacteria.ifile    bacteria        3       8069\n",
      "  ssu_aln.bacteria.stk      bacteria        3       8069\n",
      "#\n",
      "#\n",
      "# Summary statistics:\n",
      "#\n",
      "# model or       number  fraction        average   average               \n",
      "# category      of seqs  of total         length  coverage    nucleotides\n",
      "# ------------  -------  --------  -------------  --------  -------------\n",
      "  *input*          8162    1.0000         253.11    1.0000        2065860\n",
      "#\n",
      "  archaea            71    0.0087         252.23    0.9960          17908\n",
      "  bacteria         8069    0.9886         251.90    0.9953        2032617\n",
      "  eukarya             0    0.0000              -         -              0\n",
      "#\n",
      "  *all-models*     8140    0.9973         251.91    0.9953        2050525\n",
      "  *no-models*        22    0.0027         254.48    0.0000           5598\n",
      "#\n",
      "# Speed statistics:\n",
      "#\n",
      "# stage      num seqs  seq/sec  seq/sec/model    nucleotides    nt/sec\n",
      "# ---------  --------  -------  -------------  -------------  --------\n",
      "  search         8162  8162.000       2720.667        2065860  2065860.0\n",
      "  alignment      8140  8140.000       8140.000        2050525  2050525.0\n",
      "#\n",
      "# Summed ssu-align CPU time (search):     00:00:00.00  (hh:mm:ss)\n",
      "# Summed ssu-align CPU time (alignment):  00:00:00.00  (hh:mm:ss)\n",
      "# Summed ssu-align CPU time (total):      00:00:00.00  (hh:mm:ss)\n",
      "#\n",
      "# Cleaning up by removing original files that were just merged ... done.\n",
      "#\n",
      "# List of executed commands saved in:     ssu_aln.ssu-merge.log.\n",
      "# Output printed to the screen saved in:  ssu_aln.ssu-merge.sum.\n",
      "#\n",
      "# All output files created in directory ./ssu_aln/\n",
      "#\n",
      "# CPU time:  00:00:00.46  (hh:mm:ss)\n",
      "# \n"
     ]
    }
   ],
   "source": [
    "!cd $workDir; ./ssu_aln.ssu-align.sh"
   ]
  },
  {
   "cell_type": "code",
   "execution_count": 11,
   "metadata": {},
   "outputs": [
    {
     "name": "stdout",
     "output_type": "stream",
     "text": [
      "# _ssu-mask :: mask SSU rRNA alignments\n",
      "# SSU-ALIGN 0.1.1 (Feb 2016)\n",
      "# Copyright (C) 2016 Howard Hughes Medical Institute\n",
      "# Freely distributed under the BSD open source license.\n",
      "# - - - - - - - - - - - - - - - - - - - - - - - - - - - - - - - - - - - -\n",
      "# command: _ssu-mask --afa --dna ssu_aln\n",
      "# date:    Tue Dec 11 15:19:09 2018\n",
      "#\n",
      "# Masking alignments based on posterior probabilities...\n",
      "#\n",
      "#                                                     mask    \n",
      "#                                                 ------------\n",
      "# file name                  in/out  type  #cols  incl.  excl.\n",
      "# -------------------------  ------  ----  -----  -----  -----\n",
      "  ssu_aln.archaea.stk         input   aln   1508      -      -\n",
      "  ssu_aln.archaea.mask       output  mask   1508    246   1262\n",
      "  ssu_aln.archaea.mask.pdf   output   pdf   1508    246   1262\n",
      "  ssu_aln.archaea.mask.afa   output   aln    246      -      -\n",
      "#\n",
      "  ssu_aln.bacteria.stk        input   aln   1582      -      -\n",
      "  ssu_aln.bacteria.mask      output  mask   1582    248   1334\n",
      "  ssu_aln.bacteria.mask.pdf  output   pdf   1582    248   1334\n",
      "  ssu_aln.bacteria.mask.afa  output   aln    248      -      -\n",
      "#\n",
      "# All attempts to draw structure diagrams of masks were successful.\n",
      "#\n",
      "# List of executed commands saved in:     ssu_aln.ssu-mask.log.\n",
      "# Output printed to the screen saved in:  ssu_aln.ssu-mask.sum.\n",
      "#\n",
      "# All output files created in directory ./ssu_aln/\n",
      "#\n",
      "# CPU time:  00:00:02.30  (hh:mm:ss)\n",
      "# \n"
     ]
    }
   ],
   "source": [
    "!cd $workDir; ssu-mask --dna --afa ssu_aln"
   ]
  },
  {
   "cell_type": "code",
   "execution_count": null,
   "metadata": {
    "collapsed": true
   },
   "outputs": [],
   "source": [
    "#!cd $workDir; ~/seq_tools/seq_tools fasta_unwrap ssu_aln/ssu_aln.bacteria.mask.afa  | head"
   ]
  },
  {
   "cell_type": "markdown",
   "metadata": {},
   "source": [
    "### Using Sulfolobus as the root (acc. X90478)."
   ]
  },
  {
   "cell_type": "code",
   "execution_count": 12,
   "metadata": {
    "collapsed": true
   },
   "outputs": [],
   "source": [
    "sso_acc = \"X90478\"\n",
    "sso_fa = Entrez.efetch(db=\"nucleotide\", id=sso_acc, rettype=\"fasta\", retmode=\"text\").readlines()"
   ]
  },
  {
   "cell_type": "code",
   "execution_count": 13,
   "metadata": {
    "collapsed": true
   },
   "outputs": [],
   "source": [
    "out = open(os.path.join(workDir, 'X90478.fasta'), 'w')\n",
    "sso_fa_namestrip = sso_fa[1:]\n",
    "sso_fa_namestrip.insert(0,\">%s\\n\"%sso_acc)\n",
    "out.writelines(sso_fa_namestrip)\n",
    "out.close()"
   ]
  },
  {
   "cell_type": "code",
   "execution_count": 14,
   "metadata": {},
   "outputs": [
    {
     "name": "stdout",
     "output_type": "stream",
     "text": [
      ">X90478\r\n",
      "TCCTGCCGGTCCCGACCGCTATCGGGGTGGGGCTAAGCCATGGGAGTCGTACGCTCCCGGGCAAGGGAGC\r\n",
      "GTGGCGGACGGCTGAGTAACACGTGGCTAACCTACCCTGAGGAGGGAGATAACCCCGGGAAACTGGGGAT\r\n",
      "AATCTCCCATAGGCGAGGAGTCCTGGAACGGTTCCTCGCTGAAAGGCTCATGGGCTATTCCCCGCTCATG\r\n"
     ]
    }
   ],
   "source": [
    "!cd $workDir; head -n 4 X90478.fasta"
   ]
  },
  {
   "cell_type": "markdown",
   "metadata": {},
   "source": [
    "### Align the outgroup to the same cm (use the same mask that was established earlier)."
   ]
  },
  {
   "cell_type": "code",
   "execution_count": 15,
   "metadata": {
    "scrolled": true
   },
   "outputs": [
    {
     "name": "stdout",
     "output_type": "stream",
     "text": [
      "# _ssu-align :: align SSU rRNA sequences\n",
      "# SSU-ALIGN 0.1.1 (Feb 2016)\n",
      "# Copyright (C) 2016 Howard Hughes Medical Institute\n",
      "# Freely distributed under the BSD open source license.\n",
      "# - - - - - - - - - - - - - - - - - - - - - - - - - - - - - - - - - - - -\n",
      "# command: _ssu-align -f -n bacteria --dna --rfonly X90478.fasta sso_aln\n",
      "# date:    Tue Dec 11 15:20:16 2018\n",
      "#\n",
      "# Validating input sequence file ... done.\n",
      "#\n",
      "# Stage 1: Determining SSU start/end positions and best-matching models...\n",
      "#\n",
      "# output file name          description                                \n",
      "# ------------------------  -------------------------------------------\n",
      "  sso_aln.tab               locations/scores of hits defined by HMM(s)\n",
      "  sso_aln.bacteria.hitlist  list of sequences to align with bacteria CM\n",
      "  sso_aln.bacteria.fa             1 sequence  to align with bacteria CM\n",
      "#\n",
      "# Stage 2: Aligning each sequence to its best-matching model...\n",
      "#\n",
      "# output file name          description\n",
      "# ------------------------  ---------------------------------------\n",
      "  sso_aln.bacteria.stk      bacteria alignment\n",
      "  sso_aln.bacteria.cmalign  bacteria cmalign output\n",
      "  sso_aln.bacteria.ifile    bacteria insert info\n",
      "  sso_aln.scores            list of CM/HMM scores for each sequence\n",
      "#\n",
      "# Summary statistics:\n",
      "#\n",
      "# model or       number  fraction        average   average               \n",
      "# category      of seqs  of total         length  coverage    nucleotides\n",
      "# ------------  -------  --------  -------------  --------  -------------\n",
      "  *input*             1    1.0000        1436.00    1.0000           1436\n",
      "#\n",
      "  bacteria            1    1.0000        1305.00    0.9088           1305\n",
      "#\n",
      "  *all-models*        1    1.0000        1305.00    0.9088           1305\n",
      "  *no-models*         0    0.0000              -         -              0\n",
      "#\n",
      "# Speed statistics:\n",
      "#\n",
      "# stage      num seqs  seq/sec  seq/sec/model    nucleotides    nt/sec\n",
      "# ---------  --------  -------  -------------  -------------  --------\n",
      "  search            1    2.374          2.374           1436    3408.6\n",
      "  alignment         1    0.628          0.628           1305     819.5\n",
      "#\n",
      "#\n",
      "# List of executed commands saved in:     sso_aln.ssu-align.log.\n",
      "# Output printed to the screen saved in:  sso_aln.ssu-align.sum.\n",
      "#\n",
      "# All output files created in directory ./sso_aln/\n",
      "#\n",
      "# CPU time (search):     00:00:00.42  (hh:mm:ss)\n",
      "# CPU time (alignment):  00:00:01.59  (hh:mm:ss)\n",
      "# CPU time (total):      00:00:02.09  (hh:mm:ss)\n",
      "#\n"
     ]
    }
   ],
   "source": [
    "!cd $workDir; ssu-align -f -n bacteria --dna --rfonly X90478.fasta sso_aln"
   ]
  },
  {
   "cell_type": "code",
   "execution_count": 16,
   "metadata": {},
   "outputs": [
    {
     "name": "stdout",
     "output_type": "stream",
     "text": [
      "# _ssu-mask :: mask SSU rRNA alignments\n",
      "# SSU-ALIGN 0.1.1 (Feb 2016)\n",
      "# Copyright (C) 2016 Howard Hughes Medical Institute\n",
      "# Freely distributed under the BSD open source license.\n",
      "# - - - - - - - - - - - - - - - - - - - - - - - - - - - - - - - - - - - -\n",
      "# command: _ssu-mask -s ssu_aln/ssu_aln.bacteria.mask --afa --dna sso_aln/\n",
      "# date:    Tue Dec 11 15:20:23 2018\n",
      "#\n",
      "# Masking alignments using pre-existing masks...\n",
      "#\n",
      "#                                                     mask    \n",
      "#                                                 ------------\n",
      "# file name                  in/out  type  #cols  incl.  excl.\n",
      "# -------------------------  ------  ----  -----  -----  -----\n",
      "  sso_aln.bacteria.stk        input   aln   1582      -      -\n",
      "  ssu_aln.bacteria.mask       input  mask   1582    248   1334\n",
      "  sso_aln.bacteria.mask.pdf  output   pdf   1582    248   1334\n",
      "  sso_aln.bacteria.mask.afa  output   aln    248      -      -\n",
      "#\n",
      "# All attempts to draw structure diagrams of masks were successful.\n",
      "#\n",
      "# List of executed commands saved in:     sso_aln.ssu-mask.log.\n",
      "# Output printed to the screen saved in:  sso_aln.ssu-mask.sum.\n",
      "#\n",
      "# All output files created in directory ./sso_aln/\n",
      "#\n",
      "# CPU time:  00:00:00.62  (hh:mm:ss)\n",
      "# \n"
     ]
    }
   ],
   "source": [
    "!cd $workDir; ssu-mask -s ssu_aln/ssu_aln.bacteria.mask --dna --afa sso_aln/"
   ]
  },
  {
   "cell_type": "code",
   "execution_count": null,
   "metadata": {
    "collapsed": true
   },
   "outputs": [],
   "source": [
    "#!cd $workDir; /home/bryan/seq_tools/seq_tools fasta_unwrap sso_aln/sso_aln.bacteria.mask.afa | head"
   ]
  },
  {
   "cell_type": "code",
   "execution_count": 17,
   "metadata": {
    "collapsed": true
   },
   "outputs": [],
   "source": [
    "!cd $workDir; cat sso_aln/sso_aln.bacteria.mask.afa ssu_aln/ssu_aln.bacteria.mask.afa > aln_for_tree.fasta"
   ]
  },
  {
   "cell_type": "code",
   "execution_count": 19,
   "metadata": {},
   "outputs": [
    {
     "name": "stdout",
     "output_type": "stream",
     "text": [
      "/bin/sh: 1: /home/bryan/seq_tools/seq_tools: not found\r\n"
     ]
    }
   ],
   "source": [
    "#!cd $workDir; /home/bryan/seq_tools/seq_tools fasta_unwrap aln_for_tree.fasta | head"
   ]
  },
  {
   "cell_type": "code",
   "execution_count": 18,
   "metadata": {},
   "outputs": [
    {
     "name": "stdout",
     "output_type": "stream",
     "text": [
      ">X90478\r\n",
      "TACCAGCCCCGCGAG---TGGTCGGGATTACTGGGCCTAAAGCGCCCGTAGCCGGCCCGA\r\n",
      "CAAGTCACTCCTTAAAGACCCCGGCTCAACCGGGGGAAGGGTGATACTGTCGGGCTAGGG\r\n",
      "GGCGGGAGAGGCCAGCGGTACTCCCGGAGTAGGGGCGAAATCCTCAGATCTCGGGAGGAC\r\n",
      "CACCAGTGGCGAAAGCGGCTGGCTAGAACGCCCGACGGTGAGGGGCGAAAGCCGGGGCAG\r\n",
      "CAAAAGGG\r\n",
      ">ASV1\r\n",
      "TACGAAGGGGGCTAGCGTTGTTCGGATTTACTGGGCGTAAAGCGCACGTAGGCGGACTAT\r\n",
      "TAAGTCAGGGGTGAAATCCCGGGGCTCAACCCCGGAACCTTTGATACTGGTAGTCTTGAG\r\n",
      "TTCGAGAGAGGTGAGTGGAATTCCGAGTGTAGAGGTGAAATTCGTAGATATTCGGAGGAA\r\n"
     ]
    }
   ],
   "source": [
    "!cd $workDir; head aln_for_tree.fasta"
   ]
  },
  {
   "cell_type": "markdown",
   "metadata": {},
   "source": [
    "## Inferring and rooting the tree"
   ]
  },
  {
   "cell_type": "code",
   "execution_count": 19,
   "metadata": {
    "collapsed": true
   },
   "outputs": [],
   "source": [
    "aln = LoadSeqs(os.path.join(workDir, 'aln_for_tree.fasta'), moltype=DNA)\n",
    "t_unroot = build_tree_from_alignment(aln, moltype=DNA)"
   ]
  },
  {
   "cell_type": "code",
   "execution_count": 20,
   "metadata": {
    "collapsed": true
   },
   "outputs": [],
   "source": [
    "t_rooted = t_unroot.rootedWithTip(sso_acc)"
   ]
  },
  {
   "cell_type": "code",
   "execution_count": 21,
   "metadata": {
    "collapsed": true
   },
   "outputs": [],
   "source": [
    "t_rooted.writeToFile(os.path.join(workDir, 'ASV.tree'))"
   ]
  }
 ],
 "metadata": {
  "kernelspec": {
   "display_name": "Python 2",
   "language": "python",
   "name": "python2"
  },
  "language_info": {
   "codemirror_mode": {
    "name": "ipython",
    "version": 2
   },
   "file_extension": ".py",
   "mimetype": "text/x-python",
   "name": "python",
   "nbconvert_exporter": "python",
   "pygments_lexer": "ipython2",
   "version": "2.7.14"
  }
 },
 "nbformat": 4,
 "nbformat_minor": 2
}
