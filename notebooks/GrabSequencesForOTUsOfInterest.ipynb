{
 "cells": [
  {
   "cell_type": "markdown",
   "metadata": {},
   "source": [
    "# Grab sequences from OTUs of interest"
   ]
  },
  {
   "cell_type": "code",
   "execution_count": 14,
   "metadata": {},
   "outputs": [],
   "source": [
    "import sys, os, re, glob\n",
    "import numpy as np\n",
    "from Bio import SeqIO\n",
    "from pandas import *"
   ]
  },
  {
   "cell_type": "code",
   "execution_count": 28,
   "metadata": {
    "collapsed": true
   },
   "outputs": [],
   "source": [
    "#FastaSource = '/home/be68/Hyphosphere/data/MiSeq/20180129/20180130.v2.otus.fa'\n",
    "#OTUlist = '/home/be68/Hyphosphere/data/Myxococcales/OTUtree/AllMyxoTaxTable.txt'\n",
    "FastaSource = '/home/be68/Hyphosphere/data/3Exp/seqs_thresh.fasta'\n",
    "OTUlist = '/home/be68/Hyphosphere/Exp11/df_l2fc_CHCS_bothtreatments.txt'\n",
    "OutputFile = '/home/be68/Hyphosphere/Exp11/Exp11_hyphalASV.fasta'"
   ]
  },
  {
   "cell_type": "markdown",
   "metadata": {},
   "source": [
    "OTUlist is a dataframe exported from R phyloseq object.  Here is was exported as a character vector so the column heading is only \"x\""
   ]
  },
  {
   "cell_type": "code",
   "execution_count": 3,
   "metadata": {},
   "outputs": [
    {
     "data": {
      "text/html": [
       "<div>\n",
       "<style>\n",
       "    .dataframe thead tr:only-child th {\n",
       "        text-align: right;\n",
       "    }\n",
       "\n",
       "    .dataframe thead th {\n",
       "        text-align: left;\n",
       "    }\n",
       "\n",
       "    .dataframe tbody tr th {\n",
       "        vertical-align: top;\n",
       "    }\n",
       "</style>\n",
       "<table border=\"1\" class=\"dataframe\">\n",
       "  <thead>\n",
       "    <tr style=\"text-align: right;\">\n",
       "      <th></th>\n",
       "      <th>baseMean</th>\n",
       "      <th>log2FoldChange</th>\n",
       "      <th>lfcSE</th>\n",
       "      <th>stat</th>\n",
       "      <th>pvalue</th>\n",
       "      <th>padj</th>\n",
       "      <th>ASV</th>\n",
       "      <th>Test</th>\n",
       "      <th>contrast</th>\n",
       "      <th>group</th>\n",
       "    </tr>\n",
       "  </thead>\n",
       "  <tbody>\n",
       "    <tr>\n",
       "      <th>1</th>\n",
       "      <td>0.000000</td>\n",
       "      <td>NaN</td>\n",
       "      <td>NaN</td>\n",
       "      <td>NaN</td>\n",
       "      <td>NaN</td>\n",
       "      <td>NaN</td>\n",
       "      <td>ASV15180</td>\n",
       "      <td>CH-CS</td>\n",
       "      <td>CHCS</td>\n",
       "      <td>Lansing-Gv</td>\n",
       "    </tr>\n",
       "    <tr>\n",
       "      <th>2</th>\n",
       "      <td>0.000000</td>\n",
       "      <td>NaN</td>\n",
       "      <td>NaN</td>\n",
       "      <td>NaN</td>\n",
       "      <td>NaN</td>\n",
       "      <td>NaN</td>\n",
       "      <td>ASV9985</td>\n",
       "      <td>CH-CS</td>\n",
       "      <td>CHCS</td>\n",
       "      <td>Lansing-Gv</td>\n",
       "    </tr>\n",
       "    <tr>\n",
       "      <th>3</th>\n",
       "      <td>0.273810</td>\n",
       "      <td>-1.445002</td>\n",
       "      <td>3.042068</td>\n",
       "      <td>-0.475006</td>\n",
       "      <td>0.634782</td>\n",
       "      <td>NaN</td>\n",
       "      <td>ASV9417</td>\n",
       "      <td>CH-CS</td>\n",
       "      <td>CHCS</td>\n",
       "      <td>Lansing-Gv</td>\n",
       "    </tr>\n",
       "    <tr>\n",
       "      <th>4</th>\n",
       "      <td>1.194958</td>\n",
       "      <td>3.881897</td>\n",
       "      <td>2.994998</td>\n",
       "      <td>1.296127</td>\n",
       "      <td>0.194932</td>\n",
       "      <td>NaN</td>\n",
       "      <td>ASV23374</td>\n",
       "      <td>CH-CS</td>\n",
       "      <td>CHCS</td>\n",
       "      <td>Lansing-Gv</td>\n",
       "    </tr>\n",
       "    <tr>\n",
       "      <th>5</th>\n",
       "      <td>0.000000</td>\n",
       "      <td>NaN</td>\n",
       "      <td>NaN</td>\n",
       "      <td>NaN</td>\n",
       "      <td>NaN</td>\n",
       "      <td>NaN</td>\n",
       "      <td>ASV23399</td>\n",
       "      <td>CH-CS</td>\n",
       "      <td>CHCS</td>\n",
       "      <td>Lansing-Gv</td>\n",
       "    </tr>\n",
       "  </tbody>\n",
       "</table>\n",
       "</div>"
      ],
      "text/plain": [
       "   baseMean  log2FoldChange     lfcSE      stat    pvalue  padj       ASV  \\\n",
       "1  0.000000             NaN       NaN       NaN       NaN   NaN  ASV15180   \n",
       "2  0.000000             NaN       NaN       NaN       NaN   NaN   ASV9985   \n",
       "3  0.273810       -1.445002  3.042068 -0.475006  0.634782   NaN   ASV9417   \n",
       "4  1.194958        3.881897  2.994998  1.296127  0.194932   NaN  ASV23374   \n",
       "5  0.000000             NaN       NaN       NaN       NaN   NaN  ASV23399   \n",
       "\n",
       "    Test contrast       group  \n",
       "1  CH-CS     CHCS  Lansing-Gv  \n",
       "2  CH-CS     CHCS  Lansing-Gv  \n",
       "3  CH-CS     CHCS  Lansing-Gv  \n",
       "4  CH-CS     CHCS  Lansing-Gv  \n",
       "5  CH-CS     CHCS  Lansing-Gv  "
      ]
     },
     "execution_count": 3,
     "metadata": {},
     "output_type": "execute_result"
    }
   ],
   "source": [
    "df = pandas.read_csv(OTUlist, sep = \"\\t\")\n",
    "df.head()"
   ]
  },
  {
   "cell_type": "code",
   "execution_count": 22,
   "metadata": {},
   "outputs": [
    {
     "data": {
      "text/plain": [
       "1    ASV15180\n",
       "2     ASV9985\n",
       "3     ASV9417\n",
       "4    ASV23374\n",
       "5    ASV23399\n",
       "Name: ASV, dtype: object"
      ]
     },
     "execution_count": 22,
     "metadata": {},
     "output_type": "execute_result"
    }
   ],
   "source": [
    "df = pandas.read_csv(OTUlist, sep = \"\\t\")\n",
    "df.ASV.head()"
   ]
  },
  {
   "cell_type": "markdown",
   "metadata": {},
   "source": [
    "### Filter to positive responders"
   ]
  },
  {
   "cell_type": "code",
   "execution_count": 10,
   "metadata": {},
   "outputs": [
    {
     "data": {
      "text/plain": [
       "(344, 10)"
      ]
     },
     "execution_count": 10,
     "metadata": {},
     "output_type": "execute_result"
    }
   ],
   "source": [
    "sigTab = df[df.padj < 0.05] \n",
    "sigTab = sigTab[sigTab.log2FoldChange > 0]\n",
    "sigTab.shape\n",
    "#sigTab & df.log2FoldChange > 0]"
   ]
  },
  {
   "cell_type": "code",
   "execution_count": null,
   "metadata": {
    "collapsed": true
   },
   "outputs": [],
   "source": [
    "#Gather uniques"
   ]
  },
  {
   "cell_type": "code",
   "execution_count": 26,
   "metadata": {},
   "outputs": [
    {
     "name": "stdout",
     "output_type": "stream",
     "text": [
      "{'ASV61', 'ASV30', 'ASV3394', 'ASV382', 'ASV153', 'ASV2268', 'ASV6', 'ASV3121', 'ASV40', 'ASV3386', 'ASV9885', 'ASV2510', 'ASV1686', 'ASV1400', 'ASV3908', 'ASV217', 'ASV66', 'ASV5810', 'ASV2618', 'ASV1386', 'ASV11196', 'ASV1056', 'ASV9677', 'ASV645', 'ASV412', 'ASV1328', 'ASV910', 'ASV2339', 'ASV1412', 'ASV1629', 'ASV2786', 'ASV2793', 'ASV920', 'ASV440', 'ASV1774', 'ASV2257', 'ASV657', 'ASV4001', 'ASV665', 'ASV553', 'ASV343', 'ASV554', 'ASV6443', 'ASV2160', 'ASV2212', 'ASV609', 'ASV169', 'ASV45', 'ASV16', 'ASV1666', 'ASV300', 'ASV5432', 'ASV1067', 'ASV2323', 'ASV1266', 'ASV95', 'ASV1674', 'ASV3960', 'ASV838', 'ASV8919', 'ASV5398', 'ASV190', 'ASV915', 'ASV1480', 'ASV8225', 'ASV1357', 'ASV259', 'ASV4343', 'ASV1085', 'ASV4224', 'ASV282', 'ASV1146', 'ASV6045', 'ASV2468', 'ASV8228', 'ASV1422', 'ASV383', 'ASV1579', 'ASV3633', 'ASV6078', 'ASV767', 'ASV1401', 'ASV102', 'ASV53', 'ASV5495', 'ASV280', 'ASV648', 'ASV6825', 'ASV398', 'ASV146', 'ASV200', 'ASV925', 'ASV21', 'ASV777', 'ASV6208', 'ASV1393', 'ASV1413', 'ASV884', 'ASV3276', 'ASV880', 'ASV1755', 'ASV6162', 'ASV1096', 'ASV1700', 'ASV575', 'ASV316', 'ASV1936', 'ASV4989', 'ASV1944', 'ASV997', 'ASV352', 'ASV6051', 'ASV416', 'ASV2055', 'ASV1389', 'ASV718', 'ASV3041', 'ASV2912', 'ASV3100', 'ASV1885', 'ASV541', 'ASV57', 'ASV5725', 'ASV820', 'ASV7404', 'ASV5164', 'ASV4674', 'ASV89', 'ASV44', 'ASV366', 'ASV991', 'ASV4009', 'ASV1213', 'ASV251', 'ASV1339', 'ASV1719', 'ASV2886', 'ASV1845', 'ASV4236', 'ASV653', 'ASV3462', 'ASV18', 'ASV3064', 'ASV9483', 'ASV1853', 'ASV2476', 'ASV5084', 'ASV4383', 'ASV5142', 'ASV1945', 'ASV1188', 'ASV117', 'ASV2181', 'ASV14', 'ASV4025', 'ASV5606', 'ASV1310', 'ASV1772', 'ASV2541', 'ASV2070', 'ASV672', 'ASV2994', 'ASV71', 'ASV1941', 'ASV2606', 'ASV1370', 'ASV3056', 'ASV2108', 'ASV979', 'ASV1043', 'ASV27', 'ASV7106', 'ASV6633', 'ASV509', 'ASV616', 'ASV1210', 'ASV5599', 'ASV148', 'ASV4177', 'ASV6456', 'ASV393', 'ASV1191', 'ASV968', 'ASV2885', 'ASV2138', 'ASV2324', 'ASV992', 'ASV2314', 'ASV708', 'ASV1657', 'ASV121', 'ASV86', 'ASV6358', 'ASV358', 'ASV301', 'ASV7072', 'ASV2219', 'ASV5381', 'ASV1467', 'ASV2518', 'ASV987', 'ASV8915', 'ASV3810', 'ASV77', 'ASV2562', 'ASV295', 'ASV330', 'ASV5052', 'ASV661', 'ASV789', 'ASV283', 'ASV1248', 'ASV8', 'ASV846', 'ASV8082', 'ASV3010', 'ASV3679', 'ASV1383', 'ASV7279', 'ASV1957', 'ASV2761', 'ASV423', 'ASV4586', 'ASV2016', 'ASV6574', 'ASV1523', 'ASV2362', 'ASV3374', 'ASV17', 'ASV443', 'ASV1742', 'ASV903', 'ASV125', 'ASV32', 'ASV5970', 'ASV1417', 'ASV5724', 'ASV2231', 'ASV770', 'ASV467', 'ASV479', 'ASV4858', 'ASV741', 'ASV7511', 'ASV1263', 'ASV3475', 'ASV288', 'ASV561', 'ASV3677', 'ASV812', 'ASV320', 'ASV403', 'ASV6784', 'ASV390', 'ASV5898', 'ASV5107', 'ASV895', 'ASV978', 'ASV1032', 'ASV2823', 'ASV9400', 'ASV2641', 'ASV1534', 'ASV386', 'ASV528', 'ASV118', 'ASV7544', 'ASV100', 'ASV23', 'ASV341', 'ASV495', 'ASV3092', 'ASV2288', 'ASV435', 'ASV5092', 'ASV4625', 'ASV2670', 'ASV1473', 'ASV872', 'ASV3570', 'ASV3760', 'ASV2029', 'ASV5049', 'ASV1721', 'ASV1909', 'ASV527', 'ASV214', 'ASV2717', 'ASV696', 'ASV1711'}\n"
     ]
    }
   ],
   "source": [
    "OTUcheck = sigTab.ASV.tolist()\n",
    "\n",
    "x = set(OTUcheck)\n",
    "OTUcheck = list(x)\n",
    "len(x)\n",
    "print(x)"
   ]
  },
  {
   "cell_type": "code",
   "execution_count": 29,
   "metadata": {},
   "outputs": [
    {
     "name": "stderr",
     "output_type": "stream",
     "text": [
      "/home/be68/anaconda3/lib/python3.6/site-packages/ipykernel_launcher.py:3: DeprecationWarning: 'U' mode is deprecated\n",
      "  This is separate from the ipykernel package so we can avoid doing imports until\n"
     ]
    }
   ],
   "source": [
    "output = open(OutputFile, \"w\")\n",
    "\n",
    "for record in SeqIO.parse(open(FastaSource, \"rU\"), \"fasta\") :\n",
    "    if record.id in OTUcheck:\n",
    "        output.write(\">\"+record.id+\"\\n\"+str(record.seq)+\"\\n\")\n"
   ]
  }
 ],
 "metadata": {
  "kernelspec": {
   "display_name": "Python 3",
   "language": "python",
   "name": "python3"
  },
  "language_info": {
   "codemirror_mode": {
    "name": "ipython",
    "version": 3
   },
   "file_extension": ".py",
   "mimetype": "text/x-python",
   "name": "python",
   "nbconvert_exporter": "python",
   "pygments_lexer": "ipython3",
   "version": "3.6.3"
  }
 },
 "nbformat": 4,
 "nbformat_minor": 2
}
