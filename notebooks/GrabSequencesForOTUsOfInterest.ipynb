{
 "cells": [
  {
   "cell_type": "markdown",
   "metadata": {},
   "source": [
    "# Grab sequences from OTUs of interest"
   ]
  },
  {
   "cell_type": "code",
   "execution_count": 1,
   "metadata": {
    "collapsed": true
   },
   "outputs": [],
   "source": [
    "import sys, os, re, glob\n",
    "from Bio import SeqIO\n",
    "from pandas import *"
   ]
  },
  {
   "cell_type": "code",
   "execution_count": 2,
   "metadata": {
    "collapsed": true
   },
   "outputs": [],
   "source": [
    "FastaSource = '/home/be68/Hyphosphere/data/MiSeq/20180129/20180130.v2.otus.fa'\n",
    "OTUlist = '/home/be68/Hyphosphere/data/Myxococcales/OTUtree/AllMyxoTaxTable.txt'"
   ]
  },
  {
   "cell_type": "markdown",
   "metadata": {},
   "source": [
    "OTUlist is a dataframe exported from R phyloseq object.  Here is was exported as a character vector so the column heading is only \"x\""
   ]
  },
  {
   "cell_type": "code",
   "execution_count": 6,
   "metadata": {},
   "outputs": [
    {
     "data": {
      "text/html": [
       "<div>\n",
       "<style>\n",
       "    .dataframe thead tr:only-child th {\n",
       "        text-align: right;\n",
       "    }\n",
       "\n",
       "    .dataframe thead th {\n",
       "        text-align: left;\n",
       "    }\n",
       "\n",
       "    .dataframe tbody tr th {\n",
       "        vertical-align: top;\n",
       "    }\n",
       "</style>\n",
       "<table border=\"1\" class=\"dataframe\">\n",
       "  <thead>\n",
       "    <tr style=\"text-align: right;\">\n",
       "      <th></th>\n",
       "      <th>Domain</th>\n",
       "      <th>Phylum</th>\n",
       "      <th>Class</th>\n",
       "      <th>Order</th>\n",
       "      <th>Family</th>\n",
       "      <th>Genus</th>\n",
       "      <th>Species</th>\n",
       "      <th>Strain</th>\n",
       "      <th>catglab</th>\n",
       "    </tr>\n",
       "  </thead>\n",
       "  <tbody>\n",
       "    <tr>\n",
       "      <th>Otu2451</th>\n",
       "      <td>d_Bacteria</td>\n",
       "      <td>p_Proteobacteria</td>\n",
       "      <td>c_Deltaproteobacteria</td>\n",
       "      <td>o_Myxococcales</td>\n",
       "      <td>f_Cystobacteraceae</td>\n",
       "      <td>uncl_f_Cystobacteraceae</td>\n",
       "      <td>uncl_f_Cystobacteraceae</td>\n",
       "      <td>Otu2451</td>\n",
       "      <td>uncl_f_Cystobacteraceae_Otu2451</td>\n",
       "    </tr>\n",
       "    <tr>\n",
       "      <th>Otu2692</th>\n",
       "      <td>d_Bacteria</td>\n",
       "      <td>p_Proteobacteria</td>\n",
       "      <td>c_Deltaproteobacteria</td>\n",
       "      <td>o_Myxococcales</td>\n",
       "      <td>f_Cystobacteraceae</td>\n",
       "      <td>g_Anaeromyxobacter</td>\n",
       "      <td>s_Anaeromyxobacter_dehalogenans</td>\n",
       "      <td>Otu2692</td>\n",
       "      <td>g_Anaeromyxobacter_Otu2692</td>\n",
       "    </tr>\n",
       "    <tr>\n",
       "      <th>Otu1855</th>\n",
       "      <td>d_Bacteria</td>\n",
       "      <td>p_Proteobacteria</td>\n",
       "      <td>c_Deltaproteobacteria</td>\n",
       "      <td>o_Myxococcales</td>\n",
       "      <td>uncl_o_Myxococcales</td>\n",
       "      <td>uncl_o_Myxococcales</td>\n",
       "      <td>uncl_o_Myxococcales</td>\n",
       "      <td>Otu1855</td>\n",
       "      <td>uncl_o_Myxococcales_Otu1855</td>\n",
       "    </tr>\n",
       "    <tr>\n",
       "      <th>Otu3266</th>\n",
       "      <td>d_Bacteria</td>\n",
       "      <td>p_Proteobacteria</td>\n",
       "      <td>c_Deltaproteobacteria</td>\n",
       "      <td>o_Myxococcales</td>\n",
       "      <td>uncl_o_Myxococcales</td>\n",
       "      <td>uncl_o_Myxococcales</td>\n",
       "      <td>uncl_o_Myxococcales</td>\n",
       "      <td>Otu3266</td>\n",
       "      <td>uncl_o_Myxococcales_Otu3266</td>\n",
       "    </tr>\n",
       "    <tr>\n",
       "      <th>Otu794</th>\n",
       "      <td>d_Bacteria</td>\n",
       "      <td>p_Proteobacteria</td>\n",
       "      <td>c_Deltaproteobacteria</td>\n",
       "      <td>o_Myxococcales</td>\n",
       "      <td>uncl_o_Myxococcales</td>\n",
       "      <td>uncl_o_Myxococcales</td>\n",
       "      <td>uncl_o_Myxococcales</td>\n",
       "      <td>Otu794</td>\n",
       "      <td>uncl_o_Myxococcales_Otu794</td>\n",
       "    </tr>\n",
       "  </tbody>\n",
       "</table>\n",
       "</div>"
      ],
      "text/plain": [
       "             Domain            Phylum                  Class           Order  \\\n",
       "Otu2451  d_Bacteria  p_Proteobacteria  c_Deltaproteobacteria  o_Myxococcales   \n",
       "Otu2692  d_Bacteria  p_Proteobacteria  c_Deltaproteobacteria  o_Myxococcales   \n",
       "Otu1855  d_Bacteria  p_Proteobacteria  c_Deltaproteobacteria  o_Myxococcales   \n",
       "Otu3266  d_Bacteria  p_Proteobacteria  c_Deltaproteobacteria  o_Myxococcales   \n",
       "Otu794   d_Bacteria  p_Proteobacteria  c_Deltaproteobacteria  o_Myxococcales   \n",
       "\n",
       "                      Family                    Genus  \\\n",
       "Otu2451   f_Cystobacteraceae  uncl_f_Cystobacteraceae   \n",
       "Otu2692   f_Cystobacteraceae       g_Anaeromyxobacter   \n",
       "Otu1855  uncl_o_Myxococcales      uncl_o_Myxococcales   \n",
       "Otu3266  uncl_o_Myxococcales      uncl_o_Myxococcales   \n",
       "Otu794   uncl_o_Myxococcales      uncl_o_Myxococcales   \n",
       "\n",
       "                                 Species   Strain  \\\n",
       "Otu2451          uncl_f_Cystobacteraceae  Otu2451   \n",
       "Otu2692  s_Anaeromyxobacter_dehalogenans  Otu2692   \n",
       "Otu1855              uncl_o_Myxococcales  Otu1855   \n",
       "Otu3266              uncl_o_Myxococcales  Otu3266   \n",
       "Otu794               uncl_o_Myxococcales   Otu794   \n",
       "\n",
       "                                 catglab  \n",
       "Otu2451  uncl_f_Cystobacteraceae_Otu2451  \n",
       "Otu2692       g_Anaeromyxobacter_Otu2692  \n",
       "Otu1855      uncl_o_Myxococcales_Otu1855  \n",
       "Otu3266      uncl_o_Myxococcales_Otu3266  \n",
       "Otu794        uncl_o_Myxococcales_Otu794  "
      ]
     },
     "execution_count": 6,
     "metadata": {},
     "output_type": "execute_result"
    }
   ],
   "source": [
    "df = pandas.read_csv(OTUlist, sep = \"\\t\")\n",
    "df.head()"
   ]
  },
  {
   "cell_type": "code",
   "execution_count": 3,
   "metadata": {},
   "outputs": [
    {
     "data": {
      "text/plain": [
       "['Otu2451', 'Otu2692', 'Otu1855', 'Otu3266']"
      ]
     },
     "execution_count": 3,
     "metadata": {},
     "output_type": "execute_result"
    }
   ],
   "source": [
    "df = pandas.read_csv(OTUlist, sep = \"\\t\")\n",
    "OTUcheck = df.Strain.tolist()\n",
    "OTUcheck[0:4]"
   ]
  },
  {
   "cell_type": "code",
   "execution_count": 7,
   "metadata": {},
   "outputs": [
    {
     "name": "stderr",
     "output_type": "stream",
     "text": [
      "/home/be68/anaconda3/lib/python3.6/site-packages/ipykernel_launcher.py:3: DeprecationWarning: 'U' mode is deprecated\n",
      "  This is separate from the ipykernel package so we can avoid doing imports until\n"
     ]
    }
   ],
   "source": [
    "output = open(\"/home/be68/Hyphosphere/data/Myxococcales/OTUtree/MyxOTUseqs.fa\", \"w\")\n",
    "\n",
    "for record in SeqIO.parse(open(FastaSource, \"rU\"), \"fasta\") :\n",
    "    if record.id in OTUcheck:\n",
    "        output.write(\">\"+record.id+\"\\n\"+str(record.seq)+\"\\n\")\n"
   ]
  }
 ],
 "metadata": {
  "kernelspec": {
   "display_name": "Python 3",
   "language": "python",
   "name": "python3"
  },
  "language_info": {
   "codemirror_mode": {
    "name": "ipython",
    "version": 3
   },
   "file_extension": ".py",
   "mimetype": "text/x-python",
   "name": "python",
   "nbconvert_exporter": "python",
   "pygments_lexer": "ipython3",
   "version": "3.6.3"
  }
 },
 "nbformat": 4,
 "nbformat_minor": 2
}
