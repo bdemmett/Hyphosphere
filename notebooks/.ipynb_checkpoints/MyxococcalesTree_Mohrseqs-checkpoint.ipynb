{
 "cells": [
  {
   "cell_type": "markdown",
   "metadata": {},
   "source": [
    "# Myxococcales tree\n",
    "* Download Myxococcales sequences from NCBI from Mohr et al 2015\n",
    "* Align with Myxococcales from Hyphosphere run to determine which groups sequences belong to"
   ]
  },
  {
   "cell_type": "code",
   "execution_count": 1,
   "metadata": {
    "collapsed": true
   },
   "outputs": [],
   "source": [
    "workDir = '/home/be68/Hyphosphere/data/Myxococcales'\n",
    "OTUFileDir = '/home/be68/Hyphosphere/data/Myxococcales'\n",
    "OTUFile = 'Myxococcales.fa'\n",
    "\n",
    "\n",
    "nprocs = 3"
   ]
  },
  {
   "cell_type": "code",
   "execution_count": 2,
   "metadata": {
    "collapsed": true
   },
   "outputs": [],
   "source": [
    "import os\n",
    "import numpy as np\n",
    "#import entrez.direct\n",
    "from cogent.app.fasttree import build_tree_from_alignment\n",
    "from cogent import DNA, LoadSeqs\n",
    "from Bio import Entrez\n",
    "Entrez.email = \"be68@cornell.edu\""
   ]
  },
  {
   "cell_type": "code",
   "execution_count": 3,
   "metadata": {
    "collapsed": true
   },
   "outputs": [],
   "source": [
    "if not os.path.isdir(workDir):\n",
    "    os.mkdir(workDir)"
   ]
  },
  {
   "cell_type": "code",
   "execution_count": 4,
   "metadata": {
    "collapsed": true
   },
   "outputs": [],
   "source": [
    "os.chdir(workDir)"
   ]
  },
  {
   "cell_type": "code",
   "execution_count": 11,
   "metadata": {},
   "outputs": [],
   "source": [
    "sso_acc = \"KJ475674\"\n",
    "sso_fa = Entrez.efetch(db=\"nucleotide\", id=sso_acc, rettype=\"fasta\", retmode=\"text\").readlines()"
   ]
  },
  {
   "cell_type": "markdown",
   "metadata": {},
   "source": [
    "## Get sequences from clone libraries acc. (KJ475674–KJ475752)"
   ]
  },
  {
   "cell_type": "markdown",
   "metadata": {},
   "source": [
    "* set list values for accessions"
   ]
  },
  {
   "cell_type": "code",
   "execution_count": 68,
   "metadata": {},
   "outputs": [
    {
     "data": {
      "text/plain": [
       "['KJ475674',\n",
       " 'KJ475675',\n",
       " 'KJ475676',\n",
       " 'KJ475677',\n",
       " 'KJ475678',\n",
       " 'KJ475679',\n",
       " 'KJ475680',\n",
       " 'KJ475681',\n",
       " 'KJ475682',\n",
       " 'KJ475683',\n",
       " 'KJ475684',\n",
       " 'KJ475685',\n",
       " 'KJ475686',\n",
       " 'KJ475687',\n",
       " 'KJ475688',\n",
       " 'KJ475689',\n",
       " 'KJ475690',\n",
       " 'KJ475691',\n",
       " 'KJ475692',\n",
       " 'KJ475693',\n",
       " 'KJ475694',\n",
       " 'KJ475695',\n",
       " 'KJ475696',\n",
       " 'KJ475697',\n",
       " 'KJ475698',\n",
       " 'KJ475699',\n",
       " 'KJ475700',\n",
       " 'KJ475701',\n",
       " 'KJ475702',\n",
       " 'KJ475703',\n",
       " 'KJ475704',\n",
       " 'KJ475705',\n",
       " 'KJ475706',\n",
       " 'KJ475707',\n",
       " 'KJ475708',\n",
       " 'KJ475709',\n",
       " 'KJ475710',\n",
       " 'KJ475711',\n",
       " 'KJ475712',\n",
       " 'KJ475713',\n",
       " 'KJ475714',\n",
       " 'KJ475715',\n",
       " 'KJ475716',\n",
       " 'KJ475717',\n",
       " 'KJ475718',\n",
       " 'KJ475719',\n",
       " 'KJ475720',\n",
       " 'KJ475721',\n",
       " 'KJ475722',\n",
       " 'KJ475723',\n",
       " 'KJ475724',\n",
       " 'KJ475725',\n",
       " 'KJ475726',\n",
       " 'KJ475727',\n",
       " 'KJ475728',\n",
       " 'KJ475729',\n",
       " 'KJ475730',\n",
       " 'KJ475731',\n",
       " 'KJ475732',\n",
       " 'KJ475733',\n",
       " 'KJ475734',\n",
       " 'KJ475735',\n",
       " 'KJ475736',\n",
       " 'KJ475737',\n",
       " 'KJ475738',\n",
       " 'KJ475739',\n",
       " 'KJ475740',\n",
       " 'KJ475741',\n",
       " 'KJ475742',\n",
       " 'KJ475743',\n",
       " 'KJ475744',\n",
       " 'KJ475745',\n",
       " 'KJ475746',\n",
       " 'KJ475747',\n",
       " 'KJ475748',\n",
       " 'KJ475749',\n",
       " 'KJ475750',\n",
       " 'KJ475751',\n",
       " 'KJ475752',\n",
       " 'KP18974',\n",
       " 'KP18975',\n",
       " 'KP18976',\n",
       " 'KP18977',\n",
       " 'KP18978',\n",
       " 'KP18979']"
      ]
     },
     "execution_count": 68,
     "metadata": {},
     "output_type": "execute_result"
    }
   ],
   "source": [
    "#MorhCloneList = list(\"KJ\" + str(range(475674,475752)))\n",
    "#MorhCloneList\n",
    "clonelist = []\n",
    "for i in range(475674, 475753): #final accession number +1 because it is \"up to but not including\"\n",
    "    acc = \"KJ\" + str(i)\n",
    "    clonelist.append(acc) \n",
    "\n",
    "culturelist = []\n",
    "#KP18974–KP18979\n",
    "for i in range(18974, 18980):\n",
    "    acc = \"KP\" + str(i)\n",
    "    culturelist.append(acc) \n",
    "\n",
    "FullList = clonelist + culturelist\n",
    "\n",
    "FullList\n",
    "\n",
    "\n"
   ]
  },
  {
   "cell_type": "code",
   "execution_count": 65,
   "metadata": {},
   "outputs": [
    {
     "data": {
      "text/plain": [
       "['>KJ475674.1 Uncultured Cystobacterineae bacterium clone KC2 16S ribosomal RNA gene, partial sequence\\n',\n",
       " 'GAAGCAGCACCGGCTAACTCTGTGCCAGCAGCCGCGGTAATACAGAGGGTGCAAGCGTTGTTCGGAATTA\\n',\n",
       " 'TTGGGCGTAAAGCGCGTGTAGGCGGCTAGGCAAGTCGGGTGTGAAAGCCCTCAGCTCAACTGAGGAAGTG\\n',\n",
       " 'CGCCCGAAACTGCTTTGCTTGAGTGCTGGAGAGGGTCGCGGAATTCCCGAAGTAGAGGTGAAATTCGTAG\\n',\n",
       " 'ATATCGGGAGGAACACCGGTGGCGAAGGCGGCGACCTGGACAGTAACTGACGCTGAGACGCGAAAGCGTG\\n',\n",
       " 'GGTAGCAAACAGGATTAGATACCCTGGTAGTCCACGCCGTAAACGATGAGAACTAGGTGTCGTGGGTGTT\\n',\n",
       " 'GACCCCCGCGGTGCCGTAGCTAACGCATTAAGTTCTCCGCCTGGGAAGTACGGCCGCAAGGCTAAAACTC\\n',\n",
       " 'AAAGGAATTGACGGGGGCCCGCACAAGCGGTGGAGCATGTGGTTTAATTCGACGCAACGCGCAGAACCTT\\n',\n",
       " 'ACCTGGTCTTGACATCCCAGGAATCCGCCAGAGATGGTGGAGTGCCCGCAAGGGAGCCTGGAGACAGGCG\\n',\n",
       " 'CTGCATGGCTGTCGTCAGCTCGTGTCGTGAGATGTTGGGTTAAGTCCCGCAACGAGCGCAACCCTCGCCT\\n',\n",
       " 'TTAGTTGCCACGCAAGTGGATCTCTAGAGGGACTGCCGGTGTTAAACCGGAGGAAGGTGGGGATGACGTC\\n',\n",
       " 'AAGTCCTCATGGCCTTTATGACCAGGGCTACACACGTGCTACAATGGCCGGTACAATGCGCTGCCAACTC\\n',\n",
       " 'GCGAGAGGGAGCTAATCGCATAAAACCGGTCTCA\\n',\n",
       " '\\n']"
      ]
     },
     "execution_count": 65,
     "metadata": {},
     "output_type": "execute_result"
    }
   ],
   "source": [
    "# sso_acc = \"KJ475674\"\n",
    "# sso_fa = Entrez.efetch(db=\"nucleotide\", id=sso_acc, rettype=\"fasta\", retmode=\"text\").readlines()\n",
    "# sso_fa"
   ]
  },
  {
   "cell_type": "code",
   "execution_count": 70,
   "metadata": {},
   "outputs": [
    {
     "name": "stdout",
     "output_type": "stream",
     "text": [
      "KJ475674complete\n",
      "KJ475675complete\n",
      "KJ475676complete\n",
      "KJ475677complete\n",
      "KJ475678complete\n",
      "KJ475679complete\n",
      "KJ475680complete\n",
      "KJ475681complete\n",
      "KJ475682complete\n",
      "KJ475683complete\n",
      "KJ475684complete\n",
      "KJ475685complete\n",
      "KJ475686complete\n",
      "KJ475687complete\n",
      "KJ475688complete\n",
      "KJ475689complete\n",
      "KJ475690complete\n",
      "KJ475691complete\n",
      "KJ475692complete\n",
      "KJ475693complete\n",
      "KJ475694complete\n",
      "KJ475695complete\n",
      "KJ475696complete\n",
      "KJ475697complete\n",
      "KJ475698complete\n",
      "KJ475699complete\n",
      "KJ475700complete\n",
      "KJ475701complete\n",
      "KJ475702complete\n",
      "KJ475703complete\n",
      "KJ475704complete\n",
      "KJ475705complete\n",
      "KJ475706complete\n",
      "KJ475707complete\n",
      "KJ475708complete\n",
      "KJ475709complete\n",
      "KJ475710complete\n",
      "KJ475711complete\n",
      "KJ475712complete\n",
      "KJ475713complete\n",
      "KJ475714complete\n",
      "KJ475715complete\n",
      "KJ475716complete\n",
      "KJ475717complete\n",
      "KJ475718complete\n",
      "KJ475719complete\n",
      "KJ475720complete\n",
      "KJ475721complete\n",
      "KJ475722complete\n",
      "KJ475723complete\n",
      "KJ475724complete\n",
      "KJ475725complete\n",
      "KJ475726complete\n",
      "KJ475727complete\n",
      "KJ475728complete\n",
      "KJ475729complete\n",
      "KJ475730complete\n",
      "KJ475731complete\n",
      "KJ475732complete\n",
      "KJ475733complete\n",
      "KJ475734complete\n",
      "KJ475735complete\n",
      "KJ475736complete\n",
      "KJ475737complete\n",
      "KJ475738complete\n",
      "KJ475739complete\n",
      "KJ475740complete\n",
      "KJ475741complete\n",
      "KJ475742complete\n",
      "KJ475743complete\n",
      "KJ475744complete\n",
      "KJ475745complete\n",
      "KJ475746complete\n",
      "KJ475747complete\n",
      "KJ475748complete\n",
      "KJ475749complete\n",
      "KJ475750complete\n",
      "KJ475751complete\n",
      "KJ475752complete\n",
      "KP18974error\n",
      "KP18975error\n",
      "KP18976error\n",
      "KP18977error\n",
      "KP18978error\n",
      "KP18979error\n"
     ]
    }
   ],
   "source": [
    "out = open(os.path.join(workDir, 'Mohr.fasta'), 'w')\n",
    "\n",
    "for i in FullList:\n",
    "    sso_acc = i\n",
    "    #print(sso_acc)\n",
    "    try:    \n",
    "        sso_fa = Entrez.efetch(db=\"nucleotide\", id=sso_acc, rettype=\"fasta\", retmode=\"text\").readlines()\n",
    "        print(sso_acc + \"complete\")\n",
    "    except:\n",
    "        print(sso_acc + \"error\")\n",
    "    # sso_fa_namestrip = sso_fa[1:]\n",
    "    # sso_fa_namestrip.insert(0,\">%s\\n\"%sso_acc)\n",
    "    # sso_fa_namestrip\n",
    "    out.writelines(sso_fa)\n",
    "\n",
    "out.close()"
   ]
  },
  {
   "cell_type": "code",
   "execution_count": 72,
   "metadata": {},
   "outputs": [
    {
     "name": "stdout",
     "output_type": "stream",
     "text": [
      "GAGACAGGTGCTGCATGGCTGTCGTCAGCTCGTGTCGTGAGATGTTGGGTTAAGTCCCGCAACGAGCGCA\r\n",
      "ACCCTCGCCTTTAGTTGCCAC\r\n",
      "\r\n",
      ">KJ475752.1 Uncultured Cystobacterineae bacterium clone KB1 16S ribosomal RNA gene, partial sequence\r\n",
      "GGTACCGGGAGAAGAAGCACCGGCTAACTCTGTGCCAGCAGCCGCGGTAATACAGAGGGTGCAAGCGTTG\r\n",
      "TTCGGAATTATTGGGCGTAAAGCGCGTGTAGGCGGCTTTGCAAGTCGGGTGTGAAAGCCCTCAGCTCAAC\r\n",
      "TGAGGAAGTGCGCCCGAAACTGCAGAGCTTGAGTGCCGGAGAGGGTGGCGGAATTCCCCAAGTAGAGGTG\r\n",
      "AAATTCGTAGATATGGGGAGGAACACCGGTGGCGAAGGCGGCCACCTGGACGGTAACTGACGCTGAGACG\r\n",
      "CGAAAGCGTGGGGAGCAAACAGGATTAGATACCCTGGTAGTCCACGCCGTAAACGATGAGAACTAGGTGT\r\n",
      "CGTGGGTGTTGACCCCCGCGGTGCCGTAGCTAACGCATTAAGTTCTCCGCCTGGGAAGTACGGTCGCAAG\r\n",
      "ACTAAAACTCAAAGGAATTGACGGGGGCCCGCACAAGCGGTGGAGCATGTGGTTTAATTCGACGCAACGC\r\n",
      "GCAGAACCTTACCTGGTCTTGACGTCCTCGGAATCCTTCAGAGATGAGGGAGTGCCCGCAAGGGAACCGA\r\n",
      "GAGACAGGTGCTGCATGGCTGTCGTCAGCTCGTGTCGTGAGATGTTGGGTTAAGTCCCGCAACGAGCGCA\r\n",
      "ACCCTCGCCTTTAGTTGCCAC\r\n",
      "\r\n"
     ]
    }
   ],
   "source": [
    "!tail Mohr.fasta -n 15\n"
   ]
  },
  {
   "cell_type": "code",
   "execution_count": 73,
   "metadata": {},
   "outputs": [
    {
     "name": "stdout",
     "output_type": "stream",
     "text": [
      ">NR_027547.1 Anaeromyxobacter dehalogenans strain 2CP-1 16S ribosomal RNA, partial sequence\r\n",
      "AGAGTTTGATCCTGGCTCAGAACGAACGCTGGCGGCGTGCCTAACACATGCAAGTCGAGCGAGAAAGCCC\r\n",
      "GCAAGGGTGAGTAAAGCGGCGCACGGGTGCGTAACACGTGGGTAATCTGCCCTAGAGTCCGGAATAACTC\r\n",
      "GCCGAAAGGCGTGCTAATGCCGGATGAGACCACGGGAGCTTCGGCTCCTGCGGGAAAAGGTGGCCTCTGT\r\n",
      "ACACAAGCTATCGCTCTAGGATGAGCCCGCGGCCCATCAGCTCGTTGGCGGGGTAACGGCCCACCAAGGC\r\n",
      "AACGACGGGTAGCTGGTCTGAGAGGACGATCAGCCACACTGGAACTGAGACACGGTCCAGACTCCTACGG\r\n",
      "GAGGCAGCAGTGGGGAATCTTGCGCAATGGGCGAAAGCCTGACGCAGCAACGCCGCGTGTGTGATGAAGG\r\n",
      "TCTTCGGATCGTAAAGCACTGTCGCGAGGGACGAATAAGGGACGGGCGAACAGTCCGTTTCGATGACGGT\r\n",
      "ACCTCGAGAGGAAGCACCGGCTAACTCTGTGCCAGCAGCCGCGGTAATACAGAGGGTGCGAGCGTTGTTC\r\n",
      "GGAATTATTGGGCGTAAAGCGCGTGTAGGCGGCCTAGCAAGTCGGATGTGAAAGCCCTCGGCTTAACCGA\r\n"
     ]
    }
   ],
   "source": [
    "!head TypeStrains.fa"
   ]
  },
  {
   "cell_type": "markdown",
   "metadata": {},
   "source": [
    "# From here: \n",
    "* add outgroups\n",
    "* align new sequences to the mask from FastTree notebook"
   ]
  }
 ],
 "metadata": {
  "kernelspec": {
   "display_name": "Python 2",
   "language": "python",
   "name": "python2"
  },
  "language_info": {
   "codemirror_mode": {
    "name": "ipython",
    "version": 2
   },
   "file_extension": ".py",
   "mimetype": "text/x-python",
   "name": "python",
   "nbconvert_exporter": "python",
   "pygments_lexer": "ipython2",
   "version": "2.7.14"
  }
 },
 "nbformat": 4,
 "nbformat_minor": 2
}
