{
 "cells": [
  {
   "cell_type": "markdown",
   "metadata": {},
   "source": [
    "# Myxococcales 952 isolate tree\n",
    "* Align hyphal enriched Myxococcales OTUs from sequencing run with type strains from RDP \n",
    "* Full length sequences of 952 Myxococcales isolates downloaded from RDP\n",
    "* Desulfobacteria used as outgroup\n"
   ]
  },
  {
   "cell_type": "code",
   "execution_count": 15,
   "metadata": {
    "collapsed": true
   },
   "outputs": [],
   "source": [
    "workDir = '/home/be68/Hyphosphere/data/Myxococcales/952isolateTree/'\n",
    "#OTUFileDir = '/home/be68/Hyphosphere/data/Myxococcales/'\n",
    "RDPfile = 'rdp_download_952seqs.fa'\n",
    "HyphalOTUFile = '/home/be68/Hyphosphere/data/Myxococcales/HyphalMyxo.fa'\n",
    "\n",
    "\n",
    "nprocs = 3"
   ]
  },
  {
   "cell_type": "code",
   "execution_count": 2,
   "metadata": {
    "collapsed": true
   },
   "outputs": [],
   "source": [
    "import os, re\n",
    "import numpy as np\n",
    "#import entrez.direct\n",
    "from cogent.app.fasttree import build_tree_from_alignment\n",
    "from cogent import DNA, LoadSeqs\n",
    "from Bio import Entrez\n",
    "Entrez.email = \"be68@cornell.edu\""
   ]
  },
  {
   "cell_type": "code",
   "execution_count": 3,
   "metadata": {
    "collapsed": true
   },
   "outputs": [],
   "source": [
    "if not os.path.isdir(workDir):\n",
    "    os.mkdir(workDir)"
   ]
  },
  {
   "cell_type": "code",
   "execution_count": 4,
   "metadata": {
    "collapsed": true
   },
   "outputs": [],
   "source": [
    "os.chdir(workDir)"
   ]
  },
  {
   "cell_type": "code",
   "execution_count": 11,
   "metadata": {
    "collapsed": true
   },
   "outputs": [],
   "source": [
    "# sso_acc = \"KJ475674\"\n",
    "# sso_fa = Entrez.efetch(db=\"nucleotide\", id=sso_acc, rettype=\"fasta\", retmode=\"text\").readlines()"
   ]
  },
  {
   "cell_type": "code",
   "execution_count": 7,
   "metadata": {},
   "outputs": [
    {
     "name": "stdout",
     "output_type": "stream",
     "text": [
      ">S000016132 Bdellovibrio sp. Gunpowder; AF084853\n",
      "--------------------------------------------------------------------------------\n",
      "--------------------------------------------------------AAC---G-AACG--CT-G--GC-G\n",
      "-G--C----G---T-GCC--T--AACAC---A-TG--CA-----AGT-CGA-ACGcgaaagtccttcgggatgagtaa--\n",
      "-------------------AGTGGCGCACGG-GTG-AGTAACACGTAGGTGACCTGCCTT--TTAATG-GGGAATAACCA\n",
      "GATGAAAA-TTTGGCTAATGCCGCATACG-AAGCA--CAAaAC-TAAGAGTAG-TGC-TT--GAAAGAatgcctctgtat\n",
      "atgcat----TCGTTAAGAGATGGGCCTGCG--GTACATT-A-GCTAG--TT--GGTGG-GGTAAAGGCCTACCAAGGCA\n",
      "ACGATGTATATCCGGTCTGAGAGGATGAT-CGG-A-CACACTGGAACTGAGACAC-GGTC-CAGAC--TCCTACGG---G\n",
      "AGGCAGC-A----GTGG-----------GGAATATTGCGCA--ATGGGG-------GAA-ACCCTGACGC-AG-CAA-C-\n",
      "GCC-GCGT-GAGT-GAGGAAGGACTT-CGGTCTGTAAAGCTCTGTTAA-TGAG-GA-AAAatggcatctggtctaatagg\n",
      "ccggatgtt-TGAT-GGTA-CT-CATA-GAGG--AA-GC-AC-C-GG------CT--AAC-TT-CGTGC-C--AGCAG-C\n",
      "CGC-GGTAA-TA-CG-A-A-G-GGT-GCA-AG-CGTTGT-TC-GG------------A-TTTATTG--GGC-GTAAAG-C\n",
      "G-CG-CGTAGGTGGA-CC-TGCAAGTCAG-AT-GTGAAAT--CTCGGGGCTCAACCTC--GAAAC-TGCGTC-TGA-AAC\n",
      "T-ACAGGTCTAG-AG-TCTCG-GAGG-GGGA-AGGGGAA-TTTC--GCATGT--AGGGGTAAAATCC-G-TAGATATGC-\n",
      "GAAGGA-ACAC-CA-GAG-GCGA-A-GGC-GCC-TT-CCT-GGACGA--GTACTGAC-ACT-GAGGCGC-GAAAGCGTGG\n",
      ">Otu10\n",
      "TACGAAGGGTGCAAACGTTGCTCGGAATCATTGGGCGTAAAGCGCACGTAGGCGGCTTTGCAAGTCGGATGTGAAATCCCGTGGCTCAACCATGGACGTGCATTCGAAACTGCAAAGCTTGAGTATGGAAGAGGGTCGCGGAATTCCCGGTGTAGAGGTGAAATTCGTAGATATCGGGAGGAACACCAGTGGCGAAGGCGGCGACCTGGGCCAATACTGACGCTGAGGTGCGAAAGCGTGGGGAGCAAACAGG\n",
      ">Otu52\n",
      "GACAGAGGGTGCAAACGTTGTTCGGAATTACTGGGCGTAAAGCGCGTGTAGGCGGCCCTGCAAGTCGGATGTGAAATCCCACGGCTCAACCATGGAAGTGCATTCGAAACTGCAGAGCTAGAGTCCTGGAGAGGAAGGTGGAATGCTTGGTGTAGAGGTGAAATTCGTAGATATCAAGCGGAACACCGGTGGCGAAGGCGGCCTTCTGGACAGTGACTGACGCTGAGACGCGAAAGCGTGGGGAGCAAACAGG\n",
      ">Otu126\n",
      "TACAGAGGGTGCAAACGTTGCTCGGAATCATTGGGCGTAAAGCGCACGTAGGCGGTCCGACAAGTGGGGAGTGAAAGCCCTCGGCTTAACCGAGGAAGTGCTTTCCAAACTGCCGGACTTGAGTACGCAAGAGGATCGCGGAATTCCCGGTGTAGAGGTGAAATTCGTAGATATCGGGAGGAACACCAGCGGCGAAGGCGGCGATCTGGGGCGATACTGACGCTGAGGTGCGAAAGCGTGGGGAGCAAACAGG\n",
      ">Otu129\n",
      "TACAGAGGGTGCAAACGTTGCTCGGAATCATTGGGCGTAAAGCGCACGTAGGCGGCCCAGCAAGTGGGGAGTGAAAGCCCTCGGCTTAACCGAGGAAGTGCTTTCCAAACTACTGGGCTTGAATACTGGAGAGGGTCGCGGAATTCCCGGTGTAGAGGTGAAATTCGTAGATATCGGGAGGAACACCAGTGGCGAAGGCGGCGACCTGGACAGATATTGACGCTGAGGTGCGAAAGCGTGGGGAGCAAACAGG\n"
     ]
    }
   ],
   "source": [
    "%%bash -s \"$OTUFile\" \"$HyphalOTUFile\"\n",
    "head $1 -n 15\n",
    "head $2 -n 8\n"
   ]
  },
  {
   "cell_type": "code",
   "execution_count": 13,
   "metadata": {
    "collapsed": true
   },
   "outputs": [],
   "source": [
    "# %%bash -s \"$OTUFile\" \"$HyphalOTUFile\"\n",
    "# cat $1 $2 > \"SeqFile.fa\""
   ]
  },
  {
   "cell_type": "code",
   "execution_count": 24,
   "metadata": {
    "collapsed": true
   },
   "outputs": [],
   "source": [
    "## attempt to remove gaps in python, easier to do in nano.\n",
    "# handle = open(\"SeqFile.fa\")\n",
    "# #counter = 0\n",
    "# for line in handle:\n",
    "#     if line.startswith(\">\"):\n",
    "#         #counter = counter + 1\n",
    "#         continue\n",
    "#     line = re.sub('-','',line)   \n",
    "#     print(line)\n",
    "        "
   ]
  },
  {
   "cell_type": "markdown",
   "metadata": {},
   "source": [
    "## Using SSU-Align to seqs from hyphal samples and mask based on alignment posterior probabilities."
   ]
  },
  {
   "cell_type": "markdown",
   "metadata": {},
   "source": [
    "### Align hyphal OTUs"
   ]
  },
  {
   "cell_type": "code",
   "execution_count": 8,
   "metadata": {},
   "outputs": [
    {
     "name": "stdout",
     "output_type": "stream",
     "text": [
      "# _ssu-prep :: prepare SSU rRNA sequences for parallel ssu-align jobs\n",
      "# SSU-ALIGN 0.1.1 (Feb 2016)\n",
      "# Copyright (C) 2016 Howard Hughes Medical Institute\n",
      "# Freely distributed under the BSD open source license.\n",
      "# - - - - - - - - - - - - - - - - - - - - - - - - - - - - - - - - - - - -\n",
      "# command: _ssu-prep -x -f -b 50 --dna --rfonly /home/be68/Hyphosphere/data/Myxococcales/HyphalMyxo.fa ssu_aln 1\n",
      "# date:    Thu Feb 22 11:38:40 2018\n",
      "#\n",
      "# Validating input sequence file ... done.\n",
      "#\n",
      "# Preparing 1 ssu-align jobs ...\n",
      "# Partitioning seqs with goal of equalizing total number of nucleotides per job ...\n",
      "#\n",
      "# output file name      description                                       \n",
      "# --------------------  --------------------------------------------------\n",
      "  ssu_aln/HyphalMyxo.fa.1  partition 1 FASTA sequence file (19 seqs; 4807 nt)\n",
      "  ssu_aln.ssu-align.sh  shell script that will execute 1 ssu-align jobs\n",
      "#\n",
      "################################################################################\n",
      "# To execute all 1 ssu-align jobs, run the shell script with the command:\n",
      "#\t\"ssu_aln.ssu-align.sh\"\n",
      "# (it is an executable file)\n",
      "################################################################################\n",
      "#\n",
      "# The final job will merge the output from all jobs once they are all finished.\n",
      "#\n",
      "# If one or more jobs fail: rerun the failed jobs, wait for them to finish,\n",
      "# and then perform manual merge from this directory by executing:\n",
      "#\tssu-merge ssu_aln\n",
      "#\n",
      "# List of executed commands saved in:     ssu_aln/ssu_aln.ssu-prep.log.\n",
      "# Output printed to the screen saved in:  ssu_aln/ssu_aln.ssu-prep.sum.\n",
      "#\n",
      "# CPU time:  00:00:00.28  (hh:mm:ss)\n",
      "# \n"
     ]
    }
   ],
   "source": [
    "%%bash -s \"$HyphalOTUFile\"\n",
    "ssu-prep -f -x -b 50 --rfonly --dna $1 ssu_aln 1"
   ]
  },
  {
   "cell_type": "code",
   "execution_count": 9,
   "metadata": {
    "scrolled": false
   },
   "outputs": [
    {
     "name": "stdout",
     "output_type": "stream",
     "text": [
      "# Executing: ssu-align --merge 1 -b 50 --dna --rfonly ssu_aln/HyphalMyxo.fa.1 ssu_aln/ssu_aln.1\n",
      "# _ssu-align :: align SSU rRNA sequences\n",
      "# SSU-ALIGN 0.1.1 (Feb 2016)\n",
      "# Copyright (C) 2016 Howard Hughes Medical Institute\n",
      "# Freely distributed under the BSD open source license.\n",
      "# - - - - - - - - - - - - - - - - - - - - - - - - - - - - - - - - - - - -\n",
      "# command: _ssu-align --merge 1 -b 50 --dna --rfonly ssu_aln/HyphalMyxo.fa.1 ssu_aln/ssu_aln.1\n",
      "# date:    Thu Feb 22 11:38:45 2018\n",
      "#\n",
      "# Validating input sequence file ... done.\n",
      "#\n",
      "# Stage 1: Determining SSU start/end positions and best-matching models...\n",
      "#\n",
      "# output file name            description                                \n",
      "# --------------------------  -------------------------------------------\n",
      "  ssu_aln.1.tab               locations/scores of hits defined by HMM(s)\n",
      "  ssu_aln.1.bacteria.hitlist  list of sequences to align with bacteria CM\n",
      "  ssu_aln.1.bacteria.fa            19 sequences to align with bacteria CM\n",
      "#\n",
      "# Stage 2: Aligning each sequence to its best-matching model...\n",
      "#\n",
      "# output file name            description\n",
      "# --------------------------  ---------------------------------------\n",
      "  ssu_aln.1.bacteria.stk      bacteria alignment\n",
      "  ssu_aln.1.bacteria.cmalign  bacteria cmalign output\n",
      "  ssu_aln.1.bacteria.ifile    bacteria insert info\n",
      "  ssu_aln.1.scores            list of CM/HMM scores for each sequence\n",
      "#\n",
      "# Summary statistics:\n",
      "#\n",
      "# model or       number  fraction        average   average               \n",
      "# category      of seqs  of total         length  coverage    nucleotides\n",
      "# ------------  -------  --------  -------------  --------  -------------\n",
      "  *input*            19    1.0000         253.00    1.0000           4807\n",
      "#\n",
      "  archaea             0    0.0000              -         -              0\n",
      "  bacteria           19    1.0000         252.74    0.9990           4802\n",
      "  eukarya             0    0.0000              -         -              0\n",
      "#\n",
      "  *all-models*       19    1.0000         252.74    0.9990           4802\n",
      "  *no-models*         0    0.0000              -         -              0\n",
      "#\n",
      "# Speed statistics:\n",
      "#\n",
      "# stage      num seqs  seq/sec  seq/sec/model    nucleotides    nt/sec\n",
      "# ---------  --------  -------  -------------  -------------  --------\n",
      "  search           19    9.049          3.016           4807    2289.5\n",
      "  alignment        19    7.546          7.546           4802    1907.2\n",
      "#\n",
      "#\n",
      "# List of executed commands saved in:     ssu_aln.1.ssu-align.log.\n",
      "# Output printed to the screen saved in:  ssu_aln.1.ssu-align.sum.\n",
      "#\n",
      "# All output files created in directory ./ssu_aln/ssu_aln.1/\n",
      "#\n",
      "# CPU time (search):     00:00:02.10  (hh:mm:ss)\n",
      "# CPU time (alignment):  00:00:02.52  (hh:mm:ss)\n",
      "# CPU time (total):      00:00:04.79  (hh:mm:ss)\n",
      "#\n",
      "################################################################################\n",
      "#\n",
      "# Alignments successfully created.\n",
      "#\n",
      "# Checking/waiting for other jobs to finish before merging...\n",
      "#\n",
      "# Job 1 (dir: ssu_aln/ssu_aln.1) completed successfully! 0/1 still incomplete.\n",
      "#\n",
      "# All 1 jobs successfully completed.\n",
      "# About to merge their output:\n",
      "#\n",
      "# Executing:  ssu-merge ssu_aln\n",
      "#\n",
      "################################################################################\n",
      "#\n",
      "# _ssu-merge :: merge SSU rRNA alignments\n",
      "# SSU-ALIGN 0.1.1 (Feb 2016)\n",
      "# Copyright (C) 2016 Howard Hughes Medical Institute\n",
      "# Freely distributed under the BSD open source license.\n",
      "# - - - - - - - - - - - - - - - - - - - - - - - - - - - - - - - - - - - -\n",
      "# command: _ssu-merge ssu_aln\n",
      "# date:    Thu Feb 22 11:38:50 2018\n",
      "#\n",
      "# Merging files from 1 ssu-align runs...\n",
      "#\n",
      "#                                     # files     # seqs\n",
      "# merged file name          CM name    merged     merged\n",
      "# ------------------------  --------  -------  ---------\n",
      "  ssu_aln.tab               -               1          -\n",
      "  ssu_aln.scores            -               1          -\n",
      "  ssu_aln.ssu-align.sum     -               1          -\n",
      "  ssu_aln.ssu-align.log     -               1          -\n",
      "#\n",
      "  ssu_aln.bacteria.fa       bacteria        1         19\n",
      "  ssu_aln.bacteria.hitlist  bacteria        1         19\n",
      "  ssu_aln.bacteria.cmalign  bacteria        1         19\n",
      "  ssu_aln.bacteria.ifile    bacteria        1         19\n",
      "  ssu_aln.bacteria.stk      bacteria        1         19\n",
      "#\n",
      "#\n",
      "# Summary statistics:\n",
      "#\n",
      "# model or       number  fraction        average   average               \n",
      "# category      of seqs  of total         length  coverage    nucleotides\n",
      "# ------------  -------  --------  -------------  --------  -------------\n",
      "  *input*            19    1.0000         253.00    1.0000           4807\n",
      "#\n",
      "  archaea             0    0.0000              -         -              0\n",
      "  bacteria           19    1.0000         252.74    0.9990           4802\n",
      "  eukarya             0    0.0000              -         -              0\n",
      "#\n",
      "  *all-models*       19    1.0000         252.74    0.9990           4802\n",
      "  *no-models*         0    0.0000              -         -              0\n",
      "#\n",
      "# Speed statistics:\n",
      "#\n",
      "# stage      num seqs  seq/sec  seq/sec/model    nucleotides    nt/sec\n",
      "# ---------  --------  -------  -------------  -------------  --------\n",
      "  search           19   19.000          6.333           4807    4807.0\n",
      "  alignment        19   19.000         19.000           4802    4802.0\n",
      "#\n",
      "# Summed ssu-align CPU time (search):     00:00:00.00  (hh:mm:ss)\n",
      "# Summed ssu-align CPU time (alignment):  00:00:00.00  (hh:mm:ss)\n",
      "# Summed ssu-align CPU time (total):      00:00:00.00  (hh:mm:ss)\n",
      "#\n",
      "# Cleaning up by removing original files that were just merged ... done.\n",
      "#\n",
      "# List of executed commands saved in:     ssu_aln.ssu-merge.log.\n",
      "# Output printed to the screen saved in:  ssu_aln.ssu-merge.sum.\n",
      "#\n",
      "# All output files created in directory ./ssu_aln/\n",
      "#\n",
      "# CPU time:  00:00:00.10  (hh:mm:ss)\n",
      "# \n"
     ]
    }
   ],
   "source": [
    "%%bash\n",
    "./ssu_aln.ssu-align.sh"
   ]
  },
  {
   "cell_type": "code",
   "execution_count": 10,
   "metadata": {},
   "outputs": [
    {
     "name": "stdout",
     "output_type": "stream",
     "text": [
      "# _ssu-mask :: mask SSU rRNA alignments\n",
      "# SSU-ALIGN 0.1.1 (Feb 2016)\n",
      "# Copyright (C) 2016 Howard Hughes Medical Institute\n",
      "# Freely distributed under the BSD open source license.\n",
      "# - - - - - - - - - - - - - - - - - - - - - - - - - - - - - - - - - - - -\n",
      "# command: _ssu-mask --afa --dna ssu_aln\n",
      "# date:    Thu Feb 22 11:38:57 2018\n",
      "#\n",
      "# Masking alignments based on posterior probabilities...\n",
      "#\n",
      "#                                                     mask    \n",
      "#                                                 ------------\n",
      "# file name                  in/out  type  #cols  incl.  excl.\n",
      "# -------------------------  ------  ----  -----  -----  -----\n",
      "  ssu_aln.bacteria.stk        input   aln   1582      -      -\n",
      "  ssu_aln.bacteria.mask      output  mask   1582    251   1331\n",
      "  ssu_aln.bacteria.mask.pdf  output   pdf   1582    251   1331\n",
      "  ssu_aln.bacteria.mask.afa  output   aln    251      -      -\n",
      "#\n",
      "# All attempts to draw structure diagrams of masks were successful.\n",
      "#\n",
      "# List of executed commands saved in:     ssu_aln.ssu-mask.log.\n",
      "# Output printed to the screen saved in:  ssu_aln.ssu-mask.sum.\n",
      "#\n",
      "# All output files created in directory ./ssu_aln/\n",
      "#\n",
      "# CPU time:  00:00:00.82  (hh:mm:ss)\n",
      "# \n"
     ]
    }
   ],
   "source": [
    "!cd $workDir; ssu-mask --dna --afa ssu_aln"
   ]
  },
  {
   "cell_type": "markdown",
   "metadata": {},
   "source": [
    "### align RDP sequences"
   ]
  },
  {
   "cell_type": "markdown",
   "metadata": {},
   "source": [
    "* should add a mask step for larger number of sequences"
   ]
  },
  {
   "cell_type": "code",
   "execution_count": 18,
   "metadata": {
    "scrolled": true
   },
   "outputs": [
    {
     "name": "stdout",
     "output_type": "stream",
     "text": [
      "# _ssu-prep :: prepare SSU rRNA sequences for parallel ssu-align jobs\n",
      "# SSU-ALIGN 0.1.1 (Feb 2016)\n",
      "# Copyright (C) 2016 Howard Hughes Medical Institute\n",
      "# Freely distributed under the BSD open source license.\n",
      "# - - - - - - - - - - - - - - - - - - - - - - - - - - - - - - - - - - - -\n",
      "# command: _ssu-prep -x -f -b 50 --dna --rfonly rdp_download_952seqs.fa ssr_aln 10\n",
      "# date:    Thu Feb 22 11:48:53 2018\n",
      "#\n",
      "# Validating input sequence file ... done.\n",
      "#\n",
      "# Preparing 10 ssu-align jobs ...\n",
      "# Partitioning seqs with goal of equalizing total number of nucleotides per job ...\n",
      "#\n",
      "# output file name          description                                         \n",
      "# ------------------------  ----------------------------------------------------\n",
      "  ssr_aln/rdp_download_952seqs.fa.1  partition 1 FASTA sequence file (95 seqs; 141885 nt)\n",
      "  ssr_aln/rdp_download_952seqs.fa.2  partition 2 FASTA sequence file (95 seqs; 141837 nt)\n",
      "  ssr_aln/rdp_download_952seqs.fa.3  partition 3 FASTA sequence file (96 seqs; 140987 nt)\n",
      "  ssr_aln/rdp_download_952seqs.fa.4  partition 4 FASTA sequence file (97 seqs; 141366 nt)\n",
      "  ssr_aln/rdp_download_952seqs.fa.5  partition 5 FASTA sequence file (96 seqs; 140906 nt)\n",
      "  ssr_aln/rdp_download_952seqs.fa.6  partition 6 FASTA sequence file (97 seqs; 140587 nt)\n",
      "  ssr_aln/rdp_download_952seqs.fa.7  partition 7 FASTA sequence file (98 seqs; 140937 nt)\n",
      "  ssr_aln/rdp_download_952seqs.fa.8  partition 8 FASTA sequence file (94 seqs; 140359 nt)\n",
      "  ssr_aln/rdp_download_952seqs.fa.9  partition 9 FASTA sequence file (92 seqs; 140191 nt)\n",
      "  ssr_aln/rdp_download_952seqs.fa.10  partition 10 FASTA sequence file (92 seqs; 138992 nt)\n",
      "  ssr_aln.ssu-align.sh      shell script that will execute 10 ssu-align jobs\n",
      "#\n",
      "################################################################################\n",
      "# To execute all 10 ssu-align jobs, run the shell script with the command:\n",
      "#\t\"ssr_aln.ssu-align.sh\"\n",
      "# (it is an executable file)\n",
      "################################################################################\n",
      "#\n",
      "# The final job will merge the output from all jobs once they are all finished.\n",
      "#\n",
      "# If one or more jobs fail: rerun the failed jobs, wait for them to finish,\n",
      "# and then perform manual merge from this directory by executing:\n",
      "#\tssu-merge ssr_aln\n",
      "#\n",
      "# List of executed commands saved in:     ssr_aln/ssr_aln.ssu-prep.log.\n",
      "# Output printed to the screen saved in:  ssr_aln/ssr_aln.ssu-prep.sum.\n",
      "#\n",
      "# CPU time:  00:00:00.25  (hh:mm:ss)\n",
      "# \n"
     ]
    }
   ],
   "source": [
    "%%bash -s \"$RDPfile\"\n",
    "ssu-prep -f -x -b 50 --rfonly --dna $1 ssr_aln 10"
   ]
  },
  {
   "cell_type": "code",
   "execution_count": 19,
   "metadata": {},
   "outputs": [
    {
     "name": "stdout",
     "output_type": "stream",
     "text": [
      "# Executing: ssu-align -b 50 --dna --rfonly ssr_aln/rdp_download_952seqs.fa.1 ssr_aln/ssr_aln.1 > /dev/null &\n",
      "# Executing: ssu-align -b 50 --dna --rfonly ssr_aln/rdp_download_952seqs.fa.2 ssr_aln/ssr_aln.2 > /dev/null &\n",
      "# Executing: ssu-align -b 50 --dna --rfonly ssr_aln/rdp_download_952seqs.fa.3 ssr_aln/ssr_aln.3 > /dev/null &\n",
      "# Executing: ssu-align -b 50 --dna --rfonly ssr_aln/rdp_download_952seqs.fa.4 ssr_aln/ssr_aln.4 > /dev/null &\n",
      "# Executing: ssu-align -b 50 --dna --rfonly ssr_aln/rdp_download_952seqs.fa.5 ssr_aln/ssr_aln.5 > /dev/null &\n",
      "# Executing: ssu-align -b 50 --dna --rfonly ssr_aln/rdp_download_952seqs.fa.6 ssr_aln/ssr_aln.6 > /dev/null &\n",
      "# Executing: ssu-align -b 50 --dna --rfonly ssr_aln/rdp_download_952seqs.fa.7 ssr_aln/ssr_aln.7 > /dev/null &\n",
      "# Executing: ssu-align -b 50 --dna --rfonly ssr_aln/rdp_download_952seqs.fa.8 ssr_aln/ssr_aln.8 > /dev/null &\n",
      "# Executing: ssu-align -b 50 --dna --rfonly ssr_aln/rdp_download_952seqs.fa.9 ssr_aln/ssr_aln.9 > /dev/null &\n",
      "# Executing: ssu-align --merge 10 -b 50 --dna --rfonly ssr_aln/rdp_download_952seqs.fa.10 ssr_aln/ssr_aln.10\n",
      "# _ssu-align :: align SSU rRNA sequences\n",
      "# SSU-ALIGN 0.1.1 (Feb 2016)\n",
      "# Copyright (C) 2016 Howard Hughes Medical Institute\n",
      "# Freely distributed under the BSD open source license.\n",
      "# - - - - - - - - - - - - - - - - - - - - - - - - - - - - - - - - - - - -\n",
      "# command: _ssu-align --merge 10 -b 50 --dna --rfonly ssr_aln/rdp_download_952seqs.fa.10 ssr_aln/ssr_aln.10\n",
      "# date:    Thu Feb 22 11:49:02 2018\n",
      "#\n",
      "# Validating input sequence file ... done.\n",
      "#\n",
      "# Stage 1: Determining SSU start/end positions and best-matching models...\n",
      "#\n",
      "# output file name             description                                \n",
      "# ---------------------------  -------------------------------------------\n",
      "  ssr_aln.10.tab               locations/scores of hits defined by HMM(s)\n",
      "  ssr_aln.10.bacteria.hitlist  list of sequences to align with bacteria CM\n",
      "  ssr_aln.10.bacteria.fa            92 sequences to align with bacteria CM\n",
      "#\n",
      "# Stage 2: Aligning each sequence to its best-matching model...\n",
      "#\n",
      "# output file name             description\n",
      "# ---------------------------  ---------------------------------------\n",
      "  ssr_aln.10.bacteria.stk      bacteria alignment\n",
      "  ssr_aln.10.bacteria.cmalign  bacteria cmalign output\n",
      "  ssr_aln.10.bacteria.ifile    bacteria insert info\n",
      "  ssr_aln.10.scores            list of CM/HMM scores for each sequence\n",
      "#\n",
      "# Summary statistics:\n",
      "#\n",
      "# model or       number  fraction        average   average               \n",
      "# category      of seqs  of total         length  coverage    nucleotides\n",
      "# ------------  -------  --------  -------------  --------  -------------\n",
      "  *input*            92    1.0000        1510.78    1.0000         138992\n",
      "#\n",
      "  archaea             0    0.0000              -         -              0\n",
      "  bacteria           92    1.0000        1509.07    0.9989         138834\n",
      "  eukarya             0    0.0000              -         -              0\n",
      "#\n",
      "  *all-models*       92    1.0000        1509.07    0.9989         138834\n",
      "  *no-models*         0    0.0000              -         -              0\n",
      "#\n",
      "# Speed statistics:\n",
      "#\n",
      "# stage      num seqs  seq/sec  seq/sec/model    nucleotides    nt/sec\n",
      "# ---------  --------  -------  -------------  -------------  --------\n",
      "  search           92    1.363          0.454         138992    2059.5\n",
      "  alignment        92    0.860          0.860         138834    1297.2\n",
      "#\n",
      "#\n",
      "# List of executed commands saved in:     ssr_aln.10.ssu-align.log.\n",
      "# Output printed to the screen saved in:  ssr_aln.10.ssu-align.sum.\n",
      "#\n",
      "# All output files created in directory ./ssr_aln/ssr_aln.10/\n",
      "#\n",
      "# CPU time (search):     00:01:07.49  (hh:mm:ss)\n",
      "# CPU time (alignment):  00:01:47.02  (hh:mm:ss)\n",
      "# CPU time (total):      00:02:54.71  (hh:mm:ss)\n",
      "#\n",
      "################################################################################\n",
      "#\n",
      "# Alignments successfully created.\n",
      "#\n",
      "# Checking/waiting for other jobs to finish before merging...\n",
      "#\n",
      "# Job 1 (dir: ssr_aln/ssr_aln.1) completed successfully! 9/10 still incomplete.\n",
      "# Job 2 (dir: ssr_aln/ssr_aln.2) completed successfully! 8/10 still incomplete.\n",
      "# Job 3 (dir: ssr_aln/ssr_aln.3) completed successfully! 7/10 still incomplete.\n",
      "# Job 4 (dir: ssr_aln/ssr_aln.4) completed successfully! 6/10 still incomplete.\n",
      "# Job 5 (dir: ssr_aln/ssr_aln.5) completed successfully! 5/10 still incomplete.\n",
      "# Job 6 (dir: ssr_aln/ssr_aln.6) completed successfully! 4/10 still incomplete.\n",
      "# Job 7 (dir: ssr_aln/ssr_aln.7) completed successfully! 3/10 still incomplete.\n",
      "# Job 8 (dir: ssr_aln/ssr_aln.8) completed successfully! 2/10 still incomplete.\n",
      "# Job 9 (dir: ssr_aln/ssr_aln.9) completed successfully! 1/10 still incomplete.\n",
      "# Job 10 (dir: ssr_aln/ssr_aln.10) completed successfully! 0/10 still incomplete.\n",
      "#\n",
      "# All 10 jobs successfully completed.\n",
      "# About to merge their output:\n",
      "#\n",
      "# Executing:  ssu-merge ssr_aln\n",
      "#\n",
      "################################################################################\n",
      "#\n",
      "# _ssu-merge :: merge SSU rRNA alignments\n",
      "# SSU-ALIGN 0.1.1 (Feb 2016)\n",
      "# Copyright (C) 2016 Howard Hughes Medical Institute\n",
      "# Freely distributed under the BSD open source license.\n",
      "# - - - - - - - - - - - - - - - - - - - - - - - - - - - - - - - - - - - -\n",
      "# command: _ssu-merge ssr_aln\n",
      "# date:    Thu Feb 22 11:51:57 2018\n",
      "#\n",
      "# Merging files from 10 ssu-align runs...\n",
      "#\n",
      "#                                     # files     # seqs\n",
      "# merged file name          CM name    merged     merged\n",
      "# ------------------------  --------  -------  ---------\n",
      "  ssr_aln.tab               -              10          -\n",
      "  ssr_aln.scores            -              10          -\n",
      "  ssr_aln.ssu-align.sum     -              10          -\n",
      "  ssr_aln.ssu-align.log     -              10          -\n",
      "#\n",
      "  ssr_aln.bacteria.fa       bacteria       10        952\n",
      "  ssr_aln.bacteria.hitlist  bacteria       10        952\n",
      "  ssr_aln.bacteria.cmalign  bacteria       10        952\n",
      "  ssr_aln.bacteria.ifile    bacteria       10        952\n",
      "  ssr_aln.bacteria.stk      bacteria       10        952\n",
      "#\n",
      "#\n",
      "# Summary statistics:\n",
      "#\n",
      "# model or       number  fraction        average   average               \n",
      "# category      of seqs  of total         length  coverage    nucleotides\n",
      "# ------------  -------  --------  -------------  --------  -------------\n",
      "  *input*           952    1.0000        1479.04    1.0000        1408047\n",
      "#\n",
      "  archaea             0    0.0000              -         -              0\n",
      "  bacteria          952    1.0000        1471.59    0.9950        1400958\n",
      "  eukarya             0    0.0000              -         -              0\n",
      "#\n",
      "  *all-models*      952    1.0000        1471.59    0.9950        1400958\n",
      "  *no-models*         0    0.0000              -         -              0\n",
      "#\n",
      "# Speed statistics:\n",
      "#\n",
      "# stage      num seqs  seq/sec  seq/sec/model    nucleotides    nt/sec\n",
      "# ---------  --------  -------  -------------  -------------  --------\n",
      "  search          952  952.000        317.333        1408047  1408047.0\n",
      "  alignment       952  952.000        952.000        1400958  1400958.0\n",
      "#\n",
      "# Summed ssu-align CPU time (search):     00:00:00.00  (hh:mm:ss)\n",
      "# Summed ssu-align CPU time (alignment):  00:00:00.00  (hh:mm:ss)\n",
      "# Summed ssu-align CPU time (total):      00:00:00.00  (hh:mm:ss)\n",
      "#\n",
      "# Cleaning up by removing original files that were just merged ... done.\n",
      "#\n",
      "# List of executed commands saved in:     ssr_aln.ssu-merge.log.\n",
      "# Output printed to the screen saved in:  ssr_aln.ssu-merge.sum.\n",
      "#\n",
      "# All output files created in directory ./ssr_aln/\n",
      "#\n",
      "# CPU time:  00:00:00.13  (hh:mm:ss)\n",
      "# \n"
     ]
    }
   ],
   "source": [
    "%%bash\n",
    "./ssr_aln.ssu-align.sh"
   ]
  },
  {
   "cell_type": "code",
   "execution_count": 20,
   "metadata": {
    "scrolled": true
   },
   "outputs": [
    {
     "name": "stdout",
     "output_type": "stream",
     "text": [
      "# _ssu-mask :: mask SSU rRNA alignments\n",
      "# SSU-ALIGN 0.1.1 (Feb 2016)\n",
      "# Copyright (C) 2016 Howard Hughes Medical Institute\n",
      "# Freely distributed under the BSD open source license.\n",
      "# - - - - - - - - - - - - - - - - - - - - - - - - - - - - - - - - - - - -\n",
      "# command: _ssu-mask -s ssu_aln/ssu_aln.bacteria.mask --afa --dna ssr_aln/\n",
      "# date:    Thu Feb 22 12:07:31 2018\n",
      "#\n",
      "# Masking alignments using pre-existing masks...\n",
      "#\n",
      "#                                                     mask    \n",
      "#                                                 ------------\n",
      "# file name                  in/out  type  #cols  incl.  excl.\n",
      "# -------------------------  ------  ----  -----  -----  -----\n",
      "  ssr_aln.bacteria.stk        input   aln   1582      -      -\n",
      "  ssu_aln.bacteria.mask       input  mask   1582    251   1331\n",
      "  ssr_aln.bacteria.mask.pdf  output   pdf   1582    251   1331\n",
      "  ssr_aln.bacteria.mask.afa  output   aln    251      -      -\n",
      "#\n",
      "# All attempts to draw structure diagrams of masks were successful.\n",
      "#\n",
      "# List of executed commands saved in:     ssr_aln.ssu-mask.log.\n",
      "# Output printed to the screen saved in:  ssr_aln.ssu-mask.sum.\n",
      "#\n",
      "# All output files created in directory ./ssr_aln/\n",
      "#\n",
      "# CPU time:  00:00:00.59  (hh:mm:ss)\n",
      "# \n"
     ]
    }
   ],
   "source": [
    "!cd $workDir; ssu-mask -s ssu_aln/ssu_aln.bacteria.mask --dna --afa ssr_aln/"
   ]
  },
  {
   "cell_type": "code",
   "execution_count": 21,
   "metadata": {},
   "outputs": [],
   "source": [
    "!cd $workDir; cat ssr_aln/ssr_aln.bacteria.mask.afa ssu_aln/ssu_aln.bacteria.mask.afa > aln_for_tree.fasta"
   ]
  },
  {
   "cell_type": "code",
   "execution_count": 22,
   "metadata": {},
   "outputs": [
    {
     "name": "stdout",
     "output_type": "stream",
     "text": [
      ">S000016132 Bdellovibrio sp. Gunpowder; AF084853\r\n",
      "TACGAAGGGTGCAAGCGTTGTTCGGATTTATTGGGCGTAAAGCGCGCGTAGGTGGACCTG\r\n",
      "CAAGTCAGATGTGAAATCTCGGGGCTCAACCTCGAAACTGCGTCTGAAACTACAGGTCTA\r\n",
      "GAGTCTCGGAGGGGGAAGGGGAATTTCGCATGTAGGGGTAAAATCCGTAGATATGCGAAG\r\n",
      "GAACACCAGAGGCGAAGGCGCCTTCCTGGACGAACTGACACTGAGGCGCGAAAGCGTGGG\r\n",
      "GATCAAACAGG\r\n",
      ">S000018845 Bacteriovorax stolpii (T); DSM 12778; AJ288899\r\n",
      "TACGAAGGGTGCAAGCGTTGTTCGGATTTATTGGGCGTAAAGCGCGCGTAGGCGGACCTG\r\n",
      "CAAGTCAGATGTGAAATCTCGGGGCTCAACCTCGAAACTGCGTCTGAAACTACAGGTCTA\r\n",
      "GAATCTCGGAGGGGGAAGGGGAATATCGCATGTAGGGGTAAAATCCGTAGATATGCGATG\r\n",
      "GAACACCAGAGGCGAAGGCGCCTTCCTGGACGAATTGACGCTGAGGCGCGAAAGCGTGGG\r\n",
      "GATCAAACAGG\r\n",
      ">S000127682 Bdellovibrio sp. SD1; sewage; AJ278146\r\n",
      "TACGAAGGGTGCAAGCGTTGTTCGGATTTATTGGGCGTAAAGCGCGCGTAGGCGGACCTG\r\n",
      "CAAGTCAGATGTGAAATCTCGGGGCTCAACCCCGAAACTGCGTCTGAAACTACAGGTCTA\r\n",
      "GAATCTTGGAGGGGGAAGGGGAATTTCGCATGTAGGGGTAAAATCCGTAGATATGCGAAG\r\n",
      "GAACACCAGAGGCGAAGGCGCCTTCCTGGACAAATTGACGCTGAGGCGCGAAAGCGTGGG\r\n",
      "GATCAAACAGG\r\n",
      ">S000418450 Bacteriovorax sp. F2; AY294218\r\n",
      "TACGAAGGGTGCAAGCGTTGTTCGGATTTATTGGGCGTAAAGCGCGCGTAGGCGGACCTG\r\n"
     ]
    }
   ],
   "source": [
    "!head aln_for_tree.fasta -n 20"
   ]
  },
  {
   "cell_type": "markdown",
   "metadata": {},
   "source": [
    "## Inferring and rooting the tree"
   ]
  },
  {
   "cell_type": "code",
   "execution_count": 23,
   "metadata": {
    "collapsed": true
   },
   "outputs": [],
   "source": [
    "aln = LoadSeqs(os.path.join(workDir, 'aln_for_tree.fasta'), moltype=DNA)\n",
    "t_unroot = build_tree_from_alignment(aln, moltype=DNA)"
   ]
  },
  {
   "cell_type": "code",
   "execution_count": 24,
   "metadata": {
    "collapsed": true
   },
   "outputs": [],
   "source": [
    "outgroup = 'S002304630 Desulfobacter hydrogenophilus (T); type strain: DSM3380; FR733673'"
   ]
  },
  {
   "cell_type": "code",
   "execution_count": 28,
   "metadata": {},
   "outputs": [],
   "source": [
    "t_unroot.writeToFile(os.path.join(workDir, '952isolate.tree'))"
   ]
  },
  {
   "cell_type": "code",
   "execution_count": 25,
   "metadata": {},
   "outputs": [
    {
     "ename": "TreeError",
     "evalue": "No node named 'S002304630 Desulfobacter hydrogenophilus (T); type strain: DSM3380; FR733673' in ['S000966224 Myxococcus sp. HBUM 91025; EU158288', 'S003789659 Myxococcus sp. 0558ZXW90; JX073728', 'S003789662 Myxococcus sp. 0558ZXW95; JX073731', 'S003919597 Myxococcus sp. 00495; KC169933', 'S001746360 Myxococcus stipitatus; HBUM93502; GU139154', 'S000966231 Myxococcus sp. HBUM 90016; EU158295', 'S001576313 Myxococcus fulvus; HBUM93122; GQ246587', 'S000966236 Myxococcus sp. HBUM 92080; EU158300', 'S001576288 Myxococcus virescens; HBUM93159; GQ246562', 'S001874609 Myxococcus sp. MX1; GU323922', 'S000843840 Myxococcaceae bacterium HB01078; EF508473', 'S003789661 Myxococcus sp. 0558ZXW94; JX073730', 'S003919596 Myxococcus sp. 00494; KC169932', 'S000966225 Myxococcus sp. HBUM 91053; EU158289', 'S004453577 Myxococcus sp. S119; KP017547', 'S001576258 Myxococcus fulvus; HBUM93358; GQ246532', 'S004453099 Myxococcus sp. S226; KM978083', 'S002224582 Pyxidicoccus fallax; SBPx001; GU249618', 'S000722026 Pyxidicoccus fallax (T); DSM 14698; DQ768123', 'S000891176 Myxococcus sp. 35; AM489528', 'S002223051 Myxococcaceae bacterium DSM 51012; An d15; FR686751', 'S002223054 Myxococcaceae bacterium DSM 51041; An d66; FR686754', 'S003614644 Pyxidicoccus fallax; S127; JX316834', 'S003614645 Myxococcus sp. S128; JX316835', 'S004086239 Pyxidicoccus sp. GNDU 172; KJ152124', 'S004234393 Myxococcus sp. S182; KM257728', 'S004234395 Myxococcus sp. S196; KM257730', 'S004453098 Myxococcus sp. S225; KM978082', 'S004453578 Myxococcus sp. S122.1; KP017548', 'S004453579 Myxococcus sp. S122.3; KP017549', 'S004086238 Pyxidicoccus sp. GNDU 170; KJ152123', 'S000434664 Myxococcus fulvus; 1287; AY032879', 'S002224488 Angiococcus disciformis; DSM 52716; GU207873', 'S000722013 Cystobacter gracilis (T); DSM 14753; DQ768110', 'S000539277 Cystobacter ferrugineus; Cb fe13; AJ233900', 'S000539280 Cystobacter minus; Cb m2; AJ233903', 'S000539281 Cystobacter minus; Cb m6; AJ233904', 'S000539282 Cystobacter violaceus; Cb vi29; AJ233905', 'S000539283 Cystobacter violaceus; Cb vi34; AJ233906', 'S000539287 Angiococcus disciformis; An d4; AJ233910', 'S000539288 Angiococcus disciformis; An d6; AJ233911', 'S000539290 Archangium gephyra; Ar g2; AJ233913', 'S000539327 Myxococcales str. NOCB4; AJ233950', 'S000627339 Archangium gephyra; NBRC 100087; AB218222', 'S000701710 Cystobacter sp. 94032; DQ520899', 'S000722009 Archangium gephyra (T); DSM 2261; DQ768106', 'S000722016 Cystobacter minus (T); DSM 14751; DQ768113', 'S000722017 Cystobacter violaceus (T); DSM 14727; DQ768114', 'S000722027 Hyalangium minutum (T); DSM 14724; DQ768124', 'S000769498 Stigmatella koreensis; KYC1019; EF112185', 'S000891169 Myxococcus sp. 116781; AM489521', 'S000891189 Archangium sp. 565; AM489541', 'S003257844 Angiococcus disciformis (T); type strain: DSM 52716; HE582768', 'S003257845 Angiococcus disciformis; type strain: DSM 52716; HE582769', 'S003257846 Angiococcus disciformis; type strain: DSM 52716; 3; HE582770', 'S003257847 Angiococcus disciformis (T); type strain: DSM 52716; 4; HE582771', 'S003288446 Cystobacter minus; 9x13; HQ623104', 'S003789669 Cystobacteraceae bacterium 0558ZXW144; JX073738', 'S003789670 Cystobacteraceae bacterium 0558ZXW145; JX073739', 'S003811128 Cystobacter sp. xj1; MY1204; KC862592', 'S004044989 Cystobacter violaceus; WX58; KC855016', 'S004050336 Cystobacter minus; Cbm6; KF267723', 'S004050337 Cystobacter violaceus; Cbvi34; KF267724', 'S004086240 Cystobacter sp. GNDU 187; KJ152125', 'S004234390 Cystobacter sp. S154; KM257725', 'S004234396 Cystobacter sp. S197; KM257731', 'S004453104 Archangium sp. S233; KM978088', 'S004461611 Archangium gephyra; DSM 2261; CP011509', 'S004461612 Archangium gephyra; DSM 2261; CP011509', 'S004461613 Archangium gephyra; DSM 2261; CP011509', 'S004475644 Archangium gephyra; B17; KP718975', 'S004533856 bacterium YCZSSLKJ172; KP174428', 'S004534233 Cystobacter sp. GNDU S186; KP178618', 'S004534234 Cystobacter sp. GNDU S198; KP178619', 'S004534235 Cystobacter sp. GNDU S213; KP178620', 'S004534237 Cystobacter sp. GNDU S217; KP178622', 'S004534240 Archangium sp. GNDU S221; KP178625', 'S004534241 Cystobacter sp. GNDU S223; KP178626', 'S004537089 Hyalangium minutum; DSM 14724; KP306732', 'S004044986 Cystobacter gracilis; WX50; KC855013', 'S002224487 Archangium gephyra; DSM 2261; GU207872', 'S003925166 Aggregicoccus edonensis (T); MCy1366; KF767690', 'S004081804 Aggregicoccus edonensis; MCy10622; KF914661', 'S000539276 Cystobacter fuscus; Cb f39; AJ233899', 'S000539278 Cystobacter ferrugineus; Cb fe18; AJ233901', 'S000539279 Cystobacter ferrugineus; Cb fe27; AJ233902', 'S000539284 Melittangium alboraceum; Me b7; AJ233907', 'S000539285 Melittangium boletus (T); Me b8; AJ233908', 'S000722014 Cystobacter miniatus (T); DSM 14712; DQ768111', 'S000722015 Cystobacter ferrugineus (T); DSM 14716; DQ768112', 'S000722028 Melittangium boletus; DSM 14713; DQ768125', 'S000995444 Cystobacter fuscus; Bj41; EU262995', 'S000436919 Cystobacter fuscus; M94276', 'S000722012 Cystobacter fuscus (T); DSM 2262; DQ768109', 'S000429933 Cystobacter sp. SHX9; AF506737', 'S000539274 Cystobacter fuscus; Cb f6; AJ233897', 'S000539275 Cystobacter fuscus; Cb f10; AJ233898', 'S000598281 Cystobacter sp. SDU1; AY996786', 'S000627340 Cystobacter fuscus; NBRC 100088; AB218223', 'S000722011 Cystobacter badius (T); DSM 14723; DQ768108', 'S000722018 Cystobacter velatus (T); DSM 14718; DQ768115', 'S000995447 Cystobacter fuscus; NM03; EU262998', 'S004050334 Cystobacter fuscus; Cbf10; KF267721', 'S004050335 Cystobacter fuscus; Cbf8; KF267722', 'S004453102 Cystobacter fuscus; S229; KM978086', 'S004491817 Cystobacter sp. MCy9104; KT070190', 'S004537087 Cystobacter fuscus DSM 2262; KP306730', 'S000429931 Cystobacter sp. BD54; AF506735', 'S000995453 Cystobacter fuscus; Cb9737; EU263004', 'S000722010 Cystobacter armeniaca (T); DSM 14710; DQ768107', 'S004045355 Anaeromyxobacter dehalogenans; WY75; KC921178', 'S000627988 myxobacterium AT101; AB246771', 'Otu402', 'S000436918 Chondromyces crocatus; Cmc6; M94275', 'S001241098 Chondromyces crocatus; KYC2823; FJ176772', 'S001241099 Chondromyces crocatus; KYC2712; FJ176773', 'S002224489 Chondromyces crocatus (T); Cm c5; GU207874', 'S004462374 Chondromyces crocatus; Cm c5; CP012159', 'S004462375 Chondromyces crocatus; Cm c5; CP012159', 'S004462376 Chondromyces crocatus; Cm c5; CP012159', 'S000417333 Byssovorax cruenta (T); type strain: By c2 = DSM 14553; AJ833647', 'S002224574 Aetherobacter rufus; SBSr003; GU249610', 'S002224572 Aetherobacter sp. SBSr001; GU249608', 'S002224579 Aetherobacter sp. SBSr008; GU249615', 'S002224573 Aetherobacter fasciculatus; SBSr002; GU249609', 'S000539315 Chondromyces apiculatus (T); Cm a14; AJ233938', 'S000539318 Chondromyces robustus; Cm a22; AJ233941', 'S000539319 Chondromyces robustus (T); Cm a13; AJ233942', 'S002224490 Chondromyces pediculatus (T); Cm p51; GU207875', 'S004537086 Chondromyces apiculatus DSM 436; KP306729', 'S003304845 Chondromyces apiculatus; Cm a2; M94274', 'Otu957', 'S000005623 Sorangium cellulosum; So ce26; AF387629', 'S000964812 Sorangium cellulosum So ce56; So ce 56; AM746676', 'S000964814 Sorangium cellulosum So ce56; So ce 56; AM746676', 'S000964817 Sorangium cellulosum So ce56; So ce 56; AM746676', 'S000964819 Sorangium cellulosum So ce56; So ce 56; AM746676', 'S000100604 Sorangium cellulosum; So ce56; AJ316014', 'S001014832 Sorangium cellulosum; So00851; EU240494', 'S001014835 Sorangium cellulosum (T); DSM14627; EU240497', 'S001242877 Sorangium cellulosum; DSM14627; FJ457641', 'S001242882 Sorangium cellulosum; KYC3466; FJ457646', 'S002287250 Sorangium cellulosum So ce56; So ce 56; AM746676', 'S002288519 Sorangium cellulosum So ce56; So ce 56; AM746676', 'S004062784 Sorangium cellulosum So ce56; So ce 56; AM746676', 'S004062785 Sorangium cellulosum So ce56; So ce 56; AM746676', 'S004130098 Sorangium cellulosum; 055813b; HQ829371', 'S004130104 Sorangium cellulosum; 055818; HQ829377', 'S004130107 Sorangium cellulosum; 055824bhong; HQ829380', 'S004130110 Sorangium cellulosum; 055833; HQ829383', 'S004130136 Sorangium cellulosum; 015620b; HQ829409', 'S004130096 Sorangium cellulosum; 055810a; HQ829369', 'S004130117 Sorangium cellulosum; 0558g; HQ829390', 'S004130131 Sorangium cellulosum; 01567c; HQ829404', 'S004130101 Sorangium cellulosum; 055816b; HQ829374', 'S004130126 Sorangium cellulosum; 01565; HQ829399', 'S004130115 Sorangium cellulosum; 0558b; HQ829388', 'S004130137 Sorangium cellulosum; 015622; HQ829410', 'S004130093 Sorangium cellulosum; 008722; HQ829366', 'S004130121 Sorangium cellulosum; 05598; HQ829394', 'S001611072 Sorangium cellulosum; 008772; EU545499', 'S000620600 Sorangium cellulosum; So00033; DQ256395', 'S001573695 Sorangium cellulosum; 008771; EU864256', 'S001014831 Sorangium cellulosum; So97341; EU240493', 'S001014839 Sorangium cellulosum; So008723; EU240532', 'S001014834 Sorangium cellulosum; So01571; EU240496', 'S001014836 Sorangium cellulosum; DSM14731; EU240498', 'S000434665 Sorangium cellulosum; So97211; AY032880', 'S001611066 Sorangium cellulosum; 000339; EU545493', 'S004130116 Sorangium cellulosum; 0558f; HQ829389', 'S000436925 Sorangium cellulosum; M94282', 'S001611065 Sorangium cellulosum; 0003311; EU545492', 'S001611067 Sorangium cellulosum; 000763; EU545494', 'S000434774 Sorangium cellulosum; So97331; AY039304', 'S000435081 Sorangium cellulosum; So00891; AY079453', 'S000001787 Sorangium cellulosum; So9857; AF467674', 'S000006052 Sorangium cellulosum; So973522; AF467675', 'S000008707 Sorangium cellulosum; So98821; AF467673', 'S000015163 Sorangium cellulosum; So9881; AF467672', 'S000016167 Sorangium cellulosum; 875; AF387628', 'S000967292 Sorangium cellulosum; KYC3013; EU242515', 'S000967293 Sorangium cellulosum; KYC3016; EU242516', 'S000967294 Sorangium cellulosum; KYC3017; EU242517', 'S000967295 Sorangium cellulosum; KYC3018; EU242518', 'S000967296 Sorangium cellulosum; KYC3025; EU242519', 'S001014828 Sorangium cellulosum; So01841; EU240490', 'S001014829 Sorangium cellulosum; So01395; EU240491', 'S001014830 Sorangium cellulosum; So00811; EU240492', 'S001014833 Sorangium cellulosum; So97111; EU240495', 'S001014838 Sorangium cellulosum; So000716; EU240531', 'S001242878 Sorangium cellulosum; KYC3059; FJ457642', 'S001242879 Sorangium cellulosum; KYC3074; FJ457643', 'S001242880 Sorangium cellulosum; KYC3093; FJ457644', 'S001242881 Sorangium cellulosum; KYC3139; FJ457645', 'S001611056 Sorangium cellulosum; 00031; EU545483', 'S001611057 Sorangium cellulosum; 000312; EU545484', 'S001611058 Sorangium cellulosum; 000321; EU545485', 'S001611060 Sorangium cellulosum; 000319; EU545487', 'S001611061 Sorangium cellulosum; 0003191; EU545488', 'S001611063 Sorangium cellulosum; 000321; EU545490', 'S001611073 Sorangium cellulosum; 008710; EU545500', 'S001611075 Sorangium cellulosum; 008717; EU545502', 'S001611076 Sorangium cellulosum; 008718; EU545503', 'S001611077 Sorangium cellulosum; 0087201; EU545504', 'S001611078 Sorangium cellulosum; 008726; EU545505', 'S001873945 Sorangium cellulosum; KYC3014; GU299034', 'S001873946 Sorangium cellulosum; KYC3043; GU299035', 'S001873947 Sorangium cellulosum; KYC3046; GU299036', 'S001873948 Sorangium cellulosum; KYC3048; GU299037', 'S001873949 Sorangium cellulosum; KYC3060; GU299038', 'S001873950 Sorangium cellulosum; KYC3064; GU299039', 'S001873951 Sorangium cellulosum; KYC3068; GU299040', 'S001873953 Sorangium cellulosum; KYC3079; GU299042', 'S001873954 Sorangium cellulosum; KYC3080; GU299043', 'S001873955 Sorangium cellulosum; KYC3104; GU299044', 'S001873956 Sorangium cellulosum; KYC3175; GU299045', 'S001873957 Sorangium cellulosum; KYC3234; GU299046', 'S004009245 Sorangium cellulosum; 0003192; EU545489', 'S004009246 Sorangium cellulosum; 000712; EU545495', 'S004009247 Sorangium cellulosum; 008733; EU545498', 'S004130103 Sorangium cellulosum; 055817b; HQ829376', 'S004130118 Sorangium cellulosum; 0558g4; HQ829391', 'S000404691 Sorangium cellulosum; So9734; AY252113', 'S000620599 Sorangium cellulosum; So01572; DQ256394', 'S001611079 Sorangium cellulosum; 01578; EU545506', 'S001611083 Sorangium cellulosum; 015729; EU545510', 'S004009249 Sorangium cellulosum; 015718; EU545507', 'S004067641 Sorangium cellulosum So01572; CP003969', 'S004067642 Sorangium cellulosum So01572; CP003969', 'S004067643 Sorangium cellulosum So01572; CP003969', 'S004067644 Sorangium cellulosum So01572; CP003969', 'S000404692 Sorangium cellulosum; So020073; AY252114', 'S001611064 Sorangium cellulosum; 000322; EU545491', 'S001611082 Sorangium cellulosum; 015726; EU545509', 'S001014837 Sorangium cellulosum; So015724; EU240530', 'S001014840 Sorangium cellulosum; So015752; EU240533', 'S001241096 Sorangium cellulosum; KYC3047; FJ176770', 'S001241097 Sorangium cellulosum; KYC3076; FJ176771', 'S001873952 Sorangium cellulosum; KYC3069; GU299041', 'S004130112 Sorangium cellulosum; 055835a1; HQ829385', 'S004130122 Sorangium cellulosum; 01551; HQ829395', 'S001611081 Sorangium cellulosum; 015725; EU545508', 'S004130111 Sorangium cellulosum; 055835a; HQ829384', 'S000013201 Sorangium cellulosum; 9741; AF387627', 'S001014827 Sorangium cellulosum; So01334; EU240489', 'S000100605 Sorangium cellulosum; So ce56; AJ316015', 'S001611070 Sorangium cellulosum; 008732; EU545497', 'S004009248 Sorangium cellulosum; 008714; EU545501', 'S001611069 Sorangium cellulosum; 008721; EU545496', 'S004130130 Sorangium cellulosum; 01567; HQ829403', 'S004130124 Sorangium cellulosum; 015613a; HQ829397', 'S004130125 Sorangium cellulosum; 015615b; HQ829398', 'S004130133 Sorangium cellulosum; 015612; HQ829406', 'S004130123 Sorangium cellulosum; 01553; HQ829396', 'S004130108 Sorangium cellulosum; 055827; HQ829381', 'S004130097 Sorangium cellulosum; 055813; HQ829370', 'S004130105 Sorangium cellulosum; 055821hei; HQ829378', 'S004130102 Sorangium cellulosum; 055817a; HQ829375', 'S004130114 Sorangium cellulosum; 055838a; HQ829387', 'S004130135 Sorangium cellulosum; 015618; HQ829408', 'S004130095 Sorangium cellulosum; 05588; HQ829368', 'S004130099 Sorangium cellulosum; 055815a; HQ829372', 'S004130094 Sorangium cellulosum; 05584; HQ829367', 'S004130100 Sorangium cellulosum; 055816; HQ829373', 'S004130106 Sorangium cellulosum; 055824b; HQ829379', 'S004130128 Sorangium cellulosum; 01566c; HQ829401', 'S004130129 Sorangium cellulosum; 01566n; HQ829402', 'S004130132 Sorangium cellulosum; 01569a; HQ829405', 'S004130134 Sorangium cellulosum; 015613; HQ829407', 'S004130127 Sorangium cellulosum; 01566a; HQ829400', 'S004130119 Sorangium cellulosum; 05592; HQ829392', 'S004130109 Sorangium cellulosum; 055831; HQ829382', 'S004130113 Sorangium cellulosum; 055835b; HQ829386', 'S004130120 Sorangium cellulosum; 05597; HQ829393', 'S000539325 Phaselicystis flava; NOSO1; AJ233948', 'S001096520 Phaselicystis flava (T); SBKo001; EU545827', 'S002224575 Sorangiineae bacterium SBSr004; GU249611', 'S002224576 Sorangiineae bacterium SBSr005; GU249612', 'S004475647 Polyangium fumosum; C17; KP718978', 'S002224581 Sorangiineae bacterium SBCm007; GU249617', 'S002224577 Sorangiineae bacterium SBSr006; GU249613', 'S000436923 Polyangium sp.; PL 4943; M94280', 'S003811129 Polyangium sp. xj4; MY1205; KC862593', 'S002224496 Polyangium spumosum (T); Pl sm5; GU207881', 'S002224495 Polyangium sorediatum (T); Pl s12; GU207880', 'S002224494 Polyangium fumosum (T); Pl fu5; GU207879', 'S000539320 Polyangium thaxteri; Pl t3; AJ233943', 'S002224578 Jahnella thaxteri; SBSr007; GU249614', 'S002224491 Jahnella thaxteri (T); Pl t4; GU207876', 'S000539316 Chondromyces lanuginosus (T); Sy t2; AJ233939', 'S001241100 Chondromyces lanuginosus; KYC2904; FJ176774', 'S002224580 Minicystis rosea (T); SBNa008; GU249616', 'S003222625 Chondromyces sp. canine oral taxon 128; OJ077; JN713295', 'Otu52', 'Otu143', 'Otu147', 'S000539317 Chondromyces pediculatus; Cm p17; AJ233940', 'S000721669 Chondromyces pediculatus; BICC 8609; DQ491070', 'S000721671 Chondromyces apiculatus; BICC 8620; DQ491072', 'S000627876 Myxococcales bacterium Gsoil 473; AB245340', 'S004125734 Labilithrix luteola (T); B00002; AB847449', 'S004462509 Labilithrix luteola; DSM 27648; CP012333', 'S004462510 Labilithrix luteola; DSM 27648; CP012333', 'S004462511 Labilithrix luteola; DSM 27648; CP012333', 'S004462512 Labilithrix luteola; DSM 27648; CP012333', 'S000627989 myxobacterium AT301; AB246772', 'S002449088 Sorangiineae bacterium 706; JF719608', 'Otu454', 'S001611521 delta proteobacterium O29; FN554397', 'S004502088 Sorangiineae bacterium HB1; LC068957', 'S002409687 Sandaracinus amylolyticus (T); NOSO 4; HQ540311', 'S004461163 Sandaracinus amylolyticus; DSM 53668; CP011125', 'S004461164 Sandaracinus amylolyticus; DSM 53668; CP011125', 'S004537085 Sandaracinus amylolyticus; DSM 53668; KP306728', 'S000418453 Bacteriovorax sp. PNEc1; AY294221', 'S000016132 Bdellovibrio sp. Gunpowder; AF084853', 'S000436219 Bacteriovorax stolpii; uki2; M34125', 'S000018845 Bacteriovorax stolpii (T); DSM 12778; AJ288899', 'S000127682 Bdellovibrio sp. SD1; sewage; AJ278146', 'S000418450 Bacteriovorax sp. F2; AY294218', 'S000003922 Klebsiella oxytoca; 5725y; Y17660', 'S000627986 myxobacterium SIBN17; AB246769', 'S004044884 delta proteobacterium LX33; KC854911', 'S004044937 delta proteobacterium WY32; KC854964', 'S000650640 myxobacterium SMH274; AB252740', 'S000382369 myxobacterium SHI1; AB016469', 'S000384935 Plesiocystis pacifica (T); SIR1; AB083432', 'S004502083 Plesiocystis sp. SIS2; LC068864', 'S004502082 Enhygromyxa sp. SIS1; LC068863', 'S004502077 Enhygromyxa sp. SYM1; LC068858', 'S000858425 myxobacterium SYR2; AB303310', 'S002418551 Pseudenhygromyxa salsuginis (T); SYR2; AB600195', 'S004534076 bacterium YCLKLKJ6; KP174648', 'S002232798 Enhygromyxa salina; SWB005; HM769728', 'S004502080 Enhygromyxa sp. SAB1; LC068861', 'S004502069 Enhygromyxa sp. SHK4; LC068850', 'S004502070 Enhygromyxa sp. SHK11; LC068851', 'S004502072 Enhygromyxa sp. SMK52; LC068853', 'S004502071 Enhygromyxa sp. SMK21; LC068852', 'S004502073 Enhygromyxa sp. SMK9; LC068854', 'S000627984 myxobacterium AT102; AB246767', 'S002232797 Enhygromyxa salina; SWB004; HM769727', 'S004044604 Enhygromyxa salina; SWB007; KC818422', 'S000385672 Enhygromyxa salina (T); SHK1; AB097590', 'S000385673 Enhygromyxa salina; SMK13; AB097591', 'S004502061 Enhygromyxa sp. SMH023; LC066680', 'S004502062 Enhygromyxa sp. SNB1; LC066681', 'S004502075 Enhygromyxa sp. SIW3; LC068856', 'S004502076 Enhygromyxa sp. SMP8; LC068857', 'S004502079 Enhygromyxa sp. SSJ1; LC068860', 'S004502081 Enhygromyxa sp. SNM1; LC068862', 'S004537088 Enhygromyxa salina; DSM 15201; KP306731', 'S004502074 Enhygromyxa sp. SIW2; LC068855', 'S000627985 myxobacterium AT309; AB246768', 'S002232799 Enhygromyxa salina; SWB006; HM769729', 'S004502078 Enhygromyxa sp. SYM2; LC068859', 'S000539322 Nannocystis aggregans; Na a1; AJ233945', 'S000436922 Nannocystis exedens; M94279', 'S000384941 Nannocystis exedens (T); DSM71; AB084253', 'S004453807 Nannocystis pusilla; MNa10913; KP057225', 'S000539324 Nannocystis exedens; Na e571; AJ233947', 'S000541135 Nannocystis sp. 91213; AY996823', 'S002224493 Nannocystis pusilla; Na p29; GU207878', 'S002350770 Nannocystis pusilla (T); type strain: DSM 14622; FR749907', 'S003789657 Nannocystis sp. 0558ZXW50; JX073726', 'S003811138 Nannocystis pusilla; x2d2; MY1214; KC862602', 'S004050352 Nannocystis exedens subsp. cinnabaria; DSM 14641; KF267739', 'S004080092 Nannocystis pusilla; B150; KF739395', 'S000022588 Haliangium tepidum (T); SMP10; AB062751', 'S004502084 Haliangium sp. SBP1; LC068865', 'S000769397 Haliangium ochraceum; GS1; EF108312', 'S002288556 Haliangium ochraceum DSM 14365; CP001804', 'S002289057 Haliangium ochraceum DSM 14365; CP001804', 'S000382370 Haliangium ochraceum (T); SMP2; AB016470', 'S003711818 Kofleria flava; DSM 14602; HF937255', 'S003723514 Kofleria flava; DSM 53743; HF586691', 'S003723515 Kofleria flava; DSM 53745; HF586692', 'S003723516 Kofleria sp. DSM 53797; HF586693', 'S000539321 Kofleria flava (T); Pl vt1; AJ233944', 'S003611754 Kofleria flava; DSM:53744; 22; HF543818', 'S003611755 Kofleria flava; DSM:53744; 23; HF543819', 'S003611756 Kofleria flava; DSM:53744; 28; HF543820', 'S003611758 Kofleria flava; DSM:14659; 12; HF543822', 'S003611759 Kofleria flava; DSM:14659; HF543823', 'S003611760 Kofleria flava; DSM:14659; 16; HF543824', 'S003611761 Kofleria flava; DSM:14620; K2; HF543825', 'S003611762 Kofleria flava; DSM:14620; K10; HF543826', 'S003611757 Kofleria flava; DSM:14659; 11; HF543821', 'Otu731', 'S002232635 bacterium Ellin6502; HM748650', 'Otu10', 'Otu555', 'S000627987 myxobacterium AT303; AB246770', 'Otu725', 'S004044838 delta proteobacterium LWH25; KC854864', 'Otu129', 'Otu126', 'Otu2065', 'Otu437', 'S004044851 Myxococcales bacterium LWH177; KC854877', 'Otu916', 'Otu592', 'Otu374', 'Otu1639', 'Otu160', 'S004125733 Vulgatibacter incomptus (T); B00001; AB847448', 'S004462506 Vulgatibacter incomptus; DSM 27710; CP012332', 'S004462507 Vulgatibacter incomptus; DSM 27710; CP012332', 'S004462508 Vulgatibacter incomptus; DSM 27710; CP012332', 'S004082895 Anaeromyxobacter dehalogenans; SSSB8; KF952438', 'S001188434 Anaeromyxobacter dehalogenans; FRCR7; FJ190059', 'S001188427 Anaeromyxobacter dehalogenans; FRCD6; FJ190052', 'S001188436 Anaeromyxobacter dehalogenans; FRCR9; FJ190061', 'S001188433 Anaeromyxobacter dehalogenans; FRCR6; FJ190058', 'S001188423 Anaeromyxobacter dehalogenans; FRCD1; FJ190048', 'S001188424 Anaeromyxobacter dehalogenans; FRCD3; FJ190049', 'S001188426 Anaeromyxobacter dehalogenans; FRCD5; FJ190051', 'S001188428 Anaeromyxobacter dehalogenans; FRCR1; FJ190053', 'S001188429 Anaeromyxobacter dehalogenans; FRCR2; FJ190054', 'S001188430 Anaeromyxobacter dehalogenans; FRCR3; FJ190055', 'S001188431 Anaeromyxobacter dehalogenans; FRCR4; FJ190056', 'S001188432 Anaeromyxobacter dehalogenans; FRCR5; FJ190057', 'S001188435 Anaeromyxobacter dehalogenans; FRCR8; FJ190060', 'S001418303 Anaeromyxobacter sp. IN2; FJ939131', 'S003710461 Anaeromyxobacter sp. PSR1; AB795400', 'S000980702 Anaeromyxobacter dehalogenans; R; EU331403', 'S000980704 Anaeromyxobacter dehalogenans; DCP20E; EU331405', 'S000980705 Anaeromyxobacter dehalogenans; DCP12D; EU331406', 'S000980707 Anaeromyxobacter dehalogenans; DCP16; EU331408', 'S000980708 Anaeromyxobacter dehalogenans; DCP18; EU331409', 'S000980709 Anaeromyxobacter dehalogenans; DCP17; EU331410', 'S000980711 Anaeromyxobacter dehalogenans; DCP19; EU331412', 'S001188437 Anaeromyxobacter dehalogenans; FRCW; FJ190062', 'S002287043 Anaeromyxobacter dehalogenans (T); 2CP1; CP001359', 'S002288637 Anaeromyxobacter dehalogenans 2CPC; CP000251', 'S002290820 Anaeromyxobacter sp. K; CP001131', 'S004062570 Anaeromyxobacter sp. K; CP001131', 'S004063155 Anaeromyxobacter dehalogenans 2CPC; CP000251', 'S004068953 Anaeromyxobacter dehalogenans (T); 2CP1; CP001359', 'S000392790 Anaeromyxobacter dehalogenans; 2CP1; ATCC BAA258; AF382396', 'S000392791 Anaeromyxobacter dehalogenans; 2CP5; AF382397', 'S000392792 Anaeromyxobacter dehalogenans; 2CP2; AF382398', 'S000392793 Anaeromyxobacter dehalogenans; 2CPC; ATCC BAA259; AF382399', 'S000392794 Anaeromyxobacter dehalogenans; 2CP3; AF382400', 'S000980710 Anaeromyxobacter dehalogenans; DCP2; EU331411', 'S000980706 Anaeromyxobacter dehalogenans; DCP15; EU331407', 'S000891765 Anaeromyxobacter sp. Fw1095; CP000769', 'S000891767 Anaeromyxobacter sp. Fw1095; CP000769', 'S004063752 Anaeromyxobacter sp. Fw1095; CP000769', 'S004063753 Anaeromyxobacter sp. Fw1095; CP000769', 'S000429566 myxobacterium KC; AF482687', 'S000979201 Melittangium lichenicola; DSM 14877; AM930267', 'S000979203 Melittangium lichenicola; ATCC 25946; AM930269', 'S003263036 Melittangium lichenicola; NBRC 100091; AB681145', 'S000539326 Myxococcales str. NOCB2; AJ233949', 'S000367198 Corallococcus coralloides; DSM 51379; AJ811590', 'S000966241 Corallococcus sp. HBUM 92054; EU158305', 'S003811126 Cystobacter sp. 6tx; MY1202; KC862590', 'S000539311 Stigmatella erecta; Pd e19; AJ233934', 'S003811125 Cystobacter sp. 6tb; MY1201; KC862589', 'S000539310 Stigmatella erecta; Pd e3; AJ233933', 'S000539312 Stigmatella aurantiaca; Sg a1; AJ233935', 'S000539313 Stigmatella aurantiaca; Sg a15; AJ233936', 'S000539314 Stigmatella aurantiaca; Sg a28; AJ233937', 'S000540099 Stigmatella erecta (T); type strain: DSM 16858; AJ970180', 'S000722030 Stigmatella aurantiaca (T); ATCC 25190; DQ768127', 'S000722031 Stigmatella erecta; ATCC 25191; DQ768128', 'S000722032 Stigmatella hybrida (T); DSM 14722; DQ768129', 'S002224497 Stigmatella aurantiaca; DSM 17044; GU207882', 'S004050349 Stigmatella aurantiaca; DSM 17044; KF267736', 'S004050350 Stigmatella erecta; DSM 16858; KF267737', 'S004050351 Stigmatella erecta; Pde3; KF267738', 'S004067662 Stigmatella aurantiaca DW4/31; CP002271', 'S004067661 Stigmatella aurantiaca DW4/31; CP002271', 'S000995452 Corallococcus coralloides; 01852; EU263003', 'S000539291 Corallococcus coralloides; Cc c494; AJ233914', 'S000367215 Corallococcus coralloides; DSM 51619; AJ811607', 'S000367217 Corallococcus coralloides; DSM 51625; AJ811609', 'S000367220 Corallococcus coralloides; DSM 52500; AJ811612', 'S000367221 Corallococcus coralloides; DSM 52501; AJ811613', 'S004475645 Corallococcus coralloides; C4; KP718976', 'S000539289 Archangium gephyra; Ar g1; AJ233912', 'S000539292 Corallococcus coralloides; Cc c806; AJ233915', 'S000539308 Corallococcus exiguus; Cc e12b; AJ233931', 'S000539309 Corallococcus exiguus; Cc e100; AJ233932', 'S000541158 Corallococcus sp. 91212; AY996846', 'S000598279 Corallococcus sp. SDU1; AY996784', 'S000598280 Corallococcus sp. SDU2; AY996785', 'S000627338 Corallococcus coralloides; NBRC 100086; AB218221', 'S000722023 Corallococcus coralloides; DSM 2259; DQ768120', 'S000722024 Corallococcus exiguus; DSM 14696; DQ768121', 'S000891185 Corallococcus sp. 116798; AM489537', 'S000891186 Corallococcus sp. 116803; AM489538', 'S000891187 Corallococcus sp. 506; AM489539', 'S000966240 Melittangium sp. HBUM 91081; EU158304', 'S000995451 Corallococcus coralloides; 01982; EU263002', 'S000367196 Corallococcus coralloides (T); type strain: DSM 2259; AJ811588', 'S000367197 Corallococcus coralloides; DSM 51359; AJ811589', 'S000367199 Corallococcus coralloides; DSM 51427; AJ811591', 'S000367200 Corallococcus coralloides; DSM 51547; AJ811592', 'S000367201 Corallococcus coralloides; DSM 51548; AJ811593', 'S000367202 Corallococcus coralloides; DSM 51557; AJ811594', 'S000367203 Corallococcus coralloides; DSM 51651; AJ811595', 'S000367204 Corallococcus coralloides; DSM 51682; AJ811596', 'S000367205 Corallococcus coralloides; DSM 52497; AJ811597', 'S000367206 Corallococcus exiguus (T); type strain: DSM 14696; AJ811598', 'S000367207 Corallococcus coralloides; DSM 51307; AJ811599', 'S000367208 Corallococcus coralloides; DSM 51425; AJ811600', 'S000367209 Corallococcus coralloides; DSM 51492; AJ811601', 'S001576333 Corallococcus exiguus; HBUM94202; GQ246607', 'S001576338 Corallococcus exiguus; HBUM94201; GQ246612', 'S000367210 Corallococcus coralloides; DSM 51558; AJ811602', 'S000367211 Corallococcus coralloides; DSM 52499; AJ811603', 'S000367212 Corallococcus coralloides; DSM 52502; AJ811604', 'S000367213 Corallococcus coralloides; DSM 52503; AJ811605', 'S000367214 Corallococcus coralloides; DSM 51298; AJ811606', 'S002223052 Myxococcaceae bacterium DSM 51015; An d19; FR686752', 'S002223053 Myxococcaceae bacterium DSM 51032; An d52; FR686753', 'S000367216 Corallococcus coralloides; DSM 51620; AJ811608', 'S000367218 Corallococcus coralloides; DSM 51639; AJ811610', 'S000367219 Corallococcus coralloides; DSM 51643; AJ811611', 'S003277459 Corallococcus coralloides DSM 2259; CP003389', 'S003277462 Corallococcus coralloides DSM 2259; CP003389', 'S000367222 Corallococcus coralloides; DSM 51301; AJ811614', 'S003288447 Corallococcus coralloides; 1x4; HQ623105', 'S003288448 Corallococcus coralloides; 4x3; HQ623106', 'S003288449 Corallococcus coralloides; 7x2; HQ623107', 'S003288450 Corallococcus coralloides; 7x12; HQ623108', 'S003288451 Corallococcus coralloides; 11; HQ623109', 'S003288452 Corallococcus coralloides; 4x12; HQ623110', 'S003288453 Corallococcus coralloides; x31; HQ623111', 'S003288454 Corallococcus coralloides; xj52; HQ623112', 'S003288455 Corallococcus coralloides; 4x13; HQ623113', 'S003288456 Corallococcus coralloides; x33; HQ623114', 'S000367223 Corallococcus coralloides; DSM 51408; AJ811615', 'S003288457 Corallococcus coralloides; xj71; HQ623115', 'S000367224 Corallococcus coralloides; DSM 51433; AJ811616', 'S003614640 Corallococcus sp. S104; JX316830', 'S003614642 Corallococcus coralloides; S117; JX316832', 'S000367225 Corallococcus coralloides; DSM 51434; AJ811617', 'S000367226 Corallococcus coralloides; DSM 51435; AJ811618', 'S000367227 Corallococcus coralloides; DSM 51461; AJ811619', 'S000367228 Corallococcus coralloides; DSM 51615; AJ811620', 'S003804827 Corallococcus coralloides; EGB; KC888022', 'S003811130 Corallococcus exiguus; 6tx2; MY1206; KC862594', 'S003811131 Corallococcus sp. x3e; MY1207; KC862595', 'S004050333 Archangium gephyra; Arg2; KF267720', 'S004061559 Corallococcus coralloides DSM 2259; CP003389', 'S004061560 Corallococcus coralloides DSM 2259; CP003389', 'S004084914 Corallococcus coralloides; E2#8; KJ018120', 'S004453576 Corallococcus sp. S118; KP017546', 'S004453580 Corallococcus sp. S124; KP017550', 'S004453581 Corallococcus sp. S125; KP017551', 'S004476368 Corallococcus sp. GIM1.813; KP747688', 'S000722029 Melittangium lichenicola; DSM 2275; DQ768126', 'S000979202 Melittangium lichenicola; type strain: ATCC 25944; AM930268', 'S003614648 Corallococcus coralloides; S145; JX316838', 'S002224492 Melittangium lichenicola; DSM 2275; GU207877', 'S003277457 Corallococcus coralloides DSM 2259; CP003389', 'S004061558 Corallococcus coralloides DSM 2259; CP003389', 'S000995448 Corallococcus coralloides; 00073; EU262999', 'S004475646 Myxococcaceae bacterium C6; KP718977', 'S004234392 Myxococcus sp. S155.1; KM257727', 'S000966233 Myxococcus sp. HBUM 91040; EU158297', 'S003789675 Myxococcus sp. 0558ZXW151; JX073744', 'S003789651 Myxococcus sp. 0558ZXW10; JX073720', 'S003789655 Myxococcus sp. 0558ZXW142; JX073724', 'S000966235 Myxococcus sp. HBUM 92122; EU158299', 'S003789658 Myxococcus sp. 0558ZXW62; JX073727', 'S003919594 Myxococcus sp. 00462; KC169930', 'S004507759 Myxococcus sp. 1011TES4D14,2; LN867184', 'S000436215 Myxococcus xanthus; M34114', 'S000539293 Myxococcus virescens; Mx fl1; AJ233916', 'S000541161 Myxococcus sp. 91228; AY996849', 'S000627322 Myxococcus xanthus; NBRC 13542; AB218205', 'S000627333 Myxococcus virescens; NBRC 100077; AB218216', 'S000627334 Myxococcus virescens; NBRC 100078; AB218217', 'S000627335 Myxococcus virescens; NBRC 100079; AB218218', 'S000627336 Myxococcus virescens; NBRC 100080; AB218219', 'S000627342 Myxococcus virescens; NBRC 100334; AB218225', 'S000627343 Myxococcus virescens; NBRC 100506; AB218226', 'S000651448 Myxococcus xanthus; A5; DQ411298', 'S000651449 Myxococcus xanthus; A12; DQ411299', 'S000651450 Myxococcus xanthus; A15; DQ411300', 'S000651451 Myxococcus xanthus; A16; DQ411301', 'S000651452 Myxococcus xanthus; A17; DQ411302', 'S000651453 Myxococcus xanthus; A19; DQ411303', 'S000651456 Myxococcus xanthus; A25; DQ411306', 'S000651457 Myxococcus xanthus; A31; DQ411307', 'S000651458 Myxococcus xanthus; A59; DQ411308', 'S000722019 Myxococcus xanthus (T); ATCC 25232; DQ768116', 'S000722022 Myxococcus virescens (T); DSM 2260; DQ768119', 'S000722033 Myxococcus virescens; DSM 4946; DQ768130', 'S000891179 Myxococcus sp. 116744; AM489531', 'S000966203 Myxococcus sp. HBUM 92086; EU158267', 'S000966213 Myxococcus sp. HBUM 91089; EU158277', 'S000966216 Myxococcus sp. HBUM 90012; EU158280', 'S000966219 Myxococcus sp. HBUM92041; EU158283', 'S000968059 Myxococcus sp. KYC1013; EU262648', 'S000968060 Myxococcus virescens; KYC1105; EU262649', 'S000968064 Myxococcus sp. KYC1183; EU262653', 'S000968065 Myxococcus xanthus; KYC1190; EU262654', 'S000968067 Myxococcus xanthus; KYC1200; EU262656', 'S000332775 Myxococcus sp. 91014; AY626899', 'S001294220 Myxococcus sp. KYC1182; FJ626435', 'S001575069 Myxococcus xanthus; FM202667', 'S001576266 Myxococcus virescens; HBUM91265; GQ246540', 'S001576267 Myxococcus virescens; HBUM93307; GQ246541', 'S001576268 Myxococcus virescens; HBUM94015; GQ246542', 'S001576287 Myxococcus virescens; HBUM93146; GQ246561', 'S001576292 Myxococcus virescens; HBUM92042; GQ246566', 'S001576298 Myxococcus virescens; HBUM92083; GQ246572', 'S001576316 Myxococcus virescens; HBUM93135; GQ246590', 'S001576318 Myxococcus virescens; HBUM93149; GQ246592', 'S001576321 Myxococcus virescens; HBUM93160; GQ246595', 'S001576325 Myxococcus virescens; HBUM93303; GQ246599', 'S001576326 Myxococcus virescens; HBUM91063; GQ246600', 'S001576336 Myxococcus virescens; HBUM94211; GQ246610', 'S001745604 Myxococcus sp. KYC1577; GU124631', 'S001745605 Myxococcus sp. D5; GU124632', 'S001745606 Myxococcus sp. DS2C; GU124633', 'S001746361 Myxococcus xanthus; HBUM94217; GU139155', 'S001746364 Myxococcus virescens; HBUM92033; GU139158', 'S001746365 Myxococcus virescens; HBUM93158; GU139159', 'S001746367 Myxococcus virescens; HBUM93357; GU139161', 'S002287252 Myxococcus xanthus DK 1622; CP000113', 'S002287888 Myxococcus xanthus DK 1622; CP000113', 'S003288462 Myxococcus virescens; x12; HQ623120', 'S003288463 Myxococcus virescens; 1x3; HQ623121', 'S003789652 Myxococcus sp. 0558ZXW13; JX073721', 'S003789656 Myxococcus sp. 0558ZXW19; JX073725', 'S003789663 Myxococcus sp. 0558ZXW101; JX073732', 'S003789668 Myxococcus sp. 0558ZXW142; JX073737', 'S003789672 Myxococcus sp. 0558ZXW148; JX073741', 'S003789673 Myxococcus sp. 0558ZXW149; JX073742', 'S003789674 Myxococcus sp. 0558ZXW150; JX073743', 'S003789676 Myxococcus sp. 0558ZXW152; JX073745', 'S003811135 Myxococcus sp. x3a; MY1211; KC862599', 'S003919593 Myxococcus sp. 00419; KC169929', 'S003919600 Myxococcus sp. 004150; KC169936', 'S004050338 Myxococcus virescens; Mxfl1; KF267725', 'S004050346 Myxococcus virescens; Mxv2; KF267733', 'S004066378 Myxococcus xanthus DK 1622; CP000113', 'S004066379 Myxococcus xanthus DK 1622; CP000113', 'S004234403 Myxococcus sp. S214; KM257738', 'S004453097 Myxococcus xanthus; S224; KM978081', 'S004454070 Myxococcus sp. XAC 03; KP090855', 'S004496978 Myxococcus xanthus; YR7; KT428618', 'S004499760 Myxococcus virescens; YR35; KT895373', 'S000424700 Myxococcus xanthus; UCDaV1; AY724797', 'S004534236 Myxococcus sp. GNDU S215; KP178621', 'S004534243 Myxococcus sp. GNDU S234; KP178628', 'S000429932 Myxococcus xanthus; BD86; AF506736', 'S003789653 Myxococcus sp. 0558ZXW132; JX073722', 'S001576290 Myxococcus virescens; HBUM93418; GQ246564', 'S003789654 Myxococcus sp. 0558ZXW14; JX073723', 'S003789667 Myxococcus sp. 0558ZXW141; JX073736', 'S000891188 Corallococcus sp. 116782; AM489540', 'S000429934 Myxococcus stipitatus; YN78; AF506738', 'S000435037 Corallococcus macrosporus; 125103; AY072737', 'S000435038 Corallococcus macrosporus; 125102; AY072738', 'S000435039 Corallococcus coralloides; Cc9736; AY072739', 'S000435040 Corallococcus macrosporus; 125101; AY072740', 'S000539286 Angiococcus disciformis; An d1; AJ233909', 'S000539294 Myxococcus fulvus; Mx f2; AJ233917', 'S000539295 Myxococcus fulvus; Mx f421; AJ233918', 'S000539296 Myxococcus fulvus; Mx f428; AJ233919', 'S000539297 Corallococcus macrosporus; Cc m7; AJ233920', 'S000539298 Corallococcus macrosporus; Cc m8; AJ233921', 'S000539299 Myxococcus stipitatus; Mx s33; AJ233922', 'S000539300 Myxococcus stipitatus; Mx s42; AJ233923', 'S000539301 Myxococcus stipitatus; Mx s52; AJ233924', 'S000539302 Myxococcus virescens; Mx v2; AJ233925', 'S000539303 Myxococcus virescens; Mx v76; AJ233926', 'S000539304 Myxococcus virescens; Mx v1; AJ233927', 'S000539305 Myxococcus virescens; Mx v144; AJ233928', 'S000539306 Myxococcus xanthus; DSM 435 (Mx x1); AJ233929', 'S000539307 Myxococcus xanthus; Mx x132; AJ233930', 'S000541159 Myxococcus sp. 91195; AY996847', 'S000541160 Myxococcus sp. 91155; AY996848', 'S000541162 Myxococcus sp. 91072; AY996850', 'S000541163 Myxococcus sp. 91229; AY996851', 'S000541164 Myxococcus sp. 91141; AY996852', 'S000541165 Myxococcus sp. 91227; AY996853', 'S000598277 Myxococcus sp. SDU1; AY996782', 'S000598278 Myxococcus sp. SDU2; AY996783', 'S000627323 Myxococcus fulvus; NBRC 100067; AB218206', 'S000627324 Myxococcus stipitatus; NBRC 100068; AB218207', 'S000627325 Myxococcus stipitatus; NBRC 100069; AB218208', 'S000627326 Myxococcus fulvus; NBRC 100070; AB218209', 'S000627327 Myxococcus fulvus; NBRC 100071; AB218210', 'S000627328 Myxococcus fulvus; NBRC 100072; AB218211', 'S000627329 Myxococcus fulvus; NBRC 100073; AB218212', 'S000627330 Myxococcus fulvus; NBRC 100074; AB218213', 'S000627331 Myxococcus fulvus; NBRC 100075; AB218214', 'S000627332 Corallococcus coralloides; NBRC 100076; AB218215', 'S000627337 Myxococcus virescens; NBRC 100081; AB218220', 'S000627341 Myxococcus fulvus; NBRC 100333; AB218224', 'S000627344 Myxococcus fulvus; NBRC 100507; AB218227', 'S000627345 Myxococcus fulvus; NBRC 100508; AB218228', 'S000627346 Myxococcus fulvus; NBRC 100509; AB218229', 'S000627347 Myxococcus fulvus; NBRC 100510; AB218230', 'S000627348 Myxococcus fulvus; NBRC 100511; AB218231', 'S000627349 Myxococcus fulvus; NBRC 100512; AB218232', 'S000627350 Myxococcus fulvus; NBRC 100513; AB218233', 'S000711748 Myxococcus sp. 1522; DQ105522', 'S000711749 Myxococcus sp. 1523; DQ105523', 'S000711750 Myxococcus sp. 1524; DQ105524', 'S000711752 Myxococcus sp. 1323; DQ105526', 'S000711753 Myxococcus sp. 1595; DQ105527', 'S000722020 Myxococcus fulvus (T); ATCC 25199; DQ768117', 'S000722021 Myxococcus stipitatus; DSM 14675; DQ768118', 'S000722025 Corallococcus macrosporus; DSM 14697; DQ768122', 'S000891170 Myxococcus sp. 102; AM489522', 'S000891171 Myxococcus sp. 139; AM489523', 'S000891172 Myxococcus sp. 171; AM489524', 'S000891173 Myxococcus sp. 105; AM489525', 'S000891174 Myxococcus sp. 112; AM489526', 'S000891175 Myxococcus sp. 42; AM489527', 'S000891177 Myxococcus sp. 70; AM489529', 'S000891178 Myxococcus sp. 116819; AM489530', 'S000891180 Myxococcus sp. 503; AM489532', 'S000891181 Myxococcus sp. 116809; AM489533', 'S000891182 Myxococcus sp. 202; AM489534', 'S000891183 Myxococcus sp. 8; AM489535', 'S000891184 Myxococcus sp. 509; AM489536', 'S000966201 Myxococcus sp. HBUM 92061; EU158265', 'S000966202 Myxococcus sp. HBUM 92067; EU158266', 'S000966204 Myxococcus sp. HBUM 92028; EU158268', 'S000966205 Myxococcus sp. HBUM 92084; EU158269', 'S000966206 Myxococcus sp. HBUM 92087; EU158270', 'S000966207 Myxococcus sp. HBUM 90023; EU158271', 'S000966208 Myxococcus sp. HBUM 92088; EU158272', 'S000966209 Myxococcus sp. HBUM 92097; EU158273', 'S000966210 Myxococcus sp. HBUM 92082; EU158274', 'S000966211 Myxococcus sp. HBUM 93002; EU158275', 'S000966212 Myxococcus sp. HBUM 92012; EU158276', 'S000966214 Myxococcus sp. HBUM 94009; EU158278', 'S000966215 Myxococcus sp. HBUM 91066; EU158279', 'S000966217 Myxococcus sp. WH114s1; EU158281', 'S000966218 Myxococcus sp. HBUM94102; EU158282', 'S000966220 Myxococcus sp. HBUM92101; EU158284', 'S000966221 Myxococcus sp. HBUM92103; EU158285', 'S000966222 Myxococcus sp. HBUM92109; EU158286', 'S000966223 Myxococcus sp. HBUM 90032; EU158287', 'S000966226 Myxococcus sp. HBUM 92076; EU158290', 'S000966227 Myxococcus sp. HBUM 92078; EU158291', 'S000966229 Myxococcus sp. HBUM 94004; EU158293', 'S000332771 Myxococcus sp. 92002; AY626895', 'S000966234 Myxococcus sp. HBUM 92062; EU158298', 'S000966237 Myxococcus sp. HBUM 94026; EU158301', 'S000966238 Myxococcus sp. HBUM 94043; EU158302', 'S000966239 Myxococcus sp. WH090s1; EU158303', 'S000966242 Myxococcus sp. HBUM90011; EU158306', 'S000332772 Myxococcus sp. 92006; AY626896', 'S000966243 Myxococcus sp. HBUM DL030s1; EU158307', 'S000966244 Myxococcus sp. HBUM WH029s1; EU158308', 'S000966245 Myxococcus sp. HBUM WH031s1; EU158309', 'S000966246 Myxococcus sp. HBUM WH077s1; EU158310', 'S000966247 Myxococcus sp. HBUM WH089s1; EU158311', 'S000966248 Myxococcus sp. HBUM WH091t1; EU158312', 'S000332773 Myxococcus sp. 92012; AY626897', 'S000968061 Myxococcus sp. KYC1126; EU262650', 'S000968062 Myxococcus fulvus; KYC1136; EU262651', 'S000968063 Myxococcus stipitatus; KYC1154; EU262652', 'S000968066 Myxococcus fulvus; KYC1198; EU262655', 'S000332774 Myxococcus sp. 92022; AY626898', 'S000968148 Myxococcus stipitatus; KYC1101; EU271853', 'S000995350 Myxococcus fulvus; 124B02; EU137665', 'S000995440 Myxococcus fulvus; 01951; EU262991', 'S000995441 Myxococcus fulvus; 01895; EU262992', 'S000995445 Myxococcus fulvus; 01481; EU262996', 'S000332776 Myxococcus sp. 91018; AY626900', 'S001294214 Myxococcus sp. KYC1028; FJ626429', 'S001294215 Myxococcus sp. KYC1100; FJ626430', 'S001294216 Myxococcus sp. KYC1134; FJ626431', 'S001294217 Myxococcus sp. KYC1139; FJ626432', 'S001294218 Myxococcus sp. KYC1151; FJ626433', 'S001294219 Myxococcus sp. KYC1159; FJ626434', 'S001576247 Myxococcus virescens; HBUM92151; GQ246521', 'S001576248 Myxococcus fulvus; HBUM93409; GQ246522', 'S001576249 Myxococcus fulvus; HBUM91262; GQ246523', 'S001576250 Myxococcus fulvus; HBUM93172; GQ246524', 'S001576251 Myxococcus fulvus; HBUM93175; GQ246525', 'S001576252 Myxococcus fulvus; HBUM93178; GQ246526', 'S001576253 Myxococcus fulvus; HBUM93179; GQ246527', 'S001576254 Myxococcus fulvus; HBUM93180; GQ246528', 'S001576255 Myxococcus fulvus; HBUM93181; GQ246529', 'S001576256 Myxococcus fulvus; HBUM93182; GQ246530', 'S001576257 Myxococcus virescens; HBUM93351; GQ246531', 'S001576259 Myxococcus stipitatus; HBUM93361; GQ246533', 'S001576260 Myxococcus fulvus; HBUM91022; GQ246534', 'S001576261 Myxococcus virescens; HBUM91024; GQ246535', 'S001576262 Myxococcus fulvus; HBUM91028; GQ246536', 'S001576263 Myxococcus fulvus; HBUM91242; GQ246537', 'S001576264 Myxococcus virescens; HBUM91253; GQ246538', 'S001576265 Myxococcus fulvus; HBUM91256; GQ246539', 'S001576269 Myxococcus fulvus; HBUM94025; GQ246543', 'S001576270 Myxococcus stipitatus; HBUM91076; GQ246544', 'S001576271 Myxococcus virescens; HBUM91257; GQ246545', 'S001576272 Myxococcus fulvus; HBUM94030; GQ246546', 'S001576273 Corallococcus macrosporus; HBUM93406; GQ246547', 'S001576274 Myxococcus fulvus; HBUM93401; GQ246548', 'S001576275 Myxococcus virescens; HBUM93402; GQ246549', 'S001576276 Myxococcus fulvus; HBUM93403; GQ246550', 'S001576277 Myxococcus fulvus; HBUM93404; GQ246551', 'S001576278 Corallococcus macrosporus; HBUM93407; GQ246552', 'S001576279 Myxococcus fulvus; HBUM91244; GQ246553', 'S001576280 Myxococcus fulvus; HBUM93101; GQ246554', 'S001576281 Myxococcus fulvus; HBUM93102; GQ246555', 'S001576282 Myxococcus virescens; HBUM93104; GQ246556', 'S001576283 Myxococcus virescens; HBUM93121; GQ246557', 'S001576284 Myxococcus fulvus; HBUM93132; GQ246558', 'S001576285 Myxococcus virescens; HBUM93142; GQ246559', 'S001576286 Myxococcus virescens; HBUM93144; GQ246560', 'S001576289 Myxococcus stipitatus; HBUM93309; GQ246563', 'S001576291 Myxococcus stipitatus; HBUM91088; GQ246565', 'S001576293 Myxococcus stipitatus; HBUM92044; GQ246567', 'S001576294 Myxococcus stipitatus; HBUM92059; GQ246568', 'S001576295 Myxococcus stipitatus; HBUM92077; GQ246569', 'S001576296 Myxococcus stipitatus; HBUM92079; GQ246570', 'S001576297 Myxococcus stipitatus; HBUM92081; GQ246571', 'S001576299 Myxococcus stipitatus; HBUM92085; GQ246573', 'S001576300 Myxococcus stipitatus; HBUM92090; GQ246574', 'S001576301 Myxococcus stipitatus; HBUM93008; GQ246575', 'S001576302 Myxococcus virescens; HBUM91249; GQ246576', 'S001576303 Myxococcus virescens; HBUM91254; GQ246577', 'S001576304 Myxococcus virescens; HBUM93147; GQ246578', 'S001576305 Myxococcus fulvus; HBUM91243; GQ246579', 'S001576306 Myxococcus virescens; HBUM91259; GQ246580', 'S001576307 Myxococcus fulvus; HBUM94016; GQ246581', 'S001576308 Myxococcus virescens; HBUM92152; GQ246582', 'S001576309 Myxococcus virescens; HBUM92153; GQ246583', 'S001576310 Myxococcus fulvus; HBUM93105; GQ246584', 'S001576311 Myxococcus fulvus; HBUM93109; GQ246585', 'S001576312 Myxococcus fulvus; HBUM93110; GQ246586', 'S001576314 Myxococcus fulvus; HBUM93125; GQ246588', 'S001576315 Myxococcus fulvus; HBUM93134; GQ246589', 'S001576317 Myxococcus fulvus; HBUM93136; GQ246591', 'S001576319 Myxococcus fulvus; HBUM93154; GQ246593', 'S001576320 Corallococcus macrosporus; HBUM93155; GQ246594', 'S001576322 Myxococcus virescens; HBUM93167; GQ246596', 'S001576323 Myxococcus virescens; HBUM93169; GQ246597', 'S001576324 Corallococcus macrosporus; HBUM93170; GQ246598', 'S001576327 Myxococcus fulvus; HBUM91188; GQ246601', 'S001576328 Myxococcus fulvus; HBUM91258; GQ246602', 'S001576329 Myxococcus fulvus; HBUM93103; GQ246603', 'S001576330 Myxococcus fulvus; HBUM93162; GQ246604', 'S001576331 Myxococcus fulvus; HBUM92154; GQ246605', 'S001576332 Myxococcus fulvus; HBUM92155; GQ246606', 'S001576334 Myxococcus stipitatus; HBUM92156; GQ246608', 'S001576335 Myxococcus fulvus; HBUM94209; GQ246609', 'S001576337 Myxococcus fulvus; HBUM91251; GQ246611', 'S001745603 Myxococcus sp. 1439; GU124630', 'S001746353 Corallococcus macrosporus; HBUM92159; GU139147', 'S001746354 Corallococcus macrosporus; HBUM92160; GU139148', 'S001746355 Myxococcus fulvus; HBUM94203; GU139149', 'S001746356 Myxococcus fulvus; HBUM94214; GU139150', 'S001746357 Corallococcus macrosporus; HBUM93420; GU139151', 'S001746358 Myxococcus fulvus; HBUM92169; GU139152', 'S001746359 Myxococcus stipitatus; HBUM93501; GU139153', 'S001746362 Corallococcus macrosporus; HBUM91004; GU139156', 'S001746363 Myxococcus virescens; HBUM91069; GU139157', 'S001746366 Corallococcus macrosporus; HBUM93305; GU139160', 'S001874610 Myxococcus sp. MX2; GU323923', 'S002034570 Myxococcus fulvus; ANSMO68; GU477561', 'S002221947 Myxococcus fulvus; M001; FJ826620', 'S002305807 Myxococcus fulvus; hg59; HQ436487', 'S002961829 Myxococcales bacterium S105; JN806221', 'S002961923 Myxococcales bacterium S107; JN815256', 'S003288436 Myxococcus sp. 1x1; HQ623094', 'S003288437 Myxococcus fulvus; btx; HQ623095', 'S003288438 Myxococcus sp. 4x1; HQ623096', 'S003288439 Myxococcus sp. 1x9; HQ623097', 'S003288440 Myxococcus fulvus; 7t; HQ623098', 'S003288441 Myxococcus sp. 7x13; HQ623099', 'S003288442 Myxococcus stipitatus; 12; HQ623100', 'S003288443 Myxococcus fulvus; 8.5; HQ623101', 'S003288444 Myxococcus sp. 912; HQ623102', 'S003288460 Myxococcus sp. 5x1; HQ623118', 'S003288461 Myxococcus sp. 15; HQ623119', 'S003288465 Myxococcus sp. x3t7; HQ623123', 'S003614641 Myxococcus sp. S114; JX316831', 'S003614643 Myxococcales bacterium S121.1; JX316833', 'S003614646 Myxococcus fulvus; S130; JX316836', 'S003614647 Myxococcus sp. S132; JX316837', 'S003614649 Myxococcus sp. S151; JX316839', 'S003620201 Myxococcus stipitatus DSM 14675; CP004025', 'S003620202 Myxococcus stipitatus DSM 14675; CP004025', 'S003620203 Myxococcus stipitatus DSM 14675; CP004025', 'S003789660 Myxococcus sp. 0558ZXW93; JX073729', 'S003789664 Myxococcus sp. 0558ZXW133; JX073733', 'S003789665 Myxococcus sp. 0558ZXW332; JX073734', 'S003789666 Myxococcus sp. 0558ZXW134; JX073735', 'S003811134 Myxococcus sp. 2.1; MY1210; KC862598', 'S003811136 Myxococcus fulvus; xj2; MY1212; KC862600', 'S000367230 Corallococcus coralloides; DSM 52498; AJ811622', 'S003811137 Myxococcus fulvus; xj3; MY1213; KC862601', 'S003811141 Myxococcus fulvus; btx2; MY1217; KC862605', 'S003919595 Myxococcus sp. 00493; KC169931', 'S003919598 Myxococcus sp. 004133; KC169934', 'S003919599 Myxococcus sp. 004134; KC169935', 'S000367231 Corallococcus macrosporus; DSM 14697; AJ811623', 'S004050332 Angiococcus disciformis; And1; KF267719', 'S004050339 Myxococcus fulvus; Mxf2; KF267726', 'S004050340 Myxococcus fulvus; Mxf421; KF267727', 'S004050341 Myxococcus fulvus; Mxf428; KF267728', 'S004050342 Corallococcus macrosporus; Ccm7; KF267729', 'S004050343 Corallococcus macrosporus; Ccm8; KF267730', 'S004050344 Myxococcus stipitatus; Mxs33; KF267731', 'S004050345 Myxococcus stipitatus; Mxs42; KF267732', 'S004050347 Myxococcus virescens; Mxv76; KF267734', 'S004050348 Myxococcus xanthus; Mxx132; KF267735', 'S004054315 Corallococcus macrosporus; STXZ54; KF482866', 'S004064582 Myxococcus fulvus HW1; CP002830', 'S004064583 Myxococcus fulvus HW1; CP002830', 'S004064584 Myxococcus fulvus HW1; CP002830', 'S004068065 Myxococcus stipitatus DSM 14675; CP004025', 'S004068066 Myxococcus stipitatus DSM 14675; CP004025', 'S004068067 Myxococcus stipitatus DSM 14675; CP004025', 'S004084917 Myxococcus fulvus; 431#2; KJ018123', 'S004086226 Corallococcus sp. GNDU 121.2; KJ152111', 'S004086227 Corallococcus sp. GNDU 121.3; KJ152112', 'S004086228 Myxococcus fulvus; GNDU 131; KJ152113', 'S004086231 Myxococcus sp. GNDU 147.2; KJ152116', 'S000391847 Myxococcus fulvus; HW1; AF336801', 'S004086232 Myxococcus sp. GNDU 147.3; KJ152117', 'S004086233 Myxococcus fulvus; GNDU 148; KJ152118', 'S004086235 Myxococcus fulvus; GNDU 150; KJ152120', 'S004086236 Myxococcus fulvus; GNDU 153; KJ152121', 'S004086237 Myxococcus fulvus; GNDU 155.2; KJ152122', 'S004086241 Myxococcus fulvus; GNDU 193; KJ152126', 'S004234394 Myxococcus fulvus; S191; KM257729', 'S000394594 Myxococcus fulvus; 1251; AF466191', 'S004234397 Myxococcus fulvus; S199; KM257732', 'S004234398 Corallococcus macrosporus; S201; KM257733', 'S004234399 Corallococcus macrosporus; S202; KM257734', 'S004234400 Myxococcus stipitatus; S203; KM257735', 'S004234401 Myxococcus stipitatus; S204; KM257736', 'S004234402 Myxococcus sp. S207; KM257737', 'S004453100 Myxococcus sp. S227; KM978084', 'S004453101 Corallococcus macrosporus; S228; KM978085', 'S004453103 Myxococcus sp. S232; KM978087', 'S004453573 Myxococcus sp. S101; KP017543', 'S004453574 Myxococcus sp. S106; KP017544', 'S004453575 Myxococcus sp. S116; KP017545', 'S004459997 Myxococcus fulvus 124B02; CP006003', 'S004459998 Myxococcus fulvus 124B02; CP006003', 'S004459999 Myxococcus fulvus 124B02; CP006003', 'S004462284 Myxococcus sp. (contaminant ex DSM 436); CP012109', 'S004462285 Myxococcus sp. (contaminant ex DSM 436); CP012109', 'S004462286 Myxococcus sp. (contaminant ex DSM 436); CP012109', 'S004462287 Myxococcus sp. (contaminant ex DSM 436); CP012109', 'S004475643 Myxococcus sp. B1; KP718974', 'S004475648 Myxococcus sp. C8; KP718979', 'S004502068 Myxococcus sp. SRI2; LC068849', 'S000424701 Myxococcus xanthus; UCDaV5; AY724798', 'S000424702 Myxococcus xanthus; UCDaV16; AY724799', 'S004534238 Corallococcus sp. GNDU S219; KP178623', 'S004534239 Corallococcus sp. GNDU S220; KP178624', 'S000424703 Myxococcus xanthus; UCDaV17; AY724800', 'S004534242 Cystobacter sp. GNDU S230; KP178627', 'S004535139 Myxococcus sp. V6; KP222537', 'S004537090 Myxococcus sp. (contaminant ex DSM 436); Excontaminant DSM 436; KP306733', 'S000711747 Myxococcus sp. 1521; DQ105521', 'S000711751 Myxococcus sp. 1322; DQ105525', 'S000995446 Corallococcus macrosporus; Myxo9736; EU262997', 'S000966230 Myxococcus sp. WH114s3; EU158294', 'S003811133 Myxococcus fulvus; 1mx; MY1209; KC862597', 'S000367229 Corallococcus coralloides; DSM 52496; AJ811621', 'S000966228 Myxococcus sp. HBUM 93011; EU158292']",
     "output_type": "error",
     "traceback": [
      "\u001b[0;31m---------------------------------------------------------------------------\u001b[0m",
      "\u001b[0;31mTreeError\u001b[0m                                 Traceback (most recent call last)",
      "\u001b[0;32m<ipython-input-25-b31ab2ce1e15>\u001b[0m in \u001b[0;36m<module>\u001b[0;34m()\u001b[0m\n\u001b[0;32m----> 1\u001b[0;31m \u001b[0mt_rooted\u001b[0m \u001b[0;34m=\u001b[0m \u001b[0mt_unroot\u001b[0m\u001b[0;34m.\u001b[0m\u001b[0mrootedWithTip\u001b[0m\u001b[0;34m(\u001b[0m\u001b[0moutgroup\u001b[0m\u001b[0;34m)\u001b[0m\u001b[0;34m\u001b[0m\u001b[0m\n\u001b[0m",
      "\u001b[0;32m/home/be68/anaconda3/envs/ipykernel_py2/lib/python2.7/site-packages/cogent/core/tree.pyc\u001b[0m in \u001b[0;36mrootedWithTip\u001b[0;34m(self, outgroup_name)\u001b[0m\n\u001b[1;32m   1820\u001b[0m     \u001b[0;32mdef\u001b[0m \u001b[0mrootedWithTip\u001b[0m\u001b[0;34m(\u001b[0m\u001b[0mself\u001b[0m\u001b[0;34m,\u001b[0m \u001b[0moutgroup_name\u001b[0m\u001b[0;34m)\u001b[0m\u001b[0;34m:\u001b[0m\u001b[0;34m\u001b[0m\u001b[0m\n\u001b[1;32m   1821\u001b[0m         \u001b[0;34m\"\"\"A new tree with the named tip as one of the root's children\"\"\"\u001b[0m\u001b[0;34m\u001b[0m\u001b[0m\n\u001b[0;32m-> 1822\u001b[0;31m         \u001b[0mtip\u001b[0m \u001b[0;34m=\u001b[0m \u001b[0mself\u001b[0m\u001b[0;34m.\u001b[0m\u001b[0mgetNodeMatchingName\u001b[0m\u001b[0;34m(\u001b[0m\u001b[0moutgroup_name\u001b[0m\u001b[0;34m)\u001b[0m\u001b[0;34m\u001b[0m\u001b[0m\n\u001b[0m\u001b[1;32m   1823\u001b[0m         \u001b[0;32mreturn\u001b[0m \u001b[0mtip\u001b[0m\u001b[0;34m.\u001b[0m\u001b[0mParent\u001b[0m\u001b[0;34m.\u001b[0m\u001b[0munrootedDeepcopy\u001b[0m\u001b[0;34m(\u001b[0m\u001b[0;34m)\u001b[0m\u001b[0;34m\u001b[0m\u001b[0m\n\u001b[1;32m   1824\u001b[0m \u001b[0;34m\u001b[0m\u001b[0m\n",
      "\u001b[0;32m/home/be68/anaconda3/envs/ipykernel_py2/lib/python2.7/site-packages/cogent/core/tree.pyc\u001b[0m in \u001b[0;36mgetNodeMatchingName\u001b[0;34m(self, name)\u001b[0m\n\u001b[1;32m   1354\u001b[0m         \u001b[0;32mif\u001b[0m \u001b[0mnode\u001b[0m \u001b[0;32mis\u001b[0m \u001b[0mNone\u001b[0m\u001b[0;34m:\u001b[0m\u001b[0;34m\u001b[0m\u001b[0m\n\u001b[1;32m   1355\u001b[0m             raise TreeError(\"No node named '%s' in %s\" %\n\u001b[0;32m-> 1356\u001b[0;31m                     (name, self.getTipNames()))\n\u001b[0m\u001b[1;32m   1357\u001b[0m         \u001b[0;32mreturn\u001b[0m \u001b[0mnode\u001b[0m\u001b[0;34m\u001b[0m\u001b[0m\n\u001b[1;32m   1358\u001b[0m \u001b[0;34m\u001b[0m\u001b[0m\n",
      "\u001b[0;31mTreeError\u001b[0m: No node named 'S002304630 Desulfobacter hydrogenophilus (T); type strain: DSM3380; FR733673' in ['S000966224 Myxococcus sp. HBUM 91025; EU158288', 'S003789659 Myxococcus sp. 0558ZXW90; JX073728', 'S003789662 Myxococcus sp. 0558ZXW95; JX073731', 'S003919597 Myxococcus sp. 00495; KC169933', 'S001746360 Myxococcus stipitatus; HBUM93502; GU139154', 'S000966231 Myxococcus sp. HBUM 90016; EU158295', 'S001576313 Myxococcus fulvus; HBUM93122; GQ246587', 'S000966236 Myxococcus sp. HBUM 92080; EU158300', 'S001576288 Myxococcus virescens; HBUM93159; GQ246562', 'S001874609 Myxococcus sp. MX1; GU323922', 'S000843840 Myxococcaceae bacterium HB01078; EF508473', 'S003789661 Myxococcus sp. 0558ZXW94; JX073730', 'S003919596 Myxococcus sp. 00494; KC169932', 'S000966225 Myxococcus sp. HBUM 91053; EU158289', 'S004453577 Myxococcus sp. S119; KP017547', 'S001576258 Myxococcus fulvus; HBUM93358; GQ246532', 'S004453099 Myxococcus sp. S226; KM978083', 'S002224582 Pyxidicoccus fallax; SBPx001; GU249618', 'S000722026 Pyxidicoccus fallax (T); DSM 14698; DQ768123', 'S000891176 Myxococcus sp. 35; AM489528', 'S002223051 Myxococcaceae bacterium DSM 51012; An d15; FR686751', 'S002223054 Myxococcaceae bacterium DSM 51041; An d66; FR686754', 'S003614644 Pyxidicoccus fallax; S127; JX316834', 'S003614645 Myxococcus sp. S128; JX316835', 'S004086239 Pyxidicoccus sp. GNDU 172; KJ152124', 'S004234393 Myxococcus sp. S182; KM257728', 'S004234395 Myxococcus sp. S196; KM257730', 'S004453098 Myxococcus sp. S225; KM978082', 'S004453578 Myxococcus sp. S122.1; KP017548', 'S004453579 Myxococcus sp. S122.3; KP017549', 'S004086238 Pyxidicoccus sp. GNDU 170; KJ152123', 'S000434664 Myxococcus fulvus; 1287; AY032879', 'S002224488 Angiococcus disciformis; DSM 52716; GU207873', 'S000722013 Cystobacter gracilis (T); DSM 14753; DQ768110', 'S000539277 Cystobacter ferrugineus; Cb fe13; AJ233900', 'S000539280 Cystobacter minus; Cb m2; AJ233903', 'S000539281 Cystobacter minus; Cb m6; AJ233904', 'S000539282 Cystobacter violaceus; Cb vi29; AJ233905', 'S000539283 Cystobacter violaceus; Cb vi34; AJ233906', 'S000539287 Angiococcus disciformis; An d4; AJ233910', 'S000539288 Angiococcus disciformis; An d6; AJ233911', 'S000539290 Archangium gephyra; Ar g2; AJ233913', 'S000539327 Myxococcales str. NOCB4; AJ233950', 'S000627339 Archangium gephyra; NBRC 100087; AB218222', 'S000701710 Cystobacter sp. 94032; DQ520899', 'S000722009 Archangium gephyra (T); DSM 2261; DQ768106', 'S000722016 Cystobacter minus (T); DSM 14751; DQ768113', 'S000722017 Cystobacter violaceus (T); DSM 14727; DQ768114', 'S000722027 Hyalangium minutum (T); DSM 14724; DQ768124', 'S000769498 Stigmatella koreensis; KYC1019; EF112185', 'S000891169 Myxococcus sp. 116781; AM489521', 'S000891189 Archangium sp. 565; AM489541', 'S003257844 Angiococcus disciformis (T); type strain: DSM 52716; HE582768', 'S003257845 Angiococcus disciformis; type strain: DSM 52716; HE582769', 'S003257846 Angiococcus disciformis; type strain: DSM 52716; 3; HE582770', 'S003257847 Angiococcus disciformis (T); type strain: DSM 52716; 4; HE582771', 'S003288446 Cystobacter minus; 9x13; HQ623104', 'S003789669 Cystobacteraceae bacterium 0558ZXW144; JX073738', 'S003789670 Cystobacteraceae bacterium 0558ZXW145; JX073739', 'S003811128 Cystobacter sp. xj1; MY1204; KC862592', 'S004044989 Cystobacter violaceus; WX58; KC855016', 'S004050336 Cystobacter minus; Cbm6; KF267723', 'S004050337 Cystobacter violaceus; Cbvi34; KF267724', 'S004086240 Cystobacter sp. GNDU 187; KJ152125', 'S004234390 Cystobacter sp. S154; KM257725', 'S004234396 Cystobacter sp. S197; KM257731', 'S004453104 Archangium sp. S233; KM978088', 'S004461611 Archangium gephyra; DSM 2261; CP011509', 'S004461612 Archangium gephyra; DSM 2261; CP011509', 'S004461613 Archangium gephyra; DSM 2261; CP011509', 'S004475644 Archangium gephyra; B17; KP718975', 'S004533856 bacterium YCZSSLKJ172; KP174428', 'S004534233 Cystobacter sp. GNDU S186; KP178618', 'S004534234 Cystobacter sp. GNDU S198; KP178619', 'S004534235 Cystobacter sp. GNDU S213; KP178620', 'S004534237 Cystobacter sp. GNDU S217; KP178622', 'S004534240 Archangium sp. GNDU S221; KP178625', 'S004534241 Cystobacter sp. GNDU S223; KP178626', 'S004537089 Hyalangium minutum; DSM 14724; KP306732', 'S004044986 Cystobacter gracilis; WX50; KC855013', 'S002224487 Archangium gephyra; DSM 2261; GU207872', 'S003925166 Aggregicoccus edonensis (T); MCy1366; KF767690', 'S004081804 Aggregicoccus edonensis; MCy10622; KF914661', 'S000539276 Cystobacter fuscus; Cb f39; AJ233899', 'S000539278 Cystobacter ferrugineus; Cb fe18; AJ233901', 'S000539279 Cystobacter ferrugineus; Cb fe27; AJ233902', 'S000539284 Melittangium alboraceum; Me b7; AJ233907', 'S000539285 Melittangium boletus (T); Me b8; AJ233908', 'S000722014 Cystobacter miniatus (T); DSM 14712; DQ768111', 'S000722015 Cystobacter ferrugineus (T); DSM 14716; DQ768112', 'S000722028 Melittangium boletus; DSM 14713; DQ768125', 'S000995444 Cystobacter fuscus; Bj41; EU262995', 'S000436919 Cystobacter fuscus; M94276', 'S000722012 Cystobacter fuscus (T); DSM 2262; DQ768109', 'S000429933 Cystobacter sp. SHX9; AF506737', 'S000539274 Cystobacter fuscus; Cb f6; AJ233897', 'S000539275 Cystobacter fuscus; Cb f10; AJ233898', 'S000598281 Cystobacter sp. SDU1; AY996786', 'S000627340 Cystobacter fuscus; NBRC 100088; AB218223', 'S000722011 Cystobacter badius (T); DSM 14723; DQ768108', 'S000722018 Cystobacter velatus (T); DSM 14718; DQ768115', 'S000995447 Cystobacter fuscus; NM03; EU262998', 'S004050334 Cystobacter fuscus; Cbf10; KF267721', 'S004050335 Cystobacter fuscus; Cbf8; KF267722', 'S004453102 Cystobacter fuscus; S229; KM978086', 'S004491817 Cystobacter sp. MCy9104; KT070190', 'S004537087 Cystobacter fuscus DSM 2262; KP306730', 'S000429931 Cystobacter sp. BD54; AF506735', 'S000995453 Cystobacter fuscus; Cb9737; EU263004', 'S000722010 Cystobacter armeniaca (T); DSM 14710; DQ768107', 'S004045355 Anaeromyxobacter dehalogenans; WY75; KC921178', 'S000627988 myxobacterium AT101; AB246771', 'Otu402', 'S000436918 Chondromyces crocatus; Cmc6; M94275', 'S001241098 Chondromyces crocatus; KYC2823; FJ176772', 'S001241099 Chondromyces crocatus; KYC2712; FJ176773', 'S002224489 Chondromyces crocatus (T); Cm c5; GU207874', 'S004462374 Chondromyces crocatus; Cm c5; CP012159', 'S004462375 Chondromyces crocatus; Cm c5; CP012159', 'S004462376 Chondromyces crocatus; Cm c5; CP012159', 'S000417333 Byssovorax cruenta (T); type strain: By c2 = DSM 14553; AJ833647', 'S002224574 Aetherobacter rufus; SBSr003; GU249610', 'S002224572 Aetherobacter sp. SBSr001; GU249608', 'S002224579 Aetherobacter sp. SBSr008; GU249615', 'S002224573 Aetherobacter fasciculatus; SBSr002; GU249609', 'S000539315 Chondromyces apiculatus (T); Cm a14; AJ233938', 'S000539318 Chondromyces robustus; Cm a22; AJ233941', 'S000539319 Chondromyces robustus (T); Cm a13; AJ233942', 'S002224490 Chondromyces pediculatus (T); Cm p51; GU207875', 'S004537086 Chondromyces apiculatus DSM 436; KP306729', 'S003304845 Chondromyces apiculatus; Cm a2; M94274', 'Otu957', 'S000005623 Sorangium cellulosum; So ce26; AF387629', 'S000964812 Sorangium cellulosum So ce56; So ce 56; AM746676', 'S000964814 Sorangium cellulosum So ce56; So ce 56; AM746676', 'S000964817 Sorangium cellulosum So ce56; So ce 56; AM746676', 'S000964819 Sorangium cellulosum So ce56; So ce 56; AM746676', 'S000100604 Sorangium cellulosum; So ce56; AJ316014', 'S001014832 Sorangium cellulosum; So00851; EU240494', 'S001014835 Sorangium cellulosum (T); DSM14627; EU240497', 'S001242877 Sorangium cellulosum; DSM14627; FJ457641', 'S001242882 Sorangium cellulosum; KYC3466; FJ457646', 'S002287250 Sorangium cellulosum So ce56; So ce 56; AM746676', 'S002288519 Sorangium cellulosum So ce56; So ce 56; AM746676', 'S004062784 Sorangium cellulosum So ce56; So ce 56; AM746676', 'S004062785 Sorangium cellulosum So ce56; So ce 56; AM746676', 'S004130098 Sorangium cellulosum; 055813b; HQ829371', 'S004130104 Sorangium cellulosum; 055818; HQ829377', 'S004130107 Sorangium cellulosum; 055824bhong; HQ829380', 'S004130110 Sorangium cellulosum; 055833; HQ829383', 'S004130136 Sorangium cellulosum; 015620b; HQ829409', 'S004130096 Sorangium cellulosum; 055810a; HQ829369', 'S004130117 Sorangium cellulosum; 0558g; HQ829390', 'S004130131 Sorangium cellulosum; 01567c; HQ829404', 'S004130101 Sorangium cellulosum; 055816b; HQ829374', 'S004130126 Sorangium cellulosum; 01565; HQ829399', 'S004130115 Sorangium cellulosum; 0558b; HQ829388', 'S004130137 Sorangium cellulosum; 015622; HQ829410', 'S004130093 Sorangium cellulosum; 008722; HQ829366', 'S004130121 Sorangium cellulosum; 05598; HQ829394', 'S001611072 Sorangium cellulosum; 008772; EU545499', 'S000620600 Sorangium cellulosum; So00033; DQ256395', 'S001573695 Sorangium cellulosum; 008771; EU864256', 'S001014831 Sorangium cellulosum; So97341; EU240493', 'S001014839 Sorangium cellulosum; So008723; EU240532', 'S001014834 Sorangium cellulosum; So01571; EU240496', 'S001014836 Sorangium cellulosum; DSM14731; EU240498', 'S000434665 Sorangium cellulosum; So97211; AY032880', 'S001611066 Sorangium cellulosum; 000339; EU545493', 'S004130116 Sorangium cellulosum; 0558f; HQ829389', 'S000436925 Sorangium cellulosum; M94282', 'S001611065 Sorangium cellulosum; 0003311; EU545492', 'S001611067 Sorangium cellulosum; 000763; EU545494', 'S000434774 Sorangium cellulosum; So97331; AY039304', 'S000435081 Sorangium cellulosum; So00891; AY079453', 'S000001787 Sorangium cellulosum; So9857; AF467674', 'S000006052 Sorangium cellulosum; So973522; AF467675', 'S000008707 Sorangium cellulosum; So98821; AF467673', 'S000015163 Sorangium cellulosum; So9881; AF467672', 'S000016167 Sorangium cellulosum; 875; AF387628', 'S000967292 Sorangium cellulosum; KYC3013; EU242515', 'S000967293 Sorangium cellulosum; KYC3016; EU242516', 'S000967294 Sorangium cellulosum; KYC3017; EU242517', 'S000967295 Sorangium cellulosum; KYC3018; EU242518', 'S000967296 Sorangium cellulosum; KYC3025; EU242519', 'S001014828 Sorangium cellulosum; So01841; EU240490', 'S001014829 Sorangium cellulosum; So01395; EU240491', 'S001014830 Sorangium cellulosum; So00811; EU240492', 'S001014833 Sorangium cellulosum; So97111; EU240495', 'S001014838 Sorangium cellulosum; So000716; EU240531', 'S001242878 Sorangium cellulosum; KYC3059; FJ457642', 'S001242879 Sorangium cellulosum; KYC3074; FJ457643', 'S001242880 Sorangium cellulosum; KYC3093; FJ457644', 'S001242881 Sorangium cellulosum; KYC3139; FJ457645', 'S001611056 Sorangium cellulosum; 00031; EU545483', 'S001611057 Sorangium cellulosum; 000312; EU545484', 'S001611058 Sorangium cellulosum; 000321; EU545485', 'S001611060 Sorangium cellulosum; 000319; EU545487', 'S001611061 Sorangium cellulosum; 0003191; EU545488', 'S001611063 Sorangium cellulosum; 000321; EU545490', 'S001611073 Sorangium cellulosum; 008710; EU545500', 'S001611075 Sorangium cellulosum; 008717; EU545502', 'S001611076 Sorangium cellulosum; 008718; EU545503', 'S001611077 Sorangium cellulosum; 0087201; EU545504', 'S001611078 Sorangium cellulosum; 008726; EU545505', 'S001873945 Sorangium cellulosum; KYC3014; GU299034', 'S001873946 Sorangium cellulosum; KYC3043; GU299035', 'S001873947 Sorangium cellulosum; KYC3046; GU299036', 'S001873948 Sorangium cellulosum; KYC3048; GU299037', 'S001873949 Sorangium cellulosum; KYC3060; GU299038', 'S001873950 Sorangium cellulosum; KYC3064; GU299039', 'S001873951 Sorangium cellulosum; KYC3068; GU299040', 'S001873953 Sorangium cellulosum; KYC3079; GU299042', 'S001873954 Sorangium cellulosum; KYC3080; GU299043', 'S001873955 Sorangium cellulosum; KYC3104; GU299044', 'S001873956 Sorangium cellulosum; KYC3175; GU299045', 'S001873957 Sorangium cellulosum; KYC3234; GU299046', 'S004009245 Sorangium cellulosum; 0003192; EU545489', 'S004009246 Sorangium cellulosum; 000712; EU545495', 'S004009247 Sorangium cellulosum; 008733; EU545498', 'S004130103 Sorangium cellulosum; 055817b; HQ829376', 'S004130118 Sorangium cellulosum; 0558g4; HQ829391', 'S000404691 Sorangium cellulosum; So9734; AY252113', 'S000620599 Sorangium cellulosum; So01572; DQ256394', 'S001611079 Sorangium cellulosum; 01578; EU545506', 'S001611083 Sorangium cellulosum; 015729; EU545510', 'S004009249 Sorangium cellulosum; 015718; EU545507', 'S004067641 Sorangium cellulosum So01572; CP003969', 'S004067642 Sorangium cellulosum So01572; CP003969', 'S004067643 Sorangium cellulosum So01572; CP003969', 'S004067644 Sorangium cellulosum So01572; CP003969', 'S000404692 Sorangium cellulosum; So020073; AY252114', 'S001611064 Sorangium cellulosum; 000322; EU545491', 'S001611082 Sorangium cellulosum; 015726; EU545509', 'S001014837 Sorangium cellulosum; So015724; EU240530', 'S001014840 Sorangium cellulosum; So015752; EU240533', 'S001241096 Sorangium cellulosum; KYC3047; FJ176770', 'S001241097 Sorangium cellulosum; KYC3076; FJ176771', 'S001873952 Sorangium cellulosum; KYC3069; GU299041', 'S004130112 Sorangium cellulosum; 055835a1; HQ829385', 'S004130122 Sorangium cellulosum; 01551; HQ829395', 'S001611081 Sorangium cellulosum; 015725; EU545508', 'S004130111 Sorangium cellulosum; 055835a; HQ829384', 'S000013201 Sorangium cellulosum; 9741; AF387627', 'S001014827 Sorangium cellulosum; So01334; EU240489', 'S000100605 Sorangium cellulosum; So ce56; AJ316015', 'S001611070 Sorangium cellulosum; 008732; EU545497', 'S004009248 Sorangium cellulosum; 008714; EU545501', 'S001611069 Sorangium cellulosum; 008721; EU545496', 'S004130130 Sorangium cellulosum; 01567; HQ829403', 'S004130124 Sorangium cellulosum; 015613a; HQ829397', 'S004130125 Sorangium cellulosum; 015615b; HQ829398', 'S004130133 Sorangium cellulosum; 015612; HQ829406', 'S004130123 Sorangium cellulosum; 01553; HQ829396', 'S004130108 Sorangium cellulosum; 055827; HQ829381', 'S004130097 Sorangium cellulosum; 055813; HQ829370', 'S004130105 Sorangium cellulosum; 055821hei; HQ829378', 'S004130102 Sorangium cellulosum; 055817a; HQ829375', 'S004130114 Sorangium cellulosum; 055838a; HQ829387', 'S004130135 Sorangium cellulosum; 015618; HQ829408', 'S004130095 Sorangium cellulosum; 05588; HQ829368', 'S004130099 Sorangium cellulosum; 055815a; HQ829372', 'S004130094 Sorangium cellulosum; 05584; HQ829367', 'S004130100 Sorangium cellulosum; 055816; HQ829373', 'S004130106 Sorangium cellulosum; 055824b; HQ829379', 'S004130128 Sorangium cellulosum; 01566c; HQ829401', 'S004130129 Sorangium cellulosum; 01566n; HQ829402', 'S004130132 Sorangium cellulosum; 01569a; HQ829405', 'S004130134 Sorangium cellulosum; 015613; HQ829407', 'S004130127 Sorangium cellulosum; 01566a; HQ829400', 'S004130119 Sorangium cellulosum; 05592; HQ829392', 'S004130109 Sorangium cellulosum; 055831; HQ829382', 'S004130113 Sorangium cellulosum; 055835b; HQ829386', 'S004130120 Sorangium cellulosum; 05597; HQ829393', 'S000539325 Phaselicystis flava; NOSO1; AJ233948', 'S001096520 Phaselicystis flava (T); SBKo001; EU545827', 'S002224575 Sorangiineae bacterium SBSr004; GU249611', 'S002224576 Sorangiineae bacterium SBSr005; GU249612', 'S004475647 Polyangium fumosum; C17; KP718978', 'S002224581 Sorangiineae bacterium SBCm007; GU249617', 'S002224577 Sorangiineae bacterium SBSr006; GU249613', 'S000436923 Polyangium sp.; PL 4943; M94280', 'S003811129 Polyangium sp. xj4; MY1205; KC862593', 'S002224496 Polyangium spumosum (T); Pl sm5; GU207881', 'S002224495 Polyangium sorediatum (T); Pl s12; GU207880', 'S002224494 Polyangium fumosum (T); Pl fu5; GU207879', 'S000539320 Polyangium thaxteri; Pl t3; AJ233943', 'S002224578 Jahnella thaxteri; SBSr007; GU249614', 'S002224491 Jahnella thaxteri (T); Pl t4; GU207876', 'S000539316 Chondromyces lanuginosus (T); Sy t2; AJ233939', 'S001241100 Chondromyces lanuginosus; KYC2904; FJ176774', 'S002224580 Minicystis rosea (T); SBNa008; GU249616', 'S003222625 Chondromyces sp. canine oral taxon 128; OJ077; JN713295', 'Otu52', 'Otu143', 'Otu147', 'S000539317 Chondromyces pediculatus; Cm p17; AJ233940', 'S000721669 Chondromyces pediculatus; BICC 8609; DQ491070', 'S000721671 Chondromyces apiculatus; BICC 8620; DQ491072', 'S000627876 Myxococcales bacterium Gsoil 473; AB245340', 'S004125734 Labilithrix luteola (T); B00002; AB847449', 'S004462509 Labilithrix luteola; DSM 27648; CP012333', 'S004462510 Labilithrix luteola; DSM 27648; CP012333', 'S004462511 Labilithrix luteola; DSM 27648; CP012333', 'S004462512 Labilithrix luteola; DSM 27648; CP012333', 'S000627989 myxobacterium AT301; AB246772', 'S002449088 Sorangiineae bacterium 706; JF719608', 'Otu454', 'S001611521 delta proteobacterium O29; FN554397', 'S004502088 Sorangiineae bacterium HB1; LC068957', 'S002409687 Sandaracinus amylolyticus (T); NOSO 4; HQ540311', 'S004461163 Sandaracinus amylolyticus; DSM 53668; CP011125', 'S004461164 Sandaracinus amylolyticus; DSM 53668; CP011125', 'S004537085 Sandaracinus amylolyticus; DSM 53668; KP306728', 'S000418453 Bacteriovorax sp. PNEc1; AY294221', 'S000016132 Bdellovibrio sp. Gunpowder; AF084853', 'S000436219 Bacteriovorax stolpii; uki2; M34125', 'S000018845 Bacteriovorax stolpii (T); DSM 12778; AJ288899', 'S000127682 Bdellovibrio sp. SD1; sewage; AJ278146', 'S000418450 Bacteriovorax sp. F2; AY294218', 'S000003922 Klebsiella oxytoca; 5725y; Y17660', 'S000627986 myxobacterium SIBN17; AB246769', 'S004044884 delta proteobacterium LX33; KC854911', 'S004044937 delta proteobacterium WY32; KC854964', 'S000650640 myxobacterium SMH274; AB252740', 'S000382369 myxobacterium SHI1; AB016469', 'S000384935 Plesiocystis pacifica (T); SIR1; AB083432', 'S004502083 Plesiocystis sp. SIS2; LC068864', 'S004502082 Enhygromyxa sp. SIS1; LC068863', 'S004502077 Enhygromyxa sp. SYM1; LC068858', 'S000858425 myxobacterium SYR2; AB303310', 'S002418551 Pseudenhygromyxa salsuginis (T); SYR2; AB600195', 'S004534076 bacterium YCLKLKJ6; KP174648', 'S002232798 Enhygromyxa salina; SWB005; HM769728', 'S004502080 Enhygromyxa sp. SAB1; LC068861', 'S004502069 Enhygromyxa sp. SHK4; LC068850', 'S004502070 Enhygromyxa sp. SHK11; LC068851', 'S004502072 Enhygromyxa sp. SMK52; LC068853', 'S004502071 Enhygromyxa sp. SMK21; LC068852', 'S004502073 Enhygromyxa sp. SMK9; LC068854', 'S000627984 myxobacterium AT102; AB246767', 'S002232797 Enhygromyxa salina; SWB004; HM769727', 'S004044604 Enhygromyxa salina; SWB007; KC818422', 'S000385672 Enhygromyxa salina (T); SHK1; AB097590', 'S000385673 Enhygromyxa salina; SMK13; AB097591', 'S004502061 Enhygromyxa sp. SMH023; LC066680', 'S004502062 Enhygromyxa sp. SNB1; LC066681', 'S004502075 Enhygromyxa sp. SIW3; LC068856', 'S004502076 Enhygromyxa sp. SMP8; LC068857', 'S004502079 Enhygromyxa sp. SSJ1; LC068860', 'S004502081 Enhygromyxa sp. SNM1; LC068862', 'S004537088 Enhygromyxa salina; DSM 15201; KP306731', 'S004502074 Enhygromyxa sp. SIW2; LC068855', 'S000627985 myxobacterium AT309; AB246768', 'S002232799 Enhygromyxa salina; SWB006; HM769729', 'S004502078 Enhygromyxa sp. SYM2; LC068859', 'S000539322 Nannocystis aggregans; Na a1; AJ233945', 'S000436922 Nannocystis exedens; M94279', 'S000384941 Nannocystis exedens (T); DSM71; AB084253', 'S004453807 Nannocystis pusilla; MNa10913; KP057225', 'S000539324 Nannocystis exedens; Na e571; AJ233947', 'S000541135 Nannocystis sp. 91213; AY996823', 'S002224493 Nannocystis pusilla; Na p29; GU207878', 'S002350770 Nannocystis pusilla (T); type strain: DSM 14622; FR749907', 'S003789657 Nannocystis sp. 0558ZXW50; JX073726', 'S003811138 Nannocystis pusilla; x2d2; MY1214; KC862602', 'S004050352 Nannocystis exedens subsp. cinnabaria; DSM 14641; KF267739', 'S004080092 Nannocystis pusilla; B150; KF739395', 'S000022588 Haliangium tepidum (T); SMP10; AB062751', 'S004502084 Haliangium sp. SBP1; LC068865', 'S000769397 Haliangium ochraceum; GS1; EF108312', 'S002288556 Haliangium ochraceum DSM 14365; CP001804', 'S002289057 Haliangium ochraceum DSM 14365; CP001804', 'S000382370 Haliangium ochraceum (T); SMP2; AB016470', 'S003711818 Kofleria flava; DSM 14602; HF937255', 'S003723514 Kofleria flava; DSM 53743; HF586691', 'S003723515 Kofleria flava; DSM 53745; HF586692', 'S003723516 Kofleria sp. DSM 53797; HF586693', 'S000539321 Kofleria flava (T); Pl vt1; AJ233944', 'S003611754 Kofleria flava; DSM:53744; 22; HF543818', 'S003611755 Kofleria flava; DSM:53744; 23; HF543819', 'S003611756 Kofleria flava; DSM:53744; 28; HF543820', 'S003611758 Kofleria flava; DSM:14659; 12; HF543822', 'S003611759 Kofleria flava; DSM:14659; HF543823', 'S003611760 Kofleria flava; DSM:14659; 16; HF543824', 'S003611761 Kofleria flava; DSM:14620; K2; HF543825', 'S003611762 Kofleria flava; DSM:14620; K10; HF543826', 'S003611757 Kofleria flava; DSM:14659; 11; HF543821', 'Otu731', 'S002232635 bacterium Ellin6502; HM748650', 'Otu10', 'Otu555', 'S000627987 myxobacterium AT303; AB246770', 'Otu725', 'S004044838 delta proteobacterium LWH25; KC854864', 'Otu129', 'Otu126', 'Otu2065', 'Otu437', 'S004044851 Myxococcales bacterium LWH177; KC854877', 'Otu916', 'Otu592', 'Otu374', 'Otu1639', 'Otu160', 'S004125733 Vulgatibacter incomptus (T); B00001; AB847448', 'S004462506 Vulgatibacter incomptus; DSM 27710; CP012332', 'S004462507 Vulgatibacter incomptus; DSM 27710; CP012332', 'S004462508 Vulgatibacter incomptus; DSM 27710; CP012332', 'S004082895 Anaeromyxobacter dehalogenans; SSSB8; KF952438', 'S001188434 Anaeromyxobacter dehalogenans; FRCR7; FJ190059', 'S001188427 Anaeromyxobacter dehalogenans; FRCD6; FJ190052', 'S001188436 Anaeromyxobacter dehalogenans; FRCR9; FJ190061', 'S001188433 Anaeromyxobacter dehalogenans; FRCR6; FJ190058', 'S001188423 Anaeromyxobacter dehalogenans; FRCD1; FJ190048', 'S001188424 Anaeromyxobacter dehalogenans; FRCD3; FJ190049', 'S001188426 Anaeromyxobacter dehalogenans; FRCD5; FJ190051', 'S001188428 Anaeromyxobacter dehalogenans; FRCR1; FJ190053', 'S001188429 Anaeromyxobacter dehalogenans; FRCR2; FJ190054', 'S001188430 Anaeromyxobacter dehalogenans; FRCR3; FJ190055', 'S001188431 Anaeromyxobacter dehalogenans; FRCR4; FJ190056', 'S001188432 Anaeromyxobacter dehalogenans; FRCR5; FJ190057', 'S001188435 Anaeromyxobacter dehalogenans; FRCR8; FJ190060', 'S001418303 Anaeromyxobacter sp. IN2; FJ939131', 'S003710461 Anaeromyxobacter sp. PSR1; AB795400', 'S000980702 Anaeromyxobacter dehalogenans; R; EU331403', 'S000980704 Anaeromyxobacter dehalogenans; DCP20E; EU331405', 'S000980705 Anaeromyxobacter dehalogenans; DCP12D; EU331406', 'S000980707 Anaeromyxobacter dehalogenans; DCP16; EU331408', 'S000980708 Anaeromyxobacter dehalogenans; DCP18; EU331409', 'S000980709 Anaeromyxobacter dehalogenans; DCP17; EU331410', 'S000980711 Anaeromyxobacter dehalogenans; DCP19; EU331412', 'S001188437 Anaeromyxobacter dehalogenans; FRCW; FJ190062', 'S002287043 Anaeromyxobacter dehalogenans (T); 2CP1; CP001359', 'S002288637 Anaeromyxobacter dehalogenans 2CPC; CP000251', 'S002290820 Anaeromyxobacter sp. K; CP001131', 'S004062570 Anaeromyxobacter sp. K; CP001131', 'S004063155 Anaeromyxobacter dehalogenans 2CPC; CP000251', 'S004068953 Anaeromyxobacter dehalogenans (T); 2CP1; CP001359', 'S000392790 Anaeromyxobacter dehalogenans; 2CP1; ATCC BAA258; AF382396', 'S000392791 Anaeromyxobacter dehalogenans; 2CP5; AF382397', 'S000392792 Anaeromyxobacter dehalogenans; 2CP2; AF382398', 'S000392793 Anaeromyxobacter dehalogenans; 2CPC; ATCC BAA259; AF382399', 'S000392794 Anaeromyxobacter dehalogenans; 2CP3; AF382400', 'S000980710 Anaeromyxobacter dehalogenans; DCP2; EU331411', 'S000980706 Anaeromyxobacter dehalogenans; DCP15; EU331407', 'S000891765 Anaeromyxobacter sp. Fw1095; CP000769', 'S000891767 Anaeromyxobacter sp. Fw1095; CP000769', 'S004063752 Anaeromyxobacter sp. Fw1095; CP000769', 'S004063753 Anaeromyxobacter sp. Fw1095; CP000769', 'S000429566 myxobacterium KC; AF482687', 'S000979201 Melittangium lichenicola; DSM 14877; AM930267', 'S000979203 Melittangium lichenicola; ATCC 25946; AM930269', 'S003263036 Melittangium lichenicola; NBRC 100091; AB681145', 'S000539326 Myxococcales str. NOCB2; AJ233949', 'S000367198 Corallococcus coralloides; DSM 51379; AJ811590', 'S000966241 Corallococcus sp. HBUM 92054; EU158305', 'S003811126 Cystobacter sp. 6tx; MY1202; KC862590', 'S000539311 Stigmatella erecta; Pd e19; AJ233934', 'S003811125 Cystobacter sp. 6tb; MY1201; KC862589', 'S000539310 Stigmatella erecta; Pd e3; AJ233933', 'S000539312 Stigmatella aurantiaca; Sg a1; AJ233935', 'S000539313 Stigmatella aurantiaca; Sg a15; AJ233936', 'S000539314 Stigmatella aurantiaca; Sg a28; AJ233937', 'S000540099 Stigmatella erecta (T); type strain: DSM 16858; AJ970180', 'S000722030 Stigmatella aurantiaca (T); ATCC 25190; DQ768127', 'S000722031 Stigmatella erecta; ATCC 25191; DQ768128', 'S000722032 Stigmatella hybrida (T); DSM 14722; DQ768129', 'S002224497 Stigmatella aurantiaca; DSM 17044; GU207882', 'S004050349 Stigmatella aurantiaca; DSM 17044; KF267736', 'S004050350 Stigmatella erecta; DSM 16858; KF267737', 'S004050351 Stigmatella erecta; Pde3; KF267738', 'S004067662 Stigmatella aurantiaca DW4/31; CP002271', 'S004067661 Stigmatella aurantiaca DW4/31; CP002271', 'S000995452 Corallococcus coralloides; 01852; EU263003', 'S000539291 Corallococcus coralloides; Cc c494; AJ233914', 'S000367215 Corallococcus coralloides; DSM 51619; AJ811607', 'S000367217 Corallococcus coralloides; DSM 51625; AJ811609', 'S000367220 Corallococcus coralloides; DSM 52500; AJ811612', 'S000367221 Corallococcus coralloides; DSM 52501; AJ811613', 'S004475645 Corallococcus coralloides; C4; KP718976', 'S000539289 Archangium gephyra; Ar g1; AJ233912', 'S000539292 Corallococcus coralloides; Cc c806; AJ233915', 'S000539308 Corallococcus exiguus; Cc e12b; AJ233931', 'S000539309 Corallococcus exiguus; Cc e100; AJ233932', 'S000541158 Corallococcus sp. 91212; AY996846', 'S000598279 Corallococcus sp. SDU1; AY996784', 'S000598280 Corallococcus sp. SDU2; AY996785', 'S000627338 Corallococcus coralloides; NBRC 100086; AB218221', 'S000722023 Corallococcus coralloides; DSM 2259; DQ768120', 'S000722024 Corallococcus exiguus; DSM 14696; DQ768121', 'S000891185 Corallococcus sp. 116798; AM489537', 'S000891186 Corallococcus sp. 116803; AM489538', 'S000891187 Corallococcus sp. 506; AM489539', 'S000966240 Melittangium sp. HBUM 91081; EU158304', 'S000995451 Corallococcus coralloides; 01982; EU263002', 'S000367196 Corallococcus coralloides (T); type strain: DSM 2259; AJ811588', 'S000367197 Corallococcus coralloides; DSM 51359; AJ811589', 'S000367199 Corallococcus coralloides; DSM 51427; AJ811591', 'S000367200 Corallococcus coralloides; DSM 51547; AJ811592', 'S000367201 Corallococcus coralloides; DSM 51548; AJ811593', 'S000367202 Corallococcus coralloides; DSM 51557; AJ811594', 'S000367203 Corallococcus coralloides; DSM 51651; AJ811595', 'S000367204 Corallococcus coralloides; DSM 51682; AJ811596', 'S000367205 Corallococcus coralloides; DSM 52497; AJ811597', 'S000367206 Corallococcus exiguus (T); type strain: DSM 14696; AJ811598', 'S000367207 Corallococcus coralloides; DSM 51307; AJ811599', 'S000367208 Corallococcus coralloides; DSM 51425; AJ811600', 'S000367209 Corallococcus coralloides; DSM 51492; AJ811601', 'S001576333 Corallococcus exiguus; HBUM94202; GQ246607', 'S001576338 Corallococcus exiguus; HBUM94201; GQ246612', 'S000367210 Corallococcus coralloides; DSM 51558; AJ811602', 'S000367211 Corallococcus coralloides; DSM 52499; AJ811603', 'S000367212 Corallococcus coralloides; DSM 52502; AJ811604', 'S000367213 Corallococcus coralloides; DSM 52503; AJ811605', 'S000367214 Corallococcus coralloides; DSM 51298; AJ811606', 'S002223052 Myxococcaceae bacterium DSM 51015; An d19; FR686752', 'S002223053 Myxococcaceae bacterium DSM 51032; An d52; FR686753', 'S000367216 Corallococcus coralloides; DSM 51620; AJ811608', 'S000367218 Corallococcus coralloides; DSM 51639; AJ811610', 'S000367219 Corallococcus coralloides; DSM 51643; AJ811611', 'S003277459 Corallococcus coralloides DSM 2259; CP003389', 'S003277462 Corallococcus coralloides DSM 2259; CP003389', 'S000367222 Corallococcus coralloides; DSM 51301; AJ811614', 'S003288447 Corallococcus coralloides; 1x4; HQ623105', 'S003288448 Corallococcus coralloides; 4x3; HQ623106', 'S003288449 Corallococcus coralloides; 7x2; HQ623107', 'S003288450 Corallococcus coralloides; 7x12; HQ623108', 'S003288451 Corallococcus coralloides; 11; HQ623109', 'S003288452 Corallococcus coralloides; 4x12; HQ623110', 'S003288453 Corallococcus coralloides; x31; HQ623111', 'S003288454 Corallococcus coralloides; xj52; HQ623112', 'S003288455 Corallococcus coralloides; 4x13; HQ623113', 'S003288456 Corallococcus coralloides; x33; HQ623114', 'S000367223 Corallococcus coralloides; DSM 51408; AJ811615', 'S003288457 Corallococcus coralloides; xj71; HQ623115', 'S000367224 Corallococcus coralloides; DSM 51433; AJ811616', 'S003614640 Corallococcus sp. S104; JX316830', 'S003614642 Corallococcus coralloides; S117; JX316832', 'S000367225 Corallococcus coralloides; DSM 51434; AJ811617', 'S000367226 Corallococcus coralloides; DSM 51435; AJ811618', 'S000367227 Corallococcus coralloides; DSM 51461; AJ811619', 'S000367228 Corallococcus coralloides; DSM 51615; AJ811620', 'S003804827 Corallococcus coralloides; EGB; KC888022', 'S003811130 Corallococcus exiguus; 6tx2; MY1206; KC862594', 'S003811131 Corallococcus sp. x3e; MY1207; KC862595', 'S004050333 Archangium gephyra; Arg2; KF267720', 'S004061559 Corallococcus coralloides DSM 2259; CP003389', 'S004061560 Corallococcus coralloides DSM 2259; CP003389', 'S004084914 Corallococcus coralloides; E2#8; KJ018120', 'S004453576 Corallococcus sp. S118; KP017546', 'S004453580 Corallococcus sp. S124; KP017550', 'S004453581 Corallococcus sp. S125; KP017551', 'S004476368 Corallococcus sp. GIM1.813; KP747688', 'S000722029 Melittangium lichenicola; DSM 2275; DQ768126', 'S000979202 Melittangium lichenicola; type strain: ATCC 25944; AM930268', 'S003614648 Corallococcus coralloides; S145; JX316838', 'S002224492 Melittangium lichenicola; DSM 2275; GU207877', 'S003277457 Corallococcus coralloides DSM 2259; CP003389', 'S004061558 Corallococcus coralloides DSM 2259; CP003389', 'S000995448 Corallococcus coralloides; 00073; EU262999', 'S004475646 Myxococcaceae bacterium C6; KP718977', 'S004234392 Myxococcus sp. S155.1; KM257727', 'S000966233 Myxococcus sp. HBUM 91040; EU158297', 'S003789675 Myxococcus sp. 0558ZXW151; JX073744', 'S003789651 Myxococcus sp. 0558ZXW10; JX073720', 'S003789655 Myxococcus sp. 0558ZXW142; JX073724', 'S000966235 Myxococcus sp. HBUM 92122; EU158299', 'S003789658 Myxococcus sp. 0558ZXW62; JX073727', 'S003919594 Myxococcus sp. 00462; KC169930', 'S004507759 Myxococcus sp. 1011TES4D14,2; LN867184', 'S000436215 Myxococcus xanthus; M34114', 'S000539293 Myxococcus virescens; Mx fl1; AJ233916', 'S000541161 Myxococcus sp. 91228; AY996849', 'S000627322 Myxococcus xanthus; NBRC 13542; AB218205', 'S000627333 Myxococcus virescens; NBRC 100077; AB218216', 'S000627334 Myxococcus virescens; NBRC 100078; AB218217', 'S000627335 Myxococcus virescens; NBRC 100079; AB218218', 'S000627336 Myxococcus virescens; NBRC 100080; AB218219', 'S000627342 Myxococcus virescens; NBRC 100334; AB218225', 'S000627343 Myxococcus virescens; NBRC 100506; AB218226', 'S000651448 Myxococcus xanthus; A5; DQ411298', 'S000651449 Myxococcus xanthus; A12; DQ411299', 'S000651450 Myxococcus xanthus; A15; DQ411300', 'S000651451 Myxococcus xanthus; A16; DQ411301', 'S000651452 Myxococcus xanthus; A17; DQ411302', 'S000651453 Myxococcus xanthus; A19; DQ411303', 'S000651456 Myxococcus xanthus; A25; DQ411306', 'S000651457 Myxococcus xanthus; A31; DQ411307', 'S000651458 Myxococcus xanthus; A59; DQ411308', 'S000722019 Myxococcus xanthus (T); ATCC 25232; DQ768116', 'S000722022 Myxococcus virescens (T); DSM 2260; DQ768119', 'S000722033 Myxococcus virescens; DSM 4946; DQ768130', 'S000891179 Myxococcus sp. 116744; AM489531', 'S000966203 Myxococcus sp. HBUM 92086; EU158267', 'S000966213 Myxococcus sp. HBUM 91089; EU158277', 'S000966216 Myxococcus sp. HBUM 90012; EU158280', 'S000966219 Myxococcus sp. HBUM92041; EU158283', 'S000968059 Myxococcus sp. KYC1013; EU262648', 'S000968060 Myxococcus virescens; KYC1105; EU262649', 'S000968064 Myxococcus sp. KYC1183; EU262653', 'S000968065 Myxococcus xanthus; KYC1190; EU262654', 'S000968067 Myxococcus xanthus; KYC1200; EU262656', 'S000332775 Myxococcus sp. 91014; AY626899', 'S001294220 Myxococcus sp. KYC1182; FJ626435', 'S001575069 Myxococcus xanthus; FM202667', 'S001576266 Myxococcus virescens; HBUM91265; GQ246540', 'S001576267 Myxococcus virescens; HBUM93307; GQ246541', 'S001576268 Myxococcus virescens; HBUM94015; GQ246542', 'S001576287 Myxococcus virescens; HBUM93146; GQ246561', 'S001576292 Myxococcus virescens; HBUM92042; GQ246566', 'S001576298 Myxococcus virescens; HBUM92083; GQ246572', 'S001576316 Myxococcus virescens; HBUM93135; GQ246590', 'S001576318 Myxococcus virescens; HBUM93149; GQ246592', 'S001576321 Myxococcus virescens; HBUM93160; GQ246595', 'S001576325 Myxococcus virescens; HBUM93303; GQ246599', 'S001576326 Myxococcus virescens; HBUM91063; GQ246600', 'S001576336 Myxococcus virescens; HBUM94211; GQ246610', 'S001745604 Myxococcus sp. KYC1577; GU124631', 'S001745605 Myxococcus sp. D5; GU124632', 'S001745606 Myxococcus sp. DS2C; GU124633', 'S001746361 Myxococcus xanthus; HBUM94217; GU139155', 'S001746364 Myxococcus virescens; HBUM92033; GU139158', 'S001746365 Myxococcus virescens; HBUM93158; GU139159', 'S001746367 Myxococcus virescens; HBUM93357; GU139161', 'S002287252 Myxococcus xanthus DK 1622; CP000113', 'S002287888 Myxococcus xanthus DK 1622; CP000113', 'S003288462 Myxococcus virescens; x12; HQ623120', 'S003288463 Myxococcus virescens; 1x3; HQ623121', 'S003789652 Myxococcus sp. 0558ZXW13; JX073721', 'S003789656 Myxococcus sp. 0558ZXW19; JX073725', 'S003789663 Myxococcus sp. 0558ZXW101; JX073732', 'S003789668 Myxococcus sp. 0558ZXW142; JX073737', 'S003789672 Myxococcus sp. 0558ZXW148; JX073741', 'S003789673 Myxococcus sp. 0558ZXW149; JX073742', 'S003789674 Myxococcus sp. 0558ZXW150; JX073743', 'S003789676 Myxococcus sp. 0558ZXW152; JX073745', 'S003811135 Myxococcus sp. x3a; MY1211; KC862599', 'S003919593 Myxococcus sp. 00419; KC169929', 'S003919600 Myxococcus sp. 004150; KC169936', 'S004050338 Myxococcus virescens; Mxfl1; KF267725', 'S004050346 Myxococcus virescens; Mxv2; KF267733', 'S004066378 Myxococcus xanthus DK 1622; CP000113', 'S004066379 Myxococcus xanthus DK 1622; CP000113', 'S004234403 Myxococcus sp. S214; KM257738', 'S004453097 Myxococcus xanthus; S224; KM978081', 'S004454070 Myxococcus sp. XAC 03; KP090855', 'S004496978 Myxococcus xanthus; YR7; KT428618', 'S004499760 Myxococcus virescens; YR35; KT895373', 'S000424700 Myxococcus xanthus; UCDaV1; AY724797', 'S004534236 Myxococcus sp. GNDU S215; KP178621', 'S004534243 Myxococcus sp. GNDU S234; KP178628', 'S000429932 Myxococcus xanthus; BD86; AF506736', 'S003789653 Myxococcus sp. 0558ZXW132; JX073722', 'S001576290 Myxococcus virescens; HBUM93418; GQ246564', 'S003789654 Myxococcus sp. 0558ZXW14; JX073723', 'S003789667 Myxococcus sp. 0558ZXW141; JX073736', 'S000891188 Corallococcus sp. 116782; AM489540', 'S000429934 Myxococcus stipitatus; YN78; AF506738', 'S000435037 Corallococcus macrosporus; 125103; AY072737', 'S000435038 Corallococcus macrosporus; 125102; AY072738', 'S000435039 Corallococcus coralloides; Cc9736; AY072739', 'S000435040 Corallococcus macrosporus; 125101; AY072740', 'S000539286 Angiococcus disciformis; An d1; AJ233909', 'S000539294 Myxococcus fulvus; Mx f2; AJ233917', 'S000539295 Myxococcus fulvus; Mx f421; AJ233918', 'S000539296 Myxococcus fulvus; Mx f428; AJ233919', 'S000539297 Corallococcus macrosporus; Cc m7; AJ233920', 'S000539298 Corallococcus macrosporus; Cc m8; AJ233921', 'S000539299 Myxococcus stipitatus; Mx s33; AJ233922', 'S000539300 Myxococcus stipitatus; Mx s42; AJ233923', 'S000539301 Myxococcus stipitatus; Mx s52; AJ233924', 'S000539302 Myxococcus virescens; Mx v2; AJ233925', 'S000539303 Myxococcus virescens; Mx v76; AJ233926', 'S000539304 Myxococcus virescens; Mx v1; AJ233927', 'S000539305 Myxococcus virescens; Mx v144; AJ233928', 'S000539306 Myxococcus xanthus; DSM 435 (Mx x1); AJ233929', 'S000539307 Myxococcus xanthus; Mx x132; AJ233930', 'S000541159 Myxococcus sp. 91195; AY996847', 'S000541160 Myxococcus sp. 91155; AY996848', 'S000541162 Myxococcus sp. 91072; AY996850', 'S000541163 Myxococcus sp. 91229; AY996851', 'S000541164 Myxococcus sp. 91141; AY996852', 'S000541165 Myxococcus sp. 91227; AY996853', 'S000598277 Myxococcus sp. SDU1; AY996782', 'S000598278 Myxococcus sp. SDU2; AY996783', 'S000627323 Myxococcus fulvus; NBRC 100067; AB218206', 'S000627324 Myxococcus stipitatus; NBRC 100068; AB218207', 'S000627325 Myxococcus stipitatus; NBRC 100069; AB218208', 'S000627326 Myxococcus fulvus; NBRC 100070; AB218209', 'S000627327 Myxococcus fulvus; NBRC 100071; AB218210', 'S000627328 Myxococcus fulvus; NBRC 100072; AB218211', 'S000627329 Myxococcus fulvus; NBRC 100073; AB218212', 'S000627330 Myxococcus fulvus; NBRC 100074; AB218213', 'S000627331 Myxococcus fulvus; NBRC 100075; AB218214', 'S000627332 Corallococcus coralloides; NBRC 100076; AB218215', 'S000627337 Myxococcus virescens; NBRC 100081; AB218220', 'S000627341 Myxococcus fulvus; NBRC 100333; AB218224', 'S000627344 Myxococcus fulvus; NBRC 100507; AB218227', 'S000627345 Myxococcus fulvus; NBRC 100508; AB218228', 'S000627346 Myxococcus fulvus; NBRC 100509; AB218229', 'S000627347 Myxococcus fulvus; NBRC 100510; AB218230', 'S000627348 Myxococcus fulvus; NBRC 100511; AB218231', 'S000627349 Myxococcus fulvus; NBRC 100512; AB218232', 'S000627350 Myxococcus fulvus; NBRC 100513; AB218233', 'S000711748 Myxococcus sp. 1522; DQ105522', 'S000711749 Myxococcus sp. 1523; DQ105523', 'S000711750 Myxococcus sp. 1524; DQ105524', 'S000711752 Myxococcus sp. 1323; DQ105526', 'S000711753 Myxococcus sp. 1595; DQ105527', 'S000722020 Myxococcus fulvus (T); ATCC 25199; DQ768117', 'S000722021 Myxococcus stipitatus; DSM 14675; DQ768118', 'S000722025 Corallococcus macrosporus; DSM 14697; DQ768122', 'S000891170 Myxococcus sp. 102; AM489522', 'S000891171 Myxococcus sp. 139; AM489523', 'S000891172 Myxococcus sp. 171; AM489524', 'S000891173 Myxococcus sp. 105; AM489525', 'S000891174 Myxococcus sp. 112; AM489526', 'S000891175 Myxococcus sp. 42; AM489527', 'S000891177 Myxococcus sp. 70; AM489529', 'S000891178 Myxococcus sp. 116819; AM489530', 'S000891180 Myxococcus sp. 503; AM489532', 'S000891181 Myxococcus sp. 116809; AM489533', 'S000891182 Myxococcus sp. 202; AM489534', 'S000891183 Myxococcus sp. 8; AM489535', 'S000891184 Myxococcus sp. 509; AM489536', 'S000966201 Myxococcus sp. HBUM 92061; EU158265', 'S000966202 Myxococcus sp. HBUM 92067; EU158266', 'S000966204 Myxococcus sp. HBUM 92028; EU158268', 'S000966205 Myxococcus sp. HBUM 92084; EU158269', 'S000966206 Myxococcus sp. HBUM 92087; EU158270', 'S000966207 Myxococcus sp. HBUM 90023; EU158271', 'S000966208 Myxococcus sp. HBUM 92088; EU158272', 'S000966209 Myxococcus sp. HBUM 92097; EU158273', 'S000966210 Myxococcus sp. HBUM 92082; EU158274', 'S000966211 Myxococcus sp. HBUM 93002; EU158275', 'S000966212 Myxococcus sp. HBUM 92012; EU158276', 'S000966214 Myxococcus sp. HBUM 94009; EU158278', 'S000966215 Myxococcus sp. HBUM 91066; EU158279', 'S000966217 Myxococcus sp. WH114s1; EU158281', 'S000966218 Myxococcus sp. HBUM94102; EU158282', 'S000966220 Myxococcus sp. HBUM92101; EU158284', 'S000966221 Myxococcus sp. HBUM92103; EU158285', 'S000966222 Myxococcus sp. HBUM92109; EU158286', 'S000966223 Myxococcus sp. HBUM 90032; EU158287', 'S000966226 Myxococcus sp. HBUM 92076; EU158290', 'S000966227 Myxococcus sp. HBUM 92078; EU158291', 'S000966229 Myxococcus sp. HBUM 94004; EU158293', 'S000332771 Myxococcus sp. 92002; AY626895', 'S000966234 Myxococcus sp. HBUM 92062; EU158298', 'S000966237 Myxococcus sp. HBUM 94026; EU158301', 'S000966238 Myxococcus sp. HBUM 94043; EU158302', 'S000966239 Myxococcus sp. WH090s1; EU158303', 'S000966242 Myxococcus sp. HBUM90011; EU158306', 'S000332772 Myxococcus sp. 92006; AY626896', 'S000966243 Myxococcus sp. HBUM DL030s1; EU158307', 'S000966244 Myxococcus sp. HBUM WH029s1; EU158308', 'S000966245 Myxococcus sp. HBUM WH031s1; EU158309', 'S000966246 Myxococcus sp. HBUM WH077s1; EU158310', 'S000966247 Myxococcus sp. HBUM WH089s1; EU158311', 'S000966248 Myxococcus sp. HBUM WH091t1; EU158312', 'S000332773 Myxococcus sp. 92012; AY626897', 'S000968061 Myxococcus sp. KYC1126; EU262650', 'S000968062 Myxococcus fulvus; KYC1136; EU262651', 'S000968063 Myxococcus stipitatus; KYC1154; EU262652', 'S000968066 Myxococcus fulvus; KYC1198; EU262655', 'S000332774 Myxococcus sp. 92022; AY626898', 'S000968148 Myxococcus stipitatus; KYC1101; EU271853', 'S000995350 Myxococcus fulvus; 124B02; EU137665', 'S000995440 Myxococcus fulvus; 01951; EU262991', 'S000995441 Myxococcus fulvus; 01895; EU262992', 'S000995445 Myxococcus fulvus; 01481; EU262996', 'S000332776 Myxococcus sp. 91018; AY626900', 'S001294214 Myxococcus sp. KYC1028; FJ626429', 'S001294215 Myxococcus sp. KYC1100; FJ626430', 'S001294216 Myxococcus sp. KYC1134; FJ626431', 'S001294217 Myxococcus sp. KYC1139; FJ626432', 'S001294218 Myxococcus sp. KYC1151; FJ626433', 'S001294219 Myxococcus sp. KYC1159; FJ626434', 'S001576247 Myxococcus virescens; HBUM92151; GQ246521', 'S001576248 Myxococcus fulvus; HBUM93409; GQ246522', 'S001576249 Myxococcus fulvus; HBUM91262; GQ246523', 'S001576250 Myxococcus fulvus; HBUM93172; GQ246524', 'S001576251 Myxococcus fulvus; HBUM93175; GQ246525', 'S001576252 Myxococcus fulvus; HBUM93178; GQ246526', 'S001576253 Myxococcus fulvus; HBUM93179; GQ246527', 'S001576254 Myxococcus fulvus; HBUM93180; GQ246528', 'S001576255 Myxococcus fulvus; HBUM93181; GQ246529', 'S001576256 Myxococcus fulvus; HBUM93182; GQ246530', 'S001576257 Myxococcus virescens; HBUM93351; GQ246531', 'S001576259 Myxococcus stipitatus; HBUM93361; GQ246533', 'S001576260 Myxococcus fulvus; HBUM91022; GQ246534', 'S001576261 Myxococcus virescens; HBUM91024; GQ246535', 'S001576262 Myxococcus fulvus; HBUM91028; GQ246536', 'S001576263 Myxococcus fulvus; HBUM91242; GQ246537', 'S001576264 Myxococcus virescens; HBUM91253; GQ246538', 'S001576265 Myxococcus fulvus; HBUM91256; GQ246539', 'S001576269 Myxococcus fulvus; HBUM94025; GQ246543', 'S001576270 Myxococcus stipitatus; HBUM91076; GQ246544', 'S001576271 Myxococcus virescens; HBUM91257; GQ246545', 'S001576272 Myxococcus fulvus; HBUM94030; GQ246546', 'S001576273 Corallococcus macrosporus; HBUM93406; GQ246547', 'S001576274 Myxococcus fulvus; HBUM93401; GQ246548', 'S001576275 Myxococcus virescens; HBUM93402; GQ246549', 'S001576276 Myxococcus fulvus; HBUM93403; GQ246550', 'S001576277 Myxococcus fulvus; HBUM93404; GQ246551', 'S001576278 Corallococcus macrosporus; HBUM93407; GQ246552', 'S001576279 Myxococcus fulvus; HBUM91244; GQ246553', 'S001576280 Myxococcus fulvus; HBUM93101; GQ246554', 'S001576281 Myxococcus fulvus; HBUM93102; GQ246555', 'S001576282 Myxococcus virescens; HBUM93104; GQ246556', 'S001576283 Myxococcus virescens; HBUM93121; GQ246557', 'S001576284 Myxococcus fulvus; HBUM93132; GQ246558', 'S001576285 Myxococcus virescens; HBUM93142; GQ246559', 'S001576286 Myxococcus virescens; HBUM93144; GQ246560', 'S001576289 Myxococcus stipitatus; HBUM93309; GQ246563', 'S001576291 Myxococcus stipitatus; HBUM91088; GQ246565', 'S001576293 Myxococcus stipitatus; HBUM92044; GQ246567', 'S001576294 Myxococcus stipitatus; HBUM92059; GQ246568', 'S001576295 Myxococcus stipitatus; HBUM92077; GQ246569', 'S001576296 Myxococcus stipitatus; HBUM92079; GQ246570', 'S001576297 Myxococcus stipitatus; HBUM92081; GQ246571', 'S001576299 Myxococcus stipitatus; HBUM92085; GQ246573', 'S001576300 Myxococcus stipitatus; HBUM92090; GQ246574', 'S001576301 Myxococcus stipitatus; HBUM93008; GQ246575', 'S001576302 Myxococcus virescens; HBUM91249; GQ246576', 'S001576303 Myxococcus virescens; HBUM91254; GQ246577', 'S001576304 Myxococcus virescens; HBUM93147; GQ246578', 'S001576305 Myxococcus fulvus; HBUM91243; GQ246579', 'S001576306 Myxococcus virescens; HBUM91259; GQ246580', 'S001576307 Myxococcus fulvus; HBUM94016; GQ246581', 'S001576308 Myxococcus virescens; HBUM92152; GQ246582', 'S001576309 Myxococcus virescens; HBUM92153; GQ246583', 'S001576310 Myxococcus fulvus; HBUM93105; GQ246584', 'S001576311 Myxococcus fulvus; HBUM93109; GQ246585', 'S001576312 Myxococcus fulvus; HBUM93110; GQ246586', 'S001576314 Myxococcus fulvus; HBUM93125; GQ246588', 'S001576315 Myxococcus fulvus; HBUM93134; GQ246589', 'S001576317 Myxococcus fulvus; HBUM93136; GQ246591', 'S001576319 Myxococcus fulvus; HBUM93154; GQ246593', 'S001576320 Corallococcus macrosporus; HBUM93155; GQ246594', 'S001576322 Myxococcus virescens; HBUM93167; GQ246596', 'S001576323 Myxococcus virescens; HBUM93169; GQ246597', 'S001576324 Corallococcus macrosporus; HBUM93170; GQ246598', 'S001576327 Myxococcus fulvus; HBUM91188; GQ246601', 'S001576328 Myxococcus fulvus; HBUM91258; GQ246602', 'S001576329 Myxococcus fulvus; HBUM93103; GQ246603', 'S001576330 Myxococcus fulvus; HBUM93162; GQ246604', 'S001576331 Myxococcus fulvus; HBUM92154; GQ246605', 'S001576332 Myxococcus fulvus; HBUM92155; GQ246606', 'S001576334 Myxococcus stipitatus; HBUM92156; GQ246608', 'S001576335 Myxococcus fulvus; HBUM94209; GQ246609', 'S001576337 Myxococcus fulvus; HBUM91251; GQ246611', 'S001745603 Myxococcus sp. 1439; GU124630', 'S001746353 Corallococcus macrosporus; HBUM92159; GU139147', 'S001746354 Corallococcus macrosporus; HBUM92160; GU139148', 'S001746355 Myxococcus fulvus; HBUM94203; GU139149', 'S001746356 Myxococcus fulvus; HBUM94214; GU139150', 'S001746357 Corallococcus macrosporus; HBUM93420; GU139151', 'S001746358 Myxococcus fulvus; HBUM92169; GU139152', 'S001746359 Myxococcus stipitatus; HBUM93501; GU139153', 'S001746362 Corallococcus macrosporus; HBUM91004; GU139156', 'S001746363 Myxococcus virescens; HBUM91069; GU139157', 'S001746366 Corallococcus macrosporus; HBUM93305; GU139160', 'S001874610 Myxococcus sp. MX2; GU323923', 'S002034570 Myxococcus fulvus; ANSMO68; GU477561', 'S002221947 Myxococcus fulvus; M001; FJ826620', 'S002305807 Myxococcus fulvus; hg59; HQ436487', 'S002961829 Myxococcales bacterium S105; JN806221', 'S002961923 Myxococcales bacterium S107; JN815256', 'S003288436 Myxococcus sp. 1x1; HQ623094', 'S003288437 Myxococcus fulvus; btx; HQ623095', 'S003288438 Myxococcus sp. 4x1; HQ623096', 'S003288439 Myxococcus sp. 1x9; HQ623097', 'S003288440 Myxococcus fulvus; 7t; HQ623098', 'S003288441 Myxococcus sp. 7x13; HQ623099', 'S003288442 Myxococcus stipitatus; 12; HQ623100', 'S003288443 Myxococcus fulvus; 8.5; HQ623101', 'S003288444 Myxococcus sp. 912; HQ623102', 'S003288460 Myxococcus sp. 5x1; HQ623118', 'S003288461 Myxococcus sp. 15; HQ623119', 'S003288465 Myxococcus sp. x3t7; HQ623123', 'S003614641 Myxococcus sp. S114; JX316831', 'S003614643 Myxococcales bacterium S121.1; JX316833', 'S003614646 Myxococcus fulvus; S130; JX316836', 'S003614647 Myxococcus sp. S132; JX316837', 'S003614649 Myxococcus sp. S151; JX316839', 'S003620201 Myxococcus stipitatus DSM 14675; CP004025', 'S003620202 Myxococcus stipitatus DSM 14675; CP004025', 'S003620203 Myxococcus stipitatus DSM 14675; CP004025', 'S003789660 Myxococcus sp. 0558ZXW93; JX073729', 'S003789664 Myxococcus sp. 0558ZXW133; JX073733', 'S003789665 Myxococcus sp. 0558ZXW332; JX073734', 'S003789666 Myxococcus sp. 0558ZXW134; JX073735', 'S003811134 Myxococcus sp. 2.1; MY1210; KC862598', 'S003811136 Myxococcus fulvus; xj2; MY1212; KC862600', 'S000367230 Corallococcus coralloides; DSM 52498; AJ811622', 'S003811137 Myxococcus fulvus; xj3; MY1213; KC862601', 'S003811141 Myxococcus fulvus; btx2; MY1217; KC862605', 'S003919595 Myxococcus sp. 00493; KC169931', 'S003919598 Myxococcus sp. 004133; KC169934', 'S003919599 Myxococcus sp. 004134; KC169935', 'S000367231 Corallococcus macrosporus; DSM 14697; AJ811623', 'S004050332 Angiococcus disciformis; And1; KF267719', 'S004050339 Myxococcus fulvus; Mxf2; KF267726', 'S004050340 Myxococcus fulvus; Mxf421; KF267727', 'S004050341 Myxococcus fulvus; Mxf428; KF267728', 'S004050342 Corallococcus macrosporus; Ccm7; KF267729', 'S004050343 Corallococcus macrosporus; Ccm8; KF267730', 'S004050344 Myxococcus stipitatus; Mxs33; KF267731', 'S004050345 Myxococcus stipitatus; Mxs42; KF267732', 'S004050347 Myxococcus virescens; Mxv76; KF267734', 'S004050348 Myxococcus xanthus; Mxx132; KF267735', 'S004054315 Corallococcus macrosporus; STXZ54; KF482866', 'S004064582 Myxococcus fulvus HW1; CP002830', 'S004064583 Myxococcus fulvus HW1; CP002830', 'S004064584 Myxococcus fulvus HW1; CP002830', 'S004068065 Myxococcus stipitatus DSM 14675; CP004025', 'S004068066 Myxococcus stipitatus DSM 14675; CP004025', 'S004068067 Myxococcus stipitatus DSM 14675; CP004025', 'S004084917 Myxococcus fulvus; 431#2; KJ018123', 'S004086226 Corallococcus sp. GNDU 121.2; KJ152111', 'S004086227 Corallococcus sp. GNDU 121.3; KJ152112', 'S004086228 Myxococcus fulvus; GNDU 131; KJ152113', 'S004086231 Myxococcus sp. GNDU 147.2; KJ152116', 'S000391847 Myxococcus fulvus; HW1; AF336801', 'S004086232 Myxococcus sp. GNDU 147.3; KJ152117', 'S004086233 Myxococcus fulvus; GNDU 148; KJ152118', 'S004086235 Myxococcus fulvus; GNDU 150; KJ152120', 'S004086236 Myxococcus fulvus; GNDU 153; KJ152121', 'S004086237 Myxococcus fulvus; GNDU 155.2; KJ152122', 'S004086241 Myxococcus fulvus; GNDU 193; KJ152126', 'S004234394 Myxococcus fulvus; S191; KM257729', 'S000394594 Myxococcus fulvus; 1251; AF466191', 'S004234397 Myxococcus fulvus; S199; KM257732', 'S004234398 Corallococcus macrosporus; S201; KM257733', 'S004234399 Corallococcus macrosporus; S202; KM257734', 'S004234400 Myxococcus stipitatus; S203; KM257735', 'S004234401 Myxococcus stipitatus; S204; KM257736', 'S004234402 Myxococcus sp. S207; KM257737', 'S004453100 Myxococcus sp. S227; KM978084', 'S004453101 Corallococcus macrosporus; S228; KM978085', 'S004453103 Myxococcus sp. S232; KM978087', 'S004453573 Myxococcus sp. S101; KP017543', 'S004453574 Myxococcus sp. S106; KP017544', 'S004453575 Myxococcus sp. S116; KP017545', 'S004459997 Myxococcus fulvus 124B02; CP006003', 'S004459998 Myxococcus fulvus 124B02; CP006003', 'S004459999 Myxococcus fulvus 124B02; CP006003', 'S004462284 Myxococcus sp. (contaminant ex DSM 436); CP012109', 'S004462285 Myxococcus sp. (contaminant ex DSM 436); CP012109', 'S004462286 Myxococcus sp. (contaminant ex DSM 436); CP012109', 'S004462287 Myxococcus sp. (contaminant ex DSM 436); CP012109', 'S004475643 Myxococcus sp. B1; KP718974', 'S004475648 Myxococcus sp. C8; KP718979', 'S004502068 Myxococcus sp. SRI2; LC068849', 'S000424701 Myxococcus xanthus; UCDaV5; AY724798', 'S000424702 Myxococcus xanthus; UCDaV16; AY724799', 'S004534238 Corallococcus sp. GNDU S219; KP178623', 'S004534239 Corallococcus sp. GNDU S220; KP178624', 'S000424703 Myxococcus xanthus; UCDaV17; AY724800', 'S004534242 Cystobacter sp. GNDU S230; KP178627', 'S004535139 Myxococcus sp. V6; KP222537', 'S004537090 Myxococcus sp. (contaminant ex DSM 436); Excontaminant DSM 436; KP306733', 'S000711747 Myxococcus sp. 1521; DQ105521', 'S000711751 Myxococcus sp. 1322; DQ105525', 'S000995446 Corallococcus macrosporus; Myxo9736; EU262997', 'S000966230 Myxococcus sp. WH114s3; EU158294', 'S003811133 Myxococcus fulvus; 1mx; MY1209; KC862597', 'S000367229 Corallococcus coralloides; DSM 52496; AJ811621', 'S000966228 Myxococcus sp. HBUM 93011; EU158292']"
     ]
    }
   ],
   "source": [
    "#t_rooted = t_unroot.rootedWithTip(outgroup)"
   ]
  },
  {
   "cell_type": "code",
   "execution_count": 64,
   "metadata": {
    "collapsed": true
   },
   "outputs": [],
   "source": [
    "t_rooted.writeToFile(os.path.join(workDir, 'TypeStrain.tree'))"
   ]
  },
  {
   "cell_type": "code",
   "execution_count": null,
   "metadata": {
    "collapsed": true
   },
   "outputs": [],
   "source": []
  }
 ],
 "metadata": {
  "kernelspec": {
   "display_name": "Python 2",
   "language": "python",
   "name": "python2"
  },
  "language_info": {
   "codemirror_mode": {
    "name": "ipython",
    "version": 2
   },
   "file_extension": ".py",
   "mimetype": "text/x-python",
   "name": "python",
   "nbconvert_exporter": "python",
   "pygments_lexer": "ipython2",
   "version": "2.7.14"
  }
 },
 "nbformat": 4,
 "nbformat_minor": 2
}
