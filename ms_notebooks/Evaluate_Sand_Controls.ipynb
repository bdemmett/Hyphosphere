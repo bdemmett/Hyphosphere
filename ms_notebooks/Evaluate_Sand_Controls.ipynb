{
 "cells": [
  {
   "cell_type": "code",
   "execution_count": 1,
   "metadata": {},
   "outputs": [],
   "source": [
    "figDir = '~/Hyphosphere/data/3Exp/figures/final'\n",
    "\n",
    "\n",
    "\n",
    "# phyloseq - full object with tree (does not include archaea)\n",
    "physeq_file = '~/Hyphosphere/data/3Exp/phyloseq/final/3Exp_phyloseq_thresh_wtree_experimental_woContam.rds'"
   ]
  },
  {
   "cell_type": "code",
   "execution_count": 2,
   "metadata": {},
   "outputs": [
    {
     "name": "stderr",
     "output_type": "stream",
     "text": [
      "Warning message:\n",
      "“package ‘RColorBrewer’ was built under R version 3.6.1”Warning message:\n",
      "“package ‘vegan’ was built under R version 3.6.1”Loading required package: permute\n",
      "Warning message:\n",
      "“package ‘permute’ was built under R version 3.6.1”Loading required package: lattice\n",
      "Warning message:\n",
      "“package ‘lattice’ was built under R version 3.6.1”This is vegan 2.5-5\n",
      "Loading required package: ggplot2\n",
      "Warning message:\n",
      "“package ‘ggplot2’ was built under R version 3.6.1”\n",
      "Attaching package: ‘dplyr’\n",
      "\n",
      "The following objects are masked from ‘package:stats’:\n",
      "\n",
      "    filter, lag\n",
      "\n",
      "The following objects are masked from ‘package:base’:\n",
      "\n",
      "    intersect, setdiff, setequal, union\n",
      "\n",
      "Warning message:\n",
      "“package ‘reshape2’ was built under R version 3.6.1”\n",
      "Attaching package: ‘reshape2’\n",
      "\n",
      "The following object is masked from ‘package:tidyr’:\n",
      "\n",
      "    smiths\n",
      "\n",
      "Warning message:\n",
      "“package ‘phyloseq’ was built under R version 3.6.1”\n",
      "Attaching package: ‘gridExtra’\n",
      "\n",
      "The following object is masked from ‘package:dplyr’:\n",
      "\n",
      "    combine\n",
      "\n",
      "Warning message:\n",
      "“package ‘foreach’ was built under R version 3.6.1”Loading required package: iterators\n",
      "Warning message:\n",
      "“package ‘iterators’ was built under R version 3.6.1”Loading required package: parallel\n"
     ]
    }
   ],
   "source": [
    "library(RColorBrewer)\n",
    "library(vegan)\n",
    "library(ggpubr)\n",
    "library(tidyr)\n",
    "library(dplyr)\n",
    "library(reshape2)\n",
    "library(phyloseq)\n",
    "library(gridExtra)\n",
    "library(ggplot2)\n",
    "library(foreach)\n",
    "library(doParallel)\n"
   ]
  },
  {
   "cell_type": "code",
   "execution_count": 3,
   "metadata": {},
   "outputs": [],
   "source": [
    "theme_pub = function (base_size = 8, base_family = \"Helvetica\") \n",
    "{\n",
    "    theme_grey(base_size = base_size, base_family = base_family) %+replace% \n",
    "        theme(\n",
    "            axis.line.x = element_line(size = .5),\n",
    "            axis.line.y = element_line(size = .5),\n",
    "            axis.text = element_text(size = base_size),\n",
    "            panel.background = element_rect(fill = \"white\", colour = NA), \n",
    "            panel.border = element_rect(fill = NA, color = \"black\", size = .5), \n",
    "            panel.grid.major = element_blank(), \n",
    "            panel.grid.minor = element_blank(), \n",
    "            strip.background = element_rect(fill = \"grey85\", \n",
    "                colour = \"grey20\"), \n",
    "            legend.key = element_rect(fill = \"white\", \n",
    "                colour = NA), complete = TRUE,\n",
    "            legend.text = element_text(size = base_size),\n",
    "            legend.title = element_text(face = \"bold\"))\n",
    "    \n",
    "    }"
   ]
  },
  {
   "cell_type": "code",
   "execution_count": 4,
   "metadata": {},
   "outputs": [
    {
     "data": {
      "text/html": [
       "<table>\n",
       "<thead><tr><th></th><th scope=col>Kingdom</th><th scope=col>Phylum</th><th scope=col>Class</th><th scope=col>Order</th><th scope=col>Family</th><th scope=col>Genus</th></tr></thead>\n",
       "<tbody>\n",
       "\t<tr><th scope=row>ASV6971</th><td>Bacteria     </td><td>NA           </td><td>NA           </td><td>NA           </td><td>NA           </td><td>NA           </td></tr>\n",
       "\t<tr><th scope=row>ASV2480</th><td>Bacteria     </td><td>NA           </td><td>NA           </td><td>NA           </td><td>NA           </td><td>NA           </td></tr>\n",
       "\t<tr><th scope=row>ASV5742</th><td>Bacteria     </td><td>NA           </td><td>NA           </td><td>NA           </td><td>NA           </td><td>NA           </td></tr>\n",
       "\t<tr><th scope=row>ASV15180</th><td>Bacteria     </td><td>Acidobacteria</td><td>Subgroup_20  </td><td>NA           </td><td>NA           </td><td>NA           </td></tr>\n",
       "\t<tr><th scope=row>ASV9985</th><td>Bacteria     </td><td>Acidobacteria</td><td>Subgroup_20  </td><td>NA           </td><td>NA           </td><td>NA           </td></tr>\n",
       "\t<tr><th scope=row>ASV22021</th><td>Bacteria     </td><td>Acidobacteria</td><td>Subgroup_20  </td><td>NA           </td><td>NA           </td><td>NA           </td></tr>\n",
       "</tbody>\n",
       "</table>\n"
      ],
      "text/latex": [
       "\\begin{tabular}{r|llllll}\n",
       "  & Kingdom & Phylum & Class & Order & Family & Genus\\\\\n",
       "\\hline\n",
       "\tASV6971 & Bacteria      & NA            & NA            & NA            & NA            & NA           \\\\\n",
       "\tASV2480 & Bacteria      & NA            & NA            & NA            & NA            & NA           \\\\\n",
       "\tASV5742 & Bacteria      & NA            & NA            & NA            & NA            & NA           \\\\\n",
       "\tASV15180 & Bacteria      & Acidobacteria & Subgroup\\_20 & NA            & NA            & NA           \\\\\n",
       "\tASV9985 & Bacteria      & Acidobacteria & Subgroup\\_20 & NA            & NA            & NA           \\\\\n",
       "\tASV22021 & Bacteria      & Acidobacteria & Subgroup\\_20 & NA            & NA            & NA           \\\\\n",
       "\\end{tabular}\n"
      ],
      "text/markdown": [
       "\n",
       "| <!--/--> | Kingdom | Phylum | Class | Order | Family | Genus | \n",
       "|---|---|---|---|---|---|\n",
       "| ASV6971 | Bacteria      | NA            | NA            | NA            | NA            | NA            | \n",
       "| ASV2480 | Bacteria      | NA            | NA            | NA            | NA            | NA            | \n",
       "| ASV5742 | Bacteria      | NA            | NA            | NA            | NA            | NA            | \n",
       "| ASV15180 | Bacteria      | Acidobacteria | Subgroup_20   | NA            | NA            | NA            | \n",
       "| ASV9985 | Bacteria      | Acidobacteria | Subgroup_20   | NA            | NA            | NA            | \n",
       "| ASV22021 | Bacteria      | Acidobacteria | Subgroup_20   | NA            | NA            | NA            | \n",
       "\n",
       "\n"
      ],
      "text/plain": [
       "         Kingdom  Phylum        Class       Order Family Genus\n",
       "ASV6971  Bacteria NA            NA          NA    NA     NA   \n",
       "ASV2480  Bacteria NA            NA          NA    NA     NA   \n",
       "ASV5742  Bacteria NA            NA          NA    NA     NA   \n",
       "ASV15180 Bacteria Acidobacteria Subgroup_20 NA    NA     NA   \n",
       "ASV9985  Bacteria Acidobacteria Subgroup_20 NA    NA     NA   \n",
       "ASV22021 Bacteria Acidobacteria Subgroup_20 NA    NA     NA   "
      ]
     },
     "metadata": {},
     "output_type": "display_data"
    },
    {
     "data": {
      "text/html": [
       "<table>\n",
       "<thead><tr><th></th><th scope=col>ASV15180</th><th scope=col>ASV9985</th><th scope=col>ASV22021</th><th scope=col>ASV9417</th><th scope=col>ASV20094</th><th scope=col>ASV25884</th><th scope=col>ASV14673</th><th scope=col>ASV10366</th><th scope=col>ASV30259</th><th scope=col>ASV659</th></tr></thead>\n",
       "<tbody>\n",
       "\t<tr><th scope=row>1.1BP</th><td>0           </td><td>0           </td><td>0.0001412274</td><td>0           </td><td>0           </td><td>0           </td><td>0           </td><td>0           </td><td>0           </td><td>0.0006119855</td></tr>\n",
       "\t<tr><th scope=row>1.1BS</th><td>0           </td><td>0           </td><td>0.0000000000</td><td>0           </td><td>0           </td><td>0           </td><td>0           </td><td>0           </td><td>0           </td><td>0.0011081508</td></tr>\n",
       "\t<tr><th scope=row>1.1CH</th><td>0           </td><td>0           </td><td>0.0000000000</td><td>0           </td><td>0           </td><td>0           </td><td>0           </td><td>0           </td><td>0           </td><td>0.0002464673</td></tr>\n",
       "\t<tr><th scope=row>1.1CS</th><td>0           </td><td>0           </td><td>0.0000000000</td><td>0           </td><td>0           </td><td>0           </td><td>0           </td><td>0           </td><td>0           </td><td>0.0006685769</td></tr>\n",
       "</tbody>\n",
       "</table>\n"
      ],
      "text/latex": [
       "\\begin{tabular}{r|llllllllll}\n",
       "  & ASV15180 & ASV9985 & ASV22021 & ASV9417 & ASV20094 & ASV25884 & ASV14673 & ASV10366 & ASV30259 & ASV659\\\\\n",
       "\\hline\n",
       "\t1.1BP & 0            & 0            & 0.0001412274 & 0            & 0            & 0            & 0            & 0            & 0            & 0.0006119855\\\\\n",
       "\t1.1BS & 0            & 0            & 0.0000000000 & 0            & 0            & 0            & 0            & 0            & 0            & 0.0011081508\\\\\n",
       "\t1.1CH & 0            & 0            & 0.0000000000 & 0            & 0            & 0            & 0            & 0            & 0            & 0.0002464673\\\\\n",
       "\t1.1CS & 0            & 0            & 0.0000000000 & 0            & 0            & 0            & 0            & 0            & 0            & 0.0006685769\\\\\n",
       "\\end{tabular}\n"
      ],
      "text/markdown": [
       "\n",
       "| <!--/--> | ASV15180 | ASV9985 | ASV22021 | ASV9417 | ASV20094 | ASV25884 | ASV14673 | ASV10366 | ASV30259 | ASV659 | \n",
       "|---|---|---|---|\n",
       "| 1.1BP | 0            | 0            | 0.0001412274 | 0            | 0            | 0            | 0            | 0            | 0            | 0.0006119855 | \n",
       "| 1.1BS | 0            | 0            | 0.0000000000 | 0            | 0            | 0            | 0            | 0            | 0            | 0.0011081508 | \n",
       "| 1.1CH | 0            | 0            | 0.0000000000 | 0            | 0            | 0            | 0            | 0            | 0            | 0.0002464673 | \n",
       "| 1.1CS | 0            | 0            | 0.0000000000 | 0            | 0            | 0            | 0            | 0            | 0            | 0.0006685769 | \n",
       "\n",
       "\n"
      ],
      "text/plain": [
       "      ASV15180 ASV9985 ASV22021     ASV9417 ASV20094 ASV25884 ASV14673 ASV10366\n",
       "1.1BP 0        0       0.0001412274 0       0        0        0        0       \n",
       "1.1BS 0        0       0.0000000000 0       0        0        0        0       \n",
       "1.1CH 0        0       0.0000000000 0       0        0        0        0       \n",
       "1.1CS 0        0       0.0000000000 0       0        0        0        0       \n",
       "      ASV30259 ASV659      \n",
       "1.1BP 0        0.0006119855\n",
       "1.1BS 0        0.0011081508\n",
       "1.1CH 0        0.0002464673\n",
       "1.1CS 0        0.0006685769"
      ]
     },
     "metadata": {},
     "output_type": "display_data"
    },
    {
     "data": {
      "text/html": [
       "<table>\n",
       "<thead><tr><th></th><th scope=col>Kingdom</th><th scope=col>Phylum</th><th scope=col>Class</th><th scope=col>Order</th><th scope=col>Family</th><th scope=col>Genus</th></tr></thead>\n",
       "<tbody>\n",
       "\t<tr><th scope=row>ASV2498</th><td>Bacteria           </td><td>Proteobacteria     </td><td>Deltaproteobacteria</td><td>Desulfarculales    </td><td>Desulfarculaceae   </td><td>NA                 </td></tr>\n",
       "\t<tr><th scope=row>ASV11419</th><td>Bacteria           </td><td>Proteobacteria     </td><td>Deltaproteobacteria</td><td>Desulfarculales    </td><td>Desulfarculaceae   </td><td>NA                 </td></tr>\n",
       "\t<tr><th scope=row>ASV5649</th><td>Bacteria           </td><td>Proteobacteria     </td><td>Deltaproteobacteria</td><td>Desulfarculales    </td><td>Desulfarculaceae   </td><td>NA                 </td></tr>\n",
       "\t<tr><th scope=row>ASV22326</th><td>Bacteria           </td><td>Proteobacteria     </td><td>Deltaproteobacteria</td><td>Desulfarculales    </td><td>Desulfarculaceae   </td><td>NA                 </td></tr>\n",
       "\t<tr><th scope=row>ASV7976</th><td>Bacteria           </td><td>Proteobacteria     </td><td>Deltaproteobacteria</td><td>Desulfarculales    </td><td>Desulfarculaceae   </td><td>NA                 </td></tr>\n",
       "\t<tr><th scope=row>ASV10788</th><td>Bacteria           </td><td>Proteobacteria     </td><td>Deltaproteobacteria</td><td>Desulfarculales    </td><td>Desulfarculaceae   </td><td>NA                 </td></tr>\n",
       "</tbody>\n",
       "</table>\n"
      ],
      "text/latex": [
       "\\begin{tabular}{r|llllll}\n",
       "  & Kingdom & Phylum & Class & Order & Family & Genus\\\\\n",
       "\\hline\n",
       "\tASV2498 & Bacteria            & Proteobacteria      & Deltaproteobacteria & Desulfarculales     & Desulfarculaceae    & NA                 \\\\\n",
       "\tASV11419 & Bacteria            & Proteobacteria      & Deltaproteobacteria & Desulfarculales     & Desulfarculaceae    & NA                 \\\\\n",
       "\tASV5649 & Bacteria            & Proteobacteria      & Deltaproteobacteria & Desulfarculales     & Desulfarculaceae    & NA                 \\\\\n",
       "\tASV22326 & Bacteria            & Proteobacteria      & Deltaproteobacteria & Desulfarculales     & Desulfarculaceae    & NA                 \\\\\n",
       "\tASV7976 & Bacteria            & Proteobacteria      & Deltaproteobacteria & Desulfarculales     & Desulfarculaceae    & NA                 \\\\\n",
       "\tASV10788 & Bacteria            & Proteobacteria      & Deltaproteobacteria & Desulfarculales     & Desulfarculaceae    & NA                 \\\\\n",
       "\\end{tabular}\n"
      ],
      "text/markdown": [
       "\n",
       "| <!--/--> | Kingdom | Phylum | Class | Order | Family | Genus | \n",
       "|---|---|---|---|---|---|\n",
       "| ASV2498 | Bacteria            | Proteobacteria      | Deltaproteobacteria | Desulfarculales     | Desulfarculaceae    | NA                  | \n",
       "| ASV11419 | Bacteria            | Proteobacteria      | Deltaproteobacteria | Desulfarculales     | Desulfarculaceae    | NA                  | \n",
       "| ASV5649 | Bacteria            | Proteobacteria      | Deltaproteobacteria | Desulfarculales     | Desulfarculaceae    | NA                  | \n",
       "| ASV22326 | Bacteria            | Proteobacteria      | Deltaproteobacteria | Desulfarculales     | Desulfarculaceae    | NA                  | \n",
       "| ASV7976 | Bacteria            | Proteobacteria      | Deltaproteobacteria | Desulfarculales     | Desulfarculaceae    | NA                  | \n",
       "| ASV10788 | Bacteria            | Proteobacteria      | Deltaproteobacteria | Desulfarculales     | Desulfarculaceae    | NA                  | \n",
       "\n",
       "\n"
      ],
      "text/plain": [
       "         Kingdom  Phylum         Class               Order          \n",
       "ASV2498  Bacteria Proteobacteria Deltaproteobacteria Desulfarculales\n",
       "ASV11419 Bacteria Proteobacteria Deltaproteobacteria Desulfarculales\n",
       "ASV5649  Bacteria Proteobacteria Deltaproteobacteria Desulfarculales\n",
       "ASV22326 Bacteria Proteobacteria Deltaproteobacteria Desulfarculales\n",
       "ASV7976  Bacteria Proteobacteria Deltaproteobacteria Desulfarculales\n",
       "ASV10788 Bacteria Proteobacteria Deltaproteobacteria Desulfarculales\n",
       "         Family           Genus\n",
       "ASV2498  Desulfarculaceae NA   \n",
       "ASV11419 Desulfarculaceae NA   \n",
       "ASV5649  Desulfarculaceae NA   \n",
       "ASV22326 Desulfarculaceae NA   \n",
       "ASV7976  Desulfarculaceae NA   \n",
       "ASV10788 Desulfarculaceae NA   "
      ]
     },
     "metadata": {},
     "output_type": "display_data"
    },
    {
     "data": {
      "text/plain": [
       "phyloseq-class experiment-level object\n",
       "otu_table()   OTU Table:         [ 18707 taxa and 385 samples ]\n",
       "sample_data() Sample Data:       [ 385 samples by 11 sample variables ]\n",
       "tax_table()   Taxonomy Table:    [ 18707 taxa by 6 taxonomic ranks ]\n",
       "phy_tree()    Phylogenetic Tree: [ 18707 tips and 18706 internal nodes ]"
      ]
     },
     "metadata": {},
     "output_type": "display_data"
    }
   ],
   "source": [
    "ps = readRDS(physeq_file)\n",
    "ps = subset_taxa(ps, !is.na(\"Phylum\"))\n",
    "\n",
    "\n",
    "tax_table(ps) %>% head()\n",
    "ps = subset_taxa(ps, Kingdom == \"Bacteria\" &  !is.na(Phylum))\n",
    "ps = subset_samples(ps, !SampleType %in% c(\"EB\", \"PB\", \"MK\")) #remove non-experimental controls\n",
    "\n",
    "# re-normalize after subsetting taxa\n",
    "ps.snorm = transform_sample_counts(ps, function(x) x/sum(x))\n",
    "\n",
    "otu_table(ps.snorm)[1:4, 1:10]\n",
    "tax_table(ps.snorm) %>% tail()\n",
    "\n",
    "ps.snorm\n",
    "                                  \n"
   ]
  },
  {
   "cell_type": "markdown",
   "metadata": {},
   "source": [
    "# Experiment 1 primary analysis"
   ]
  },
  {
   "cell_type": "code",
   "execution_count": 182,
   "metadata": {},
   "outputs": [],
   "source": [
    "ps.s = ps.snorm %>% subset_samples(Experiment %in% c(1) & SampleType %in% c(\"CS\", \"CH\", \"BS\") & Fungus == \"Gv\")"
   ]
  },
  {
   "cell_type": "code",
   "execution_count": 183,
   "metadata": {},
   "outputs": [
    {
     "data": {},
     "metadata": {},
     "output_type": "display_data"
    },
    {
     "data": {
      "image/png": "[encoded data removed]",
      "text/plain": [
       "plot without title"
      ]
     },
     "metadata": {},
     "output_type": "display_data"
    }
   ],
   "source": [
    "ordu = ordinate(ps.s, \"PCoA\", \"unifrac\", weighted=TRUE)\n",
    "p = plot_ordination(ps.s, ordu, justDF = TRUE)\n",
    "plot_ordination(ps.s, ordu)"
   ]
  },
  {
   "cell_type": "code",
   "execution_count": 186,
   "metadata": {},
   "outputs": [
    {
     "data": {
      "text/html": [
       "<ol class=list-inline>\n",
       "\t<li>'#D95F02'</li>\n",
       "\t<li>'#7570B3'</li>\n",
       "</ol>\n"
      ],
      "text/latex": [
       "\\begin{enumerate*}\n",
       "\\item '\\#D95F02'\n",
       "\\item '\\#7570B3'\n",
       "\\end{enumerate*}\n"
      ],
      "text/markdown": [
       "1. '#D95F02'\n",
       "2. '#7570B3'\n",
       "\n",
       "\n"
      ],
      "text/plain": [
       "[1] \"#D95F02\" \"#7570B3\""
      ]
     },
     "metadata": {},
     "output_type": "display_data"
    }
   ],
   "source": [
    "cs = brewer.pal(3,\"Dark2\")[2:3]\n",
    "cs"
   ]
  },
  {
   "cell_type": "code",
   "execution_count": 188,
   "metadata": {
    "scrolled": false
   },
   "outputs": [
    {
     "data": {},
     "metadata": {},
     "output_type": "display_data"
    },
    {
     "data": {},
     "metadata": {},
     "output_type": "display_data"
    },
    {
     "data": {
      "text/html": [
       "<strong>png:</strong> 2"
      ],
      "text/latex": [
       "\\textbf{png:} 2"
      ],
      "text/markdown": [
       "**png:** 2"
      ],
      "text/plain": [
       "png \n",
       "  2 "
      ]
     },
     "metadata": {},
     "output_type": "display_data"
    },
    {
     "data": {},
     "metadata": {},
     "output_type": "display_data"
    },
    {
     "data": {
      "text/html": [
       "<strong>png:</strong> 2"
      ],
      "text/latex": [
       "\\textbf{png:} 2"
      ],
      "text/markdown": [
       "**png:** 2"
      ],
      "text/plain": [
       "png \n",
       "  2 "
      ]
     },
     "metadata": {},
     "output_type": "display_data"
    },
    {
     "data": {
      "image/png": "[encoded data removed]",
      "text/plain": [
       "plot without title"
      ]
     },
     "metadata": {},
     "output_type": "display_data"
    }
   ],
   "source": [
    "#setwd(figDir)\n",
    "cs = brewer.pal(3,\"Dark2\")[2:3]\n",
    "p1 = ggplot(p, aes(x = Axis.1, y = Axis.2)) +\n",
    "geom_point(aes(shape = as.factor(Soil), fill = SampleType),  size = 2, stroke = 1, color = 'Light Grey') +\n",
    "theme_pub() +\n",
    "scale_shape_manual(values=c(22,21,23,24), guide = guide_legend(title = \"Soil\", ncol = 1))+\n",
    "#scale_color_manual(values=c('Light Grey','Black'))+\n",
    "scale_fill_manual(values = cs, labels = c(\"Bulk soil\", \"Core ERH\", \"Soil slurry\"))+\n",
    "labs(x = \"PCoA 1 [41.4%]\", y = \"PCoA 2 [21.4%]\") +\n",
    "ggtitle(\"PCoA of Weighted UniFrac Distances\")+\n",
    "#facet_wrap(~Experiment, ncol = 2)\n",
    "\n",
    "guides(fill=guide_legend(override.aes=list(colour= cs), ncol = 3)) + \n",
    "theme(legend.position=\"bottom\") \n",
    "\n",
    "#color = \"grey20\",\n",
    "\n",
    "p1\n",
    "\n",
    "pdf(file.path(figDir,\"Exp1-2_wUnif_PCOA_BSCHCS_wSand.pdf\"), useDingbats = FALSE, width = 3.46, height = 3.06)\n",
    "p1\n",
    "dev.off()\n",
    "\n",
    "pdf(file.path(figDir,\"Exp1-2_wUnif_PCOA_BSCHCS_wSand_largeforlegend.pdf\"), useDingbats = FALSE, width = 6, height = 4)\n",
    "p1\n",
    "dev.off()"
   ]
  },
  {
   "cell_type": "markdown",
   "metadata": {},
   "source": [
    "# Evaluate community composition in sand samples\n",
    "* Prune to previously identified hyphal ASVs from Experiment 1\n",
    "* Subset to sand and Dryden soils as comparison\n",
    "* Visualize and tabulate prevalance in hyphal samples from sand and soil "
   ]
  },
  {
   "cell_type": "code",
   "execution_count": 13,
   "metadata": {},
   "outputs": [],
   "source": [
    "deseq_dir = '~/Hyphosphere/data/3Exp/DESeq'\n",
    "\n",
    "readfile = file.path(deseq_dir, 'dfl2fc-Exp1.txt')\n",
    "df.l2fc.Exp1 = read.table(readfile, header = TRUE, sep= '\\t')\n",
    "\n",
    "readfile = file.path(deseq_dir, 'dfl2fc-Exp2.txt')\n",
    "df.l2fc.Exp2 = read.table(readfile, header = TRUE, sep= '\\t')\n",
    "\n",
    "df.l2fc = bind_rows(df.l2fc.Exp1, df.l2fc.Exp2) \n",
    "\n",
    "\n",
    "df.l2fc = df.l2fc %>% separate(Subset, c(\"Soil\",\"Fungus\")) "
   ]
  },
  {
   "cell_type": "code",
   "execution_count": 14,
   "metadata": {},
   "outputs": [
    {
     "data": {
      "text/html": [
       "<table>\n",
       "<thead><tr><th scope=col>baseMean</th><th scope=col>log2FoldChange</th><th scope=col>lfcSE</th><th scope=col>stat</th><th scope=col>pvalue</th><th scope=col>padj</th><th scope=col>OTU</th><th scope=col>Soil</th><th scope=col>Fungus</th><th scope=col>Term</th><th scope=col>Contrast</th><th scope=col>DAI</th><th scope=col>Kingdom</th><th scope=col>Phylum</th><th scope=col>Class</th><th scope=col>Order</th><th scope=col>Family</th><th scope=col>Genus</th><th scope=col>Experiment</th></tr></thead>\n",
       "<tbody>\n",
       "\t<tr><td>331.72029            </td><td>-2.716566            </td><td>0.5217389            </td><td>-5.206754            </td><td>1.921730e-07         </td><td>1.885675e-05         </td><td>ASV5                 </td><td>Lansing              </td><td>Gv                   </td><td>SampleType           </td><td>CH_CS                </td><td>81                   </td><td>Bacteria             </td><td>Actinobacteria       </td><td>Actinobacteria       </td><td>Micrococcales        </td><td>Micrococcaceae       </td><td>Pseudarthrobacter    </td><td>1                    </td></tr>\n",
       "\t<tr><td>136.95264            </td><td> 4.977612            </td><td>1.1905977            </td><td> 4.180767            </td><td>2.905274e-05         </td><td>1.192425e-03         </td><td>ASV6                 </td><td>Lansing              </td><td>Gv                   </td><td>SampleType           </td><td>CH_CS                </td><td>81                   </td><td>Bacteria             </td><td>Proteobacteria       </td><td>Gammaproteobacteria  </td><td>Cellvibrionales      </td><td>Cellvibrionaceae     </td><td>Cellvibrio           </td><td>1                    </td></tr>\n",
       "\t<tr><td>  0.00000            </td><td>       NA            </td><td>       NA            </td><td>       NA            </td><td>          NA         </td><td>          NA         </td><td>ASV8                 </td><td>Lansing              </td><td>Gv                   </td><td>SampleType           </td><td>CH_CS                </td><td>81                   </td><td>Bacteria             </td><td>Proteobacteria       </td><td>Alphaproteobacteria  </td><td>Caulobacterales      </td><td>Caulobacteraceae     </td><td>Asticcacaulis        </td><td>1                    </td></tr>\n",
       "\t<tr><td>  0.00000            </td><td>       NA            </td><td>       NA            </td><td>       NA            </td><td>          NA         </td><td>          NA         </td><td>ASV13                </td><td>Lansing              </td><td>Gv                   </td><td>SampleType           </td><td>CH_CS                </td><td>81                   </td><td>Bacteria             </td><td>Proteobacteria       </td><td>Gammaproteobacteria  </td><td>Xanthomonadales      </td><td>Xanthomonadaceae     </td><td>Luteimonas           </td><td>1                    </td></tr>\n",
       "\t<tr><td> 26.70389            </td><td> 8.430000            </td><td>1.7857267            </td><td> 4.720767            </td><td>2.349571e-06         </td><td>1.478663e-04         </td><td>ASV14                </td><td>Lansing              </td><td>Gv                   </td><td>SampleType           </td><td>CH_CS                </td><td>81                   </td><td>Bacteria             </td><td>Proteobacteria       </td><td>Deltaproteobacteria  </td><td>Myxococcales         </td><td>Sandaracinaceae      </td><td>NA                   </td><td>1                    </td></tr>\n",
       "\t<tr><td>  0.00000            </td><td>       NA            </td><td>       NA            </td><td>       NA            </td><td>          NA         </td><td>          NA         </td><td>ASV15                </td><td>Lansing              </td><td>Gv                   </td><td>SampleType           </td><td>CH_CS                </td><td>81                   </td><td>Bacteria             </td><td>Proteobacteria       </td><td>Gammaproteobacteria  </td><td>Betaproteobacteriales</td><td>Burkholderiaceae     </td><td>NA                   </td><td>1                    </td></tr>\n",
       "</tbody>\n",
       "</table>\n"
      ],
      "text/latex": [
       "\\begin{tabular}{r|lllllllllllllllllll}\n",
       " baseMean & log2FoldChange & lfcSE & stat & pvalue & padj & OTU & Soil & Fungus & Term & Contrast & DAI & Kingdom & Phylum & Class & Order & Family & Genus & Experiment\\\\\n",
       "\\hline\n",
       "\t 331.72029             & -2.716566             & 0.5217389             & -5.206754             & 1.921730e-07          & 1.885675e-05          & ASV5                  & Lansing               & Gv                    & SampleType            & CH\\_CS               & 81                    & Bacteria              & Actinobacteria        & Actinobacteria        & Micrococcales         & Micrococcaceae        & Pseudarthrobacter     & 1                    \\\\\n",
       "\t 136.95264             &  4.977612             & 1.1905977             &  4.180767             & 2.905274e-05          & 1.192425e-03          & ASV6                  & Lansing               & Gv                    & SampleType            & CH\\_CS               & 81                    & Bacteria              & Proteobacteria        & Gammaproteobacteria   & Cellvibrionales       & Cellvibrionaceae      & Cellvibrio            & 1                    \\\\\n",
       "\t   0.00000             &        NA             &        NA             &        NA             &           NA          &           NA          & ASV8                  & Lansing               & Gv                    & SampleType            & CH\\_CS               & 81                    & Bacteria              & Proteobacteria        & Alphaproteobacteria   & Caulobacterales       & Caulobacteraceae      & Asticcacaulis         & 1                    \\\\\n",
       "\t   0.00000             &        NA             &        NA             &        NA             &           NA          &           NA          & ASV13                 & Lansing               & Gv                    & SampleType            & CH\\_CS               & 81                    & Bacteria              & Proteobacteria        & Gammaproteobacteria   & Xanthomonadales       & Xanthomonadaceae      & Luteimonas            & 1                    \\\\\n",
       "\t  26.70389             &  8.430000             & 1.7857267             &  4.720767             & 2.349571e-06          & 1.478663e-04          & ASV14                 & Lansing               & Gv                    & SampleType            & CH\\_CS               & 81                    & Bacteria              & Proteobacteria        & Deltaproteobacteria   & Myxococcales          & Sandaracinaceae       & NA                    & 1                    \\\\\n",
       "\t   0.00000             &        NA             &        NA             &        NA             &           NA          &           NA          & ASV15                 & Lansing               & Gv                    & SampleType            & CH\\_CS               & 81                    & Bacteria              & Proteobacteria        & Gammaproteobacteria   & Betaproteobacteriales & Burkholderiaceae      & NA                    & 1                    \\\\\n",
       "\\end{tabular}\n"
      ],
      "text/markdown": [
       "\n",
       "baseMean | log2FoldChange | lfcSE | stat | pvalue | padj | OTU | Soil | Fungus | Term | Contrast | DAI | Kingdom | Phylum | Class | Order | Family | Genus | Experiment | \n",
       "|---|---|---|---|---|---|\n",
       "| 331.72029             | -2.716566             | 0.5217389             | -5.206754             | 1.921730e-07          | 1.885675e-05          | ASV5                  | Lansing               | Gv                    | SampleType            | CH_CS                 | 81                    | Bacteria              | Actinobacteria        | Actinobacteria        | Micrococcales         | Micrococcaceae        | Pseudarthrobacter     | 1                     | \n",
       "| 136.95264             |  4.977612             | 1.1905977             |  4.180767             | 2.905274e-05          | 1.192425e-03          | ASV6                  | Lansing               | Gv                    | SampleType            | CH_CS                 | 81                    | Bacteria              | Proteobacteria        | Gammaproteobacteria   | Cellvibrionales       | Cellvibrionaceae      | Cellvibrio            | 1                     | \n",
       "|   0.00000             |        NA             |        NA             |        NA             |           NA          |           NA          | ASV8                  | Lansing               | Gv                    | SampleType            | CH_CS                 | 81                    | Bacteria              | Proteobacteria        | Alphaproteobacteria   | Caulobacterales       | Caulobacteraceae      | Asticcacaulis         | 1                     | \n",
       "|   0.00000             |        NA             |        NA             |        NA             |           NA          |           NA          | ASV13                 | Lansing               | Gv                    | SampleType            | CH_CS                 | 81                    | Bacteria              | Proteobacteria        | Gammaproteobacteria   | Xanthomonadales       | Xanthomonadaceae      | Luteimonas            | 1                     | \n",
       "|  26.70389             |  8.430000             | 1.7857267             |  4.720767             | 2.349571e-06          | 1.478663e-04          | ASV14                 | Lansing               | Gv                    | SampleType            | CH_CS                 | 81                    | Bacteria              | Proteobacteria        | Deltaproteobacteria   | Myxococcales          | Sandaracinaceae       | NA                    | 1                     | \n",
       "|   0.00000             |        NA             |        NA             |        NA             |           NA          |           NA          | ASV15                 | Lansing               | Gv                    | SampleType            | CH_CS                 | 81                    | Bacteria              | Proteobacteria        | Gammaproteobacteria   | Betaproteobacteriales | Burkholderiaceae      | NA                    | 1                     | \n",
       "\n",
       "\n"
      ],
      "text/plain": [
       "  baseMean  log2FoldChange lfcSE     stat      pvalue       padj         OTU  \n",
       "1 331.72029 -2.716566      0.5217389 -5.206754 1.921730e-07 1.885675e-05 ASV5 \n",
       "2 136.95264  4.977612      1.1905977  4.180767 2.905274e-05 1.192425e-03 ASV6 \n",
       "3   0.00000        NA             NA        NA           NA           NA ASV8 \n",
       "4   0.00000        NA             NA        NA           NA           NA ASV13\n",
       "5  26.70389  8.430000      1.7857267  4.720767 2.349571e-06 1.478663e-04 ASV14\n",
       "6   0.00000        NA             NA        NA           NA           NA ASV15\n",
       "  Soil    Fungus Term       Contrast DAI Kingdom  Phylum        \n",
       "1 Lansing Gv     SampleType CH_CS    81  Bacteria Actinobacteria\n",
       "2 Lansing Gv     SampleType CH_CS    81  Bacteria Proteobacteria\n",
       "3 Lansing Gv     SampleType CH_CS    81  Bacteria Proteobacteria\n",
       "4 Lansing Gv     SampleType CH_CS    81  Bacteria Proteobacteria\n",
       "5 Lansing Gv     SampleType CH_CS    81  Bacteria Proteobacteria\n",
       "6 Lansing Gv     SampleType CH_CS    81  Bacteria Proteobacteria\n",
       "  Class               Order                 Family           Genus            \n",
       "1 Actinobacteria      Micrococcales         Micrococcaceae   Pseudarthrobacter\n",
       "2 Gammaproteobacteria Cellvibrionales       Cellvibrionaceae Cellvibrio       \n",
       "3 Alphaproteobacteria Caulobacterales       Caulobacteraceae Asticcacaulis    \n",
       "4 Gammaproteobacteria Xanthomonadales       Xanthomonadaceae Luteimonas       \n",
       "5 Deltaproteobacteria Myxococcales          Sandaracinaceae  NA               \n",
       "6 Gammaproteobacteria Betaproteobacteriales Burkholderiaceae NA               \n",
       "  Experiment\n",
       "1 1         \n",
       "2 1         \n",
       "3 1         \n",
       "4 1         \n",
       "5 1         \n",
       "6 1         "
      ]
     },
     "metadata": {},
     "output_type": "display_data"
    }
   ],
   "source": [
    "head(df.l2fc)"
   ]
  },
  {
   "cell_type": "code",
   "execution_count": 18,
   "metadata": {},
   "outputs": [],
   "source": [
    "HASVs = df.l2fc %>% \n",
    "    filter(padj < 0.05 & log2FoldChange > 0 & Contrast == \"CH_CS\" & Fungus == \"Gv\" & Experiment == 1) %>% \n",
    "    .$OTU %>% \n",
    "    as.character() %>%\n",
    "    unique() "
   ]
  },
  {
   "cell_type": "code",
   "execution_count": 33,
   "metadata": {
    "scrolled": true
   },
   "outputs": [
    {
     "data": {
      "text/plain": [
       "phyloseq-class experiment-level object\n",
       "otu_table()   OTU Table:         [ 101 taxa and 12 samples ]\n",
       "sample_data() Sample Data:       [ 12 samples by 11 sample variables ]\n",
       "tax_table()   Taxonomy Table:    [ 101 taxa by 6 taxonomic ranks ]\n",
       "phy_tree()    Phylogenetic Tree: [ 101 tips and 100 internal nodes ]"
      ]
     },
     "metadata": {},
     "output_type": "display_data"
    },
    {
     "name": "stderr",
     "output_type": "stream",
     "text": [
      "Warning message in psmelt(ps.s):\n",
      "“The sample variables: \n",
      "Sample\n",
      " have been renamed to: \n",
      "sample_Sample\n",
      "to avoid conflicts with special phyloseq plot attribute names.”"
     ]
    }
   ],
   "source": [
    "ps.s = ps.snorm %>% \n",
    "    prune_taxa(HASVs, .) %>%\n",
    "    subset_samples(Experiment == 1 & SampleType == \"CH\")\n",
    "ps.s\n",
    "\n",
    "ps.m = psmelt(ps.s)"
   ]
  },
  {
   "cell_type": "code",
   "execution_count": 34,
   "metadata": {
    "scrolled": true
   },
   "outputs": [
    {
     "data": {
      "text/html": [
       "<table>\n",
       "<thead><tr><th></th><th scope=col>OTU</th><th scope=col>Sample</th><th scope=col>Abundance</th><th scope=col>sample_Sample</th><th scope=col>Experiment</th><th scope=col>Plant</th><th scope=col>Fungus</th><th scope=col>Soil</th><th scope=col>SampleType</th><th scope=col>Treatment</th><th scope=col>TimePoint</th><th scope=col>DAI</th><th scope=col>Rep</th><th scope=col>Concentration_ng.ul</th><th scope=col>Kingdom</th><th scope=col>Phylum</th><th scope=col>Class</th><th scope=col>Order</th><th scope=col>Family</th><th scope=col>Genus</th></tr></thead>\n",
       "<tbody>\n",
       "\t<tr><th scope=row>366</th><td>ASV189               </td><td>HCHS1                </td><td>0.58255452           </td><td>HCHS1                </td><td>1                    </td><td>S1                   </td><td>Gv                   </td><td>Sand                 </td><td>CH                   </td><td>HN                   </td><td>NA                   </td><td>81                   </td><td>1                    </td><td>0.01                 </td><td>Bacteria             </td><td>Proteobacteria       </td><td>Deltaproteobacteria  </td><td>Myxococcales         </td><td>Haliangiaceae        </td><td>Haliangium           </td></tr>\n",
       "\t<tr><th scope=row>332</th><td>ASV18                </td><td>HCHS2                </td><td>0.17562157           </td><td>HCHS2                </td><td>1                    </td><td>S2                   </td><td>Gv                   </td><td>Sand                 </td><td>CH                   </td><td>HN                   </td><td>NA                   </td><td>81                   </td><td>2                    </td><td>0.01                 </td><td>Bacteria             </td><td>Proteobacteria       </td><td>Deltaproteobacteria  </td><td>Myxococcales         </td><td>Sandaracinaceae      </td><td>NA                   </td></tr>\n",
       "\t<tr><th scope=row>780</th><td>ASV57                </td><td>HCHF1                </td><td>0.10930819           </td><td>HCHF1                </td><td>1                    </td><td>F1                   </td><td>Gv                   </td><td>Florence             </td><td>CH                   </td><td>HN                   </td><td>NA                   </td><td>81                   </td><td>1                    </td><td>0.28                 </td><td>Bacteria             </td><td>Proteobacteria       </td><td>Gammaproteobacteria  </td><td>Betaproteobacteriales</td><td>Burkholderiaceae     </td><td>NA                   </td></tr>\n",
       "\t<tr><th scope=row>1145</th><td>ASV943               </td><td>HCHF2                </td><td>0.06765451           </td><td>HCHF2                </td><td>1                    </td><td>F2                   </td><td>Gv                   </td><td>Florence             </td><td>CH                   </td><td>HN                   </td><td>NA                   </td><td>81                   </td><td>2                    </td><td>0.11                 </td><td>Bacteria             </td><td>Bacteroidetes        </td><td>Bacteroidia          </td><td>Cytophagales         </td><td>Cytophagaceae        </td><td>NA                   </td></tr>\n",
       "\t<tr><th scope=row>1148</th><td>ASV943               </td><td>HCHF3                </td><td>0.06012679           </td><td>HCHF3                </td><td>1                    </td><td>F3                   </td><td>Gv                   </td><td>Florence             </td><td>CH                   </td><td>HN                   </td><td>NA                   </td><td>81                   </td><td>3                    </td><td>0.07                 </td><td>Bacteria             </td><td>Bacteroidetes        </td><td>Bacteroidia          </td><td>Cytophagales         </td><td>Cytophagaceae        </td><td>NA                   </td></tr>\n",
       "\t<tr><th scope=row>969</th><td>ASV718               </td><td>HCHN2                </td><td>0.05420905           </td><td>HCHN2                </td><td>1                    </td><td>N2                   </td><td>Gv                   </td><td>Dryden               </td><td>CH                   </td><td>HN                   </td><td>NA                   </td><td>81                   </td><td>2                    </td><td>0.10                 </td><td>Bacteria             </td><td>Proteobacteria       </td><td>Deltaproteobacteria  </td><td>Myxococcales         </td><td>Sandaracinaceae      </td><td>NA                   </td></tr>\n",
       "</tbody>\n",
       "</table>\n"
      ],
      "text/latex": [
       "\\begin{tabular}{r|llllllllllllllllllll}\n",
       "  & OTU & Sample & Abundance & sample\\_Sample & Experiment & Plant & Fungus & Soil & SampleType & Treatment & TimePoint & DAI & Rep & Concentration\\_ng.ul & Kingdom & Phylum & Class & Order & Family & Genus\\\\\n",
       "\\hline\n",
       "\t366 & ASV189                & HCHS1                 & 0.58255452            & HCHS1                 & 1                     & S1                    & Gv                    & Sand                  & CH                    & HN                    & NA                    & 81                    & 1                     & 0.01                  & Bacteria              & Proteobacteria        & Deltaproteobacteria   & Myxococcales          & Haliangiaceae         & Haliangium           \\\\\n",
       "\t332 & ASV18                 & HCHS2                 & 0.17562157            & HCHS2                 & 1                     & S2                    & Gv                    & Sand                  & CH                    & HN                    & NA                    & 81                    & 2                     & 0.01                  & Bacteria              & Proteobacteria        & Deltaproteobacteria   & Myxococcales          & Sandaracinaceae       & NA                   \\\\\n",
       "\t780 & ASV57                 & HCHF1                 & 0.10930819            & HCHF1                 & 1                     & F1                    & Gv                    & Florence              & CH                    & HN                    & NA                    & 81                    & 1                     & 0.28                  & Bacteria              & Proteobacteria        & Gammaproteobacteria   & Betaproteobacteriales & Burkholderiaceae      & NA                   \\\\\n",
       "\t1145 & ASV943                & HCHF2                 & 0.06765451            & HCHF2                 & 1                     & F2                    & Gv                    & Florence              & CH                    & HN                    & NA                    & 81                    & 2                     & 0.11                  & Bacteria              & Bacteroidetes         & Bacteroidia           & Cytophagales          & Cytophagaceae         & NA                   \\\\\n",
       "\t1148 & ASV943                & HCHF3                 & 0.06012679            & HCHF3                 & 1                     & F3                    & Gv                    & Florence              & CH                    & HN                    & NA                    & 81                    & 3                     & 0.07                  & Bacteria              & Bacteroidetes         & Bacteroidia           & Cytophagales          & Cytophagaceae         & NA                   \\\\\n",
       "\t969 & ASV718                & HCHN2                 & 0.05420905            & HCHN2                 & 1                     & N2                    & Gv                    & Dryden                & CH                    & HN                    & NA                    & 81                    & 2                     & 0.10                  & Bacteria              & Proteobacteria        & Deltaproteobacteria   & Myxococcales          & Sandaracinaceae       & NA                   \\\\\n",
       "\\end{tabular}\n"
      ],
      "text/markdown": [
       "\n",
       "| <!--/--> | OTU | Sample | Abundance | sample_Sample | Experiment | Plant | Fungus | Soil | SampleType | Treatment | TimePoint | DAI | Rep | Concentration_ng.ul | Kingdom | Phylum | Class | Order | Family | Genus | \n",
       "|---|---|---|---|---|---|\n",
       "| 366 | ASV189                | HCHS1                 | 0.58255452            | HCHS1                 | 1                     | S1                    | Gv                    | Sand                  | CH                    | HN                    | NA                    | 81                    | 1                     | 0.01                  | Bacteria              | Proteobacteria        | Deltaproteobacteria   | Myxococcales          | Haliangiaceae         | Haliangium            | \n",
       "| 332 | ASV18                 | HCHS2                 | 0.17562157            | HCHS2                 | 1                     | S2                    | Gv                    | Sand                  | CH                    | HN                    | NA                    | 81                    | 2                     | 0.01                  | Bacteria              | Proteobacteria        | Deltaproteobacteria   | Myxococcales          | Sandaracinaceae       | NA                    | \n",
       "| 780 | ASV57                 | HCHF1                 | 0.10930819            | HCHF1                 | 1                     | F1                    | Gv                    | Florence              | CH                    | HN                    | NA                    | 81                    | 1                     | 0.28                  | Bacteria              | Proteobacteria        | Gammaproteobacteria   | Betaproteobacteriales | Burkholderiaceae      | NA                    | \n",
       "| 1145 | ASV943                | HCHF2                 | 0.06765451            | HCHF2                 | 1                     | F2                    | Gv                    | Florence              | CH                    | HN                    | NA                    | 81                    | 2                     | 0.11                  | Bacteria              | Bacteroidetes         | Bacteroidia           | Cytophagales          | Cytophagaceae         | NA                    | \n",
       "| 1148 | ASV943                | HCHF3                 | 0.06012679            | HCHF3                 | 1                     | F3                    | Gv                    | Florence              | CH                    | HN                    | NA                    | 81                    | 3                     | 0.07                  | Bacteria              | Bacteroidetes         | Bacteroidia           | Cytophagales          | Cytophagaceae         | NA                    | \n",
       "| 969 | ASV718                | HCHN2                 | 0.05420905            | HCHN2                 | 1                     | N2                    | Gv                    | Dryden                | CH                    | HN                    | NA                    | 81                    | 2                     | 0.10                  | Bacteria              | Proteobacteria        | Deltaproteobacteria   | Myxococcales          | Sandaracinaceae       | NA                    | \n",
       "\n",
       "\n"
      ],
      "text/plain": [
       "     OTU    Sample Abundance  sample_Sample Experiment Plant Fungus Soil    \n",
       "366  ASV189 HCHS1  0.58255452 HCHS1         1          S1    Gv     Sand    \n",
       "332  ASV18  HCHS2  0.17562157 HCHS2         1          S2    Gv     Sand    \n",
       "780  ASV57  HCHF1  0.10930819 HCHF1         1          F1    Gv     Florence\n",
       "1145 ASV943 HCHF2  0.06765451 HCHF2         1          F2    Gv     Florence\n",
       "1148 ASV943 HCHF3  0.06012679 HCHF3         1          F3    Gv     Florence\n",
       "969  ASV718 HCHN2  0.05420905 HCHN2         1          N2    Gv     Dryden  \n",
       "     SampleType Treatment TimePoint DAI Rep Concentration_ng.ul Kingdom \n",
       "366  CH         HN        NA        81  1   0.01                Bacteria\n",
       "332  CH         HN        NA        81  2   0.01                Bacteria\n",
       "780  CH         HN        NA        81  1   0.28                Bacteria\n",
       "1145 CH         HN        NA        81  2   0.11                Bacteria\n",
       "1148 CH         HN        NA        81  3   0.07                Bacteria\n",
       "969  CH         HN        NA        81  2   0.10                Bacteria\n",
       "     Phylum         Class               Order                 Family          \n",
       "366  Proteobacteria Deltaproteobacteria Myxococcales          Haliangiaceae   \n",
       "332  Proteobacteria Deltaproteobacteria Myxococcales          Sandaracinaceae \n",
       "780  Proteobacteria Gammaproteobacteria Betaproteobacteriales Burkholderiaceae\n",
       "1145 Bacteroidetes  Bacteroidia         Cytophagales          Cytophagaceae   \n",
       "1148 Bacteroidetes  Bacteroidia         Cytophagales          Cytophagaceae   \n",
       "969  Proteobacteria Deltaproteobacteria Myxococcales          Sandaracinaceae \n",
       "     Genus     \n",
       "366  Haliangium\n",
       "332  NA        \n",
       "780  NA        \n",
       "1145 NA        \n",
       "1148 NA        \n",
       "969  NA        "
      ]
     },
     "metadata": {},
     "output_type": "display_data"
    }
   ],
   "source": [
    "head(ps.m)"
   ]
  },
  {
   "cell_type": "code",
   "execution_count": 35,
   "metadata": {},
   "outputs": [
    {
     "data": {
      "text/html": [
       "<ol class=list-inline>\n",
       "\t<li>'ASV718'</li>\n",
       "\t<li>'ASV18'</li>\n",
       "\t<li>'ASV661'</li>\n",
       "\t<li>'ASV383'</li>\n",
       "\t<li>'ASV23'</li>\n",
       "\t<li>'ASV195'</li>\n",
       "\t<li>'ASV102'</li>\n",
       "\t<li>'ASV509'</li>\n",
       "\t<li>'ASV2435'</li>\n",
       "\t<li>'ASV47'</li>\n",
       "\t<li>'ASV71'</li>\n",
       "\t<li>'ASV66'</li>\n",
       "\t<li>'ASV403'</li>\n",
       "\t<li>'ASV5863'</li>\n",
       "\t<li>'ASV566'</li>\n",
       "\t<li>'ASV77'</li>\n",
       "\t<li>'ASV1173'</li>\n",
       "\t<li>'ASV4570'</li>\n",
       "\t<li>'ASV7267'</li>\n",
       "\t<li>'ASV247'</li>\n",
       "\t<li>'ASV174'</li>\n",
       "\t<li>'ASV1768'</li>\n",
       "\t<li>'ASV95'</li>\n",
       "\t<li>'ASV61'</li>\n",
       "\t<li>'ASV846'</li>\n",
       "\t<li>'ASV30'</li>\n",
       "\t<li>'ASV6'</li>\n",
       "\t<li>'ASV9815'</li>\n",
       "\t<li>'ASV1412'</li>\n",
       "\t<li>'ASV1355'</li>\n",
       "\t<li>'ASV1158'</li>\n",
       "\t<li>'ASV148'</li>\n",
       "\t<li>'ASV3437'</li>\n",
       "\t<li>'ASV3731'</li>\n",
       "\t<li>'ASV14'</li>\n",
       "\t<li>'ASV10718'</li>\n",
       "\t<li>'ASV8323'</li>\n",
       "\t<li>'ASV1480'</li>\n",
       "\t<li>'ASV4494'</li>\n",
       "\t<li>'ASV754'</li>\n",
       "\t<li>'ASV1636'</li>\n",
       "\t<li>'ASV708'</li>\n",
       "\t<li>'ASV10760'</li>\n",
       "\t<li>'ASV378'</li>\n",
       "\t<li>'ASV675'</li>\n",
       "\t<li>'ASV14982'</li>\n",
       "\t<li>'ASV1043'</li>\n",
       "\t<li>'ASV1132'</li>\n",
       "\t<li>'ASV11470'</li>\n",
       "\t<li>'ASV118'</li>\n",
       "\t<li>'ASV12274'</li>\n",
       "\t<li>'ASV13032'</li>\n",
       "\t<li>'ASV1386'</li>\n",
       "\t<li>'ASV143'</li>\n",
       "\t<li>'ASV146'</li>\n",
       "\t<li>'ASV14873'</li>\n",
       "\t<li>'ASV15608'</li>\n",
       "\t<li>'ASV1674'</li>\n",
       "\t<li>'ASV17'</li>\n",
       "\t<li>'ASV1847'</li>\n",
       "\t<li>'ASV1862'</li>\n",
       "\t<li>'ASV189'</li>\n",
       "\t<li>'ASV2181'</li>\n",
       "\t<li>'ASV2473'</li>\n",
       "\t<li>'ASV2725'</li>\n",
       "\t<li>'ASV2825'</li>\n",
       "\t<li>'ASV3052'</li>\n",
       "\t<li>'ASV335'</li>\n",
       "\t<li>'ASV341'</li>\n",
       "\t<li>'ASV342'</li>\n",
       "\t<li>'ASV3962'</li>\n",
       "\t<li>'ASV4012'</li>\n",
       "\t<li>'ASV4569'</li>\n",
       "\t<li>'ASV4735'</li>\n",
       "\t<li>'ASV5033'</li>\n",
       "\t<li>'ASV508'</li>\n",
       "\t<li>'ASV5104'</li>\n",
       "\t<li>'ASV518'</li>\n",
       "\t<li>'ASV528'</li>\n",
       "\t<li>'ASV5354'</li>\n",
       "\t<li>'ASV57'</li>\n",
       "\t<li>'ASV5832'</li>\n",
       "\t<li>'ASV6087'</li>\n",
       "\t<li>'ASV615'</li>\n",
       "\t<li>'ASV616'</li>\n",
       "\t<li>'ASV6450'</li>\n",
       "\t<li>'ASV692'</li>\n",
       "\t<li>'ASV7162'</li>\n",
       "\t<li>'ASV7758'</li>\n",
       "\t<li>'ASV7875'</li>\n",
       "\t<li>'ASV8292'</li>\n",
       "\t<li>'ASV8351'</li>\n",
       "\t<li>'ASV8460'</li>\n",
       "\t<li>'ASV8549'</li>\n",
       "\t<li>'ASV8926'</li>\n",
       "\t<li>'ASV915'</li>\n",
       "\t<li>'ASV928'</li>\n",
       "\t<li>'ASV943'</li>\n",
       "\t<li>'ASV9437'</li>\n",
       "\t<li>'ASV9567'</li>\n",
       "\t<li>'ASV987'</li>\n",
       "</ol>\n"
      ],
      "text/latex": [
       "\\begin{enumerate*}\n",
       "\\item 'ASV718'\n",
       "\\item 'ASV18'\n",
       "\\item 'ASV661'\n",
       "\\item 'ASV383'\n",
       "\\item 'ASV23'\n",
       "\\item 'ASV195'\n",
       "\\item 'ASV102'\n",
       "\\item 'ASV509'\n",
       "\\item 'ASV2435'\n",
       "\\item 'ASV47'\n",
       "\\item 'ASV71'\n",
       "\\item 'ASV66'\n",
       "\\item 'ASV403'\n",
       "\\item 'ASV5863'\n",
       "\\item 'ASV566'\n",
       "\\item 'ASV77'\n",
       "\\item 'ASV1173'\n",
       "\\item 'ASV4570'\n",
       "\\item 'ASV7267'\n",
       "\\item 'ASV247'\n",
       "\\item 'ASV174'\n",
       "\\item 'ASV1768'\n",
       "\\item 'ASV95'\n",
       "\\item 'ASV61'\n",
       "\\item 'ASV846'\n",
       "\\item 'ASV30'\n",
       "\\item 'ASV6'\n",
       "\\item 'ASV9815'\n",
       "\\item 'ASV1412'\n",
       "\\item 'ASV1355'\n",
       "\\item 'ASV1158'\n",
       "\\item 'ASV148'\n",
       "\\item 'ASV3437'\n",
       "\\item 'ASV3731'\n",
       "\\item 'ASV14'\n",
       "\\item 'ASV10718'\n",
       "\\item 'ASV8323'\n",
       "\\item 'ASV1480'\n",
       "\\item 'ASV4494'\n",
       "\\item 'ASV754'\n",
       "\\item 'ASV1636'\n",
       "\\item 'ASV708'\n",
       "\\item 'ASV10760'\n",
       "\\item 'ASV378'\n",
       "\\item 'ASV675'\n",
       "\\item 'ASV14982'\n",
       "\\item 'ASV1043'\n",
       "\\item 'ASV1132'\n",
       "\\item 'ASV11470'\n",
       "\\item 'ASV118'\n",
       "\\item 'ASV12274'\n",
       "\\item 'ASV13032'\n",
       "\\item 'ASV1386'\n",
       "\\item 'ASV143'\n",
       "\\item 'ASV146'\n",
       "\\item 'ASV14873'\n",
       "\\item 'ASV15608'\n",
       "\\item 'ASV1674'\n",
       "\\item 'ASV17'\n",
       "\\item 'ASV1847'\n",
       "\\item 'ASV1862'\n",
       "\\item 'ASV189'\n",
       "\\item 'ASV2181'\n",
       "\\item 'ASV2473'\n",
       "\\item 'ASV2725'\n",
       "\\item 'ASV2825'\n",
       "\\item 'ASV3052'\n",
       "\\item 'ASV335'\n",
       "\\item 'ASV341'\n",
       "\\item 'ASV342'\n",
       "\\item 'ASV3962'\n",
       "\\item 'ASV4012'\n",
       "\\item 'ASV4569'\n",
       "\\item 'ASV4735'\n",
       "\\item 'ASV5033'\n",
       "\\item 'ASV508'\n",
       "\\item 'ASV5104'\n",
       "\\item 'ASV518'\n",
       "\\item 'ASV528'\n",
       "\\item 'ASV5354'\n",
       "\\item 'ASV57'\n",
       "\\item 'ASV5832'\n",
       "\\item 'ASV6087'\n",
       "\\item 'ASV615'\n",
       "\\item 'ASV616'\n",
       "\\item 'ASV6450'\n",
       "\\item 'ASV692'\n",
       "\\item 'ASV7162'\n",
       "\\item 'ASV7758'\n",
       "\\item 'ASV7875'\n",
       "\\item 'ASV8292'\n",
       "\\item 'ASV8351'\n",
       "\\item 'ASV8460'\n",
       "\\item 'ASV8549'\n",
       "\\item 'ASV8926'\n",
       "\\item 'ASV915'\n",
       "\\item 'ASV928'\n",
       "\\item 'ASV943'\n",
       "\\item 'ASV9437'\n",
       "\\item 'ASV9567'\n",
       "\\item 'ASV987'\n",
       "\\end{enumerate*}\n"
      ],
      "text/markdown": [
       "1. 'ASV718'\n",
       "2. 'ASV18'\n",
       "3. 'ASV661'\n",
       "4. 'ASV383'\n",
       "5. 'ASV23'\n",
       "6. 'ASV195'\n",
       "7. 'ASV102'\n",
       "8. 'ASV509'\n",
       "9. 'ASV2435'\n",
       "10. 'ASV47'\n",
       "11. 'ASV71'\n",
       "12. 'ASV66'\n",
       "13. 'ASV403'\n",
       "14. 'ASV5863'\n",
       "15. 'ASV566'\n",
       "16. 'ASV77'\n",
       "17. 'ASV1173'\n",
       "18. 'ASV4570'\n",
       "19. 'ASV7267'\n",
       "20. 'ASV247'\n",
       "21. 'ASV174'\n",
       "22. 'ASV1768'\n",
       "23. 'ASV95'\n",
       "24. 'ASV61'\n",
       "25. 'ASV846'\n",
       "26. 'ASV30'\n",
       "27. 'ASV6'\n",
       "28. 'ASV9815'\n",
       "29. 'ASV1412'\n",
       "30. 'ASV1355'\n",
       "31. 'ASV1158'\n",
       "32. 'ASV148'\n",
       "33. 'ASV3437'\n",
       "34. 'ASV3731'\n",
       "35. 'ASV14'\n",
       "36. 'ASV10718'\n",
       "37. 'ASV8323'\n",
       "38. 'ASV1480'\n",
       "39. 'ASV4494'\n",
       "40. 'ASV754'\n",
       "41. 'ASV1636'\n",
       "42. 'ASV708'\n",
       "43. 'ASV10760'\n",
       "44. 'ASV378'\n",
       "45. 'ASV675'\n",
       "46. 'ASV14982'\n",
       "47. 'ASV1043'\n",
       "48. 'ASV1132'\n",
       "49. 'ASV11470'\n",
       "50. 'ASV118'\n",
       "51. 'ASV12274'\n",
       "52. 'ASV13032'\n",
       "53. 'ASV1386'\n",
       "54. 'ASV143'\n",
       "55. 'ASV146'\n",
       "56. 'ASV14873'\n",
       "57. 'ASV15608'\n",
       "58. 'ASV1674'\n",
       "59. 'ASV17'\n",
       "60. 'ASV1847'\n",
       "61. 'ASV1862'\n",
       "62. 'ASV189'\n",
       "63. 'ASV2181'\n",
       "64. 'ASV2473'\n",
       "65. 'ASV2725'\n",
       "66. 'ASV2825'\n",
       "67. 'ASV3052'\n",
       "68. 'ASV335'\n",
       "69. 'ASV341'\n",
       "70. 'ASV342'\n",
       "71. 'ASV3962'\n",
       "72. 'ASV4012'\n",
       "73. 'ASV4569'\n",
       "74. 'ASV4735'\n",
       "75. 'ASV5033'\n",
       "76. 'ASV508'\n",
       "77. 'ASV5104'\n",
       "78. 'ASV518'\n",
       "79. 'ASV528'\n",
       "80. 'ASV5354'\n",
       "81. 'ASV57'\n",
       "82. 'ASV5832'\n",
       "83. 'ASV6087'\n",
       "84. 'ASV615'\n",
       "85. 'ASV616'\n",
       "86. 'ASV6450'\n",
       "87. 'ASV692'\n",
       "88. 'ASV7162'\n",
       "89. 'ASV7758'\n",
       "90. 'ASV7875'\n",
       "91. 'ASV8292'\n",
       "92. 'ASV8351'\n",
       "93. 'ASV8460'\n",
       "94. 'ASV8549'\n",
       "95. 'ASV8926'\n",
       "96. 'ASV915'\n",
       "97. 'ASV928'\n",
       "98. 'ASV943'\n",
       "99. 'ASV9437'\n",
       "100. 'ASV9567'\n",
       "101. 'ASV987'\n",
       "\n",
       "\n"
      ],
      "text/plain": [
       "  [1] \"ASV718\"   \"ASV18\"    \"ASV661\"   \"ASV383\"   \"ASV23\"    \"ASV195\"  \n",
       "  [7] \"ASV102\"   \"ASV509\"   \"ASV2435\"  \"ASV47\"    \"ASV71\"    \"ASV66\"   \n",
       " [13] \"ASV403\"   \"ASV5863\"  \"ASV566\"   \"ASV77\"    \"ASV1173\"  \"ASV4570\" \n",
       " [19] \"ASV7267\"  \"ASV247\"   \"ASV174\"   \"ASV1768\"  \"ASV95\"    \"ASV61\"   \n",
       " [25] \"ASV846\"   \"ASV30\"    \"ASV6\"     \"ASV9815\"  \"ASV1412\"  \"ASV1355\" \n",
       " [31] \"ASV1158\"  \"ASV148\"   \"ASV3437\"  \"ASV3731\"  \"ASV14\"    \"ASV10718\"\n",
       " [37] \"ASV8323\"  \"ASV1480\"  \"ASV4494\"  \"ASV754\"   \"ASV1636\"  \"ASV708\"  \n",
       " [43] \"ASV10760\" \"ASV378\"   \"ASV675\"   \"ASV14982\" \"ASV1043\"  \"ASV1132\" \n",
       " [49] \"ASV11470\" \"ASV118\"   \"ASV12274\" \"ASV13032\" \"ASV1386\"  \"ASV143\"  \n",
       " [55] \"ASV146\"   \"ASV14873\" \"ASV15608\" \"ASV1674\"  \"ASV17\"    \"ASV1847\" \n",
       " [61] \"ASV1862\"  \"ASV189\"   \"ASV2181\"  \"ASV2473\"  \"ASV2725\"  \"ASV2825\" \n",
       " [67] \"ASV3052\"  \"ASV335\"   \"ASV341\"   \"ASV342\"   \"ASV3962\"  \"ASV4012\" \n",
       " [73] \"ASV4569\"  \"ASV4735\"  \"ASV5033\"  \"ASV508\"   \"ASV5104\"  \"ASV518\"  \n",
       " [79] \"ASV528\"   \"ASV5354\"  \"ASV57\"    \"ASV5832\"  \"ASV6087\"  \"ASV615\"  \n",
       " [85] \"ASV616\"   \"ASV6450\"  \"ASV692\"   \"ASV7162\"  \"ASV7758\"  \"ASV7875\" \n",
       " [91] \"ASV8292\"  \"ASV8351\"  \"ASV8460\"  \"ASV8549\"  \"ASV8926\"  \"ASV915\"  \n",
       " [97] \"ASV928\"   \"ASV943\"   \"ASV9437\"  \"ASV9567\"  \"ASV987\"  "
      ]
     },
     "metadata": {},
     "output_type": "display_data"
    }
   ],
   "source": [
    "# Organize ASVs by abundance in first sample from dryden soil\n",
    "\n",
    "ASVLevel = ps.m %>% \n",
    "    filter(Sample == \"HCHN1\") %>%\n",
    "    arrange(desc(Abundance)) %>%\n",
    "    .$OTU %>%\n",
    "    as.character()\n",
    "\n",
    "\n",
    "ASVLevel\n",
    "ps.m = ps.m %>% mutate(OTU = factor(OTU, levels = ASVLevel))"
   ]
  },
  {
   "cell_type": "code",
   "execution_count": 48,
   "metadata": {
    "scrolled": false
   },
   "outputs": [
    {
     "data": {},
     "metadata": {},
     "output_type": "display_data"
    },
    {
     "data": {
      "image/png": "[encoded data removed]",
      "text/plain": [
       "plot without title"
      ]
     },
     "metadata": {},
     "output_type": "display_data"
    }
   ],
   "source": [
    "ps.m %>%\n",
    "    ggplot(aes(x = OTU, y = Abundance)) +\n",
    "    geom_bar(stat = \"identity\")+\n",
    "    facet_grid(Soil*Sample~., switch = 'y', scales = 'free_y')+\n",
    "    theme_pub()+\n",
    "    theme(axis.text.x = element_text(angle = 60, hjust = 1))\n"
   ]
  },
  {
   "cell_type": "code",
   "execution_count": 65,
   "metadata": {},
   "outputs": [
    {
     "data": {
      "text/html": [
       "<ol class=list-inline>\n",
       "\t<li>1</li>\n",
       "\t<li>1</li>\n",
       "\t<li>1</li>\n",
       "\t<li>1</li>\n",
       "\t<li>1</li>\n",
       "\t<li>1</li>\n",
       "\t<li>1</li>\n",
       "\t<li>1</li>\n",
       "\t<li>1</li>\n",
       "\t<li>1</li>\n",
       "\t<li>10</li>\n",
       "\t<li>10</li>\n",
       "\t<li>10</li>\n",
       "\t<li>10</li>\n",
       "\t<li>10</li>\n",
       "\t<li>10</li>\n",
       "\t<li>10</li>\n",
       "\t<li>10</li>\n",
       "\t<li>10</li>\n",
       "\t<li>10</li>\n",
       "\t<li>20</li>\n",
       "\t<li>20</li>\n",
       "\t<li>20</li>\n",
       "\t<li>20</li>\n",
       "\t<li>20</li>\n",
       "\t<li>20</li>\n",
       "\t<li>20</li>\n",
       "\t<li>20</li>\n",
       "\t<li>20</li>\n",
       "\t<li>20</li>\n",
       "\t<li>30</li>\n",
       "\t<li>30</li>\n",
       "\t<li>30</li>\n",
       "\t<li>30</li>\n",
       "\t<li>30</li>\n",
       "\t<li>30</li>\n",
       "\t<li>30</li>\n",
       "\t<li>30</li>\n",
       "\t<li>30</li>\n",
       "\t<li>30</li>\n",
       "\t<li>40</li>\n",
       "\t<li>40</li>\n",
       "\t<li>40</li>\n",
       "\t<li>40</li>\n",
       "\t<li>40</li>\n",
       "\t<li>40</li>\n",
       "\t<li>40</li>\n",
       "\t<li>40</li>\n",
       "\t<li>40</li>\n",
       "\t<li>40</li>\n",
       "\t<li>50</li>\n",
       "\t<li>50</li>\n",
       "\t<li>50</li>\n",
       "\t<li>50</li>\n",
       "\t<li>50</li>\n",
       "\t<li>50</li>\n",
       "\t<li>50</li>\n",
       "\t<li>50</li>\n",
       "\t<li>50</li>\n",
       "\t<li>50</li>\n",
       "\t<li>60</li>\n",
       "\t<li>60</li>\n",
       "\t<li>60</li>\n",
       "\t<li>60</li>\n",
       "\t<li>60</li>\n",
       "\t<li>60</li>\n",
       "\t<li>60</li>\n",
       "\t<li>60</li>\n",
       "\t<li>60</li>\n",
       "\t<li>60</li>\n",
       "\t<li>70</li>\n",
       "\t<li>70</li>\n",
       "\t<li>70</li>\n",
       "\t<li>70</li>\n",
       "\t<li>70</li>\n",
       "\t<li>70</li>\n",
       "\t<li>70</li>\n",
       "\t<li>70</li>\n",
       "\t<li>70</li>\n",
       "\t<li>70</li>\n",
       "\t<li>80</li>\n",
       "\t<li>80</li>\n",
       "\t<li>80</li>\n",
       "\t<li>80</li>\n",
       "\t<li>80</li>\n",
       "\t<li>80</li>\n",
       "\t<li>80</li>\n",
       "\t<li>80</li>\n",
       "\t<li>80</li>\n",
       "\t<li>80</li>\n",
       "\t<li>90</li>\n",
       "\t<li>90</li>\n",
       "\t<li>90</li>\n",
       "\t<li>90</li>\n",
       "\t<li>90</li>\n",
       "\t<li>90</li>\n",
       "\t<li>90</li>\n",
       "\t<li>90</li>\n",
       "\t<li>90</li>\n",
       "\t<li>90</li>\n",
       "\t<li>100</li>\n",
       "\t<li>100</li>\n",
       "\t<li>100</li>\n",
       "\t<li>100</li>\n",
       "\t<li>100</li>\n",
       "\t<li>100</li>\n",
       "\t<li>100</li>\n",
       "\t<li>100</li>\n",
       "\t<li>100</li>\n",
       "\t<li>100</li>\n",
       "</ol>\n"
      ],
      "text/latex": [
       "\\begin{enumerate*}\n",
       "\\item 1\n",
       "\\item 1\n",
       "\\item 1\n",
       "\\item 1\n",
       "\\item 1\n",
       "\\item 1\n",
       "\\item 1\n",
       "\\item 1\n",
       "\\item 1\n",
       "\\item 1\n",
       "\\item 10\n",
       "\\item 10\n",
       "\\item 10\n",
       "\\item 10\n",
       "\\item 10\n",
       "\\item 10\n",
       "\\item 10\n",
       "\\item 10\n",
       "\\item 10\n",
       "\\item 10\n",
       "\\item 20\n",
       "\\item 20\n",
       "\\item 20\n",
       "\\item 20\n",
       "\\item 20\n",
       "\\item 20\n",
       "\\item 20\n",
       "\\item 20\n",
       "\\item 20\n",
       "\\item 20\n",
       "\\item 30\n",
       "\\item 30\n",
       "\\item 30\n",
       "\\item 30\n",
       "\\item 30\n",
       "\\item 30\n",
       "\\item 30\n",
       "\\item 30\n",
       "\\item 30\n",
       "\\item 30\n",
       "\\item 40\n",
       "\\item 40\n",
       "\\item 40\n",
       "\\item 40\n",
       "\\item 40\n",
       "\\item 40\n",
       "\\item 40\n",
       "\\item 40\n",
       "\\item 40\n",
       "\\item 40\n",
       "\\item 50\n",
       "\\item 50\n",
       "\\item 50\n",
       "\\item 50\n",
       "\\item 50\n",
       "\\item 50\n",
       "\\item 50\n",
       "\\item 50\n",
       "\\item 50\n",
       "\\item 50\n",
       "\\item 60\n",
       "\\item 60\n",
       "\\item 60\n",
       "\\item 60\n",
       "\\item 60\n",
       "\\item 60\n",
       "\\item 60\n",
       "\\item 60\n",
       "\\item 60\n",
       "\\item 60\n",
       "\\item 70\n",
       "\\item 70\n",
       "\\item 70\n",
       "\\item 70\n",
       "\\item 70\n",
       "\\item 70\n",
       "\\item 70\n",
       "\\item 70\n",
       "\\item 70\n",
       "\\item 70\n",
       "\\item 80\n",
       "\\item 80\n",
       "\\item 80\n",
       "\\item 80\n",
       "\\item 80\n",
       "\\item 80\n",
       "\\item 80\n",
       "\\item 80\n",
       "\\item 80\n",
       "\\item 80\n",
       "\\item 90\n",
       "\\item 90\n",
       "\\item 90\n",
       "\\item 90\n",
       "\\item 90\n",
       "\\item 90\n",
       "\\item 90\n",
       "\\item 90\n",
       "\\item 90\n",
       "\\item 90\n",
       "\\item 100\n",
       "\\item 100\n",
       "\\item 100\n",
       "\\item 100\n",
       "\\item 100\n",
       "\\item 100\n",
       "\\item 100\n",
       "\\item 100\n",
       "\\item 100\n",
       "\\item 100\n",
       "\\end{enumerate*}\n"
      ],
      "text/markdown": [
       "1. 1\n",
       "2. 1\n",
       "3. 1\n",
       "4. 1\n",
       "5. 1\n",
       "6. 1\n",
       "7. 1\n",
       "8. 1\n",
       "9. 1\n",
       "10. 1\n",
       "11. 10\n",
       "12. 10\n",
       "13. 10\n",
       "14. 10\n",
       "15. 10\n",
       "16. 10\n",
       "17. 10\n",
       "18. 10\n",
       "19. 10\n",
       "20. 10\n",
       "21. 20\n",
       "22. 20\n",
       "23. 20\n",
       "24. 20\n",
       "25. 20\n",
       "26. 20\n",
       "27. 20\n",
       "28. 20\n",
       "29. 20\n",
       "30. 20\n",
       "31. 30\n",
       "32. 30\n",
       "33. 30\n",
       "34. 30\n",
       "35. 30\n",
       "36. 30\n",
       "37. 30\n",
       "38. 30\n",
       "39. 30\n",
       "40. 30\n",
       "41. 40\n",
       "42. 40\n",
       "43. 40\n",
       "44. 40\n",
       "45. 40\n",
       "46. 40\n",
       "47. 40\n",
       "48. 40\n",
       "49. 40\n",
       "50. 40\n",
       "51. 50\n",
       "52. 50\n",
       "53. 50\n",
       "54. 50\n",
       "55. 50\n",
       "56. 50\n",
       "57. 50\n",
       "58. 50\n",
       "59. 50\n",
       "60. 50\n",
       "61. 60\n",
       "62. 60\n",
       "63. 60\n",
       "64. 60\n",
       "65. 60\n",
       "66. 60\n",
       "67. 60\n",
       "68. 60\n",
       "69. 60\n",
       "70. 60\n",
       "71. 70\n",
       "72. 70\n",
       "73. 70\n",
       "74. 70\n",
       "75. 70\n",
       "76. 70\n",
       "77. 70\n",
       "78. 70\n",
       "79. 70\n",
       "80. 70\n",
       "81. 80\n",
       "82. 80\n",
       "83. 80\n",
       "84. 80\n",
       "85. 80\n",
       "86. 80\n",
       "87. 80\n",
       "88. 80\n",
       "89. 80\n",
       "90. 80\n",
       "91. 90\n",
       "92. 90\n",
       "93. 90\n",
       "94. 90\n",
       "95. 90\n",
       "96. 90\n",
       "97. 90\n",
       "98. 90\n",
       "99. 90\n",
       "100. 90\n",
       "101. 100\n",
       "102. 100\n",
       "103. 100\n",
       "104. 100\n",
       "105. 100\n",
       "106. 100\n",
       "107. 100\n",
       "108. 100\n",
       "109. 100\n",
       "110. 100\n",
       "\n",
       "\n"
      ],
      "text/plain": [
       "  [1]   1   1   1   1   1   1   1   1   1   1  10  10  10  10  10  10  10  10\n",
       " [19]  10  10  20  20  20  20  20  20  20  20  20  20  30  30  30  30  30  30\n",
       " [37]  30  30  30  30  40  40  40  40  40  40  40  40  40  40  50  50  50  50\n",
       " [55]  50  50  50  50  50  50  60  60  60  60  60  60  60  60  60  60  70  70\n",
       " [73]  70  70  70  70  70  70  70  70  80  80  80  80  80  80  80  80  80  80\n",
       " [91]  90  90  90  90  90  90  90  90  90  90 100 100 100 100 100 100 100 100\n",
       "[109] 100 100"
      ]
     },
     "metadata": {},
     "output_type": "display_data"
    }
   ],
   "source": [
    "rep(c(1,1:10*10), each = 10)"
   ]
  },
  {
   "cell_type": "markdown",
   "metadata": {},
   "source": [
    "# Create similar graph but use most abundant taxa rather than HASVs"
   ]
  },
  {
   "cell_type": "markdown",
   "metadata": {},
   "source": [
    "* get top Taxa from hyphal samples in live soil"
   ]
  },
  {
   "cell_type": "code",
   "execution_count": 54,
   "metadata": {},
   "outputs": [],
   "source": [
    "topTax = ps.snorm %>%\n",
    "    subset_samples(Experiment == 1 & SampleType == \"CH\" & Soil != \"Sand\") %>%\n",
    "    taxa_sums() %>%\n",
    "   sort(decreasing = TRUE)%>%\n",
    "    .[1:100] %>%\n",
    "    names %>%\n",
    "    as.character()"
   ]
  },
  {
   "cell_type": "code",
   "execution_count": 56,
   "metadata": {},
   "outputs": [
    {
     "data": {
      "text/plain": [
       "phyloseq-class experiment-level object\n",
       "otu_table()   OTU Table:         [ 100 taxa and 12 samples ]\n",
       "sample_data() Sample Data:       [ 12 samples by 11 sample variables ]\n",
       "tax_table()   Taxonomy Table:    [ 100 taxa by 6 taxonomic ranks ]\n",
       "phy_tree()    Phylogenetic Tree: [ 100 tips and 99 internal nodes ]"
      ]
     },
     "metadata": {},
     "output_type": "display_data"
    },
    {
     "name": "stderr",
     "output_type": "stream",
     "text": [
      "Warning message in psmelt(ps.s):\n",
      "“The sample variables: \n",
      "Sample\n",
      " have been renamed to: \n",
      "sample_Sample\n",
      "to avoid conflicts with special phyloseq plot attribute names.”"
     ]
    }
   ],
   "source": [
    "ps.s = ps.snorm %>% \n",
    "    prune_taxa(topTax, .) %>%\n",
    "    subset_samples(Experiment == 1 & SampleType == \"CH\")\n",
    "ps.s\n",
    "\n",
    "ps.m = psmelt(ps.s)\n",
    "\n",
    "ps.m = ps.m %>% mutate(OTU = factor(OTU, levels = topTax))"
   ]
  },
  {
   "cell_type": "code",
   "execution_count": 74,
   "metadata": {},
   "outputs": [],
   "source": [
    "Ccs = c('#1B9E77', #Actinobacteria\n",
    "        '#6E8243', #Alphaproteo\n",
    "        '#C16610',#Anaerolineae\n",
    "        '#8D6B86',#Bacteroidia\n",
    "         '#B96439',    #Chloroflexa\n",
    "        '#BC4399', #Deltaproteo\n",
    "        '#DE3083',#Fibrobacteria\n",
    "        '#A66753', #Gammaproteo\n",
    "        '#6E9E24', #Gemmatimonadetes\n",
    "        '#96A713',#Kd4-96\n",
    "         '#8A62AB',           #Mollicutes\n",
    "        '#CEAA07',#NC10\n",
    "        '#D59D08', #Nitrospira\n",
    "         '#B98614',  #Planctomycetacia\n",
    "        '#666666',   #Subgroup_17\n",
    "        '#9D7426',#Subgroup_6\n",
    "        '#826D46', #Thermoleoph\n",
    "        '#888888') #NA\n",
    "\n",
    " # '#B96439',#Bacilli\n",
    "#'#8A62AB',#Blastocatellia (subgroup_4)\n",
    "#'#B98614',#Oxyphotobater\n",
    "        #'#666666')#Verrucom\n",
    "\n",
    "Pcs = c('#1B9E77', #Acidobacteria\n",
    "'#897932', #Actinobacteria\n",
    "'#C8611F' , #Bacteroides\n",
    "'#8D6B86', #Chloroflexi\n",
    "'#CF3F76', #Fibrobacteres\n",
    "'#A66753', #Fimicutes\n",
    "'#70A61B', #Gemmatimonadetes\n",
    "'#BBA90B', #Nitrospirae\n",
    "'#D59D08', #Planctomycetes\n",
    "'#B07E18', #Proteobacteria\n",
    "'#8B6F3B', #Rokubacteria\n",
    "'#666666') #Tenericutes\n",
    "\n",
    "#getPalette = colorRampPalette(brewer.pal(8, \"Dark2\"))\n",
    "#getPalette(13)"
   ]
  },
  {
   "cell_type": "code",
   "execution_count": 79,
   "metadata": {
    "scrolled": true
   },
   "outputs": [
    {
     "data": {},
     "metadata": {},
     "output_type": "display_data"
    },
    {
     "data": {
      "image/png": "[encoded data removed]",
      "text/plain": [
       "plot without title"
      ]
     },
     "metadata": {},
     "output_type": "display_data"
    }
   ],
   "source": [
    "p2 = ps.m %>%\n",
    "    ggplot(aes(x = OTU, y = Abundance, fill = Phylum)) +\n",
    "    geom_bar(stat = \"identity\", color = \"black\")+\n",
    "    facet_grid(Soil*Sample~., switch = 'y', scales = 'free_y')+\n",
    "    theme_pub()+\n",
    "    theme(axis.text.x = element_text(angle = 60, hjust = 1))+\n",
    "    scale_fill_manual(values = Pcs)\n",
    "p2"
   ]
  },
  {
   "cell_type": "code",
   "execution_count": 81,
   "metadata": {},
   "outputs": [
    {
     "data": {
      "text/html": [
       "'~/Hyphosphere/data/3Exp/figures/final'"
      ],
      "text/latex": [
       "'\\textasciitilde{}/Hyphosphere/data/3Exp/figures/final'"
      ],
      "text/markdown": [
       "'~/Hyphosphere/data/3Exp/figures/final'"
      ],
      "text/plain": [
       "[1] \"~/Hyphosphere/data/3Exp/figures/final\""
      ]
     },
     "metadata": {},
     "output_type": "display_data"
    }
   ],
   "source": [
    "figDir"
   ]
  },
  {
   "cell_type": "code",
   "execution_count": 80,
   "metadata": {
    "scrolled": true
   },
   "outputs": [
    {
     "data": {},
     "metadata": {},
     "output_type": "display_data"
    },
    {
     "data": {
      "text/html": [
       "<strong>png:</strong> 2"
      ],
      "text/latex": [
       "\\textbf{png:} 2"
      ],
      "text/markdown": [
       "**png:** 2"
      ],
      "text/plain": [
       "png \n",
       "  2 "
      ]
     },
     "metadata": {},
     "output_type": "display_data"
    }
   ],
   "source": [
    "pdf(file.path(figDir,\"Exp1-topTaxa-wSand.pdf\"), useDingbats = FALSE, width = 6.5, height = 6)\n",
    "p2\n",
    "dev.off()"
   ]
  }
 ],
 "metadata": {
  "kernelspec": {
   "display_name": "R",
   "language": "R",
   "name": "ir"
  },
  "language_info": {
   "codemirror_mode": "r",
   "file_extension": ".r",
   "mimetype": "text/x-r-source",
   "name": "R",
   "pygments_lexer": "r",
   "version": "3.6.0"
  }
 },
 "nbformat": 4,
 "nbformat_minor": 2
}
