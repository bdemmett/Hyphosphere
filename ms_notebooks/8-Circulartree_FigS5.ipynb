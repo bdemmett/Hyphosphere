{
 "cells": [
  {
   "cell_type": "markdown",
   "metadata": {},
   "source": [
    "# Generate circular tree for Fig. S5"
   ]
  },
  {
   "cell_type": "markdown",
   "metadata": {},
   "source": [
    "* Uses previous DESeq2 analysis and phylogenetic tree to plot differential abundance\n"
   ]
  },
  {
   "cell_type": "code",
   "execution_count": null,
   "metadata": {},
   "outputs": [],
   "source": [
    "out_Dir = '~/Hyphosphere/data/3Exp/figures'\n",
    "\n",
    "work_dir = '~/Hyphosphere/data/3Exp/DESeq'\n",
    "\n",
    "# phyloseq - full object with tree\n",
    "physeq_file = '~/Hyphosphere/data/3Exp/phyloseq/3Exp_phyloseq_thresh_wtree_experimental_woContam.rds'"
   ]
  },
  {
   "cell_type": "code",
   "execution_count": null,
   "metadata": {},
   "outputs": [],
   "source": [
    "library(RColorBrewer)\n",
    "library(plyr)\n",
    "library(tidyr)\n",
    "library(dplyr)\n",
    "library(reshape2)\n",
    "library(phyloseq)\n",
    "library(ggplot2)\n",
    "library(ggtree)\n",
    "library(gridExtra)"
   ]
  },
  {
   "cell_type": "code",
   "execution_count": null,
   "metadata": {},
   "outputs": [],
   "source": [
    "g_legend <- function(a.gplot){\n",
    "  tmp <- ggplot_gtable(ggplot_build(a.gplot))\n",
    "  leg <- which(sapply(tmp$grobs, function(x) x$name) == \"guide-box\")\n",
    "  legend <- tmp$grobs[[leg]]\n",
    "  return(legend)\n",
    "}\n",
    "\n"
   ]
  },
  {
   "cell_type": "code",
   "execution_count": null,
   "metadata": {},
   "outputs": [],
   "source": [
    "ps = readRDS(physeq_file) %>% subset_taxa(., !is.na(Phylum)) %>%\n",
    "    # remove non-experimental controls\n",
    "    \n",
    "    subset_samples(., SampleType != \"GV\" & Experiment %in% c(1,2) & Fungus == \"Gv\" & SampleType %in% c(\"CS\",\"CH\") & Soil != \"Sand\") %>%\n",
    "\n",
    "     # re-normalize after subsetting taxa\n",
    "    transform_sample_counts(., function(x) x/sum(x))\n",
    "\n",
    "ps\n"
   ]
  },
  {
   "cell_type": "code",
   "execution_count": null,
   "metadata": {},
   "outputs": [],
   "source": [
    "ps.m = ps %>%\n",
    "    psmelt() %>%\n",
    "    group_by(OTU, Soil, Experiment) %>%\n",
    "    summarise(mAbund = mean(Abundance)) %>%\n",
    "    ungroup() %>% \n",
    "    group_by(OTU) %>%\n",
    "    summarise(smAbund = sum(mAbund)) \n",
    "head(ps.m)"
   ]
  },
  {
   "cell_type": "markdown",
   "metadata": {},
   "source": [
    "### Top 200 most abundant taxa"
   ]
  },
  {
   "cell_type": "code",
   "execution_count": null,
   "metadata": {},
   "outputs": [],
   "source": [
    "topTax = ps.m %>% \n",
    "    arrange(desc(smAbund)) %>%\n",
    "    .[1:200,] %>%\n",
    "    .$OTU %>%\n",
    "    as.character()\n",
    "\n",
    "topTax\n",
    "            "
   ]
  },
  {
   "cell_type": "code",
   "execution_count": null,
   "metadata": {},
   "outputs": [],
   "source": [
    "rm(ps.m)"
   ]
  },
  {
   "cell_type": "code",
   "execution_count": null,
   "metadata": {},
   "outputs": [],
   "source": [
    "# Filter to the top OTUs identified above\n",
    "\n",
    "physeq.thresh <- prune_taxa(topTax, ps)\n",
    "\n",
    "physeq.thresh\n"
   ]
  },
  {
   "cell_type": "code",
   "execution_count": null,
   "metadata": {},
   "outputs": [],
   "source": [
    "\n",
    "MyTree =  physeq.thresh %>% phy_tree\n"
   ]
  },
  {
   "cell_type": "code",
   "execution_count": null,
   "metadata": {},
   "outputs": [],
   "source": [
    "TreeTax = taxa_names(physeq.thresh)"
   ]
  },
  {
   "cell_type": "code",
   "execution_count": null,
   "metadata": {},
   "outputs": [],
   "source": [
    "df.tax = physeq.thresh %>% tax_table %>% as.data.frame\n",
    "df.tax$OTU = df.tax %>% row.names\n",
    "\n",
    "df.tax = mutate(df.tax, TaxLabel = paste(Family, Genus, sep = \"_\")) %>%\n",
    "    select(OTU, TaxLabel, Phylum, Class, Order, Family, Genus)\n",
    "\n",
    "\n"
   ]
  },
  {
   "cell_type": "markdown",
   "metadata": {},
   "source": [
    "## Relative Abundance data"
   ]
  },
  {
   "cell_type": "code",
   "execution_count": null,
   "metadata": {
    "scrolled": true
   },
   "outputs": [],
   "source": [
    "mdf = psmelt(physeq.thresh)\n",
    "mdf.byOTU = ddply(mdf, .(Soil, OTU, Experiment), summarize, mean_Abundance = mean(Abundance)) \n",
    "head(mdf.byOTU)"
   ]
  },
  {
   "cell_type": "markdown",
   "metadata": {},
   "source": [
    "### log2FoldChange data"
   ]
  },
  {
   "cell_type": "code",
   "execution_count": null,
   "metadata": {},
   "outputs": [],
   "source": [
    "readfile = file.path(work_dir, 'dfl2fc-Exp1.txt')\n",
    "df.l2fc.Exp1 = read.table(readfile, header = TRUE, sep= '\\t')\n",
    "\n",
    "readfile = file.path(work_dir, 'dfl2fc-Exp2.txt')\n",
    "df.l2fc.Exp2 = read.table(readfile, header = TRUE, sep= '\\t')\n",
    "\n",
    "df.l2fc = bind_rows(df.l2fc.Exp1, df.l2fc.Exp2)\n",
    "df.l2fc = df.l2fc %>% separate(Subset, c(\"Soil\",\"Fungus\")) %>% filter(Contrast %in% c(\"CH_CS\", \"CH_BS\", \"CH_BP\", \"RH_RS\") & Fungus == \"Gv\")\n"
   ]
  },
  {
   "cell_type": "code",
   "execution_count": null,
   "metadata": {},
   "outputs": [],
   "source": [
    "head(df.l2fc)"
   ]
  },
  {
   "cell_type": "markdown",
   "metadata": {},
   "source": [
    "## Get color scheme for tree"
   ]
  },
  {
   "cell_type": "code",
   "execution_count": null,
   "metadata": {},
   "outputs": [],
   "source": [
    "tmp = left_join(df.l2fc, mdf.byOTU) %>%\n",
    "    select(OTU, Soil, Experiment, padj, Contrast, mean_Abundance, log2FoldChange, Phylum, Order, Class, Family, Genus) %>%\n",
    "    filter(OTU %in% TreeTax)\n",
    "\n",
    "\n",
    "tmp$Phylum = factor(tmp$Phylum)\n",
    "tmp$Order = factor(tmp$Order)\n",
    "tmp$Class = factor(tmp$Class)\n",
    "\n",
    "#Link phylum colors \n",
    "FigPhyla = tmp$Phylum %>% levels() %>% as.character()\n",
    "FigClass = tmp$Class %>% levels() %>% as.character()\n",
    "FigOrder = tmp$Order %>% levels() %>% as.character()\n",
    "FigOrder\n",
    "\n",
    "ColorCount = length(FigOrder)\n",
    "getPalette = colorRampPalette(brewer.pal(8, \"Dark2\"))\n",
    "Ocs = getPalette(ColorCount)\n",
    "Ocs\n",
    "\n",
    "\n",
    "ColorCount = length(FigPhyla)\n",
    "getPalette = colorRampPalette(brewer.pal(8, \"Dark2\"))\n",
    "Pcs = getPalette(ColorCount)\n",
    "Pcs\n",
    "\n",
    "ColorCount = length(FigClass)\n",
    "getPalette = colorRampPalette(brewer.pal(8, \"Dark2\"))\n",
    "Ccs = getPalette(ColorCount)\n",
    "Ccs\n",
    "\n",
    "\n",
    "# Pcs = brewer.pal(12,\"Set3\")\n",
    "\n",
    "#Set lookup to \n",
    "Olookup = cbind(FigOrder, Ocs) %>% as.data.frame()\n",
    "Plookup = cbind(FigPhyla, Pcs) %>% as.data.frame()\n",
    "Clookup = cbind(FigClass, Ccs) %>% as.data.frame()\n",
    "\n",
    "tmp = left_join(tmp, Plookup, by = c(\"Phylum\" = \"FigPhyla\"))\n",
    "tmp = left_join(tmp, Olookup, by = c(\"Order\" = \"FigOrder\")) \n",
    "tmp = left_join(tmp, Clookup, by = c(\"Class\" = \"FigClass\")) \n",
    "\n",
    "\n",
    "\n",
    "tmp %>% head()"
   ]
  },
  {
   "cell_type": "markdown",
   "metadata": {},
   "source": [
    "# Test basic ggtree"
   ]
  },
  {
   "cell_type": "markdown",
   "metadata": {},
   "source": [
    "## add genus labels"
   ]
  },
  {
   "cell_type": "code",
   "execution_count": null,
   "metadata": {},
   "outputs": [],
   "source": [
    "df.tax = df.tax %>%\n",
    "    mutate(GenusLabel = ifelse(!is.na(Genus), paste(Genus), \n",
    "                        ifelse(!is.na(Family), paste('Uncl. ', Family, sep = \"\"), \n",
    "                        ifelse(!is.na(Order), paste('Uncl. ', Order, sep = \"\"),\n",
    "                        ifelse(!is.na(Class), paste('Uncl. ', Class, sep = \"\"), paste(\"Uncl. \", Phylum, sep = \"\")))))) %>%\n",
    "    mutate(GenusLabel = ifelse(GenusLabel == 'Allorhizobium-Neorhizobium-Pararhizobium-Rhizobium', 'Allo-Neo-Para-Rhizobium', GenusLabel))\n",
    "head(df.tax)"
   ]
  },
  {
   "cell_type": "markdown",
   "metadata": {},
   "source": [
    "# Try circular tree"
   ]
  },
  {
   "cell_type": "code",
   "execution_count": null,
   "metadata": {},
   "outputs": [],
   "source": [
    "mdf.byOTU %>% filter(OTU == 'ASV5')"
   ]
  },
  {
   "cell_type": "markdown",
   "metadata": {},
   "source": [
    "### Simple two color heat map"
   ]
  },
  {
   "cell_type": "code",
   "execution_count": null,
   "metadata": {},
   "outputs": [],
   "source": [
    "head(df.tax)"
   ]
  },
  {
   "cell_type": "markdown",
   "metadata": {},
   "source": [
    "### For multicolor heatmap"
   ]
  },
  {
   "cell_type": "code",
   "execution_count": null,
   "metadata": {},
   "outputs": [],
   "source": [
    "df.circ = df.l2fc %>%\n",
    "    filter(Fungus == \"Gv\") %>%\n",
    "    mutate(sig = ifelse(padj >= 0.05 | is.na(padj), \"ns\", \n",
    "                 ifelse(log2FoldChange <= 0, \"ns\", \"sig\")), \n",
    "           variable = paste(Soil,Experiment, sep = '')) %>%\n",
    "\n",
    "    mutate(sig = ifelse(Contrast == \"CH_CS\" & sig == \"sig\", 1,\n",
    "                       ifelse(Contrast == \"CH_BS\" & sig == \"sig\", 2,\n",
    "                           ifelse(Contrast == \"CH_BP\" & sig == \"sig\", 3,  \n",
    "                                 ifelse(Contrast == \"RH_RS\" & sig == \"sig\", 4,\n",
    "                                       \"ns\"))))) %>%\n",
    "    select(OTU, variable, Contrast, sig) %>%\n",
    "    dcast(OTU ~ variable + Contrast) \n",
    "head(df.circ)\n",
    "df.circ = df.circ %>%\n",
    "    mutate(Blank1 = \"blank\", \n",
    "          Blank2 = \"blank\")\n",
    "\n",
    "rownames(df.circ) = df.circ$OTU\n",
    "df.circ = df.circ %>% select(-OTU)\n",
    "#head(df.circ)\n",
    "head(df.circ)"
   ]
  },
  {
   "cell_type": "code",
   "execution_count": null,
   "metadata": {},
   "outputs": [],
   "source": [
    "testcirc = df.circ %>% select(\"Dryden2_CH_CS\",\"Dryden2_CH_BS\", \"Dryden2_CH_BP\",\"Dryden2_RH_RS\",\"Blank1\", \n",
    "                              \"Florence2_CH_CS\",\"Florence2_CH_BS\", \"Florence2_CH_BP\",\"Florence2_RH_RS\", \"Blank2\",\n",
    "                             \"Pendelton2_CH_CS\",\"Pendelton2_CH_BS\", \"Pendelton2_CH_BP\",\"Pendelton2_RH_RS\")\n",
    "head(testcirc)"
   ]
  },
  {
   "cell_type": "code",
   "execution_count": null,
   "metadata": {},
   "outputs": [],
   "source": [
    "testcirc %>% filter(Dryden2_RH_RS == 4)"
   ]
  },
  {
   "cell_type": "code",
   "execution_count": null,
   "metadata": {},
   "outputs": [],
   "source": [
    "ColorCount = df.tax$Phylum %>% unique() %>% length()\n",
    "getPalette = colorRampPalette(brewer.pal(8, \"Dark2\"))\n",
    "Pcs = getPalette(ColorCount)\n",
    "\n",
    "cs = (brewer.pal(4, 'PuOr'))"
   ]
  },
  {
   "cell_type": "code",
   "execution_count": null,
   "metadata": {},
   "outputs": [],
   "source": [
    "p  = ggtree(MyTree, layout = \"circular\", branch.length = \"none\") %<+% df.tax\n",
    "#p = ggtree(MyTree)%<+% df.tax\n",
    "p = p +  \n",
    "geom_tippoint(aes(color=Phylum), size=1) +\n",
    "geom_tiplab(aes(label = GenusLabel),hjust = -.1, align = TRUE, size = 1)+\n",
    "\n",
    "    scale_color_manual(values = Pcs, guide = guide_legend(ncol = 3))\n",
    "\n",
    "p = gheatmap(p, testcirc, offset=10, width=0.4, colnames_position = NULL, \n",
    "         colnames_angle=90, hjust=0, colnames_offset_y = .25, font.size = 2) +\n",
    "       scale_fill_manual(breaks=c( \"1\", \"2\",\"3\",\"4\", \"blank\", \"ns\" ),values=c(cs[1],cs[2],cs[3],cs[4], \"White\", \"Light Grey\")) +\n",
    "    theme(legend.position = 'bottom')\n",
    "\n",
    "#            # scale_fill_viridis_d(option=\"D\", name='discrete\\nvalue')\n",
    "#             # scale_color_manual(breaks=c(\"ns\", \"sig\"), values=c(\"White\", \"Red\"), name=\"HASV\")\n",
    "\n",
    "\n",
    "# #p2 <- p1 + new_scale_fill()\n",
    "p\n",
    "\n",
    "outfile = file.path(out_Dir, 'CircularTree_controls.pdf')\n",
    "pdf(outfile, width = 7.036, height = 9, useDingbats = FALSE)\n",
    "p\n",
    "dev.off()"
   ]
  }
 ],
 "metadata": {
  "kernelspec": {
   "display_name": "R",
   "language": "R",
   "name": "ir"
  },
  "language_info": {
   "codemirror_mode": "r",
   "file_extension": ".r",
   "mimetype": "text/x-r-source",
   "name": "R",
   "pygments_lexer": "r",
   "version": "3.6.0"
  }
 },
 "nbformat": 4,
 "nbformat_minor": 2
}
