{
 "cells": [
  {
   "cell_type": "code",
   "execution_count": 1,
   "metadata": {},
   "outputs": [],
   "source": [
    "figDir = '~/Hyphosphere/data/3Exp/figures/final'\n",
    "\n",
    "#work_dir = '~/Hyphosphere/data/3Exp/Composition'\n",
    "\n",
    "# phyloseq - full object with tree (does not include archaea)\n",
    "physeq_file = '~/Hyphosphere/data/3Exp/phyloseq/final/3Exp_phyloseq_thresh_wtree_experimental_woContam.rds'"
   ]
  },
  {
   "cell_type": "code",
   "execution_count": 2,
   "metadata": {},
   "outputs": [
    {
     "name": "stderr",
     "output_type": "stream",
     "text": [
      "Warning message:\n",
      "“package ‘RColorBrewer’ was built under R version 3.6.1”Warning message:\n",
      "“package ‘vegan’ was built under R version 3.6.1”Loading required package: permute\n",
      "Warning message:\n",
      "“package ‘permute’ was built under R version 3.6.1”Loading required package: lattice\n",
      "Warning message:\n",
      "“package ‘lattice’ was built under R version 3.6.1”This is vegan 2.5-5\n",
      "Loading required package: ggplot2\n",
      "Warning message:\n",
      "“package ‘ggplot2’ was built under R version 3.6.1”\n",
      "Attaching package: ‘dplyr’\n",
      "\n",
      "The following objects are masked from ‘package:stats’:\n",
      "\n",
      "    filter, lag\n",
      "\n",
      "The following objects are masked from ‘package:base’:\n",
      "\n",
      "    intersect, setdiff, setequal, union\n",
      "\n",
      "Warning message:\n",
      "“package ‘reshape2’ was built under R version 3.6.1”\n",
      "Attaching package: ‘reshape2’\n",
      "\n",
      "The following object is masked from ‘package:tidyr’:\n",
      "\n",
      "    smiths\n",
      "\n",
      "Warning message:\n",
      "“package ‘phyloseq’ was built under R version 3.6.1”\n",
      "Attaching package: ‘gridExtra’\n",
      "\n",
      "The following object is masked from ‘package:dplyr’:\n",
      "\n",
      "    combine\n",
      "\n",
      "Warning message:\n",
      "“package ‘foreach’ was built under R version 3.6.1”Loading required package: iterators\n",
      "Warning message:\n",
      "“package ‘iterators’ was built under R version 3.6.1”Loading required package: parallel\n"
     ]
    }
   ],
   "source": [
    "library(RColorBrewer)\n",
    "library(vegan)\n",
    "library(ggpubr)\n",
    "library(tidyr)\n",
    "library(dplyr)\n",
    "library(reshape2)\n",
    "library(phyloseq)\n",
    "library(gridExtra)\n",
    "library(ggplot2)\n",
    "library(foreach)\n",
    "library(doParallel)\n"
   ]
  },
  {
   "cell_type": "code",
   "execution_count": 3,
   "metadata": {},
   "outputs": [],
   "source": [
    "theme_pub = function (base_size = 8, base_family = \"Helvetica\") \n",
    "{\n",
    "    theme_grey(base_size = base_size, base_family = base_family) %+replace% \n",
    "        theme(\n",
    "            axis.line.x = element_line(size = .5),\n",
    "            axis.line.y = element_line(size = .5),\n",
    "            axis.text = element_text(size = base_size),\n",
    "            panel.background = element_rect(fill = \"white\", colour = NA), \n",
    "            panel.border = element_rect(fill = NA, color = \"black\", size = .5), \n",
    "            panel.grid.major = element_blank(), \n",
    "            panel.grid.minor = element_blank(), \n",
    "            strip.background = element_rect(fill = \"grey85\", \n",
    "                colour = \"grey20\"), \n",
    "            legend.key = element_rect(fill = \"white\", \n",
    "                colour = NA), complete = TRUE,\n",
    "            legend.text = element_text(size = base_size),\n",
    "            legend.title = element_text(face = \"bold\"))\n",
    "    \n",
    "    }"
   ]
  },
  {
   "cell_type": "code",
   "execution_count": 4,
   "metadata": {},
   "outputs": [
    {
     "data": {
      "text/html": [
       "<table>\n",
       "<thead><tr><th></th><th scope=col>Kingdom</th><th scope=col>Phylum</th><th scope=col>Class</th><th scope=col>Order</th><th scope=col>Family</th><th scope=col>Genus</th></tr></thead>\n",
       "<tbody>\n",
       "\t<tr><th scope=row>ASV6971</th><td>Bacteria     </td><td>NA           </td><td>NA           </td><td>NA           </td><td>NA           </td><td>NA           </td></tr>\n",
       "\t<tr><th scope=row>ASV2480</th><td>Bacteria     </td><td>NA           </td><td>NA           </td><td>NA           </td><td>NA           </td><td>NA           </td></tr>\n",
       "\t<tr><th scope=row>ASV5742</th><td>Bacteria     </td><td>NA           </td><td>NA           </td><td>NA           </td><td>NA           </td><td>NA           </td></tr>\n",
       "\t<tr><th scope=row>ASV15180</th><td>Bacteria     </td><td>Acidobacteria</td><td>Subgroup_20  </td><td>NA           </td><td>NA           </td><td>NA           </td></tr>\n",
       "\t<tr><th scope=row>ASV9985</th><td>Bacteria     </td><td>Acidobacteria</td><td>Subgroup_20  </td><td>NA           </td><td>NA           </td><td>NA           </td></tr>\n",
       "\t<tr><th scope=row>ASV22021</th><td>Bacteria     </td><td>Acidobacteria</td><td>Subgroup_20  </td><td>NA           </td><td>NA           </td><td>NA           </td></tr>\n",
       "</tbody>\n",
       "</table>\n"
      ],
      "text/latex": [
       "\\begin{tabular}{r|llllll}\n",
       "  & Kingdom & Phylum & Class & Order & Family & Genus\\\\\n",
       "\\hline\n",
       "\tASV6971 & Bacteria      & NA            & NA            & NA            & NA            & NA           \\\\\n",
       "\tASV2480 & Bacteria      & NA            & NA            & NA            & NA            & NA           \\\\\n",
       "\tASV5742 & Bacteria      & NA            & NA            & NA            & NA            & NA           \\\\\n",
       "\tASV15180 & Bacteria      & Acidobacteria & Subgroup\\_20 & NA            & NA            & NA           \\\\\n",
       "\tASV9985 & Bacteria      & Acidobacteria & Subgroup\\_20 & NA            & NA            & NA           \\\\\n",
       "\tASV22021 & Bacteria      & Acidobacteria & Subgroup\\_20 & NA            & NA            & NA           \\\\\n",
       "\\end{tabular}\n"
      ],
      "text/markdown": [
       "\n",
       "| <!--/--> | Kingdom | Phylum | Class | Order | Family | Genus | \n",
       "|---|---|---|---|---|---|\n",
       "| ASV6971 | Bacteria      | NA            | NA            | NA            | NA            | NA            | \n",
       "| ASV2480 | Bacteria      | NA            | NA            | NA            | NA            | NA            | \n",
       "| ASV5742 | Bacteria      | NA            | NA            | NA            | NA            | NA            | \n",
       "| ASV15180 | Bacteria      | Acidobacteria | Subgroup_20   | NA            | NA            | NA            | \n",
       "| ASV9985 | Bacteria      | Acidobacteria | Subgroup_20   | NA            | NA            | NA            | \n",
       "| ASV22021 | Bacteria      | Acidobacteria | Subgroup_20   | NA            | NA            | NA            | \n",
       "\n",
       "\n"
      ],
      "text/plain": [
       "         Kingdom  Phylum        Class       Order Family Genus\n",
       "ASV6971  Bacteria NA            NA          NA    NA     NA   \n",
       "ASV2480  Bacteria NA            NA          NA    NA     NA   \n",
       "ASV5742  Bacteria NA            NA          NA    NA     NA   \n",
       "ASV15180 Bacteria Acidobacteria Subgroup_20 NA    NA     NA   \n",
       "ASV9985  Bacteria Acidobacteria Subgroup_20 NA    NA     NA   \n",
       "ASV22021 Bacteria Acidobacteria Subgroup_20 NA    NA     NA   "
      ]
     },
     "metadata": {},
     "output_type": "display_data"
    },
    {
     "data": {
      "text/html": [
       "<table>\n",
       "<thead><tr><th></th><th scope=col>ASV15180</th><th scope=col>ASV9985</th><th scope=col>ASV22021</th><th scope=col>ASV9417</th><th scope=col>ASV20094</th><th scope=col>ASV25884</th><th scope=col>ASV14673</th><th scope=col>ASV10366</th><th scope=col>ASV30259</th><th scope=col>ASV659</th></tr></thead>\n",
       "<tbody>\n",
       "\t<tr><th scope=row>1.1BP</th><td>0           </td><td>0           </td><td>0.0001412274</td><td>0           </td><td>0           </td><td>0           </td><td>0           </td><td>0           </td><td>0           </td><td>0.0006119855</td></tr>\n",
       "\t<tr><th scope=row>1.1BS</th><td>0           </td><td>0           </td><td>0.0000000000</td><td>0           </td><td>0           </td><td>0           </td><td>0           </td><td>0           </td><td>0           </td><td>0.0011081508</td></tr>\n",
       "\t<tr><th scope=row>1.1CH</th><td>0           </td><td>0           </td><td>0.0000000000</td><td>0           </td><td>0           </td><td>0           </td><td>0           </td><td>0           </td><td>0           </td><td>0.0002464673</td></tr>\n",
       "\t<tr><th scope=row>1.1CS</th><td>0           </td><td>0           </td><td>0.0000000000</td><td>0           </td><td>0           </td><td>0           </td><td>0           </td><td>0           </td><td>0           </td><td>0.0006685769</td></tr>\n",
       "</tbody>\n",
       "</table>\n"
      ],
      "text/latex": [
       "\\begin{tabular}{r|llllllllll}\n",
       "  & ASV15180 & ASV9985 & ASV22021 & ASV9417 & ASV20094 & ASV25884 & ASV14673 & ASV10366 & ASV30259 & ASV659\\\\\n",
       "\\hline\n",
       "\t1.1BP & 0            & 0            & 0.0001412274 & 0            & 0            & 0            & 0            & 0            & 0            & 0.0006119855\\\\\n",
       "\t1.1BS & 0            & 0            & 0.0000000000 & 0            & 0            & 0            & 0            & 0            & 0            & 0.0011081508\\\\\n",
       "\t1.1CH & 0            & 0            & 0.0000000000 & 0            & 0            & 0            & 0            & 0            & 0            & 0.0002464673\\\\\n",
       "\t1.1CS & 0            & 0            & 0.0000000000 & 0            & 0            & 0            & 0            & 0            & 0            & 0.0006685769\\\\\n",
       "\\end{tabular}\n"
      ],
      "text/markdown": [
       "\n",
       "| <!--/--> | ASV15180 | ASV9985 | ASV22021 | ASV9417 | ASV20094 | ASV25884 | ASV14673 | ASV10366 | ASV30259 | ASV659 | \n",
       "|---|---|---|---|\n",
       "| 1.1BP | 0            | 0            | 0.0001412274 | 0            | 0            | 0            | 0            | 0            | 0            | 0.0006119855 | \n",
       "| 1.1BS | 0            | 0            | 0.0000000000 | 0            | 0            | 0            | 0            | 0            | 0            | 0.0011081508 | \n",
       "| 1.1CH | 0            | 0            | 0.0000000000 | 0            | 0            | 0            | 0            | 0            | 0            | 0.0002464673 | \n",
       "| 1.1CS | 0            | 0            | 0.0000000000 | 0            | 0            | 0            | 0            | 0            | 0            | 0.0006685769 | \n",
       "\n",
       "\n"
      ],
      "text/plain": [
       "      ASV15180 ASV9985 ASV22021     ASV9417 ASV20094 ASV25884 ASV14673 ASV10366\n",
       "1.1BP 0        0       0.0001412274 0       0        0        0        0       \n",
       "1.1BS 0        0       0.0000000000 0       0        0        0        0       \n",
       "1.1CH 0        0       0.0000000000 0       0        0        0        0       \n",
       "1.1CS 0        0       0.0000000000 0       0        0        0        0       \n",
       "      ASV30259 ASV659      \n",
       "1.1BP 0        0.0006119855\n",
       "1.1BS 0        0.0011081508\n",
       "1.1CH 0        0.0002464673\n",
       "1.1CS 0        0.0006685769"
      ]
     },
     "metadata": {},
     "output_type": "display_data"
    },
    {
     "data": {
      "text/html": [
       "<table>\n",
       "<thead><tr><th></th><th scope=col>Kingdom</th><th scope=col>Phylum</th><th scope=col>Class</th><th scope=col>Order</th><th scope=col>Family</th><th scope=col>Genus</th></tr></thead>\n",
       "<tbody>\n",
       "\t<tr><th scope=row>ASV2498</th><td>Bacteria           </td><td>Proteobacteria     </td><td>Deltaproteobacteria</td><td>Desulfarculales    </td><td>Desulfarculaceae   </td><td>NA                 </td></tr>\n",
       "\t<tr><th scope=row>ASV11419</th><td>Bacteria           </td><td>Proteobacteria     </td><td>Deltaproteobacteria</td><td>Desulfarculales    </td><td>Desulfarculaceae   </td><td>NA                 </td></tr>\n",
       "\t<tr><th scope=row>ASV5649</th><td>Bacteria           </td><td>Proteobacteria     </td><td>Deltaproteobacteria</td><td>Desulfarculales    </td><td>Desulfarculaceae   </td><td>NA                 </td></tr>\n",
       "\t<tr><th scope=row>ASV22326</th><td>Bacteria           </td><td>Proteobacteria     </td><td>Deltaproteobacteria</td><td>Desulfarculales    </td><td>Desulfarculaceae   </td><td>NA                 </td></tr>\n",
       "\t<tr><th scope=row>ASV7976</th><td>Bacteria           </td><td>Proteobacteria     </td><td>Deltaproteobacteria</td><td>Desulfarculales    </td><td>Desulfarculaceae   </td><td>NA                 </td></tr>\n",
       "\t<tr><th scope=row>ASV10788</th><td>Bacteria           </td><td>Proteobacteria     </td><td>Deltaproteobacteria</td><td>Desulfarculales    </td><td>Desulfarculaceae   </td><td>NA                 </td></tr>\n",
       "</tbody>\n",
       "</table>\n"
      ],
      "text/latex": [
       "\\begin{tabular}{r|llllll}\n",
       "  & Kingdom & Phylum & Class & Order & Family & Genus\\\\\n",
       "\\hline\n",
       "\tASV2498 & Bacteria            & Proteobacteria      & Deltaproteobacteria & Desulfarculales     & Desulfarculaceae    & NA                 \\\\\n",
       "\tASV11419 & Bacteria            & Proteobacteria      & Deltaproteobacteria & Desulfarculales     & Desulfarculaceae    & NA                 \\\\\n",
       "\tASV5649 & Bacteria            & Proteobacteria      & Deltaproteobacteria & Desulfarculales     & Desulfarculaceae    & NA                 \\\\\n",
       "\tASV22326 & Bacteria            & Proteobacteria      & Deltaproteobacteria & Desulfarculales     & Desulfarculaceae    & NA                 \\\\\n",
       "\tASV7976 & Bacteria            & Proteobacteria      & Deltaproteobacteria & Desulfarculales     & Desulfarculaceae    & NA                 \\\\\n",
       "\tASV10788 & Bacteria            & Proteobacteria      & Deltaproteobacteria & Desulfarculales     & Desulfarculaceae    & NA                 \\\\\n",
       "\\end{tabular}\n"
      ],
      "text/markdown": [
       "\n",
       "| <!--/--> | Kingdom | Phylum | Class | Order | Family | Genus | \n",
       "|---|---|---|---|---|---|\n",
       "| ASV2498 | Bacteria            | Proteobacteria      | Deltaproteobacteria | Desulfarculales     | Desulfarculaceae    | NA                  | \n",
       "| ASV11419 | Bacteria            | Proteobacteria      | Deltaproteobacteria | Desulfarculales     | Desulfarculaceae    | NA                  | \n",
       "| ASV5649 | Bacteria            | Proteobacteria      | Deltaproteobacteria | Desulfarculales     | Desulfarculaceae    | NA                  | \n",
       "| ASV22326 | Bacteria            | Proteobacteria      | Deltaproteobacteria | Desulfarculales     | Desulfarculaceae    | NA                  | \n",
       "| ASV7976 | Bacteria            | Proteobacteria      | Deltaproteobacteria | Desulfarculales     | Desulfarculaceae    | NA                  | \n",
       "| ASV10788 | Bacteria            | Proteobacteria      | Deltaproteobacteria | Desulfarculales     | Desulfarculaceae    | NA                  | \n",
       "\n",
       "\n"
      ],
      "text/plain": [
       "         Kingdom  Phylum         Class               Order          \n",
       "ASV2498  Bacteria Proteobacteria Deltaproteobacteria Desulfarculales\n",
       "ASV11419 Bacteria Proteobacteria Deltaproteobacteria Desulfarculales\n",
       "ASV5649  Bacteria Proteobacteria Deltaproteobacteria Desulfarculales\n",
       "ASV22326 Bacteria Proteobacteria Deltaproteobacteria Desulfarculales\n",
       "ASV7976  Bacteria Proteobacteria Deltaproteobacteria Desulfarculales\n",
       "ASV10788 Bacteria Proteobacteria Deltaproteobacteria Desulfarculales\n",
       "         Family           Genus\n",
       "ASV2498  Desulfarculaceae NA   \n",
       "ASV11419 Desulfarculaceae NA   \n",
       "ASV5649  Desulfarculaceae NA   \n",
       "ASV22326 Desulfarculaceae NA   \n",
       "ASV7976  Desulfarculaceae NA   \n",
       "ASV10788 Desulfarculaceae NA   "
      ]
     },
     "metadata": {},
     "output_type": "display_data"
    },
    {
     "data": {
      "text/plain": [
       "phyloseq-class experiment-level object\n",
       "otu_table()   OTU Table:         [ 18707 taxa and 385 samples ]\n",
       "sample_data() Sample Data:       [ 385 samples by 11 sample variables ]\n",
       "tax_table()   Taxonomy Table:    [ 18707 taxa by 6 taxonomic ranks ]\n",
       "phy_tree()    Phylogenetic Tree: [ 18707 tips and 18706 internal nodes ]"
      ]
     },
     "metadata": {},
     "output_type": "display_data"
    }
   ],
   "source": [
    "ps = readRDS(physeq_file)\n",
    "ps = subset_taxa(ps, !is.na(\"Phylum\"))\n",
    "\n",
    "\n",
    "tax_table(ps) %>% head()\n",
    "ps = subset_taxa(ps, Kingdom == \"Bacteria\" &  !is.na(Phylum))\n",
    "ps = subset_samples(ps, !SampleType %in% c(\"EB\", \"PB\", \"MK\")) #remove non-experimental controls\n",
    "\n",
    "# re-normalize after subsetting taxa\n",
    "ps.snorm = transform_sample_counts(ps, function(x) x/sum(x))\n",
    "\n",
    "otu_table(ps.snorm)[1:4, 1:10]\n",
    "tax_table(ps.snorm) %>% tail()\n",
    "\n",
    "ps.snorm\n",
    "                                  \n"
   ]
  },
  {
   "cell_type": "markdown",
   "metadata": {},
   "source": [
    "# Experiment 1 & 2 primary analysis"
   ]
  },
  {
   "cell_type": "code",
   "execution_count": 5,
   "metadata": {},
   "outputs": [],
   "source": [
    "ps.s = ps.snorm %>% subset_samples(Experiment %in% c(1, 2) & SampleType %in% c(\"CS\", \"CH\", \"BS\") & Fungus == \"Gv\")"
   ]
  },
  {
   "cell_type": "code",
   "execution_count": 6,
   "metadata": {},
   "outputs": [],
   "source": [
    "registerDoParallel(makeCluster(20))"
   ]
  },
  {
   "cell_type": "code",
   "execution_count": 7,
   "metadata": {},
   "outputs": [],
   "source": [
    "wunif.dist = phyloseq::distance(ps.s, \n",
    "                      method = \"unifrac\", \n",
    "                      weighted = TRUE,\n",
    "                      fast = TRUE, \n",
    "                      parallel = TRUE, \n",
    "                      normalized = FALSE)\n",
    "\n",
    "#unif.dist = phyloseq::distance(ps.snorm, \n",
    "#                       method = \"unifrac\", \n",
    "#                       weighted = FALSE,\n",
    "#                       fast = TRUE, \n",
    "#                       parallel = TRUE, \n",
    "#                       normalized = FALSE)"
   ]
  },
  {
   "cell_type": "code",
   "execution_count": 8,
   "metadata": {},
   "outputs": [
    {
     "name": "stdout",
     "output_type": "stream",
     "text": [
      "[1] \"weighted-UniFrac\"\n"
     ]
    },
    {
     "data": {
      "text/plain": [
       "\n",
       "Call:\n",
       "adonis(formula = d ~ Soil + SampleType + SampleType:Soil + Experiment +      Experiment:SampleType, data = df, permutations = 999) \n",
       "\n",
       "Permutation: free\n",
       "Number of permutations: 999\n",
       "\n",
       "Terms added sequentially (first to last)\n",
       "\n",
       "                      Df SumsOfSqs MeanSqs F.Model      R2 Pr(>F)    \n",
       "Soil                   3    1.8821 0.62736  25.202 0.30407  0.001 ***\n",
       "SampleType             2    1.6141 0.80704  32.420 0.26077  0.001 ***\n",
       "Experiment             1    0.3032 0.30323  12.181 0.04899  0.001 ***\n",
       "Soil:SampleType        5    0.5107 0.10215   4.103 0.08252  0.001 ***\n",
       "SampleType:Experiment  1    0.1121 0.11206   4.502 0.01810  0.003 ** \n",
       "Residuals             71    1.7674 0.02489         0.28555           \n",
       "Total                 83    6.1896                 1.00000           \n",
       "---\n",
       "Signif. codes:  0 ‘***’ 0.001 ‘**’ 0.01 ‘*’ 0.05 ‘.’ 0.1 ‘ ’ 1"
      ]
     },
     "metadata": {},
     "output_type": "display_data"
    }
   ],
   "source": [
    "set.seed(101)\n",
    "\n",
    "df = as(sample_data(ps.s), \"data.frame\")\n",
    "#df$Rep = as.factor(df$Rep)\n",
    "#df$TimePoint = as.factor(df$TimePoint)\n",
    "d = wunif.dist\n",
    "\n",
    "adonis.w = adonis(formula = d ~Soil + SampleType + SampleType:Soil + Experiment + Experiment:SampleType, df, permutations = 999)\n",
    "print(\"weighted-UniFrac\")\n",
    "adonis.w"
   ]
  },
  {
   "cell_type": "code",
   "execution_count": 9,
   "metadata": {},
   "outputs": [
    {
     "data": {},
     "metadata": {},
     "output_type": "display_data"
    },
    {
     "data": {
      "image/png": "[encoded data removed]",
      "text/plain": [
       "plot without title"
      ]
     },
     "metadata": {},
     "output_type": "display_data"
    }
   ],
   "source": [
    "ordu = ordinate(ps.s, \"PCoA\", \"unifrac\", weighted=TRUE)\n",
    "p = plot_ordination(ps.s, ordu, justDF = TRUE)\n",
    "plot_ordination(ps.s, ordu)"
   ]
  },
  {
   "cell_type": "code",
   "execution_count": 11,
   "metadata": {
    "scrolled": false
   },
   "outputs": [
    {
     "data": {},
     "metadata": {},
     "output_type": "display_data"
    },
    {
     "data": {},
     "metadata": {},
     "output_type": "display_data"
    },
    {
     "data": {
      "text/html": [
       "<strong>png:</strong> 2"
      ],
      "text/latex": [
       "\\textbf{png:} 2"
      ],
      "text/markdown": [
       "**png:** 2"
      ],
      "text/plain": [
       "png \n",
       "  2 "
      ]
     },
     "metadata": {},
     "output_type": "display_data"
    },
    {
     "data": {
      "image/png": "[encoded data removed]",
      "text/plain": [
       "plot without title"
      ]
     },
     "metadata": {},
     "output_type": "display_data"
    }
   ],
   "source": [
    "#setwd(figDir)\n",
    "cs = brewer.pal(3,\"Dark2\")\n",
    "p1 = ggplot(p, aes(x = Axis.1, y = Axis.2)) +\n",
    "geom_point(aes(shape = as.factor(Soil), fill = SampleType, color = as.factor(Experiment)),  size = 3, stroke = 1.5) +\n",
    "theme_pub() +\n",
    "scale_shape_manual(values=c(21,22,23,24), guide = guide_legend(title = \"Soil\", ncol = 1))+\n",
    "scale_color_manual(values=c('Orange','Black'))+\n",
    "scale_fill_manual(values = cs, labels = c(\"Bulk soil\", \"Core hyphae\", \"Core slurry\"))+\n",
    "labs(x = \"PCoA 1 [37.0%]\", y = \"PCoA 2 [12.9%]\") +\n",
    "ggtitle(\"PCoA of Weighted UniFrac Distances\")+\n",
    "#facet_wrap(~Experiment, ncol = 2)\n",
    "\n",
    "guides(fill=guide_legend(override.aes=list(colour= cs), ncol = 3)) + \n",
    "theme(legend.position=\"bottom\") \n",
    "\n",
    "#color = \"grey20\",\n",
    "\n",
    "p1\n",
    "\n",
    "pdf(file.path(figDir,\"Exp1-2_wUnif_PCOA_BSCHCS.pdf\"), useDingbats = FALSE, width = 4.5, height = 4.5)\n",
    "p1\n",
    "dev.off()"
   ]
  },
  {
   "cell_type": "markdown",
   "metadata": {},
   "source": [
    "# Analysis of hyphal and soil samples without sand"
   ]
  },
  {
   "cell_type": "code",
   "execution_count": 12,
   "metadata": {},
   "outputs": [],
   "source": [
    "ps.s = ps.snorm %>% subset_samples(Experiment %in% c(1, 2) & SampleType %in% c(\"CS\", \"CH\", \"BS\") & Fungus == \"Gv\" & Soil != \"Sand\" & Treatment == \"HN\")\n",
    "\n",
    "#ps.s = ps.snorm %>% subset_samples(Experiment == 1 & SampleType %in% c(\"CS\", \"CH\", \"BS\", \"RT\") & Fungus == \"Gv\" & Soil != \"Sand\" & Treatment == \"HN\")"
   ]
  },
  {
   "cell_type": "code",
   "execution_count": 13,
   "metadata": {},
   "outputs": [],
   "source": [
    "wunif.dist = phyloseq::distance(ps.s, \n",
    "                      method = \"unifrac\", \n",
    "                      weighted = TRUE,\n",
    "                      fast = TRUE, \n",
    "                      parallel = TRUE, \n",
    "                      normalized = FALSE)\n",
    "\n",
    "#unif.dist = phyloseq::distance(ps.snorm, \n",
    "#                       method = \"unifrac\", \n",
    "#                       weighted = FALSE,\n",
    "#                       fast = TRUE, \n",
    "#                       parallel = TRUE, \n",
    "#                       normalized = FALSE)"
   ]
  },
  {
   "cell_type": "code",
   "execution_count": 14,
   "metadata": {},
   "outputs": [
    {
     "name": "stdout",
     "output_type": "stream",
     "text": [
      "[1] \"weighted-UniFrac\"\n"
     ]
    },
    {
     "data": {
      "text/plain": [
       "\n",
       "Call:\n",
       "adonis(formula = d ~ Soil + SampleType + SampleType:Soil + Experiment +      Experiment:SampleType + Soil:Experiment, data = df, permutations = 999) \n",
       "\n",
       "Permutation: free\n",
       "Number of permutations: 999\n",
       "\n",
       "Terms added sequentially (first to last)\n",
       "\n",
       "                      Df SumsOfSqs MeanSqs F.Model      R2 Pr(>F)    \n",
       "Soil                   2    0.4622 0.23110  12.350 0.13930  0.001 ***\n",
       "SampleType             2    1.3124 0.65621  35.068 0.39554  0.001 ***\n",
       "Experiment             1    0.2592 0.25923  13.853 0.07813  0.001 ***\n",
       "Soil:SampleType        4    0.1555 0.03887   2.077 0.04686  0.011 *  \n",
       "SampleType:Experiment  1    0.0950 0.09495   5.074 0.02862  0.002 ** \n",
       "Soil:Experiment        2    0.2665 0.13325   7.121 0.08032  0.001 ***\n",
       "Residuals             41    0.7672 0.01871         0.23123           \n",
       "Total                 53    3.3180                 1.00000           \n",
       "---\n",
       "Signif. codes:  0 ‘***’ 0.001 ‘**’ 0.01 ‘*’ 0.05 ‘.’ 0.1 ‘ ’ 1"
      ]
     },
     "metadata": {},
     "output_type": "display_data"
    }
   ],
   "source": [
    "set.seed(101)\n",
    "\n",
    "df = as(sample_data(ps.s), \"data.frame\")\n",
    "#df$Rep = as.factor(df$Rep)\n",
    "#df$TimePoint = as.factor(df$TimePoint)\n",
    "d = wunif.dist\n",
    "\n",
    "adonis.w = adonis(formula = d ~Soil + SampleType + SampleType:Soil + Experiment + Experiment:SampleType + Soil:Experiment, df, permutations = 999)\n",
    "print(\"weighted-UniFrac\")\n",
    "adonis.w"
   ]
  },
  {
   "cell_type": "code",
   "execution_count": 16,
   "metadata": {},
   "outputs": [
    {
     "data": {
      "text/html": [
       "<table>\n",
       "<thead><tr><th></th><th scope=col>Df</th><th scope=col>SumsOfSqs</th><th scope=col>MeanSqs</th><th scope=col>F.Model</th><th scope=col>R2</th><th scope=col>Pr(&gt;F)</th></tr></thead>\n",
       "<tbody>\n",
       "\t<tr><th scope=row>Soil</th><td> 2   </td><td>0.46 </td><td>0.23 </td><td>12.35</td><td>0.14 </td><td>0.001</td></tr>\n",
       "\t<tr><th scope=row>SampleType</th><td> 2   </td><td>1.31 </td><td>0.66 </td><td>35.07</td><td>0.40 </td><td>0.001</td></tr>\n",
       "\t<tr><th scope=row>Experiment</th><td> 1   </td><td>0.26 </td><td>0.26 </td><td>13.85</td><td>0.08 </td><td>0.001</td></tr>\n",
       "\t<tr><th scope=row>Soil:SampleType</th><td> 4   </td><td>0.16 </td><td>0.04 </td><td> 2.08</td><td>0.05 </td><td>0.011</td></tr>\n",
       "\t<tr><th scope=row>SampleType:Experiment</th><td> 1   </td><td>0.09 </td><td>0.09 </td><td> 5.07</td><td>0.03 </td><td>0.002</td></tr>\n",
       "\t<tr><th scope=row>Soil:Experiment</th><td> 2   </td><td>0.27 </td><td>0.13 </td><td> 7.12</td><td>0.08 </td><td>0.001</td></tr>\n",
       "\t<tr><th scope=row>Residuals</th><td>41   </td><td>0.77 </td><td>0.02 </td><td>   NA</td><td>0.23 </td><td>   NA</td></tr>\n",
       "\t<tr><th scope=row>Total</th><td>53   </td><td>3.32 </td><td>  NA </td><td>   NA</td><td>1.00 </td><td>   NA</td></tr>\n",
       "</tbody>\n",
       "</table>\n"
      ],
      "text/latex": [
       "\\begin{tabular}{r|llllll}\n",
       "  & Df & SumsOfSqs & MeanSqs & F.Model & R2 & Pr(>F)\\\\\n",
       "\\hline\n",
       "\tSoil &  2    & 0.46  & 0.23  & 12.35 & 0.14  & 0.001\\\\\n",
       "\tSampleType &  2    & 1.31  & 0.66  & 35.07 & 0.40  & 0.001\\\\\n",
       "\tExperiment &  1    & 0.26  & 0.26  & 13.85 & 0.08  & 0.001\\\\\n",
       "\tSoil:SampleType &  4    & 0.16  & 0.04  &  2.08 & 0.05  & 0.011\\\\\n",
       "\tSampleType:Experiment &  1    & 0.09  & 0.09  &  5.07 & 0.03  & 0.002\\\\\n",
       "\tSoil:Experiment &  2    & 0.27  & 0.13  &  7.12 & 0.08  & 0.001\\\\\n",
       "\tResiduals & 41    & 0.77  & 0.02  &    NA & 0.23  &    NA\\\\\n",
       "\tTotal & 53    & 3.32  &   NA  &    NA & 1.00  &    NA\\\\\n",
       "\\end{tabular}\n"
      ],
      "text/markdown": [
       "\n",
       "| <!--/--> | Df | SumsOfSqs | MeanSqs | F.Model | R2 | Pr(>F) | \n",
       "|---|---|---|---|---|---|---|---|\n",
       "| Soil |  2    | 0.46  | 0.23  | 12.35 | 0.14  | 0.001 | \n",
       "| SampleType |  2    | 1.31  | 0.66  | 35.07 | 0.40  | 0.001 | \n",
       "| Experiment |  1    | 0.26  | 0.26  | 13.85 | 0.08  | 0.001 | \n",
       "| Soil:SampleType |  4    | 0.16  | 0.04  |  2.08 | 0.05  | 0.011 | \n",
       "| SampleType:Experiment |  1    | 0.09  | 0.09  |  5.07 | 0.03  | 0.002 | \n",
       "| Soil:Experiment |  2    | 0.27  | 0.13  |  7.12 | 0.08  | 0.001 | \n",
       "| Residuals | 41    | 0.77  | 0.02  |    NA | 0.23  |    NA | \n",
       "| Total | 53    | 3.32  |   NA  |    NA | 1.00  |    NA | \n",
       "\n",
       "\n"
      ],
      "text/plain": [
       "                      Df SumsOfSqs MeanSqs F.Model R2   Pr(>F)\n",
       "Soil                   2 0.46      0.23    12.35   0.14 0.001 \n",
       "SampleType             2 1.31      0.66    35.07   0.40 0.001 \n",
       "Experiment             1 0.26      0.26    13.85   0.08 0.001 \n",
       "Soil:SampleType        4 0.16      0.04     2.08   0.05 0.011 \n",
       "SampleType:Experiment  1 0.09      0.09     5.07   0.03 0.002 \n",
       "Soil:Experiment        2 0.27      0.13     7.12   0.08 0.001 \n",
       "Residuals             41 0.77      0.02       NA   0.23    NA \n",
       "Total                 53 3.32        NA       NA   1.00    NA "
      ]
     },
     "metadata": {},
     "output_type": "display_data"
    }
   ],
   "source": [
    "tabout = adonis.w$aov.tab\n",
    "tabout[,2:5] = round(tabout[,2:5], 2)\n",
    "tabout"
   ]
  },
  {
   "cell_type": "code",
   "execution_count": 17,
   "metadata": {},
   "outputs": [],
   "source": [
    "fileout = file.path(figDir, \"ADONIS_Exp1-2_CHCSBS_noSand.csv\")\n",
    "write.table(tabout, file = fileout, sep = ',', row.names = TRUE)"
   ]
  },
  {
   "cell_type": "code",
   "execution_count": 18,
   "metadata": {},
   "outputs": [
    {
     "data": {},
     "metadata": {},
     "output_type": "display_data"
    },
    {
     "data": {
      "image/png": "[encoded data removed]",
      "text/plain": [
       "plot without title"
      ]
     },
     "metadata": {},
     "output_type": "display_data"
    }
   ],
   "source": [
    "ordu = ordinate(ps.s, \"PCoA\", \"unifrac\", weighted=TRUE)\n",
    "p = plot_ordination(ps.s, ordu, justDF = TRUE)\n",
    "plot_ordination(ps.s, ordu)"
   ]
  },
  {
   "cell_type": "code",
   "execution_count": 19,
   "metadata": {},
   "outputs": [
    {
     "data": {},
     "metadata": {},
     "output_type": "display_data"
    },
    {
     "data": {},
     "metadata": {},
     "output_type": "display_data"
    },
    {
     "data": {
      "text/html": [
       "<strong>png:</strong> 2"
      ],
      "text/latex": [
       "\\textbf{png:} 2"
      ],
      "text/markdown": [
       "**png:** 2"
      ],
      "text/plain": [
       "png \n",
       "  2 "
      ]
     },
     "metadata": {},
     "output_type": "display_data"
    },
    {
     "data": {
      "image/png": "[encoded data removed]",
      "text/plain": [
       "plot without title"
      ]
     },
     "metadata": {},
     "output_type": "display_data"
    }
   ],
   "source": [
    "#setwd(figDir)\n",
    "cs = brewer.pal(3,\"Dark2\")\n",
    "p1 = ggplot(p, aes(x = Axis.1, y = Axis.2)) +\n",
    "geom_point(aes(shape = as.factor(Soil), fill = SampleType, color = as.factor(Experiment)),  size = 3, stroke = 1) +\n",
    "theme_pub() +\n",
    "scale_shape_manual(values=c(21,22,23,24), guide = guide_legend(title = \"Soil\", ncol = 1))+\n",
    "scale_color_manual(values=c('LightGray','Black'))+\n",
    "scale_fill_manual(values = cs) + #, labels = c(\"Bulk soil\", \"Core hyphae\", \"Core slurry\"))+\n",
    "labs(x = \"PCoA 1 [44.9%]\", y = \"PCoA 2 [10.2%]\") +\n",
    "ggtitle(\"PCoA of Weighted UniFrac Distances\")+\n",
    "#facet_wrap(~Experiment, ncol = 2)\n",
    "\n",
    "guides(fill=guide_legend(override.aes=list(colour= cs), ncol = 1)) + \n",
    "guides(color=guide_legend(ncol = 1, fill = \"white\")) + \n",
    "theme(legend.position=\"bottom\") \n",
    "\n",
    "#color = \"grey20\",\n",
    "\n",
    "p1\n",
    "\n",
    "pdf(file.path(figDir,\"Exp1-2_wUnif_PCOA_BSCHCS_woSand.pdf\"), useDingbats = FALSE, width = 3.46, height = 3.06)\n",
    "p1\n",
    "dev.off()"
   ]
  },
  {
   "cell_type": "markdown",
   "metadata": {},
   "source": [
    "## Ordinate hyphal and soil samples and include Ri\n",
    "* This is not particularly helpful, better to proceed with focused comparison"
   ]
  },
  {
   "cell_type": "code",
   "execution_count": null,
   "metadata": {},
   "outputs": [],
   "source": [
    "ps.s = ps.snorm %>% subset_samples(Experiment %in% c(1, 2) & SampleType %in% c(\"CS\", \"CH\", \"BS\"))"
   ]
  },
  {
   "cell_type": "code",
   "execution_count": null,
   "metadata": {},
   "outputs": [],
   "source": [
    "ordu = ordinate(ps.s, \"PCoA\", \"unifrac\", weighted=TRUE)\n",
    "p = plot_ordination(ps.s, ordu, justDF = TRUE)\n",
    "plot_ordination(ps.s, ordu)"
   ]
  },
  {
   "cell_type": "code",
   "execution_count": null,
   "metadata": {},
   "outputs": [],
   "source": [
    "#setwd(figDir)\n",
    "cs = brewer.pal(3,\"Dark2\")\n",
    "p1 = ggplot(p, aes(x = Axis.1, y = Axis.2)) +\n",
    "geom_point(aes(shape = as.factor(Fungus), fill = SampleType, color = as.factor(Experiment)),  size = 3, stroke = 1.5) +\n",
    "theme_pub() +\n",
    "scale_shape_manual(values=c(21,22,23,24), guide = guide_legend(title = \"Soil\", ncol = 1))+\n",
    "scale_color_manual(values=c('Orange','Black'))+\n",
    "scale_fill_manual(values = cs, labels = c(\"Bulk soil\", \"Core hyphae\", \"Core slurry\"))+\n",
    "labs(x = \"PCoA 1 [37.0%]\", y = \"PCoA 2 [12.9%]\") +\n",
    "ggtitle(\"PCoA of Weighted UniFrac Distances\")+\n",
    "facet_wrap(~Soil, ncol = 2)\n",
    "\n",
    "guides(fill=guide_legend(override.aes=list(colour= cs), ncol = 3)) + \n",
    "theme(legend.position=\"bottom\") \n",
    "\n",
    "#color = \"grey20\",\n",
    "\n",
    "p1\n",
    "\n",
    "pdf(file.path(figDir,\"Exp1-2_wUnif_PCOA_BSCHCS.pdf\"), useDingbats = FALSE, width = 4.5, height = 4.5)\n",
    "p1\n",
    "dev.off()"
   ]
  },
  {
   "cell_type": "markdown",
   "metadata": {},
   "source": [
    "# Subset to just bulk soils and hyphal soils"
   ]
  },
  {
   "cell_type": "code",
   "execution_count": null,
   "metadata": {},
   "outputs": [],
   "source": [
    "ps.b = subset_samples(ps.snorm, SampleType %in% c(\"BS\", \"BH\") & Experiment == 2 & Sample != \"GVN7HP4-BH\")"
   ]
  },
  {
   "cell_type": "code",
   "execution_count": null,
   "metadata": {},
   "outputs": [],
   "source": [
    "b.wunif.dist = phyloseq::distance(ps.b, \n",
    "                      method = \"unifrac\", \n",
    "                      weighted = TRUE,\n",
    "                      fast = TRUE, \n",
    "                      parallel = TRUE, \n",
    "                                  \n",
    "                      normalized = FALSE)"
   ]
  },
  {
   "cell_type": "code",
   "execution_count": null,
   "metadata": {},
   "outputs": [],
   "source": [
    "ordu = ordinate(ps.b, \"PCoA\", \"unifrac\", weighted=TRUE)\n",
    "p = plot_ordination(ps.b, ordu, justDF = TRUE)\n",
    "plot_ordination(ps.b, ordu)"
   ]
  },
  {
   "cell_type": "code",
   "execution_count": null,
   "metadata": {},
   "outputs": [],
   "source": [
    "# Check outlier, this is a botched extraction\n",
    "p %>% filter(Axis.2 > .10)"
   ]
  },
  {
   "cell_type": "code",
   "execution_count": null,
   "metadata": {
    "scrolled": true
   },
   "outputs": [],
   "source": [
    "#setwd(figDir)\n",
    "cs = brewer.pal(7,\"Dark2\")\n",
    "p1 = ggplot(p, aes(x = Axis.1, y = Axis.2)) +\n",
    "geom_point(aes(shape = as.factor(Soil), fill = SampleType),  size = 2) +\n",
    "theme_pub() +\n",
    "scale_shape_manual(values=c(21,22,23), guide = guide_legend(title = \"Soil\", ncol = 1))+\n",
    "scale_fill_manual(values = cs[c(1,3)], labels = c(\"Bulk hyphosphere\", \"Bulk soil\"))+\n",
    "labs(x = \"PCoA 1 [41.6%]\", y = \"PCoA 2 [13.1%]\") +\n",
    "ggtitle(\"PCoA of Weighted UniFrac Distances\")+\n",
    "\n",
    "guides(fill=guide_legend(override.aes=list(colour= cs[c(1,3)]), ncol = 1)) + \n",
    "theme(legend.position=\"bottom\") +\n",
    "facet_wrap(~Fungus, ncol = 2)\n",
    "\n",
    "#color = \"grey20\",\n",
    "\n",
    "p1\n",
    "\n",
    "#pdf(file.path(figDir,\"wUnif_PCOA_BSBH.pdf\"), useDingbats = FALSE, width = 4.5, height = 3)\n",
    "#p1\n",
    "#dev.off()"
   ]
  },
  {
   "cell_type": "code",
   "execution_count": null,
   "metadata": {},
   "outputs": [],
   "source": [
    "set.seed(101)\n",
    "\n",
    "df = as(sample_data(ps.b), \"data.frame\")\n",
    "#df$Rep = as.factor(df$Rep)\n",
    "#df$TimePoint = as.factor(df$TimePoint)\n",
    "d = b.wunif.dist\n",
    "\n",
    "b.adonis.w = adonis(formula = d ~ Rep + Soil + SampleType + Soil:SampleType + Fungus + Fungus:SampleType, df, permutations = 999)\n",
    "print(\"weighted-UniFrac\")\n",
    "b.adonis.w\n",
    "\n",
    "# d = unif.dist\n",
    "# #Soiladonis = adonis(formula = d ~ Planted + DAP + Plant + Treatment, df, strata = df$Rep:df$Plant, permutations = 999)\n",
    "# adonis.u = adonis(formula = d ~ Rep + SampleType + TimePoint + SampleType:TimePoint, df, permutations = 999)\n",
    "# print(\"unweighted-UniFrac\")\n",
    "#adonis.u"
   ]
  },
  {
   "cell_type": "code",
   "execution_count": null,
   "metadata": {},
   "outputs": [],
   "source": []
  },
  {
   "cell_type": "markdown",
   "metadata": {},
   "source": [
    "# Additional controls"
   ]
  },
  {
   "cell_type": "code",
   "execution_count": null,
   "metadata": {},
   "outputs": [],
   "source": [
    "ps.s = ps.snorm %>% subset_samples(Experiment == 2 & Fungus == \"Gv\")"
   ]
  },
  {
   "cell_type": "code",
   "execution_count": null,
   "metadata": {},
   "outputs": [],
   "source": [
    "ordu = ordinate(ps.s, \"PCoA\", \"unifrac\", weighted=TRUE)\n",
    "p = plot_ordination(ps.s, ordu, justDF = TRUE)\n",
    "plot_ordination(ps.s, ordu)"
   ]
  },
  {
   "cell_type": "code",
   "execution_count": null,
   "metadata": {},
   "outputs": [],
   "source": [
    "brewer.pal(7,\"Dark2\")\n",
    "\n",
    "cs = c('#66a61e', #BH\n",
    "       '#e7298a', #BP\n",
    "       '#1b9e77', #BS\n",
    "       \n",
    "        '#d95f02', #CH, \n",
    "       '#7570b3', #CS,\n",
    "       \"#e6ab02\", #RH\n",
    "       \"#a6761d\") #RS"
   ]
  },
  {
   "cell_type": "code",
   "execution_count": null,
   "metadata": {},
   "outputs": [],
   "source": [
    "\n",
    "\n",
    "p1 = ggplot(p, aes(x = Axis.1, y = Axis.2)) +\n",
    "geom_point(aes(shape = Soil, fill = SampleType),  size = 2) +\n",
    "theme_pub() +\n",
    "scale_shape_manual(values=c(21,22,23), guide = guide_legend(title = \"Soil\", ncol = 2))+\n",
    "scale_fill_manual(values = cs)+\n",
    "labs(x = \"PCoA 1 [46.8%]\", y = \"PCoA 2 [11.7%]\") +\n",
    "#ggtitle(\"PCoA of Weighted UniFrac Distances\")+\n",
    "\n",
    "guides(fill=guide_legend(override.aes=list(colour= cs), ncol = 4)) + \n",
    "theme(legend.position=\"bottom\") \n",
    "\n",
    "#color = \"grey20\",\n",
    "\n",
    "p1\n",
    "\n",
    "pdf(file = file.path(figDir,'Exp2_FullOrdination.pdf'), width = 7.086, height = 5, useDingbats = FALSE)\n",
    "p1\n",
    "dev.off()\n"
   ]
  },
  {
   "cell_type": "markdown",
   "metadata": {},
   "source": [
    "# Does fungal species matter"
   ]
  },
  {
   "cell_type": "code",
   "execution_count": null,
   "metadata": {},
   "outputs": [],
   "source": [
    "ps.s = subset_samples(ps.snorm, SampleType %in% c(\"BS\",\"CS\",\"CH\") & Soil == \"Dryden\" & Experiment == 2)"
   ]
  },
  {
   "cell_type": "code",
   "execution_count": null,
   "metadata": {},
   "outputs": [],
   "source": [
    "sample_data(ps.s) %>% head()"
   ]
  },
  {
   "cell_type": "code",
   "execution_count": null,
   "metadata": {},
   "outputs": [],
   "source": [
    "ordu = ordinate(ps.s, \"PCoA\", \"unifrac\", weighted=TRUE)\n",
    "p = plot_ordination(ps.s, ordu, justDF = TRUE)\n",
    "plot_ordination(ps.s, ordu)"
   ]
  },
  {
   "cell_type": "code",
   "execution_count": null,
   "metadata": {},
   "outputs": [],
   "source": [
    "head(p)"
   ]
  },
  {
   "cell_type": "code",
   "execution_count": null,
   "metadata": {},
   "outputs": [],
   "source": [
    "cs = brewer.pal(3,\"Dark2\")\n",
    "ggplot(p, aes(x = Axis.1, y = Axis.2, fill = SampleType, shape = Fungus))+\n",
    "geom_point(size = 3, stroke = 1) +\n",
    "theme_pub() +\n",
    "scale_shape_manual(values=c(21,22,23,24), guide = guide_legend(title = \"Soil\", ncol = 1))+\n",
    "scale_color_manual(values=c('Orange','Black'))+\n",
    "scale_fill_manual(values = cs, labels = c(\"Bulk soil\", \"Core hyphae\", \"Core slurry\"))"
   ]
  },
  {
   "cell_type": "code",
   "execution_count": null,
   "metadata": {},
   "outputs": [],
   "source": [
    "cs = brewer.pal(3,\"Dark2\")\n",
    "p1 = ggplot(p, aes(x = Axis.1, y = Axis.2)) +\n",
    "geom_point(aes(shape = as.factor(Fungus), fill = SampleType),  size = 2, stroke = 1.5) +\n",
    "theme_pub() +\n",
    "scale_shape_manual(values=c(21,22), guide = guide_legend(title = \"Treatment\", ncol = 1))+\n",
    "scale_fill_manual(values = cs, labels = c(\"Bulk soil\", \"Core hyphae\", \"Core slurry\"))+\n",
    "labs(x = \"PCoA 1 [70%]\", y = \"PCoA 2 [8.9%]\") +\n",
    "\n",
    "guides(fill=guide_legend(override.aes=list(colour= cs, ncol = 1))) + \n",
    "theme(legend.position=\"bottom\")\n",
    "\n",
    "#color = \"grey20\",\n",
    "\n",
    "p1\n",
    "pf = p1\n",
    "pdf(file.path(figDir,\"wUnif_PCOA_CHCSxFungus.pdf\"), useDingbats = FALSE, width = 3.14, height = 3)\n",
    "p1\n",
    "dev.off()\n",
    "rm(p1)"
   ]
  },
  {
   "cell_type": "code",
   "execution_count": null,
   "metadata": {},
   "outputs": [],
   "source": [
    "s.wunif.dist = phyloseq::distance(ps.s, \n",
    "                      method = \"unifrac\", \n",
    "                      weighted = TRUE,\n",
    "                      fast = TRUE, \n",
    "                      parallel = TRUE, \n",
    "                      normalized = FALSE)"
   ]
  },
  {
   "cell_type": "code",
   "execution_count": null,
   "metadata": {},
   "outputs": [],
   "source": [
    "### set.seed(101)\n",
    "\n",
    "df = as(sample_data(ps.s), \"data.frame\")\n",
    "#df$Rep = as.factor(df$Rep)\n",
    "#df$TimePoint = as.factor(df$TimePoint)\n",
    "d = s.wunif.dist\n",
    "\n",
    "s.adonis.w = adonis(formula = d ~ as.factor(Rep) + SampleType + Fungus + Fungus:SampleType, df, permutations = 999)\n",
    "print(\"weighted-UniFrac\")\n",
    "s.adonis.w"
   ]
  },
  {
   "cell_type": "code",
   "execution_count": null,
   "metadata": {},
   "outputs": [],
   "source": [
    "tabout = s.adonis.w$aov.tab\n",
    "tabout[,2:5] = round(tabout[,2:5], 2)\n",
    "tabout\n",
    "fileout = file.path(figDir, \"ADONIS_Exp2_FungalSpecies.csv\")\n",
    "write.table(tabout, file = fileout, sep = ',', row.names = TRUE)"
   ]
  },
  {
   "cell_type": "markdown",
   "metadata": {},
   "source": [
    "# Just core hyphae, treatment effects"
   ]
  },
  {
   "cell_type": "code",
   "execution_count": null,
   "metadata": {
    "scrolled": false
   },
   "outputs": [],
   "source": [
    "ps.b = subset_samples(ps.snorm, SampleType %in% c(\"CH\") & Soil != \"Pendelton\" & Experiment == 2)\n",
    "ordu = ordinate(ps.b, \"PCoA\", \"unifrac\", weighted=TRUE)\n",
    "p = plot_ordination(ps.b, ordu, justDF = TRUE)\n",
    "plot_ordination(ps.snorm, ordu)"
   ]
  },
  {
   "cell_type": "code",
   "execution_count": null,
   "metadata": {},
   "outputs": [],
   "source": [
    "cs = brewer.pal(3,\"Dark2\")[2]\n",
    "p1 = ggplot(p, aes(x = Axis.1, y = Axis.2)) +\n",
    "geom_point(aes(fill = Treatment, shape = Soil),  size = 2, color = cs) +\n",
    "theme_pub() +\n",
    "scale_shape_manual(values=c(21,22,23,24), guide = guide_legend(title = \"Soil\", ncol = 1))+\n",
    "scale_fill_manual(values = c(cs, \"White\"))+\n",
    "labs(x = \"PCoA 1 [36.7%]\", y = \"PCoA 2 [22.1%]\") +\n",
    "ggtitle(\"PCoA of Weighted UniFrac Distances\")+\n",
    "\n",
    "guides(fill=guide_legend(override.aes=list(color= c(\"Grey\", \"White\")), ncol = 1)) + \n",
    "theme(legend.position=\"bottom\")\n",
    "#facet_wrap(Fungus~Soil, ncol = 2)\n",
    "\n",
    "#color = \"grey20\",\n",
    "\n",
    "p1\n",
    "\n"
   ]
  },
  {
   "cell_type": "code",
   "execution_count": null,
   "metadata": {},
   "outputs": [],
   "source": []
  },
  {
   "cell_type": "code",
   "execution_count": null,
   "metadata": {},
   "outputs": [],
   "source": [
    "b.wunif.dist = phyloseq::distance(ps.b, \n",
    "                      method = \"unifrac\", \n",
    "                      weighted = TRUE,\n",
    "                      fast = TRUE, \n",
    "                      parallel = TRUE, \n",
    "                      normalized = FALSE)"
   ]
  },
  {
   "cell_type": "code",
   "execution_count": null,
   "metadata": {
    "scrolled": false
   },
   "outputs": [],
   "source": [
    "df = as(sample_data(ps.b), \"data.frame\")\n",
    "#df$Rep = as.factor(df$Rep)\n",
    "#df$TimePoint = as.factor(df$TimePoint)\n",
    "d = b.wunif.dist\n",
    "\n",
    "b.adonis.w = adonis(formula = d ~ as.factor(Rep) + Soil + Fungus + Treatment + Treatment:Fungus + Treatment:Soil, df, permutations = 999)\n",
    "print(\"weighted-UniFrac\")\n",
    "b.adonis.w\n",
    "Atab = b.adonis.w$aov %>% as.data.frame()\n",
    "Atab[,2:5] = round(Atab[,2:5], digits=2) \n",
    "Atab = Atab %>% select(-SumsOfSqs)\n",
    "Atab\n"
   ]
  },
  {
   "cell_type": "code",
   "execution_count": null,
   "metadata": {},
   "outputs": [],
   "source": [
    "pm1 = ggtexttable(Atab, theme = ttheme(\"blank\", base_size = 8))\n",
    "ggarrange(p1, pm1, ncol = 2, widths = c(1.5, 1))"
   ]
  },
  {
   "cell_type": "code",
   "execution_count": null,
   "metadata": {},
   "outputs": [],
   "source": [
    "pdf(file.path(figDir,\"wUnif_PCOA_CHxTreatment.pdf\"), useDingbats = FALSE, width = 7.31, height = 4)\n",
    "ggarrange(p1, pm1, ncol = 2)\n",
    "dev.off()"
   ]
  },
  {
   "cell_type": "markdown",
   "metadata": {},
   "source": [
    "### Try Bray-curtis"
   ]
  },
  {
   "cell_type": "code",
   "execution_count": null,
   "metadata": {},
   "outputs": [],
   "source": [
    "b.bray.dist = phyloseq::distance(ps.b, \n",
    "                      method = \"bray\", \n",
    "                      weighted = TRUE,\n",
    "                      fast = TRUE, \n",
    "                      parallel = TRUE, \n",
    "                      normalized = FALSE)"
   ]
  },
  {
   "cell_type": "code",
   "execution_count": null,
   "metadata": {},
   "outputs": [],
   "source": [
    "df = as(sample_data(ps.b), \"data.frame\")\n",
    "#df$Rep = as.factor(df$Rep)\n",
    "#df$TimePoint = as.factor(df$TimePoint)\n",
    "d = b.wunif.dist\n",
    "\n",
    "b.bray.w = adonis(formula = d ~ as.factor(Rep) + Soil + Fungus + Treatment + Treatment:Fungus + Treatment:Soil, df, permutations = 999)\n",
    "print(\"Bray-Curtis\")\n",
    "b.bray.w"
   ]
  },
  {
   "cell_type": "code",
   "execution_count": null,
   "metadata": {},
   "outputs": [],
   "source": [
    "* Treatment not a significant predictor"
   ]
  },
  {
   "cell_type": "code",
   "execution_count": null,
   "metadata": {},
   "outputs": [],
   "source": [
    "rm(ps.b)"
   ]
  },
  {
   "cell_type": "markdown",
   "metadata": {},
   "source": [
    "# Changes with time"
   ]
  },
  {
   "cell_type": "code",
   "execution_count": null,
   "metadata": {
    "scrolled": true
   },
   "outputs": [],
   "source": [
    "ps.t = subset_samples(ps.snorm, SampleType %in% c(\"CH\", \"CS\", \"BS\") & Experiment == 3)\n",
    "ordu = ordinate(ps.t, \"PCoA\", \"unifrac\", weighted=TRUE)\n",
    "p = plot_ordination(ps.t, ordu, justDF = TRUE)\n",
    "plot_ordination(ps.snorm, ordu)"
   ]
  },
  {
   "cell_type": "code",
   "execution_count": null,
   "metadata": {},
   "outputs": [],
   "source": [
    "cs = brewer.pal(5,\"YlGn\")\n",
    "p1 = ggplot(p, aes(x = Axis.1, y = Axis.2)) +\n",
    "geom_point(aes(shape = as.factor(SampleType), fill = as.factor(TimePoint)),  size = 2) +\n",
    "theme_pub() +\n",
    "scale_shape_manual(values=c(21,22,23), guide = guide_legend(title = \"Sample Type\", ncol = 1))+\n",
    "scale_fill_manual(values = cs)+\n",
    "labs(x = \"PCoA 1 [49.4%]\", y = \"PCoA 2 [19.1%]\") +\n",
    "\n",
    "guides(fill=guide_legend(override.aes=list(colour= cs), ncol = 2)) + \n",
    "theme(legend.position=\"bottom\") \n",
    "p1\n",
    "pt = p1"
   ]
  },
  {
   "cell_type": "code",
   "execution_count": null,
   "metadata": {},
   "outputs": [],
   "source": [
    "pdf(file.path(figDir,\"wUnif_PCOA_time.pdf\"), useDingbats = FALSE, width = 3.14, height = 3)\n",
    "p1\n",
    "dev.off()\n",
    "rm(p1)"
   ]
  },
  {
   "cell_type": "code",
   "execution_count": null,
   "metadata": {},
   "outputs": [],
   "source": [
    "t.wunif.dist = phyloseq::distance(ps.t, \n",
    "                      method = \"unifrac\", \n",
    "                      weighted = TRUE,\n",
    "                      fast = TRUE, \n",
    "                      parallel = TRUE, \n",
    "                      normalized = FALSE)"
   ]
  },
  {
   "cell_type": "code",
   "execution_count": null,
   "metadata": {},
   "outputs": [],
   "source": [
    "df = as(sample_data(ps.t), \"data.frame\")\n",
    "#df$Rep = as.factor(df$Rep)\n",
    "#df$TimePoint = as.factor(df$TimePoint)\n",
    "d = t.wunif.dist\n",
    "\n",
    "t.adonis.w = adonis(formula = d ~ as.factor(Rep) + SampleType + as.factor(DAI) + as.factor(DAI):SampleType , df, permutations = 999)\n",
    "print(\"weighted-UniFrac\")\n",
    "t.adonis.w"
   ]
  },
  {
   "cell_type": "code",
   "execution_count": null,
   "metadata": {},
   "outputs": [],
   "source": [
    "tabout = t.adonis.w$aov.tab\n",
    "tabout[,2:5] = round(tabout[,2:5], 2)\n",
    "tabout\n",
    "\n"
   ]
  },
  {
   "cell_type": "code",
   "execution_count": null,
   "metadata": {},
   "outputs": [],
   "source": [
    "fileout = file.path(figDir, \"ADONIS_Exp3_CHCSBS.csv\")\n",
    "write.table(tabout, file = fileout, sep = ',', row.names = TRUE)"
   ]
  },
  {
   "cell_type": "markdown",
   "metadata": {},
   "source": [
    "# Multipanel for publication\n"
   ]
  },
  {
   "cell_type": "code",
   "execution_count": null,
   "metadata": {},
   "outputs": [],
   "source": [
    "require(cowplot)\n",
    "\n",
    "pdf(file.path(figDir,\"MultPanel2_a-b.pdf\"), useDingbats = FALSE, width = 7.086, height = 3.3)\n",
    "plot_grid(pf, pt, ncol = 2, align = \"h\")\n",
    "dev.off()"
   ]
  }
 ],
 "metadata": {
  "kernelspec": {
   "display_name": "R",
   "language": "R",
   "name": "ir"
  },
  "language_info": {
   "codemirror_mode": "r",
   "file_extension": ".r",
   "mimetype": "text/x-r-source",
   "name": "R",
   "pygments_lexer": "r",
   "version": "3.6.0"
  }
 },
 "nbformat": 4,
 "nbformat_minor": 2
}
