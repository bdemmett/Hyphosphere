{
 "cells": [
  {
   "cell_type": "markdown",
   "metadata": {},
   "source": [
    "# Time series heat map\n",
    "* Fig. 3c"
   ]
  },
  {
   "cell_type": "code",
   "execution_count": null,
   "metadata": {},
   "outputs": [],
   "source": [
    "figDir = '~/Hyphosphere/data/3Exp/figures'\n",
    "\n",
    "work_dir = '~/Hyphosphere/data/3Exp/DESeq'\n",
    "\n",
    "# phyloseq - full object without tree (includes archaea)\n",
    "physeq_file = '~/Hyphosphere/data/3Exp/phyloseq/3Exp_phyloseq_thresh_woTree_experimental_woContam.rds'"
   ]
  },
  {
   "cell_type": "code",
   "execution_count": null,
   "metadata": {},
   "outputs": [],
   "source": [
    "library(RColorBrewer)\n",
    "library(vegan)\n",
    "library(reshape2)\n",
    "library(phyloseq)\n",
    "library(gridExtra)\n",
    "library(ggplot2)\n",
    "library(DESeq2)\n",
    "library(pheatmap)\n",
    "library(tidyr)\n",
    "library(dplyr)"
   ]
  },
  {
   "cell_type": "code",
   "execution_count": null,
   "metadata": {},
   "outputs": [],
   "source": [
    "theme_pub = function (base_size = 11, base_family = \"Arial\") \n",
    "{\n",
    "    theme_grey(base_size = base_size, base_family = base_family) %+replace% \n",
    "        theme(\n",
    "            axis.line.x = element_line(size = .5),\n",
    "            axis.line.y = element_line(size = .5),\n",
    "            panel.background = element_rect(fill = \"white\", colour = NA), \n",
    "            panel.border = element_rect(fill = NA, color = \"black\", size = .5), \n",
    "            panel.grid.major = element_blank(), \n",
    "            panel.grid.minor = element_blank(), \n",
    "            strip.background = element_rect(fill = \"grey85\", \n",
    "                colour = \"grey20\"), \n",
    "            legend.key = element_rect(fill = \"white\", \n",
    "                colour = NA), complete = TRUE)\n",
    "    }"
   ]
  },
  {
   "cell_type": "code",
   "execution_count": null,
   "metadata": {},
   "outputs": [],
   "source": [
    "ps = readRDS(physeq_file) %>% subset_taxa(., !is.na(Phylum)) %>%\n",
    "    # remove non-experimental controls\n",
    "    \n",
    "    subset_samples(., SampleType %in% c(\"CS\",\"CH\") & Experiment == 3 & !Sample == \"T0R1\") %>%\n",
    "     filter_taxa(., function(x) max(x) > 0, TRUE)\n",
    "   \n",
    "sample_data(ps)$Rep = as.factor(sample_data(ps)$Rep)\n",
    "\n",
    "sample_data(ps)$Rep = factor(sample_data(ps)$Rep)\n",
    "sample_data(ps)$DAI = factor(sample_data(ps)$DAI)\n",
    "\n",
    "ps\n",
    "\n",
    "\n",
    "                                  \n"
   ]
  },
  {
   "cell_type": "code",
   "execution_count": null,
   "metadata": {},
   "outputs": [],
   "source": [
    "taxa = tax_table(ps) %>% as.data.frame() %>% mutate(ASV = row.names(.))\n",
    "head(taxa)"
   ]
  },
  {
   "cell_type": "code",
   "execution_count": null,
   "metadata": {
    "scrolled": false
   },
   "outputs": [],
   "source": [
    "sample_data(ps)$SoilxFungus = paste(sample_data(ps)$Soil,\"-\",sample_data(ps)$Fungus, sep = \"\")\n",
    "sample_data(ps) %>% head()\n"
   ]
  },
  {
   "cell_type": "markdown",
   "metadata": {},
   "source": [
    "\n",
    "## read back in log2foldchange files"
   ]
  },
  {
   "cell_type": "code",
   "execution_count": null,
   "metadata": {},
   "outputs": [],
   "source": [
    "readfile = file.path(work_dir, 'dfl2fc-Exp3.txt')\n",
    "df.l2fc.Exp3 = read.table(readfile, header = TRUE, sep= '\\t')\n",
    "\n",
    "readfile = file.path(work_dir, 'dfl2fc-Exp3-time.txt')\n",
    "df.l2fc.Exp3.time = read.table(readfile, header = TRUE, sep= '\\t')\n",
    "\n",
    "head(df.l2fc.Exp3.time)"
   ]
  },
  {
   "cell_type": "markdown",
   "metadata": {},
   "source": [
    "# Which ASVs are time specific"
   ]
  },
  {
   "cell_type": "markdown",
   "metadata": {},
   "source": [
    "# Which Hyphal ASVs change with time"
   ]
  },
  {
   "cell_type": "code",
   "execution_count": null,
   "metadata": {},
   "outputs": [],
   "source": [
    "HASVs = df.l2fc.Exp3 %>%\n",
    "    filter(Contrast == \"CH_CS\" & padj < 0.05 & log2FoldChange > 0 & Subset == \"Lansing-Gv\") %>%\n",
    "    .$OTU %>% \n",
    "    as.character() %>%\n",
    "    unique()\n",
    "length(HASVs)\n",
    "\n",
    "df.THASVs = df.l2fc.Exp3.time %>%\n",
    "    filter(SampleType == \"CH\" & padj < 0.05 & OTU %in% HASVs) %>%\n",
    "     .$OTU %>%\n",
    "    unique() %>% \n",
    "    as.character()\n",
    "length(df.THASVs)"
   ]
  },
  {
   "cell_type": "markdown",
   "metadata": {},
   "source": [
    "# Heat map of variance stabilized counts"
   ]
  },
  {
   "cell_type": "markdown",
   "metadata": {},
   "source": [
    "### CH CS"
   ]
  },
  {
   "cell_type": "code",
   "execution_count": null,
   "metadata": {},
   "outputs": [],
   "source": [
    "psCHCS = readRDS(physeq_file) %>% subset_taxa(., !is.na(Phylum)) %>%\n",
    "    # remove non-experimental controls\n",
    "    \n",
    "    subset_samples(., SampleType %in% c(\"CS\",\"CH\") & Experiment == 3 & !Sample == \"T0R1\") %>%\n",
    "     filter_taxa(., function(x) max(x) > 0, TRUE)\n",
    "     # re-normalize after subsetting taxa\n",
    "    #transform_sample_counts(., function(x) x/sum(x))\n",
    "sample_data(psCHBS)$Rep = as.factor(sample_data(psCHBS)$Rep)\n",
    "\n",
    "psCHCS\n",
    "\n",
    "\n",
    "                                  \n"
   ]
  },
  {
   "cell_type": "code",
   "execution_count": null,
   "metadata": {},
   "outputs": [],
   "source": [
    "sample_data(ps)$Rep = factor(sample_data(ps)$Rep)\n",
    "sample_data(ps)$DAI = factor(sample_data(ps)$DAI)\n",
    "\n",
    "dds = phyloseq_to_deseq2(ps, ~ Rep + SampleType + DAI + SampleType:DAI)\n",
    "\n",
    "#save variance stabilized counts\n",
    "vst = varianceStabilizingTransformation(dds, blind=FALSE)\n",
    "\n",
    "\n",
    "outfile = file.path(work_dir, 'DESeqObject_Exp2CHCS_vsttrans.rds')\n",
    "\n",
    "saveRDS(vst, file = outfile)"
   ]
  },
  {
   "cell_type": "markdown",
   "metadata": {},
   "source": [
    "# Checkpoint read vst transformed deseq object\n",
    "## CHCS"
   ]
  },
  {
   "cell_type": "code",
   "execution_count": null,
   "metadata": {},
   "outputs": [],
   "source": [
    "vstCHCS = readRDS(file.path(work_dir, 'DESeqObject_Exp2CHCS_vsttrans.rds'))"
   ]
  },
  {
   "cell_type": "code",
   "execution_count": null,
   "metadata": {},
   "outputs": [],
   "source": [
    "#get list of only hyphal samples\n",
    "CHsamples = sample_data(ps) %>% as(.,\"data.frame\") %>% filter(SampleType == \"CH\") %>%  .$Sample %>% as.character()\n",
    "\n",
    "##Cut matrix to hyphal samples and get rownames for most abundant taxa in CH samples\n",
    "mat = assay(vstCHCS[HASVs,])\n",
    "\n",
    "topHASVs = mat[order(rowSums(mat),decreasing=T),] %>% rownames() %>%.[1:50]\n",
    "topHASVs"
   ]
  },
  {
   "cell_type": "code",
   "execution_count": null,
   "metadata": {},
   "outputs": [],
   "source": [
    "\n",
    "# get list to arrange columns of matrix\n",
    "\n",
    "col.order = sample_data(ps) %>% as(.,\"data.frame\") %>%  arrange(SampleType,DAI) %>% .$Sample %>% as.character()\n",
    "\n",
    "# filter to ASVs of interest and arrange according to taxonomy\n",
    "# this order is not used in final figure\n",
    "\n",
    "row.order = taxa %>% \n",
    "    filter(ASV %in% topHASVs) %>% \n",
    "    arrange(Kingdom, Phylum, Class, Order, Family, Genus) %>%\n",
    "    .$ASV %>% as.character()\n",
    "\n",
    "\n",
    "# convert variance stabilized counts to matrix\n",
    "mat = assay(vstCHCS[row.order,col.order])\n",
    "#mat = mat - rowMeans(mat)\n",
    "#head(mat)\n",
    "\n",
    "#Create dataframe for row annotations \n",
    "PhylumAnno = rownames(mat) %>% \n",
    "    as.data.frame() %>% \n",
    "    'colnames<-'('ASV') %>%\n",
    "    left_join(., taxa, by = \"ASV\") %>% \n",
    "    'rownames<-'(.$ASV) %>% \n",
    "    select(Phylum)\n",
    "\n",
    "# Create dataframe for row labels\n",
    "LabelAnno = rownames(mat) %>% \n",
    "    as.data.frame() %>% \n",
    "    'colnames<-'('ASV') %>%\n",
    "    left_join(., taxa, by = \"ASV\") %>% \n",
    "    'rownames<-'(.$ASV) %>% \n",
    "    unite_(col='Label', c(\"Family\",\"Genus\"), sep=\"_\", remove=FALSE) %>%\n",
    "    select(Label)\n",
    "\n",
    "#Create dataframe for row annotations based on phylum\n",
    "\n",
    "#create annotation dataframe\n",
    "anno = sample_data(ps) %>% as(.,'data.frame') %>% arrange(SampleType, DAI) %>% .[,c(\"SampleType\",\"DAI\")]\n",
    "#colnames(anno) = 'DAI'\n",
    "rownames(anno) = colnames(mat)\n",
    "\n",
    "#anno <- as.data.frame(colData(vst)[, 'DAI'])\n",
    "ph = pheatmap(mat, cluster_cols = F, cluster_rows = F, annotation_col = anno, annotation_row = PhylumAnno, \n",
    "         labels_row = LabelAnno$Label, labels_col = anno$DAI, gaps_col = c(6,12,18, 23, 29, 35, 41, 47, 53), cutree_rows = 4)\n",
    "\n",
    "pdf(file = file.path(figDir,'HeatMap_Time_CSCH.pdf'), width = 6.89, height = 7)\n",
    "ph\n",
    "dev.off()\n",
    "#pheatmap(mat, annotation_col = anno)\n"
   ]
  },
  {
   "cell_type": "code",
   "execution_count": null,
   "metadata": {},
   "outputs": [],
   "source": [
    "# get list to arrange columns of matrix\n",
    "\n",
    "sample.order = sample_data(ps) %>% as(.,\"data.frame\") %>%  arrange(desc(SampleType),DAI) %>% .$Sample %>% as.character()\n",
    "\n",
    "# filter to ASVs of interest and arrange according to taxonomy\n",
    "tax.order = taxa %>% \n",
    "    filter(ASV %in% topHASVs) %>% \n",
    "    arrange(Kingdom, Phylum, Class, Order, Family, Genus) %>%\n",
    "    .$ASV %>% as.character()\n",
    "\n",
    "\n",
    "# convert variance stabilized counts to matrix\n",
    "mat = t(assay(vstCHBS[tax.order,sample.order]))\n",
    "#mat = mat - rowMeans(mat)\n",
    "head(mat)\n",
    "\n",
    "#Create dataframe for row annotations \n",
    "PhylumAnno = colnames(mat) %>%\n",
    "     as.data.frame() %>% \n",
    "     'colnames<-'('ASV') %>%\n",
    "   left_join(., taxa, by = \"ASV\") %>% \n",
    "    'rownames<-'(.$ASV) %>% \n",
    "    select(Phylum)\n",
    "PhylumAnno\n",
    "\n",
    "# Create dataframe for taxa labels\n",
    "LabelAnno = colnames(mat) %>% \n",
    "    as.data.frame() %>% \n",
    "    'colnames<-'('ASV') %>%\n",
    "    left_join(., taxa, by = \"ASV\") %>% \n",
    "    'rownames<-'(.$ASV) %>% \n",
    "    unite_(col='Label', c(\"Family\",\"Genus\"), sep=\"_\", remove=FALSE) %>%\n",
    "    select(Label)\n",
    "LabelAnno"
   ]
  },
  {
   "cell_type": "code",
   "execution_count": null,
   "metadata": {},
   "outputs": [],
   "source": [
    "#create annotation dataframe\n",
    "anno = sample_data(ps) %>% as(.,'data.frame') %>% arrange(SampleType, DAI) %>% .[,c(\"SampleType\",\"DAI\")]\n",
    "anno\n",
    "#colnames(anno) = 'DAI'\n",
    "#rownames(anno) = colnames(mat)"
   ]
  },
  {
   "cell_type": "code",
   "execution_count": null,
   "metadata": {
    "scrolled": true
   },
   "outputs": [],
   "source": [
    "ph = pheatmap(mat, cluster_cols = T, cluster_rows = F, labels_col = LabelAnno$Label,\n",
    "             annotation_col = PhylumAnno, annotation_row = anno, labels_row = anno$DAI, \n",
    "              gaps_row = c(6,12,18, 23, 29, 35, 41, 47, 53), cutree_cols = 6) "
   ]
  },
  {
   "cell_type": "code",
   "execution_count": null,
   "metadata": {},
   "outputs": [],
   "source": [
    "\n",
    "pdf(file = file.path(figDir,'HeatMap_Time_CSCH_horizontal.pdf'), width = 8.086, height = 6)\n",
    "ph\n",
    "dev.off()\n",
    "#pheatmap(mat, annotation_col = anno)"
   ]
  },
  {
   "cell_type": "code",
   "execution_count": null,
   "metadata": {},
   "outputs": [],
   "source": [
    "map.order = colnames(mat[,ph$tree_col[[\"order\"]]])\n",
    "map.order"
   ]
  },
  {
   "cell_type": "code",
   "execution_count": null,
   "metadata": {
    "scrolled": true
   },
   "outputs": [],
   "source": [
    "tmp = df.l2fc.Exp3 %>% filter(OTU %in% tax.order & Contrast == 'CH_CS') %>%\n",
    "        mutate(sig = ifelse(padj < 0.05 & log2FoldChange > 0, 1, \n",
    "                           ifelse(padj < 0.05 & log2FoldChange <0, 2, 3))) %>%\n",
    "        mutate(sig = ifelse(is.na(sig), 3, sig)) %>%\n",
    "        select(OTU, DAI, sig) %>%\n",
    "        dcast(DAI~OTU)\n",
    "\n",
    "rownames(tmp) = tmp$DAI\n",
    "tmp = tmp %>% select(-DAI)\n",
    "tmp"
   ]
  },
  {
   "cell_type": "code",
   "execution_count": null,
   "metadata": {},
   "outputs": [],
   "source": [
    "sig.mat = as.matrix(tmp[,map.order])\n",
    "sig.mat\n",
    "\n",
    "#pheatmap(sig.mat) \n",
    "ph2 = pheatmap(sig.mat, cluster_cols = F, cluster_rows = F, color = c(\"Red\", \"Yellow\", \"White\"), breaks = c(0,1,2,3),\n",
    "             annotation_col = PhylumAnno,\n",
    "              gaps_col = c(15,26,30,40,45))"
   ]
  },
  {
   "cell_type": "code",
   "execution_count": null,
   "metadata": {},
   "outputs": [],
   "source": [
    "pdf(file = file.path(figDir,'HeatMap_TimeSig_CSCH_horizontal.pdf'), width = 7.75, height = 1.3)\n",
    "ph2\n",
    "dev.off()"
   ]
  },
  {
   "cell_type": "code",
   "execution_count": null,
   "metadata": {},
   "outputs": [],
   "source": [
    "\n",
    "\n",
    "pdf(file = file.path(figDir,'HeatMap_Time_CSCH_horizontal.pdf'), width = 8.086, height = 6)\n",
    "ph\n",
    "dev.off()\n",
    "#pheatmap(mat, annotation_col = anno)"
   ]
  }
 ],
 "metadata": {
  "kernelspec": {
   "display_name": "R",
   "language": "R",
   "name": "ir"
  },
  "language_info": {
   "codemirror_mode": "r",
   "file_extension": ".r",
   "mimetype": "text/x-r-source",
   "name": "R",
   "pygments_lexer": "r",
   "version": "3.6.0"
  }
 },
 "nbformat": 4,
 "nbformat_minor": 2
}
