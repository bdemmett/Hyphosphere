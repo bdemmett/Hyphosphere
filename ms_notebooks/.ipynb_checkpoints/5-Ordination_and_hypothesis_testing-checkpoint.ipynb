{
 "cells": [
  {
   "cell_type": "markdown",
   "metadata": {},
   "source": [
    "# Generate ordinations and permanovas for hyphal communities manuscript"
   ]
  },
  {
   "cell_type": "code",
   "execution_count": null,
   "metadata": {},
   "outputs": [],
   "source": [
    "figDir = '~/Hyphosphere/data/3Exp/figures/final'\n",
    "\n",
    "# phyloseq - full object with tree (does not include archaea); needs MREs removed\n",
    "physeq_file = '~/Hyphosphere/data/3Exp/phyloseq/final/3Exp_phyloseq_thresh_wtree_experimental_woContam.rds'"
   ]
  },
  {
   "cell_type": "code",
   "execution_count": null,
   "metadata": {},
   "outputs": [],
   "source": [
    "library(RColorBrewer)\n",
    "library(vegan)\n",
    "library(ggpubr)\n",
    "library(tidyr)\n",
    "library(dplyr)\n",
    "library(reshape2)\n",
    "library(phyloseq)\n",
    "library(gridExtra)\n",
    "library(ggplot2)\n",
    "library(foreach)\n",
    "library(doParallel)\n"
   ]
  },
  {
   "cell_type": "code",
   "execution_count": null,
   "metadata": {},
   "outputs": [],
   "source": [
    "theme_pub = function (base_size = 8, base_family = \"Helvetica\") \n",
    "{\n",
    "    theme_grey(base_size = base_size, base_family = base_family) %+replace% \n",
    "        theme(\n",
    "            axis.line.x = element_line(size = .5),\n",
    "            axis.line.y = element_line(size = .5),\n",
    "            axis.text = element_text(size = base_size),\n",
    "            panel.background = element_rect(fill = \"white\", colour = NA), \n",
    "            panel.border = element_rect(fill = NA, color = \"black\", size = .5), \n",
    "            panel.grid.major = element_blank(), \n",
    "            panel.grid.minor = element_blank(), \n",
    "            strip.background = element_rect(fill = \"grey85\", \n",
    "                colour = \"grey20\"), \n",
    "            legend.key = element_rect(fill = \"white\", \n",
    "                colour = NA), complete = TRUE,\n",
    "            legend.text = element_text(size = base_size),\n",
    "            legend.title = element_text(face = \"bold\"))\n",
    "    \n",
    "    }"
   ]
  },
  {
   "cell_type": "code",
   "execution_count": null,
   "metadata": {},
   "outputs": [],
   "source": [
    "ps = readRDS(physeq_file)\n",
    "ps = subset_taxa(ps, !is.na(\"Phylum\"))\n",
    "\n",
    "\n",
    "tax_table(ps) %>% head()\n",
    "ps = subset_taxa(ps, Kingdom == \"Bacteria\" &  !is.na(Phylum))\n",
    "ps = subset_samples(ps, !SampleType %in% c(\"EB\", \"PB\", \"MK\")) #remove non-experimental controls\n",
    "\n",
    "# re-normalize after subsetting taxa\n",
    "ps.snorm = transform_sample_counts(ps, function(x) x/sum(x))\n",
    "\n",
    "otu_table(ps.snorm)[1:4, 1:10]\n",
    "tax_table(ps.snorm) %>% tail()\n",
    "\n",
    "ps.snorm\n",
    "                                  \n"
   ]
  },
  {
   "cell_type": "markdown",
   "metadata": {},
   "source": [
    "# Experiment 1 & 2 primary analysis"
   ]
  },
  {
   "cell_type": "code",
   "execution_count": null,
   "metadata": {},
   "outputs": [],
   "source": [
    "ps.s = ps.snorm %>% subset_samples(Experiment %in% c(1, 2) & \n",
    "                                   SampleType %in% c(\"CS\", \"CH\", \"BS\") & Fungus == \"Gv\" & Soil != \"Sand\" &\n",
    "                                  Treatment == 'HN')"
   ]
  },
  {
   "cell_type": "code",
   "execution_count": null,
   "metadata": {},
   "outputs": [],
   "source": [
    "registerDoParallel(makeCluster(20))"
   ]
  },
  {
   "cell_type": "code",
   "execution_count": null,
   "metadata": {},
   "outputs": [],
   "source": [
    "wunif.dist = phyloseq::distance(ps.s, \n",
    "                      method = \"unifrac\", \n",
    "                      weighted = TRUE,\n",
    "                      fast = TRUE, \n",
    "                      parallel = TRUE, \n",
    "                      normalized = FALSE)\n"
   ]
  },
  {
   "cell_type": "code",
   "execution_count": null,
   "metadata": {},
   "outputs": [],
   "source": [
    "set.seed(101)\n",
    "\n",
    "df = as(sample_data(ps.s), \"data.frame\")\n",
    "df$Rep = as.factor(df$Rep)\n",
    "df$TimePoint = as.factor(df$TimePoint)\n",
    "d = wunif.dist\n",
    "\n",
    "adonis.w = adonis(formula = d ~Soil + SampleType + SampleType:Soil + Experiment + Experiment:SampleType + Soil:Experiment, df, permutations = 999)\n",
    "print(\"weighted-UniFrac\")\n",
    "adonis.w"
   ]
  },
  {
   "cell_type": "code",
   "execution_count": null,
   "metadata": {},
   "outputs": [],
   "source": [
    "ordu = ordinate(ps.s, \"PCoA\", \"unifrac\", weighted=TRUE)\n",
    "p = plot_ordination(ps.s, ordu, justDF = TRUE)\n",
    "plot_ordination(ps.s, ordu)"
   ]
  },
  {
   "cell_type": "code",
   "execution_count": null,
   "metadata": {
    "scrolled": false
   },
   "outputs": [],
   "source": [
    "#setwd(figDir)\n",
    "cs = brewer.pal(3,\"Dark2\")\n",
    "p1 = ggplot(p, aes(x = Axis.1, y = Axis.2)) +\n",
    "geom_point(aes(shape = as.factor(Soil), fill = SampleType, color = as.factor(Experiment)),  size = 3, stroke = 1.5) +\n",
    "theme_pub() +\n",
    "scale_shape_manual(values=c(22,21,23), guide = guide_legend(title = \"Soil\", ncol = 1))+\n",
    "scale_color_manual(values=c('Orange','Black'))+\n",
    "scale_fill_manual(values = cs, labels = c(\"Bulk soil\", \"Core hyphae\", \"Core slurry\"))+\n",
    "labs(x = \"PCoA 1 [37.0%]\", y = \"PCoA 2 [12.9%]\") +\n",
    "ggtitle(\"PCoA of Weighted UniFrac Distances\")+\n",
    "#facet_wrap(~Experiment, ncol = 2)\n",
    "\n",
    "guides(fill=guide_legend(override.aes=list(colour= cs), ncol = 3)) + \n",
    "theme(legend.position=\"bottom\") \n",
    "\n",
    "#color = \"grey20\",\n",
    "\n",
    "p1\n",
    "\n",
    "pdf(file.path(figDir,\"Exp1-2_wUnif_PCOA_BSCHCS.pdf\"), useDingbats = FALSE, width = 4.5, height = 4.5)\n",
    "p1\n",
    "dev.off()"
   ]
  },
  {
   "cell_type": "markdown",
   "metadata": {},
   "source": [
    "# Compare bulk soil vs bulk hyphosphere\n",
    "* not presented in ms"
   ]
  },
  {
   "cell_type": "code",
   "execution_count": null,
   "metadata": {},
   "outputs": [],
   "source": [
    "ps.b = subset_samples(ps.snorm, SampleType %in% c(\"BS\", \"BH\") & Experiment == 2 & Sample != \"GVN7HP4-BH\")"
   ]
  },
  {
   "cell_type": "code",
   "execution_count": null,
   "metadata": {},
   "outputs": [],
   "source": [
    "b.wunif.dist = phyloseq::distance(ps.b, \n",
    "                      method = \"unifrac\", \n",
    "                      weighted = TRUE,\n",
    "                      fast = TRUE, \n",
    "                      parallel = TRUE, \n",
    "                                  \n",
    "                      normalized = FALSE)"
   ]
  },
  {
   "cell_type": "code",
   "execution_count": null,
   "metadata": {},
   "outputs": [],
   "source": [
    "ordu = ordinate(ps.b, \"PCoA\", \"unifrac\", weighted=TRUE)\n",
    "p = plot_ordination(ps.b, ordu, justDF = TRUE)\n",
    "plot_ordination(ps.b, ordu)"
   ]
  },
  {
   "cell_type": "code",
   "execution_count": null,
   "metadata": {
    "scrolled": true
   },
   "outputs": [],
   "source": [
    "\n",
    "cs = brewer.pal(7,\"Dark2\")\n",
    "p1 = ggplot(p, aes(x = Axis.1, y = Axis.2)) +\n",
    "geom_point(aes(shape = as.factor(Soil), fill = SampleType),  size = 2) +\n",
    "theme_pub() +\n",
    "scale_shape_manual(values=c(21,22,23), guide = guide_legend(title = \"Soil\", ncol = 1))+\n",
    "scale_fill_manual(values = cs[c(1,3)], labels = c(\"Bulk hyphosphere\", \"Bulk soil\"))+\n",
    "labs(x = \"PCoA 1 [41.6%]\", y = \"PCoA 2 [13.1%]\") +\n",
    "ggtitle(\"PCoA of Weighted UniFrac Distances\")+\n",
    "\n",
    "guides(fill=guide_legend(override.aes=list(colour= cs[c(1,3)]), ncol = 1)) + \n",
    "theme(legend.position=\"bottom\") +\n",
    "facet_wrap(~Fungus, ncol = 2)\n",
    "\n",
    "\n",
    "\n",
    "p1\n",
    "\n",
    "#pdf(file.path(figDir,\"wUnif_PCOA_BSBH.pdf\"), useDingbats = FALSE, width = 4.5, height = 3)\n",
    "#p1\n",
    "#dev.off()"
   ]
  },
  {
   "cell_type": "code",
   "execution_count": null,
   "metadata": {},
   "outputs": [],
   "source": [
    "set.seed(101)\n",
    "\n",
    "df = as(sample_data(ps.b), \"data.frame\")\n",
    "df$Rep = as.factor(df$Rep)\n",
    "df$TimePoint = as.factor(df$TimePoint)\n",
    "d = b.wunif.dist\n",
    "\n",
    "b.adonis.w = adonis(formula = d ~ Rep + Soil + SampleType + Soil:SampleType + Fungus + Fungus:SampleType, df, permutations = 999)\n",
    "print(\"weighted-UniFrac\")\n",
    "b.adonis.w\n",
    "\n"
   ]
  },
  {
   "cell_type": "markdown",
   "metadata": {},
   "source": [
    "# Additional controls - Fig. S4"
   ]
  },
  {
   "cell_type": "code",
   "execution_count": null,
   "metadata": {},
   "outputs": [],
   "source": [
    "ps.s = ps.snorm %>% subset_samples(Experiment == 2 & Fungus == \"Gv\" & SampleType != \"RT\")"
   ]
  },
  {
   "cell_type": "code",
   "execution_count": null,
   "metadata": {},
   "outputs": [],
   "source": [
    "ordu = ordinate(ps.s, \"PCoA\", \"unifrac\", weighted=TRUE)\n",
    "p = plot_ordination(ps.s, ordu, justDF = TRUE)\n",
    "plot_ordination(ps.s, ordu)"
   ]
  },
  {
   "cell_type": "code",
   "execution_count": null,
   "metadata": {},
   "outputs": [],
   "source": [
    "brewer.pal(7,\"Dark2\")\n",
    "\n",
    "cs = c('#66a61e', #BH\n",
    "       '#e7298a', #BP\n",
    "       '#1b9e77', #BS\n",
    "       \n",
    "        '#d95f02', #CH, \n",
    "       '#7570b3', #CS,\n",
    "       \"#e6ab02\", #RH\n",
    "       \"#a6761d\") #RS"
   ]
  },
  {
   "cell_type": "code",
   "execution_count": null,
   "metadata": {},
   "outputs": [],
   "source": [
    "\n",
    "\n",
    "p1 = ggplot(p, aes(x = Axis.1, y = Axis.2)) +\n",
    "geom_point(aes(shape = Soil, fill = SampleType,  size = 2, stroke = 1.2)) +\n",
    "theme_pub() +\n",
    "scale_shape_manual(values=c(21,22,23), guide = guide_legend(title = \"Soil\", ncol = 2))+\n",
    "scale_fill_manual(values = cs)+\n",
    "#scale_color_manual(values=c('Light Grey','Black'))+\n",
    "labs(x = \"PCoA 1 [44.2%]\", y = \"PCoA 2 [12.2%]\") +\n",
    "#ggtitle(\"PCoA of Weighted UniFrac Distances\")+\n",
    "\n",
    "guides(fill=guide_legend(override.aes=list(colour= cs), ncol = 4)) + \n",
    "theme(legend.position=\"bottom\") \n",
    "\n",
    "#color = \"grey20\",\n",
    "\n",
    "p1\n",
    "\n",
    "pdf(file = file.path(figDir,'Exp1_2_FullOrdination.pdf'), width = 7.086, height = 5, useDingbats = FALSE)\n",
    "p1\n",
    "dev.off()\n"
   ]
  },
  {
   "cell_type": "markdown",
   "metadata": {},
   "source": [
    "# Test fungal species \n",
    "* Fig. 3a and Table 2"
   ]
  },
  {
   "cell_type": "code",
   "execution_count": null,
   "metadata": {},
   "outputs": [],
   "source": [
    "ps.s = subset_samples(ps.snorm, SampleType %in% c(\"BS\",\"CS\",\"CH\") & Soil == \"Dryden\" & Experiment == 2)"
   ]
  },
  {
   "cell_type": "code",
   "execution_count": null,
   "metadata": {},
   "outputs": [],
   "source": [
    "sample_data(ps.s) %>% head()"
   ]
  },
  {
   "cell_type": "code",
   "execution_count": null,
   "metadata": {},
   "outputs": [],
   "source": [
    "ordu = ordinate(ps.s, \"PCoA\", \"unifrac\", weighted=TRUE)\n",
    "p = plot_ordination(ps.s, ordu, justDF = TRUE)\n",
    "plot_ordination(ps.s, ordu)"
   ]
  },
  {
   "cell_type": "code",
   "execution_count": null,
   "metadata": {},
   "outputs": [],
   "source": [
    "cs = brewer.pal(3,\"Dark2\")\n",
    "p1 = ggplot(p, aes(x = Axis.1, y = Axis.2)) +\n",
    "geom_point(aes(shape = as.factor(Fungus), fill = SampleType),  size = 2, stroke = 1.5) +\n",
    "theme_pub() +\n",
    "scale_shape_manual(values=c(21,22), guide = guide_legend(title = \"Treatment\", ncol = 1))+\n",
    "scale_fill_manual(values = cs, labels = c(\"Bulk soil\", \"Core hyphae\", \"Core slurry\"))+\n",
    "labs(x = \"PCoA 1 [70%]\", y = \"PCoA 2 [8.9%]\") +\n",
    "\n",
    "guides(fill=guide_legend(override.aes=list(colour= cs, ncol = 1))) + \n",
    "theme(legend.position=\"bottom\")\n",
    "\n",
    "#color = \"grey20\",\n",
    "\n",
    "p1\n",
    "pf = p1\n",
    "pdf(file.path(figDir,\"wUnif_PCOA_CHCSxFungus.pdf\"), useDingbats = FALSE, width = 3.14, height = 3)\n",
    "p1\n",
    "dev.off()\n",
    "rm(p1)"
   ]
  },
  {
   "cell_type": "code",
   "execution_count": null,
   "metadata": {},
   "outputs": [],
   "source": [
    "s.wunif.dist = phyloseq::distance(ps.s, \n",
    "                      method = \"unifrac\", \n",
    "                      weighted = TRUE,\n",
    "                      fast = TRUE, \n",
    "                      parallel = TRUE, \n",
    "                      normalized = FALSE)"
   ]
  },
  {
   "cell_type": "code",
   "execution_count": null,
   "metadata": {},
   "outputs": [],
   "source": [
    "### set.seed(101)\n",
    "\n",
    "df = as(sample_data(ps.s), \"data.frame\")\n",
    "df$Rep = as.factor(df$Rep)\n",
    "df$TimePoint = as.factor(df$TimePoint)\n",
    "d = s.wunif.dist\n",
    "\n",
    "s.adonis.w = adonis(formula = d ~ as.factor(Rep) + SampleType + Fungus + Fungus:SampleType, df, permutations = 999)\n",
    "print(\"weighted-UniFrac\")\n",
    "s.adonis.w"
   ]
  },
  {
   "cell_type": "code",
   "execution_count": null,
   "metadata": {},
   "outputs": [],
   "source": [
    "tabout = s.adonis.w$aov.tab\n",
    "tabout[,2:5] = round(tabout[,2:5], 2)\n",
    "tabout\n",
    "fileout = file.path(figDir, \"ADONIS_Exp2_FungalSpecies.csv\")\n",
    "write.table(tabout, file = fileout, sep = ',', row.names = TRUE)"
   ]
  },
  {
   "cell_type": "markdown",
   "metadata": {},
   "source": [
    "# Test nutrient treatment\n",
    "* Fig. S8 "
   ]
  },
  {
   "cell_type": "code",
   "execution_count": null,
   "metadata": {
    "scrolled": false
   },
   "outputs": [],
   "source": [
    "ps.b = subset_samples(ps.snorm, SampleType %in% c(\"CH\") & Soil != \"Pendelton\" & Experiment == 2)\n",
    "ordu = ordinate(ps.b, \"PCoA\", \"unifrac\", weighted=TRUE)\n",
    "p = plot_ordination(ps.b, ordu, justDF = TRUE)\n",
    "plot_ordination(ps.snorm, ordu)"
   ]
  },
  {
   "cell_type": "code",
   "execution_count": null,
   "metadata": {},
   "outputs": [],
   "source": [
    "cs = brewer.pal(3,\"Dark2\")[2]\n",
    "p1 = ggplot(p, aes(x = Axis.1, y = Axis.2)) +\n",
    "geom_point(aes(fill = Treatment, shape = Soil),  size = 2, color = cs) +\n",
    "theme_pub() +\n",
    "scale_shape_manual(values=c(21,22,23,24), guide = guide_legend(title = \"Soil\", ncol = 1))+\n",
    "scale_fill_manual(values = c(cs, \"White\"))+\n",
    "labs(x = \"PCoA 1 [36.7%]\", y = \"PCoA 2 [22.1%]\") +\n",
    "ggtitle(\"PCoA of Weighted UniFrac Distances\")+\n",
    "\n",
    "guides(fill=guide_legend(override.aes=list(color= c(\"Grey\", \"White\")), ncol = 1)) + \n",
    "theme(legend.position=\"bottom\")\n",
    "#facet_wrap(Fungus~Soil, ncol = 2)\n",
    "\n",
    "#color = \"grey20\",\n",
    "\n",
    "p1\n",
    "\n"
   ]
  },
  {
   "cell_type": "code",
   "execution_count": null,
   "metadata": {},
   "outputs": [],
   "source": []
  },
  {
   "cell_type": "code",
   "execution_count": null,
   "metadata": {},
   "outputs": [],
   "source": [
    "b.wunif.dist = phyloseq::distance(ps.b, \n",
    "                      method = \"unifrac\", \n",
    "                      weighted = TRUE,\n",
    "                      fast = TRUE, \n",
    "                      parallel = TRUE, \n",
    "                      normalized = FALSE)"
   ]
  },
  {
   "cell_type": "code",
   "execution_count": null,
   "metadata": {
    "scrolled": false
   },
   "outputs": [],
   "source": [
    "df = as(sample_data(ps.b), \"data.frame\")\n",
    "#df$Rep = as.factor(df$Rep)\n",
    "#df$TimePoint = as.factor(df$TimePoint)\n",
    "d = b.wunif.dist\n",
    "\n",
    "b.adonis.w = adonis(formula = d ~ as.factor(Rep) + Soil + Fungus + Treatment + Treatment:Fungus + Treatment:Soil, df, permutations = 999)\n",
    "print(\"weighted-UniFrac\")\n",
    "b.adonis.w\n",
    "Atab = b.adonis.w$aov %>% as.data.frame()\n",
    "Atab[,2:5] = round(Atab[,2:5], digits=2) \n",
    "Atab = Atab %>% select(-SumsOfSqs)\n",
    "Atab\n"
   ]
  },
  {
   "cell_type": "code",
   "execution_count": null,
   "metadata": {},
   "outputs": [],
   "source": [
    "pm1 = ggtexttable(Atab, theme = ttheme(\"blank\", base_size = 8))\n",
    "ggarrange(p1, pm1, ncol = 2, widths = c(1.5, 1))"
   ]
  },
  {
   "cell_type": "code",
   "execution_count": null,
   "metadata": {},
   "outputs": [],
   "source": [
    "pdf(file.path(figDir,\"wUnif_PCOA_CHxTreatment.pdf\"), useDingbats = FALSE, width = 7.31, height = 4)\n",
    "ggarrange(p1, pm1, ncol = 2)\n",
    "dev.off()"
   ]
  },
  {
   "cell_type": "markdown",
   "metadata": {},
   "source": [
    "# Test temporal trends\n",
    "* Fig. 3b and Table 3"
   ]
  },
  {
   "cell_type": "code",
   "execution_count": null,
   "metadata": {
    "scrolled": true
   },
   "outputs": [],
   "source": [
    "ps.t = subset_samples(ps.snorm, SampleType %in% c(\"CH\", \"CS\", \"BS\") & Experiment == 3)\n",
    "ordu = ordinate(ps.t, \"PCoA\", \"unifrac\", weighted=TRUE)\n",
    "p = plot_ordination(ps.t, ordu, justDF = TRUE)\n",
    "plot_ordination(ps.snorm, ordu)"
   ]
  },
  {
   "cell_type": "code",
   "execution_count": null,
   "metadata": {},
   "outputs": [],
   "source": [
    "cs = brewer.pal(5,\"YlGn\")\n",
    "p1 = ggplot(p, aes(x = Axis.1, y = Axis.2)) +\n",
    "geom_point(aes(shape = as.factor(SampleType), fill = as.factor(TimePoint)),  size = 2) +\n",
    "theme_pub() +\n",
    "scale_shape_manual(values=c(21,22,23), guide = guide_legend(title = \"Sample Type\", ncol = 1))+\n",
    "scale_fill_manual(values = cs)+\n",
    "labs(x = \"PCoA 1 [49.4%]\", y = \"PCoA 2 [19.1%]\") +\n",
    "\n",
    "guides(fill=guide_legend(override.aes=list(colour= cs), ncol = 2)) + \n",
    "theme(legend.position=\"bottom\") \n",
    "p1\n",
    "pt = p1"
   ]
  },
  {
   "cell_type": "code",
   "execution_count": null,
   "metadata": {},
   "outputs": [],
   "source": [
    "pdf(file.path(figDir,\"wUnif_PCOA_time.pdf\"), useDingbats = FALSE, width = 3.14, height = 3)\n",
    "p1\n",
    "dev.off()\n",
    "rm(p1)"
   ]
  },
  {
   "cell_type": "code",
   "execution_count": null,
   "metadata": {},
   "outputs": [],
   "source": [
    "t.wunif.dist = phyloseq::distance(ps.t, \n",
    "                      method = \"unifrac\", \n",
    "                      weighted = TRUE,\n",
    "                      fast = TRUE, \n",
    "                      parallel = TRUE, \n",
    "                      normalized = FALSE)"
   ]
  },
  {
   "cell_type": "code",
   "execution_count": null,
   "metadata": {},
   "outputs": [],
   "source": [
    "df = as(sample_data(ps.t), \"data.frame\")\n",
    "#df$Rep = as.factor(df$Rep)\n",
    "#df$TimePoint = as.factor(df$TimePoint)\n",
    "d = t.wunif.dist\n",
    "\n",
    "t.adonis.w = adonis(formula = d ~ as.factor(Rep) + SampleType + as.factor(DAI) + as.factor(DAI):SampleType , df, permutations = 999)\n",
    "print(\"weighted-UniFrac\")\n",
    "t.adonis.w"
   ]
  },
  {
   "cell_type": "code",
   "execution_count": null,
   "metadata": {},
   "outputs": [],
   "source": [
    "tabout = t.adonis.w$aov.tab\n",
    "tabout[,2:5] = round(tabout[,2:5], 2)\n",
    "tabout\n",
    "\n"
   ]
  },
  {
   "cell_type": "code",
   "execution_count": null,
   "metadata": {},
   "outputs": [],
   "source": [
    "fileout = file.path(figDir, \"ADONIS_Exp3_CHCSBS.csv\")\n",
    "write.table(tabout, file = fileout, sep = ',', row.names = TRUE)"
   ]
  },
  {
   "cell_type": "markdown",
   "metadata": {},
   "source": [
    "# Multipanel for publication\n"
   ]
  },
  {
   "cell_type": "code",
   "execution_count": null,
   "metadata": {},
   "outputs": [],
   "source": [
    "require(cowplot)\n",
    "\n",
    "pdf(file.path(figDir,\"MultPanel2_a-b.pdf\"), useDingbats = FALSE, width = 7.086, height = 3.3)\n",
    "plot_grid(pf, pt, ncol = 2, align = \"h\")\n",
    "dev.off()"
   ]
  }
 ],
 "metadata": {
  "kernelspec": {
   "display_name": "R",
   "language": "R",
   "name": "ir"
  },
  "language_info": {
   "codemirror_mode": "r",
   "file_extension": ".r",
   "mimetype": "text/x-r-source",
   "name": "R",
   "pygments_lexer": "r",
   "version": "3.6.0"
  }
 },
 "nbformat": 4,
 "nbformat_minor": 2
}
