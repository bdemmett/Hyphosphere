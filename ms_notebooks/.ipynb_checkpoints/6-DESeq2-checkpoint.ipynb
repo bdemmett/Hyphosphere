{
 "cells": [
  {
   "cell_type": "markdown",
   "metadata": {},
   "source": [
    "# Differential abundance analysis using DESeq2\n",
    "* Test for differential abundance between sample types or time points.  \n",
    "* Test for correlations between MRE abundance and hyphal ASVs in bulk hyphosphere samples"
   ]
  },
  {
   "cell_type": "code",
   "execution_count": null,
   "metadata": {},
   "outputs": [],
   "source": [
    "figDir = '~/Hyphosphere/data/3Exp/figures'\n",
    "\n",
    "work_dir = '~/Hyphosphere/data/3Exp/DESeq'\n",
    "\n",
    "# phyloseq - full object without tree (includes archaea); MREs must be removed\n",
    "physeq_file = '~/Hyphosphere/data/3Exp/phyloseq/3Exp_phyloseq_thresh_woTree_experimental_woContam.rds'"
   ]
  },
  {
   "cell_type": "code",
   "execution_count": null,
   "metadata": {},
   "outputs": [],
   "source": [
    "library(RColorBrewer)\n",
    "library(vegan)\n",
    "library(ggpubr)\n",
    "library(phyloseq)\n",
    "library(gridExtra)\n",
    "library(ggplot2)\n",
    "library(DESeq2)\n",
    "library(VennDiagram)\n",
    "library(tidyr)\n",
    "library(dplyr)\n",
    "library(reshape2)\n"
   ]
  },
  {
   "cell_type": "code",
   "execution_count": null,
   "metadata": {},
   "outputs": [],
   "source": [
    "theme_pub = function (base_size = 11, base_family = \"Helvetica\") \n",
    "{\n",
    "    theme_grey(base_size = base_size, base_family = base_family) %+replace% \n",
    "        theme(\n",
    "            axis.line.x = element_line(size = .5),\n",
    "            axis.line.y = element_line(size = .5),\n",
    "            panel.background = element_rect(fill = \"white\", colour = NA), \n",
    "            panel.border = element_rect(fill = NA, color = \"black\", size = .5), \n",
    "            panel.grid.major = element_blank(), \n",
    "            panel.grid.minor = element_blank(), \n",
    "            strip.background = element_rect(fill = \"grey85\", \n",
    "                colour = \"grey20\"), \n",
    "            legend.key = element_rect(fill = \"white\", \n",
    "                colour = NA), complete = TRUE)\n",
    "    }"
   ]
  },
  {
   "cell_type": "code",
   "execution_count": null,
   "metadata": {},
   "outputs": [],
   "source": [
    "ps = readRDS(physeq_file) \n",
    "ps\n",
    "ps = ps %>% subset_taxa(., !is.na(Phylum)) %>%\n",
    "    # remove non-experimental controls\n",
    "    \n",
    "    subset_samples(., SampleType != \"GV\") \n",
    "    # T0R1 has all NaN for some reason\n",
    "    #subset_samples(!Sample == \"T0R1\") #%>%\n",
    "     # re-normalize after subsetting taxa\n",
    "    #transform_sample_counts(., function(x) x/sum(x))\n",
    "sample_data(ps)$Rep = as.factor(sample_data(ps)$Rep)\n",
    "\n",
    "ps\n",
    "\n",
    "\n",
    "                                  \n"
   ]
  },
  {
   "cell_type": "code",
   "execution_count": null,
   "metadata": {},
   "outputs": [],
   "source": [
    "taxa = tax_table(ps) %>% as.data.frame() %>% mutate(ASV = row.names(.))\n",
    "head(taxa)"
   ]
  },
  {
   "cell_type": "code",
   "execution_count": null,
   "metadata": {},
   "outputs": [],
   "source": [
    "sample_data(ps)[,'Soil'] %>% unique()"
   ]
  },
  {
   "cell_type": "code",
   "execution_count": null,
   "metadata": {
    "scrolled": false
   },
   "outputs": [],
   "source": [
    "sample_data(ps)$SoilxFungus = paste(sample_data(ps)$Soil,\"-\",sample_data(ps)$Fungus, sep = \"\")\n",
    "sample_data(ps) %>% head()\n"
   ]
  },
  {
   "cell_type": "markdown",
   "metadata": {},
   "source": [
    "# Experiment 2"
   ]
  },
  {
   "cell_type": "code",
   "execution_count": null,
   "metadata": {},
   "outputs": [],
   "source": [
    "tmp = ps %>% subset_samples(Experiment == 2)"
   ]
  },
  {
   "cell_type": "markdown",
   "metadata": {},
   "source": [
    "## Loop script for sample type contrasts in experiment 2\n",
    "* Fertilizer treatments grouped together"
   ]
  },
  {
   "cell_type": "code",
   "execution_count": null,
   "metadata": {},
   "outputs": [],
   "source": [
    "sample_data(tmp)$SampleType %>% unique"
   ]
  },
  {
   "cell_type": "code",
   "execution_count": null,
   "metadata": {},
   "outputs": [],
   "source": [
    "library(\"BiocParallel\")\n",
    "register(MulticoreParam(20))"
   ]
  },
  {
   "cell_type": "code",
   "execution_count": null,
   "metadata": {},
   "outputs": [],
   "source": [
    "sample_data(tmp)$DAI %>% unique()"
   ]
  },
  {
   "cell_type": "code",
   "execution_count": null,
   "metadata": {},
   "outputs": [],
   "source": [
    "sample_data(tmp) %>% as.data.frame() %>% filter(., Fungus == \"RI\") %>% .$SampleType  %>% unique()"
   ]
  },
  {
   "cell_type": "code",
   "execution_count": null,
   "metadata": {
    "scrolled": true
   },
   "outputs": [],
   "source": [
    "#sample_data(tmp)$SoilxFungus = paste(sample_data(tmp)$Soil, sample_data(tmp)$Fungus, sep = '-')\n",
    "df.l2fc = NULL\n",
    "Grouplist = c('Dryden-Gv', 'Florence-Gv', 'Pendelton-Gv')\n",
    "ContrastList = list(c(\"CH\",\"CS\"), c(\"CH\", \"BS\"), c(\"CH\", \"BP\"), c(\"RH\", \"RS\"), c(\"BH\",\"BS\"), c(\"BP\", \"CS\"), c(\"BP\", \"BS\")) \n",
    "\n",
    "    for (i in Grouplist) {\n",
    "            print(i)\n",
    "          for (j in ContrastList) { \n",
    "                phy = subset_samples(tmp, SoilxFungus == i & SampleType %in% j)\n",
    "                diag\n",
    "                numerator = j[1]\n",
    "                denom<-j[2]\n",
    "                print(paste(numerator, denom, sep = \"_\"))\n",
    "                #make DESeq object\n",
    "                diagdds = phyloseq_to_deseq2(phy, ~ Rep + SampleType)\n",
    "                diagdds = DESeq(diagdds, fitType=\"local\")\n",
    "#               for (k in (j+1):length(GenoList)) { # k = index of 2nd genotype\n",
    "#                 geno2<-GenoList[k]\n",
    "#               #  print(paste0(geno1,\".\",geno2)) # debugging line to make sure all pairwise comparisons are represented\n",
    "           # get log2 fold change between this pair of genotypes\n",
    "              r =  results(diagdds,contrast=c('SampleType',numerator,denom),parallel=TRUE) %>% as.data.frame %>% \n",
    "                    mutate(OTU=row.names(.),Subset = i, Term='SampleType',Contrast=paste0(numerator,'_',denom),DAI='27') \n",
    "             df.l2fc = rbind(df.l2fc, r)\n",
    "                     }\n",
    "          }\n",
    "\n",
    "i = \"Dryden-RI\"\n",
    "RIContrastList = list(c(\"CH\",\"CS\"), c(\"CH\", \"BS\"), c(\"RH\", \"RS\"), c(\"BH\",\"BS\"))\n",
    "\n",
    "    for (j in RIContrastList) { \n",
    "                phy = subset_samples(tmp, SoilxFungus == i & SampleType %in% j)\n",
    "                diag\n",
    "                numerator = j[1]\n",
    "                denom<-j[2]\n",
    "                print(paste(numerator, denom, sep = \"_\"))\n",
    "                #make DESeq object\n",
    "                diagdds = phyloseq_to_deseq2(phy, ~ Rep + SampleType)\n",
    "                diagdds = DESeq(diagdds, fitType=\"local\")\n",
    "#               for (k in (j+1):length(GenoList)) { # k = index of 2nd genotype\n",
    "#                 geno2<-GenoList[k]\n",
    "#               #  print(paste0(geno1,\".\",geno2)) # debugging line to make sure all pairwise comparisons are represented\n",
    "           # get log2 fold change between this pair of genotypes\n",
    "              r =  results(diagdds,contrast=c('SampleType',numerator,denom),parallel=TRUE) %>% as.data.frame %>% \n",
    "                    mutate(OTU=row.names(.),Subset = i, Term='SampleType',Contrast=paste0(numerator,'_',denom),DAI='27') \n",
    "             df.l2fc = rbind(df.l2fc, r)\n",
    "        }\n",
    "\n",
    "df.l2fc.Exp2 = df.l2fc\n",
    "# #cleanup\n",
    "diagdds = NULL\n",
    "df.l2fc = NULL\n",
    "r = NULL"
   ]
  },
  {
   "cell_type": "code",
   "execution_count": null,
   "metadata": {},
   "outputs": [],
   "source": [
    "taxa %>% head() "
   ]
  },
  {
   "cell_type": "code",
   "execution_count": null,
   "metadata": {
    "scrolled": true
   },
   "outputs": [],
   "source": [
    "out = df.l2fc.Exp2  %>% left_join(., taxa, by = c(\"OTU\" = \"ASV\"))\n",
    "out$Experiment = 2\n",
    "head(out)\n",
    "outfile = file.path(work_dir, 'dfl2fc-Exp2.txt')"
   ]
  },
  {
   "cell_type": "code",
   "execution_count": null,
   "metadata": {},
   "outputs": [],
   "source": [
    "write.table(out, file = outfile, row.names = FALSE, sep = '\\t')"
   ]
  },
  {
   "cell_type": "code",
   "execution_count": null,
   "metadata": {},
   "outputs": [],
   "source": []
  },
  {
   "cell_type": "markdown",
   "metadata": {},
   "source": [
    "## Get Ri CH vs Gv BPOM contrasts"
   ]
  },
  {
   "cell_type": "code",
   "execution_count": null,
   "metadata": {},
   "outputs": [],
   "source": [
    "#sample_data(tmp)$SoilxFungus = paste(sample_data(tmp)$Soil, sample_data(tmp)$Fungus, sep = '-')\n",
    "df.l2fc = NULL\n",
    "\n",
    "phy = subset_samples(tmp, Soil == \"Dryden\")\n",
    "phy = subset_samples(phy, SampleType == \"BP\" | Fungus == \"RI\" & SampleType == \"CH\")\n",
    "    numerator = \"CH\"\n",
    "    denom<-\"BP\"\n",
    "              \n",
    "#make DESeq object\n",
    "    diagdds = phyloseq_to_deseq2(phy, ~ Rep + SampleType)\n",
    "    diagdds = DESeq(diagdds, fitType=\"local\")\n",
    "\n",
    "r =  results(diagdds,contrast=c('SampleType',numerator,denom),parallel=TRUE) %>% as.data.frame %>% \n",
    "                    mutate(OTU=row.names(.),Subset = \"Dryden-RI\", Term='SampleType',Contrast=paste0(numerator,'_',denom),DAI='27') \n",
    "\n",
    "df.l2fc = rbind(df.l2fc, r)\n",
    "        \n",
    "\n",
    "#df.l2fc.Exp2 = df.l2fc\n",
    "# #cleanup\n",
    "diagdds = NULL\n",
    "#df.l2fc = NULL\n",
    "r = NULL"
   ]
  },
  {
   "cell_type": "code",
   "execution_count": null,
   "metadata": {},
   "outputs": [],
   "source": [
    "out = df.l2fc  %>% left_join(., taxa, by = c(\"OTU\" = \"ASV\"))\n",
    "out$Experiment = 2\n",
    "head(out)\n",
    "outfile = file.path(work_dir, 'dfl2fc-Exp2.txt')"
   ]
  },
  {
   "cell_type": "code",
   "execution_count": null,
   "metadata": {},
   "outputs": [],
   "source": [
    "write.table(out, file = outfile, row.names = FALSE, col.names = FALSE, sep = '\\t', append = TRUE)"
   ]
  },
  {
   "cell_type": "code",
   "execution_count": null,
   "metadata": {},
   "outputs": [],
   "source": [
    "tmp = read.delim(outfile, header= TRUE, sep = '\\t')\n",
    "head(tmp)\n",
    "tail(tmp)"
   ]
  },
  {
   "cell_type": "markdown",
   "metadata": {},
   "source": [
    "# Experiment 1"
   ]
  },
  {
   "cell_type": "code",
   "execution_count": null,
   "metadata": {},
   "outputs": [],
   "source": [
    "tmp = ps %>% subset_samples(Experiment == 1)"
   ]
  },
  {
   "cell_type": "code",
   "execution_count": null,
   "metadata": {},
   "outputs": [],
   "source": [
    "sample_data(tmp)$DAI %>% unique"
   ]
  },
  {
   "cell_type": "code",
   "execution_count": null,
   "metadata": {},
   "outputs": [],
   "source": [
    "colnames(sample_data(tmp))"
   ]
  },
  {
   "cell_type": "code",
   "execution_count": null,
   "metadata": {},
   "outputs": [],
   "source": [
    "#sample_data(tmp)$SoilxFungus = paste(sample_data(tmp)$Soil, sample_data(tmp)$Fungus, sep = '-')\n",
    "df.l2fc = NULL\n",
    "Grouplist = c('Dryden-Gv', 'Florence-Gv', 'Pendelton-Gv')\n",
    "ContrastList = list(c(\"CH\",\"CS\"), c(\"CH\", \"RT\"), c(\"RT\", \"CS\")) \n",
    "\n",
    "    for (i in Grouplist) {\n",
    "            print(i)\n",
    "          for (j in ContrastList) { \n",
    "                phy = subset_samples(tmp, SoilxFungus == i & SampleType %in% j)\n",
    "                diag\n",
    "                numerator = j[1]\n",
    "                denom<-j[2]\n",
    "                print(paste(numerator, denom, sep = \"_\"))\n",
    "                #make DESeq object\n",
    "                diagdds = phyloseq_to_deseq2(phy, ~ Rep + SampleType)\n",
    "                diagdds = DESeq(diagdds, fitType=\"local\")\n",
    "#               for (k in (j+1):length(GenoList)) { # k = index of 2nd genotype\n",
    "#                 geno2<-GenoList[k]\n",
    "#               #  print(paste0(geno1,\".\",geno2)) # debugging line to make sure all pairwise comparisons are represented\n",
    "           # get log2 fold change between this pair of genotypes\n",
    "              r =  results(diagdds,contrast=c('SampleType',numerator,denom),parallel=TRUE) %>% as.data.frame %>% \n",
    "                    mutate(OTU=row.names(.),Subset = i, Term='SampleType',Contrast=paste0(numerator,'_',denom),DAI='81') \n",
    "             df.l2fc = rbind(df.l2fc, r)\n",
    "                     }\n",
    "          }\n",
    "\n",
    "\n",
    "\n",
    "df.l2fc.Exp1 = df.l2fc\n",
    "# #cleanup\n",
    "diagdds = NULL\n",
    "df.l2fc = NULL\n",
    "r = NULL"
   ]
  },
  {
   "cell_type": "code",
   "execution_count": null,
   "metadata": {},
   "outputs": [],
   "source": [
    "out = df.l2fc.Exp1  %>% left_join(., taxa, by = c(\"OTU\" = \"ASV\"))\n",
    "out$Experiment = 1\n",
    "head(out)\n",
    "outfile = file.path(work_dir, 'dfl2fc-Exp1.txt')"
   ]
  },
  {
   "cell_type": "code",
   "execution_count": null,
   "metadata": {},
   "outputs": [],
   "source": [
    "write.table(out, file = outfile, row.names = FALSE, sep = '\\t')"
   ]
  },
  {
   "cell_type": "markdown",
   "metadata": {},
   "source": [
    "# Experiment 3 sample type"
   ]
  },
  {
   "cell_type": "code",
   "execution_count": null,
   "metadata": {},
   "outputs": [],
   "source": [
    "tmp = ps %>% subset_samples(Experiment == 3)\n",
    "sample_data(tmp)$DAI %>% unique\n",
    "sample_data(tmp)$SampleType %>% unique()\n",
    "colnames(sample_data(tmp))"
   ]
  },
  {
   "cell_type": "code",
   "execution_count": null,
   "metadata": {
    "scrolled": false
   },
   "outputs": [],
   "source": [
    "sample_data(tmp)$SoilxFungus = paste(sample_data(tmp)$Soil, sample_data(tmp)$Fungus, sep = '-')\n",
    "sample_data(tmp)$Rep = factor(sample_data(tmp)$Rep)\n",
    "sample_data(tmp)$DAI = factor(sample_data(tmp)$DAI)\n",
    "df.l2fc = NULL\n",
    "\n",
    "Grouplist = c('Dryden-Gv')\n",
    "\n",
    "# Date 65 does not have root hyphae samples, so run in separate loop\n",
    "DateList = c(14, 24, 35, 45)\n",
    "# Contrasts for first for sampling dates\n",
    "ContrastList = list(c(\"CH\",\"CS\"), c(\"CH\", \"BS\"), c(\"CH\", \"BP\"), c(\"RH\", \"RT\"), c(\"RH\",\"CS\"), c(\"BP\", \"CS\"), c(\"BP\", \"BS\")) \n",
    "\n",
    "\n",
    "    for (i in Grouplist) {\n",
    "            print(i)\n",
    "        for (k in DateList) {\n",
    "                print(k)\n",
    "          for (j in ContrastList) { \n",
    "              print(j)\n",
    "                phy = subset_samples(tmp, SoilxFungus == i & SampleType %in% j & DAI == k)\n",
    "                diag\n",
    "                numerator = j[1]\n",
    "                denom<-j[2]\n",
    "                print(paste(numerator, denom, sep = \"_\"))\n",
    "                #make DESeq object\n",
    "                diagdds = phyloseq_to_deseq2(phy, ~ Rep + SampleType)\n",
    "                diagdds = DESeq(diagdds, fitType=\"local\", parallel = TRUE)\n",
    "#               for (k in (j+1):length(GenoList)) { # k = index of 2nd genotype\n",
    "#                 geno2<-GenoList[k]\n",
    "#               #  print(paste0(geno1,\".\",geno2)) # debugging line to make sure all pairwise comparisons are represented\n",
    "           # get log2 fold change between this pair of genotypes\n",
    "              r =  results(diagdds,contrast=c('SampleType',numerator,denom),parallel=TRUE) %>% as.data.frame %>% \n",
    "                    mutate(OTU=row.names(.),Subset = i, Term='SampleType',Contrast=paste0(numerator,'_',denom),DAI=k) \n",
    "             df.l2fc = rbind(df.l2fc, r)\n",
    "                     }\n",
    "            }\n",
    "          }\n",
    "\n",
    "\n",
    "\n",
    "# Date 65 does not have root hyphae samples, so run in separate loop\n",
    "DateList = 65\n",
    "# Contrast list for day 65\n",
    "ContrastList = list(c(\"CH\",\"CS\"), c(\"CH\", \"BS\"), c(\"CH\", \"BP\"), c(\"BP\", \"CS\"), c(\"BP\", \"BS\")) \n",
    "\n",
    "    for (i in Grouplist) {\n",
    "            print(i)\n",
    "        for (k in DateList) {\n",
    "                print(k)\n",
    "          for (j in ContrastList) { \n",
    "              print(j)\n",
    "                phy = subset_samples(tmp, SoilxFungus == i & SampleType %in% j & DAI == k)\n",
    "                numerator = j[1]\n",
    "                denom<-j[2]\n",
    "                print(paste(numerator, denom, sep = \"_\"))\n",
    "                #make DESeq object\n",
    "                diagdds = phyloseq_to_deseq2(phy, ~ Rep + SampleType)\n",
    "                diagdds = DESeq(diagdds, fitType=\"local\", parallel = TRUE)\n",
    "#               for (k in (j+1):length(GenoList)) { # k = index of 2nd genotype\n",
    "#                 geno2<-GenoList[k]\n",
    "#               #  print(paste0(geno1,\".\",geno2)) # debugging line to make sure all pairwise comparisons are represented\n",
    "           # get log2 fold change between this pair of genotypes\n",
    "              r =  results(diagdds,contrast=c('SampleType',numerator,denom),parallel=TRUE) %>% as.data.frame %>% \n",
    "                    mutate(OTU=row.names(.),Subset = i, Term='SampleType',Contrast=paste0(numerator,'_',denom),DAI=k) \n",
    "             df.l2fc = rbind(df.l2fc, r)\n",
    "                     }\n",
    "            }\n",
    "          }\n",
    "\n",
    "df.l2fc.Exp3 = df.l2fc\n",
    "# #cleanup\n",
    "diagdds = NULL\n",
    "df.l2fc = NULL\n",
    "r = NULL"
   ]
  },
  {
   "cell_type": "code",
   "execution_count": null,
   "metadata": {
    "scrolled": true
   },
   "outputs": [],
   "source": [
    "out = df.l2fc.Exp3  %>% left_join(., taxa, by = c(\"OTU\" = \"ASV\"))\n",
    "out$Experiment = 3\n",
    "head(out)\n",
    "outfile = file.path(work_dir, 'dfl2fc-Exp3.txt')"
   ]
  },
  {
   "cell_type": "code",
   "execution_count": null,
   "metadata": {},
   "outputs": [],
   "source": [
    "write.table(out, file = outfile, row.names = FALSE, sep = '\\t')"
   ]
  },
  {
   "cell_type": "markdown",
   "metadata": {},
   "source": [
    "# Experiment 3 time"
   ]
  },
  {
   "cell_type": "code",
   "execution_count": null,
   "metadata": {},
   "outputs": [],
   "source": [
    "tmp = ps %>% subset_samples(Experiment == 3)\n",
    "sample_data(tmp)$DAI %>% unique\n",
    "sample_data(tmp)$SampleType %>% unique()\n",
    "colnames(sample_data(tmp))"
   ]
  },
  {
   "cell_type": "code",
   "execution_count": null,
   "metadata": {
    "scrolled": true
   },
   "outputs": [],
   "source": [
    "sample_data(tmp)$SoilxFungus = paste(sample_data(tmp)$Soil, sample_data(tmp)$Fungus, sep = '-')\n",
    "sample_data(tmp)$Rep = factor(sample_data(tmp)$Rep)\n",
    "sample_data(tmp)$DAI = factor(sample_data(tmp)$DAI)\n",
    "df.l2fc = NULL\n",
    "\n",
    "Grouplist = c(\"BS\", \"CS\", \"RH\", \"CH\", \"BP\")\n",
    "\n",
    "# Date 65 does not have root hyphae samples, so run in separate loop\n",
    "#DateList = c(14, 24, 35, 45)\n",
    "# Contrasts for first for sampling dates\n",
    "ContrastList = list(c(\"24\",\"14\"), c(\"35\",\"14\"), c(\"45\",\"14\"), c(\"65\",\"14\")) \n",
    "\n",
    "\n",
    "    for (i in Grouplist) {\n",
    "            print(i)\n",
    "          for (j in ContrastList) { \n",
    "              print(j)\n",
    "    phy = subset_samples(tmp, SampleType == i & DAI %in% j )\n",
    "                numerator = j[1]\n",
    "                denom<-j[2]\n",
    "                print(paste(numerator, denom, sep = \"_\"))\n",
    "                #make DESeq object\n",
    "                diagdds = phyloseq_to_deseq2(phy, ~ Rep + DAI)\n",
    "                diagdds = DESeq(diagdds, fitType=\"local\", parallel = TRUE)\n",
    "#               for (k in (j+1):length(GenoList)) { # k = index of 2nd genotype\n",
    "#                 geno2<-GenoList[k]\n",
    "#               #  print(paste0(geno1,\".\",geno2)) # debugging line to make sure all pairwise comparisons are represented\n",
    "           # get log2 fold change between this pair of genotypes\n",
    "              r =  results(diagdds,contrast=c('DAI',numerator,denom),parallel=TRUE) %>% as.data.frame %>% \n",
    "                    mutate(OTU=row.names(.),Subset = \"Dryden-Gv\", SampleType = i, Term='TimePoint',Contrast=paste0(numerator,'_',denom)) \n",
    "             df.l2fc = rbind(df.l2fc, r)\n",
    "            }\n",
    "         } \n",
    "\n",
    "\n",
    "\n",
    "\n",
    "df.l2fc.Exp3.time = df.l2fc\n",
    "# #cleanup\n",
    "diagdds = NULL\n",
    "df.l2fc = NULL\n",
    "r = NULL"
   ]
  },
  {
   "cell_type": "code",
   "execution_count": null,
   "metadata": {},
   "outputs": [],
   "source": [
    "out = df.l2fc.Exp3.time  %>% left_join(., taxa, by = c(\"OTU\" = \"ASV\"))\n",
    "out$Experiment = 3\n",
    "head(out)\n",
    "outfile = file.path(work_dir, 'dfl2fc-Exp3-time.txt')"
   ]
  },
  {
   "cell_type": "code",
   "execution_count": null,
   "metadata": {},
   "outputs": [],
   "source": [
    "write.table(out, file = outfile, row.names = FALSE, sep = '\\t')"
   ]
  },
  {
   "cell_type": "markdown",
   "metadata": {},
   "source": [
    "# Experiment 2 Nutrient Treatment"
   ]
  },
  {
   "cell_type": "code",
   "execution_count": null,
   "metadata": {},
   "outputs": [],
   "source": [
    "tmp = ps %>% subset_samples(Experiment == 2 & SampleType == \"CH\" & Soil %in% c(\"Dryden\", \"Florence\"))"
   ]
  },
  {
   "cell_type": "code",
   "execution_count": null,
   "metadata": {},
   "outputs": [],
   "source": [
    "sample_data(tmp)$Treatment %>% unique()"
   ]
  },
  {
   "cell_type": "code",
   "execution_count": null,
   "metadata": {},
   "outputs": [],
   "source": [
    "sample_data(tmp)$SoilxFungus = paste(sample_data(tmp)$Soil, sample_data(tmp)$Fungus, sep = '-')\n",
    "sample_data(tmp)$Rep = factor(sample_data(tmp)$Rep)\n",
    "sample_data(tmp)$DAI = factor(sample_data(tmp)$DAI)\n",
    "df.l2fc = NULL\n",
    "\n",
    "SoilFungusList = c(\"Dryden-Gv\", \"Dryden-RI\", \"Florence-Gv\")\n",
    "\n",
    "\n",
    "\n",
    "\n",
    "    for (i in SoilFungusList) {\n",
    "            print(i)\n",
    "\n",
    "    phy = subset_samples(tmp, SoilxFungus == i)\n",
    "                numerator = \"HP\"\n",
    "                denom<- \"HN\"\n",
    "                print(paste(numerator, denom, sep = \"_\"))\n",
    "                #make DESeq object\n",
    "                diagdds = phyloseq_to_deseq2(phy, ~ Rep + Treatment)\n",
    "                diagdds = DESeq(diagdds, fitType=\"local\", parallel = TRUE)\n",
    "#               for (k in (j+1):length(GenoList)) { # k = index of 2nd genotype\n",
    "#                 geno2<-GenoList[k]\n",
    "#               #  print(paste0(geno1,\".\",geno2)) # debugging line to make sure all pairwise comparisons are represented\n",
    "           # get log2 fold change between this pair of genotypes\n",
    "              r =  results(diagdds,contrast=c('Treatment',numerator,denom),parallel=TRUE, independentFiltering = TRUE) %>% as.data.frame %>% \n",
    "                    mutate(OTU=row.names(.),Subset = i, SampleType = \"CH\", Term='Treatment',Contrast=paste0(numerator,'_',denom)) \n",
    "             df.l2fc = rbind(df.l2fc, r)\n",
    "            }\n",
    "          \n",
    "\n",
    "\n",
    "\n",
    "\n",
    "df.l2fc.Exp2.treatment = df.l2fc\n",
    "# #cleanup\n",
    "diagdds = NULL\n",
    "df.l2fc = NULL\n",
    "r = NULL"
   ]
  },
  {
   "cell_type": "code",
   "execution_count": null,
   "metadata": {},
   "outputs": [],
   "source": [
    "out = df.l2fc.Exp2.treatment  %>% left_join(., taxa, by = c(\"OTU\" = \"ASV\"))\n",
    "out$Experiment = 2\n",
    "head(out)\n",
    "outfile = file.path(work_dir, 'dfl2fc-Exp2-treatment.txt')"
   ]
  },
  {
   "cell_type": "code",
   "execution_count": null,
   "metadata": {},
   "outputs": [],
   "source": [
    "write.table(out, file = outfile, row.names = FALSE, sep = '\\t')"
   ]
  },
  {
   "cell_type": "markdown",
   "metadata": {},
   "source": [
    "# Checkpoint\n",
    "read back in log2foldchange files"
   ]
  },
  {
   "cell_type": "code",
   "execution_count": null,
   "metadata": {},
   "outputs": [],
   "source": [
    "readfile = file.path(work_dir, 'dfl2fc-Exp1.txt')\n",
    "df.l2fc.Exp1 = read.table(readfile, header = TRUE, sep= '\\t')\n",
    "\n",
    "readfile = file.path(work_dir, 'dfl2fc-Exp2.txt')\n",
    "df.l2fc.Exp2 = read.table(readfile, header = TRUE, sep= '\\t')\n",
    "\n",
    "readfile = file.path(work_dir, 'dfl2fc-Exp3.txt')\n",
    "df.l2fc.Exp3 = read.table(readfile, header = TRUE, sep= '\\t')\n",
    "\n",
    "readfile = file.path(work_dir, 'dfl2fc-Exp3-time.txt')\n",
    "df.l2fc.Exp3.time = read.table(readfile, header = TRUE, sep= '\\t')\n",
    "\n",
    "head(df.l2fc.Exp1)"
   ]
  },
  {
   "cell_type": "code",
   "execution_count": null,
   "metadata": {},
   "outputs": [],
   "source": [
    "df.l2fc.Exp1$Contrast %>% levels()\n",
    "df.l2fc.Exp1$Subset %>% levels()\n",
    "\n",
    "df.l2fc.Exp2$Contrast %>% levels()\n",
    "df.l2fc.Exp2$Subset %>% levels()"
   ]
  },
  {
   "cell_type": "markdown",
   "metadata": {},
   "source": [
    "## Identify how many ASVs are enriched in multiple soils"
   ]
  },
  {
   "cell_type": "code",
   "execution_count": null,
   "metadata": {},
   "outputs": [],
   "source": [
    "tmp = df.l2fc.Exp1 %>% \n",
    "    filter(Contrast == \"CH_CS\" & padj < 0.05 & log2FoldChange > 0) %>%\n",
    "    group_by(OTU) %>%\n",
    "    summarize(nSig = length(padj)) %>%\n",
    "    group_by(nSig) %>%\n",
    "    summarize(nGroup = length(OTU))\n",
    "head(tmp)\n",
    "range(tmp$nSig)"
   ]
  },
  {
   "cell_type": "code",
   "execution_count": null,
   "metadata": {},
   "outputs": [],
   "source": [
    "tmp = df.l2fc.Exp1 %>% \n",
    "    filter(Contrast == \"CH_CS\" & padj < 0.05 & log2FoldChange > 0) %>%\n",
    "    group_by(OTU, Phylum, Class, Order, Family, Genus) %>%\n",
    "    summarize(nSig = length(padj)) %>%\n",
    "    filter(nSig > 1)\n",
    "tmp"
   ]
  },
  {
   "cell_type": "code",
   "execution_count": null,
   "metadata": {
    "scrolled": true
   },
   "outputs": [],
   "source": [
    "tmp = df.l2fc.Exp2 %>% \n",
    "    filter(Contrast == \"CH_CS\" & padj < 0.05 & log2FoldChange > 0 & Subset != \"Dryden-RI\") %>%\n",
    "    group_by(OTU) %>%\n",
    "    summarize(nSig = length(padj)) %>%\n",
    "    group_by(nSig) %>%\n",
    "    summarize(nGroup = length(OTU))\n",
    "head(tmp)\n",
    "range(tmp$nSig)"
   ]
  },
  {
   "cell_type": "code",
   "execution_count": null,
   "metadata": {},
   "outputs": [],
   "source": [
    "tmp = df.l2fc.Exp2 %>% \n",
    "    filter(Contrast == \"CH_CS\" & padj < 0.05 & log2FoldChange > 0 & Subset != \"Dryden-RI\") %>%\n",
    "    group_by(OTU, Phylum, Class, Order, Family, Genus) %>%\n",
    "    summarize(nSig = length(padj)) %>%\n",
    "    filter(nSig > 1)\n",
    "tmp\n",
    "range(tmp)"
   ]
  },
  {
   "cell_type": "markdown",
   "metadata": {},
   "source": [
    "## Number of ASVs enriched in any soil, either experiment"
   ]
  },
  {
   "cell_type": "code",
   "execution_count": null,
   "metadata": {},
   "outputs": [],
   "source": [
    "HA.exp1 = df.l2fc.Exp1 %>%\n",
    "  filter(Contrast == \"CH_CS\" & padj < 0.05 & log2FoldChange > 0 & Subset != \"Dryden-RI\") %>%\n",
    "    .$OTU %>%\n",
    "    unique() \n",
    "\n",
    "HA.exp1 %>%\n",
    "    length() %>%\n",
    "    paste(., \"ASVs enriched in hyphal samples in any soil in experiment 1\")\n",
    "\n",
    "HA.exp2 = df.l2fc.Exp2 %>%\n",
    "  filter(Contrast == \"CH_CS\" & padj < 0.05 & log2FoldChange > 0 & Subset != \"Dryden-RI\") %>%\n",
    "    .$OTU %>%\n",
    "    unique() \n",
    "\n",
    "HA.exp2 %>%\n",
    "    length() %>%\n",
    "    paste(., \"ASVs enriched in hyphal samples in any soil in experiment 2\")\n",
    "\n",
    "append(HA.exp1, HA.exp2) %>% unique() %>% length() %>%\n",
    "    paste(., \"ASVs enriched in hyphal samples in a particular soil in at least one of the two experiments\")"
   ]
  },
  {
   "cell_type": "markdown",
   "metadata": {},
   "source": [
    "### Hyphal ASVs enriched in other comparisons"
   ]
  },
  {
   "cell_type": "code",
   "execution_count": null,
   "metadata": {},
   "outputs": [],
   "source": [
    "df.l2fc.Exp2 %>%\n",
    "  filter(Contrast == \"RH_RS\" & padj < 0.05 & log2FoldChange > 0 & Subset != \"Dryden-RI\") %>%\n",
    "    .$OTU %>%\n",
    "    unique() %>%\n",
    "    length() %>%\n",
    "    paste(., \"hyphal ASVs enriched in hyphae of the root compartment compared to the root slurry\")\n",
    "\n",
    "df.l2fc.Exp2 %>%\n",
    "  filter(Contrast == \"CH_BS\" & padj < 0.05 & log2FoldChange > 0 & Subset != \"Dryden-RI\") %>%\n",
    "    .$OTU %>%\n",
    "    unique() %>%\n",
    "    length() %>%\n",
    "    paste(., \"hyphal ASVs enriched in hyphae compared to bulk soil\")"
   ]
  },
  {
   "cell_type": "markdown",
   "metadata": {},
   "source": [
    "## Which ASVs are shared between Ri And Gv"
   ]
  },
  {
   "cell_type": "code",
   "execution_count": null,
   "metadata": {},
   "outputs": [],
   "source": [
    "RIASVs = df.l2fc.Exp2 %>% \n",
    "    filter(Contrast == \"CH_CS\" & padj < 0.05 & log2FoldChange > 0 & Subset %in% c(\"Dryden-RI\")) %>%\n",
    "    .$OTU %>%\n",
    "    unique() \n",
    "    paste(length(RIASVs), \"ASVs enriched in Ri hyphal samples\")\n",
    "\n",
    "GVASVs = df.l2fc.Exp2 %>% \n",
    "    filter(Contrast == \"CH_CS\" & padj < 0.05 & log2FoldChange > 0 & Subset %in% c(\"Dryden-Gv\")) %>%\n",
    "    .$OTU %>%\n",
    "    unique() \n",
    "    paste(length(GVASVs), \"ASVs enriched in Gv hyphal samples\")\n",
    "\n",
    "sharedASVs = intersect(RIASVs, GVASVs)\n",
    "# tmp = df.l2fc.Exp2 %>% \n",
    "#     filter(Contrast == \"CH_CS\" & padj < 0.05 & log2FoldChange > 0 & Subset %in% c(\"Dryden-RI\", \n",
    "#                                                                                  \"Dryden-Gv\")) %>%\n",
    "#     group_by(OTU, Phylum, Class, Order, Family, Genus) %>%\n",
    "#     summarize(nSig = length(padj)) %>%\n",
    "#     filter(nSig > 1)\n",
    "           \n",
    "paste(length(sharedASVs), 'ASVs enriched in both Ri and Gv hyphal samples in Dryden soil', sep = '')\n",
    "\n",
    "\n",
    "draw.pairwise.venn(area1 = length(RIASVs), area2 = length(GVASVs), \n",
    "cross.area = length(sharedASVs), category = c(\"R. irregularis\", \"G. versiforme\"), lty = rep(2, 2), \n",
    "                 fill = c(\"blue\",  \"red\"), cex = 2, cat.cex = 2, scaled = TRUE, rotation.degree = 180, \n",
    "                   euler.d = TRUE, cat.pos = c(0,0))\n",
    "\n",
    "outfile = file.path(figDir,'Ri_GV_Dryden_Venn.pdf')\n",
    "pdf(file = outfile, width = 3, height = 3)\n",
    "\n",
    "draw.pairwise.venn(area1 = length(RIASVs), area2 = length(GVASVs), \n",
    "cross.area = length(sharedASVs), category = c(\"R. irregularis\", \"G. versiforme\"), lty = rep(2, 2), \n",
    "                 fill = c(\"blue\",  \"red\"), cex = 2, cat.cex = 2, scaled = TRUE, rotation.degree = 180, \n",
    "                   euler.d = TRUE, cat.pos = c(0,0))\n",
    "dev.off()"
   ]
  },
  {
   "cell_type": "markdown",
   "metadata": {},
   "source": [
    "## Which ASVs are enriched in both experiments in the same soil"
   ]
  },
  {
   "cell_type": "code",
   "execution_count": null,
   "metadata": {},
   "outputs": [],
   "source": [
    "# Get lists of experiment 1 and three lists of experiment 2, see which match\n",
    "HA1.Dryden = df.l2fc.Exp1 %>% \n",
    "    filter(Contrast == \"CH_CS\" & padj < 0.05 & log2FoldChange > 0 & Subset == \"Dryden-Gv\")\n",
    "HA2.Dryden = df.l2fc.Exp2 %>% \n",
    "    filter(Contrast == \"CH_CS\" & padj < 0.05 & log2FoldChange > 0 & Subset == \"Dryden-Gv\")\n",
    "\n",
    "ConsistentDrydenASVs = inner_join(HA1.Dryden, HA2.Dryden, by = \"OTU\")\n",
    "ConsistentDrydenASVs"
   ]
  },
  {
   "cell_type": "code",
   "execution_count": null,
   "metadata": {},
   "outputs": [],
   "source": [
    "# Get lists of experiment 1 and three lists of experiment 2, see which match\n",
    "HA1.Florence = df.l2fc.Exp1 %>% \n",
    "    filter(Contrast == \"CH_CS\" & padj < 0.05 & log2FoldChange > 0 & Subset == \"Florence-Gv\")\n",
    "HA2.Florence = df.l2fc.Exp2 %>% \n",
    "    filter(Contrast == \"CH_CS\" & padj < 0.05 & log2FoldChange > 0 & Subset == \"Florence-Gv\")\n",
    "\n",
    "ConsistentFlorenceASVs  = inner_join(HA1.Florence, HA2.Florence, by = \"OTU\")\n",
    "ConsistentFlorenceASVs"
   ]
  },
  {
   "cell_type": "code",
   "execution_count": null,
   "metadata": {},
   "outputs": [],
   "source": [
    "# Get lists of experiment 1 and three lists of experiment 2, see which match\n",
    "HA1.Pendelton = df.l2fc.Exp1 %>% \n",
    "    filter(Contrast == \"CH_CS\" & padj < 0.05 & log2FoldChange > 0 & Subset == \"Pendelton-Gv\")\n",
    "HA2.Pendelton = df.l2fc.Exp2 %>% \n",
    "    filter(Contrast == \"CH_CS\" & padj < 0.05 & log2FoldChange > 0 & Subset == \"Pendelton-Gv\")\n",
    "\n",
    "ConsistentPendeltonASVs = inner_join(HA1.Pendelton, HA2.Pendelton, by = \"OTU\")\n",
    "\n",
    "ConsistentPendeltonASVs"
   ]
  },
  {
   "cell_type": "code",
   "execution_count": null,
   "metadata": {},
   "outputs": [],
   "source": [
    "SuperConsistentASVs = inner_join(ConsistentDrydenASVs, ConsistentFlorenceASVs, by = \"OTU\") %>% \n",
    "        select(OTU, Phylum.x.x, Class.x.x, Order.x.x, Family.x.x, Genus.x.x) %>%\n",
    "        inner_join(., ConsistentPendeltonASVs, by = \"OTU\") %>% \n",
    "        select(OTU, Phylum.x.x, Class.x.x, Order.x.x, Family.x.x, Genus.x.x)\n",
    "SuperConsistentASVs"
   ]
  },
  {
   "cell_type": "markdown",
   "metadata": {},
   "source": [
    "## Review ASV found enriched in both experiments in all soils for signature of contamination\n",
    "* Sandaracinaceae ASV14 and ASV18 is enriched in all soils in all experiments "
   ]
  },
  {
   "cell_type": "code",
   "execution_count": null,
   "metadata": {},
   "outputs": [],
   "source": [
    "physeq_file = \"~/Hyphosphere/data/3Exp/phyloseq/3Exp_phyloseq_thresh_woTree_woContam.rds\"\n",
    "\n",
    "ps = readRDS(physeq_file) %>% subset_taxa(., !is.na(Phylum))\n",
    "    \n",
    "    # T0R1 has all NaN for some reason\n",
    "    #subset_samples(!Sample == \"T0R1\") #%>%\n",
    "     # re-normalize after subsetting taxa\n",
    "    #transform_sample_counts(., function(x) x/sum(x))\n",
    "sample_data(ps)$Rep = as.factor(sample_data(ps)$Rep)\n",
    "\n",
    "ps\n"
   ]
  },
  {
   "cell_type": "code",
   "execution_count": null,
   "metadata": {},
   "outputs": [],
   "source": []
  },
  {
   "cell_type": "code",
   "execution_count": null,
   "metadata": {},
   "outputs": [],
   "source": [
    "ps %>% \n",
    "    subset_samples(SampleType == \"T0\") %>%\n",
    "    transform_sample_counts(., function(x) x/sum(x)) %>%\n",
    "   prune_taxa(c('ASV14', \"ASV18\"), .) %>%\n",
    "   otu_table()"
   ]
  },
  {
   "cell_type": "code",
   "execution_count": null,
   "metadata": {},
   "outputs": [],
   "source": [
    "ps %>% \n",
    "    subset_samples(Experiment == 2 & SampleType %in% c(\"BS\", \"BH\", \"CH\", \"CS\", \"RH\", \"RS\") & Fungus == \"Gv\") %>%\n",
    "    transform_sample_counts(., function(x) x/sum(x)) %>%\n",
    "   prune_taxa(\"ASV18\",.)  %>%\n",
    "    psmelt() %>%\n",
    "    mutate(AbundScale = log2(Abundance + .000001)) %>% \n",
    "    ggplot(., aes(x = SampleType, y= AbundScale)) +\n",
    "    geom_boxplot()+\n",
    "    geom_point()+\n",
    "    facet_grid(Soil~SampleType, scales = 'free_x')+\n",
    "    #ggtitle(as.character(cTax))+\n",
    "    ylab('Relative abundance (log2)')"
   ]
  },
  {
   "cell_type": "markdown",
   "metadata": {},
   "source": [
    "* ASV18 is detected in Bulk hyphal samples that are not otherwise low biomass and prone to contamination.  In contrast it is absent from all bulk soil samples without the hyphal influence.  Suggests clear hyphal signal.  Also less abundant in the root compartment slurry samples which had the lowest DNA yields of any sampletype"
   ]
  },
  {
   "cell_type": "code",
   "execution_count": null,
   "metadata": {
    "scrolled": false
   },
   "outputs": [],
   "source": [
    "ps %>% \n",
    "    subset_samples(Experiment == 2 & SampleType %in% c(\"BS\", \"BH\", \"CH\", \"CS\", \"RH\", \"RS\") & Fungus == \"RI\") %>%\n",
    "    transform_sample_counts(., function(x) x/sum(x)) %>%\n",
    "   prune_taxa(\"ASV18\",.)  %>%\n",
    "    psmelt() %>%\n",
    "    mutate(AbundScale = log2(Abundance + .000001)) %>% \n",
    "    ggplot(., aes(x = SampleType, y= AbundScale)) +\n",
    "    geom_point()+\n",
    "    geom_boxplot()+\n",
    "    facet_grid(Soil~SampleType, scales = 'free_x')+\n",
    "    #ggtitle(as.character(cTax))+\n",
    "    ylab('Relative abundance (log2)')"
   ]
  },
  {
   "cell_type": "markdown",
   "metadata": {},
   "source": [
    "* Ri would not have carried ASV14 or ASV18 in on spores.  Suggesting that it may also have come from the soil or at least cross contamination in the experiment.  Root slurry is still lower than root hyphae.  RH had higher DNA yields, so this is not consistent with contamination.\n"
   ]
  },
  {
   "cell_type": "markdown",
   "metadata": {},
   "source": [
    "# Which ASVs are time specific"
   ]
  },
  {
   "cell_type": "code",
   "execution_count": null,
   "metadata": {},
   "outputs": [],
   "source": [
    "df.l2fc.Exp3 %>% \n",
    "    filter(Contrast == \"CH_CS\" & padj < 0.05 & log2FoldChange > 0 & Subset == \"Dryden-Gv\") %>%\n",
    "        .$OTU %>%\n",
    "        unique() %>%\n",
    "        length() %>%\n",
    "paste(., \"ASVs enriched in at least one timepoint\")\n",
    "\n",
    "df.l2fc.Exp3 %>% \n",
    "    filter(Contrast == \"CH_CS\" & padj < 0.05 & log2FoldChange > 0 & Subset == \"Dryden-Gv\") %>%\n",
    "     group_by(OTU, Phylum, Class, Order, Family, Genus) %>%\n",
    "     summarize(nSig = length(padj)) %>%\n",
    "     filter(nSig > 1) %>%\n",
    "     .$OTU %>%\n",
    "        unique() %>%\n",
    "        length() %>%\n",
    "paste(.,'ASVs enriched in more than one time point')\n",
    "\n",
    "df.l2fc.Exp3 %>% \n",
    "    filter(Contrast == \"CH_CS\" & padj < 0.05 & log2FoldChange > 0 & Subset == \"Dryden-Gv\") %>%\n",
    "     group_by(OTU, Phylum, Class, Order, Family, Genus) %>%\n",
    "     summarize(nSig = length(padj)) %>%\n",
    "     filter(nSig > 2) %>%\n",
    "     .$OTU %>%\n",
    "        unique() %>%\n",
    "        length() %>%\n",
    "paste(.,'ASVs enriched in more than two time points')\n",
    "\n",
    "df.l2fc.Exp3 %>% \n",
    "    filter(Contrast == \"CH_CS\" & padj < 0.05 & log2FoldChange > 0 & Subset == \"Dryden-Gv\") %>%\n",
    "     group_by(OTU, Phylum, Class, Order, Family, Genus) %>%\n",
    "     summarize(nSig = length(padj)) %>%\n",
    "     filter(nSig > 3) %>%\n",
    "     .$OTU %>%\n",
    "        unique() %>%\n",
    "        length() %>%\n",
    "paste(.,'ASVs enriched in more than three time points')\n",
    "\n",
    "tmp = df.l2fc.Exp3 %>% \n",
    "    filter(Contrast == \"CH_CS\" & padj < 0.05 & log2FoldChange > 0 & Subset == \"Dryden-Gv\") %>%\n",
    "     group_by(OTU, Phylum, Class, Order, Family, Genus) %>%\n",
    "     summarize(nSig = length(padj)) %>%\n",
    "     filter(nSig > 4)\n",
    "\n",
    "tmp %>%\n",
    "     .$OTU %>%\n",
    "        unique() %>%\n",
    "        length() %>%\n",
    "paste(.,'ASVs enriched in more than four time points')\n",
    "\n",
    "tmp\n"
   ]
  },
  {
   "cell_type": "markdown",
   "metadata": {},
   "source": [
    "## How many hyphal ASVs at each time point"
   ]
  },
  {
   "cell_type": "code",
   "execution_count": null,
   "metadata": {},
   "outputs": [],
   "source": [
    "df.l2fc.Exp3 %>% \n",
    "    filter(Contrast == \"CH_CS\" & padj < 0.05 & log2FoldChange > 0 & Subset == \"Dryden-Gv\" & DAI == 14) %>%\n",
    "        .$OTU %>%\n",
    "        unique() %>%\n",
    "        length() %>%\n",
    "paste(., \"ASVs enriched at 14 days\")\n",
    "\n",
    "df.l2fc.Exp3 %>% \n",
    "    filter(Contrast == \"CH_CS\" & padj < 0.05 & log2FoldChange > 0 & Subset == \"Dryden-Gv\" & DAI == 24) %>%\n",
    "        .$OTU %>%\n",
    "        unique() %>%\n",
    "        length() %>%\n",
    "paste(., \"ASVs enriched at 24 days\")\n",
    "\n",
    "df.l2fc.Exp3 %>% \n",
    "    filter(Contrast == \"CH_CS\" & padj < 0.05 & log2FoldChange > 0 & Subset == \"Dryden-Gv\" & DAI == 35) %>%\n",
    "        .$OTU %>%\n",
    "        unique() %>%\n",
    "        length() %>%\n",
    "paste(., \"ASVs enriched at 35 days\")\n",
    "\n",
    "df.l2fc.Exp3 %>% \n",
    "    filter(Contrast == \"CH_CS\" & padj < 0.05 & log2FoldChange > 0 & Subset == \"Dryden-Gv\" & DAI == 45) %>%\n",
    "        .$OTU %>%\n",
    "        unique() %>%\n",
    "        length() %>%\n",
    "paste(., \"ASVs enriched at 45 days\")\n",
    "\n",
    "df.l2fc.Exp3 %>% \n",
    "    filter(Contrast == \"CH_CS\" & padj < 0.05 & log2FoldChange > 0 & Subset == \"Dryden-Gv\" & DAI == 65) %>%\n",
    "        .$OTU %>%\n",
    "        unique() %>%\n",
    "        length() %>%\n",
    "paste(., \"ASVs enriched at 65 days\")"
   ]
  },
  {
   "cell_type": "code",
   "execution_count": null,
   "metadata": {},
   "outputs": [],
   "source": [
    "## what proportion of reads are hyphal ASVs over time"
   ]
  },
  {
   "cell_type": "code",
   "execution_count": null,
   "metadata": {},
   "outputs": [],
   "source": [
    "Exp3ASVs = df.l2fc.Exp3 %>% \n",
    "    filter(Contrast == \"CH_CS\" & padj < 0.05 & log2FoldChange > 0 & Subset == \"Dryden-Gv\") %>%\n",
    "        .$OTU %>%\n",
    "        unique() %>%\n",
    "        as.character()\n",
    "\n",
    "paste(length(Exp3ASVs), \" ASVs enriched in hyphal samples in Experiment 3\")"
   ]
  },
  {
   "cell_type": "code",
   "execution_count": null,
   "metadata": {},
   "outputs": [],
   "source": [
    "Exp3.HASV.m = ps %>% \n",
    "transform_sample_counts(., function(x) x/sum(x)) %>%\n",
    "prune_taxa(Exp3ASVs, .) %>% \n",
    "subset_samples(SampleType == \"CH\" & Experiment == 3) %>%\n",
    "psmelt()\n",
    "                        \n",
    "head(Exp3.HASV.m)"
   ]
  },
  {
   "cell_type": "code",
   "execution_count": null,
   "metadata": {},
   "outputs": [],
   "source": [
    "Exp3.HASV.m %>% \n",
    "    group_by(DAI, Rep) %>% \n",
    "    summarize(sAbund = sum(Abundance)) %>% \n",
    "    group_by(DAI) %>% \n",
    "    summarize(HASV_abund = mean(sAbund),\n",
    "             HASV_abund.se = sd(sAbund)/sqrt(length(sAbund)))"
   ]
  },
  {
   "cell_type": "markdown",
   "metadata": {},
   "source": [
    "# Which Hyphal ASVs change with time"
   ]
  },
  {
   "cell_type": "code",
   "execution_count": null,
   "metadata": {},
   "outputs": [],
   "source": [
    "HASVs = df.l2fc.Exp3 %>%\n",
    "    filter(Contrast == \"CH_CS\" & padj < 0.05 & log2FoldChange > 0 & Subset == \"Dryden-Gv\") %>%\n",
    "    .$OTU %>%\n",
    "    unique()\n",
    "length(HASVs)\n",
    "\n",
    "df.THASVs = df.l2fc.Exp3.time %>%\n",
    "    filter(SampleType == \"CH\" & padj < 0.05 & OTU %in% HASVs)\n",
    "dim(df.THASVs)"
   ]
  },
  {
   "cell_type": "code",
   "execution_count": null,
   "metadata": {},
   "outputs": [],
   "source": [
    "df.THASVs %>% head()"
   ]
  },
  {
   "cell_type": "code",
   "execution_count": null,
   "metadata": {},
   "outputs": [],
   "source": [
    "tmp = df.THASVs %>% select(OTU, Phylum, Class, Order, Family, Genus)\n",
    "dft.CH.padj = df.THASVs %>%\n",
    "    select(OTU,padj,Contrast) %>% \n",
    "    dcast(OTU ~ Contrast, value.var = \"padj\") \n",
    "colnames(dft.CH.padj)[-1] = c(paste(colnames(dft.CH.padj)[-1],'padj', sep = '.'))\n",
    "\n",
    "dft.CH.l2fc = df.THASVs %>%\n",
    "    select(OTU,log2FoldChange,Contrast) %>% \n",
    "    dcast(OTU ~ Contrast, value.var = \"log2FoldChange\") \n",
    "colnames(dft.CH.l2fc)[-1] = c(paste(colnames(dft.CH.l2fc)[-1],'l2fc', sep = '.'))\n",
    "\n",
    "dft = full_join(dft.CH.padj, dft.CH.l2fc, by = \"OTU\") %>%\n",
    "                select(OTU,\"35_14.l2fc\", \"35_14.padj\", \"45_14.l2fc\", \"45_14.padj\",\"65_14.l2fc\", \"65_14.padj\" ) %>%\n",
    "      left_join(., tmp, by = \"OTU\")\n",
    "head(dft)"
   ]
  },
  {
   "cell_type": "markdown",
   "metadata": {},
   "source": [
    "### write file of logfold change for HASVs over time"
   ]
  },
  {
   "cell_type": "code",
   "execution_count": null,
   "metadata": {},
   "outputs": [],
   "source": [
    "outfile = file.path(figDir, 'HASVs_l2fcTime.txt')\n",
    "write.table(dft, file = outfile, sep = '\\t', row.names = FALSE)"
   ]
  },
  {
   "cell_type": "markdown",
   "metadata": {},
   "source": [
    "# Which hyphal ASVs are associated with POM"
   ]
  },
  {
   "cell_type": "markdown",
   "metadata": {},
   "source": [
    "### Gv"
   ]
  },
  {
   "cell_type": "code",
   "execution_count": null,
   "metadata": {},
   "outputs": [],
   "source": [
    "HASVs = df.l2fc.Exp2 %>% \n",
    "    filter(Contrast == \"CH_CS\" & padj < 0.05 & log2FoldChange > 0 & Subset %in% c(\"Dryden-Gv\", \"Florence-Gv\", \"Pendelton-Gv\")) %>%\n",
    "    .$OTU %>%\n",
    "    unique() \n",
    "paste(length(HASVs), 'enriched in hyphal samples compared to core slurry in at least one of three soils')\n",
    "\n",
    "#Currently cannot check Ri as BPOM was not collected in those mesocosms.  \n",
    "#Could run Deseq model against Gv BPOM in Dryden soil since it was from the bulk compartment anyway\n",
    "\n",
    "BPASVs = df.l2fc.Exp2 %>% \n",
    "    filter(Contrast == \"BP_CS\" & padj < 0.05 & log2FoldChange > 0 & Subset %in% c(\"Dryden-Gv\", \"Florence-Gv\", \"Pendelton-Gv\")) %>%\n",
    "    .$OTU %>%\n",
    "    unique() \n",
    "paste(length(BPASVs), 'enriched in BP samples compared to CS in at least one of three soils')\n",
    "\n",
    "NonSpecificASVs = intersect(HASVs, BPASVs) \n",
    "NonSpecificASVs %>% length() %>% paste(., \"Gv ASVs also enriched BPOM samples compared to CS\")\n",
    "\n",
    "\n",
    "\n",
    "tmp = df.l2fc.Exp2 %>%\n",
    "    filter(Contrast == \"CH_BP\" & OTU %in% GvASVs) %>%\n",
    "    filter(OTU %in% BPASVs)\n",
    "\n",
    "dim(tmp)\n",
    "\n",
    "tmp %>% \n",
    "    group_by(Order) %>%\n",
    "    summarise(count = length(Order))\n",
    "\n",
    "tmp\n",
    "    "
   ]
  },
  {
   "cell_type": "code",
   "execution_count": null,
   "metadata": {},
   "outputs": [],
   "source": [
    "library(VennDiagram)"
   ]
  },
  {
   "cell_type": "code",
   "execution_count": null,
   "metadata": {},
   "outputs": [],
   "source": [
    "#area 1 = hybrid\n",
    "#area 2 = Fert\n",
    "#area 3 = Enzyme\n",
    "draw.pairwise.venn(area1 = 221, area2 = 299, \n",
    "cross.area = 34, category = c(\"Hyphae\", \"POM\"), lty = rep(2, 2), \n",
    "                 fill = c(\"blue\",  \"red\"), cex = 2, cat.cex = 2, scaled = TRUE, rotation.degree = 180, \n",
    "                   euler.d = TRUE, cat.pos = c(0,0))\n",
    "\n",
    "outfile = file.path(figDir,'CH-BP_Venn_Gv.pdf')\n",
    "pdf(file = outfile, width = 3, height = 3)\n",
    "\n",
    "draw.pairwise.venn(area1 = 221, area2 = 299, \n",
    "cross.area = 34, category = c(\"Hyphae\", \"POM\"), lty = rep(2, 2), \n",
    "                 fill = c(\"blue\",  \"red\"), cex = 2, cat.cex = 2, scaled = TRUE, rotation.degree = 180, \n",
    "                   euler.d = TRUE, cat.pos = c(0,0))\n",
    "dev.off()\n"
   ]
  },
  {
   "cell_type": "markdown",
   "metadata": {},
   "source": [
    "### Ri"
   ]
  },
  {
   "cell_type": "code",
   "execution_count": null,
   "metadata": {},
   "outputs": [],
   "source": [
    "HASVs = df.l2fc.Exp2 %>% \n",
    "    filter(Contrast == \"CH_CS\" & padj < 0.05 & log2FoldChange > 0 & Subset %in% c(\"Dryden-RI\")) %>%\n",
    "    .$OTU %>%\n",
    "    unique() \n",
    "paste(length(HASVs), 'enriched in Ri hyphal samples compared to core slurry in Dryden soils')\n",
    "\n",
    "#Currently cannot check Ri as BPOM was not collected in those mesocosms.  \n",
    "#Could run Deseq model against Gv BPOM in Dryden soil since it was from the bulk compartment anyway\n",
    "\n",
    "BPASVs = df.l2fc.Exp2 %>% \n",
    "    filter(Contrast == \"BP_CS\" & padj < 0.05 & log2FoldChange > 0 & Subset %in% c(\"Dryden-Gv\")) %>%\n",
    "    .$OTU %>%\n",
    "    unique() \n",
    "paste(length(BPASVs), 'enriched in BP samples compared to CS in Dryden soils')\n",
    "\n",
    "NonSpecificASVs = intersect(HASVs, BPASVs) \n",
    "NonSpecificASVs %>% length() %>% paste(., \"Ri ASVs also enriched BPOM samples compared to CS\")"
   ]
  },
  {
   "cell_type": "code",
   "execution_count": null,
   "metadata": {},
   "outputs": [],
   "source": [
    "draw.pairwise.venn(area1 = 236, area2 = 191, \n",
    "cross.area = 35, category = c(\"Hyphae\", \"POM\"), lty = rep(2, 2), \n",
    "                 fill = c(\"blue\",  \"red\"), cex = 2, cat.cex = 2, scaled = TRUE, rotation.degree = 0, \n",
    "                   euler.d = TRUE, cat.pos = c(0,0))\n",
    "\n",
    "outfile = file.path(figDir,'CH-BP_Venn_Ri.pdf')\n",
    "pdf(file = outfile, width = 3, height = 3)\n",
    "\n",
    "draw.pairwise.venn(area1 = 236, area2 = 191, \n",
    "cross.area = 35, category = c(\"Hyphae\", \"POM\"), lty = rep(2, 2), \n",
    "                 fill = c(\"blue\",  \"red\"), cex = 2, cat.cex = 2, scaled = TRUE, rotation.degree = 0, \n",
    "                   euler.d = TRUE, cat.pos = c(0,0))\n",
    "dev.off()\n"
   ]
  },
  {
   "cell_type": "markdown",
   "metadata": {},
   "source": [
    "## Overlap between enriched ASVs in hyphal compartment and root compartment"
   ]
  },
  {
   "cell_type": "markdown",
   "metadata": {},
   "source": [
    "### Gv"
   ]
  },
  {
   "cell_type": "code",
   "execution_count": null,
   "metadata": {
    "scrolled": true
   },
   "outputs": [],
   "source": [
    "HASVs = df.l2fc.Exp2 %>% \n",
    "    filter(Contrast == \"CH_CS\" & padj < 0.05 & log2FoldChange > 0 & Subset %in% c(\"Dryden-Gv\", \"Florence-Gv\", \"Pendelton-Gv\")) %>%\n",
    "    .$OTU %>%\n",
    "    unique() \n",
    "paste(length(HASVs), 'enriched in hyphal samples compared to core slurry in at least one of three soils')\n",
    "\n",
    "#Currently cannot check Ri as BPOM was not collected in those mesocosms.  \n",
    "#Could run Deseq model against Gv BPOM in Dryden soil since it was from the bulk compartment anyway\n",
    "\n",
    "RHASVs = df.l2fc.Exp2 %>% \n",
    "    filter(Contrast == \"RH_RS\" & padj < 0.05 & log2FoldChange > 0 & Subset %in% c(\"Dryden-Gv\", \"Florence-Gv\", \"Pendelton-Gv\")) %>%\n",
    "    .$OTU %>%\n",
    "    unique() \n",
    "paste(length(RHASVs), 'enriched in root hyphal samples compared to root sand slurry in at least one of three soils')\n",
    "\n",
    "SharedASVs = intersect(HASVs, RHASVs) \n",
    "SharedASVs %>% length() %>% paste(., \"Gv ASVs also enriched in root hyphal samples compared to root sand slurry\")\n",
    "\n",
    "\n",
    "draw.pairwise.venn(area1 = length(HASVs), area2 = length(RHASVs), \n",
    "cross.area = length(SharedASVs), category = c(\"Core Hyphae\", \"Root Hyphae\"), lty = rep(2, 2), \n",
    "                 fill = c(\"blue\",  \"red\"), cex = 2, cat.cex = 2, scaled = TRUE, rotation.degree = 0, \n",
    "                   euler.d = TRUE, cat.pos = c(0,0))\n",
    "\n",
    "\n",
    "df.l2fc.Exp2 %>%\n",
    "    filter(OTU %in% RHASVs) %>%\n",
    "        select(OTU, Phylum, Class, Order, Family, Genus) %>%\n",
    "        unique()\n",
    "#outfile = file.path(figDir,'CH-BP_Venn_Ri.pdf')\n",
    "# pdf(file = outfile, width = 3, height = 3)\n",
    "\n",
    "# draw.pairwise.venn(area1 = 236, area2 = 191, \n",
    "# cross.area = 35, category = c(\"Hyphae\", \"POM\"), lty = rep(2, 2), \n",
    "#                  fill = c(\"blue\",  \"red\"), cex = 2, cat.cex = 2, scaled = TRUE, rotation.degree = 0, \n",
    "#                    euler.d = TRUE, cat.pos = c(0,0))\n",
    "# dev.off()"
   ]
  },
  {
   "cell_type": "markdown",
   "metadata": {},
   "source": [
    "### Ri"
   ]
  },
  {
   "cell_type": "code",
   "execution_count": null,
   "metadata": {},
   "outputs": [],
   "source": [
    "HASVs = df.l2fc.Exp2 %>% \n",
    "    filter(Contrast == \"CH_CS\" & padj < 0.05 & log2FoldChange > 0 & Subset %in% c(\"Dryden-RI\")) %>%\n",
    "    .$OTU %>%\n",
    "    unique() \n",
    "paste(length(HASVs), 'enriched in RI hyphal samples from Dryden')\n",
    "\n",
    "#Currently cannot check Ri as BPOM was not collected in those mesocosms.  \n",
    "#Could run Deseq model against Gv BPOM in Dryden soil since it was from the bulk compartment anyway\n",
    "\n",
    "RHASVs = df.l2fc.Exp2 %>% \n",
    "    filter(Contrast == \"RH_RS\" & padj < 0.05 & log2FoldChange > 0 & Subset %in% c(\"Dryden-RI\")) %>%\n",
    "    .$OTU %>%\n",
    "    unique() \n",
    "paste(length(RHASVs), 'enriched in root hyphal samples compared to root sand slurry from Dryden')\n",
    "\n",
    "SharedASVs = intersect(HASVs, RHASVs) \n",
    "SharedASVs %>% length() %>% paste(., \"ASVs enriched in hyphal samples of both root and soil compartments\")\n",
    "\n",
    "\n",
    "draw.pairwise.venn(area1 = length(HASVs), area2 = length(RHASVs), \n",
    "cross.area = length(SharedASVs), category = c(\"Core Hyphae\", \"Root Hyphae\"), lty = rep(2, 2), \n",
    "                 fill = c(\"blue\",  \"red\"), cex = 2, cat.cex = 2, scaled = TRUE, rotation.degree = 0, \n",
    "                   euler.d = TRUE, cat.pos = c(0,0))"
   ]
  },
  {
   "cell_type": "markdown",
   "metadata": {},
   "source": [
    "# Check hyphal ASVs can be detected in targeted hypothesis test"
   ]
  },
  {
   "cell_type": "code",
   "execution_count": null,
   "metadata": {},
   "outputs": [],
   "source": [
    "RiASVs = df.l2fc.Exp2 %>% \n",
    "    filter(Contrast == \"CH_CS\" & padj < 0.05 & log2FoldChange > 0 & Subset %in% c(\"Dryden-RI\")) %>%\n",
    "    .$OTU %>%\n",
    "    unique() \n",
    "length(RiASVs)\n",
    "\n",
    "GvASVs = df.l2fc.Exp2 %>% \n",
    "    filter(Contrast == \"CH_CS\" & padj < 0.05 & log2FoldChange > 0 & Subset %in% c(\"Dryden-Gv\")) %>%\n",
    "    .$OTU %>%\n",
    "    unique() \n",
    "length(GvASVs)"
   ]
  },
  {
   "cell_type": "code",
   "execution_count": null,
   "metadata": {},
   "outputs": [],
   "source": [
    "df.l2fc.Exp2 %>% \n",
    "    filter(Contrast == \"BH_BS\" & OTU %in% RiASVs & Subset %in% c(\"Dryden-RI\")) %>%\n",
    "    arrange(pvalue)"
   ]
  },
  {
   "cell_type": "code",
   "execution_count": null,
   "metadata": {},
   "outputs": [],
   "source": [
    "df.l2fc.Exp2 %>% \n",
    "    filter(Contrast == \"BH_BS\" & OTU %in% GvASVs & padj < 0.05 & log2FoldChange > 0) %>%\n",
    "    arrange(pvalue)"
   ]
  },
  {
   "cell_type": "markdown",
   "metadata": {},
   "source": [
    "# Check against abundance of MREs in BH samples"
   ]
  },
  {
   "cell_type": "markdown",
   "metadata": {},
   "source": [
    "### Get MRE table from original phyloseq object"
   ]
  },
  {
   "cell_type": "code",
   "execution_count": null,
   "metadata": {},
   "outputs": [],
   "source": [
    "ps.MRE = readRDS(\"~/Hyphosphere/data/3Exp/phyloseq/3Exp_phyloseq_thresh_woTree_experimental_woContam.rds\") %>%\n",
    "        subset_samples(Fungus == \"Gv\" & Experiment == 2) %>%\n",
    "        \n",
    "         transform_sample_counts(., function(x) x/sum(x)) %>% \n",
    "         prune_taxa(c(\"ASV2\", \"ASV4\", \"ASV11\"),.)\n",
    "\n",
    "tax_table(ps.MRE)\n",
    "        "
   ]
  },
  {
   "cell_type": "code",
   "execution_count": null,
   "metadata": {
    "scrolled": true
   },
   "outputs": [],
   "source": [
    "ps.MRE %>% \n",
    "    psmelt() %>% \n",
    "    #filter(Soil %in% c(\"Dryden\", \"Pendelton\", \"Florence\") & Fungus == \"Gv\")  %>%                                     \n",
    "    group_by(sample_Sample, Soil, SampleType, Treatment, Rep) %>%\n",
    "    summarise(sAbund = sum(Abundance)) %>%\n",
    "    ggplot(., aes(x=interaction(Treatment,Rep), y= log2(sAbund))) +\n",
    "    geom_point()+\n",
    "    facet_grid(Soil~SampleType, scales = 'free_x')+\n",
    "    ggtitle(as.character(\"MREs\"))+\n",
    "    theme(axis.text.x = element_blank())+\n",
    "    ylab('Relative abundance (log2)')\n"
   ]
  },
  {
   "cell_type": "code",
   "execution_count": null,
   "metadata": {},
   "outputs": [],
   "source": [
    "MREtab = ps.MRE %>% \n",
    "    psmelt() %>% \n",
    "    filter(Soil != \"Sand\", Experiment == 2, SampleType %in% c(\"BS\",\"BH\") & Fungus == \"Gv\") %>%\n",
    "    group_by(sample_Sample, Soil) %>%\n",
    "    summarise(sAbund = sum(Abundance))"
   ]
  },
  {
   "cell_type": "markdown",
   "metadata": {},
   "source": [
    "### Get groups - Myxococcales, Fibrobacteres, Burkholderiaceae, Chloroflexaceae, Oli"
   ]
  },
  {
   "cell_type": "code",
   "execution_count": null,
   "metadata": {},
   "outputs": [],
   "source": [
    "TopHASVOrderList = df.l2fc.Exp2 %>% \n",
    "    filter(Contrast == \"CH_CS\" & padj < 0.05 & log2FoldChange > 0 & Subset %in% \n",
    "           c(\"Dryden-Gv\", \"Florence-Gv\", \"Pendelton-Gv\")) %>%\n",
    "    group_by(Order) %>% \n",
    "    summarize(sL2FC = sum(log2FoldChange), n = length(Order)) %>%\n",
    "    arrange(desc(sL2FC)) %>%\n",
    "    filter(!is.na(Order))%>%\n",
    "    .$Order %>%  \n",
    "   as.character()\n",
    "TopHASVOrderList[1:10]"
   ]
  },
  {
   "cell_type": "markdown",
   "metadata": {},
   "source": [
    "## Get taxa relative abundance from phyloseq object without MREs"
   ]
  },
  {
   "cell_type": "code",
   "execution_count": null,
   "metadata": {},
   "outputs": [],
   "source": [
    "ps.rel = ps %>% \n",
    "transform_sample_counts(., function(x) x/sum(x)) \n",
    "\n"
   ]
  },
  {
   "cell_type": "code",
   "execution_count": null,
   "metadata": {},
   "outputs": [],
   "source": [
    "TaxList = df.l2fc.Exp2 %>% \n",
    "    filter(Contrast == \"CH_CS\" & padj < 0.05 & log2FoldChange > 0 & Subset %in% \n",
    "           c(\"Dryden-Gv\", \"Florence-Gv\", \"Pendelton-Gv\") & Order %in% TopHASVOrderList[1:5]) %>%\n",
    "    .$OTU %>%\n",
    "    as.character()%>%\n",
    "    unique() \n",
    " \n",
    "\n",
    "Taxtab = ps.rel %>% \n",
    "    prune_taxa(TaxList, .) %>%\n",
    "    subset_samples(Experiment == 2 & SampleType %in% c(\"BS\",\"BH\") & Fungus == \"Gv\") %>%\n",
    "      psmelt() %>% \n",
    "     group_by(sample_Sample, Soil, SampleType, Order) %>%\n",
    "    summarise(sAbund = sum(Abundance))\n",
    " head(Taxtab)"
   ]
  },
  {
   "cell_type": "code",
   "execution_count": null,
   "metadata": {},
   "outputs": [],
   "source": [
    "cs = brewer.pal(3,\"Set2\")\n",
    "df = full_join(MREtab,Taxtab, by = \"sample_Sample\") \n",
    "head(df)"
   ]
  },
  {
   "cell_type": "code",
   "execution_count": null,
   "metadata": {},
   "outputs": [],
   "source": [
    "df = full_join(MREtab,Taxtab, by = c(\"sample_Sample\",\"Soil\")) %>%\n",
    "               rename(MRE_rel = sAbund.x, HyphalASVs_rel = sAbund.y)\n",
    "\n",
    "head(df)\n",
    "#tmp = df %>% filter(SampleType == \"BH\")"
   ]
  },
  {
   "cell_type": "code",
   "execution_count": null,
   "metadata": {},
   "outputs": [],
   "source": [
    "p1 = df %>%\n",
    "    #filter(OTU %in% c(\"ASV14\", \"ASV18\")) %>%\n",
    "    ggplot(.,aes(x = MRE_rel, y = HyphalASVs_rel)) +\n",
    "        geom_jitter(aes(fill = Soil, shape = SampleType)) +\n",
    "        theme_pub()+\n",
    "        scale_shape_manual(values = c(21,22))+\n",
    "        #scale_x_continuous(trans='log2')+\n",
    "        #scale_y_continuous(trans='log2')+\n",
    "        scale_fill_manual(values = cs, guide = guide_legend(ncol = 3)) +#, labels = c(\"Bulk hyphosphere\", \"Bulk soil\"))+\n",
    "        ylab(\"Hyphal associated taxa relative abundance\") +\n",
    "        xlab(\"MRE relative abundance\")+\n",
    "       #annotate(geom=\"text\", x=0.0005, y=.0020, label=EqLabel,\n",
    "       #      color=\"black\")+\n",
    "        geom_smooth(aes(x = MRE_rel, y = HyphalASVs_rel), method='lm', se = FALSE,  lty = 2)+\n",
    "       facet_wrap(~Order, scales = \"free_y\", ncol = 1)+\n",
    "        theme(legend.position = 'bottom')+\n",
    "        guides(fill=guide_legend(override.aes=list(shape = 21, fill= cs), ncol = 3))\n",
    "\n",
    "\n",
    "\n",
    "p1"
   ]
  },
  {
   "cell_type": "code",
   "execution_count": null,
   "metadata": {},
   "outputs": [],
   "source": [
    "tmp = df %>% filter(Order == \"Betaproteobacteriales\")\n",
    "m1 = lm(HyphalASVs_rel~Soil + SampleType + MRE_rel, data = tmp)\n",
    "tmp = anova(m1) %>% as.data.frame()\n",
    "tmp[,2:5] = signif(tmp[,2:5], digits=2)\n",
    "summary(m1)\n",
    "Bm.df = ggtexttable(tmp, theme = ttheme(\"blank\", base_size = 8))"
   ]
  },
  {
   "cell_type": "code",
   "execution_count": null,
   "metadata": {},
   "outputs": [],
   "source": [
    "tmp = df %>% filter(Order == \"Myxococcales\")\n",
    "m2 = lm(HyphalASVs_rel~Soil + SampleType + MRE_rel, data = tmp)\n",
    "tmp = anova(m2) %>% as.data.frame()\n",
    "tmp[,2:5] = signif(tmp[,2:5], digits=2)\n",
    "summary(m2)\n",
    "Mm.df = ggtexttable(tmp, theme = ttheme(\"blank\", base_size = 8))"
   ]
  },
  {
   "cell_type": "code",
   "execution_count": null,
   "metadata": {},
   "outputs": [],
   "source": [
    "tmp = df %>% filter(Order == \"Fibrobacterales\")\n",
    "m3 = lm(HyphalASVs_rel~Soil + SampleType + MRE_rel, data = tmp)\n",
    "tmp = anova(m3) %>% as.data.frame()\n",
    "tmp[,2:5] = signif(tmp[,2:5], digits=2)\n",
    "summary(m3)\n",
    "Fm.df = ggtexttable(tmp, theme = ttheme(\"blank\", base_size = 8))"
   ]
  },
  {
   "cell_type": "code",
   "execution_count": null,
   "metadata": {},
   "outputs": [],
   "source": [
    "tmp = df %>% filter(Order == \"Chloroflexales\")\n",
    "m4 = lm(HyphalASVs_rel~Soil + SampleType + MRE_rel, data = tmp)\n",
    "tmp = anova(m4) %>% as.data.frame()\n",
    "tmp[,2:5] = signif(tmp[,2:5], digits=2)\n",
    "summary(m4)\n",
    "Cm.df = ggtexttable(tmp, theme = ttheme(\"blank\", base_size = 8))"
   ]
  },
  {
   "cell_type": "code",
   "execution_count": null,
   "metadata": {
    "scrolled": true
   },
   "outputs": [],
   "source": [
    "tmp = df %>% filter(Order == \"Rhizobiales\")\n",
    "m5 = lm(HyphalASVs_rel~Soil + SampleType + MRE_rel, data = tmp)\n",
    "tmp = anova(m5) %>% as.data.frame()\n",
    "tmp[,2:5] = signif(tmp[,2:5], digits=2)\n",
    "summary(m5)\n",
    "Rm.df = ggtexttable(tmp, theme = ttheme(\"blank\", base_size = 8))\n",
    "#Rm.df = table_cell_font(Rm.df, row = .8, column = .8,\n",
    " #                     face = \"bold\")"
   ]
  },
  {
   "cell_type": "code",
   "execution_count": null,
   "metadata": {},
   "outputs": [],
   "source": []
  },
  {
   "cell_type": "code",
   "execution_count": null,
   "metadata": {},
   "outputs": [],
   "source": [
    "ModelsForGraph = ggarrange(Bm.df, Cm.df, Fm.df, Mm.df, Rm.df, nullGrob(), ncol = 1, heights = c(1,1,1,1,1,.8))\n",
    "PlotAndTables = ggarrange(p1, ModelsForGraph, ncol = 2)\n",
    "PlotAndTables\n",
    "\n",
    "filename = file.path(figDir,\"HASVs_vs_MRE.pdf\")\n",
    "\n",
    "pdf(file = filename, width = 6.5, height = 8, useDingbats = FALSE)\n",
    "PlotAndTables\n",
    "dev.off()\n"
   ]
  },
  {
   "cell_type": "code",
   "execution_count": null,
   "metadata": {},
   "outputs": [],
   "source": [
    "anova(m1) %>% as.data.frame()  %>% \n",
    "    bind_rows(., as.data.frame(anova(m2))) \n",
    "    #rbind(.,cbind(,,,,,))"
   ]
  },
  {
   "cell_type": "code",
   "execution_count": null,
   "metadata": {},
   "outputs": [],
   "source": [
    "dfout = bind_rows(df.l2fc.Exp1, df.l2fc.Exp2)%>% bind_rows(., df.l2fc.Exp3) %>% filter(Contrast == \"CH_CS\")\n",
    "fileout = file.path(work_dir, \"CombinedCH_CS_l2fc.txt\")\n",
    "write.table(dfout, file = fileout, sep = '\\t', row.names = FALSE)"
   ]
  },
  {
   "cell_type": "code",
   "execution_count": null,
   "metadata": {},
   "outputs": [],
   "source": [
    "tail(dfout)"
   ]
  },
  {
   "cell_type": "code",
   "execution_count": null,
   "metadata": {
    "scrolled": true
   },
   "outputs": [],
   "source": [
    "sessionInfo()"
   ]
  },
  {
   "cell_type": "code",
   "execution_count": null,
   "metadata": {},
   "outputs": [],
   "source": [
    "citation()"
   ]
  }
 ],
 "metadata": {
  "kernelspec": {
   "display_name": "R",
   "language": "R",
   "name": "ir"
  },
  "language_info": {
   "codemirror_mode": "r",
   "file_extension": ".r",
   "mimetype": "text/x-r-source",
   "name": "R",
   "pygments_lexer": "r",
   "version": "3.6.0"
  }
 },
 "nbformat": 4,
 "nbformat_minor": 2
}
