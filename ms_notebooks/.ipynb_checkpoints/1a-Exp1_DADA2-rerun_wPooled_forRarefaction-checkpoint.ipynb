{
 "cells": [
  {
   "cell_type": "markdown",
   "metadata": {},
   "source": [
    "# DADA2 re-run to check rarefaction curves for  Exp 1"
   ]
  },
  {
   "cell_type": "markdown",
   "metadata": {},
   "source": [
    "* DADA2 pairwise sample inference remves singletons, which makes rarefaction curves plataue at any sequencing depth.  This notebook re-runs the sample inference Exp 1 to check sequencing depth of various sample types.\n",
    "\n",
    "* Need to define for each dataset\n",
    "** Number of cores\n",
    "** OutFolder\n",
    "** Path to sequence directory"
   ]
  },
  {
   "cell_type": "code",
   "execution_count": null,
   "metadata": {},
   "outputs": [],
   "source": [
    "ncores = 20"
   ]
  },
  {
   "cell_type": "code",
   "execution_count": null,
   "metadata": {},
   "outputs": [],
   "source": [
    "library(dada2)\n",
    "library(tidyr)\n",
    "library(dplyr)"
   ]
  },
  {
   "cell_type": "code",
   "execution_count": null,
   "metadata": {},
   "outputs": [],
   "source": [
    "seqDIR = '~/Hyphosphere/data/MiSeq/Exp1/'\n",
    "path = seqDIR\n",
    "\n",
    "#location of taxonomy database\n",
    "#TrainingSet = '~/databases/silva_nr_v132_train_set.fa.gz'\n",
    "#SpeciesTraining = '~/databases/silva_species_assignment_v132.fa.gz'\n",
    "\n",
    "# Sample data table\n",
    "SamTab = '~/Hyphosphere/3exp_metadata_final.txt'\n",
    "\n",
    "# output folder\n",
    "OutFolder = '~/Hyphosphere/data/Exp1/DADA2Files/Pooled-rerun'\n"
   ]
  },
  {
   "cell_type": "markdown",
   "metadata": {},
   "source": [
    "# Filter and trim\n"
   ]
  },
  {
   "cell_type": "code",
   "execution_count": null,
   "metadata": {},
   "outputs": [],
   "source": [
    "#Collect forward and reverse names in order\n",
    "fastqFs <- sort(list.files(path, pattern=\".R1_001.fastq\"))\n",
    "fastqRs <- sort(list.files(path, pattern=\".R2_001.fastq\"))\n",
    "if(length(fastqFs) != length(fastqRs)) stop(\"Forward and reverse files do not match.\")"
   ]
  },
  {
   "cell_type": "code",
   "execution_count": null,
   "metadata": {},
   "outputs": [],
   "source": [
    "#sample.names"
   ]
  },
  {
   "cell_type": "markdown",
   "metadata": {},
   "source": [
    "## Plot quality profiles of forward and reverse reads"
   ]
  },
  {
   "cell_type": "code",
   "execution_count": null,
   "metadata": {},
   "outputs": [],
   "source": [
    "plotQualityProfile(file.path(path,fastqFs[17:18]))\n"
   ]
  },
  {
   "cell_type": "markdown",
   "metadata": {},
   "source": [
    "* Foward reads look very good.  Truncate to 220"
   ]
  },
  {
   "cell_type": "code",
   "execution_count": null,
   "metadata": {},
   "outputs": [],
   "source": [
    "plotQualityProfile(file.path(path,fastqRs[17:18]))"
   ]
  },
  {
   "cell_type": "markdown",
   "metadata": {},
   "source": [
    "# Perform filtering and trimming\n"
   ]
  },
  {
   "cell_type": "code",
   "execution_count": null,
   "metadata": {},
   "outputs": [],
   "source": [
    "filtpathF <- file.path(path, \"filtered_F\") # Filtered forward files go into the pathF/filtered/ subdirectory\n",
    "filtpathR <- file.path(path, \"filtered_R\") # ..."
   ]
  },
  {
   "cell_type": "markdown",
   "metadata": {},
   "source": [
    "* Note that primers remain on sequences from UMGC, so trimLeft(19,20) is included in this dataset"
   ]
  },
  {
   "cell_type": "code",
   "execution_count": null,
   "metadata": {},
   "outputs": [],
   "source": [
    "# Filtering: THESE PARAMETERS ARENT OPTIMAL FOR ALL DATASETS\n",
    "out = filterAndTrim(fwd=file.path(path, fastqFs), filt=file.path(filtpathF, fastqFs),\n",
    "              rev=file.path(path, fastqRs), filt.rev=file.path(filtpathR, fastqRs),\n",
    "              truncLen=c(210,125), maxEE=2, truncQ=2, maxN=0, rm.phix=TRUE, trimLeft=c(19,20),\n",
    "              compress=TRUE, verbose=TRUE, multithread=ncores)"
   ]
  },
  {
   "cell_type": "code",
   "execution_count": null,
   "metadata": {},
   "outputs": [],
   "source": [
    "head(out)"
   ]
  },
  {
   "cell_type": "code",
   "execution_count": null,
   "metadata": {},
   "outputs": [],
   "source": [
    "filtFs <- list.files(filtpathF, pattern=\".fastq\", full.names = TRUE)\n",
    "filtRs <- list.files(filtpathR, pattern=\".fastq\", full.names = TRUE)\n",
    "sample.names <- sapply(strsplit(basename(filtFs), \"_R1_001.fastq\"), `[`, 1) # Assumes filename = samplename_XXX.fastq.gz\n",
    "sample.namesR <- sapply(strsplit(basename(filtRs), \"_R2_001.fastq\"), `[`, 1) # Assumes filename = samplename_XXX.fastq.gz\n",
    "if(!identical(sample.names, sample.namesR)) stop(\"Forward and reverse files do not match.\")\n",
    "names(filtFs) <- sample.names\n",
    "names(filtRs) <- sample.names\n",
    "sample.names"
   ]
  },
  {
   "cell_type": "markdown",
   "metadata": {},
   "source": [
    "## Learn errors"
   ]
  },
  {
   "cell_type": "code",
   "execution_count": null,
   "metadata": {},
   "outputs": [],
   "source": [
    "set.seed(100)\n",
    "# Learn forward error rates\n",
    "errF <- learnErrors(filtFs, multithread=ncores)\n",
    "# Learn reverse error rates\n",
    "errR <- learnErrors(filtRs, multithread=ncores)"
   ]
  },
  {
   "cell_type": "code",
   "execution_count": null,
   "metadata": {
    "scrolled": true
   },
   "outputs": [],
   "source": [
    "plotErrors(errF)"
   ]
  },
  {
   "cell_type": "markdown",
   "metadata": {},
   "source": [
    "## Sequence inference"
   ]
  },
  {
   "cell_type": "code",
   "execution_count": null,
   "metadata": {},
   "outputs": [],
   "source": [
    "# # Sample inference and merger of paired-end reads\n",
    "# mergers <- vector(\"list\", length(sample.names))\n",
    "# names(mergers) <- sample.names\n",
    "# for(sam in sample.names) {\n",
    "#   cat(\"Processing:\", sam, \"\\n\")\n",
    "#     derepF <- derepFastq(filtFs[[sam]])\n",
    "#     ddF <- dada(derepF, err=errF, multithread=ncores, pool = TRUE)\n",
    "#     derepR <- derepFastq(filtRs[[sam]])\n",
    "#     ddR <- dada(derepR, err=errR, multithread=ncores, pool = TRUE)\n",
    "#     merger <- mergePairs(ddF, derepF, ddR, derepR)\n",
    "#     mergers[[sam]] <- merger\n",
    "# }\n",
    "# rm(derepF); rm(derepR)"
   ]
  },
  {
   "cell_type": "code",
   "execution_count": null,
   "metadata": {},
   "outputs": [],
   "source": [
    "derepF <- derepFastq(filtFs)\n",
    "    dadaFS <- dada(derepF, err=errF, multithread=ncores, pool = TRUE)"
   ]
  },
  {
   "cell_type": "code",
   "execution_count": null,
   "metadata": {
    "scrolled": true
   },
   "outputs": [],
   "source": [
    "derepR <- derepFastq(filtRs)\n",
    "    dadaRS <- dada(derepR, err=errR, multithread=ncores, pool = TRUE)"
   ]
  },
  {
   "cell_type": "code",
   "execution_count": null,
   "metadata": {},
   "outputs": [],
   "source": [
    "mergers <- mergePairs(dadaFS, derepF, dadaRS, derepR, verbose=TRUE)\n",
    "# Inspect the merger data.frame from the first sample\n",
    "head(mergers[[1]])"
   ]
  },
  {
   "cell_type": "markdown",
   "metadata": {},
   "source": [
    "# Construct sequence table and remove chimeras"
   ]
  },
  {
   "cell_type": "code",
   "execution_count": null,
   "metadata": {},
   "outputs": [],
   "source": [
    "\n",
    "seqtab <- makeSequenceTable(mergers)"
   ]
  },
  {
   "cell_type": "code",
   "execution_count": null,
   "metadata": {
    "scrolled": true
   },
   "outputs": [],
   "source": [
    "(seqtab)[1:3,1:5]"
   ]
  },
  {
   "cell_type": "code",
   "execution_count": null,
   "metadata": {},
   "outputs": [],
   "source": [
    "outFile = file.path(OutFolder,\"seqtab_wPooledDadaPipeline.rds\")\n",
    "saveRDS(seqtab, outFile) "
   ]
  },
  {
   "cell_type": "code",
   "execution_count": null,
   "metadata": {},
   "outputs": [],
   "source": [
    "dim(seqtab)\n",
    "# Inspect distribution of sequence lengths\n",
    "table(nchar(getSequences(seqtab)))"
   ]
  },
  {
   "cell_type": "markdown",
   "metadata": {},
   "source": [
    "## subset to proper sequence lengths"
   ]
  },
  {
   "cell_type": "code",
   "execution_count": null,
   "metadata": {},
   "outputs": [],
   "source": [
    "seqtab2 <- seqtab[,nchar(colnames(seqtab)) %in% seq(251,256)]\n",
    "\n",
    "table(nchar(getSequences(seqtab2)))"
   ]
  },
  {
   "cell_type": "markdown",
   "metadata": {},
   "source": [
    "## Remove chimeras"
   ]
  },
  {
   "cell_type": "markdown",
   "metadata": {},
   "source": [
    "* removes all sequences that can be exactly reconstructed as a bimera of two more abundant sequences"
   ]
  },
  {
   "cell_type": "code",
   "execution_count": null,
   "metadata": {},
   "outputs": [],
   "source": [
    "seqtab.nochim <- removeBimeraDenovo(seqtab2, method=\"consensus\", multithread=ncores, verbose=TRUE)"
   ]
  },
  {
   "cell_type": "code",
   "execution_count": null,
   "metadata": {},
   "outputs": [],
   "source": [
    "dim(seqtab.nochim)"
   ]
  },
  {
   "cell_type": "code",
   "execution_count": null,
   "metadata": {},
   "outputs": [],
   "source": [
    "outFile = file.path(OutFolder,\"seqtab-seqtab_wPooledDadaPipeline.rds\")\n",
    "\n",
    "saveRDS(seqtab.nochim, outFile)"
   ]
  },
  {
   "cell_type": "code",
   "execution_count": null,
   "metadata": {},
   "outputs": [],
   "source": []
  },
  {
   "cell_type": "markdown",
   "metadata": {},
   "source": [
    "# Generate rarefaction curves"
   ]
  },
  {
   "cell_type": "code",
   "execution_count": null,
   "metadata": {},
   "outputs": [],
   "source": [
    "out = vegan::rarecurve(seqtab.nochim,step = 50, cex = 0.5)"
   ]
  },
  {
   "cell_type": "code",
   "execution_count": null,
   "metadata": {},
   "outputs": [],
   "source": [
    "rare <- lapply(out, function(x){\n",
    "  b <- as.data.frame(x)\n",
    "  b <- data.frame(OTU = b[,1], raw.read = rownames(b))\n",
    "  b$raw.read <- as.numeric(gsub(\"N\", \"\",  b$raw.read))\n",
    "  return(b)\n",
    "})"
   ]
  },
  {
   "cell_type": "code",
   "execution_count": null,
   "metadata": {},
   "outputs": [],
   "source": [
    "names(rare) <- rownames(seqtab.nochim)"
   ]
  },
  {
   "cell_type": "code",
   "execution_count": null,
   "metadata": {},
   "outputs": [],
   "source": [
    "library(tidyverse)"
   ]
  },
  {
   "cell_type": "code",
   "execution_count": null,
   "metadata": {},
   "outputs": [],
   "source": [
    "rare <- map_dfr(rare, function(x){\n",
    "  z <- data.frame(x)\n",
    "  return(z)\n",
    "}, .id = \"sample\")\n",
    "head(rare)"
   ]
  },
  {
   "cell_type": "code",
   "execution_count": null,
   "metadata": {},
   "outputs": [],
   "source": [
    "ggplot(data = rare)+\n",
    "  geom_line(aes(x = raw.read, y = OTU, color = sample))+\n",
    "  scale_x_continuous(labels =  scales::scientific_format())"
   ]
  },
  {
   "cell_type": "code",
   "execution_count": null,
   "metadata": {},
   "outputs": [],
   "source": [
    "df = read.delim(SamTab, sep = '\\t', header = TRUE)\n",
    "head(df)"
   ]
  },
  {
   "cell_type": "code",
   "execution_count": null,
   "metadata": {},
   "outputs": [],
   "source": [
    "rare = left_join(rare, df, by = c(\"sample\"=\"SampleID\"))"
   ]
  },
  {
   "cell_type": "code",
   "execution_count": null,
   "metadata": {
    "scrolled": true
   },
   "outputs": [],
   "source": [
    "head(rare)"
   ]
  },
  {
   "cell_type": "code",
   "execution_count": null,
   "metadata": {},
   "outputs": [],
   "source": [
    "theme_pub = function (base_size = 11, base_family = \"Helvetica\") \n",
    "{\n",
    "    theme_grey(base_size = base_size, base_family = base_family) %+replace% \n",
    "        theme(\n",
    "            axis.line.x = element_line(size = .5),\n",
    "            axis.line.y = element_line(size = .5),\n",
    "            panel.background = element_rect(fill = \"white\", colour = NA), \n",
    "            panel.border = element_rect(fill = NA, color = \"black\", size = .5), \n",
    "            panel.grid.major = element_blank(), \n",
    "            panel.grid.minor = element_blank(), \n",
    "            strip.background = element_rect(fill = \"grey85\", \n",
    "                colour = \"grey20\"), \n",
    "            legend.key = element_rect(fill = \"white\", \n",
    "                colour = NA), complete = TRUE)\n",
    "    }"
   ]
  },
  {
   "cell_type": "code",
   "execution_count": null,
   "metadata": {},
   "outputs": [],
   "source": [
    "cs = c('#D95F02', '#7570B3')\n",
    "plot = rare %>%\n",
    "filter(SampleType %in% c(\"CH\", \"CS\")) %>%\n",
    "ggplot()+\n",
    "  geom_line(aes(x = raw.read, y = OTU, group = sample, color = SampleType))+\n",
    "  scale_x_continuous(labels =  scales::scientific_format())+\n",
    "  scale_color_manual(values = cs, labels = c(\"Core ERH\", \"Soil slurry\"))+\n",
    "  facet_wrap(~Soil, ncol = 1, scales = 'free_y')+\n",
    "  theme_pub()+\n",
    "  xlab(\"Raw read\")+\n",
    "  ylab(\"Observed ASVs\")+\n",
    "  labs(color = \"Sample type\")\n",
    "\n",
    "plot"
   ]
  },
  {
   "cell_type": "code",
   "execution_count": null,
   "metadata": {},
   "outputs": [],
   "source": [
    "pdf(file = '~/Hyphosphere/data/3Exp/figures/final/RarefactionCurves.pdf', width = 5, height = 7, useDingbats = FALSE)\n",
    "plot\n",
    "dev.off()"
   ]
  }
 ],
 "metadata": {
  "kernelspec": {
   "display_name": "R",
   "language": "R",
   "name": "ir"
  },
  "language_info": {
   "codemirror_mode": "r",
   "file_extension": ".r",
   "mimetype": "text/x-r-source",
   "name": "R",
   "pygments_lexer": "r",
   "version": "3.6.0"
  }
 },
 "nbformat": 4,
 "nbformat_minor": 2
}
